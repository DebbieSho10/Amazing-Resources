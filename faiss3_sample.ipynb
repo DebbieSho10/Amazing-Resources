{
 "cells": [
  {
   "cell_type": "markdown",
   "id": "c17947b6",
   "metadata": {
    "papermill": {
     "duration": 0.017103,
     "end_time": "2022-08-18T11:52:26.848120",
     "exception": false,
     "start_time": "2022-08-18T11:52:26.831017",
     "status": "completed"
    },
    "tags": []
   },
   "source": [
    "# [HNSW + IVFPQ for Billion-scale Similarity Search](https://peggy1502.medium.com/89ff2f89d90e?source=friends_link&sk=c2187e83dfa51cf854e3b90050968bb9)\n",
    "\n",
    "## *To read the full article on **the best indexing approach for billion-sized vector datasets**, click the link on the title above.*\n",
    "\n",
    "This notebook generates some of the plots shown in the article mentioned above.\n",
    "\n",
    "- Running this notebook may take several hours on a single GPU machine.\n",
    "- You may get slightly different values running the same codes in this notebook given the stochastic nature of the algorithm.\n",
    "- If you're not able to view the interactive plots in this notebook, copy the URL of this notebook and open it in **[nbviewer](https://nbviewer.org/)**."
   ]
  },
  {
   "cell_type": "code",
   "execution_count": 1,
   "id": "34444389",
   "metadata": {
    "_cell_guid": "b1076dfc-b9ad-4769-8c92-a6c4dae69d19",
    "_kg_hide-input": true,
    "_kg_hide-output": true,
    "_uuid": "8f2839f25d086af736a60e9eeb907d3b93b6e0e5",
    "execution": {
     "iopub.execute_input": "2022-08-18T11:52:26.877441Z",
     "iopub.status.busy": "2022-08-18T11:52:26.876993Z",
     "iopub.status.idle": "2022-08-18T12:17:23.915564Z",
     "shell.execute_reply": "2022-08-18T12:17:23.914095Z"
    },
    "papermill": {
     "duration": 1497.056126,
     "end_time": "2022-08-18T12:17:23.917789",
     "exception": false,
     "start_time": "2022-08-18T11:52:26.861663",
     "status": "completed"
    },
    "tags": []
   },
   "outputs": [
    {
     "name": "stdout",
     "output_type": "stream",
     "text": [
      "Collecting package metadata (current_repodata.json): - \b\b\\ \b\b| \b\b/ \b\b- \b\b\\ \b\b| \b\b/ \b\b- \b\b\\ \b\b| \b\b/ \b\b- \b\b\\ \b\b| \b\b/ \b\b- \b\b\\ \b\b| \b\b/ \b\b- \b\b\\ \b\b| \b\b/ \b\b- \b\b\\ \b\b| \b\b/ \b\b- \b\b\\ \b\b| \b\b/ \b\b- \b\b\\ \b\b| \b\b/ \b\b- \b\b\\ \b\b| \b\b/ \b\b- \b\b\\ \b\b| \b\b/ \b\b- \b\b\\ \b\b| \b\b/ \b\b- \b\b\\ \b\b| \b\b/ \b\b- \b\b\\ \b\b| \b\b/ \b\b- \b\b\\ \b\b| \b\b/ \b\b- \b\b\\ \b\b| \b\b/ \b\b- \b\b\\ \b\b| \b\b/ \b\b- \b\b\\ \b\b| \b\b/ \b\b- \b\b\\ \b\b| \b\b/ \b\b- \b\b\\ \b\b| \b\b/ \b\b- \b\b\\ \b\b| \b\b/ \b\b- \b\b\\ \b\b| \b\b/ \b\b- \b\b\\ \b\b| \b\b/ \b\b- \b\b\\ \b\b| \b\b/ \b\b- \b\b\\ \b\b| \b\b/ \b\b- \b\b\\ \b\b| \b\b/ \b\b- \b\b\\ \b\b| \b\b/ \b\b- \b\b\\ \b\b| \b\b/ \b\b- \b\b\\ \b\b| \b\b/ \b\b- \b\b\\ \b\b| \b\b/ \b\b- \b\b\\ \b\b| \b\b/ \b\b- \b\b\\ \b\b| \b\b/ \b\b- \b\b\\ \b\b| \b\b/ \b\b- \b\b\\ \b\b| \b\b/ \b\b- \b\b\\ \b\b| \b\b/ \b\b- \b\b\\ \b\b| \b\b/ \b\b- \b\b\\ \b\b| \b\b/ \b\b- \b\b\\ \b\b| \b\b/ \b\b- \b\b\\ \b\b| \b\b/ \b\b- \b\b\\ \b\b| \b\b/ \b\b- \b\b\\ \b\b| \b\b/ \b\b- \b\b\\ \b\b| \b\b/ \b\b- \b\b\\ \b\b| \b\b/ \b\b- \b\b\\ \b\b| \b\b/ \b\b- \b\b\\ \b\b| \b\b/ \b\b- \b\b\\ \b\b| \b\b/ \b\b- \b\b\\ \b\b| \b\b/ \b\b- \b\b\\ \b\b| \b\b/ \b\b- \b\b\\ \b\b| \b\b/ \b\b- \b\b\\ \b\b| \b\b/ \b\b- \b\b\\ \b\b| \b\b/ \b\b- \b\b\\ \b\b| \b\b/ \b\b- \b\b\\ \b\b| \b\b/ \b\b- \b\b\\ \b\b| \b\b/ \b\b- \b\b\\ \b\b| \b\b/ \b\b- \b\b\\ \b\b| \b\b/ \b\b- \b\b\\ \b\bdone\r\n",
      "Solving environment: / \b\b- \b\b\\ \b\b| \b\b/ \b\b- \b\b\\ \b\b| \b\b/ \b\b- \b\b\\ \b\b| \b\b/ \b\b- \b\b\\ \b\b| \b\b/ \b\b- \b\b\\ \b\b| \b\b/ \b\b- \b\b\\ \b\b| \b\b/ \b\b- \b\b\\ \b\b| \b\b/ \b\b- \b\b\\ \b\b| \b\b/ \b\b- \b\b\\ \b\b| \b\b/ \b\b- \b\b\\ \b\b| \b\b/ \b\b- \b\b\\ \b\b| \b\b/ \b\b- \b\b\\ \b\b| \b\b/ \b\b- \b\b\\ \b\b| \b\b/ \b\b- \b\b\\ \b\b| \b\b/ \b\b- \b\b\\ \b\b| \b\b/ \b\b- \b\b\\ \b\b| \b\b/ \b\b- \b\b\\ \b\b| \b\b/ \b\b- \b\b\\ \b\b| \b\b/ \b\b- \b\b\\ \b\b| \b\b/ \b\b- \b\b\\ \b\b| \b\b/ \b\b- \b\b\\ \b\b| \b\b/ \b\b- \b\b\\ \b\b| \b\b/ \b\b- \b\b\\ \b\b| \b\b/ \b\b- \b\b\\ \b\b| \b\b/ \b\b- \b\b\\ \b\b| \b\b/ \b\b- \b\b\\ \b\b| \b\b/ \b\b- \b\b\\ \b\b| \b\b/ \b\b- \b\b\\ \b\b| \b\b/ \b\b- \b\b\\ \b\b| \b\b/ \b\b- \b\b\\ \b\b| \b\b/ \b\b- \b\b\\ \b\b| \b\b/ \b\b- \b\b\\ \b\b| \b\b/ \b\b- \b\b\\ \b\b| \b\b/ \b\b- \b\b\\ \b\b| \b\b/ \b\b- \b\b\\ \b\b| \b\b/ \b\b- \b\b\\ \b\b| \b\b/ \b\b- \b\b\\ \b\b| \b\b/ \b\b- \b\b\\ \b\b| \b\b/ \b\b- \b\b\\ \b\b| \b\b/ \b\b- \b\b\\ \b\b| \b\b/ \b\b- \b\b\\ \b\b| \b\b/ \b\b- \b\b\\ \b\b| \b\b/ \b\b- \b\b\\ \b\b| \b\b/ \b\b- \b\b\\ \b\b| \b\b/ \b\b- \b\b\\ \b\b| \b\b/ \b\b- \b\b\\ \b\b| \b\b/ \b\b- \b\b\\ \b\b| \b\b/ \b\b- \b\b\\ \b\b| \b\b/ \b\b- \b\b\\ \b\b| \b\b/ \b\b- \b\b\\ \b\b| \b\b/ \b\b- \b\b\\ \b\b| \b\b/ \b\b- \b\b\\ \b\b| \b\b/ \b\b- \b\b\\ \b\b| \b\b/ \b\b- \b\b\\ \b\b| \b\b/ \b\b- \b\b\\ \b\b| \b\b/ \b\b- \b\b\\ \b\b| \b\b/ \b\b- \b\b\\ \b\b| \b\b/ \b\b- \b\b\\ \b\b| \b\b/ \b\b- \b\b\\ \b\b| \b\b/ \b\b- \b\b\\ \b\b| \b\b/ \b\b- \b\b\\ \b\b| \b\b/ \b\b- \b\b\\ \b\b| \b\b/ \b\b- \b\b\\ \b\b| \b\b/ \b\b- \b\b\\ \b\b| \b\b/ \b\b- \b\b\\ \b\b| \b\b/ \b\b- \b\b\\ \b\b| \b\b/ \b\b- \b\b\\ \b\b| \b\b/ \b\b- \b\b\\ \b\b| \b\b/ \b\b- \b\b\\ \b\b| \b\b/ \b\b- \b\b\\ \b\b| \b\b/ \b\b- \b\b\\ \b\b| \b\b/ \b\b- \b\b\\ \b\b| \b\b/ \b\b- \b\b\\ \b\b| \b\b/ \b\b- \b\b\\ \b\b| \b\b/ \b\b- \b\b\\ \b\b| \b\b/ \b\b- \b\b\\ \b\b| \b\b/ \b\b- \b\b\\ \b\b| \b\b/ \b\b- \b\b\\ \b\b| \b\b/ \b\b- \b\b\\ \b\b| \b\b/ \b\b- \b\b\\ \b\b| \b\b/ \b\b- \b\b\\ \b\b| \b\b/ \b\b- \b\b\\ \b\b| \b\b/ \b\b- \b\b\\ \b\b| \b\b/ \b\b- \b\b\\ \b\b| \b\b/ \b\b- \b\b\\ \b\b| \b\b/ \b\b- \b\b\\ \b\b| \b\b/ \b\b- \b\b\\ \b\b| \b\b/ \b\b- \b\b\\ \b\b| \b\b/ \b\b- \b\b\\ \b\b| \b\b/ \b\b- \b\b\\ \b\b| \b\b/ \b\b- \b\b\\ \b\b| \b\b/ \b\b- \b\b\\ \b\b| \b\b/ \b\b- \b\b\\ \b\b| \b\b/ \b\b- \b\b\\ \b\b| \b\b/ \b\b- \b\b\\ \b\b| \b\b/ \b\b- \b\b\\ \b\b| \b\b/ \b\b- \b\b\\ \b\b| \b\b/ \b\b- \b\b\\ \b\b| \b\b/ \b\b- \b\b\\ \b\b| \b\b/ \b\b- \b\b\\ \b\b| \b\b/ \b\b- \b\b\\ \b\b| \b\b/ \b\b- \b\b\\ \b\b| \b\b/ \b\b- \b\b\\ \b\b| \b\b/ \b\b- \b\b\\ \b\b| \b\b/ \b\b- \b\b\\ \b\b| \b\b/ \b\b- \b\b\\ \b\b| \b\b/ \b\b- \b\b\\ \b\b| \b\b/ \b\b- \b\b\\ \b\b| \b\b/ \b\b- \b\b\\ \b\b| \b\b/ \b\b- \b\b\\ \b\b| \b\b/ \b\b- \b\b\\ \b\b| \b\b/ \b\b- \b\b\\ \b\b| \b\b/ \b\b- \b\b\\ \b\b| \b\b/ \b\b- \b\b\\ \b\b| \b\b/ \b\b- \b\b\\ \b\b| \b\b/ \b\b- \b\b\\ \b\b| \b\b/ \b\b- \b\b\\ \b\b| \b\b/ \b\b- \b\b\\ \b\b| \b\b/ \b\b- \b\b\\ \b\b| \b\b/ \b\b- \b\b\\ \b\b| \b\b/ \b\b- \b\b\\ \b\b| \b\b/ \b\b- \b\b\\ \b\b| \b\b/ \b\b- \b\b\\ \b\b| \b\b/ \b\b- \b\b\\ \b\b| \b\b/ \b\b- \b\b\\ \b\b| \b\b/ \b\b- \b\b\\ \b\b| \b\b/ \b\b- \b\b\\ \b\b| \b\b/ \b\b- \b\b\\ \b\b| \b\b/ \b\b- \b\b\\ \b\b| \b\b/ \b\b- \b\b\\ \b\b| \b\b/ \b\b- \b\b\\ \b\b| \b\b/ \b\b- \b\b\\ \b\b| \b\b/ \b\b- \b\b\\ \b\b| \b\b/ \b\b- \b\b\\ \b\b| \b\b/ \b\b- \b\b\\ \b\b| \b\b/ \b\b- \b\b\\ \b\b| \b\b/ \b\b- \b\b\\ \b\b| \b\b/ \b\b- \b\b\\ \b\b| \b\b/ \b\b- \b\b\\ \b\b| \b\b/ \b\b- \b\b\\ \b\b| \b\b/ \b\b- \b\b\\ \b\b| \b\b/ \b\b- \b\b\\ \b\b| \b\b/ \b\b- \b\b\\ \b\b| \b\b/ \b\b- \b\b\\ \b\b| \b\b/ \b\b- \b\b\\ \b\b| \b\b/ \b\b- \b\b\\ \b\b| \b\b/ \b\b- \b\b\\ \b\b| \b\b/ \b\b- \b\b\\ \b\b| \b\b/ \b\b- \b\b\\ \b\b| \b\b/ \b\b- \b\b\\ \b\b| \b\b/ \b\b- \b\b\\ \b\b| \b\b/ \b\b- \b\b\\ \b\b| \b\b/ \b\b- \b\b\\ \b\b| \b\b/ \b\b- \b\b\\ \b\b| \b\b/ \b\b- \b\b\\ \b\b| \b\b/ \b\b- \b\b\\ \b\b| \b\b/ \b\b- \b\b\\ \b\b| \b\b/ \b\b- \b\b\\ \b\b| \b\b/ \b\b- \b\b\\ \b\b| \b\b/ \b\b- \b\b\\ \b\b| \b\b/ \b\b- \b\b\\ \b\b| \b\b/ \b\b- \b\b\\ \b\b| \b\b/ \b\b- \b\b\\ \b\b| \b\b/ \b\b- \b\b\\ \b\b| \b\b/ \b\b- \b\b\\ \b\b| \b\b/ \b\b- \b\b\\ \b\b| \b\b/ \b\b- \b\b\\ \b\b| \b\b/ \b\b- \b\b\\ \b\b| \b\b/ \b\b- \b\b\\ \b\b| \b\b/ \b\b- \b\b\\ \b\b| \b\b/ \b\b- \b\b\\ \b\b| \b\b/ \b\b- \b\b\\ \b\b| \b\b/ \b\b- \b\b\\ \b\b| \b\b/ \b\b- \b\b\\ \b\b| \b\b/ \b\b- \b\b\\ \b\b| \b\b/ \b\b- \b\b\\ \b\b| \b\b/ \b\b- \b\b\\ \b\b| \b\b/ \b\b- \b\b\\ \b\b| \b\b/ \b\b- \b\b\\ \b\b| \b\b/ \b\b- \b\b\\ \b\b| \b\b/ \b\b- \b\b\\ \b\b| \b\b/ \b\b- \b\b\\ \b\b| \b\b/ \b\b- \b\b\\ \b\b| \b\b/ \b\b- \b\b\\ \b\b| \b\b/ \b\b- \b\b\\ \b\b| \b\b/ \b\b- \b\b\\ \b\b| \b\b/ \b\b- \b\b\\ \b\b| \b\b/ \b\b- \b\b\\ \b\b| \b\b/ \b\b- \b\b\\ \b\b| \b\b/ \b\b- \b\b\\ \b\b| \b\b/ \b\b- \b\b\\ \b\b| \b\b/ \b\b- \b\b\\ \b\b| \b\b/ \b\b- \b\b\\ \b\b| \b\b/ \b\b- \b\b\\ \b\b| \b\b/ \b\b- \b\b\\ \b\b| \b\b/ \b\b- \b\b\\ \b\b| \b\b/ \b\b- \b\b\\ \b\b| \b\b/ \b\b- \b\b\\ \b\b| \b\b/ \b\b- \b\b\\ \b\b| \b\b/ \b\b- \b\b\\ \b\b| \b\b/ \b\b- \b\b\\ \b\b| \b\b/ \b\b- \b\b\\ \b\b| \b\b/ \b\b- \b\b\\ \b\b| \b\b/ \b\b- \b\b\\ \b\b| \b\b/ \b\b- \b\b\\ \b\b| \b\b/ \b\b- \b\b\\ \b\b| \b\b/ \b\b- \b\b\\ \b\b| \b\b/ \b\b- \b\b\\ \b\b| \b\b/ \b\b- \b\b\\ \b\b| \b\b/ \b\b- \b\b\\ \b\b| \b\b/ \b\b- \b\b\\ \b\b| \b\b/ \b\b- \b\b\\ \b\b| \b\b/ \b\b- \b\b\\ \b\b| \b\b/ \b\b- \b\b\\ \b\b| \b\b/ \b\b- \b\b\\ \b\b| \b\b/ \b\b- \b\b\\ \b\b| \b\b/ \b\b- \b\b\\ \b\b| \b\b/ \b\b- \b\b\\ \b\b| \b\b/ \b\b- \b\b\\ \b\b| \b\b/ \b\b- \b\b\\ \b\b| \b\b/ \b\b- \b\b\\ \b\b| \b\b/ \b\b- \b\b\\ \b\b| \b\b/ \b\b- \b\b\\ \b\b| \b\b/ \b\b- \b\b\\ \b\b| \b\b/ \b\b- \b\b\\ \b\b| \b\b/ \b\b- \b\b\\ \b\b| \b\b/ \b\b- \b\b\\ \b\b| \b\b/ \b\b- \b\b\\ \b\b| \b\b/ \b\b- \b\b\\ \b\b| \b\b/ \b\b- \b\b\\ \b\b| \b\b/ \b\b- \b\b\\ \b\b| \b\b/ \b\b- \b\b\\ \b\b| \b\b/ \b\b- \b\b\\ \b\b| \b\b/ \b\b- \b\b\\ \b\b| \b\b/ \b\b- \b\b\\ \b\b| \b\b/ \b\b- \b\b\\ \b\b| \b\b/ \b\b- \b\b\\ \b\b| \b\b/ \b\b- \b\b\\ \b\b| \b\b/ \b\b- \b\b\\ \b\b| \b\b/ \b\b- \b\b\\ \b\b| \b\b/ \b\b- \b\b\\ \b\b| \b\b/ \b\b- \b\b\\ \b\b| \b\b/ \b\b- \b\b\\ \b\b| \b\b/ \b\b- \b\b\\ \b\b| \b\b/ \b\b- \b\b\\ \b\b| \b\b/ \b\b- \b\b\\ \b\b| \b\b/ \b\b- \b\b\\ \b\b| \b\b/ \b\b- \b\b\\ \b\b| \b\b/ \b\b- \b\b\\ \b\b| \b\b/ \b\b- \b\b\\ \b\b| \b\b/ \b\b- \b\b\\ \b\b| \b\b/ \b\b- \b\b\\ \b\b| \b\b/ \b\b- \b\b\\ \b\b| \b\b/ \b\b- \b\b\\ \b\b| \b\b/ \b\b- \b\b\\ \b\b| \b\b/ \b\b- \b\b\\ \b\b| \b\b/ \b\b- \b\b\\ \b\b| \b\b/ \b\b- \b\b\\ \b\b| \b\b/ \b\b- \b\b\\ \b\b| \b\b/ \b\b- \b\b\\ \b\b| \b\b/ \b\b- \b\b\\ \b\b| \b\b/ \b\b- \b\b\\ \b\b| \b\b/ \b\b- \b\b\\ \b\b| \b\b/ \b\b- \b\b\\ \b\b| \b\b/ \b\b- \b\b\\ \b\b| \b\b/ \b\b- \b\b\\ \b\b| \b\b/ \b\b- \b\b\\ \b\b| \b\b/ \b\b- \b\b\\ \b\b| \b\b/ \b\b- \b\b\\ \b\b| \b\b/ \b\b- \b\b\\ \b\b| \b\b/ \b\b- \b\b\\ \b\b| \b\b/ \b\b- \b\b\\ \b\b| \b\b/ \b\b- \b\b\\ \b\b| \b\b/ \b\b- \b\b\\ \b\b| \b\b/ \b\b- \b\b\\ \b\b| \b\b/ \b\b- \b\b\\ \b\b| \b\b/ \b\b- \b\b\\ \b\b| \b\b/ \b\b- \b\b\\ \b\b| \b\b/ \b\b- \b\b\\ \b\b| \b\b/ \b\b- \b\b\\ \b\b| \b\b/ \b\b- \b\b\\ \b\b| \b\b/ \b\b- \b\b\\ \b\b| \b\b/ \b\b- \b\b\\ \b\b| \b\b/ \b\b- \b\b\\ \b\b| \b\b/ \b\b- \b\b\\ \b\b| \b\b/ \b\b- \b\b\\ \b\b| \b\b/ \b\b- \b\b\\ \b\b| \b\b/ \b\b- \b\b\\ \b\b| \b\b/ \b\b- \b\b\\ \b\b| \b\b/ \b\b- \b\b\\ \b\b| \b\b/ \b\b- \b\b\\ \b\b| \b\b/ \b\b- \b\b\\ \b\b| \b\b/ \b\b- \b\b\\ \b\b| \b\b/ \b\b- \b\b\\ \b\b| \b\b/ \b\b- \b\b\\ \b\b| \b\b/ \b\b- \b\b\\ \b\b| \b\b/ \b\b- \b\b\\ \b\b| \b\b/ \b\b- \b\b\\ \b\b| \b\b/ \b\b- \b\b\\ \b\b| \b\b/ \b\b- \b\b\\ \b\b| \b\b/ \b\b- \b\b\\ \b\b| \b\b/ \b\b- \b\b\\ \b\b| \b\b/ \b\b- \b\b\\ \b\b| \b\b/ \b\b- \b\b\\ \b\b| \b\b/ \b\b- \b\b\\ \b\b| \b\b/ \b\b- \b\b\\ \b\b| \b\b/ \b\b- \b\b\\ \b\b| \b\b/ \b\b- \b\b\\ \b\b| \b\b/ \b\b- \b\b\\ \b\b| \b\b/ \b\b- \b\b\\ \b\b| \b\b/ \b\b- \b\b\\ \b\b| \b\b/ \b\b- \b\b\\ \b\b| \b\b/ \b\b- \b\b\\ \b\b| \b\b/ \b\b- \b\b\\ \b\b| \b\b/ \b\b- \b\b\\ \b\b| \b\b/ \b\b- \b\b\\ \b\b| \b\b/ \b\b- \b\b\\ \b\b| \b\b/ \b\b- \b\b\\ \b\b| \b\b/ \b\b- \b\b\\ \b\b| \b\b/ \b\b- \b\b\\ \b\b| \b\b/ \b\b- \b\b\\ \b\b| \b\b/ \b\b- \b\b\\ \b\b| \b\b/ \b\b- \b\b\\ \b\b| \b\b/ \b\b- \b\b\\ \b\b| \b\b/ \b\b- \b\b\\ \b\b| \b\b/ \b\b- \b\b\\ \b\b| \b\b/ \b\b- \b\b\\ \b\b| \b\b/ \b\b- \b\b\\ \b\b| \b\b/ \b\b- \b\b\\ \b\b| \b\b/ \b\b- \b\b\\ \b\b| \b\b/ \b\b- \b\b\\ \b\b| \b\b/ \b\b- \b\b\\ \b\b| \b\b/ \b\b- \b\b\\ \b\b| \b\b/ \b\b- \b\b\\ \b\b| \b\b/ \b\b- \b\b\\ \b\b| \b\b/ \b\b- \b\b\\ \b\b| \b\b/ \b\b- \b\b\\ \b\b| \b\b/ \b\b- \b\b\\ \b\b| \b\b/ \b\b- \b\b\\ \b\b| \b\b/ \b\b- \b\b\\ \b\b| \b\b/ \b\b- \b\b\\ \b\b| \b\b/ \b\b- \b\b\\ \b\b| \b\b/ \b\b- \b\b\\ \b\b| \b\b/ \b\b- \b\b\\ \b\b| \b\b/ \b\b- \b\b\\ \b\b| \b\b/ \b\b- \b\b\\ \b\b| \b\b/ \b\b- \b\b\\ \b\b| \b\b/ \b\b- \b\b\\ \b\b| \b\b/ \b\b- \b\b\\ \b\b| \b\b/ \b\b- \b\b\\ \b\b| \b\b/ \b\b- \b\b\\ \b\b| \b\b/ \b\b- \b\b\\ \b\b| \b\b/ \b\b- \b\b\\ \b\b| \b\b/ \b\b- \b\b\\ \b\b| \b\b/ \b\b- \b\b\\ \b\b| \b\b/ \b\b- \b\b\\ \b\b| \b\b/ \b\b- \b\b\\ \b\b| \b\b/ \b\b- \b\b\\ \b\b| \b\b/ \b\b- \b\b\\ \b\b| \b\b/ \b\b- \b\b\\ \b\b| \b\b/ \b\b- \b\b\\ \b\b| \b\b/ \b\b- \b\b\\ \b\b| \b\b/ \b\b- \b\b\\ \b\b| \b\b/ \b\b- \b\b\\ \b\b| \b\b/ \b\b- \b\b\\ \b\b| \b\b/ \b\b- \b\b\\ \b\b| \b\b/ \b\b- \b\b\\ \b\b| \b\b/ \b\b- \b\b\\ \b\b| \b\b/ \b\b- \b\b\\ \b\b| \b\b/ \b\b- \b\b\\ \b\b| \b\b/ \b\b- \b\b\\ \b\b| \b\b/ \b\b- \b\b\\ \b\b| \b\b/ \b\b- \b\b\\ \b\b| \b\b/ \b\b- \b\b\\ \b\b| \b\b/ \b\b- \b\b\\ \b\b| \b\b/ \b\b- \b\b\\ \b\b| \b\b/ \b\b- \b\b\\ \b\b| \b\b/ \b\b- \b\b\\ \b\b| \b\b/ \b\b- \b\b\\ \b\b| \b\b/ \b\b- \b\b\\ \b\b| \b\b/ \b\b- \b\b\\ \b\b| \b\b/ \b\b- \b\b\\ \b\b| \b\b/ \b\b- \b\b\\ \b\b| \b\b/ \b\b- \b\b\\ \b\b| \b\b/ \b\b- \b\b\\ \b\b| \b\b/ \b\b- \b\b\\ \b\b| \b\b/ \b\b- \b\b\\ \b\b| \b\b/ \b\b- \b\b\\ \b\b| \b\b/ \b\b- \b\b\\ \b\b| \b\b/ \b\b- \b\b\\ \b\b| \b\b/ \b\b- \b\b\\ \b\b| \b\b/ \b\b- \b\b\\ \b\b| \b\b/ \b\b- \b\b\\ \b\b| \b\b/ \b\b- \b\b\\ \b\b| \b\b/ \b\b- \b\b\\ \b\b| \b\b/ \b\b- \b\b\\ \b\b| \b\b/ \b\b- \b\b\\ \b\b| \b\b/ \b\b- \b\b\\ \b\b| \b\b/ \b\b- \b\b\\ \b\b| \b\b/ \b\b- \b\b\\ \b\b| \b\b/ \b\b- \b\b\\ \b\b| \b\b/ \b\b- \b\b\\ \b\b| \b\b/ \b\b- \b\b\\ \b\b| \b\b/ \b\b- \b\b\\ \b\b| \b\b/ \b\b- \b\b\\ \b\b| \b\b/ \b\b- \b\b\\ \b\b| \b\b/ \b\b- \b\b\\ \b\b| \b\b/ \b\b- \b\b\\ \b\b| \b\b/ \b\b- \b\b\\ \b\b| \b\b/ \b\b- \b\b\\ \b\b| \b\b/ \b\b- \b\b\\ \b\b| \b\b/ \b\b- \b\b\\ \b\b| \b\b/ \b\b- \b\b\\ \b\b| \b\b/ \b\b- \b\b\\ \b\b| \b\b/ \b\b- \b\b\\ \b\b| \b\b/ \b\b- \b\b\\ \b\b| \b\b/ \b\b- \b\b\\ \b\b| \b\b/ \b\b- \b\b\\ \b\b| \b\b/ \b\b- \b\b\\ \b\b| \b\b/ \b\b- \b\b\\ \b\b| \b\b/ \b\b- \b\b\\ \b\b| \b\b/ \b\b- \b\b\\ \b\b| \b\b/ \b\b- \b\b\\ \b\b| \b\b/ \b\b- \b\b\\ \b\b| \b\b/ \b\b- \b\b\\ \b\b| \b\b/ \b\b- \b\b\\ \b\b| \b\b/ \b\b- \b\b\\ \b\b| \b\b/ \b\b- \b\b\\ \b\b| \b\b/ \b\b- \b\b\\ \b\b| \b\b/ \b\b- \b\b\\ \b\b| \b\b/ \b\b- \b\b\\ \b\b| \b\b/ \b\b- \b\b\\ \b\b| \b\b/ \b\b- \b\b\\ \b\b| \b\b/ \b\b- \b\b\\ \b\b| \b\b/ \b\b- \b\b\\ \b\b| \b\b/ \b\b- \b\b\\ \b\b| \b\b/ \b\b- \b\b\\ \b\b| \b\b/ \b\b- \b\b\\ \b\b| \b\b/ \b\b- \b\b\\ \b\b| \b\b/ \b\b- \b\b\\ \b\b| \b\b/ \b\b- \b\b\\ \b\b| \b\b/ \b\b- \b\b\\ \b\b| \b\b/ \b\b- \b\b\\ \b\b| \b\b/ \b\b- \b\b\\ \b\b| \b\b/ \b\b- \b\b\\ \b\b| \b\b/ \b\b- \b\b\\ \b\b| \b\b/ \b\b- \b\b\\ \b\b| \b\b/ \b\b- \b\b\\ \b\b| \b\b/ \b\b- \b\b\\ \b\b| \b\b/ \b\b- \b\b\\ \b\b| \b\b/ \b\b- \b\b\\ \b\b| \b\b/ \b\b- \b\b\\ \b\b| \b\b/ \b\b- \b\b\\ \b\b| \b\b/ \b\b- \b\b\\ \b\b| \b\b/ \b\b- \b\b\\ \b\b| \b\b/ \b\b- \b\b\\ \b\b| \b\b/ \b\b- \b\b\\ \b\b| \b\b/ \b\b- \b\b\\ \b\b| \b\b/ \b\b- \b\b\\ \b\b| \b\b/ \b\b- \b\b\\ \b\b| \b\b/ \b\b- \b\b\\ \b\b| \b\b/ \b\b- \b\b\\ \b\b| \b\b/ \b\b- \b\b\\ \b\b| \b\b/ \b\b- \b\b\\ \b\b| \b\b/ \b\b- \b\b\\ \b\b| \b\b/ \b\b- \b\b\\ \b\b| \b\b/ \b\b- \b\b\\ \b\b| \b\b/ \b\b- \b\b\\ \b\b| \b\b/ \b\b- \b\b\\ \b\b| \b\b/ \b\b- \b\b\\ \b\b| \b\b/ \b\b- \b\b\\ \b\b| \b\b/ \b\b- \b\b\\ \b\b| \b\b/ \b\b- \b\b\\ \b\b| \b\b/ \b\b- \b\b\\ \b\b| \b\b/ \b\b- \b\b\\ \b\b| \b\b/ \b\b- \b\b\\ \b\b| \b\b/ \b\b- \b\b\\ \b\b| \b\b/ \b\b- \b\b\\ \b\b| \b\b/ \b\b- \b\b\\ \b\b| \b\b/ \b\b- \b\b\\ \b\b| \b\b/ \b\b- \b\b\\ \b\b| \b\b/ \b\b- \b\b\\ \b\b| \b\b/ \b\b- \b\b\\ \b\b| \b\b/ \b\b- \b\b\\ \b\b| \b\b/ \b\b- \b\b\\ \b\b| \b\b/ \b\b- \b\b\\ \b\b| \b\b/ \b\b- \b\b\\ \b\b| \b\b/ \b\b- \b\b\\ \b\b| \b\b/ \b\b- \b\b\\ \b\b| \b\b/ \b\b- \b\b\\ \b\b| \b\b/ \b\b- \b\b\\ \b\b| \b\b/ \b\b- \b\b\\ \b\b| \b\b/ \b\b- \b\b\\ \b\b| \b\b/ \b\b- \b\b\\ \b\b| \b\b/ \b\b- \b\b\\ \b\b| \b\b/ \b\b- \b\b\\ \b\b| \b\b/ \b\b- \b\b\\ \b\b| \b\b/ \b\b- \b\b\\ \b\b| \b\b/ \b\b- \b\b\\ \b\b| \b\b/ \b\b- \b\b\\ \b\b| \b\b/ \b\b- \b\b\\ \b\b| \b\b/ \b\b- \b\b\\ \b\b| \b\b/ \b\b- \b\b\\ \b\b| \b\b/ \b\b- \b\b\\ \b\b| \b\b/ \b\b- \b\b\\ \b\b| \b\b/ \b\b- \b\b\\ \b\b| \b\b/ \b\b- \b\b\\ \b\b| \b\b/ \b\b- \b\b\\ \b\b| \b\b/ \b\b- \b\b\\ \b\b| \b\b/ \b\b- \b\b\\ \b\b| \b\b/ \b\b- \b\b\\ \b\b| \b\b/ \b\b- \b\b\\ \b\b| \b\b/ \b\b- \b\b\\ \b\b| \b\b/ \b\b- \b\b\\ \b\b| \b\b/ \b\b- \b\b\\ \b\b| \b\b/ \b\b- \b\b\\ \b\b| \b\b/ \b\b- \b\b\\ \b\b| \b\b/ \b\b- \b\b\\ \b\b| \b\b/ \b\b- \b\b\\ \b\b| \b\b/ \b\b- \b\b\\ \b\b| \b\b/ \b\b- \b\b\\ \b\b| \b\b/ \b\b- \b\b\\ \b\b| \b\b/ \b\b- \b\b\\ \b\b| \b\b/ \b\b- \b\b\\ \b\b| \b\b/ \b\b- \b\b\\ \b\b| \b\b/ \b\b- \b\b\\ \b\b| \b\b/ \b\b- \b\b\\ \b\b| \b\b/ \b\b- \b\b\\ \b\b| \b\b/ \b\b- \b\b\\ \b\b| \b\b/ \b\b- \b\b\\ \b\b| \b\b/ \b\b- \b\b\\ \b\b| \b\b/ \b\b- \b\b\\ \b\b| \b\b/ \b\b- \b\b\\ \b\b| \b\b/ \b\b- \b\b\\ \b\b| \b\b/ \b\b- \b\b\\ \b\b| \b\b/ \b\b- \b\b\\ \b\b| \b\b/ \b\b- \b\b\\ \b\b| \b\b/ \b\b- \b\b\\ \b\b| \b\b/ \b\b- \b\b\\ \b\b| \b\b/ \b\b- \b\b\\ \b\b| \b\b/ \b\b- \b\b\\ \b\b| \b\b/ \b\b- \b\b\\ \b\b| \b\b/ \b\b- \b\b\\ \b\b| \b\b/ \b\b- \b\b\\ \b\b| \b\b/ \b\b- \b\b\\ \b\b| \b\b/ \b\b- \b\b\\ \b\b| \b\b/ \b\b- \b\b\\ \b\b| \b\b/ \b\b- \b\b\\ \b\b| \b\b/ \b\b- \b\b\\ \b\b| \b\b/ \b\b- \b\b\\ \b\b| \b\b/ \b\b- \b\b\\ \b\b| \b\b/ \b\b- \b\b\\ \b\b| \b\b/ \b\b- \b\b\\ \b\b| \b\b/ \b\b- \b\b\\ \b\b| \b\b/ \b\b- \b\b\\ \b\b| \b\b/ \b\b- \b\b\\ \b\b| \b\b/ \b\b- \b\b\\ \b\b| \b\b/ \b\b- \b\b\\ \b\b| \b\b/ \b\b- \b\b\\ \b\b| \b\b/ \b\b- \b\b\\ \b\b| \b\b/ \b\b- \b\b\\ \b\b| \b\b/ \b\b- \b\b\\ \b\b| \b\b/ \b\b- \b\b\\ \b\b| \b\b/ \b\b- \b\b\\ \b\b| \b\b/ \b\b- \b\b\\ \b\b| \b\b/ \b\b- \b\b\\ \b\b| \b\b/ \b\b- \b\b\\ \b\b| \b\b/ \b\b- \b\b\\ \b\b| \b\b/ \b\b- \b\b\\ \b\b| \b\b/ \b\b- \b\b\\ \b\b| \b\b/ \b\b- \b\b\\ \b\b| \b\b/ \b\b- \b\b\\ \b\b| \b\b/ \b\b- \b\b\\ \b\b| \b\b/ \b\b- \b\b\\ \b\b| \b\b/ \b\b- \b\b\\ \b\b| \b\b/ \b\b- \b\b\\ \b\b| \b\b/ \b\b- \b\b\\ \b\b| \b\b/ \b\b- \b\b\\ \b\b| \b\b/ \b\b- \b\b\\ \b\b| \b\b/ \b\b- \b\b\\ \b\b| \b\b/ \b\b- \b\b\\ \b\bfailed with initial frozen solve. Retrying with flexible solve.\r\n",
      "Solving environment: / \b\b- \b\b\\ \b\b| \b\b/ \b\b- \b\b\\ \b\b| \b\b/ \b\b- \b\b\\ \b\b| \b\b/ \b\b- \b\b\\ \b\b| \b\b/ \b\b- \b\b\\ \b\b| \b\b/ \b\b- \b\b\\ \b\b| \b\b/ \b\b- \b\b\\ \b\b| \b\b/ \b\b- \b\b\\ \b\b| \b\b/ \b\b- \b\b\\ \b\b| \b\b/ \b\b- \b\b\\ \b\b| \b\b/ \b\b- \b\b\\ \b\b| \b\b/ \b\b- \b\b\\ \b\b| \b\b/ \b\b- \b\b\\ \b\b| \b\b/ \b\b- \b\b\\ \b\b| \b\b/ \b\b- \b\b\\ \b\b| \b\b/ \b\b- \b\b\\ \b\b| \b\b/ \b\b- \b\b\\ \b\b| \b\b/ \b\b- \b\b\\ \b\b| \b\b/ \b\b- \b\b\\ \b\b| \b\b/ \b\b- \b\b\\ \b\b| \b\b/ \b\b- \b\b\\ \b\b| \b\b/ \b\b- \b\b\\ \b\b| \b\b/ \b\b- \b\b\\ \b\b| \b\b/ \b\b- \b\b\\ \b\b| \b\b/ \b\b- \b\b\\ \b\b| \b\b/ \b\b- \b\b\\ \b\b| \b\b/ \b\b- \b\b\\ \b\b| \b\b/ \b\b- \b\b\\ \b\b| \b\b/ \b\b- \b\b\\ \b\b| \b\b/ \b\b- \b\b\\ \b\b| \b\b/ \b\b- \b\b\\ \b\b| \b\b/ \b\b- \b\b\\ \b\b| \b\b/ \b\b- \b\b\\ \b\b| \b\b/ \b\b- \b\b\\ \b\b| \b\b/ \b\b- \b\b\\ \b\b| \b\b/ \b\b- \b\b\\ \b\b| \b\b/ \b\b- \b\b\\ \b\b| \b\b/ \b\b- \b\b\\ \b\b| \b\b/ \b\b- \b\b\\ \b\b| \b\b/ \b\b- \b\b\\ \b\b| \b\b/ \b\b- \b\b\\ \b\b| \b\b/ \b\b- \b\b\\ \b\b| \b\b/ \b\b- \b\b\\ \b\b| \b\b/ \b\b- \b\b\\ \b\b| \b\b/ \b\b- \b\b\\ \b\b| \b\b/ \b\b- \b\b\\ \b\b| \b\b/ \b\b- \b\b\\ \b\b| \b\b/ \b\b- \b\b\\ \b\b| \b\b/ \b\b- \b\b\\ \b\b| \b\b/ \b\b- \b\b\\ \b\b| \b\b/ \b\b- \b\b\\ \b\b| \b\b/ \b\b- \b\b\\ \b\b| \b\b/ \b\b- \b\b\\ \b\b| \b\b/ \b\b- \b\b\\ \b\b| \b\b/ \b\b- \b\b\\ \b\b| \b\b/ \b\b- \b\b\\ \b\b| \b\b/ \b\b- \b\b\\ \b\b| \b\b/ \b\b- \b\b\\ \b\b| \b\b/ \b\b- \b\b\\ \b\b| \b\b/ \b\b- \b\b\\ \b\b| \b\b/ \b\b- \b\b\\ \b\b| \b\b/ \b\b- \b\b\\ \b\b| \b\b/ \b\b- \b\b\\ \b\b| \b\b/ \b\b- \b\b\\ \b\b| \b\b/ \b\b- \b\b\\ \b\b| \b\b/ \b\b- \b\b\\ \b\b| \b\b/ \b\b- \b\b\\ \b\b| \b\b/ \b\b- \b\b\\ \b\b| \b\b/ \b\b- \b\b\\ \b\b| \b\b/ \b\b- \b\b\\ \b\b| \b\b/ \b\b- \b\b\\ \b\b| \b\b/ \b\b- \b\b\\ \b\b| \b\b/ \b\b- \b\b\\ \b\b| \b\b/ \b\b- \b\b\\ \b\b| \b\b/ \b\b- \b\b\\ \b\b| \b\b/ \b\b- \b\b\\ \b\b| \b\b/ \b\b- \b\b\\ \b\b| \b\b/ \b\b- \b\b\\ \b\b| \b\b/ \b\b- \b\b\\ \b\b| \b\b/ \b\b- \b\b\\ \b\b| \b\b/ \b\b- \b\b\\ \b\b| \b\b/ \b\b- \b\b\\ \b\b| \b\b/ \b\b- \b\b\\ \b\b| \b\b/ \b\b- \b\b\\ \b\b| \b\b/ \b\b- \b\b\\ \b\b| \b\b/ \b\b- \b\b\\ \b\b| \b\b/ \b\b- \b\b\\ \b\b| \b\b/ \b\b- \b\b\\ \b\b| \b\b/ \b\b- \b\b\\ \b\b| \b\b/ \b\b- \b\b\\ \b\b| \b\b/ \b\b- \b\b\\ \b\b| \b\b/ \b\b- \b\b\\ \b\b| \b\b/ \b\b- \b\b\\ \b\b| \b\b/ \b\b- \b\b\\ \b\b| \b\b/ \b\b- \b\b\\ \b\b| \b\b/ \b\b- \b\b\\ \b\b| \b\b/ \b\b- \b\b\\ \b\b| \b\b/ \b\b- \b\b\\ \b\b| \b\b/ \b\b- \b\b\\ \b\b| \b\b/ \b\b- \b\b\\ \b\b| \b\b/ \b\b- \b\b\\ \b\b| \b\b/ \b\b- \b\b\\ \b\b| \b\b/ \b\b- \b\b\\ \b\b| \b\b/ \b\b- \b\b\\ \b\b| \b\b/ \b\b- \b\b\\ \b\b| \b\b/ \b\b- \b\b\\ \b\b| \b\b/ \b\b- \b\b\\ \b\b| \b\b/ \b\b- \b\b\\ \b\b| \b\b/ \b\b- \b\b\\ \b\b| \b\b/ \b\b- \b\b\\ \b\b| \b\b/ \b\b- \b\b\\ \b\b| \b\b/ \b\b- \b\b\\ \b\b| \b\b/ \b\b- \b\b\\ \b\b| \b\b/ \b\b- \b\b\\ \b\b| \b\b/ \b\b- \b\b\\ \b\b| \b\b/ \b\b- \b\b\\ \b\b| \b\b/ \b\b- \b\b\\ \b\b| \b\b/ \b\b- \b\b\\ \b\b| \b\b/ \b\b- \b\b\\ \b\b| \b\b/ \b\b- \b\b\\ \b\b| \b\b/ \b\b- \b\b\\ \b\b| \b\b/ \b\b- \b\b\\ \b\b| \b\b/ \b\b- \b\b\\ \b\b| \b\b/ \b\b- \b\b\\ \b\b| \b\b/ \b\b- \b\b\\ \b\b| \b\b/ \b\b- \b\b\\ \b\b| \b\b/ \b\b- \b\b\\ \b\b| \b\b/ \b\b- \b\b\\ \b\b| \b\b/ \b\b- \b\b\\ \b\b| \b\b/ \b\b- \b\b\\ \b\b| \b\b/ \b\b- \b\b\\ \b\b| \b\b/ \b\b- \b\b\\ \b\b| \b\b/ \b\b- \b\b\\ \b\b| \b\b/ \b\b- \b\b\\ \b\b| \b\b/ \b\b- \b\b\\ \b\b| \b\b/ \b\b- \b\b\\ \b\b| \b\b/ \b\b- \b\b\\ \b\b| \b\b/ \b\b- \b\b\\ \b\b| \b\b/ \b\b- \b\b\\ \b\b| \b\b/ \b\b- \b\b\\ \b\b| \b\b/ \b\b- \b\b\\ \b\b| \b\b/ \b\b- \b\b\\ \b\b| \b\b/ \b\b- \b\b\\ \b\b| \b\b/ \b\b- \b\b\\ \b\b| \b\b/ \b\b- \b\b\\ \b\b| \b\b/ \b\b- \b\b\\ \b\b| \b\b/ \b\b- \b\b\\ \b\b| \b\b/ \b\b- \b\b\\ \b\b| \b\b/ \b\b- \b\b\\ \b\b| \b\b/ \b\b- \b\b\\ \b\b| \b\b/ \b\b- \b\b\\ \b\b| \b\b/ \b\b- \b\b\\ \b\b| \b\b/ \b\b- \b\b\\ \b\b| \b\b/ \b\b- \b\b\\ \b\b| \b\b/ \b\b- \b\b\\ \b\b| \b\b/ \b\b- \b\b\\ \b\b| \b\b/ \b\b- \b\b\\ \b\b| \b\b/ \b\b- \b\b\\ \b\b| \b\b/ \b\b- \b\b\\ \b\b| \b\b/ \b\b- \b\b\\ \b\b| \b\b/ \b\b- \b\b\\ \b\b| \b\b/ \b\b- \b\b\\ \b\b| \b\b/ \b\b- \b\b\\ \b\b| \b\b/ \b\b- \b\b\\ \b\b| \b\b/ \b\b- \b\b\\ \b\b| \b\b/ \b\b- \b\b\\ \b\b| \b\b/ \b\b- \b\b\\ \b\b| \b\b/ \b\b- \b\b\\ \b\b| \b\b/ \b\b- \b\b\\ \b\b| \b\b/ \b\b- \b\b\\ \b\b| \b\b/ \b\b- \b\b\\ \b\b| \b\b/ \b\b- \b\b\\ \b\b| \b\b/ \b\b- \b\b\\ \b\b| \b\b/ \b\b- \b\b\\ \b\b| \b\b/ \b\b- \b\b\\ \b\b| \b\b/ \b\b- \b\b\\ \b\b| \b\b/ \b\b- \b\b\\ \b\b| \b\b/ \b\b- \b\b\\ \b\b| \b\b/ \b\b- \b\b\\ \b\b| \b\b/ \b\b- \b\b\\ \b\b| \b\b/ \b\b- \b\b\\ \b\b| \b\b/ \b\b- \b\b\\ \b\b| \b\b/ \b\b- \b\b\\ \b\b| \b\b/ \b\b- \b\b\\ \b\b| \b\b/ \b\b- \b\b\\ \b\b| \b\b/ \b\b- \b\b\\ \b\b| \b\b/ \b\b- \b\b\\ \b\b| \b\b/ \b\b- \b\b\\ \b\b| \b\b/ \b\b- \b\b\\ \b\b| \b\b/ \b\b- \b\b\\ \b\b| \b\b/ \b\b- \b\b\\ \b\b| \b\b/ \b\b- \b\b\\ \b\b| \b\b/ \b\b- \b\b\\ \b\b| \b\b/ \b\b- \b\b\\ \b\b| \b\b/ \b\b- \b\b\\ \b\b| \b\b/ \b\b- \b\b\\ \b\b| \b\b/ \b\b- \b\b\\ \b\b| \b\b/ \b\b- \b\b\\ \b\b| \b\b/ \b\b- \b\b\\ \b\b| \b\b/ \b\b- \b\b\\ \b\b| \b\b/ \b\b- \b\b\\ \b\b| \b\b/ \b\b- \b\b\\ \b\b| \b\b/ \b\b- \b\b\\ \b\b| \b\b/ \b\b- \b\b\\ \b\b| \b\b/ \b\b- \b\b\\ \b\b| \b\b/ \b\b- \b\b\\ \b\b| \b\b/ \b\b- \b\b\\ \b\b| \b\b/ \b\b- \b\b\\ \b\b| \b\b/ \b\b- \b\b\\ \b\b| \b\b/ \b\b- \b\b\\ \b\b| \b\b/ \b\b- \b\b\\ \b\b| \b\b/ \b\b- \b\b\\ \b\b| \b\b/ \b\b- \b\b\\ \b\b| \b\b/ \b\b- \b\b\\ \b\b| \b\b/ \b\b- \b\b\\ \b\b| \b\b/ \b\b- \b\b\\ \b\b| \b\b/ \b\b- \b\b\\ \b\b| \b\b/ \b\b- \b\b\\ \b\b| \b\b/ \b\b- \b\b\\ \b\b| \b\b/ \b\b- \b\b\\ \b\b| \b\b/ \b\b- \b\b\\ \b\b| \b\b/ \b\b- \b\b\\ \b\b| \b\b/ \b\b- \b\b\\ \b\b| \b\b/ \b\b- \b\b\\ \b\b| \b\b/ \b\b- \b\b\\ \b\b| \b\b/ \b\b- \b\b\\ \b\b| \b\b/ \b\b- \b\b\\ \b\b| \b\b/ \b\b- \b\b\\ \b\b| \b\b/ \b\b- \b\b\\ \b\b| \b\b/ \b\b- \b\b\\ \b\b| \b\b/ \b\b- \b\b\\ \b\b| \b\b/ \b\b- \b\b\\ \b\b| \b\b/ \b\b- \b\b\\ \b\b| \b\b/ \b\b- \b\b\\ \b\b| \b\b/ \b\b- \b\b\\ \b\b| \b\b/ \b\b- \b\b\\ \b\b| \b\b/ \b\b- \b\b\\ \b\b| \b\b/ \b\b- \b\b\\ \b\b| \b\b/ \b\b- \b\b\\ \b\b| \b\b/ \b\b- \b\b\\ \b\b| \b\b/ \b\b- \b\b\\ \b\b| \b\b/ \b\b- \b\b\\ \b\b| \b\b/ \b\b- \b\b\\ \b\b| \b\b/ \b\b- \b\b\\ \b\b| \b\b/ \b\b- \b\b\\ \b\b| \b\b/ \b\b- \b\b\\ \b\b| \b\b/ \b\b- \b\b\\ \b\b| \b\b/ \b\b- \b\b\\ \b\b| \b\b/ \b\b- \b\b\\ \b\b| \b\b/ \b\b- \b\b\\ \b\b| \b\b/ \b\b- \b\b\\ \b\b| \b\b/ \b\b- \b\b\\ \b\b| \b\b/ \b\b- \b\b\\ \b\b| \b\b/ \b\b- \b\b\\ \b\b| \b\b/ \b\b- \b\b\\ \b\b| \b\b/ \b\b- \b\b\\ \b\b| \b\b/ \b\b- \b\b\\ \b\b| \b\b/ \b\b- \b\b\\ \b\b| \b\b/ \b\b- \b\b\\ \b\b| \b\b/ \b\b- \b\b\\ \b\b| \b\b/ \b\b- \b\b\\ \b\b| \b\b/ \b\b- \b\b\\ \b\b| \b\b/ \b\b- \b\b\\ \b\b| \b\b/ \b\b- \b\b\\ \b\b| \b\b/ \b\b- \b\b\\ \b\b| \b\b/ \b\b- \b\b\\ \b\b| \b\b/ \b\b- \b\b\\ \b\b| \b\b/ \b\b- \b\b\\ \b\b| \b\b/ \b\b- \b\b\\ \b\b| \b\b/ \b\b- \b\b\\ \b\b| \b\b/ \b\b- \b\b\\ \b\b| \b\b/ \b\b- \b\b\\ \b\b| \b\b/ \b\b- \b\b\\ \b\b| \b\b/ \b\b- \b\b\\ \b\b| \b\b/ \b\b- \b\b\\ \b\b| \b\b/ \b\b- \b\b\\ \b\b| \b\b/ \b\b- \b\b\\ \b\b| \b\b/ \b\b- \b\b\\ \b\b| \b\b/ \b\b- \b\b\\ \b\b| \b\b/ \b\b- \b\b\\ \b\b| \b\b/ \b\b- \b\b\\ \b\b| \b\b/ \b\b- \b\b\\ \b\b| \b\b/ \b\b- \b\b\\ \b\b| \b\b/ \b\b- \b\b\\ \b\b| \b\b/ \b\b- \b\b\\ \b\b| \b\b/ \b\b- \b\b\\ \b\b| \b\b/ \b\b- \b\b\\ \b\b| \b\b/ \b\b- \b\b\\ \b\b| \b\b/ \b\b- \b\b\\ \b\b| \b\b/ \b\b- \b\b\\ \b\b| \b\b/ \b\b- \b\b\\ \b\b| \b\b/ \b\b- \b\b\\ \b\b| \b\b/ \b\b- \b\b\\ \b\b| \b\b/ \b\b- \b\b\\ \b\b| \b\b/ \b\b- \b\b\\ \b\b| \b\b/ \b\b- \b\b\\ \b\b| \b\b/ \b\b- \b\b\\ \b\b| \b\b/ \b\b- \b\b\\ \b\b| \b\b/ \b\b- \b\b\\ \b\b| \b\b/ \b\b- \b\b\\ \b\b| \b\b/ \b\b- \b\b\\ \b\b| \b\b/ \b\b- \b\b\\ \b\b| \b\b/ \b\b- \b\b\\ \b\b| \b\b/ \b\b- \b\b\\ \b\b| \b\b/ \b\b- \b\b\\ \b\b| \b\b/ \b\b- \b\b\\ \b\b| \b\b/ \b\b- \b\b\\ \b\b| \b\b/ \b\b- \b\b\\ \b\b| \b\b/ \b\b- \b\b\\ \b\b| \b\b/ \b\b- \b\b\\ \b\b| \b\b/ \b\b- \b\b\\ \b\b| \b\b/ \b\b- \b\b\\ \b\b| \b\b/ \b\b- \b\b\\ \b\b| \b\b/ \b\b- \b\b\\ \b\b| \b\b/ \b\b- \b\b\\ \b\b| \b\b/ \b\b- \b\b\\ \b\b| \b\b/ \b\b- \b\b\\ \b\b| \b\b/ \b\b- \b\b\\ \b\b| \b\b/ \b\b- \b\b\\ \b\b| \b\b/ \b\b- \b\b\\ \b\b| \b\b/ \b\b- \b\b\\ \b\b| \b\b/ \b\b- \b\b\\ \b\b| \b\b/ \b\b- \b\b\\ \b\b| \b\b/ \b\b- \b\b\\ \b\b| \b\b/ \b\b- \b\b\\ \b\b| \b\b/ \b\b- \b\b\\ \b\b| \b\b/ \b\b- \b\b\\ \b\b| \b\b/ \b\b- \b\b\\ \b\b| \b\b/ \b\b- \b\b\\ \b\b| \b\b/ \b\b- \b\b\\ \b\b| \b\b/ \b\b- \b\b\\ \b\b| \b\b/ \b\b- \b\b\\ \b\b| \b\b/ \b\b- \b\b\\ \b\b| \b\b/ \b\b- \b\b\\ \b\b| \b\b/ \b\b- \b\b\\ \b\b| \b\b/ \b\b- \b\b\\ \b\b| \b\b/ \b\b- \b\b\\ \b\b| \b\b/ \b\b- \b\b\\ \b\b| \b\b/ \b\b- \b\b\\ \b\b| \b\b/ \b\b- \b\b\\ \b\b| \b\b/ \b\b- \b\b\\ \b\b| \b\b/ \b\b- \b\b\\ \b\b| \b\b/ \b\b- \b\b\\ \b\b| \b\b/ \b\b- \b\b\\ \b\b| \b\b/ \b\b- \b\b\\ \b\b| \b\b/ \b\b- \b\b\\ \b\b| \b\b/ \b\b- \b\b\\ \b\b| \b\b/ \b\b- \b\b\\ \b\b| \b\b/ \b\b- \b\b\\ \b\b| \b\b/ \b\b- \b\b\\ \b\b| \b\b/ \b\b- \b\b\\ \b\b| \b\b/ \b\b- \b\b\\ \b\b| \b\b/ \b\b- \b\b\\ \b\b| \b\b/ \b\b- \b\b\\ \b\b| \b\b/ \b\b- \b\b\\ \b\b| \b\b/ \b\b- \b\b\\ \b\b| \b\b/ \b\b- \b\b\\ \b\b| \b\b/ \b\b- \b\b\\ \b\b| \b\b/ \b\b- \b\b\\ \b\b| \b\b/ \b\b- \b\b\\ \b\b| \b\b/ \b\b- \b\b\\ \b\b| \b\b/ \b\b- \b\b\\ \b\b| \b\b/ \b\b- \b\b\\ \b\b| \b\b/ \b\b- \b\b\\ \b\b| \b\b/ \b\b- \b\b\\ \b\b| \b\b/ \b\b- \b\b\\ \b\b| \b\b/ \b\b- \b\b\\ \b\b| \b\b/ \b\b- \b\b\\ \b\b| \b\b/ \b\b- \b\b\\ \b\b| \b\b/ \b\b- \b\b\\ \b\b| \b\b/ \b\b- \b\b\\ \b\b| \b\b/ \b\b- \b\b\\ \b\b| \b\b/ \b\b- \b\b\\ \b\b| \b\b/ \b\b- \b\b\\ \b\b| \b\b/ \b\b- \b\b\\ \b\b| \b\b/ \b\b- \b\b\\ \b\b| \b\b/ \b\b- \b\b\\ \b\b| \b\b/ \b\b- \b\b\\ \b\b| \b\b/ \b\b- \b\b\\ \b\b| \b\b/ \b\b- \b\b\\ \b\b| \b\b/ \b\b- \b\b\\ \b\b| \b\b/ \b\b- \b\b\\ \b\b| \b\b/ \b\b- \b\b\\ \b\b| \b\b/ \b\b- \b\b\\ \b\b| \b\b/ \b\b- \b\b\\ \b\b| \b\b/ \b\b- \b\b\\ \b\b| \b\b/ \b\b- \b\b\\ \b\b| \b\b/ \b\b- \b\b\\ \b\b| \b\b/ \b\b- \b\b\\ \b\b| \b\b/ \b\b- \b\b\\ \b\b| \b\b/ \b\b- \b\b\\ \b\b| \b\b/ \b\b- \b\b\\ \b\b| \b\b/ \b\b- \b\b\\ \b\b| \b\b/ \b\b- \b\b\\ \b\b| \b\b/ \b\b- \b\b\\ \b\b| \b\b/ \b\b- \b\b\\ \b\b| \b\b/ \b\b- \b\b\\ \b\b| \b\b/ \b\b- \b\b\\ \b\b| \b\b/ \b\b- \b\b\\ \b\b| \b\b/ \b\b- \b\b\\ \b\b| \b\b/ \b\b- \b\b\\ \b\b| \b\b/ \b\b- \b\b\\ \b\b| \b\b/ \b\b- \b\b\\ \b\b| \b\b/ \b\b- \b\b\\ \b\b| \b\b/ \b\b- \b\b\\ \b\b| \b\b/ \b\b- \b\b\\ \b\b| \b\b/ \b\b- \b\b\\ \b\b| \b\b/ \b\b- \b\b\\ \b\b| \b\b/ \b\b- \b\b\\ \b\b| \b\b/ \b\b- \b\b\\ \b\b| \b\b/ \b\b- \b\b\\ \b\b| \b\b/ \b\b- \b\b\\ \b\b| \b\b/ \b\b- \b\b\\ \b\b| \b\b/ \b\b- \b\b\\ \b\b| \b\b/ \b\b- \b\b\\ \b\b| \b\b/ \b\b- \b\b\\ \b\b| \b\b/ \b\b- \b\b\\ \b\b| \b\b/ \b\b- \b\b\\ \b\b| \b\b/ \b\b- \b\b\\ \b\b| \b\b/ \b\b- \b\b\\ \b\b| \b\b/ \b\b- \b\b\\ \b\b| \b\b/ \b\b- \b\b\\ \b\b| \b\b/ \b\b- \b\b\\ \b\b| \b\b/ \b\b- \b\b\\ \b\b| \b\b/ \b\b- \b\b\\ \b\b| \b\b/ \b\b- \b\b\\ \b\b| \b\b/ \b\b- \b\b\\ \b\b| \b\b/ \b\b- \b\b\\ \b\b| \b\b/ \b\b- \b\b\\ \b\b| \b\b/ \b\b- \b\b\\ \b\b| \b\b/ \b\b- \b\b\\ \b\b| \b\b/ \b\b- \b\b\\ \b\b| \b\b/ \b\b- \b\b\\ \b\b| \b\b/ \b\b- \b\b\\ \b\b| \b\b/ \b\b- \b\b\\ \b\b| \b\b/ \b\b- \b\b\\ \b\b| \b\b/ \b\b- \b\b\\ \b\b| \b\b/ \b\b- \b\b\\ \b\b| \b\b/ \b\b- \b\b\\ \b\b| \b\b/ \b\b- \b\b\\ \b\b| \b\b/ \b\b- \b\b\\ \b\b| \b\b/ \b\b- \b\b\\ \b\b| \b\b/ \b\b- \b\b\\ \b\b| \b\b/ \b\b- \b\b\\ \b\b| \b\b/ \b\b- \b\b\\ \b\b| \b\b/ \b\b- \b\b\\ \b\b| \b\b/ \b\b- \b\b\\ \b\b| \b\b/ \b\b- \b\b\\ \b\b| \b\b/ \b\b- \b\b\\ \b\b| \b\b/ \b\b- \b\b\\ \b\b| \b\b/ \b\b- \b\b\\ \b\b| \b\b/ \b\b- \b\b\\ \b\b| \b\b/ \b\b- \b\b\\ \b\b| \b\b/ \b\b- \b\b\\ \b\b| \b\b/ \b\b- \b\b\\ \b\b| \b\b/ \b\b- \b\b\\ \b\b| \b\b/ \b\b- \b\b\\ \b\b| \b\b/ \b\b- \b\b\\ \b\b| \b\b/ \b\b- \b\b\\ \b\b| \b\b/ \b\b- \b\b\\ \b\b| \b\b/ \b\b- \b\b\\ \b\b| \b\b/ \b\b- \b\b\\ \b\b| \b\b/ \b\b- \b\b\\ \b\b| \b\b/ \b\b- \b\b\\ \b\b| \b\b/ \b\b- \b\b\\ \b\b| \b\b/ \b\b- \b\b\\ \b\b| \b\b/ \b\b- \b\b\\ \b\b| \b\b/ \b\b- \b\b\\ \b\b| \b\b/ \b\b- \b\b\\ \b\b| \b\b/ \b\b- \b\b\\ \b\b| \b\b/ \b\b- \b\b\\ \b\b| \b\b/ \b\b- \b\b\\ \b\b| \b\b/ \b\b- \b\b\\ \b\b| \b\b/ \b\b- \b\b\\ \b\b| \b\b/ \b\b- \b\b\\ \b\b| \b\b/ \b\b- \b\b\\ \b\b| \b\b/ \b\b- \b\b\\ \b\b| \b\b/ \b\b- \b\b\\ \b\b| \b\b/ \b\b- \b\b\\ \b\b| \b\b/ \b\b- \b\b\\ \b\b| \b\b/ \b\b- \b\b\\ \b\b| \b\b/ \b\b- \b\b\\ \b\b| \b\b/ \b\b- \b\b\\ \b\b| \b\b/ \b\b- \b\b\\ \b\b| \b\b/ \b\b- \b\b\\ \b\b| \b\b/ \b\b- \b\b\\ \b\b| \b\b/ \b\b- \b\b\\ \b\b| \b\b/ \b\b- \b\b\\ \b\b| \b\b/ \b\b- \b\b\\ \b\b| \b\b/ \b\b- \b\b\\ \b\b| \b\b/ \b\b- \b\b\\ \b\b| \b\b/ \b\b- \b\b\\ \b\b| \b\b/ \b\b- \b\b\\ \b\b| \b\b/ \b\b- \b\b\\ \b\b| \b\b/ \b\b- \b\b\\ \b\b| \b\b/ \b\b- \b\b\\ \b\b| \b\b/ \b\b- \b\b\\ \b\b| \b\b/ \b\b- \b\b\\ \b\b| \b\b/ \b\b- \b\b\\ \b\b| \b\b/ \b\b- \b\b\\ \b\b| \b\b/ \b\b- \b\b\\ \b\b| \b\b/ \b\b- \b\b\\ \b\b| \b\b/ \b\b- \b\b\\ \b\b| \b\b/ \b\b- \b\b\\ \b\b| \b\b/ \b\b- \b\b\\ \b\b| \b\b/ \b\b- \b\b\\ \b\b| \b\b/ \b\b- \b\b\\ \b\b| \b\b/ \b\b- \b\b\\ \b\b| \b\b/ \b\b- \b\b\\ \b\b| \b\b/ \b\b- \b\b\\ \b\b| \b\b/ \b\b- \b\b\\ \b\b| \b\b/ \b\b- \b\b\\ \b\b| \b\b/ \b\b- \b\b\\ \b\b| \b\b/ \b\b- \b\b\\ \b\b| \b\b/ \b\b- \b\b\\ \b\b| \b\b/ \b\b- \b\b\\ \b\b| \b\b/ \b\b- \b\b\\ \b\b| \b\b/ \b\b- \b\b\\ \b\b| \b\b/ \b\b- \b\b\\ \b\b| \b\b/ \b\b- \b\b\\ \b\b| \b\b/ \b\b- \b\b\\ \b\b| \b\b/ \b\b- \b\b\\ \b\b| \b\b/ \b\b- \b\b\\ \b\b| \b\b/ \b\b- \b\b\\ \b\b| \b\b/ \b\b- \b\b\\ \b\b| \b\b/ \b\b- \b\b\\ \b\b| \b\b/ \b\b- \b\b\\ \b\b| \b\b/ \b\b- \b\b\\ \b\b| \b\b/ \b\b- \b\b\\ \b\b| \b\b/ \b\b- \b\b\\ \b\b| \b\b/ \b\b- \b\b\\ \b\b| \b\b/ \b\b- \b\b\\ \b\b| \b\b/ \b\b- \b\b\\ \b\b| \b\b/ \b\b- \b\b\\ \b\b| \b\b/ \b\b- \b\b\\ \b\b| \b\b/ \b\b- \b\b\\ \b\b| \b\b/ \b\b- \b\b\\ \b\b| \b\b/ \b\b- \b\b\\ \b\b| \b\b/ \b\b- \b\b\\ \b\b| \b\b/ \b\b- \b\b\\ \b\b| \b\b/ \b\b- \b\b\\ \b\b| \b\b/ \b\b- \b\b\\ \b\b| \b\b/ \b\b- \b\b\\ \b\b| \b\b/ \b\b- \b\b\\ \b\b| \b\b/ \b\b- \b\b\\ \b\b| \b\b/ \b\b- \b\b\\ \b\b| \b\b/ \b\b- \b\b\\ \b\b| \b\b/ \b\b- \b\b\\ \b\b| \b\b/ \b\b- \b\b\\ \b\b| \b\b/ \b\b- \b\b\\ \b\b| \b\b/ \b\b- \b\b\\ \b\b| \b\b/ \b\b- \b\b\\ \b\b| \b\b/ \b\b- \b\b\\ \b\b| \b\b/ \b\b- \b\b\\ \b\b| \b\b/ \b\b- \b\b\\ \b\b| \b\b/ \b\b- \b\b\\ \b\b| \b\b/ \b\b- \b\b\\ \b\b| \b\b/ \b\b- \b\b\\ \b\b| \b\b/ \b\b- \b\b\\ \b\b| \b\b/ \b\b- \b\b\\ \b\b| \b\b/ \b\b- \b\b\\ \b\b| \b\b/ \b\b- \b\b\\ \b\b| \b\b/ \b\b- \b\b\\ \b\b| \b\b/ \b\b- \b\b\\ \b\b| \b\b/ \b\b- \b\b\\ \b\b| \b\b/ \b\b- \b\b\\ \b\b| \b\b/ \b\b- \b\b\\ \b\b| \b\b/ \b\b- \b\b\\ \b\b| \b\b/ \b\b- \b\b\\ \b\b| \b\b/ \b\b- \b\b\\ \b\b| \b\b/ \b\b- \b\b\\ \b\b| \b\b/ \b\b- \b\b\\ \b\b| \b\b/ \b\b- \b\b\\ \b\b| \b\b/ \b\b- \b\b\\ \b\b| \b\b/ \b\b- \b\b\\ \b\b| \b\b/ \b\b- \b\b\\ \b\b| \b\b/ \b\b- \b\b\\ \b\b| \b\b/ \b\b- \b\b\\ \b\b| \b\b/ \b\b- \b\b\\ \b\b| \b\b/ \b\b- \b\b\\ \b\b| \b\b/ \b\b- \b\b\\ \b\b| \b\b/ \b\b- \b\b\\ \b\b| \b\b/ \b\b- \b\b\\ \b\b| \b\b/ \b\b- \b\b\\ \b\b| \b\b/ \b\b- \b\b\\ \b\b| \b\b/ \b\b- \b\b\\ \b\b| \b\b/ \b\b- \b\b\\ \b\b| \b\b/ \b\b- \b\b\\ \b\b| \b\b/ \b\b- \b\b\\ \b\b| \b\b/ \b\b- \b\b\\ \b\b| \b\b/ \b\b- \b\b\\ \b\b| \b\b/ \b\b- \b\b\\ \b\b| \b\b/ \b\b- \b\b\\ \b\b| \b\b/ \b\b- \b\b\\ \b\b| \b\b/ \b\b- \b\b\\ \b\b| \b\b/ \b\b- \b\b\\ \b\b| \b\b/ \b\b- \b\b\\ \b\b| \b\b/ \b\b- \b\b\\ \b\b| \b\b/ \b\b- \b\b\\ \b\b| \b\b/ \b\b- \b\b\\ \b\b| \b\b/ \b\b- \b\b\\ \b\b| \b\b/ \b\b- \b\b\\ \b\b| \b\b/ \b\b- \b\b\\ \b\b| \b\b/ \b\b- \b\b\\ \b\b| \b\b/ \b\b- \b\b\\ \b\b| \b\b/ \b\b- \b\b\\ \b\b| \b\b/ \b\b- \b\b\\ \b\b| \b\b/ \b\b- \b\b\\ \b\b| \b\b/ \b\b- \b\b\\ \b\b| \b\b/ \b\b- \b\b\\ \b\b| \b\b/ \b\b- \b\b\\ \b\b| \b\b/ \b\b- \b\b\\ \b\b| \b\b/ \b\b- \b\b\\ \b\b| \b\b/ \b\b- \b\b\\ \b\b| \b\b/ \b\b- \b\b\\ \b\b| \b\b/ \b\b- \b\b\\ \b\b| \b\b/ \b\b- \b\b\\ \b\b| \b\b/ \b\b- \b\b\\ \b\b| \b\b/ \b\b- \b\b\\ \b\b| \b\b/ \b\b- \b\b\\ \b\b| \b\b/ \b\b- \b\b\\ \b\b| \b\b/ \b\b- \b\b\\ \b\b| \b\b/ \b\b- \b\b\\ \b\b| \b\b/ \b\b- \b\b\\ \b\b| \b\b/ \b\b- \b\b\\ \b\b| \b\b/ \b\b- \b\b\\ \b\b| \b\b/ \b\b- \b\b\\ \b\b| \b\b/ \b\b- \b\b\\ \b\b| \b\b/ \b\b- \b\b\\ \b\b| \b\b/ \b\b- \b\b\\ \b\b| \b\b/ \b\b- \b\b\\ \b\b| \b\b/ \b\b- \b\b\\ \b\b| \b\b/ \b\b- \b\b\\ \b\b| \b\b/ \b\b- \b\b\\ \b\b| \b\b/ \b\b- \b\b\\ \b\b| \b\b/ \b\b- \b\b\\ \b\b| \b\b/ \b\b- \b\b\\ \b\b| \b\b/ \b\b- \b\b\\ \b\b| \b\b/ \b\b- \b\b\\ \b\b| \b\b/ \b\b- \b\b\\ \b\b| \b\b/ \b\b- \b\b\\ \b\b| \b\b/ \b\b- \b\b\\ \b\b| \b\b/ \b\b- \b\b\\ \b\b| \b\b/ \b\b- \b\b\\ \b\b| \b\b/ \b\b- \b\b\\ \b\b| \b\b/ \b\b- \b\b\\ \b\b| \b\b/ \b\b- \b\b\\ \b\b| \b\b/ \b\b- \b\b\\ \b\b| \b\b/ \b\b- \b\b\\ \b\b| \b\b/ \b\b- \b\b\\ \b\b| \b\b/ \b\b- \b\b\\ \b\b| \b\b/ \b\b- \b\b\\ \b\b| \b\b/ \b\b- \b\b\\ \b\b| \b\b/ \b\b- \b\b\\ \b\b| \b\b/ \b\b- \b\b\\ \b\b| \b\b/ \b\b- \b\b\\ \b\b| \b\b/ \b\b- \b\b\\ \b\b| \b\b/ \b\b- \b\b\\ \b\b| \b\b/ \b\b- \b\b\\ \b\b| \b\b/ \b\b- \b\b\\ \b\b| \b\b/ \b\b- \b\b\\ \b\b| \b\b/ \b\b- \b\b\\ \b\b| \b\b/ \b\b- \b\b\\ \b\b| \b\b/ \b\b- \b\b\\ \b\b| \b\b/ \b\b- \b\b\\ \b\b| \b\b/ \b\b- \b\b\\ \b\b| \b\b/ \b\b- \b\b\\ \b\b| \b\b/ \b\b- \b\b\\ \b\b| \b\b/ \b\b- \b\b\\ \b\b| \b\b/ \b\b- \b\b\\ \b\b| \b\b/ \b\b- \b\b\\ \b\b| \b\b/ \b\b- \b\b\\ \b\b| \b\b/ \b\b- \b\b\\ \b\b| \b\b/ \b\b- \b\b\\ \b\b| \b\b/ \b\b- \b\b\\ \b\b| \b\b/ \b\b- \b\b\\ \b\b| \b\b/ \b\b- \b\b\\ \b\b| \b\b/ \b\b- \b\b\\ \b\b| \b\b/ \b\b- \b\b\\ \b\b| \b\b/ \b\b- \b\b\\ \b\b| \b\b/ \b\b- \b\b\\ \b\b| \b\b/ \b\b- \b\b\\ \b\b| \b\b/ \b\b- \b\b\\ \b\b| \b\b/ \b\b- \b\b\\ \b\b| \b\b/ \b\b- \b\b\\ \b\b| \b\b/ \b\b- \b\b\\ \b\b| \b\b/ \b\b- \b\b\\ \b\b| \b\b/ \b\b- \b\b\\ \b\b| \b\b/ \b\b- \b\b\\ \b\b| \b\b/ \b\b- \b\b\\ \b\b| \b\b/ \b\b- \b\b\\ \b\b| \b\b/ \b\b- \b\b\\ \b\b| \b\b/ \b\b- \b\b\\ \b\b| \b\b/ \b\b- \b\b\\ \b\b| \b\b/ \b\b- \b\b\\ \b\b| \b\b/ \b\b- \b\b\\ \b\b| \b\b/ \b\b- \b\b\\ \b\b| \b\b/ \b\b- \b\b\\ \b\b| \b\b/ \b\b- \b\b\\ \b\b| \b\b/ \b\b- \b\b\\ \b\b| \b\b/ \b\b- \b\b\\ \b\b| \b\b/ \b\b- \b\b\\ \b\b| \b\b/ \b\b- \b\b\\ \b\b| \b\b/ \b\b- \b\b\\ \b\b| \b\b/ \b\b- \b\b\\ \b\b| \b\b/ \b\b- \b\b\\ \b\b| \b\b/ \b\b- \b\b\\ \b\b| \b\b/ \b\b- \b\b\\ \b\b| \b\b/ \b\b- \b\b\\ \b\b| \b\b/ \b\b- \b\b\\ \b\b| \b\b/ \b\b- \b\b\\ \b\b| \b\b/ \b\b- \b\b\\ \b\b| \b\b/ \b\b- \b\b\\ \b\b| \b\b/ \b\b- \b\b\\ \b\b| \b\b/ \b\b- \b\b\\ \b\b| \b\b/ \b\b- \b\b\\ \b\b| \b\b/ \b\b- \b\b\\ \b\b| \b\b/ \b\b- \b\b\\ \b\b| \b\b/ \b\b- \b\b\\ \b\b| \b\b/ \b\b- \b\b\\ \b\b| \b\b/ \b\b- \b\b\\ \b\b| \b\b/ \b\b- \b\b\\ \b\b| \b\b/ \b\b- \b\b\\ \b\b| \b\b/ \b\b- \b\b\\ \b\b| \b\b/ \b\b- \b\b\\ \b\b| \b\b/ \b\b- \b\b\\ \b\b| \b\b/ \b\b- \b\b\\ \b\b| \b\b/ \b\b- \b\b\\ \b\b| \b\b/ \b\b- \b\b\\ \b\b| \b\b/ \b\b- \b\b\\ \b\b| \b\b/ \b\b- \b\b\\ \b\b| \b\b/ \b\b- \b\b\\ \b\b| \b\b/ \b\b- \b\b\\ \b\b| \b\b/ \b\b- \b\b\\ \b\b| \b\b/ \b\b- \b\b\\ \b\b| \b\b/ \b\b- \b\b\\ \b\b| \b\b/ \b\b- \b\b\\ \b\b| \b\b/ \b\b- \b\b\\ \b\b| \b\b/ \b\b- \b\b\\ \b\b| \b\b/ \b\b- \b\b\\ \b\b| \b\b/ \b\b- \b\b\\ \b\b| \b\b/ \b\b- \b\b\\ \b\b| \b\b/ \b\b- \b\b\\ \b\b| \b\b/ \b\b- \b\b\\ \b\b| \b\b/ \b\b- \b\b\\ \b\b| \b\b/ \b\b- \b\b\\ \b\b| \b\b/ \b\b- \b\b\\ \b\b| \b\b/ \b\b- \b\b\\ \b\b| \b\b/ \b\b- \b\b\\ \b\b| \b\b/ \b\b- \b\b\\ \b\b| \b\b/ \b\b- \b\b\\ \b\b| \b\b/ \b\b- \b\b\\ \b\b| \b\b/ \b\b- \b\b\\ \b\b| \b\b/ \b\b- \b\b\\ \b\b| \b\b/ \b\b- \b\b\\ \b\b| \b\b/ \b\b- \b\b\\ \b\b| \b\b/ \b\b- \b\b\\ \b\b| \b\b/ \b\b- \b\b\\ \b\b| \b\b/ \b\b- \b\b\\ \b\b| \b\b/ \b\b- \b\b\\ \b\b| \b\b/ \b\b- \b\b\\ \b\b| \b\b/ \b\b- \b\b\\ \b\b| \b\b/ \b\b- \b\b\\ \b\b| \b\b/ \b\b- \b\b\\ \b\b| \b\b/ \b\b- \b\b\\ \b\b| \b\b/ \b\b- \b\b\\ \b\b| \b\b/ \b\b- \b\b\\ \b\b| \b\b/ \b\b- \b\b\\ \b\b| \b\b/ \b\b- \b\b\\ \b\b| \b\b/ \b\b- \b\b\\ \b\b| \b\b/ \b\b- \b\b\\ \b\b| \b\b/ \b\b- \b\b\\ \b\b| \b\b/ \b\b- \b\b\\ \b\b| \b\b/ \b\b- \b\b\\ \b\b| \b\b/ \b\b- \b\b\\ \b\b| \b\b/ \b\b- \b\b\\ \b\b| \b\b/ \b\b- \b\b\\ \b\b| \b\b/ \b\b- \b\b\\ \b\b| \b\b/ \b\b- \b\b\\ \b\b| \b\b/ \b\b- \b\b\\ \b\b| \b\b/ \b\b- \b\b\\ \b\b| \b\b/ \b\b- \b\b\\ \b\b| \b\b/ \b\b- \b\b\\ \b\b| \b\b/ \b\b- \b\b\\ \b\b| \b\b/ \b\b- \b\b\\ \b\b| \b\b/ \b\b- \b\b\\ \b\b| \b\b/ \b\b- \b\b\\ \b\b| \b\b/ \b\b- \b\b\\ \b\b| \b\b/ \b\b- \b\b\\ \b\b| \b\b/ \b\b- \b\b\\ \b\b| \b\b/ \b\b- \b\b\\ \b\b| \b\b/ \b\b- \b\b\\ \b\b| \b\b/ \b\b- \b\b\\ \b\b| \b\b/ \b\b- \b\b\\ \b\b| \b\b/ \b\b- \b\b\\ \b\b| \b\b/ \b\b- \b\b\\ \b\b| \b\b/ \b\b- \b\b\\ \b\b| \b\b/ \b\b- \b\b\\ \b\b| \b\b/ \b\b- \b\b\\ \b\b| \b\b/ \b\b- \b\b\\ \b\b| \b\b/ \b\b- \b\b\\ \b\b| \b\b/ \b\b- \b\b\\ \b\b| \b\b/ \b\b- \b\b\\ \b\b| \b\b/ \b\b- \b\b\\ \b\b| \b\b/ \b\b- \b\b\\ \b\b| \b\b/ \b\b- \b\b\\ \b\b| \b\b/ \b\b- \b\b\\ \b\b| \b\b/ \b\b- \b\b\\ \b\b| \b\b/ \b\b- \b\b\\ \b\b| \b\b/ \b\b- \b\b\\ \b\b| \b\b/ \b\b- \b\b\\ \b\b| \b\b/ \b\b- \b\b\\ \b\b| \b\b/ \b\b- \b\b\\ \b\b| \b\b/ \b\b- \b\b\\ \b\b| \b\b/ \b\b- \b\b\\ \b\b| \b\b/ \b\b- \b\b\\ \b\b| \b\b/ \b\b- \b\b\\ \b\b| \b\b/ \b\b- \b\b\\ \b\b| \b\b/ \b\b- \b\b\\ \b\b| \b\b/ \b\b- \b\b\\ \b\b| \b\b/ \b\b- \b\b\\ \b\b| \b\b/ \b\b- \b\b\\ \b\b| \b\b/ \b\b- \b\b\\ \b\b| \b\b/ \b\b- \b\b\\ \b\b| \b\b/ \b\b- \b\b\\ \b\b| \b\b/ \b\b- \b\b\\ \b\b| \b\b/ \b\b- \b\b\\ \b\b| \b\b/ \b\b- \b\b\\ \b\b| \b\b/ \b\b- \b\b\\ \b\b| \b\b/ \b\b- \b\b\\ \b\b| \b\b/ \b\b- \b\b\\ \b\b| \b\b/ \b\b- \b\b\\ \b\b| \b\b/ \b\b- \b\b\\ \b\b| \b\b/ \b\b- \b\b\\ \b\b| \b\b/ \b\b- \b\b\\ \b\b| \b\b/ \b\b- \b\b\\ \b\b| \b\b/ \b\b- \b\b\\ \b\b| \b\b/ \b\b- \b\b\\ \b\b| \b\b/ \b\b- \b\b\\ \b\b| \b\b/ \b\b- \b\b\\ \b\b| \b\b/ \b\b- \b\b\\ \b\b| \b\b/ \b\b- \b\b\\ \b\b| \b\b/ \b\b- \b\b\\ \b\b| \b\b/ \b\b- \b\b\\ \b\b| \b\b/ \b\b- \b\b\\ \b\b| \b\b/ \b\b- \b\b\\ \b\b| \b\b/ \b\b- \b\b\\ \b\b| \b\b/ \b\b- \b\b\\ \b\b| \b\b/ \b\b- \b\b\\ \b\b| \b\b/ \b\b- \b\b\\ \b\b| \b\b/ \b\b- \b\b\\ \b\b| \b\b/ \b\b- \b\b\\ \b\b| \b\b/ \b\b- \b\b\\ \b\b| \b\b/ \b\b- \b\b\\ \b\b| \b\b/ \b\b- \b\b\\ \b\b| \b\b/ \b\b- \b\b\\ \b\b| \b\b/ \b\b- \b\b\\ \b\b| \b\b/ \b\b- \b\b\\ \b\b| \b\b/ \b\b- \b\b\\ \b\b| \b\b/ \b\b- \b\b\\ \b\b| \b\b/ \b\b- \b\b\\ \b\b| \b\b/ \b\b- \b\b\\ \b\b| \b\b/ \b\b- \b\b\\ \b\b| \b\b/ \b\b- \b\b\\ \b\b| \b\b/ \b\b- \b\b\\ \b\b| \b\b/ \b\b- \b\b\\ \b\b| \b\b/ \b\b- \b\b\\ \b\b| \b\b/ \b\b- \b\b\\ \b\b| \b\b/ \b\b- \b\b\\ \b\b| \b\b/ \b\b- \b\b\\ \b\b| \b\b/ \b\b- \b\b\\ \b\b| \b\b/ \b\b- \b\b\\ \b\b| \b\b/ \b\b- \b\b\\ \b\b| \b\b/ \b\b- \b\b\\ \b\b| \b\b/ \b\b- \b\b\\ \b\b| \b\b/ \b\b- \b\b\\ \b\b| \b\b/ \b\b- \b\b\\ \b\b| \b\b/ \b\b- \b\b\\ \b\b| \b\b/ \b\b- \b\b\\ \b\b| \b\b/ \b\b- \b\b\\ \b\b| \b\b/ \b\b- \b\b\\ \b\b| \b\b/ \b\b- \b\b\\ \b\b| \b\b/ \b\b- \b\b\\ \b\b| \b\b/ \b\b- \b\b\\ \b\b| \b\b/ \b\b- \b\b\\ \b\b| \b\b/ \b\b- \b\b\\ \b\b| \b\b/ \b\b- \b\b\\ \b\b| \b\b/ \b\b- \b\b\\ \b\b| \b\b/ \b\b- \b\b\\ \b\b| \b\b/ \b\b- \b\b\\ \b\b| \b\b/ \b\b- \b\b\\ \b\b| \b\b/ \b\b- \b\b\\ \b\b| \b\b/ \b\b- \b\b\\ \b\b| \b\b/ \b\b- \b\b\\ \b\b| \b\b/ \b\b- \b\b\\ \b\b| \b\b/ \b\b- \b\b\\ \b\b| \b\b/ \b\b- \b\b\\ \b\b| \b\b/ \b\b- \b\b\\ \b\b| \b\b/ \b\b- \b\b\\ \b\b| \b\b/ \b\b- \b\b\\ \b\b| \b\b/ \b\b- \b\b\\ \b\b| \b\b/ \b\b- \b\b\\ \b\b| \b\b/ \b\b- \b\b\\ \b\b| \b\b/ \b\b- \b\b\\ \b\b| \b\b/ \b\b- \b\b\\ \b\b| \b\b/ \b\b- \b\b\\ \b\b| \b\b/ \b\b- \b\b\\ \b\b| \b\b/ \b\b- \b\b\\ \b\b| \b\b/ \b\b- \b\b\\ \b\b| \b\b/ \b\b- \b\b\\ \b\b| \b\b/ \b\b- \b\b\\ \b\b| \b\b/ \b\b- \b\b\\ \b\b| \b\b/ \b\b- \b\b\\ \b\b| \b\b/ \b\b- \b\b\\ \b\b| \b\b/ \b\b- \b\b\\ \b\b| \b\b/ \b\b- \b\b\\ \b\b| \b\b/ \b\b- \b\b\\ \b\b| \b\b/ \b\b- \b\b\\ \b\b| \b\b/ \b\b- \b\b\\ \b\b| \b\b/ \b\b- \b\b\\ \b\b| \b\b/ \b\b- \b\b\\ \b\b| \b\b/ \b\b- \b\b\\ \b\b| \b\b/ \b\b- \b\b\\ \b\b| \b\b/ \b\b- \b\b\\ \b\b| \b\b/ \b\b- \b\b\\ \b\b| \b\b/ \b\b- \b\b\\ \b\b| \b\b/ \b\b- \b\b\\ \b\b| \b\b/ \b\b- \b\b\\ \b\b| \b\b/ \b\b- \b\b\\ \b\b| \b\b/ \b\b- \b\b\\ \b\b| \b\b/ \b\b- \b\b\\ \b\b| \b\b/ \b\b- \b\b\\ \b\b| \b\b/ \b\b- \b\b\\ \b\b| \b\b/ \b\b- \b\b\\ \b\b| \b\b/ \b\b- \b\b\\ \b\b| \b\b/ \b\b- \b\b\\ \b\b| \b\b/ \b\b- \b\b\\ \b\b| \b\b/ \b\b- \b\b\\ \b\b| \b\b/ \b\b- \b\b\\ \b\b| \b\b/ \b\b- \b\b\\ \b\b| \b\b/ \b\b- \b\b\\ \b\b| \b\b/ \b\b- \b\b\\ \b\b| \b\b/ \b\b- \b\b\\ \b\b| \b\b/ \b\b- \b\b\\ \b\b| \b\b/ \b\b- \b\b\\ \b\b| \b\b/ \b\b- \b\b\\ \b\b| \b\b/ \b\b- \b\b\\ \b\b| \b\b/ \b\b- \b\b\\ \b\b| \b\b/ \b\b- \b\b\\ \b\b| \b\b/ \b\b- \b\b\\ \b\b| \b\b/ \b\b- \b\b\\ \b\b| \b\b/ \b\b- \b\b\\ \b\b| \b\b/ \b\b- \b\b\\ \b\b| \b\b/ \b\b- \b\b\\ \b\b| \b\b/ \b\b- \b\b\\ \b\b| \b\b/ \b\b- \b\b\\ \b\b| \b\b/ \b\b- \b\b\\ \b\b| \b\b/ \b\b- \b\b\\ \b\b| \b\b/ \b\b- \b\b\\ \b\b| \b\b/ \b\b- \b\b\\ \b\b| \b\b/ \b\b- \b\b\\ \b\b| \b\b/ \b\b- \b\b\\ \b\b| \b\b/ \b\b- \b\b\\ \b\b| \b\b/ \b\b- \b\b\\ \b\b| \b\b/ \b\b- \b\b\\ \b\b| \b\b/ \b\b- \b\b\\ \b\b| \b\b/ \b\b- \b\b\\ \b\b| \b\b/ \b\b- \b\b\\ \b\b| \b\b/ \b\b- \b\b\\ \b\b| \b\b/ \b\b- \b\b\\ \b\b| \b\b/ \b\b- \b\b\\ \b\b| \b\b/ \b\b- \b\b\\ \b\b| \b\b/ \b\b- \b\b\\ \b\b| \b\b/ \b\b- \b\b\\ \b\b| \b\b/ \b\b- \b\b\\ \b\b| \b\b/ \b\b- \b\b\\ \b\b| \b\b/ \b\b- \b\b\\ \b\b| \b\b/ \b\b- \b\b\\ \b\b| \b\b/ \b\b- \b\b\\ \b\b| \b\b/ \b\b- \b\b\\ \b\b| \b\b/ \b\b- \b\b\\ \b\b| \b\b/ \b\b- \b\b\\ \b\b| \b\b/ \b\b- \b\b\\ \b\b| \b\b/ \b\b- \b\b\\ \b\b| \b\b/ \b\b- \b\b\\ \b\b| \b\b/ \b\b- \b\b\\ \b\b| \b\b/ \b\b- \b\b\\ \b\b| \b\b/ \b\b- \b\b\\ \b\b| \b\b/ \b\b- \b\b\\ \b\b| \b\b/ \b\b- \b\b\\ \b\b| \b\b/ \b\b- \b\b\\ \b\b| \b\b/ \b\b- \b\b\\ \b\b| \b\b/ \b\b- \b\b\\ \b\b| \b\b/ \b\b- \b\b\\ \b\b| \b\b/ \b\b- \b\b\\ \b\b| \b\b/ \b\b- \b\b\\ \b\b| \b\b/ \b\b- \b\b\\ \b\b| \b\b/ \b\b- \b\b\\ \b\b| \b\b/ \b\b- \b\b\\ \b\b| \b\b/ \b\b- \b\b\\ \b\b| \b\b/ \b\b- \b\b\\ \b\b| \b\b/ \b\b- \b\b\\ \b\b| \b\b/ \b\b- \b\b\\ \b\b| \b\b/ \b\b- \b\b\\ \b\b| \b\b/ \b\b- \b\b\\ \b\b| \b\b/ \b\b- \b\b\\ \b\b| \b\b/ \b\b- \b\b\\ \b\b| \b\b/ \b\b- \b\b\\ \b\b| \b\b/ \b\b- \b\b\\ \b\b| \b\b/ \b\b- \b\b\\ \b\b| \b\b/ \b\b- \b\b\\ \b\b| \b\b/ \b\b- \b\b\\ \b\b| \b\b/ \b\b- \b\b\\ \b\b| \b\b/ \b\b- \b\b\\ \b\b| \b\b/ \b\b- \b\b\\ \b\b| \b\b/ \b\b- \b\b\\ \b\b| \b\b/ \b\b- \b\b\\ \b\b| \b\b/ \b\b- \b\b\\ \b\b| \b\b/ \b\b- \b\b\\ \b\b| \b\b/ \b\b- \b\b\\ \b\b| \b\b/ \b\b- \b\b\\ \b\b| \b\b/ \b\b- \b\b\\ \b\b| \b\b/ \b\b- \b\b\\ \b\b| \b\b/ \b\b- \b\b\\ \b\b| \b\b/ \b\b- \b\b\\ \b\b| \b\b/ \b\b- \b\b\\ \b\b| \b\b/ \b\b- \b\b\\ \b\b| \b\b/ \b\b- \b\b\\ \b\b| \b\b/ \b\b- \b\b\\ \b\b| \b\b/ \b\b- \b\b\\ \b\b| \b\b/ \b\b- \b\b\\ \b\b| \b\b/ \b\b- \b\b\\ \b\b| \b\b/ \b\b- \b\b\\ \b\b| \b\b/ \b\b- \b\b\\ \b\b| \b\b/ \b\b- \b\bfailed with repodata from current_repodata.json, will retry with next repodata source.\r\n",
      "Collecting package metadata (repodata.json): | \b\b/ \b\b- \b\b\\ \b\b| \b\b/ \b\b- \b\b\\ \b\b| \b\b/ \b\b- \b\b\\ \b\b| \b\b/ \b\b- \b\b\\ \b\b| \b\b/ \b\b- \b\b\\ \b\b| \b\b/ \b\b- \b\b\\ \b\b| \b\b/ \b\b- \b\b\\ \b\b| \b\b/ \b\b- \b\b\\ \b\b| \b\b/ \b\b- \b\b\\ \b\b| \b\b/ \b\b- \b\b\\ \b\b| \b\b/ \b\b- \b\b\\ \b\b| \b\b/ \b\b- \b\b\\ \b\b| \b\b/ \b\b- \b\b\\ \b\b| \b\b/ \b\b- \b\b\\ \b\b| \b\b/ \b\b- \b\b\\ \b\b| \b\b/ \b\b- \b\b\\ \b\b| \b\b/ \b\b- \b\b\\ \b\b| \b\b/ \b\b- \b\b\\ \b\b| \b\b/ \b\b- \b\b\\ \b\b| \b\b/ \b\b- \b\b\\ \b\b| \b\b/ \b\b- \b\b\\ \b\b| \b\b/ \b\b- \b\b\\ \b\b| \b\b/ \b\b- \b\b\\ \b\b| \b\b/ \b\b- \b\b\\ \b\b| \b\b/ \b\b- \b\b\\ \b\b| \b\b/ \b\b- \b\b\\ \b\b| \b\b/ \b\b- \b\b\\ \b\b| \b\b/ \b\b- \b\b\\ \b\b| \b\b/ \b\b- \b\b\\ \b\b| \b\b/ \b\b- \b\b\\ \b\b| \b\b/ \b\b- \b\b\\ \b\b| \b\b/ \b\b- \b\b\\ \b\b| \b\b/ \b\b- \b\b\\ \b\b| \b\b/ \b\b- \b\b\\ \b\b| \b\b/ \b\b- \b\b\\ \b\b| \b\b/ \b\b- \b\b\\ \b\b| \b\b/ \b\b- \b\b\\ \b\b| \b\b/ \b\b- \b\b\\ \b\b| \b\b/ \b\b- \b\b\\ \b\b| \b\b/ \b\b- \b\b\\ \b\b| \b\b/ \b\b- \b\b\\ \b\b| \b\b/ \b\b- \b\b\\ \b\b| \b\b/ \b\b- \b\b\\ \b\b| \b\b/ \b\b- \b\b\\ \b\b| \b\b/ \b\b- \b\b\\ \b\b| \b\b/ \b\b- \b\b\\ \b\b| \b\b/ \b\b- \b\b\\ \b\b| \b\b/ \b\b- \b\b\\ \b\b| \b\b/ \b\b- \b\b\\ \b\b| \b\b/ \b\b- \b\b\\ \b\b| \b\b/ \b\b- \b\b\\ \b\b| \b\b/ \b\b- \b\b\\ \b\b| \b\b/ \b\b- \b\b\\ \b\b| \b\b/ \b\b- \b\b\\ \b\b| \b\b/ \b\b- \b\b\\ \b\b| \b\b/ \b\b- \b\b\\ \b\b| \b\b/ \b\b- \b\b\\ \b\b| \b\b/ \b\b- \b\b\\ \b\b| \b\b/ \b\b- \b\b\\ \b\b| \b\b/ \b\b- \b\b\\ \b\b| \b\b/ \b\b- \b\b\\ \b\b| \b\b/ \b\b- \b\b\\ \b\b| \b\b/ \b\b- \b\b\\ \b\b| \b\b/ \b\b- \b\b\\ \b\b| \b\b/ \b\b- \b\b\\ \b\b| \b\b/ \b\b- \b\b\\ \b\b| \b\b/ \b\b- \b\b\\ \b\b| \b\b/ \b\b- \b\b\\ \b\b| \b\b/ \b\b- \b\b\\ \b\b| \b\b/ \b\b- \b\b\\ \b\b| \b\b/ \b\b- \b\b\\ \b\b| \b\b/ \b\b- \b\b\\ \b\b| \b\b/ \b\b- \b\b\\ \b\b| \b\b/ \b\b- \b\b\\ \b\b| \b\b/ \b\b- \b\b\\ \b\b| \b\b/ \b\b- \b\b\\ \b\b| \b\b/ \b\b- \b\b\\ \b\b| \b\b/ \b\b- \b\b\\ \b\b| \b\b/ \b\b- \b\b\\ \b\b| \b\b/ \b\b- \b\b\\ \b\b| \b\b/ \b\b- \b\b\\ \b\b| \b\b/ \b\b- \b\b\\ \b\b| \b\b/ \b\b- \b\b\\ \b\b| \b\b/ \b\b- \b\b\\ \b\b| \b\b/ \b\b- \b\b\\ \b\b| \b\b/ \b\b- \b\b\\ \b\b| \b\b/ \b\b- \b\b\\ \b\b| \b\b/ \b\b- \b\b\\ \b\b| \b\b/ \b\b- \b\b\\ \b\b| \b\b/ \b\b- \b\b\\ \b\b| \b\b/ \b\b- \b\b\\ \b\b| \b\b/ \b\b- \b\b\\ \b\b| \b\b/ \b\b- \b\b\\ \b\b| \b\b/ \b\b- \b\b\\ \b\b| \b\b/ \b\b- \b\b\\ \b\b| \b\b/ \b\b- \b\b\\ \b\b| \b\b/ \b\b- \b\b\\ \b\b| \b\b/ \b\b- \b\b\\ \b\b| \b\b/ \b\b- \b\b\\ \b\b| \b\b/ \b\b- \b\b\\ \b\b| \b\b/ \b\b- \b\b\\ \b\b| \b\b/ \b\b- \b\b\\ \b\b| \b\b/ \b\b- \b\b\\ \b\b| \b\b/ \b\b- \b\b\\ \b\b| \b\b/ \b\b- \b\b\\ \b\b| \b\b/ \b\b- \b\b\\ \b\b| \b\b/ \b\b- \b\b\\ \b\b| \b\b/ \b\b- \b\b\\ \b\b| \b\b/ \b\b- \b\b\\ \b\b| \b\b/ \b\b- \b\b\\ \b\b| \b\b/ \b\b- \b\b\\ \b\b| \b\b/ \b\b- \b\b\\ \b\b| \b\b/ \b\b- \b\b\\ \b\b| \b\b/ \b\b- \b\b\\ \b\b| \b\b/ \b\b- \b\b\\ \b\b| \b\b/ \b\b- \b\b\\ \b\b| \b\b/ \b\b- \b\b\\ \b\b| \b\b/ \b\b- \b\b\\ \b\b| \b\b/ \b\b- \b\b\\ \b\b| \b\b/ \b\b- \b\b\\ \b\b| \b\b/ \b\b- \b\b\\ \b\b| \b\b/ \b\b- \b\b\\ \b\b| \b\b/ \b\b- \b\b\\ \b\b| \b\b/ \b\b- \b\b\\ \b\b| \b\b/ \b\b- \b\b\\ \b\b| \b\b/ \b\b- \b\b\\ \b\b| \b\b/ \b\b- \b\b\\ \b\b| \b\b/ \b\b- \b\b\\ \b\b| \b\b/ \b\b- \b\b\\ \b\b| \b\b/ \b\b- \b\b\\ \b\b| \b\b/ \b\b- \b\b\\ \b\b| \b\b/ \b\b- \b\b\\ \b\b| \b\b/ \b\b- \b\b\\ \b\b| \b\b/ \b\b- \b\b\\ \b\b| \b\b/ \b\b- \b\b\\ \b\b| \b\b/ \b\b- \b\b\\ \b\b| \b\b/ \b\b- \b\b\\ \b\b| \b\b/ \b\b- \b\b\\ \b\b| \b\b/ \b\b- \b\b\\ \b\b| \b\b/ \b\b- \b\b\\ \b\b| \b\b/ \b\b- \b\b\\ \b\b| \b\b/ \b\b- \b\b\\ \b\b| \b\b/ \b\b- \b\b\\ \b\b| \b\b/ \b\b- \b\b\\ \b\b| \b\b/ \b\b- \b\b\\ \b\b| \b\b/ \b\b- \b\b\\ \b\b| \b\b/ \b\b- \b\b\\ \b\b| \b\b/ \b\b- \b\b\\ \b\b| \b\b/ \b\b- \b\b\\ \b\b| \b\b/ \b\b- \b\b\\ \b\b| \b\b/ \b\b- \b\b\\ \b\b| \b\b/ \b\b- \b\b\\ \b\b| \b\b/ \b\b- \b\b\\ \b\b| \b\b/ \b\b- \b\b\\ \b\b| \b\b/ \b\b- \b\b\\ \b\b| \b\b/ \b\b- \b\b\\ \b\b| \b\b/ \b\b- \b\b\\ \b\b| \b\b/ \b\b- \b\b\\ \b\b| \b\b/ \b\b- \b\b\\ \b\b| \b\b/ \b\b- \b\b\\ \b\b| \b\b/ \b\b- \b\b\\ \b\b| \b\b/ \b\b- \b\b\\ \b\b| \b\b/ \b\b- \b\b\\ \b\b| \b\b/ \b\b- \b\b\\ \b\b| \b\b/ \b\b- \b\b\\ \b\b| \b\b/ \b\b- \b\b\\ \b\b| \b\b/ \b\b- \b\b\\ \b\b| \b\b/ \b\b- \b\b\\ \b\b| \b\b/ \b\b- \b\b\\ \b\b| \b\b/ \b\b- \b\b\\ \b\b| \b\b/ \b\b- \b\b\\ \b\b| \b\b/ \b\b- \b\b\\ \b\b| \b\b/ \b\b- \b\b\\ \b\b| \b\b/ \b\b- \b\b\\ \b\b| \b\b/ \b\b- \b\b\\ \b\b| \b\b/ \b\b- \b\b\\ \b\b| \b\b/ \b\b- \b\b\\ \b\b| \b\b/ \b\b- \b\b\\ \b\b| \b\b/ \b\b- \b\b\\ \b\b| \b\b/ \b\b- \b\b\\ \b\b| \b\b/ \b\b- \b\b\\ \b\b| \b\b/ \b\b- \b\b\\ \b\b| \b\b/ \b\b- \b\b\\ \b\b| \b\b/ \b\b- \b\b\\ \b\b| \b\b/ \b\b- \b\b\\ \b\b| \b\b/ \b\b- \b\b\\ \b\b| \b\b/ \b\b- \b\b\\ \b\b| \b\b/ \b\b- \b\b\\ \b\b| \b\b/ \b\b- \b\b\\ \b\b| \b\b/ \b\b- \b\b\\ \b\b| \b\b/ \b\b- \b\b\\ \b\b| \b\b/ \b\b- \b\b\\ \b\b| \b\b/ \b\b- \b\b\\ \b\b| \b\b/ \b\b- \b\b\\ \b\bdone\r\n",
      "Solving environment: / \b\b- \b\b\\ \b\b| \b\b/ \b\b- \b\b\\ \b\b| \b\b/ \b\b- \b\b\\ \b\b| \b\b/ \b\b- \b\b\\ \b\b| \b\b/ \b\b- \b\b\\ \b\b| \b\b/ \b\b- \b\b\\ \b\b| \b\b/ \b\b- \b\b\\ \b\b| \b\b/ \b\b- \b\b\\ \b\b| \b\b/ \b\b- \b\b\\ \b\b| \b\b/ \b\b- \b\b\\ \b\b| \b\b/ \b\b- \b\b\\ \b\b| \b\b/ \b\b- \b\b\\ \b\b| \b\b/ \b\b- \b\b\\ \b\b| \b\b/ \b\b- \b\b\\ \b\b| \b\b/ \b\b- \b\b\\ \b\b| \b\b/ \b\b- \b\b\\ \b\b| \b\b/ \b\b- \b\b\\ \b\b| \b\b/ \b\b- \b\b\\ \b\b| \b\b/ \b\b- \b\b\\ \b\b| \b\b/ \b\b- \b\b\\ \b\b| \b\b/ \b\b- \b\b\\ \b\b| \b\b/ \b\b- \b\b\\ \b\b| \b\b/ \b\b- \b\b\\ \b\b| \b\b/ \b\b- \b\b\\ \b\b| \b\b/ \b\b- \b\b\\ \b\b| \b\b/ \b\b- \b\b\\ \b\b| \b\b/ \b\b- \b\b\\ \b\b| \b\b/ \b\b- \b\b\\ \b\b| \b\b/ \b\b- \b\b\\ \b\b| \b\b/ \b\b- \b\b\\ \b\b| \b\b/ \b\b- \b\b\\ \b\b| \b\b/ \b\b- \b\b\\ \b\b| \b\b/ \b\b- \b\b\\ \b\b| \b\b/ \b\b- \b\b\\ \b\b| \b\b/ \b\b- \b\b\\ \b\b| \b\b/ \b\b- \b\b\\ \b\b| \b\b/ \b\b- \b\b\\ \b\b| \b\b/ \b\b- \b\b\\ \b\b| \b\b/ \b\b- \b\b\\ \b\b| \b\b/ \b\b- \b\b\\ \b\b| \b\b/ \b\b- \b\b\\ \b\b| \b\b/ \b\b- \b\b\\ \b\b| \b\b/ \b\b- \b\b\\ \b\b| \b\b/ \b\b- \b\b\\ \b\b| \b\b/ \b\b- \b\b\\ \b\b| \b\b/ \b\b- \b\b\\ \b\b| \b\b/ \b\b- \b\b\\ \b\b| \b\b/ \b\b- \b\b\\ \b\b| \b\b/ \b\b- \b\b\\ \b\b| \b\b/ \b\b- \b\b\\ \b\b| \b\b/ \b\b- \b\b\\ \b\b| \b\b/ \b\b- \b\b\\ \b\b| \b\b/ \b\b- \b\b\\ \b\b| \b\b/ \b\b- \b\b\\ \b\b| \b\b/ \b\b- \b\b\\ \b\b| \b\b/ \b\b- \b\b\\ \b\b| \b\b/ \b\b- \b\b\\ \b\b| \b\b/ \b\b- \b\b\\ \b\b| \b\b/ \b\b- \b\b\\ \b\b| \b\b/ \b\b- \b\b\\ \b\b| \b\b/ \b\b- \b\b\\ \b\b| \b\b/ \b\b- \b\b\\ \b\b| \b\b/ \b\b- \b\b\\ \b\b| \b\b/ \b\b- \b\b\\ \b\b| \b\b/ \b\b- \b\b\\ \b\b| \b\b/ \b\b- \b\b\\ \b\b| \b\b/ \b\b- \b\b\\ \b\b| \b\b/ \b\b- \b\b\\ \b\b| \b\b/ \b\b- \b\b\\ \b\b| \b\b/ \b\b- \b\b\\ \b\b| \b\b/ \b\b- \b\b\\ \b\b| \b\b/ \b\b- \b\b\\ \b\b| \b\b/ \b\b- \b\b\\ \b\b| \b\b/ \b\b- \b\b\\ \b\b| \b\b/ \b\b- \b\b\\ \b\b| \b\b/ \b\b- \b\b\\ \b\b| \b\b/ \b\b- \b\b\\ \b\b| \b\b/ \b\b- \b\b\\ \b\b| \b\b/ \b\b- \b\b\\ \b\b| \b\b/ \b\b- \b\b\\ \b\b| \b\b/ \b\b- \b\b\\ \b\b| \b\b/ \b\b- \b\b\\ \b\b| \b\b/ \b\b- \b\b\\ \b\b| \b\b/ \b\b- \b\b\\ \b\b| \b\b/ \b\b- \b\b\\ \b\b| \b\b/ \b\b- \b\b\\ \b\b| \b\b/ \b\b- \b\b\\ \b\b| \b\b/ \b\b- \b\b\\ \b\b| \b\b/ \b\b- \b\b\\ \b\b| \b\b/ \b\b- \b\b\\ \b\b| \b\b/ \b\b- \b\b\\ \b\b| \b\b/ \b\b- \b\b\\ \b\b| \b\b/ \b\b- \b\b\\ \b\b| \b\b/ \b\b- \b\b\\ \b\b| \b\b/ \b\b- \b\b\\ \b\b| \b\b/ \b\b- \b\b\\ \b\b| \b\b/ \b\b- \b\b\\ \b\b| \b\b/ \b\b- \b\b\\ \b\b| \b\b/ \b\b- \b\b\\ \b\b| \b\b/ \b\b- \b\b\\ \b\b| \b\b/ \b\b- \b\b\\ \b\b| \b\b/ \b\b- \b\b\\ \b\b| \b\b/ \b\b- \b\b\\ \b\b| \b\b/ \b\b- \b\b\\ \b\b| \b\b/ \b\b- \b\b\\ \b\b| \b\b/ \b\b- \b\b\\ \b\b| \b\b/ \b\b- \b\b\\ \b\b| \b\b/ \b\b- \b\b\\ \b\b| \b\b/ \b\b- \b\b\\ \b\b| \b\b/ \b\b- \b\b\\ \b\b| \b\b/ \b\b- \b\b\\ \b\b| \b\b/ \b\b- \b\b\\ \b\b| \b\b/ \b\b- \b\b\\ \b\b| \b\b/ \b\b- \b\b\\ \b\b| \b\b/ \b\b- \b\b\\ \b\b| \b\b/ \b\b- \b\b\\ \b\b| \b\b/ \b\b- \b\b\\ \b\b| \b\b/ \b\b- \b\b\\ \b\b| \b\b/ \b\b- \b\b\\ \b\b| \b\b/ \b\b- \b\b\\ \b\b| \b\b/ \b\b- \b\b\\ \b\b| \b\b/ \b\b- \b\b\\ \b\b| \b\b/ \b\b- \b\b\\ \b\b| \b\b/ \b\b- \b\b\\ \b\b| \b\b/ \b\b- \b\b\\ \b\b| \b\b/ \b\b- \b\b\\ \b\b| \b\b/ \b\b- \b\b\\ \b\b| \b\b/ \b\b- \b\b\\ \b\b| \b\b/ \b\b- \b\b\\ \b\b| \b\b/ \b\b- \b\b\\ \b\b| \b\b/ \b\b- \b\b\\ \b\b| \b\b/ \b\b- \b\b\\ \b\b| \b\b/ \b\b- \b\b\\ \b\b| \b\b/ \b\b- \b\b\\ \b\b| \b\b/ \b\b- \b\b\\ \b\b| \b\b/ \b\b- \b\b\\ \b\b| \b\b/ \b\b- \b\b\\ \b\b| \b\b/ \b\b- \b\b\\ \b\b| \b\b/ \b\b- \b\b\\ \b\b| \b\b/ \b\b- \b\b\\ \b\b| \b\b/ \b\b- \b\b\\ \b\b| \b\b/ \b\b- \b\b\\ \b\b| \b\b/ \b\b- \b\b\\ \b\b| \b\b/ \b\b- \b\b\\ \b\b| \b\b/ \b\b- \b\b\\ \b\b| \b\b/ \b\b- \b\b\\ \b\b| \b\b/ \b\b- \b\b\\ \b\b| \b\b/ \b\b- \b\b\\ \b\b| \b\b/ \b\b- \b\b\\ \b\b| \b\b/ \b\b- \b\b\\ \b\b| \b\b/ \b\b- \b\b\\ \b\b| \b\b/ \b\b- \b\b\\ \b\b| \b\b/ \b\b- \b\b\\ \b\b| \b\b/ \b\b- \b\b\\ \b\b| \b\b/ \b\b- \b\b\\ \b\b| \b\b/ \b\b- \b\b\\ \b\b| \b\b/ \b\b- \b\b\\ \b\b| \b\b/ \b\b- \b\b\\ \b\b| \b\b/ \b\b- \b\b\\ \b\b| \b\b/ \b\b- \b\b\\ \b\b| \b\b/ \b\b- \b\b\\ \b\b| \b\b/ \b\b- \b\b\\ \b\b| \b\b/ \b\b- \b\b\\ \b\b| \b\b/ \b\b- \b\b\\ \b\b| \b\b/ \b\b- \b\b\\ \b\b| \b\b/ \b\b- \b\b\\ \b\b| \b\b/ \b\b- \b\b\\ \b\b| \b\b/ \b\b- \b\b\\ \b\b| \b\b/ \b\b- \b\b\\ \b\b| \b\b/ \b\b- \b\b\\ \b\b| \b\b/ \b\b- \b\b\\ \b\b| \b\b/ \b\b- \b\b\\ \b\b| \b\b/ \b\b- \b\b\\ \b\b| \b\b/ \b\b- \b\b\\ \b\b| \b\b/ \b\b- \b\b\\ \b\b| \b\b/ \b\b- \b\b\\ \b\b| \b\b/ \b\b- \b\b\\ \b\b| \b\b/ \b\b- \b\b\\ \b\b| \b\b/ \b\b- \b\b\\ \b\b| \b\b/ \b\b- \b\b\\ \b\b| \b\b/ \b\b- \b\b\\ \b\b| \b\b/ \b\b- \b\b\\ \b\b| \b\b/ \b\b- \b\b\\ \b\b| \b\b/ \b\b- \b\b\\ \b\b| \b\b/ \b\b- \b\b\\ \b\b| \b\b/ \b\b- \b\b\\ \b\b| \b\b/ \b\b- \b\b\\ \b\b| \b\b/ \b\b- \b\b\\ \b\b| \b\b/ \b\b- \b\b\\ \b\b| \b\b/ \b\b- \b\b\\ \b\b| \b\b/ \b\b- \b\b\\ \b\b| \b\b/ \b\b- \b\b\\ \b\b| \b\b/ \b\b- \b\b\\ \b\b| \b\b/ \b\b- \b\b\\ \b\b| \b\b/ \b\b- \b\b\\ \b\b| \b\b/ \b\b- \b\b\\ \b\b| \b\b/ \b\b- \b\b\\ \b\b| \b\b/ \b\b- \b\b\\ \b\b| \b\b/ \b\b- \b\b\\ \b\b| \b\b/ \b\b- \b\b\\ \b\b| \b\b/ \b\b- \b\b\\ \b\b| \b\b/ \b\b- \b\b\\ \b\b| \b\b/ \b\b- \b\b\\ \b\b| \b\b/ \b\b- \b\b\\ \b\b| \b\b/ \b\b- \b\b\\ \b\b| \b\b/ \b\b- \b\b\\ \b\b| \b\b/ \b\b- \b\b\\ \b\b| \b\b/ \b\b- \b\b\\ \b\b| \b\b/ \b\b- \b\b\\ \b\b| \b\b/ \b\b- \b\b\\ \b\b| \b\b/ \b\b- \b\b\\ \b\b| \b\b/ \b\b- \b\b\\ \b\b| \b\b/ \b\b- \b\b\\ \b\b| \b\b/ \b\b- \b\b\\ \b\b| \b\b/ \b\b- \b\b\\ \b\b| \b\b/ \b\b- \b\b\\ \b\b| \b\b/ \b\b- \b\b\\ \b\b| \b\b/ \b\b- \b\b\\ \b\b| \b\b/ \b\b- \b\b\\ \b\b| \b\b/ \b\b- \b\b\\ \b\b| \b\b/ \b\b- \b\b\\ \b\b| \b\b/ \b\b- \b\b\\ \b\b| \b\b/ \b\b- \b\b\\ \b\b| \b\b/ \b\b- \b\b\\ \b\b| \b\b/ \b\b- \b\b\\ \b\b| \b\b/ \b\b- \b\b\\ \b\b| \b\b/ \b\b- \b\b\\ \b\b| \b\b/ \b\b- \b\b\\ \b\b| \b\b/ \b\b- \b\b\\ \b\b| \b\b/ \b\b- \b\b\\ \b\b| \b\b/ \b\b- \b\b\\ \b\b| \b\b/ \b\b- \b\b\\ \b\b| \b\b/ \b\b- \b\b\\ \b\b| \b\b/ \b\b- \b\b\\ \b\b| \b\b/ \b\b- \b\b\\ \b\b| \b\b/ \b\b- \b\b\\ \b\b| \b\b/ \b\b- \b\b\\ \b\b| \b\b/ \b\b- \b\b\\ \b\b| \b\b/ \b\b- \b\b\\ \b\b| \b\b/ \b\b- \b\b\\ \b\b| \b\b/ \b\b- \b\b\\ \b\b| \b\b/ \b\b- \b\b\\ \b\b| \b\b/ \b\b- \b\b\\ \b\b| \b\b/ \b\b- \b\b\\ \b\b| \b\b/ \b\b- \b\b\\ \b\b| \b\b/ \b\b- \b\b\\ \b\b| \b\b/ \b\b- \b\b\\ \b\b| \b\b/ \b\b- \b\b\\ \b\b| \b\b/ \b\b- \b\b\\ \b\b| \b\b/ \b\b- \b\b\\ \b\b| \b\b/ \b\b- \b\b\\ \b\b| \b\b/ \b\b- \b\b\\ \b\b| \b\b/ \b\b- \b\b\\ \b\b| \b\b/ \b\b- \b\b\\ \b\b| \b\b/ \b\b- \b\b\\ \b\b| \b\b/ \b\b- \b\b\\ \b\b| \b\b/ \b\b- \b\b\\ \b\b| \b\b/ \b\b- \b\b\\ \b\b| \b\b/ \b\b- \b\b\\ \b\b| \b\b/ \b\b- \b\b\\ \b\b| \b\b/ \b\b- \b\b\\ \b\b| \b\b/ \b\b- \b\b\\ \b\b| \b\b/ \b\b- \b\b\\ \b\b| \b\b/ \b\b- \b\b\\ \b\b| \b\b/ \b\b- \b\b\\ \b\b| \b\b/ \b\b- \b\b\\ \b\b| \b\b/ \b\b- \b\b\\ \b\b| \b\b/ \b\b- \b\b\\ \b\b| \b\b/ \b\b- \b\b\\ \b\b| \b\b/ \b\b- \b\b\\ \b\b| \b\b/ \b\b- \b\b\\ \b\b| \b\b/ \b\b- \b\b\\ \b\b| \b\b/ \b\b- \b\b\\ \b\b| \b\b/ \b\b- \b\b\\ \b\b| \b\b/ \b\b- \b\b\\ \b\b| \b\b/ \b\b- \b\b\\ \b\b| \b\b/ \b\b- \b\b\\ \b\b| \b\b/ \b\b- \b\b\\ \b\b| \b\b/ \b\b- \b\b\\ \b\b| \b\b/ \b\b- \b\b\\ \b\b| \b\b/ \b\b- \b\b\\ \b\b| \b\b/ \b\b- \b\b\\ \b\b| \b\b/ \b\b- \b\b\\ \b\b| \b\b/ \b\b- \b\b\\ \b\b| \b\b/ \b\b- \b\b\\ \b\b| \b\b/ \b\b- \b\b\\ \b\b| \b\b/ \b\b- \b\b\\ \b\b| \b\b/ \b\b- \b\b\\ \b\b| \b\b/ \b\b- \b\b\\ \b\b| \b\b/ \b\b- \b\b\\ \b\b| \b\b/ \b\b- \b\b\\ \b\b| \b\b/ \b\b- \b\b\\ \b\b| \b\b/ \b\b- \b\b\\ \b\b| \b\b/ \b\b- \b\b\\ \b\b| \b\b/ \b\b- \b\b\\ \b\b| \b\b/ \b\b- \b\b\\ \b\b| \b\b/ \b\b- \b\b\\ \b\b| \b\b/ \b\b- \b\b\\ \b\b| \b\b/ \b\b- \b\b\\ \b\b| \b\b/ \b\b- \b\b\\ \b\b| \b\b/ \b\b- \b\b\\ \b\b| \b\b/ \b\b- \b\b\\ \b\b| \b\b/ \b\b- \b\b\\ \b\b| \b\b/ \b\b- \b\b\\ \b\b| \b\b/ \b\b- \b\b\\ \b\b| \b\b/ \b\b- \b\b\\ \b\b| \b\b/ \b\b- \b\b\\ \b\b| \b\b/ \b\b- \b\b\\ \b\b| \b\b/ \b\b- \b\b\\ \b\b| \b\b/ \b\b- \b\b\\ \b\b| \b\b/ \b\b- \b\b\\ \b\b| \b\b/ \b\b- \b\b\\ \b\b| \b\b/ \b\b- \b\b\\ \b\b| \b\b/ \b\b- \b\b\\ \b\b| \b\b/ \b\b- \b\b\\ \b\b| \b\b/ \b\b- \b\b\\ \b\b| \b\b/ \b\b- \b\b\\ \b\b| \b\b/ \b\b- \b\b\\ \b\b| \b\b/ \b\b- \b\b\\ \b\b| \b\b/ \b\b- \b\b\\ \b\b| \b\b/ \b\b- \b\b\\ \b\b| \b\b/ \b\b- \b\b\\ \b\b| \b\b/ \b\b- \b\b\\ \b\b| \b\b/ \b\b- \b\b\\ \b\b| \b\b/ \b\b- \b\b\\ \b\b| \b\b/ \b\b- \b\b\\ \b\b| \b\b/ \b\b- \b\b\\ \b\b| \b\b/ \b\b- \b\b\\ \b\b| \b\b/ \b\b- \b\b\\ \b\b| \b\b/ \b\b- \b\b\\ \b\b| \b\b/ \b\b- \b\b\\ \b\b| \b\b/ \b\b- \b\b\\ \b\b| \b\b/ \b\b- \b\b\\ \b\b| \b\b/ \b\b- \b\b\\ \b\b| \b\b/ \b\b- \b\b\\ \b\b| \b\b/ \b\b- \b\b\\ \b\b| \b\b/ \b\b- \b\b\\ \b\b| \b\b/ \b\b- \b\b\\ \b\b| \b\b/ \b\b- \b\b\\ \b\b| \b\b/ \b\b- \b\b\\ \b\b| \b\b/ \b\b- \b\b\\ \b\b| \b\b/ \b\b- \b\b\\ \b\b| \b\b/ \b\b- \b\b\\ \b\b| \b\b/ \b\b- \b\b\\ \b\b| \b\b/ \b\b- \b\b\\ \b\b| \b\b/ \b\b- \b\b\\ \b\b| \b\b/ \b\b- \b\b\\ \b\b| \b\b/ \b\b- \b\b\\ \b\b| \b\b/ \b\b- \b\b\\ \b\b| \b\b/ \b\b- \b\b\\ \b\b| \b\b/ \b\b- \b\b\\ \b\b| \b\b/ \b\b- \b\b\\ \b\b| \b\b/ \b\b- \b\b\\ \b\b| \b\b/ \b\b- \b\b\\ \b\b| \b\b/ \b\b- \b\b\\ \b\b| \b\b/ \b\b- \b\b\\ \b\b| \b\b/ \b\b- \b\b\\ \b\b| \b\b/ \b\b- \b\b\\ \b\b| \b\b/ \b\b- \b\b\\ \b\b| \b\b/ \b\b- \b\b\\ \b\b| \b\b/ \b\b- \b\b\\ \b\b| \b\b/ \b\b- \b\b\\ \b\b| \b\b/ \b\b- \b\b\\ \b\b| \b\b/ \b\b- \b\b\\ \b\b| \b\b/ \b\b- \b\b\\ \b\b| \b\b/ \b\b- \b\b\\ \b\b| \b\b/ \b\b- \b\b\\ \b\b| \b\b/ \b\b- \b\b\\ \b\b| \b\b/ \b\b- \b\b\\ \b\b| \b\b/ \b\b- \b\b\\ \b\b| \b\b/ \b\b- \b\b\\ \b\b| \b\b/ \b\b- \b\b\\ \b\b| \b\b/ \b\b- \b\b\\ \b\b| \b\b/ \b\b- \b\b\\ \b\b| \b\b/ \b\b- \b\b\\ \b\b| \b\b/ \b\b- \b\b\\ \b\b| \b\b/ \b\b- \b\b\\ \b\b| \b\b/ \b\b- \b\b\\ \b\b| \b\b/ \b\b- \b\b\\ \b\b| \b\b/ \b\b- \b\b\\ \b\b| \b\b/ \b\b- \b\b\\ \b\b| \b\b/ \b\b- \b\b\\ \b\b| \b\b/ \b\b- \b\b\\ \b\b| \b\b/ \b\b- \b\b\\ \b\b| \b\b/ \b\b- \b\b\\ \b\b| \b\b/ \b\b- \b\b\\ \b\b| \b\b/ \b\b- \b\b\\ \b\b| \b\b/ \b\b- \b\b\\ \b\b| \b\b/ \b\b- \b\b\\ \b\b| \b\b/ \b\b- \b\b\\ \b\b| \b\b/ \b\b- \b\b\\ \b\b| \b\b/ \b\b- \b\b\\ \b\b| \b\b/ \b\b- \b\b\\ \b\b| \b\b/ \b\b- \b\b\\ \b\b| \b\b/ \b\b- \b\b\\ \b\b| \b\b/ \b\b- \b\b\\ \b\b| \b\b/ \b\b- \b\b\\ \b\b| \b\b/ \b\b- \b\b\\ \b\b| \b\b/ \b\b- \b\b\\ \b\b| \b\b/ \b\b- \b\b\\ \b\b| \b\b/ \b\b- \b\b\\ \b\b| \b\b/ \b\b- \b\b\\ \b\b| \b\b/ \b\b- \b\b\\ \b\b| \b\b/ \b\b- \b\b\\ \b\b| \b\b/ \b\b- \b\b\\ \b\b| \b\b/ \b\b- \b\b\\ \b\b| \b\b/ \b\b- \b\b\\ \b\b| \b\b/ \b\b- \b\b\\ \b\b| \b\b/ \b\b- \b\b\\ \b\b| \b\b/ \b\b- \b\b\\ \b\b| \b\b/ \b\b- \b\b\\ \b\b| \b\b/ \b\b- \b\b\\ \b\b| \b\b/ \b\b- \b\b\\ \b\b| \b\b/ \b\b- \b\b\\ \b\b| \b\b/ \b\b- \b\b\\ \b\b| \b\b/ \b\b- \b\b\\ \b\b| \b\b/ \b\b- \b\b\\ \b\b| \b\b/ \b\b- \b\b\\ \b\b| \b\b/ \b\b- \b\b\\ \b\b| \b\b/ \b\b- \b\b\\ \b\b| \b\b/ \b\b- \b\b\\ \b\b| \b\b/ \b\b- \b\b\\ \b\b| \b\b/ \b\b- \b\b\\ \b\b| \b\b/ \b\b- \b\b\\ \b\b| \b\b/ \b\b- \b\b\\ \b\b| \b\b/ \b\b- \b\b\\ \b\b| \b\b/ \b\b- \b\b\\ \b\b| \b\b/ \b\b- \b\b\\ \b\b| \b\b/ \b\b- \b\b\\ \b\b| \b\b/ \b\b- \b\b\\ \b\b| \b\b/ \b\b- \b\b\\ \b\b| \b\b/ \b\b- \b\b\\ \b\b| \b\b/ \b\b- \b\b\\ \b\b| \b\b/ \b\b- \b\b\\ \b\b| \b\b/ \b\b- \b\b\\ \b\b| \b\b/ \b\b- \b\b\\ \b\b| \b\b/ \b\b- \b\b\\ \b\b| \b\b/ \b\b- \b\b\\ \b\b| \b\b/ \b\b- \b\b\\ \b\b| \b\b/ \b\b- \b\b\\ \b\b| \b\b/ \b\b- \b\b\\ \b\b| \b\b/ \b\b- \b\b\\ \b\b| \b\b/ \b\b- \b\b\\ \b\b| \b\b/ \b\b- \b\b\\ \b\b| \b\b/ \b\b- \b\b\\ \b\b| \b\b/ \b\b- \b\b\\ \b\b| \b\b/ \b\b- \b\b\\ \b\b| \b\b/ \b\b- \b\b\\ \b\b| \b\b/ \b\b- \b\b\\ \b\b| \b\b/ \b\b- \b\b\\ \b\b| \b\b/ \b\b- \b\b\\ \b\b| \b\b/ \b\b- \b\b\\ \b\b| \b\b/ \b\b- \b\b\\ \b\b| \b\b/ \b\b- \b\b\\ \b\b| \b\b/ \b\b- \b\b\\ \b\b| \b\b/ \b\b- \b\b\\ \b\b| \b\b/ \b\b- \b\b\\ \b\b| \b\b/ \b\b- \b\b\\ \b\b| \b\b/ \b\b- \b\b\\ \b\b| \b\b/ \b\b- \b\b\\ \b\b| \b\b/ \b\b- \b\b\\ \b\b| \b\b/ \b\b- \b\b\\ \b\b| \b\b/ \b\b- \b\b\\ \b\b| \b\b/ \b\b- \b\b\\ \b\b| \b\b/ \b\b- \b\b\\ \b\b| \b\b/ \b\b- \b\b\\ \b\b| \b\b/ \b\b- \b\b\\ \b\b| \b\b/ \b\b- \b\b\\ \b\b| \b\b/ \b\b- \b\b\\ \b\b| \b\b/ \b\b- \b\b\\ \b\b| \b\b/ \b\b- \b\b\\ \b\b| \b\b/ \b\b- \b\b\\ \b\b| \b\b/ \b\b- \b\b\\ \b\b| \b\b/ \b\b- \b\b\\ \b\b| \b\b/ \b\b- \b\b\\ \b\b| \b\b/ \b\b- \b\b\\ \b\b| \b\b/ \b\b- \b\b\\ \b\b| \b\b/ \b\b- \b\b\\ \b\b| \b\b/ \b\b- \b\b\\ \b\b| \b\b/ \b\b- \b\b\\ \b\b| \b\b/ \b\b- \b\b\\ \b\b| \b\b/ \b\b- \b\b\\ \b\b| \b\b/ \b\b- \b\b\\ \b\b| \b\b/ \b\b- \b\b\\ \b\b| \b\b/ \b\b- \b\b\\ \b\b| \b\b/ \b\b- \b\b\\ \b\b| \b\b/ \b\b- \b\b\\ \b\b| \b\b/ \b\b- \b\b\\ \b\b| \b\b/ \b\b- \b\b\\ \b\b| \b\b/ \b\b- \b\b\\ \b\b| \b\b/ \b\b- \b\b\\ \b\b| \b\b/ \b\b- \b\b\\ \b\b| \b\b/ \b\b- \b\b\\ \b\b| \b\b/ \b\b- \b\b\\ \b\b| \b\b/ \b\b- \b\b\\ \b\b| \b\b/ \b\b- \b\b\\ \b\b| \b\b/ \b\b- \b\b\\ \b\b| \b\b/ \b\b- \b\b\\ \b\b| \b\b/ \b\b- \b\b\\ \b\b| \b\b/ \b\b- \b\b\\ \b\b| \b\b/ \b\b- \b\b\\ \b\b| \b\b/ \b\b- \b\b\\ \b\b| \b\b/ \b\b- \b\b\\ \b\b| \b\b/ \b\b- \b\b\\ \b\b| \b\b/ \b\b- \b\b\\ \b\b| \b\b/ \b\b- \b\b\\ \b\b| \b\b/ \b\b- \b\b\\ \b\b| \b\b/ \b\b- \b\b\\ \b\b| \b\b/ \b\b- \b\b\\ \b\b| \b\b/ \b\b- \b\b\\ \b\b| \b\b/ \b\b- \b\b\\ \b\b| \b\b/ \b\b- \b\b\\ \b\b| \b\b/ \b\b- \b\b\\ \b\b| \b\b/ \b\b- \b\b\\ \b\b| \b\b/ \b\b- \b\b\\ \b\b| \b\b/ \b\b- \b\b\\ \b\b| \b\b/ \b\b- \b\b\\ \b\b| \b\b/ \b\b- \b\b\\ \b\b| \b\b/ \b\b- \b\b\\ \b\b| \b\b/ \b\b- \b\b\\ \b\b| \b\b/ \b\b- \b\b\\ \b\b| \b\b/ \b\b- \b\b\\ \b\b| \b\b/ \b\b- \b\b\\ \b\b| \b\b/ \b\b- \b\b\\ \b\b| \b\b/ \b\b- \b\b\\ \b\b| \b\b/ \b\b- \b\b\\ \b\b| \b\b/ \b\b- \b\b\\ \b\b| \b\b/ \b\b- \b\b\\ \b\b| \b\b/ \b\b- \b\b\\ \b\b| \b\b/ \b\b- \b\b\\ \b\b| \b\b/ \b\b- \b\b\\ \b\b| \b\b/ \b\b- \b\b\\ \b\b| \b\b/ \b\b- \b\b\\ \b\b| \b\b/ \b\b- \b\b\\ \b\b| \b\b/ \b\b- \b\b\\ \b\b| \b\b/ \b\b- \b\b\\ \b\b| \b\b/ \b\b- \b\b\\ \b\b| \b\b/ \b\b- \b\b\\ \b\b| \b\b/ \b\b- \b\b\\ \b\b| \b\b/ \b\b- \b\b\\ \b\b| \b\b/ \b\b- \b\b\\ \b\b| \b\b/ \b\b- \b\b\\ \b\b| \b\b/ \b\b- \b\b\\ \b\b| \b\b/ \b\b- \b\b\\ \b\b| \b\b/ \b\b- \b\b\\ \b\b| \b\b/ \b\b- \b\b\\ \b\b| \b\b/ \b\b- \b\b\\ \b\b| \b\b/ \b\b- \b\b\\ \b\b| \b\b/ \b\b- \b\b\\ \b\b| \b\b/ \b\b- \b\b\\ \b\b| \b\b/ \b\b- \b\b\\ \b\b| \b\b/ \b\b- \b\b\\ \b\b| \b\b/ \b\b- \b\b\\ \b\b| \b\b/ \b\b- \b\b\\ \b\b| \b\b/ \b\b- \b\b\\ \b\b| \b\b/ \b\b- \b\b\\ \b\b| \b\b/ \b\b- \b\b\\ \b\b| \b\b/ \b\b- \b\b\\ \b\b| \b\b/ \b\b- \b\b\\ \b\b| \b\b/ \b\b- \b\b\\ \b\b| \b\b/ \b\b- \b\b\\ \b\b| \b\b/ \b\b- \b\b\\ \b\b| \b\b/ \b\b- \b\b\\ \b\b| \b\b/ \b\b- \b\b\\ \b\b| \b\b/ \b\b- \b\b\\ \b\b| \b\b/ \b\b- \b\b\\ \b\b| \b\b/ \b\b- \b\b\\ \b\b| \b\b/ \b\b- \b\b\\ \b\b| \b\b/ \b\b- \b\b\\ \b\b| \b\b/ \b\b- \b\b\\ \b\b| \b\b/ \b\b- \b\b\\ \b\b| \b\b/ \b\b- \b\b\\ \b\b| \b\b/ \b\b- \b\b\\ \b\b| \b\b/ \b\b- \b\b\\ \b\b| \b\b/ \b\b- \b\b\\ \b\b| \b\b/ \b\b- \b\b\\ \b\b| \b\b/ \b\b- \b\b\\ \b\b| \b\b/ \b\b- \b\b\\ \b\b| \b\b/ \b\b- \b\b\\ \b\b| \b\b/ \b\b- \b\b\\ \b\b| \b\b/ \b\b- \b\b\\ \b\b| \b\b/ \b\b- \b\b\\ \b\b| \b\b/ \b\b- \b\b\\ \b\b| \b\b/ \b\b- \b\b\\ \b\b| \b\b/ \b\b- \b\b\\ \b\b| \b\b/ \b\b- \b\b\\ \b\b| \b\b/ \b\b- \b\b\\ \b\b| \b\b/ \b\b- \b\b\\ \b\b| \b\b/ \b\b- \b\b\\ \b\b| \b\b/ \b\b- \b\b\\ \b\b| \b\b/ \b\b- \b\b\\ \b\b| \b\b/ \b\b- \b\b\\ \b\b| \b\b/ \b\b- \b\b\\ \b\b| \b\b/ \b\b- \b\b\\ \b\b| \b\b/ \b\b- \b\b\\ \b\b| \b\b/ \b\b- \b\b\\ \b\b| \b\b/ \b\b- \b\b\\ \b\b| \b\b/ \b\b- \b\b\\ \b\b| \b\b/ \b\b- \b\b\\ \b\b| \b\b/ \b\b- \b\b\\ \b\b| \b\b/ \b\b- \b\b\\ \b\b| \b\b/ \b\b- \b\b\\ \b\b| \b\b/ \b\b- \b\b\\ \b\b| \b\b/ \b\b- \b\b\\ \b\b| \b\b/ \b\b- \b\b\\ \b\b| \b\b/ \b\b- \b\b\\ \b\b| \b\b/ \b\b- \b\b\\ \b\b| \b\b/ \b\b- \b\b\\ \b\b| \b\b/ \b\b- \b\b\\ \b\b| \b\b/ \b\b- \b\b\\ \b\b| \b\b/ \b\b- \b\b\\ \b\b| \b\b/ \b\b- \b\b\\ \b\b| \b\b/ \b\b- \b\b\\ \b\b| \b\b/ \b\b- \b\b\\ \b\b| \b\b/ \b\b- \b\b\\ \b\b| \b\b/ \b\b- \b\b\\ \b\b| \b\b/ \b\b- \b\b\\ \b\b| \b\b/ \b\b- \b\b\\ \b\b| \b\b/ \b\b- \b\b\\ \b\b| \b\b/ \b\b- \b\b\\ \b\b| \b\b/ \b\b- \b\b\\ \b\b| \b\b/ \b\b- \b\b\\ \b\b| \b\b/ \b\b- \b\b\\ \b\b| \b\b/ \b\b- \b\b\\ \b\b| \b\b/ \b\b- \b\b\\ \b\b| \b\b/ \b\b- \b\b\\ \b\b| \b\b/ \b\b- \b\b\\ \b\b| \b\b/ \b\b- \b\b\\ \b\b| \b\b/ \b\b- \b\b\\ \b\b| \b\b/ \b\b- \b\b\\ \b\b| \b\b/ \b\b- \b\b\\ \b\b| \b\b/ \b\b- \b\b\\ \b\b| \b\b/ \b\b- \b\b\\ \b\b| \b\b/ \b\b- \b\b\\ \b\b| \b\b/ \b\b- \b\b\\ \b\b| \b\b/ \b\b- \b\b\\ \b\b| \b\b/ \b\b- \b\b\\ \b\b| \b\b/ \b\b- \b\b\\ \b\b| \b\b/ \b\b- \b\b\\ \b\b| \b\b/ \b\b- \b\b\\ \b\b| \b\b/ \b\b- \b\b\\ \b\b| \b\b/ \b\b- \b\b\\ \b\b| \b\b/ \b\b- \b\b\\ \b\b| \b\b/ \b\b- \b\b\\ \b\b| \b\b/ \b\b- \b\b\\ \b\b| \b\b/ \b\b- \b\b\\ \b\b| \b\b/ \b\b- \b\b\\ \b\b| \b\b/ \b\b- \b\b\\ \b\b| \b\b/ \b\b- \b\b\\ \b\b| \b\b/ \b\b- \b\b\\ \b\b| \b\b/ \b\b- \b\b\\ \b\b| \b\b/ \b\b- \b\b\\ \b\b| \b\b/ \b\b- \b\b\\ \b\b| \b\b/ \b\b- \b\b\\ \b\b| \b\b/ \b\b- \b\b\\ \b\b| \b\b/ \b\b- \b\b\\ \b\b| \b\b/ \b\b- \b\b\\ \b\b| \b\b/ \b\b- \b\b\\ \b\b| \b\b/ \b\b- \b\b\\ \b\b| \b\b/ \b\b- \b\b\\ \b\b| \b\b/ \b\b- \b\b\\ \b\b| \b\b/ \b\b- \b\b\\ \b\b| \b\b/ \b\b- \b\b\\ \b\b| \b\b/ \b\b- \b\b\\ \b\b| \b\b/ \b\b- \b\b\\ \b\b| \b\b/ \b\b- \b\b\\ \b\b| \b\b/ \b\b- \b\b\\ \b\b| \b\b/ \b\b- \b\b\\ \b\b| \b\b/ \b\b- \b\b\\ \b\b| \b\b/ \b\b- \b\b\\ \b\b| \b\b/ \b\b- \b\b\\ \b\b| \b\b/ \b\b- \b\b\\ \b\b| \b\b/ \b\b- \b\b\\ \b\b| \b\b/ \b\b- \b\b\\ \b\b| \b\b/ \b\b- \b\b\\ \b\b| \b\b/ \b\b- \b\b\\ \b\b| \b\b/ \b\b- \b\b\\ \b\b| \b\b/ \b\b- \b\b\\ \b\b| \b\b/ \b\b- \b\b\\ \b\b| \b\b/ \b\b- \b\b\\ \b\b| \b\b/ \b\b- \b\b\\ \b\b| \b\b/ \b\b- \b\b\\ \b\b| \b\b/ \b\b- \b\b\\ \b\b| \b\b/ \b\b- \b\b\\ \b\b| \b\b/ \b\b- \b\b\\ \b\b| \b\b/ \b\b- \b\b\\ \b\b| \b\b/ \b\b- \b\b\\ \b\b| \b\b/ \b\b- \b\b\\ \b\b| \b\b/ \b\b- \b\b\\ \b\b| \b\b/ \b\b- \b\b\\ \b\b| \b\b/ \b\b- \b\b\\ \b\b| \b\b/ \b\b- \b\b\\ \b\b| \b\b/ \b\b- \b\b\\ \b\b| \b\b/ \b\b- \b\b\\ \b\b| \b\b/ \b\b- \b\b\\ \b\b| \b\b/ \b\b- \b\b\\ \b\b| \b\b/ \b\b- \b\b\\ \b\b| \b\b/ \b\b- \b\b\\ \b\b| \b\b/ \b\b- \b\b\\ \b\b| \b\b/ \b\b- \b\b\\ \b\b| \b\b/ \b\b- \b\b\\ \b\b| \b\b/ \b\b- \b\b\\ \b\b| \b\b/ \b\b- \b\b\\ \b\b| \b\b/ \b\b- \b\b\\ \b\b| \b\b/ \b\b- \b\b\\ \b\b| \b\b/ \b\b- \b\b\\ \b\b| \b\b/ \b\b- \b\b\\ \b\b| \b\b/ \b\b- \b\b\\ \b\b| \b\b/ \b\b- \b\b\\ \b\b| \b\b/ \b\b- \b\b\\ \b\b| \b\b/ \b\b- \b\b\\ \b\b| \b\b/ \b\b- \b\b\\ \b\b| \b\b/ \b\b- \b\b\\ \b\b| \b\b/ \b\b- \b\b\\ \b\b| \b\b/ \b\b- \b\b\\ \b\b| \b\b/ \b\b- \b\b\\ \b\b| \b\b/ \b\b- \b\b\\ \b\b| \b\b/ \b\b- \b\b\\ \b\b| \b\b/ \b\b- \b\b\\ \b\b| \b\b/ \b\b- \b\b\\ \b\b| \b\b/ \b\b- \b\b\\ \b\b| \b\b/ \b\b- \b\b\\ \b\b| \b\b/ \b\b- \b\b\\ \b\b| \b\b/ \b\b- \b\b\\ \b\b| \b\b/ \b\b- \b\b\\ \b\b| \b\b/ \b\b- \b\b\\ \b\b| \b\b/ \b\b- \b\b\\ \b\b| \b\b/ \b\b- \b\b\\ \b\b| \b\b/ \b\b- \b\b\\ \b\b| \b\b/ \b\b- \b\b\\ \b\b| \b\b/ \b\b- \b\b\\ \b\b| \b\b/ \b\b- \b\b\\ \b\b| \b\b/ \b\b- \b\b\\ \b\b| \b\b/ \b\b- \b\b\\ \b\b| \b\b/ \b\b- \b\b\\ \b\b| \b\b/ \b\b- \b\b\\ \b\b| \b\b/ \b\b- \b\b\\ \b\b| \b\b/ \b\b- \b\b\\ \b\b| \b\b/ \b\b- \b\b\\ \b\b| \b\b/ \b\b- \b\b\\ \b\b| \b\b/ \b\b- \b\b\\ \b\b| \b\b/ \b\b- \b\b\\ \b\b| \b\b/ \b\b- \b\b\\ \b\b| \b\b/ \b\b- \b\b\\ \b\b| \b\b/ \b\b- \b\b\\ \b\b| \b\b/ \b\b- \b\b\\ \b\b| \b\b/ \b\b- \b\b\\ \b\b| \b\b/ \b\b- \b\b\\ \b\b| \b\b/ \b\b- \b\b\\ \b\b| \b\b/ \b\b- \b\b\\ \b\b| \b\b/ \b\b- \b\b\\ \b\b| \b\b/ \b\b- \b\b\\ \b\b| \b\b/ \b\b- \b\b\\ \b\b| \b\b/ \b\b- \b\b\\ \b\b| \b\b/ \b\b- \b\b\\ \b\b| \b\b/ \b\b- \b\b\\ \b\b| \b\b/ \b\b- \b\b\\ \b\b| \b\b/ \b\b- \b\b\\ \b\b| \b\b/ \b\b- \b\b\\ \b\b| \b\b/ \b\b- \b\b\\ \b\b| \b\b/ \b\b- \b\b\\ \b\b| \b\b/ \b\b- \b\b\\ \b\b| \b\b/ \b\b- \b\b\\ \b\b| \b\b/ \b\b- \b\b\\ \b\b| \b\b/ \b\b- \b\b\\ \b\b| \b\b/ \b\b- \b\b\\ \b\b| \b\b/ \b\b- \b\b\\ \b\b| \b\b/ \b\b- \b\b\\ \b\b| \b\b/ \b\b- \b\b\\ \b\b| \b\b/ \b\b- \b\b\\ \b\b| \b\b/ \b\b- \b\b\\ \b\b| \b\b/ \b\b- \b\b\\ \b\b| \b\b/ \b\b- \b\b\\ \b\b| \b\b/ \b\b- \b\b\\ \b\b| \b\b/ \b\b- \b\b\\ \b\b| \b\b/ \b\b- \b\b\\ \b\b| \b\b/ \b\b- \b\b\\ \b\b| \b\b/ \b\b- \b\b\\ \b\b| \b\b/ \b\b- \b\b\\ \b\b| \b\b/ \b\b- \b\b\\ \b\b| \b\b/ \b\b- \b\b\\ \b\b| \b\b/ \b\b- \b\b\\ \b\b| \b\b/ \b\b- \b\b\\ \b\b| \b\b/ \b\b- \b\b\\ \b\b| \b\b/ \b\b- \b\b\\ \b\b| \b\b/ \b\b- \b\b\\ \b\b| \b\b/ \b\b- \b\b\\ \b\b| \b\b/ \b\b- \b\b\\ \b\b| \b\b/ \b\b- \b\b\\ \b\b| \b\b/ \b\b- \b\b\\ \b\b| \b\b/ \b\b- \b\b\\ \b\b| \b\b/ \b\b- \b\b\\ \b\b| \b\b/ \b\b- \b\b\\ \b\b| \b\b/ \b\b- \b\b\\ \b\b| \b\b/ \b\b- \b\b\\ \b\b| \b\b/ \b\b- \b\b\\ \b\b| \b\b/ \b\b- \b\b\\ \b\b| \b\b/ \b\b- \b\b\\ \b\b| \b\b/ \b\b- \b\b\\ \b\b| \b\b/ \b\b- \b\b\\ \b\b| \b\b/ \b\b- \b\b\\ \b\b| \b\b/ \b\b- \b\b\\ \b\b| \b\b/ \b\b- \b\b\\ \b\b| \b\b/ \b\b- \b\b\\ \b\b| \b\b/ \b\b- \b\b\\ \b\b| \b\b/ \b\b- \b\b\\ \b\b| \b\b/ \b\b- \b\b\\ \b\b| \b\b/ \b\b- \b\b\\ \b\b| \b\b/ \b\b- \b\b\\ \b\b| \b\b/ \b\b- \b\b\\ \b\b| \b\b/ \b\b- \b\b\\ \b\b| \b\b/ \b\b- \b\b\\ \b\b| \b\b/ \b\b- \b\b\\ \b\b| \b\b/ \b\b- \b\b\\ \b\b| \b\b/ \b\b- \b\b\\ \b\b| \b\b/ \b\b- \b\b\\ \b\b| \b\b/ \b\b- \b\b\\ \b\b| \b\b/ \b\b- \b\b\\ \b\b| \b\b/ \b\b- \b\b\\ \b\b| \b\b/ \b\b- \b\b\\ \b\b| \b\b/ \b\b- \b\b\\ \b\b| \b\b/ \b\b- \b\b\\ \b\b| \b\b/ \b\b- \b\b\\ \b\b| \b\b/ \b\b- \b\b\\ \b\b| \b\b/ \b\b- \b\b\\ \b\b| \b\b/ \b\b- \b\b\\ \b\b| \b\b/ \b\b- \b\b\\ \b\b| \b\b/ \b\b- \b\b\\ \b\b| \b\b/ \b\b- \b\b\\ \b\b| \b\b/ \b\b- \b\b\\ \b\b| \b\b/ \b\b- \b\b\\ \b\b| \b\b/ \b\b- \b\b\\ \b\b| \b\b/ \b\b- \b\b\\ \b\b| \b\b/ \b\b- \b\b\\ \b\b| \b\b/ \b\b- \b\b\\ \b\b| \b\b/ \b\b- \b\b\\ \b\b| \b\b/ \b\b- \b\b\\ \b\b| \b\b/ \b\b- \b\b\\ \b\b| \b\b/ \b\b- \b\b\\ \b\b| \b\b/ \b\b- \b\b\\ \b\b| \b\b/ \b\b- \b\b\\ \b\b| \b\b/ \b\b- \b\b\\ \b\b| \b\b/ \b\b- \b\b\\ \b\b| \b\b/ \b\b- \b\b\\ \b\b| \b\b/ \b\b- \b\b\\ \b\b| \b\b/ \b\b- \b\b\\ \b\b| \b\b/ \b\b- \b\b\\ \b\b| \b\b/ \b\b- \b\b\\ \b\b| \b\b/ \b\b- \b\b\\ \b\b| \b\b/ \b\b- \b\b\\ \b\b| \b\b/ \b\b- \b\b\\ \b\b| \b\b/ \b\b- \b\b\\ \b\b| \b\b/ \b\b- \b\b\\ \b\b| \b\b/ \b\b- \b\b\\ \b\b| \b\b/ \b\b- \b\b\\ \b\b| \b\b/ \b\b- \b\b\\ \b\b| \b\b/ \b\b- \b\b\\ \b\b| \b\b/ \b\b- \b\b\\ \b\b| \b\b/ \b\b- \b\b\\ \b\b| \b\b/ \b\b- \b\b\\ \b\b| \b\b/ \b\b- \b\b\\ \b\b| \b\b/ \b\b- \b\b\\ \b\b| \b\b/ \b\b- \b\b\\ \b\b| \b\b/ \b\b- \b\b\\ \b\b| \b\b/ \b\b- \b\b\\ \b\b| \b\b/ \b\b- \b\b\\ \b\b| \b\b/ \b\b- \b\b\\ \b\b| \b\b/ \b\b- \b\b\\ \b\b| \b\b/ \b\b- \b\b\\ \b\b| \b\b/ \b\b- \b\b\\ \b\b| \b\b/ \b\b- \b\b\\ \b\b| \b\b/ \b\b- \b\b\\ \b\b| \b\b/ \b\b- \b\b\\ \b\b| \b\b/ \b\b- \b\b\\ \b\b| \b\b/ \b\b- \b\b\\ \b\b| \b\b/ \b\b- \b\b\\ \b\b| \b\b/ \b\b- \b\b\\ \b\b| \b\b/ \b\b- \b\b\\ \b\b| \b\b/ \b\b- \b\b\\ \b\b| \b\b/ \b\b- \b\b\\ \b\b| \b\b/ \b\b- \b\b\\ \b\b| \b\b/ \b\b- \b\b\\ \b\b| \b\b/ \b\b- \b\b\\ \b\b| \b\b/ \b\b- \b\b\\ \b\b| \b\b/ \b\b- \b\b\\ \b\b| \b\b/ \b\b- \b\b\\ \b\b| \b\b/ \b\b- \b\b\\ \b\b| \b\b/ \b\b- \b\b\\ \b\b| \b\b/ \b\b- \b\b\\ \b\b| \b\b/ \b\b- \b\b\\ \b\b| \b\b/ \b\b- \b\b\\ \b\b| \b\b/ \b\b- \b\b\\ \b\b| \b\b/ \b\b- \b\b\\ \b\b| \b\b/ \b\b- \b\b\\ \b\b| \b\b/ \b\b- \b\b\\ \b\b| \b\b/ \b\b- \b\b\\ \b\b| \b\b/ \b\b- \b\b\\ \b\b| \b\b/ \b\b- \b\b\\ \b\b| \b\b/ \b\b- \b\b\\ \b\b| \b\b/ \b\b- \b\b\\ \b\b| \b\b/ \b\b- \b\b\\ \b\b| \b\b/ \b\b- \b\b\\ \b\b| \b\b/ \b\b- \b\b\\ \b\b| \b\b/ \b\b- \b\b\\ \b\b| \b\b/ \b\b- \b\b\\ \b\b| \b\b/ \b\b- \b\b\\ \b\b| \b\b/ \b\b- \b\b\\ \b\b| \b\b/ \b\b- \b\b\\ \b\b| \b\b/ \b\b- \b\b\\ \b\b| \b\b/ \b\b- \b\b\\ \b\b| \b\b/ \b\b- \b\b\\ \b\b| \b\b/ \b\b- \b\b\\ \b\b| \b\b/ \b\b- \b\b\\ \b\b| \b\b/ \b\b- \b\b\\ \b\b| \b\b/ \b\b- \b\b\\ \b\b| \b\b/ \b\b- \b\b\\ \b\b| \b\b/ \b\b- \b\b\\ \b\b| \b\b/ \b\b- \b\b\\ \b\b| \b\b/ \b\b- \b\b\\ \b\b| \b\b/ \b\b- \b\b\\ \b\b| \b\b/ \b\b- \b\b\\ \b\b| \b\b/ \b\b- \b\b\\ \b\b| \b\b/ \b\b- \b\b\\ \b\b| \b\b/ \b\b- \b\b\\ \b\b| \b\b/ \b\b- \b\b\\ \b\b| \b\b/ \b\b- \b\b\\ \b\b| \b\b/ \b\b- \b\b\\ \b\b| \b\b/ \b\b- \b\b\\ \b\b| \b\b/ \b\b- \b\b\\ \b\b| \b\b/ \b\b- \b\b\\ \b\b| \b\b/ \b\b- \b\b\\ \b\b| \b\b/ \b\b- \b\b\\ \b\b| \b\b/ \b\b- \b\b\\ \b\b| \b\b/ \b\b- \b\b\\ \b\b| \b\b/ \b\b- \b\b\\ \b\b| \b\b/ \b\b- \b\b\\ \b\b| \b\b/ \b\b- \b\b\\ \b\b| \b\b/ \b\b- \b\b\\ \b\b| \b\b/ \b\b- \b\b\\ \b\b| \b\b/ \b\b- \b\b\\ \b\b| \b\b/ \b\b- \b\b\\ \b\b| \b\b/ \b\b- \b\b\\ \b\b| \b\b/ \b\b- \b\b\\ \b\b| \b\b/ \b\b- \b\b\\ \b\b| \b\b/ \b\b- \b\b\\ \b\b| \b\b/ \b\b- \b\b\\ \b\b| \b\b/ \b\b- \b\b\\ \b\b| \b\b/ \b\b- \b\b\\ \b\b| \b\b/ \b\b- \b\b\\ \b\b| \b\b/ \b\b- \b\b\\ \b\b| \b\b/ \b\b- \b\b\\ \b\b| \b\b/ \b\b- \b\b\\ \b\b| \b\b/ \b\b- \b\b\\ \b\b| \b\b/ \b\b- \b\b\\ \b\b| \b\b/ \b\b- \b\b\\ \b\b| \b\b/ \b\b- \b\b\\ \b\b| \b\b/ \b\b- \b\b\\ \b\b| \b\b/ \b\b- \b\b\\ \b\b| \b\b/ \b\b- \b\b\\ \b\b| \b\b/ \b\b- \b\b\\ \b\b| \b\b/ \b\b- \b\b\\ \b\b| \b\b/ \b\b- \b\b\\ \b\b| \b\b/ \b\b- \b\b\\ \b\b| \b\b/ \b\b- \b\b\\ \b\b| \b\b/ \b\b- \b\b\\ \b\b| \b\b/ \b\b- \b\b\\ \b\b| \b\b/ \b\b- \b\b\\ \b\b| \b\b/ \b\b- \b\b\\ \b\b| \b\b/ \b\b- \b\b\\ \b\b| \b\b/ \b\b- \b\b\\ \b\b| \b\b/ \b\b- \b\b\\ \b\b| \b\b/ \b\b- \b\b\\ \b\b| \b\b/ \b\b- \b\b\\ \b\b| \b\b/ \b\b- \b\b\\ \b\b| \b\b/ \b\b- \b\b\\ \b\b| \b\b/ \b\b- \b\b\\ \b\b| \b\b/ \b\b- \b\b\\ \b\b| \b\b/ \b\b- \b\b\\ \b\b| \b\b/ \b\b- \b\b\\ \b\b| \b\b/ \b\b- \b\b\\ \b\b| \b\b/ \b\b- \b\b\\ \b\b| \b\b/ \b\b- \b\b\\ \b\b| \b\b/ \b\b- \b\b\\ \b\b| \b\b/ \b\b- \b\b\\ \b\b| \b\b/ \b\b- \b\b\\ \b\b| \b\b/ \b\b- \b\b\\ \b\b| \b\b/ \b\b- \b\b\\ \b\b| \b\b/ \b\b- \b\b\\ \b\b| \b\b/ \b\b- \b\b\\ \b\b| \b\b/ \b\b- \b\b\\ \b\b| \b\b/ \b\b- \b\b\\ \b\b| \b\b/ \b\b- \b\b\\ \b\b| \b\b/ \b\b- \b\b\\ \b\b| \b\b/ \b\b- \b\b\\ \b\b| \b\b/ \b\b- \b\b\\ \b\b| \b\b/ \b\b- \b\b\\ \b\b| \b\b/ \b\b- \b\b\\ \b\b| \b\b/ \b\b- \b\b\\ \b\b| \b\b/ \b\b- \b\b\\ \b\b| \b\b/ \b\b- \b\b\\ \b\b| \b\b/ \b\b- \b\b\\ \b\b| \b\b/ \b\b- \b\b\\ \b\b| \b\b/ \b\b- \b\b\\ \b\b| \b\b/ \b\b- \b\b\\ \b\b| \b\b/ \b\b- \b\b\\ \b\b| \b\b/ \b\b- \b\b\\ \b\b| \b\b/ \b\b- \b\b\\ \b\b| \b\b/ \b\b- \b\b\\ \b\b| \b\b/ \b\b- \b\b\\ \b\b| \b\b/ \b\b- \b\b\\ \b\b| \b\b/ \b\b- \b\b\\ \b\b| \b\b/ \b\b- \b\b\\ \b\b| \b\b/ \b\b- \b\b\\ \b\b| \b\b/ \b\b- \b\b\\ \b\b| \b\b/ \b\b- \b\b\\ \b\b| \b\b/ \b\b- \b\b\\ \b\b| \b\b/ \b\b- \b\b\\ \b\b| \b\b/ \b\b- \b\b\\ \b\b| \b\b/ \b\b- \b\bdone\r\n",
      "\r\n",
      "## Package Plan ##\r\n",
      "\r\n",
      "  environment location: /opt/conda\r\n",
      "\r\n",
      "  added / updated specs:\r\n",
      "    - faiss-gpu\r\n",
      "\r\n",
      "\r\n",
      "The following packages will be downloaded:\r\n",
      "\r\n",
      "    package                    |            build\r\n",
      "    ---------------------------|-----------------\r\n",
      "    conda-4.13.0               |   py37h89c1867_2         986 KB  conda-forge\r\n",
      "    distributed-2021.9.1       |   py37h06a4308_0         976 KB\r\n",
      "    faiss-1.7.0                |py37cuda110hf8a59d6_2_cuda         994 KB  conda-forge\r\n",
      "    faiss-gpu-1.7.0            |       h500d9d2_8          28 KB  rapidsai\r\n",
      "    ------------------------------------------------------------\r\n",
      "                                           Total:         2.9 MB\r\n",
      "\r\n",
      "The following NEW packages will be INSTALLED:\r\n",
      "\r\n",
      "  faiss              conda-forge/linux-64::faiss-1.7.0-py37cuda110hf8a59d6_2_cuda\r\n",
      "  faiss-gpu          rapidsai/linux-64::faiss-gpu-1.7.0-h500d9d2_8\r\n",
      "\r\n",
      "The following packages will be UPDATED:\r\n",
      "\r\n",
      "  conda                               4.13.0-py37h89c1867_1 --> 4.13.0-py37h89c1867_2\r\n",
      "\r\n",
      "The following packages will be SUPERSEDED by a higher-priority channel:\r\n",
      "\r\n",
      "  distributed        conda-forge::distributed-2021.9.1-py3~ --> pkgs/main::distributed-2021.9.1-py37h06a4308_0\r\n",
      "\r\n",
      "\r\n",
      "\r\n",
      "Downloading and Extracting Packages\r\n",
      "distributed-2021.9.1 | 976 KB    | ##################################### | 100% \r\n",
      "faiss-gpu-1.7.0      | 28 KB     | ##################################### | 100% \r\n",
      "faiss-1.7.0          | 994 KB    | ##################################### | 100% \r\n",
      "conda-4.13.0         | 986 KB    | ##################################### | 100% \r\n",
      "Preparing transaction: | \b\bdone\r\n",
      "Verifying transaction: - \b\b\\ \b\bdone\r\n",
      "Executing transaction: / \b\b- \b\b\\ \b\b| \b\b/ \b\b- \b\b\\ \b\b| \b\b/ \b\b- \b\b\\ \b\b| \b\b/ \b\b- \b\b\\ \b\b| \b\b/ \b\b- \b\b\\ \b\b| \b\b/ \b\b- \b\b\\ \b\b| \b\b/ \b\b- \b\b\\ \b\b| \b\b/ \b\b- \b\b\\ \b\b| \b\b/ \b\b- \b\b\\ \b\b| \b\b/ \b\b- \b\b\\ \b\b| \b\b/ \b\b- \b\b\\ \b\bdone\r\n",
      "CPU times: user 25.5 s, sys: 3.98 s, total: 29.5 s\n",
      "Wall time: 24min 57s\n"
     ]
    }
   ],
   "source": [
    "%%time\n",
    "! conda install -c pytorch/label/nightly -y faiss-gpu"
   ]
  },
  {
   "cell_type": "code",
   "execution_count": 2,
   "id": "7f26bc55",
   "metadata": {
    "execution": {
     "iopub.execute_input": "2022-08-18T12:17:25.130456Z",
     "iopub.status.busy": "2022-08-18T12:17:25.130085Z",
     "iopub.status.idle": "2022-08-18T12:17:28.306855Z",
     "shell.execute_reply": "2022-08-18T12:17:28.304820Z"
    },
    "papermill": {
     "duration": 3.809411,
     "end_time": "2022-08-18T12:17:28.309150",
     "exception": false,
     "start_time": "2022-08-18T12:17:24.499739",
     "status": "completed"
    },
    "tags": []
   },
   "outputs": [
    {
     "name": "stdout",
     "output_type": "stream",
     "text": [
      "Faiss version: 1.7.0\n",
      "GPUs: 1\n"
     ]
    }
   ],
   "source": [
    "import numpy as np \n",
    "import pandas as pd\n",
    "import os\n",
    "import time\n",
    "import pprint\n",
    "\n",
    "import plotly.express as px\n",
    "import plotly.graph_objects as go\n",
    "from plotly.subplots import make_subplots\n",
    "\n",
    "import faiss\n",
    "from faiss.contrib import datasets\n",
    "\n",
    "print(f\"Faiss version: {faiss.__version__}\")\n",
    "print(f\"GPUs: {faiss.get_num_gpus()}\")"
   ]
  },
  {
   "cell_type": "markdown",
   "id": "d9611dec",
   "metadata": {
    "papermill": {
     "duration": 0.584842,
     "end_time": "2022-08-18T12:17:29.531537",
     "exception": false,
     "start_time": "2022-08-18T12:17:28.946695",
     "status": "completed"
    },
    "tags": []
   },
   "source": [
    "# Section 1: Exploring HNSW"
   ]
  },
  {
   "cell_type": "code",
   "execution_count": 3,
   "id": "22a3ff1e",
   "metadata": {
    "execution": {
     "iopub.execute_input": "2022-08-18T12:17:30.741930Z",
     "iopub.status.busy": "2022-08-18T12:17:30.741545Z",
     "iopub.status.idle": "2022-08-18T12:17:30.755866Z",
     "shell.execute_reply": "2022-08-18T12:17:30.754379Z"
    },
    "papermill": {
     "duration": 0.645667,
     "end_time": "2022-08-18T12:17:30.757976",
     "exception": false,
     "start_time": "2022-08-18T12:17:30.112309",
     "status": "completed"
    },
    "tags": []
   },
   "outputs": [
    {
     "name": "stdout",
     "output_type": "stream",
     "text": [
      "Number of records added into index : 10\n",
      "Default value for efConstruction   : 40\n",
      "Default value for efSearch         : 16\n"
     ]
    }
   ],
   "source": [
    "d = 8              # Dimension (length) of vectors.\n",
    "M = 4              # Number of connections that would be made for each new vertex during HNSW construction.\n",
    "nvector = 10       # Number of database vectors.\n",
    "\n",
    "ds = datasets.SyntheticDataset(d, 0, nvector, 0)\n",
    "xb = ds.get_database()\n",
    "\n",
    "index = faiss.IndexHNSWFlat(d, M)\n",
    "index.add(xb)\n",
    "\n",
    "print(f\"Number of records added into index : {index.ntotal}\")\n",
    "print(f\"Default value for efConstruction   : {index.hnsw.efConstruction}\")\n",
    "print(f\"Default value for efSearch         : {index.hnsw.efSearch}\")"
   ]
  },
  {
   "cell_type": "code",
   "execution_count": 4,
   "id": "3762d2c1",
   "metadata": {
    "execution": {
     "iopub.execute_input": "2022-08-18T12:17:31.999613Z",
     "iopub.status.busy": "2022-08-18T12:17:31.999249Z",
     "iopub.status.idle": "2022-08-18T12:17:32.006344Z",
     "shell.execute_reply": "2022-08-18T12:17:32.005008Z"
    },
    "papermill": {
     "duration": 0.636331,
     "end_time": "2022-08-18T12:17:32.008471",
     "exception": false,
     "start_time": "2022-08-18T12:17:31.372140",
     "status": "completed"
    },
    "tags": []
   },
   "outputs": [
    {
     "name": "stdout",
     "output_type": "stream",
     "text": [
      "Index size: 1142.000 bytes. \n",
      "\n"
     ]
    }
   ],
   "source": [
    "faiss.write_index(index, \"test.index\")       # Write index to file    \n",
    "file_size = os.path.getsize(\"test.index\")    # Get file size    \n",
    "os.remove(\"test.index\")                      # Delete saved index\n",
    "print(f\"Index size: %.3f bytes. \\n\" % file_size)"
   ]
  },
  {
   "cell_type": "code",
   "execution_count": 5,
   "id": "082986c3",
   "metadata": {
    "execution": {
     "iopub.execute_input": "2022-08-18T12:17:33.453367Z",
     "iopub.status.busy": "2022-08-18T12:17:33.452958Z",
     "iopub.status.idle": "2022-08-18T12:17:33.462610Z",
     "shell.execute_reply": "2022-08-18T12:17:33.461600Z"
    },
    "papermill": {
     "duration": 0.876269,
     "end_time": "2022-08-18T12:17:33.464917",
     "exception": false,
     "start_time": "2022-08-18T12:17:32.588648",
     "status": "completed"
    },
    "tags": []
   },
   "outputs": [
    {
     "name": "stdout",
     "output_type": "stream",
     "text": [
      "\n",
      "=== Vector at index 0 ========================================\n",
      "[-0.77021146  0.6766764  -0.98828435 -0.5946992   0.59806705 -0.07889447\n",
      "  0.30440184  0.8733962 ]\n",
      "\n",
      "=== Vector at index 1 ========================================\n",
      "[-0.86879206 -0.99689794 -0.95869625 -0.4085238   0.03261118 -0.16727902\n",
      " -0.46708187  0.5575034 ]\n",
      "\n",
      "=== Vector at index 2 ========================================\n",
      "[ 0.03351549 -0.9945     -0.16137859 -0.137286    0.5340788   0.00778999\n",
      "  0.99198925 -0.3297846 ]\n",
      "\n",
      "=== Vector at index 3 ========================================\n",
      "[ 0.7873657  -0.18297368  0.91163546 -0.97056043  0.220104   -0.23087963\n",
      "  0.38412806  0.8158843 ]\n",
      "\n",
      "=== Vector at index 4 ========================================\n",
      "[-0.14258705  0.5982093   0.6935446  -0.32969132 -0.5689549  -0.06604872\n",
      "  0.9895372   0.94295764]\n",
      "\n",
      "=== Vector at index 5 ========================================\n",
      "[ 0.12434206  0.8910519  -0.9787737  -0.73430943  0.1108873  -0.00713387\n",
      "  0.0364638   0.08474799]\n",
      "\n",
      "=== Vector at index 6 ========================================\n",
      "[-0.5736761   0.4103292   0.9911055   0.47089875 -0.92912364 -0.17750227\n",
      " -0.42922872  0.33162764]\n",
      "\n",
      "=== Vector at index 7 ========================================\n",
      "[-0.04735673 -0.9384091  -0.16030562 -0.08618837 -0.83368516  0.09884957\n",
      "  0.8705721   0.7892136 ]\n",
      "\n",
      "=== Vector at index 8 ========================================\n",
      "[ 0.77821916  0.94104356 -0.9964823   0.29739013  0.62030303  0.34507278\n",
      "  0.8658368   0.9786864 ]\n",
      "\n",
      "=== Vector at index 9 ========================================\n",
      "[ 0.56988734 -0.50927377 -0.82829607 -0.38108215 -0.3271086   0.08033864\n",
      "  0.87360823  0.42268318]\n"
     ]
    }
   ],
   "source": [
    "# To get the original vectors.\n",
    "\n",
    "for i in range(nvector):\n",
    "    print(f\"\\n=== Vector at index {i} ========================================\")\n",
    "    print(index.reconstruct(i))"
   ]
  },
  {
   "cell_type": "code",
   "execution_count": 6,
   "id": "6595f3ba",
   "metadata": {
    "execution": {
     "iopub.execute_input": "2022-08-18T12:17:34.722476Z",
     "iopub.status.busy": "2022-08-18T12:17:34.721655Z",
     "iopub.status.idle": "2022-08-18T12:17:34.728801Z",
     "shell.execute_reply": "2022-08-18T12:17:34.727822Z"
    },
    "papermill": {
     "duration": 0.643823,
     "end_time": "2022-08-18T12:17:34.732674",
     "exception": false,
     "start_time": "2022-08-18T12:17:34.088851",
     "status": "completed"
    },
    "tags": []
   },
   "outputs": [
    {
     "name": "stdout",
     "output_type": "stream",
     "text": [
      "In this example, the HNSW entry point is vertex 1\n",
      "The bottom level is : level 0\n",
      "The top level is    : level 1\n"
     ]
    }
   ],
   "source": [
    "print(f\"In this example, the HNSW entry point is vertex {index.hnsw.entry_point}\")\n",
    "print(\"The bottom level is : level 0\")\n",
    "print(\"The top level is    : level\", index.hnsw.max_level)"
   ]
  },
  {
   "cell_type": "code",
   "execution_count": 7,
   "id": "84fe365f",
   "metadata": {
    "execution": {
     "iopub.execute_input": "2022-08-18T12:17:35.941871Z",
     "iopub.status.busy": "2022-08-18T12:17:35.941492Z",
     "iopub.status.idle": "2022-08-18T12:17:35.947285Z",
     "shell.execute_reply": "2022-08-18T12:17:35.946328Z"
    },
    "papermill": {
     "duration": 0.636824,
     "end_time": "2022-08-18T12:17:35.949561",
     "exception": false,
     "start_time": "2022-08-18T12:17:35.312737",
     "status": "completed"
    },
    "tags": []
   },
   "outputs": [
    {
     "name": "stdout",
     "output_type": "stream",
     "text": [
      "The number of levels for each vertex:\n",
      " [2, 2, 1, 1, 1, 1, 1, 2, 1, 1]\n"
     ]
    }
   ],
   "source": [
    "levels = faiss.vector_to_array(index.hnsw.levels)  \n",
    "print(\"The number of levels for each vertex:\\n\", levels.tolist())"
   ]
  },
  {
   "cell_type": "code",
   "execution_count": 8,
   "id": "43701463",
   "metadata": {
    "execution": {
     "iopub.execute_input": "2022-08-18T12:17:37.153376Z",
     "iopub.status.busy": "2022-08-18T12:17:37.152967Z",
     "iopub.status.idle": "2022-08-18T12:17:37.163015Z",
     "shell.execute_reply": "2022-08-18T12:17:37.161902Z"
    },
    "papermill": {
     "duration": 0.64263,
     "end_time": "2022-08-18T12:17:37.167063",
     "exception": false,
     "start_time": "2022-08-18T12:17:36.524433",
     "status": "completed"
    },
    "tags": []
   },
   "outputs": [
    {
     "name": "stdout",
     "output_type": "stream",
     "text": [
      "The number of levels and the corresponding vertex count:\n",
      "array([[1, 7],\n",
      "       [2, 3]])\n"
     ]
    }
   ],
   "source": [
    "# Showing the vertex count corresponding to the different number of levels (i.e. distribution on number of levels).\n",
    "# i.e. For each number of levels, the corresponding vertex count is shown.\n",
    "print(\"The number of levels and the corresponding vertex count:\")\n",
    "unique, counts = np.unique(levels, return_counts=True)\n",
    "pprint.pprint(np.column_stack((unique, counts)))"
   ]
  },
  {
   "cell_type": "code",
   "execution_count": 9,
   "id": "24a07007",
   "metadata": {
    "execution": {
     "iopub.execute_input": "2022-08-18T12:17:38.374016Z",
     "iopub.status.busy": "2022-08-18T12:17:38.373635Z",
     "iopub.status.idle": "2022-08-18T12:17:38.379667Z",
     "shell.execute_reply": "2022-08-18T12:17:38.378722Z"
    },
    "papermill": {
     "duration": 0.636068,
     "end_time": "2022-08-18T12:17:38.382058",
     "exception": false,
     "start_time": "2022-08-18T12:17:37.745990",
     "status": "completed"
    },
    "tags": []
   },
   "outputs": [
    {
     "name": "stdout",
     "output_type": "stream",
     "text": [
      "List of vertices with 1 levels: (array([2, 3, 4, 5, 6, 8, 9]),) \n",
      "\n",
      "List of vertices with 2 levels: (array([0, 1, 7]),) \n",
      "\n"
     ]
    }
   ],
   "source": [
    "for i in range(1, levels.max()+1):\n",
    "    vertices = np.where(levels == i)\n",
    "    print(f\"List of vertices with {i} levels: {vertices} \\n\")   "
   ]
  },
  {
   "cell_type": "markdown",
   "id": "2d5536ae",
   "metadata": {
    "papermill": {
     "duration": 0.629497,
     "end_time": "2022-08-18T12:17:39.584664",
     "exception": false,
     "start_time": "2022-08-18T12:17:38.955167",
     "status": "completed"
    },
    "tags": []
   },
   "source": [
    "## Getting the link structure for a vertex"
   ]
  },
  {
   "cell_type": "code",
   "execution_count": 10,
   "id": "5cc33331",
   "metadata": {
    "execution": {
     "iopub.execute_input": "2022-08-18T12:17:40.794404Z",
     "iopub.status.busy": "2022-08-18T12:17:40.794046Z",
     "iopub.status.idle": "2022-08-18T12:17:40.801813Z",
     "shell.execute_reply": "2022-08-18T12:17:40.800884Z"
    },
    "papermill": {
     "duration": 0.64159,
     "end_time": "2022-08-18T12:17:40.803995",
     "exception": false,
     "start_time": "2022-08-18T12:17:40.162405",
     "status": "completed"
    },
    "tags": []
   },
   "outputs": [],
   "source": [
    "def vector_to_array(v): \n",
    "    \"\"\" make a vector visible as a numpy array (without copying data)\"\"\"\n",
    "    return faiss.rev_swig_ptr(v.data(), v.size())\n",
    "\n",
    "def get_hnsw_links(hnsw, vno): \n",
    "    \"\"\" get link structure for vertex vno \"\"\"\n",
    "    \n",
    "    # make arrays visible from Python\n",
    "    levels = vector_to_array(hnsw.levels)\n",
    "    cum_nneighbor_per_level = vector_to_array(hnsw.cum_nneighbor_per_level)\n",
    "    offsets = vector_to_array(hnsw.offsets)\n",
    "    neighbors = vector_to_array(hnsw.neighbors)\n",
    "    \n",
    "    # all neighbors of vno\n",
    "    neigh_vno = neighbors[offsets[vno] : offsets[vno + 1]]\n",
    "    \n",
    "    # break down per level \n",
    "    nlevel = levels[vno]\n",
    "    return [\n",
    "        neigh_vno[cum_nneighbor_per_level[l] : cum_nneighbor_per_level[l + 1]]\n",
    "        for l in range(nlevel)\n",
    "    ]                 "
   ]
  },
  {
   "cell_type": "code",
   "execution_count": 11,
   "id": "3cb4b572",
   "metadata": {
    "execution": {
     "iopub.execute_input": "2022-08-18T12:17:42.100381Z",
     "iopub.status.busy": "2022-08-18T12:17:42.100013Z",
     "iopub.status.idle": "2022-08-18T12:17:42.109800Z",
     "shell.execute_reply": "2022-08-18T12:17:42.108899Z"
    },
    "papermill": {
     "duration": 0.713393,
     "end_time": "2022-08-18T12:17:42.113021",
     "exception": false,
     "start_time": "2022-08-18T12:17:41.399628",
     "status": "completed"
    },
    "tags": []
   },
   "outputs": [
    {
     "name": "stdout",
     "output_type": "stream",
     "text": [
      "neighbors:\n"
     ]
    },
    {
     "data": {
      "text/plain": [
       "array([ 1,  7,  2,  6,  5,  8,  3,  4,  1,  7, -1, -1,  0,  7,  2,  6,  5,\n",
       "        8,  3, -1,  0,  7, -1, -1,  0,  1,  7,  6,  5,  8,  3,  9,  9,  4,\n",
       "       -1, -1, -1, -1, -1, -1,  0,  6,  7,  3, -1, -1, -1, -1,  6,  7,  2,\n",
       "        1,  0,  8,  3,  9,  2,  0,  1,  7,  5,  8,  3,  4,  1,  4,  9, -1,\n",
       "       -1, -1, -1, -1,  0,  1, -1, -1,  6,  1,  7,  2,  0,  5,  3, -1,  3,\n",
       "        5,  2,  7, -1, -1, -1, -1], dtype=int32)"
      ]
     },
     "execution_count": 11,
     "metadata": {},
     "output_type": "execute_result"
    }
   ],
   "source": [
    "# neighbors[offsets[i]:offsets[i+1]] is the list of neighbors of vector i for all levels. \n",
    "# This is where all storage goes.\n",
    "print(\"neighbors:\")\n",
    "faiss.vector_to_array(index.hnsw.neighbors)"
   ]
  },
  {
   "cell_type": "code",
   "execution_count": 12,
   "id": "504b4de1",
   "metadata": {
    "execution": {
     "iopub.execute_input": "2022-08-18T12:17:43.321162Z",
     "iopub.status.busy": "2022-08-18T12:17:43.320183Z",
     "iopub.status.idle": "2022-08-18T12:17:43.329877Z",
     "shell.execute_reply": "2022-08-18T12:17:43.328898Z"
    },
    "papermill": {
     "duration": 0.64078,
     "end_time": "2022-08-18T12:17:43.331900",
     "exception": false,
     "start_time": "2022-08-18T12:17:42.691120",
     "status": "completed"
    },
    "tags": []
   },
   "outputs": [
    {
     "name": "stdout",
     "output_type": "stream",
     "text": [
      "offsets:\n"
     ]
    },
    {
     "data": {
      "text/plain": [
       "array([ 0, 12, 24, 32, 40, 48, 56, 64, 76, 84, 92], dtype=uint64)"
      ]
     },
     "execution_count": 12,
     "metadata": {},
     "output_type": "execute_result"
    }
   ],
   "source": [
    "# offsets[i] is the offset in the neighbors array where vector i is stored.\n",
    "# Size of offsets is (ntotal + 1).\n",
    "print(\"offsets:\")\n",
    "faiss.vector_to_array(index.hnsw.offsets)"
   ]
  },
  {
   "cell_type": "code",
   "execution_count": 13,
   "id": "cac3efdc",
   "metadata": {
    "execution": {
     "iopub.execute_input": "2022-08-18T12:17:44.800013Z",
     "iopub.status.busy": "2022-08-18T12:17:44.799618Z",
     "iopub.status.idle": "2022-08-18T12:17:44.807299Z",
     "shell.execute_reply": "2022-08-18T12:17:44.806065Z"
    },
    "papermill": {
     "duration": 0.886748,
     "end_time": "2022-08-18T12:17:44.810011",
     "exception": false,
     "start_time": "2022-08-18T12:17:43.923263",
     "status": "completed"
    },
    "tags": []
   },
   "outputs": [
    {
     "name": "stdout",
     "output_type": "stream",
     "text": [
      "cum_nneighbor_per_level:\n"
     ]
    },
    {
     "data": {
      "text/plain": [
       "array([ 0,  8, 12, 16, 20, 24, 28, 32, 36, 40, 44, 48, 52, 56, 60, 64],\n",
       "      dtype=int32)"
      ]
     },
     "execution_count": 13,
     "metadata": {},
     "output_type": "execute_result"
    }
   ],
   "source": [
    "# Number of neighbors stored per layer (cumulative), should not be changed after first add.\n",
    "print(\"cum_nneighbor_per_level:\")\n",
    "faiss.vector_to_array(index.hnsw.cum_nneighbor_per_level) "
   ]
  },
  {
   "cell_type": "code",
   "execution_count": 14,
   "id": "16a428e1",
   "metadata": {
    "execution": {
     "iopub.execute_input": "2022-08-18T12:17:46.032942Z",
     "iopub.status.busy": "2022-08-18T12:17:46.032555Z",
     "iopub.status.idle": "2022-08-18T12:17:46.041991Z",
     "shell.execute_reply": "2022-08-18T12:17:46.040673Z"
    },
    "papermill": {
     "duration": 0.651604,
     "end_time": "2022-08-18T12:17:46.044462",
     "exception": false,
     "start_time": "2022-08-18T12:17:45.392858",
     "status": "completed"
    },
    "tags": []
   },
   "outputs": [
    {
     "name": "stdout",
     "output_type": "stream",
     "text": [
      "\n",
      "=== Connections for vertex 0 ========================================\n",
      "[array([1, 7, 2, 6, 5, 8, 3, 4], dtype=int32),\n",
      " array([ 1,  7, -1, -1], dtype=int32)]\n",
      "\n",
      "=== Connections for vertex 1 ========================================\n",
      "[array([ 0,  7,  2,  6,  5,  8,  3, -1], dtype=int32),\n",
      " array([ 0,  7, -1, -1], dtype=int32)]\n",
      "\n",
      "=== Connections for vertex 2 ========================================\n",
      "[array([0, 1, 7, 6, 5, 8, 3, 9], dtype=int32)]\n",
      "\n",
      "=== Connections for vertex 3 ========================================\n",
      "[array([ 9,  4, -1, -1, -1, -1, -1, -1], dtype=int32)]\n",
      "\n",
      "=== Connections for vertex 4 ========================================\n",
      "[array([ 0,  6,  7,  3, -1, -1, -1, -1], dtype=int32)]\n",
      "\n",
      "=== Connections for vertex 5 ========================================\n",
      "[array([6, 7, 2, 1, 0, 8, 3, 9], dtype=int32)]\n",
      "\n",
      "=== Connections for vertex 6 ========================================\n",
      "[array([2, 0, 1, 7, 5, 8, 3, 4], dtype=int32)]\n",
      "\n",
      "=== Connections for vertex 7 ========================================\n",
      "[array([ 1,  4,  9, -1, -1, -1, -1, -1], dtype=int32),\n",
      " array([ 0,  1, -1, -1], dtype=int32)]\n",
      "\n",
      "=== Connections for vertex 8 ========================================\n",
      "[array([ 6,  1,  7,  2,  0,  5,  3, -1], dtype=int32)]\n",
      "\n",
      "=== Connections for vertex 9 ========================================\n",
      "[array([ 3,  5,  2,  7, -1, -1, -1, -1], dtype=int32)]\n"
     ]
    }
   ],
   "source": [
    "for i in range(nvector):\n",
    "    # get links for that vector at particular index\n",
    "    links = get_hnsw_links(index.hnsw, i)\n",
    "    print(\"\\n=== Connections for vertex\", i, \"========================================\")\n",
    "    pprint.pprint(links)"
   ]
  },
  {
   "cell_type": "code",
   "execution_count": 15,
   "id": "95139e88",
   "metadata": {
    "execution": {
     "iopub.execute_input": "2022-08-18T12:17:47.268329Z",
     "iopub.status.busy": "2022-08-18T12:17:47.267935Z",
     "iopub.status.idle": "2022-08-18T12:17:47.272445Z",
     "shell.execute_reply": "2022-08-18T12:17:47.271511Z"
    },
    "papermill": {
     "duration": 0.644904,
     "end_time": "2022-08-18T12:17:47.274375",
     "exception": false,
     "start_time": "2022-08-18T12:17:46.629471",
     "status": "completed"
    },
    "tags": []
   },
   "outputs": [],
   "source": [
    "del index"
   ]
  },
  {
   "cell_type": "markdown",
   "id": "021c1e16",
   "metadata": {
    "papermill": {
     "duration": 0.631249,
     "end_time": "2022-08-18T12:17:48.493277",
     "exception": false,
     "start_time": "2022-08-18T12:17:47.862028",
     "status": "completed"
    },
    "tags": []
   },
   "source": [
    "# Section 2: Distribution of ℓ from a random dataset of 500,000 vectors"
   ]
  },
  {
   "cell_type": "code",
   "execution_count": 16,
   "id": "7d9bade0",
   "metadata": {
    "execution": {
     "iopub.execute_input": "2022-08-18T12:17:49.662569Z",
     "iopub.status.busy": "2022-08-18T12:17:49.661851Z",
     "iopub.status.idle": "2022-08-18T12:17:50.308587Z",
     "shell.execute_reply": "2022-08-18T12:17:50.307520Z"
    },
    "papermill": {
     "duration": 1.237932,
     "end_time": "2022-08-18T12:17:50.311062",
     "exception": false,
     "start_time": "2022-08-18T12:17:49.073130",
     "status": "completed"
    },
    "tags": []
   },
   "outputs": [],
   "source": [
    "d = 128              # Dimension (length) of vectors.\n",
    "M = 32               # Number of connections that would be made for each new vertex during HNSW construction.\n",
    "\n",
    "efConstruction = 32  # The depth of exploration at add time (Number of entry points used on each layer during construction).\n",
    "efSearch = 32        # The depth of exploration during vector search (Number of entry points (neighbors) we use on each layer during search).\n",
    "\n",
    "np.random.seed(1234)             \n",
    "xb = np.random.random((500000, d)).astype('float32')\n",
    "\n",
    "index = faiss.IndexHNSWFlat(d, M)\n",
    "index.hnsw.efConstruction = efConstruction \n",
    "index.hnsw.efSearch = efSearch"
   ]
  },
  {
   "cell_type": "code",
   "execution_count": 17,
   "id": "01fdbc16",
   "metadata": {
    "execution": {
     "iopub.execute_input": "2022-08-18T12:17:51.534635Z",
     "iopub.status.busy": "2022-08-18T12:17:51.534268Z",
     "iopub.status.idle": "2022-08-18T12:30:02.696978Z",
     "shell.execute_reply": "2022-08-18T12:30:02.695854Z"
    },
    "papermill": {
     "duration": 732.380679,
     "end_time": "2022-08-18T12:30:03.326114",
     "exception": false,
     "start_time": "2022-08-18T12:17:50.945435",
     "status": "completed"
    },
    "tags": []
   },
   "outputs": [
    {
     "name": "stdout",
     "output_type": "stream",
     "text": [
      "CPU times: user 23min 8s, sys: 1.53 s, total: 23min 10s\n",
      "Wall time: 12min 11s\n"
     ]
    }
   ],
   "source": [
    "%%time\n",
    "index.add(xb)"
   ]
  },
  {
   "cell_type": "code",
   "execution_count": 18,
   "id": "d788be35",
   "metadata": {
    "execution": {
     "iopub.execute_input": "2022-08-18T12:30:04.530337Z",
     "iopub.status.busy": "2022-08-18T12:30:04.529745Z",
     "iopub.status.idle": "2022-08-18T12:30:04.541662Z",
     "shell.execute_reply": "2022-08-18T12:30:04.540417Z"
    },
    "papermill": {
     "duration": 0.639631,
     "end_time": "2022-08-18T12:30:04.543920",
     "exception": false,
     "start_time": "2022-08-18T12:30:03.904289",
     "status": "completed"
    },
    "tags": []
   },
   "outputs": [
    {
     "data": {
      "text/plain": [
       "array([     0, 484359,  15162,    461,     17,      1])"
      ]
     },
     "execution_count": 18,
     "metadata": {},
     "output_type": "execute_result"
    }
   ],
   "source": [
    "levels = faiss.vector_to_array(index.hnsw.levels)  #level of each vector (base level = 1), size = ntotal\n",
    "np.bincount(levels)"
   ]
  },
  {
   "cell_type": "code",
   "execution_count": 19,
   "id": "052bbe12",
   "metadata": {
    "execution": {
     "iopub.execute_input": "2022-08-18T12:30:05.744243Z",
     "iopub.status.busy": "2022-08-18T12:30:05.743882Z",
     "iopub.status.idle": "2022-08-18T12:30:05.757584Z",
     "shell.execute_reply": "2022-08-18T12:30:05.756629Z"
    },
    "papermill": {
     "duration": 0.640481,
     "end_time": "2022-08-18T12:30:05.759612",
     "exception": false,
     "start_time": "2022-08-18T12:30:05.119131",
     "status": "completed"
    },
    "tags": []
   },
   "outputs": [
    {
     "data": {
      "text/plain": [
       "array([[     1, 484359],\n",
       "       [     2,  15162],\n",
       "       [     3,    461],\n",
       "       [     4,     17],\n",
       "       [     5,      1]])"
      ]
     },
     "execution_count": 19,
     "metadata": {},
     "output_type": "execute_result"
    }
   ],
   "source": [
    "unique, counts = np.unique(levels, return_counts=True)\n",
    "np.column_stack((unique, counts))"
   ]
  },
  {
   "cell_type": "code",
   "execution_count": 20,
   "id": "e5940ce2",
   "metadata": {
    "execution": {
     "iopub.execute_input": "2022-08-18T12:30:06.968390Z",
     "iopub.status.busy": "2022-08-18T12:30:06.967771Z",
     "iopub.status.idle": "2022-08-18T12:30:07.694969Z",
     "shell.execute_reply": "2022-08-18T12:30:07.694044Z"
    },
    "papermill": {
     "duration": 1.359241,
     "end_time": "2022-08-18T12:30:07.697479",
     "exception": false,
     "start_time": "2022-08-18T12:30:06.338238",
     "status": "completed"
    },
    "tags": []
   },
   "outputs": [
    {
     "data": {
      "text/html": [
       "        <script type=\"text/javascript\">\n",
       "        window.PlotlyConfig = {MathJaxConfig: 'local'};\n",
       "        if (window.MathJax && window.MathJax.Hub && window.MathJax.Hub.Config) {window.MathJax.Hub.Config({SVG: {font: \"STIX-Web\"}});}\n",
       "        if (typeof require !== 'undefined') {\n",
       "        require.undef(\"plotly\");\n",
       "        requirejs.config({\n",
       "            paths: {\n",
       "                'plotly': ['https://cdn.plot.ly/plotly-2.12.1.min']\n",
       "            }\n",
       "        });\n",
       "        require(['plotly'], function(Plotly) {\n",
       "            window._Plotly = Plotly;\n",
       "        });\n",
       "        }\n",
       "        </script>\n",
       "        "
      ]
     },
     "metadata": {},
     "output_type": "display_data"
    },
    {
     "data": {
      "text/html": [
       "<div>                            <div id=\"c058e111-6368-435c-bd93-2f4a67c8903d\" class=\"plotly-graph-div\" style=\"height:480px; width:500px;\"></div>            <script type=\"text/javascript\">                require([\"plotly\"], function(Plotly) {                    window.PLOTLYENV=window.PLOTLYENV || {};                                    if (document.getElementById(\"c058e111-6368-435c-bd93-2f4a67c8903d\")) {                    Plotly.newPlot(                        \"c058e111-6368-435c-bd93-2f4a67c8903d\",                        [{\"alignmentgroup\":\"True\",\"hovertemplate\":\"x=%{x}<br>y=%{y}<extra></extra>\",\"legendgroup\":\"\",\"marker\":{\"color\":\"#1F77B4\",\"pattern\":{\"shape\":\"\"}},\"name\":\"\",\"offsetgroup\":\"\",\"orientation\":\"v\",\"showlegend\":false,\"textposition\":\"outside\",\"texttemplate\":\"%{y:,d}\",\"x\":[0,1,2,3,4],\"xaxis\":\"x\",\"y\":[484359,15162,461,17,1],\"yaxis\":\"y\",\"type\":\"bar\",\"textfont\":{\"color\":\"blue\",\"size\":14},\"width\":1}],                        {\"template\":{\"data\":{\"barpolar\":[{\"marker\":{\"line\":{\"color\":\"white\",\"width\":0.5},\"pattern\":{\"fillmode\":\"overlay\",\"size\":10,\"solidity\":0.2}},\"type\":\"barpolar\"}],\"bar\":[{\"error_x\":{\"color\":\"rgb(36,36,36)\"},\"error_y\":{\"color\":\"rgb(36,36,36)\"},\"marker\":{\"line\":{\"color\":\"white\",\"width\":0.5},\"pattern\":{\"fillmode\":\"overlay\",\"size\":10,\"solidity\":0.2}},\"type\":\"bar\"}],\"carpet\":[{\"aaxis\":{\"endlinecolor\":\"rgb(36,36,36)\",\"gridcolor\":\"white\",\"linecolor\":\"white\",\"minorgridcolor\":\"white\",\"startlinecolor\":\"rgb(36,36,36)\"},\"baxis\":{\"endlinecolor\":\"rgb(36,36,36)\",\"gridcolor\":\"white\",\"linecolor\":\"white\",\"minorgridcolor\":\"white\",\"startlinecolor\":\"rgb(36,36,36)\"},\"type\":\"carpet\"}],\"choropleth\":[{\"colorbar\":{\"outlinewidth\":1,\"tickcolor\":\"rgb(36,36,36)\",\"ticks\":\"outside\"},\"type\":\"choropleth\"}],\"contourcarpet\":[{\"colorbar\":{\"outlinewidth\":1,\"tickcolor\":\"rgb(36,36,36)\",\"ticks\":\"outside\"},\"type\":\"contourcarpet\"}],\"contour\":[{\"colorbar\":{\"outlinewidth\":1,\"tickcolor\":\"rgb(36,36,36)\",\"ticks\":\"outside\"},\"colorscale\":[[0.0,\"#440154\"],[0.1111111111111111,\"#482878\"],[0.2222222222222222,\"#3e4989\"],[0.3333333333333333,\"#31688e\"],[0.4444444444444444,\"#26828e\"],[0.5555555555555556,\"#1f9e89\"],[0.6666666666666666,\"#35b779\"],[0.7777777777777778,\"#6ece58\"],[0.8888888888888888,\"#b5de2b\"],[1.0,\"#fde725\"]],\"type\":\"contour\"}],\"heatmapgl\":[{\"colorbar\":{\"outlinewidth\":1,\"tickcolor\":\"rgb(36,36,36)\",\"ticks\":\"outside\"},\"colorscale\":[[0.0,\"#440154\"],[0.1111111111111111,\"#482878\"],[0.2222222222222222,\"#3e4989\"],[0.3333333333333333,\"#31688e\"],[0.4444444444444444,\"#26828e\"],[0.5555555555555556,\"#1f9e89\"],[0.6666666666666666,\"#35b779\"],[0.7777777777777778,\"#6ece58\"],[0.8888888888888888,\"#b5de2b\"],[1.0,\"#fde725\"]],\"type\":\"heatmapgl\"}],\"heatmap\":[{\"colorbar\":{\"outlinewidth\":1,\"tickcolor\":\"rgb(36,36,36)\",\"ticks\":\"outside\"},\"colorscale\":[[0.0,\"#440154\"],[0.1111111111111111,\"#482878\"],[0.2222222222222222,\"#3e4989\"],[0.3333333333333333,\"#31688e\"],[0.4444444444444444,\"#26828e\"],[0.5555555555555556,\"#1f9e89\"],[0.6666666666666666,\"#35b779\"],[0.7777777777777778,\"#6ece58\"],[0.8888888888888888,\"#b5de2b\"],[1.0,\"#fde725\"]],\"type\":\"heatmap\"}],\"histogram2dcontour\":[{\"colorbar\":{\"outlinewidth\":1,\"tickcolor\":\"rgb(36,36,36)\",\"ticks\":\"outside\"},\"colorscale\":[[0.0,\"#440154\"],[0.1111111111111111,\"#482878\"],[0.2222222222222222,\"#3e4989\"],[0.3333333333333333,\"#31688e\"],[0.4444444444444444,\"#26828e\"],[0.5555555555555556,\"#1f9e89\"],[0.6666666666666666,\"#35b779\"],[0.7777777777777778,\"#6ece58\"],[0.8888888888888888,\"#b5de2b\"],[1.0,\"#fde725\"]],\"type\":\"histogram2dcontour\"}],\"histogram2d\":[{\"colorbar\":{\"outlinewidth\":1,\"tickcolor\":\"rgb(36,36,36)\",\"ticks\":\"outside\"},\"colorscale\":[[0.0,\"#440154\"],[0.1111111111111111,\"#482878\"],[0.2222222222222222,\"#3e4989\"],[0.3333333333333333,\"#31688e\"],[0.4444444444444444,\"#26828e\"],[0.5555555555555556,\"#1f9e89\"],[0.6666666666666666,\"#35b779\"],[0.7777777777777778,\"#6ece58\"],[0.8888888888888888,\"#b5de2b\"],[1.0,\"#fde725\"]],\"type\":\"histogram2d\"}],\"histogram\":[{\"marker\":{\"line\":{\"color\":\"white\",\"width\":0.6}},\"type\":\"histogram\"}],\"mesh3d\":[{\"colorbar\":{\"outlinewidth\":1,\"tickcolor\":\"rgb(36,36,36)\",\"ticks\":\"outside\"},\"type\":\"mesh3d\"}],\"parcoords\":[{\"line\":{\"colorbar\":{\"outlinewidth\":1,\"tickcolor\":\"rgb(36,36,36)\",\"ticks\":\"outside\"}},\"type\":\"parcoords\"}],\"pie\":[{\"automargin\":true,\"type\":\"pie\"}],\"scatter3d\":[{\"line\":{\"colorbar\":{\"outlinewidth\":1,\"tickcolor\":\"rgb(36,36,36)\",\"ticks\":\"outside\"}},\"marker\":{\"colorbar\":{\"outlinewidth\":1,\"tickcolor\":\"rgb(36,36,36)\",\"ticks\":\"outside\"}},\"type\":\"scatter3d\"}],\"scattercarpet\":[{\"marker\":{\"colorbar\":{\"outlinewidth\":1,\"tickcolor\":\"rgb(36,36,36)\",\"ticks\":\"outside\"}},\"type\":\"scattercarpet\"}],\"scattergeo\":[{\"marker\":{\"colorbar\":{\"outlinewidth\":1,\"tickcolor\":\"rgb(36,36,36)\",\"ticks\":\"outside\"}},\"type\":\"scattergeo\"}],\"scattergl\":[{\"marker\":{\"colorbar\":{\"outlinewidth\":1,\"tickcolor\":\"rgb(36,36,36)\",\"ticks\":\"outside\"}},\"type\":\"scattergl\"}],\"scattermapbox\":[{\"marker\":{\"colorbar\":{\"outlinewidth\":1,\"tickcolor\":\"rgb(36,36,36)\",\"ticks\":\"outside\"}},\"type\":\"scattermapbox\"}],\"scatterpolargl\":[{\"marker\":{\"colorbar\":{\"outlinewidth\":1,\"tickcolor\":\"rgb(36,36,36)\",\"ticks\":\"outside\"}},\"type\":\"scatterpolargl\"}],\"scatterpolar\":[{\"marker\":{\"colorbar\":{\"outlinewidth\":1,\"tickcolor\":\"rgb(36,36,36)\",\"ticks\":\"outside\"}},\"type\":\"scatterpolar\"}],\"scatter\":[{\"fillpattern\":{\"fillmode\":\"overlay\",\"size\":10,\"solidity\":0.2},\"type\":\"scatter\"}],\"scatterternary\":[{\"marker\":{\"colorbar\":{\"outlinewidth\":1,\"tickcolor\":\"rgb(36,36,36)\",\"ticks\":\"outside\"}},\"type\":\"scatterternary\"}],\"surface\":[{\"colorbar\":{\"outlinewidth\":1,\"tickcolor\":\"rgb(36,36,36)\",\"ticks\":\"outside\"},\"colorscale\":[[0.0,\"#440154\"],[0.1111111111111111,\"#482878\"],[0.2222222222222222,\"#3e4989\"],[0.3333333333333333,\"#31688e\"],[0.4444444444444444,\"#26828e\"],[0.5555555555555556,\"#1f9e89\"],[0.6666666666666666,\"#35b779\"],[0.7777777777777778,\"#6ece58\"],[0.8888888888888888,\"#b5de2b\"],[1.0,\"#fde725\"]],\"type\":\"surface\"}],\"table\":[{\"cells\":{\"fill\":{\"color\":\"rgb(237,237,237)\"},\"line\":{\"color\":\"white\"}},\"header\":{\"fill\":{\"color\":\"rgb(217,217,217)\"},\"line\":{\"color\":\"white\"}},\"type\":\"table\"}]},\"layout\":{\"annotationdefaults\":{\"arrowhead\":0,\"arrowwidth\":1},\"autotypenumbers\":\"strict\",\"coloraxis\":{\"colorbar\":{\"outlinewidth\":1,\"tickcolor\":\"rgb(36,36,36)\",\"ticks\":\"outside\"}},\"colorscale\":{\"diverging\":[[0.0,\"rgb(103,0,31)\"],[0.1,\"rgb(178,24,43)\"],[0.2,\"rgb(214,96,77)\"],[0.3,\"rgb(244,165,130)\"],[0.4,\"rgb(253,219,199)\"],[0.5,\"rgb(247,247,247)\"],[0.6,\"rgb(209,229,240)\"],[0.7,\"rgb(146,197,222)\"],[0.8,\"rgb(67,147,195)\"],[0.9,\"rgb(33,102,172)\"],[1.0,\"rgb(5,48,97)\"]],\"sequential\":[[0.0,\"#440154\"],[0.1111111111111111,\"#482878\"],[0.2222222222222222,\"#3e4989\"],[0.3333333333333333,\"#31688e\"],[0.4444444444444444,\"#26828e\"],[0.5555555555555556,\"#1f9e89\"],[0.6666666666666666,\"#35b779\"],[0.7777777777777778,\"#6ece58\"],[0.8888888888888888,\"#b5de2b\"],[1.0,\"#fde725\"]],\"sequentialminus\":[[0.0,\"#440154\"],[0.1111111111111111,\"#482878\"],[0.2222222222222222,\"#3e4989\"],[0.3333333333333333,\"#31688e\"],[0.4444444444444444,\"#26828e\"],[0.5555555555555556,\"#1f9e89\"],[0.6666666666666666,\"#35b779\"],[0.7777777777777778,\"#6ece58\"],[0.8888888888888888,\"#b5de2b\"],[1.0,\"#fde725\"]]},\"colorway\":[\"#1F77B4\",\"#FF7F0E\",\"#2CA02C\",\"#D62728\",\"#9467BD\",\"#8C564B\",\"#E377C2\",\"#7F7F7F\",\"#BCBD22\",\"#17BECF\"],\"font\":{\"color\":\"rgb(36,36,36)\"},\"geo\":{\"bgcolor\":\"white\",\"lakecolor\":\"white\",\"landcolor\":\"white\",\"showlakes\":true,\"showland\":true,\"subunitcolor\":\"white\"},\"hoverlabel\":{\"align\":\"left\"},\"hovermode\":\"closest\",\"mapbox\":{\"style\":\"light\"},\"paper_bgcolor\":\"white\",\"plot_bgcolor\":\"white\",\"polar\":{\"angularaxis\":{\"gridcolor\":\"rgb(232,232,232)\",\"linecolor\":\"rgb(36,36,36)\",\"showgrid\":false,\"showline\":true,\"ticks\":\"outside\"},\"bgcolor\":\"white\",\"radialaxis\":{\"gridcolor\":\"rgb(232,232,232)\",\"linecolor\":\"rgb(36,36,36)\",\"showgrid\":false,\"showline\":true,\"ticks\":\"outside\"}},\"scene\":{\"xaxis\":{\"backgroundcolor\":\"white\",\"gridcolor\":\"rgb(232,232,232)\",\"gridwidth\":2,\"linecolor\":\"rgb(36,36,36)\",\"showbackground\":true,\"showgrid\":false,\"showline\":true,\"ticks\":\"outside\",\"zeroline\":false,\"zerolinecolor\":\"rgb(36,36,36)\"},\"yaxis\":{\"backgroundcolor\":\"white\",\"gridcolor\":\"rgb(232,232,232)\",\"gridwidth\":2,\"linecolor\":\"rgb(36,36,36)\",\"showbackground\":true,\"showgrid\":false,\"showline\":true,\"ticks\":\"outside\",\"zeroline\":false,\"zerolinecolor\":\"rgb(36,36,36)\"},\"zaxis\":{\"backgroundcolor\":\"white\",\"gridcolor\":\"rgb(232,232,232)\",\"gridwidth\":2,\"linecolor\":\"rgb(36,36,36)\",\"showbackground\":true,\"showgrid\":false,\"showline\":true,\"ticks\":\"outside\",\"zeroline\":false,\"zerolinecolor\":\"rgb(36,36,36)\"}},\"shapedefaults\":{\"fillcolor\":\"black\",\"line\":{\"width\":0},\"opacity\":0.3},\"ternary\":{\"aaxis\":{\"gridcolor\":\"rgb(232,232,232)\",\"linecolor\":\"rgb(36,36,36)\",\"showgrid\":false,\"showline\":true,\"ticks\":\"outside\"},\"baxis\":{\"gridcolor\":\"rgb(232,232,232)\",\"linecolor\":\"rgb(36,36,36)\",\"showgrid\":false,\"showline\":true,\"ticks\":\"outside\"},\"bgcolor\":\"white\",\"caxis\":{\"gridcolor\":\"rgb(232,232,232)\",\"linecolor\":\"rgb(36,36,36)\",\"showgrid\":false,\"showline\":true,\"ticks\":\"outside\"}},\"title\":{\"x\":0.05},\"xaxis\":{\"automargin\":true,\"gridcolor\":\"rgb(232,232,232)\",\"linecolor\":\"rgb(36,36,36)\",\"showgrid\":false,\"showline\":true,\"ticks\":\"outside\",\"title\":{\"standoff\":15},\"zeroline\":false,\"zerolinecolor\":\"rgb(36,36,36)\"},\"yaxis\":{\"automargin\":true,\"gridcolor\":\"rgb(232,232,232)\",\"linecolor\":\"rgb(36,36,36)\",\"showgrid\":false,\"showline\":true,\"ticks\":\"outside\",\"title\":{\"standoff\":15},\"zeroline\":false,\"zerolinecolor\":\"rgb(36,36,36)\"}}},\"xaxis\":{\"anchor\":\"y\",\"domain\":[0.0,1.0],\"title\":{\"text\":\"\"},\"tickprefix\":\"ℓ=\",\"ticks\":\"\"},\"yaxis\":{\"anchor\":\"x\",\"domain\":[0.0,1.0],\"title\":{\"text\":\"vertex count\"},\"range\":[0,530000]},\"legend\":{\"tracegroupgap\":0},\"margin\":{\"t\":60},\"barmode\":\"relative\",\"height\":480,\"width\":500},                        {\"responsive\": true}                    ).then(function(){\n",
       "                            \n",
       "var gd = document.getElementById('c058e111-6368-435c-bd93-2f4a67c8903d');\n",
       "var x = new MutationObserver(function (mutations, observer) {{\n",
       "        var display = window.getComputedStyle(gd).display;\n",
       "        if (!display || display === 'none') {{\n",
       "            console.log([gd, 'removed!']);\n",
       "            Plotly.purge(gd);\n",
       "            observer.disconnect();\n",
       "        }}\n",
       "}});\n",
       "\n",
       "// Listen for the removal of the full notebook cells\n",
       "var notebookContainer = gd.closest('#notebook-container');\n",
       "if (notebookContainer) {{\n",
       "    x.observe(notebookContainer, {childList: true});\n",
       "}}\n",
       "\n",
       "// Listen for the clearing of the current output cell\n",
       "var outputEl = gd.closest('.output');\n",
       "if (outputEl) {{\n",
       "    x.observe(outputEl, {childList: true});\n",
       "}}\n",
       "\n",
       "                        })                };                });            </script>        </div>"
      ]
     },
     "metadata": {},
     "output_type": "display_data"
    }
   ],
   "source": [
    "fig = px.bar(x=unique-1, y=counts, height=480, width=500, text_auto=',d', template=\"simple_white\") #, text_auto=True, \n",
    "fig.update_traces(textfont_size=14, textposition=\"outside\", textfont_color=\"blue\", width=1)\n",
    "fig.update_layout(yaxis_title_text=\"vertex count\", yaxis_range=[0, 530000], xaxis_tickprefix=\"ℓ=\", xaxis_title_text=\"\") # xaxis_title_text=\"ℓ\", \n",
    "fig.update_xaxes(ticks=\"\")\n",
    "fig.show()\n",
    "fig.write_html(\"levels.html\")"
   ]
  },
  {
   "cell_type": "code",
   "execution_count": 21,
   "id": "1f013c18",
   "metadata": {
    "execution": {
     "iopub.execute_input": "2022-08-18T12:30:08.904939Z",
     "iopub.status.busy": "2022-08-18T12:30:08.904538Z",
     "iopub.status.idle": "2022-08-18T12:30:08.932713Z",
     "shell.execute_reply": "2022-08-18T12:30:08.931652Z"
    },
    "papermill": {
     "duration": 0.660996,
     "end_time": "2022-08-18T12:30:08.934709",
     "exception": false,
     "start_time": "2022-08-18T12:30:08.273713",
     "status": "completed"
    },
    "tags": []
   },
   "outputs": [],
   "source": [
    "del index"
   ]
  },
  {
   "cell_type": "markdown",
   "id": "7211ce3d",
   "metadata": {
    "papermill": {
     "duration": 0.581305,
     "end_time": "2022-08-18T12:30:10.153288",
     "exception": false,
     "start_time": "2022-08-18T12:30:09.571983",
     "status": "completed"
    },
    "tags": []
   },
   "source": [
    "# Section 3: Helper Functions"
   ]
  },
  {
   "cell_type": "code",
   "execution_count": 22,
   "id": "c7773a3a",
   "metadata": {
    "execution": {
     "iopub.execute_input": "2022-08-18T12:30:11.385960Z",
     "iopub.status.busy": "2022-08-18T12:30:11.385527Z",
     "iopub.status.idle": "2022-08-18T12:30:11.391567Z",
     "shell.execute_reply": "2022-08-18T12:30:11.390477Z"
    },
    "papermill": {
     "duration": 0.657991,
     "end_time": "2022-08-18T12:30:11.393921",
     "exception": false,
     "start_time": "2022-08-18T12:30:10.735930",
     "status": "completed"
    },
    "tags": []
   },
   "outputs": [],
   "source": [
    "def train_index(fac_string, index, gpu=True):       \n",
    "\n",
    "    if gpu:\n",
    "        res = faiss.StandardGpuResources()           # use a single GPU        \n",
    "        index = faiss.index_cpu_to_gpu(res, 0, index)\n",
    "\n",
    "    t0 = time.time()\n",
    "    index.train(xt)\n",
    "    train_time = time.time() - t0\n",
    "    print(fac_string, \"=> Training done in %.3f s. \\n\" % train_time)\n",
    "    return index, gpu, train_time"
   ]
  },
  {
   "cell_type": "code",
   "execution_count": 23,
   "id": "4d627f74",
   "metadata": {
    "execution": {
     "iopub.execute_input": "2022-08-18T12:30:13.069444Z",
     "iopub.status.busy": "2022-08-18T12:30:13.068945Z",
     "iopub.status.idle": "2022-08-18T12:30:13.083774Z",
     "shell.execute_reply": "2022-08-18T12:30:13.082902Z"
    },
    "papermill": {
     "duration": 1.050034,
     "end_time": "2022-08-18T12:30:13.086449",
     "exception": false,
     "start_time": "2022-08-18T12:30:12.036415",
     "status": "completed"
    },
    "tags": []
   },
   "outputs": [],
   "source": [
    "def add_index(fac_string, index, efConstruction=0):\n",
    "        \n",
    "    if (\"HNSW\" in fac_string):\n",
    "        if efConstruction > 0:\n",
    "            print(f\"{fac_string} (efConstruction={efConstruction})\")\n",
    "        \n",
    "        if (\"IVF\" in fac_string):\n",
    "            if efConstruction > 0:\n",
    "                faiss.GpuParameterSpace().set_index_parameter(index, \"efConstruction\", efConstruction)                \n",
    "            else:               \n",
    "                efConstruction = 40            # Default value from faiss\n",
    "        else:\n",
    "            if efConstruction > 0:\n",
    "                index.hnsw.efConstruction = efConstruction\n",
    "            else:\n",
    "                efConstruction = index.hnsw.efConstruction\n",
    "        \n",
    "    i = 0\n",
    "    start = 0\n",
    "    end = start + batch_size\n",
    "    t0 = time.time()\n",
    "    \n",
    "    while start < ds.nb:   \n",
    "        if end > ds.nb:\n",
    "            end = ds.nb\n",
    "        index.add(xb[start:end])\n",
    "        if (i % batch_print_interval == 0):\n",
    "            print(f\"    Adding records [{start} : {end}] => ntotal: {index.ntotal}\")\n",
    "        start, end = end, end + batch_size\n",
    "        i += 1\n",
    "\n",
    "    index_time = time.time() - t0    \n",
    "    print(fac_string, \"=> Indexing done in %.3f s\" % index_time, \" (ntotal: \", index.ntotal, \") \\n\")\n",
    "    return index_time"
   ]
  },
  {
   "cell_type": "code",
   "execution_count": 24,
   "id": "10bb60ed",
   "metadata": {
    "execution": {
     "iopub.execute_input": "2022-08-18T12:30:14.524608Z",
     "iopub.status.busy": "2022-08-18T12:30:14.524241Z",
     "iopub.status.idle": "2022-08-18T12:30:14.530649Z",
     "shell.execute_reply": "2022-08-18T12:30:14.529713Z"
    },
    "papermill": {
     "duration": 0.594901,
     "end_time": "2022-08-18T12:30:14.532806",
     "exception": false,
     "start_time": "2022-08-18T12:30:13.937905",
     "status": "completed"
    },
    "tags": []
   },
   "outputs": [],
   "source": [
    "def save_n_get_filesize(fac_string, index, gpu=True):  \n",
    "    index_name = fac_string + '.index'         # Set index name\n",
    "    if gpu: \n",
    "        index = faiss.index_gpu_to_cpu(index)  \n",
    "    faiss.write_index(index, index_name)       # Write index to file    \n",
    "    file_size = os.path.getsize(index_name)    # Get file size    \n",
    "#     os.remove(index_name)                    # Delete saved index\n",
    "    file_size = file_size * 1e-6               # Convert bytes to MB\n",
    "    print(f\"{fac_string} => Index size: %.3f MB. \\n\" % file_size)\n",
    "    return file_size "
   ]
  },
  {
   "cell_type": "code",
   "execution_count": 25,
   "id": "298cb0d9",
   "metadata": {
    "execution": {
     "iopub.execute_input": "2022-08-18T12:30:15.755236Z",
     "iopub.status.busy": "2022-08-18T12:30:15.754872Z",
     "iopub.status.idle": "2022-08-18T12:30:15.764707Z",
     "shell.execute_reply": "2022-08-18T12:30:15.763742Z"
    },
    "papermill": {
     "duration": 0.606201,
     "end_time": "2022-08-18T12:30:15.766951",
     "exception": false,
     "start_time": "2022-08-18T12:30:15.160750",
     "status": "completed"
    },
    "tags": []
   },
   "outputs": [],
   "source": [
    "def search_index(fac_string, index, nprobe=0, efSearch=0):\n",
    "    if \"IVF\" in fac_string:          \n",
    "        index.nprobe = nprobe                   \n",
    "                  \n",
    "    if \"HNSW\" in fac_string:\n",
    "        if \"IVF\" in fac_string:\n",
    "            if efSearch > 0:\n",
    "                faiss.GpuParameterSpace().set_index_parameter(index, \"efSearch\", efSearch)                \n",
    "            else:                \n",
    "                efSearch = 16     # Default value from faiss\n",
    "        else:\n",
    "            if efSearch > 0:\n",
    "                index.hnsw.efSearch = efSearch\n",
    "            else:\n",
    "                efSearch = index.hnsw.efSearch\n",
    "        \n",
    "    t0 = time.time()\n",
    "    D, I = index.search(xq, k)\n",
    "\n",
    "    rank = 1\n",
    "    recall_1 = (I[:, :rank] == gt[:, :1]).sum() / ds.nq\n",
    "#     print(f\"Recall@{rank} = {recall_1} (nprobe = {nprobe})\")\n",
    "    \n",
    "    rank = 3\n",
    "    recall_3 = (I[:, :rank] == gt[:, :1]).sum() / ds.nq    \n",
    "    \n",
    "    rank = 5\n",
    "    recall_5 = (I[:, :rank] == gt[:, :1]).sum() / ds.nq     \n",
    "    \n",
    "    print(f\"(nprobe={nprobe}) (efSearch={efSearch}) Recall@1={recall_1}, Recall@3={recall_3}, Recall@5={recall_5}\")\n",
    "\n",
    "    search_time = (time.time() - t0) * 1000 / ds.nq     # ms per query  \n",
    "    search_time_all = (time.time() - t0) * 1000    \n",
    "    print(fac_string, \"=> Searching done in %.3f ms.\" % search_time_all, \"\\n\")\n",
    "    \n",
    "    return search_time, recall_1, recall_3, recall_5"
   ]
  },
  {
   "cell_type": "code",
   "execution_count": 26,
   "id": "b59bc683",
   "metadata": {
    "execution": {
     "iopub.execute_input": "2022-08-18T12:30:16.976160Z",
     "iopub.status.busy": "2022-08-18T12:30:16.975777Z",
     "iopub.status.idle": "2022-08-18T12:30:16.983787Z",
     "shell.execute_reply": "2022-08-18T12:30:16.982849Z"
    },
    "papermill": {
     "duration": 0.587568,
     "end_time": "2022-08-18T12:30:16.985884",
     "exception": false,
     "start_time": "2022-08-18T12:30:16.398316",
     "status": "completed"
    },
    "tags": []
   },
   "outputs": [],
   "source": [
    "def append_results(df, fac_string, nprobe, nsegment, recall_1, recall_3, recall_5, train_time, index_time, search_time, index_size):\n",
    "    \n",
    "    nprobe2 = 0 if \"IVF\" not in fac_string else nprobe\n",
    "    nsegment2 = 0 if \"PQ\" not in fac_string else nsegment\n",
    "    \n",
    "    hnsw_loc = fac_string.find('HNSW')             # Find start location of HNSW.  \n",
    "    if hnsw_loc >= 0:\n",
    "        last_loc = fac_string.rfind(',')           # Find last location of comma.\n",
    "        if last_loc < 0:\n",
    "            last_loc = fac_string.rfind('_')       # Find last location of underscore.        \n",
    "        M = fac_string[hnsw_loc+4 : last_loc]\n",
    "    else:\n",
    "        M = 0\n",
    "    \n",
    "    df = df.append({'index': fac_string,\n",
    "                    'M': M,\n",
    "                    'nprobe': nprobe2,\n",
    "                    'nsegment': nsegment2,\n",
    "                    'recall@1': recall_1,\n",
    "                    'recall@3': recall_3,\n",
    "                    'recall@5': recall_5,\n",
    "                    'train_time':train_time,\n",
    "                    'index_time': index_time,\n",
    "                    'search_time': search_time,\n",
    "                    'index_size': index_size\n",
    "                    }, ignore_index=True)  \n",
    "    \n",
    "    df.to_csv('df.csv', sep='|', index=False)\n",
    "    return df"
   ]
  },
  {
   "cell_type": "code",
   "execution_count": 27,
   "id": "b752feda",
   "metadata": {
    "execution": {
     "iopub.execute_input": "2022-08-18T12:30:18.192215Z",
     "iopub.status.busy": "2022-08-18T12:30:18.191789Z",
     "iopub.status.idle": "2022-08-18T12:30:18.199197Z",
     "shell.execute_reply": "2022-08-18T12:30:18.198242Z"
    },
    "papermill": {
     "duration": 0.582542,
     "end_time": "2022-08-18T12:30:18.201236",
     "exception": false,
     "start_time": "2022-08-18T12:30:17.618694",
     "status": "completed"
    },
    "tags": []
   },
   "outputs": [],
   "source": [
    "def append_results_HNSW(dfHNSW, fac_string, efConstruction, efSearch, recall_1, recall_3, recall_5, train_time, index_time, search_time, index_size):\n",
    "    \n",
    "    hnsw_loc = fac_string.find('HNSW')             # Find start location of HNSW.  \n",
    "    if hnsw_loc >= 0:\n",
    "        last_loc = fac_string.rfind(',')           # Find last location of comma.\n",
    "        if last_loc < 0:\n",
    "            last_loc = fac_string.rfind('_')       # Find last location of underscore.        \n",
    "        M = fac_string[hnsw_loc+4 : last_loc]\n",
    "    else:\n",
    "        M = 0\n",
    "    \n",
    "    dfHNSW = dfHNSW.append({'index': fac_string,\n",
    "                    'M': M,\n",
    "                    'efConstruction': efConstruction,\n",
    "                    'efSearch': efSearch,\n",
    "                    'recall@1': recall_1,\n",
    "                    'recall@3': recall_3,\n",
    "                    'recall@5': recall_5,\n",
    "                    'train_time':train_time,\n",
    "                    'index_time': index_time,\n",
    "                    'search_time': search_time,\n",
    "                    'index_size': index_size\n",
    "                    }, ignore_index=True)  \n",
    "    \n",
    "    dfHNSW.to_csv('dfHNSW.csv', sep='|', index=False)\n",
    "    return dfHNSW"
   ]
  },
  {
   "cell_type": "markdown",
   "id": "787a2bfe",
   "metadata": {
    "papermill": {
     "duration": 0.581971,
     "end_time": "2022-08-18T12:30:19.409403",
     "exception": false,
     "start_time": "2022-08-18T12:30:18.827432",
     "status": "completed"
    },
    "tags": []
   },
   "source": [
    "# Section 3a: Data for HNSW (for different `M`, `efConstruction`, `efSearch`)"
   ]
  },
  {
   "cell_type": "code",
   "execution_count": 28,
   "id": "21848571",
   "metadata": {
    "execution": {
     "iopub.execute_input": "2022-08-18T12:30:20.622111Z",
     "iopub.status.busy": "2022-08-18T12:30:20.621694Z",
     "iopub.status.idle": "2022-08-18T12:30:20.628010Z",
     "shell.execute_reply": "2022-08-18T12:30:20.627069Z"
    },
    "papermill": {
     "duration": 0.59032,
     "end_time": "2022-08-18T12:30:20.630092",
     "exception": false,
     "start_time": "2022-08-18T12:30:20.039772",
     "status": "completed"
    },
    "tags": []
   },
   "outputs": [],
   "source": [
    "dfHNSW = pd.DataFrame({'index': [],\n",
    "                   'M': [],\n",
    "                   'efConstruction': [],\n",
    "                   'efSearch': [],\n",
    "                   'recall@1': [],\n",
    "                   'recall@3': [],\n",
    "                   'recall@5': [],\n",
    "                   'train_time':[],\n",
    "                   'index_time': [],\n",
    "                   'search_time': [],\n",
    "                   'index_size': []\n",
    "})"
   ]
  },
  {
   "cell_type": "code",
   "execution_count": 29,
   "id": "96773ea8",
   "metadata": {
    "execution": {
     "iopub.execute_input": "2022-08-18T12:30:21.880919Z",
     "iopub.status.busy": "2022-08-18T12:30:21.880484Z",
     "iopub.status.idle": "2022-08-18T12:30:21.886005Z",
     "shell.execute_reply": "2022-08-18T12:30:21.884999Z"
    },
    "papermill": {
     "duration": 0.59049,
     "end_time": "2022-08-18T12:30:21.888101",
     "exception": false,
     "start_time": "2022-08-18T12:30:21.297611",
     "status": "completed"
    },
    "tags": []
   },
   "outputs": [],
   "source": [
    "k = 5                        # Number of nearest neighbor records to return during search.\n",
    "d = 128                      # Dimension (length) of vectors.\n",
    "nbase = 3 * 1000000          # Number of database vectors.\n",
    "nquery = 1000                # Number of query vectors.\n",
    "batch_size = 32768           # Batch size used to add index.\n",
    "batch_print_interval = 25    # When adding records to index, print status only after every x batches.  "
   ]
  },
  {
   "cell_type": "code",
   "execution_count": 30,
   "id": "dedd3e1e",
   "metadata": {
    "execution": {
     "iopub.execute_input": "2022-08-18T12:30:23.250499Z",
     "iopub.status.busy": "2022-08-18T12:30:23.250065Z",
     "iopub.status.idle": "2022-08-18T15:10:13.853408Z",
     "shell.execute_reply": "2022-08-18T15:10:13.851793Z"
    },
    "papermill": {
     "duration": 9591.332081,
     "end_time": "2022-08-18T15:10:13.855585",
     "exception": false,
     "start_time": "2022-08-18T12:30:22.523504",
     "status": "completed"
    },
    "tags": []
   },
   "outputs": [
    {
     "name": "stdout",
     "output_type": "stream",
     "text": [
      "HNSW4,Flat (efConstruction=4)\n",
      "    Adding records [0 : 32768] => ntotal: 32768\n",
      "    Adding records [819200 : 851968] => ntotal: 851968\n",
      "    Adding records [1638400 : 1671168] => ntotal: 1671168\n",
      "    Adding records [2457600 : 2490368] => ntotal: 2490368\n",
      "HNSW4,Flat => Indexing done in 46.340 s  (ntotal:  3000000 ) \n",
      "\n",
      "HNSW4,Flat => Index size: 1684.009 MB. \n",
      "\n",
      "(nprobe=0) (efSearch=4) Recall@1=0.019, Recall@3=0.019, Recall@5=0.019\n",
      "HNSW4,Flat => Searching done in 73.147 ms. \n",
      "\n",
      "(nprobe=0) (efSearch=16) Recall@1=0.034, Recall@3=0.034, Recall@5=0.034\n",
      "HNSW4,Flat => Searching done in 97.661 ms. \n",
      "\n",
      "(nprobe=0) (efSearch=40) Recall@1=0.044, Recall@3=0.044, Recall@5=0.044\n",
      "HNSW4,Flat => Searching done in 56.710 ms. \n",
      "\n",
      "(nprobe=0) (efSearch=76) Recall@1=0.05, Recall@3=0.05, Recall@5=0.05\n",
      "HNSW4,Flat => Searching done in 86.396 ms. \n",
      "\n",
      "HNSW4,Flat (efConstruction=4) => Total processing time: 0.8 min.\n",
      "===================================================================\n",
      "\n",
      "HNSW4,Flat (efConstruction=16)\n",
      "    Adding records [0 : 32768] => ntotal: 32768\n",
      "    Adding records [819200 : 851968] => ntotal: 851968\n",
      "    Adding records [1638400 : 1671168] => ntotal: 1671168\n",
      "    Adding records [2457600 : 2490368] => ntotal: 2490368\n",
      "HNSW4,Flat => Indexing done in 155.128 s  (ntotal:  3000000 ) \n",
      "\n",
      "HNSW4,Flat => Index size: 1684.009 MB. \n",
      "\n",
      "(nprobe=0) (efSearch=4) Recall@1=0.053, Recall@3=0.053, Recall@5=0.053\n",
      "HNSW4,Flat => Searching done in 60.351 ms. \n",
      "\n",
      "(nprobe=0) (efSearch=16) Recall@1=0.19, Recall@3=0.19, Recall@5=0.19\n",
      "HNSW4,Flat => Searching done in 53.222 ms. \n",
      "\n",
      "(nprobe=0) (efSearch=40) Recall@1=0.341, Recall@3=0.341, Recall@5=0.341\n",
      "HNSW4,Flat => Searching done in 76.147 ms. \n",
      "\n",
      "(nprobe=0) (efSearch=76) Recall@1=0.428, Recall@3=0.428, Recall@5=0.428\n",
      "HNSW4,Flat => Searching done in 201.561 ms. \n",
      "\n",
      "HNSW4,Flat (efConstruction=16) => Total processing time: 2.6 min.\n",
      "===================================================================\n",
      "\n",
      "HNSW4,Flat (efConstruction=40)\n",
      "    Adding records [0 : 32768] => ntotal: 32768\n",
      "    Adding records [819200 : 851968] => ntotal: 851968\n",
      "    Adding records [1638400 : 1671168] => ntotal: 1671168\n",
      "    Adding records [2457600 : 2490368] => ntotal: 2490368\n",
      "HNSW4,Flat => Indexing done in 330.033 s  (ntotal:  3000000 ) \n",
      "\n",
      "HNSW4,Flat => Index size: 1684.009 MB. \n",
      "\n",
      "(nprobe=0) (efSearch=4) Recall@1=0.093, Recall@3=0.093, Recall@5=0.093\n",
      "HNSW4,Flat => Searching done in 56.187 ms. \n",
      "\n",
      "(nprobe=0) (efSearch=16) Recall@1=0.29, Recall@3=0.29, Recall@5=0.29\n",
      "HNSW4,Flat => Searching done in 38.618 ms. \n",
      "\n",
      "(nprobe=0) (efSearch=40) Recall@1=0.537, Recall@3=0.537, Recall@5=0.537\n",
      "HNSW4,Flat => Searching done in 74.057 ms. \n",
      "\n",
      "(nprobe=0) (efSearch=76) Recall@1=0.639, Recall@3=0.639, Recall@5=0.639\n",
      "HNSW4,Flat => Searching done in 131.037 ms. \n",
      "\n",
      "HNSW4,Flat (efConstruction=40) => Total processing time: 5.6 min.\n",
      "===================================================================\n",
      "\n",
      "HNSW4,Flat (efConstruction=76)\n",
      "    Adding records [0 : 32768] => ntotal: 32768\n",
      "    Adding records [819200 : 851968] => ntotal: 851968\n",
      "    Adding records [1638400 : 1671168] => ntotal: 1671168\n",
      "    Adding records [2457600 : 2490368] => ntotal: 2490368\n",
      "HNSW4,Flat => Indexing done in 537.595 s  (ntotal:  3000000 ) \n",
      "\n",
      "HNSW4,Flat => Index size: 1684.009 MB. \n",
      "\n",
      "(nprobe=0) (efSearch=4) Recall@1=0.088, Recall@3=0.088, Recall@5=0.088\n",
      "HNSW4,Flat => Searching done in 60.050 ms. \n",
      "\n",
      "(nprobe=0) (efSearch=16) Recall@1=0.318, Recall@3=0.318, Recall@5=0.318\n",
      "HNSW4,Flat => Searching done in 35.877 ms. \n",
      "\n",
      "(nprobe=0) (efSearch=40) Recall@1=0.566, Recall@3=0.566, Recall@5=0.566\n",
      "HNSW4,Flat => Searching done in 81.215 ms. \n",
      "\n",
      "(nprobe=0) (efSearch=76) Recall@1=0.674, Recall@3=0.674, Recall@5=0.674\n",
      "HNSW4,Flat => Searching done in 145.211 ms. \n",
      "\n",
      "HNSW4,Flat (efConstruction=76) => Total processing time: 9.0 min.\n",
      "===================================================================\n",
      "\n",
      "HNSW16,Flat (efConstruction=4)\n",
      "    Adding records [0 : 32768] => ntotal: 32768\n",
      "    Adding records [819200 : 851968] => ntotal: 851968\n",
      "    Adding records [1638400 : 1671168] => ntotal: 1671168\n",
      "    Adding records [2457600 : 2490368] => ntotal: 2490368\n",
      "HNSW16,Flat => Indexing done in 68.155 s  (ntotal:  3000000 ) \n",
      "\n",
      "HNSW16,Flat => Index size: 1968.808 MB. \n",
      "\n",
      "(nprobe=0) (efSearch=4) Recall@1=0.024, Recall@3=0.024, Recall@5=0.024\n",
      "HNSW16,Flat => Searching done in 28.180 ms. \n",
      "\n",
      "(nprobe=0) (efSearch=16) Recall@1=0.041, Recall@3=0.041, Recall@5=0.041\n",
      "HNSW16,Flat => Searching done in 40.138 ms. \n",
      "\n",
      "(nprobe=0) (efSearch=40) Recall@1=0.057, Recall@3=0.057, Recall@5=0.057\n",
      "HNSW16,Flat => Searching done in 82.854 ms. \n",
      "\n",
      "(nprobe=0) (efSearch=76) Recall@1=0.063, Recall@3=0.063, Recall@5=0.063\n",
      "HNSW16,Flat => Searching done in 141.167 ms. \n",
      "\n",
      "HNSW16,Flat (efConstruction=4) => Total processing time: 1.2 min.\n",
      "===================================================================\n",
      "\n",
      "HNSW16,Flat (efConstruction=16)\n",
      "    Adding records [0 : 32768] => ntotal: 32768\n",
      "    Adding records [819200 : 851968] => ntotal: 851968\n",
      "    Adding records [1638400 : 1671168] => ntotal: 1671168\n",
      "    Adding records [2457600 : 2490368] => ntotal: 2490368\n",
      "HNSW16,Flat => Indexing done in 315.421 s  (ntotal:  3000000 ) \n",
      "\n",
      "HNSW16,Flat => Index size: 1968.808 MB. \n",
      "\n",
      "(nprobe=0) (efSearch=4) Recall@1=0.324, Recall@3=0.324, Recall@5=0.324\n",
      "HNSW16,Flat => Searching done in 86.401 ms. \n",
      "\n",
      "(nprobe=0) (efSearch=16) Recall@1=0.652, Recall@3=0.652, Recall@5=0.652\n",
      "HNSW16,Flat => Searching done in 83.586 ms. \n",
      "\n",
      "(nprobe=0) (efSearch=40) Recall@1=0.816, Recall@3=0.816, Recall@5=0.816\n",
      "HNSW16,Flat => Searching done in 176.572 ms. \n",
      "\n",
      "(nprobe=0) (efSearch=76) Recall@1=0.871, Recall@3=0.871, Recall@5=0.871\n",
      "HNSW16,Flat => Searching done in 288.432 ms. \n",
      "\n",
      "HNSW16,Flat (efConstruction=16) => Total processing time: 5.3 min.\n",
      "===================================================================\n",
      "\n",
      "HNSW16,Flat (efConstruction=40)\n",
      "    Adding records [0 : 32768] => ntotal: 32768\n",
      "    Adding records [819200 : 851968] => ntotal: 851968\n",
      "    Adding records [1638400 : 1671168] => ntotal: 1671168\n",
      "    Adding records [2457600 : 2490368] => ntotal: 2490368\n",
      "HNSW16,Flat => Indexing done in 537.627 s  (ntotal:  3000000 ) \n",
      "\n",
      "HNSW16,Flat => Index size: 1968.808 MB. \n",
      "\n",
      "(nprobe=0) (efSearch=4) Recall@1=0.413, Recall@3=0.413, Recall@5=0.413\n",
      "HNSW16,Flat => Searching done in 47.520 ms. \n",
      "\n",
      "(nprobe=0) (efSearch=16) Recall@1=0.726, Recall@3=0.726, Recall@5=0.726\n",
      "HNSW16,Flat => Searching done in 80.662 ms. \n",
      "\n",
      "(nprobe=0) (efSearch=40) Recall@1=0.846, Recall@3=0.846, Recall@5=0.846\n",
      "HNSW16,Flat => Searching done in 163.360 ms. \n",
      "\n",
      "(nprobe=0) (efSearch=76) Recall@1=0.896, Recall@3=0.896, Recall@5=0.896\n",
      "HNSW16,Flat => Searching done in 275.087 ms. \n",
      "\n",
      "HNSW16,Flat (efConstruction=40) => Total processing time: 9.0 min.\n",
      "===================================================================\n",
      "\n",
      "HNSW16,Flat (efConstruction=76)\n",
      "    Adding records [0 : 32768] => ntotal: 32768\n",
      "    Adding records [819200 : 851968] => ntotal: 851968\n",
      "    Adding records [1638400 : 1671168] => ntotal: 1671168\n",
      "    Adding records [2457600 : 2490368] => ntotal: 2490368\n",
      "HNSW16,Flat => Indexing done in 1004.341 s  (ntotal:  3000000 ) \n",
      "\n",
      "HNSW16,Flat => Index size: 1968.808 MB. \n",
      "\n",
      "(nprobe=0) (efSearch=4) Recall@1=0.45, Recall@3=0.45, Recall@5=0.45\n",
      "HNSW16,Flat => Searching done in 66.443 ms. \n",
      "\n",
      "(nprobe=0) (efSearch=16) Recall@1=0.786, Recall@3=0.786, Recall@5=0.786\n",
      "HNSW16,Flat => Searching done in 83.598 ms. \n",
      "\n",
      "(nprobe=0) (efSearch=40) Recall@1=0.912, Recall@3=0.912, Recall@5=0.912\n",
      "HNSW16,Flat => Searching done in 171.897 ms. \n",
      "\n",
      "(nprobe=0) (efSearch=76) Recall@1=0.939, Recall@3=0.939, Recall@5=0.939\n",
      "HNSW16,Flat => Searching done in 289.811 ms. \n",
      "\n",
      "HNSW16,Flat (efConstruction=76) => Total processing time: 16.8 min.\n",
      "===================================================================\n",
      "\n",
      "HNSW32,Flat (efConstruction=4)\n",
      "    Adding records [0 : 32768] => ntotal: 32768\n",
      "    Adding records [819200 : 851968] => ntotal: 851968\n",
      "    Adding records [1638400 : 1671168] => ntotal: 1671168\n",
      "    Adding records [2457600 : 2490368] => ntotal: 2490368\n",
      "HNSW32,Flat => Indexing done in 73.509 s  (ntotal:  3000000 ) \n",
      "\n",
      "HNSW32,Flat => Index size: 2352.425 MB. \n",
      "\n",
      "(nprobe=0) (efSearch=4) Recall@1=0.045, Recall@3=0.045, Recall@5=0.045\n",
      "HNSW32,Flat => Searching done in 31.393 ms. \n",
      "\n",
      "(nprobe=0) (efSearch=16) Recall@1=0.061, Recall@3=0.061, Recall@5=0.061\n",
      "HNSW32,Flat => Searching done in 47.582 ms. \n",
      "\n",
      "(nprobe=0) (efSearch=40) Recall@1=0.075, Recall@3=0.075, Recall@5=0.075\n",
      "HNSW32,Flat => Searching done in 93.123 ms. \n",
      "\n",
      "(nprobe=0) (efSearch=76) Recall@1=0.088, Recall@3=0.088, Recall@5=0.088\n",
      "HNSW32,Flat => Searching done in 158.134 ms. \n",
      "\n",
      "HNSW32,Flat (efConstruction=4) => Total processing time: 1.3 min.\n",
      "===================================================================\n",
      "\n",
      "HNSW32,Flat (efConstruction=16)\n",
      "    Adding records [0 : 32768] => ntotal: 32768\n",
      "    Adding records [819200 : 851968] => ntotal: 851968\n",
      "    Adding records [1638400 : 1671168] => ntotal: 1671168\n",
      "    Adding records [2457600 : 2490368] => ntotal: 2490368\n",
      "HNSW32,Flat => Indexing done in 363.286 s  (ntotal:  3000000 ) \n",
      "\n",
      "HNSW32,Flat => Index size: 2352.425 MB. \n",
      "\n",
      "(nprobe=0) (efSearch=4) Recall@1=0.464, Recall@3=0.464, Recall@5=0.464\n",
      "HNSW32,Flat => Searching done in 77.055 ms. \n",
      "\n",
      "(nprobe=0) (efSearch=16) Recall@1=0.758, Recall@3=0.758, Recall@5=0.758\n",
      "HNSW32,Flat => Searching done in 103.514 ms. \n",
      "\n",
      "(nprobe=0) (efSearch=40) Recall@1=0.883, Recall@3=0.883, Recall@5=0.883\n",
      "HNSW32,Flat => Searching done in 207.506 ms. \n",
      "\n",
      "(nprobe=0) (efSearch=76) Recall@1=0.923, Recall@3=0.923, Recall@5=0.923\n",
      "HNSW32,Flat => Searching done in 349.757 ms. \n",
      "\n",
      "HNSW32,Flat (efConstruction=16) => Total processing time: 6.3 min.\n",
      "===================================================================\n",
      "\n",
      "HNSW32,Flat (efConstruction=40)\n",
      "    Adding records [0 : 32768] => ntotal: 32768\n",
      "    Adding records [819200 : 851968] => ntotal: 851968\n",
      "    Adding records [1638400 : 1671168] => ntotal: 1671168\n",
      "    Adding records [2457600 : 2490368] => ntotal: 2490368\n",
      "HNSW32,Flat => Indexing done in 911.693 s  (ntotal:  3000000 ) \n",
      "\n",
      "HNSW32,Flat => Index size: 2352.425 MB. \n",
      "\n",
      "(nprobe=0) (efSearch=4) Recall@1=0.588, Recall@3=0.588, Recall@5=0.588\n",
      "HNSW32,Flat => Searching done in 63.010 ms. \n",
      "\n",
      "(nprobe=0) (efSearch=16) Recall@1=0.846, Recall@3=0.846, Recall@5=0.846\n",
      "HNSW32,Flat => Searching done in 159.654 ms. \n",
      "\n",
      "(nprobe=0) (efSearch=40) Recall@1=0.935, Recall@3=0.935, Recall@5=0.935\n",
      "HNSW32,Flat => Searching done in 489.915 ms. \n",
      "\n",
      "(nprobe=0) (efSearch=76) Recall@1=0.964, Recall@3=0.964, Recall@5=0.964\n",
      "HNSW32,Flat => Searching done in 678.570 ms. \n",
      "\n",
      "HNSW32,Flat (efConstruction=40) => Total processing time: 15.4 min.\n",
      "===================================================================\n",
      "\n",
      "HNSW32,Flat (efConstruction=76)\n",
      "    Adding records [0 : 32768] => ntotal: 32768\n",
      "    Adding records [819200 : 851968] => ntotal: 851968\n",
      "    Adding records [1638400 : 1671168] => ntotal: 1671168\n",
      "    Adding records [2457600 : 2490368] => ntotal: 2490368\n",
      "HNSW32,Flat => Indexing done in 1158.598 s  (ntotal:  3000000 ) \n",
      "\n",
      "HNSW32,Flat => Index size: 2352.425 MB. \n",
      "\n",
      "(nprobe=0) (efSearch=4) Recall@1=0.558, Recall@3=0.558, Recall@5=0.558\n",
      "HNSW32,Flat => Searching done in 112.993 ms. \n",
      "\n",
      "(nprobe=0) (efSearch=16) Recall@1=0.849, Recall@3=0.849, Recall@5=0.849\n",
      "HNSW32,Flat => Searching done in 274.754 ms. \n",
      "\n",
      "(nprobe=0) (efSearch=40) Recall@1=0.921, Recall@3=0.921, Recall@5=0.921\n",
      "HNSW32,Flat => Searching done in 217.267 ms. \n",
      "\n",
      "(nprobe=0) (efSearch=76) Recall@1=0.952, Recall@3=0.952, Recall@5=0.952\n",
      "HNSW32,Flat => Searching done in 503.814 ms. \n",
      "\n",
      "HNSW32,Flat (efConstruction=76) => Total processing time: 19.5 min.\n",
      "===================================================================\n",
      "\n",
      "HNSW64,Flat (efConstruction=4)\n",
      "    Adding records [0 : 32768] => ntotal: 32768\n",
      "    Adding records [819200 : 851968] => ntotal: 851968\n",
      "    Adding records [1638400 : 1671168] => ntotal: 1671168\n",
      "    Adding records [2457600 : 2490368] => ntotal: 2490368\n",
      "HNSW64,Flat => Indexing done in 84.301 s  (ntotal:  3000000 ) \n",
      "\n",
      "HNSW64,Flat => Index size: 3120.194 MB. \n",
      "\n",
      "(nprobe=0) (efSearch=4) Recall@1=0.037, Recall@3=0.037, Recall@5=0.037\n",
      "HNSW64,Flat => Searching done in 37.289 ms. \n",
      "\n",
      "(nprobe=0) (efSearch=16) Recall@1=0.049, Recall@3=0.049, Recall@5=0.049\n",
      "HNSW64,Flat => Searching done in 114.360 ms. \n",
      "\n",
      "(nprobe=0) (efSearch=40) Recall@1=0.062, Recall@3=0.062, Recall@5=0.062\n",
      "HNSW64,Flat => Searching done in 102.511 ms. \n",
      "\n",
      "(nprobe=0) (efSearch=76) Recall@1=0.072, Recall@3=0.072, Recall@5=0.072\n",
      "HNSW64,Flat => Searching done in 174.954 ms. \n",
      "\n",
      "HNSW64,Flat (efConstruction=4) => Total processing time: 1.6 min.\n",
      "===================================================================\n",
      "\n",
      "HNSW64,Flat (efConstruction=16)\n",
      "    Adding records [0 : 32768] => ntotal: 32768\n",
      "    Adding records [819200 : 851968] => ntotal: 851968\n",
      "    Adding records [1638400 : 1671168] => ntotal: 1671168\n",
      "    Adding records [2457600 : 2490368] => ntotal: 2490368\n",
      "HNSW64,Flat => Indexing done in 409.319 s  (ntotal:  3000000 ) \n",
      "\n",
      "HNSW64,Flat => Index size: 3120.194 MB. \n",
      "\n",
      "(nprobe=0) (efSearch=4) Recall@1=0.471, Recall@3=0.471, Recall@5=0.471\n",
      "HNSW64,Flat => Searching done in 215.631 ms. \n",
      "\n",
      "(nprobe=0) (efSearch=16) Recall@1=0.768, Recall@3=0.768, Recall@5=0.768\n",
      "HNSW64,Flat => Searching done in 271.026 ms. \n",
      "\n",
      "(nprobe=0) (efSearch=40) Recall@1=0.891, Recall@3=0.891, Recall@5=0.891\n",
      "HNSW64,Flat => Searching done in 464.028 ms. \n",
      "\n",
      "(nprobe=0) (efSearch=76) Recall@1=0.926, Recall@3=0.926, Recall@5=0.926\n",
      "HNSW64,Flat => Searching done in 400.973 ms. \n",
      "\n",
      "HNSW64,Flat (efConstruction=16) => Total processing time: 7.1 min.\n",
      "===================================================================\n",
      "\n",
      "HNSW64,Flat (efConstruction=40)\n",
      "    Adding records [0 : 32768] => ntotal: 32768\n",
      "    Adding records [819200 : 851968] => ntotal: 851968\n",
      "    Adding records [1638400 : 1671168] => ntotal: 1671168\n",
      "    Adding records [2457600 : 2490368] => ntotal: 2490368\n",
      "HNSW64,Flat => Indexing done in 1156.391 s  (ntotal:  3000000 ) \n",
      "\n",
      "HNSW64,Flat => Index size: 3120.194 MB. \n",
      "\n",
      "(nprobe=0) (efSearch=4) Recall@1=0.709, Recall@3=0.709, Recall@5=0.709\n",
      "HNSW64,Flat => Searching done in 137.755 ms. \n",
      "\n",
      "(nprobe=0) (efSearch=16) Recall@1=0.887, Recall@3=0.887, Recall@5=0.887\n",
      "HNSW64,Flat => Searching done in 197.551 ms. \n",
      "\n",
      "(nprobe=0) (efSearch=40) Recall@1=0.949, Recall@3=0.949, Recall@5=0.949\n",
      "HNSW64,Flat => Searching done in 376.861 ms. \n",
      "\n",
      "(nprobe=0) (efSearch=76) Recall@1=0.977, Recall@3=0.977, Recall@5=0.977\n",
      "HNSW64,Flat => Searching done in 630.338 ms. \n",
      "\n",
      "HNSW64,Flat (efConstruction=40) => Total processing time: 19.5 min.\n",
      "===================================================================\n",
      "\n",
      "HNSW64,Flat (efConstruction=76)\n",
      "    Adding records [0 : 32768] => ntotal: 32768\n",
      "    Adding records [819200 : 851968] => ntotal: 851968\n",
      "    Adding records [1638400 : 1671168] => ntotal: 1671168\n",
      "    Adding records [2457600 : 2490368] => ntotal: 2490368\n",
      "HNSW64,Flat => Indexing done in 2283.828 s  (ntotal:  3000000 ) \n",
      "\n",
      "HNSW64,Flat => Index size: 3120.194 MB. \n",
      "\n",
      "(nprobe=0) (efSearch=4) Recall@1=0.738, Recall@3=0.738, Recall@5=0.738\n",
      "HNSW64,Flat => Searching done in 122.169 ms. \n",
      "\n",
      "(nprobe=0) (efSearch=16) Recall@1=0.918, Recall@3=0.918, Recall@5=0.918\n",
      "HNSW64,Flat => Searching done in 213.478 ms. \n",
      "\n",
      "(nprobe=0) (efSearch=40) Recall@1=0.97, Recall@3=0.97, Recall@5=0.97\n",
      "HNSW64,Flat => Searching done in 435.050 ms. \n",
      "\n",
      "(nprobe=0) (efSearch=76) Recall@1=0.992, Recall@3=0.992, Recall@5=0.992\n",
      "HNSW64,Flat => Searching done in 731.402 ms. \n",
      "\n",
      "HNSW64,Flat (efConstruction=76) => Total processing time: 38.3 min.\n",
      "===================================================================\n",
      "\n",
      "CPU times: user 4h 57min 20s, sys: 2min 5s, total: 4h 59min 25s\n",
      "Wall time: 2h 39min 50s\n"
     ]
    }
   ],
   "source": [
    "%%time\n",
    "\n",
    "ds = datasets.SyntheticDataset(d, 0, nbase, nquery)\n",
    "xb = ds.get_database()\n",
    "xq = ds.get_queries()\n",
    "gt = ds.get_groundtruth(k) \n",
    "\n",
    "gpu = False            # Training is not required.\n",
    "train_time = None\n",
    "\n",
    "for M in [4,16,32,64]:  \n",
    "    fac_string = \"HNSW\" + str(M) + \",Flat\"    \n",
    "\n",
    "    for efConstruction in [4,16,40,76]:\n",
    "        \n",
    "        t00 = time.time()\n",
    "        \n",
    "        index = faiss.index_factory(d, fac_string)   \n",
    "        index_time = add_index(fac_string, index, efConstruction)\n",
    "        index_size = save_n_get_filesize(fac_string, index, gpu)        \n",
    "\n",
    "        for efSearch in [4,16,40,76]:\n",
    "            search_time, recall_1, recall_3, recall_5 = search_index(fac_string, index, 0, efSearch)\n",
    "            dfHNSW = append_results_HNSW(dfHNSW, fac_string, efConstruction, efSearch, recall_1, recall_3, recall_5, \n",
    "                                         train_time, index_time, search_time, index_size)         \n",
    "\n",
    "        del index\n",
    "        efCont_time = (time.time() - t00) / 60        \n",
    "        print(f\"{fac_string} (efConstruction={efConstruction})\", \"=> Total processing time: %.1f min.\" % efCont_time) \n",
    "        print(\"===================================================================\\n\") "
   ]
  },
  {
   "cell_type": "markdown",
   "id": "89518feb",
   "metadata": {
    "papermill": {
     "duration": 0.621434,
     "end_time": "2022-08-18T15:10:15.075385",
     "exception": false,
     "start_time": "2022-08-18T15:10:14.453951",
     "status": "completed"
    },
    "tags": []
   },
   "source": [
    "# Section 3b: Data for the various HNSW indexes (with/without IVF and/or PQ)"
   ]
  },
  {
   "cell_type": "code",
   "execution_count": 31,
   "id": "5e6f61df",
   "metadata": {
    "execution": {
     "iopub.execute_input": "2022-08-18T15:10:16.411604Z",
     "iopub.status.busy": "2022-08-18T15:10:16.411200Z",
     "iopub.status.idle": "2022-08-18T15:10:16.418760Z",
     "shell.execute_reply": "2022-08-18T15:10:16.417861Z"
    },
    "papermill": {
     "duration": 0.629462,
     "end_time": "2022-08-18T15:10:16.420829",
     "exception": false,
     "start_time": "2022-08-18T15:10:15.791367",
     "status": "completed"
    },
    "tags": []
   },
   "outputs": [],
   "source": [
    "df = pd.DataFrame({'index': [],\n",
    "                   'M': [],\n",
    "                   'nprobe': [],\n",
    "                   'nsegment': [],\n",
    "                   'recall@1': [],\n",
    "                   'recall@3': [],\n",
    "                   'recall@5': [],\n",
    "                   'train_time':[],\n",
    "                   'index_time': [],\n",
    "                   'search_time': [],\n",
    "                   'index_size': []\n",
    "})"
   ]
  },
  {
   "cell_type": "code",
   "execution_count": 32,
   "id": "113712d1",
   "metadata": {
    "execution": {
     "iopub.execute_input": "2022-08-18T15:10:17.698842Z",
     "iopub.status.busy": "2022-08-18T15:10:17.698476Z",
     "iopub.status.idle": "2022-08-18T15:10:17.705980Z",
     "shell.execute_reply": "2022-08-18T15:10:17.704974Z"
    },
    "papermill": {
     "duration": 0.686134,
     "end_time": "2022-08-18T15:10:17.708064",
     "exception": false,
     "start_time": "2022-08-18T15:10:17.021930",
     "status": "completed"
    },
    "tags": []
   },
   "outputs": [],
   "source": [
    "k = 5                        # Number of nearest neighbor records to return during search.\n",
    "d = 128                      # Dimension (length) of vectors.\n",
    "nlist = 65536                # Number of inverted lists (or number of centroids) for IVF indexes.\n",
    "ntraining = 39 * nlist       # Number of training vectors (x*nlist, where x is between 30 and 256).\n",
    "nbase = 3 * 1000000          # Number of database vectors.\n",
    "nquery = 1000                # Number of query vectors.\n",
    "\n",
    "batch_size = 32768           # Batch size used to add index.\n",
    "batch_print_interval = 25    # When adding records to index, print status only after every x batches.  \n",
    "\n",
    "M = 32                       # Number of connections that would be made for each new vertex during HNSW construction.\n",
    "nsegment = 32                # Number of segments for product quantization.\n",
    "\n",
    "# Indexes to contruct using the index_factory (e.g. \"IVF65536_HNSW32,PQ32\")\n",
    "str1 = \"IVF\" + str(nlist) + \"_HNSW\" + str(M) + \",PQ\" + str(nsegment)\n",
    "str2 = \"IVF\" + str(nlist) + \"_HNSW\" + str(M) + \",Flat\"\n",
    "str3 = \"HNSW\" + str(M) + \",Flat\"\n",
    "str4 = \"HNSW\" + str(M) + \"_PQ\" + str(nsegment)\n",
    "\n",
    "fac_strings = [str1, str2, str3, str4]          # To construct the indexes in this list using index_factory.\n",
    "nprobes = [1, 8, 16, 64, 128, 256, 512, 1024]   # To get data for the values of nprobe in this list."
   ]
  },
  {
   "cell_type": "code",
   "execution_count": 33,
   "id": "29e22cab",
   "metadata": {
    "execution": {
     "iopub.execute_input": "2022-08-18T15:10:18.916953Z",
     "iopub.status.busy": "2022-08-18T15:10:18.916556Z",
     "iopub.status.idle": "2022-08-18T15:44:34.892722Z",
     "shell.execute_reply": "2022-08-18T15:44:34.891685Z"
    },
    "papermill": {
     "duration": 2056.905833,
     "end_time": "2022-08-18T15:44:35.215452",
     "exception": false,
     "start_time": "2022-08-18T15:10:18.309619",
     "status": "completed"
    },
    "tags": []
   },
   "outputs": [
    {
     "name": "stdout",
     "output_type": "stream",
     "text": [
      "IVF65536_HNSW32,PQ32 => Training done in 146.413 s. \n",
      "\n",
      "    Adding records [0 : 32768] => ntotal: 32768\n",
      "    Adding records [819200 : 851968] => ntotal: 851968\n",
      "    Adding records [1638400 : 1671168] => ntotal: 1671168\n",
      "    Adding records [2457600 : 2490368] => ntotal: 2490368\n",
      "IVF65536_HNSW32,PQ32 => Indexing done in 25.161 s  (ntotal:  3000000 ) \n",
      "\n",
      "IVF65536_HNSW32,PQ32 => Index size: 154.210 MB. \n",
      "\n",
      "(nprobe=1) (efSearch=16) Recall@1=0.153, Recall@3=0.177, Recall@5=0.179\n",
      "IVF65536_HNSW32,PQ32 => Searching done in 7.223 ms. \n",
      "\n",
      "(nprobe=8) (efSearch=16) Recall@1=0.349, Recall@3=0.437, Recall@5=0.45\n",
      "IVF65536_HNSW32,PQ32 => Searching done in 6.459 ms. \n",
      "\n",
      "(nprobe=16) (efSearch=16) Recall@1=0.417, Recall@3=0.536, Recall@5=0.555\n",
      "IVF65536_HNSW32,PQ32 => Searching done in 8.273 ms. \n",
      "\n",
      "(nprobe=64) (efSearch=16) Recall@1=0.521, Recall@3=0.712, Recall@5=0.746\n",
      "IVF65536_HNSW32,PQ32 => Searching done in 18.488 ms. \n",
      "\n",
      "(nprobe=128) (efSearch=16) Recall@1=0.547, Recall@3=0.765, Recall@5=0.806\n",
      "IVF65536_HNSW32,PQ32 => Searching done in 33.657 ms. \n",
      "\n",
      "(nprobe=256) (efSearch=16) Recall@1=0.563, Recall@3=0.804, Recall@5=0.856\n",
      "IVF65536_HNSW32,PQ32 => Searching done in 74.464 ms. \n",
      "\n",
      "(nprobe=512) (efSearch=16) Recall@1=0.578, Recall@3=0.831, Recall@5=0.891\n",
      "IVF65536_HNSW32,PQ32 => Searching done in 194.750 ms. \n",
      "\n",
      "(nprobe=1024) (efSearch=16) Recall@1=0.588, Recall@3=0.848, Recall@5=0.913\n",
      "IVF65536_HNSW32,PQ32 => Searching done in 508.795 ms. \n",
      "\n",
      "IVF65536_HNSW32,PQ32 => Total processing time 3.0 min.\n",
      "===================================================================\n",
      "\n",
      "IVF65536_HNSW32,Flat => Training done in 85.118 s. \n",
      "\n",
      "    Adding records [0 : 32768] => ntotal: 32768\n",
      "    Adding records [819200 : 851968] => ntotal: 851968\n",
      "    Adding records [1638400 : 1671168] => ntotal: 1671168\n",
      "    Adding records [2457600 : 2490368] => ntotal: 2490368\n",
      "IVF65536_HNSW32,Flat => Indexing done in 18.937 s  (ntotal:  3000000 ) \n",
      "\n",
      "IVF65536_HNSW32,Flat => Index size: 1594.079 MB. \n",
      "\n",
      "(nprobe=1) (efSearch=16) Recall@1=0.181, Recall@3=0.181, Recall@5=0.181\n",
      "IVF65536_HNSW32,Flat => Searching done in 9.701 ms. \n",
      "\n",
      "(nprobe=8) (efSearch=16) Recall@1=0.455, Recall@3=0.455, Recall@5=0.455\n",
      "IVF65536_HNSW32,Flat => Searching done in 11.306 ms. \n",
      "\n",
      "(nprobe=16) (efSearch=16) Recall@1=0.564, Recall@3=0.564, Recall@5=0.564\n",
      "IVF65536_HNSW32,Flat => Searching done in 16.032 ms. \n",
      "\n",
      "(nprobe=64) (efSearch=16) Recall@1=0.768, Recall@3=0.768, Recall@5=0.768\n",
      "IVF65536_HNSW32,Flat => Searching done in 35.668 ms. \n",
      "\n",
      "(nprobe=128) (efSearch=16) Recall@1=0.84, Recall@3=0.84, Recall@5=0.84\n",
      "IVF65536_HNSW32,Flat => Searching done in 55.362 ms. \n",
      "\n",
      "(nprobe=256) (efSearch=16) Recall@1=0.904, Recall@3=0.904, Recall@5=0.904\n",
      "IVF65536_HNSW32,Flat => Searching done in 88.345 ms. \n",
      "\n",
      "(nprobe=512) (efSearch=16) Recall@1=0.944, Recall@3=0.944, Recall@5=0.944\n",
      "IVF65536_HNSW32,Flat => Searching done in 145.134 ms. \n",
      "\n",
      "(nprobe=1024) (efSearch=16) Recall@1=0.975, Recall@3=0.975, Recall@5=0.975\n",
      "IVF65536_HNSW32,Flat => Searching done in 241.982 ms. \n",
      "\n",
      "IVF65536_HNSW32,Flat => Total processing time 1.9 min.\n",
      "===================================================================\n",
      "\n",
      "    Adding records [0 : 32768] => ntotal: 32768\n",
      "    Adding records [819200 : 851968] => ntotal: 851968\n",
      "    Adding records [1638400 : 1671168] => ntotal: 1671168\n",
      "    Adding records [2457600 : 2490368] => ntotal: 2490368\n",
      "HNSW32,Flat => Indexing done in 920.648 s  (ntotal:  3000000 ) \n",
      "\n",
      "HNSW32,Flat => Index size: 2352.425 MB. \n",
      "\n",
      "(nprobe=0) (efSearch=16) Recall@1=0.851, Recall@3=0.851, Recall@5=0.851\n",
      "HNSW32,Flat => Searching done in 209.861 ms. \n",
      "\n",
      "HNSW32,Flat => Total processing time 15.5 min.\n",
      "===================================================================\n",
      "\n",
      "HNSW32_PQ32 => Training done in 67.697 s. \n",
      "\n",
      "    Adding records [0 : 32768] => ntotal: 32768\n",
      "    Adding records [819200 : 851968] => ntotal: 851968\n",
      "    Adding records [1638400 : 1671168] => ntotal: 1671168\n",
      "    Adding records [2457600 : 2490368] => ntotal: 2490368\n",
      "HNSW32_PQ32 => Indexing done in 721.771 s  (ntotal:  3000000 ) \n",
      "\n",
      "HNSW32_PQ32 => Index size: 912.556 MB. \n",
      "\n",
      "(nprobe=0) (efSearch=16) Recall@1=0.634, Recall@3=0.795, Recall@5=0.815\n",
      "HNSW32_PQ32 => Searching done in 133.167 ms. \n",
      "\n",
      "HNSW32_PQ32 => Total processing time 13.2 min.\n",
      "===================================================================\n",
      "\n",
      "CPU times: user 59min 17s, sys: 1min 29s, total: 1h 47s\n",
      "Wall time: 34min 15s\n"
     ]
    }
   ],
   "source": [
    "%%time\n",
    "\n",
    "ds = datasets.SyntheticDataset(d, ntraining, 0, 0)\n",
    "xt = ds.get_train()\n",
    "\n",
    "ds = datasets.SyntheticDataset(d, 0, nbase, nquery)\n",
    "xb = ds.get_database()\n",
    "xq = ds.get_queries()\n",
    "gt = ds.get_groundtruth(k) \n",
    "\n",
    "for fac_string in fac_strings:\n",
    "    t00 = time.time()  \n",
    "    \n",
    "    index = faiss.index_factory(d, fac_string)\n",
    "    \n",
    "    # If need to get efConstruction & efSearch, downcast first before sending to GPU.    \n",
    "    #--------------------------------------------------\n",
    "    if (\"IVF\" in fac_string) and (\"HNSW\" in fac_string):        \n",
    "        quantizer = faiss.downcast_index(index.quantizer)  # The quantizer is IndexHNSWFlat\n",
    "        efConstruction = quantizer.hnsw.efConstruction\n",
    "        efSearch = quantizer.hnsw.efSearch\n",
    "    #--------------------------------------------------\n",
    "    \n",
    "    if (\"IVF\" in fac_string):   \n",
    "        index, gpu, train_time = train_index(fac_string, index, gpu=True)   # Training is required, use GPU.\n",
    "    elif (\"PQ\" in fac_string): \n",
    "        index, gpu, train_time = train_index(fac_string, index, gpu=False)  # Training is required, but GPU is not supported.\n",
    "    else:                                                                   \n",
    "        gpu = False                                                         # Training is not required.\n",
    "        train_time = None\n",
    "    \n",
    "    index_time = add_index(fac_string, index)\n",
    "    index_size = save_n_get_filesize(fac_string, index, gpu)\n",
    "            \n",
    "    if \"IVF\" in fac_string:\n",
    "        for nprobe in nprobes:\n",
    "            search_time, recall_1, recall_3, recall_5 = search_index(fac_string, index, nprobe)\n",
    "            df = append_results(df, fac_string, nprobe, nsegment, recall_1, recall_3, recall_5, train_time, index_time, search_time, index_size)\n",
    "    else:\n",
    "        search_time, recall_1, recall_3, recall_5 = search_index(fac_string, index, 0)\n",
    "        df = append_results(df, fac_string, 0, nsegment, recall_1, recall_3, recall_5, train_time, index_time, search_time, index_size)    \n",
    "    \n",
    "    del index\n",
    "    total_time = (time.time() - t00) / 60\n",
    "    print(fac_string, \"=> Total processing time %.1f min.\" % total_time) \n",
    "    print(\"===================================================================\\n\") "
   ]
  },
  {
   "cell_type": "markdown",
   "id": "b353dbd3",
   "metadata": {
    "papermill": {
     "duration": 0.59222,
     "end_time": "2022-08-18T15:44:36.398686",
     "exception": false,
     "start_time": "2022-08-18T15:44:35.806466",
     "status": "completed"
    },
    "tags": []
   },
   "source": [
    "# Section 4a: Plots to view the effect of `M`, `efConstruction`, `efSearch`"
   ]
  },
  {
   "cell_type": "code",
   "execution_count": 34,
   "id": "45e83abb",
   "metadata": {
    "execution": {
     "iopub.execute_input": "2022-08-18T15:44:37.642950Z",
     "iopub.status.busy": "2022-08-18T15:44:37.641894Z",
     "iopub.status.idle": "2022-08-18T15:44:37.647000Z",
     "shell.execute_reply": "2022-08-18T15:44:37.645912Z"
    },
    "papermill": {
     "duration": 0.663205,
     "end_time": "2022-08-18T15:44:37.649154",
     "exception": false,
     "start_time": "2022-08-18T15:44:36.985949",
     "status": "completed"
    },
    "tags": []
   },
   "outputs": [],
   "source": [
    "# try:\n",
    "#     print(dfHNSW.head(1))\n",
    "# except NameError:\n",
    "#     dfHNSW = pd.read_csv(\"../input/dfhnsw/dfHNSW-25.csv\", delimiter=\"|\")"
   ]
  },
  {
   "cell_type": "code",
   "execution_count": 35,
   "id": "19980ac1",
   "metadata": {
    "execution": {
     "iopub.execute_input": "2022-08-18T15:44:38.850226Z",
     "iopub.status.busy": "2022-08-18T15:44:38.849421Z",
     "iopub.status.idle": "2022-08-18T15:44:38.882174Z",
     "shell.execute_reply": "2022-08-18T15:44:38.881120Z"
    },
    "papermill": {
     "duration": 0.639291,
     "end_time": "2022-08-18T15:44:38.884874",
     "exception": false,
     "start_time": "2022-08-18T15:44:38.245583",
     "status": "completed"
    },
    "tags": []
   },
   "outputs": [
    {
     "data": {
      "text/html": [
       "<div>\n",
       "<style scoped>\n",
       "    .dataframe tbody tr th:only-of-type {\n",
       "        vertical-align: middle;\n",
       "    }\n",
       "\n",
       "    .dataframe tbody tr th {\n",
       "        vertical-align: top;\n",
       "    }\n",
       "\n",
       "    .dataframe thead th {\n",
       "        text-align: right;\n",
       "    }\n",
       "</style>\n",
       "<table border=\"1\" class=\"dataframe\">\n",
       "  <thead>\n",
       "    <tr style=\"text-align: right;\">\n",
       "      <th></th>\n",
       "      <th>index</th>\n",
       "      <th>M</th>\n",
       "      <th>efConstruction</th>\n",
       "      <th>efSearch</th>\n",
       "      <th>recall@1</th>\n",
       "      <th>recall@3</th>\n",
       "      <th>recall@5</th>\n",
       "      <th>train_time</th>\n",
       "      <th>index_time</th>\n",
       "      <th>search_time</th>\n",
       "      <th>index_size</th>\n",
       "    </tr>\n",
       "  </thead>\n",
       "  <tbody>\n",
       "    <tr>\n",
       "      <th>0</th>\n",
       "      <td>HNSW4,Flat</td>\n",
       "      <td>4</td>\n",
       "      <td>4.0</td>\n",
       "      <td>4.0</td>\n",
       "      <td>0.019</td>\n",
       "      <td>0.019</td>\n",
       "      <td>0.019</td>\n",
       "      <td>None</td>\n",
       "      <td>46.339562</td>\n",
       "      <td>0.073145</td>\n",
       "      <td>1684.00915</td>\n",
       "    </tr>\n",
       "    <tr>\n",
       "      <th>1</th>\n",
       "      <td>HNSW4,Flat</td>\n",
       "      <td>4</td>\n",
       "      <td>4.0</td>\n",
       "      <td>16.0</td>\n",
       "      <td>0.034</td>\n",
       "      <td>0.034</td>\n",
       "      <td>0.034</td>\n",
       "      <td>None</td>\n",
       "      <td>46.339562</td>\n",
       "      <td>0.097659</td>\n",
       "      <td>1684.00915</td>\n",
       "    </tr>\n",
       "    <tr>\n",
       "      <th>2</th>\n",
       "      <td>HNSW4,Flat</td>\n",
       "      <td>4</td>\n",
       "      <td>4.0</td>\n",
       "      <td>40.0</td>\n",
       "      <td>0.044</td>\n",
       "      <td>0.044</td>\n",
       "      <td>0.044</td>\n",
       "      <td>None</td>\n",
       "      <td>46.339562</td>\n",
       "      <td>0.056708</td>\n",
       "      <td>1684.00915</td>\n",
       "    </tr>\n",
       "    <tr>\n",
       "      <th>3</th>\n",
       "      <td>HNSW4,Flat</td>\n",
       "      <td>4</td>\n",
       "      <td>4.0</td>\n",
       "      <td>76.0</td>\n",
       "      <td>0.050</td>\n",
       "      <td>0.050</td>\n",
       "      <td>0.050</td>\n",
       "      <td>None</td>\n",
       "      <td>46.339562</td>\n",
       "      <td>0.086394</td>\n",
       "      <td>1684.00915</td>\n",
       "    </tr>\n",
       "    <tr>\n",
       "      <th>4</th>\n",
       "      <td>HNSW4,Flat</td>\n",
       "      <td>4</td>\n",
       "      <td>16.0</td>\n",
       "      <td>4.0</td>\n",
       "      <td>0.053</td>\n",
       "      <td>0.053</td>\n",
       "      <td>0.053</td>\n",
       "      <td>None</td>\n",
       "      <td>155.127773</td>\n",
       "      <td>0.060349</td>\n",
       "      <td>1684.00915</td>\n",
       "    </tr>\n",
       "    <tr>\n",
       "      <th>...</th>\n",
       "      <td>...</td>\n",
       "      <td>...</td>\n",
       "      <td>...</td>\n",
       "      <td>...</td>\n",
       "      <td>...</td>\n",
       "      <td>...</td>\n",
       "      <td>...</td>\n",
       "      <td>...</td>\n",
       "      <td>...</td>\n",
       "      <td>...</td>\n",
       "      <td>...</td>\n",
       "    </tr>\n",
       "    <tr>\n",
       "      <th>59</th>\n",
       "      <td>HNSW64,Flat</td>\n",
       "      <td>64</td>\n",
       "      <td>40.0</td>\n",
       "      <td>76.0</td>\n",
       "      <td>0.977</td>\n",
       "      <td>0.977</td>\n",
       "      <td>0.977</td>\n",
       "      <td>None</td>\n",
       "      <td>1156.391366</td>\n",
       "      <td>0.630336</td>\n",
       "      <td>3120.19375</td>\n",
       "    </tr>\n",
       "    <tr>\n",
       "      <th>60</th>\n",
       "      <td>HNSW64,Flat</td>\n",
       "      <td>64</td>\n",
       "      <td>76.0</td>\n",
       "      <td>4.0</td>\n",
       "      <td>0.738</td>\n",
       "      <td>0.738</td>\n",
       "      <td>0.738</td>\n",
       "      <td>None</td>\n",
       "      <td>2283.828044</td>\n",
       "      <td>0.122167</td>\n",
       "      <td>3120.19375</td>\n",
       "    </tr>\n",
       "    <tr>\n",
       "      <th>61</th>\n",
       "      <td>HNSW64,Flat</td>\n",
       "      <td>64</td>\n",
       "      <td>76.0</td>\n",
       "      <td>16.0</td>\n",
       "      <td>0.918</td>\n",
       "      <td>0.918</td>\n",
       "      <td>0.918</td>\n",
       "      <td>None</td>\n",
       "      <td>2283.828044</td>\n",
       "      <td>0.213476</td>\n",
       "      <td>3120.19375</td>\n",
       "    </tr>\n",
       "    <tr>\n",
       "      <th>62</th>\n",
       "      <td>HNSW64,Flat</td>\n",
       "      <td>64</td>\n",
       "      <td>76.0</td>\n",
       "      <td>40.0</td>\n",
       "      <td>0.970</td>\n",
       "      <td>0.970</td>\n",
       "      <td>0.970</td>\n",
       "      <td>None</td>\n",
       "      <td>2283.828044</td>\n",
       "      <td>0.435048</td>\n",
       "      <td>3120.19375</td>\n",
       "    </tr>\n",
       "    <tr>\n",
       "      <th>63</th>\n",
       "      <td>HNSW64,Flat</td>\n",
       "      <td>64</td>\n",
       "      <td>76.0</td>\n",
       "      <td>76.0</td>\n",
       "      <td>0.992</td>\n",
       "      <td>0.992</td>\n",
       "      <td>0.992</td>\n",
       "      <td>None</td>\n",
       "      <td>2283.828044</td>\n",
       "      <td>0.731400</td>\n",
       "      <td>3120.19375</td>\n",
       "    </tr>\n",
       "  </tbody>\n",
       "</table>\n",
       "<p>64 rows × 11 columns</p>\n",
       "</div>"
      ],
      "text/plain": [
       "          index   M  efConstruction  efSearch  recall@1  recall@3  recall@5  \\\n",
       "0    HNSW4,Flat   4             4.0       4.0     0.019     0.019     0.019   \n",
       "1    HNSW4,Flat   4             4.0      16.0     0.034     0.034     0.034   \n",
       "2    HNSW4,Flat   4             4.0      40.0     0.044     0.044     0.044   \n",
       "3    HNSW4,Flat   4             4.0      76.0     0.050     0.050     0.050   \n",
       "4    HNSW4,Flat   4            16.0       4.0     0.053     0.053     0.053   \n",
       "..          ...  ..             ...       ...       ...       ...       ...   \n",
       "59  HNSW64,Flat  64            40.0      76.0     0.977     0.977     0.977   \n",
       "60  HNSW64,Flat  64            76.0       4.0     0.738     0.738     0.738   \n",
       "61  HNSW64,Flat  64            76.0      16.0     0.918     0.918     0.918   \n",
       "62  HNSW64,Flat  64            76.0      40.0     0.970     0.970     0.970   \n",
       "63  HNSW64,Flat  64            76.0      76.0     0.992     0.992     0.992   \n",
       "\n",
       "   train_time   index_time  search_time  index_size  \n",
       "0        None    46.339562     0.073145  1684.00915  \n",
       "1        None    46.339562     0.097659  1684.00915  \n",
       "2        None    46.339562     0.056708  1684.00915  \n",
       "3        None    46.339562     0.086394  1684.00915  \n",
       "4        None   155.127773     0.060349  1684.00915  \n",
       "..        ...          ...          ...         ...  \n",
       "59       None  1156.391366     0.630336  3120.19375  \n",
       "60       None  2283.828044     0.122167  3120.19375  \n",
       "61       None  2283.828044     0.213476  3120.19375  \n",
       "62       None  2283.828044     0.435048  3120.19375  \n",
       "63       None  2283.828044     0.731400  3120.19375  \n",
       "\n",
       "[64 rows x 11 columns]"
      ]
     },
     "execution_count": 35,
     "metadata": {},
     "output_type": "execute_result"
    }
   ],
   "source": [
    "dfHNSW"
   ]
  },
  {
   "cell_type": "code",
   "execution_count": 36,
   "id": "09ee04a5",
   "metadata": {
    "execution": {
     "iopub.execute_input": "2022-08-18T15:44:40.222484Z",
     "iopub.status.busy": "2022-08-18T15:44:40.222097Z",
     "iopub.status.idle": "2022-08-18T15:44:40.245111Z",
     "shell.execute_reply": "2022-08-18T15:44:40.243399Z"
    },
    "papermill": {
     "duration": 0.624548,
     "end_time": "2022-08-18T15:44:40.247276",
     "exception": false,
     "start_time": "2022-08-18T15:44:39.622728",
     "status": "completed"
    },
    "tags": []
   },
   "outputs": [
    {
     "name": "stdout",
     "output_type": "stream",
     "text": [
      "<class 'pandas.core.frame.DataFrame'>\n",
      "RangeIndex: 64 entries, 0 to 63\n",
      "Data columns (total 11 columns):\n",
      " #   Column          Non-Null Count  Dtype  \n",
      "---  ------          --------------  -----  \n",
      " 0   index           64 non-null     object \n",
      " 1   M               64 non-null     object \n",
      " 2   efConstruction  64 non-null     float64\n",
      " 3   efSearch        64 non-null     float64\n",
      " 4   recall@1        64 non-null     float64\n",
      " 5   recall@3        64 non-null     float64\n",
      " 6   recall@5        64 non-null     float64\n",
      " 7   train_time      0 non-null      object \n",
      " 8   index_time      64 non-null     float64\n",
      " 9   search_time     64 non-null     float64\n",
      " 10  index_size      64 non-null     float64\n",
      "dtypes: float64(8), object(3)\n",
      "memory usage: 5.6+ KB\n"
     ]
    }
   ],
   "source": [
    "dfHNSW.info()"
   ]
  },
  {
   "cell_type": "code",
   "execution_count": 37,
   "id": "c0869208",
   "metadata": {
    "execution": {
     "iopub.execute_input": "2022-08-18T15:44:41.539966Z",
     "iopub.status.busy": "2022-08-18T15:44:41.539469Z",
     "iopub.status.idle": "2022-08-18T15:44:41.553787Z",
     "shell.execute_reply": "2022-08-18T15:44:41.552715Z"
    },
    "papermill": {
     "duration": 0.627199,
     "end_time": "2022-08-18T15:44:41.558009",
     "exception": false,
     "start_time": "2022-08-18T15:44:40.930810",
     "status": "completed"
    },
    "tags": []
   },
   "outputs": [],
   "source": [
    "dfHNSW[\"M\"] = dfHNSW[\"M\"].fillna(0.0).astype(int)\n",
    "dfHNSW[\"efConstruction\"] = dfHNSW[\"efConstruction\"].fillna(0.0).astype(int)\n",
    "dfHNSW[\"efSearch\"] = dfHNSW[\"efSearch\"].fillna(0.0).astype(int)"
   ]
  },
  {
   "cell_type": "code",
   "execution_count": 38,
   "id": "e9bd497b",
   "metadata": {
    "execution": {
     "iopub.execute_input": "2022-08-18T15:44:42.860336Z",
     "iopub.status.busy": "2022-08-18T15:44:42.859766Z",
     "iopub.status.idle": "2022-08-18T15:44:43.028727Z",
     "shell.execute_reply": "2022-08-18T15:44:43.027744Z"
    },
    "papermill": {
     "duration": 0.837627,
     "end_time": "2022-08-18T15:44:43.031495",
     "exception": false,
     "start_time": "2022-08-18T15:44:42.193868",
     "status": "completed"
    },
    "tags": []
   },
   "outputs": [
    {
     "name": "stderr",
     "output_type": "stream",
     "text": [
      "/opt/conda/lib/python3.7/site-packages/plotly/graph_objs/_deprecations.py:385: DeprecationWarning:\n",
      "\n",
      "plotly.graph_objs.Line is deprecated.\n",
      "Please replace it with one of the following more specific types\n",
      "  - plotly.graph_objs.scatter.Line\n",
      "  - plotly.graph_objs.layout.shape.Line\n",
      "  - etc.\n",
      "\n",
      "\n"
     ]
    },
    {
     "data": {
      "text/html": [
       "<div>                            <div id=\"30e08b93-3fc6-41b4-96b0-b56bdd8338b5\" class=\"plotly-graph-div\" style=\"height:350px; width:700px;\"></div>            <script type=\"text/javascript\">                require([\"plotly\"], function(Plotly) {                    window.PLOTLYENV=window.PLOTLYENV || {};                                    if (document.getElementById(\"30e08b93-3fc6-41b4-96b0-b56bdd8338b5\")) {                    Plotly.newPlot(                        \"30e08b93-3fc6-41b4-96b0-b56bdd8338b5\",                        [{\"line\":{\"color\":\"#DC3912\",\"width\":3},\"x\":[1684.0091499999999,1684.0091499999999,1684.0091499999999,1684.0091499999999,1684.0091499999999,1684.0091499999999,1684.0091499999999,1684.0091499999999,1684.0091499999999,1684.0091499999999,1684.0091499999999,1684.0091499999999,1684.0091499999999,1684.0091499999999,1684.0091499999999,1684.0091499999999,1968.8076099999998,1968.8076099999998,1968.8076099999998,1968.8076099999998,1968.8076099999998,1968.8076099999998,1968.8076099999998,1968.8076099999998,1968.8076099999998,1968.8076099999998,1968.8076099999998,1968.8076099999998,1968.8076099999998,1968.8076099999998,1968.8076099999998,1968.8076099999998,2352.4245459999997,2352.4245459999997,2352.4245459999997,2352.4245459999997,2352.4245459999997,2352.4245459999997,2352.4245459999997,2352.4245459999997,2352.4245459999997,2352.4245459999997,2352.4245459999997,2352.4245459999997,2352.4245459999997,2352.4245459999997,2352.4245459999997,2352.4245459999997,3120.19375,3120.19375,3120.19375,3120.19375,3120.19375,3120.19375,3120.19375,3120.19375,3120.19375,3120.19375,3120.19375,3120.19375,3120.19375,3120.19375,3120.19375,3120.19375],\"y\":[4,4,4,4,4,4,4,4,4,4,4,4,4,4,4,4,16,16,16,16,16,16,16,16,16,16,16,16,16,16,16,16,32,32,32,32,32,32,32,32,32,32,32,32,32,32,32,32,64,64,64,64,64,64,64,64,64,64,64,64,64,64,64,64],\"type\":\"scatter\",\"xaxis\":\"x\",\"yaxis\":\"y\"},{\"line\":{\"color\":\"rgb(82, 188, 163)\",\"width\":3},\"x\":[330.0333242416382,330.0333242416382,330.0333242416382,330.0333242416382,537.627444267273,537.627444267273,537.627444267273,537.627444267273,911.6934139728546,911.6934139728546,911.6934139728546,911.6934139728546,1156.391366481781,1156.391366481781,1156.391366481781,1156.391366481781],\"y\":[4,4,4,4,16,16,16,16,32,32,32,32,64,64,64,64],\"type\":\"scatter\",\"xaxis\":\"x2\",\"yaxis\":\"y2\"}],                        {\"template\":{\"data\":{\"barpolar\":[{\"marker\":{\"line\":{\"color\":\"white\",\"width\":0.5},\"pattern\":{\"fillmode\":\"overlay\",\"size\":10,\"solidity\":0.2}},\"type\":\"barpolar\"}],\"bar\":[{\"error_x\":{\"color\":\"rgb(36,36,36)\"},\"error_y\":{\"color\":\"rgb(36,36,36)\"},\"marker\":{\"line\":{\"color\":\"white\",\"width\":0.5},\"pattern\":{\"fillmode\":\"overlay\",\"size\":10,\"solidity\":0.2}},\"type\":\"bar\"}],\"carpet\":[{\"aaxis\":{\"endlinecolor\":\"rgb(36,36,36)\",\"gridcolor\":\"white\",\"linecolor\":\"white\",\"minorgridcolor\":\"white\",\"startlinecolor\":\"rgb(36,36,36)\"},\"baxis\":{\"endlinecolor\":\"rgb(36,36,36)\",\"gridcolor\":\"white\",\"linecolor\":\"white\",\"minorgridcolor\":\"white\",\"startlinecolor\":\"rgb(36,36,36)\"},\"type\":\"carpet\"}],\"choropleth\":[{\"colorbar\":{\"outlinewidth\":1,\"tickcolor\":\"rgb(36,36,36)\",\"ticks\":\"outside\"},\"type\":\"choropleth\"}],\"contourcarpet\":[{\"colorbar\":{\"outlinewidth\":1,\"tickcolor\":\"rgb(36,36,36)\",\"ticks\":\"outside\"},\"type\":\"contourcarpet\"}],\"contour\":[{\"colorbar\":{\"outlinewidth\":1,\"tickcolor\":\"rgb(36,36,36)\",\"ticks\":\"outside\"},\"colorscale\":[[0.0,\"#440154\"],[0.1111111111111111,\"#482878\"],[0.2222222222222222,\"#3e4989\"],[0.3333333333333333,\"#31688e\"],[0.4444444444444444,\"#26828e\"],[0.5555555555555556,\"#1f9e89\"],[0.6666666666666666,\"#35b779\"],[0.7777777777777778,\"#6ece58\"],[0.8888888888888888,\"#b5de2b\"],[1.0,\"#fde725\"]],\"type\":\"contour\"}],\"heatmapgl\":[{\"colorbar\":{\"outlinewidth\":1,\"tickcolor\":\"rgb(36,36,36)\",\"ticks\":\"outside\"},\"colorscale\":[[0.0,\"#440154\"],[0.1111111111111111,\"#482878\"],[0.2222222222222222,\"#3e4989\"],[0.3333333333333333,\"#31688e\"],[0.4444444444444444,\"#26828e\"],[0.5555555555555556,\"#1f9e89\"],[0.6666666666666666,\"#35b779\"],[0.7777777777777778,\"#6ece58\"],[0.8888888888888888,\"#b5de2b\"],[1.0,\"#fde725\"]],\"type\":\"heatmapgl\"}],\"heatmap\":[{\"colorbar\":{\"outlinewidth\":1,\"tickcolor\":\"rgb(36,36,36)\",\"ticks\":\"outside\"},\"colorscale\":[[0.0,\"#440154\"],[0.1111111111111111,\"#482878\"],[0.2222222222222222,\"#3e4989\"],[0.3333333333333333,\"#31688e\"],[0.4444444444444444,\"#26828e\"],[0.5555555555555556,\"#1f9e89\"],[0.6666666666666666,\"#35b779\"],[0.7777777777777778,\"#6ece58\"],[0.8888888888888888,\"#b5de2b\"],[1.0,\"#fde725\"]],\"type\":\"heatmap\"}],\"histogram2dcontour\":[{\"colorbar\":{\"outlinewidth\":1,\"tickcolor\":\"rgb(36,36,36)\",\"ticks\":\"outside\"},\"colorscale\":[[0.0,\"#440154\"],[0.1111111111111111,\"#482878\"],[0.2222222222222222,\"#3e4989\"],[0.3333333333333333,\"#31688e\"],[0.4444444444444444,\"#26828e\"],[0.5555555555555556,\"#1f9e89\"],[0.6666666666666666,\"#35b779\"],[0.7777777777777778,\"#6ece58\"],[0.8888888888888888,\"#b5de2b\"],[1.0,\"#fde725\"]],\"type\":\"histogram2dcontour\"}],\"histogram2d\":[{\"colorbar\":{\"outlinewidth\":1,\"tickcolor\":\"rgb(36,36,36)\",\"ticks\":\"outside\"},\"colorscale\":[[0.0,\"#440154\"],[0.1111111111111111,\"#482878\"],[0.2222222222222222,\"#3e4989\"],[0.3333333333333333,\"#31688e\"],[0.4444444444444444,\"#26828e\"],[0.5555555555555556,\"#1f9e89\"],[0.6666666666666666,\"#35b779\"],[0.7777777777777778,\"#6ece58\"],[0.8888888888888888,\"#b5de2b\"],[1.0,\"#fde725\"]],\"type\":\"histogram2d\"}],\"histogram\":[{\"marker\":{\"line\":{\"color\":\"white\",\"width\":0.6}},\"type\":\"histogram\"}],\"mesh3d\":[{\"colorbar\":{\"outlinewidth\":1,\"tickcolor\":\"rgb(36,36,36)\",\"ticks\":\"outside\"},\"type\":\"mesh3d\"}],\"parcoords\":[{\"line\":{\"colorbar\":{\"outlinewidth\":1,\"tickcolor\":\"rgb(36,36,36)\",\"ticks\":\"outside\"}},\"type\":\"parcoords\"}],\"pie\":[{\"automargin\":true,\"type\":\"pie\"}],\"scatter3d\":[{\"line\":{\"colorbar\":{\"outlinewidth\":1,\"tickcolor\":\"rgb(36,36,36)\",\"ticks\":\"outside\"}},\"marker\":{\"colorbar\":{\"outlinewidth\":1,\"tickcolor\":\"rgb(36,36,36)\",\"ticks\":\"outside\"}},\"type\":\"scatter3d\"}],\"scattercarpet\":[{\"marker\":{\"colorbar\":{\"outlinewidth\":1,\"tickcolor\":\"rgb(36,36,36)\",\"ticks\":\"outside\"}},\"type\":\"scattercarpet\"}],\"scattergeo\":[{\"marker\":{\"colorbar\":{\"outlinewidth\":1,\"tickcolor\":\"rgb(36,36,36)\",\"ticks\":\"outside\"}},\"type\":\"scattergeo\"}],\"scattergl\":[{\"marker\":{\"colorbar\":{\"outlinewidth\":1,\"tickcolor\":\"rgb(36,36,36)\",\"ticks\":\"outside\"}},\"type\":\"scattergl\"}],\"scattermapbox\":[{\"marker\":{\"colorbar\":{\"outlinewidth\":1,\"tickcolor\":\"rgb(36,36,36)\",\"ticks\":\"outside\"}},\"type\":\"scattermapbox\"}],\"scatterpolargl\":[{\"marker\":{\"colorbar\":{\"outlinewidth\":1,\"tickcolor\":\"rgb(36,36,36)\",\"ticks\":\"outside\"}},\"type\":\"scatterpolargl\"}],\"scatterpolar\":[{\"marker\":{\"colorbar\":{\"outlinewidth\":1,\"tickcolor\":\"rgb(36,36,36)\",\"ticks\":\"outside\"}},\"type\":\"scatterpolar\"}],\"scatter\":[{\"fillpattern\":{\"fillmode\":\"overlay\",\"size\":10,\"solidity\":0.2},\"type\":\"scatter\"}],\"scatterternary\":[{\"marker\":{\"colorbar\":{\"outlinewidth\":1,\"tickcolor\":\"rgb(36,36,36)\",\"ticks\":\"outside\"}},\"type\":\"scatterternary\"}],\"surface\":[{\"colorbar\":{\"outlinewidth\":1,\"tickcolor\":\"rgb(36,36,36)\",\"ticks\":\"outside\"},\"colorscale\":[[0.0,\"#440154\"],[0.1111111111111111,\"#482878\"],[0.2222222222222222,\"#3e4989\"],[0.3333333333333333,\"#31688e\"],[0.4444444444444444,\"#26828e\"],[0.5555555555555556,\"#1f9e89\"],[0.6666666666666666,\"#35b779\"],[0.7777777777777778,\"#6ece58\"],[0.8888888888888888,\"#b5de2b\"],[1.0,\"#fde725\"]],\"type\":\"surface\"}],\"table\":[{\"cells\":{\"fill\":{\"color\":\"rgb(237,237,237)\"},\"line\":{\"color\":\"white\"}},\"header\":{\"fill\":{\"color\":\"rgb(217,217,217)\"},\"line\":{\"color\":\"white\"}},\"type\":\"table\"}]},\"layout\":{\"annotationdefaults\":{\"arrowhead\":0,\"arrowwidth\":1},\"autotypenumbers\":\"strict\",\"coloraxis\":{\"colorbar\":{\"outlinewidth\":1,\"tickcolor\":\"rgb(36,36,36)\",\"ticks\":\"outside\"}},\"colorscale\":{\"diverging\":[[0.0,\"rgb(103,0,31)\"],[0.1,\"rgb(178,24,43)\"],[0.2,\"rgb(214,96,77)\"],[0.3,\"rgb(244,165,130)\"],[0.4,\"rgb(253,219,199)\"],[0.5,\"rgb(247,247,247)\"],[0.6,\"rgb(209,229,240)\"],[0.7,\"rgb(146,197,222)\"],[0.8,\"rgb(67,147,195)\"],[0.9,\"rgb(33,102,172)\"],[1.0,\"rgb(5,48,97)\"]],\"sequential\":[[0.0,\"#440154\"],[0.1111111111111111,\"#482878\"],[0.2222222222222222,\"#3e4989\"],[0.3333333333333333,\"#31688e\"],[0.4444444444444444,\"#26828e\"],[0.5555555555555556,\"#1f9e89\"],[0.6666666666666666,\"#35b779\"],[0.7777777777777778,\"#6ece58\"],[0.8888888888888888,\"#b5de2b\"],[1.0,\"#fde725\"]],\"sequentialminus\":[[0.0,\"#440154\"],[0.1111111111111111,\"#482878\"],[0.2222222222222222,\"#3e4989\"],[0.3333333333333333,\"#31688e\"],[0.4444444444444444,\"#26828e\"],[0.5555555555555556,\"#1f9e89\"],[0.6666666666666666,\"#35b779\"],[0.7777777777777778,\"#6ece58\"],[0.8888888888888888,\"#b5de2b\"],[1.0,\"#fde725\"]]},\"colorway\":[\"#1F77B4\",\"#FF7F0E\",\"#2CA02C\",\"#D62728\",\"#9467BD\",\"#8C564B\",\"#E377C2\",\"#7F7F7F\",\"#BCBD22\",\"#17BECF\"],\"font\":{\"color\":\"rgb(36,36,36)\"},\"geo\":{\"bgcolor\":\"white\",\"lakecolor\":\"white\",\"landcolor\":\"white\",\"showlakes\":true,\"showland\":true,\"subunitcolor\":\"white\"},\"hoverlabel\":{\"align\":\"left\"},\"hovermode\":\"closest\",\"mapbox\":{\"style\":\"light\"},\"paper_bgcolor\":\"white\",\"plot_bgcolor\":\"white\",\"polar\":{\"angularaxis\":{\"gridcolor\":\"rgb(232,232,232)\",\"linecolor\":\"rgb(36,36,36)\",\"showgrid\":false,\"showline\":true,\"ticks\":\"outside\"},\"bgcolor\":\"white\",\"radialaxis\":{\"gridcolor\":\"rgb(232,232,232)\",\"linecolor\":\"rgb(36,36,36)\",\"showgrid\":false,\"showline\":true,\"ticks\":\"outside\"}},\"scene\":{\"xaxis\":{\"backgroundcolor\":\"white\",\"gridcolor\":\"rgb(232,232,232)\",\"gridwidth\":2,\"linecolor\":\"rgb(36,36,36)\",\"showbackground\":true,\"showgrid\":false,\"showline\":true,\"ticks\":\"outside\",\"zeroline\":false,\"zerolinecolor\":\"rgb(36,36,36)\"},\"yaxis\":{\"backgroundcolor\":\"white\",\"gridcolor\":\"rgb(232,232,232)\",\"gridwidth\":2,\"linecolor\":\"rgb(36,36,36)\",\"showbackground\":true,\"showgrid\":false,\"showline\":true,\"ticks\":\"outside\",\"zeroline\":false,\"zerolinecolor\":\"rgb(36,36,36)\"},\"zaxis\":{\"backgroundcolor\":\"white\",\"gridcolor\":\"rgb(232,232,232)\",\"gridwidth\":2,\"linecolor\":\"rgb(36,36,36)\",\"showbackground\":true,\"showgrid\":false,\"showline\":true,\"ticks\":\"outside\",\"zeroline\":false,\"zerolinecolor\":\"rgb(36,36,36)\"}},\"shapedefaults\":{\"fillcolor\":\"black\",\"line\":{\"width\":0},\"opacity\":0.3},\"ternary\":{\"aaxis\":{\"gridcolor\":\"rgb(232,232,232)\",\"linecolor\":\"rgb(36,36,36)\",\"showgrid\":false,\"showline\":true,\"ticks\":\"outside\"},\"baxis\":{\"gridcolor\":\"rgb(232,232,232)\",\"linecolor\":\"rgb(36,36,36)\",\"showgrid\":false,\"showline\":true,\"ticks\":\"outside\"},\"bgcolor\":\"white\",\"caxis\":{\"gridcolor\":\"rgb(232,232,232)\",\"linecolor\":\"rgb(36,36,36)\",\"showgrid\":false,\"showline\":true,\"ticks\":\"outside\"}},\"title\":{\"x\":0.05},\"xaxis\":{\"automargin\":true,\"gridcolor\":\"rgb(232,232,232)\",\"linecolor\":\"rgb(36,36,36)\",\"showgrid\":false,\"showline\":true,\"ticks\":\"outside\",\"title\":{\"standoff\":15},\"zeroline\":false,\"zerolinecolor\":\"rgb(36,36,36)\"},\"yaxis\":{\"automargin\":true,\"gridcolor\":\"rgb(232,232,232)\",\"linecolor\":\"rgb(36,36,36)\",\"showgrid\":false,\"showline\":true,\"ticks\":\"outside\",\"title\":{\"standoff\":15},\"zeroline\":false,\"zerolinecolor\":\"rgb(36,36,36)\"}}},\"xaxis\":{\"anchor\":\"y\",\"domain\":[0.0,0.4],\"title\":{\"text\":\"index size (MB)\"},\"ticks\":\"\",\"linecolor\":\"darkgrey\"},\"yaxis\":{\"anchor\":\"x\",\"domain\":[0.0,1.0],\"title\":{\"text\":\"M\"},\"range\":[0,65],\"tick0\":0.0,\"dtick\":10,\"ticks\":\"\",\"linecolor\":\"darkgrey\"},\"xaxis2\":{\"anchor\":\"y2\",\"domain\":[0.6000000000000001,1.0],\"title\":{\"text\":\"construction time (s)\"},\"ticks\":\"\",\"linecolor\":\"darkgrey\"},\"yaxis2\":{\"anchor\":\"x2\",\"domain\":[0.0,1.0],\"title\":{\"text\":\"M\"},\"range\":[0,65],\"tick0\":0.0,\"dtick\":10,\"ticks\":\"\",\"linecolor\":\"darkgrey\"},\"title\":{\"text\":\"\"},\"height\":350,\"width\":700,\"showlegend\":false},                        {\"responsive\": true}                    ).then(function(){\n",
       "                            \n",
       "var gd = document.getElementById('30e08b93-3fc6-41b4-96b0-b56bdd8338b5');\n",
       "var x = new MutationObserver(function (mutations, observer) {{\n",
       "        var display = window.getComputedStyle(gd).display;\n",
       "        if (!display || display === 'none') {{\n",
       "            console.log([gd, 'removed!']);\n",
       "            Plotly.purge(gd);\n",
       "            observer.disconnect();\n",
       "        }}\n",
       "}});\n",
       "\n",
       "// Listen for the removal of the full notebook cells\n",
       "var notebookContainer = gd.closest('#notebook-container');\n",
       "if (notebookContainer) {{\n",
       "    x.observe(notebookContainer, {childList: true});\n",
       "}}\n",
       "\n",
       "// Listen for the clearing of the current output cell\n",
       "var outputEl = gd.closest('.output');\n",
       "if (outputEl) {{\n",
       "    x.observe(outputEl, {childList: true});\n",
       "}}\n",
       "\n",
       "                        })                };                });            </script>        </div>"
      ]
     },
     "metadata": {},
     "output_type": "display_data"
    }
   ],
   "source": [
    "fig = make_subplots(rows=1, cols=2, horizontal_spacing = 0.2)\n",
    "           \n",
    "fig.add_trace(go.Line(x=dfHNSW['index_size'], y=dfHNSW['M'], line=dict(color='#DC3912', width=3)),\n",
    "              row=1, col=1\n",
    "             )         \n",
    "fig.add_trace(go.Line(x=dfHNSW[dfHNSW[\"efConstruction\"]==40][\"index_time\"].values, \n",
    "                      y=dfHNSW[dfHNSW[\"efConstruction\"]==40][\"M\"].values, \n",
    "                      line=dict(color='rgb(82, 188, 163)', width=3)),\n",
    "              row=1, col=2\n",
    "             )   \n",
    "fig.update_yaxes(title_text=\"M\", row=1, col=1, range=[0, 65], tick0=0.0, dtick=10, ticks=\"\", linecolor='darkgrey')\n",
    "fig.update_yaxes(title_text=\"M\", row=1, col=2, range=[0, 65], tick0=0.0, dtick=10, ticks=\"\", linecolor='darkgrey')\n",
    "fig.update_xaxes(title_text=\"index size (MB)\", row=1, col=1, ticks=\"\", linecolor='darkgrey')\n",
    "fig.update_xaxes(title_text=\"construction time (s)\", row=1, col=2, ticks=\"\", linecolor='darkgrey')\n",
    "fig.update_layout(height=350, width=700, template=\"simple_white\", showlegend=False, title_text=\"\")#, title_x=0.5)\n",
    "# fig.update_traces(mode='lines+markers', )\n",
    "fig.show()\n",
    "fig.write_html(\"Hflat_M_indexsize_indextime.html\")"
   ]
  },
  {
   "cell_type": "code",
   "execution_count": 39,
   "id": "84ce45a6",
   "metadata": {
    "execution": {
     "iopub.execute_input": "2022-08-18T15:44:44.336458Z",
     "iopub.status.busy": "2022-08-18T15:44:44.336069Z",
     "iopub.status.idle": "2022-08-18T15:44:44.426459Z",
     "shell.execute_reply": "2022-08-18T15:44:44.425474Z"
    },
    "papermill": {
     "duration": 0.686593,
     "end_time": "2022-08-18T15:44:44.428723",
     "exception": false,
     "start_time": "2022-08-18T15:44:43.742130",
     "status": "completed"
    },
    "tags": []
   },
   "outputs": [
    {
     "data": {
      "text/html": [
       "<div>                            <div id=\"05a23150-63f7-495c-9d1e-9b1bee2f0897\" class=\"plotly-graph-div\" style=\"height:400px; width:700px;\"></div>            <script type=\"text/javascript\">                require([\"plotly\"], function(Plotly) {                    window.PLOTLYENV=window.PLOTLYENV || {};                                    if (document.getElementById(\"05a23150-63f7-495c-9d1e-9b1bee2f0897\")) {                    Plotly.newPlot(                        \"05a23150-63f7-495c-9d1e-9b1bee2f0897\",                        [{\"hovertemplate\":\"efConstruction=4<br>index size (MB)=%{x}<br>M=%{y}<extra></extra>\",\"legendgroup\":\"4\",\"line\":{\"color\":\"rgb(229, 134, 6)\",\"dash\":\"solid\"},\"marker\":{\"symbol\":\"circle\"},\"mode\":\"markers+lines\",\"name\":\"4\",\"orientation\":\"v\",\"showlegend\":true,\"x\":[1684.0091499999999,1684.0091499999999,1684.0091499999999,1684.0091499999999,1968.8076099999998,1968.8076099999998,1968.8076099999998,1968.8076099999998,2352.4245459999997,2352.4245459999997,2352.4245459999997,2352.4245459999997,3120.19375,3120.19375,3120.19375,3120.19375],\"xaxis\":\"x\",\"y\":[4,4,4,4,16,16,16,16,32,32,32,32,64,64,64,64],\"yaxis\":\"y\",\"type\":\"scatter\"},{\"hovertemplate\":\"efConstruction=16<br>index size (MB)=%{x}<br>M=%{y}<extra></extra>\",\"legendgroup\":\"16\",\"line\":{\"color\":\"rgb(93, 105, 177)\",\"dash\":\"solid\"},\"marker\":{\"symbol\":\"circle\"},\"mode\":\"markers+lines\",\"name\":\"16\",\"orientation\":\"v\",\"showlegend\":true,\"x\":[1684.0091499999999,1684.0091499999999,1684.0091499999999,1684.0091499999999,1968.8076099999998,1968.8076099999998,1968.8076099999998,1968.8076099999998,2352.4245459999997,2352.4245459999997,2352.4245459999997,2352.4245459999997,3120.19375,3120.19375,3120.19375,3120.19375],\"xaxis\":\"x\",\"y\":[4,4,4,4,16,16,16,16,32,32,32,32,64,64,64,64],\"yaxis\":\"y\",\"type\":\"scatter\"},{\"hovertemplate\":\"efConstruction=40<br>index size (MB)=%{x}<br>M=%{y}<extra></extra>\",\"legendgroup\":\"40\",\"line\":{\"color\":\"rgb(82, 188, 163)\",\"dash\":\"solid\"},\"marker\":{\"symbol\":\"circle\"},\"mode\":\"markers+lines\",\"name\":\"40\",\"orientation\":\"v\",\"showlegend\":true,\"x\":[1684.0091499999999,1684.0091499999999,1684.0091499999999,1684.0091499999999,1968.8076099999998,1968.8076099999998,1968.8076099999998,1968.8076099999998,2352.4245459999997,2352.4245459999997,2352.4245459999997,2352.4245459999997,3120.19375,3120.19375,3120.19375,3120.19375],\"xaxis\":\"x\",\"y\":[4,4,4,4,16,16,16,16,32,32,32,32,64,64,64,64],\"yaxis\":\"y\",\"type\":\"scatter\"},{\"hovertemplate\":\"efConstruction=76<br>index size (MB)=%{x}<br>M=%{y}<extra></extra>\",\"legendgroup\":\"76\",\"line\":{\"color\":\"rgb(153, 201, 69)\",\"dash\":\"solid\"},\"marker\":{\"symbol\":\"circle\"},\"mode\":\"markers+lines\",\"name\":\"76\",\"orientation\":\"v\",\"showlegend\":true,\"x\":[1684.0091499999999,1684.0091499999999,1684.0091499999999,1684.0091499999999,1968.8076099999998,1968.8076099999998,1968.8076099999998,1968.8076099999998,2352.4245459999997,2352.4245459999997,2352.4245459999997,2352.4245459999997,3120.19375,3120.19375,3120.19375,3120.19375],\"xaxis\":\"x\",\"y\":[4,4,4,4,16,16,16,16,32,32,32,32,64,64,64,64],\"yaxis\":\"y\",\"type\":\"scatter\"}],                        {\"template\":{\"data\":{\"barpolar\":[{\"marker\":{\"line\":{\"color\":\"white\",\"width\":0.5},\"pattern\":{\"fillmode\":\"overlay\",\"size\":10,\"solidity\":0.2}},\"type\":\"barpolar\"}],\"bar\":[{\"error_x\":{\"color\":\"rgb(36,36,36)\"},\"error_y\":{\"color\":\"rgb(36,36,36)\"},\"marker\":{\"line\":{\"color\":\"white\",\"width\":0.5},\"pattern\":{\"fillmode\":\"overlay\",\"size\":10,\"solidity\":0.2}},\"type\":\"bar\"}],\"carpet\":[{\"aaxis\":{\"endlinecolor\":\"rgb(36,36,36)\",\"gridcolor\":\"white\",\"linecolor\":\"white\",\"minorgridcolor\":\"white\",\"startlinecolor\":\"rgb(36,36,36)\"},\"baxis\":{\"endlinecolor\":\"rgb(36,36,36)\",\"gridcolor\":\"white\",\"linecolor\":\"white\",\"minorgridcolor\":\"white\",\"startlinecolor\":\"rgb(36,36,36)\"},\"type\":\"carpet\"}],\"choropleth\":[{\"colorbar\":{\"outlinewidth\":1,\"tickcolor\":\"rgb(36,36,36)\",\"ticks\":\"outside\"},\"type\":\"choropleth\"}],\"contourcarpet\":[{\"colorbar\":{\"outlinewidth\":1,\"tickcolor\":\"rgb(36,36,36)\",\"ticks\":\"outside\"},\"type\":\"contourcarpet\"}],\"contour\":[{\"colorbar\":{\"outlinewidth\":1,\"tickcolor\":\"rgb(36,36,36)\",\"ticks\":\"outside\"},\"colorscale\":[[0.0,\"#440154\"],[0.1111111111111111,\"#482878\"],[0.2222222222222222,\"#3e4989\"],[0.3333333333333333,\"#31688e\"],[0.4444444444444444,\"#26828e\"],[0.5555555555555556,\"#1f9e89\"],[0.6666666666666666,\"#35b779\"],[0.7777777777777778,\"#6ece58\"],[0.8888888888888888,\"#b5de2b\"],[1.0,\"#fde725\"]],\"type\":\"contour\"}],\"heatmapgl\":[{\"colorbar\":{\"outlinewidth\":1,\"tickcolor\":\"rgb(36,36,36)\",\"ticks\":\"outside\"},\"colorscale\":[[0.0,\"#440154\"],[0.1111111111111111,\"#482878\"],[0.2222222222222222,\"#3e4989\"],[0.3333333333333333,\"#31688e\"],[0.4444444444444444,\"#26828e\"],[0.5555555555555556,\"#1f9e89\"],[0.6666666666666666,\"#35b779\"],[0.7777777777777778,\"#6ece58\"],[0.8888888888888888,\"#b5de2b\"],[1.0,\"#fde725\"]],\"type\":\"heatmapgl\"}],\"heatmap\":[{\"colorbar\":{\"outlinewidth\":1,\"tickcolor\":\"rgb(36,36,36)\",\"ticks\":\"outside\"},\"colorscale\":[[0.0,\"#440154\"],[0.1111111111111111,\"#482878\"],[0.2222222222222222,\"#3e4989\"],[0.3333333333333333,\"#31688e\"],[0.4444444444444444,\"#26828e\"],[0.5555555555555556,\"#1f9e89\"],[0.6666666666666666,\"#35b779\"],[0.7777777777777778,\"#6ece58\"],[0.8888888888888888,\"#b5de2b\"],[1.0,\"#fde725\"]],\"type\":\"heatmap\"}],\"histogram2dcontour\":[{\"colorbar\":{\"outlinewidth\":1,\"tickcolor\":\"rgb(36,36,36)\",\"ticks\":\"outside\"},\"colorscale\":[[0.0,\"#440154\"],[0.1111111111111111,\"#482878\"],[0.2222222222222222,\"#3e4989\"],[0.3333333333333333,\"#31688e\"],[0.4444444444444444,\"#26828e\"],[0.5555555555555556,\"#1f9e89\"],[0.6666666666666666,\"#35b779\"],[0.7777777777777778,\"#6ece58\"],[0.8888888888888888,\"#b5de2b\"],[1.0,\"#fde725\"]],\"type\":\"histogram2dcontour\"}],\"histogram2d\":[{\"colorbar\":{\"outlinewidth\":1,\"tickcolor\":\"rgb(36,36,36)\",\"ticks\":\"outside\"},\"colorscale\":[[0.0,\"#440154\"],[0.1111111111111111,\"#482878\"],[0.2222222222222222,\"#3e4989\"],[0.3333333333333333,\"#31688e\"],[0.4444444444444444,\"#26828e\"],[0.5555555555555556,\"#1f9e89\"],[0.6666666666666666,\"#35b779\"],[0.7777777777777778,\"#6ece58\"],[0.8888888888888888,\"#b5de2b\"],[1.0,\"#fde725\"]],\"type\":\"histogram2d\"}],\"histogram\":[{\"marker\":{\"line\":{\"color\":\"white\",\"width\":0.6}},\"type\":\"histogram\"}],\"mesh3d\":[{\"colorbar\":{\"outlinewidth\":1,\"tickcolor\":\"rgb(36,36,36)\",\"ticks\":\"outside\"},\"type\":\"mesh3d\"}],\"parcoords\":[{\"line\":{\"colorbar\":{\"outlinewidth\":1,\"tickcolor\":\"rgb(36,36,36)\",\"ticks\":\"outside\"}},\"type\":\"parcoords\"}],\"pie\":[{\"automargin\":true,\"type\":\"pie\"}],\"scatter3d\":[{\"line\":{\"colorbar\":{\"outlinewidth\":1,\"tickcolor\":\"rgb(36,36,36)\",\"ticks\":\"outside\"}},\"marker\":{\"colorbar\":{\"outlinewidth\":1,\"tickcolor\":\"rgb(36,36,36)\",\"ticks\":\"outside\"}},\"type\":\"scatter3d\"}],\"scattercarpet\":[{\"marker\":{\"colorbar\":{\"outlinewidth\":1,\"tickcolor\":\"rgb(36,36,36)\",\"ticks\":\"outside\"}},\"type\":\"scattercarpet\"}],\"scattergeo\":[{\"marker\":{\"colorbar\":{\"outlinewidth\":1,\"tickcolor\":\"rgb(36,36,36)\",\"ticks\":\"outside\"}},\"type\":\"scattergeo\"}],\"scattergl\":[{\"marker\":{\"colorbar\":{\"outlinewidth\":1,\"tickcolor\":\"rgb(36,36,36)\",\"ticks\":\"outside\"}},\"type\":\"scattergl\"}],\"scattermapbox\":[{\"marker\":{\"colorbar\":{\"outlinewidth\":1,\"tickcolor\":\"rgb(36,36,36)\",\"ticks\":\"outside\"}},\"type\":\"scattermapbox\"}],\"scatterpolargl\":[{\"marker\":{\"colorbar\":{\"outlinewidth\":1,\"tickcolor\":\"rgb(36,36,36)\",\"ticks\":\"outside\"}},\"type\":\"scatterpolargl\"}],\"scatterpolar\":[{\"marker\":{\"colorbar\":{\"outlinewidth\":1,\"tickcolor\":\"rgb(36,36,36)\",\"ticks\":\"outside\"}},\"type\":\"scatterpolar\"}],\"scatter\":[{\"fillpattern\":{\"fillmode\":\"overlay\",\"size\":10,\"solidity\":0.2},\"type\":\"scatter\"}],\"scatterternary\":[{\"marker\":{\"colorbar\":{\"outlinewidth\":1,\"tickcolor\":\"rgb(36,36,36)\",\"ticks\":\"outside\"}},\"type\":\"scatterternary\"}],\"surface\":[{\"colorbar\":{\"outlinewidth\":1,\"tickcolor\":\"rgb(36,36,36)\",\"ticks\":\"outside\"},\"colorscale\":[[0.0,\"#440154\"],[0.1111111111111111,\"#482878\"],[0.2222222222222222,\"#3e4989\"],[0.3333333333333333,\"#31688e\"],[0.4444444444444444,\"#26828e\"],[0.5555555555555556,\"#1f9e89\"],[0.6666666666666666,\"#35b779\"],[0.7777777777777778,\"#6ece58\"],[0.8888888888888888,\"#b5de2b\"],[1.0,\"#fde725\"]],\"type\":\"surface\"}],\"table\":[{\"cells\":{\"fill\":{\"color\":\"rgb(237,237,237)\"},\"line\":{\"color\":\"white\"}},\"header\":{\"fill\":{\"color\":\"rgb(217,217,217)\"},\"line\":{\"color\":\"white\"}},\"type\":\"table\"}]},\"layout\":{\"annotationdefaults\":{\"arrowhead\":0,\"arrowwidth\":1},\"autotypenumbers\":\"strict\",\"coloraxis\":{\"colorbar\":{\"outlinewidth\":1,\"tickcolor\":\"rgb(36,36,36)\",\"ticks\":\"outside\"}},\"colorscale\":{\"diverging\":[[0.0,\"rgb(103,0,31)\"],[0.1,\"rgb(178,24,43)\"],[0.2,\"rgb(214,96,77)\"],[0.3,\"rgb(244,165,130)\"],[0.4,\"rgb(253,219,199)\"],[0.5,\"rgb(247,247,247)\"],[0.6,\"rgb(209,229,240)\"],[0.7,\"rgb(146,197,222)\"],[0.8,\"rgb(67,147,195)\"],[0.9,\"rgb(33,102,172)\"],[1.0,\"rgb(5,48,97)\"]],\"sequential\":[[0.0,\"#440154\"],[0.1111111111111111,\"#482878\"],[0.2222222222222222,\"#3e4989\"],[0.3333333333333333,\"#31688e\"],[0.4444444444444444,\"#26828e\"],[0.5555555555555556,\"#1f9e89\"],[0.6666666666666666,\"#35b779\"],[0.7777777777777778,\"#6ece58\"],[0.8888888888888888,\"#b5de2b\"],[1.0,\"#fde725\"]],\"sequentialminus\":[[0.0,\"#440154\"],[0.1111111111111111,\"#482878\"],[0.2222222222222222,\"#3e4989\"],[0.3333333333333333,\"#31688e\"],[0.4444444444444444,\"#26828e\"],[0.5555555555555556,\"#1f9e89\"],[0.6666666666666666,\"#35b779\"],[0.7777777777777778,\"#6ece58\"],[0.8888888888888888,\"#b5de2b\"],[1.0,\"#fde725\"]]},\"colorway\":[\"#1F77B4\",\"#FF7F0E\",\"#2CA02C\",\"#D62728\",\"#9467BD\",\"#8C564B\",\"#E377C2\",\"#7F7F7F\",\"#BCBD22\",\"#17BECF\"],\"font\":{\"color\":\"rgb(36,36,36)\"},\"geo\":{\"bgcolor\":\"white\",\"lakecolor\":\"white\",\"landcolor\":\"white\",\"showlakes\":true,\"showland\":true,\"subunitcolor\":\"white\"},\"hoverlabel\":{\"align\":\"left\"},\"hovermode\":\"closest\",\"mapbox\":{\"style\":\"light\"},\"paper_bgcolor\":\"white\",\"plot_bgcolor\":\"white\",\"polar\":{\"angularaxis\":{\"gridcolor\":\"rgb(232,232,232)\",\"linecolor\":\"rgb(36,36,36)\",\"showgrid\":false,\"showline\":true,\"ticks\":\"outside\"},\"bgcolor\":\"white\",\"radialaxis\":{\"gridcolor\":\"rgb(232,232,232)\",\"linecolor\":\"rgb(36,36,36)\",\"showgrid\":false,\"showline\":true,\"ticks\":\"outside\"}},\"scene\":{\"xaxis\":{\"backgroundcolor\":\"white\",\"gridcolor\":\"rgb(232,232,232)\",\"gridwidth\":2,\"linecolor\":\"rgb(36,36,36)\",\"showbackground\":true,\"showgrid\":false,\"showline\":true,\"ticks\":\"outside\",\"zeroline\":false,\"zerolinecolor\":\"rgb(36,36,36)\"},\"yaxis\":{\"backgroundcolor\":\"white\",\"gridcolor\":\"rgb(232,232,232)\",\"gridwidth\":2,\"linecolor\":\"rgb(36,36,36)\",\"showbackground\":true,\"showgrid\":false,\"showline\":true,\"ticks\":\"outside\",\"zeroline\":false,\"zerolinecolor\":\"rgb(36,36,36)\"},\"zaxis\":{\"backgroundcolor\":\"white\",\"gridcolor\":\"rgb(232,232,232)\",\"gridwidth\":2,\"linecolor\":\"rgb(36,36,36)\",\"showbackground\":true,\"showgrid\":false,\"showline\":true,\"ticks\":\"outside\",\"zeroline\":false,\"zerolinecolor\":\"rgb(36,36,36)\"}},\"shapedefaults\":{\"fillcolor\":\"black\",\"line\":{\"width\":0},\"opacity\":0.3},\"ternary\":{\"aaxis\":{\"gridcolor\":\"rgb(232,232,232)\",\"linecolor\":\"rgb(36,36,36)\",\"showgrid\":false,\"showline\":true,\"ticks\":\"outside\"},\"baxis\":{\"gridcolor\":\"rgb(232,232,232)\",\"linecolor\":\"rgb(36,36,36)\",\"showgrid\":false,\"showline\":true,\"ticks\":\"outside\"},\"bgcolor\":\"white\",\"caxis\":{\"gridcolor\":\"rgb(232,232,232)\",\"linecolor\":\"rgb(36,36,36)\",\"showgrid\":false,\"showline\":true,\"ticks\":\"outside\"}},\"title\":{\"x\":0.05},\"xaxis\":{\"automargin\":true,\"gridcolor\":\"rgb(232,232,232)\",\"linecolor\":\"rgb(36,36,36)\",\"showgrid\":false,\"showline\":true,\"ticks\":\"outside\",\"title\":{\"standoff\":15},\"zeroline\":false,\"zerolinecolor\":\"rgb(36,36,36)\"},\"yaxis\":{\"automargin\":true,\"gridcolor\":\"rgb(232,232,232)\",\"linecolor\":\"rgb(36,36,36)\",\"showgrid\":false,\"showline\":true,\"ticks\":\"outside\",\"title\":{\"standoff\":15},\"zeroline\":false,\"zerolinecolor\":\"rgb(36,36,36)\"}}},\"xaxis\":{\"anchor\":\"y\",\"domain\":[0.0,1.0],\"title\":{\"text\":\"index size (MB)\"},\"linecolor\":\"darkgrey\"},\"yaxis\":{\"anchor\":\"x\",\"domain\":[0.0,1.0],\"title\":{\"text\":\"M\"},\"linecolor\":\"darkgrey\"},\"legend\":{\"title\":{\"text\":\"efConstruction\"},\"tracegroupgap\":0},\"margin\":{\"t\":60},\"height\":400,\"width\":700},                        {\"responsive\": true}                    ).then(function(){\n",
       "                            \n",
       "var gd = document.getElementById('05a23150-63f7-495c-9d1e-9b1bee2f0897');\n",
       "var x = new MutationObserver(function (mutations, observer) {{\n",
       "        var display = window.getComputedStyle(gd).display;\n",
       "        if (!display || display === 'none') {{\n",
       "            console.log([gd, 'removed!']);\n",
       "            Plotly.purge(gd);\n",
       "            observer.disconnect();\n",
       "        }}\n",
       "}});\n",
       "\n",
       "// Listen for the removal of the full notebook cells\n",
       "var notebookContainer = gd.closest('#notebook-container');\n",
       "if (notebookContainer) {{\n",
       "    x.observe(notebookContainer, {childList: true});\n",
       "}}\n",
       "\n",
       "// Listen for the clearing of the current output cell\n",
       "var outputEl = gd.closest('.output');\n",
       "if (outputEl) {{\n",
       "    x.observe(outputEl, {childList: true});\n",
       "}}\n",
       "\n",
       "                        })                };                });            </script>        </div>"
      ]
     },
     "metadata": {},
     "output_type": "display_data"
    }
   ],
   "source": [
    "fig = px.line(dfHNSW, x=\"index_size\", y=\"M\", markers=True, height=400, width=700, template=\"simple_white\", color=\"efConstruction\",\n",
    "              color_discrete_sequence=px.colors.qualitative.Vivid,  \n",
    "              labels=dict(index_size=\"index size (MB)\",))\n",
    "fig.update_xaxes(linecolor='darkgrey')\n",
    "fig.update_yaxes(linecolor='darkgrey')\n",
    "fig.show()\n",
    "fig.write_html(\"Hflat_M_indexsize.html\")"
   ]
  },
  {
   "cell_type": "code",
   "execution_count": 40,
   "id": "22369bfb",
   "metadata": {
    "execution": {
     "iopub.execute_input": "2022-08-18T15:44:46.338229Z",
     "iopub.status.busy": "2022-08-18T15:44:46.337731Z",
     "iopub.status.idle": "2022-08-18T15:44:46.419304Z",
     "shell.execute_reply": "2022-08-18T15:44:46.418349Z"
    },
    "papermill": {
     "duration": 0.81034,
     "end_time": "2022-08-18T15:44:46.421560",
     "exception": false,
     "start_time": "2022-08-18T15:44:45.611220",
     "status": "completed"
    },
    "tags": []
   },
   "outputs": [
    {
     "data": {
      "text/html": [
       "<div>                            <div id=\"f621e1ac-4f75-4804-b9e1-8bc23b121e39\" class=\"plotly-graph-div\" style=\"height:400px; width:700px;\"></div>            <script type=\"text/javascript\">                require([\"plotly\"], function(Plotly) {                    window.PLOTLYENV=window.PLOTLYENV || {};                                    if (document.getElementById(\"f621e1ac-4f75-4804-b9e1-8bc23b121e39\")) {                    Plotly.newPlot(                        \"f621e1ac-4f75-4804-b9e1-8bc23b121e39\",                        [{\"hovertemplate\":\"efConstruction=4<br>construction time (s)=%{x}<br>M=%{y}<extra></extra>\",\"legendgroup\":\"4\",\"line\":{\"color\":\"rgb(229, 134, 6)\",\"dash\":\"solid\"},\"marker\":{\"symbol\":\"circle\"},\"mode\":\"markers+lines\",\"name\":\"4\",\"orientation\":\"v\",\"showlegend\":true,\"x\":[46.3395619392395,46.3395619392395,46.3395619392395,46.3395619392395,68.15510153770447,68.15510153770447,68.15510153770447,68.15510153770447,73.50869488716125,73.50869488716125,73.50869488716125,73.50869488716125,84.30060291290283,84.30060291290283,84.30060291290283,84.30060291290283],\"xaxis\":\"x\",\"y\":[4,4,4,4,16,16,16,16,32,32,32,32,64,64,64,64],\"yaxis\":\"y\",\"type\":\"scatter\"},{\"hovertemplate\":\"efConstruction=16<br>construction time (s)=%{x}<br>M=%{y}<extra></extra>\",\"legendgroup\":\"16\",\"line\":{\"color\":\"rgb(93, 105, 177)\",\"dash\":\"solid\"},\"marker\":{\"symbol\":\"circle\"},\"mode\":\"markers+lines\",\"name\":\"16\",\"orientation\":\"v\",\"showlegend\":true,\"x\":[155.12777256965637,155.12777256965637,155.12777256965637,155.12777256965637,315.42134165763855,315.42134165763855,315.42134165763855,315.42134165763855,363.2858066558838,363.2858066558838,363.2858066558838,363.2858066558838,409.31881046295166,409.31881046295166,409.31881046295166,409.31881046295166],\"xaxis\":\"x\",\"y\":[4,4,4,4,16,16,16,16,32,32,32,32,64,64,64,64],\"yaxis\":\"y\",\"type\":\"scatter\"},{\"hovertemplate\":\"efConstruction=40<br>construction time (s)=%{x}<br>M=%{y}<extra></extra>\",\"legendgroup\":\"40\",\"line\":{\"color\":\"rgb(82, 188, 163)\",\"dash\":\"solid\"},\"marker\":{\"symbol\":\"circle\"},\"mode\":\"markers+lines\",\"name\":\"40\",\"orientation\":\"v\",\"showlegend\":true,\"x\":[330.0333242416382,330.0333242416382,330.0333242416382,330.0333242416382,537.627444267273,537.627444267273,537.627444267273,537.627444267273,911.6934139728546,911.6934139728546,911.6934139728546,911.6934139728546,1156.391366481781,1156.391366481781,1156.391366481781,1156.391366481781],\"xaxis\":\"x\",\"y\":[4,4,4,4,16,16,16,16,32,32,32,32,64,64,64,64],\"yaxis\":\"y\",\"type\":\"scatter\"},{\"hovertemplate\":\"efConstruction=76<br>construction time (s)=%{x}<br>M=%{y}<extra></extra>\",\"legendgroup\":\"76\",\"line\":{\"color\":\"rgb(153, 201, 69)\",\"dash\":\"solid\"},\"marker\":{\"symbol\":\"circle\"},\"mode\":\"markers+lines\",\"name\":\"76\",\"orientation\":\"v\",\"showlegend\":true,\"x\":[537.5953359603882,537.5953359603882,537.5953359603882,537.5953359603882,1004.340817451477,1004.340817451477,1004.340817451477,1004.340817451477,1158.5980777740479,1158.5980777740479,1158.5980777740479,1158.5980777740479,2283.8280436992645,2283.8280436992645,2283.8280436992645,2283.8280436992645],\"xaxis\":\"x\",\"y\":[4,4,4,4,16,16,16,16,32,32,32,32,64,64,64,64],\"yaxis\":\"y\",\"type\":\"scatter\"}],                        {\"template\":{\"data\":{\"barpolar\":[{\"marker\":{\"line\":{\"color\":\"white\",\"width\":0.5},\"pattern\":{\"fillmode\":\"overlay\",\"size\":10,\"solidity\":0.2}},\"type\":\"barpolar\"}],\"bar\":[{\"error_x\":{\"color\":\"rgb(36,36,36)\"},\"error_y\":{\"color\":\"rgb(36,36,36)\"},\"marker\":{\"line\":{\"color\":\"white\",\"width\":0.5},\"pattern\":{\"fillmode\":\"overlay\",\"size\":10,\"solidity\":0.2}},\"type\":\"bar\"}],\"carpet\":[{\"aaxis\":{\"endlinecolor\":\"rgb(36,36,36)\",\"gridcolor\":\"white\",\"linecolor\":\"white\",\"minorgridcolor\":\"white\",\"startlinecolor\":\"rgb(36,36,36)\"},\"baxis\":{\"endlinecolor\":\"rgb(36,36,36)\",\"gridcolor\":\"white\",\"linecolor\":\"white\",\"minorgridcolor\":\"white\",\"startlinecolor\":\"rgb(36,36,36)\"},\"type\":\"carpet\"}],\"choropleth\":[{\"colorbar\":{\"outlinewidth\":1,\"tickcolor\":\"rgb(36,36,36)\",\"ticks\":\"outside\"},\"type\":\"choropleth\"}],\"contourcarpet\":[{\"colorbar\":{\"outlinewidth\":1,\"tickcolor\":\"rgb(36,36,36)\",\"ticks\":\"outside\"},\"type\":\"contourcarpet\"}],\"contour\":[{\"colorbar\":{\"outlinewidth\":1,\"tickcolor\":\"rgb(36,36,36)\",\"ticks\":\"outside\"},\"colorscale\":[[0.0,\"#440154\"],[0.1111111111111111,\"#482878\"],[0.2222222222222222,\"#3e4989\"],[0.3333333333333333,\"#31688e\"],[0.4444444444444444,\"#26828e\"],[0.5555555555555556,\"#1f9e89\"],[0.6666666666666666,\"#35b779\"],[0.7777777777777778,\"#6ece58\"],[0.8888888888888888,\"#b5de2b\"],[1.0,\"#fde725\"]],\"type\":\"contour\"}],\"heatmapgl\":[{\"colorbar\":{\"outlinewidth\":1,\"tickcolor\":\"rgb(36,36,36)\",\"ticks\":\"outside\"},\"colorscale\":[[0.0,\"#440154\"],[0.1111111111111111,\"#482878\"],[0.2222222222222222,\"#3e4989\"],[0.3333333333333333,\"#31688e\"],[0.4444444444444444,\"#26828e\"],[0.5555555555555556,\"#1f9e89\"],[0.6666666666666666,\"#35b779\"],[0.7777777777777778,\"#6ece58\"],[0.8888888888888888,\"#b5de2b\"],[1.0,\"#fde725\"]],\"type\":\"heatmapgl\"}],\"heatmap\":[{\"colorbar\":{\"outlinewidth\":1,\"tickcolor\":\"rgb(36,36,36)\",\"ticks\":\"outside\"},\"colorscale\":[[0.0,\"#440154\"],[0.1111111111111111,\"#482878\"],[0.2222222222222222,\"#3e4989\"],[0.3333333333333333,\"#31688e\"],[0.4444444444444444,\"#26828e\"],[0.5555555555555556,\"#1f9e89\"],[0.6666666666666666,\"#35b779\"],[0.7777777777777778,\"#6ece58\"],[0.8888888888888888,\"#b5de2b\"],[1.0,\"#fde725\"]],\"type\":\"heatmap\"}],\"histogram2dcontour\":[{\"colorbar\":{\"outlinewidth\":1,\"tickcolor\":\"rgb(36,36,36)\",\"ticks\":\"outside\"},\"colorscale\":[[0.0,\"#440154\"],[0.1111111111111111,\"#482878\"],[0.2222222222222222,\"#3e4989\"],[0.3333333333333333,\"#31688e\"],[0.4444444444444444,\"#26828e\"],[0.5555555555555556,\"#1f9e89\"],[0.6666666666666666,\"#35b779\"],[0.7777777777777778,\"#6ece58\"],[0.8888888888888888,\"#b5de2b\"],[1.0,\"#fde725\"]],\"type\":\"histogram2dcontour\"}],\"histogram2d\":[{\"colorbar\":{\"outlinewidth\":1,\"tickcolor\":\"rgb(36,36,36)\",\"ticks\":\"outside\"},\"colorscale\":[[0.0,\"#440154\"],[0.1111111111111111,\"#482878\"],[0.2222222222222222,\"#3e4989\"],[0.3333333333333333,\"#31688e\"],[0.4444444444444444,\"#26828e\"],[0.5555555555555556,\"#1f9e89\"],[0.6666666666666666,\"#35b779\"],[0.7777777777777778,\"#6ece58\"],[0.8888888888888888,\"#b5de2b\"],[1.0,\"#fde725\"]],\"type\":\"histogram2d\"}],\"histogram\":[{\"marker\":{\"line\":{\"color\":\"white\",\"width\":0.6}},\"type\":\"histogram\"}],\"mesh3d\":[{\"colorbar\":{\"outlinewidth\":1,\"tickcolor\":\"rgb(36,36,36)\",\"ticks\":\"outside\"},\"type\":\"mesh3d\"}],\"parcoords\":[{\"line\":{\"colorbar\":{\"outlinewidth\":1,\"tickcolor\":\"rgb(36,36,36)\",\"ticks\":\"outside\"}},\"type\":\"parcoords\"}],\"pie\":[{\"automargin\":true,\"type\":\"pie\"}],\"scatter3d\":[{\"line\":{\"colorbar\":{\"outlinewidth\":1,\"tickcolor\":\"rgb(36,36,36)\",\"ticks\":\"outside\"}},\"marker\":{\"colorbar\":{\"outlinewidth\":1,\"tickcolor\":\"rgb(36,36,36)\",\"ticks\":\"outside\"}},\"type\":\"scatter3d\"}],\"scattercarpet\":[{\"marker\":{\"colorbar\":{\"outlinewidth\":1,\"tickcolor\":\"rgb(36,36,36)\",\"ticks\":\"outside\"}},\"type\":\"scattercarpet\"}],\"scattergeo\":[{\"marker\":{\"colorbar\":{\"outlinewidth\":1,\"tickcolor\":\"rgb(36,36,36)\",\"ticks\":\"outside\"}},\"type\":\"scattergeo\"}],\"scattergl\":[{\"marker\":{\"colorbar\":{\"outlinewidth\":1,\"tickcolor\":\"rgb(36,36,36)\",\"ticks\":\"outside\"}},\"type\":\"scattergl\"}],\"scattermapbox\":[{\"marker\":{\"colorbar\":{\"outlinewidth\":1,\"tickcolor\":\"rgb(36,36,36)\",\"ticks\":\"outside\"}},\"type\":\"scattermapbox\"}],\"scatterpolargl\":[{\"marker\":{\"colorbar\":{\"outlinewidth\":1,\"tickcolor\":\"rgb(36,36,36)\",\"ticks\":\"outside\"}},\"type\":\"scatterpolargl\"}],\"scatterpolar\":[{\"marker\":{\"colorbar\":{\"outlinewidth\":1,\"tickcolor\":\"rgb(36,36,36)\",\"ticks\":\"outside\"}},\"type\":\"scatterpolar\"}],\"scatter\":[{\"fillpattern\":{\"fillmode\":\"overlay\",\"size\":10,\"solidity\":0.2},\"type\":\"scatter\"}],\"scatterternary\":[{\"marker\":{\"colorbar\":{\"outlinewidth\":1,\"tickcolor\":\"rgb(36,36,36)\",\"ticks\":\"outside\"}},\"type\":\"scatterternary\"}],\"surface\":[{\"colorbar\":{\"outlinewidth\":1,\"tickcolor\":\"rgb(36,36,36)\",\"ticks\":\"outside\"},\"colorscale\":[[0.0,\"#440154\"],[0.1111111111111111,\"#482878\"],[0.2222222222222222,\"#3e4989\"],[0.3333333333333333,\"#31688e\"],[0.4444444444444444,\"#26828e\"],[0.5555555555555556,\"#1f9e89\"],[0.6666666666666666,\"#35b779\"],[0.7777777777777778,\"#6ece58\"],[0.8888888888888888,\"#b5de2b\"],[1.0,\"#fde725\"]],\"type\":\"surface\"}],\"table\":[{\"cells\":{\"fill\":{\"color\":\"rgb(237,237,237)\"},\"line\":{\"color\":\"white\"}},\"header\":{\"fill\":{\"color\":\"rgb(217,217,217)\"},\"line\":{\"color\":\"white\"}},\"type\":\"table\"}]},\"layout\":{\"annotationdefaults\":{\"arrowhead\":0,\"arrowwidth\":1},\"autotypenumbers\":\"strict\",\"coloraxis\":{\"colorbar\":{\"outlinewidth\":1,\"tickcolor\":\"rgb(36,36,36)\",\"ticks\":\"outside\"}},\"colorscale\":{\"diverging\":[[0.0,\"rgb(103,0,31)\"],[0.1,\"rgb(178,24,43)\"],[0.2,\"rgb(214,96,77)\"],[0.3,\"rgb(244,165,130)\"],[0.4,\"rgb(253,219,199)\"],[0.5,\"rgb(247,247,247)\"],[0.6,\"rgb(209,229,240)\"],[0.7,\"rgb(146,197,222)\"],[0.8,\"rgb(67,147,195)\"],[0.9,\"rgb(33,102,172)\"],[1.0,\"rgb(5,48,97)\"]],\"sequential\":[[0.0,\"#440154\"],[0.1111111111111111,\"#482878\"],[0.2222222222222222,\"#3e4989\"],[0.3333333333333333,\"#31688e\"],[0.4444444444444444,\"#26828e\"],[0.5555555555555556,\"#1f9e89\"],[0.6666666666666666,\"#35b779\"],[0.7777777777777778,\"#6ece58\"],[0.8888888888888888,\"#b5de2b\"],[1.0,\"#fde725\"]],\"sequentialminus\":[[0.0,\"#440154\"],[0.1111111111111111,\"#482878\"],[0.2222222222222222,\"#3e4989\"],[0.3333333333333333,\"#31688e\"],[0.4444444444444444,\"#26828e\"],[0.5555555555555556,\"#1f9e89\"],[0.6666666666666666,\"#35b779\"],[0.7777777777777778,\"#6ece58\"],[0.8888888888888888,\"#b5de2b\"],[1.0,\"#fde725\"]]},\"colorway\":[\"#1F77B4\",\"#FF7F0E\",\"#2CA02C\",\"#D62728\",\"#9467BD\",\"#8C564B\",\"#E377C2\",\"#7F7F7F\",\"#BCBD22\",\"#17BECF\"],\"font\":{\"color\":\"rgb(36,36,36)\"},\"geo\":{\"bgcolor\":\"white\",\"lakecolor\":\"white\",\"landcolor\":\"white\",\"showlakes\":true,\"showland\":true,\"subunitcolor\":\"white\"},\"hoverlabel\":{\"align\":\"left\"},\"hovermode\":\"closest\",\"mapbox\":{\"style\":\"light\"},\"paper_bgcolor\":\"white\",\"plot_bgcolor\":\"white\",\"polar\":{\"angularaxis\":{\"gridcolor\":\"rgb(232,232,232)\",\"linecolor\":\"rgb(36,36,36)\",\"showgrid\":false,\"showline\":true,\"ticks\":\"outside\"},\"bgcolor\":\"white\",\"radialaxis\":{\"gridcolor\":\"rgb(232,232,232)\",\"linecolor\":\"rgb(36,36,36)\",\"showgrid\":false,\"showline\":true,\"ticks\":\"outside\"}},\"scene\":{\"xaxis\":{\"backgroundcolor\":\"white\",\"gridcolor\":\"rgb(232,232,232)\",\"gridwidth\":2,\"linecolor\":\"rgb(36,36,36)\",\"showbackground\":true,\"showgrid\":false,\"showline\":true,\"ticks\":\"outside\",\"zeroline\":false,\"zerolinecolor\":\"rgb(36,36,36)\"},\"yaxis\":{\"backgroundcolor\":\"white\",\"gridcolor\":\"rgb(232,232,232)\",\"gridwidth\":2,\"linecolor\":\"rgb(36,36,36)\",\"showbackground\":true,\"showgrid\":false,\"showline\":true,\"ticks\":\"outside\",\"zeroline\":false,\"zerolinecolor\":\"rgb(36,36,36)\"},\"zaxis\":{\"backgroundcolor\":\"white\",\"gridcolor\":\"rgb(232,232,232)\",\"gridwidth\":2,\"linecolor\":\"rgb(36,36,36)\",\"showbackground\":true,\"showgrid\":false,\"showline\":true,\"ticks\":\"outside\",\"zeroline\":false,\"zerolinecolor\":\"rgb(36,36,36)\"}},\"shapedefaults\":{\"fillcolor\":\"black\",\"line\":{\"width\":0},\"opacity\":0.3},\"ternary\":{\"aaxis\":{\"gridcolor\":\"rgb(232,232,232)\",\"linecolor\":\"rgb(36,36,36)\",\"showgrid\":false,\"showline\":true,\"ticks\":\"outside\"},\"baxis\":{\"gridcolor\":\"rgb(232,232,232)\",\"linecolor\":\"rgb(36,36,36)\",\"showgrid\":false,\"showline\":true,\"ticks\":\"outside\"},\"bgcolor\":\"white\",\"caxis\":{\"gridcolor\":\"rgb(232,232,232)\",\"linecolor\":\"rgb(36,36,36)\",\"showgrid\":false,\"showline\":true,\"ticks\":\"outside\"}},\"title\":{\"x\":0.05},\"xaxis\":{\"automargin\":true,\"gridcolor\":\"rgb(232,232,232)\",\"linecolor\":\"rgb(36,36,36)\",\"showgrid\":false,\"showline\":true,\"ticks\":\"outside\",\"title\":{\"standoff\":15},\"zeroline\":false,\"zerolinecolor\":\"rgb(36,36,36)\"},\"yaxis\":{\"automargin\":true,\"gridcolor\":\"rgb(232,232,232)\",\"linecolor\":\"rgb(36,36,36)\",\"showgrid\":false,\"showline\":true,\"ticks\":\"outside\",\"title\":{\"standoff\":15},\"zeroline\":false,\"zerolinecolor\":\"rgb(36,36,36)\"}}},\"xaxis\":{\"anchor\":\"y\",\"domain\":[0.0,1.0],\"title\":{\"text\":\"construction time (s)\"},\"linecolor\":\"darkgrey\"},\"yaxis\":{\"anchor\":\"x\",\"domain\":[0.0,1.0],\"title\":{\"text\":\"M\"},\"linecolor\":\"darkgrey\"},\"legend\":{\"title\":{\"text\":\"efConstruction\"},\"tracegroupgap\":0},\"margin\":{\"t\":60},\"height\":400,\"width\":700},                        {\"responsive\": true}                    ).then(function(){\n",
       "                            \n",
       "var gd = document.getElementById('f621e1ac-4f75-4804-b9e1-8bc23b121e39');\n",
       "var x = new MutationObserver(function (mutations, observer) {{\n",
       "        var display = window.getComputedStyle(gd).display;\n",
       "        if (!display || display === 'none') {{\n",
       "            console.log([gd, 'removed!']);\n",
       "            Plotly.purge(gd);\n",
       "            observer.disconnect();\n",
       "        }}\n",
       "}});\n",
       "\n",
       "// Listen for the removal of the full notebook cells\n",
       "var notebookContainer = gd.closest('#notebook-container');\n",
       "if (notebookContainer) {{\n",
       "    x.observe(notebookContainer, {childList: true});\n",
       "}}\n",
       "\n",
       "// Listen for the clearing of the current output cell\n",
       "var outputEl = gd.closest('.output');\n",
       "if (outputEl) {{\n",
       "    x.observe(outputEl, {childList: true});\n",
       "}}\n",
       "\n",
       "                        })                };                });            </script>        </div>"
      ]
     },
     "metadata": {},
     "output_type": "display_data"
    }
   ],
   "source": [
    "fig = px.line(dfHNSW, x=\"index_time\", y=\"M\", markers=True, height=400, width=700, color=\"efConstruction\", template=\"simple_white\",\n",
    "              color_discrete_sequence=px.colors.qualitative.Vivid,  \n",
    "              labels=dict(index_time=\"construction time (s)\",))\n",
    "fig.update_xaxes(linecolor='darkgrey')\n",
    "fig.update_yaxes(linecolor='darkgrey')\n",
    "fig.show()\n",
    "fig.write_html(\"Hflat_M_indextime.html\")"
   ]
  },
  {
   "cell_type": "code",
   "execution_count": 41,
   "id": "75559bdb",
   "metadata": {
    "execution": {
     "iopub.execute_input": "2022-08-18T15:44:47.729851Z",
     "iopub.status.busy": "2022-08-18T15:44:47.729474Z",
     "iopub.status.idle": "2022-08-18T15:44:47.806776Z",
     "shell.execute_reply": "2022-08-18T15:44:47.805638Z"
    },
    "papermill": {
     "duration": 0.756992,
     "end_time": "2022-08-18T15:44:47.809367",
     "exception": false,
     "start_time": "2022-08-18T15:44:47.052375",
     "status": "completed"
    },
    "tags": []
   },
   "outputs": [
    {
     "data": {
      "text/html": [
       "<div>                            <div id=\"65e8b1c8-7287-4396-aeda-f1208def2501\" class=\"plotly-graph-div\" style=\"height:400px; width:700px;\"></div>            <script type=\"text/javascript\">                require([\"plotly\"], function(Plotly) {                    window.PLOTLYENV=window.PLOTLYENV || {};                                    if (document.getElementById(\"65e8b1c8-7287-4396-aeda-f1208def2501\")) {                    Plotly.newPlot(                        \"65e8b1c8-7287-4396-aeda-f1208def2501\",                        [{\"hovertemplate\":\"efSearch=4<br>search time (ms/query)=%{x}<br>M=%{y}<extra></extra>\",\"legendgroup\":\"4\",\"line\":{\"color\":\"rgb(229, 134, 6)\",\"dash\":\"solid\"},\"marker\":{\"symbol\":\"circle\"},\"mode\":\"markers+lines\",\"name\":\"4\",\"orientation\":\"v\",\"showlegend\":true,\"x\":[0.060048580169677734,0.06644058227539062,0.1129915714263916,0.12216734886169434],\"xaxis\":\"x\",\"y\":[4,16,32,64],\"yaxis\":\"y\",\"type\":\"scatter\"},{\"hovertemplate\":\"efSearch=16<br>search time (ms/query)=%{x}<br>M=%{y}<extra></extra>\",\"legendgroup\":\"16\",\"line\":{\"color\":\"rgb(93, 105, 177)\",\"dash\":\"solid\"},\"marker\":{\"symbol\":\"circle\"},\"mode\":\"markers+lines\",\"name\":\"16\",\"orientation\":\"v\",\"showlegend\":true,\"x\":[0.035874128341674805,0.08359575271606445,0.2747519016265869,0.21347618103027344],\"xaxis\":\"x\",\"y\":[4,16,32,64],\"yaxis\":\"y\",\"type\":\"scatter\"},{\"hovertemplate\":\"efSearch=40<br>search time (ms/query)=%{x}<br>M=%{y}<extra></extra>\",\"legendgroup\":\"40\",\"line\":{\"color\":\"rgb(82, 188, 163)\",\"dash\":\"solid\"},\"marker\":{\"symbol\":\"circle\"},\"mode\":\"markers+lines\",\"name\":\"40\",\"orientation\":\"v\",\"showlegend\":true,\"x\":[0.08121347427368164,0.17189502716064453,0.21726465225219727,0.43504786491394043],\"xaxis\":\"x\",\"y\":[4,16,32,64],\"yaxis\":\"y\",\"type\":\"scatter\"},{\"hovertemplate\":\"efSearch=76<br>search time (ms/query)=%{x}<br>M=%{y}<extra></extra>\",\"legendgroup\":\"76\",\"line\":{\"color\":\"rgb(153, 201, 69)\",\"dash\":\"solid\"},\"marker\":{\"symbol\":\"circle\"},\"mode\":\"markers+lines\",\"name\":\"76\",\"orientation\":\"v\",\"showlegend\":true,\"x\":[0.14520859718322754,0.2898087501525879,0.5038113594055176,0.7314002513885498],\"xaxis\":\"x\",\"y\":[4,16,32,64],\"yaxis\":\"y\",\"type\":\"scatter\"}],                        {\"template\":{\"data\":{\"barpolar\":[{\"marker\":{\"line\":{\"color\":\"white\",\"width\":0.5},\"pattern\":{\"fillmode\":\"overlay\",\"size\":10,\"solidity\":0.2}},\"type\":\"barpolar\"}],\"bar\":[{\"error_x\":{\"color\":\"rgb(36,36,36)\"},\"error_y\":{\"color\":\"rgb(36,36,36)\"},\"marker\":{\"line\":{\"color\":\"white\",\"width\":0.5},\"pattern\":{\"fillmode\":\"overlay\",\"size\":10,\"solidity\":0.2}},\"type\":\"bar\"}],\"carpet\":[{\"aaxis\":{\"endlinecolor\":\"rgb(36,36,36)\",\"gridcolor\":\"white\",\"linecolor\":\"white\",\"minorgridcolor\":\"white\",\"startlinecolor\":\"rgb(36,36,36)\"},\"baxis\":{\"endlinecolor\":\"rgb(36,36,36)\",\"gridcolor\":\"white\",\"linecolor\":\"white\",\"minorgridcolor\":\"white\",\"startlinecolor\":\"rgb(36,36,36)\"},\"type\":\"carpet\"}],\"choropleth\":[{\"colorbar\":{\"outlinewidth\":1,\"tickcolor\":\"rgb(36,36,36)\",\"ticks\":\"outside\"},\"type\":\"choropleth\"}],\"contourcarpet\":[{\"colorbar\":{\"outlinewidth\":1,\"tickcolor\":\"rgb(36,36,36)\",\"ticks\":\"outside\"},\"type\":\"contourcarpet\"}],\"contour\":[{\"colorbar\":{\"outlinewidth\":1,\"tickcolor\":\"rgb(36,36,36)\",\"ticks\":\"outside\"},\"colorscale\":[[0.0,\"#440154\"],[0.1111111111111111,\"#482878\"],[0.2222222222222222,\"#3e4989\"],[0.3333333333333333,\"#31688e\"],[0.4444444444444444,\"#26828e\"],[0.5555555555555556,\"#1f9e89\"],[0.6666666666666666,\"#35b779\"],[0.7777777777777778,\"#6ece58\"],[0.8888888888888888,\"#b5de2b\"],[1.0,\"#fde725\"]],\"type\":\"contour\"}],\"heatmapgl\":[{\"colorbar\":{\"outlinewidth\":1,\"tickcolor\":\"rgb(36,36,36)\",\"ticks\":\"outside\"},\"colorscale\":[[0.0,\"#440154\"],[0.1111111111111111,\"#482878\"],[0.2222222222222222,\"#3e4989\"],[0.3333333333333333,\"#31688e\"],[0.4444444444444444,\"#26828e\"],[0.5555555555555556,\"#1f9e89\"],[0.6666666666666666,\"#35b779\"],[0.7777777777777778,\"#6ece58\"],[0.8888888888888888,\"#b5de2b\"],[1.0,\"#fde725\"]],\"type\":\"heatmapgl\"}],\"heatmap\":[{\"colorbar\":{\"outlinewidth\":1,\"tickcolor\":\"rgb(36,36,36)\",\"ticks\":\"outside\"},\"colorscale\":[[0.0,\"#440154\"],[0.1111111111111111,\"#482878\"],[0.2222222222222222,\"#3e4989\"],[0.3333333333333333,\"#31688e\"],[0.4444444444444444,\"#26828e\"],[0.5555555555555556,\"#1f9e89\"],[0.6666666666666666,\"#35b779\"],[0.7777777777777778,\"#6ece58\"],[0.8888888888888888,\"#b5de2b\"],[1.0,\"#fde725\"]],\"type\":\"heatmap\"}],\"histogram2dcontour\":[{\"colorbar\":{\"outlinewidth\":1,\"tickcolor\":\"rgb(36,36,36)\",\"ticks\":\"outside\"},\"colorscale\":[[0.0,\"#440154\"],[0.1111111111111111,\"#482878\"],[0.2222222222222222,\"#3e4989\"],[0.3333333333333333,\"#31688e\"],[0.4444444444444444,\"#26828e\"],[0.5555555555555556,\"#1f9e89\"],[0.6666666666666666,\"#35b779\"],[0.7777777777777778,\"#6ece58\"],[0.8888888888888888,\"#b5de2b\"],[1.0,\"#fde725\"]],\"type\":\"histogram2dcontour\"}],\"histogram2d\":[{\"colorbar\":{\"outlinewidth\":1,\"tickcolor\":\"rgb(36,36,36)\",\"ticks\":\"outside\"},\"colorscale\":[[0.0,\"#440154\"],[0.1111111111111111,\"#482878\"],[0.2222222222222222,\"#3e4989\"],[0.3333333333333333,\"#31688e\"],[0.4444444444444444,\"#26828e\"],[0.5555555555555556,\"#1f9e89\"],[0.6666666666666666,\"#35b779\"],[0.7777777777777778,\"#6ece58\"],[0.8888888888888888,\"#b5de2b\"],[1.0,\"#fde725\"]],\"type\":\"histogram2d\"}],\"histogram\":[{\"marker\":{\"line\":{\"color\":\"white\",\"width\":0.6}},\"type\":\"histogram\"}],\"mesh3d\":[{\"colorbar\":{\"outlinewidth\":1,\"tickcolor\":\"rgb(36,36,36)\",\"ticks\":\"outside\"},\"type\":\"mesh3d\"}],\"parcoords\":[{\"line\":{\"colorbar\":{\"outlinewidth\":1,\"tickcolor\":\"rgb(36,36,36)\",\"ticks\":\"outside\"}},\"type\":\"parcoords\"}],\"pie\":[{\"automargin\":true,\"type\":\"pie\"}],\"scatter3d\":[{\"line\":{\"colorbar\":{\"outlinewidth\":1,\"tickcolor\":\"rgb(36,36,36)\",\"ticks\":\"outside\"}},\"marker\":{\"colorbar\":{\"outlinewidth\":1,\"tickcolor\":\"rgb(36,36,36)\",\"ticks\":\"outside\"}},\"type\":\"scatter3d\"}],\"scattercarpet\":[{\"marker\":{\"colorbar\":{\"outlinewidth\":1,\"tickcolor\":\"rgb(36,36,36)\",\"ticks\":\"outside\"}},\"type\":\"scattercarpet\"}],\"scattergeo\":[{\"marker\":{\"colorbar\":{\"outlinewidth\":1,\"tickcolor\":\"rgb(36,36,36)\",\"ticks\":\"outside\"}},\"type\":\"scattergeo\"}],\"scattergl\":[{\"marker\":{\"colorbar\":{\"outlinewidth\":1,\"tickcolor\":\"rgb(36,36,36)\",\"ticks\":\"outside\"}},\"type\":\"scattergl\"}],\"scattermapbox\":[{\"marker\":{\"colorbar\":{\"outlinewidth\":1,\"tickcolor\":\"rgb(36,36,36)\",\"ticks\":\"outside\"}},\"type\":\"scattermapbox\"}],\"scatterpolargl\":[{\"marker\":{\"colorbar\":{\"outlinewidth\":1,\"tickcolor\":\"rgb(36,36,36)\",\"ticks\":\"outside\"}},\"type\":\"scatterpolargl\"}],\"scatterpolar\":[{\"marker\":{\"colorbar\":{\"outlinewidth\":1,\"tickcolor\":\"rgb(36,36,36)\",\"ticks\":\"outside\"}},\"type\":\"scatterpolar\"}],\"scatter\":[{\"fillpattern\":{\"fillmode\":\"overlay\",\"size\":10,\"solidity\":0.2},\"type\":\"scatter\"}],\"scatterternary\":[{\"marker\":{\"colorbar\":{\"outlinewidth\":1,\"tickcolor\":\"rgb(36,36,36)\",\"ticks\":\"outside\"}},\"type\":\"scatterternary\"}],\"surface\":[{\"colorbar\":{\"outlinewidth\":1,\"tickcolor\":\"rgb(36,36,36)\",\"ticks\":\"outside\"},\"colorscale\":[[0.0,\"#440154\"],[0.1111111111111111,\"#482878\"],[0.2222222222222222,\"#3e4989\"],[0.3333333333333333,\"#31688e\"],[0.4444444444444444,\"#26828e\"],[0.5555555555555556,\"#1f9e89\"],[0.6666666666666666,\"#35b779\"],[0.7777777777777778,\"#6ece58\"],[0.8888888888888888,\"#b5de2b\"],[1.0,\"#fde725\"]],\"type\":\"surface\"}],\"table\":[{\"cells\":{\"fill\":{\"color\":\"rgb(237,237,237)\"},\"line\":{\"color\":\"white\"}},\"header\":{\"fill\":{\"color\":\"rgb(217,217,217)\"},\"line\":{\"color\":\"white\"}},\"type\":\"table\"}]},\"layout\":{\"annotationdefaults\":{\"arrowhead\":0,\"arrowwidth\":1},\"autotypenumbers\":\"strict\",\"coloraxis\":{\"colorbar\":{\"outlinewidth\":1,\"tickcolor\":\"rgb(36,36,36)\",\"ticks\":\"outside\"}},\"colorscale\":{\"diverging\":[[0.0,\"rgb(103,0,31)\"],[0.1,\"rgb(178,24,43)\"],[0.2,\"rgb(214,96,77)\"],[0.3,\"rgb(244,165,130)\"],[0.4,\"rgb(253,219,199)\"],[0.5,\"rgb(247,247,247)\"],[0.6,\"rgb(209,229,240)\"],[0.7,\"rgb(146,197,222)\"],[0.8,\"rgb(67,147,195)\"],[0.9,\"rgb(33,102,172)\"],[1.0,\"rgb(5,48,97)\"]],\"sequential\":[[0.0,\"#440154\"],[0.1111111111111111,\"#482878\"],[0.2222222222222222,\"#3e4989\"],[0.3333333333333333,\"#31688e\"],[0.4444444444444444,\"#26828e\"],[0.5555555555555556,\"#1f9e89\"],[0.6666666666666666,\"#35b779\"],[0.7777777777777778,\"#6ece58\"],[0.8888888888888888,\"#b5de2b\"],[1.0,\"#fde725\"]],\"sequentialminus\":[[0.0,\"#440154\"],[0.1111111111111111,\"#482878\"],[0.2222222222222222,\"#3e4989\"],[0.3333333333333333,\"#31688e\"],[0.4444444444444444,\"#26828e\"],[0.5555555555555556,\"#1f9e89\"],[0.6666666666666666,\"#35b779\"],[0.7777777777777778,\"#6ece58\"],[0.8888888888888888,\"#b5de2b\"],[1.0,\"#fde725\"]]},\"colorway\":[\"#1F77B4\",\"#FF7F0E\",\"#2CA02C\",\"#D62728\",\"#9467BD\",\"#8C564B\",\"#E377C2\",\"#7F7F7F\",\"#BCBD22\",\"#17BECF\"],\"font\":{\"color\":\"rgb(36,36,36)\"},\"geo\":{\"bgcolor\":\"white\",\"lakecolor\":\"white\",\"landcolor\":\"white\",\"showlakes\":true,\"showland\":true,\"subunitcolor\":\"white\"},\"hoverlabel\":{\"align\":\"left\"},\"hovermode\":\"closest\",\"mapbox\":{\"style\":\"light\"},\"paper_bgcolor\":\"white\",\"plot_bgcolor\":\"white\",\"polar\":{\"angularaxis\":{\"gridcolor\":\"rgb(232,232,232)\",\"linecolor\":\"rgb(36,36,36)\",\"showgrid\":false,\"showline\":true,\"ticks\":\"outside\"},\"bgcolor\":\"white\",\"radialaxis\":{\"gridcolor\":\"rgb(232,232,232)\",\"linecolor\":\"rgb(36,36,36)\",\"showgrid\":false,\"showline\":true,\"ticks\":\"outside\"}},\"scene\":{\"xaxis\":{\"backgroundcolor\":\"white\",\"gridcolor\":\"rgb(232,232,232)\",\"gridwidth\":2,\"linecolor\":\"rgb(36,36,36)\",\"showbackground\":true,\"showgrid\":false,\"showline\":true,\"ticks\":\"outside\",\"zeroline\":false,\"zerolinecolor\":\"rgb(36,36,36)\"},\"yaxis\":{\"backgroundcolor\":\"white\",\"gridcolor\":\"rgb(232,232,232)\",\"gridwidth\":2,\"linecolor\":\"rgb(36,36,36)\",\"showbackground\":true,\"showgrid\":false,\"showline\":true,\"ticks\":\"outside\",\"zeroline\":false,\"zerolinecolor\":\"rgb(36,36,36)\"},\"zaxis\":{\"backgroundcolor\":\"white\",\"gridcolor\":\"rgb(232,232,232)\",\"gridwidth\":2,\"linecolor\":\"rgb(36,36,36)\",\"showbackground\":true,\"showgrid\":false,\"showline\":true,\"ticks\":\"outside\",\"zeroline\":false,\"zerolinecolor\":\"rgb(36,36,36)\"}},\"shapedefaults\":{\"fillcolor\":\"black\",\"line\":{\"width\":0},\"opacity\":0.3},\"ternary\":{\"aaxis\":{\"gridcolor\":\"rgb(232,232,232)\",\"linecolor\":\"rgb(36,36,36)\",\"showgrid\":false,\"showline\":true,\"ticks\":\"outside\"},\"baxis\":{\"gridcolor\":\"rgb(232,232,232)\",\"linecolor\":\"rgb(36,36,36)\",\"showgrid\":false,\"showline\":true,\"ticks\":\"outside\"},\"bgcolor\":\"white\",\"caxis\":{\"gridcolor\":\"rgb(232,232,232)\",\"linecolor\":\"rgb(36,36,36)\",\"showgrid\":false,\"showline\":true,\"ticks\":\"outside\"}},\"title\":{\"x\":0.05},\"xaxis\":{\"automargin\":true,\"gridcolor\":\"rgb(232,232,232)\",\"linecolor\":\"rgb(36,36,36)\",\"showgrid\":false,\"showline\":true,\"ticks\":\"outside\",\"title\":{\"standoff\":15},\"zeroline\":false,\"zerolinecolor\":\"rgb(36,36,36)\"},\"yaxis\":{\"automargin\":true,\"gridcolor\":\"rgb(232,232,232)\",\"linecolor\":\"rgb(36,36,36)\",\"showgrid\":false,\"showline\":true,\"ticks\":\"outside\",\"title\":{\"standoff\":15},\"zeroline\":false,\"zerolinecolor\":\"rgb(36,36,36)\"}}},\"xaxis\":{\"anchor\":\"y\",\"domain\":[0.0,1.0],\"title\":{\"text\":\"search time (ms/query)\"},\"linecolor\":\"darkgrey\"},\"yaxis\":{\"anchor\":\"x\",\"domain\":[0.0,1.0],\"title\":{\"text\":\"M\"},\"linecolor\":\"darkgrey\"},\"legend\":{\"title\":{\"text\":\"efSearch\"},\"tracegroupgap\":0},\"margin\":{\"t\":60},\"height\":400,\"width\":700},                        {\"responsive\": true}                    ).then(function(){\n",
       "                            \n",
       "var gd = document.getElementById('65e8b1c8-7287-4396-aeda-f1208def2501');\n",
       "var x = new MutationObserver(function (mutations, observer) {{\n",
       "        var display = window.getComputedStyle(gd).display;\n",
       "        if (!display || display === 'none') {{\n",
       "            console.log([gd, 'removed!']);\n",
       "            Plotly.purge(gd);\n",
       "            observer.disconnect();\n",
       "        }}\n",
       "}});\n",
       "\n",
       "// Listen for the removal of the full notebook cells\n",
       "var notebookContainer = gd.closest('#notebook-container');\n",
       "if (notebookContainer) {{\n",
       "    x.observe(notebookContainer, {childList: true});\n",
       "}}\n",
       "\n",
       "// Listen for the clearing of the current output cell\n",
       "var outputEl = gd.closest('.output');\n",
       "if (outputEl) {{\n",
       "    x.observe(outputEl, {childList: true});\n",
       "}}\n",
       "\n",
       "                        })                };                });            </script>        </div>"
      ]
     },
     "metadata": {},
     "output_type": "display_data"
    }
   ],
   "source": [
    "fig = px.line(dfHNSW.query(\"efConstruction==76\"), x=\"search_time\", y=\"M\", markers=True, height=400, width=700, color=\"efSearch\", template=\"simple_white\",\n",
    "              color_discrete_sequence=px.colors.qualitative.Vivid,  \n",
    "              labels=dict(search_time=\"search time (ms/query)\",))\n",
    "fig.update_xaxes(linecolor='darkgrey')\n",
    "fig.update_yaxes(linecolor='darkgrey')\n",
    "fig.show()\n",
    "fig.write_html(\"Hflat_M_searchtime.html\")"
   ]
  },
  {
   "cell_type": "code",
   "execution_count": 42,
   "id": "030e6492",
   "metadata": {
    "execution": {
     "iopub.execute_input": "2022-08-18T15:44:49.495253Z",
     "iopub.status.busy": "2022-08-18T15:44:49.494810Z",
     "iopub.status.idle": "2022-08-18T15:44:49.500902Z",
     "shell.execute_reply": "2022-08-18T15:44:49.499897Z"
    },
    "papermill": {
     "duration": 0.785574,
     "end_time": "2022-08-18T15:44:49.503329",
     "exception": false,
     "start_time": "2022-08-18T15:44:48.717755",
     "status": "completed"
    },
    "tags": []
   },
   "outputs": [],
   "source": [
    "# colors_custom = ['#FECB52','#FF9900','#DC3912','#990099'] # yellow, orange, red, purple\n",
    "colors_custom = ['#EECA3B','#FF9900','#DC3912','#990099'] # yellow, orange, red, purple\n",
    "colors_blue = ['#90AD1C','#0099C6','#316395','#1616A7']   # Shades of blue"
   ]
  },
  {
   "cell_type": "code",
   "execution_count": 43,
   "id": "9016fef9",
   "metadata": {
    "execution": {
     "iopub.execute_input": "2022-08-18T15:44:51.656060Z",
     "iopub.status.busy": "2022-08-18T15:44:51.655000Z",
     "iopub.status.idle": "2022-08-18T15:44:51.837098Z",
     "shell.execute_reply": "2022-08-18T15:44:51.836176Z"
    },
    "papermill": {
     "duration": 0.777664,
     "end_time": "2022-08-18T15:44:51.839326",
     "exception": false,
     "start_time": "2022-08-18T15:44:51.061662",
     "status": "completed"
    },
    "tags": []
   },
   "outputs": [
    {
     "data": {
      "text/html": [
       "<div>                            <div id=\"58865137-357d-42dd-8267-9ebd9afdbafd\" class=\"plotly-graph-div\" style=\"height:390px; width:750px;\"></div>            <script type=\"text/javascript\">                require([\"plotly\"], function(Plotly) {                    window.PLOTLYENV=window.PLOTLYENV || {};                                    if (document.getElementById(\"58865137-357d-42dd-8267-9ebd9afdbafd\")) {                    Plotly.newPlot(                        \"58865137-357d-42dd-8267-9ebd9afdbafd\",                        [{\"hovertemplate\":\"M=4<br>efConstruction=4<br>efSearch=%{x}<br>search time (ms/query)=%{y}<extra></extra>\",\"legendgroup\":\"4\",\"line\":{\"color\":\"#EECA3B\",\"dash\":\"solid\"},\"marker\":{\"symbol\":\"circle\"},\"mode\":\"markers+lines\",\"name\":\"4\",\"orientation\":\"v\",\"showlegend\":true,\"x\":[4,16,40,76],\"xaxis\":\"x\",\"y\":[0.07314491271972656,0.09765863418579102,0.056708335876464844,0.08639359474182129],\"yaxis\":\"y\",\"type\":\"scatter\"},{\"hovertemplate\":\"M=4<br>efConstruction=16<br>efSearch=%{x}<br>search time (ms/query)=%{y}<extra></extra>\",\"legendgroup\":\"4\",\"line\":{\"color\":\"#EECA3B\",\"dash\":\"solid\"},\"marker\":{\"symbol\":\"circle\"},\"mode\":\"markers+lines\",\"name\":\"4\",\"orientation\":\"v\",\"showlegend\":false,\"x\":[4,16,40,76],\"xaxis\":\"x2\",\"y\":[0.060349225997924805,0.05321979522705078,0.07614469528198242,0.20155882835388184],\"yaxis\":\"y2\",\"type\":\"scatter\"},{\"hovertemplate\":\"M=4<br>efConstruction=40<br>efSearch=%{x}<br>search time (ms/query)=%{y}<extra></extra>\",\"legendgroup\":\"4\",\"line\":{\"color\":\"#EECA3B\",\"dash\":\"solid\"},\"marker\":{\"symbol\":\"circle\"},\"mode\":\"markers+lines\",\"name\":\"4\",\"orientation\":\"v\",\"showlegend\":false,\"x\":[4,16,40,76],\"xaxis\":\"x3\",\"y\":[0.05618405342102051,0.03861594200134277,0.07405519485473633,0.13103389739990234],\"yaxis\":\"y3\",\"type\":\"scatter\"},{\"hovertemplate\":\"M=4<br>efConstruction=76<br>efSearch=%{x}<br>search time (ms/query)=%{y}<extra></extra>\",\"legendgroup\":\"4\",\"line\":{\"color\":\"#EECA3B\",\"dash\":\"solid\"},\"marker\":{\"symbol\":\"circle\"},\"mode\":\"markers+lines\",\"name\":\"4\",\"orientation\":\"v\",\"showlegend\":false,\"x\":[4,16,40,76],\"xaxis\":\"x4\",\"y\":[0.060048580169677734,0.035874128341674805,0.08121347427368164,0.14520859718322754],\"yaxis\":\"y4\",\"type\":\"scatter\"},{\"hovertemplate\":\"M=16<br>efConstruction=4<br>efSearch=%{x}<br>search time (ms/query)=%{y}<extra></extra>\",\"legendgroup\":\"16\",\"line\":{\"color\":\"#FF9900\",\"dash\":\"solid\"},\"marker\":{\"symbol\":\"circle\"},\"mode\":\"markers+lines\",\"name\":\"16\",\"orientation\":\"v\",\"showlegend\":true,\"x\":[4,16,40,76],\"xaxis\":\"x\",\"y\":[0.028177738189697266,0.04013562202453613,0.08285140991210938,0.14116430282592773],\"yaxis\":\"y\",\"type\":\"scatter\"},{\"hovertemplate\":\"M=16<br>efConstruction=16<br>efSearch=%{x}<br>search time (ms/query)=%{y}<extra></extra>\",\"legendgroup\":\"16\",\"line\":{\"color\":\"#FF9900\",\"dash\":\"solid\"},\"marker\":{\"symbol\":\"circle\"},\"mode\":\"markers+lines\",\"name\":\"16\",\"orientation\":\"v\",\"showlegend\":false,\"x\":[4,16,40,76],\"xaxis\":\"x2\",\"y\":[0.08639931678771973,0.08358335494995117,0.17656922340393066,0.28842926025390625],\"yaxis\":\"y2\",\"type\":\"scatter\"},{\"hovertemplate\":\"M=16<br>efConstruction=40<br>efSearch=%{x}<br>search time (ms/query)=%{y}<extra></extra>\",\"legendgroup\":\"16\",\"line\":{\"color\":\"#FF9900\",\"dash\":\"solid\"},\"marker\":{\"symbol\":\"circle\"},\"mode\":\"markers+lines\",\"name\":\"16\",\"orientation\":\"v\",\"showlegend\":false,\"x\":[4,16,40,76],\"xaxis\":\"x3\",\"y\":[0.047518253326416016,0.08065915107727051,0.16335773468017578,0.27508544921875],\"yaxis\":\"y3\",\"type\":\"scatter\"},{\"hovertemplate\":\"M=16<br>efConstruction=76<br>efSearch=%{x}<br>search time (ms/query)=%{y}<extra></extra>\",\"legendgroup\":\"16\",\"line\":{\"color\":\"#FF9900\",\"dash\":\"solid\"},\"marker\":{\"symbol\":\"circle\"},\"mode\":\"markers+lines\",\"name\":\"16\",\"orientation\":\"v\",\"showlegend\":false,\"x\":[4,16,40,76],\"xaxis\":\"x4\",\"y\":[0.06644058227539062,0.08359575271606445,0.17189502716064453,0.2898087501525879],\"yaxis\":\"y4\",\"type\":\"scatter\"},{\"hovertemplate\":\"M=32<br>efConstruction=4<br>efSearch=%{x}<br>search time (ms/query)=%{y}<extra></extra>\",\"legendgroup\":\"32\",\"line\":{\"color\":\"#DC3912\",\"dash\":\"solid\"},\"marker\":{\"symbol\":\"circle\"},\"mode\":\"markers+lines\",\"name\":\"32\",\"orientation\":\"v\",\"showlegend\":true,\"x\":[4,16,40,76],\"xaxis\":\"x\",\"y\":[0.03139066696166992,0.047579288482666016,0.09312105178833008,0.15813112258911133],\"yaxis\":\"y\",\"type\":\"scatter\"},{\"hovertemplate\":\"M=32<br>efConstruction=16<br>efSearch=%{x}<br>search time (ms/query)=%{y}<extra></extra>\",\"legendgroup\":\"32\",\"line\":{\"color\":\"#DC3912\",\"dash\":\"solid\"},\"marker\":{\"symbol\":\"circle\"},\"mode\":\"markers+lines\",\"name\":\"32\",\"orientation\":\"v\",\"showlegend\":false,\"x\":[4,16,40,76],\"xaxis\":\"x2\",\"y\":[0.07705330848693848,0.10351157188415527,0.207503080368042,0.34975409507751465],\"yaxis\":\"y2\",\"type\":\"scatter\"},{\"hovertemplate\":\"M=32<br>efConstruction=40<br>efSearch=%{x}<br>search time (ms/query)=%{y}<extra></extra>\",\"legendgroup\":\"32\",\"line\":{\"color\":\"#DC3912\",\"dash\":\"solid\"},\"marker\":{\"symbol\":\"circle\"},\"mode\":\"markers+lines\",\"name\":\"32\",\"orientation\":\"v\",\"showlegend\":false,\"x\":[4,16,40,76],\"xaxis\":\"x3\",\"y\":[0.06300806999206543,0.15964984893798828,0.4899125099182129,0.6785674095153809],\"yaxis\":\"y3\",\"type\":\"scatter\"},{\"hovertemplate\":\"M=32<br>efConstruction=76<br>efSearch=%{x}<br>search time (ms/query)=%{y}<extra></extra>\",\"legendgroup\":\"32\",\"line\":{\"color\":\"#DC3912\",\"dash\":\"solid\"},\"marker\":{\"symbol\":\"circle\"},\"mode\":\"markers+lines\",\"name\":\"32\",\"orientation\":\"v\",\"showlegend\":false,\"x\":[4,16,40,76],\"xaxis\":\"x4\",\"y\":[0.1129915714263916,0.2747519016265869,0.21726465225219727,0.5038113594055176],\"yaxis\":\"y4\",\"type\":\"scatter\"},{\"hovertemplate\":\"M=64<br>efConstruction=4<br>efSearch=%{x}<br>search time (ms/query)=%{y}<extra></extra>\",\"legendgroup\":\"64\",\"line\":{\"color\":\"#990099\",\"dash\":\"solid\"},\"marker\":{\"symbol\":\"circle\"},\"mode\":\"markers+lines\",\"name\":\"64\",\"orientation\":\"v\",\"showlegend\":true,\"x\":[4,16,40,76],\"xaxis\":\"x\",\"y\":[0.037286996841430664,0.11435699462890625,0.1025090217590332,0.17495179176330566],\"yaxis\":\"y\",\"type\":\"scatter\"},{\"hovertemplate\":\"M=64<br>efConstruction=16<br>efSearch=%{x}<br>search time (ms/query)=%{y}<extra></extra>\",\"legendgroup\":\"64\",\"line\":{\"color\":\"#990099\",\"dash\":\"solid\"},\"marker\":{\"symbol\":\"circle\"},\"mode\":\"markers+lines\",\"name\":\"64\",\"orientation\":\"v\",\"showlegend\":false,\"x\":[4,16,40,76],\"xaxis\":\"x2\",\"y\":[0.21562671661376953,0.2710235118865967,0.4639923572540283,0.4009709358215332],\"yaxis\":\"y2\",\"type\":\"scatter\"},{\"hovertemplate\":\"M=64<br>efConstruction=40<br>efSearch=%{x}<br>search time (ms/query)=%{y}<extra></extra>\",\"legendgroup\":\"64\",\"line\":{\"color\":\"#990099\",\"dash\":\"solid\"},\"marker\":{\"symbol\":\"circle\"},\"mode\":\"markers+lines\",\"name\":\"64\",\"orientation\":\"v\",\"showlegend\":false,\"x\":[4,16,40,76],\"xaxis\":\"x3\",\"y\":[0.13775253295898438,0.19754838943481445,0.3768594264984131,0.6303355693817139],\"yaxis\":\"y3\",\"type\":\"scatter\"},{\"hovertemplate\":\"M=64<br>efConstruction=76<br>efSearch=%{x}<br>search time (ms/query)=%{y}<extra></extra>\",\"legendgroup\":\"64\",\"line\":{\"color\":\"#990099\",\"dash\":\"solid\"},\"marker\":{\"symbol\":\"circle\"},\"mode\":\"markers+lines\",\"name\":\"64\",\"orientation\":\"v\",\"showlegend\":false,\"x\":[4,16,40,76],\"xaxis\":\"x4\",\"y\":[0.12216734886169434,0.21347618103027344,0.43504786491394043,0.7314002513885498],\"yaxis\":\"y4\",\"type\":\"scatter\"}],                        {\"template\":{\"data\":{\"barpolar\":[{\"marker\":{\"line\":{\"color\":\"white\",\"width\":0.5},\"pattern\":{\"fillmode\":\"overlay\",\"size\":10,\"solidity\":0.2}},\"type\":\"barpolar\"}],\"bar\":[{\"error_x\":{\"color\":\"rgb(36,36,36)\"},\"error_y\":{\"color\":\"rgb(36,36,36)\"},\"marker\":{\"line\":{\"color\":\"white\",\"width\":0.5},\"pattern\":{\"fillmode\":\"overlay\",\"size\":10,\"solidity\":0.2}},\"type\":\"bar\"}],\"carpet\":[{\"aaxis\":{\"endlinecolor\":\"rgb(36,36,36)\",\"gridcolor\":\"white\",\"linecolor\":\"white\",\"minorgridcolor\":\"white\",\"startlinecolor\":\"rgb(36,36,36)\"},\"baxis\":{\"endlinecolor\":\"rgb(36,36,36)\",\"gridcolor\":\"white\",\"linecolor\":\"white\",\"minorgridcolor\":\"white\",\"startlinecolor\":\"rgb(36,36,36)\"},\"type\":\"carpet\"}],\"choropleth\":[{\"colorbar\":{\"outlinewidth\":1,\"tickcolor\":\"rgb(36,36,36)\",\"ticks\":\"outside\"},\"type\":\"choropleth\"}],\"contourcarpet\":[{\"colorbar\":{\"outlinewidth\":1,\"tickcolor\":\"rgb(36,36,36)\",\"ticks\":\"outside\"},\"type\":\"contourcarpet\"}],\"contour\":[{\"colorbar\":{\"outlinewidth\":1,\"tickcolor\":\"rgb(36,36,36)\",\"ticks\":\"outside\"},\"colorscale\":[[0.0,\"#440154\"],[0.1111111111111111,\"#482878\"],[0.2222222222222222,\"#3e4989\"],[0.3333333333333333,\"#31688e\"],[0.4444444444444444,\"#26828e\"],[0.5555555555555556,\"#1f9e89\"],[0.6666666666666666,\"#35b779\"],[0.7777777777777778,\"#6ece58\"],[0.8888888888888888,\"#b5de2b\"],[1.0,\"#fde725\"]],\"type\":\"contour\"}],\"heatmapgl\":[{\"colorbar\":{\"outlinewidth\":1,\"tickcolor\":\"rgb(36,36,36)\",\"ticks\":\"outside\"},\"colorscale\":[[0.0,\"#440154\"],[0.1111111111111111,\"#482878\"],[0.2222222222222222,\"#3e4989\"],[0.3333333333333333,\"#31688e\"],[0.4444444444444444,\"#26828e\"],[0.5555555555555556,\"#1f9e89\"],[0.6666666666666666,\"#35b779\"],[0.7777777777777778,\"#6ece58\"],[0.8888888888888888,\"#b5de2b\"],[1.0,\"#fde725\"]],\"type\":\"heatmapgl\"}],\"heatmap\":[{\"colorbar\":{\"outlinewidth\":1,\"tickcolor\":\"rgb(36,36,36)\",\"ticks\":\"outside\"},\"colorscale\":[[0.0,\"#440154\"],[0.1111111111111111,\"#482878\"],[0.2222222222222222,\"#3e4989\"],[0.3333333333333333,\"#31688e\"],[0.4444444444444444,\"#26828e\"],[0.5555555555555556,\"#1f9e89\"],[0.6666666666666666,\"#35b779\"],[0.7777777777777778,\"#6ece58\"],[0.8888888888888888,\"#b5de2b\"],[1.0,\"#fde725\"]],\"type\":\"heatmap\"}],\"histogram2dcontour\":[{\"colorbar\":{\"outlinewidth\":1,\"tickcolor\":\"rgb(36,36,36)\",\"ticks\":\"outside\"},\"colorscale\":[[0.0,\"#440154\"],[0.1111111111111111,\"#482878\"],[0.2222222222222222,\"#3e4989\"],[0.3333333333333333,\"#31688e\"],[0.4444444444444444,\"#26828e\"],[0.5555555555555556,\"#1f9e89\"],[0.6666666666666666,\"#35b779\"],[0.7777777777777778,\"#6ece58\"],[0.8888888888888888,\"#b5de2b\"],[1.0,\"#fde725\"]],\"type\":\"histogram2dcontour\"}],\"histogram2d\":[{\"colorbar\":{\"outlinewidth\":1,\"tickcolor\":\"rgb(36,36,36)\",\"ticks\":\"outside\"},\"colorscale\":[[0.0,\"#440154\"],[0.1111111111111111,\"#482878\"],[0.2222222222222222,\"#3e4989\"],[0.3333333333333333,\"#31688e\"],[0.4444444444444444,\"#26828e\"],[0.5555555555555556,\"#1f9e89\"],[0.6666666666666666,\"#35b779\"],[0.7777777777777778,\"#6ece58\"],[0.8888888888888888,\"#b5de2b\"],[1.0,\"#fde725\"]],\"type\":\"histogram2d\"}],\"histogram\":[{\"marker\":{\"line\":{\"color\":\"white\",\"width\":0.6}},\"type\":\"histogram\"}],\"mesh3d\":[{\"colorbar\":{\"outlinewidth\":1,\"tickcolor\":\"rgb(36,36,36)\",\"ticks\":\"outside\"},\"type\":\"mesh3d\"}],\"parcoords\":[{\"line\":{\"colorbar\":{\"outlinewidth\":1,\"tickcolor\":\"rgb(36,36,36)\",\"ticks\":\"outside\"}},\"type\":\"parcoords\"}],\"pie\":[{\"automargin\":true,\"type\":\"pie\"}],\"scatter3d\":[{\"line\":{\"colorbar\":{\"outlinewidth\":1,\"tickcolor\":\"rgb(36,36,36)\",\"ticks\":\"outside\"}},\"marker\":{\"colorbar\":{\"outlinewidth\":1,\"tickcolor\":\"rgb(36,36,36)\",\"ticks\":\"outside\"}},\"type\":\"scatter3d\"}],\"scattercarpet\":[{\"marker\":{\"colorbar\":{\"outlinewidth\":1,\"tickcolor\":\"rgb(36,36,36)\",\"ticks\":\"outside\"}},\"type\":\"scattercarpet\"}],\"scattergeo\":[{\"marker\":{\"colorbar\":{\"outlinewidth\":1,\"tickcolor\":\"rgb(36,36,36)\",\"ticks\":\"outside\"}},\"type\":\"scattergeo\"}],\"scattergl\":[{\"marker\":{\"colorbar\":{\"outlinewidth\":1,\"tickcolor\":\"rgb(36,36,36)\",\"ticks\":\"outside\"}},\"type\":\"scattergl\"}],\"scattermapbox\":[{\"marker\":{\"colorbar\":{\"outlinewidth\":1,\"tickcolor\":\"rgb(36,36,36)\",\"ticks\":\"outside\"}},\"type\":\"scattermapbox\"}],\"scatterpolargl\":[{\"marker\":{\"colorbar\":{\"outlinewidth\":1,\"tickcolor\":\"rgb(36,36,36)\",\"ticks\":\"outside\"}},\"type\":\"scatterpolargl\"}],\"scatterpolar\":[{\"marker\":{\"colorbar\":{\"outlinewidth\":1,\"tickcolor\":\"rgb(36,36,36)\",\"ticks\":\"outside\"}},\"type\":\"scatterpolar\"}],\"scatter\":[{\"fillpattern\":{\"fillmode\":\"overlay\",\"size\":10,\"solidity\":0.2},\"type\":\"scatter\"}],\"scatterternary\":[{\"marker\":{\"colorbar\":{\"outlinewidth\":1,\"tickcolor\":\"rgb(36,36,36)\",\"ticks\":\"outside\"}},\"type\":\"scatterternary\"}],\"surface\":[{\"colorbar\":{\"outlinewidth\":1,\"tickcolor\":\"rgb(36,36,36)\",\"ticks\":\"outside\"},\"colorscale\":[[0.0,\"#440154\"],[0.1111111111111111,\"#482878\"],[0.2222222222222222,\"#3e4989\"],[0.3333333333333333,\"#31688e\"],[0.4444444444444444,\"#26828e\"],[0.5555555555555556,\"#1f9e89\"],[0.6666666666666666,\"#35b779\"],[0.7777777777777778,\"#6ece58\"],[0.8888888888888888,\"#b5de2b\"],[1.0,\"#fde725\"]],\"type\":\"surface\"}],\"table\":[{\"cells\":{\"fill\":{\"color\":\"rgb(237,237,237)\"},\"line\":{\"color\":\"white\"}},\"header\":{\"fill\":{\"color\":\"rgb(217,217,217)\"},\"line\":{\"color\":\"white\"}},\"type\":\"table\"}]},\"layout\":{\"annotationdefaults\":{\"arrowhead\":0,\"arrowwidth\":1},\"autotypenumbers\":\"strict\",\"coloraxis\":{\"colorbar\":{\"outlinewidth\":1,\"tickcolor\":\"rgb(36,36,36)\",\"ticks\":\"outside\"}},\"colorscale\":{\"diverging\":[[0.0,\"rgb(103,0,31)\"],[0.1,\"rgb(178,24,43)\"],[0.2,\"rgb(214,96,77)\"],[0.3,\"rgb(244,165,130)\"],[0.4,\"rgb(253,219,199)\"],[0.5,\"rgb(247,247,247)\"],[0.6,\"rgb(209,229,240)\"],[0.7,\"rgb(146,197,222)\"],[0.8,\"rgb(67,147,195)\"],[0.9,\"rgb(33,102,172)\"],[1.0,\"rgb(5,48,97)\"]],\"sequential\":[[0.0,\"#440154\"],[0.1111111111111111,\"#482878\"],[0.2222222222222222,\"#3e4989\"],[0.3333333333333333,\"#31688e\"],[0.4444444444444444,\"#26828e\"],[0.5555555555555556,\"#1f9e89\"],[0.6666666666666666,\"#35b779\"],[0.7777777777777778,\"#6ece58\"],[0.8888888888888888,\"#b5de2b\"],[1.0,\"#fde725\"]],\"sequentialminus\":[[0.0,\"#440154\"],[0.1111111111111111,\"#482878\"],[0.2222222222222222,\"#3e4989\"],[0.3333333333333333,\"#31688e\"],[0.4444444444444444,\"#26828e\"],[0.5555555555555556,\"#1f9e89\"],[0.6666666666666666,\"#35b779\"],[0.7777777777777778,\"#6ece58\"],[0.8888888888888888,\"#b5de2b\"],[1.0,\"#fde725\"]]},\"colorway\":[\"#1F77B4\",\"#FF7F0E\",\"#2CA02C\",\"#D62728\",\"#9467BD\",\"#8C564B\",\"#E377C2\",\"#7F7F7F\",\"#BCBD22\",\"#17BECF\"],\"font\":{\"color\":\"rgb(36,36,36)\"},\"geo\":{\"bgcolor\":\"white\",\"lakecolor\":\"white\",\"landcolor\":\"white\",\"showlakes\":true,\"showland\":true,\"subunitcolor\":\"white\"},\"hoverlabel\":{\"align\":\"left\"},\"hovermode\":\"closest\",\"mapbox\":{\"style\":\"light\"},\"paper_bgcolor\":\"white\",\"plot_bgcolor\":\"white\",\"polar\":{\"angularaxis\":{\"gridcolor\":\"rgb(232,232,232)\",\"linecolor\":\"rgb(36,36,36)\",\"showgrid\":false,\"showline\":true,\"ticks\":\"outside\"},\"bgcolor\":\"white\",\"radialaxis\":{\"gridcolor\":\"rgb(232,232,232)\",\"linecolor\":\"rgb(36,36,36)\",\"showgrid\":false,\"showline\":true,\"ticks\":\"outside\"}},\"scene\":{\"xaxis\":{\"backgroundcolor\":\"white\",\"gridcolor\":\"rgb(232,232,232)\",\"gridwidth\":2,\"linecolor\":\"rgb(36,36,36)\",\"showbackground\":true,\"showgrid\":false,\"showline\":true,\"ticks\":\"outside\",\"zeroline\":false,\"zerolinecolor\":\"rgb(36,36,36)\"},\"yaxis\":{\"backgroundcolor\":\"white\",\"gridcolor\":\"rgb(232,232,232)\",\"gridwidth\":2,\"linecolor\":\"rgb(36,36,36)\",\"showbackground\":true,\"showgrid\":false,\"showline\":true,\"ticks\":\"outside\",\"zeroline\":false,\"zerolinecolor\":\"rgb(36,36,36)\"},\"zaxis\":{\"backgroundcolor\":\"white\",\"gridcolor\":\"rgb(232,232,232)\",\"gridwidth\":2,\"linecolor\":\"rgb(36,36,36)\",\"showbackground\":true,\"showgrid\":false,\"showline\":true,\"ticks\":\"outside\",\"zeroline\":false,\"zerolinecolor\":\"rgb(36,36,36)\"}},\"shapedefaults\":{\"fillcolor\":\"black\",\"line\":{\"width\":0},\"opacity\":0.3},\"ternary\":{\"aaxis\":{\"gridcolor\":\"rgb(232,232,232)\",\"linecolor\":\"rgb(36,36,36)\",\"showgrid\":false,\"showline\":true,\"ticks\":\"outside\"},\"baxis\":{\"gridcolor\":\"rgb(232,232,232)\",\"linecolor\":\"rgb(36,36,36)\",\"showgrid\":false,\"showline\":true,\"ticks\":\"outside\"},\"bgcolor\":\"white\",\"caxis\":{\"gridcolor\":\"rgb(232,232,232)\",\"linecolor\":\"rgb(36,36,36)\",\"showgrid\":false,\"showline\":true,\"ticks\":\"outside\"}},\"title\":{\"x\":0.05},\"xaxis\":{\"automargin\":true,\"gridcolor\":\"rgb(232,232,232)\",\"linecolor\":\"rgb(36,36,36)\",\"showgrid\":false,\"showline\":true,\"ticks\":\"outside\",\"title\":{\"standoff\":15},\"zeroline\":false,\"zerolinecolor\":\"rgb(36,36,36)\"},\"yaxis\":{\"automargin\":true,\"gridcolor\":\"rgb(232,232,232)\",\"linecolor\":\"rgb(36,36,36)\",\"showgrid\":false,\"showline\":true,\"ticks\":\"outside\",\"title\":{\"standoff\":15},\"zeroline\":false,\"zerolinecolor\":\"rgb(36,36,36)\"}}},\"xaxis\":{\"anchor\":\"y\",\"domain\":[0.0,0.2425],\"title\":{\"text\":\"efSearch\"},\"linecolor\":\"darkgrey\"},\"yaxis\":{\"anchor\":\"x\",\"domain\":[0.0,1.0],\"title\":{\"text\":\"search time (ms/query)\"},\"linecolor\":\"darkgrey\",\"showgrid\":true,\"gridwidth\":1,\"gridcolor\":\"LightGrey\",\"griddash\":\"dot\",\"ticks\":\"\"},\"xaxis2\":{\"anchor\":\"y2\",\"domain\":[0.2525,0.495],\"matches\":\"x\",\"title\":{\"text\":\"efSearch\"},\"linecolor\":\"darkgrey\"},\"yaxis2\":{\"anchor\":\"x2\",\"domain\":[0.0,1.0],\"matches\":\"y\",\"showticklabels\":false,\"linecolor\":\"darkgrey\",\"showgrid\":true,\"gridwidth\":1,\"gridcolor\":\"LightGrey\",\"griddash\":\"dot\",\"ticks\":\"\"},\"xaxis3\":{\"anchor\":\"y3\",\"domain\":[0.505,0.7475],\"matches\":\"x\",\"title\":{\"text\":\"efSearch\"},\"linecolor\":\"darkgrey\"},\"yaxis3\":{\"anchor\":\"x3\",\"domain\":[0.0,1.0],\"matches\":\"y\",\"showticklabels\":false,\"linecolor\":\"darkgrey\",\"showgrid\":true,\"gridwidth\":1,\"gridcolor\":\"LightGrey\",\"griddash\":\"dot\",\"ticks\":\"\"},\"xaxis4\":{\"anchor\":\"y4\",\"domain\":[0.7575000000000001,1.0],\"matches\":\"x\",\"title\":{\"text\":\"efSearch\"},\"linecolor\":\"darkgrey\"},\"yaxis4\":{\"anchor\":\"x4\",\"domain\":[0.0,1.0],\"matches\":\"y\",\"showticklabels\":false,\"linecolor\":\"darkgrey\",\"showgrid\":true,\"gridwidth\":1,\"gridcolor\":\"LightGrey\",\"griddash\":\"dot\",\"ticks\":\"\"},\"annotations\":[{\"font\":{},\"showarrow\":false,\"text\":\"efConstruction=4\",\"x\":0.12125,\"xanchor\":\"center\",\"xref\":\"paper\",\"y\":1.0,\"yanchor\":\"bottom\",\"yref\":\"paper\"},{\"font\":{},\"showarrow\":false,\"text\":\"efConstruction=16\",\"x\":0.37375,\"xanchor\":\"center\",\"xref\":\"paper\",\"y\":1.0,\"yanchor\":\"bottom\",\"yref\":\"paper\"},{\"font\":{},\"showarrow\":false,\"text\":\"efConstruction=40\",\"x\":0.62625,\"xanchor\":\"center\",\"xref\":\"paper\",\"y\":1.0,\"yanchor\":\"bottom\",\"yref\":\"paper\"},{\"font\":{},\"showarrow\":false,\"text\":\"efConstruction=76\",\"x\":0.87875,\"xanchor\":\"center\",\"xref\":\"paper\",\"y\":1.0,\"yanchor\":\"bottom\",\"yref\":\"paper\"}],\"legend\":{\"title\":{\"text\":\"M\"},\"tracegroupgap\":0,\"yanchor\":\"top\",\"y\":0.99,\"xanchor\":\"left\",\"x\":0.03,\"borderwidth\":1,\"traceorder\":\"reversed\"},\"margin\":{\"t\":60},\"height\":390,\"width\":750},                        {\"responsive\": true}                    ).then(function(){\n",
       "                            \n",
       "var gd = document.getElementById('58865137-357d-42dd-8267-9ebd9afdbafd');\n",
       "var x = new MutationObserver(function (mutations, observer) {{\n",
       "        var display = window.getComputedStyle(gd).display;\n",
       "        if (!display || display === 'none') {{\n",
       "            console.log([gd, 'removed!']);\n",
       "            Plotly.purge(gd);\n",
       "            observer.disconnect();\n",
       "        }}\n",
       "}});\n",
       "\n",
       "// Listen for the removal of the full notebook cells\n",
       "var notebookContainer = gd.closest('#notebook-container');\n",
       "if (notebookContainer) {{\n",
       "    x.observe(notebookContainer, {childList: true});\n",
       "}}\n",
       "\n",
       "// Listen for the clearing of the current output cell\n",
       "var outputEl = gd.closest('.output');\n",
       "if (outputEl) {{\n",
       "    x.observe(outputEl, {childList: true});\n",
       "}}\n",
       "\n",
       "                        })                };                });            </script>        </div>"
      ]
     },
     "metadata": {},
     "output_type": "display_data"
    }
   ],
   "source": [
    "fig = px.line(dfHNSW, x=\"efSearch\", y=\"search_time\", color=\"M\", height=390, width=750, markers=True,\n",
    "              template=\"simple_white\", color_discrete_sequence=colors_custom, #color_discrete_sequence=px.colors.qualitative.D3,  \n",
    "              facet_col=\"efConstruction\", facet_col_spacing=0.01,\n",
    "              labels=dict(search_time=\"search time (ms/query)\",)\n",
    "             )\n",
    "fig.update_layout(legend=dict(yanchor=\"top\", y=0.99, xanchor=\"left\", x=0.03, borderwidth=1, traceorder=\"reversed\")) # orientation=\"h\"\n",
    "fig.update_xaxes(linecolor='darkgrey')\n",
    "fig.update_yaxes(linecolor='darkgrey', showgrid=True, gridwidth=1, gridcolor='LightGrey', griddash=\"dot\", ticks=\"\")\n",
    "fig.show()\n",
    "fig.write_html(\"Hflat_search_time_efSearch_efConst.html\")"
   ]
  },
  {
   "cell_type": "code",
   "execution_count": 44,
   "id": "c834d4ad",
   "metadata": {
    "execution": {
     "iopub.execute_input": "2022-08-18T15:44:53.083178Z",
     "iopub.status.busy": "2022-08-18T15:44:53.082798Z",
     "iopub.status.idle": "2022-08-18T15:44:53.290768Z",
     "shell.execute_reply": "2022-08-18T15:44:53.289436Z"
    },
    "papermill": {
     "duration": 0.847168,
     "end_time": "2022-08-18T15:44:53.292995",
     "exception": false,
     "start_time": "2022-08-18T15:44:52.445827",
     "status": "completed"
    },
    "tags": []
   },
   "outputs": [
    {
     "data": {
      "text/html": [
       "<div>                            <div id=\"518dc333-56f6-497b-b92a-b52967bc4a1c\" class=\"plotly-graph-div\" style=\"height:390px; width:750px;\"></div>            <script type=\"text/javascript\">                require([\"plotly\"], function(Plotly) {                    window.PLOTLYENV=window.PLOTLYENV || {};                                    if (document.getElementById(\"518dc333-56f6-497b-b92a-b52967bc4a1c\")) {                    Plotly.newPlot(                        \"518dc333-56f6-497b-b92a-b52967bc4a1c\",                        [{\"hovertemplate\":\"M=4<br>efSearch=4<br>efConstruction=%{x}<br>search time (ms/query)=%{y}<extra></extra>\",\"legendgroup\":\"4\",\"line\":{\"color\":\"#EECA3B\",\"dash\":\"solid\"},\"marker\":{\"symbol\":\"circle\"},\"mode\":\"markers+lines\",\"name\":\"4\",\"orientation\":\"v\",\"showlegend\":true,\"x\":[4,16,40,76],\"xaxis\":\"x\",\"y\":[0.07314491271972656,0.060349225997924805,0.05618405342102051,0.060048580169677734],\"yaxis\":\"y\",\"type\":\"scatter\"},{\"hovertemplate\":\"M=4<br>efSearch=16<br>efConstruction=%{x}<br>search time (ms/query)=%{y}<extra></extra>\",\"legendgroup\":\"4\",\"line\":{\"color\":\"#EECA3B\",\"dash\":\"solid\"},\"marker\":{\"symbol\":\"circle\"},\"mode\":\"markers+lines\",\"name\":\"4\",\"orientation\":\"v\",\"showlegend\":false,\"x\":[4,16,40,76],\"xaxis\":\"x2\",\"y\":[0.09765863418579102,0.05321979522705078,0.03861594200134277,0.035874128341674805],\"yaxis\":\"y2\",\"type\":\"scatter\"},{\"hovertemplate\":\"M=4<br>efSearch=40<br>efConstruction=%{x}<br>search time (ms/query)=%{y}<extra></extra>\",\"legendgroup\":\"4\",\"line\":{\"color\":\"#EECA3B\",\"dash\":\"solid\"},\"marker\":{\"symbol\":\"circle\"},\"mode\":\"markers+lines\",\"name\":\"4\",\"orientation\":\"v\",\"showlegend\":false,\"x\":[4,16,40,76],\"xaxis\":\"x3\",\"y\":[0.056708335876464844,0.07614469528198242,0.07405519485473633,0.08121347427368164],\"yaxis\":\"y3\",\"type\":\"scatter\"},{\"hovertemplate\":\"M=4<br>efSearch=76<br>efConstruction=%{x}<br>search time (ms/query)=%{y}<extra></extra>\",\"legendgroup\":\"4\",\"line\":{\"color\":\"#EECA3B\",\"dash\":\"solid\"},\"marker\":{\"symbol\":\"circle\"},\"mode\":\"markers+lines\",\"name\":\"4\",\"orientation\":\"v\",\"showlegend\":false,\"x\":[4,16,40,76],\"xaxis\":\"x4\",\"y\":[0.08639359474182129,0.20155882835388184,0.13103389739990234,0.14520859718322754],\"yaxis\":\"y4\",\"type\":\"scatter\"},{\"hovertemplate\":\"M=16<br>efSearch=4<br>efConstruction=%{x}<br>search time (ms/query)=%{y}<extra></extra>\",\"legendgroup\":\"16\",\"line\":{\"color\":\"#FF9900\",\"dash\":\"solid\"},\"marker\":{\"symbol\":\"circle\"},\"mode\":\"markers+lines\",\"name\":\"16\",\"orientation\":\"v\",\"showlegend\":true,\"x\":[4,16,40,76],\"xaxis\":\"x\",\"y\":[0.028177738189697266,0.08639931678771973,0.047518253326416016,0.06644058227539062],\"yaxis\":\"y\",\"type\":\"scatter\"},{\"hovertemplate\":\"M=16<br>efSearch=16<br>efConstruction=%{x}<br>search time (ms/query)=%{y}<extra></extra>\",\"legendgroup\":\"16\",\"line\":{\"color\":\"#FF9900\",\"dash\":\"solid\"},\"marker\":{\"symbol\":\"circle\"},\"mode\":\"markers+lines\",\"name\":\"16\",\"orientation\":\"v\",\"showlegend\":false,\"x\":[4,16,40,76],\"xaxis\":\"x2\",\"y\":[0.04013562202453613,0.08358335494995117,0.08065915107727051,0.08359575271606445],\"yaxis\":\"y2\",\"type\":\"scatter\"},{\"hovertemplate\":\"M=16<br>efSearch=40<br>efConstruction=%{x}<br>search time (ms/query)=%{y}<extra></extra>\",\"legendgroup\":\"16\",\"line\":{\"color\":\"#FF9900\",\"dash\":\"solid\"},\"marker\":{\"symbol\":\"circle\"},\"mode\":\"markers+lines\",\"name\":\"16\",\"orientation\":\"v\",\"showlegend\":false,\"x\":[4,16,40,76],\"xaxis\":\"x3\",\"y\":[0.08285140991210938,0.17656922340393066,0.16335773468017578,0.17189502716064453],\"yaxis\":\"y3\",\"type\":\"scatter\"},{\"hovertemplate\":\"M=16<br>efSearch=76<br>efConstruction=%{x}<br>search time (ms/query)=%{y}<extra></extra>\",\"legendgroup\":\"16\",\"line\":{\"color\":\"#FF9900\",\"dash\":\"solid\"},\"marker\":{\"symbol\":\"circle\"},\"mode\":\"markers+lines\",\"name\":\"16\",\"orientation\":\"v\",\"showlegend\":false,\"x\":[4,16,40,76],\"xaxis\":\"x4\",\"y\":[0.14116430282592773,0.28842926025390625,0.27508544921875,0.2898087501525879],\"yaxis\":\"y4\",\"type\":\"scatter\"},{\"hovertemplate\":\"M=32<br>efSearch=4<br>efConstruction=%{x}<br>search time (ms/query)=%{y}<extra></extra>\",\"legendgroup\":\"32\",\"line\":{\"color\":\"#DC3912\",\"dash\":\"solid\"},\"marker\":{\"symbol\":\"circle\"},\"mode\":\"markers+lines\",\"name\":\"32\",\"orientation\":\"v\",\"showlegend\":true,\"x\":[4,16,40,76],\"xaxis\":\"x\",\"y\":[0.03139066696166992,0.07705330848693848,0.06300806999206543,0.1129915714263916],\"yaxis\":\"y\",\"type\":\"scatter\"},{\"hovertemplate\":\"M=32<br>efSearch=16<br>efConstruction=%{x}<br>search time (ms/query)=%{y}<extra></extra>\",\"legendgroup\":\"32\",\"line\":{\"color\":\"#DC3912\",\"dash\":\"solid\"},\"marker\":{\"symbol\":\"circle\"},\"mode\":\"markers+lines\",\"name\":\"32\",\"orientation\":\"v\",\"showlegend\":false,\"x\":[4,16,40,76],\"xaxis\":\"x2\",\"y\":[0.047579288482666016,0.10351157188415527,0.15964984893798828,0.2747519016265869],\"yaxis\":\"y2\",\"type\":\"scatter\"},{\"hovertemplate\":\"M=32<br>efSearch=40<br>efConstruction=%{x}<br>search time (ms/query)=%{y}<extra></extra>\",\"legendgroup\":\"32\",\"line\":{\"color\":\"#DC3912\",\"dash\":\"solid\"},\"marker\":{\"symbol\":\"circle\"},\"mode\":\"markers+lines\",\"name\":\"32\",\"orientation\":\"v\",\"showlegend\":false,\"x\":[4,16,40,76],\"xaxis\":\"x3\",\"y\":[0.09312105178833008,0.207503080368042,0.4899125099182129,0.21726465225219727],\"yaxis\":\"y3\",\"type\":\"scatter\"},{\"hovertemplate\":\"M=32<br>efSearch=76<br>efConstruction=%{x}<br>search time (ms/query)=%{y}<extra></extra>\",\"legendgroup\":\"32\",\"line\":{\"color\":\"#DC3912\",\"dash\":\"solid\"},\"marker\":{\"symbol\":\"circle\"},\"mode\":\"markers+lines\",\"name\":\"32\",\"orientation\":\"v\",\"showlegend\":false,\"x\":[4,16,40,76],\"xaxis\":\"x4\",\"y\":[0.15813112258911133,0.34975409507751465,0.6785674095153809,0.5038113594055176],\"yaxis\":\"y4\",\"type\":\"scatter\"},{\"hovertemplate\":\"M=64<br>efSearch=4<br>efConstruction=%{x}<br>search time (ms/query)=%{y}<extra></extra>\",\"legendgroup\":\"64\",\"line\":{\"color\":\"#990099\",\"dash\":\"solid\"},\"marker\":{\"symbol\":\"circle\"},\"mode\":\"markers+lines\",\"name\":\"64\",\"orientation\":\"v\",\"showlegend\":true,\"x\":[4,16,40,76],\"xaxis\":\"x\",\"y\":[0.037286996841430664,0.21562671661376953,0.13775253295898438,0.12216734886169434],\"yaxis\":\"y\",\"type\":\"scatter\"},{\"hovertemplate\":\"M=64<br>efSearch=16<br>efConstruction=%{x}<br>search time (ms/query)=%{y}<extra></extra>\",\"legendgroup\":\"64\",\"line\":{\"color\":\"#990099\",\"dash\":\"solid\"},\"marker\":{\"symbol\":\"circle\"},\"mode\":\"markers+lines\",\"name\":\"64\",\"orientation\":\"v\",\"showlegend\":false,\"x\":[4,16,40,76],\"xaxis\":\"x2\",\"y\":[0.11435699462890625,0.2710235118865967,0.19754838943481445,0.21347618103027344],\"yaxis\":\"y2\",\"type\":\"scatter\"},{\"hovertemplate\":\"M=64<br>efSearch=40<br>efConstruction=%{x}<br>search time (ms/query)=%{y}<extra></extra>\",\"legendgroup\":\"64\",\"line\":{\"color\":\"#990099\",\"dash\":\"solid\"},\"marker\":{\"symbol\":\"circle\"},\"mode\":\"markers+lines\",\"name\":\"64\",\"orientation\":\"v\",\"showlegend\":false,\"x\":[4,16,40,76],\"xaxis\":\"x3\",\"y\":[0.1025090217590332,0.4639923572540283,0.3768594264984131,0.43504786491394043],\"yaxis\":\"y3\",\"type\":\"scatter\"},{\"hovertemplate\":\"M=64<br>efSearch=76<br>efConstruction=%{x}<br>search time (ms/query)=%{y}<extra></extra>\",\"legendgroup\":\"64\",\"line\":{\"color\":\"#990099\",\"dash\":\"solid\"},\"marker\":{\"symbol\":\"circle\"},\"mode\":\"markers+lines\",\"name\":\"64\",\"orientation\":\"v\",\"showlegend\":false,\"x\":[4,16,40,76],\"xaxis\":\"x4\",\"y\":[0.17495179176330566,0.4009709358215332,0.6303355693817139,0.7314002513885498],\"yaxis\":\"y4\",\"type\":\"scatter\"}],                        {\"template\":{\"data\":{\"barpolar\":[{\"marker\":{\"line\":{\"color\":\"white\",\"width\":0.5},\"pattern\":{\"fillmode\":\"overlay\",\"size\":10,\"solidity\":0.2}},\"type\":\"barpolar\"}],\"bar\":[{\"error_x\":{\"color\":\"rgb(36,36,36)\"},\"error_y\":{\"color\":\"rgb(36,36,36)\"},\"marker\":{\"line\":{\"color\":\"white\",\"width\":0.5},\"pattern\":{\"fillmode\":\"overlay\",\"size\":10,\"solidity\":0.2}},\"type\":\"bar\"}],\"carpet\":[{\"aaxis\":{\"endlinecolor\":\"rgb(36,36,36)\",\"gridcolor\":\"white\",\"linecolor\":\"white\",\"minorgridcolor\":\"white\",\"startlinecolor\":\"rgb(36,36,36)\"},\"baxis\":{\"endlinecolor\":\"rgb(36,36,36)\",\"gridcolor\":\"white\",\"linecolor\":\"white\",\"minorgridcolor\":\"white\",\"startlinecolor\":\"rgb(36,36,36)\"},\"type\":\"carpet\"}],\"choropleth\":[{\"colorbar\":{\"outlinewidth\":1,\"tickcolor\":\"rgb(36,36,36)\",\"ticks\":\"outside\"},\"type\":\"choropleth\"}],\"contourcarpet\":[{\"colorbar\":{\"outlinewidth\":1,\"tickcolor\":\"rgb(36,36,36)\",\"ticks\":\"outside\"},\"type\":\"contourcarpet\"}],\"contour\":[{\"colorbar\":{\"outlinewidth\":1,\"tickcolor\":\"rgb(36,36,36)\",\"ticks\":\"outside\"},\"colorscale\":[[0.0,\"#440154\"],[0.1111111111111111,\"#482878\"],[0.2222222222222222,\"#3e4989\"],[0.3333333333333333,\"#31688e\"],[0.4444444444444444,\"#26828e\"],[0.5555555555555556,\"#1f9e89\"],[0.6666666666666666,\"#35b779\"],[0.7777777777777778,\"#6ece58\"],[0.8888888888888888,\"#b5de2b\"],[1.0,\"#fde725\"]],\"type\":\"contour\"}],\"heatmapgl\":[{\"colorbar\":{\"outlinewidth\":1,\"tickcolor\":\"rgb(36,36,36)\",\"ticks\":\"outside\"},\"colorscale\":[[0.0,\"#440154\"],[0.1111111111111111,\"#482878\"],[0.2222222222222222,\"#3e4989\"],[0.3333333333333333,\"#31688e\"],[0.4444444444444444,\"#26828e\"],[0.5555555555555556,\"#1f9e89\"],[0.6666666666666666,\"#35b779\"],[0.7777777777777778,\"#6ece58\"],[0.8888888888888888,\"#b5de2b\"],[1.0,\"#fde725\"]],\"type\":\"heatmapgl\"}],\"heatmap\":[{\"colorbar\":{\"outlinewidth\":1,\"tickcolor\":\"rgb(36,36,36)\",\"ticks\":\"outside\"},\"colorscale\":[[0.0,\"#440154\"],[0.1111111111111111,\"#482878\"],[0.2222222222222222,\"#3e4989\"],[0.3333333333333333,\"#31688e\"],[0.4444444444444444,\"#26828e\"],[0.5555555555555556,\"#1f9e89\"],[0.6666666666666666,\"#35b779\"],[0.7777777777777778,\"#6ece58\"],[0.8888888888888888,\"#b5de2b\"],[1.0,\"#fde725\"]],\"type\":\"heatmap\"}],\"histogram2dcontour\":[{\"colorbar\":{\"outlinewidth\":1,\"tickcolor\":\"rgb(36,36,36)\",\"ticks\":\"outside\"},\"colorscale\":[[0.0,\"#440154\"],[0.1111111111111111,\"#482878\"],[0.2222222222222222,\"#3e4989\"],[0.3333333333333333,\"#31688e\"],[0.4444444444444444,\"#26828e\"],[0.5555555555555556,\"#1f9e89\"],[0.6666666666666666,\"#35b779\"],[0.7777777777777778,\"#6ece58\"],[0.8888888888888888,\"#b5de2b\"],[1.0,\"#fde725\"]],\"type\":\"histogram2dcontour\"}],\"histogram2d\":[{\"colorbar\":{\"outlinewidth\":1,\"tickcolor\":\"rgb(36,36,36)\",\"ticks\":\"outside\"},\"colorscale\":[[0.0,\"#440154\"],[0.1111111111111111,\"#482878\"],[0.2222222222222222,\"#3e4989\"],[0.3333333333333333,\"#31688e\"],[0.4444444444444444,\"#26828e\"],[0.5555555555555556,\"#1f9e89\"],[0.6666666666666666,\"#35b779\"],[0.7777777777777778,\"#6ece58\"],[0.8888888888888888,\"#b5de2b\"],[1.0,\"#fde725\"]],\"type\":\"histogram2d\"}],\"histogram\":[{\"marker\":{\"line\":{\"color\":\"white\",\"width\":0.6}},\"type\":\"histogram\"}],\"mesh3d\":[{\"colorbar\":{\"outlinewidth\":1,\"tickcolor\":\"rgb(36,36,36)\",\"ticks\":\"outside\"},\"type\":\"mesh3d\"}],\"parcoords\":[{\"line\":{\"colorbar\":{\"outlinewidth\":1,\"tickcolor\":\"rgb(36,36,36)\",\"ticks\":\"outside\"}},\"type\":\"parcoords\"}],\"pie\":[{\"automargin\":true,\"type\":\"pie\"}],\"scatter3d\":[{\"line\":{\"colorbar\":{\"outlinewidth\":1,\"tickcolor\":\"rgb(36,36,36)\",\"ticks\":\"outside\"}},\"marker\":{\"colorbar\":{\"outlinewidth\":1,\"tickcolor\":\"rgb(36,36,36)\",\"ticks\":\"outside\"}},\"type\":\"scatter3d\"}],\"scattercarpet\":[{\"marker\":{\"colorbar\":{\"outlinewidth\":1,\"tickcolor\":\"rgb(36,36,36)\",\"ticks\":\"outside\"}},\"type\":\"scattercarpet\"}],\"scattergeo\":[{\"marker\":{\"colorbar\":{\"outlinewidth\":1,\"tickcolor\":\"rgb(36,36,36)\",\"ticks\":\"outside\"}},\"type\":\"scattergeo\"}],\"scattergl\":[{\"marker\":{\"colorbar\":{\"outlinewidth\":1,\"tickcolor\":\"rgb(36,36,36)\",\"ticks\":\"outside\"}},\"type\":\"scattergl\"}],\"scattermapbox\":[{\"marker\":{\"colorbar\":{\"outlinewidth\":1,\"tickcolor\":\"rgb(36,36,36)\",\"ticks\":\"outside\"}},\"type\":\"scattermapbox\"}],\"scatterpolargl\":[{\"marker\":{\"colorbar\":{\"outlinewidth\":1,\"tickcolor\":\"rgb(36,36,36)\",\"ticks\":\"outside\"}},\"type\":\"scatterpolargl\"}],\"scatterpolar\":[{\"marker\":{\"colorbar\":{\"outlinewidth\":1,\"tickcolor\":\"rgb(36,36,36)\",\"ticks\":\"outside\"}},\"type\":\"scatterpolar\"}],\"scatter\":[{\"fillpattern\":{\"fillmode\":\"overlay\",\"size\":10,\"solidity\":0.2},\"type\":\"scatter\"}],\"scatterternary\":[{\"marker\":{\"colorbar\":{\"outlinewidth\":1,\"tickcolor\":\"rgb(36,36,36)\",\"ticks\":\"outside\"}},\"type\":\"scatterternary\"}],\"surface\":[{\"colorbar\":{\"outlinewidth\":1,\"tickcolor\":\"rgb(36,36,36)\",\"ticks\":\"outside\"},\"colorscale\":[[0.0,\"#440154\"],[0.1111111111111111,\"#482878\"],[0.2222222222222222,\"#3e4989\"],[0.3333333333333333,\"#31688e\"],[0.4444444444444444,\"#26828e\"],[0.5555555555555556,\"#1f9e89\"],[0.6666666666666666,\"#35b779\"],[0.7777777777777778,\"#6ece58\"],[0.8888888888888888,\"#b5de2b\"],[1.0,\"#fde725\"]],\"type\":\"surface\"}],\"table\":[{\"cells\":{\"fill\":{\"color\":\"rgb(237,237,237)\"},\"line\":{\"color\":\"white\"}},\"header\":{\"fill\":{\"color\":\"rgb(217,217,217)\"},\"line\":{\"color\":\"white\"}},\"type\":\"table\"}]},\"layout\":{\"annotationdefaults\":{\"arrowhead\":0,\"arrowwidth\":1},\"autotypenumbers\":\"strict\",\"coloraxis\":{\"colorbar\":{\"outlinewidth\":1,\"tickcolor\":\"rgb(36,36,36)\",\"ticks\":\"outside\"}},\"colorscale\":{\"diverging\":[[0.0,\"rgb(103,0,31)\"],[0.1,\"rgb(178,24,43)\"],[0.2,\"rgb(214,96,77)\"],[0.3,\"rgb(244,165,130)\"],[0.4,\"rgb(253,219,199)\"],[0.5,\"rgb(247,247,247)\"],[0.6,\"rgb(209,229,240)\"],[0.7,\"rgb(146,197,222)\"],[0.8,\"rgb(67,147,195)\"],[0.9,\"rgb(33,102,172)\"],[1.0,\"rgb(5,48,97)\"]],\"sequential\":[[0.0,\"#440154\"],[0.1111111111111111,\"#482878\"],[0.2222222222222222,\"#3e4989\"],[0.3333333333333333,\"#31688e\"],[0.4444444444444444,\"#26828e\"],[0.5555555555555556,\"#1f9e89\"],[0.6666666666666666,\"#35b779\"],[0.7777777777777778,\"#6ece58\"],[0.8888888888888888,\"#b5de2b\"],[1.0,\"#fde725\"]],\"sequentialminus\":[[0.0,\"#440154\"],[0.1111111111111111,\"#482878\"],[0.2222222222222222,\"#3e4989\"],[0.3333333333333333,\"#31688e\"],[0.4444444444444444,\"#26828e\"],[0.5555555555555556,\"#1f9e89\"],[0.6666666666666666,\"#35b779\"],[0.7777777777777778,\"#6ece58\"],[0.8888888888888888,\"#b5de2b\"],[1.0,\"#fde725\"]]},\"colorway\":[\"#1F77B4\",\"#FF7F0E\",\"#2CA02C\",\"#D62728\",\"#9467BD\",\"#8C564B\",\"#E377C2\",\"#7F7F7F\",\"#BCBD22\",\"#17BECF\"],\"font\":{\"color\":\"rgb(36,36,36)\"},\"geo\":{\"bgcolor\":\"white\",\"lakecolor\":\"white\",\"landcolor\":\"white\",\"showlakes\":true,\"showland\":true,\"subunitcolor\":\"white\"},\"hoverlabel\":{\"align\":\"left\"},\"hovermode\":\"closest\",\"mapbox\":{\"style\":\"light\"},\"paper_bgcolor\":\"white\",\"plot_bgcolor\":\"white\",\"polar\":{\"angularaxis\":{\"gridcolor\":\"rgb(232,232,232)\",\"linecolor\":\"rgb(36,36,36)\",\"showgrid\":false,\"showline\":true,\"ticks\":\"outside\"},\"bgcolor\":\"white\",\"radialaxis\":{\"gridcolor\":\"rgb(232,232,232)\",\"linecolor\":\"rgb(36,36,36)\",\"showgrid\":false,\"showline\":true,\"ticks\":\"outside\"}},\"scene\":{\"xaxis\":{\"backgroundcolor\":\"white\",\"gridcolor\":\"rgb(232,232,232)\",\"gridwidth\":2,\"linecolor\":\"rgb(36,36,36)\",\"showbackground\":true,\"showgrid\":false,\"showline\":true,\"ticks\":\"outside\",\"zeroline\":false,\"zerolinecolor\":\"rgb(36,36,36)\"},\"yaxis\":{\"backgroundcolor\":\"white\",\"gridcolor\":\"rgb(232,232,232)\",\"gridwidth\":2,\"linecolor\":\"rgb(36,36,36)\",\"showbackground\":true,\"showgrid\":false,\"showline\":true,\"ticks\":\"outside\",\"zeroline\":false,\"zerolinecolor\":\"rgb(36,36,36)\"},\"zaxis\":{\"backgroundcolor\":\"white\",\"gridcolor\":\"rgb(232,232,232)\",\"gridwidth\":2,\"linecolor\":\"rgb(36,36,36)\",\"showbackground\":true,\"showgrid\":false,\"showline\":true,\"ticks\":\"outside\",\"zeroline\":false,\"zerolinecolor\":\"rgb(36,36,36)\"}},\"shapedefaults\":{\"fillcolor\":\"black\",\"line\":{\"width\":0},\"opacity\":0.3},\"ternary\":{\"aaxis\":{\"gridcolor\":\"rgb(232,232,232)\",\"linecolor\":\"rgb(36,36,36)\",\"showgrid\":false,\"showline\":true,\"ticks\":\"outside\"},\"baxis\":{\"gridcolor\":\"rgb(232,232,232)\",\"linecolor\":\"rgb(36,36,36)\",\"showgrid\":false,\"showline\":true,\"ticks\":\"outside\"},\"bgcolor\":\"white\",\"caxis\":{\"gridcolor\":\"rgb(232,232,232)\",\"linecolor\":\"rgb(36,36,36)\",\"showgrid\":false,\"showline\":true,\"ticks\":\"outside\"}},\"title\":{\"x\":0.05},\"xaxis\":{\"automargin\":true,\"gridcolor\":\"rgb(232,232,232)\",\"linecolor\":\"rgb(36,36,36)\",\"showgrid\":false,\"showline\":true,\"ticks\":\"outside\",\"title\":{\"standoff\":15},\"zeroline\":false,\"zerolinecolor\":\"rgb(36,36,36)\"},\"yaxis\":{\"automargin\":true,\"gridcolor\":\"rgb(232,232,232)\",\"linecolor\":\"rgb(36,36,36)\",\"showgrid\":false,\"showline\":true,\"ticks\":\"outside\",\"title\":{\"standoff\":15},\"zeroline\":false,\"zerolinecolor\":\"rgb(36,36,36)\"}}},\"xaxis\":{\"anchor\":\"y\",\"domain\":[0.0,0.2425],\"title\":{\"text\":\"efConstruction\"},\"linecolor\":\"darkgrey\"},\"yaxis\":{\"anchor\":\"x\",\"domain\":[0.0,1.0],\"title\":{\"text\":\"search time (ms/query)\"},\"linecolor\":\"darkgrey\",\"showgrid\":true,\"gridwidth\":1,\"gridcolor\":\"LightGrey\",\"griddash\":\"dot\",\"ticks\":\"\"},\"xaxis2\":{\"anchor\":\"y2\",\"domain\":[0.2525,0.495],\"matches\":\"x\",\"title\":{\"text\":\"efConstruction\"},\"linecolor\":\"darkgrey\"},\"yaxis2\":{\"anchor\":\"x2\",\"domain\":[0.0,1.0],\"matches\":\"y\",\"showticklabels\":false,\"linecolor\":\"darkgrey\",\"showgrid\":true,\"gridwidth\":1,\"gridcolor\":\"LightGrey\",\"griddash\":\"dot\",\"ticks\":\"\"},\"xaxis3\":{\"anchor\":\"y3\",\"domain\":[0.505,0.7475],\"matches\":\"x\",\"title\":{\"text\":\"efConstruction\"},\"linecolor\":\"darkgrey\"},\"yaxis3\":{\"anchor\":\"x3\",\"domain\":[0.0,1.0],\"matches\":\"y\",\"showticklabels\":false,\"linecolor\":\"darkgrey\",\"showgrid\":true,\"gridwidth\":1,\"gridcolor\":\"LightGrey\",\"griddash\":\"dot\",\"ticks\":\"\"},\"xaxis4\":{\"anchor\":\"y4\",\"domain\":[0.7575000000000001,1.0],\"matches\":\"x\",\"title\":{\"text\":\"efConstruction\"},\"linecolor\":\"darkgrey\"},\"yaxis4\":{\"anchor\":\"x4\",\"domain\":[0.0,1.0],\"matches\":\"y\",\"showticklabels\":false,\"linecolor\":\"darkgrey\",\"showgrid\":true,\"gridwidth\":1,\"gridcolor\":\"LightGrey\",\"griddash\":\"dot\",\"ticks\":\"\"},\"annotations\":[{\"font\":{},\"showarrow\":false,\"text\":\"efSearch=4\",\"x\":0.12125,\"xanchor\":\"center\",\"xref\":\"paper\",\"y\":1.0,\"yanchor\":\"bottom\",\"yref\":\"paper\"},{\"font\":{},\"showarrow\":false,\"text\":\"efSearch=16\",\"x\":0.37375,\"xanchor\":\"center\",\"xref\":\"paper\",\"y\":1.0,\"yanchor\":\"bottom\",\"yref\":\"paper\"},{\"font\":{},\"showarrow\":false,\"text\":\"efSearch=40\",\"x\":0.62625,\"xanchor\":\"center\",\"xref\":\"paper\",\"y\":1.0,\"yanchor\":\"bottom\",\"yref\":\"paper\"},{\"font\":{},\"showarrow\":false,\"text\":\"efSearch=76\",\"x\":0.87875,\"xanchor\":\"center\",\"xref\":\"paper\",\"y\":1.0,\"yanchor\":\"bottom\",\"yref\":\"paper\"}],\"legend\":{\"title\":{\"text\":\"M\"},\"tracegroupgap\":0,\"yanchor\":\"top\",\"y\":0.99,\"xanchor\":\"left\",\"x\":0.03,\"borderwidth\":1,\"traceorder\":\"reversed\"},\"margin\":{\"t\":60},\"height\":390,\"width\":750},                        {\"responsive\": true}                    ).then(function(){\n",
       "                            \n",
       "var gd = document.getElementById('518dc333-56f6-497b-b92a-b52967bc4a1c');\n",
       "var x = new MutationObserver(function (mutations, observer) {{\n",
       "        var display = window.getComputedStyle(gd).display;\n",
       "        if (!display || display === 'none') {{\n",
       "            console.log([gd, 'removed!']);\n",
       "            Plotly.purge(gd);\n",
       "            observer.disconnect();\n",
       "        }}\n",
       "}});\n",
       "\n",
       "// Listen for the removal of the full notebook cells\n",
       "var notebookContainer = gd.closest('#notebook-container');\n",
       "if (notebookContainer) {{\n",
       "    x.observe(notebookContainer, {childList: true});\n",
       "}}\n",
       "\n",
       "// Listen for the clearing of the current output cell\n",
       "var outputEl = gd.closest('.output');\n",
       "if (outputEl) {{\n",
       "    x.observe(outputEl, {childList: true});\n",
       "}}\n",
       "\n",
       "                        })                };                });            </script>        </div>"
      ]
     },
     "metadata": {},
     "output_type": "display_data"
    }
   ],
   "source": [
    "fig = px.line(dfHNSW, x=\"efConstruction\", y=\"search_time\", color=\"M\", height=390, width=750, markers=True,\n",
    "              template=\"simple_white\", color_discrete_sequence=colors_custom, #color_discrete_sequence=px.colors.qualitative.D3,  \n",
    "              facet_col=\"efSearch\", facet_col_spacing=0.01,\n",
    "              labels=dict(search_time=\"search time (ms/query)\",)\n",
    "             )\n",
    "fig.update_layout(legend=dict(yanchor=\"top\", y=0.99, xanchor=\"left\", x=0.03, borderwidth=1, traceorder=\"reversed\")) # orientation=\"h\"\n",
    "fig.update_xaxes(linecolor='darkgrey')\n",
    "fig.update_yaxes(linecolor='darkgrey', showgrid=True, gridwidth=1, gridcolor='LightGrey', griddash=\"dot\", ticks=\"\")\n",
    "fig.show()\n",
    "fig.write_html(\"Hflat_search_time_efConst_efSearch.html\")"
   ]
  },
  {
   "cell_type": "code",
   "execution_count": 45,
   "id": "fbb70814",
   "metadata": {
    "execution": {
     "iopub.execute_input": "2022-08-18T15:44:54.778672Z",
     "iopub.status.busy": "2022-08-18T15:44:54.777993Z",
     "iopub.status.idle": "2022-08-18T15:44:54.949744Z",
     "shell.execute_reply": "2022-08-18T15:44:54.948860Z"
    },
    "papermill": {
     "duration": 0.797084,
     "end_time": "2022-08-18T15:44:54.951889",
     "exception": false,
     "start_time": "2022-08-18T15:44:54.154805",
     "status": "completed"
    },
    "tags": []
   },
   "outputs": [
    {
     "data": {
      "text/html": [
       "<div>                            <div id=\"b5d07c1b-0cc1-4bd3-b40c-e52a1690356a\" class=\"plotly-graph-div\" style=\"height:380px; width:750px;\"></div>            <script type=\"text/javascript\">                require([\"plotly\"], function(Plotly) {                    window.PLOTLYENV=window.PLOTLYENV || {};                                    if (document.getElementById(\"b5d07c1b-0cc1-4bd3-b40c-e52a1690356a\")) {                    Plotly.newPlot(                        \"b5d07c1b-0cc1-4bd3-b40c-e52a1690356a\",                        [{\"hovertemplate\":\"M=4<br>efSearch=4<br>efConstruction=%{x}<br>recall@3=%{y}<extra></extra>\",\"legendgroup\":\"4\",\"line\":{\"color\":\"#EECA3B\",\"dash\":\"solid\"},\"marker\":{\"symbol\":\"circle\"},\"mode\":\"markers+lines\",\"name\":\"4\",\"orientation\":\"v\",\"showlegend\":true,\"x\":[4,16,40,76],\"xaxis\":\"x\",\"y\":[0.019,0.053,0.093,0.088],\"yaxis\":\"y\",\"type\":\"scatter\"},{\"hovertemplate\":\"M=4<br>efSearch=16<br>efConstruction=%{x}<br>recall@3=%{y}<extra></extra>\",\"legendgroup\":\"4\",\"line\":{\"color\":\"#EECA3B\",\"dash\":\"solid\"},\"marker\":{\"symbol\":\"circle\"},\"mode\":\"markers+lines\",\"name\":\"4\",\"orientation\":\"v\",\"showlegend\":false,\"x\":[4,16,40,76],\"xaxis\":\"x2\",\"y\":[0.034,0.19,0.29,0.318],\"yaxis\":\"y2\",\"type\":\"scatter\"},{\"hovertemplate\":\"M=4<br>efSearch=40<br>efConstruction=%{x}<br>recall@3=%{y}<extra></extra>\",\"legendgroup\":\"4\",\"line\":{\"color\":\"#EECA3B\",\"dash\":\"solid\"},\"marker\":{\"symbol\":\"circle\"},\"mode\":\"markers+lines\",\"name\":\"4\",\"orientation\":\"v\",\"showlegend\":false,\"x\":[4,16,40,76],\"xaxis\":\"x3\",\"y\":[0.044,0.341,0.537,0.566],\"yaxis\":\"y3\",\"type\":\"scatter\"},{\"hovertemplate\":\"M=4<br>efSearch=76<br>efConstruction=%{x}<br>recall@3=%{y}<extra></extra>\",\"legendgroup\":\"4\",\"line\":{\"color\":\"#EECA3B\",\"dash\":\"solid\"},\"marker\":{\"symbol\":\"circle\"},\"mode\":\"markers+lines\",\"name\":\"4\",\"orientation\":\"v\",\"showlegend\":false,\"x\":[4,16,40,76],\"xaxis\":\"x4\",\"y\":[0.05,0.428,0.639,0.674],\"yaxis\":\"y4\",\"type\":\"scatter\"},{\"hovertemplate\":\"M=16<br>efSearch=4<br>efConstruction=%{x}<br>recall@3=%{y}<extra></extra>\",\"legendgroup\":\"16\",\"line\":{\"color\":\"#FF9900\",\"dash\":\"solid\"},\"marker\":{\"symbol\":\"circle\"},\"mode\":\"markers+lines\",\"name\":\"16\",\"orientation\":\"v\",\"showlegend\":true,\"x\":[4,16,40,76],\"xaxis\":\"x\",\"y\":[0.024,0.324,0.413,0.45],\"yaxis\":\"y\",\"type\":\"scatter\"},{\"hovertemplate\":\"M=16<br>efSearch=16<br>efConstruction=%{x}<br>recall@3=%{y}<extra></extra>\",\"legendgroup\":\"16\",\"line\":{\"color\":\"#FF9900\",\"dash\":\"solid\"},\"marker\":{\"symbol\":\"circle\"},\"mode\":\"markers+lines\",\"name\":\"16\",\"orientation\":\"v\",\"showlegend\":false,\"x\":[4,16,40,76],\"xaxis\":\"x2\",\"y\":[0.041,0.652,0.726,0.786],\"yaxis\":\"y2\",\"type\":\"scatter\"},{\"hovertemplate\":\"M=16<br>efSearch=40<br>efConstruction=%{x}<br>recall@3=%{y}<extra></extra>\",\"legendgroup\":\"16\",\"line\":{\"color\":\"#FF9900\",\"dash\":\"solid\"},\"marker\":{\"symbol\":\"circle\"},\"mode\":\"markers+lines\",\"name\":\"16\",\"orientation\":\"v\",\"showlegend\":false,\"x\":[4,16,40,76],\"xaxis\":\"x3\",\"y\":[0.057,0.816,0.846,0.912],\"yaxis\":\"y3\",\"type\":\"scatter\"},{\"hovertemplate\":\"M=16<br>efSearch=76<br>efConstruction=%{x}<br>recall@3=%{y}<extra></extra>\",\"legendgroup\":\"16\",\"line\":{\"color\":\"#FF9900\",\"dash\":\"solid\"},\"marker\":{\"symbol\":\"circle\"},\"mode\":\"markers+lines\",\"name\":\"16\",\"orientation\":\"v\",\"showlegend\":false,\"x\":[4,16,40,76],\"xaxis\":\"x4\",\"y\":[0.063,0.871,0.896,0.939],\"yaxis\":\"y4\",\"type\":\"scatter\"},{\"hovertemplate\":\"M=32<br>efSearch=4<br>efConstruction=%{x}<br>recall@3=%{y}<extra></extra>\",\"legendgroup\":\"32\",\"line\":{\"color\":\"#DC3912\",\"dash\":\"solid\"},\"marker\":{\"symbol\":\"circle\"},\"mode\":\"markers+lines\",\"name\":\"32\",\"orientation\":\"v\",\"showlegend\":true,\"x\":[4,16,40,76],\"xaxis\":\"x\",\"y\":[0.045,0.464,0.588,0.558],\"yaxis\":\"y\",\"type\":\"scatter\"},{\"hovertemplate\":\"M=32<br>efSearch=16<br>efConstruction=%{x}<br>recall@3=%{y}<extra></extra>\",\"legendgroup\":\"32\",\"line\":{\"color\":\"#DC3912\",\"dash\":\"solid\"},\"marker\":{\"symbol\":\"circle\"},\"mode\":\"markers+lines\",\"name\":\"32\",\"orientation\":\"v\",\"showlegend\":false,\"x\":[4,16,40,76],\"xaxis\":\"x2\",\"y\":[0.061,0.758,0.846,0.849],\"yaxis\":\"y2\",\"type\":\"scatter\"},{\"hovertemplate\":\"M=32<br>efSearch=40<br>efConstruction=%{x}<br>recall@3=%{y}<extra></extra>\",\"legendgroup\":\"32\",\"line\":{\"color\":\"#DC3912\",\"dash\":\"solid\"},\"marker\":{\"symbol\":\"circle\"},\"mode\":\"markers+lines\",\"name\":\"32\",\"orientation\":\"v\",\"showlegend\":false,\"x\":[4,16,40,76],\"xaxis\":\"x3\",\"y\":[0.075,0.883,0.935,0.921],\"yaxis\":\"y3\",\"type\":\"scatter\"},{\"hovertemplate\":\"M=32<br>efSearch=76<br>efConstruction=%{x}<br>recall@3=%{y}<extra></extra>\",\"legendgroup\":\"32\",\"line\":{\"color\":\"#DC3912\",\"dash\":\"solid\"},\"marker\":{\"symbol\":\"circle\"},\"mode\":\"markers+lines\",\"name\":\"32\",\"orientation\":\"v\",\"showlegend\":false,\"x\":[4,16,40,76],\"xaxis\":\"x4\",\"y\":[0.088,0.923,0.964,0.952],\"yaxis\":\"y4\",\"type\":\"scatter\"},{\"hovertemplate\":\"M=64<br>efSearch=4<br>efConstruction=%{x}<br>recall@3=%{y}<extra></extra>\",\"legendgroup\":\"64\",\"line\":{\"color\":\"#990099\",\"dash\":\"solid\"},\"marker\":{\"symbol\":\"circle\"},\"mode\":\"markers+lines\",\"name\":\"64\",\"orientation\":\"v\",\"showlegend\":true,\"x\":[4,16,40,76],\"xaxis\":\"x\",\"y\":[0.037,0.471,0.709,0.738],\"yaxis\":\"y\",\"type\":\"scatter\"},{\"hovertemplate\":\"M=64<br>efSearch=16<br>efConstruction=%{x}<br>recall@3=%{y}<extra></extra>\",\"legendgroup\":\"64\",\"line\":{\"color\":\"#990099\",\"dash\":\"solid\"},\"marker\":{\"symbol\":\"circle\"},\"mode\":\"markers+lines\",\"name\":\"64\",\"orientation\":\"v\",\"showlegend\":false,\"x\":[4,16,40,76],\"xaxis\":\"x2\",\"y\":[0.049,0.768,0.887,0.918],\"yaxis\":\"y2\",\"type\":\"scatter\"},{\"hovertemplate\":\"M=64<br>efSearch=40<br>efConstruction=%{x}<br>recall@3=%{y}<extra></extra>\",\"legendgroup\":\"64\",\"line\":{\"color\":\"#990099\",\"dash\":\"solid\"},\"marker\":{\"symbol\":\"circle\"},\"mode\":\"markers+lines\",\"name\":\"64\",\"orientation\":\"v\",\"showlegend\":false,\"x\":[4,16,40,76],\"xaxis\":\"x3\",\"y\":[0.062,0.891,0.949,0.97],\"yaxis\":\"y3\",\"type\":\"scatter\"},{\"hovertemplate\":\"M=64<br>efSearch=76<br>efConstruction=%{x}<br>recall@3=%{y}<extra></extra>\",\"legendgroup\":\"64\",\"line\":{\"color\":\"#990099\",\"dash\":\"solid\"},\"marker\":{\"symbol\":\"circle\"},\"mode\":\"markers+lines\",\"name\":\"64\",\"orientation\":\"v\",\"showlegend\":false,\"x\":[4,16,40,76],\"xaxis\":\"x4\",\"y\":[0.072,0.926,0.977,0.992],\"yaxis\":\"y4\",\"type\":\"scatter\"}],                        {\"template\":{\"data\":{\"barpolar\":[{\"marker\":{\"line\":{\"color\":\"white\",\"width\":0.5},\"pattern\":{\"fillmode\":\"overlay\",\"size\":10,\"solidity\":0.2}},\"type\":\"barpolar\"}],\"bar\":[{\"error_x\":{\"color\":\"rgb(36,36,36)\"},\"error_y\":{\"color\":\"rgb(36,36,36)\"},\"marker\":{\"line\":{\"color\":\"white\",\"width\":0.5},\"pattern\":{\"fillmode\":\"overlay\",\"size\":10,\"solidity\":0.2}},\"type\":\"bar\"}],\"carpet\":[{\"aaxis\":{\"endlinecolor\":\"rgb(36,36,36)\",\"gridcolor\":\"white\",\"linecolor\":\"white\",\"minorgridcolor\":\"white\",\"startlinecolor\":\"rgb(36,36,36)\"},\"baxis\":{\"endlinecolor\":\"rgb(36,36,36)\",\"gridcolor\":\"white\",\"linecolor\":\"white\",\"minorgridcolor\":\"white\",\"startlinecolor\":\"rgb(36,36,36)\"},\"type\":\"carpet\"}],\"choropleth\":[{\"colorbar\":{\"outlinewidth\":1,\"tickcolor\":\"rgb(36,36,36)\",\"ticks\":\"outside\"},\"type\":\"choropleth\"}],\"contourcarpet\":[{\"colorbar\":{\"outlinewidth\":1,\"tickcolor\":\"rgb(36,36,36)\",\"ticks\":\"outside\"},\"type\":\"contourcarpet\"}],\"contour\":[{\"colorbar\":{\"outlinewidth\":1,\"tickcolor\":\"rgb(36,36,36)\",\"ticks\":\"outside\"},\"colorscale\":[[0.0,\"#440154\"],[0.1111111111111111,\"#482878\"],[0.2222222222222222,\"#3e4989\"],[0.3333333333333333,\"#31688e\"],[0.4444444444444444,\"#26828e\"],[0.5555555555555556,\"#1f9e89\"],[0.6666666666666666,\"#35b779\"],[0.7777777777777778,\"#6ece58\"],[0.8888888888888888,\"#b5de2b\"],[1.0,\"#fde725\"]],\"type\":\"contour\"}],\"heatmapgl\":[{\"colorbar\":{\"outlinewidth\":1,\"tickcolor\":\"rgb(36,36,36)\",\"ticks\":\"outside\"},\"colorscale\":[[0.0,\"#440154\"],[0.1111111111111111,\"#482878\"],[0.2222222222222222,\"#3e4989\"],[0.3333333333333333,\"#31688e\"],[0.4444444444444444,\"#26828e\"],[0.5555555555555556,\"#1f9e89\"],[0.6666666666666666,\"#35b779\"],[0.7777777777777778,\"#6ece58\"],[0.8888888888888888,\"#b5de2b\"],[1.0,\"#fde725\"]],\"type\":\"heatmapgl\"}],\"heatmap\":[{\"colorbar\":{\"outlinewidth\":1,\"tickcolor\":\"rgb(36,36,36)\",\"ticks\":\"outside\"},\"colorscale\":[[0.0,\"#440154\"],[0.1111111111111111,\"#482878\"],[0.2222222222222222,\"#3e4989\"],[0.3333333333333333,\"#31688e\"],[0.4444444444444444,\"#26828e\"],[0.5555555555555556,\"#1f9e89\"],[0.6666666666666666,\"#35b779\"],[0.7777777777777778,\"#6ece58\"],[0.8888888888888888,\"#b5de2b\"],[1.0,\"#fde725\"]],\"type\":\"heatmap\"}],\"histogram2dcontour\":[{\"colorbar\":{\"outlinewidth\":1,\"tickcolor\":\"rgb(36,36,36)\",\"ticks\":\"outside\"},\"colorscale\":[[0.0,\"#440154\"],[0.1111111111111111,\"#482878\"],[0.2222222222222222,\"#3e4989\"],[0.3333333333333333,\"#31688e\"],[0.4444444444444444,\"#26828e\"],[0.5555555555555556,\"#1f9e89\"],[0.6666666666666666,\"#35b779\"],[0.7777777777777778,\"#6ece58\"],[0.8888888888888888,\"#b5de2b\"],[1.0,\"#fde725\"]],\"type\":\"histogram2dcontour\"}],\"histogram2d\":[{\"colorbar\":{\"outlinewidth\":1,\"tickcolor\":\"rgb(36,36,36)\",\"ticks\":\"outside\"},\"colorscale\":[[0.0,\"#440154\"],[0.1111111111111111,\"#482878\"],[0.2222222222222222,\"#3e4989\"],[0.3333333333333333,\"#31688e\"],[0.4444444444444444,\"#26828e\"],[0.5555555555555556,\"#1f9e89\"],[0.6666666666666666,\"#35b779\"],[0.7777777777777778,\"#6ece58\"],[0.8888888888888888,\"#b5de2b\"],[1.0,\"#fde725\"]],\"type\":\"histogram2d\"}],\"histogram\":[{\"marker\":{\"line\":{\"color\":\"white\",\"width\":0.6}},\"type\":\"histogram\"}],\"mesh3d\":[{\"colorbar\":{\"outlinewidth\":1,\"tickcolor\":\"rgb(36,36,36)\",\"ticks\":\"outside\"},\"type\":\"mesh3d\"}],\"parcoords\":[{\"line\":{\"colorbar\":{\"outlinewidth\":1,\"tickcolor\":\"rgb(36,36,36)\",\"ticks\":\"outside\"}},\"type\":\"parcoords\"}],\"pie\":[{\"automargin\":true,\"type\":\"pie\"}],\"scatter3d\":[{\"line\":{\"colorbar\":{\"outlinewidth\":1,\"tickcolor\":\"rgb(36,36,36)\",\"ticks\":\"outside\"}},\"marker\":{\"colorbar\":{\"outlinewidth\":1,\"tickcolor\":\"rgb(36,36,36)\",\"ticks\":\"outside\"}},\"type\":\"scatter3d\"}],\"scattercarpet\":[{\"marker\":{\"colorbar\":{\"outlinewidth\":1,\"tickcolor\":\"rgb(36,36,36)\",\"ticks\":\"outside\"}},\"type\":\"scattercarpet\"}],\"scattergeo\":[{\"marker\":{\"colorbar\":{\"outlinewidth\":1,\"tickcolor\":\"rgb(36,36,36)\",\"ticks\":\"outside\"}},\"type\":\"scattergeo\"}],\"scattergl\":[{\"marker\":{\"colorbar\":{\"outlinewidth\":1,\"tickcolor\":\"rgb(36,36,36)\",\"ticks\":\"outside\"}},\"type\":\"scattergl\"}],\"scattermapbox\":[{\"marker\":{\"colorbar\":{\"outlinewidth\":1,\"tickcolor\":\"rgb(36,36,36)\",\"ticks\":\"outside\"}},\"type\":\"scattermapbox\"}],\"scatterpolargl\":[{\"marker\":{\"colorbar\":{\"outlinewidth\":1,\"tickcolor\":\"rgb(36,36,36)\",\"ticks\":\"outside\"}},\"type\":\"scatterpolargl\"}],\"scatterpolar\":[{\"marker\":{\"colorbar\":{\"outlinewidth\":1,\"tickcolor\":\"rgb(36,36,36)\",\"ticks\":\"outside\"}},\"type\":\"scatterpolar\"}],\"scatter\":[{\"fillpattern\":{\"fillmode\":\"overlay\",\"size\":10,\"solidity\":0.2},\"type\":\"scatter\"}],\"scatterternary\":[{\"marker\":{\"colorbar\":{\"outlinewidth\":1,\"tickcolor\":\"rgb(36,36,36)\",\"ticks\":\"outside\"}},\"type\":\"scatterternary\"}],\"surface\":[{\"colorbar\":{\"outlinewidth\":1,\"tickcolor\":\"rgb(36,36,36)\",\"ticks\":\"outside\"},\"colorscale\":[[0.0,\"#440154\"],[0.1111111111111111,\"#482878\"],[0.2222222222222222,\"#3e4989\"],[0.3333333333333333,\"#31688e\"],[0.4444444444444444,\"#26828e\"],[0.5555555555555556,\"#1f9e89\"],[0.6666666666666666,\"#35b779\"],[0.7777777777777778,\"#6ece58\"],[0.8888888888888888,\"#b5de2b\"],[1.0,\"#fde725\"]],\"type\":\"surface\"}],\"table\":[{\"cells\":{\"fill\":{\"color\":\"rgb(237,237,237)\"},\"line\":{\"color\":\"white\"}},\"header\":{\"fill\":{\"color\":\"rgb(217,217,217)\"},\"line\":{\"color\":\"white\"}},\"type\":\"table\"}]},\"layout\":{\"annotationdefaults\":{\"arrowhead\":0,\"arrowwidth\":1},\"autotypenumbers\":\"strict\",\"coloraxis\":{\"colorbar\":{\"outlinewidth\":1,\"tickcolor\":\"rgb(36,36,36)\",\"ticks\":\"outside\"}},\"colorscale\":{\"diverging\":[[0.0,\"rgb(103,0,31)\"],[0.1,\"rgb(178,24,43)\"],[0.2,\"rgb(214,96,77)\"],[0.3,\"rgb(244,165,130)\"],[0.4,\"rgb(253,219,199)\"],[0.5,\"rgb(247,247,247)\"],[0.6,\"rgb(209,229,240)\"],[0.7,\"rgb(146,197,222)\"],[0.8,\"rgb(67,147,195)\"],[0.9,\"rgb(33,102,172)\"],[1.0,\"rgb(5,48,97)\"]],\"sequential\":[[0.0,\"#440154\"],[0.1111111111111111,\"#482878\"],[0.2222222222222222,\"#3e4989\"],[0.3333333333333333,\"#31688e\"],[0.4444444444444444,\"#26828e\"],[0.5555555555555556,\"#1f9e89\"],[0.6666666666666666,\"#35b779\"],[0.7777777777777778,\"#6ece58\"],[0.8888888888888888,\"#b5de2b\"],[1.0,\"#fde725\"]],\"sequentialminus\":[[0.0,\"#440154\"],[0.1111111111111111,\"#482878\"],[0.2222222222222222,\"#3e4989\"],[0.3333333333333333,\"#31688e\"],[0.4444444444444444,\"#26828e\"],[0.5555555555555556,\"#1f9e89\"],[0.6666666666666666,\"#35b779\"],[0.7777777777777778,\"#6ece58\"],[0.8888888888888888,\"#b5de2b\"],[1.0,\"#fde725\"]]},\"colorway\":[\"#1F77B4\",\"#FF7F0E\",\"#2CA02C\",\"#D62728\",\"#9467BD\",\"#8C564B\",\"#E377C2\",\"#7F7F7F\",\"#BCBD22\",\"#17BECF\"],\"font\":{\"color\":\"rgb(36,36,36)\"},\"geo\":{\"bgcolor\":\"white\",\"lakecolor\":\"white\",\"landcolor\":\"white\",\"showlakes\":true,\"showland\":true,\"subunitcolor\":\"white\"},\"hoverlabel\":{\"align\":\"left\"},\"hovermode\":\"closest\",\"mapbox\":{\"style\":\"light\"},\"paper_bgcolor\":\"white\",\"plot_bgcolor\":\"white\",\"polar\":{\"angularaxis\":{\"gridcolor\":\"rgb(232,232,232)\",\"linecolor\":\"rgb(36,36,36)\",\"showgrid\":false,\"showline\":true,\"ticks\":\"outside\"},\"bgcolor\":\"white\",\"radialaxis\":{\"gridcolor\":\"rgb(232,232,232)\",\"linecolor\":\"rgb(36,36,36)\",\"showgrid\":false,\"showline\":true,\"ticks\":\"outside\"}},\"scene\":{\"xaxis\":{\"backgroundcolor\":\"white\",\"gridcolor\":\"rgb(232,232,232)\",\"gridwidth\":2,\"linecolor\":\"rgb(36,36,36)\",\"showbackground\":true,\"showgrid\":false,\"showline\":true,\"ticks\":\"outside\",\"zeroline\":false,\"zerolinecolor\":\"rgb(36,36,36)\"},\"yaxis\":{\"backgroundcolor\":\"white\",\"gridcolor\":\"rgb(232,232,232)\",\"gridwidth\":2,\"linecolor\":\"rgb(36,36,36)\",\"showbackground\":true,\"showgrid\":false,\"showline\":true,\"ticks\":\"outside\",\"zeroline\":false,\"zerolinecolor\":\"rgb(36,36,36)\"},\"zaxis\":{\"backgroundcolor\":\"white\",\"gridcolor\":\"rgb(232,232,232)\",\"gridwidth\":2,\"linecolor\":\"rgb(36,36,36)\",\"showbackground\":true,\"showgrid\":false,\"showline\":true,\"ticks\":\"outside\",\"zeroline\":false,\"zerolinecolor\":\"rgb(36,36,36)\"}},\"shapedefaults\":{\"fillcolor\":\"black\",\"line\":{\"width\":0},\"opacity\":0.3},\"ternary\":{\"aaxis\":{\"gridcolor\":\"rgb(232,232,232)\",\"linecolor\":\"rgb(36,36,36)\",\"showgrid\":false,\"showline\":true,\"ticks\":\"outside\"},\"baxis\":{\"gridcolor\":\"rgb(232,232,232)\",\"linecolor\":\"rgb(36,36,36)\",\"showgrid\":false,\"showline\":true,\"ticks\":\"outside\"},\"bgcolor\":\"white\",\"caxis\":{\"gridcolor\":\"rgb(232,232,232)\",\"linecolor\":\"rgb(36,36,36)\",\"showgrid\":false,\"showline\":true,\"ticks\":\"outside\"}},\"title\":{\"x\":0.05},\"xaxis\":{\"automargin\":true,\"gridcolor\":\"rgb(232,232,232)\",\"linecolor\":\"rgb(36,36,36)\",\"showgrid\":false,\"showline\":true,\"ticks\":\"outside\",\"title\":{\"standoff\":15},\"zeroline\":false,\"zerolinecolor\":\"rgb(36,36,36)\"},\"yaxis\":{\"automargin\":true,\"gridcolor\":\"rgb(232,232,232)\",\"linecolor\":\"rgb(36,36,36)\",\"showgrid\":false,\"showline\":true,\"ticks\":\"outside\",\"title\":{\"standoff\":15},\"zeroline\":false,\"zerolinecolor\":\"rgb(36,36,36)\"}}},\"xaxis\":{\"anchor\":\"y\",\"domain\":[0.0,0.2425],\"title\":{\"text\":\"efConstruction\"},\"linecolor\":\"darkgrey\"},\"yaxis\":{\"anchor\":\"x\",\"domain\":[0.0,1.0],\"title\":{\"text\":\"1-recall@3\"},\"linecolor\":\"darkgrey\",\"showgrid\":true,\"gridwidth\":1,\"gridcolor\":\"LightGrey\",\"griddash\":\"dot\",\"ticks\":\"\"},\"xaxis2\":{\"anchor\":\"y2\",\"domain\":[0.2525,0.495],\"matches\":\"x\",\"title\":{\"text\":\"efConstruction\"},\"linecolor\":\"darkgrey\"},\"yaxis2\":{\"anchor\":\"x2\",\"domain\":[0.0,1.0],\"matches\":\"y\",\"showticklabels\":false,\"linecolor\":\"darkgrey\",\"showgrid\":true,\"gridwidth\":1,\"gridcolor\":\"LightGrey\",\"griddash\":\"dot\",\"ticks\":\"\"},\"xaxis3\":{\"anchor\":\"y3\",\"domain\":[0.505,0.7475],\"matches\":\"x\",\"title\":{\"text\":\"efConstruction\"},\"linecolor\":\"darkgrey\"},\"yaxis3\":{\"anchor\":\"x3\",\"domain\":[0.0,1.0],\"matches\":\"y\",\"showticklabels\":false,\"linecolor\":\"darkgrey\",\"showgrid\":true,\"gridwidth\":1,\"gridcolor\":\"LightGrey\",\"griddash\":\"dot\",\"ticks\":\"\"},\"xaxis4\":{\"anchor\":\"y4\",\"domain\":[0.7575000000000001,1.0],\"matches\":\"x\",\"title\":{\"text\":\"efConstruction\"},\"linecolor\":\"darkgrey\"},\"yaxis4\":{\"anchor\":\"x4\",\"domain\":[0.0,1.0],\"matches\":\"y\",\"showticklabels\":false,\"linecolor\":\"darkgrey\",\"showgrid\":true,\"gridwidth\":1,\"gridcolor\":\"LightGrey\",\"griddash\":\"dot\",\"ticks\":\"\"},\"annotations\":[{\"font\":{},\"showarrow\":false,\"text\":\"efSearch=4\",\"x\":0.12125,\"xanchor\":\"center\",\"xref\":\"paper\",\"y\":1.0,\"yanchor\":\"bottom\",\"yref\":\"paper\"},{\"font\":{},\"showarrow\":false,\"text\":\"efSearch=16\",\"x\":0.37375,\"xanchor\":\"center\",\"xref\":\"paper\",\"y\":1.0,\"yanchor\":\"bottom\",\"yref\":\"paper\"},{\"font\":{},\"showarrow\":false,\"text\":\"efSearch=40\",\"x\":0.62625,\"xanchor\":\"center\",\"xref\":\"paper\",\"y\":1.0,\"yanchor\":\"bottom\",\"yref\":\"paper\"},{\"font\":{},\"showarrow\":false,\"text\":\"efSearch=76\",\"x\":0.87875,\"xanchor\":\"center\",\"xref\":\"paper\",\"y\":1.0,\"yanchor\":\"bottom\",\"yref\":\"paper\"}],\"legend\":{\"title\":{\"text\":\"M\"},\"tracegroupgap\":0,\"yanchor\":\"top\",\"y\":0.48,\"xanchor\":\"right\",\"x\":0.99,\"borderwidth\":1,\"traceorder\":\"reversed\"},\"margin\":{\"t\":60},\"height\":380,\"width\":750},                        {\"responsive\": true}                    ).then(function(){\n",
       "                            \n",
       "var gd = document.getElementById('b5d07c1b-0cc1-4bd3-b40c-e52a1690356a');\n",
       "var x = new MutationObserver(function (mutations, observer) {{\n",
       "        var display = window.getComputedStyle(gd).display;\n",
       "        if (!display || display === 'none') {{\n",
       "            console.log([gd, 'removed!']);\n",
       "            Plotly.purge(gd);\n",
       "            observer.disconnect();\n",
       "        }}\n",
       "}});\n",
       "\n",
       "// Listen for the removal of the full notebook cells\n",
       "var notebookContainer = gd.closest('#notebook-container');\n",
       "if (notebookContainer) {{\n",
       "    x.observe(notebookContainer, {childList: true});\n",
       "}}\n",
       "\n",
       "// Listen for the clearing of the current output cell\n",
       "var outputEl = gd.closest('.output');\n",
       "if (outputEl) {{\n",
       "    x.observe(outputEl, {childList: true});\n",
       "}}\n",
       "\n",
       "                        })                };                });            </script>        </div>"
      ]
     },
     "metadata": {},
     "output_type": "display_data"
    }
   ],
   "source": [
    "fig = px.line(dfHNSW, x=\"efConstruction\", y=\"recall@3\", color=\"M\", height=380, width=750, markers=True,\n",
    "              template=\"simple_white\", color_discrete_sequence=colors_custom, #color_discrete_sequence=px.colors.qualitative.D3,  \n",
    "              facet_col=\"efSearch\", facet_col_spacing=0.01,  \n",
    "              )\n",
    "fig.update_layout(legend=dict(yanchor=\"top\", y=0.48, xanchor=\"right\", x=0.99, borderwidth=1, traceorder=\"reversed\")) # orientation=\"h\"\n",
    "fig.update_xaxes(linecolor='darkgrey')\n",
    "fig.update_yaxes(linecolor='darkgrey', showgrid=True, gridwidth=1, gridcolor='LightGrey', griddash=\"dot\", ticks=\"\")\n",
    "fig.update_yaxes(row=1, col=1, title_text=\"1-recall@3\")\n",
    "fig.show()\n",
    "fig.write_html(\"Hflat_recall_efConst_efSearch.html\")"
   ]
  },
  {
   "cell_type": "code",
   "execution_count": 46,
   "id": "c4c6f21a",
   "metadata": {
    "execution": {
     "iopub.execute_input": "2022-08-18T15:44:56.227249Z",
     "iopub.status.busy": "2022-08-18T15:44:56.226784Z",
     "iopub.status.idle": "2022-08-18T15:44:56.399640Z",
     "shell.execute_reply": "2022-08-18T15:44:56.398707Z"
    },
    "papermill": {
     "duration": 0.831873,
     "end_time": "2022-08-18T15:44:56.401935",
     "exception": false,
     "start_time": "2022-08-18T15:44:55.570062",
     "status": "completed"
    },
    "tags": []
   },
   "outputs": [
    {
     "data": {
      "text/html": [
       "<div>                            <div id=\"bc742806-59d2-4bd2-9f97-04db0eb419f4\" class=\"plotly-graph-div\" style=\"height:380px; width:750px;\"></div>            <script type=\"text/javascript\">                require([\"plotly\"], function(Plotly) {                    window.PLOTLYENV=window.PLOTLYENV || {};                                    if (document.getElementById(\"bc742806-59d2-4bd2-9f97-04db0eb419f4\")) {                    Plotly.newPlot(                        \"bc742806-59d2-4bd2-9f97-04db0eb419f4\",                        [{\"hovertemplate\":\"M=4<br>efConstruction=4<br>efSearch=%{x}<br>recall@3=%{y}<extra></extra>\",\"legendgroup\":\"4\",\"line\":{\"color\":\"#EECA3B\",\"dash\":\"solid\"},\"marker\":{\"symbol\":\"circle\"},\"mode\":\"markers+lines\",\"name\":\"4\",\"orientation\":\"v\",\"showlegend\":true,\"x\":[4,16,40,76],\"xaxis\":\"x\",\"y\":[0.019,0.034,0.044,0.05],\"yaxis\":\"y\",\"type\":\"scatter\"},{\"hovertemplate\":\"M=4<br>efConstruction=16<br>efSearch=%{x}<br>recall@3=%{y}<extra></extra>\",\"legendgroup\":\"4\",\"line\":{\"color\":\"#EECA3B\",\"dash\":\"solid\"},\"marker\":{\"symbol\":\"circle\"},\"mode\":\"markers+lines\",\"name\":\"4\",\"orientation\":\"v\",\"showlegend\":false,\"x\":[4,16,40,76],\"xaxis\":\"x2\",\"y\":[0.053,0.19,0.341,0.428],\"yaxis\":\"y2\",\"type\":\"scatter\"},{\"hovertemplate\":\"M=4<br>efConstruction=40<br>efSearch=%{x}<br>recall@3=%{y}<extra></extra>\",\"legendgroup\":\"4\",\"line\":{\"color\":\"#EECA3B\",\"dash\":\"solid\"},\"marker\":{\"symbol\":\"circle\"},\"mode\":\"markers+lines\",\"name\":\"4\",\"orientation\":\"v\",\"showlegend\":false,\"x\":[4,16,40,76],\"xaxis\":\"x3\",\"y\":[0.093,0.29,0.537,0.639],\"yaxis\":\"y3\",\"type\":\"scatter\"},{\"hovertemplate\":\"M=4<br>efConstruction=76<br>efSearch=%{x}<br>recall@3=%{y}<extra></extra>\",\"legendgroup\":\"4\",\"line\":{\"color\":\"#EECA3B\",\"dash\":\"solid\"},\"marker\":{\"symbol\":\"circle\"},\"mode\":\"markers+lines\",\"name\":\"4\",\"orientation\":\"v\",\"showlegend\":false,\"x\":[4,16,40,76],\"xaxis\":\"x4\",\"y\":[0.088,0.318,0.566,0.674],\"yaxis\":\"y4\",\"type\":\"scatter\"},{\"hovertemplate\":\"M=16<br>efConstruction=4<br>efSearch=%{x}<br>recall@3=%{y}<extra></extra>\",\"legendgroup\":\"16\",\"line\":{\"color\":\"#FF9900\",\"dash\":\"solid\"},\"marker\":{\"symbol\":\"circle\"},\"mode\":\"markers+lines\",\"name\":\"16\",\"orientation\":\"v\",\"showlegend\":true,\"x\":[4,16,40,76],\"xaxis\":\"x\",\"y\":[0.024,0.041,0.057,0.063],\"yaxis\":\"y\",\"type\":\"scatter\"},{\"hovertemplate\":\"M=16<br>efConstruction=16<br>efSearch=%{x}<br>recall@3=%{y}<extra></extra>\",\"legendgroup\":\"16\",\"line\":{\"color\":\"#FF9900\",\"dash\":\"solid\"},\"marker\":{\"symbol\":\"circle\"},\"mode\":\"markers+lines\",\"name\":\"16\",\"orientation\":\"v\",\"showlegend\":false,\"x\":[4,16,40,76],\"xaxis\":\"x2\",\"y\":[0.324,0.652,0.816,0.871],\"yaxis\":\"y2\",\"type\":\"scatter\"},{\"hovertemplate\":\"M=16<br>efConstruction=40<br>efSearch=%{x}<br>recall@3=%{y}<extra></extra>\",\"legendgroup\":\"16\",\"line\":{\"color\":\"#FF9900\",\"dash\":\"solid\"},\"marker\":{\"symbol\":\"circle\"},\"mode\":\"markers+lines\",\"name\":\"16\",\"orientation\":\"v\",\"showlegend\":false,\"x\":[4,16,40,76],\"xaxis\":\"x3\",\"y\":[0.413,0.726,0.846,0.896],\"yaxis\":\"y3\",\"type\":\"scatter\"},{\"hovertemplate\":\"M=16<br>efConstruction=76<br>efSearch=%{x}<br>recall@3=%{y}<extra></extra>\",\"legendgroup\":\"16\",\"line\":{\"color\":\"#FF9900\",\"dash\":\"solid\"},\"marker\":{\"symbol\":\"circle\"},\"mode\":\"markers+lines\",\"name\":\"16\",\"orientation\":\"v\",\"showlegend\":false,\"x\":[4,16,40,76],\"xaxis\":\"x4\",\"y\":[0.45,0.786,0.912,0.939],\"yaxis\":\"y4\",\"type\":\"scatter\"},{\"hovertemplate\":\"M=32<br>efConstruction=4<br>efSearch=%{x}<br>recall@3=%{y}<extra></extra>\",\"legendgroup\":\"32\",\"line\":{\"color\":\"#DC3912\",\"dash\":\"solid\"},\"marker\":{\"symbol\":\"circle\"},\"mode\":\"markers+lines\",\"name\":\"32\",\"orientation\":\"v\",\"showlegend\":true,\"x\":[4,16,40,76],\"xaxis\":\"x\",\"y\":[0.045,0.061,0.075,0.088],\"yaxis\":\"y\",\"type\":\"scatter\"},{\"hovertemplate\":\"M=32<br>efConstruction=16<br>efSearch=%{x}<br>recall@3=%{y}<extra></extra>\",\"legendgroup\":\"32\",\"line\":{\"color\":\"#DC3912\",\"dash\":\"solid\"},\"marker\":{\"symbol\":\"circle\"},\"mode\":\"markers+lines\",\"name\":\"32\",\"orientation\":\"v\",\"showlegend\":false,\"x\":[4,16,40,76],\"xaxis\":\"x2\",\"y\":[0.464,0.758,0.883,0.923],\"yaxis\":\"y2\",\"type\":\"scatter\"},{\"hovertemplate\":\"M=32<br>efConstruction=40<br>efSearch=%{x}<br>recall@3=%{y}<extra></extra>\",\"legendgroup\":\"32\",\"line\":{\"color\":\"#DC3912\",\"dash\":\"solid\"},\"marker\":{\"symbol\":\"circle\"},\"mode\":\"markers+lines\",\"name\":\"32\",\"orientation\":\"v\",\"showlegend\":false,\"x\":[4,16,40,76],\"xaxis\":\"x3\",\"y\":[0.588,0.846,0.935,0.964],\"yaxis\":\"y3\",\"type\":\"scatter\"},{\"hovertemplate\":\"M=32<br>efConstruction=76<br>efSearch=%{x}<br>recall@3=%{y}<extra></extra>\",\"legendgroup\":\"32\",\"line\":{\"color\":\"#DC3912\",\"dash\":\"solid\"},\"marker\":{\"symbol\":\"circle\"},\"mode\":\"markers+lines\",\"name\":\"32\",\"orientation\":\"v\",\"showlegend\":false,\"x\":[4,16,40,76],\"xaxis\":\"x4\",\"y\":[0.558,0.849,0.921,0.952],\"yaxis\":\"y4\",\"type\":\"scatter\"},{\"hovertemplate\":\"M=64<br>efConstruction=4<br>efSearch=%{x}<br>recall@3=%{y}<extra></extra>\",\"legendgroup\":\"64\",\"line\":{\"color\":\"#990099\",\"dash\":\"solid\"},\"marker\":{\"symbol\":\"circle\"},\"mode\":\"markers+lines\",\"name\":\"64\",\"orientation\":\"v\",\"showlegend\":true,\"x\":[4,16,40,76],\"xaxis\":\"x\",\"y\":[0.037,0.049,0.062,0.072],\"yaxis\":\"y\",\"type\":\"scatter\"},{\"hovertemplate\":\"M=64<br>efConstruction=16<br>efSearch=%{x}<br>recall@3=%{y}<extra></extra>\",\"legendgroup\":\"64\",\"line\":{\"color\":\"#990099\",\"dash\":\"solid\"},\"marker\":{\"symbol\":\"circle\"},\"mode\":\"markers+lines\",\"name\":\"64\",\"orientation\":\"v\",\"showlegend\":false,\"x\":[4,16,40,76],\"xaxis\":\"x2\",\"y\":[0.471,0.768,0.891,0.926],\"yaxis\":\"y2\",\"type\":\"scatter\"},{\"hovertemplate\":\"M=64<br>efConstruction=40<br>efSearch=%{x}<br>recall@3=%{y}<extra></extra>\",\"legendgroup\":\"64\",\"line\":{\"color\":\"#990099\",\"dash\":\"solid\"},\"marker\":{\"symbol\":\"circle\"},\"mode\":\"markers+lines\",\"name\":\"64\",\"orientation\":\"v\",\"showlegend\":false,\"x\":[4,16,40,76],\"xaxis\":\"x3\",\"y\":[0.709,0.887,0.949,0.977],\"yaxis\":\"y3\",\"type\":\"scatter\"},{\"hovertemplate\":\"M=64<br>efConstruction=76<br>efSearch=%{x}<br>recall@3=%{y}<extra></extra>\",\"legendgroup\":\"64\",\"line\":{\"color\":\"#990099\",\"dash\":\"solid\"},\"marker\":{\"symbol\":\"circle\"},\"mode\":\"markers+lines\",\"name\":\"64\",\"orientation\":\"v\",\"showlegend\":false,\"x\":[4,16,40,76],\"xaxis\":\"x4\",\"y\":[0.738,0.918,0.97,0.992],\"yaxis\":\"y4\",\"type\":\"scatter\"}],                        {\"template\":{\"data\":{\"barpolar\":[{\"marker\":{\"line\":{\"color\":\"white\",\"width\":0.5},\"pattern\":{\"fillmode\":\"overlay\",\"size\":10,\"solidity\":0.2}},\"type\":\"barpolar\"}],\"bar\":[{\"error_x\":{\"color\":\"rgb(36,36,36)\"},\"error_y\":{\"color\":\"rgb(36,36,36)\"},\"marker\":{\"line\":{\"color\":\"white\",\"width\":0.5},\"pattern\":{\"fillmode\":\"overlay\",\"size\":10,\"solidity\":0.2}},\"type\":\"bar\"}],\"carpet\":[{\"aaxis\":{\"endlinecolor\":\"rgb(36,36,36)\",\"gridcolor\":\"white\",\"linecolor\":\"white\",\"minorgridcolor\":\"white\",\"startlinecolor\":\"rgb(36,36,36)\"},\"baxis\":{\"endlinecolor\":\"rgb(36,36,36)\",\"gridcolor\":\"white\",\"linecolor\":\"white\",\"minorgridcolor\":\"white\",\"startlinecolor\":\"rgb(36,36,36)\"},\"type\":\"carpet\"}],\"choropleth\":[{\"colorbar\":{\"outlinewidth\":1,\"tickcolor\":\"rgb(36,36,36)\",\"ticks\":\"outside\"},\"type\":\"choropleth\"}],\"contourcarpet\":[{\"colorbar\":{\"outlinewidth\":1,\"tickcolor\":\"rgb(36,36,36)\",\"ticks\":\"outside\"},\"type\":\"contourcarpet\"}],\"contour\":[{\"colorbar\":{\"outlinewidth\":1,\"tickcolor\":\"rgb(36,36,36)\",\"ticks\":\"outside\"},\"colorscale\":[[0.0,\"#440154\"],[0.1111111111111111,\"#482878\"],[0.2222222222222222,\"#3e4989\"],[0.3333333333333333,\"#31688e\"],[0.4444444444444444,\"#26828e\"],[0.5555555555555556,\"#1f9e89\"],[0.6666666666666666,\"#35b779\"],[0.7777777777777778,\"#6ece58\"],[0.8888888888888888,\"#b5de2b\"],[1.0,\"#fde725\"]],\"type\":\"contour\"}],\"heatmapgl\":[{\"colorbar\":{\"outlinewidth\":1,\"tickcolor\":\"rgb(36,36,36)\",\"ticks\":\"outside\"},\"colorscale\":[[0.0,\"#440154\"],[0.1111111111111111,\"#482878\"],[0.2222222222222222,\"#3e4989\"],[0.3333333333333333,\"#31688e\"],[0.4444444444444444,\"#26828e\"],[0.5555555555555556,\"#1f9e89\"],[0.6666666666666666,\"#35b779\"],[0.7777777777777778,\"#6ece58\"],[0.8888888888888888,\"#b5de2b\"],[1.0,\"#fde725\"]],\"type\":\"heatmapgl\"}],\"heatmap\":[{\"colorbar\":{\"outlinewidth\":1,\"tickcolor\":\"rgb(36,36,36)\",\"ticks\":\"outside\"},\"colorscale\":[[0.0,\"#440154\"],[0.1111111111111111,\"#482878\"],[0.2222222222222222,\"#3e4989\"],[0.3333333333333333,\"#31688e\"],[0.4444444444444444,\"#26828e\"],[0.5555555555555556,\"#1f9e89\"],[0.6666666666666666,\"#35b779\"],[0.7777777777777778,\"#6ece58\"],[0.8888888888888888,\"#b5de2b\"],[1.0,\"#fde725\"]],\"type\":\"heatmap\"}],\"histogram2dcontour\":[{\"colorbar\":{\"outlinewidth\":1,\"tickcolor\":\"rgb(36,36,36)\",\"ticks\":\"outside\"},\"colorscale\":[[0.0,\"#440154\"],[0.1111111111111111,\"#482878\"],[0.2222222222222222,\"#3e4989\"],[0.3333333333333333,\"#31688e\"],[0.4444444444444444,\"#26828e\"],[0.5555555555555556,\"#1f9e89\"],[0.6666666666666666,\"#35b779\"],[0.7777777777777778,\"#6ece58\"],[0.8888888888888888,\"#b5de2b\"],[1.0,\"#fde725\"]],\"type\":\"histogram2dcontour\"}],\"histogram2d\":[{\"colorbar\":{\"outlinewidth\":1,\"tickcolor\":\"rgb(36,36,36)\",\"ticks\":\"outside\"},\"colorscale\":[[0.0,\"#440154\"],[0.1111111111111111,\"#482878\"],[0.2222222222222222,\"#3e4989\"],[0.3333333333333333,\"#31688e\"],[0.4444444444444444,\"#26828e\"],[0.5555555555555556,\"#1f9e89\"],[0.6666666666666666,\"#35b779\"],[0.7777777777777778,\"#6ece58\"],[0.8888888888888888,\"#b5de2b\"],[1.0,\"#fde725\"]],\"type\":\"histogram2d\"}],\"histogram\":[{\"marker\":{\"line\":{\"color\":\"white\",\"width\":0.6}},\"type\":\"histogram\"}],\"mesh3d\":[{\"colorbar\":{\"outlinewidth\":1,\"tickcolor\":\"rgb(36,36,36)\",\"ticks\":\"outside\"},\"type\":\"mesh3d\"}],\"parcoords\":[{\"line\":{\"colorbar\":{\"outlinewidth\":1,\"tickcolor\":\"rgb(36,36,36)\",\"ticks\":\"outside\"}},\"type\":\"parcoords\"}],\"pie\":[{\"automargin\":true,\"type\":\"pie\"}],\"scatter3d\":[{\"line\":{\"colorbar\":{\"outlinewidth\":1,\"tickcolor\":\"rgb(36,36,36)\",\"ticks\":\"outside\"}},\"marker\":{\"colorbar\":{\"outlinewidth\":1,\"tickcolor\":\"rgb(36,36,36)\",\"ticks\":\"outside\"}},\"type\":\"scatter3d\"}],\"scattercarpet\":[{\"marker\":{\"colorbar\":{\"outlinewidth\":1,\"tickcolor\":\"rgb(36,36,36)\",\"ticks\":\"outside\"}},\"type\":\"scattercarpet\"}],\"scattergeo\":[{\"marker\":{\"colorbar\":{\"outlinewidth\":1,\"tickcolor\":\"rgb(36,36,36)\",\"ticks\":\"outside\"}},\"type\":\"scattergeo\"}],\"scattergl\":[{\"marker\":{\"colorbar\":{\"outlinewidth\":1,\"tickcolor\":\"rgb(36,36,36)\",\"ticks\":\"outside\"}},\"type\":\"scattergl\"}],\"scattermapbox\":[{\"marker\":{\"colorbar\":{\"outlinewidth\":1,\"tickcolor\":\"rgb(36,36,36)\",\"ticks\":\"outside\"}},\"type\":\"scattermapbox\"}],\"scatterpolargl\":[{\"marker\":{\"colorbar\":{\"outlinewidth\":1,\"tickcolor\":\"rgb(36,36,36)\",\"ticks\":\"outside\"}},\"type\":\"scatterpolargl\"}],\"scatterpolar\":[{\"marker\":{\"colorbar\":{\"outlinewidth\":1,\"tickcolor\":\"rgb(36,36,36)\",\"ticks\":\"outside\"}},\"type\":\"scatterpolar\"}],\"scatter\":[{\"fillpattern\":{\"fillmode\":\"overlay\",\"size\":10,\"solidity\":0.2},\"type\":\"scatter\"}],\"scatterternary\":[{\"marker\":{\"colorbar\":{\"outlinewidth\":1,\"tickcolor\":\"rgb(36,36,36)\",\"ticks\":\"outside\"}},\"type\":\"scatterternary\"}],\"surface\":[{\"colorbar\":{\"outlinewidth\":1,\"tickcolor\":\"rgb(36,36,36)\",\"ticks\":\"outside\"},\"colorscale\":[[0.0,\"#440154\"],[0.1111111111111111,\"#482878\"],[0.2222222222222222,\"#3e4989\"],[0.3333333333333333,\"#31688e\"],[0.4444444444444444,\"#26828e\"],[0.5555555555555556,\"#1f9e89\"],[0.6666666666666666,\"#35b779\"],[0.7777777777777778,\"#6ece58\"],[0.8888888888888888,\"#b5de2b\"],[1.0,\"#fde725\"]],\"type\":\"surface\"}],\"table\":[{\"cells\":{\"fill\":{\"color\":\"rgb(237,237,237)\"},\"line\":{\"color\":\"white\"}},\"header\":{\"fill\":{\"color\":\"rgb(217,217,217)\"},\"line\":{\"color\":\"white\"}},\"type\":\"table\"}]},\"layout\":{\"annotationdefaults\":{\"arrowhead\":0,\"arrowwidth\":1},\"autotypenumbers\":\"strict\",\"coloraxis\":{\"colorbar\":{\"outlinewidth\":1,\"tickcolor\":\"rgb(36,36,36)\",\"ticks\":\"outside\"}},\"colorscale\":{\"diverging\":[[0.0,\"rgb(103,0,31)\"],[0.1,\"rgb(178,24,43)\"],[0.2,\"rgb(214,96,77)\"],[0.3,\"rgb(244,165,130)\"],[0.4,\"rgb(253,219,199)\"],[0.5,\"rgb(247,247,247)\"],[0.6,\"rgb(209,229,240)\"],[0.7,\"rgb(146,197,222)\"],[0.8,\"rgb(67,147,195)\"],[0.9,\"rgb(33,102,172)\"],[1.0,\"rgb(5,48,97)\"]],\"sequential\":[[0.0,\"#440154\"],[0.1111111111111111,\"#482878\"],[0.2222222222222222,\"#3e4989\"],[0.3333333333333333,\"#31688e\"],[0.4444444444444444,\"#26828e\"],[0.5555555555555556,\"#1f9e89\"],[0.6666666666666666,\"#35b779\"],[0.7777777777777778,\"#6ece58\"],[0.8888888888888888,\"#b5de2b\"],[1.0,\"#fde725\"]],\"sequentialminus\":[[0.0,\"#440154\"],[0.1111111111111111,\"#482878\"],[0.2222222222222222,\"#3e4989\"],[0.3333333333333333,\"#31688e\"],[0.4444444444444444,\"#26828e\"],[0.5555555555555556,\"#1f9e89\"],[0.6666666666666666,\"#35b779\"],[0.7777777777777778,\"#6ece58\"],[0.8888888888888888,\"#b5de2b\"],[1.0,\"#fde725\"]]},\"colorway\":[\"#1F77B4\",\"#FF7F0E\",\"#2CA02C\",\"#D62728\",\"#9467BD\",\"#8C564B\",\"#E377C2\",\"#7F7F7F\",\"#BCBD22\",\"#17BECF\"],\"font\":{\"color\":\"rgb(36,36,36)\"},\"geo\":{\"bgcolor\":\"white\",\"lakecolor\":\"white\",\"landcolor\":\"white\",\"showlakes\":true,\"showland\":true,\"subunitcolor\":\"white\"},\"hoverlabel\":{\"align\":\"left\"},\"hovermode\":\"closest\",\"mapbox\":{\"style\":\"light\"},\"paper_bgcolor\":\"white\",\"plot_bgcolor\":\"white\",\"polar\":{\"angularaxis\":{\"gridcolor\":\"rgb(232,232,232)\",\"linecolor\":\"rgb(36,36,36)\",\"showgrid\":false,\"showline\":true,\"ticks\":\"outside\"},\"bgcolor\":\"white\",\"radialaxis\":{\"gridcolor\":\"rgb(232,232,232)\",\"linecolor\":\"rgb(36,36,36)\",\"showgrid\":false,\"showline\":true,\"ticks\":\"outside\"}},\"scene\":{\"xaxis\":{\"backgroundcolor\":\"white\",\"gridcolor\":\"rgb(232,232,232)\",\"gridwidth\":2,\"linecolor\":\"rgb(36,36,36)\",\"showbackground\":true,\"showgrid\":false,\"showline\":true,\"ticks\":\"outside\",\"zeroline\":false,\"zerolinecolor\":\"rgb(36,36,36)\"},\"yaxis\":{\"backgroundcolor\":\"white\",\"gridcolor\":\"rgb(232,232,232)\",\"gridwidth\":2,\"linecolor\":\"rgb(36,36,36)\",\"showbackground\":true,\"showgrid\":false,\"showline\":true,\"ticks\":\"outside\",\"zeroline\":false,\"zerolinecolor\":\"rgb(36,36,36)\"},\"zaxis\":{\"backgroundcolor\":\"white\",\"gridcolor\":\"rgb(232,232,232)\",\"gridwidth\":2,\"linecolor\":\"rgb(36,36,36)\",\"showbackground\":true,\"showgrid\":false,\"showline\":true,\"ticks\":\"outside\",\"zeroline\":false,\"zerolinecolor\":\"rgb(36,36,36)\"}},\"shapedefaults\":{\"fillcolor\":\"black\",\"line\":{\"width\":0},\"opacity\":0.3},\"ternary\":{\"aaxis\":{\"gridcolor\":\"rgb(232,232,232)\",\"linecolor\":\"rgb(36,36,36)\",\"showgrid\":false,\"showline\":true,\"ticks\":\"outside\"},\"baxis\":{\"gridcolor\":\"rgb(232,232,232)\",\"linecolor\":\"rgb(36,36,36)\",\"showgrid\":false,\"showline\":true,\"ticks\":\"outside\"},\"bgcolor\":\"white\",\"caxis\":{\"gridcolor\":\"rgb(232,232,232)\",\"linecolor\":\"rgb(36,36,36)\",\"showgrid\":false,\"showline\":true,\"ticks\":\"outside\"}},\"title\":{\"x\":0.05},\"xaxis\":{\"automargin\":true,\"gridcolor\":\"rgb(232,232,232)\",\"linecolor\":\"rgb(36,36,36)\",\"showgrid\":false,\"showline\":true,\"ticks\":\"outside\",\"title\":{\"standoff\":15},\"zeroline\":false,\"zerolinecolor\":\"rgb(36,36,36)\"},\"yaxis\":{\"automargin\":true,\"gridcolor\":\"rgb(232,232,232)\",\"linecolor\":\"rgb(36,36,36)\",\"showgrid\":false,\"showline\":true,\"ticks\":\"outside\",\"title\":{\"standoff\":15},\"zeroline\":false,\"zerolinecolor\":\"rgb(36,36,36)\"}}},\"xaxis\":{\"anchor\":\"y\",\"domain\":[0.0,0.2425],\"title\":{\"text\":\"efSearch\"},\"linecolor\":\"darkgrey\"},\"yaxis\":{\"anchor\":\"x\",\"domain\":[0.0,1.0],\"title\":{\"text\":\"1-recall@3\"},\"linecolor\":\"darkgrey\",\"showgrid\":true,\"gridwidth\":1,\"gridcolor\":\"LightGrey\",\"griddash\":\"dot\",\"ticks\":\"\"},\"xaxis2\":{\"anchor\":\"y2\",\"domain\":[0.2525,0.495],\"matches\":\"x\",\"title\":{\"text\":\"efSearch\"},\"linecolor\":\"darkgrey\"},\"yaxis2\":{\"anchor\":\"x2\",\"domain\":[0.0,1.0],\"matches\":\"y\",\"showticklabels\":false,\"linecolor\":\"darkgrey\",\"showgrid\":true,\"gridwidth\":1,\"gridcolor\":\"LightGrey\",\"griddash\":\"dot\",\"ticks\":\"\"},\"xaxis3\":{\"anchor\":\"y3\",\"domain\":[0.505,0.7475],\"matches\":\"x\",\"title\":{\"text\":\"efSearch\"},\"linecolor\":\"darkgrey\"},\"yaxis3\":{\"anchor\":\"x3\",\"domain\":[0.0,1.0],\"matches\":\"y\",\"showticklabels\":false,\"linecolor\":\"darkgrey\",\"showgrid\":true,\"gridwidth\":1,\"gridcolor\":\"LightGrey\",\"griddash\":\"dot\",\"ticks\":\"\"},\"xaxis4\":{\"anchor\":\"y4\",\"domain\":[0.7575000000000001,1.0],\"matches\":\"x\",\"title\":{\"text\":\"efSearch\"},\"linecolor\":\"darkgrey\"},\"yaxis4\":{\"anchor\":\"x4\",\"domain\":[0.0,1.0],\"matches\":\"y\",\"showticklabels\":false,\"linecolor\":\"darkgrey\",\"showgrid\":true,\"gridwidth\":1,\"gridcolor\":\"LightGrey\",\"griddash\":\"dot\",\"ticks\":\"\"},\"annotations\":[{\"font\":{},\"showarrow\":false,\"text\":\"efConstruction=4\",\"x\":0.12125,\"xanchor\":\"center\",\"xref\":\"paper\",\"y\":1.0,\"yanchor\":\"bottom\",\"yref\":\"paper\"},{\"font\":{},\"showarrow\":false,\"text\":\"efConstruction=16\",\"x\":0.37375,\"xanchor\":\"center\",\"xref\":\"paper\",\"y\":1.0,\"yanchor\":\"bottom\",\"yref\":\"paper\"},{\"font\":{},\"showarrow\":false,\"text\":\"efConstruction=40\",\"x\":0.62625,\"xanchor\":\"center\",\"xref\":\"paper\",\"y\":1.0,\"yanchor\":\"bottom\",\"yref\":\"paper\"},{\"font\":{},\"showarrow\":false,\"text\":\"efConstruction=76\",\"x\":0.87875,\"xanchor\":\"center\",\"xref\":\"paper\",\"y\":1.0,\"yanchor\":\"bottom\",\"yref\":\"paper\"}],\"legend\":{\"title\":{\"text\":\"M\"},\"tracegroupgap\":0,\"yanchor\":\"top\",\"y\":0.48,\"xanchor\":\"right\",\"x\":0.99,\"borderwidth\":1,\"traceorder\":\"reversed\"},\"margin\":{\"t\":60},\"height\":380,\"width\":750},                        {\"responsive\": true}                    ).then(function(){\n",
       "                            \n",
       "var gd = document.getElementById('bc742806-59d2-4bd2-9f97-04db0eb419f4');\n",
       "var x = new MutationObserver(function (mutations, observer) {{\n",
       "        var display = window.getComputedStyle(gd).display;\n",
       "        if (!display || display === 'none') {{\n",
       "            console.log([gd, 'removed!']);\n",
       "            Plotly.purge(gd);\n",
       "            observer.disconnect();\n",
       "        }}\n",
       "}});\n",
       "\n",
       "// Listen for the removal of the full notebook cells\n",
       "var notebookContainer = gd.closest('#notebook-container');\n",
       "if (notebookContainer) {{\n",
       "    x.observe(notebookContainer, {childList: true});\n",
       "}}\n",
       "\n",
       "// Listen for the clearing of the current output cell\n",
       "var outputEl = gd.closest('.output');\n",
       "if (outputEl) {{\n",
       "    x.observe(outputEl, {childList: true});\n",
       "}}\n",
       "\n",
       "                        })                };                });            </script>        </div>"
      ]
     },
     "metadata": {},
     "output_type": "display_data"
    }
   ],
   "source": [
    "fig = px.line(dfHNSW, x=\"efSearch\", y=\"recall@3\", color=\"M\", height=380, width=750, markers=True, \n",
    "              template=\"simple_white\", color_discrete_sequence=colors_custom, #color_discrete_sequence=px.colors.qualitative.D3,  \n",
    "              facet_col=\"efConstruction\", facet_col_spacing=0.01,                \n",
    "              )\n",
    "fig.update_layout(legend=dict(yanchor=\"top\", y=0.48, xanchor=\"right\", x=0.99, borderwidth=1, traceorder=\"reversed\")) # orientation=\"h\"\n",
    "fig.update_xaxes(linecolor='darkgrey')\n",
    "fig.update_yaxes(linecolor='darkgrey', showgrid=True, gridwidth=1, gridcolor='LightGrey', griddash=\"dot\", ticks=\"\")\n",
    "fig.update_yaxes(row=1, col=1, title_text=\"1-recall@3\")\n",
    "fig.show()\n",
    "fig.write_html(\"Hflat_recall_efSearch_efConst.html\")"
   ]
  },
  {
   "cell_type": "code",
   "execution_count": 47,
   "id": "a16f8add",
   "metadata": {
    "execution": {
     "iopub.execute_input": "2022-08-18T15:44:57.602458Z",
     "iopub.status.busy": "2022-08-18T15:44:57.602092Z",
     "iopub.status.idle": "2022-08-18T15:44:57.680927Z",
     "shell.execute_reply": "2022-08-18T15:44:57.679980Z"
    },
    "papermill": {
     "duration": 0.680873,
     "end_time": "2022-08-18T15:44:57.683270",
     "exception": false,
     "start_time": "2022-08-18T15:44:57.002397",
     "status": "completed"
    },
    "tags": []
   },
   "outputs": [
    {
     "data": {
      "text/html": [
       "<div>                            <div id=\"08355e88-fd1c-412a-88db-02ffdb6cda81\" class=\"plotly-graph-div\" style=\"height:350px; width:600px;\"></div>            <script type=\"text/javascript\">                require([\"plotly\"], function(Plotly) {                    window.PLOTLYENV=window.PLOTLYENV || {};                                    if (document.getElementById(\"08355e88-fd1c-412a-88db-02ffdb6cda81\")) {                    Plotly.newPlot(                        \"08355e88-fd1c-412a-88db-02ffdb6cda81\",                        [{\"hovertemplate\":\"M=4<br>efConstruction=%{x}<br>construction time (s)=%{y}<extra></extra>\",\"legendgroup\":\"4\",\"line\":{\"color\":\"#EECA3B\",\"dash\":\"solid\"},\"marker\":{\"symbol\":\"circle\"},\"mode\":\"markers+lines\",\"name\":\"4\",\"orientation\":\"v\",\"showlegend\":true,\"x\":[4,4,4,4,16,16,16,16,40,40,40,40,76,76,76,76],\"xaxis\":\"x\",\"y\":[46.3395619392395,46.3395619392395,46.3395619392395,46.3395619392395,155.12777256965637,155.12777256965637,155.12777256965637,155.12777256965637,330.0333242416382,330.0333242416382,330.0333242416382,330.0333242416382,537.5953359603882,537.5953359603882,537.5953359603882,537.5953359603882],\"yaxis\":\"y\",\"type\":\"scatter\"},{\"hovertemplate\":\"M=16<br>efConstruction=%{x}<br>construction time (s)=%{y}<extra></extra>\",\"legendgroup\":\"16\",\"line\":{\"color\":\"#FF9900\",\"dash\":\"solid\"},\"marker\":{\"symbol\":\"circle\"},\"mode\":\"markers+lines\",\"name\":\"16\",\"orientation\":\"v\",\"showlegend\":true,\"x\":[4,4,4,4,16,16,16,16,40,40,40,40,76,76,76,76],\"xaxis\":\"x\",\"y\":[68.15510153770447,68.15510153770447,68.15510153770447,68.15510153770447,315.42134165763855,315.42134165763855,315.42134165763855,315.42134165763855,537.627444267273,537.627444267273,537.627444267273,537.627444267273,1004.340817451477,1004.340817451477,1004.340817451477,1004.340817451477],\"yaxis\":\"y\",\"type\":\"scatter\"},{\"hovertemplate\":\"M=32<br>efConstruction=%{x}<br>construction time (s)=%{y}<extra></extra>\",\"legendgroup\":\"32\",\"line\":{\"color\":\"#DC3912\",\"dash\":\"solid\"},\"marker\":{\"symbol\":\"circle\"},\"mode\":\"markers+lines\",\"name\":\"32\",\"orientation\":\"v\",\"showlegend\":true,\"x\":[4,4,4,4,16,16,16,16,40,40,40,40,76,76,76,76],\"xaxis\":\"x\",\"y\":[73.50869488716125,73.50869488716125,73.50869488716125,73.50869488716125,363.2858066558838,363.2858066558838,363.2858066558838,363.2858066558838,911.6934139728546,911.6934139728546,911.6934139728546,911.6934139728546,1158.5980777740479,1158.5980777740479,1158.5980777740479,1158.5980777740479],\"yaxis\":\"y\",\"type\":\"scatter\"},{\"hovertemplate\":\"M=64<br>efConstruction=%{x}<br>construction time (s)=%{y}<extra></extra>\",\"legendgroup\":\"64\",\"line\":{\"color\":\"#990099\",\"dash\":\"solid\"},\"marker\":{\"symbol\":\"circle\"},\"mode\":\"markers+lines\",\"name\":\"64\",\"orientation\":\"v\",\"showlegend\":true,\"x\":[4,4,4,4,16,16,16,16,40,40,40,40,76,76,76,76],\"xaxis\":\"x\",\"y\":[84.30060291290283,84.30060291290283,84.30060291290283,84.30060291290283,409.31881046295166,409.31881046295166,409.31881046295166,409.31881046295166,1156.391366481781,1156.391366481781,1156.391366481781,1156.391366481781,2283.8280436992645,2283.8280436992645,2283.8280436992645,2283.8280436992645],\"yaxis\":\"y\",\"type\":\"scatter\"}],                        {\"template\":{\"data\":{\"barpolar\":[{\"marker\":{\"line\":{\"color\":\"white\",\"width\":0.5},\"pattern\":{\"fillmode\":\"overlay\",\"size\":10,\"solidity\":0.2}},\"type\":\"barpolar\"}],\"bar\":[{\"error_x\":{\"color\":\"rgb(36,36,36)\"},\"error_y\":{\"color\":\"rgb(36,36,36)\"},\"marker\":{\"line\":{\"color\":\"white\",\"width\":0.5},\"pattern\":{\"fillmode\":\"overlay\",\"size\":10,\"solidity\":0.2}},\"type\":\"bar\"}],\"carpet\":[{\"aaxis\":{\"endlinecolor\":\"rgb(36,36,36)\",\"gridcolor\":\"white\",\"linecolor\":\"white\",\"minorgridcolor\":\"white\",\"startlinecolor\":\"rgb(36,36,36)\"},\"baxis\":{\"endlinecolor\":\"rgb(36,36,36)\",\"gridcolor\":\"white\",\"linecolor\":\"white\",\"minorgridcolor\":\"white\",\"startlinecolor\":\"rgb(36,36,36)\"},\"type\":\"carpet\"}],\"choropleth\":[{\"colorbar\":{\"outlinewidth\":1,\"tickcolor\":\"rgb(36,36,36)\",\"ticks\":\"outside\"},\"type\":\"choropleth\"}],\"contourcarpet\":[{\"colorbar\":{\"outlinewidth\":1,\"tickcolor\":\"rgb(36,36,36)\",\"ticks\":\"outside\"},\"type\":\"contourcarpet\"}],\"contour\":[{\"colorbar\":{\"outlinewidth\":1,\"tickcolor\":\"rgb(36,36,36)\",\"ticks\":\"outside\"},\"colorscale\":[[0.0,\"#440154\"],[0.1111111111111111,\"#482878\"],[0.2222222222222222,\"#3e4989\"],[0.3333333333333333,\"#31688e\"],[0.4444444444444444,\"#26828e\"],[0.5555555555555556,\"#1f9e89\"],[0.6666666666666666,\"#35b779\"],[0.7777777777777778,\"#6ece58\"],[0.8888888888888888,\"#b5de2b\"],[1.0,\"#fde725\"]],\"type\":\"contour\"}],\"heatmapgl\":[{\"colorbar\":{\"outlinewidth\":1,\"tickcolor\":\"rgb(36,36,36)\",\"ticks\":\"outside\"},\"colorscale\":[[0.0,\"#440154\"],[0.1111111111111111,\"#482878\"],[0.2222222222222222,\"#3e4989\"],[0.3333333333333333,\"#31688e\"],[0.4444444444444444,\"#26828e\"],[0.5555555555555556,\"#1f9e89\"],[0.6666666666666666,\"#35b779\"],[0.7777777777777778,\"#6ece58\"],[0.8888888888888888,\"#b5de2b\"],[1.0,\"#fde725\"]],\"type\":\"heatmapgl\"}],\"heatmap\":[{\"colorbar\":{\"outlinewidth\":1,\"tickcolor\":\"rgb(36,36,36)\",\"ticks\":\"outside\"},\"colorscale\":[[0.0,\"#440154\"],[0.1111111111111111,\"#482878\"],[0.2222222222222222,\"#3e4989\"],[0.3333333333333333,\"#31688e\"],[0.4444444444444444,\"#26828e\"],[0.5555555555555556,\"#1f9e89\"],[0.6666666666666666,\"#35b779\"],[0.7777777777777778,\"#6ece58\"],[0.8888888888888888,\"#b5de2b\"],[1.0,\"#fde725\"]],\"type\":\"heatmap\"}],\"histogram2dcontour\":[{\"colorbar\":{\"outlinewidth\":1,\"tickcolor\":\"rgb(36,36,36)\",\"ticks\":\"outside\"},\"colorscale\":[[0.0,\"#440154\"],[0.1111111111111111,\"#482878\"],[0.2222222222222222,\"#3e4989\"],[0.3333333333333333,\"#31688e\"],[0.4444444444444444,\"#26828e\"],[0.5555555555555556,\"#1f9e89\"],[0.6666666666666666,\"#35b779\"],[0.7777777777777778,\"#6ece58\"],[0.8888888888888888,\"#b5de2b\"],[1.0,\"#fde725\"]],\"type\":\"histogram2dcontour\"}],\"histogram2d\":[{\"colorbar\":{\"outlinewidth\":1,\"tickcolor\":\"rgb(36,36,36)\",\"ticks\":\"outside\"},\"colorscale\":[[0.0,\"#440154\"],[0.1111111111111111,\"#482878\"],[0.2222222222222222,\"#3e4989\"],[0.3333333333333333,\"#31688e\"],[0.4444444444444444,\"#26828e\"],[0.5555555555555556,\"#1f9e89\"],[0.6666666666666666,\"#35b779\"],[0.7777777777777778,\"#6ece58\"],[0.8888888888888888,\"#b5de2b\"],[1.0,\"#fde725\"]],\"type\":\"histogram2d\"}],\"histogram\":[{\"marker\":{\"line\":{\"color\":\"white\",\"width\":0.6}},\"type\":\"histogram\"}],\"mesh3d\":[{\"colorbar\":{\"outlinewidth\":1,\"tickcolor\":\"rgb(36,36,36)\",\"ticks\":\"outside\"},\"type\":\"mesh3d\"}],\"parcoords\":[{\"line\":{\"colorbar\":{\"outlinewidth\":1,\"tickcolor\":\"rgb(36,36,36)\",\"ticks\":\"outside\"}},\"type\":\"parcoords\"}],\"pie\":[{\"automargin\":true,\"type\":\"pie\"}],\"scatter3d\":[{\"line\":{\"colorbar\":{\"outlinewidth\":1,\"tickcolor\":\"rgb(36,36,36)\",\"ticks\":\"outside\"}},\"marker\":{\"colorbar\":{\"outlinewidth\":1,\"tickcolor\":\"rgb(36,36,36)\",\"ticks\":\"outside\"}},\"type\":\"scatter3d\"}],\"scattercarpet\":[{\"marker\":{\"colorbar\":{\"outlinewidth\":1,\"tickcolor\":\"rgb(36,36,36)\",\"ticks\":\"outside\"}},\"type\":\"scattercarpet\"}],\"scattergeo\":[{\"marker\":{\"colorbar\":{\"outlinewidth\":1,\"tickcolor\":\"rgb(36,36,36)\",\"ticks\":\"outside\"}},\"type\":\"scattergeo\"}],\"scattergl\":[{\"marker\":{\"colorbar\":{\"outlinewidth\":1,\"tickcolor\":\"rgb(36,36,36)\",\"ticks\":\"outside\"}},\"type\":\"scattergl\"}],\"scattermapbox\":[{\"marker\":{\"colorbar\":{\"outlinewidth\":1,\"tickcolor\":\"rgb(36,36,36)\",\"ticks\":\"outside\"}},\"type\":\"scattermapbox\"}],\"scatterpolargl\":[{\"marker\":{\"colorbar\":{\"outlinewidth\":1,\"tickcolor\":\"rgb(36,36,36)\",\"ticks\":\"outside\"}},\"type\":\"scatterpolargl\"}],\"scatterpolar\":[{\"marker\":{\"colorbar\":{\"outlinewidth\":1,\"tickcolor\":\"rgb(36,36,36)\",\"ticks\":\"outside\"}},\"type\":\"scatterpolar\"}],\"scatter\":[{\"fillpattern\":{\"fillmode\":\"overlay\",\"size\":10,\"solidity\":0.2},\"type\":\"scatter\"}],\"scatterternary\":[{\"marker\":{\"colorbar\":{\"outlinewidth\":1,\"tickcolor\":\"rgb(36,36,36)\",\"ticks\":\"outside\"}},\"type\":\"scatterternary\"}],\"surface\":[{\"colorbar\":{\"outlinewidth\":1,\"tickcolor\":\"rgb(36,36,36)\",\"ticks\":\"outside\"},\"colorscale\":[[0.0,\"#440154\"],[0.1111111111111111,\"#482878\"],[0.2222222222222222,\"#3e4989\"],[0.3333333333333333,\"#31688e\"],[0.4444444444444444,\"#26828e\"],[0.5555555555555556,\"#1f9e89\"],[0.6666666666666666,\"#35b779\"],[0.7777777777777778,\"#6ece58\"],[0.8888888888888888,\"#b5de2b\"],[1.0,\"#fde725\"]],\"type\":\"surface\"}],\"table\":[{\"cells\":{\"fill\":{\"color\":\"rgb(237,237,237)\"},\"line\":{\"color\":\"white\"}},\"header\":{\"fill\":{\"color\":\"rgb(217,217,217)\"},\"line\":{\"color\":\"white\"}},\"type\":\"table\"}]},\"layout\":{\"annotationdefaults\":{\"arrowhead\":0,\"arrowwidth\":1},\"autotypenumbers\":\"strict\",\"coloraxis\":{\"colorbar\":{\"outlinewidth\":1,\"tickcolor\":\"rgb(36,36,36)\",\"ticks\":\"outside\"}},\"colorscale\":{\"diverging\":[[0.0,\"rgb(103,0,31)\"],[0.1,\"rgb(178,24,43)\"],[0.2,\"rgb(214,96,77)\"],[0.3,\"rgb(244,165,130)\"],[0.4,\"rgb(253,219,199)\"],[0.5,\"rgb(247,247,247)\"],[0.6,\"rgb(209,229,240)\"],[0.7,\"rgb(146,197,222)\"],[0.8,\"rgb(67,147,195)\"],[0.9,\"rgb(33,102,172)\"],[1.0,\"rgb(5,48,97)\"]],\"sequential\":[[0.0,\"#440154\"],[0.1111111111111111,\"#482878\"],[0.2222222222222222,\"#3e4989\"],[0.3333333333333333,\"#31688e\"],[0.4444444444444444,\"#26828e\"],[0.5555555555555556,\"#1f9e89\"],[0.6666666666666666,\"#35b779\"],[0.7777777777777778,\"#6ece58\"],[0.8888888888888888,\"#b5de2b\"],[1.0,\"#fde725\"]],\"sequentialminus\":[[0.0,\"#440154\"],[0.1111111111111111,\"#482878\"],[0.2222222222222222,\"#3e4989\"],[0.3333333333333333,\"#31688e\"],[0.4444444444444444,\"#26828e\"],[0.5555555555555556,\"#1f9e89\"],[0.6666666666666666,\"#35b779\"],[0.7777777777777778,\"#6ece58\"],[0.8888888888888888,\"#b5de2b\"],[1.0,\"#fde725\"]]},\"colorway\":[\"#1F77B4\",\"#FF7F0E\",\"#2CA02C\",\"#D62728\",\"#9467BD\",\"#8C564B\",\"#E377C2\",\"#7F7F7F\",\"#BCBD22\",\"#17BECF\"],\"font\":{\"color\":\"rgb(36,36,36)\"},\"geo\":{\"bgcolor\":\"white\",\"lakecolor\":\"white\",\"landcolor\":\"white\",\"showlakes\":true,\"showland\":true,\"subunitcolor\":\"white\"},\"hoverlabel\":{\"align\":\"left\"},\"hovermode\":\"closest\",\"mapbox\":{\"style\":\"light\"},\"paper_bgcolor\":\"white\",\"plot_bgcolor\":\"white\",\"polar\":{\"angularaxis\":{\"gridcolor\":\"rgb(232,232,232)\",\"linecolor\":\"rgb(36,36,36)\",\"showgrid\":false,\"showline\":true,\"ticks\":\"outside\"},\"bgcolor\":\"white\",\"radialaxis\":{\"gridcolor\":\"rgb(232,232,232)\",\"linecolor\":\"rgb(36,36,36)\",\"showgrid\":false,\"showline\":true,\"ticks\":\"outside\"}},\"scene\":{\"xaxis\":{\"backgroundcolor\":\"white\",\"gridcolor\":\"rgb(232,232,232)\",\"gridwidth\":2,\"linecolor\":\"rgb(36,36,36)\",\"showbackground\":true,\"showgrid\":false,\"showline\":true,\"ticks\":\"outside\",\"zeroline\":false,\"zerolinecolor\":\"rgb(36,36,36)\"},\"yaxis\":{\"backgroundcolor\":\"white\",\"gridcolor\":\"rgb(232,232,232)\",\"gridwidth\":2,\"linecolor\":\"rgb(36,36,36)\",\"showbackground\":true,\"showgrid\":false,\"showline\":true,\"ticks\":\"outside\",\"zeroline\":false,\"zerolinecolor\":\"rgb(36,36,36)\"},\"zaxis\":{\"backgroundcolor\":\"white\",\"gridcolor\":\"rgb(232,232,232)\",\"gridwidth\":2,\"linecolor\":\"rgb(36,36,36)\",\"showbackground\":true,\"showgrid\":false,\"showline\":true,\"ticks\":\"outside\",\"zeroline\":false,\"zerolinecolor\":\"rgb(36,36,36)\"}},\"shapedefaults\":{\"fillcolor\":\"black\",\"line\":{\"width\":0},\"opacity\":0.3},\"ternary\":{\"aaxis\":{\"gridcolor\":\"rgb(232,232,232)\",\"linecolor\":\"rgb(36,36,36)\",\"showgrid\":false,\"showline\":true,\"ticks\":\"outside\"},\"baxis\":{\"gridcolor\":\"rgb(232,232,232)\",\"linecolor\":\"rgb(36,36,36)\",\"showgrid\":false,\"showline\":true,\"ticks\":\"outside\"},\"bgcolor\":\"white\",\"caxis\":{\"gridcolor\":\"rgb(232,232,232)\",\"linecolor\":\"rgb(36,36,36)\",\"showgrid\":false,\"showline\":true,\"ticks\":\"outside\"}},\"title\":{\"x\":0.05},\"xaxis\":{\"automargin\":true,\"gridcolor\":\"rgb(232,232,232)\",\"linecolor\":\"rgb(36,36,36)\",\"showgrid\":false,\"showline\":true,\"ticks\":\"outside\",\"title\":{\"standoff\":15},\"zeroline\":false,\"zerolinecolor\":\"rgb(36,36,36)\"},\"yaxis\":{\"automargin\":true,\"gridcolor\":\"rgb(232,232,232)\",\"linecolor\":\"rgb(36,36,36)\",\"showgrid\":false,\"showline\":true,\"ticks\":\"outside\",\"title\":{\"standoff\":15},\"zeroline\":false,\"zerolinecolor\":\"rgb(36,36,36)\"}}},\"xaxis\":{\"anchor\":\"y\",\"domain\":[0.0,1.0],\"title\":{\"text\":\"efConstruction\"},\"linecolor\":\"darkgrey\"},\"yaxis\":{\"anchor\":\"x\",\"domain\":[0.0,1.0],\"title\":{\"text\":\"construction time (s)\"},\"linecolor\":\"darkgrey\",\"showgrid\":true,\"gridwidth\":1,\"gridcolor\":\"LightGrey\",\"griddash\":\"dot\",\"ticks\":\"\"},\"legend\":{\"title\":{\"text\":\"M\"},\"tracegroupgap\":0,\"yanchor\":\"top\",\"y\":0.98,\"xanchor\":\"left\",\"x\":0.05,\"borderwidth\":1,\"traceorder\":\"reversed\"},\"margin\":{\"t\":60},\"height\":350,\"width\":600},                        {\"responsive\": true}                    ).then(function(){\n",
       "                            \n",
       "var gd = document.getElementById('08355e88-fd1c-412a-88db-02ffdb6cda81');\n",
       "var x = new MutationObserver(function (mutations, observer) {{\n",
       "        var display = window.getComputedStyle(gd).display;\n",
       "        if (!display || display === 'none') {{\n",
       "            console.log([gd, 'removed!']);\n",
       "            Plotly.purge(gd);\n",
       "            observer.disconnect();\n",
       "        }}\n",
       "}});\n",
       "\n",
       "// Listen for the removal of the full notebook cells\n",
       "var notebookContainer = gd.closest('#notebook-container');\n",
       "if (notebookContainer) {{\n",
       "    x.observe(notebookContainer, {childList: true});\n",
       "}}\n",
       "\n",
       "// Listen for the clearing of the current output cell\n",
       "var outputEl = gd.closest('.output');\n",
       "if (outputEl) {{\n",
       "    x.observe(outputEl, {childList: true});\n",
       "}}\n",
       "\n",
       "                        })                };                });            </script>        </div>"
      ]
     },
     "metadata": {},
     "output_type": "display_data"
    }
   ],
   "source": [
    "fig = px.line(dfHNSW, x=\"efConstruction\", y=\"index_time\", color=\"M\", height=350, width=600, markers=True,\n",
    "              template=\"simple_white\", color_discrete_sequence=colors_custom, #color_discrete_sequence=px.colors.qualitative.D3,  \n",
    "              labels=dict(index_time=\"construction time (s)\",)\n",
    "              )\n",
    "fig.update_layout(legend=dict(yanchor=\"top\", y=0.98, xanchor=\"left\", x=0.05, borderwidth=1, traceorder=\"reversed\")) # orientation=\"h\"\n",
    "fig.update_xaxes(linecolor='darkgrey')\n",
    "fig.update_yaxes(linecolor='darkgrey', showgrid=True, gridwidth=1, gridcolor='LightGrey', griddash=\"dot\", ticks=\"\")\n",
    "fig.show()\n",
    "fig.write_html(\"Hflat_indextime_efConst.html\")"
   ]
  },
  {
   "cell_type": "code",
   "execution_count": 48,
   "id": "05ff232e",
   "metadata": {
    "execution": {
     "iopub.execute_input": "2022-08-18T15:44:58.951281Z",
     "iopub.status.busy": "2022-08-18T15:44:58.950915Z",
     "iopub.status.idle": "2022-08-18T15:44:59.032727Z",
     "shell.execute_reply": "2022-08-18T15:44:59.031801Z"
    },
    "papermill": {
     "duration": 0.683578,
     "end_time": "2022-08-18T15:44:59.034818",
     "exception": false,
     "start_time": "2022-08-18T15:44:58.351240",
     "status": "completed"
    },
    "tags": []
   },
   "outputs": [
    {
     "data": {
      "text/html": [
       "<div>                            <div id=\"fe011ed8-c380-446e-9e29-d5bdaa1389c0\" class=\"plotly-graph-div\" style=\"height:350px; width:600px;\"></div>            <script type=\"text/javascript\">                require([\"plotly\"], function(Plotly) {                    window.PLOTLYENV=window.PLOTLYENV || {};                                    if (document.getElementById(\"fe011ed8-c380-446e-9e29-d5bdaa1389c0\")) {                    Plotly.newPlot(                        \"fe011ed8-c380-446e-9e29-d5bdaa1389c0\",                        [{\"hovertemplate\":\"M=4<br>efSearch=%{x}<br>search time (ms/query)=%{y}<extra></extra>\",\"legendgroup\":\"4\",\"line\":{\"color\":\"#EECA3B\",\"dash\":\"solid\"},\"marker\":{\"symbol\":\"circle\"},\"mode\":\"markers+lines\",\"name\":\"4\",\"orientation\":\"v\",\"showlegend\":true,\"x\":[4,16,40,76],\"xaxis\":\"x\",\"y\":[0.05618405342102051,0.03861594200134277,0.07405519485473633,0.13103389739990234],\"yaxis\":\"y\",\"type\":\"scatter\"},{\"hovertemplate\":\"M=16<br>efSearch=%{x}<br>search time (ms/query)=%{y}<extra></extra>\",\"legendgroup\":\"16\",\"line\":{\"color\":\"#FF9900\",\"dash\":\"solid\"},\"marker\":{\"symbol\":\"circle\"},\"mode\":\"markers+lines\",\"name\":\"16\",\"orientation\":\"v\",\"showlegend\":true,\"x\":[4,16,40,76],\"xaxis\":\"x\",\"y\":[0.047518253326416016,0.08065915107727051,0.16335773468017578,0.27508544921875],\"yaxis\":\"y\",\"type\":\"scatter\"},{\"hovertemplate\":\"M=32<br>efSearch=%{x}<br>search time (ms/query)=%{y}<extra></extra>\",\"legendgroup\":\"32\",\"line\":{\"color\":\"#DC3912\",\"dash\":\"solid\"},\"marker\":{\"symbol\":\"circle\"},\"mode\":\"markers+lines\",\"name\":\"32\",\"orientation\":\"v\",\"showlegend\":true,\"x\":[4,16,40,76],\"xaxis\":\"x\",\"y\":[0.06300806999206543,0.15964984893798828,0.4899125099182129,0.6785674095153809],\"yaxis\":\"y\",\"type\":\"scatter\"},{\"hovertemplate\":\"M=64<br>efSearch=%{x}<br>search time (ms/query)=%{y}<extra></extra>\",\"legendgroup\":\"64\",\"line\":{\"color\":\"#990099\",\"dash\":\"solid\"},\"marker\":{\"symbol\":\"circle\"},\"mode\":\"markers+lines\",\"name\":\"64\",\"orientation\":\"v\",\"showlegend\":true,\"x\":[4,16,40,76],\"xaxis\":\"x\",\"y\":[0.13775253295898438,0.19754838943481445,0.3768594264984131,0.6303355693817139],\"yaxis\":\"y\",\"type\":\"scatter\"}],                        {\"template\":{\"data\":{\"barpolar\":[{\"marker\":{\"line\":{\"color\":\"white\",\"width\":0.5},\"pattern\":{\"fillmode\":\"overlay\",\"size\":10,\"solidity\":0.2}},\"type\":\"barpolar\"}],\"bar\":[{\"error_x\":{\"color\":\"rgb(36,36,36)\"},\"error_y\":{\"color\":\"rgb(36,36,36)\"},\"marker\":{\"line\":{\"color\":\"white\",\"width\":0.5},\"pattern\":{\"fillmode\":\"overlay\",\"size\":10,\"solidity\":0.2}},\"type\":\"bar\"}],\"carpet\":[{\"aaxis\":{\"endlinecolor\":\"rgb(36,36,36)\",\"gridcolor\":\"white\",\"linecolor\":\"white\",\"minorgridcolor\":\"white\",\"startlinecolor\":\"rgb(36,36,36)\"},\"baxis\":{\"endlinecolor\":\"rgb(36,36,36)\",\"gridcolor\":\"white\",\"linecolor\":\"white\",\"minorgridcolor\":\"white\",\"startlinecolor\":\"rgb(36,36,36)\"},\"type\":\"carpet\"}],\"choropleth\":[{\"colorbar\":{\"outlinewidth\":1,\"tickcolor\":\"rgb(36,36,36)\",\"ticks\":\"outside\"},\"type\":\"choropleth\"}],\"contourcarpet\":[{\"colorbar\":{\"outlinewidth\":1,\"tickcolor\":\"rgb(36,36,36)\",\"ticks\":\"outside\"},\"type\":\"contourcarpet\"}],\"contour\":[{\"colorbar\":{\"outlinewidth\":1,\"tickcolor\":\"rgb(36,36,36)\",\"ticks\":\"outside\"},\"colorscale\":[[0.0,\"#440154\"],[0.1111111111111111,\"#482878\"],[0.2222222222222222,\"#3e4989\"],[0.3333333333333333,\"#31688e\"],[0.4444444444444444,\"#26828e\"],[0.5555555555555556,\"#1f9e89\"],[0.6666666666666666,\"#35b779\"],[0.7777777777777778,\"#6ece58\"],[0.8888888888888888,\"#b5de2b\"],[1.0,\"#fde725\"]],\"type\":\"contour\"}],\"heatmapgl\":[{\"colorbar\":{\"outlinewidth\":1,\"tickcolor\":\"rgb(36,36,36)\",\"ticks\":\"outside\"},\"colorscale\":[[0.0,\"#440154\"],[0.1111111111111111,\"#482878\"],[0.2222222222222222,\"#3e4989\"],[0.3333333333333333,\"#31688e\"],[0.4444444444444444,\"#26828e\"],[0.5555555555555556,\"#1f9e89\"],[0.6666666666666666,\"#35b779\"],[0.7777777777777778,\"#6ece58\"],[0.8888888888888888,\"#b5de2b\"],[1.0,\"#fde725\"]],\"type\":\"heatmapgl\"}],\"heatmap\":[{\"colorbar\":{\"outlinewidth\":1,\"tickcolor\":\"rgb(36,36,36)\",\"ticks\":\"outside\"},\"colorscale\":[[0.0,\"#440154\"],[0.1111111111111111,\"#482878\"],[0.2222222222222222,\"#3e4989\"],[0.3333333333333333,\"#31688e\"],[0.4444444444444444,\"#26828e\"],[0.5555555555555556,\"#1f9e89\"],[0.6666666666666666,\"#35b779\"],[0.7777777777777778,\"#6ece58\"],[0.8888888888888888,\"#b5de2b\"],[1.0,\"#fde725\"]],\"type\":\"heatmap\"}],\"histogram2dcontour\":[{\"colorbar\":{\"outlinewidth\":1,\"tickcolor\":\"rgb(36,36,36)\",\"ticks\":\"outside\"},\"colorscale\":[[0.0,\"#440154\"],[0.1111111111111111,\"#482878\"],[0.2222222222222222,\"#3e4989\"],[0.3333333333333333,\"#31688e\"],[0.4444444444444444,\"#26828e\"],[0.5555555555555556,\"#1f9e89\"],[0.6666666666666666,\"#35b779\"],[0.7777777777777778,\"#6ece58\"],[0.8888888888888888,\"#b5de2b\"],[1.0,\"#fde725\"]],\"type\":\"histogram2dcontour\"}],\"histogram2d\":[{\"colorbar\":{\"outlinewidth\":1,\"tickcolor\":\"rgb(36,36,36)\",\"ticks\":\"outside\"},\"colorscale\":[[0.0,\"#440154\"],[0.1111111111111111,\"#482878\"],[0.2222222222222222,\"#3e4989\"],[0.3333333333333333,\"#31688e\"],[0.4444444444444444,\"#26828e\"],[0.5555555555555556,\"#1f9e89\"],[0.6666666666666666,\"#35b779\"],[0.7777777777777778,\"#6ece58\"],[0.8888888888888888,\"#b5de2b\"],[1.0,\"#fde725\"]],\"type\":\"histogram2d\"}],\"histogram\":[{\"marker\":{\"line\":{\"color\":\"white\",\"width\":0.6}},\"type\":\"histogram\"}],\"mesh3d\":[{\"colorbar\":{\"outlinewidth\":1,\"tickcolor\":\"rgb(36,36,36)\",\"ticks\":\"outside\"},\"type\":\"mesh3d\"}],\"parcoords\":[{\"line\":{\"colorbar\":{\"outlinewidth\":1,\"tickcolor\":\"rgb(36,36,36)\",\"ticks\":\"outside\"}},\"type\":\"parcoords\"}],\"pie\":[{\"automargin\":true,\"type\":\"pie\"}],\"scatter3d\":[{\"line\":{\"colorbar\":{\"outlinewidth\":1,\"tickcolor\":\"rgb(36,36,36)\",\"ticks\":\"outside\"}},\"marker\":{\"colorbar\":{\"outlinewidth\":1,\"tickcolor\":\"rgb(36,36,36)\",\"ticks\":\"outside\"}},\"type\":\"scatter3d\"}],\"scattercarpet\":[{\"marker\":{\"colorbar\":{\"outlinewidth\":1,\"tickcolor\":\"rgb(36,36,36)\",\"ticks\":\"outside\"}},\"type\":\"scattercarpet\"}],\"scattergeo\":[{\"marker\":{\"colorbar\":{\"outlinewidth\":1,\"tickcolor\":\"rgb(36,36,36)\",\"ticks\":\"outside\"}},\"type\":\"scattergeo\"}],\"scattergl\":[{\"marker\":{\"colorbar\":{\"outlinewidth\":1,\"tickcolor\":\"rgb(36,36,36)\",\"ticks\":\"outside\"}},\"type\":\"scattergl\"}],\"scattermapbox\":[{\"marker\":{\"colorbar\":{\"outlinewidth\":1,\"tickcolor\":\"rgb(36,36,36)\",\"ticks\":\"outside\"}},\"type\":\"scattermapbox\"}],\"scatterpolargl\":[{\"marker\":{\"colorbar\":{\"outlinewidth\":1,\"tickcolor\":\"rgb(36,36,36)\",\"ticks\":\"outside\"}},\"type\":\"scatterpolargl\"}],\"scatterpolar\":[{\"marker\":{\"colorbar\":{\"outlinewidth\":1,\"tickcolor\":\"rgb(36,36,36)\",\"ticks\":\"outside\"}},\"type\":\"scatterpolar\"}],\"scatter\":[{\"fillpattern\":{\"fillmode\":\"overlay\",\"size\":10,\"solidity\":0.2},\"type\":\"scatter\"}],\"scatterternary\":[{\"marker\":{\"colorbar\":{\"outlinewidth\":1,\"tickcolor\":\"rgb(36,36,36)\",\"ticks\":\"outside\"}},\"type\":\"scatterternary\"}],\"surface\":[{\"colorbar\":{\"outlinewidth\":1,\"tickcolor\":\"rgb(36,36,36)\",\"ticks\":\"outside\"},\"colorscale\":[[0.0,\"#440154\"],[0.1111111111111111,\"#482878\"],[0.2222222222222222,\"#3e4989\"],[0.3333333333333333,\"#31688e\"],[0.4444444444444444,\"#26828e\"],[0.5555555555555556,\"#1f9e89\"],[0.6666666666666666,\"#35b779\"],[0.7777777777777778,\"#6ece58\"],[0.8888888888888888,\"#b5de2b\"],[1.0,\"#fde725\"]],\"type\":\"surface\"}],\"table\":[{\"cells\":{\"fill\":{\"color\":\"rgb(237,237,237)\"},\"line\":{\"color\":\"white\"}},\"header\":{\"fill\":{\"color\":\"rgb(217,217,217)\"},\"line\":{\"color\":\"white\"}},\"type\":\"table\"}]},\"layout\":{\"annotationdefaults\":{\"arrowhead\":0,\"arrowwidth\":1},\"autotypenumbers\":\"strict\",\"coloraxis\":{\"colorbar\":{\"outlinewidth\":1,\"tickcolor\":\"rgb(36,36,36)\",\"ticks\":\"outside\"}},\"colorscale\":{\"diverging\":[[0.0,\"rgb(103,0,31)\"],[0.1,\"rgb(178,24,43)\"],[0.2,\"rgb(214,96,77)\"],[0.3,\"rgb(244,165,130)\"],[0.4,\"rgb(253,219,199)\"],[0.5,\"rgb(247,247,247)\"],[0.6,\"rgb(209,229,240)\"],[0.7,\"rgb(146,197,222)\"],[0.8,\"rgb(67,147,195)\"],[0.9,\"rgb(33,102,172)\"],[1.0,\"rgb(5,48,97)\"]],\"sequential\":[[0.0,\"#440154\"],[0.1111111111111111,\"#482878\"],[0.2222222222222222,\"#3e4989\"],[0.3333333333333333,\"#31688e\"],[0.4444444444444444,\"#26828e\"],[0.5555555555555556,\"#1f9e89\"],[0.6666666666666666,\"#35b779\"],[0.7777777777777778,\"#6ece58\"],[0.8888888888888888,\"#b5de2b\"],[1.0,\"#fde725\"]],\"sequentialminus\":[[0.0,\"#440154\"],[0.1111111111111111,\"#482878\"],[0.2222222222222222,\"#3e4989\"],[0.3333333333333333,\"#31688e\"],[0.4444444444444444,\"#26828e\"],[0.5555555555555556,\"#1f9e89\"],[0.6666666666666666,\"#35b779\"],[0.7777777777777778,\"#6ece58\"],[0.8888888888888888,\"#b5de2b\"],[1.0,\"#fde725\"]]},\"colorway\":[\"#1F77B4\",\"#FF7F0E\",\"#2CA02C\",\"#D62728\",\"#9467BD\",\"#8C564B\",\"#E377C2\",\"#7F7F7F\",\"#BCBD22\",\"#17BECF\"],\"font\":{\"color\":\"rgb(36,36,36)\"},\"geo\":{\"bgcolor\":\"white\",\"lakecolor\":\"white\",\"landcolor\":\"white\",\"showlakes\":true,\"showland\":true,\"subunitcolor\":\"white\"},\"hoverlabel\":{\"align\":\"left\"},\"hovermode\":\"closest\",\"mapbox\":{\"style\":\"light\"},\"paper_bgcolor\":\"white\",\"plot_bgcolor\":\"white\",\"polar\":{\"angularaxis\":{\"gridcolor\":\"rgb(232,232,232)\",\"linecolor\":\"rgb(36,36,36)\",\"showgrid\":false,\"showline\":true,\"ticks\":\"outside\"},\"bgcolor\":\"white\",\"radialaxis\":{\"gridcolor\":\"rgb(232,232,232)\",\"linecolor\":\"rgb(36,36,36)\",\"showgrid\":false,\"showline\":true,\"ticks\":\"outside\"}},\"scene\":{\"xaxis\":{\"backgroundcolor\":\"white\",\"gridcolor\":\"rgb(232,232,232)\",\"gridwidth\":2,\"linecolor\":\"rgb(36,36,36)\",\"showbackground\":true,\"showgrid\":false,\"showline\":true,\"ticks\":\"outside\",\"zeroline\":false,\"zerolinecolor\":\"rgb(36,36,36)\"},\"yaxis\":{\"backgroundcolor\":\"white\",\"gridcolor\":\"rgb(232,232,232)\",\"gridwidth\":2,\"linecolor\":\"rgb(36,36,36)\",\"showbackground\":true,\"showgrid\":false,\"showline\":true,\"ticks\":\"outside\",\"zeroline\":false,\"zerolinecolor\":\"rgb(36,36,36)\"},\"zaxis\":{\"backgroundcolor\":\"white\",\"gridcolor\":\"rgb(232,232,232)\",\"gridwidth\":2,\"linecolor\":\"rgb(36,36,36)\",\"showbackground\":true,\"showgrid\":false,\"showline\":true,\"ticks\":\"outside\",\"zeroline\":false,\"zerolinecolor\":\"rgb(36,36,36)\"}},\"shapedefaults\":{\"fillcolor\":\"black\",\"line\":{\"width\":0},\"opacity\":0.3},\"ternary\":{\"aaxis\":{\"gridcolor\":\"rgb(232,232,232)\",\"linecolor\":\"rgb(36,36,36)\",\"showgrid\":false,\"showline\":true,\"ticks\":\"outside\"},\"baxis\":{\"gridcolor\":\"rgb(232,232,232)\",\"linecolor\":\"rgb(36,36,36)\",\"showgrid\":false,\"showline\":true,\"ticks\":\"outside\"},\"bgcolor\":\"white\",\"caxis\":{\"gridcolor\":\"rgb(232,232,232)\",\"linecolor\":\"rgb(36,36,36)\",\"showgrid\":false,\"showline\":true,\"ticks\":\"outside\"}},\"title\":{\"x\":0.05},\"xaxis\":{\"automargin\":true,\"gridcolor\":\"rgb(232,232,232)\",\"linecolor\":\"rgb(36,36,36)\",\"showgrid\":false,\"showline\":true,\"ticks\":\"outside\",\"title\":{\"standoff\":15},\"zeroline\":false,\"zerolinecolor\":\"rgb(36,36,36)\"},\"yaxis\":{\"automargin\":true,\"gridcolor\":\"rgb(232,232,232)\",\"linecolor\":\"rgb(36,36,36)\",\"showgrid\":false,\"showline\":true,\"ticks\":\"outside\",\"title\":{\"standoff\":15},\"zeroline\":false,\"zerolinecolor\":\"rgb(36,36,36)\"}}},\"xaxis\":{\"anchor\":\"y\",\"domain\":[0.0,1.0],\"title\":{\"text\":\"efSearch\"},\"linecolor\":\"darkgrey\"},\"yaxis\":{\"anchor\":\"x\",\"domain\":[0.0,1.0],\"title\":{\"text\":\"search time (ms/query)\"},\"linecolor\":\"darkgrey\",\"showgrid\":true,\"gridwidth\":1,\"gridcolor\":\"LightGrey\",\"griddash\":\"dot\",\"ticks\":\"\"},\"legend\":{\"title\":{\"text\":\"M\"},\"tracegroupgap\":0,\"yanchor\":\"top\",\"y\":1.05,\"xanchor\":\"left\",\"x\":0.05,\"borderwidth\":1,\"traceorder\":\"reversed\"},\"title\":{\"text\":\"efConstruction = 40\"},\"height\":350,\"width\":600},                        {\"responsive\": true}                    ).then(function(){\n",
       "                            \n",
       "var gd = document.getElementById('fe011ed8-c380-446e-9e29-d5bdaa1389c0');\n",
       "var x = new MutationObserver(function (mutations, observer) {{\n",
       "        var display = window.getComputedStyle(gd).display;\n",
       "        if (!display || display === 'none') {{\n",
       "            console.log([gd, 'removed!']);\n",
       "            Plotly.purge(gd);\n",
       "            observer.disconnect();\n",
       "        }}\n",
       "}});\n",
       "\n",
       "// Listen for the removal of the full notebook cells\n",
       "var notebookContainer = gd.closest('#notebook-container');\n",
       "if (notebookContainer) {{\n",
       "    x.observe(notebookContainer, {childList: true});\n",
       "}}\n",
       "\n",
       "// Listen for the clearing of the current output cell\n",
       "var outputEl = gd.closest('.output');\n",
       "if (outputEl) {{\n",
       "    x.observe(outputEl, {childList: true});\n",
       "}}\n",
       "\n",
       "                        })                };                });            </script>        </div>"
      ]
     },
     "metadata": {},
     "output_type": "display_data"
    }
   ],
   "source": [
    "fig = px.line(dfHNSW.query(\"efConstruction==40\"), x=\"efSearch\", y=\"search_time\", color=\"M\", height=350, width=600, markers=True,\n",
    "              template=\"simple_white\", color_discrete_sequence=colors_custom, #color_discrete_sequence=px.colors.qualitative.D3,  \n",
    "              labels=dict(search_time=\"search time (ms/query)\",), title=\"efConstruction = 40\"\n",
    "              )\n",
    "fig.update_layout(legend=dict(yanchor=\"top\", y=1.05, xanchor=\"left\", x=0.05, borderwidth=1, traceorder=\"reversed\")) # orientation=\"h\"\n",
    "fig.update_xaxes(linecolor='darkgrey')\n",
    "fig.update_yaxes(linecolor='darkgrey', showgrid=True, gridwidth=1, gridcolor='LightGrey', griddash=\"dot\", ticks=\"\")\n",
    "fig.show()\n",
    "fig.write_html(\"Hflat_searchtime_efSearch_efConst40.html\")"
   ]
  },
  {
   "cell_type": "code",
   "execution_count": 49,
   "id": "9698dd76",
   "metadata": {
    "execution": {
     "iopub.execute_input": "2022-08-18T15:45:00.290218Z",
     "iopub.status.busy": "2022-08-18T15:45:00.289827Z",
     "iopub.status.idle": "2022-08-18T15:45:00.295993Z",
     "shell.execute_reply": "2022-08-18T15:45:00.294825Z"
    },
    "papermill": {
     "duration": 0.667385,
     "end_time": "2022-08-18T15:45:00.298251",
     "exception": false,
     "start_time": "2022-08-18T15:44:59.630866",
     "status": "completed"
    },
    "tags": []
   },
   "outputs": [],
   "source": [
    "dfHNSW[\"M\"] = dfHNSW[\"M\"].fillna(0.0).astype(str)"
   ]
  },
  {
   "cell_type": "code",
   "execution_count": 50,
   "id": "d832df54",
   "metadata": {
    "execution": {
     "iopub.execute_input": "2022-08-18T15:45:01.498750Z",
     "iopub.status.busy": "2022-08-18T15:45:01.498011Z",
     "iopub.status.idle": "2022-08-18T15:45:02.328635Z",
     "shell.execute_reply": "2022-08-18T15:45:02.327610Z"
    },
    "papermill": {
     "duration": 1.439616,
     "end_time": "2022-08-18T15:45:02.330825",
     "exception": false,
     "start_time": "2022-08-18T15:45:00.891209",
     "status": "completed"
    },
    "tags": []
   },
   "outputs": [
    {
     "data": {
      "text/html": [
       "<div>                            <div id=\"35981008-e9f7-4450-a2da-f18c4d623ce3\" class=\"plotly-graph-div\" style=\"height:700px; width:700px;\"></div>            <script type=\"text/javascript\">                require([\"plotly\"], function(Plotly) {                    window.PLOTLYENV=window.PLOTLYENV || {};                                    if (document.getElementById(\"35981008-e9f7-4450-a2da-f18c4d623ce3\")) {                    Plotly.newPlot(                        \"35981008-e9f7-4450-a2da-f18c4d623ce3\",                        [{\"hovertemplate\":\"M=4<br>efSearch=4<br>efConstruction=4<br>search_time=%{x}<br>recall@3=%{y}<br>index_size=%{marker.size}<extra></extra>\",\"legendgroup\":\"4\",\"marker\":{\"color\":\"#EECA3B\",\"size\":[1684.0091499999999],\"sizemode\":\"area\",\"sizeref\":13.867527777777777,\"symbol\":\"circle\"},\"mode\":\"markers\",\"name\":\"4\",\"orientation\":\"v\",\"showlegend\":true,\"x\":[0.07314491271972656],\"xaxis\":\"x13\",\"y\":[0.019],\"yaxis\":\"y13\",\"type\":\"scatter\"},{\"hovertemplate\":\"M=4<br>efSearch=4<br>efConstruction=16<br>search_time=%{x}<br>recall@3=%{y}<br>index_size=%{marker.size}<extra></extra>\",\"legendgroup\":\"4\",\"marker\":{\"color\":\"#EECA3B\",\"size\":[1684.0091499999999],\"sizemode\":\"area\",\"sizeref\":13.867527777777777,\"symbol\":\"circle\"},\"mode\":\"markers\",\"name\":\"4\",\"orientation\":\"v\",\"showlegend\":false,\"x\":[0.060349225997924805],\"xaxis\":\"x14\",\"y\":[0.053],\"yaxis\":\"y14\",\"type\":\"scatter\"},{\"hovertemplate\":\"M=4<br>efSearch=4<br>efConstruction=40<br>search_time=%{x}<br>recall@3=%{y}<br>index_size=%{marker.size}<extra></extra>\",\"legendgroup\":\"4\",\"marker\":{\"color\":\"#EECA3B\",\"size\":[1684.0091499999999],\"sizemode\":\"area\",\"sizeref\":13.867527777777777,\"symbol\":\"circle\"},\"mode\":\"markers\",\"name\":\"4\",\"orientation\":\"v\",\"showlegend\":false,\"x\":[0.05618405342102051],\"xaxis\":\"x15\",\"y\":[0.093],\"yaxis\":\"y15\",\"type\":\"scatter\"},{\"hovertemplate\":\"M=4<br>efSearch=4<br>efConstruction=76<br>search_time=%{x}<br>recall@3=%{y}<br>index_size=%{marker.size}<extra></extra>\",\"legendgroup\":\"4\",\"marker\":{\"color\":\"#EECA3B\",\"size\":[1684.0091499999999],\"sizemode\":\"area\",\"sizeref\":13.867527777777777,\"symbol\":\"circle\"},\"mode\":\"markers\",\"name\":\"4\",\"orientation\":\"v\",\"showlegend\":false,\"x\":[0.060048580169677734],\"xaxis\":\"x16\",\"y\":[0.088],\"yaxis\":\"y16\",\"type\":\"scatter\"},{\"hovertemplate\":\"M=4<br>efSearch=16<br>efConstruction=4<br>search_time=%{x}<br>recall@3=%{y}<br>index_size=%{marker.size}<extra></extra>\",\"legendgroup\":\"4\",\"marker\":{\"color\":\"#EECA3B\",\"size\":[1684.0091499999999],\"sizemode\":\"area\",\"sizeref\":13.867527777777777,\"symbol\":\"circle\"},\"mode\":\"markers\",\"name\":\"4\",\"orientation\":\"v\",\"showlegend\":false,\"x\":[0.09765863418579102],\"xaxis\":\"x9\",\"y\":[0.034],\"yaxis\":\"y9\",\"type\":\"scatter\"},{\"hovertemplate\":\"M=4<br>efSearch=16<br>efConstruction=16<br>search_time=%{x}<br>recall@3=%{y}<br>index_size=%{marker.size}<extra></extra>\",\"legendgroup\":\"4\",\"marker\":{\"color\":\"#EECA3B\",\"size\":[1684.0091499999999],\"sizemode\":\"area\",\"sizeref\":13.867527777777777,\"symbol\":\"circle\"},\"mode\":\"markers\",\"name\":\"4\",\"orientation\":\"v\",\"showlegend\":false,\"x\":[0.05321979522705078],\"xaxis\":\"x10\",\"y\":[0.19],\"yaxis\":\"y10\",\"type\":\"scatter\"},{\"hovertemplate\":\"M=4<br>efSearch=16<br>efConstruction=40<br>search_time=%{x}<br>recall@3=%{y}<br>index_size=%{marker.size}<extra></extra>\",\"legendgroup\":\"4\",\"marker\":{\"color\":\"#EECA3B\",\"size\":[1684.0091499999999],\"sizemode\":\"area\",\"sizeref\":13.867527777777777,\"symbol\":\"circle\"},\"mode\":\"markers\",\"name\":\"4\",\"orientation\":\"v\",\"showlegend\":false,\"x\":[0.03861594200134277],\"xaxis\":\"x11\",\"y\":[0.29],\"yaxis\":\"y11\",\"type\":\"scatter\"},{\"hovertemplate\":\"M=4<br>efSearch=16<br>efConstruction=76<br>search_time=%{x}<br>recall@3=%{y}<br>index_size=%{marker.size}<extra></extra>\",\"legendgroup\":\"4\",\"marker\":{\"color\":\"#EECA3B\",\"size\":[1684.0091499999999],\"sizemode\":\"area\",\"sizeref\":13.867527777777777,\"symbol\":\"circle\"},\"mode\":\"markers\",\"name\":\"4\",\"orientation\":\"v\",\"showlegend\":false,\"x\":[0.035874128341674805],\"xaxis\":\"x12\",\"y\":[0.318],\"yaxis\":\"y12\",\"type\":\"scatter\"},{\"hovertemplate\":\"M=4<br>efSearch=40<br>efConstruction=4<br>search_time=%{x}<br>recall@3=%{y}<br>index_size=%{marker.size}<extra></extra>\",\"legendgroup\":\"4\",\"marker\":{\"color\":\"#EECA3B\",\"size\":[1684.0091499999999],\"sizemode\":\"area\",\"sizeref\":13.867527777777777,\"symbol\":\"circle\"},\"mode\":\"markers\",\"name\":\"4\",\"orientation\":\"v\",\"showlegend\":false,\"x\":[0.056708335876464844],\"xaxis\":\"x5\",\"y\":[0.044],\"yaxis\":\"y5\",\"type\":\"scatter\"},{\"hovertemplate\":\"M=4<br>efSearch=40<br>efConstruction=16<br>search_time=%{x}<br>recall@3=%{y}<br>index_size=%{marker.size}<extra></extra>\",\"legendgroup\":\"4\",\"marker\":{\"color\":\"#EECA3B\",\"size\":[1684.0091499999999],\"sizemode\":\"area\",\"sizeref\":13.867527777777777,\"symbol\":\"circle\"},\"mode\":\"markers\",\"name\":\"4\",\"orientation\":\"v\",\"showlegend\":false,\"x\":[0.07614469528198242],\"xaxis\":\"x6\",\"y\":[0.341],\"yaxis\":\"y6\",\"type\":\"scatter\"},{\"hovertemplate\":\"M=4<br>efSearch=40<br>efConstruction=40<br>search_time=%{x}<br>recall@3=%{y}<br>index_size=%{marker.size}<extra></extra>\",\"legendgroup\":\"4\",\"marker\":{\"color\":\"#EECA3B\",\"size\":[1684.0091499999999],\"sizemode\":\"area\",\"sizeref\":13.867527777777777,\"symbol\":\"circle\"},\"mode\":\"markers\",\"name\":\"4\",\"orientation\":\"v\",\"showlegend\":false,\"x\":[0.07405519485473633],\"xaxis\":\"x7\",\"y\":[0.537],\"yaxis\":\"y7\",\"type\":\"scatter\"},{\"hovertemplate\":\"M=4<br>efSearch=40<br>efConstruction=76<br>search_time=%{x}<br>recall@3=%{y}<br>index_size=%{marker.size}<extra></extra>\",\"legendgroup\":\"4\",\"marker\":{\"color\":\"#EECA3B\",\"size\":[1684.0091499999999],\"sizemode\":\"area\",\"sizeref\":13.867527777777777,\"symbol\":\"circle\"},\"mode\":\"markers\",\"name\":\"4\",\"orientation\":\"v\",\"showlegend\":false,\"x\":[0.08121347427368164],\"xaxis\":\"x8\",\"y\":[0.566],\"yaxis\":\"y8\",\"type\":\"scatter\"},{\"hovertemplate\":\"M=4<br>efSearch=76<br>efConstruction=4<br>search_time=%{x}<br>recall@3=%{y}<br>index_size=%{marker.size}<extra></extra>\",\"legendgroup\":\"4\",\"marker\":{\"color\":\"#EECA3B\",\"size\":[1684.0091499999999],\"sizemode\":\"area\",\"sizeref\":13.867527777777777,\"symbol\":\"circle\"},\"mode\":\"markers\",\"name\":\"4\",\"orientation\":\"v\",\"showlegend\":false,\"x\":[0.08639359474182129],\"xaxis\":\"x\",\"y\":[0.05],\"yaxis\":\"y\",\"type\":\"scatter\"},{\"hovertemplate\":\"M=4<br>efSearch=76<br>efConstruction=16<br>search_time=%{x}<br>recall@3=%{y}<br>index_size=%{marker.size}<extra></extra>\",\"legendgroup\":\"4\",\"marker\":{\"color\":\"#EECA3B\",\"size\":[1684.0091499999999],\"sizemode\":\"area\",\"sizeref\":13.867527777777777,\"symbol\":\"circle\"},\"mode\":\"markers\",\"name\":\"4\",\"orientation\":\"v\",\"showlegend\":false,\"x\":[0.20155882835388184],\"xaxis\":\"x2\",\"y\":[0.428],\"yaxis\":\"y2\",\"type\":\"scatter\"},{\"hovertemplate\":\"M=4<br>efSearch=76<br>efConstruction=40<br>search_time=%{x}<br>recall@3=%{y}<br>index_size=%{marker.size}<extra></extra>\",\"legendgroup\":\"4\",\"marker\":{\"color\":\"#EECA3B\",\"size\":[1684.0091499999999],\"sizemode\":\"area\",\"sizeref\":13.867527777777777,\"symbol\":\"circle\"},\"mode\":\"markers\",\"name\":\"4\",\"orientation\":\"v\",\"showlegend\":false,\"x\":[0.13103389739990234],\"xaxis\":\"x3\",\"y\":[0.639],\"yaxis\":\"y3\",\"type\":\"scatter\"},{\"hovertemplate\":\"M=4<br>efSearch=76<br>efConstruction=76<br>search_time=%{x}<br>recall@3=%{y}<br>index_size=%{marker.size}<extra></extra>\",\"legendgroup\":\"4\",\"marker\":{\"color\":\"#EECA3B\",\"size\":[1684.0091499999999],\"sizemode\":\"area\",\"sizeref\":13.867527777777777,\"symbol\":\"circle\"},\"mode\":\"markers\",\"name\":\"4\",\"orientation\":\"v\",\"showlegend\":false,\"x\":[0.14520859718322754],\"xaxis\":\"x4\",\"y\":[0.674],\"yaxis\":\"y4\",\"type\":\"scatter\"},{\"hovertemplate\":\"M=16<br>efSearch=4<br>efConstruction=4<br>search_time=%{x}<br>recall@3=%{y}<br>index_size=%{marker.size}<extra></extra>\",\"legendgroup\":\"16\",\"marker\":{\"color\":\"#FF9900\",\"size\":[1968.8076099999998],\"sizemode\":\"area\",\"sizeref\":13.867527777777777,\"symbol\":\"circle\"},\"mode\":\"markers\",\"name\":\"16\",\"orientation\":\"v\",\"showlegend\":true,\"x\":[0.028177738189697266],\"xaxis\":\"x13\",\"y\":[0.024],\"yaxis\":\"y13\",\"type\":\"scatter\"},{\"hovertemplate\":\"M=16<br>efSearch=4<br>efConstruction=16<br>search_time=%{x}<br>recall@3=%{y}<br>index_size=%{marker.size}<extra></extra>\",\"legendgroup\":\"16\",\"marker\":{\"color\":\"#FF9900\",\"size\":[1968.8076099999998],\"sizemode\":\"area\",\"sizeref\":13.867527777777777,\"symbol\":\"circle\"},\"mode\":\"markers\",\"name\":\"16\",\"orientation\":\"v\",\"showlegend\":false,\"x\":[0.08639931678771973],\"xaxis\":\"x14\",\"y\":[0.324],\"yaxis\":\"y14\",\"type\":\"scatter\"},{\"hovertemplate\":\"M=16<br>efSearch=4<br>efConstruction=40<br>search_time=%{x}<br>recall@3=%{y}<br>index_size=%{marker.size}<extra></extra>\",\"legendgroup\":\"16\",\"marker\":{\"color\":\"#FF9900\",\"size\":[1968.8076099999998],\"sizemode\":\"area\",\"sizeref\":13.867527777777777,\"symbol\":\"circle\"},\"mode\":\"markers\",\"name\":\"16\",\"orientation\":\"v\",\"showlegend\":false,\"x\":[0.047518253326416016],\"xaxis\":\"x15\",\"y\":[0.413],\"yaxis\":\"y15\",\"type\":\"scatter\"},{\"hovertemplate\":\"M=16<br>efSearch=4<br>efConstruction=76<br>search_time=%{x}<br>recall@3=%{y}<br>index_size=%{marker.size}<extra></extra>\",\"legendgroup\":\"16\",\"marker\":{\"color\":\"#FF9900\",\"size\":[1968.8076099999998],\"sizemode\":\"area\",\"sizeref\":13.867527777777777,\"symbol\":\"circle\"},\"mode\":\"markers\",\"name\":\"16\",\"orientation\":\"v\",\"showlegend\":false,\"x\":[0.06644058227539062],\"xaxis\":\"x16\",\"y\":[0.45],\"yaxis\":\"y16\",\"type\":\"scatter\"},{\"hovertemplate\":\"M=16<br>efSearch=16<br>efConstruction=4<br>search_time=%{x}<br>recall@3=%{y}<br>index_size=%{marker.size}<extra></extra>\",\"legendgroup\":\"16\",\"marker\":{\"color\":\"#FF9900\",\"size\":[1968.8076099999998],\"sizemode\":\"area\",\"sizeref\":13.867527777777777,\"symbol\":\"circle\"},\"mode\":\"markers\",\"name\":\"16\",\"orientation\":\"v\",\"showlegend\":false,\"x\":[0.04013562202453613],\"xaxis\":\"x9\",\"y\":[0.041],\"yaxis\":\"y9\",\"type\":\"scatter\"},{\"hovertemplate\":\"M=16<br>efSearch=16<br>efConstruction=16<br>search_time=%{x}<br>recall@3=%{y}<br>index_size=%{marker.size}<extra></extra>\",\"legendgroup\":\"16\",\"marker\":{\"color\":\"#FF9900\",\"size\":[1968.8076099999998],\"sizemode\":\"area\",\"sizeref\":13.867527777777777,\"symbol\":\"circle\"},\"mode\":\"markers\",\"name\":\"16\",\"orientation\":\"v\",\"showlegend\":false,\"x\":[0.08358335494995117],\"xaxis\":\"x10\",\"y\":[0.652],\"yaxis\":\"y10\",\"type\":\"scatter\"},{\"hovertemplate\":\"M=16<br>efSearch=16<br>efConstruction=40<br>search_time=%{x}<br>recall@3=%{y}<br>index_size=%{marker.size}<extra></extra>\",\"legendgroup\":\"16\",\"marker\":{\"color\":\"#FF9900\",\"size\":[1968.8076099999998],\"sizemode\":\"area\",\"sizeref\":13.867527777777777,\"symbol\":\"circle\"},\"mode\":\"markers\",\"name\":\"16\",\"orientation\":\"v\",\"showlegend\":false,\"x\":[0.08065915107727051],\"xaxis\":\"x11\",\"y\":[0.726],\"yaxis\":\"y11\",\"type\":\"scatter\"},{\"hovertemplate\":\"M=16<br>efSearch=16<br>efConstruction=76<br>search_time=%{x}<br>recall@3=%{y}<br>index_size=%{marker.size}<extra></extra>\",\"legendgroup\":\"16\",\"marker\":{\"color\":\"#FF9900\",\"size\":[1968.8076099999998],\"sizemode\":\"area\",\"sizeref\":13.867527777777777,\"symbol\":\"circle\"},\"mode\":\"markers\",\"name\":\"16\",\"orientation\":\"v\",\"showlegend\":false,\"x\":[0.08359575271606445],\"xaxis\":\"x12\",\"y\":[0.786],\"yaxis\":\"y12\",\"type\":\"scatter\"},{\"hovertemplate\":\"M=16<br>efSearch=40<br>efConstruction=4<br>search_time=%{x}<br>recall@3=%{y}<br>index_size=%{marker.size}<extra></extra>\",\"legendgroup\":\"16\",\"marker\":{\"color\":\"#FF9900\",\"size\":[1968.8076099999998],\"sizemode\":\"area\",\"sizeref\":13.867527777777777,\"symbol\":\"circle\"},\"mode\":\"markers\",\"name\":\"16\",\"orientation\":\"v\",\"showlegend\":false,\"x\":[0.08285140991210938],\"xaxis\":\"x5\",\"y\":[0.057],\"yaxis\":\"y5\",\"type\":\"scatter\"},{\"hovertemplate\":\"M=16<br>efSearch=40<br>efConstruction=16<br>search_time=%{x}<br>recall@3=%{y}<br>index_size=%{marker.size}<extra></extra>\",\"legendgroup\":\"16\",\"marker\":{\"color\":\"#FF9900\",\"size\":[1968.8076099999998],\"sizemode\":\"area\",\"sizeref\":13.867527777777777,\"symbol\":\"circle\"},\"mode\":\"markers\",\"name\":\"16\",\"orientation\":\"v\",\"showlegend\":false,\"x\":[0.17656922340393066],\"xaxis\":\"x6\",\"y\":[0.816],\"yaxis\":\"y6\",\"type\":\"scatter\"},{\"hovertemplate\":\"M=16<br>efSearch=40<br>efConstruction=40<br>search_time=%{x}<br>recall@3=%{y}<br>index_size=%{marker.size}<extra></extra>\",\"legendgroup\":\"16\",\"marker\":{\"color\":\"#FF9900\",\"size\":[1968.8076099999998],\"sizemode\":\"area\",\"sizeref\":13.867527777777777,\"symbol\":\"circle\"},\"mode\":\"markers\",\"name\":\"16\",\"orientation\":\"v\",\"showlegend\":false,\"x\":[0.16335773468017578],\"xaxis\":\"x7\",\"y\":[0.846],\"yaxis\":\"y7\",\"type\":\"scatter\"},{\"hovertemplate\":\"M=16<br>efSearch=40<br>efConstruction=76<br>search_time=%{x}<br>recall@3=%{y}<br>index_size=%{marker.size}<extra></extra>\",\"legendgroup\":\"16\",\"marker\":{\"color\":\"#FF9900\",\"size\":[1968.8076099999998],\"sizemode\":\"area\",\"sizeref\":13.867527777777777,\"symbol\":\"circle\"},\"mode\":\"markers\",\"name\":\"16\",\"orientation\":\"v\",\"showlegend\":false,\"x\":[0.17189502716064453],\"xaxis\":\"x8\",\"y\":[0.912],\"yaxis\":\"y8\",\"type\":\"scatter\"},{\"hovertemplate\":\"M=16<br>efSearch=76<br>efConstruction=4<br>search_time=%{x}<br>recall@3=%{y}<br>index_size=%{marker.size}<extra></extra>\",\"legendgroup\":\"16\",\"marker\":{\"color\":\"#FF9900\",\"size\":[1968.8076099999998],\"sizemode\":\"area\",\"sizeref\":13.867527777777777,\"symbol\":\"circle\"},\"mode\":\"markers\",\"name\":\"16\",\"orientation\":\"v\",\"showlegend\":false,\"x\":[0.14116430282592773],\"xaxis\":\"x\",\"y\":[0.063],\"yaxis\":\"y\",\"type\":\"scatter\"},{\"hovertemplate\":\"M=16<br>efSearch=76<br>efConstruction=16<br>search_time=%{x}<br>recall@3=%{y}<br>index_size=%{marker.size}<extra></extra>\",\"legendgroup\":\"16\",\"marker\":{\"color\":\"#FF9900\",\"size\":[1968.8076099999998],\"sizemode\":\"area\",\"sizeref\":13.867527777777777,\"symbol\":\"circle\"},\"mode\":\"markers\",\"name\":\"16\",\"orientation\":\"v\",\"showlegend\":false,\"x\":[0.28842926025390625],\"xaxis\":\"x2\",\"y\":[0.871],\"yaxis\":\"y2\",\"type\":\"scatter\"},{\"hovertemplate\":\"M=16<br>efSearch=76<br>efConstruction=40<br>search_time=%{x}<br>recall@3=%{y}<br>index_size=%{marker.size}<extra></extra>\",\"legendgroup\":\"16\",\"marker\":{\"color\":\"#FF9900\",\"size\":[1968.8076099999998],\"sizemode\":\"area\",\"sizeref\":13.867527777777777,\"symbol\":\"circle\"},\"mode\":\"markers\",\"name\":\"16\",\"orientation\":\"v\",\"showlegend\":false,\"x\":[0.27508544921875],\"xaxis\":\"x3\",\"y\":[0.896],\"yaxis\":\"y3\",\"type\":\"scatter\"},{\"hovertemplate\":\"M=16<br>efSearch=76<br>efConstruction=76<br>search_time=%{x}<br>recall@3=%{y}<br>index_size=%{marker.size}<extra></extra>\",\"legendgroup\":\"16\",\"marker\":{\"color\":\"#FF9900\",\"size\":[1968.8076099999998],\"sizemode\":\"area\",\"sizeref\":13.867527777777777,\"symbol\":\"circle\"},\"mode\":\"markers\",\"name\":\"16\",\"orientation\":\"v\",\"showlegend\":false,\"x\":[0.2898087501525879],\"xaxis\":\"x4\",\"y\":[0.939],\"yaxis\":\"y4\",\"type\":\"scatter\"},{\"hovertemplate\":\"M=32<br>efSearch=4<br>efConstruction=4<br>search_time=%{x}<br>recall@3=%{y}<br>index_size=%{marker.size}<extra></extra>\",\"legendgroup\":\"32\",\"marker\":{\"color\":\"#DC3912\",\"size\":[2352.4245459999997],\"sizemode\":\"area\",\"sizeref\":13.867527777777777,\"symbol\":\"circle\"},\"mode\":\"markers\",\"name\":\"32\",\"orientation\":\"v\",\"showlegend\":true,\"x\":[0.03139066696166992],\"xaxis\":\"x13\",\"y\":[0.045],\"yaxis\":\"y13\",\"type\":\"scatter\"},{\"hovertemplate\":\"M=32<br>efSearch=4<br>efConstruction=16<br>search_time=%{x}<br>recall@3=%{y}<br>index_size=%{marker.size}<extra></extra>\",\"legendgroup\":\"32\",\"marker\":{\"color\":\"#DC3912\",\"size\":[2352.4245459999997],\"sizemode\":\"area\",\"sizeref\":13.867527777777777,\"symbol\":\"circle\"},\"mode\":\"markers\",\"name\":\"32\",\"orientation\":\"v\",\"showlegend\":false,\"x\":[0.07705330848693848],\"xaxis\":\"x14\",\"y\":[0.464],\"yaxis\":\"y14\",\"type\":\"scatter\"},{\"hovertemplate\":\"M=32<br>efSearch=4<br>efConstruction=40<br>search_time=%{x}<br>recall@3=%{y}<br>index_size=%{marker.size}<extra></extra>\",\"legendgroup\":\"32\",\"marker\":{\"color\":\"#DC3912\",\"size\":[2352.4245459999997],\"sizemode\":\"area\",\"sizeref\":13.867527777777777,\"symbol\":\"circle\"},\"mode\":\"markers\",\"name\":\"32\",\"orientation\":\"v\",\"showlegend\":false,\"x\":[0.06300806999206543],\"xaxis\":\"x15\",\"y\":[0.588],\"yaxis\":\"y15\",\"type\":\"scatter\"},{\"hovertemplate\":\"M=32<br>efSearch=4<br>efConstruction=76<br>search_time=%{x}<br>recall@3=%{y}<br>index_size=%{marker.size}<extra></extra>\",\"legendgroup\":\"32\",\"marker\":{\"color\":\"#DC3912\",\"size\":[2352.4245459999997],\"sizemode\":\"area\",\"sizeref\":13.867527777777777,\"symbol\":\"circle\"},\"mode\":\"markers\",\"name\":\"32\",\"orientation\":\"v\",\"showlegend\":false,\"x\":[0.1129915714263916],\"xaxis\":\"x16\",\"y\":[0.558],\"yaxis\":\"y16\",\"type\":\"scatter\"},{\"hovertemplate\":\"M=32<br>efSearch=16<br>efConstruction=4<br>search_time=%{x}<br>recall@3=%{y}<br>index_size=%{marker.size}<extra></extra>\",\"legendgroup\":\"32\",\"marker\":{\"color\":\"#DC3912\",\"size\":[2352.4245459999997],\"sizemode\":\"area\",\"sizeref\":13.867527777777777,\"symbol\":\"circle\"},\"mode\":\"markers\",\"name\":\"32\",\"orientation\":\"v\",\"showlegend\":false,\"x\":[0.047579288482666016],\"xaxis\":\"x9\",\"y\":[0.061],\"yaxis\":\"y9\",\"type\":\"scatter\"},{\"hovertemplate\":\"M=32<br>efSearch=16<br>efConstruction=16<br>search_time=%{x}<br>recall@3=%{y}<br>index_size=%{marker.size}<extra></extra>\",\"legendgroup\":\"32\",\"marker\":{\"color\":\"#DC3912\",\"size\":[2352.4245459999997],\"sizemode\":\"area\",\"sizeref\":13.867527777777777,\"symbol\":\"circle\"},\"mode\":\"markers\",\"name\":\"32\",\"orientation\":\"v\",\"showlegend\":false,\"x\":[0.10351157188415527],\"xaxis\":\"x10\",\"y\":[0.758],\"yaxis\":\"y10\",\"type\":\"scatter\"},{\"hovertemplate\":\"M=32<br>efSearch=16<br>efConstruction=40<br>search_time=%{x}<br>recall@3=%{y}<br>index_size=%{marker.size}<extra></extra>\",\"legendgroup\":\"32\",\"marker\":{\"color\":\"#DC3912\",\"size\":[2352.4245459999997],\"sizemode\":\"area\",\"sizeref\":13.867527777777777,\"symbol\":\"circle\"},\"mode\":\"markers\",\"name\":\"32\",\"orientation\":\"v\",\"showlegend\":false,\"x\":[0.15964984893798828],\"xaxis\":\"x11\",\"y\":[0.846],\"yaxis\":\"y11\",\"type\":\"scatter\"},{\"hovertemplate\":\"M=32<br>efSearch=16<br>efConstruction=76<br>search_time=%{x}<br>recall@3=%{y}<br>index_size=%{marker.size}<extra></extra>\",\"legendgroup\":\"32\",\"marker\":{\"color\":\"#DC3912\",\"size\":[2352.4245459999997],\"sizemode\":\"area\",\"sizeref\":13.867527777777777,\"symbol\":\"circle\"},\"mode\":\"markers\",\"name\":\"32\",\"orientation\":\"v\",\"showlegend\":false,\"x\":[0.2747519016265869],\"xaxis\":\"x12\",\"y\":[0.849],\"yaxis\":\"y12\",\"type\":\"scatter\"},{\"hovertemplate\":\"M=32<br>efSearch=40<br>efConstruction=4<br>search_time=%{x}<br>recall@3=%{y}<br>index_size=%{marker.size}<extra></extra>\",\"legendgroup\":\"32\",\"marker\":{\"color\":\"#DC3912\",\"size\":[2352.4245459999997],\"sizemode\":\"area\",\"sizeref\":13.867527777777777,\"symbol\":\"circle\"},\"mode\":\"markers\",\"name\":\"32\",\"orientation\":\"v\",\"showlegend\":false,\"x\":[0.09312105178833008],\"xaxis\":\"x5\",\"y\":[0.075],\"yaxis\":\"y5\",\"type\":\"scatter\"},{\"hovertemplate\":\"M=32<br>efSearch=40<br>efConstruction=16<br>search_time=%{x}<br>recall@3=%{y}<br>index_size=%{marker.size}<extra></extra>\",\"legendgroup\":\"32\",\"marker\":{\"color\":\"#DC3912\",\"size\":[2352.4245459999997],\"sizemode\":\"area\",\"sizeref\":13.867527777777777,\"symbol\":\"circle\"},\"mode\":\"markers\",\"name\":\"32\",\"orientation\":\"v\",\"showlegend\":false,\"x\":[0.207503080368042],\"xaxis\":\"x6\",\"y\":[0.883],\"yaxis\":\"y6\",\"type\":\"scatter\"},{\"hovertemplate\":\"M=32<br>efSearch=40<br>efConstruction=40<br>search_time=%{x}<br>recall@3=%{y}<br>index_size=%{marker.size}<extra></extra>\",\"legendgroup\":\"32\",\"marker\":{\"color\":\"#DC3912\",\"size\":[2352.4245459999997],\"sizemode\":\"area\",\"sizeref\":13.867527777777777,\"symbol\":\"circle\"},\"mode\":\"markers\",\"name\":\"32\",\"orientation\":\"v\",\"showlegend\":false,\"x\":[0.4899125099182129],\"xaxis\":\"x7\",\"y\":[0.935],\"yaxis\":\"y7\",\"type\":\"scatter\"},{\"hovertemplate\":\"M=32<br>efSearch=40<br>efConstruction=76<br>search_time=%{x}<br>recall@3=%{y}<br>index_size=%{marker.size}<extra></extra>\",\"legendgroup\":\"32\",\"marker\":{\"color\":\"#DC3912\",\"size\":[2352.4245459999997],\"sizemode\":\"area\",\"sizeref\":13.867527777777777,\"symbol\":\"circle\"},\"mode\":\"markers\",\"name\":\"32\",\"orientation\":\"v\",\"showlegend\":false,\"x\":[0.21726465225219727],\"xaxis\":\"x8\",\"y\":[0.921],\"yaxis\":\"y8\",\"type\":\"scatter\"},{\"hovertemplate\":\"M=32<br>efSearch=76<br>efConstruction=4<br>search_time=%{x}<br>recall@3=%{y}<br>index_size=%{marker.size}<extra></extra>\",\"legendgroup\":\"32\",\"marker\":{\"color\":\"#DC3912\",\"size\":[2352.4245459999997],\"sizemode\":\"area\",\"sizeref\":13.867527777777777,\"symbol\":\"circle\"},\"mode\":\"markers\",\"name\":\"32\",\"orientation\":\"v\",\"showlegend\":false,\"x\":[0.15813112258911133],\"xaxis\":\"x\",\"y\":[0.088],\"yaxis\":\"y\",\"type\":\"scatter\"},{\"hovertemplate\":\"M=32<br>efSearch=76<br>efConstruction=16<br>search_time=%{x}<br>recall@3=%{y}<br>index_size=%{marker.size}<extra></extra>\",\"legendgroup\":\"32\",\"marker\":{\"color\":\"#DC3912\",\"size\":[2352.4245459999997],\"sizemode\":\"area\",\"sizeref\":13.867527777777777,\"symbol\":\"circle\"},\"mode\":\"markers\",\"name\":\"32\",\"orientation\":\"v\",\"showlegend\":false,\"x\":[0.34975409507751465],\"xaxis\":\"x2\",\"y\":[0.923],\"yaxis\":\"y2\",\"type\":\"scatter\"},{\"hovertemplate\":\"M=32<br>efSearch=76<br>efConstruction=40<br>search_time=%{x}<br>recall@3=%{y}<br>index_size=%{marker.size}<extra></extra>\",\"legendgroup\":\"32\",\"marker\":{\"color\":\"#DC3912\",\"size\":[2352.4245459999997],\"sizemode\":\"area\",\"sizeref\":13.867527777777777,\"symbol\":\"circle\"},\"mode\":\"markers\",\"name\":\"32\",\"orientation\":\"v\",\"showlegend\":false,\"x\":[0.6785674095153809],\"xaxis\":\"x3\",\"y\":[0.964],\"yaxis\":\"y3\",\"type\":\"scatter\"},{\"hovertemplate\":\"M=32<br>efSearch=76<br>efConstruction=76<br>search_time=%{x}<br>recall@3=%{y}<br>index_size=%{marker.size}<extra></extra>\",\"legendgroup\":\"32\",\"marker\":{\"color\":\"#DC3912\",\"size\":[2352.4245459999997],\"sizemode\":\"area\",\"sizeref\":13.867527777777777,\"symbol\":\"circle\"},\"mode\":\"markers\",\"name\":\"32\",\"orientation\":\"v\",\"showlegend\":false,\"x\":[0.5038113594055176],\"xaxis\":\"x4\",\"y\":[0.952],\"yaxis\":\"y4\",\"type\":\"scatter\"},{\"hovertemplate\":\"M=64<br>efSearch=4<br>efConstruction=4<br>search_time=%{x}<br>recall@3=%{y}<br>index_size=%{marker.size}<extra></extra>\",\"legendgroup\":\"64\",\"marker\":{\"color\":\"#990099\",\"size\":[3120.19375],\"sizemode\":\"area\",\"sizeref\":13.867527777777777,\"symbol\":\"circle\"},\"mode\":\"markers\",\"name\":\"64\",\"orientation\":\"v\",\"showlegend\":true,\"x\":[0.037286996841430664],\"xaxis\":\"x13\",\"y\":[0.037],\"yaxis\":\"y13\",\"type\":\"scatter\"},{\"hovertemplate\":\"M=64<br>efSearch=4<br>efConstruction=16<br>search_time=%{x}<br>recall@3=%{y}<br>index_size=%{marker.size}<extra></extra>\",\"legendgroup\":\"64\",\"marker\":{\"color\":\"#990099\",\"size\":[3120.19375],\"sizemode\":\"area\",\"sizeref\":13.867527777777777,\"symbol\":\"circle\"},\"mode\":\"markers\",\"name\":\"64\",\"orientation\":\"v\",\"showlegend\":false,\"x\":[0.21562671661376953],\"xaxis\":\"x14\",\"y\":[0.471],\"yaxis\":\"y14\",\"type\":\"scatter\"},{\"hovertemplate\":\"M=64<br>efSearch=4<br>efConstruction=40<br>search_time=%{x}<br>recall@3=%{y}<br>index_size=%{marker.size}<extra></extra>\",\"legendgroup\":\"64\",\"marker\":{\"color\":\"#990099\",\"size\":[3120.19375],\"sizemode\":\"area\",\"sizeref\":13.867527777777777,\"symbol\":\"circle\"},\"mode\":\"markers\",\"name\":\"64\",\"orientation\":\"v\",\"showlegend\":false,\"x\":[0.13775253295898438],\"xaxis\":\"x15\",\"y\":[0.709],\"yaxis\":\"y15\",\"type\":\"scatter\"},{\"hovertemplate\":\"M=64<br>efSearch=4<br>efConstruction=76<br>search_time=%{x}<br>recall@3=%{y}<br>index_size=%{marker.size}<extra></extra>\",\"legendgroup\":\"64\",\"marker\":{\"color\":\"#990099\",\"size\":[3120.19375],\"sizemode\":\"area\",\"sizeref\":13.867527777777777,\"symbol\":\"circle\"},\"mode\":\"markers\",\"name\":\"64\",\"orientation\":\"v\",\"showlegend\":false,\"x\":[0.12216734886169434],\"xaxis\":\"x16\",\"y\":[0.738],\"yaxis\":\"y16\",\"type\":\"scatter\"},{\"hovertemplate\":\"M=64<br>efSearch=16<br>efConstruction=4<br>search_time=%{x}<br>recall@3=%{y}<br>index_size=%{marker.size}<extra></extra>\",\"legendgroup\":\"64\",\"marker\":{\"color\":\"#990099\",\"size\":[3120.19375],\"sizemode\":\"area\",\"sizeref\":13.867527777777777,\"symbol\":\"circle\"},\"mode\":\"markers\",\"name\":\"64\",\"orientation\":\"v\",\"showlegend\":false,\"x\":[0.11435699462890625],\"xaxis\":\"x9\",\"y\":[0.049],\"yaxis\":\"y9\",\"type\":\"scatter\"},{\"hovertemplate\":\"M=64<br>efSearch=16<br>efConstruction=16<br>search_time=%{x}<br>recall@3=%{y}<br>index_size=%{marker.size}<extra></extra>\",\"legendgroup\":\"64\",\"marker\":{\"color\":\"#990099\",\"size\":[3120.19375],\"sizemode\":\"area\",\"sizeref\":13.867527777777777,\"symbol\":\"circle\"},\"mode\":\"markers\",\"name\":\"64\",\"orientation\":\"v\",\"showlegend\":false,\"x\":[0.2710235118865967],\"xaxis\":\"x10\",\"y\":[0.768],\"yaxis\":\"y10\",\"type\":\"scatter\"},{\"hovertemplate\":\"M=64<br>efSearch=16<br>efConstruction=40<br>search_time=%{x}<br>recall@3=%{y}<br>index_size=%{marker.size}<extra></extra>\",\"legendgroup\":\"64\",\"marker\":{\"color\":\"#990099\",\"size\":[3120.19375],\"sizemode\":\"area\",\"sizeref\":13.867527777777777,\"symbol\":\"circle\"},\"mode\":\"markers\",\"name\":\"64\",\"orientation\":\"v\",\"showlegend\":false,\"x\":[0.19754838943481445],\"xaxis\":\"x11\",\"y\":[0.887],\"yaxis\":\"y11\",\"type\":\"scatter\"},{\"hovertemplate\":\"M=64<br>efSearch=16<br>efConstruction=76<br>search_time=%{x}<br>recall@3=%{y}<br>index_size=%{marker.size}<extra></extra>\",\"legendgroup\":\"64\",\"marker\":{\"color\":\"#990099\",\"size\":[3120.19375],\"sizemode\":\"area\",\"sizeref\":13.867527777777777,\"symbol\":\"circle\"},\"mode\":\"markers\",\"name\":\"64\",\"orientation\":\"v\",\"showlegend\":false,\"x\":[0.21347618103027344],\"xaxis\":\"x12\",\"y\":[0.918],\"yaxis\":\"y12\",\"type\":\"scatter\"},{\"hovertemplate\":\"M=64<br>efSearch=40<br>efConstruction=4<br>search_time=%{x}<br>recall@3=%{y}<br>index_size=%{marker.size}<extra></extra>\",\"legendgroup\":\"64\",\"marker\":{\"color\":\"#990099\",\"size\":[3120.19375],\"sizemode\":\"area\",\"sizeref\":13.867527777777777,\"symbol\":\"circle\"},\"mode\":\"markers\",\"name\":\"64\",\"orientation\":\"v\",\"showlegend\":false,\"x\":[0.1025090217590332],\"xaxis\":\"x5\",\"y\":[0.062],\"yaxis\":\"y5\",\"type\":\"scatter\"},{\"hovertemplate\":\"M=64<br>efSearch=40<br>efConstruction=16<br>search_time=%{x}<br>recall@3=%{y}<br>index_size=%{marker.size}<extra></extra>\",\"legendgroup\":\"64\",\"marker\":{\"color\":\"#990099\",\"size\":[3120.19375],\"sizemode\":\"area\",\"sizeref\":13.867527777777777,\"symbol\":\"circle\"},\"mode\":\"markers\",\"name\":\"64\",\"orientation\":\"v\",\"showlegend\":false,\"x\":[0.4639923572540283],\"xaxis\":\"x6\",\"y\":[0.891],\"yaxis\":\"y6\",\"type\":\"scatter\"},{\"hovertemplate\":\"M=64<br>efSearch=40<br>efConstruction=40<br>search_time=%{x}<br>recall@3=%{y}<br>index_size=%{marker.size}<extra></extra>\",\"legendgroup\":\"64\",\"marker\":{\"color\":\"#990099\",\"size\":[3120.19375],\"sizemode\":\"area\",\"sizeref\":13.867527777777777,\"symbol\":\"circle\"},\"mode\":\"markers\",\"name\":\"64\",\"orientation\":\"v\",\"showlegend\":false,\"x\":[0.3768594264984131],\"xaxis\":\"x7\",\"y\":[0.949],\"yaxis\":\"y7\",\"type\":\"scatter\"},{\"hovertemplate\":\"M=64<br>efSearch=40<br>efConstruction=76<br>search_time=%{x}<br>recall@3=%{y}<br>index_size=%{marker.size}<extra></extra>\",\"legendgroup\":\"64\",\"marker\":{\"color\":\"#990099\",\"size\":[3120.19375],\"sizemode\":\"area\",\"sizeref\":13.867527777777777,\"symbol\":\"circle\"},\"mode\":\"markers\",\"name\":\"64\",\"orientation\":\"v\",\"showlegend\":false,\"x\":[0.43504786491394043],\"xaxis\":\"x8\",\"y\":[0.97],\"yaxis\":\"y8\",\"type\":\"scatter\"},{\"hovertemplate\":\"M=64<br>efSearch=76<br>efConstruction=4<br>search_time=%{x}<br>recall@3=%{y}<br>index_size=%{marker.size}<extra></extra>\",\"legendgroup\":\"64\",\"marker\":{\"color\":\"#990099\",\"size\":[3120.19375],\"sizemode\":\"area\",\"sizeref\":13.867527777777777,\"symbol\":\"circle\"},\"mode\":\"markers\",\"name\":\"64\",\"orientation\":\"v\",\"showlegend\":false,\"x\":[0.17495179176330566],\"xaxis\":\"x\",\"y\":[0.072],\"yaxis\":\"y\",\"type\":\"scatter\"},{\"hovertemplate\":\"M=64<br>efSearch=76<br>efConstruction=16<br>search_time=%{x}<br>recall@3=%{y}<br>index_size=%{marker.size}<extra></extra>\",\"legendgroup\":\"64\",\"marker\":{\"color\":\"#990099\",\"size\":[3120.19375],\"sizemode\":\"area\",\"sizeref\":13.867527777777777,\"symbol\":\"circle\"},\"mode\":\"markers\",\"name\":\"64\",\"orientation\":\"v\",\"showlegend\":false,\"x\":[0.4009709358215332],\"xaxis\":\"x2\",\"y\":[0.926],\"yaxis\":\"y2\",\"type\":\"scatter\"},{\"hovertemplate\":\"M=64<br>efSearch=76<br>efConstruction=40<br>search_time=%{x}<br>recall@3=%{y}<br>index_size=%{marker.size}<extra></extra>\",\"legendgroup\":\"64\",\"marker\":{\"color\":\"#990099\",\"size\":[3120.19375],\"sizemode\":\"area\",\"sizeref\":13.867527777777777,\"symbol\":\"circle\"},\"mode\":\"markers\",\"name\":\"64\",\"orientation\":\"v\",\"showlegend\":false,\"x\":[0.6303355693817139],\"xaxis\":\"x3\",\"y\":[0.977],\"yaxis\":\"y3\",\"type\":\"scatter\"},{\"hovertemplate\":\"M=64<br>efSearch=76<br>efConstruction=76<br>search_time=%{x}<br>recall@3=%{y}<br>index_size=%{marker.size}<extra></extra>\",\"legendgroup\":\"64\",\"marker\":{\"color\":\"#990099\",\"size\":[3120.19375],\"sizemode\":\"area\",\"sizeref\":13.867527777777777,\"symbol\":\"circle\"},\"mode\":\"markers\",\"name\":\"64\",\"orientation\":\"v\",\"showlegend\":false,\"x\":[0.7314002513885498],\"xaxis\":\"x4\",\"y\":[0.992],\"yaxis\":\"y4\",\"type\":\"scatter\"}],                        {\"template\":{\"data\":{\"barpolar\":[{\"marker\":{\"line\":{\"color\":\"white\",\"width\":0.5},\"pattern\":{\"fillmode\":\"overlay\",\"size\":10,\"solidity\":0.2}},\"type\":\"barpolar\"}],\"bar\":[{\"error_x\":{\"color\":\"rgb(36,36,36)\"},\"error_y\":{\"color\":\"rgb(36,36,36)\"},\"marker\":{\"line\":{\"color\":\"white\",\"width\":0.5},\"pattern\":{\"fillmode\":\"overlay\",\"size\":10,\"solidity\":0.2}},\"type\":\"bar\"}],\"carpet\":[{\"aaxis\":{\"endlinecolor\":\"rgb(36,36,36)\",\"gridcolor\":\"white\",\"linecolor\":\"white\",\"minorgridcolor\":\"white\",\"startlinecolor\":\"rgb(36,36,36)\"},\"baxis\":{\"endlinecolor\":\"rgb(36,36,36)\",\"gridcolor\":\"white\",\"linecolor\":\"white\",\"minorgridcolor\":\"white\",\"startlinecolor\":\"rgb(36,36,36)\"},\"type\":\"carpet\"}],\"choropleth\":[{\"colorbar\":{\"outlinewidth\":1,\"tickcolor\":\"rgb(36,36,36)\",\"ticks\":\"outside\"},\"type\":\"choropleth\"}],\"contourcarpet\":[{\"colorbar\":{\"outlinewidth\":1,\"tickcolor\":\"rgb(36,36,36)\",\"ticks\":\"outside\"},\"type\":\"contourcarpet\"}],\"contour\":[{\"colorbar\":{\"outlinewidth\":1,\"tickcolor\":\"rgb(36,36,36)\",\"ticks\":\"outside\"},\"colorscale\":[[0.0,\"#440154\"],[0.1111111111111111,\"#482878\"],[0.2222222222222222,\"#3e4989\"],[0.3333333333333333,\"#31688e\"],[0.4444444444444444,\"#26828e\"],[0.5555555555555556,\"#1f9e89\"],[0.6666666666666666,\"#35b779\"],[0.7777777777777778,\"#6ece58\"],[0.8888888888888888,\"#b5de2b\"],[1.0,\"#fde725\"]],\"type\":\"contour\"}],\"heatmapgl\":[{\"colorbar\":{\"outlinewidth\":1,\"tickcolor\":\"rgb(36,36,36)\",\"ticks\":\"outside\"},\"colorscale\":[[0.0,\"#440154\"],[0.1111111111111111,\"#482878\"],[0.2222222222222222,\"#3e4989\"],[0.3333333333333333,\"#31688e\"],[0.4444444444444444,\"#26828e\"],[0.5555555555555556,\"#1f9e89\"],[0.6666666666666666,\"#35b779\"],[0.7777777777777778,\"#6ece58\"],[0.8888888888888888,\"#b5de2b\"],[1.0,\"#fde725\"]],\"type\":\"heatmapgl\"}],\"heatmap\":[{\"colorbar\":{\"outlinewidth\":1,\"tickcolor\":\"rgb(36,36,36)\",\"ticks\":\"outside\"},\"colorscale\":[[0.0,\"#440154\"],[0.1111111111111111,\"#482878\"],[0.2222222222222222,\"#3e4989\"],[0.3333333333333333,\"#31688e\"],[0.4444444444444444,\"#26828e\"],[0.5555555555555556,\"#1f9e89\"],[0.6666666666666666,\"#35b779\"],[0.7777777777777778,\"#6ece58\"],[0.8888888888888888,\"#b5de2b\"],[1.0,\"#fde725\"]],\"type\":\"heatmap\"}],\"histogram2dcontour\":[{\"colorbar\":{\"outlinewidth\":1,\"tickcolor\":\"rgb(36,36,36)\",\"ticks\":\"outside\"},\"colorscale\":[[0.0,\"#440154\"],[0.1111111111111111,\"#482878\"],[0.2222222222222222,\"#3e4989\"],[0.3333333333333333,\"#31688e\"],[0.4444444444444444,\"#26828e\"],[0.5555555555555556,\"#1f9e89\"],[0.6666666666666666,\"#35b779\"],[0.7777777777777778,\"#6ece58\"],[0.8888888888888888,\"#b5de2b\"],[1.0,\"#fde725\"]],\"type\":\"histogram2dcontour\"}],\"histogram2d\":[{\"colorbar\":{\"outlinewidth\":1,\"tickcolor\":\"rgb(36,36,36)\",\"ticks\":\"outside\"},\"colorscale\":[[0.0,\"#440154\"],[0.1111111111111111,\"#482878\"],[0.2222222222222222,\"#3e4989\"],[0.3333333333333333,\"#31688e\"],[0.4444444444444444,\"#26828e\"],[0.5555555555555556,\"#1f9e89\"],[0.6666666666666666,\"#35b779\"],[0.7777777777777778,\"#6ece58\"],[0.8888888888888888,\"#b5de2b\"],[1.0,\"#fde725\"]],\"type\":\"histogram2d\"}],\"histogram\":[{\"marker\":{\"line\":{\"color\":\"white\",\"width\":0.6}},\"type\":\"histogram\"}],\"mesh3d\":[{\"colorbar\":{\"outlinewidth\":1,\"tickcolor\":\"rgb(36,36,36)\",\"ticks\":\"outside\"},\"type\":\"mesh3d\"}],\"parcoords\":[{\"line\":{\"colorbar\":{\"outlinewidth\":1,\"tickcolor\":\"rgb(36,36,36)\",\"ticks\":\"outside\"}},\"type\":\"parcoords\"}],\"pie\":[{\"automargin\":true,\"type\":\"pie\"}],\"scatter3d\":[{\"line\":{\"colorbar\":{\"outlinewidth\":1,\"tickcolor\":\"rgb(36,36,36)\",\"ticks\":\"outside\"}},\"marker\":{\"colorbar\":{\"outlinewidth\":1,\"tickcolor\":\"rgb(36,36,36)\",\"ticks\":\"outside\"}},\"type\":\"scatter3d\"}],\"scattercarpet\":[{\"marker\":{\"colorbar\":{\"outlinewidth\":1,\"tickcolor\":\"rgb(36,36,36)\",\"ticks\":\"outside\"}},\"type\":\"scattercarpet\"}],\"scattergeo\":[{\"marker\":{\"colorbar\":{\"outlinewidth\":1,\"tickcolor\":\"rgb(36,36,36)\",\"ticks\":\"outside\"}},\"type\":\"scattergeo\"}],\"scattergl\":[{\"marker\":{\"colorbar\":{\"outlinewidth\":1,\"tickcolor\":\"rgb(36,36,36)\",\"ticks\":\"outside\"}},\"type\":\"scattergl\"}],\"scattermapbox\":[{\"marker\":{\"colorbar\":{\"outlinewidth\":1,\"tickcolor\":\"rgb(36,36,36)\",\"ticks\":\"outside\"}},\"type\":\"scattermapbox\"}],\"scatterpolargl\":[{\"marker\":{\"colorbar\":{\"outlinewidth\":1,\"tickcolor\":\"rgb(36,36,36)\",\"ticks\":\"outside\"}},\"type\":\"scatterpolargl\"}],\"scatterpolar\":[{\"marker\":{\"colorbar\":{\"outlinewidth\":1,\"tickcolor\":\"rgb(36,36,36)\",\"ticks\":\"outside\"}},\"type\":\"scatterpolar\"}],\"scatter\":[{\"fillpattern\":{\"fillmode\":\"overlay\",\"size\":10,\"solidity\":0.2},\"type\":\"scatter\"}],\"scatterternary\":[{\"marker\":{\"colorbar\":{\"outlinewidth\":1,\"tickcolor\":\"rgb(36,36,36)\",\"ticks\":\"outside\"}},\"type\":\"scatterternary\"}],\"surface\":[{\"colorbar\":{\"outlinewidth\":1,\"tickcolor\":\"rgb(36,36,36)\",\"ticks\":\"outside\"},\"colorscale\":[[0.0,\"#440154\"],[0.1111111111111111,\"#482878\"],[0.2222222222222222,\"#3e4989\"],[0.3333333333333333,\"#31688e\"],[0.4444444444444444,\"#26828e\"],[0.5555555555555556,\"#1f9e89\"],[0.6666666666666666,\"#35b779\"],[0.7777777777777778,\"#6ece58\"],[0.8888888888888888,\"#b5de2b\"],[1.0,\"#fde725\"]],\"type\":\"surface\"}],\"table\":[{\"cells\":{\"fill\":{\"color\":\"rgb(237,237,237)\"},\"line\":{\"color\":\"white\"}},\"header\":{\"fill\":{\"color\":\"rgb(217,217,217)\"},\"line\":{\"color\":\"white\"}},\"type\":\"table\"}]},\"layout\":{\"annotationdefaults\":{\"arrowhead\":0,\"arrowwidth\":1},\"autotypenumbers\":\"strict\",\"coloraxis\":{\"colorbar\":{\"outlinewidth\":1,\"tickcolor\":\"rgb(36,36,36)\",\"ticks\":\"outside\"}},\"colorscale\":{\"diverging\":[[0.0,\"rgb(103,0,31)\"],[0.1,\"rgb(178,24,43)\"],[0.2,\"rgb(214,96,77)\"],[0.3,\"rgb(244,165,130)\"],[0.4,\"rgb(253,219,199)\"],[0.5,\"rgb(247,247,247)\"],[0.6,\"rgb(209,229,240)\"],[0.7,\"rgb(146,197,222)\"],[0.8,\"rgb(67,147,195)\"],[0.9,\"rgb(33,102,172)\"],[1.0,\"rgb(5,48,97)\"]],\"sequential\":[[0.0,\"#440154\"],[0.1111111111111111,\"#482878\"],[0.2222222222222222,\"#3e4989\"],[0.3333333333333333,\"#31688e\"],[0.4444444444444444,\"#26828e\"],[0.5555555555555556,\"#1f9e89\"],[0.6666666666666666,\"#35b779\"],[0.7777777777777778,\"#6ece58\"],[0.8888888888888888,\"#b5de2b\"],[1.0,\"#fde725\"]],\"sequentialminus\":[[0.0,\"#440154\"],[0.1111111111111111,\"#482878\"],[0.2222222222222222,\"#3e4989\"],[0.3333333333333333,\"#31688e\"],[0.4444444444444444,\"#26828e\"],[0.5555555555555556,\"#1f9e89\"],[0.6666666666666666,\"#35b779\"],[0.7777777777777778,\"#6ece58\"],[0.8888888888888888,\"#b5de2b\"],[1.0,\"#fde725\"]]},\"colorway\":[\"#1F77B4\",\"#FF7F0E\",\"#2CA02C\",\"#D62728\",\"#9467BD\",\"#8C564B\",\"#E377C2\",\"#7F7F7F\",\"#BCBD22\",\"#17BECF\"],\"font\":{\"color\":\"rgb(36,36,36)\"},\"geo\":{\"bgcolor\":\"white\",\"lakecolor\":\"white\",\"landcolor\":\"white\",\"showlakes\":true,\"showland\":true,\"subunitcolor\":\"white\"},\"hoverlabel\":{\"align\":\"left\"},\"hovermode\":\"closest\",\"mapbox\":{\"style\":\"light\"},\"paper_bgcolor\":\"white\",\"plot_bgcolor\":\"white\",\"polar\":{\"angularaxis\":{\"gridcolor\":\"rgb(232,232,232)\",\"linecolor\":\"rgb(36,36,36)\",\"showgrid\":false,\"showline\":true,\"ticks\":\"outside\"},\"bgcolor\":\"white\",\"radialaxis\":{\"gridcolor\":\"rgb(232,232,232)\",\"linecolor\":\"rgb(36,36,36)\",\"showgrid\":false,\"showline\":true,\"ticks\":\"outside\"}},\"scene\":{\"xaxis\":{\"backgroundcolor\":\"white\",\"gridcolor\":\"rgb(232,232,232)\",\"gridwidth\":2,\"linecolor\":\"rgb(36,36,36)\",\"showbackground\":true,\"showgrid\":false,\"showline\":true,\"ticks\":\"outside\",\"zeroline\":false,\"zerolinecolor\":\"rgb(36,36,36)\"},\"yaxis\":{\"backgroundcolor\":\"white\",\"gridcolor\":\"rgb(232,232,232)\",\"gridwidth\":2,\"linecolor\":\"rgb(36,36,36)\",\"showbackground\":true,\"showgrid\":false,\"showline\":true,\"ticks\":\"outside\",\"zeroline\":false,\"zerolinecolor\":\"rgb(36,36,36)\"},\"zaxis\":{\"backgroundcolor\":\"white\",\"gridcolor\":\"rgb(232,232,232)\",\"gridwidth\":2,\"linecolor\":\"rgb(36,36,36)\",\"showbackground\":true,\"showgrid\":false,\"showline\":true,\"ticks\":\"outside\",\"zeroline\":false,\"zerolinecolor\":\"rgb(36,36,36)\"}},\"shapedefaults\":{\"fillcolor\":\"black\",\"line\":{\"width\":0},\"opacity\":0.3},\"ternary\":{\"aaxis\":{\"gridcolor\":\"rgb(232,232,232)\",\"linecolor\":\"rgb(36,36,36)\",\"showgrid\":false,\"showline\":true,\"ticks\":\"outside\"},\"baxis\":{\"gridcolor\":\"rgb(232,232,232)\",\"linecolor\":\"rgb(36,36,36)\",\"showgrid\":false,\"showline\":true,\"ticks\":\"outside\"},\"bgcolor\":\"white\",\"caxis\":{\"gridcolor\":\"rgb(232,232,232)\",\"linecolor\":\"rgb(36,36,36)\",\"showgrid\":false,\"showline\":true,\"ticks\":\"outside\"}},\"title\":{\"x\":0.05},\"xaxis\":{\"automargin\":true,\"gridcolor\":\"rgb(232,232,232)\",\"linecolor\":\"rgb(36,36,36)\",\"showgrid\":false,\"showline\":true,\"ticks\":\"outside\",\"title\":{\"standoff\":15},\"zeroline\":false,\"zerolinecolor\":\"rgb(36,36,36)\"},\"yaxis\":{\"automargin\":true,\"gridcolor\":\"rgb(232,232,232)\",\"linecolor\":\"rgb(36,36,36)\",\"showgrid\":false,\"showline\":true,\"ticks\":\"outside\",\"title\":{\"standoff\":15},\"zeroline\":false,\"zerolinecolor\":\"rgb(36,36,36)\"}}},\"xaxis\":{\"anchor\":\"y\",\"domain\":[0.0,0.22999999999999998],\"title\":{\"text\":\"\"},\"showgrid\":true,\"gridwidth\":1,\"gridcolor\":\"#F0F0F0\",\"linecolor\":\"darkgrey\",\"ticks\":\"\"},\"yaxis\":{\"anchor\":\"x\",\"domain\":[0.0,0.235],\"title\":{\"text\":\"<B>                             1-recall@3\",\"standoff\":5},\"showgrid\":true,\"gridwidth\":1,\"gridcolor\":\"#F0F0F0\",\"linecolor\":\"darkgrey\",\"ticks\":\"\",\"range\":[0,1.1],\"tick0\":0.2,\"dtick\":0.2},\"xaxis2\":{\"anchor\":\"y2\",\"domain\":[0.24999999999999997,0.48],\"matches\":\"x\",\"title\":{\"text\":\"<B>search time (ms/query)\",\"standoff\":10},\"showgrid\":true,\"gridwidth\":1,\"gridcolor\":\"#F0F0F0\",\"linecolor\":\"darkgrey\",\"ticks\":\"\"},\"yaxis2\":{\"anchor\":\"x2\",\"domain\":[0.0,0.235],\"matches\":\"y\",\"showticklabels\":false,\"showgrid\":true,\"gridwidth\":1,\"gridcolor\":\"#F0F0F0\",\"linecolor\":\"darkgrey\",\"ticks\":\"\",\"range\":[0,1.1],\"tick0\":0.2,\"dtick\":0.2,\"title\":{\"text\":\"\"}},\"xaxis3\":{\"anchor\":\"y3\",\"domain\":[0.49999999999999994,0.73],\"matches\":\"x\",\"title\":{\"text\":\"\"},\"showgrid\":true,\"gridwidth\":1,\"gridcolor\":\"#F0F0F0\",\"linecolor\":\"darkgrey\",\"ticks\":\"\"},\"yaxis3\":{\"anchor\":\"x3\",\"domain\":[0.0,0.235],\"matches\":\"y\",\"showticklabels\":false,\"showgrid\":true,\"gridwidth\":1,\"gridcolor\":\"#F0F0F0\",\"linecolor\":\"darkgrey\",\"ticks\":\"\",\"range\":[0,1.1],\"tick0\":0.2,\"dtick\":0.2,\"title\":{\"text\":\"\"}},\"xaxis4\":{\"anchor\":\"y4\",\"domain\":[0.75,0.98],\"matches\":\"x\",\"title\":{\"text\":\"\"},\"showgrid\":true,\"gridwidth\":1,\"gridcolor\":\"#F0F0F0\",\"linecolor\":\"darkgrey\",\"ticks\":\"\"},\"yaxis4\":{\"anchor\":\"x4\",\"domain\":[0.0,0.235],\"matches\":\"y\",\"showticklabels\":false,\"showgrid\":true,\"gridwidth\":1,\"gridcolor\":\"#F0F0F0\",\"linecolor\":\"darkgrey\",\"ticks\":\"\",\"range\":[0,1.1],\"tick0\":0.2,\"dtick\":0.2,\"title\":{\"text\":\"\"}},\"xaxis5\":{\"anchor\":\"y5\",\"domain\":[0.0,0.22999999999999998],\"matches\":\"x\",\"showticklabels\":false,\"showgrid\":true,\"gridwidth\":1,\"gridcolor\":\"#F0F0F0\",\"linecolor\":\"darkgrey\",\"ticks\":\"\",\"title\":{\"text\":\"\"}},\"yaxis5\":{\"anchor\":\"x5\",\"domain\":[0.255,0.49],\"matches\":\"y\",\"title\":{\"text\":\"\"},\"showgrid\":true,\"gridwidth\":1,\"gridcolor\":\"#F0F0F0\",\"linecolor\":\"darkgrey\",\"ticks\":\"\",\"range\":[0,1.1],\"tick0\":0.2,\"dtick\":0.2},\"xaxis6\":{\"anchor\":\"y6\",\"domain\":[0.24999999999999997,0.48],\"matches\":\"x\",\"showticklabels\":false,\"showgrid\":true,\"gridwidth\":1,\"gridcolor\":\"#F0F0F0\",\"linecolor\":\"darkgrey\",\"ticks\":\"\",\"title\":{\"text\":\"\"}},\"yaxis6\":{\"anchor\":\"x6\",\"domain\":[0.255,0.49],\"matches\":\"y\",\"showticklabels\":false,\"showgrid\":true,\"gridwidth\":1,\"gridcolor\":\"#F0F0F0\",\"linecolor\":\"darkgrey\",\"ticks\":\"\",\"range\":[0,1.1],\"tick0\":0.2,\"dtick\":0.2,\"title\":{\"text\":\"\"}},\"xaxis7\":{\"anchor\":\"y7\",\"domain\":[0.49999999999999994,0.73],\"matches\":\"x\",\"showticklabels\":false,\"showgrid\":true,\"gridwidth\":1,\"gridcolor\":\"#F0F0F0\",\"linecolor\":\"darkgrey\",\"ticks\":\"\",\"title\":{\"text\":\"\"}},\"yaxis7\":{\"anchor\":\"x7\",\"domain\":[0.255,0.49],\"matches\":\"y\",\"showticklabels\":false,\"showgrid\":true,\"gridwidth\":1,\"gridcolor\":\"#F0F0F0\",\"linecolor\":\"darkgrey\",\"ticks\":\"\",\"range\":[0,1.1],\"tick0\":0.2,\"dtick\":0.2,\"title\":{\"text\":\"\"}},\"xaxis8\":{\"anchor\":\"y8\",\"domain\":[0.75,0.98],\"matches\":\"x\",\"showticklabels\":false,\"showgrid\":true,\"gridwidth\":1,\"gridcolor\":\"#F0F0F0\",\"linecolor\":\"darkgrey\",\"ticks\":\"\",\"title\":{\"text\":\"\"}},\"yaxis8\":{\"anchor\":\"x8\",\"domain\":[0.255,0.49],\"matches\":\"y\",\"showticklabels\":false,\"showgrid\":true,\"gridwidth\":1,\"gridcolor\":\"#F0F0F0\",\"linecolor\":\"darkgrey\",\"ticks\":\"\",\"range\":[0,1.1],\"tick0\":0.2,\"dtick\":0.2,\"title\":{\"text\":\"\"}},\"xaxis9\":{\"anchor\":\"y9\",\"domain\":[0.0,0.22999999999999998],\"matches\":\"x\",\"showticklabels\":false,\"showgrid\":true,\"gridwidth\":1,\"gridcolor\":\"#F0F0F0\",\"linecolor\":\"darkgrey\",\"ticks\":\"\",\"title\":{\"text\":\"\"}},\"yaxis9\":{\"anchor\":\"x9\",\"domain\":[0.51,0.745],\"matches\":\"y\",\"title\":{\"text\":\"\"},\"showgrid\":true,\"gridwidth\":1,\"gridcolor\":\"#F0F0F0\",\"linecolor\":\"darkgrey\",\"ticks\":\"\",\"range\":[0,1.1],\"tick0\":0.2,\"dtick\":0.2},\"xaxis10\":{\"anchor\":\"y10\",\"domain\":[0.24999999999999997,0.48],\"matches\":\"x\",\"showticklabels\":false,\"showgrid\":true,\"gridwidth\":1,\"gridcolor\":\"#F0F0F0\",\"linecolor\":\"darkgrey\",\"ticks\":\"\",\"title\":{\"text\":\"\"}},\"yaxis10\":{\"anchor\":\"x10\",\"domain\":[0.51,0.745],\"matches\":\"y\",\"showticklabels\":false,\"showgrid\":true,\"gridwidth\":1,\"gridcolor\":\"#F0F0F0\",\"linecolor\":\"darkgrey\",\"ticks\":\"\",\"range\":[0,1.1],\"tick0\":0.2,\"dtick\":0.2,\"title\":{\"text\":\"\"}},\"xaxis11\":{\"anchor\":\"y11\",\"domain\":[0.49999999999999994,0.73],\"matches\":\"x\",\"showticklabels\":false,\"showgrid\":true,\"gridwidth\":1,\"gridcolor\":\"#F0F0F0\",\"linecolor\":\"darkgrey\",\"ticks\":\"\",\"title\":{\"text\":\"\"}},\"yaxis11\":{\"anchor\":\"x11\",\"domain\":[0.51,0.745],\"matches\":\"y\",\"showticklabels\":false,\"showgrid\":true,\"gridwidth\":1,\"gridcolor\":\"#F0F0F0\",\"linecolor\":\"darkgrey\",\"ticks\":\"\",\"range\":[0,1.1],\"tick0\":0.2,\"dtick\":0.2,\"title\":{\"text\":\"\"}},\"xaxis12\":{\"anchor\":\"y12\",\"domain\":[0.75,0.98],\"matches\":\"x\",\"showticklabels\":false,\"showgrid\":true,\"gridwidth\":1,\"gridcolor\":\"#F0F0F0\",\"linecolor\":\"darkgrey\",\"ticks\":\"\",\"title\":{\"text\":\"\"}},\"yaxis12\":{\"anchor\":\"x12\",\"domain\":[0.51,0.745],\"matches\":\"y\",\"showticklabels\":false,\"showgrid\":true,\"gridwidth\":1,\"gridcolor\":\"#F0F0F0\",\"linecolor\":\"darkgrey\",\"ticks\":\"\",\"range\":[0,1.1],\"tick0\":0.2,\"dtick\":0.2,\"title\":{\"text\":\"\"}},\"xaxis13\":{\"anchor\":\"y13\",\"domain\":[0.0,0.22999999999999998],\"matches\":\"x\",\"showticklabels\":false,\"showgrid\":true,\"gridwidth\":1,\"gridcolor\":\"#F0F0F0\",\"linecolor\":\"darkgrey\",\"ticks\":\"\",\"title\":{\"text\":\"\"}},\"yaxis13\":{\"anchor\":\"x13\",\"domain\":[0.7649999999999999,0.9999999999999999],\"matches\":\"y\",\"title\":{\"text\":\"\"},\"showgrid\":true,\"gridwidth\":1,\"gridcolor\":\"#F0F0F0\",\"linecolor\":\"darkgrey\",\"ticks\":\"\",\"range\":[0,1.1],\"tick0\":0.2,\"dtick\":0.2},\"xaxis14\":{\"anchor\":\"y14\",\"domain\":[0.24999999999999997,0.48],\"matches\":\"x\",\"showticklabels\":false,\"showgrid\":true,\"gridwidth\":1,\"gridcolor\":\"#F0F0F0\",\"linecolor\":\"darkgrey\",\"ticks\":\"\",\"title\":{\"text\":\"\"}},\"yaxis14\":{\"anchor\":\"x14\",\"domain\":[0.7649999999999999,0.9999999999999999],\"matches\":\"y\",\"showticklabels\":false,\"showgrid\":true,\"gridwidth\":1,\"gridcolor\":\"#F0F0F0\",\"linecolor\":\"darkgrey\",\"ticks\":\"\",\"range\":[0,1.1],\"tick0\":0.2,\"dtick\":0.2,\"title\":{\"text\":\"\"}},\"xaxis15\":{\"anchor\":\"y15\",\"domain\":[0.49999999999999994,0.73],\"matches\":\"x\",\"showticklabels\":false,\"showgrid\":true,\"gridwidth\":1,\"gridcolor\":\"#F0F0F0\",\"linecolor\":\"darkgrey\",\"ticks\":\"\",\"title\":{\"text\":\"\"}},\"yaxis15\":{\"anchor\":\"x15\",\"domain\":[0.7649999999999999,0.9999999999999999],\"matches\":\"y\",\"showticklabels\":false,\"showgrid\":true,\"gridwidth\":1,\"gridcolor\":\"#F0F0F0\",\"linecolor\":\"darkgrey\",\"ticks\":\"\",\"range\":[0,1.1],\"tick0\":0.2,\"dtick\":0.2,\"title\":{\"text\":\"\"}},\"xaxis16\":{\"anchor\":\"y16\",\"domain\":[0.75,0.98],\"matches\":\"x\",\"showticklabels\":false,\"showgrid\":true,\"gridwidth\":1,\"gridcolor\":\"#F0F0F0\",\"linecolor\":\"darkgrey\",\"ticks\":\"\",\"title\":{\"text\":\"\"}},\"yaxis16\":{\"anchor\":\"x16\",\"domain\":[0.7649999999999999,0.9999999999999999],\"matches\":\"y\",\"showticklabels\":false,\"showgrid\":true,\"gridwidth\":1,\"gridcolor\":\"#F0F0F0\",\"linecolor\":\"darkgrey\",\"ticks\":\"\",\"range\":[0,1.1],\"tick0\":0.2,\"dtick\":0.2,\"title\":{\"text\":\"\"}},\"annotations\":[{\"font\":{},\"showarrow\":false,\"text\":\"efConstruction=4\",\"x\":0.11499999999999999,\"xanchor\":\"center\",\"xref\":\"paper\",\"y\":0.9999999999999999,\"yanchor\":\"bottom\",\"yref\":\"paper\"},{\"font\":{},\"showarrow\":false,\"text\":\"efConstruction=16\",\"x\":0.365,\"xanchor\":\"center\",\"xref\":\"paper\",\"y\":0.9999999999999999,\"yanchor\":\"bottom\",\"yref\":\"paper\"},{\"font\":{},\"showarrow\":false,\"text\":\"efConstruction=40\",\"x\":0.615,\"xanchor\":\"center\",\"xref\":\"paper\",\"y\":0.9999999999999999,\"yanchor\":\"bottom\",\"yref\":\"paper\"},{\"font\":{},\"showarrow\":false,\"text\":\"efConstruction=76\",\"x\":0.865,\"xanchor\":\"center\",\"xref\":\"paper\",\"y\":0.9999999999999999,\"yanchor\":\"bottom\",\"yref\":\"paper\"},{\"font\":{},\"showarrow\":false,\"text\":\"efSearch=76\",\"textangle\":90,\"x\":0.98,\"xanchor\":\"left\",\"xref\":\"paper\",\"y\":0.1175,\"yanchor\":\"middle\",\"yref\":\"paper\"},{\"font\":{},\"showarrow\":false,\"text\":\"efSearch=40\",\"textangle\":90,\"x\":0.98,\"xanchor\":\"left\",\"xref\":\"paper\",\"y\":0.3725,\"yanchor\":\"middle\",\"yref\":\"paper\"},{\"font\":{},\"showarrow\":false,\"text\":\"efSearch=16\",\"textangle\":90,\"x\":0.98,\"xanchor\":\"left\",\"xref\":\"paper\",\"y\":0.6275,\"yanchor\":\"middle\",\"yref\":\"paper\"},{\"font\":{},\"showarrow\":false,\"text\":\"efSearch=4\",\"textangle\":90,\"x\":0.98,\"xanchor\":\"left\",\"xref\":\"paper\",\"y\":0.8824999999999998,\"yanchor\":\"middle\",\"yref\":\"paper\"}],\"legend\":{\"title\":{\"text\":\"M\"},\"tracegroupgap\":0,\"itemsizing\":\"constant\",\"borderwidth\":1,\"traceorder\":\"reversed\",\"yanchor\":\"top\",\"y\":0.76,\"xanchor\":\"left\",\"x\":1.03},\"margin\":{\"t\":60},\"height\":700,\"width\":700,\"title\":{\"font\":{\"family\":\"Arial\",\"color\":\"RebeccaPurple\"},\"text\":\"<B>Bubble Size corresponds to Index Size (MB)\",\"yanchor\":\"top\",\"y\":0.98,\"xanchor\":\"center\",\"x\":0.5}},                        {\"responsive\": true}                    ).then(function(){\n",
       "                            \n",
       "var gd = document.getElementById('35981008-e9f7-4450-a2da-f18c4d623ce3');\n",
       "var x = new MutationObserver(function (mutations, observer) {{\n",
       "        var display = window.getComputedStyle(gd).display;\n",
       "        if (!display || display === 'none') {{\n",
       "            console.log([gd, 'removed!']);\n",
       "            Plotly.purge(gd);\n",
       "            observer.disconnect();\n",
       "        }}\n",
       "}});\n",
       "\n",
       "// Listen for the removal of the full notebook cells\n",
       "var notebookContainer = gd.closest('#notebook-container');\n",
       "if (notebookContainer) {{\n",
       "    x.observe(notebookContainer, {childList: true});\n",
       "}}\n",
       "\n",
       "// Listen for the clearing of the current output cell\n",
       "var outputEl = gd.closest('.output');\n",
       "if (outputEl) {{\n",
       "    x.observe(outputEl, {childList: true});\n",
       "}}\n",
       "\n",
       "                        })                };                });            </script>        </div>"
      ]
     },
     "metadata": {},
     "output_type": "display_data"
    }
   ],
   "source": [
    "fig = px.scatter(dfHNSW, x=\"search_time\", y=\"recall@3\", color=\"M\", height=700, width=700, size=\"index_size\", size_max=15,\n",
    "                 template=\"simple_white\", color_discrete_sequence=colors_custom, #color_discrete_sequence=px.colors.qualitative.D3,  \n",
    "                 facet_row=\"efSearch\", facet_row_spacing=0.02,  \n",
    "                 facet_col=\"efConstruction\", facet_col_spacing=0.02#, title=\"Bubble Size corresponds to Index Size\"    \n",
    "                )\n",
    "fig.update_xaxes(showgrid=True, gridwidth=1, gridcolor='#F0F0F0', linecolor='darkgrey', ticks=\"\")\n",
    "fig.update_yaxes(showgrid=True, gridwidth=1, gridcolor='#F0F0F0', linecolor='darkgrey', ticks=\"\", range=[0, 1.1], tick0=0.2, dtick=0.2)\n",
    "fig.update_xaxes(title_text=\"\")\n",
    "fig.update_yaxes(title_text=\"\")\n",
    "fig.update_xaxes(row=1, col=2, title_standoff=10, title_text=\"<B>search time (ms/query)\")                # title_font_family=\"Arial\"\n",
    "fig.update_yaxes(col=1, row=1, title_standoff=5, title_text=\"<B>                             1-recall@3\")\n",
    "fig.update_layout(legend=dict(borderwidth=1, traceorder=\"reversed\", yanchor=\"top\", y=0.76, xanchor=\"left\", x=1.03, ))\n",
    "fig.update_layout(title=dict(text=\"<B>Bubble Size corresponds to Index Size (MB)\", yanchor=\"top\", y=0.98, xanchor=\"center\", x=0.5, \n",
    "                             font_family=\"Arial\", font_color=\"RebeccaPurple\"))\n",
    "fig.show()\n",
    "fig.write_html(\"Hflat_recall_4x4_indexsize.html\")"
   ]
  },
  {
   "cell_type": "code",
   "execution_count": 51,
   "id": "4911db63",
   "metadata": {
    "execution": {
     "iopub.execute_input": "2022-08-18T15:45:03.626826Z",
     "iopub.status.busy": "2022-08-18T15:45:03.626459Z",
     "iopub.status.idle": "2022-08-18T15:45:04.262741Z",
     "shell.execute_reply": "2022-08-18T15:45:04.261593Z"
    },
    "papermill": {
     "duration": 1.26174,
     "end_time": "2022-08-18T15:45:04.265516",
     "exception": false,
     "start_time": "2022-08-18T15:45:03.003776",
     "status": "completed"
    },
    "tags": []
   },
   "outputs": [
    {
     "data": {
      "text/html": [
       "<div>                            <div id=\"a8fb3817-81d1-4d6a-b13c-88c5d870468d\" class=\"plotly-graph-div\" style=\"height:700px; width:700px;\"></div>            <script type=\"text/javascript\">                require([\"plotly\"], function(Plotly) {                    window.PLOTLYENV=window.PLOTLYENV || {};                                    if (document.getElementById(\"a8fb3817-81d1-4d6a-b13c-88c5d870468d\")) {                    Plotly.newPlot(                        \"a8fb3817-81d1-4d6a-b13c-88c5d870468d\",                        [{\"hovertemplate\":\"M=4<br>efSearch=4<br>efConstruction=4<br>search_time=%{x}<br>recall@3=%{y}<br>index_time=%{marker.size}<extra></extra>\",\"legendgroup\":\"4\",\"marker\":{\"color\":\"#EECA3B\",\"size\":[46.3395619392395],\"sizemode\":\"area\",\"sizeref\":10.15034686088562,\"symbol\":\"circle\"},\"mode\":\"markers\",\"name\":\"4\",\"orientation\":\"v\",\"showlegend\":true,\"x\":[0.07314491271972656],\"xaxis\":\"x13\",\"y\":[0.019],\"yaxis\":\"y13\",\"type\":\"scatter\"},{\"hovertemplate\":\"M=4<br>efSearch=4<br>efConstruction=16<br>search_time=%{x}<br>recall@3=%{y}<br>index_time=%{marker.size}<extra></extra>\",\"legendgroup\":\"4\",\"marker\":{\"color\":\"#EECA3B\",\"size\":[155.12777256965637],\"sizemode\":\"area\",\"sizeref\":10.15034686088562,\"symbol\":\"circle\"},\"mode\":\"markers\",\"name\":\"4\",\"orientation\":\"v\",\"showlegend\":false,\"x\":[0.060349225997924805],\"xaxis\":\"x14\",\"y\":[0.053],\"yaxis\":\"y14\",\"type\":\"scatter\"},{\"hovertemplate\":\"M=4<br>efSearch=4<br>efConstruction=40<br>search_time=%{x}<br>recall@3=%{y}<br>index_time=%{marker.size}<extra></extra>\",\"legendgroup\":\"4\",\"marker\":{\"color\":\"#EECA3B\",\"size\":[330.0333242416382],\"sizemode\":\"area\",\"sizeref\":10.15034686088562,\"symbol\":\"circle\"},\"mode\":\"markers\",\"name\":\"4\",\"orientation\":\"v\",\"showlegend\":false,\"x\":[0.05618405342102051],\"xaxis\":\"x15\",\"y\":[0.093],\"yaxis\":\"y15\",\"type\":\"scatter\"},{\"hovertemplate\":\"M=4<br>efSearch=4<br>efConstruction=76<br>search_time=%{x}<br>recall@3=%{y}<br>index_time=%{marker.size}<extra></extra>\",\"legendgroup\":\"4\",\"marker\":{\"color\":\"#EECA3B\",\"size\":[537.5953359603882],\"sizemode\":\"area\",\"sizeref\":10.15034686088562,\"symbol\":\"circle\"},\"mode\":\"markers\",\"name\":\"4\",\"orientation\":\"v\",\"showlegend\":false,\"x\":[0.060048580169677734],\"xaxis\":\"x16\",\"y\":[0.088],\"yaxis\":\"y16\",\"type\":\"scatter\"},{\"hovertemplate\":\"M=4<br>efSearch=16<br>efConstruction=4<br>search_time=%{x}<br>recall@3=%{y}<br>index_time=%{marker.size}<extra></extra>\",\"legendgroup\":\"4\",\"marker\":{\"color\":\"#EECA3B\",\"size\":[46.3395619392395],\"sizemode\":\"area\",\"sizeref\":10.15034686088562,\"symbol\":\"circle\"},\"mode\":\"markers\",\"name\":\"4\",\"orientation\":\"v\",\"showlegend\":false,\"x\":[0.09765863418579102],\"xaxis\":\"x9\",\"y\":[0.034],\"yaxis\":\"y9\",\"type\":\"scatter\"},{\"hovertemplate\":\"M=4<br>efSearch=16<br>efConstruction=16<br>search_time=%{x}<br>recall@3=%{y}<br>index_time=%{marker.size}<extra></extra>\",\"legendgroup\":\"4\",\"marker\":{\"color\":\"#EECA3B\",\"size\":[155.12777256965637],\"sizemode\":\"area\",\"sizeref\":10.15034686088562,\"symbol\":\"circle\"},\"mode\":\"markers\",\"name\":\"4\",\"orientation\":\"v\",\"showlegend\":false,\"x\":[0.05321979522705078],\"xaxis\":\"x10\",\"y\":[0.19],\"yaxis\":\"y10\",\"type\":\"scatter\"},{\"hovertemplate\":\"M=4<br>efSearch=16<br>efConstruction=40<br>search_time=%{x}<br>recall@3=%{y}<br>index_time=%{marker.size}<extra></extra>\",\"legendgroup\":\"4\",\"marker\":{\"color\":\"#EECA3B\",\"size\":[330.0333242416382],\"sizemode\":\"area\",\"sizeref\":10.15034686088562,\"symbol\":\"circle\"},\"mode\":\"markers\",\"name\":\"4\",\"orientation\":\"v\",\"showlegend\":false,\"x\":[0.03861594200134277],\"xaxis\":\"x11\",\"y\":[0.29],\"yaxis\":\"y11\",\"type\":\"scatter\"},{\"hovertemplate\":\"M=4<br>efSearch=16<br>efConstruction=76<br>search_time=%{x}<br>recall@3=%{y}<br>index_time=%{marker.size}<extra></extra>\",\"legendgroup\":\"4\",\"marker\":{\"color\":\"#EECA3B\",\"size\":[537.5953359603882],\"sizemode\":\"area\",\"sizeref\":10.15034686088562,\"symbol\":\"circle\"},\"mode\":\"markers\",\"name\":\"4\",\"orientation\":\"v\",\"showlegend\":false,\"x\":[0.035874128341674805],\"xaxis\":\"x12\",\"y\":[0.318],\"yaxis\":\"y12\",\"type\":\"scatter\"},{\"hovertemplate\":\"M=4<br>efSearch=40<br>efConstruction=4<br>search_time=%{x}<br>recall@3=%{y}<br>index_time=%{marker.size}<extra></extra>\",\"legendgroup\":\"4\",\"marker\":{\"color\":\"#EECA3B\",\"size\":[46.3395619392395],\"sizemode\":\"area\",\"sizeref\":10.15034686088562,\"symbol\":\"circle\"},\"mode\":\"markers\",\"name\":\"4\",\"orientation\":\"v\",\"showlegend\":false,\"x\":[0.056708335876464844],\"xaxis\":\"x5\",\"y\":[0.044],\"yaxis\":\"y5\",\"type\":\"scatter\"},{\"hovertemplate\":\"M=4<br>efSearch=40<br>efConstruction=16<br>search_time=%{x}<br>recall@3=%{y}<br>index_time=%{marker.size}<extra></extra>\",\"legendgroup\":\"4\",\"marker\":{\"color\":\"#EECA3B\",\"size\":[155.12777256965637],\"sizemode\":\"area\",\"sizeref\":10.15034686088562,\"symbol\":\"circle\"},\"mode\":\"markers\",\"name\":\"4\",\"orientation\":\"v\",\"showlegend\":false,\"x\":[0.07614469528198242],\"xaxis\":\"x6\",\"y\":[0.341],\"yaxis\":\"y6\",\"type\":\"scatter\"},{\"hovertemplate\":\"M=4<br>efSearch=40<br>efConstruction=40<br>search_time=%{x}<br>recall@3=%{y}<br>index_time=%{marker.size}<extra></extra>\",\"legendgroup\":\"4\",\"marker\":{\"color\":\"#EECA3B\",\"size\":[330.0333242416382],\"sizemode\":\"area\",\"sizeref\":10.15034686088562,\"symbol\":\"circle\"},\"mode\":\"markers\",\"name\":\"4\",\"orientation\":\"v\",\"showlegend\":false,\"x\":[0.07405519485473633],\"xaxis\":\"x7\",\"y\":[0.537],\"yaxis\":\"y7\",\"type\":\"scatter\"},{\"hovertemplate\":\"M=4<br>efSearch=40<br>efConstruction=76<br>search_time=%{x}<br>recall@3=%{y}<br>index_time=%{marker.size}<extra></extra>\",\"legendgroup\":\"4\",\"marker\":{\"color\":\"#EECA3B\",\"size\":[537.5953359603882],\"sizemode\":\"area\",\"sizeref\":10.15034686088562,\"symbol\":\"circle\"},\"mode\":\"markers\",\"name\":\"4\",\"orientation\":\"v\",\"showlegend\":false,\"x\":[0.08121347427368164],\"xaxis\":\"x8\",\"y\":[0.566],\"yaxis\":\"y8\",\"type\":\"scatter\"},{\"hovertemplate\":\"M=4<br>efSearch=76<br>efConstruction=4<br>search_time=%{x}<br>recall@3=%{y}<br>index_time=%{marker.size}<extra></extra>\",\"legendgroup\":\"4\",\"marker\":{\"color\":\"#EECA3B\",\"size\":[46.3395619392395],\"sizemode\":\"area\",\"sizeref\":10.15034686088562,\"symbol\":\"circle\"},\"mode\":\"markers\",\"name\":\"4\",\"orientation\":\"v\",\"showlegend\":false,\"x\":[0.08639359474182129],\"xaxis\":\"x\",\"y\":[0.05],\"yaxis\":\"y\",\"type\":\"scatter\"},{\"hovertemplate\":\"M=4<br>efSearch=76<br>efConstruction=16<br>search_time=%{x}<br>recall@3=%{y}<br>index_time=%{marker.size}<extra></extra>\",\"legendgroup\":\"4\",\"marker\":{\"color\":\"#EECA3B\",\"size\":[155.12777256965637],\"sizemode\":\"area\",\"sizeref\":10.15034686088562,\"symbol\":\"circle\"},\"mode\":\"markers\",\"name\":\"4\",\"orientation\":\"v\",\"showlegend\":false,\"x\":[0.20155882835388184],\"xaxis\":\"x2\",\"y\":[0.428],\"yaxis\":\"y2\",\"type\":\"scatter\"},{\"hovertemplate\":\"M=4<br>efSearch=76<br>efConstruction=40<br>search_time=%{x}<br>recall@3=%{y}<br>index_time=%{marker.size}<extra></extra>\",\"legendgroup\":\"4\",\"marker\":{\"color\":\"#EECA3B\",\"size\":[330.0333242416382],\"sizemode\":\"area\",\"sizeref\":10.15034686088562,\"symbol\":\"circle\"},\"mode\":\"markers\",\"name\":\"4\",\"orientation\":\"v\",\"showlegend\":false,\"x\":[0.13103389739990234],\"xaxis\":\"x3\",\"y\":[0.639],\"yaxis\":\"y3\",\"type\":\"scatter\"},{\"hovertemplate\":\"M=4<br>efSearch=76<br>efConstruction=76<br>search_time=%{x}<br>recall@3=%{y}<br>index_time=%{marker.size}<extra></extra>\",\"legendgroup\":\"4\",\"marker\":{\"color\":\"#EECA3B\",\"size\":[537.5953359603882],\"sizemode\":\"area\",\"sizeref\":10.15034686088562,\"symbol\":\"circle\"},\"mode\":\"markers\",\"name\":\"4\",\"orientation\":\"v\",\"showlegend\":false,\"x\":[0.14520859718322754],\"xaxis\":\"x4\",\"y\":[0.674],\"yaxis\":\"y4\",\"type\":\"scatter\"},{\"hovertemplate\":\"M=16<br>efSearch=4<br>efConstruction=4<br>search_time=%{x}<br>recall@3=%{y}<br>index_time=%{marker.size}<extra></extra>\",\"legendgroup\":\"16\",\"marker\":{\"color\":\"#FF9900\",\"size\":[68.15510153770447],\"sizemode\":\"area\",\"sizeref\":10.15034686088562,\"symbol\":\"circle\"},\"mode\":\"markers\",\"name\":\"16\",\"orientation\":\"v\",\"showlegend\":true,\"x\":[0.028177738189697266],\"xaxis\":\"x13\",\"y\":[0.024],\"yaxis\":\"y13\",\"type\":\"scatter\"},{\"hovertemplate\":\"M=16<br>efSearch=4<br>efConstruction=16<br>search_time=%{x}<br>recall@3=%{y}<br>index_time=%{marker.size}<extra></extra>\",\"legendgroup\":\"16\",\"marker\":{\"color\":\"#FF9900\",\"size\":[315.42134165763855],\"sizemode\":\"area\",\"sizeref\":10.15034686088562,\"symbol\":\"circle\"},\"mode\":\"markers\",\"name\":\"16\",\"orientation\":\"v\",\"showlegend\":false,\"x\":[0.08639931678771973],\"xaxis\":\"x14\",\"y\":[0.324],\"yaxis\":\"y14\",\"type\":\"scatter\"},{\"hovertemplate\":\"M=16<br>efSearch=4<br>efConstruction=40<br>search_time=%{x}<br>recall@3=%{y}<br>index_time=%{marker.size}<extra></extra>\",\"legendgroup\":\"16\",\"marker\":{\"color\":\"#FF9900\",\"size\":[537.627444267273],\"sizemode\":\"area\",\"sizeref\":10.15034686088562,\"symbol\":\"circle\"},\"mode\":\"markers\",\"name\":\"16\",\"orientation\":\"v\",\"showlegend\":false,\"x\":[0.047518253326416016],\"xaxis\":\"x15\",\"y\":[0.413],\"yaxis\":\"y15\",\"type\":\"scatter\"},{\"hovertemplate\":\"M=16<br>efSearch=4<br>efConstruction=76<br>search_time=%{x}<br>recall@3=%{y}<br>index_time=%{marker.size}<extra></extra>\",\"legendgroup\":\"16\",\"marker\":{\"color\":\"#FF9900\",\"size\":[1004.340817451477],\"sizemode\":\"area\",\"sizeref\":10.15034686088562,\"symbol\":\"circle\"},\"mode\":\"markers\",\"name\":\"16\",\"orientation\":\"v\",\"showlegend\":false,\"x\":[0.06644058227539062],\"xaxis\":\"x16\",\"y\":[0.45],\"yaxis\":\"y16\",\"type\":\"scatter\"},{\"hovertemplate\":\"M=16<br>efSearch=16<br>efConstruction=4<br>search_time=%{x}<br>recall@3=%{y}<br>index_time=%{marker.size}<extra></extra>\",\"legendgroup\":\"16\",\"marker\":{\"color\":\"#FF9900\",\"size\":[68.15510153770447],\"sizemode\":\"area\",\"sizeref\":10.15034686088562,\"symbol\":\"circle\"},\"mode\":\"markers\",\"name\":\"16\",\"orientation\":\"v\",\"showlegend\":false,\"x\":[0.04013562202453613],\"xaxis\":\"x9\",\"y\":[0.041],\"yaxis\":\"y9\",\"type\":\"scatter\"},{\"hovertemplate\":\"M=16<br>efSearch=16<br>efConstruction=16<br>search_time=%{x}<br>recall@3=%{y}<br>index_time=%{marker.size}<extra></extra>\",\"legendgroup\":\"16\",\"marker\":{\"color\":\"#FF9900\",\"size\":[315.42134165763855],\"sizemode\":\"area\",\"sizeref\":10.15034686088562,\"symbol\":\"circle\"},\"mode\":\"markers\",\"name\":\"16\",\"orientation\":\"v\",\"showlegend\":false,\"x\":[0.08358335494995117],\"xaxis\":\"x10\",\"y\":[0.652],\"yaxis\":\"y10\",\"type\":\"scatter\"},{\"hovertemplate\":\"M=16<br>efSearch=16<br>efConstruction=40<br>search_time=%{x}<br>recall@3=%{y}<br>index_time=%{marker.size}<extra></extra>\",\"legendgroup\":\"16\",\"marker\":{\"color\":\"#FF9900\",\"size\":[537.627444267273],\"sizemode\":\"area\",\"sizeref\":10.15034686088562,\"symbol\":\"circle\"},\"mode\":\"markers\",\"name\":\"16\",\"orientation\":\"v\",\"showlegend\":false,\"x\":[0.08065915107727051],\"xaxis\":\"x11\",\"y\":[0.726],\"yaxis\":\"y11\",\"type\":\"scatter\"},{\"hovertemplate\":\"M=16<br>efSearch=16<br>efConstruction=76<br>search_time=%{x}<br>recall@3=%{y}<br>index_time=%{marker.size}<extra></extra>\",\"legendgroup\":\"16\",\"marker\":{\"color\":\"#FF9900\",\"size\":[1004.340817451477],\"sizemode\":\"area\",\"sizeref\":10.15034686088562,\"symbol\":\"circle\"},\"mode\":\"markers\",\"name\":\"16\",\"orientation\":\"v\",\"showlegend\":false,\"x\":[0.08359575271606445],\"xaxis\":\"x12\",\"y\":[0.786],\"yaxis\":\"y12\",\"type\":\"scatter\"},{\"hovertemplate\":\"M=16<br>efSearch=40<br>efConstruction=4<br>search_time=%{x}<br>recall@3=%{y}<br>index_time=%{marker.size}<extra></extra>\",\"legendgroup\":\"16\",\"marker\":{\"color\":\"#FF9900\",\"size\":[68.15510153770447],\"sizemode\":\"area\",\"sizeref\":10.15034686088562,\"symbol\":\"circle\"},\"mode\":\"markers\",\"name\":\"16\",\"orientation\":\"v\",\"showlegend\":false,\"x\":[0.08285140991210938],\"xaxis\":\"x5\",\"y\":[0.057],\"yaxis\":\"y5\",\"type\":\"scatter\"},{\"hovertemplate\":\"M=16<br>efSearch=40<br>efConstruction=16<br>search_time=%{x}<br>recall@3=%{y}<br>index_time=%{marker.size}<extra></extra>\",\"legendgroup\":\"16\",\"marker\":{\"color\":\"#FF9900\",\"size\":[315.42134165763855],\"sizemode\":\"area\",\"sizeref\":10.15034686088562,\"symbol\":\"circle\"},\"mode\":\"markers\",\"name\":\"16\",\"orientation\":\"v\",\"showlegend\":false,\"x\":[0.17656922340393066],\"xaxis\":\"x6\",\"y\":[0.816],\"yaxis\":\"y6\",\"type\":\"scatter\"},{\"hovertemplate\":\"M=16<br>efSearch=40<br>efConstruction=40<br>search_time=%{x}<br>recall@3=%{y}<br>index_time=%{marker.size}<extra></extra>\",\"legendgroup\":\"16\",\"marker\":{\"color\":\"#FF9900\",\"size\":[537.627444267273],\"sizemode\":\"area\",\"sizeref\":10.15034686088562,\"symbol\":\"circle\"},\"mode\":\"markers\",\"name\":\"16\",\"orientation\":\"v\",\"showlegend\":false,\"x\":[0.16335773468017578],\"xaxis\":\"x7\",\"y\":[0.846],\"yaxis\":\"y7\",\"type\":\"scatter\"},{\"hovertemplate\":\"M=16<br>efSearch=40<br>efConstruction=76<br>search_time=%{x}<br>recall@3=%{y}<br>index_time=%{marker.size}<extra></extra>\",\"legendgroup\":\"16\",\"marker\":{\"color\":\"#FF9900\",\"size\":[1004.340817451477],\"sizemode\":\"area\",\"sizeref\":10.15034686088562,\"symbol\":\"circle\"},\"mode\":\"markers\",\"name\":\"16\",\"orientation\":\"v\",\"showlegend\":false,\"x\":[0.17189502716064453],\"xaxis\":\"x8\",\"y\":[0.912],\"yaxis\":\"y8\",\"type\":\"scatter\"},{\"hovertemplate\":\"M=16<br>efSearch=76<br>efConstruction=4<br>search_time=%{x}<br>recall@3=%{y}<br>index_time=%{marker.size}<extra></extra>\",\"legendgroup\":\"16\",\"marker\":{\"color\":\"#FF9900\",\"size\":[68.15510153770447],\"sizemode\":\"area\",\"sizeref\":10.15034686088562,\"symbol\":\"circle\"},\"mode\":\"markers\",\"name\":\"16\",\"orientation\":\"v\",\"showlegend\":false,\"x\":[0.14116430282592773],\"xaxis\":\"x\",\"y\":[0.063],\"yaxis\":\"y\",\"type\":\"scatter\"},{\"hovertemplate\":\"M=16<br>efSearch=76<br>efConstruction=16<br>search_time=%{x}<br>recall@3=%{y}<br>index_time=%{marker.size}<extra></extra>\",\"legendgroup\":\"16\",\"marker\":{\"color\":\"#FF9900\",\"size\":[315.42134165763855],\"sizemode\":\"area\",\"sizeref\":10.15034686088562,\"symbol\":\"circle\"},\"mode\":\"markers\",\"name\":\"16\",\"orientation\":\"v\",\"showlegend\":false,\"x\":[0.28842926025390625],\"xaxis\":\"x2\",\"y\":[0.871],\"yaxis\":\"y2\",\"type\":\"scatter\"},{\"hovertemplate\":\"M=16<br>efSearch=76<br>efConstruction=40<br>search_time=%{x}<br>recall@3=%{y}<br>index_time=%{marker.size}<extra></extra>\",\"legendgroup\":\"16\",\"marker\":{\"color\":\"#FF9900\",\"size\":[537.627444267273],\"sizemode\":\"area\",\"sizeref\":10.15034686088562,\"symbol\":\"circle\"},\"mode\":\"markers\",\"name\":\"16\",\"orientation\":\"v\",\"showlegend\":false,\"x\":[0.27508544921875],\"xaxis\":\"x3\",\"y\":[0.896],\"yaxis\":\"y3\",\"type\":\"scatter\"},{\"hovertemplate\":\"M=16<br>efSearch=76<br>efConstruction=76<br>search_time=%{x}<br>recall@3=%{y}<br>index_time=%{marker.size}<extra></extra>\",\"legendgroup\":\"16\",\"marker\":{\"color\":\"#FF9900\",\"size\":[1004.340817451477],\"sizemode\":\"area\",\"sizeref\":10.15034686088562,\"symbol\":\"circle\"},\"mode\":\"markers\",\"name\":\"16\",\"orientation\":\"v\",\"showlegend\":false,\"x\":[0.2898087501525879],\"xaxis\":\"x4\",\"y\":[0.939],\"yaxis\":\"y4\",\"type\":\"scatter\"},{\"hovertemplate\":\"M=32<br>efSearch=4<br>efConstruction=4<br>search_time=%{x}<br>recall@3=%{y}<br>index_time=%{marker.size}<extra></extra>\",\"legendgroup\":\"32\",\"marker\":{\"color\":\"#DC3912\",\"size\":[73.50869488716125],\"sizemode\":\"area\",\"sizeref\":10.15034686088562,\"symbol\":\"circle\"},\"mode\":\"markers\",\"name\":\"32\",\"orientation\":\"v\",\"showlegend\":true,\"x\":[0.03139066696166992],\"xaxis\":\"x13\",\"y\":[0.045],\"yaxis\":\"y13\",\"type\":\"scatter\"},{\"hovertemplate\":\"M=32<br>efSearch=4<br>efConstruction=16<br>search_time=%{x}<br>recall@3=%{y}<br>index_time=%{marker.size}<extra></extra>\",\"legendgroup\":\"32\",\"marker\":{\"color\":\"#DC3912\",\"size\":[363.2858066558838],\"sizemode\":\"area\",\"sizeref\":10.15034686088562,\"symbol\":\"circle\"},\"mode\":\"markers\",\"name\":\"32\",\"orientation\":\"v\",\"showlegend\":false,\"x\":[0.07705330848693848],\"xaxis\":\"x14\",\"y\":[0.464],\"yaxis\":\"y14\",\"type\":\"scatter\"},{\"hovertemplate\":\"M=32<br>efSearch=4<br>efConstruction=40<br>search_time=%{x}<br>recall@3=%{y}<br>index_time=%{marker.size}<extra></extra>\",\"legendgroup\":\"32\",\"marker\":{\"color\":\"#DC3912\",\"size\":[911.6934139728546],\"sizemode\":\"area\",\"sizeref\":10.15034686088562,\"symbol\":\"circle\"},\"mode\":\"markers\",\"name\":\"32\",\"orientation\":\"v\",\"showlegend\":false,\"x\":[0.06300806999206543],\"xaxis\":\"x15\",\"y\":[0.588],\"yaxis\":\"y15\",\"type\":\"scatter\"},{\"hovertemplate\":\"M=32<br>efSearch=4<br>efConstruction=76<br>search_time=%{x}<br>recall@3=%{y}<br>index_time=%{marker.size}<extra></extra>\",\"legendgroup\":\"32\",\"marker\":{\"color\":\"#DC3912\",\"size\":[1158.5980777740479],\"sizemode\":\"area\",\"sizeref\":10.15034686088562,\"symbol\":\"circle\"},\"mode\":\"markers\",\"name\":\"32\",\"orientation\":\"v\",\"showlegend\":false,\"x\":[0.1129915714263916],\"xaxis\":\"x16\",\"y\":[0.558],\"yaxis\":\"y16\",\"type\":\"scatter\"},{\"hovertemplate\":\"M=32<br>efSearch=16<br>efConstruction=4<br>search_time=%{x}<br>recall@3=%{y}<br>index_time=%{marker.size}<extra></extra>\",\"legendgroup\":\"32\",\"marker\":{\"color\":\"#DC3912\",\"size\":[73.50869488716125],\"sizemode\":\"area\",\"sizeref\":10.15034686088562,\"symbol\":\"circle\"},\"mode\":\"markers\",\"name\":\"32\",\"orientation\":\"v\",\"showlegend\":false,\"x\":[0.047579288482666016],\"xaxis\":\"x9\",\"y\":[0.061],\"yaxis\":\"y9\",\"type\":\"scatter\"},{\"hovertemplate\":\"M=32<br>efSearch=16<br>efConstruction=16<br>search_time=%{x}<br>recall@3=%{y}<br>index_time=%{marker.size}<extra></extra>\",\"legendgroup\":\"32\",\"marker\":{\"color\":\"#DC3912\",\"size\":[363.2858066558838],\"sizemode\":\"area\",\"sizeref\":10.15034686088562,\"symbol\":\"circle\"},\"mode\":\"markers\",\"name\":\"32\",\"orientation\":\"v\",\"showlegend\":false,\"x\":[0.10351157188415527],\"xaxis\":\"x10\",\"y\":[0.758],\"yaxis\":\"y10\",\"type\":\"scatter\"},{\"hovertemplate\":\"M=32<br>efSearch=16<br>efConstruction=40<br>search_time=%{x}<br>recall@3=%{y}<br>index_time=%{marker.size}<extra></extra>\",\"legendgroup\":\"32\",\"marker\":{\"color\":\"#DC3912\",\"size\":[911.6934139728546],\"sizemode\":\"area\",\"sizeref\":10.15034686088562,\"symbol\":\"circle\"},\"mode\":\"markers\",\"name\":\"32\",\"orientation\":\"v\",\"showlegend\":false,\"x\":[0.15964984893798828],\"xaxis\":\"x11\",\"y\":[0.846],\"yaxis\":\"y11\",\"type\":\"scatter\"},{\"hovertemplate\":\"M=32<br>efSearch=16<br>efConstruction=76<br>search_time=%{x}<br>recall@3=%{y}<br>index_time=%{marker.size}<extra></extra>\",\"legendgroup\":\"32\",\"marker\":{\"color\":\"#DC3912\",\"size\":[1158.5980777740479],\"sizemode\":\"area\",\"sizeref\":10.15034686088562,\"symbol\":\"circle\"},\"mode\":\"markers\",\"name\":\"32\",\"orientation\":\"v\",\"showlegend\":false,\"x\":[0.2747519016265869],\"xaxis\":\"x12\",\"y\":[0.849],\"yaxis\":\"y12\",\"type\":\"scatter\"},{\"hovertemplate\":\"M=32<br>efSearch=40<br>efConstruction=4<br>search_time=%{x}<br>recall@3=%{y}<br>index_time=%{marker.size}<extra></extra>\",\"legendgroup\":\"32\",\"marker\":{\"color\":\"#DC3912\",\"size\":[73.50869488716125],\"sizemode\":\"area\",\"sizeref\":10.15034686088562,\"symbol\":\"circle\"},\"mode\":\"markers\",\"name\":\"32\",\"orientation\":\"v\",\"showlegend\":false,\"x\":[0.09312105178833008],\"xaxis\":\"x5\",\"y\":[0.075],\"yaxis\":\"y5\",\"type\":\"scatter\"},{\"hovertemplate\":\"M=32<br>efSearch=40<br>efConstruction=16<br>search_time=%{x}<br>recall@3=%{y}<br>index_time=%{marker.size}<extra></extra>\",\"legendgroup\":\"32\",\"marker\":{\"color\":\"#DC3912\",\"size\":[363.2858066558838],\"sizemode\":\"area\",\"sizeref\":10.15034686088562,\"symbol\":\"circle\"},\"mode\":\"markers\",\"name\":\"32\",\"orientation\":\"v\",\"showlegend\":false,\"x\":[0.207503080368042],\"xaxis\":\"x6\",\"y\":[0.883],\"yaxis\":\"y6\",\"type\":\"scatter\"},{\"hovertemplate\":\"M=32<br>efSearch=40<br>efConstruction=40<br>search_time=%{x}<br>recall@3=%{y}<br>index_time=%{marker.size}<extra></extra>\",\"legendgroup\":\"32\",\"marker\":{\"color\":\"#DC3912\",\"size\":[911.6934139728546],\"sizemode\":\"area\",\"sizeref\":10.15034686088562,\"symbol\":\"circle\"},\"mode\":\"markers\",\"name\":\"32\",\"orientation\":\"v\",\"showlegend\":false,\"x\":[0.4899125099182129],\"xaxis\":\"x7\",\"y\":[0.935],\"yaxis\":\"y7\",\"type\":\"scatter\"},{\"hovertemplate\":\"M=32<br>efSearch=40<br>efConstruction=76<br>search_time=%{x}<br>recall@3=%{y}<br>index_time=%{marker.size}<extra></extra>\",\"legendgroup\":\"32\",\"marker\":{\"color\":\"#DC3912\",\"size\":[1158.5980777740479],\"sizemode\":\"area\",\"sizeref\":10.15034686088562,\"symbol\":\"circle\"},\"mode\":\"markers\",\"name\":\"32\",\"orientation\":\"v\",\"showlegend\":false,\"x\":[0.21726465225219727],\"xaxis\":\"x8\",\"y\":[0.921],\"yaxis\":\"y8\",\"type\":\"scatter\"},{\"hovertemplate\":\"M=32<br>efSearch=76<br>efConstruction=4<br>search_time=%{x}<br>recall@3=%{y}<br>index_time=%{marker.size}<extra></extra>\",\"legendgroup\":\"32\",\"marker\":{\"color\":\"#DC3912\",\"size\":[73.50869488716125],\"sizemode\":\"area\",\"sizeref\":10.15034686088562,\"symbol\":\"circle\"},\"mode\":\"markers\",\"name\":\"32\",\"orientation\":\"v\",\"showlegend\":false,\"x\":[0.15813112258911133],\"xaxis\":\"x\",\"y\":[0.088],\"yaxis\":\"y\",\"type\":\"scatter\"},{\"hovertemplate\":\"M=32<br>efSearch=76<br>efConstruction=16<br>search_time=%{x}<br>recall@3=%{y}<br>index_time=%{marker.size}<extra></extra>\",\"legendgroup\":\"32\",\"marker\":{\"color\":\"#DC3912\",\"size\":[363.2858066558838],\"sizemode\":\"area\",\"sizeref\":10.15034686088562,\"symbol\":\"circle\"},\"mode\":\"markers\",\"name\":\"32\",\"orientation\":\"v\",\"showlegend\":false,\"x\":[0.34975409507751465],\"xaxis\":\"x2\",\"y\":[0.923],\"yaxis\":\"y2\",\"type\":\"scatter\"},{\"hovertemplate\":\"M=32<br>efSearch=76<br>efConstruction=40<br>search_time=%{x}<br>recall@3=%{y}<br>index_time=%{marker.size}<extra></extra>\",\"legendgroup\":\"32\",\"marker\":{\"color\":\"#DC3912\",\"size\":[911.6934139728546],\"sizemode\":\"area\",\"sizeref\":10.15034686088562,\"symbol\":\"circle\"},\"mode\":\"markers\",\"name\":\"32\",\"orientation\":\"v\",\"showlegend\":false,\"x\":[0.6785674095153809],\"xaxis\":\"x3\",\"y\":[0.964],\"yaxis\":\"y3\",\"type\":\"scatter\"},{\"hovertemplate\":\"M=32<br>efSearch=76<br>efConstruction=76<br>search_time=%{x}<br>recall@3=%{y}<br>index_time=%{marker.size}<extra></extra>\",\"legendgroup\":\"32\",\"marker\":{\"color\":\"#DC3912\",\"size\":[1158.5980777740479],\"sizemode\":\"area\",\"sizeref\":10.15034686088562,\"symbol\":\"circle\"},\"mode\":\"markers\",\"name\":\"32\",\"orientation\":\"v\",\"showlegend\":false,\"x\":[0.5038113594055176],\"xaxis\":\"x4\",\"y\":[0.952],\"yaxis\":\"y4\",\"type\":\"scatter\"},{\"hovertemplate\":\"M=64<br>efSearch=4<br>efConstruction=4<br>search_time=%{x}<br>recall@3=%{y}<br>index_time=%{marker.size}<extra></extra>\",\"legendgroup\":\"64\",\"marker\":{\"color\":\"#990099\",\"size\":[84.30060291290283],\"sizemode\":\"area\",\"sizeref\":10.15034686088562,\"symbol\":\"circle\"},\"mode\":\"markers\",\"name\":\"64\",\"orientation\":\"v\",\"showlegend\":true,\"x\":[0.037286996841430664],\"xaxis\":\"x13\",\"y\":[0.037],\"yaxis\":\"y13\",\"type\":\"scatter\"},{\"hovertemplate\":\"M=64<br>efSearch=4<br>efConstruction=16<br>search_time=%{x}<br>recall@3=%{y}<br>index_time=%{marker.size}<extra></extra>\",\"legendgroup\":\"64\",\"marker\":{\"color\":\"#990099\",\"size\":[409.31881046295166],\"sizemode\":\"area\",\"sizeref\":10.15034686088562,\"symbol\":\"circle\"},\"mode\":\"markers\",\"name\":\"64\",\"orientation\":\"v\",\"showlegend\":false,\"x\":[0.21562671661376953],\"xaxis\":\"x14\",\"y\":[0.471],\"yaxis\":\"y14\",\"type\":\"scatter\"},{\"hovertemplate\":\"M=64<br>efSearch=4<br>efConstruction=40<br>search_time=%{x}<br>recall@3=%{y}<br>index_time=%{marker.size}<extra></extra>\",\"legendgroup\":\"64\",\"marker\":{\"color\":\"#990099\",\"size\":[1156.391366481781],\"sizemode\":\"area\",\"sizeref\":10.15034686088562,\"symbol\":\"circle\"},\"mode\":\"markers\",\"name\":\"64\",\"orientation\":\"v\",\"showlegend\":false,\"x\":[0.13775253295898438],\"xaxis\":\"x15\",\"y\":[0.709],\"yaxis\":\"y15\",\"type\":\"scatter\"},{\"hovertemplate\":\"M=64<br>efSearch=4<br>efConstruction=76<br>search_time=%{x}<br>recall@3=%{y}<br>index_time=%{marker.size}<extra></extra>\",\"legendgroup\":\"64\",\"marker\":{\"color\":\"#990099\",\"size\":[2283.8280436992645],\"sizemode\":\"area\",\"sizeref\":10.15034686088562,\"symbol\":\"circle\"},\"mode\":\"markers\",\"name\":\"64\",\"orientation\":\"v\",\"showlegend\":false,\"x\":[0.12216734886169434],\"xaxis\":\"x16\",\"y\":[0.738],\"yaxis\":\"y16\",\"type\":\"scatter\"},{\"hovertemplate\":\"M=64<br>efSearch=16<br>efConstruction=4<br>search_time=%{x}<br>recall@3=%{y}<br>index_time=%{marker.size}<extra></extra>\",\"legendgroup\":\"64\",\"marker\":{\"color\":\"#990099\",\"size\":[84.30060291290283],\"sizemode\":\"area\",\"sizeref\":10.15034686088562,\"symbol\":\"circle\"},\"mode\":\"markers\",\"name\":\"64\",\"orientation\":\"v\",\"showlegend\":false,\"x\":[0.11435699462890625],\"xaxis\":\"x9\",\"y\":[0.049],\"yaxis\":\"y9\",\"type\":\"scatter\"},{\"hovertemplate\":\"M=64<br>efSearch=16<br>efConstruction=16<br>search_time=%{x}<br>recall@3=%{y}<br>index_time=%{marker.size}<extra></extra>\",\"legendgroup\":\"64\",\"marker\":{\"color\":\"#990099\",\"size\":[409.31881046295166],\"sizemode\":\"area\",\"sizeref\":10.15034686088562,\"symbol\":\"circle\"},\"mode\":\"markers\",\"name\":\"64\",\"orientation\":\"v\",\"showlegend\":false,\"x\":[0.2710235118865967],\"xaxis\":\"x10\",\"y\":[0.768],\"yaxis\":\"y10\",\"type\":\"scatter\"},{\"hovertemplate\":\"M=64<br>efSearch=16<br>efConstruction=40<br>search_time=%{x}<br>recall@3=%{y}<br>index_time=%{marker.size}<extra></extra>\",\"legendgroup\":\"64\",\"marker\":{\"color\":\"#990099\",\"size\":[1156.391366481781],\"sizemode\":\"area\",\"sizeref\":10.15034686088562,\"symbol\":\"circle\"},\"mode\":\"markers\",\"name\":\"64\",\"orientation\":\"v\",\"showlegend\":false,\"x\":[0.19754838943481445],\"xaxis\":\"x11\",\"y\":[0.887],\"yaxis\":\"y11\",\"type\":\"scatter\"},{\"hovertemplate\":\"M=64<br>efSearch=16<br>efConstruction=76<br>search_time=%{x}<br>recall@3=%{y}<br>index_time=%{marker.size}<extra></extra>\",\"legendgroup\":\"64\",\"marker\":{\"color\":\"#990099\",\"size\":[2283.8280436992645],\"sizemode\":\"area\",\"sizeref\":10.15034686088562,\"symbol\":\"circle\"},\"mode\":\"markers\",\"name\":\"64\",\"orientation\":\"v\",\"showlegend\":false,\"x\":[0.21347618103027344],\"xaxis\":\"x12\",\"y\":[0.918],\"yaxis\":\"y12\",\"type\":\"scatter\"},{\"hovertemplate\":\"M=64<br>efSearch=40<br>efConstruction=4<br>search_time=%{x}<br>recall@3=%{y}<br>index_time=%{marker.size}<extra></extra>\",\"legendgroup\":\"64\",\"marker\":{\"color\":\"#990099\",\"size\":[84.30060291290283],\"sizemode\":\"area\",\"sizeref\":10.15034686088562,\"symbol\":\"circle\"},\"mode\":\"markers\",\"name\":\"64\",\"orientation\":\"v\",\"showlegend\":false,\"x\":[0.1025090217590332],\"xaxis\":\"x5\",\"y\":[0.062],\"yaxis\":\"y5\",\"type\":\"scatter\"},{\"hovertemplate\":\"M=64<br>efSearch=40<br>efConstruction=16<br>search_time=%{x}<br>recall@3=%{y}<br>index_time=%{marker.size}<extra></extra>\",\"legendgroup\":\"64\",\"marker\":{\"color\":\"#990099\",\"size\":[409.31881046295166],\"sizemode\":\"area\",\"sizeref\":10.15034686088562,\"symbol\":\"circle\"},\"mode\":\"markers\",\"name\":\"64\",\"orientation\":\"v\",\"showlegend\":false,\"x\":[0.4639923572540283],\"xaxis\":\"x6\",\"y\":[0.891],\"yaxis\":\"y6\",\"type\":\"scatter\"},{\"hovertemplate\":\"M=64<br>efSearch=40<br>efConstruction=40<br>search_time=%{x}<br>recall@3=%{y}<br>index_time=%{marker.size}<extra></extra>\",\"legendgroup\":\"64\",\"marker\":{\"color\":\"#990099\",\"size\":[1156.391366481781],\"sizemode\":\"area\",\"sizeref\":10.15034686088562,\"symbol\":\"circle\"},\"mode\":\"markers\",\"name\":\"64\",\"orientation\":\"v\",\"showlegend\":false,\"x\":[0.3768594264984131],\"xaxis\":\"x7\",\"y\":[0.949],\"yaxis\":\"y7\",\"type\":\"scatter\"},{\"hovertemplate\":\"M=64<br>efSearch=40<br>efConstruction=76<br>search_time=%{x}<br>recall@3=%{y}<br>index_time=%{marker.size}<extra></extra>\",\"legendgroup\":\"64\",\"marker\":{\"color\":\"#990099\",\"size\":[2283.8280436992645],\"sizemode\":\"area\",\"sizeref\":10.15034686088562,\"symbol\":\"circle\"},\"mode\":\"markers\",\"name\":\"64\",\"orientation\":\"v\",\"showlegend\":false,\"x\":[0.43504786491394043],\"xaxis\":\"x8\",\"y\":[0.97],\"yaxis\":\"y8\",\"type\":\"scatter\"},{\"hovertemplate\":\"M=64<br>efSearch=76<br>efConstruction=4<br>search_time=%{x}<br>recall@3=%{y}<br>index_time=%{marker.size}<extra></extra>\",\"legendgroup\":\"64\",\"marker\":{\"color\":\"#990099\",\"size\":[84.30060291290283],\"sizemode\":\"area\",\"sizeref\":10.15034686088562,\"symbol\":\"circle\"},\"mode\":\"markers\",\"name\":\"64\",\"orientation\":\"v\",\"showlegend\":false,\"x\":[0.17495179176330566],\"xaxis\":\"x\",\"y\":[0.072],\"yaxis\":\"y\",\"type\":\"scatter\"},{\"hovertemplate\":\"M=64<br>efSearch=76<br>efConstruction=16<br>search_time=%{x}<br>recall@3=%{y}<br>index_time=%{marker.size}<extra></extra>\",\"legendgroup\":\"64\",\"marker\":{\"color\":\"#990099\",\"size\":[409.31881046295166],\"sizemode\":\"area\",\"sizeref\":10.15034686088562,\"symbol\":\"circle\"},\"mode\":\"markers\",\"name\":\"64\",\"orientation\":\"v\",\"showlegend\":false,\"x\":[0.4009709358215332],\"xaxis\":\"x2\",\"y\":[0.926],\"yaxis\":\"y2\",\"type\":\"scatter\"},{\"hovertemplate\":\"M=64<br>efSearch=76<br>efConstruction=40<br>search_time=%{x}<br>recall@3=%{y}<br>index_time=%{marker.size}<extra></extra>\",\"legendgroup\":\"64\",\"marker\":{\"color\":\"#990099\",\"size\":[1156.391366481781],\"sizemode\":\"area\",\"sizeref\":10.15034686088562,\"symbol\":\"circle\"},\"mode\":\"markers\",\"name\":\"64\",\"orientation\":\"v\",\"showlegend\":false,\"x\":[0.6303355693817139],\"xaxis\":\"x3\",\"y\":[0.977],\"yaxis\":\"y3\",\"type\":\"scatter\"},{\"hovertemplate\":\"M=64<br>efSearch=76<br>efConstruction=76<br>search_time=%{x}<br>recall@3=%{y}<br>index_time=%{marker.size}<extra></extra>\",\"legendgroup\":\"64\",\"marker\":{\"color\":\"#990099\",\"size\":[2283.8280436992645],\"sizemode\":\"area\",\"sizeref\":10.15034686088562,\"symbol\":\"circle\"},\"mode\":\"markers\",\"name\":\"64\",\"orientation\":\"v\",\"showlegend\":false,\"x\":[0.7314002513885498],\"xaxis\":\"x4\",\"y\":[0.992],\"yaxis\":\"y4\",\"type\":\"scatter\"}],                        {\"template\":{\"data\":{\"barpolar\":[{\"marker\":{\"line\":{\"color\":\"white\",\"width\":0.5},\"pattern\":{\"fillmode\":\"overlay\",\"size\":10,\"solidity\":0.2}},\"type\":\"barpolar\"}],\"bar\":[{\"error_x\":{\"color\":\"rgb(36,36,36)\"},\"error_y\":{\"color\":\"rgb(36,36,36)\"},\"marker\":{\"line\":{\"color\":\"white\",\"width\":0.5},\"pattern\":{\"fillmode\":\"overlay\",\"size\":10,\"solidity\":0.2}},\"type\":\"bar\"}],\"carpet\":[{\"aaxis\":{\"endlinecolor\":\"rgb(36,36,36)\",\"gridcolor\":\"white\",\"linecolor\":\"white\",\"minorgridcolor\":\"white\",\"startlinecolor\":\"rgb(36,36,36)\"},\"baxis\":{\"endlinecolor\":\"rgb(36,36,36)\",\"gridcolor\":\"white\",\"linecolor\":\"white\",\"minorgridcolor\":\"white\",\"startlinecolor\":\"rgb(36,36,36)\"},\"type\":\"carpet\"}],\"choropleth\":[{\"colorbar\":{\"outlinewidth\":1,\"tickcolor\":\"rgb(36,36,36)\",\"ticks\":\"outside\"},\"type\":\"choropleth\"}],\"contourcarpet\":[{\"colorbar\":{\"outlinewidth\":1,\"tickcolor\":\"rgb(36,36,36)\",\"ticks\":\"outside\"},\"type\":\"contourcarpet\"}],\"contour\":[{\"colorbar\":{\"outlinewidth\":1,\"tickcolor\":\"rgb(36,36,36)\",\"ticks\":\"outside\"},\"colorscale\":[[0.0,\"#440154\"],[0.1111111111111111,\"#482878\"],[0.2222222222222222,\"#3e4989\"],[0.3333333333333333,\"#31688e\"],[0.4444444444444444,\"#26828e\"],[0.5555555555555556,\"#1f9e89\"],[0.6666666666666666,\"#35b779\"],[0.7777777777777778,\"#6ece58\"],[0.8888888888888888,\"#b5de2b\"],[1.0,\"#fde725\"]],\"type\":\"contour\"}],\"heatmapgl\":[{\"colorbar\":{\"outlinewidth\":1,\"tickcolor\":\"rgb(36,36,36)\",\"ticks\":\"outside\"},\"colorscale\":[[0.0,\"#440154\"],[0.1111111111111111,\"#482878\"],[0.2222222222222222,\"#3e4989\"],[0.3333333333333333,\"#31688e\"],[0.4444444444444444,\"#26828e\"],[0.5555555555555556,\"#1f9e89\"],[0.6666666666666666,\"#35b779\"],[0.7777777777777778,\"#6ece58\"],[0.8888888888888888,\"#b5de2b\"],[1.0,\"#fde725\"]],\"type\":\"heatmapgl\"}],\"heatmap\":[{\"colorbar\":{\"outlinewidth\":1,\"tickcolor\":\"rgb(36,36,36)\",\"ticks\":\"outside\"},\"colorscale\":[[0.0,\"#440154\"],[0.1111111111111111,\"#482878\"],[0.2222222222222222,\"#3e4989\"],[0.3333333333333333,\"#31688e\"],[0.4444444444444444,\"#26828e\"],[0.5555555555555556,\"#1f9e89\"],[0.6666666666666666,\"#35b779\"],[0.7777777777777778,\"#6ece58\"],[0.8888888888888888,\"#b5de2b\"],[1.0,\"#fde725\"]],\"type\":\"heatmap\"}],\"histogram2dcontour\":[{\"colorbar\":{\"outlinewidth\":1,\"tickcolor\":\"rgb(36,36,36)\",\"ticks\":\"outside\"},\"colorscale\":[[0.0,\"#440154\"],[0.1111111111111111,\"#482878\"],[0.2222222222222222,\"#3e4989\"],[0.3333333333333333,\"#31688e\"],[0.4444444444444444,\"#26828e\"],[0.5555555555555556,\"#1f9e89\"],[0.6666666666666666,\"#35b779\"],[0.7777777777777778,\"#6ece58\"],[0.8888888888888888,\"#b5de2b\"],[1.0,\"#fde725\"]],\"type\":\"histogram2dcontour\"}],\"histogram2d\":[{\"colorbar\":{\"outlinewidth\":1,\"tickcolor\":\"rgb(36,36,36)\",\"ticks\":\"outside\"},\"colorscale\":[[0.0,\"#440154\"],[0.1111111111111111,\"#482878\"],[0.2222222222222222,\"#3e4989\"],[0.3333333333333333,\"#31688e\"],[0.4444444444444444,\"#26828e\"],[0.5555555555555556,\"#1f9e89\"],[0.6666666666666666,\"#35b779\"],[0.7777777777777778,\"#6ece58\"],[0.8888888888888888,\"#b5de2b\"],[1.0,\"#fde725\"]],\"type\":\"histogram2d\"}],\"histogram\":[{\"marker\":{\"line\":{\"color\":\"white\",\"width\":0.6}},\"type\":\"histogram\"}],\"mesh3d\":[{\"colorbar\":{\"outlinewidth\":1,\"tickcolor\":\"rgb(36,36,36)\",\"ticks\":\"outside\"},\"type\":\"mesh3d\"}],\"parcoords\":[{\"line\":{\"colorbar\":{\"outlinewidth\":1,\"tickcolor\":\"rgb(36,36,36)\",\"ticks\":\"outside\"}},\"type\":\"parcoords\"}],\"pie\":[{\"automargin\":true,\"type\":\"pie\"}],\"scatter3d\":[{\"line\":{\"colorbar\":{\"outlinewidth\":1,\"tickcolor\":\"rgb(36,36,36)\",\"ticks\":\"outside\"}},\"marker\":{\"colorbar\":{\"outlinewidth\":1,\"tickcolor\":\"rgb(36,36,36)\",\"ticks\":\"outside\"}},\"type\":\"scatter3d\"}],\"scattercarpet\":[{\"marker\":{\"colorbar\":{\"outlinewidth\":1,\"tickcolor\":\"rgb(36,36,36)\",\"ticks\":\"outside\"}},\"type\":\"scattercarpet\"}],\"scattergeo\":[{\"marker\":{\"colorbar\":{\"outlinewidth\":1,\"tickcolor\":\"rgb(36,36,36)\",\"ticks\":\"outside\"}},\"type\":\"scattergeo\"}],\"scattergl\":[{\"marker\":{\"colorbar\":{\"outlinewidth\":1,\"tickcolor\":\"rgb(36,36,36)\",\"ticks\":\"outside\"}},\"type\":\"scattergl\"}],\"scattermapbox\":[{\"marker\":{\"colorbar\":{\"outlinewidth\":1,\"tickcolor\":\"rgb(36,36,36)\",\"ticks\":\"outside\"}},\"type\":\"scattermapbox\"}],\"scatterpolargl\":[{\"marker\":{\"colorbar\":{\"outlinewidth\":1,\"tickcolor\":\"rgb(36,36,36)\",\"ticks\":\"outside\"}},\"type\":\"scatterpolargl\"}],\"scatterpolar\":[{\"marker\":{\"colorbar\":{\"outlinewidth\":1,\"tickcolor\":\"rgb(36,36,36)\",\"ticks\":\"outside\"}},\"type\":\"scatterpolar\"}],\"scatter\":[{\"fillpattern\":{\"fillmode\":\"overlay\",\"size\":10,\"solidity\":0.2},\"type\":\"scatter\"}],\"scatterternary\":[{\"marker\":{\"colorbar\":{\"outlinewidth\":1,\"tickcolor\":\"rgb(36,36,36)\",\"ticks\":\"outside\"}},\"type\":\"scatterternary\"}],\"surface\":[{\"colorbar\":{\"outlinewidth\":1,\"tickcolor\":\"rgb(36,36,36)\",\"ticks\":\"outside\"},\"colorscale\":[[0.0,\"#440154\"],[0.1111111111111111,\"#482878\"],[0.2222222222222222,\"#3e4989\"],[0.3333333333333333,\"#31688e\"],[0.4444444444444444,\"#26828e\"],[0.5555555555555556,\"#1f9e89\"],[0.6666666666666666,\"#35b779\"],[0.7777777777777778,\"#6ece58\"],[0.8888888888888888,\"#b5de2b\"],[1.0,\"#fde725\"]],\"type\":\"surface\"}],\"table\":[{\"cells\":{\"fill\":{\"color\":\"rgb(237,237,237)\"},\"line\":{\"color\":\"white\"}},\"header\":{\"fill\":{\"color\":\"rgb(217,217,217)\"},\"line\":{\"color\":\"white\"}},\"type\":\"table\"}]},\"layout\":{\"annotationdefaults\":{\"arrowhead\":0,\"arrowwidth\":1},\"autotypenumbers\":\"strict\",\"coloraxis\":{\"colorbar\":{\"outlinewidth\":1,\"tickcolor\":\"rgb(36,36,36)\",\"ticks\":\"outside\"}},\"colorscale\":{\"diverging\":[[0.0,\"rgb(103,0,31)\"],[0.1,\"rgb(178,24,43)\"],[0.2,\"rgb(214,96,77)\"],[0.3,\"rgb(244,165,130)\"],[0.4,\"rgb(253,219,199)\"],[0.5,\"rgb(247,247,247)\"],[0.6,\"rgb(209,229,240)\"],[0.7,\"rgb(146,197,222)\"],[0.8,\"rgb(67,147,195)\"],[0.9,\"rgb(33,102,172)\"],[1.0,\"rgb(5,48,97)\"]],\"sequential\":[[0.0,\"#440154\"],[0.1111111111111111,\"#482878\"],[0.2222222222222222,\"#3e4989\"],[0.3333333333333333,\"#31688e\"],[0.4444444444444444,\"#26828e\"],[0.5555555555555556,\"#1f9e89\"],[0.6666666666666666,\"#35b779\"],[0.7777777777777778,\"#6ece58\"],[0.8888888888888888,\"#b5de2b\"],[1.0,\"#fde725\"]],\"sequentialminus\":[[0.0,\"#440154\"],[0.1111111111111111,\"#482878\"],[0.2222222222222222,\"#3e4989\"],[0.3333333333333333,\"#31688e\"],[0.4444444444444444,\"#26828e\"],[0.5555555555555556,\"#1f9e89\"],[0.6666666666666666,\"#35b779\"],[0.7777777777777778,\"#6ece58\"],[0.8888888888888888,\"#b5de2b\"],[1.0,\"#fde725\"]]},\"colorway\":[\"#1F77B4\",\"#FF7F0E\",\"#2CA02C\",\"#D62728\",\"#9467BD\",\"#8C564B\",\"#E377C2\",\"#7F7F7F\",\"#BCBD22\",\"#17BECF\"],\"font\":{\"color\":\"rgb(36,36,36)\"},\"geo\":{\"bgcolor\":\"white\",\"lakecolor\":\"white\",\"landcolor\":\"white\",\"showlakes\":true,\"showland\":true,\"subunitcolor\":\"white\"},\"hoverlabel\":{\"align\":\"left\"},\"hovermode\":\"closest\",\"mapbox\":{\"style\":\"light\"},\"paper_bgcolor\":\"white\",\"plot_bgcolor\":\"white\",\"polar\":{\"angularaxis\":{\"gridcolor\":\"rgb(232,232,232)\",\"linecolor\":\"rgb(36,36,36)\",\"showgrid\":false,\"showline\":true,\"ticks\":\"outside\"},\"bgcolor\":\"white\",\"radialaxis\":{\"gridcolor\":\"rgb(232,232,232)\",\"linecolor\":\"rgb(36,36,36)\",\"showgrid\":false,\"showline\":true,\"ticks\":\"outside\"}},\"scene\":{\"xaxis\":{\"backgroundcolor\":\"white\",\"gridcolor\":\"rgb(232,232,232)\",\"gridwidth\":2,\"linecolor\":\"rgb(36,36,36)\",\"showbackground\":true,\"showgrid\":false,\"showline\":true,\"ticks\":\"outside\",\"zeroline\":false,\"zerolinecolor\":\"rgb(36,36,36)\"},\"yaxis\":{\"backgroundcolor\":\"white\",\"gridcolor\":\"rgb(232,232,232)\",\"gridwidth\":2,\"linecolor\":\"rgb(36,36,36)\",\"showbackground\":true,\"showgrid\":false,\"showline\":true,\"ticks\":\"outside\",\"zeroline\":false,\"zerolinecolor\":\"rgb(36,36,36)\"},\"zaxis\":{\"backgroundcolor\":\"white\",\"gridcolor\":\"rgb(232,232,232)\",\"gridwidth\":2,\"linecolor\":\"rgb(36,36,36)\",\"showbackground\":true,\"showgrid\":false,\"showline\":true,\"ticks\":\"outside\",\"zeroline\":false,\"zerolinecolor\":\"rgb(36,36,36)\"}},\"shapedefaults\":{\"fillcolor\":\"black\",\"line\":{\"width\":0},\"opacity\":0.3},\"ternary\":{\"aaxis\":{\"gridcolor\":\"rgb(232,232,232)\",\"linecolor\":\"rgb(36,36,36)\",\"showgrid\":false,\"showline\":true,\"ticks\":\"outside\"},\"baxis\":{\"gridcolor\":\"rgb(232,232,232)\",\"linecolor\":\"rgb(36,36,36)\",\"showgrid\":false,\"showline\":true,\"ticks\":\"outside\"},\"bgcolor\":\"white\",\"caxis\":{\"gridcolor\":\"rgb(232,232,232)\",\"linecolor\":\"rgb(36,36,36)\",\"showgrid\":false,\"showline\":true,\"ticks\":\"outside\"}},\"title\":{\"x\":0.05},\"xaxis\":{\"automargin\":true,\"gridcolor\":\"rgb(232,232,232)\",\"linecolor\":\"rgb(36,36,36)\",\"showgrid\":false,\"showline\":true,\"ticks\":\"outside\",\"title\":{\"standoff\":15},\"zeroline\":false,\"zerolinecolor\":\"rgb(36,36,36)\"},\"yaxis\":{\"automargin\":true,\"gridcolor\":\"rgb(232,232,232)\",\"linecolor\":\"rgb(36,36,36)\",\"showgrid\":false,\"showline\":true,\"ticks\":\"outside\",\"title\":{\"standoff\":15},\"zeroline\":false,\"zerolinecolor\":\"rgb(36,36,36)\"}}},\"xaxis\":{\"anchor\":\"y\",\"domain\":[0.0,0.22999999999999998],\"title\":{\"text\":\"\"},\"showgrid\":true,\"gridwidth\":1,\"gridcolor\":\"#F0F0F0\",\"linecolor\":\"darkgrey\",\"ticks\":\"\"},\"yaxis\":{\"anchor\":\"x\",\"domain\":[0.0,0.235],\"title\":{\"text\":\"<B>                             1-recall@3\",\"standoff\":5},\"showgrid\":true,\"gridwidth\":1,\"gridcolor\":\"#F0F0F0\",\"linecolor\":\"darkgrey\",\"ticks\":\"\",\"range\":[0,1.1],\"tick0\":0.2,\"dtick\":0.2},\"xaxis2\":{\"anchor\":\"y2\",\"domain\":[0.24999999999999997,0.48],\"matches\":\"x\",\"title\":{\"text\":\"<B>search time (ms/query)\",\"standoff\":10},\"showgrid\":true,\"gridwidth\":1,\"gridcolor\":\"#F0F0F0\",\"linecolor\":\"darkgrey\",\"ticks\":\"\"},\"yaxis2\":{\"anchor\":\"x2\",\"domain\":[0.0,0.235],\"matches\":\"y\",\"showticklabels\":false,\"showgrid\":true,\"gridwidth\":1,\"gridcolor\":\"#F0F0F0\",\"linecolor\":\"darkgrey\",\"ticks\":\"\",\"range\":[0,1.1],\"tick0\":0.2,\"dtick\":0.2,\"title\":{\"text\":\"\"}},\"xaxis3\":{\"anchor\":\"y3\",\"domain\":[0.49999999999999994,0.73],\"matches\":\"x\",\"title\":{\"text\":\"\"},\"showgrid\":true,\"gridwidth\":1,\"gridcolor\":\"#F0F0F0\",\"linecolor\":\"darkgrey\",\"ticks\":\"\"},\"yaxis3\":{\"anchor\":\"x3\",\"domain\":[0.0,0.235],\"matches\":\"y\",\"showticklabels\":false,\"showgrid\":true,\"gridwidth\":1,\"gridcolor\":\"#F0F0F0\",\"linecolor\":\"darkgrey\",\"ticks\":\"\",\"range\":[0,1.1],\"tick0\":0.2,\"dtick\":0.2,\"title\":{\"text\":\"\"}},\"xaxis4\":{\"anchor\":\"y4\",\"domain\":[0.75,0.98],\"matches\":\"x\",\"title\":{\"text\":\"\"},\"showgrid\":true,\"gridwidth\":1,\"gridcolor\":\"#F0F0F0\",\"linecolor\":\"darkgrey\",\"ticks\":\"\"},\"yaxis4\":{\"anchor\":\"x4\",\"domain\":[0.0,0.235],\"matches\":\"y\",\"showticklabels\":false,\"showgrid\":true,\"gridwidth\":1,\"gridcolor\":\"#F0F0F0\",\"linecolor\":\"darkgrey\",\"ticks\":\"\",\"range\":[0,1.1],\"tick0\":0.2,\"dtick\":0.2,\"title\":{\"text\":\"\"}},\"xaxis5\":{\"anchor\":\"y5\",\"domain\":[0.0,0.22999999999999998],\"matches\":\"x\",\"showticklabels\":false,\"showgrid\":true,\"gridwidth\":1,\"gridcolor\":\"#F0F0F0\",\"linecolor\":\"darkgrey\",\"ticks\":\"\",\"title\":{\"text\":\"\"}},\"yaxis5\":{\"anchor\":\"x5\",\"domain\":[0.255,0.49],\"matches\":\"y\",\"title\":{\"text\":\"\"},\"showgrid\":true,\"gridwidth\":1,\"gridcolor\":\"#F0F0F0\",\"linecolor\":\"darkgrey\",\"ticks\":\"\",\"range\":[0,1.1],\"tick0\":0.2,\"dtick\":0.2},\"xaxis6\":{\"anchor\":\"y6\",\"domain\":[0.24999999999999997,0.48],\"matches\":\"x\",\"showticklabels\":false,\"showgrid\":true,\"gridwidth\":1,\"gridcolor\":\"#F0F0F0\",\"linecolor\":\"darkgrey\",\"ticks\":\"\",\"title\":{\"text\":\"\"}},\"yaxis6\":{\"anchor\":\"x6\",\"domain\":[0.255,0.49],\"matches\":\"y\",\"showticklabels\":false,\"showgrid\":true,\"gridwidth\":1,\"gridcolor\":\"#F0F0F0\",\"linecolor\":\"darkgrey\",\"ticks\":\"\",\"range\":[0,1.1],\"tick0\":0.2,\"dtick\":0.2,\"title\":{\"text\":\"\"}},\"xaxis7\":{\"anchor\":\"y7\",\"domain\":[0.49999999999999994,0.73],\"matches\":\"x\",\"showticklabels\":false,\"showgrid\":true,\"gridwidth\":1,\"gridcolor\":\"#F0F0F0\",\"linecolor\":\"darkgrey\",\"ticks\":\"\",\"title\":{\"text\":\"\"}},\"yaxis7\":{\"anchor\":\"x7\",\"domain\":[0.255,0.49],\"matches\":\"y\",\"showticklabels\":false,\"showgrid\":true,\"gridwidth\":1,\"gridcolor\":\"#F0F0F0\",\"linecolor\":\"darkgrey\",\"ticks\":\"\",\"range\":[0,1.1],\"tick0\":0.2,\"dtick\":0.2,\"title\":{\"text\":\"\"}},\"xaxis8\":{\"anchor\":\"y8\",\"domain\":[0.75,0.98],\"matches\":\"x\",\"showticklabels\":false,\"showgrid\":true,\"gridwidth\":1,\"gridcolor\":\"#F0F0F0\",\"linecolor\":\"darkgrey\",\"ticks\":\"\",\"title\":{\"text\":\"\"}},\"yaxis8\":{\"anchor\":\"x8\",\"domain\":[0.255,0.49],\"matches\":\"y\",\"showticklabels\":false,\"showgrid\":true,\"gridwidth\":1,\"gridcolor\":\"#F0F0F0\",\"linecolor\":\"darkgrey\",\"ticks\":\"\",\"range\":[0,1.1],\"tick0\":0.2,\"dtick\":0.2,\"title\":{\"text\":\"\"}},\"xaxis9\":{\"anchor\":\"y9\",\"domain\":[0.0,0.22999999999999998],\"matches\":\"x\",\"showticklabels\":false,\"showgrid\":true,\"gridwidth\":1,\"gridcolor\":\"#F0F0F0\",\"linecolor\":\"darkgrey\",\"ticks\":\"\",\"title\":{\"text\":\"\"}},\"yaxis9\":{\"anchor\":\"x9\",\"domain\":[0.51,0.745],\"matches\":\"y\",\"title\":{\"text\":\"\"},\"showgrid\":true,\"gridwidth\":1,\"gridcolor\":\"#F0F0F0\",\"linecolor\":\"darkgrey\",\"ticks\":\"\",\"range\":[0,1.1],\"tick0\":0.2,\"dtick\":0.2},\"xaxis10\":{\"anchor\":\"y10\",\"domain\":[0.24999999999999997,0.48],\"matches\":\"x\",\"showticklabels\":false,\"showgrid\":true,\"gridwidth\":1,\"gridcolor\":\"#F0F0F0\",\"linecolor\":\"darkgrey\",\"ticks\":\"\",\"title\":{\"text\":\"\"}},\"yaxis10\":{\"anchor\":\"x10\",\"domain\":[0.51,0.745],\"matches\":\"y\",\"showticklabels\":false,\"showgrid\":true,\"gridwidth\":1,\"gridcolor\":\"#F0F0F0\",\"linecolor\":\"darkgrey\",\"ticks\":\"\",\"range\":[0,1.1],\"tick0\":0.2,\"dtick\":0.2,\"title\":{\"text\":\"\"}},\"xaxis11\":{\"anchor\":\"y11\",\"domain\":[0.49999999999999994,0.73],\"matches\":\"x\",\"showticklabels\":false,\"showgrid\":true,\"gridwidth\":1,\"gridcolor\":\"#F0F0F0\",\"linecolor\":\"darkgrey\",\"ticks\":\"\",\"title\":{\"text\":\"\"}},\"yaxis11\":{\"anchor\":\"x11\",\"domain\":[0.51,0.745],\"matches\":\"y\",\"showticklabels\":false,\"showgrid\":true,\"gridwidth\":1,\"gridcolor\":\"#F0F0F0\",\"linecolor\":\"darkgrey\",\"ticks\":\"\",\"range\":[0,1.1],\"tick0\":0.2,\"dtick\":0.2,\"title\":{\"text\":\"\"}},\"xaxis12\":{\"anchor\":\"y12\",\"domain\":[0.75,0.98],\"matches\":\"x\",\"showticklabels\":false,\"showgrid\":true,\"gridwidth\":1,\"gridcolor\":\"#F0F0F0\",\"linecolor\":\"darkgrey\",\"ticks\":\"\",\"title\":{\"text\":\"\"}},\"yaxis12\":{\"anchor\":\"x12\",\"domain\":[0.51,0.745],\"matches\":\"y\",\"showticklabels\":false,\"showgrid\":true,\"gridwidth\":1,\"gridcolor\":\"#F0F0F0\",\"linecolor\":\"darkgrey\",\"ticks\":\"\",\"range\":[0,1.1],\"tick0\":0.2,\"dtick\":0.2,\"title\":{\"text\":\"\"}},\"xaxis13\":{\"anchor\":\"y13\",\"domain\":[0.0,0.22999999999999998],\"matches\":\"x\",\"showticklabels\":false,\"showgrid\":true,\"gridwidth\":1,\"gridcolor\":\"#F0F0F0\",\"linecolor\":\"darkgrey\",\"ticks\":\"\",\"title\":{\"text\":\"\"}},\"yaxis13\":{\"anchor\":\"x13\",\"domain\":[0.7649999999999999,0.9999999999999999],\"matches\":\"y\",\"title\":{\"text\":\"\"},\"showgrid\":true,\"gridwidth\":1,\"gridcolor\":\"#F0F0F0\",\"linecolor\":\"darkgrey\",\"ticks\":\"\",\"range\":[0,1.1],\"tick0\":0.2,\"dtick\":0.2},\"xaxis14\":{\"anchor\":\"y14\",\"domain\":[0.24999999999999997,0.48],\"matches\":\"x\",\"showticklabels\":false,\"showgrid\":true,\"gridwidth\":1,\"gridcolor\":\"#F0F0F0\",\"linecolor\":\"darkgrey\",\"ticks\":\"\",\"title\":{\"text\":\"\"}},\"yaxis14\":{\"anchor\":\"x14\",\"domain\":[0.7649999999999999,0.9999999999999999],\"matches\":\"y\",\"showticklabels\":false,\"showgrid\":true,\"gridwidth\":1,\"gridcolor\":\"#F0F0F0\",\"linecolor\":\"darkgrey\",\"ticks\":\"\",\"range\":[0,1.1],\"tick0\":0.2,\"dtick\":0.2,\"title\":{\"text\":\"\"}},\"xaxis15\":{\"anchor\":\"y15\",\"domain\":[0.49999999999999994,0.73],\"matches\":\"x\",\"showticklabels\":false,\"showgrid\":true,\"gridwidth\":1,\"gridcolor\":\"#F0F0F0\",\"linecolor\":\"darkgrey\",\"ticks\":\"\",\"title\":{\"text\":\"\"}},\"yaxis15\":{\"anchor\":\"x15\",\"domain\":[0.7649999999999999,0.9999999999999999],\"matches\":\"y\",\"showticklabels\":false,\"showgrid\":true,\"gridwidth\":1,\"gridcolor\":\"#F0F0F0\",\"linecolor\":\"darkgrey\",\"ticks\":\"\",\"range\":[0,1.1],\"tick0\":0.2,\"dtick\":0.2,\"title\":{\"text\":\"\"}},\"xaxis16\":{\"anchor\":\"y16\",\"domain\":[0.75,0.98],\"matches\":\"x\",\"showticklabels\":false,\"showgrid\":true,\"gridwidth\":1,\"gridcolor\":\"#F0F0F0\",\"linecolor\":\"darkgrey\",\"ticks\":\"\",\"title\":{\"text\":\"\"}},\"yaxis16\":{\"anchor\":\"x16\",\"domain\":[0.7649999999999999,0.9999999999999999],\"matches\":\"y\",\"showticklabels\":false,\"showgrid\":true,\"gridwidth\":1,\"gridcolor\":\"#F0F0F0\",\"linecolor\":\"darkgrey\",\"ticks\":\"\",\"range\":[0,1.1],\"tick0\":0.2,\"dtick\":0.2,\"title\":{\"text\":\"\"}},\"annotations\":[{\"font\":{},\"showarrow\":false,\"text\":\"efConstruction=4\",\"x\":0.11499999999999999,\"xanchor\":\"center\",\"xref\":\"paper\",\"y\":0.9999999999999999,\"yanchor\":\"bottom\",\"yref\":\"paper\"},{\"font\":{},\"showarrow\":false,\"text\":\"efConstruction=16\",\"x\":0.365,\"xanchor\":\"center\",\"xref\":\"paper\",\"y\":0.9999999999999999,\"yanchor\":\"bottom\",\"yref\":\"paper\"},{\"font\":{},\"showarrow\":false,\"text\":\"efConstruction=40\",\"x\":0.615,\"xanchor\":\"center\",\"xref\":\"paper\",\"y\":0.9999999999999999,\"yanchor\":\"bottom\",\"yref\":\"paper\"},{\"font\":{},\"showarrow\":false,\"text\":\"efConstruction=76\",\"x\":0.865,\"xanchor\":\"center\",\"xref\":\"paper\",\"y\":0.9999999999999999,\"yanchor\":\"bottom\",\"yref\":\"paper\"},{\"font\":{},\"showarrow\":false,\"text\":\"efSearch=76\",\"textangle\":90,\"x\":0.98,\"xanchor\":\"left\",\"xref\":\"paper\",\"y\":0.1175,\"yanchor\":\"middle\",\"yref\":\"paper\"},{\"font\":{},\"showarrow\":false,\"text\":\"efSearch=40\",\"textangle\":90,\"x\":0.98,\"xanchor\":\"left\",\"xref\":\"paper\",\"y\":0.3725,\"yanchor\":\"middle\",\"yref\":\"paper\"},{\"font\":{},\"showarrow\":false,\"text\":\"efSearch=16\",\"textangle\":90,\"x\":0.98,\"xanchor\":\"left\",\"xref\":\"paper\",\"y\":0.6275,\"yanchor\":\"middle\",\"yref\":\"paper\"},{\"font\":{},\"showarrow\":false,\"text\":\"efSearch=4\",\"textangle\":90,\"x\":0.98,\"xanchor\":\"left\",\"xref\":\"paper\",\"y\":0.8824999999999998,\"yanchor\":\"middle\",\"yref\":\"paper\"}],\"legend\":{\"title\":{\"text\":\"M\"},\"tracegroupgap\":0,\"itemsizing\":\"constant\",\"borderwidth\":1,\"traceorder\":\"reversed\",\"yanchor\":\"top\",\"y\":0.76,\"xanchor\":\"left\",\"x\":1.03},\"margin\":{\"t\":60},\"height\":700,\"width\":700,\"title\":{\"font\":{\"family\":\"Arial\",\"color\":\"RebeccaPurple\"},\"text\":\"<B>Bubble Size corresponds to Construction Time (s)\",\"yanchor\":\"top\",\"y\":0.98,\"xanchor\":\"center\",\"x\":0.5}},                        {\"responsive\": true}                    ).then(function(){\n",
       "                            \n",
       "var gd = document.getElementById('a8fb3817-81d1-4d6a-b13c-88c5d870468d');\n",
       "var x = new MutationObserver(function (mutations, observer) {{\n",
       "        var display = window.getComputedStyle(gd).display;\n",
       "        if (!display || display === 'none') {{\n",
       "            console.log([gd, 'removed!']);\n",
       "            Plotly.purge(gd);\n",
       "            observer.disconnect();\n",
       "        }}\n",
       "}});\n",
       "\n",
       "// Listen for the removal of the full notebook cells\n",
       "var notebookContainer = gd.closest('#notebook-container');\n",
       "if (notebookContainer) {{\n",
       "    x.observe(notebookContainer, {childList: true});\n",
       "}}\n",
       "\n",
       "// Listen for the clearing of the current output cell\n",
       "var outputEl = gd.closest('.output');\n",
       "if (outputEl) {{\n",
       "    x.observe(outputEl, {childList: true});\n",
       "}}\n",
       "\n",
       "                        })                };                });            </script>        </div>"
      ]
     },
     "metadata": {},
     "output_type": "display_data"
    }
   ],
   "source": [
    "fig = px.scatter(dfHNSW, x=\"search_time\", y=\"recall@3\", color=\"M\", height=700, width=700, size=\"index_time\", size_max=15, \n",
    "                 template=\"simple_white\", color_discrete_sequence=colors_custom, #color_discrete_sequence=px.colors.qualitative.D3,  \n",
    "                 facet_row=\"efSearch\", facet_row_spacing=0.02,  \n",
    "                 facet_col=\"efConstruction\", facet_col_spacing=0.02     \n",
    "                )\n",
    "fig.update_xaxes(showgrid=True, gridwidth=1, gridcolor='#F0F0F0', linecolor='darkgrey', ticks=\"\")\n",
    "fig.update_yaxes(showgrid=True, gridwidth=1, gridcolor='#F0F0F0', linecolor='darkgrey', ticks=\"\", range=[0, 1.1], tick0=0.2, dtick=0.2)\n",
    "fig.update_xaxes(title_text=\"\")\n",
    "fig.update_yaxes(title_text=\"\")\n",
    "fig.update_xaxes(row=1, col=2, title_standoff=10, title_text=\"<B>search time (ms/query)\")                # title_font_family=\"Arial\"\n",
    "fig.update_yaxes(col=1, row=1, title_standoff=5, title_text=\"<B>                             1-recall@3\")\n",
    "fig.update_layout(legend=dict(borderwidth=1, traceorder=\"reversed\", yanchor=\"top\", y=0.76, xanchor=\"left\", x=1.03, ))\n",
    "fig.update_layout(title=dict(text=\"<B>Bubble Size corresponds to Construction Time (s)\", yanchor=\"top\", y=0.98, xanchor=\"center\", x=0.5, \n",
    "                             font_family=\"Arial\", font_color=\"RebeccaPurple\"))\n",
    "fig.show()\n",
    "fig.write_html(\"Hflat_recall_4x4_indextime.html\")"
   ]
  },
  {
   "cell_type": "markdown",
   "id": "03c15daa",
   "metadata": {
    "papermill": {
     "duration": 0.691138,
     "end_time": "2022-08-18T15:45:05.724904",
     "exception": false,
     "start_time": "2022-08-18T15:45:05.033766",
     "status": "completed"
    },
    "tags": []
   },
   "source": [
    "# Section 4b: Plots comparing the various HNSW indexes (with/without IVF and/or PQ)"
   ]
  },
  {
   "cell_type": "code",
   "execution_count": 52,
   "id": "f16f10f3",
   "metadata": {
    "execution": {
     "iopub.execute_input": "2022-08-18T15:45:06.914033Z",
     "iopub.status.busy": "2022-08-18T15:45:06.913642Z",
     "iopub.status.idle": "2022-08-18T15:45:06.918087Z",
     "shell.execute_reply": "2022-08-18T15:45:06.917140Z"
    },
    "papermill": {
     "duration": 0.599461,
     "end_time": "2022-08-18T15:45:06.920043",
     "exception": false,
     "start_time": "2022-08-18T15:45:06.320582",
     "status": "completed"
    },
    "tags": []
   },
   "outputs": [],
   "source": [
    "# try:\n",
    "#     print(df.head(1))\n",
    "# except NameError:\n",
    "#     df = pd.read_csv(\"../input/dfhnsw/df-25.csv\", delimiter=\"|\")"
   ]
  },
  {
   "cell_type": "code",
   "execution_count": 53,
   "id": "709502f2",
   "metadata": {
    "execution": {
     "iopub.execute_input": "2022-08-18T15:45:08.171723Z",
     "iopub.status.busy": "2022-08-18T15:45:08.170709Z",
     "iopub.status.idle": "2022-08-18T15:45:08.193080Z",
     "shell.execute_reply": "2022-08-18T15:45:08.192136Z"
    },
    "papermill": {
     "duration": 0.619675,
     "end_time": "2022-08-18T15:45:08.195170",
     "exception": false,
     "start_time": "2022-08-18T15:45:07.575495",
     "status": "completed"
    },
    "tags": []
   },
   "outputs": [
    {
     "data": {
      "text/html": [
       "<div>\n",
       "<style scoped>\n",
       "    .dataframe tbody tr th:only-of-type {\n",
       "        vertical-align: middle;\n",
       "    }\n",
       "\n",
       "    .dataframe tbody tr th {\n",
       "        vertical-align: top;\n",
       "    }\n",
       "\n",
       "    .dataframe thead th {\n",
       "        text-align: right;\n",
       "    }\n",
       "</style>\n",
       "<table border=\"1\" class=\"dataframe\">\n",
       "  <thead>\n",
       "    <tr style=\"text-align: right;\">\n",
       "      <th></th>\n",
       "      <th>index</th>\n",
       "      <th>M</th>\n",
       "      <th>nprobe</th>\n",
       "      <th>nsegment</th>\n",
       "      <th>recall@1</th>\n",
       "      <th>recall@3</th>\n",
       "      <th>recall@5</th>\n",
       "      <th>train_time</th>\n",
       "      <th>index_time</th>\n",
       "      <th>search_time</th>\n",
       "      <th>index_size</th>\n",
       "    </tr>\n",
       "  </thead>\n",
       "  <tbody>\n",
       "    <tr>\n",
       "      <th>0</th>\n",
       "      <td>IVF65536_HNSW32,PQ32</td>\n",
       "      <td>32</td>\n",
       "      <td>1.0</td>\n",
       "      <td>32.0</td>\n",
       "      <td>0.153</td>\n",
       "      <td>0.177</td>\n",
       "      <td>0.179</td>\n",
       "      <td>146.412567</td>\n",
       "      <td>25.161457</td>\n",
       "      <td>0.007221</td>\n",
       "      <td>154.209972</td>\n",
       "    </tr>\n",
       "    <tr>\n",
       "      <th>1</th>\n",
       "      <td>IVF65536_HNSW32,PQ32</td>\n",
       "      <td>32</td>\n",
       "      <td>8.0</td>\n",
       "      <td>32.0</td>\n",
       "      <td>0.349</td>\n",
       "      <td>0.437</td>\n",
       "      <td>0.450</td>\n",
       "      <td>146.412567</td>\n",
       "      <td>25.161457</td>\n",
       "      <td>0.006458</td>\n",
       "      <td>154.209972</td>\n",
       "    </tr>\n",
       "    <tr>\n",
       "      <th>2</th>\n",
       "      <td>IVF65536_HNSW32,PQ32</td>\n",
       "      <td>32</td>\n",
       "      <td>16.0</td>\n",
       "      <td>32.0</td>\n",
       "      <td>0.417</td>\n",
       "      <td>0.536</td>\n",
       "      <td>0.555</td>\n",
       "      <td>146.412567</td>\n",
       "      <td>25.161457</td>\n",
       "      <td>0.008272</td>\n",
       "      <td>154.209972</td>\n",
       "    </tr>\n",
       "    <tr>\n",
       "      <th>3</th>\n",
       "      <td>IVF65536_HNSW32,PQ32</td>\n",
       "      <td>32</td>\n",
       "      <td>64.0</td>\n",
       "      <td>32.0</td>\n",
       "      <td>0.521</td>\n",
       "      <td>0.712</td>\n",
       "      <td>0.746</td>\n",
       "      <td>146.412567</td>\n",
       "      <td>25.161457</td>\n",
       "      <td>0.018487</td>\n",
       "      <td>154.209972</td>\n",
       "    </tr>\n",
       "    <tr>\n",
       "      <th>4</th>\n",
       "      <td>IVF65536_HNSW32,PQ32</td>\n",
       "      <td>32</td>\n",
       "      <td>128.0</td>\n",
       "      <td>32.0</td>\n",
       "      <td>0.547</td>\n",
       "      <td>0.765</td>\n",
       "      <td>0.806</td>\n",
       "      <td>146.412567</td>\n",
       "      <td>25.161457</td>\n",
       "      <td>0.033655</td>\n",
       "      <td>154.209972</td>\n",
       "    </tr>\n",
       "    <tr>\n",
       "      <th>5</th>\n",
       "      <td>IVF65536_HNSW32,PQ32</td>\n",
       "      <td>32</td>\n",
       "      <td>256.0</td>\n",
       "      <td>32.0</td>\n",
       "      <td>0.563</td>\n",
       "      <td>0.804</td>\n",
       "      <td>0.856</td>\n",
       "      <td>146.412567</td>\n",
       "      <td>25.161457</td>\n",
       "      <td>0.074461</td>\n",
       "      <td>154.209972</td>\n",
       "    </tr>\n",
       "    <tr>\n",
       "      <th>6</th>\n",
       "      <td>IVF65536_HNSW32,PQ32</td>\n",
       "      <td>32</td>\n",
       "      <td>512.0</td>\n",
       "      <td>32.0</td>\n",
       "      <td>0.578</td>\n",
       "      <td>0.831</td>\n",
       "      <td>0.891</td>\n",
       "      <td>146.412567</td>\n",
       "      <td>25.161457</td>\n",
       "      <td>0.194748</td>\n",
       "      <td>154.209972</td>\n",
       "    </tr>\n",
       "    <tr>\n",
       "      <th>7</th>\n",
       "      <td>IVF65536_HNSW32,PQ32</td>\n",
       "      <td>32</td>\n",
       "      <td>1024.0</td>\n",
       "      <td>32.0</td>\n",
       "      <td>0.588</td>\n",
       "      <td>0.848</td>\n",
       "      <td>0.913</td>\n",
       "      <td>146.412567</td>\n",
       "      <td>25.161457</td>\n",
       "      <td>0.508792</td>\n",
       "      <td>154.209972</td>\n",
       "    </tr>\n",
       "    <tr>\n",
       "      <th>8</th>\n",
       "      <td>IVF65536_HNSW32,Flat</td>\n",
       "      <td>32</td>\n",
       "      <td>1.0</td>\n",
       "      <td>0.0</td>\n",
       "      <td>0.181</td>\n",
       "      <td>0.181</td>\n",
       "      <td>0.181</td>\n",
       "      <td>85.118428</td>\n",
       "      <td>18.936768</td>\n",
       "      <td>0.009698</td>\n",
       "      <td>1594.078859</td>\n",
       "    </tr>\n",
       "    <tr>\n",
       "      <th>9</th>\n",
       "      <td>IVF65536_HNSW32,Flat</td>\n",
       "      <td>32</td>\n",
       "      <td>8.0</td>\n",
       "      <td>0.0</td>\n",
       "      <td>0.455</td>\n",
       "      <td>0.455</td>\n",
       "      <td>0.455</td>\n",
       "      <td>85.118428</td>\n",
       "      <td>18.936768</td>\n",
       "      <td>0.011303</td>\n",
       "      <td>1594.078859</td>\n",
       "    </tr>\n",
       "    <tr>\n",
       "      <th>10</th>\n",
       "      <td>IVF65536_HNSW32,Flat</td>\n",
       "      <td>32</td>\n",
       "      <td>16.0</td>\n",
       "      <td>0.0</td>\n",
       "      <td>0.564</td>\n",
       "      <td>0.564</td>\n",
       "      <td>0.564</td>\n",
       "      <td>85.118428</td>\n",
       "      <td>18.936768</td>\n",
       "      <td>0.016028</td>\n",
       "      <td>1594.078859</td>\n",
       "    </tr>\n",
       "    <tr>\n",
       "      <th>11</th>\n",
       "      <td>IVF65536_HNSW32,Flat</td>\n",
       "      <td>32</td>\n",
       "      <td>64.0</td>\n",
       "      <td>0.0</td>\n",
       "      <td>0.768</td>\n",
       "      <td>0.768</td>\n",
       "      <td>0.768</td>\n",
       "      <td>85.118428</td>\n",
       "      <td>18.936768</td>\n",
       "      <td>0.035666</td>\n",
       "      <td>1594.078859</td>\n",
       "    </tr>\n",
       "    <tr>\n",
       "      <th>12</th>\n",
       "      <td>IVF65536_HNSW32,Flat</td>\n",
       "      <td>32</td>\n",
       "      <td>128.0</td>\n",
       "      <td>0.0</td>\n",
       "      <td>0.840</td>\n",
       "      <td>0.840</td>\n",
       "      <td>0.840</td>\n",
       "      <td>85.118428</td>\n",
       "      <td>18.936768</td>\n",
       "      <td>0.055360</td>\n",
       "      <td>1594.078859</td>\n",
       "    </tr>\n",
       "    <tr>\n",
       "      <th>13</th>\n",
       "      <td>IVF65536_HNSW32,Flat</td>\n",
       "      <td>32</td>\n",
       "      <td>256.0</td>\n",
       "      <td>0.0</td>\n",
       "      <td>0.904</td>\n",
       "      <td>0.904</td>\n",
       "      <td>0.904</td>\n",
       "      <td>85.118428</td>\n",
       "      <td>18.936768</td>\n",
       "      <td>0.088342</td>\n",
       "      <td>1594.078859</td>\n",
       "    </tr>\n",
       "    <tr>\n",
       "      <th>14</th>\n",
       "      <td>IVF65536_HNSW32,Flat</td>\n",
       "      <td>32</td>\n",
       "      <td>512.0</td>\n",
       "      <td>0.0</td>\n",
       "      <td>0.944</td>\n",
       "      <td>0.944</td>\n",
       "      <td>0.944</td>\n",
       "      <td>85.118428</td>\n",
       "      <td>18.936768</td>\n",
       "      <td>0.145132</td>\n",
       "      <td>1594.078859</td>\n",
       "    </tr>\n",
       "    <tr>\n",
       "      <th>15</th>\n",
       "      <td>IVF65536_HNSW32,Flat</td>\n",
       "      <td>32</td>\n",
       "      <td>1024.0</td>\n",
       "      <td>0.0</td>\n",
       "      <td>0.975</td>\n",
       "      <td>0.975</td>\n",
       "      <td>0.975</td>\n",
       "      <td>85.118428</td>\n",
       "      <td>18.936768</td>\n",
       "      <td>0.241979</td>\n",
       "      <td>1594.078859</td>\n",
       "    </tr>\n",
       "    <tr>\n",
       "      <th>16</th>\n",
       "      <td>HNSW32,Flat</td>\n",
       "      <td>32</td>\n",
       "      <td>0.0</td>\n",
       "      <td>0.0</td>\n",
       "      <td>0.851</td>\n",
       "      <td>0.851</td>\n",
       "      <td>0.851</td>\n",
       "      <td>None</td>\n",
       "      <td>920.648198</td>\n",
       "      <td>0.209860</td>\n",
       "      <td>2352.424546</td>\n",
       "    </tr>\n",
       "    <tr>\n",
       "      <th>17</th>\n",
       "      <td>HNSW32_PQ32</td>\n",
       "      <td>32</td>\n",
       "      <td>0.0</td>\n",
       "      <td>32.0</td>\n",
       "      <td>0.634</td>\n",
       "      <td>0.795</td>\n",
       "      <td>0.815</td>\n",
       "      <td>67.697279</td>\n",
       "      <td>721.771335</td>\n",
       "      <td>0.133165</td>\n",
       "      <td>912.555659</td>\n",
       "    </tr>\n",
       "  </tbody>\n",
       "</table>\n",
       "</div>"
      ],
      "text/plain": [
       "                   index   M  nprobe  nsegment  recall@1  recall@3  recall@5  \\\n",
       "0   IVF65536_HNSW32,PQ32  32     1.0      32.0     0.153     0.177     0.179   \n",
       "1   IVF65536_HNSW32,PQ32  32     8.0      32.0     0.349     0.437     0.450   \n",
       "2   IVF65536_HNSW32,PQ32  32    16.0      32.0     0.417     0.536     0.555   \n",
       "3   IVF65536_HNSW32,PQ32  32    64.0      32.0     0.521     0.712     0.746   \n",
       "4   IVF65536_HNSW32,PQ32  32   128.0      32.0     0.547     0.765     0.806   \n",
       "5   IVF65536_HNSW32,PQ32  32   256.0      32.0     0.563     0.804     0.856   \n",
       "6   IVF65536_HNSW32,PQ32  32   512.0      32.0     0.578     0.831     0.891   \n",
       "7   IVF65536_HNSW32,PQ32  32  1024.0      32.0     0.588     0.848     0.913   \n",
       "8   IVF65536_HNSW32,Flat  32     1.0       0.0     0.181     0.181     0.181   \n",
       "9   IVF65536_HNSW32,Flat  32     8.0       0.0     0.455     0.455     0.455   \n",
       "10  IVF65536_HNSW32,Flat  32    16.0       0.0     0.564     0.564     0.564   \n",
       "11  IVF65536_HNSW32,Flat  32    64.0       0.0     0.768     0.768     0.768   \n",
       "12  IVF65536_HNSW32,Flat  32   128.0       0.0     0.840     0.840     0.840   \n",
       "13  IVF65536_HNSW32,Flat  32   256.0       0.0     0.904     0.904     0.904   \n",
       "14  IVF65536_HNSW32,Flat  32   512.0       0.0     0.944     0.944     0.944   \n",
       "15  IVF65536_HNSW32,Flat  32  1024.0       0.0     0.975     0.975     0.975   \n",
       "16           HNSW32,Flat  32     0.0       0.0     0.851     0.851     0.851   \n",
       "17           HNSW32_PQ32  32     0.0      32.0     0.634     0.795     0.815   \n",
       "\n",
       "    train_time  index_time  search_time   index_size  \n",
       "0   146.412567   25.161457     0.007221   154.209972  \n",
       "1   146.412567   25.161457     0.006458   154.209972  \n",
       "2   146.412567   25.161457     0.008272   154.209972  \n",
       "3   146.412567   25.161457     0.018487   154.209972  \n",
       "4   146.412567   25.161457     0.033655   154.209972  \n",
       "5   146.412567   25.161457     0.074461   154.209972  \n",
       "6   146.412567   25.161457     0.194748   154.209972  \n",
       "7   146.412567   25.161457     0.508792   154.209972  \n",
       "8    85.118428   18.936768     0.009698  1594.078859  \n",
       "9    85.118428   18.936768     0.011303  1594.078859  \n",
       "10   85.118428   18.936768     0.016028  1594.078859  \n",
       "11   85.118428   18.936768     0.035666  1594.078859  \n",
       "12   85.118428   18.936768     0.055360  1594.078859  \n",
       "13   85.118428   18.936768     0.088342  1594.078859  \n",
       "14   85.118428   18.936768     0.145132  1594.078859  \n",
       "15   85.118428   18.936768     0.241979  1594.078859  \n",
       "16        None  920.648198     0.209860  2352.424546  \n",
       "17   67.697279  721.771335     0.133165   912.555659  "
      ]
     },
     "execution_count": 53,
     "metadata": {},
     "output_type": "execute_result"
    }
   ],
   "source": [
    "df"
   ]
  },
  {
   "cell_type": "code",
   "execution_count": 54,
   "id": "40207243",
   "metadata": {
    "execution": {
     "iopub.execute_input": "2022-08-18T15:45:09.443973Z",
     "iopub.status.busy": "2022-08-18T15:45:09.443584Z",
     "iopub.status.idle": "2022-08-18T15:45:09.457054Z",
     "shell.execute_reply": "2022-08-18T15:45:09.455884Z"
    },
    "papermill": {
     "duration": 0.675546,
     "end_time": "2022-08-18T15:45:09.460576",
     "exception": false,
     "start_time": "2022-08-18T15:45:08.785030",
     "status": "completed"
    },
    "tags": []
   },
   "outputs": [
    {
     "name": "stdout",
     "output_type": "stream",
     "text": [
      "<class 'pandas.core.frame.DataFrame'>\n",
      "RangeIndex: 18 entries, 0 to 17\n",
      "Data columns (total 11 columns):\n",
      " #   Column       Non-Null Count  Dtype  \n",
      "---  ------       --------------  -----  \n",
      " 0   index        18 non-null     object \n",
      " 1   M            18 non-null     object \n",
      " 2   nprobe       18 non-null     float64\n",
      " 3   nsegment     18 non-null     float64\n",
      " 4   recall@1     18 non-null     float64\n",
      " 5   recall@3     18 non-null     float64\n",
      " 6   recall@5     18 non-null     float64\n",
      " 7   train_time   17 non-null     object \n",
      " 8   index_time   18 non-null     float64\n",
      " 9   search_time  18 non-null     float64\n",
      " 10  index_size   18 non-null     float64\n",
      "dtypes: float64(8), object(3)\n",
      "memory usage: 1.7+ KB\n"
     ]
    }
   ],
   "source": [
    "df.info()"
   ]
  },
  {
   "cell_type": "code",
   "execution_count": 55,
   "id": "ac630175",
   "metadata": {
    "execution": {
     "iopub.execute_input": "2022-08-18T15:45:10.656354Z",
     "iopub.status.busy": "2022-08-18T15:45:10.655699Z",
     "iopub.status.idle": "2022-08-18T15:45:10.663801Z",
     "shell.execute_reply": "2022-08-18T15:45:10.662804Z"
    },
    "papermill": {
     "duration": 0.599651,
     "end_time": "2022-08-18T15:45:10.666151",
     "exception": false,
     "start_time": "2022-08-18T15:45:10.066500",
     "status": "completed"
    },
    "tags": []
   },
   "outputs": [],
   "source": [
    "df[\"M\"] = df[\"M\"].fillna(0.0).astype(int)\n",
    "df[\"nprobe\"] = df[\"nprobe\"].fillna(0.0).astype(int)\n",
    "df[\"nsegment\"] = df[\"nsegment\"].fillna(0.0).astype(int)"
   ]
  },
  {
   "cell_type": "code",
   "execution_count": 56,
   "id": "2210e21b",
   "metadata": {
    "execution": {
     "iopub.execute_input": "2022-08-18T15:45:11.918428Z",
     "iopub.status.busy": "2022-08-18T15:45:11.918019Z",
     "iopub.status.idle": "2022-08-18T15:45:11.922978Z",
     "shell.execute_reply": "2022-08-18T15:45:11.922041Z"
    },
    "papermill": {
     "duration": 0.601299,
     "end_time": "2022-08-18T15:45:11.925092",
     "exception": false,
     "start_time": "2022-08-18T15:45:11.323793",
     "status": "completed"
    },
    "tags": []
   },
   "outputs": [],
   "source": [
    "colors_gorb = ['#2CA02C', '#FF7F0E', '#D62728', '#1F77B4']   # green, orange, red, blue"
   ]
  },
  {
   "cell_type": "code",
   "execution_count": 57,
   "id": "3a3e123a",
   "metadata": {
    "execution": {
     "iopub.execute_input": "2022-08-18T15:45:13.171749Z",
     "iopub.status.busy": "2022-08-18T15:45:13.171363Z",
     "iopub.status.idle": "2022-08-18T15:45:13.286102Z",
     "shell.execute_reply": "2022-08-18T15:45:13.285149Z"
    },
    "papermill": {
     "duration": 0.774578,
     "end_time": "2022-08-18T15:45:13.288434",
     "exception": false,
     "start_time": "2022-08-18T15:45:12.513856",
     "status": "completed"
    },
    "tags": []
   },
   "outputs": [
    {
     "data": {
      "text/html": [
       "<div>                            <div id=\"99719745-0a4e-4390-9308-60dbb0fd9978\" class=\"plotly-graph-div\" style=\"height:400px; width:600px;\"></div>            <script type=\"text/javascript\">                require([\"plotly\"], function(Plotly) {                    window.PLOTLYENV=window.PLOTLYENV || {};                                    if (document.getElementById(\"99719745-0a4e-4390-9308-60dbb0fd9978\")) {                    Plotly.newPlot(                        \"99719745-0a4e-4390-9308-60dbb0fd9978\",                        [{\"hovertemplate\":\"index=IVF65536_HNSW32,PQ32<br>nprobe=%{x}<br>search time (ms/query)=%{y}<extra></extra>\",\"legendgroup\":\"IVF65536_HNSW32,PQ32\",\"line\":{\"color\":\"#2CA02C\",\"dash\":\"solid\"},\"marker\":{\"symbol\":\"circle\",\"size\":8,\"color\":\"#2CA02C\"},\"mode\":\"markers+lines\",\"name\":\"IVF65536_HNSW32,PQ32\",\"orientation\":\"v\",\"showlegend\":true,\"x\":[1,8,16,64,128,256,512,1024],\"xaxis\":\"x\",\"y\":[0.007221221923828125,0.006458282470703125,0.00827169418334961,0.018486738204956055,0.03365492820739746,0.07446122169494629,0.1947476863861084,0.5087916851043701],\"yaxis\":\"y\",\"type\":\"scatter\"},{\"hovertemplate\":\"index=IVF65536_HNSW32,Flat<br>nprobe=%{x}<br>search time (ms/query)=%{y}<extra></extra>\",\"legendgroup\":\"IVF65536_HNSW32,Flat\",\"line\":{\"color\":\"#FF7F0E\",\"dash\":\"solid\"},\"marker\":{\"symbol\":\"circle\",\"size\":8,\"color\":\"#FF7F0E\"},\"mode\":\"markers+lines\",\"name\":\"IVF65536_HNSW32,Flat\",\"orientation\":\"v\",\"showlegend\":true,\"x\":[1,8,16,64,128,256,512,1024],\"xaxis\":\"x\",\"y\":[0.009697675704956055,0.011303186416625977,0.016028165817260742,0.03566551208496094,0.05536031723022461,0.08834242820739746,0.14513206481933594,0.24197864532470703],\"yaxis\":\"y\",\"type\":\"scatter\"}],                        {\"template\":{\"data\":{\"barpolar\":[{\"marker\":{\"line\":{\"color\":\"white\",\"width\":0.5},\"pattern\":{\"fillmode\":\"overlay\",\"size\":10,\"solidity\":0.2}},\"type\":\"barpolar\"}],\"bar\":[{\"error_x\":{\"color\":\"rgb(36,36,36)\"},\"error_y\":{\"color\":\"rgb(36,36,36)\"},\"marker\":{\"line\":{\"color\":\"white\",\"width\":0.5},\"pattern\":{\"fillmode\":\"overlay\",\"size\":10,\"solidity\":0.2}},\"type\":\"bar\"}],\"carpet\":[{\"aaxis\":{\"endlinecolor\":\"rgb(36,36,36)\",\"gridcolor\":\"white\",\"linecolor\":\"white\",\"minorgridcolor\":\"white\",\"startlinecolor\":\"rgb(36,36,36)\"},\"baxis\":{\"endlinecolor\":\"rgb(36,36,36)\",\"gridcolor\":\"white\",\"linecolor\":\"white\",\"minorgridcolor\":\"white\",\"startlinecolor\":\"rgb(36,36,36)\"},\"type\":\"carpet\"}],\"choropleth\":[{\"colorbar\":{\"outlinewidth\":1,\"tickcolor\":\"rgb(36,36,36)\",\"ticks\":\"outside\"},\"type\":\"choropleth\"}],\"contourcarpet\":[{\"colorbar\":{\"outlinewidth\":1,\"tickcolor\":\"rgb(36,36,36)\",\"ticks\":\"outside\"},\"type\":\"contourcarpet\"}],\"contour\":[{\"colorbar\":{\"outlinewidth\":1,\"tickcolor\":\"rgb(36,36,36)\",\"ticks\":\"outside\"},\"colorscale\":[[0.0,\"#440154\"],[0.1111111111111111,\"#482878\"],[0.2222222222222222,\"#3e4989\"],[0.3333333333333333,\"#31688e\"],[0.4444444444444444,\"#26828e\"],[0.5555555555555556,\"#1f9e89\"],[0.6666666666666666,\"#35b779\"],[0.7777777777777778,\"#6ece58\"],[0.8888888888888888,\"#b5de2b\"],[1.0,\"#fde725\"]],\"type\":\"contour\"}],\"heatmapgl\":[{\"colorbar\":{\"outlinewidth\":1,\"tickcolor\":\"rgb(36,36,36)\",\"ticks\":\"outside\"},\"colorscale\":[[0.0,\"#440154\"],[0.1111111111111111,\"#482878\"],[0.2222222222222222,\"#3e4989\"],[0.3333333333333333,\"#31688e\"],[0.4444444444444444,\"#26828e\"],[0.5555555555555556,\"#1f9e89\"],[0.6666666666666666,\"#35b779\"],[0.7777777777777778,\"#6ece58\"],[0.8888888888888888,\"#b5de2b\"],[1.0,\"#fde725\"]],\"type\":\"heatmapgl\"}],\"heatmap\":[{\"colorbar\":{\"outlinewidth\":1,\"tickcolor\":\"rgb(36,36,36)\",\"ticks\":\"outside\"},\"colorscale\":[[0.0,\"#440154\"],[0.1111111111111111,\"#482878\"],[0.2222222222222222,\"#3e4989\"],[0.3333333333333333,\"#31688e\"],[0.4444444444444444,\"#26828e\"],[0.5555555555555556,\"#1f9e89\"],[0.6666666666666666,\"#35b779\"],[0.7777777777777778,\"#6ece58\"],[0.8888888888888888,\"#b5de2b\"],[1.0,\"#fde725\"]],\"type\":\"heatmap\"}],\"histogram2dcontour\":[{\"colorbar\":{\"outlinewidth\":1,\"tickcolor\":\"rgb(36,36,36)\",\"ticks\":\"outside\"},\"colorscale\":[[0.0,\"#440154\"],[0.1111111111111111,\"#482878\"],[0.2222222222222222,\"#3e4989\"],[0.3333333333333333,\"#31688e\"],[0.4444444444444444,\"#26828e\"],[0.5555555555555556,\"#1f9e89\"],[0.6666666666666666,\"#35b779\"],[0.7777777777777778,\"#6ece58\"],[0.8888888888888888,\"#b5de2b\"],[1.0,\"#fde725\"]],\"type\":\"histogram2dcontour\"}],\"histogram2d\":[{\"colorbar\":{\"outlinewidth\":1,\"tickcolor\":\"rgb(36,36,36)\",\"ticks\":\"outside\"},\"colorscale\":[[0.0,\"#440154\"],[0.1111111111111111,\"#482878\"],[0.2222222222222222,\"#3e4989\"],[0.3333333333333333,\"#31688e\"],[0.4444444444444444,\"#26828e\"],[0.5555555555555556,\"#1f9e89\"],[0.6666666666666666,\"#35b779\"],[0.7777777777777778,\"#6ece58\"],[0.8888888888888888,\"#b5de2b\"],[1.0,\"#fde725\"]],\"type\":\"histogram2d\"}],\"histogram\":[{\"marker\":{\"line\":{\"color\":\"white\",\"width\":0.6}},\"type\":\"histogram\"}],\"mesh3d\":[{\"colorbar\":{\"outlinewidth\":1,\"tickcolor\":\"rgb(36,36,36)\",\"ticks\":\"outside\"},\"type\":\"mesh3d\"}],\"parcoords\":[{\"line\":{\"colorbar\":{\"outlinewidth\":1,\"tickcolor\":\"rgb(36,36,36)\",\"ticks\":\"outside\"}},\"type\":\"parcoords\"}],\"pie\":[{\"automargin\":true,\"type\":\"pie\"}],\"scatter3d\":[{\"line\":{\"colorbar\":{\"outlinewidth\":1,\"tickcolor\":\"rgb(36,36,36)\",\"ticks\":\"outside\"}},\"marker\":{\"colorbar\":{\"outlinewidth\":1,\"tickcolor\":\"rgb(36,36,36)\",\"ticks\":\"outside\"}},\"type\":\"scatter3d\"}],\"scattercarpet\":[{\"marker\":{\"colorbar\":{\"outlinewidth\":1,\"tickcolor\":\"rgb(36,36,36)\",\"ticks\":\"outside\"}},\"type\":\"scattercarpet\"}],\"scattergeo\":[{\"marker\":{\"colorbar\":{\"outlinewidth\":1,\"tickcolor\":\"rgb(36,36,36)\",\"ticks\":\"outside\"}},\"type\":\"scattergeo\"}],\"scattergl\":[{\"marker\":{\"colorbar\":{\"outlinewidth\":1,\"tickcolor\":\"rgb(36,36,36)\",\"ticks\":\"outside\"}},\"type\":\"scattergl\"}],\"scattermapbox\":[{\"marker\":{\"colorbar\":{\"outlinewidth\":1,\"tickcolor\":\"rgb(36,36,36)\",\"ticks\":\"outside\"}},\"type\":\"scattermapbox\"}],\"scatterpolargl\":[{\"marker\":{\"colorbar\":{\"outlinewidth\":1,\"tickcolor\":\"rgb(36,36,36)\",\"ticks\":\"outside\"}},\"type\":\"scatterpolargl\"}],\"scatterpolar\":[{\"marker\":{\"colorbar\":{\"outlinewidth\":1,\"tickcolor\":\"rgb(36,36,36)\",\"ticks\":\"outside\"}},\"type\":\"scatterpolar\"}],\"scatter\":[{\"fillpattern\":{\"fillmode\":\"overlay\",\"size\":10,\"solidity\":0.2},\"type\":\"scatter\"}],\"scatterternary\":[{\"marker\":{\"colorbar\":{\"outlinewidth\":1,\"tickcolor\":\"rgb(36,36,36)\",\"ticks\":\"outside\"}},\"type\":\"scatterternary\"}],\"surface\":[{\"colorbar\":{\"outlinewidth\":1,\"tickcolor\":\"rgb(36,36,36)\",\"ticks\":\"outside\"},\"colorscale\":[[0.0,\"#440154\"],[0.1111111111111111,\"#482878\"],[0.2222222222222222,\"#3e4989\"],[0.3333333333333333,\"#31688e\"],[0.4444444444444444,\"#26828e\"],[0.5555555555555556,\"#1f9e89\"],[0.6666666666666666,\"#35b779\"],[0.7777777777777778,\"#6ece58\"],[0.8888888888888888,\"#b5de2b\"],[1.0,\"#fde725\"]],\"type\":\"surface\"}],\"table\":[{\"cells\":{\"fill\":{\"color\":\"rgb(237,237,237)\"},\"line\":{\"color\":\"white\"}},\"header\":{\"fill\":{\"color\":\"rgb(217,217,217)\"},\"line\":{\"color\":\"white\"}},\"type\":\"table\"}]},\"layout\":{\"annotationdefaults\":{\"arrowhead\":0,\"arrowwidth\":1},\"autotypenumbers\":\"strict\",\"coloraxis\":{\"colorbar\":{\"outlinewidth\":1,\"tickcolor\":\"rgb(36,36,36)\",\"ticks\":\"outside\"}},\"colorscale\":{\"diverging\":[[0.0,\"rgb(103,0,31)\"],[0.1,\"rgb(178,24,43)\"],[0.2,\"rgb(214,96,77)\"],[0.3,\"rgb(244,165,130)\"],[0.4,\"rgb(253,219,199)\"],[0.5,\"rgb(247,247,247)\"],[0.6,\"rgb(209,229,240)\"],[0.7,\"rgb(146,197,222)\"],[0.8,\"rgb(67,147,195)\"],[0.9,\"rgb(33,102,172)\"],[1.0,\"rgb(5,48,97)\"]],\"sequential\":[[0.0,\"#440154\"],[0.1111111111111111,\"#482878\"],[0.2222222222222222,\"#3e4989\"],[0.3333333333333333,\"#31688e\"],[0.4444444444444444,\"#26828e\"],[0.5555555555555556,\"#1f9e89\"],[0.6666666666666666,\"#35b779\"],[0.7777777777777778,\"#6ece58\"],[0.8888888888888888,\"#b5de2b\"],[1.0,\"#fde725\"]],\"sequentialminus\":[[0.0,\"#440154\"],[0.1111111111111111,\"#482878\"],[0.2222222222222222,\"#3e4989\"],[0.3333333333333333,\"#31688e\"],[0.4444444444444444,\"#26828e\"],[0.5555555555555556,\"#1f9e89\"],[0.6666666666666666,\"#35b779\"],[0.7777777777777778,\"#6ece58\"],[0.8888888888888888,\"#b5de2b\"],[1.0,\"#fde725\"]]},\"colorway\":[\"#1F77B4\",\"#FF7F0E\",\"#2CA02C\",\"#D62728\",\"#9467BD\",\"#8C564B\",\"#E377C2\",\"#7F7F7F\",\"#BCBD22\",\"#17BECF\"],\"font\":{\"color\":\"rgb(36,36,36)\"},\"geo\":{\"bgcolor\":\"white\",\"lakecolor\":\"white\",\"landcolor\":\"white\",\"showlakes\":true,\"showland\":true,\"subunitcolor\":\"white\"},\"hoverlabel\":{\"align\":\"left\"},\"hovermode\":\"closest\",\"mapbox\":{\"style\":\"light\"},\"paper_bgcolor\":\"white\",\"plot_bgcolor\":\"white\",\"polar\":{\"angularaxis\":{\"gridcolor\":\"rgb(232,232,232)\",\"linecolor\":\"rgb(36,36,36)\",\"showgrid\":false,\"showline\":true,\"ticks\":\"outside\"},\"bgcolor\":\"white\",\"radialaxis\":{\"gridcolor\":\"rgb(232,232,232)\",\"linecolor\":\"rgb(36,36,36)\",\"showgrid\":false,\"showline\":true,\"ticks\":\"outside\"}},\"scene\":{\"xaxis\":{\"backgroundcolor\":\"white\",\"gridcolor\":\"rgb(232,232,232)\",\"gridwidth\":2,\"linecolor\":\"rgb(36,36,36)\",\"showbackground\":true,\"showgrid\":false,\"showline\":true,\"ticks\":\"outside\",\"zeroline\":false,\"zerolinecolor\":\"rgb(36,36,36)\"},\"yaxis\":{\"backgroundcolor\":\"white\",\"gridcolor\":\"rgb(232,232,232)\",\"gridwidth\":2,\"linecolor\":\"rgb(36,36,36)\",\"showbackground\":true,\"showgrid\":false,\"showline\":true,\"ticks\":\"outside\",\"zeroline\":false,\"zerolinecolor\":\"rgb(36,36,36)\"},\"zaxis\":{\"backgroundcolor\":\"white\",\"gridcolor\":\"rgb(232,232,232)\",\"gridwidth\":2,\"linecolor\":\"rgb(36,36,36)\",\"showbackground\":true,\"showgrid\":false,\"showline\":true,\"ticks\":\"outside\",\"zeroline\":false,\"zerolinecolor\":\"rgb(36,36,36)\"}},\"shapedefaults\":{\"fillcolor\":\"black\",\"line\":{\"width\":0},\"opacity\":0.3},\"ternary\":{\"aaxis\":{\"gridcolor\":\"rgb(232,232,232)\",\"linecolor\":\"rgb(36,36,36)\",\"showgrid\":false,\"showline\":true,\"ticks\":\"outside\"},\"baxis\":{\"gridcolor\":\"rgb(232,232,232)\",\"linecolor\":\"rgb(36,36,36)\",\"showgrid\":false,\"showline\":true,\"ticks\":\"outside\"},\"bgcolor\":\"white\",\"caxis\":{\"gridcolor\":\"rgb(232,232,232)\",\"linecolor\":\"rgb(36,36,36)\",\"showgrid\":false,\"showline\":true,\"ticks\":\"outside\"}},\"title\":{\"x\":0.05},\"xaxis\":{\"automargin\":true,\"gridcolor\":\"rgb(232,232,232)\",\"linecolor\":\"rgb(36,36,36)\",\"showgrid\":false,\"showline\":true,\"ticks\":\"outside\",\"title\":{\"standoff\":15},\"zeroline\":false,\"zerolinecolor\":\"rgb(36,36,36)\"},\"yaxis\":{\"automargin\":true,\"gridcolor\":\"rgb(232,232,232)\",\"linecolor\":\"rgb(36,36,36)\",\"showgrid\":false,\"showline\":true,\"ticks\":\"outside\",\"title\":{\"standoff\":15},\"zeroline\":false,\"zerolinecolor\":\"rgb(36,36,36)\"}}},\"xaxis\":{\"anchor\":\"y\",\"domain\":[0.0,1.0],\"title\":{\"text\":\"nprobe\"},\"linecolor\":\"darkgrey\"},\"yaxis\":{\"anchor\":\"x\",\"domain\":[0.0,1.0],\"title\":{\"text\":\"search time (ms/query)\"},\"linecolor\":\"darkgrey\"},\"legend\":{\"title\":{\"text\":\"\"},\"tracegroupgap\":0,\"yanchor\":\"top\",\"y\":1,\"xanchor\":\"left\",\"x\":0.3,\"borderwidth\":1},\"margin\":{\"t\":60},\"height\":400,\"width\":600,\"shapes\":[{\"line\":{\"color\":\"#1F77B4\",\"dash\":\"dot\",\"width\":1},\"opacity\":1,\"type\":\"line\",\"x0\":0,\"x1\":1,\"xref\":\"x domain\",\"y0\":0.20985984802246094,\"y1\":0.20985984802246094,\"yref\":\"y\"},{\"line\":{\"color\":\"#D62728\",\"dash\":\"dot\",\"width\":1},\"opacity\":1,\"type\":\"line\",\"x0\":0,\"x1\":1,\"xref\":\"x domain\",\"y0\":0.133164644241333,\"y1\":0.133164644241333,\"yref\":\"y\"},{\"line\":{\"color\":\"grey\",\"dash\":\"dot\",\"width\":3},\"type\":\"line\",\"x0\":128,\"x1\":128,\"xref\":\"x\",\"y0\":0,\"y1\":1,\"yref\":\"y domain\"}],\"annotations\":[{\"font\":{\"color\":\"#1F77B4\"},\"showarrow\":false,\"text\":\"<I>HNSW32,Flat</I>\",\"x\":1,\"xanchor\":\"left\",\"xref\":\"x domain\",\"y\":0.20985984802246094,\"yanchor\":\"middle\",\"yref\":\"y\"},{\"font\":{\"color\":\"#D62728\"},\"showarrow\":false,\"text\":\"<I>HNSW32_PQ32</I>\",\"x\":1,\"xanchor\":\"left\",\"xref\":\"x domain\",\"y\":0.133164644241333,\"yanchor\":\"middle\",\"yref\":\"y\"},{\"font\":{\"color\":\"darkgrey\"},\"showarrow\":false,\"text\":\"nprobe=128\",\"x\":128,\"xanchor\":\"center\",\"xref\":\"x\",\"y\":1,\"yanchor\":\"bottom\",\"yref\":\"y domain\"}]},                        {\"responsive\": true}                    ).then(function(){\n",
       "                            \n",
       "var gd = document.getElementById('99719745-0a4e-4390-9308-60dbb0fd9978');\n",
       "var x = new MutationObserver(function (mutations, observer) {{\n",
       "        var display = window.getComputedStyle(gd).display;\n",
       "        if (!display || display === 'none') {{\n",
       "            console.log([gd, 'removed!']);\n",
       "            Plotly.purge(gd);\n",
       "            observer.disconnect();\n",
       "        }}\n",
       "}});\n",
       "\n",
       "// Listen for the removal of the full notebook cells\n",
       "var notebookContainer = gd.closest('#notebook-container');\n",
       "if (notebookContainer) {{\n",
       "    x.observe(notebookContainer, {childList: true});\n",
       "}}\n",
       "\n",
       "// Listen for the clearing of the current output cell\n",
       "var outputEl = gd.closest('.output');\n",
       "if (outputEl) {{\n",
       "    x.observe(outputEl, {childList: true});\n",
       "}}\n",
       "\n",
       "                        })                };                });            </script>        </div>"
      ]
     },
     "metadata": {},
     "output_type": "display_data"
    }
   ],
   "source": [
    "fig = px.line(df.query(\"nprobe>0\"), x=\"nprobe\", y=\"search_time\", color=\"index\", markers=True, height=400, width=600,\n",
    "             labels=dict(search_time=\"search time (ms/query)\",), template=\"simple_white\")\n",
    "fig.update_layout(legend_title=\"\", legend=dict(yanchor=\"top\", y=1, xanchor=\"left\", x=0.3, borderwidth=1)) # traceorder=\"reversed\", \n",
    "\n",
    "# Set unique marker style for different lines (https://plotly.com/python/marker-style/)\n",
    "line_styles = [\"solid\", \"solid\"]            # ['solid', 'dot', 'dash', 'longdash', 'dashdot', 'longdashdot']\n",
    "symbols = [\"circle\", \"circle\"]  \n",
    "sizes = [8, 8]\n",
    "\n",
    "for i, fdata in enumerate(fig.data):\n",
    "    fdata.marker.symbol = symbols[i]\n",
    "    fdata.marker.size = sizes[i]\n",
    "    fdata.marker.color = colors_gorb[i]\n",
    "    fdata.line.color = colors_gorb[i]\n",
    "    fdata.line.dash = line_styles[i]    \n",
    "\n",
    "# Getting the search time for HNSW Flat and HNSW PQ to draw the horizontal lines for reference.\n",
    "hnsw_flat = df[df[\"index\"]==\"HNSW32,Flat\"][\"search_time\"].values[0]\n",
    "hnsw_pq = df[df[\"index\"]==\"HNSW32_PQ32\"][\"search_time\"].values[0]\n",
    "\n",
    "diff = abs(hnsw_flat - hnsw_pq)\n",
    "if diff < 0.022:\n",
    "    if hnsw_flat > hnsw_pq:\n",
    "        hnsw_flat_position = \"top right\"\n",
    "        hnsw_pq_position = \"bottom right\"\n",
    "    else:\n",
    "        hnsw_flat_position = \"bottom right\"\n",
    "        hnsw_pq_position = \"top right\"\n",
    "else:\n",
    "    hnsw_flat_position = \"right\"\n",
    "    hnsw_pq_position = \"right\"\n",
    "\n",
    "fig.add_hline(y=hnsw_flat, line_width=1, line_dash=\"dot\", line_color=\"#1F77B4\", opacity=1,\n",
    "              annotation_text=\"<I>HNSW32,Flat</I>\", annotation_position=hnsw_flat_position, annotation_font=dict(color=\"#1F77B4\"))\n",
    "\n",
    "fig.add_hline(y=hnsw_pq, line_width=1, line_dash=\"dot\", line_color=\"#D62728\", opacity=1,\n",
    "              annotation_text=\"<I>HNSW32_PQ32</I>\", annotation_position=hnsw_pq_position, annotation_font=dict(color=\"#D62728\"))\n",
    "\n",
    "fig.add_vline(x=128, line_width=3, line_dash=\"dot\", line_color=\"grey\", \n",
    "              annotation_text=\"nprobe=128\", annotation_position=\"top\", annotation_font=dict(color=\"darkgrey\"))\n",
    "fig.update_xaxes(linecolor='darkgrey')\n",
    "fig.update_yaxes(linecolor='darkgrey')\n",
    "fig.show()\n",
    "fig.write_html(\"nprobe_search.html\")"
   ]
  },
  {
   "cell_type": "code",
   "execution_count": 58,
   "id": "2f5d735a",
   "metadata": {
    "execution": {
     "iopub.execute_input": "2022-08-18T15:45:14.476929Z",
     "iopub.status.busy": "2022-08-18T15:45:14.476456Z",
     "iopub.status.idle": "2022-08-18T15:45:14.615965Z",
     "shell.execute_reply": "2022-08-18T15:45:14.615030Z"
    },
    "papermill": {
     "duration": 0.738811,
     "end_time": "2022-08-18T15:45:14.618480",
     "exception": false,
     "start_time": "2022-08-18T15:45:13.879669",
     "status": "completed"
    },
    "tags": []
   },
   "outputs": [
    {
     "data": {
      "text/html": [
       "<div>                            <div id=\"8716d844-11a5-4f59-8119-86e81badbdd0\" class=\"plotly-graph-div\" style=\"height:400px; width:600px;\"></div>            <script type=\"text/javascript\">                require([\"plotly\"], function(Plotly) {                    window.PLOTLYENV=window.PLOTLYENV || {};                                    if (document.getElementById(\"8716d844-11a5-4f59-8119-86e81badbdd0\")) {                    Plotly.newPlot(                        \"8716d844-11a5-4f59-8119-86e81badbdd0\",                        [{\"hovertemplate\":\"index=IVF65536_HNSW32,PQ32<br>nprobe=%{x}<br>recall@3=%{y}<extra></extra>\",\"legendgroup\":\"IVF65536_HNSW32,PQ32\",\"line\":{\"color\":\"#2CA02C\",\"dash\":\"solid\"},\"marker\":{\"symbol\":\"circle\",\"size\":8,\"color\":\"#2CA02C\"},\"mode\":\"markers+lines\",\"name\":\"IVF65536_HNSW32,PQ32\",\"orientation\":\"v\",\"showlegend\":true,\"x\":[1,8,16,64,128,256,512,1024],\"xaxis\":\"x\",\"y\":[0.177,0.437,0.536,0.712,0.765,0.804,0.831,0.848],\"yaxis\":\"y\",\"type\":\"scatter\"},{\"hovertemplate\":\"index=IVF65536_HNSW32,Flat<br>nprobe=%{x}<br>recall@3=%{y}<extra></extra>\",\"legendgroup\":\"IVF65536_HNSW32,Flat\",\"line\":{\"color\":\"#FF7F0E\",\"dash\":\"solid\"},\"marker\":{\"symbol\":\"circle\",\"size\":8,\"color\":\"#FF7F0E\"},\"mode\":\"markers+lines\",\"name\":\"IVF65536_HNSW32,Flat\",\"orientation\":\"v\",\"showlegend\":true,\"x\":[1,8,16,64,128,256,512,1024],\"xaxis\":\"x\",\"y\":[0.181,0.455,0.564,0.768,0.84,0.904,0.944,0.975],\"yaxis\":\"y\",\"type\":\"scatter\"}],                        {\"template\":{\"data\":{\"barpolar\":[{\"marker\":{\"line\":{\"color\":\"white\",\"width\":0.5},\"pattern\":{\"fillmode\":\"overlay\",\"size\":10,\"solidity\":0.2}},\"type\":\"barpolar\"}],\"bar\":[{\"error_x\":{\"color\":\"rgb(36,36,36)\"},\"error_y\":{\"color\":\"rgb(36,36,36)\"},\"marker\":{\"line\":{\"color\":\"white\",\"width\":0.5},\"pattern\":{\"fillmode\":\"overlay\",\"size\":10,\"solidity\":0.2}},\"type\":\"bar\"}],\"carpet\":[{\"aaxis\":{\"endlinecolor\":\"rgb(36,36,36)\",\"gridcolor\":\"white\",\"linecolor\":\"white\",\"minorgridcolor\":\"white\",\"startlinecolor\":\"rgb(36,36,36)\"},\"baxis\":{\"endlinecolor\":\"rgb(36,36,36)\",\"gridcolor\":\"white\",\"linecolor\":\"white\",\"minorgridcolor\":\"white\",\"startlinecolor\":\"rgb(36,36,36)\"},\"type\":\"carpet\"}],\"choropleth\":[{\"colorbar\":{\"outlinewidth\":1,\"tickcolor\":\"rgb(36,36,36)\",\"ticks\":\"outside\"},\"type\":\"choropleth\"}],\"contourcarpet\":[{\"colorbar\":{\"outlinewidth\":1,\"tickcolor\":\"rgb(36,36,36)\",\"ticks\":\"outside\"},\"type\":\"contourcarpet\"}],\"contour\":[{\"colorbar\":{\"outlinewidth\":1,\"tickcolor\":\"rgb(36,36,36)\",\"ticks\":\"outside\"},\"colorscale\":[[0.0,\"#440154\"],[0.1111111111111111,\"#482878\"],[0.2222222222222222,\"#3e4989\"],[0.3333333333333333,\"#31688e\"],[0.4444444444444444,\"#26828e\"],[0.5555555555555556,\"#1f9e89\"],[0.6666666666666666,\"#35b779\"],[0.7777777777777778,\"#6ece58\"],[0.8888888888888888,\"#b5de2b\"],[1.0,\"#fde725\"]],\"type\":\"contour\"}],\"heatmapgl\":[{\"colorbar\":{\"outlinewidth\":1,\"tickcolor\":\"rgb(36,36,36)\",\"ticks\":\"outside\"},\"colorscale\":[[0.0,\"#440154\"],[0.1111111111111111,\"#482878\"],[0.2222222222222222,\"#3e4989\"],[0.3333333333333333,\"#31688e\"],[0.4444444444444444,\"#26828e\"],[0.5555555555555556,\"#1f9e89\"],[0.6666666666666666,\"#35b779\"],[0.7777777777777778,\"#6ece58\"],[0.8888888888888888,\"#b5de2b\"],[1.0,\"#fde725\"]],\"type\":\"heatmapgl\"}],\"heatmap\":[{\"colorbar\":{\"outlinewidth\":1,\"tickcolor\":\"rgb(36,36,36)\",\"ticks\":\"outside\"},\"colorscale\":[[0.0,\"#440154\"],[0.1111111111111111,\"#482878\"],[0.2222222222222222,\"#3e4989\"],[0.3333333333333333,\"#31688e\"],[0.4444444444444444,\"#26828e\"],[0.5555555555555556,\"#1f9e89\"],[0.6666666666666666,\"#35b779\"],[0.7777777777777778,\"#6ece58\"],[0.8888888888888888,\"#b5de2b\"],[1.0,\"#fde725\"]],\"type\":\"heatmap\"}],\"histogram2dcontour\":[{\"colorbar\":{\"outlinewidth\":1,\"tickcolor\":\"rgb(36,36,36)\",\"ticks\":\"outside\"},\"colorscale\":[[0.0,\"#440154\"],[0.1111111111111111,\"#482878\"],[0.2222222222222222,\"#3e4989\"],[0.3333333333333333,\"#31688e\"],[0.4444444444444444,\"#26828e\"],[0.5555555555555556,\"#1f9e89\"],[0.6666666666666666,\"#35b779\"],[0.7777777777777778,\"#6ece58\"],[0.8888888888888888,\"#b5de2b\"],[1.0,\"#fde725\"]],\"type\":\"histogram2dcontour\"}],\"histogram2d\":[{\"colorbar\":{\"outlinewidth\":1,\"tickcolor\":\"rgb(36,36,36)\",\"ticks\":\"outside\"},\"colorscale\":[[0.0,\"#440154\"],[0.1111111111111111,\"#482878\"],[0.2222222222222222,\"#3e4989\"],[0.3333333333333333,\"#31688e\"],[0.4444444444444444,\"#26828e\"],[0.5555555555555556,\"#1f9e89\"],[0.6666666666666666,\"#35b779\"],[0.7777777777777778,\"#6ece58\"],[0.8888888888888888,\"#b5de2b\"],[1.0,\"#fde725\"]],\"type\":\"histogram2d\"}],\"histogram\":[{\"marker\":{\"line\":{\"color\":\"white\",\"width\":0.6}},\"type\":\"histogram\"}],\"mesh3d\":[{\"colorbar\":{\"outlinewidth\":1,\"tickcolor\":\"rgb(36,36,36)\",\"ticks\":\"outside\"},\"type\":\"mesh3d\"}],\"parcoords\":[{\"line\":{\"colorbar\":{\"outlinewidth\":1,\"tickcolor\":\"rgb(36,36,36)\",\"ticks\":\"outside\"}},\"type\":\"parcoords\"}],\"pie\":[{\"automargin\":true,\"type\":\"pie\"}],\"scatter3d\":[{\"line\":{\"colorbar\":{\"outlinewidth\":1,\"tickcolor\":\"rgb(36,36,36)\",\"ticks\":\"outside\"}},\"marker\":{\"colorbar\":{\"outlinewidth\":1,\"tickcolor\":\"rgb(36,36,36)\",\"ticks\":\"outside\"}},\"type\":\"scatter3d\"}],\"scattercarpet\":[{\"marker\":{\"colorbar\":{\"outlinewidth\":1,\"tickcolor\":\"rgb(36,36,36)\",\"ticks\":\"outside\"}},\"type\":\"scattercarpet\"}],\"scattergeo\":[{\"marker\":{\"colorbar\":{\"outlinewidth\":1,\"tickcolor\":\"rgb(36,36,36)\",\"ticks\":\"outside\"}},\"type\":\"scattergeo\"}],\"scattergl\":[{\"marker\":{\"colorbar\":{\"outlinewidth\":1,\"tickcolor\":\"rgb(36,36,36)\",\"ticks\":\"outside\"}},\"type\":\"scattergl\"}],\"scattermapbox\":[{\"marker\":{\"colorbar\":{\"outlinewidth\":1,\"tickcolor\":\"rgb(36,36,36)\",\"ticks\":\"outside\"}},\"type\":\"scattermapbox\"}],\"scatterpolargl\":[{\"marker\":{\"colorbar\":{\"outlinewidth\":1,\"tickcolor\":\"rgb(36,36,36)\",\"ticks\":\"outside\"}},\"type\":\"scatterpolargl\"}],\"scatterpolar\":[{\"marker\":{\"colorbar\":{\"outlinewidth\":1,\"tickcolor\":\"rgb(36,36,36)\",\"ticks\":\"outside\"}},\"type\":\"scatterpolar\"}],\"scatter\":[{\"fillpattern\":{\"fillmode\":\"overlay\",\"size\":10,\"solidity\":0.2},\"type\":\"scatter\"}],\"scatterternary\":[{\"marker\":{\"colorbar\":{\"outlinewidth\":1,\"tickcolor\":\"rgb(36,36,36)\",\"ticks\":\"outside\"}},\"type\":\"scatterternary\"}],\"surface\":[{\"colorbar\":{\"outlinewidth\":1,\"tickcolor\":\"rgb(36,36,36)\",\"ticks\":\"outside\"},\"colorscale\":[[0.0,\"#440154\"],[0.1111111111111111,\"#482878\"],[0.2222222222222222,\"#3e4989\"],[0.3333333333333333,\"#31688e\"],[0.4444444444444444,\"#26828e\"],[0.5555555555555556,\"#1f9e89\"],[0.6666666666666666,\"#35b779\"],[0.7777777777777778,\"#6ece58\"],[0.8888888888888888,\"#b5de2b\"],[1.0,\"#fde725\"]],\"type\":\"surface\"}],\"table\":[{\"cells\":{\"fill\":{\"color\":\"rgb(237,237,237)\"},\"line\":{\"color\":\"white\"}},\"header\":{\"fill\":{\"color\":\"rgb(217,217,217)\"},\"line\":{\"color\":\"white\"}},\"type\":\"table\"}]},\"layout\":{\"annotationdefaults\":{\"arrowhead\":0,\"arrowwidth\":1},\"autotypenumbers\":\"strict\",\"coloraxis\":{\"colorbar\":{\"outlinewidth\":1,\"tickcolor\":\"rgb(36,36,36)\",\"ticks\":\"outside\"}},\"colorscale\":{\"diverging\":[[0.0,\"rgb(103,0,31)\"],[0.1,\"rgb(178,24,43)\"],[0.2,\"rgb(214,96,77)\"],[0.3,\"rgb(244,165,130)\"],[0.4,\"rgb(253,219,199)\"],[0.5,\"rgb(247,247,247)\"],[0.6,\"rgb(209,229,240)\"],[0.7,\"rgb(146,197,222)\"],[0.8,\"rgb(67,147,195)\"],[0.9,\"rgb(33,102,172)\"],[1.0,\"rgb(5,48,97)\"]],\"sequential\":[[0.0,\"#440154\"],[0.1111111111111111,\"#482878\"],[0.2222222222222222,\"#3e4989\"],[0.3333333333333333,\"#31688e\"],[0.4444444444444444,\"#26828e\"],[0.5555555555555556,\"#1f9e89\"],[0.6666666666666666,\"#35b779\"],[0.7777777777777778,\"#6ece58\"],[0.8888888888888888,\"#b5de2b\"],[1.0,\"#fde725\"]],\"sequentialminus\":[[0.0,\"#440154\"],[0.1111111111111111,\"#482878\"],[0.2222222222222222,\"#3e4989\"],[0.3333333333333333,\"#31688e\"],[0.4444444444444444,\"#26828e\"],[0.5555555555555556,\"#1f9e89\"],[0.6666666666666666,\"#35b779\"],[0.7777777777777778,\"#6ece58\"],[0.8888888888888888,\"#b5de2b\"],[1.0,\"#fde725\"]]},\"colorway\":[\"#1F77B4\",\"#FF7F0E\",\"#2CA02C\",\"#D62728\",\"#9467BD\",\"#8C564B\",\"#E377C2\",\"#7F7F7F\",\"#BCBD22\",\"#17BECF\"],\"font\":{\"color\":\"rgb(36,36,36)\"},\"geo\":{\"bgcolor\":\"white\",\"lakecolor\":\"white\",\"landcolor\":\"white\",\"showlakes\":true,\"showland\":true,\"subunitcolor\":\"white\"},\"hoverlabel\":{\"align\":\"left\"},\"hovermode\":\"closest\",\"mapbox\":{\"style\":\"light\"},\"paper_bgcolor\":\"white\",\"plot_bgcolor\":\"white\",\"polar\":{\"angularaxis\":{\"gridcolor\":\"rgb(232,232,232)\",\"linecolor\":\"rgb(36,36,36)\",\"showgrid\":false,\"showline\":true,\"ticks\":\"outside\"},\"bgcolor\":\"white\",\"radialaxis\":{\"gridcolor\":\"rgb(232,232,232)\",\"linecolor\":\"rgb(36,36,36)\",\"showgrid\":false,\"showline\":true,\"ticks\":\"outside\"}},\"scene\":{\"xaxis\":{\"backgroundcolor\":\"white\",\"gridcolor\":\"rgb(232,232,232)\",\"gridwidth\":2,\"linecolor\":\"rgb(36,36,36)\",\"showbackground\":true,\"showgrid\":false,\"showline\":true,\"ticks\":\"outside\",\"zeroline\":false,\"zerolinecolor\":\"rgb(36,36,36)\"},\"yaxis\":{\"backgroundcolor\":\"white\",\"gridcolor\":\"rgb(232,232,232)\",\"gridwidth\":2,\"linecolor\":\"rgb(36,36,36)\",\"showbackground\":true,\"showgrid\":false,\"showline\":true,\"ticks\":\"outside\",\"zeroline\":false,\"zerolinecolor\":\"rgb(36,36,36)\"},\"zaxis\":{\"backgroundcolor\":\"white\",\"gridcolor\":\"rgb(232,232,232)\",\"gridwidth\":2,\"linecolor\":\"rgb(36,36,36)\",\"showbackground\":true,\"showgrid\":false,\"showline\":true,\"ticks\":\"outside\",\"zeroline\":false,\"zerolinecolor\":\"rgb(36,36,36)\"}},\"shapedefaults\":{\"fillcolor\":\"black\",\"line\":{\"width\":0},\"opacity\":0.3},\"ternary\":{\"aaxis\":{\"gridcolor\":\"rgb(232,232,232)\",\"linecolor\":\"rgb(36,36,36)\",\"showgrid\":false,\"showline\":true,\"ticks\":\"outside\"},\"baxis\":{\"gridcolor\":\"rgb(232,232,232)\",\"linecolor\":\"rgb(36,36,36)\",\"showgrid\":false,\"showline\":true,\"ticks\":\"outside\"},\"bgcolor\":\"white\",\"caxis\":{\"gridcolor\":\"rgb(232,232,232)\",\"linecolor\":\"rgb(36,36,36)\",\"showgrid\":false,\"showline\":true,\"ticks\":\"outside\"}},\"title\":{\"x\":0.05},\"xaxis\":{\"automargin\":true,\"gridcolor\":\"rgb(232,232,232)\",\"linecolor\":\"rgb(36,36,36)\",\"showgrid\":false,\"showline\":true,\"ticks\":\"outside\",\"title\":{\"standoff\":15},\"zeroline\":false,\"zerolinecolor\":\"rgb(36,36,36)\"},\"yaxis\":{\"automargin\":true,\"gridcolor\":\"rgb(232,232,232)\",\"linecolor\":\"rgb(36,36,36)\",\"showgrid\":false,\"showline\":true,\"ticks\":\"outside\",\"title\":{\"standoff\":15},\"zeroline\":false,\"zerolinecolor\":\"rgb(36,36,36)\"}}},\"xaxis\":{\"anchor\":\"y\",\"domain\":[0.0,1.0],\"title\":{\"text\":\"nprobe\"},\"linecolor\":\"darkgrey\"},\"yaxis\":{\"anchor\":\"x\",\"domain\":[0.0,1.0],\"title\":{\"text\":\"1-recall@3\"},\"linecolor\":\"darkgrey\"},\"legend\":{\"title\":{\"text\":\"\"},\"tracegroupgap\":0,\"yanchor\":\"bottom\",\"y\":0.1,\"xanchor\":\"right\",\"x\":0.9,\"borderwidth\":1,\"traceorder\":\"reversed\"},\"margin\":{\"t\":60},\"height\":400,\"width\":600,\"shapes\":[{\"line\":{\"color\":\"grey\",\"dash\":\"dot\",\"width\":3},\"type\":\"line\",\"x0\":128,\"x1\":128,\"xref\":\"x\",\"y0\":0,\"y1\":1,\"yref\":\"y domain\"},{\"line\":{\"color\":\"#1F77B4\",\"dash\":\"dot\",\"width\":1},\"opacity\":1,\"type\":\"line\",\"x0\":0,\"x1\":1,\"xref\":\"x domain\",\"y0\":0.851,\"y1\":0.851,\"yref\":\"y\"},{\"line\":{\"color\":\"#D62728\",\"dash\":\"dot\",\"width\":1},\"opacity\":1,\"type\":\"line\",\"x0\":0,\"x1\":1,\"xref\":\"x domain\",\"y0\":0.795,\"y1\":0.795,\"yref\":\"y\"}],\"annotations\":[{\"font\":{\"color\":\"darkgrey\"},\"showarrow\":false,\"text\":\"nprobe=128\",\"x\":128,\"xanchor\":\"center\",\"xref\":\"x\",\"y\":1,\"yanchor\":\"bottom\",\"yref\":\"y domain\"},{\"font\":{\"color\":\"#1F77B4\"},\"showarrow\":false,\"text\":\"<I>HNSW32,Flat</I>\",\"x\":1,\"xanchor\":\"left\",\"xref\":\"x domain\",\"y\":0.851,\"yanchor\":\"middle\",\"yref\":\"y\"},{\"font\":{\"color\":\"#D62728\"},\"showarrow\":false,\"text\":\"<I>HNSW32_PQ32</I>\",\"x\":1,\"xanchor\":\"left\",\"xref\":\"x domain\",\"y\":0.795,\"yanchor\":\"middle\",\"yref\":\"y\"}]},                        {\"responsive\": true}                    ).then(function(){\n",
       "                            \n",
       "var gd = document.getElementById('8716d844-11a5-4f59-8119-86e81badbdd0');\n",
       "var x = new MutationObserver(function (mutations, observer) {{\n",
       "        var display = window.getComputedStyle(gd).display;\n",
       "        if (!display || display === 'none') {{\n",
       "            console.log([gd, 'removed!']);\n",
       "            Plotly.purge(gd);\n",
       "            observer.disconnect();\n",
       "        }}\n",
       "}});\n",
       "\n",
       "// Listen for the removal of the full notebook cells\n",
       "var notebookContainer = gd.closest('#notebook-container');\n",
       "if (notebookContainer) {{\n",
       "    x.observe(notebookContainer, {childList: true});\n",
       "}}\n",
       "\n",
       "// Listen for the clearing of the current output cell\n",
       "var outputEl = gd.closest('.output');\n",
       "if (outputEl) {{\n",
       "    x.observe(outputEl, {childList: true});\n",
       "}}\n",
       "\n",
       "                        })                };                });            </script>        </div>"
      ]
     },
     "metadata": {},
     "output_type": "display_data"
    }
   ],
   "source": [
    "fig = px.line(df.query(\"nprobe>0\"), x=\"nprobe\", y=\"recall@3\", color=\"index\", markers=True, height=400, width=600, template=\"simple_white\")\n",
    "fig.update_layout(yaxis_title_text=\"1-recall@3\",\n",
    "                  legend_title=\"\", legend=dict(yanchor=\"bottom\", y=0.1, xanchor=\"right\", x=0.9, borderwidth=1, traceorder=\"reversed\")) # traceorder=\"reversed\", \n",
    "\n",
    "# Set unique marker style for different lines (https://plotly.com/python/marker-style/)\n",
    "line_styles = [\"solid\", \"solid\"]            # ['solid', 'dot', 'dash', 'longdash', 'dashdot', 'longdashdot']\n",
    "symbols = [\"circle\", \"circle\"]  \n",
    "sizes = [8, 8]\n",
    "\n",
    "for i, fdata in enumerate(fig.data):\n",
    "    fdata.marker.symbol = symbols[i]\n",
    "    fdata.marker.size = sizes[i]\n",
    "    fdata.marker.color = colors_gorb[i]\n",
    "    fdata.line.color = colors_gorb[i]\n",
    "    fdata.line.dash = line_styles[i]\n",
    "        \n",
    "fig.add_vline(x=128, line_width=3, line_dash=\"dot\", line_color=\"grey\", \n",
    "              annotation_text=\"nprobe=128\", annotation_position=\"top\", annotation_font=dict(color=\"darkgrey\"))\n",
    "\n",
    "fig.add_hline(y=df[df[\"index\"]==\"HNSW32,Flat\"][\"recall@3\"].values[0], line_width=1, line_dash=\"dot\", line_color=\"#1F77B4\", opacity=1,\n",
    "              annotation_text=\"<I>HNSW32,Flat</I>\", annotation_position=\"right\", annotation_font=dict(color=\"#1F77B4\"))\n",
    "\n",
    "fig.add_hline(y=df[df[\"index\"]==\"HNSW32_PQ32\"][\"recall@3\"].values[0], line_width=1, line_dash=\"dot\", line_color=\"#D62728\", opacity=1,\n",
    "              annotation_text=\"<I>HNSW32_PQ32</I>\", annotation_position=\"right\", annotation_font=dict(color=\"#D62728\"))\n",
    "fig.update_xaxes(linecolor='darkgrey')\n",
    "fig.update_yaxes(linecolor='darkgrey')\n",
    "fig.show()\n",
    "fig.write_html(\"nprobe_recall_3.html\")"
   ]
  },
  {
   "cell_type": "code",
   "execution_count": 59,
   "id": "3653d407",
   "metadata": {
    "execution": {
     "iopub.execute_input": "2022-08-18T15:45:16.032587Z",
     "iopub.status.busy": "2022-08-18T15:45:16.032024Z",
     "iopub.status.idle": "2022-08-18T15:45:16.057791Z",
     "shell.execute_reply": "2022-08-18T15:45:16.056828Z"
    },
    "papermill": {
     "duration": 0.740358,
     "end_time": "2022-08-18T15:45:16.060361",
     "exception": false,
     "start_time": "2022-08-18T15:45:15.320003",
     "status": "completed"
    },
    "tags": []
   },
   "outputs": [
    {
     "data": {
      "text/html": [
       "<div>\n",
       "<style scoped>\n",
       "    .dataframe tbody tr th:only-of-type {\n",
       "        vertical-align: middle;\n",
       "    }\n",
       "\n",
       "    .dataframe tbody tr th {\n",
       "        vertical-align: top;\n",
       "    }\n",
       "\n",
       "    .dataframe thead th {\n",
       "        text-align: right;\n",
       "    }\n",
       "</style>\n",
       "<table border=\"1\" class=\"dataframe\">\n",
       "  <thead>\n",
       "    <tr style=\"text-align: right;\">\n",
       "      <th></th>\n",
       "      <th>index</th>\n",
       "      <th>M</th>\n",
       "      <th>nprobe</th>\n",
       "      <th>nsegment</th>\n",
       "      <th>recall@1</th>\n",
       "      <th>recall@3</th>\n",
       "      <th>recall@5</th>\n",
       "      <th>train_time</th>\n",
       "      <th>index_time</th>\n",
       "      <th>search_time</th>\n",
       "      <th>index_size</th>\n",
       "    </tr>\n",
       "  </thead>\n",
       "  <tbody>\n",
       "    <tr>\n",
       "      <th>4</th>\n",
       "      <td>IVF65536_HNSW32,PQ32</td>\n",
       "      <td>32</td>\n",
       "      <td>128</td>\n",
       "      <td>32</td>\n",
       "      <td>0.547</td>\n",
       "      <td>0.765</td>\n",
       "      <td>0.806</td>\n",
       "      <td>146.412567</td>\n",
       "      <td>25.161457</td>\n",
       "      <td>0.033655</td>\n",
       "      <td>154.209972</td>\n",
       "    </tr>\n",
       "    <tr>\n",
       "      <th>12</th>\n",
       "      <td>IVF65536_HNSW32,Flat</td>\n",
       "      <td>32</td>\n",
       "      <td>128</td>\n",
       "      <td>0</td>\n",
       "      <td>0.840</td>\n",
       "      <td>0.840</td>\n",
       "      <td>0.840</td>\n",
       "      <td>85.118428</td>\n",
       "      <td>18.936768</td>\n",
       "      <td>0.055360</td>\n",
       "      <td>1594.078859</td>\n",
       "    </tr>\n",
       "    <tr>\n",
       "      <th>16</th>\n",
       "      <td>HNSW32,Flat</td>\n",
       "      <td>32</td>\n",
       "      <td>128</td>\n",
       "      <td>0</td>\n",
       "      <td>0.851</td>\n",
       "      <td>0.851</td>\n",
       "      <td>0.851</td>\n",
       "      <td>None</td>\n",
       "      <td>920.648198</td>\n",
       "      <td>0.209860</td>\n",
       "      <td>2352.424546</td>\n",
       "    </tr>\n",
       "    <tr>\n",
       "      <th>17</th>\n",
       "      <td>HNSW32_PQ32</td>\n",
       "      <td>32</td>\n",
       "      <td>128</td>\n",
       "      <td>32</td>\n",
       "      <td>0.634</td>\n",
       "      <td>0.795</td>\n",
       "      <td>0.815</td>\n",
       "      <td>67.697279</td>\n",
       "      <td>721.771335</td>\n",
       "      <td>0.133165</td>\n",
       "      <td>912.555659</td>\n",
       "    </tr>\n",
       "  </tbody>\n",
       "</table>\n",
       "</div>"
      ],
      "text/plain": [
       "                   index   M  nprobe  nsegment  recall@1  recall@3  recall@5  \\\n",
       "4   IVF65536_HNSW32,PQ32  32     128        32     0.547     0.765     0.806   \n",
       "12  IVF65536_HNSW32,Flat  32     128         0     0.840     0.840     0.840   \n",
       "16           HNSW32,Flat  32     128         0     0.851     0.851     0.851   \n",
       "17           HNSW32_PQ32  32     128        32     0.634     0.795     0.815   \n",
       "\n",
       "    train_time  index_time  search_time   index_size  \n",
       "4   146.412567   25.161457     0.033655   154.209972  \n",
       "12   85.118428   18.936768     0.055360  1594.078859  \n",
       "16        None  920.648198     0.209860  2352.424546  \n",
       "17   67.697279  721.771335     0.133165   912.555659  "
      ]
     },
     "execution_count": 59,
     "metadata": {},
     "output_type": "execute_result"
    }
   ],
   "source": [
    "df128 = df[(df[\"nprobe\"]==128) | (df[\"index\"]==\"HNSW32,Flat\") | (df[\"index\"]==\"HNSW32_PQ32\")].copy()\n",
    "df128[\"nprobe\"] = 128\n",
    "df128"
   ]
  },
  {
   "cell_type": "code",
   "execution_count": 60,
   "id": "b59610a7",
   "metadata": {
    "execution": {
     "iopub.execute_input": "2022-08-18T15:45:17.375858Z",
     "iopub.status.busy": "2022-08-18T15:45:17.375474Z",
     "iopub.status.idle": "2022-08-18T15:45:17.474143Z",
     "shell.execute_reply": "2022-08-18T15:45:17.473117Z"
    },
    "papermill": {
     "duration": 0.756298,
     "end_time": "2022-08-18T15:45:17.476481",
     "exception": false,
     "start_time": "2022-08-18T15:45:16.720183",
     "status": "completed"
    },
    "tags": []
   },
   "outputs": [
    {
     "data": {
      "text/html": [
       "<div>                            <div id=\"daa78d71-0c4d-429f-ba64-1bcf95437c6d\" class=\"plotly-graph-div\" style=\"height:400px; width:900px;\"></div>            <script type=\"text/javascript\">                require([\"plotly\"], function(Plotly) {                    window.PLOTLYENV=window.PLOTLYENV || {};                                    if (document.getElementById(\"daa78d71-0c4d-429f-ba64-1bcf95437c6d\")) {                    Plotly.newPlot(                        \"daa78d71-0c4d-429f-ba64-1bcf95437c6d\",                        [{\"marker\":{\"color\":[\"#2CA02C\",\"#FF7F0E\",\"#D62728\",\"#1F77B4\"]},\"name\":\"search time\",\"x\":[\"IVF65536_HNSW32,PQ32\",\"IVF65536_HNSW32,Flat\",\"HNSW32,Flat\",\"HNSW32_PQ32\"],\"y\":[0.03365492820739746,0.05536031723022461,0.20985984802246094,0.133164644241333],\"type\":\"bar\",\"xaxis\":\"x\",\"yaxis\":\"y\"},{\"marker\":{\"color\":[\"#2CA02C\",\"#FF7F0E\",\"#D62728\",\"#1F77B4\"]},\"name\":\"recall@1\",\"x\":[\"IVF65536_HNSW32,PQ32\",\"IVF65536_HNSW32,Flat\",\"HNSW32,Flat\",\"HNSW32_PQ32\"],\"y\":[0.547,0.84,0.851,0.634],\"type\":\"bar\",\"xaxis\":\"x2\",\"yaxis\":\"y2\"},{\"marker\":{\"color\":[\"#2CA02C\",\"#FF7F0E\",\"#D62728\",\"#1F77B4\"]},\"name\":\"recall@3\",\"x\":[\"IVF65536_HNSW32,PQ32\",\"IVF65536_HNSW32,Flat\",\"HNSW32,Flat\",\"HNSW32_PQ32\"],\"y\":[0.765,0.84,0.851,0.795],\"type\":\"bar\",\"xaxis\":\"x3\",\"yaxis\":\"y3\"},{\"marker\":{\"color\":[\"#2CA02C\",\"#FF7F0E\",\"#D62728\",\"#1F77B4\"]},\"name\":\"recall@5\",\"x\":[\"IVF65536_HNSW32,PQ32\",\"IVF65536_HNSW32,Flat\",\"HNSW32,Flat\",\"HNSW32_PQ32\"],\"y\":[0.806,0.84,0.851,0.815],\"type\":\"bar\",\"xaxis\":\"x4\",\"yaxis\":\"y4\"}],                        {\"template\":{\"data\":{\"barpolar\":[{\"marker\":{\"line\":{\"color\":\"white\",\"width\":0.5},\"pattern\":{\"fillmode\":\"overlay\",\"size\":10,\"solidity\":0.2}},\"type\":\"barpolar\"}],\"bar\":[{\"error_x\":{\"color\":\"rgb(36,36,36)\"},\"error_y\":{\"color\":\"rgb(36,36,36)\"},\"marker\":{\"line\":{\"color\":\"white\",\"width\":0.5},\"pattern\":{\"fillmode\":\"overlay\",\"size\":10,\"solidity\":0.2}},\"type\":\"bar\"}],\"carpet\":[{\"aaxis\":{\"endlinecolor\":\"rgb(36,36,36)\",\"gridcolor\":\"white\",\"linecolor\":\"white\",\"minorgridcolor\":\"white\",\"startlinecolor\":\"rgb(36,36,36)\"},\"baxis\":{\"endlinecolor\":\"rgb(36,36,36)\",\"gridcolor\":\"white\",\"linecolor\":\"white\",\"minorgridcolor\":\"white\",\"startlinecolor\":\"rgb(36,36,36)\"},\"type\":\"carpet\"}],\"choropleth\":[{\"colorbar\":{\"outlinewidth\":1,\"tickcolor\":\"rgb(36,36,36)\",\"ticks\":\"outside\"},\"type\":\"choropleth\"}],\"contourcarpet\":[{\"colorbar\":{\"outlinewidth\":1,\"tickcolor\":\"rgb(36,36,36)\",\"ticks\":\"outside\"},\"type\":\"contourcarpet\"}],\"contour\":[{\"colorbar\":{\"outlinewidth\":1,\"tickcolor\":\"rgb(36,36,36)\",\"ticks\":\"outside\"},\"colorscale\":[[0.0,\"#440154\"],[0.1111111111111111,\"#482878\"],[0.2222222222222222,\"#3e4989\"],[0.3333333333333333,\"#31688e\"],[0.4444444444444444,\"#26828e\"],[0.5555555555555556,\"#1f9e89\"],[0.6666666666666666,\"#35b779\"],[0.7777777777777778,\"#6ece58\"],[0.8888888888888888,\"#b5de2b\"],[1.0,\"#fde725\"]],\"type\":\"contour\"}],\"heatmapgl\":[{\"colorbar\":{\"outlinewidth\":1,\"tickcolor\":\"rgb(36,36,36)\",\"ticks\":\"outside\"},\"colorscale\":[[0.0,\"#440154\"],[0.1111111111111111,\"#482878\"],[0.2222222222222222,\"#3e4989\"],[0.3333333333333333,\"#31688e\"],[0.4444444444444444,\"#26828e\"],[0.5555555555555556,\"#1f9e89\"],[0.6666666666666666,\"#35b779\"],[0.7777777777777778,\"#6ece58\"],[0.8888888888888888,\"#b5de2b\"],[1.0,\"#fde725\"]],\"type\":\"heatmapgl\"}],\"heatmap\":[{\"colorbar\":{\"outlinewidth\":1,\"tickcolor\":\"rgb(36,36,36)\",\"ticks\":\"outside\"},\"colorscale\":[[0.0,\"#440154\"],[0.1111111111111111,\"#482878\"],[0.2222222222222222,\"#3e4989\"],[0.3333333333333333,\"#31688e\"],[0.4444444444444444,\"#26828e\"],[0.5555555555555556,\"#1f9e89\"],[0.6666666666666666,\"#35b779\"],[0.7777777777777778,\"#6ece58\"],[0.8888888888888888,\"#b5de2b\"],[1.0,\"#fde725\"]],\"type\":\"heatmap\"}],\"histogram2dcontour\":[{\"colorbar\":{\"outlinewidth\":1,\"tickcolor\":\"rgb(36,36,36)\",\"ticks\":\"outside\"},\"colorscale\":[[0.0,\"#440154\"],[0.1111111111111111,\"#482878\"],[0.2222222222222222,\"#3e4989\"],[0.3333333333333333,\"#31688e\"],[0.4444444444444444,\"#26828e\"],[0.5555555555555556,\"#1f9e89\"],[0.6666666666666666,\"#35b779\"],[0.7777777777777778,\"#6ece58\"],[0.8888888888888888,\"#b5de2b\"],[1.0,\"#fde725\"]],\"type\":\"histogram2dcontour\"}],\"histogram2d\":[{\"colorbar\":{\"outlinewidth\":1,\"tickcolor\":\"rgb(36,36,36)\",\"ticks\":\"outside\"},\"colorscale\":[[0.0,\"#440154\"],[0.1111111111111111,\"#482878\"],[0.2222222222222222,\"#3e4989\"],[0.3333333333333333,\"#31688e\"],[0.4444444444444444,\"#26828e\"],[0.5555555555555556,\"#1f9e89\"],[0.6666666666666666,\"#35b779\"],[0.7777777777777778,\"#6ece58\"],[0.8888888888888888,\"#b5de2b\"],[1.0,\"#fde725\"]],\"type\":\"histogram2d\"}],\"histogram\":[{\"marker\":{\"line\":{\"color\":\"white\",\"width\":0.6}},\"type\":\"histogram\"}],\"mesh3d\":[{\"colorbar\":{\"outlinewidth\":1,\"tickcolor\":\"rgb(36,36,36)\",\"ticks\":\"outside\"},\"type\":\"mesh3d\"}],\"parcoords\":[{\"line\":{\"colorbar\":{\"outlinewidth\":1,\"tickcolor\":\"rgb(36,36,36)\",\"ticks\":\"outside\"}},\"type\":\"parcoords\"}],\"pie\":[{\"automargin\":true,\"type\":\"pie\"}],\"scatter3d\":[{\"line\":{\"colorbar\":{\"outlinewidth\":1,\"tickcolor\":\"rgb(36,36,36)\",\"ticks\":\"outside\"}},\"marker\":{\"colorbar\":{\"outlinewidth\":1,\"tickcolor\":\"rgb(36,36,36)\",\"ticks\":\"outside\"}},\"type\":\"scatter3d\"}],\"scattercarpet\":[{\"marker\":{\"colorbar\":{\"outlinewidth\":1,\"tickcolor\":\"rgb(36,36,36)\",\"ticks\":\"outside\"}},\"type\":\"scattercarpet\"}],\"scattergeo\":[{\"marker\":{\"colorbar\":{\"outlinewidth\":1,\"tickcolor\":\"rgb(36,36,36)\",\"ticks\":\"outside\"}},\"type\":\"scattergeo\"}],\"scattergl\":[{\"marker\":{\"colorbar\":{\"outlinewidth\":1,\"tickcolor\":\"rgb(36,36,36)\",\"ticks\":\"outside\"}},\"type\":\"scattergl\"}],\"scattermapbox\":[{\"marker\":{\"colorbar\":{\"outlinewidth\":1,\"tickcolor\":\"rgb(36,36,36)\",\"ticks\":\"outside\"}},\"type\":\"scattermapbox\"}],\"scatterpolargl\":[{\"marker\":{\"colorbar\":{\"outlinewidth\":1,\"tickcolor\":\"rgb(36,36,36)\",\"ticks\":\"outside\"}},\"type\":\"scatterpolargl\"}],\"scatterpolar\":[{\"marker\":{\"colorbar\":{\"outlinewidth\":1,\"tickcolor\":\"rgb(36,36,36)\",\"ticks\":\"outside\"}},\"type\":\"scatterpolar\"}],\"scatter\":[{\"fillpattern\":{\"fillmode\":\"overlay\",\"size\":10,\"solidity\":0.2},\"type\":\"scatter\"}],\"scatterternary\":[{\"marker\":{\"colorbar\":{\"outlinewidth\":1,\"tickcolor\":\"rgb(36,36,36)\",\"ticks\":\"outside\"}},\"type\":\"scatterternary\"}],\"surface\":[{\"colorbar\":{\"outlinewidth\":1,\"tickcolor\":\"rgb(36,36,36)\",\"ticks\":\"outside\"},\"colorscale\":[[0.0,\"#440154\"],[0.1111111111111111,\"#482878\"],[0.2222222222222222,\"#3e4989\"],[0.3333333333333333,\"#31688e\"],[0.4444444444444444,\"#26828e\"],[0.5555555555555556,\"#1f9e89\"],[0.6666666666666666,\"#35b779\"],[0.7777777777777778,\"#6ece58\"],[0.8888888888888888,\"#b5de2b\"],[1.0,\"#fde725\"]],\"type\":\"surface\"}],\"table\":[{\"cells\":{\"fill\":{\"color\":\"rgb(237,237,237)\"},\"line\":{\"color\":\"white\"}},\"header\":{\"fill\":{\"color\":\"rgb(217,217,217)\"},\"line\":{\"color\":\"white\"}},\"type\":\"table\"}]},\"layout\":{\"annotationdefaults\":{\"arrowhead\":0,\"arrowwidth\":1},\"autotypenumbers\":\"strict\",\"coloraxis\":{\"colorbar\":{\"outlinewidth\":1,\"tickcolor\":\"rgb(36,36,36)\",\"ticks\":\"outside\"}},\"colorscale\":{\"diverging\":[[0.0,\"rgb(103,0,31)\"],[0.1,\"rgb(178,24,43)\"],[0.2,\"rgb(214,96,77)\"],[0.3,\"rgb(244,165,130)\"],[0.4,\"rgb(253,219,199)\"],[0.5,\"rgb(247,247,247)\"],[0.6,\"rgb(209,229,240)\"],[0.7,\"rgb(146,197,222)\"],[0.8,\"rgb(67,147,195)\"],[0.9,\"rgb(33,102,172)\"],[1.0,\"rgb(5,48,97)\"]],\"sequential\":[[0.0,\"#440154\"],[0.1111111111111111,\"#482878\"],[0.2222222222222222,\"#3e4989\"],[0.3333333333333333,\"#31688e\"],[0.4444444444444444,\"#26828e\"],[0.5555555555555556,\"#1f9e89\"],[0.6666666666666666,\"#35b779\"],[0.7777777777777778,\"#6ece58\"],[0.8888888888888888,\"#b5de2b\"],[1.0,\"#fde725\"]],\"sequentialminus\":[[0.0,\"#440154\"],[0.1111111111111111,\"#482878\"],[0.2222222222222222,\"#3e4989\"],[0.3333333333333333,\"#31688e\"],[0.4444444444444444,\"#26828e\"],[0.5555555555555556,\"#1f9e89\"],[0.6666666666666666,\"#35b779\"],[0.7777777777777778,\"#6ece58\"],[0.8888888888888888,\"#b5de2b\"],[1.0,\"#fde725\"]]},\"colorway\":[\"#1F77B4\",\"#FF7F0E\",\"#2CA02C\",\"#D62728\",\"#9467BD\",\"#8C564B\",\"#E377C2\",\"#7F7F7F\",\"#BCBD22\",\"#17BECF\"],\"font\":{\"color\":\"rgb(36,36,36)\"},\"geo\":{\"bgcolor\":\"white\",\"lakecolor\":\"white\",\"landcolor\":\"white\",\"showlakes\":true,\"showland\":true,\"subunitcolor\":\"white\"},\"hoverlabel\":{\"align\":\"left\"},\"hovermode\":\"closest\",\"mapbox\":{\"style\":\"light\"},\"paper_bgcolor\":\"white\",\"plot_bgcolor\":\"white\",\"polar\":{\"angularaxis\":{\"gridcolor\":\"rgb(232,232,232)\",\"linecolor\":\"rgb(36,36,36)\",\"showgrid\":false,\"showline\":true,\"ticks\":\"outside\"},\"bgcolor\":\"white\",\"radialaxis\":{\"gridcolor\":\"rgb(232,232,232)\",\"linecolor\":\"rgb(36,36,36)\",\"showgrid\":false,\"showline\":true,\"ticks\":\"outside\"}},\"scene\":{\"xaxis\":{\"backgroundcolor\":\"white\",\"gridcolor\":\"rgb(232,232,232)\",\"gridwidth\":2,\"linecolor\":\"rgb(36,36,36)\",\"showbackground\":true,\"showgrid\":false,\"showline\":true,\"ticks\":\"outside\",\"zeroline\":false,\"zerolinecolor\":\"rgb(36,36,36)\"},\"yaxis\":{\"backgroundcolor\":\"white\",\"gridcolor\":\"rgb(232,232,232)\",\"gridwidth\":2,\"linecolor\":\"rgb(36,36,36)\",\"showbackground\":true,\"showgrid\":false,\"showline\":true,\"ticks\":\"outside\",\"zeroline\":false,\"zerolinecolor\":\"rgb(36,36,36)\"},\"zaxis\":{\"backgroundcolor\":\"white\",\"gridcolor\":\"rgb(232,232,232)\",\"gridwidth\":2,\"linecolor\":\"rgb(36,36,36)\",\"showbackground\":true,\"showgrid\":false,\"showline\":true,\"ticks\":\"outside\",\"zeroline\":false,\"zerolinecolor\":\"rgb(36,36,36)\"}},\"shapedefaults\":{\"fillcolor\":\"black\",\"line\":{\"width\":0},\"opacity\":0.3},\"ternary\":{\"aaxis\":{\"gridcolor\":\"rgb(232,232,232)\",\"linecolor\":\"rgb(36,36,36)\",\"showgrid\":false,\"showline\":true,\"ticks\":\"outside\"},\"baxis\":{\"gridcolor\":\"rgb(232,232,232)\",\"linecolor\":\"rgb(36,36,36)\",\"showgrid\":false,\"showline\":true,\"ticks\":\"outside\"},\"bgcolor\":\"white\",\"caxis\":{\"gridcolor\":\"rgb(232,232,232)\",\"linecolor\":\"rgb(36,36,36)\",\"showgrid\":false,\"showline\":true,\"ticks\":\"outside\"}},\"title\":{\"x\":0.05},\"xaxis\":{\"automargin\":true,\"gridcolor\":\"rgb(232,232,232)\",\"linecolor\":\"rgb(36,36,36)\",\"showgrid\":false,\"showline\":true,\"ticks\":\"outside\",\"title\":{\"standoff\":15},\"zeroline\":false,\"zerolinecolor\":\"rgb(36,36,36)\"},\"yaxis\":{\"automargin\":true,\"gridcolor\":\"rgb(232,232,232)\",\"linecolor\":\"rgb(36,36,36)\",\"showgrid\":false,\"showline\":true,\"ticks\":\"outside\",\"title\":{\"standoff\":15},\"zeroline\":false,\"zerolinecolor\":\"rgb(36,36,36)\"}}},\"xaxis\":{\"anchor\":\"y\",\"domain\":[0.0,0.1375],\"ticks\":\"\",\"tickangle\":30},\"yaxis\":{\"anchor\":\"x\",\"domain\":[0.0,1.0],\"title\":{\"text\":\"search time (ms/query)\"}},\"xaxis2\":{\"anchor\":\"y2\",\"domain\":[0.2875,0.425],\"ticks\":\"\",\"tickangle\":30},\"yaxis2\":{\"anchor\":\"x2\",\"domain\":[0.0,1.0],\"title\":{\"text\":\"1-recall@1\"}},\"xaxis3\":{\"anchor\":\"y3\",\"domain\":[0.575,0.7124999999999999],\"ticks\":\"\",\"tickangle\":30},\"yaxis3\":{\"anchor\":\"x3\",\"domain\":[0.0,1.0],\"title\":{\"text\":\"1-recall@3\"}},\"xaxis4\":{\"anchor\":\"y4\",\"domain\":[0.8625,1.0],\"ticks\":\"\",\"tickangle\":30},\"yaxis4\":{\"anchor\":\"x4\",\"domain\":[0.0,1.0],\"title\":{\"text\":\"1-recall@5\"}},\"title\":{\"text\":\"For IVF indexes, nprobe=128\"},\"height\":400,\"width\":900,\"showlegend\":false},                        {\"responsive\": true}                    ).then(function(){\n",
       "                            \n",
       "var gd = document.getElementById('daa78d71-0c4d-429f-ba64-1bcf95437c6d');\n",
       "var x = new MutationObserver(function (mutations, observer) {{\n",
       "        var display = window.getComputedStyle(gd).display;\n",
       "        if (!display || display === 'none') {{\n",
       "            console.log([gd, 'removed!']);\n",
       "            Plotly.purge(gd);\n",
       "            observer.disconnect();\n",
       "        }}\n",
       "}});\n",
       "\n",
       "// Listen for the removal of the full notebook cells\n",
       "var notebookContainer = gd.closest('#notebook-container');\n",
       "if (notebookContainer) {{\n",
       "    x.observe(notebookContainer, {childList: true});\n",
       "}}\n",
       "\n",
       "// Listen for the clearing of the current output cell\n",
       "var outputEl = gd.closest('.output');\n",
       "if (outputEl) {{\n",
       "    x.observe(outputEl, {childList: true});\n",
       "}}\n",
       "\n",
       "                        })                };                });            </script>        </div>"
      ]
     },
     "metadata": {},
     "output_type": "display_data"
    }
   ],
   "source": [
    "fig = make_subplots(rows=1, cols=4, horizontal_spacing = 0.15)\n",
    "colors = px.colors.qualitative.D3  \n",
    "\n",
    "fig.add_trace(go.Bar(x=df128.loc[:,'index'], y=df128.loc[:,'search_time'], marker_color=colors_gorb, name=\"search time\"),\n",
    "              row=1, col=1\n",
    "             )              \n",
    "fig.add_trace(go.Bar(x=df128.loc[:,'index'], y=df128.loc[:,'recall@1'], marker_color=colors_gorb, name=\"recall@1\"),\n",
    "              row=1, col=2\n",
    "             )  \n",
    "fig.add_trace(go.Bar(x=df128.loc[:,'index'], y=df128.loc[:,'recall@3'], marker_color=colors_gorb, name=\"recall@3\"),\n",
    "              row=1, col=3\n",
    "             ) \n",
    "fig.add_trace(go.Bar(x=df128.loc[:,'index'], y=df128.loc[:,'recall@5'], marker_color=colors_gorb, name=\"recall@5\"),\n",
    "              row=1, col=4\n",
    "             ) \n",
    "fig.update_yaxes(title_text=\"search time (ms/query)\", row=1, col=1)\n",
    "fig.update_yaxes(title_text=\"1-recall@1\", row=1, col=2)\n",
    "fig.update_yaxes(title_text=\"1-recall@3\", row=1, col=3)\n",
    "fig.update_yaxes(title_text=\"1-recall@5\", row=1, col=4)\n",
    "fig.update_xaxes(ticks=\"\", tickangle=30)\n",
    "fig.update_layout(height=400, width=900, template=\"simple_white\", showlegend=False, title_text=\"For IVF indexes, nprobe=128\")\n",
    "fig.show()\n",
    "fig.write_html(\"nprobe128_search_recalls.html\")"
   ]
  },
  {
   "cell_type": "code",
   "execution_count": 61,
   "id": "a0a9fb46",
   "metadata": {
    "execution": {
     "iopub.execute_input": "2022-08-18T15:45:18.663961Z",
     "iopub.status.busy": "2022-08-18T15:45:18.663560Z",
     "iopub.status.idle": "2022-08-18T15:45:18.730670Z",
     "shell.execute_reply": "2022-08-18T15:45:18.729787Z"
    },
    "papermill": {
     "duration": 0.659548,
     "end_time": "2022-08-18T15:45:18.732730",
     "exception": false,
     "start_time": "2022-08-18T15:45:18.073182",
     "status": "completed"
    },
    "tags": []
   },
   "outputs": [
    {
     "data": {
      "text/html": [
       "<div>                            <div id=\"642bbc51-5f13-44a0-8994-42b6941d2cff\" class=\"plotly-graph-div\" style=\"height:400px; width:600px;\"></div>            <script type=\"text/javascript\">                require([\"plotly\"], function(Plotly) {                    window.PLOTLYENV=window.PLOTLYENV || {};                                    if (document.getElementById(\"642bbc51-5f13-44a0-8994-42b6941d2cff\")) {                    Plotly.newPlot(                        \"642bbc51-5f13-44a0-8994-42b6941d2cff\",                        [{\"marker\":{\"color\":[\"#2CA02C\",\"#FF7F0E\",\"#D62728\",\"#1F77B4\"]},\"name\":\"search time\",\"x\":[\"IVF65536_HNSW32,PQ32\",\"IVF65536_HNSW32,Flat\",\"HNSW32,Flat\",\"HNSW32_PQ32\"],\"y\":[0.03365492820739746,0.05536031723022461,0.20985984802246094,0.133164644241333],\"type\":\"bar\",\"xaxis\":\"x\",\"yaxis\":\"y\"},{\"marker\":{\"color\":[\"#2CA02C\",\"#FF7F0E\",\"#D62728\",\"#1F77B4\"]},\"name\":\"recall@3\",\"x\":[\"IVF65536_HNSW32,PQ32\",\"IVF65536_HNSW32,Flat\",\"HNSW32,Flat\",\"HNSW32_PQ32\"],\"y\":[0.765,0.84,0.851,0.795],\"type\":\"bar\",\"xaxis\":\"x2\",\"yaxis\":\"y2\"}],                        {\"template\":{\"data\":{\"barpolar\":[{\"marker\":{\"line\":{\"color\":\"white\",\"width\":0.5},\"pattern\":{\"fillmode\":\"overlay\",\"size\":10,\"solidity\":0.2}},\"type\":\"barpolar\"}],\"bar\":[{\"error_x\":{\"color\":\"rgb(36,36,36)\"},\"error_y\":{\"color\":\"rgb(36,36,36)\"},\"marker\":{\"line\":{\"color\":\"white\",\"width\":0.5},\"pattern\":{\"fillmode\":\"overlay\",\"size\":10,\"solidity\":0.2}},\"type\":\"bar\"}],\"carpet\":[{\"aaxis\":{\"endlinecolor\":\"rgb(36,36,36)\",\"gridcolor\":\"white\",\"linecolor\":\"white\",\"minorgridcolor\":\"white\",\"startlinecolor\":\"rgb(36,36,36)\"},\"baxis\":{\"endlinecolor\":\"rgb(36,36,36)\",\"gridcolor\":\"white\",\"linecolor\":\"white\",\"minorgridcolor\":\"white\",\"startlinecolor\":\"rgb(36,36,36)\"},\"type\":\"carpet\"}],\"choropleth\":[{\"colorbar\":{\"outlinewidth\":1,\"tickcolor\":\"rgb(36,36,36)\",\"ticks\":\"outside\"},\"type\":\"choropleth\"}],\"contourcarpet\":[{\"colorbar\":{\"outlinewidth\":1,\"tickcolor\":\"rgb(36,36,36)\",\"ticks\":\"outside\"},\"type\":\"contourcarpet\"}],\"contour\":[{\"colorbar\":{\"outlinewidth\":1,\"tickcolor\":\"rgb(36,36,36)\",\"ticks\":\"outside\"},\"colorscale\":[[0.0,\"#440154\"],[0.1111111111111111,\"#482878\"],[0.2222222222222222,\"#3e4989\"],[0.3333333333333333,\"#31688e\"],[0.4444444444444444,\"#26828e\"],[0.5555555555555556,\"#1f9e89\"],[0.6666666666666666,\"#35b779\"],[0.7777777777777778,\"#6ece58\"],[0.8888888888888888,\"#b5de2b\"],[1.0,\"#fde725\"]],\"type\":\"contour\"}],\"heatmapgl\":[{\"colorbar\":{\"outlinewidth\":1,\"tickcolor\":\"rgb(36,36,36)\",\"ticks\":\"outside\"},\"colorscale\":[[0.0,\"#440154\"],[0.1111111111111111,\"#482878\"],[0.2222222222222222,\"#3e4989\"],[0.3333333333333333,\"#31688e\"],[0.4444444444444444,\"#26828e\"],[0.5555555555555556,\"#1f9e89\"],[0.6666666666666666,\"#35b779\"],[0.7777777777777778,\"#6ece58\"],[0.8888888888888888,\"#b5de2b\"],[1.0,\"#fde725\"]],\"type\":\"heatmapgl\"}],\"heatmap\":[{\"colorbar\":{\"outlinewidth\":1,\"tickcolor\":\"rgb(36,36,36)\",\"ticks\":\"outside\"},\"colorscale\":[[0.0,\"#440154\"],[0.1111111111111111,\"#482878\"],[0.2222222222222222,\"#3e4989\"],[0.3333333333333333,\"#31688e\"],[0.4444444444444444,\"#26828e\"],[0.5555555555555556,\"#1f9e89\"],[0.6666666666666666,\"#35b779\"],[0.7777777777777778,\"#6ece58\"],[0.8888888888888888,\"#b5de2b\"],[1.0,\"#fde725\"]],\"type\":\"heatmap\"}],\"histogram2dcontour\":[{\"colorbar\":{\"outlinewidth\":1,\"tickcolor\":\"rgb(36,36,36)\",\"ticks\":\"outside\"},\"colorscale\":[[0.0,\"#440154\"],[0.1111111111111111,\"#482878\"],[0.2222222222222222,\"#3e4989\"],[0.3333333333333333,\"#31688e\"],[0.4444444444444444,\"#26828e\"],[0.5555555555555556,\"#1f9e89\"],[0.6666666666666666,\"#35b779\"],[0.7777777777777778,\"#6ece58\"],[0.8888888888888888,\"#b5de2b\"],[1.0,\"#fde725\"]],\"type\":\"histogram2dcontour\"}],\"histogram2d\":[{\"colorbar\":{\"outlinewidth\":1,\"tickcolor\":\"rgb(36,36,36)\",\"ticks\":\"outside\"},\"colorscale\":[[0.0,\"#440154\"],[0.1111111111111111,\"#482878\"],[0.2222222222222222,\"#3e4989\"],[0.3333333333333333,\"#31688e\"],[0.4444444444444444,\"#26828e\"],[0.5555555555555556,\"#1f9e89\"],[0.6666666666666666,\"#35b779\"],[0.7777777777777778,\"#6ece58\"],[0.8888888888888888,\"#b5de2b\"],[1.0,\"#fde725\"]],\"type\":\"histogram2d\"}],\"histogram\":[{\"marker\":{\"line\":{\"color\":\"white\",\"width\":0.6}},\"type\":\"histogram\"}],\"mesh3d\":[{\"colorbar\":{\"outlinewidth\":1,\"tickcolor\":\"rgb(36,36,36)\",\"ticks\":\"outside\"},\"type\":\"mesh3d\"}],\"parcoords\":[{\"line\":{\"colorbar\":{\"outlinewidth\":1,\"tickcolor\":\"rgb(36,36,36)\",\"ticks\":\"outside\"}},\"type\":\"parcoords\"}],\"pie\":[{\"automargin\":true,\"type\":\"pie\"}],\"scatter3d\":[{\"line\":{\"colorbar\":{\"outlinewidth\":1,\"tickcolor\":\"rgb(36,36,36)\",\"ticks\":\"outside\"}},\"marker\":{\"colorbar\":{\"outlinewidth\":1,\"tickcolor\":\"rgb(36,36,36)\",\"ticks\":\"outside\"}},\"type\":\"scatter3d\"}],\"scattercarpet\":[{\"marker\":{\"colorbar\":{\"outlinewidth\":1,\"tickcolor\":\"rgb(36,36,36)\",\"ticks\":\"outside\"}},\"type\":\"scattercarpet\"}],\"scattergeo\":[{\"marker\":{\"colorbar\":{\"outlinewidth\":1,\"tickcolor\":\"rgb(36,36,36)\",\"ticks\":\"outside\"}},\"type\":\"scattergeo\"}],\"scattergl\":[{\"marker\":{\"colorbar\":{\"outlinewidth\":1,\"tickcolor\":\"rgb(36,36,36)\",\"ticks\":\"outside\"}},\"type\":\"scattergl\"}],\"scattermapbox\":[{\"marker\":{\"colorbar\":{\"outlinewidth\":1,\"tickcolor\":\"rgb(36,36,36)\",\"ticks\":\"outside\"}},\"type\":\"scattermapbox\"}],\"scatterpolargl\":[{\"marker\":{\"colorbar\":{\"outlinewidth\":1,\"tickcolor\":\"rgb(36,36,36)\",\"ticks\":\"outside\"}},\"type\":\"scatterpolargl\"}],\"scatterpolar\":[{\"marker\":{\"colorbar\":{\"outlinewidth\":1,\"tickcolor\":\"rgb(36,36,36)\",\"ticks\":\"outside\"}},\"type\":\"scatterpolar\"}],\"scatter\":[{\"fillpattern\":{\"fillmode\":\"overlay\",\"size\":10,\"solidity\":0.2},\"type\":\"scatter\"}],\"scatterternary\":[{\"marker\":{\"colorbar\":{\"outlinewidth\":1,\"tickcolor\":\"rgb(36,36,36)\",\"ticks\":\"outside\"}},\"type\":\"scatterternary\"}],\"surface\":[{\"colorbar\":{\"outlinewidth\":1,\"tickcolor\":\"rgb(36,36,36)\",\"ticks\":\"outside\"},\"colorscale\":[[0.0,\"#440154\"],[0.1111111111111111,\"#482878\"],[0.2222222222222222,\"#3e4989\"],[0.3333333333333333,\"#31688e\"],[0.4444444444444444,\"#26828e\"],[0.5555555555555556,\"#1f9e89\"],[0.6666666666666666,\"#35b779\"],[0.7777777777777778,\"#6ece58\"],[0.8888888888888888,\"#b5de2b\"],[1.0,\"#fde725\"]],\"type\":\"surface\"}],\"table\":[{\"cells\":{\"fill\":{\"color\":\"rgb(237,237,237)\"},\"line\":{\"color\":\"white\"}},\"header\":{\"fill\":{\"color\":\"rgb(217,217,217)\"},\"line\":{\"color\":\"white\"}},\"type\":\"table\"}]},\"layout\":{\"annotationdefaults\":{\"arrowhead\":0,\"arrowwidth\":1},\"autotypenumbers\":\"strict\",\"coloraxis\":{\"colorbar\":{\"outlinewidth\":1,\"tickcolor\":\"rgb(36,36,36)\",\"ticks\":\"outside\"}},\"colorscale\":{\"diverging\":[[0.0,\"rgb(103,0,31)\"],[0.1,\"rgb(178,24,43)\"],[0.2,\"rgb(214,96,77)\"],[0.3,\"rgb(244,165,130)\"],[0.4,\"rgb(253,219,199)\"],[0.5,\"rgb(247,247,247)\"],[0.6,\"rgb(209,229,240)\"],[0.7,\"rgb(146,197,222)\"],[0.8,\"rgb(67,147,195)\"],[0.9,\"rgb(33,102,172)\"],[1.0,\"rgb(5,48,97)\"]],\"sequential\":[[0.0,\"#440154\"],[0.1111111111111111,\"#482878\"],[0.2222222222222222,\"#3e4989\"],[0.3333333333333333,\"#31688e\"],[0.4444444444444444,\"#26828e\"],[0.5555555555555556,\"#1f9e89\"],[0.6666666666666666,\"#35b779\"],[0.7777777777777778,\"#6ece58\"],[0.8888888888888888,\"#b5de2b\"],[1.0,\"#fde725\"]],\"sequentialminus\":[[0.0,\"#440154\"],[0.1111111111111111,\"#482878\"],[0.2222222222222222,\"#3e4989\"],[0.3333333333333333,\"#31688e\"],[0.4444444444444444,\"#26828e\"],[0.5555555555555556,\"#1f9e89\"],[0.6666666666666666,\"#35b779\"],[0.7777777777777778,\"#6ece58\"],[0.8888888888888888,\"#b5de2b\"],[1.0,\"#fde725\"]]},\"colorway\":[\"#1F77B4\",\"#FF7F0E\",\"#2CA02C\",\"#D62728\",\"#9467BD\",\"#8C564B\",\"#E377C2\",\"#7F7F7F\",\"#BCBD22\",\"#17BECF\"],\"font\":{\"color\":\"rgb(36,36,36)\"},\"geo\":{\"bgcolor\":\"white\",\"lakecolor\":\"white\",\"landcolor\":\"white\",\"showlakes\":true,\"showland\":true,\"subunitcolor\":\"white\"},\"hoverlabel\":{\"align\":\"left\"},\"hovermode\":\"closest\",\"mapbox\":{\"style\":\"light\"},\"paper_bgcolor\":\"white\",\"plot_bgcolor\":\"white\",\"polar\":{\"angularaxis\":{\"gridcolor\":\"rgb(232,232,232)\",\"linecolor\":\"rgb(36,36,36)\",\"showgrid\":false,\"showline\":true,\"ticks\":\"outside\"},\"bgcolor\":\"white\",\"radialaxis\":{\"gridcolor\":\"rgb(232,232,232)\",\"linecolor\":\"rgb(36,36,36)\",\"showgrid\":false,\"showline\":true,\"ticks\":\"outside\"}},\"scene\":{\"xaxis\":{\"backgroundcolor\":\"white\",\"gridcolor\":\"rgb(232,232,232)\",\"gridwidth\":2,\"linecolor\":\"rgb(36,36,36)\",\"showbackground\":true,\"showgrid\":false,\"showline\":true,\"ticks\":\"outside\",\"zeroline\":false,\"zerolinecolor\":\"rgb(36,36,36)\"},\"yaxis\":{\"backgroundcolor\":\"white\",\"gridcolor\":\"rgb(232,232,232)\",\"gridwidth\":2,\"linecolor\":\"rgb(36,36,36)\",\"showbackground\":true,\"showgrid\":false,\"showline\":true,\"ticks\":\"outside\",\"zeroline\":false,\"zerolinecolor\":\"rgb(36,36,36)\"},\"zaxis\":{\"backgroundcolor\":\"white\",\"gridcolor\":\"rgb(232,232,232)\",\"gridwidth\":2,\"linecolor\":\"rgb(36,36,36)\",\"showbackground\":true,\"showgrid\":false,\"showline\":true,\"ticks\":\"outside\",\"zeroline\":false,\"zerolinecolor\":\"rgb(36,36,36)\"}},\"shapedefaults\":{\"fillcolor\":\"black\",\"line\":{\"width\":0},\"opacity\":0.3},\"ternary\":{\"aaxis\":{\"gridcolor\":\"rgb(232,232,232)\",\"linecolor\":\"rgb(36,36,36)\",\"showgrid\":false,\"showline\":true,\"ticks\":\"outside\"},\"baxis\":{\"gridcolor\":\"rgb(232,232,232)\",\"linecolor\":\"rgb(36,36,36)\",\"showgrid\":false,\"showline\":true,\"ticks\":\"outside\"},\"bgcolor\":\"white\",\"caxis\":{\"gridcolor\":\"rgb(232,232,232)\",\"linecolor\":\"rgb(36,36,36)\",\"showgrid\":false,\"showline\":true,\"ticks\":\"outside\"}},\"title\":{\"x\":0.05},\"xaxis\":{\"automargin\":true,\"gridcolor\":\"rgb(232,232,232)\",\"linecolor\":\"rgb(36,36,36)\",\"showgrid\":false,\"showline\":true,\"ticks\":\"outside\",\"title\":{\"standoff\":15},\"zeroline\":false,\"zerolinecolor\":\"rgb(36,36,36)\"},\"yaxis\":{\"automargin\":true,\"gridcolor\":\"rgb(232,232,232)\",\"linecolor\":\"rgb(36,36,36)\",\"showgrid\":false,\"showline\":true,\"ticks\":\"outside\",\"title\":{\"standoff\":15},\"zeroline\":false,\"zerolinecolor\":\"rgb(36,36,36)\"}}},\"xaxis\":{\"anchor\":\"y\",\"domain\":[0.0,0.35],\"ticks\":\"\",\"tickangle\":30},\"yaxis\":{\"anchor\":\"x\",\"domain\":[0.0,1.0],\"title\":{\"text\":\"search time (ms/query)\"}},\"xaxis2\":{\"anchor\":\"y2\",\"domain\":[0.6499999999999999,0.9999999999999999],\"ticks\":\"\",\"tickangle\":30},\"yaxis2\":{\"anchor\":\"x2\",\"domain\":[0.0,1.0],\"title\":{\"text\":\"1-recall@3\"}},\"title\":{\"text\":\"For IVF indexes, nprobe=128\"},\"height\":400,\"width\":600,\"showlegend\":false},                        {\"responsive\": true}                    ).then(function(){\n",
       "                            \n",
       "var gd = document.getElementById('642bbc51-5f13-44a0-8994-42b6941d2cff');\n",
       "var x = new MutationObserver(function (mutations, observer) {{\n",
       "        var display = window.getComputedStyle(gd).display;\n",
       "        if (!display || display === 'none') {{\n",
       "            console.log([gd, 'removed!']);\n",
       "            Plotly.purge(gd);\n",
       "            observer.disconnect();\n",
       "        }}\n",
       "}});\n",
       "\n",
       "// Listen for the removal of the full notebook cells\n",
       "var notebookContainer = gd.closest('#notebook-container');\n",
       "if (notebookContainer) {{\n",
       "    x.observe(notebookContainer, {childList: true});\n",
       "}}\n",
       "\n",
       "// Listen for the clearing of the current output cell\n",
       "var outputEl = gd.closest('.output');\n",
       "if (outputEl) {{\n",
       "    x.observe(outputEl, {childList: true});\n",
       "}}\n",
       "\n",
       "                        })                };                });            </script>        </div>"
      ]
     },
     "metadata": {},
     "output_type": "display_data"
    }
   ],
   "source": [
    "fig = make_subplots(rows=1, cols=2, horizontal_spacing = 0.3)\n",
    "colors = px.colors.qualitative.D3  \n",
    "\n",
    "fig.add_trace(go.Bar(x=df128.loc[:,'index'], y=df128.loc[:,'search_time'], marker_color=colors_gorb, name=\"search time\"),\n",
    "              row=1, col=1\n",
    "             )              \n",
    "fig.add_trace(go.Bar(x=df128.loc[:,'index'], y=df128.loc[:,'recall@3'], marker_color=colors_gorb, name=\"recall@3\"),\n",
    "              row=1, col=2\n",
    "             ) \n",
    "fig.update_yaxes(title_text=\"search time (ms/query)\", row=1, col=1)\n",
    "fig.update_yaxes(title_text=\"1-recall@3\", row=1, col=2)\n",
    "fig.update_xaxes(ticks=\"\", tickangle=30)\n",
    "fig.update_layout(height=400, width=600, template=\"simple_white\", showlegend=False, title_text=\"For IVF indexes, nprobe=128\")\n",
    "fig.show()\n",
    "fig.write_html(\"nprobe128_search_recall3.html\")"
   ]
  },
  {
   "cell_type": "code",
   "execution_count": 62,
   "id": "314b2fff",
   "metadata": {
    "execution": {
     "iopub.execute_input": "2022-08-18T15:45:19.978726Z",
     "iopub.status.busy": "2022-08-18T15:45:19.978120Z",
     "iopub.status.idle": "2022-08-18T15:45:20.052941Z",
     "shell.execute_reply": "2022-08-18T15:45:20.051877Z"
    },
    "papermill": {
     "duration": 0.669281,
     "end_time": "2022-08-18T15:45:20.055309",
     "exception": false,
     "start_time": "2022-08-18T15:45:19.386028",
     "status": "completed"
    },
    "tags": []
   },
   "outputs": [
    {
     "data": {
      "text/html": [
       "<div>                            <div id=\"b6292468-c77c-43b3-981d-f4aa82ebb649\" class=\"plotly-graph-div\" style=\"height:400px; width:700px;\"></div>            <script type=\"text/javascript\">                require([\"plotly\"], function(Plotly) {                    window.PLOTLYENV=window.PLOTLYENV || {};                                    if (document.getElementById(\"b6292468-c77c-43b3-981d-f4aa82ebb649\")) {                    Plotly.newPlot(                        \"b6292468-c77c-43b3-981d-f4aa82ebb649\",                        [{\"name\":\"search time (ms/query)\",\"x\":[\"IVF65536_HNSW32,PQ32\",\"IVF65536_HNSW32,Flat\",\"HNSW32,Flat\",\"HNSW32_PQ32\"],\"y\":[0.03365492820739746,0.05536031723022461,0.20985984802246094,0.133164644241333],\"type\":\"scatter\",\"xaxis\":\"x\",\"yaxis\":\"y\",\"marker\":{\"size\":12,\"color\":\"#E15F99\",\"symbol\":\"diamond\"},\"line\":{\"color\":\"#E15F99\"}},{\"name\":\"1-recall@3\",\"x\":[\"IVF65536_HNSW32,PQ32\",\"IVF65536_HNSW32,Flat\",\"HNSW32,Flat\",\"HNSW32_PQ32\"],\"y\":[0.765,0.84,0.851,0.795],\"type\":\"scatter\",\"xaxis\":\"x\",\"yaxis\":\"y2\",\"marker\":{\"size\":12,\"color\":\"#2E91E5\",\"symbol\":\"hexagram\"},\"line\":{\"color\":\"#2E91E5\"}}],                        {\"template\":{\"data\":{\"barpolar\":[{\"marker\":{\"line\":{\"color\":\"white\",\"width\":0.5},\"pattern\":{\"fillmode\":\"overlay\",\"size\":10,\"solidity\":0.2}},\"type\":\"barpolar\"}],\"bar\":[{\"error_x\":{\"color\":\"rgb(36,36,36)\"},\"error_y\":{\"color\":\"rgb(36,36,36)\"},\"marker\":{\"line\":{\"color\":\"white\",\"width\":0.5},\"pattern\":{\"fillmode\":\"overlay\",\"size\":10,\"solidity\":0.2}},\"type\":\"bar\"}],\"carpet\":[{\"aaxis\":{\"endlinecolor\":\"rgb(36,36,36)\",\"gridcolor\":\"white\",\"linecolor\":\"white\",\"minorgridcolor\":\"white\",\"startlinecolor\":\"rgb(36,36,36)\"},\"baxis\":{\"endlinecolor\":\"rgb(36,36,36)\",\"gridcolor\":\"white\",\"linecolor\":\"white\",\"minorgridcolor\":\"white\",\"startlinecolor\":\"rgb(36,36,36)\"},\"type\":\"carpet\"}],\"choropleth\":[{\"colorbar\":{\"outlinewidth\":1,\"tickcolor\":\"rgb(36,36,36)\",\"ticks\":\"outside\"},\"type\":\"choropleth\"}],\"contourcarpet\":[{\"colorbar\":{\"outlinewidth\":1,\"tickcolor\":\"rgb(36,36,36)\",\"ticks\":\"outside\"},\"type\":\"contourcarpet\"}],\"contour\":[{\"colorbar\":{\"outlinewidth\":1,\"tickcolor\":\"rgb(36,36,36)\",\"ticks\":\"outside\"},\"colorscale\":[[0.0,\"#440154\"],[0.1111111111111111,\"#482878\"],[0.2222222222222222,\"#3e4989\"],[0.3333333333333333,\"#31688e\"],[0.4444444444444444,\"#26828e\"],[0.5555555555555556,\"#1f9e89\"],[0.6666666666666666,\"#35b779\"],[0.7777777777777778,\"#6ece58\"],[0.8888888888888888,\"#b5de2b\"],[1.0,\"#fde725\"]],\"type\":\"contour\"}],\"heatmapgl\":[{\"colorbar\":{\"outlinewidth\":1,\"tickcolor\":\"rgb(36,36,36)\",\"ticks\":\"outside\"},\"colorscale\":[[0.0,\"#440154\"],[0.1111111111111111,\"#482878\"],[0.2222222222222222,\"#3e4989\"],[0.3333333333333333,\"#31688e\"],[0.4444444444444444,\"#26828e\"],[0.5555555555555556,\"#1f9e89\"],[0.6666666666666666,\"#35b779\"],[0.7777777777777778,\"#6ece58\"],[0.8888888888888888,\"#b5de2b\"],[1.0,\"#fde725\"]],\"type\":\"heatmapgl\"}],\"heatmap\":[{\"colorbar\":{\"outlinewidth\":1,\"tickcolor\":\"rgb(36,36,36)\",\"ticks\":\"outside\"},\"colorscale\":[[0.0,\"#440154\"],[0.1111111111111111,\"#482878\"],[0.2222222222222222,\"#3e4989\"],[0.3333333333333333,\"#31688e\"],[0.4444444444444444,\"#26828e\"],[0.5555555555555556,\"#1f9e89\"],[0.6666666666666666,\"#35b779\"],[0.7777777777777778,\"#6ece58\"],[0.8888888888888888,\"#b5de2b\"],[1.0,\"#fde725\"]],\"type\":\"heatmap\"}],\"histogram2dcontour\":[{\"colorbar\":{\"outlinewidth\":1,\"tickcolor\":\"rgb(36,36,36)\",\"ticks\":\"outside\"},\"colorscale\":[[0.0,\"#440154\"],[0.1111111111111111,\"#482878\"],[0.2222222222222222,\"#3e4989\"],[0.3333333333333333,\"#31688e\"],[0.4444444444444444,\"#26828e\"],[0.5555555555555556,\"#1f9e89\"],[0.6666666666666666,\"#35b779\"],[0.7777777777777778,\"#6ece58\"],[0.8888888888888888,\"#b5de2b\"],[1.0,\"#fde725\"]],\"type\":\"histogram2dcontour\"}],\"histogram2d\":[{\"colorbar\":{\"outlinewidth\":1,\"tickcolor\":\"rgb(36,36,36)\",\"ticks\":\"outside\"},\"colorscale\":[[0.0,\"#440154\"],[0.1111111111111111,\"#482878\"],[0.2222222222222222,\"#3e4989\"],[0.3333333333333333,\"#31688e\"],[0.4444444444444444,\"#26828e\"],[0.5555555555555556,\"#1f9e89\"],[0.6666666666666666,\"#35b779\"],[0.7777777777777778,\"#6ece58\"],[0.8888888888888888,\"#b5de2b\"],[1.0,\"#fde725\"]],\"type\":\"histogram2d\"}],\"histogram\":[{\"marker\":{\"line\":{\"color\":\"white\",\"width\":0.6}},\"type\":\"histogram\"}],\"mesh3d\":[{\"colorbar\":{\"outlinewidth\":1,\"tickcolor\":\"rgb(36,36,36)\",\"ticks\":\"outside\"},\"type\":\"mesh3d\"}],\"parcoords\":[{\"line\":{\"colorbar\":{\"outlinewidth\":1,\"tickcolor\":\"rgb(36,36,36)\",\"ticks\":\"outside\"}},\"type\":\"parcoords\"}],\"pie\":[{\"automargin\":true,\"type\":\"pie\"}],\"scatter3d\":[{\"line\":{\"colorbar\":{\"outlinewidth\":1,\"tickcolor\":\"rgb(36,36,36)\",\"ticks\":\"outside\"}},\"marker\":{\"colorbar\":{\"outlinewidth\":1,\"tickcolor\":\"rgb(36,36,36)\",\"ticks\":\"outside\"}},\"type\":\"scatter3d\"}],\"scattercarpet\":[{\"marker\":{\"colorbar\":{\"outlinewidth\":1,\"tickcolor\":\"rgb(36,36,36)\",\"ticks\":\"outside\"}},\"type\":\"scattercarpet\"}],\"scattergeo\":[{\"marker\":{\"colorbar\":{\"outlinewidth\":1,\"tickcolor\":\"rgb(36,36,36)\",\"ticks\":\"outside\"}},\"type\":\"scattergeo\"}],\"scattergl\":[{\"marker\":{\"colorbar\":{\"outlinewidth\":1,\"tickcolor\":\"rgb(36,36,36)\",\"ticks\":\"outside\"}},\"type\":\"scattergl\"}],\"scattermapbox\":[{\"marker\":{\"colorbar\":{\"outlinewidth\":1,\"tickcolor\":\"rgb(36,36,36)\",\"ticks\":\"outside\"}},\"type\":\"scattermapbox\"}],\"scatterpolargl\":[{\"marker\":{\"colorbar\":{\"outlinewidth\":1,\"tickcolor\":\"rgb(36,36,36)\",\"ticks\":\"outside\"}},\"type\":\"scatterpolargl\"}],\"scatterpolar\":[{\"marker\":{\"colorbar\":{\"outlinewidth\":1,\"tickcolor\":\"rgb(36,36,36)\",\"ticks\":\"outside\"}},\"type\":\"scatterpolar\"}],\"scatter\":[{\"fillpattern\":{\"fillmode\":\"overlay\",\"size\":10,\"solidity\":0.2},\"type\":\"scatter\"}],\"scatterternary\":[{\"marker\":{\"colorbar\":{\"outlinewidth\":1,\"tickcolor\":\"rgb(36,36,36)\",\"ticks\":\"outside\"}},\"type\":\"scatterternary\"}],\"surface\":[{\"colorbar\":{\"outlinewidth\":1,\"tickcolor\":\"rgb(36,36,36)\",\"ticks\":\"outside\"},\"colorscale\":[[0.0,\"#440154\"],[0.1111111111111111,\"#482878\"],[0.2222222222222222,\"#3e4989\"],[0.3333333333333333,\"#31688e\"],[0.4444444444444444,\"#26828e\"],[0.5555555555555556,\"#1f9e89\"],[0.6666666666666666,\"#35b779\"],[0.7777777777777778,\"#6ece58\"],[0.8888888888888888,\"#b5de2b\"],[1.0,\"#fde725\"]],\"type\":\"surface\"}],\"table\":[{\"cells\":{\"fill\":{\"color\":\"rgb(237,237,237)\"},\"line\":{\"color\":\"white\"}},\"header\":{\"fill\":{\"color\":\"rgb(217,217,217)\"},\"line\":{\"color\":\"white\"}},\"type\":\"table\"}]},\"layout\":{\"annotationdefaults\":{\"arrowhead\":0,\"arrowwidth\":1},\"autotypenumbers\":\"strict\",\"coloraxis\":{\"colorbar\":{\"outlinewidth\":1,\"tickcolor\":\"rgb(36,36,36)\",\"ticks\":\"outside\"}},\"colorscale\":{\"diverging\":[[0.0,\"rgb(103,0,31)\"],[0.1,\"rgb(178,24,43)\"],[0.2,\"rgb(214,96,77)\"],[0.3,\"rgb(244,165,130)\"],[0.4,\"rgb(253,219,199)\"],[0.5,\"rgb(247,247,247)\"],[0.6,\"rgb(209,229,240)\"],[0.7,\"rgb(146,197,222)\"],[0.8,\"rgb(67,147,195)\"],[0.9,\"rgb(33,102,172)\"],[1.0,\"rgb(5,48,97)\"]],\"sequential\":[[0.0,\"#440154\"],[0.1111111111111111,\"#482878\"],[0.2222222222222222,\"#3e4989\"],[0.3333333333333333,\"#31688e\"],[0.4444444444444444,\"#26828e\"],[0.5555555555555556,\"#1f9e89\"],[0.6666666666666666,\"#35b779\"],[0.7777777777777778,\"#6ece58\"],[0.8888888888888888,\"#b5de2b\"],[1.0,\"#fde725\"]],\"sequentialminus\":[[0.0,\"#440154\"],[0.1111111111111111,\"#482878\"],[0.2222222222222222,\"#3e4989\"],[0.3333333333333333,\"#31688e\"],[0.4444444444444444,\"#26828e\"],[0.5555555555555556,\"#1f9e89\"],[0.6666666666666666,\"#35b779\"],[0.7777777777777778,\"#6ece58\"],[0.8888888888888888,\"#b5de2b\"],[1.0,\"#fde725\"]]},\"colorway\":[\"#1F77B4\",\"#FF7F0E\",\"#2CA02C\",\"#D62728\",\"#9467BD\",\"#8C564B\",\"#E377C2\",\"#7F7F7F\",\"#BCBD22\",\"#17BECF\"],\"font\":{\"color\":\"rgb(36,36,36)\"},\"geo\":{\"bgcolor\":\"white\",\"lakecolor\":\"white\",\"landcolor\":\"white\",\"showlakes\":true,\"showland\":true,\"subunitcolor\":\"white\"},\"hoverlabel\":{\"align\":\"left\"},\"hovermode\":\"closest\",\"mapbox\":{\"style\":\"light\"},\"paper_bgcolor\":\"white\",\"plot_bgcolor\":\"white\",\"polar\":{\"angularaxis\":{\"gridcolor\":\"rgb(232,232,232)\",\"linecolor\":\"rgb(36,36,36)\",\"showgrid\":false,\"showline\":true,\"ticks\":\"outside\"},\"bgcolor\":\"white\",\"radialaxis\":{\"gridcolor\":\"rgb(232,232,232)\",\"linecolor\":\"rgb(36,36,36)\",\"showgrid\":false,\"showline\":true,\"ticks\":\"outside\"}},\"scene\":{\"xaxis\":{\"backgroundcolor\":\"white\",\"gridcolor\":\"rgb(232,232,232)\",\"gridwidth\":2,\"linecolor\":\"rgb(36,36,36)\",\"showbackground\":true,\"showgrid\":false,\"showline\":true,\"ticks\":\"outside\",\"zeroline\":false,\"zerolinecolor\":\"rgb(36,36,36)\"},\"yaxis\":{\"backgroundcolor\":\"white\",\"gridcolor\":\"rgb(232,232,232)\",\"gridwidth\":2,\"linecolor\":\"rgb(36,36,36)\",\"showbackground\":true,\"showgrid\":false,\"showline\":true,\"ticks\":\"outside\",\"zeroline\":false,\"zerolinecolor\":\"rgb(36,36,36)\"},\"zaxis\":{\"backgroundcolor\":\"white\",\"gridcolor\":\"rgb(232,232,232)\",\"gridwidth\":2,\"linecolor\":\"rgb(36,36,36)\",\"showbackground\":true,\"showgrid\":false,\"showline\":true,\"ticks\":\"outside\",\"zeroline\":false,\"zerolinecolor\":\"rgb(36,36,36)\"}},\"shapedefaults\":{\"fillcolor\":\"black\",\"line\":{\"width\":0},\"opacity\":0.3},\"ternary\":{\"aaxis\":{\"gridcolor\":\"rgb(232,232,232)\",\"linecolor\":\"rgb(36,36,36)\",\"showgrid\":false,\"showline\":true,\"ticks\":\"outside\"},\"baxis\":{\"gridcolor\":\"rgb(232,232,232)\",\"linecolor\":\"rgb(36,36,36)\",\"showgrid\":false,\"showline\":true,\"ticks\":\"outside\"},\"bgcolor\":\"white\",\"caxis\":{\"gridcolor\":\"rgb(232,232,232)\",\"linecolor\":\"rgb(36,36,36)\",\"showgrid\":false,\"showline\":true,\"ticks\":\"outside\"}},\"title\":{\"x\":0.05},\"xaxis\":{\"automargin\":true,\"gridcolor\":\"rgb(232,232,232)\",\"linecolor\":\"rgb(36,36,36)\",\"showgrid\":false,\"showline\":true,\"ticks\":\"outside\",\"title\":{\"standoff\":15},\"zeroline\":false,\"zerolinecolor\":\"rgb(36,36,36)\"},\"yaxis\":{\"automargin\":true,\"gridcolor\":\"rgb(232,232,232)\",\"linecolor\":\"rgb(36,36,36)\",\"showgrid\":false,\"showline\":true,\"ticks\":\"outside\",\"title\":{\"standoff\":15},\"zeroline\":false,\"zerolinecolor\":\"rgb(36,36,36)\"}}},\"xaxis\":{\"anchor\":\"y\",\"domain\":[0.0,0.94],\"title\":{\"text\":\"\"},\"tickangle\":8,\"linecolor\":\"darkgrey\"},\"yaxis\":{\"anchor\":\"x\",\"domain\":[0.0,1.0],\"title\":{\"text\":\"<b>search time (ms/query)</b>\"},\"range\":[0.0,0.3],\"color\":\"#E15F99\",\"linecolor\":\"darkgrey\"},\"yaxis2\":{\"anchor\":\"x\",\"overlaying\":\"y\",\"side\":\"right\",\"title\":{\"text\":\"<b>1-recall@3</b>\"},\"range\":[0,1],\"color\":\"#2E91E5\",\"linecolor\":\"darkgrey\"},\"title\":{\"text\":\"Search time vs Recall\"},\"legend\":{\"orientation\":\"h\",\"yanchor\":\"bottom\",\"y\":1.0,\"xanchor\":\"right\",\"x\":0.9,\"borderwidth\":1},\"height\":400,\"width\":700},                        {\"responsive\": true}                    ).then(function(){\n",
       "                            \n",
       "var gd = document.getElementById('b6292468-c77c-43b3-981d-f4aa82ebb649');\n",
       "var x = new MutationObserver(function (mutations, observer) {{\n",
       "        var display = window.getComputedStyle(gd).display;\n",
       "        if (!display || display === 'none') {{\n",
       "            console.log([gd, 'removed!']);\n",
       "            Plotly.purge(gd);\n",
       "            observer.disconnect();\n",
       "        }}\n",
       "}});\n",
       "\n",
       "// Listen for the removal of the full notebook cells\n",
       "var notebookContainer = gd.closest('#notebook-container');\n",
       "if (notebookContainer) {{\n",
       "    x.observe(notebookContainer, {childList: true});\n",
       "}}\n",
       "\n",
       "// Listen for the clearing of the current output cell\n",
       "var outputEl = gd.closest('.output');\n",
       "if (outputEl) {{\n",
       "    x.observe(outputEl, {childList: true});\n",
       "}}\n",
       "\n",
       "                        })                };                });            </script>        </div>"
      ]
     },
     "metadata": {},
     "output_type": "display_data"
    }
   ],
   "source": [
    "# Create figure with secondary y-axis.\n",
    "fig = make_subplots(specs=[[{\"secondary_y\": True}]])\n",
    "\n",
    "fig.add_trace(go.Scatter(x=df128.loc[:,'index'], y=df128.loc[:,'search_time'], name=\"search time (ms/query)\"),    \n",
    "              secondary_y=False\n",
    "             )\n",
    "fig.add_trace(go.Scatter(x=df128.loc[:,'index'], y=df128.loc[:,\"recall@3\"], name=\"1-recall@3\"),    \n",
    "              secondary_y=True\n",
    "             )\n",
    "fig.update_layout(height=400, width=700, template=\"simple_white\", title_text=\"Search time vs Recall\",                   \n",
    "                  legend=dict(orientation=\"h\", yanchor=\"bottom\", y=1.0, xanchor=\"right\", x=0.9, borderwidth=1)\n",
    "                 )\n",
    "\n",
    "# Set unique marker style for different lines (https://plotly.com/python/marker-style/)\n",
    "colors = ['#E15F99', '#2E91E5']\n",
    "symbols = [\"diamond\", \"hexagram\"]\n",
    "sizes = [12, 12]\n",
    "\n",
    "for i, fdata in enumerate(fig.data):\n",
    "    fdata.marker.size = sizes[i]\n",
    "    fdata.marker.color = colors[i]\n",
    "    fdata.line.color = colors[i]  \n",
    "    fdata.marker.symbol = symbols[i]\n",
    "    \n",
    "fig.update_xaxes(title_text=\"\", tickangle=8, linecolor='darkgrey')\n",
    "fig.update_yaxes(range=[0.00, 0.30], secondary_y=False, title_text=\"<b>search time (ms/query)</b>\", color=\"#E15F99\", linecolor='darkgrey')\n",
    "fig.update_yaxes(range=[0, 1], secondary_y=True, title_text=\"<b>1-recall@3</b>\", color=\"#2E91E5\", linecolor='darkgrey')\n",
    "fig.show()\n",
    "fig.write_html(\"nprobe128_search_recall_dual_y.html\")"
   ]
  },
  {
   "cell_type": "code",
   "execution_count": 63,
   "id": "4870f97b",
   "metadata": {
    "_kg_hide-input": true,
    "_kg_hide-output": true,
    "execution": {
     "iopub.execute_input": "2022-08-18T15:45:21.578506Z",
     "iopub.status.busy": "2022-08-18T15:45:21.578005Z",
     "iopub.status.idle": "2022-08-18T15:45:21.729269Z",
     "shell.execute_reply": "2022-08-18T15:45:21.728129Z"
    },
    "papermill": {
     "duration": 1.080165,
     "end_time": "2022-08-18T15:45:21.732084",
     "exception": false,
     "start_time": "2022-08-18T15:45:20.651919",
     "status": "completed"
    },
    "tags": []
   },
   "outputs": [
    {
     "data": {
      "text/html": [
       "<div>                            <div id=\"15029757-af92-4756-9521-2a44e0573cc7\" class=\"plotly-graph-div\" style=\"height:400px; width:700px;\"></div>            <script type=\"text/javascript\">                require([\"plotly\"], function(Plotly) {                    window.PLOTLYENV=window.PLOTLYENV || {};                                    if (document.getElementById(\"15029757-af92-4756-9521-2a44e0573cc7\")) {                    Plotly.newPlot(                        \"15029757-af92-4756-9521-2a44e0573cc7\",                        [{\"hovertemplate\":\"index=%{text}<br>search_time=%{x}<br>recall@3=%{y}<br>index_size=%{marker.size}<extra></extra>\",\"legendgroup\":\"IVF65536_HNSW32,PQ32\",\"marker\":{\"color\":\"#2CA02C\",\"size\":[154.209972],\"sizemode\":\"area\",\"sizeref\":0.9409698183999999,\"symbol\":\"circle\",\"opacity\":0.8},\"mode\":\"markers+text\",\"name\":\"IVF65536_HNSW32,PQ32\",\"orientation\":\"v\",\"showlegend\":true,\"text\":[\"IVF65536_HNSW32,PQ32\"],\"x\":[0.03365492820739746],\"xaxis\":\"x\",\"y\":[0.765],\"yaxis\":\"y\",\"type\":\"scatter\",\"textposition\":\"bottom right\",\"textfont\":{\"color\":\"#2CA02C\",\"size\":13,\"family\":\"Arial\"},\"texttemplate\":\"%{text}<br>(%{marker.size:,d} MB)\"},{\"hovertemplate\":\"index=%{text}<br>search_time=%{x}<br>recall@3=%{y}<br>index_size=%{marker.size}<extra></extra>\",\"legendgroup\":\"IVF65536_HNSW32,Flat\",\"marker\":{\"color\":\"#FF7F0E\",\"size\":[1594.078859],\"sizemode\":\"area\",\"sizeref\":0.9409698183999999,\"symbol\":\"circle\",\"opacity\":0.8},\"mode\":\"markers+text\",\"name\":\"IVF65536_HNSW32,Flat\",\"orientation\":\"v\",\"showlegend\":true,\"text\":[\"IVF65536_HNSW32,Flat\"],\"x\":[0.05536031723022461],\"xaxis\":\"x\",\"y\":[0.84],\"yaxis\":\"y\",\"type\":\"scatter\",\"textposition\":\"top center\",\"textfont\":{\"color\":\"#FF7F0E\",\"size\":13,\"family\":\"Arial\"},\"texttemplate\":\"%{text}<br>(%{marker.size:,d} MB)\"},{\"hovertemplate\":\"index=%{text}<br>search_time=%{x}<br>recall@3=%{y}<br>index_size=%{marker.size}<extra></extra>\",\"legendgroup\":\"HNSW32,Flat\",\"marker\":{\"color\":\"#D62728\",\"size\":[2352.4245459999997],\"sizemode\":\"area\",\"sizeref\":0.9409698183999999,\"symbol\":\"circle\",\"opacity\":0.8},\"mode\":\"markers+text\",\"name\":\"HNSW32,Flat\",\"orientation\":\"v\",\"showlegend\":true,\"text\":[\"HNSW32,Flat\"],\"x\":[0.20985984802246094],\"xaxis\":\"x\",\"y\":[0.851],\"yaxis\":\"y\",\"type\":\"scatter\",\"textposition\":\"top center\",\"textfont\":{\"color\":\"#D62728\",\"size\":13,\"family\":\"Arial\"},\"texttemplate\":\"%{text}<br>(%{marker.size:,d} MB)\"},{\"hovertemplate\":\"index=%{text}<br>search_time=%{x}<br>recall@3=%{y}<br>index_size=%{marker.size}<extra></extra>\",\"legendgroup\":\"HNSW32_PQ32\",\"marker\":{\"color\":\"#1F77B4\",\"size\":[912.555659],\"sizemode\":\"area\",\"sizeref\":0.9409698183999999,\"symbol\":\"circle\",\"opacity\":0.8},\"mode\":\"markers+text\",\"name\":\"HNSW32_PQ32\",\"orientation\":\"v\",\"showlegend\":true,\"text\":[\"HNSW32_PQ32\"],\"x\":[0.133164644241333],\"xaxis\":\"x\",\"y\":[0.795],\"yaxis\":\"y\",\"type\":\"scatter\",\"textposition\":\"bottom center\",\"textfont\":{\"color\":\"#1F77B4\",\"size\":13,\"family\":\"Arial\"},\"texttemplate\":\"%{text}<br>(%{marker.size:,d} MB)\"}],                        {\"template\":{\"data\":{\"barpolar\":[{\"marker\":{\"line\":{\"color\":\"white\",\"width\":0.5},\"pattern\":{\"fillmode\":\"overlay\",\"size\":10,\"solidity\":0.2}},\"type\":\"barpolar\"}],\"bar\":[{\"error_x\":{\"color\":\"rgb(36,36,36)\"},\"error_y\":{\"color\":\"rgb(36,36,36)\"},\"marker\":{\"line\":{\"color\":\"white\",\"width\":0.5},\"pattern\":{\"fillmode\":\"overlay\",\"size\":10,\"solidity\":0.2}},\"type\":\"bar\"}],\"carpet\":[{\"aaxis\":{\"endlinecolor\":\"rgb(36,36,36)\",\"gridcolor\":\"white\",\"linecolor\":\"white\",\"minorgridcolor\":\"white\",\"startlinecolor\":\"rgb(36,36,36)\"},\"baxis\":{\"endlinecolor\":\"rgb(36,36,36)\",\"gridcolor\":\"white\",\"linecolor\":\"white\",\"minorgridcolor\":\"white\",\"startlinecolor\":\"rgb(36,36,36)\"},\"type\":\"carpet\"}],\"choropleth\":[{\"colorbar\":{\"outlinewidth\":1,\"tickcolor\":\"rgb(36,36,36)\",\"ticks\":\"outside\"},\"type\":\"choropleth\"}],\"contourcarpet\":[{\"colorbar\":{\"outlinewidth\":1,\"tickcolor\":\"rgb(36,36,36)\",\"ticks\":\"outside\"},\"type\":\"contourcarpet\"}],\"contour\":[{\"colorbar\":{\"outlinewidth\":1,\"tickcolor\":\"rgb(36,36,36)\",\"ticks\":\"outside\"},\"colorscale\":[[0.0,\"#440154\"],[0.1111111111111111,\"#482878\"],[0.2222222222222222,\"#3e4989\"],[0.3333333333333333,\"#31688e\"],[0.4444444444444444,\"#26828e\"],[0.5555555555555556,\"#1f9e89\"],[0.6666666666666666,\"#35b779\"],[0.7777777777777778,\"#6ece58\"],[0.8888888888888888,\"#b5de2b\"],[1.0,\"#fde725\"]],\"type\":\"contour\"}],\"heatmapgl\":[{\"colorbar\":{\"outlinewidth\":1,\"tickcolor\":\"rgb(36,36,36)\",\"ticks\":\"outside\"},\"colorscale\":[[0.0,\"#440154\"],[0.1111111111111111,\"#482878\"],[0.2222222222222222,\"#3e4989\"],[0.3333333333333333,\"#31688e\"],[0.4444444444444444,\"#26828e\"],[0.5555555555555556,\"#1f9e89\"],[0.6666666666666666,\"#35b779\"],[0.7777777777777778,\"#6ece58\"],[0.8888888888888888,\"#b5de2b\"],[1.0,\"#fde725\"]],\"type\":\"heatmapgl\"}],\"heatmap\":[{\"colorbar\":{\"outlinewidth\":1,\"tickcolor\":\"rgb(36,36,36)\",\"ticks\":\"outside\"},\"colorscale\":[[0.0,\"#440154\"],[0.1111111111111111,\"#482878\"],[0.2222222222222222,\"#3e4989\"],[0.3333333333333333,\"#31688e\"],[0.4444444444444444,\"#26828e\"],[0.5555555555555556,\"#1f9e89\"],[0.6666666666666666,\"#35b779\"],[0.7777777777777778,\"#6ece58\"],[0.8888888888888888,\"#b5de2b\"],[1.0,\"#fde725\"]],\"type\":\"heatmap\"}],\"histogram2dcontour\":[{\"colorbar\":{\"outlinewidth\":1,\"tickcolor\":\"rgb(36,36,36)\",\"ticks\":\"outside\"},\"colorscale\":[[0.0,\"#440154\"],[0.1111111111111111,\"#482878\"],[0.2222222222222222,\"#3e4989\"],[0.3333333333333333,\"#31688e\"],[0.4444444444444444,\"#26828e\"],[0.5555555555555556,\"#1f9e89\"],[0.6666666666666666,\"#35b779\"],[0.7777777777777778,\"#6ece58\"],[0.8888888888888888,\"#b5de2b\"],[1.0,\"#fde725\"]],\"type\":\"histogram2dcontour\"}],\"histogram2d\":[{\"colorbar\":{\"outlinewidth\":1,\"tickcolor\":\"rgb(36,36,36)\",\"ticks\":\"outside\"},\"colorscale\":[[0.0,\"#440154\"],[0.1111111111111111,\"#482878\"],[0.2222222222222222,\"#3e4989\"],[0.3333333333333333,\"#31688e\"],[0.4444444444444444,\"#26828e\"],[0.5555555555555556,\"#1f9e89\"],[0.6666666666666666,\"#35b779\"],[0.7777777777777778,\"#6ece58\"],[0.8888888888888888,\"#b5de2b\"],[1.0,\"#fde725\"]],\"type\":\"histogram2d\"}],\"histogram\":[{\"marker\":{\"line\":{\"color\":\"white\",\"width\":0.6}},\"type\":\"histogram\"}],\"mesh3d\":[{\"colorbar\":{\"outlinewidth\":1,\"tickcolor\":\"rgb(36,36,36)\",\"ticks\":\"outside\"},\"type\":\"mesh3d\"}],\"parcoords\":[{\"line\":{\"colorbar\":{\"outlinewidth\":1,\"tickcolor\":\"rgb(36,36,36)\",\"ticks\":\"outside\"}},\"type\":\"parcoords\"}],\"pie\":[{\"automargin\":true,\"type\":\"pie\"}],\"scatter3d\":[{\"line\":{\"colorbar\":{\"outlinewidth\":1,\"tickcolor\":\"rgb(36,36,36)\",\"ticks\":\"outside\"}},\"marker\":{\"colorbar\":{\"outlinewidth\":1,\"tickcolor\":\"rgb(36,36,36)\",\"ticks\":\"outside\"}},\"type\":\"scatter3d\"}],\"scattercarpet\":[{\"marker\":{\"colorbar\":{\"outlinewidth\":1,\"tickcolor\":\"rgb(36,36,36)\",\"ticks\":\"outside\"}},\"type\":\"scattercarpet\"}],\"scattergeo\":[{\"marker\":{\"colorbar\":{\"outlinewidth\":1,\"tickcolor\":\"rgb(36,36,36)\",\"ticks\":\"outside\"}},\"type\":\"scattergeo\"}],\"scattergl\":[{\"marker\":{\"colorbar\":{\"outlinewidth\":1,\"tickcolor\":\"rgb(36,36,36)\",\"ticks\":\"outside\"}},\"type\":\"scattergl\"}],\"scattermapbox\":[{\"marker\":{\"colorbar\":{\"outlinewidth\":1,\"tickcolor\":\"rgb(36,36,36)\",\"ticks\":\"outside\"}},\"type\":\"scattermapbox\"}],\"scatterpolargl\":[{\"marker\":{\"colorbar\":{\"outlinewidth\":1,\"tickcolor\":\"rgb(36,36,36)\",\"ticks\":\"outside\"}},\"type\":\"scatterpolargl\"}],\"scatterpolar\":[{\"marker\":{\"colorbar\":{\"outlinewidth\":1,\"tickcolor\":\"rgb(36,36,36)\",\"ticks\":\"outside\"}},\"type\":\"scatterpolar\"}],\"scatter\":[{\"fillpattern\":{\"fillmode\":\"overlay\",\"size\":10,\"solidity\":0.2},\"type\":\"scatter\"}],\"scatterternary\":[{\"marker\":{\"colorbar\":{\"outlinewidth\":1,\"tickcolor\":\"rgb(36,36,36)\",\"ticks\":\"outside\"}},\"type\":\"scatterternary\"}],\"surface\":[{\"colorbar\":{\"outlinewidth\":1,\"tickcolor\":\"rgb(36,36,36)\",\"ticks\":\"outside\"},\"colorscale\":[[0.0,\"#440154\"],[0.1111111111111111,\"#482878\"],[0.2222222222222222,\"#3e4989\"],[0.3333333333333333,\"#31688e\"],[0.4444444444444444,\"#26828e\"],[0.5555555555555556,\"#1f9e89\"],[0.6666666666666666,\"#35b779\"],[0.7777777777777778,\"#6ece58\"],[0.8888888888888888,\"#b5de2b\"],[1.0,\"#fde725\"]],\"type\":\"surface\"}],\"table\":[{\"cells\":{\"fill\":{\"color\":\"rgb(237,237,237)\"},\"line\":{\"color\":\"white\"}},\"header\":{\"fill\":{\"color\":\"rgb(217,217,217)\"},\"line\":{\"color\":\"white\"}},\"type\":\"table\"}]},\"layout\":{\"annotationdefaults\":{\"arrowhead\":0,\"arrowwidth\":1},\"autotypenumbers\":\"strict\",\"coloraxis\":{\"colorbar\":{\"outlinewidth\":1,\"tickcolor\":\"rgb(36,36,36)\",\"ticks\":\"outside\"}},\"colorscale\":{\"diverging\":[[0.0,\"rgb(103,0,31)\"],[0.1,\"rgb(178,24,43)\"],[0.2,\"rgb(214,96,77)\"],[0.3,\"rgb(244,165,130)\"],[0.4,\"rgb(253,219,199)\"],[0.5,\"rgb(247,247,247)\"],[0.6,\"rgb(209,229,240)\"],[0.7,\"rgb(146,197,222)\"],[0.8,\"rgb(67,147,195)\"],[0.9,\"rgb(33,102,172)\"],[1.0,\"rgb(5,48,97)\"]],\"sequential\":[[0.0,\"#440154\"],[0.1111111111111111,\"#482878\"],[0.2222222222222222,\"#3e4989\"],[0.3333333333333333,\"#31688e\"],[0.4444444444444444,\"#26828e\"],[0.5555555555555556,\"#1f9e89\"],[0.6666666666666666,\"#35b779\"],[0.7777777777777778,\"#6ece58\"],[0.8888888888888888,\"#b5de2b\"],[1.0,\"#fde725\"]],\"sequentialminus\":[[0.0,\"#440154\"],[0.1111111111111111,\"#482878\"],[0.2222222222222222,\"#3e4989\"],[0.3333333333333333,\"#31688e\"],[0.4444444444444444,\"#26828e\"],[0.5555555555555556,\"#1f9e89\"],[0.6666666666666666,\"#35b779\"],[0.7777777777777778,\"#6ece58\"],[0.8888888888888888,\"#b5de2b\"],[1.0,\"#fde725\"]]},\"colorway\":[\"#1F77B4\",\"#FF7F0E\",\"#2CA02C\",\"#D62728\",\"#9467BD\",\"#8C564B\",\"#E377C2\",\"#7F7F7F\",\"#BCBD22\",\"#17BECF\"],\"font\":{\"color\":\"rgb(36,36,36)\"},\"geo\":{\"bgcolor\":\"white\",\"lakecolor\":\"white\",\"landcolor\":\"white\",\"showlakes\":true,\"showland\":true,\"subunitcolor\":\"white\"},\"hoverlabel\":{\"align\":\"left\"},\"hovermode\":\"closest\",\"mapbox\":{\"style\":\"light\"},\"paper_bgcolor\":\"white\",\"plot_bgcolor\":\"white\",\"polar\":{\"angularaxis\":{\"gridcolor\":\"rgb(232,232,232)\",\"linecolor\":\"rgb(36,36,36)\",\"showgrid\":false,\"showline\":true,\"ticks\":\"outside\"},\"bgcolor\":\"white\",\"radialaxis\":{\"gridcolor\":\"rgb(232,232,232)\",\"linecolor\":\"rgb(36,36,36)\",\"showgrid\":false,\"showline\":true,\"ticks\":\"outside\"}},\"scene\":{\"xaxis\":{\"backgroundcolor\":\"white\",\"gridcolor\":\"rgb(232,232,232)\",\"gridwidth\":2,\"linecolor\":\"rgb(36,36,36)\",\"showbackground\":true,\"showgrid\":false,\"showline\":true,\"ticks\":\"outside\",\"zeroline\":false,\"zerolinecolor\":\"rgb(36,36,36)\"},\"yaxis\":{\"backgroundcolor\":\"white\",\"gridcolor\":\"rgb(232,232,232)\",\"gridwidth\":2,\"linecolor\":\"rgb(36,36,36)\",\"showbackground\":true,\"showgrid\":false,\"showline\":true,\"ticks\":\"outside\",\"zeroline\":false,\"zerolinecolor\":\"rgb(36,36,36)\"},\"zaxis\":{\"backgroundcolor\":\"white\",\"gridcolor\":\"rgb(232,232,232)\",\"gridwidth\":2,\"linecolor\":\"rgb(36,36,36)\",\"showbackground\":true,\"showgrid\":false,\"showline\":true,\"ticks\":\"outside\",\"zeroline\":false,\"zerolinecolor\":\"rgb(36,36,36)\"}},\"shapedefaults\":{\"fillcolor\":\"black\",\"line\":{\"width\":0},\"opacity\":0.3},\"ternary\":{\"aaxis\":{\"gridcolor\":\"rgb(232,232,232)\",\"linecolor\":\"rgb(36,36,36)\",\"showgrid\":false,\"showline\":true,\"ticks\":\"outside\"},\"baxis\":{\"gridcolor\":\"rgb(232,232,232)\",\"linecolor\":\"rgb(36,36,36)\",\"showgrid\":false,\"showline\":true,\"ticks\":\"outside\"},\"bgcolor\":\"white\",\"caxis\":{\"gridcolor\":\"rgb(232,232,232)\",\"linecolor\":\"rgb(36,36,36)\",\"showgrid\":false,\"showline\":true,\"ticks\":\"outside\"}},\"title\":{\"x\":0.05},\"xaxis\":{\"automargin\":true,\"gridcolor\":\"rgb(232,232,232)\",\"linecolor\":\"rgb(36,36,36)\",\"showgrid\":false,\"showline\":true,\"ticks\":\"outside\",\"title\":{\"standoff\":15},\"zeroline\":false,\"zerolinecolor\":\"rgb(36,36,36)\"},\"yaxis\":{\"automargin\":true,\"gridcolor\":\"rgb(232,232,232)\",\"linecolor\":\"rgb(36,36,36)\",\"showgrid\":false,\"showline\":true,\"ticks\":\"outside\",\"title\":{\"standoff\":15},\"zeroline\":false,\"zerolinecolor\":\"rgb(36,36,36)\"}}},\"xaxis\":{\"anchor\":\"y\",\"domain\":[0.0,1.0],\"title\":{\"text\":\"search time (ms/query)\"},\"range\":[0,0.29],\"linecolor\":\"darkgrey\"},\"yaxis\":{\"anchor\":\"x\",\"domain\":[0.0,1.0],\"title\":{\"text\":\"1-recall@3\"},\"range\":[0.5,1],\"linecolor\":\"darkgrey\"},\"legend\":{\"title\":{\"text\":\"index\"},\"tracegroupgap\":0,\"itemsizing\":\"constant\"},\"margin\":{\"t\":60},\"height\":400,\"width\":700,\"showlegend\":false,\"title\":{\"font\":{\"family\":\"Arial\",\"color\":\"RebeccaPurple\",\"size\":13},\"text\":\"<B><I>( For IVF-based indexes, nprobe=128 )\",\"yanchor\":\"top\",\"y\":0.3,\"xanchor\":\"left\",\"x\":0.15}},                        {\"responsive\": true}                    ).then(function(){\n",
       "                            \n",
       "var gd = document.getElementById('15029757-af92-4756-9521-2a44e0573cc7');\n",
       "var x = new MutationObserver(function (mutations, observer) {{\n",
       "        var display = window.getComputedStyle(gd).display;\n",
       "        if (!display || display === 'none') {{\n",
       "            console.log([gd, 'removed!']);\n",
       "            Plotly.purge(gd);\n",
       "            observer.disconnect();\n",
       "        }}\n",
       "}});\n",
       "\n",
       "// Listen for the removal of the full notebook cells\n",
       "var notebookContainer = gd.closest('#notebook-container');\n",
       "if (notebookContainer) {{\n",
       "    x.observe(notebookContainer, {childList: true});\n",
       "}}\n",
       "\n",
       "// Listen for the clearing of the current output cell\n",
       "var outputEl = gd.closest('.output');\n",
       "if (outputEl) {{\n",
       "    x.observe(outputEl, {childList: true});\n",
       "}}\n",
       "\n",
       "                        })                };                });            </script>        </div>"
      ]
     },
     "metadata": {},
     "output_type": "display_data"
    }
   ],
   "source": [
    "fig = px.scatter(df128, x=\"search_time\", y=\"recall@3\", color=\"index\", height=400, width=700,\n",
    "                 template=\"simple_white\", text=\"index\", size=\"index_size\", size_max=50)     \n",
    "\n",
    "positions = [\"bottom right\", \"top center\", \"top center\", \"bottom center\"]\n",
    "\n",
    "for i, fdata in enumerate(fig.data):   \n",
    "    fdata.textposition = positions[i]\n",
    "    fdata.marker.opacity = 0.8\n",
    "    fdata.marker.color = colors_gorb[i]    \n",
    "    fdata.textfont.color = colors_gorb[i]   \n",
    "    fdata.textfont.size = 13    \n",
    "    fdata.textfont.family=\"Arial\"\n",
    "    \n",
    "fig.update_traces(mode='markers+text')#, textposition=\"middle right\") \n",
    "fig.update_traces(texttemplate=\"%{text}<br>(%{marker.size:,d} MB)\")\n",
    "fig.update_layout(xaxis_title_text=\"search time (ms/query)\", yaxis_title_text=\"1-recall@3\", yaxis_range=[0.5, 1], xaxis_range=[0, 0.29], showlegend=False)\n",
    "fig.update_layout(title=dict(text=\"<B><I>( For IVF-based indexes, nprobe=128 )\", yanchor=\"top\", y=0.3, xanchor=\"left\", x=0.15, \n",
    "                             font_family=\"Arial\", font_color=\"RebeccaPurple\", font_size=13))\n",
    "fig.update_xaxes(linecolor='darkgrey')\n",
    "fig.update_yaxes(linecolor='darkgrey')\n",
    "fig.show()\n",
    "fig.write_html(\"nprobe128_search_recall_bubble0.html\")"
   ]
  },
  {
   "cell_type": "code",
   "execution_count": 64,
   "id": "281e0778",
   "metadata": {
    "execution": {
     "iopub.execute_input": "2022-08-18T15:45:23.155587Z",
     "iopub.status.busy": "2022-08-18T15:45:23.154815Z",
     "iopub.status.idle": "2022-08-18T15:45:23.254131Z",
     "shell.execute_reply": "2022-08-18T15:45:23.253217Z"
    },
    "papermill": {
     "duration": 0.758516,
     "end_time": "2022-08-18T15:45:23.256240",
     "exception": false,
     "start_time": "2022-08-18T15:45:22.497724",
     "status": "completed"
    },
    "tags": []
   },
   "outputs": [
    {
     "data": {
      "text/html": [
       "<div>                            <div id=\"847eb4dd-db26-4b0b-9041-a421e4f3196a\" class=\"plotly-graph-div\" style=\"height:400px; width:700px;\"></div>            <script type=\"text/javascript\">                require([\"plotly\"], function(Plotly) {                    window.PLOTLYENV=window.PLOTLYENV || {};                                    if (document.getElementById(\"847eb4dd-db26-4b0b-9041-a421e4f3196a\")) {                    Plotly.newPlot(                        \"847eb4dd-db26-4b0b-9041-a421e4f3196a\",                        [{\"hovertemplate\":\"index=%{text}<br>search_time=%{x}<br>recall@3=%{y}<br>index_size=%{marker.size}<extra></extra>\",\"legendgroup\":\"IVF65536_HNSW32,PQ32\",\"marker\":{\"color\":\"#2CA02C\",\"size\":[154.209972],\"sizemode\":\"area\",\"sizeref\":0.9409698183999999,\"symbol\":\"circle\",\"opacity\":0.8},\"mode\":\"markers+text\",\"name\":\"IVF65536_HNSW32,PQ32\",\"orientation\":\"v\",\"showlegend\":true,\"text\":[\"IVF65536_HNSW32,PQ32\"],\"x\":[0.03365492820739746],\"xaxis\":\"x\",\"y\":[0.765],\"yaxis\":\"y\",\"type\":\"scatter\",\"textposition\":\"bottom right\",\"textfont\":{\"color\":\"#2CA02C\",\"size\":13,\"family\":\"Arial\"},\"texttemplate\":\"%{text}<br>(%{marker.size:,d} MB)\"},{\"hovertemplate\":\"index=%{text}<br>search_time=%{x}<br>recall@3=%{y}<br>index_size=%{marker.size}<extra></extra>\",\"legendgroup\":\"IVF65536_HNSW32,Flat\",\"marker\":{\"color\":\"#FF7F0E\",\"size\":[1594.078859],\"sizemode\":\"area\",\"sizeref\":0.9409698183999999,\"symbol\":\"circle\",\"opacity\":0.8},\"mode\":\"markers+text\",\"name\":\"IVF65536_HNSW32,Flat\",\"orientation\":\"v\",\"showlegend\":true,\"text\":[\"IVF65536_HNSW32,Flat\"],\"x\":[0.05536031723022461],\"xaxis\":\"x\",\"y\":[0.84],\"yaxis\":\"y\",\"type\":\"scatter\",\"textposition\":\"top center\",\"textfont\":{\"color\":\"#FF7F0E\",\"size\":13,\"family\":\"Arial\"},\"texttemplate\":\"%{text}<br>(%{marker.size:,d} MB)\"},{\"hovertemplate\":\"index=%{text}<br>search_time=%{x}<br>recall@3=%{y}<br>index_size=%{marker.size}<extra></extra>\",\"legendgroup\":\"HNSW32,Flat\",\"marker\":{\"color\":\"#D62728\",\"size\":[2352.4245459999997],\"sizemode\":\"area\",\"sizeref\":0.9409698183999999,\"symbol\":\"circle\",\"opacity\":0.8},\"mode\":\"markers+text\",\"name\":\"HNSW32,Flat\",\"orientation\":\"v\",\"showlegend\":true,\"text\":[\"HNSW32,Flat\"],\"x\":[0.20985984802246094],\"xaxis\":\"x\",\"y\":[0.851],\"yaxis\":\"y\",\"type\":\"scatter\",\"textposition\":\"top center\",\"textfont\":{\"color\":\"#D62728\",\"size\":13,\"family\":\"Arial\"},\"texttemplate\":\"%{text}<br>(%{marker.size:,d} MB)\"},{\"hovertemplate\":\"index=%{text}<br>search_time=%{x}<br>recall@3=%{y}<br>index_size=%{marker.size}<extra></extra>\",\"legendgroup\":\"HNSW32_PQ32\",\"marker\":{\"color\":\"#1F77B4\",\"size\":[912.555659],\"sizemode\":\"area\",\"sizeref\":0.9409698183999999,\"symbol\":\"circle\",\"opacity\":0.8},\"mode\":\"markers+text\",\"name\":\"HNSW32_PQ32\",\"orientation\":\"v\",\"showlegend\":true,\"text\":[\"HNSW32_PQ32\"],\"x\":[0.133164644241333],\"xaxis\":\"x\",\"y\":[0.795],\"yaxis\":\"y\",\"type\":\"scatter\",\"textposition\":\"bottom right\",\"textfont\":{\"color\":\"#1F77B4\",\"size\":13,\"family\":\"Arial\"},\"texttemplate\":\"%{text}<br>(%{marker.size:,d} MB)\"}],                        {\"template\":{\"data\":{\"barpolar\":[{\"marker\":{\"line\":{\"color\":\"white\",\"width\":0.5},\"pattern\":{\"fillmode\":\"overlay\",\"size\":10,\"solidity\":0.2}},\"type\":\"barpolar\"}],\"bar\":[{\"error_x\":{\"color\":\"rgb(36,36,36)\"},\"error_y\":{\"color\":\"rgb(36,36,36)\"},\"marker\":{\"line\":{\"color\":\"white\",\"width\":0.5},\"pattern\":{\"fillmode\":\"overlay\",\"size\":10,\"solidity\":0.2}},\"type\":\"bar\"}],\"carpet\":[{\"aaxis\":{\"endlinecolor\":\"rgb(36,36,36)\",\"gridcolor\":\"white\",\"linecolor\":\"white\",\"minorgridcolor\":\"white\",\"startlinecolor\":\"rgb(36,36,36)\"},\"baxis\":{\"endlinecolor\":\"rgb(36,36,36)\",\"gridcolor\":\"white\",\"linecolor\":\"white\",\"minorgridcolor\":\"white\",\"startlinecolor\":\"rgb(36,36,36)\"},\"type\":\"carpet\"}],\"choropleth\":[{\"colorbar\":{\"outlinewidth\":1,\"tickcolor\":\"rgb(36,36,36)\",\"ticks\":\"outside\"},\"type\":\"choropleth\"}],\"contourcarpet\":[{\"colorbar\":{\"outlinewidth\":1,\"tickcolor\":\"rgb(36,36,36)\",\"ticks\":\"outside\"},\"type\":\"contourcarpet\"}],\"contour\":[{\"colorbar\":{\"outlinewidth\":1,\"tickcolor\":\"rgb(36,36,36)\",\"ticks\":\"outside\"},\"colorscale\":[[0.0,\"#440154\"],[0.1111111111111111,\"#482878\"],[0.2222222222222222,\"#3e4989\"],[0.3333333333333333,\"#31688e\"],[0.4444444444444444,\"#26828e\"],[0.5555555555555556,\"#1f9e89\"],[0.6666666666666666,\"#35b779\"],[0.7777777777777778,\"#6ece58\"],[0.8888888888888888,\"#b5de2b\"],[1.0,\"#fde725\"]],\"type\":\"contour\"}],\"heatmapgl\":[{\"colorbar\":{\"outlinewidth\":1,\"tickcolor\":\"rgb(36,36,36)\",\"ticks\":\"outside\"},\"colorscale\":[[0.0,\"#440154\"],[0.1111111111111111,\"#482878\"],[0.2222222222222222,\"#3e4989\"],[0.3333333333333333,\"#31688e\"],[0.4444444444444444,\"#26828e\"],[0.5555555555555556,\"#1f9e89\"],[0.6666666666666666,\"#35b779\"],[0.7777777777777778,\"#6ece58\"],[0.8888888888888888,\"#b5de2b\"],[1.0,\"#fde725\"]],\"type\":\"heatmapgl\"}],\"heatmap\":[{\"colorbar\":{\"outlinewidth\":1,\"tickcolor\":\"rgb(36,36,36)\",\"ticks\":\"outside\"},\"colorscale\":[[0.0,\"#440154\"],[0.1111111111111111,\"#482878\"],[0.2222222222222222,\"#3e4989\"],[0.3333333333333333,\"#31688e\"],[0.4444444444444444,\"#26828e\"],[0.5555555555555556,\"#1f9e89\"],[0.6666666666666666,\"#35b779\"],[0.7777777777777778,\"#6ece58\"],[0.8888888888888888,\"#b5de2b\"],[1.0,\"#fde725\"]],\"type\":\"heatmap\"}],\"histogram2dcontour\":[{\"colorbar\":{\"outlinewidth\":1,\"tickcolor\":\"rgb(36,36,36)\",\"ticks\":\"outside\"},\"colorscale\":[[0.0,\"#440154\"],[0.1111111111111111,\"#482878\"],[0.2222222222222222,\"#3e4989\"],[0.3333333333333333,\"#31688e\"],[0.4444444444444444,\"#26828e\"],[0.5555555555555556,\"#1f9e89\"],[0.6666666666666666,\"#35b779\"],[0.7777777777777778,\"#6ece58\"],[0.8888888888888888,\"#b5de2b\"],[1.0,\"#fde725\"]],\"type\":\"histogram2dcontour\"}],\"histogram2d\":[{\"colorbar\":{\"outlinewidth\":1,\"tickcolor\":\"rgb(36,36,36)\",\"ticks\":\"outside\"},\"colorscale\":[[0.0,\"#440154\"],[0.1111111111111111,\"#482878\"],[0.2222222222222222,\"#3e4989\"],[0.3333333333333333,\"#31688e\"],[0.4444444444444444,\"#26828e\"],[0.5555555555555556,\"#1f9e89\"],[0.6666666666666666,\"#35b779\"],[0.7777777777777778,\"#6ece58\"],[0.8888888888888888,\"#b5de2b\"],[1.0,\"#fde725\"]],\"type\":\"histogram2d\"}],\"histogram\":[{\"marker\":{\"line\":{\"color\":\"white\",\"width\":0.6}},\"type\":\"histogram\"}],\"mesh3d\":[{\"colorbar\":{\"outlinewidth\":1,\"tickcolor\":\"rgb(36,36,36)\",\"ticks\":\"outside\"},\"type\":\"mesh3d\"}],\"parcoords\":[{\"line\":{\"colorbar\":{\"outlinewidth\":1,\"tickcolor\":\"rgb(36,36,36)\",\"ticks\":\"outside\"}},\"type\":\"parcoords\"}],\"pie\":[{\"automargin\":true,\"type\":\"pie\"}],\"scatter3d\":[{\"line\":{\"colorbar\":{\"outlinewidth\":1,\"tickcolor\":\"rgb(36,36,36)\",\"ticks\":\"outside\"}},\"marker\":{\"colorbar\":{\"outlinewidth\":1,\"tickcolor\":\"rgb(36,36,36)\",\"ticks\":\"outside\"}},\"type\":\"scatter3d\"}],\"scattercarpet\":[{\"marker\":{\"colorbar\":{\"outlinewidth\":1,\"tickcolor\":\"rgb(36,36,36)\",\"ticks\":\"outside\"}},\"type\":\"scattercarpet\"}],\"scattergeo\":[{\"marker\":{\"colorbar\":{\"outlinewidth\":1,\"tickcolor\":\"rgb(36,36,36)\",\"ticks\":\"outside\"}},\"type\":\"scattergeo\"}],\"scattergl\":[{\"marker\":{\"colorbar\":{\"outlinewidth\":1,\"tickcolor\":\"rgb(36,36,36)\",\"ticks\":\"outside\"}},\"type\":\"scattergl\"}],\"scattermapbox\":[{\"marker\":{\"colorbar\":{\"outlinewidth\":1,\"tickcolor\":\"rgb(36,36,36)\",\"ticks\":\"outside\"}},\"type\":\"scattermapbox\"}],\"scatterpolargl\":[{\"marker\":{\"colorbar\":{\"outlinewidth\":1,\"tickcolor\":\"rgb(36,36,36)\",\"ticks\":\"outside\"}},\"type\":\"scatterpolargl\"}],\"scatterpolar\":[{\"marker\":{\"colorbar\":{\"outlinewidth\":1,\"tickcolor\":\"rgb(36,36,36)\",\"ticks\":\"outside\"}},\"type\":\"scatterpolar\"}],\"scatter\":[{\"fillpattern\":{\"fillmode\":\"overlay\",\"size\":10,\"solidity\":0.2},\"type\":\"scatter\"}],\"scatterternary\":[{\"marker\":{\"colorbar\":{\"outlinewidth\":1,\"tickcolor\":\"rgb(36,36,36)\",\"ticks\":\"outside\"}},\"type\":\"scatterternary\"}],\"surface\":[{\"colorbar\":{\"outlinewidth\":1,\"tickcolor\":\"rgb(36,36,36)\",\"ticks\":\"outside\"},\"colorscale\":[[0.0,\"#440154\"],[0.1111111111111111,\"#482878\"],[0.2222222222222222,\"#3e4989\"],[0.3333333333333333,\"#31688e\"],[0.4444444444444444,\"#26828e\"],[0.5555555555555556,\"#1f9e89\"],[0.6666666666666666,\"#35b779\"],[0.7777777777777778,\"#6ece58\"],[0.8888888888888888,\"#b5de2b\"],[1.0,\"#fde725\"]],\"type\":\"surface\"}],\"table\":[{\"cells\":{\"fill\":{\"color\":\"rgb(237,237,237)\"},\"line\":{\"color\":\"white\"}},\"header\":{\"fill\":{\"color\":\"rgb(217,217,217)\"},\"line\":{\"color\":\"white\"}},\"type\":\"table\"}]},\"layout\":{\"annotationdefaults\":{\"arrowhead\":0,\"arrowwidth\":1},\"autotypenumbers\":\"strict\",\"coloraxis\":{\"colorbar\":{\"outlinewidth\":1,\"tickcolor\":\"rgb(36,36,36)\",\"ticks\":\"outside\"}},\"colorscale\":{\"diverging\":[[0.0,\"rgb(103,0,31)\"],[0.1,\"rgb(178,24,43)\"],[0.2,\"rgb(214,96,77)\"],[0.3,\"rgb(244,165,130)\"],[0.4,\"rgb(253,219,199)\"],[0.5,\"rgb(247,247,247)\"],[0.6,\"rgb(209,229,240)\"],[0.7,\"rgb(146,197,222)\"],[0.8,\"rgb(67,147,195)\"],[0.9,\"rgb(33,102,172)\"],[1.0,\"rgb(5,48,97)\"]],\"sequential\":[[0.0,\"#440154\"],[0.1111111111111111,\"#482878\"],[0.2222222222222222,\"#3e4989\"],[0.3333333333333333,\"#31688e\"],[0.4444444444444444,\"#26828e\"],[0.5555555555555556,\"#1f9e89\"],[0.6666666666666666,\"#35b779\"],[0.7777777777777778,\"#6ece58\"],[0.8888888888888888,\"#b5de2b\"],[1.0,\"#fde725\"]],\"sequentialminus\":[[0.0,\"#440154\"],[0.1111111111111111,\"#482878\"],[0.2222222222222222,\"#3e4989\"],[0.3333333333333333,\"#31688e\"],[0.4444444444444444,\"#26828e\"],[0.5555555555555556,\"#1f9e89\"],[0.6666666666666666,\"#35b779\"],[0.7777777777777778,\"#6ece58\"],[0.8888888888888888,\"#b5de2b\"],[1.0,\"#fde725\"]]},\"colorway\":[\"#1F77B4\",\"#FF7F0E\",\"#2CA02C\",\"#D62728\",\"#9467BD\",\"#8C564B\",\"#E377C2\",\"#7F7F7F\",\"#BCBD22\",\"#17BECF\"],\"font\":{\"color\":\"rgb(36,36,36)\"},\"geo\":{\"bgcolor\":\"white\",\"lakecolor\":\"white\",\"landcolor\":\"white\",\"showlakes\":true,\"showland\":true,\"subunitcolor\":\"white\"},\"hoverlabel\":{\"align\":\"left\"},\"hovermode\":\"closest\",\"mapbox\":{\"style\":\"light\"},\"paper_bgcolor\":\"white\",\"plot_bgcolor\":\"white\",\"polar\":{\"angularaxis\":{\"gridcolor\":\"rgb(232,232,232)\",\"linecolor\":\"rgb(36,36,36)\",\"showgrid\":false,\"showline\":true,\"ticks\":\"outside\"},\"bgcolor\":\"white\",\"radialaxis\":{\"gridcolor\":\"rgb(232,232,232)\",\"linecolor\":\"rgb(36,36,36)\",\"showgrid\":false,\"showline\":true,\"ticks\":\"outside\"}},\"scene\":{\"xaxis\":{\"backgroundcolor\":\"white\",\"gridcolor\":\"rgb(232,232,232)\",\"gridwidth\":2,\"linecolor\":\"rgb(36,36,36)\",\"showbackground\":true,\"showgrid\":false,\"showline\":true,\"ticks\":\"outside\",\"zeroline\":false,\"zerolinecolor\":\"rgb(36,36,36)\"},\"yaxis\":{\"backgroundcolor\":\"white\",\"gridcolor\":\"rgb(232,232,232)\",\"gridwidth\":2,\"linecolor\":\"rgb(36,36,36)\",\"showbackground\":true,\"showgrid\":false,\"showline\":true,\"ticks\":\"outside\",\"zeroline\":false,\"zerolinecolor\":\"rgb(36,36,36)\"},\"zaxis\":{\"backgroundcolor\":\"white\",\"gridcolor\":\"rgb(232,232,232)\",\"gridwidth\":2,\"linecolor\":\"rgb(36,36,36)\",\"showbackground\":true,\"showgrid\":false,\"showline\":true,\"ticks\":\"outside\",\"zeroline\":false,\"zerolinecolor\":\"rgb(36,36,36)\"}},\"shapedefaults\":{\"fillcolor\":\"black\",\"line\":{\"width\":0},\"opacity\":0.3},\"ternary\":{\"aaxis\":{\"gridcolor\":\"rgb(232,232,232)\",\"linecolor\":\"rgb(36,36,36)\",\"showgrid\":false,\"showline\":true,\"ticks\":\"outside\"},\"baxis\":{\"gridcolor\":\"rgb(232,232,232)\",\"linecolor\":\"rgb(36,36,36)\",\"showgrid\":false,\"showline\":true,\"ticks\":\"outside\"},\"bgcolor\":\"white\",\"caxis\":{\"gridcolor\":\"rgb(232,232,232)\",\"linecolor\":\"rgb(36,36,36)\",\"showgrid\":false,\"showline\":true,\"ticks\":\"outside\"}},\"title\":{\"x\":0.05},\"xaxis\":{\"automargin\":true,\"gridcolor\":\"rgb(232,232,232)\",\"linecolor\":\"rgb(36,36,36)\",\"showgrid\":false,\"showline\":true,\"ticks\":\"outside\",\"title\":{\"standoff\":15},\"zeroline\":false,\"zerolinecolor\":\"rgb(36,36,36)\"},\"yaxis\":{\"automargin\":true,\"gridcolor\":\"rgb(232,232,232)\",\"linecolor\":\"rgb(36,36,36)\",\"showgrid\":false,\"showline\":true,\"ticks\":\"outside\",\"title\":{\"standoff\":15},\"zeroline\":false,\"zerolinecolor\":\"rgb(36,36,36)\"}}},\"xaxis\":{\"anchor\":\"y\",\"domain\":[0.0,1.0],\"title\":{\"text\":\"search time (ms/query)\"},\"range\":[0,0.29],\"linecolor\":\"darkgrey\"},\"yaxis\":{\"anchor\":\"x\",\"domain\":[0.0,1.0],\"title\":{\"text\":\"1-recall@3\"},\"range\":[0.5,1],\"linecolor\":\"darkgrey\"},\"legend\":{\"title\":{\"text\":\"index\"},\"tracegroupgap\":0,\"itemsizing\":\"constant\"},\"margin\":{\"t\":60},\"height\":400,\"width\":700,\"showlegend\":false,\"title\":{\"font\":{\"family\":\"Arial\",\"color\":\"RebeccaPurple\",\"size\":13},\"text\":\"<B><I>( For IVF-based indexes, nprobe=128 )\",\"yanchor\":\"top\",\"y\":0.3,\"xanchor\":\"left\",\"x\":0.15}},                        {\"responsive\": true}                    ).then(function(){\n",
       "                            \n",
       "var gd = document.getElementById('847eb4dd-db26-4b0b-9041-a421e4f3196a');\n",
       "var x = new MutationObserver(function (mutations, observer) {{\n",
       "        var display = window.getComputedStyle(gd).display;\n",
       "        if (!display || display === 'none') {{\n",
       "            console.log([gd, 'removed!']);\n",
       "            Plotly.purge(gd);\n",
       "            observer.disconnect();\n",
       "        }}\n",
       "}});\n",
       "\n",
       "// Listen for the removal of the full notebook cells\n",
       "var notebookContainer = gd.closest('#notebook-container');\n",
       "if (notebookContainer) {{\n",
       "    x.observe(notebookContainer, {childList: true});\n",
       "}}\n",
       "\n",
       "// Listen for the clearing of the current output cell\n",
       "var outputEl = gd.closest('.output');\n",
       "if (outputEl) {{\n",
       "    x.observe(outputEl, {childList: true});\n",
       "}}\n",
       "\n",
       "                        })                };                });            </script>        </div>"
      ]
     },
     "metadata": {},
     "output_type": "display_data"
    }
   ],
   "source": [
    "fig = px.scatter(df128, x=\"search_time\", y=\"recall@3\", color=\"index\", height=400, width=700,\n",
    "                 template=\"simple_white\", text=\"index\", size=\"index_size\", size_max=50)     \n",
    "\n",
    "positions = [\"bottom right\", \"top center\", \"top center\", \"bottom right\"]\n",
    "\n",
    "for i, fdata in enumerate(fig.data):   \n",
    "    fdata.textposition = positions[i]\n",
    "    fdata.marker.opacity = 0.8\n",
    "    fdata.marker.color = colors_gorb[i]    \n",
    "    fdata.textfont.color = colors_gorb[i]   \n",
    "    fdata.textfont.size = 13 \n",
    "    fdata.textfont.family=\"Arial\"\n",
    "    \n",
    "fig.update_traces(mode='markers+text')#, textposition=\"middle right\") \n",
    "fig.update_traces(texttemplate=\"%{text}<br>(%{marker.size:,d} MB)\")\n",
    "fig.update_layout(xaxis_title_text=\"search time (ms/query)\", yaxis_title_text=\"1-recall@3\", yaxis_range=[0.5, 1], xaxis_range=[0, 0.29], showlegend=False)\n",
    "fig.update_layout(title=dict(text=\"<B><I>( For IVF-based indexes, nprobe=128 )\", yanchor=\"top\", y=0.3, xanchor=\"left\", x=0.15, \n",
    "                             font_family=\"Arial\", font_color=\"RebeccaPurple\", font_size=13))\n",
    "fig.update_xaxes(linecolor='darkgrey')\n",
    "fig.update_yaxes(linecolor='darkgrey')\n",
    "fig.show()\n",
    "fig.write_html(\"nprobe128_search_recall_bubble.html\")"
   ]
  },
  {
   "cell_type": "code",
   "execution_count": 65,
   "id": "a5e8e66a",
   "metadata": {
    "execution": {
     "iopub.execute_input": "2022-08-18T15:45:24.463556Z",
     "iopub.status.busy": "2022-08-18T15:45:24.463176Z",
     "iopub.status.idle": "2022-08-18T15:45:24.480217Z",
     "shell.execute_reply": "2022-08-18T15:45:24.479282Z"
    },
    "papermill": {
     "duration": 0.624202,
     "end_time": "2022-08-18T15:45:24.482389",
     "exception": false,
     "start_time": "2022-08-18T15:45:23.858187",
     "status": "completed"
    },
    "tags": []
   },
   "outputs": [
    {
     "data": {
      "text/html": [
       "<div>\n",
       "<style scoped>\n",
       "    .dataframe tbody tr th:only-of-type {\n",
       "        vertical-align: middle;\n",
       "    }\n",
       "\n",
       "    .dataframe tbody tr th {\n",
       "        vertical-align: top;\n",
       "    }\n",
       "\n",
       "    .dataframe thead th {\n",
       "        text-align: right;\n",
       "    }\n",
       "</style>\n",
       "<table border=\"1\" class=\"dataframe\">\n",
       "  <thead>\n",
       "    <tr style=\"text-align: right;\">\n",
       "      <th></th>\n",
       "      <th>index</th>\n",
       "      <th>M</th>\n",
       "      <th>nprobe</th>\n",
       "      <th>nsegment</th>\n",
       "      <th>recall@1</th>\n",
       "      <th>recall@3</th>\n",
       "      <th>recall@5</th>\n",
       "      <th>train_time</th>\n",
       "      <th>index_time</th>\n",
       "      <th>search_time</th>\n",
       "      <th>index_size</th>\n",
       "    </tr>\n",
       "  </thead>\n",
       "  <tbody>\n",
       "    <tr>\n",
       "      <th>5</th>\n",
       "      <td>IVF65536_HNSW32,PQ32</td>\n",
       "      <td>32</td>\n",
       "      <td>256</td>\n",
       "      <td>32</td>\n",
       "      <td>0.563</td>\n",
       "      <td>0.804</td>\n",
       "      <td>0.856</td>\n",
       "      <td>146.412567</td>\n",
       "      <td>25.161457</td>\n",
       "      <td>0.074461</td>\n",
       "      <td>154.209972</td>\n",
       "    </tr>\n",
       "    <tr>\n",
       "      <th>13</th>\n",
       "      <td>IVF65536_HNSW32,Flat</td>\n",
       "      <td>32</td>\n",
       "      <td>256</td>\n",
       "      <td>0</td>\n",
       "      <td>0.904</td>\n",
       "      <td>0.904</td>\n",
       "      <td>0.904</td>\n",
       "      <td>85.118428</td>\n",
       "      <td>18.936768</td>\n",
       "      <td>0.088342</td>\n",
       "      <td>1594.078859</td>\n",
       "    </tr>\n",
       "    <tr>\n",
       "      <th>16</th>\n",
       "      <td>HNSW32,Flat</td>\n",
       "      <td>32</td>\n",
       "      <td>256</td>\n",
       "      <td>0</td>\n",
       "      <td>0.851</td>\n",
       "      <td>0.851</td>\n",
       "      <td>0.851</td>\n",
       "      <td>None</td>\n",
       "      <td>920.648198</td>\n",
       "      <td>0.209860</td>\n",
       "      <td>2352.424546</td>\n",
       "    </tr>\n",
       "    <tr>\n",
       "      <th>17</th>\n",
       "      <td>HNSW32_PQ32</td>\n",
       "      <td>32</td>\n",
       "      <td>256</td>\n",
       "      <td>32</td>\n",
       "      <td>0.634</td>\n",
       "      <td>0.795</td>\n",
       "      <td>0.815</td>\n",
       "      <td>67.697279</td>\n",
       "      <td>721.771335</td>\n",
       "      <td>0.133165</td>\n",
       "      <td>912.555659</td>\n",
       "    </tr>\n",
       "  </tbody>\n",
       "</table>\n",
       "</div>"
      ],
      "text/plain": [
       "                   index   M  nprobe  nsegment  recall@1  recall@3  recall@5  \\\n",
       "5   IVF65536_HNSW32,PQ32  32     256        32     0.563     0.804     0.856   \n",
       "13  IVF65536_HNSW32,Flat  32     256         0     0.904     0.904     0.904   \n",
       "16           HNSW32,Flat  32     256         0     0.851     0.851     0.851   \n",
       "17           HNSW32_PQ32  32     256        32     0.634     0.795     0.815   \n",
       "\n",
       "    train_time  index_time  search_time   index_size  \n",
       "5   146.412567   25.161457     0.074461   154.209972  \n",
       "13   85.118428   18.936768     0.088342  1594.078859  \n",
       "16        None  920.648198     0.209860  2352.424546  \n",
       "17   67.697279  721.771335     0.133165   912.555659  "
      ]
     },
     "execution_count": 65,
     "metadata": {},
     "output_type": "execute_result"
    }
   ],
   "source": [
    "df256 = df[(df[\"nprobe\"]==256) | (df[\"index\"]==\"HNSW32,Flat\") | (df[\"index\"]==\"HNSW32_PQ32\")].copy()\n",
    "df256[\"nprobe\"] = 256\n",
    "df256"
   ]
  },
  {
   "cell_type": "code",
   "execution_count": 66,
   "id": "3402dc7c",
   "metadata": {
    "execution": {
     "iopub.execute_input": "2022-08-18T15:45:25.794875Z",
     "iopub.status.busy": "2022-08-18T15:45:25.794490Z",
     "iopub.status.idle": "2022-08-18T15:45:25.891513Z",
     "shell.execute_reply": "2022-08-18T15:45:25.890613Z"
    },
    "papermill": {
     "duration": 0.815063,
     "end_time": "2022-08-18T15:45:25.893780",
     "exception": false,
     "start_time": "2022-08-18T15:45:25.078717",
     "status": "completed"
    },
    "tags": []
   },
   "outputs": [
    {
     "data": {
      "text/html": [
       "<div>                            <div id=\"75a3db5d-51f2-490e-9f21-97dd0ac948a1\" class=\"plotly-graph-div\" style=\"height:400px; width:700px;\"></div>            <script type=\"text/javascript\">                require([\"plotly\"], function(Plotly) {                    window.PLOTLYENV=window.PLOTLYENV || {};                                    if (document.getElementById(\"75a3db5d-51f2-490e-9f21-97dd0ac948a1\")) {                    Plotly.newPlot(                        \"75a3db5d-51f2-490e-9f21-97dd0ac948a1\",                        [{\"hovertemplate\":\"index=%{text}<br>search_time=%{x}<br>recall@3=%{y}<br>index_size=%{marker.size}<extra></extra>\",\"legendgroup\":\"IVF65536_HNSW32,PQ32\",\"marker\":{\"color\":\"#2CA02C\",\"size\":[154.209972],\"sizemode\":\"area\",\"sizeref\":0.9409698183999999,\"symbol\":\"circle\",\"opacity\":0.8},\"mode\":\"markers+text\",\"name\":\"IVF65536_HNSW32,PQ32\",\"orientation\":\"v\",\"showlegend\":true,\"text\":[\"IVF65536_HNSW32,PQ32\"],\"x\":[0.07446122169494629],\"xaxis\":\"x\",\"y\":[0.804],\"yaxis\":\"y\",\"type\":\"scatter\",\"textposition\":\"bottom right\",\"textfont\":{\"color\":\"#2CA02C\",\"size\":13,\"family\":\"Arial\"},\"texttemplate\":\"%{text}<br>(%{marker.size:,d} MB)\"},{\"hovertemplate\":\"index=%{text}<br>search_time=%{x}<br>recall@3=%{y}<br>index_size=%{marker.size}<extra></extra>\",\"legendgroup\":\"IVF65536_HNSW32,Flat\",\"marker\":{\"color\":\"#FF7F0E\",\"size\":[1594.078859],\"sizemode\":\"area\",\"sizeref\":0.9409698183999999,\"symbol\":\"circle\",\"opacity\":0.8},\"mode\":\"markers+text\",\"name\":\"IVF65536_HNSW32,Flat\",\"orientation\":\"v\",\"showlegend\":true,\"text\":[\"IVF65536_HNSW32,Flat\"],\"x\":[0.08834242820739746],\"xaxis\":\"x\",\"y\":[0.904],\"yaxis\":\"y\",\"type\":\"scatter\",\"textposition\":\"top center\",\"textfont\":{\"color\":\"#FF7F0E\",\"size\":13,\"family\":\"Arial\"},\"texttemplate\":\"%{text}<br>(%{marker.size:,d} MB)\"},{\"hovertemplate\":\"index=%{text}<br>search_time=%{x}<br>recall@3=%{y}<br>index_size=%{marker.size}<extra></extra>\",\"legendgroup\":\"HNSW32,Flat\",\"marker\":{\"color\":\"#D62728\",\"size\":[2352.4245459999997],\"sizemode\":\"area\",\"sizeref\":0.9409698183999999,\"symbol\":\"circle\",\"opacity\":0.8},\"mode\":\"markers+text\",\"name\":\"HNSW32,Flat\",\"orientation\":\"v\",\"showlegend\":true,\"text\":[\"HNSW32,Flat\"],\"x\":[0.20985984802246094],\"xaxis\":\"x\",\"y\":[0.851],\"yaxis\":\"y\",\"type\":\"scatter\",\"textposition\":\"top center\",\"textfont\":{\"color\":\"#D62728\",\"size\":13,\"family\":\"Arial\"},\"texttemplate\":\"%{text}<br>(%{marker.size:,d} MB)\"},{\"hovertemplate\":\"index=%{text}<br>search_time=%{x}<br>recall@3=%{y}<br>index_size=%{marker.size}<extra></extra>\",\"legendgroup\":\"HNSW32_PQ32\",\"marker\":{\"color\":\"#1F77B4\",\"size\":[912.555659],\"sizemode\":\"area\",\"sizeref\":0.9409698183999999,\"symbol\":\"circle\",\"opacity\":0.8},\"mode\":\"markers+text\",\"name\":\"HNSW32_PQ32\",\"orientation\":\"v\",\"showlegend\":true,\"text\":[\"HNSW32_PQ32\"],\"x\":[0.133164644241333],\"xaxis\":\"x\",\"y\":[0.795],\"yaxis\":\"y\",\"type\":\"scatter\",\"textposition\":\"bottom right\",\"textfont\":{\"color\":\"#1F77B4\",\"size\":13,\"family\":\"Arial\"},\"texttemplate\":\"%{text}<br>(%{marker.size:,d} MB)\"}],                        {\"template\":{\"data\":{\"barpolar\":[{\"marker\":{\"line\":{\"color\":\"white\",\"width\":0.5},\"pattern\":{\"fillmode\":\"overlay\",\"size\":10,\"solidity\":0.2}},\"type\":\"barpolar\"}],\"bar\":[{\"error_x\":{\"color\":\"rgb(36,36,36)\"},\"error_y\":{\"color\":\"rgb(36,36,36)\"},\"marker\":{\"line\":{\"color\":\"white\",\"width\":0.5},\"pattern\":{\"fillmode\":\"overlay\",\"size\":10,\"solidity\":0.2}},\"type\":\"bar\"}],\"carpet\":[{\"aaxis\":{\"endlinecolor\":\"rgb(36,36,36)\",\"gridcolor\":\"white\",\"linecolor\":\"white\",\"minorgridcolor\":\"white\",\"startlinecolor\":\"rgb(36,36,36)\"},\"baxis\":{\"endlinecolor\":\"rgb(36,36,36)\",\"gridcolor\":\"white\",\"linecolor\":\"white\",\"minorgridcolor\":\"white\",\"startlinecolor\":\"rgb(36,36,36)\"},\"type\":\"carpet\"}],\"choropleth\":[{\"colorbar\":{\"outlinewidth\":1,\"tickcolor\":\"rgb(36,36,36)\",\"ticks\":\"outside\"},\"type\":\"choropleth\"}],\"contourcarpet\":[{\"colorbar\":{\"outlinewidth\":1,\"tickcolor\":\"rgb(36,36,36)\",\"ticks\":\"outside\"},\"type\":\"contourcarpet\"}],\"contour\":[{\"colorbar\":{\"outlinewidth\":1,\"tickcolor\":\"rgb(36,36,36)\",\"ticks\":\"outside\"},\"colorscale\":[[0.0,\"#440154\"],[0.1111111111111111,\"#482878\"],[0.2222222222222222,\"#3e4989\"],[0.3333333333333333,\"#31688e\"],[0.4444444444444444,\"#26828e\"],[0.5555555555555556,\"#1f9e89\"],[0.6666666666666666,\"#35b779\"],[0.7777777777777778,\"#6ece58\"],[0.8888888888888888,\"#b5de2b\"],[1.0,\"#fde725\"]],\"type\":\"contour\"}],\"heatmapgl\":[{\"colorbar\":{\"outlinewidth\":1,\"tickcolor\":\"rgb(36,36,36)\",\"ticks\":\"outside\"},\"colorscale\":[[0.0,\"#440154\"],[0.1111111111111111,\"#482878\"],[0.2222222222222222,\"#3e4989\"],[0.3333333333333333,\"#31688e\"],[0.4444444444444444,\"#26828e\"],[0.5555555555555556,\"#1f9e89\"],[0.6666666666666666,\"#35b779\"],[0.7777777777777778,\"#6ece58\"],[0.8888888888888888,\"#b5de2b\"],[1.0,\"#fde725\"]],\"type\":\"heatmapgl\"}],\"heatmap\":[{\"colorbar\":{\"outlinewidth\":1,\"tickcolor\":\"rgb(36,36,36)\",\"ticks\":\"outside\"},\"colorscale\":[[0.0,\"#440154\"],[0.1111111111111111,\"#482878\"],[0.2222222222222222,\"#3e4989\"],[0.3333333333333333,\"#31688e\"],[0.4444444444444444,\"#26828e\"],[0.5555555555555556,\"#1f9e89\"],[0.6666666666666666,\"#35b779\"],[0.7777777777777778,\"#6ece58\"],[0.8888888888888888,\"#b5de2b\"],[1.0,\"#fde725\"]],\"type\":\"heatmap\"}],\"histogram2dcontour\":[{\"colorbar\":{\"outlinewidth\":1,\"tickcolor\":\"rgb(36,36,36)\",\"ticks\":\"outside\"},\"colorscale\":[[0.0,\"#440154\"],[0.1111111111111111,\"#482878\"],[0.2222222222222222,\"#3e4989\"],[0.3333333333333333,\"#31688e\"],[0.4444444444444444,\"#26828e\"],[0.5555555555555556,\"#1f9e89\"],[0.6666666666666666,\"#35b779\"],[0.7777777777777778,\"#6ece58\"],[0.8888888888888888,\"#b5de2b\"],[1.0,\"#fde725\"]],\"type\":\"histogram2dcontour\"}],\"histogram2d\":[{\"colorbar\":{\"outlinewidth\":1,\"tickcolor\":\"rgb(36,36,36)\",\"ticks\":\"outside\"},\"colorscale\":[[0.0,\"#440154\"],[0.1111111111111111,\"#482878\"],[0.2222222222222222,\"#3e4989\"],[0.3333333333333333,\"#31688e\"],[0.4444444444444444,\"#26828e\"],[0.5555555555555556,\"#1f9e89\"],[0.6666666666666666,\"#35b779\"],[0.7777777777777778,\"#6ece58\"],[0.8888888888888888,\"#b5de2b\"],[1.0,\"#fde725\"]],\"type\":\"histogram2d\"}],\"histogram\":[{\"marker\":{\"line\":{\"color\":\"white\",\"width\":0.6}},\"type\":\"histogram\"}],\"mesh3d\":[{\"colorbar\":{\"outlinewidth\":1,\"tickcolor\":\"rgb(36,36,36)\",\"ticks\":\"outside\"},\"type\":\"mesh3d\"}],\"parcoords\":[{\"line\":{\"colorbar\":{\"outlinewidth\":1,\"tickcolor\":\"rgb(36,36,36)\",\"ticks\":\"outside\"}},\"type\":\"parcoords\"}],\"pie\":[{\"automargin\":true,\"type\":\"pie\"}],\"scatter3d\":[{\"line\":{\"colorbar\":{\"outlinewidth\":1,\"tickcolor\":\"rgb(36,36,36)\",\"ticks\":\"outside\"}},\"marker\":{\"colorbar\":{\"outlinewidth\":1,\"tickcolor\":\"rgb(36,36,36)\",\"ticks\":\"outside\"}},\"type\":\"scatter3d\"}],\"scattercarpet\":[{\"marker\":{\"colorbar\":{\"outlinewidth\":1,\"tickcolor\":\"rgb(36,36,36)\",\"ticks\":\"outside\"}},\"type\":\"scattercarpet\"}],\"scattergeo\":[{\"marker\":{\"colorbar\":{\"outlinewidth\":1,\"tickcolor\":\"rgb(36,36,36)\",\"ticks\":\"outside\"}},\"type\":\"scattergeo\"}],\"scattergl\":[{\"marker\":{\"colorbar\":{\"outlinewidth\":1,\"tickcolor\":\"rgb(36,36,36)\",\"ticks\":\"outside\"}},\"type\":\"scattergl\"}],\"scattermapbox\":[{\"marker\":{\"colorbar\":{\"outlinewidth\":1,\"tickcolor\":\"rgb(36,36,36)\",\"ticks\":\"outside\"}},\"type\":\"scattermapbox\"}],\"scatterpolargl\":[{\"marker\":{\"colorbar\":{\"outlinewidth\":1,\"tickcolor\":\"rgb(36,36,36)\",\"ticks\":\"outside\"}},\"type\":\"scatterpolargl\"}],\"scatterpolar\":[{\"marker\":{\"colorbar\":{\"outlinewidth\":1,\"tickcolor\":\"rgb(36,36,36)\",\"ticks\":\"outside\"}},\"type\":\"scatterpolar\"}],\"scatter\":[{\"fillpattern\":{\"fillmode\":\"overlay\",\"size\":10,\"solidity\":0.2},\"type\":\"scatter\"}],\"scatterternary\":[{\"marker\":{\"colorbar\":{\"outlinewidth\":1,\"tickcolor\":\"rgb(36,36,36)\",\"ticks\":\"outside\"}},\"type\":\"scatterternary\"}],\"surface\":[{\"colorbar\":{\"outlinewidth\":1,\"tickcolor\":\"rgb(36,36,36)\",\"ticks\":\"outside\"},\"colorscale\":[[0.0,\"#440154\"],[0.1111111111111111,\"#482878\"],[0.2222222222222222,\"#3e4989\"],[0.3333333333333333,\"#31688e\"],[0.4444444444444444,\"#26828e\"],[0.5555555555555556,\"#1f9e89\"],[0.6666666666666666,\"#35b779\"],[0.7777777777777778,\"#6ece58\"],[0.8888888888888888,\"#b5de2b\"],[1.0,\"#fde725\"]],\"type\":\"surface\"}],\"table\":[{\"cells\":{\"fill\":{\"color\":\"rgb(237,237,237)\"},\"line\":{\"color\":\"white\"}},\"header\":{\"fill\":{\"color\":\"rgb(217,217,217)\"},\"line\":{\"color\":\"white\"}},\"type\":\"table\"}]},\"layout\":{\"annotationdefaults\":{\"arrowhead\":0,\"arrowwidth\":1},\"autotypenumbers\":\"strict\",\"coloraxis\":{\"colorbar\":{\"outlinewidth\":1,\"tickcolor\":\"rgb(36,36,36)\",\"ticks\":\"outside\"}},\"colorscale\":{\"diverging\":[[0.0,\"rgb(103,0,31)\"],[0.1,\"rgb(178,24,43)\"],[0.2,\"rgb(214,96,77)\"],[0.3,\"rgb(244,165,130)\"],[0.4,\"rgb(253,219,199)\"],[0.5,\"rgb(247,247,247)\"],[0.6,\"rgb(209,229,240)\"],[0.7,\"rgb(146,197,222)\"],[0.8,\"rgb(67,147,195)\"],[0.9,\"rgb(33,102,172)\"],[1.0,\"rgb(5,48,97)\"]],\"sequential\":[[0.0,\"#440154\"],[0.1111111111111111,\"#482878\"],[0.2222222222222222,\"#3e4989\"],[0.3333333333333333,\"#31688e\"],[0.4444444444444444,\"#26828e\"],[0.5555555555555556,\"#1f9e89\"],[0.6666666666666666,\"#35b779\"],[0.7777777777777778,\"#6ece58\"],[0.8888888888888888,\"#b5de2b\"],[1.0,\"#fde725\"]],\"sequentialminus\":[[0.0,\"#440154\"],[0.1111111111111111,\"#482878\"],[0.2222222222222222,\"#3e4989\"],[0.3333333333333333,\"#31688e\"],[0.4444444444444444,\"#26828e\"],[0.5555555555555556,\"#1f9e89\"],[0.6666666666666666,\"#35b779\"],[0.7777777777777778,\"#6ece58\"],[0.8888888888888888,\"#b5de2b\"],[1.0,\"#fde725\"]]},\"colorway\":[\"#1F77B4\",\"#FF7F0E\",\"#2CA02C\",\"#D62728\",\"#9467BD\",\"#8C564B\",\"#E377C2\",\"#7F7F7F\",\"#BCBD22\",\"#17BECF\"],\"font\":{\"color\":\"rgb(36,36,36)\"},\"geo\":{\"bgcolor\":\"white\",\"lakecolor\":\"white\",\"landcolor\":\"white\",\"showlakes\":true,\"showland\":true,\"subunitcolor\":\"white\"},\"hoverlabel\":{\"align\":\"left\"},\"hovermode\":\"closest\",\"mapbox\":{\"style\":\"light\"},\"paper_bgcolor\":\"white\",\"plot_bgcolor\":\"white\",\"polar\":{\"angularaxis\":{\"gridcolor\":\"rgb(232,232,232)\",\"linecolor\":\"rgb(36,36,36)\",\"showgrid\":false,\"showline\":true,\"ticks\":\"outside\"},\"bgcolor\":\"white\",\"radialaxis\":{\"gridcolor\":\"rgb(232,232,232)\",\"linecolor\":\"rgb(36,36,36)\",\"showgrid\":false,\"showline\":true,\"ticks\":\"outside\"}},\"scene\":{\"xaxis\":{\"backgroundcolor\":\"white\",\"gridcolor\":\"rgb(232,232,232)\",\"gridwidth\":2,\"linecolor\":\"rgb(36,36,36)\",\"showbackground\":true,\"showgrid\":false,\"showline\":true,\"ticks\":\"outside\",\"zeroline\":false,\"zerolinecolor\":\"rgb(36,36,36)\"},\"yaxis\":{\"backgroundcolor\":\"white\",\"gridcolor\":\"rgb(232,232,232)\",\"gridwidth\":2,\"linecolor\":\"rgb(36,36,36)\",\"showbackground\":true,\"showgrid\":false,\"showline\":true,\"ticks\":\"outside\",\"zeroline\":false,\"zerolinecolor\":\"rgb(36,36,36)\"},\"zaxis\":{\"backgroundcolor\":\"white\",\"gridcolor\":\"rgb(232,232,232)\",\"gridwidth\":2,\"linecolor\":\"rgb(36,36,36)\",\"showbackground\":true,\"showgrid\":false,\"showline\":true,\"ticks\":\"outside\",\"zeroline\":false,\"zerolinecolor\":\"rgb(36,36,36)\"}},\"shapedefaults\":{\"fillcolor\":\"black\",\"line\":{\"width\":0},\"opacity\":0.3},\"ternary\":{\"aaxis\":{\"gridcolor\":\"rgb(232,232,232)\",\"linecolor\":\"rgb(36,36,36)\",\"showgrid\":false,\"showline\":true,\"ticks\":\"outside\"},\"baxis\":{\"gridcolor\":\"rgb(232,232,232)\",\"linecolor\":\"rgb(36,36,36)\",\"showgrid\":false,\"showline\":true,\"ticks\":\"outside\"},\"bgcolor\":\"white\",\"caxis\":{\"gridcolor\":\"rgb(232,232,232)\",\"linecolor\":\"rgb(36,36,36)\",\"showgrid\":false,\"showline\":true,\"ticks\":\"outside\"}},\"title\":{\"x\":0.05},\"xaxis\":{\"automargin\":true,\"gridcolor\":\"rgb(232,232,232)\",\"linecolor\":\"rgb(36,36,36)\",\"showgrid\":false,\"showline\":true,\"ticks\":\"outside\",\"title\":{\"standoff\":15},\"zeroline\":false,\"zerolinecolor\":\"rgb(36,36,36)\"},\"yaxis\":{\"automargin\":true,\"gridcolor\":\"rgb(232,232,232)\",\"linecolor\":\"rgb(36,36,36)\",\"showgrid\":false,\"showline\":true,\"ticks\":\"outside\",\"title\":{\"standoff\":15},\"zeroline\":false,\"zerolinecolor\":\"rgb(36,36,36)\"}}},\"xaxis\":{\"anchor\":\"y\",\"domain\":[0.0,1.0],\"title\":{\"text\":\"search time (ms/query)\"},\"range\":[0,0.29],\"linecolor\":\"darkgrey\"},\"yaxis\":{\"anchor\":\"x\",\"domain\":[0.0,1.0],\"title\":{\"text\":\"1-recall@3\"},\"range\":[0.5,1.06],\"linecolor\":\"darkgrey\"},\"legend\":{\"title\":{\"text\":\"index\"},\"tracegroupgap\":0,\"itemsizing\":\"constant\"},\"margin\":{\"t\":60},\"height\":400,\"width\":700,\"showlegend\":false,\"title\":{\"font\":{\"family\":\"Arial\",\"color\":\"RebeccaPurple\",\"size\":13},\"text\":\"<B><I>( For IVF-based indexes, nprobe=256 )\",\"yanchor\":\"top\",\"y\":0.3,\"xanchor\":\"left\",\"x\":0.15}},                        {\"responsive\": true}                    ).then(function(){\n",
       "                            \n",
       "var gd = document.getElementById('75a3db5d-51f2-490e-9f21-97dd0ac948a1');\n",
       "var x = new MutationObserver(function (mutations, observer) {{\n",
       "        var display = window.getComputedStyle(gd).display;\n",
       "        if (!display || display === 'none') {{\n",
       "            console.log([gd, 'removed!']);\n",
       "            Plotly.purge(gd);\n",
       "            observer.disconnect();\n",
       "        }}\n",
       "}});\n",
       "\n",
       "// Listen for the removal of the full notebook cells\n",
       "var notebookContainer = gd.closest('#notebook-container');\n",
       "if (notebookContainer) {{\n",
       "    x.observe(notebookContainer, {childList: true});\n",
       "}}\n",
       "\n",
       "// Listen for the clearing of the current output cell\n",
       "var outputEl = gd.closest('.output');\n",
       "if (outputEl) {{\n",
       "    x.observe(outputEl, {childList: true});\n",
       "}}\n",
       "\n",
       "                        })                };                });            </script>        </div>"
      ]
     },
     "metadata": {},
     "output_type": "display_data"
    }
   ],
   "source": [
    "fig = px.scatter(df256, x=\"search_time\", y=\"recall@3\", color=\"index\", height=400, width=700,\n",
    "                 template=\"simple_white\", text=\"index\", size=\"index_size\", size_max=50)     \n",
    "\n",
    "positions = [\"bottom right\", \"top center\", \"top center\", \"bottom right\"]\n",
    "\n",
    "for i, fdata in enumerate(fig.data):   \n",
    "    fdata.textposition = positions[i]\n",
    "    fdata.marker.opacity = 0.8\n",
    "    fdata.marker.color = colors_gorb[i]    \n",
    "    fdata.textfont.color = colors_gorb[i]   \n",
    "    fdata.textfont.size = 13  \n",
    "    fdata.textfont.family=\"Arial\"\n",
    "    \n",
    "fig.update_traces(mode='markers+text')#, textposition=\"middle right\") \n",
    "fig.update_traces(texttemplate=\"%{text}<br>(%{marker.size:,d} MB)\")\n",
    "fig.update_layout(xaxis_title_text=\"search time (ms/query)\", yaxis_title_text=\"1-recall@3\", yaxis_range=[0.5, 1.06], xaxis_range=[0, 0.29], showlegend=False)\n",
    "fig.update_layout(title=dict(text=\"<B><I>( For IVF-based indexes, nprobe=256 )\", yanchor=\"top\", y=0.3, xanchor=\"left\", x=0.15, \n",
    "                             font_family=\"Arial\", font_color=\"RebeccaPurple\", font_size=13))\n",
    "fig.update_xaxes(linecolor='darkgrey')\n",
    "fig.update_yaxes(linecolor='darkgrey')\n",
    "fig.show()\n",
    "fig.write_html(\"nprobe256_search_recall_bubble.html\")"
   ]
  },
  {
   "cell_type": "code",
   "execution_count": 67,
   "id": "d65363e4",
   "metadata": {
    "execution": {
     "iopub.execute_input": "2022-08-18T15:45:27.381181Z",
     "iopub.status.busy": "2022-08-18T15:45:27.380771Z",
     "iopub.status.idle": "2022-08-18T15:45:27.398876Z",
     "shell.execute_reply": "2022-08-18T15:45:27.397788Z"
    },
    "papermill": {
     "duration": 0.877251,
     "end_time": "2022-08-18T15:45:27.400898",
     "exception": false,
     "start_time": "2022-08-18T15:45:26.523647",
     "status": "completed"
    },
    "tags": []
   },
   "outputs": [
    {
     "data": {
      "text/html": [
       "<div>\n",
       "<style scoped>\n",
       "    .dataframe tbody tr th:only-of-type {\n",
       "        vertical-align: middle;\n",
       "    }\n",
       "\n",
       "    .dataframe tbody tr th {\n",
       "        vertical-align: top;\n",
       "    }\n",
       "\n",
       "    .dataframe thead th {\n",
       "        text-align: right;\n",
       "    }\n",
       "</style>\n",
       "<table border=\"1\" class=\"dataframe\">\n",
       "  <thead>\n",
       "    <tr style=\"text-align: right;\">\n",
       "      <th></th>\n",
       "      <th>index</th>\n",
       "      <th>M</th>\n",
       "      <th>nprobe</th>\n",
       "      <th>nsegment</th>\n",
       "      <th>recall@1</th>\n",
       "      <th>recall@3</th>\n",
       "      <th>recall@5</th>\n",
       "      <th>train_time</th>\n",
       "      <th>index_time</th>\n",
       "      <th>search_time</th>\n",
       "      <th>index_size</th>\n",
       "    </tr>\n",
       "  </thead>\n",
       "  <tbody>\n",
       "    <tr>\n",
       "      <th>6</th>\n",
       "      <td>IVF65536_HNSW32,PQ32</td>\n",
       "      <td>32</td>\n",
       "      <td>512</td>\n",
       "      <td>32</td>\n",
       "      <td>0.578</td>\n",
       "      <td>0.831</td>\n",
       "      <td>0.891</td>\n",
       "      <td>146.412567</td>\n",
       "      <td>25.161457</td>\n",
       "      <td>0.194748</td>\n",
       "      <td>154.209972</td>\n",
       "    </tr>\n",
       "    <tr>\n",
       "      <th>14</th>\n",
       "      <td>IVF65536_HNSW32,Flat</td>\n",
       "      <td>32</td>\n",
       "      <td>512</td>\n",
       "      <td>0</td>\n",
       "      <td>0.944</td>\n",
       "      <td>0.944</td>\n",
       "      <td>0.944</td>\n",
       "      <td>85.118428</td>\n",
       "      <td>18.936768</td>\n",
       "      <td>0.145132</td>\n",
       "      <td>1594.078859</td>\n",
       "    </tr>\n",
       "    <tr>\n",
       "      <th>16</th>\n",
       "      <td>HNSW32,Flat</td>\n",
       "      <td>32</td>\n",
       "      <td>512</td>\n",
       "      <td>0</td>\n",
       "      <td>0.851</td>\n",
       "      <td>0.851</td>\n",
       "      <td>0.851</td>\n",
       "      <td>None</td>\n",
       "      <td>920.648198</td>\n",
       "      <td>0.209860</td>\n",
       "      <td>2352.424546</td>\n",
       "    </tr>\n",
       "    <tr>\n",
       "      <th>17</th>\n",
       "      <td>HNSW32_PQ32</td>\n",
       "      <td>32</td>\n",
       "      <td>512</td>\n",
       "      <td>32</td>\n",
       "      <td>0.634</td>\n",
       "      <td>0.795</td>\n",
       "      <td>0.815</td>\n",
       "      <td>67.697279</td>\n",
       "      <td>721.771335</td>\n",
       "      <td>0.133165</td>\n",
       "      <td>912.555659</td>\n",
       "    </tr>\n",
       "  </tbody>\n",
       "</table>\n",
       "</div>"
      ],
      "text/plain": [
       "                   index   M  nprobe  nsegment  recall@1  recall@3  recall@5  \\\n",
       "6   IVF65536_HNSW32,PQ32  32     512        32     0.578     0.831     0.891   \n",
       "14  IVF65536_HNSW32,Flat  32     512         0     0.944     0.944     0.944   \n",
       "16           HNSW32,Flat  32     512         0     0.851     0.851     0.851   \n",
       "17           HNSW32_PQ32  32     512        32     0.634     0.795     0.815   \n",
       "\n",
       "    train_time  index_time  search_time   index_size  \n",
       "6   146.412567   25.161457     0.194748   154.209972  \n",
       "14   85.118428   18.936768     0.145132  1594.078859  \n",
       "16        None  920.648198     0.209860  2352.424546  \n",
       "17   67.697279  721.771335     0.133165   912.555659  "
      ]
     },
     "execution_count": 67,
     "metadata": {},
     "output_type": "execute_result"
    }
   ],
   "source": [
    "df512 = df[(df[\"nprobe\"]==512) | (df[\"index\"]==\"HNSW32,Flat\") | (df[\"index\"]==\"HNSW32_PQ32\")].copy()\n",
    "df512[\"nprobe\"] = 512\n",
    "df512"
   ]
  },
  {
   "cell_type": "code",
   "execution_count": 68,
   "id": "f24d8c4d",
   "metadata": {
    "execution": {
     "iopub.execute_input": "2022-08-18T15:45:28.602780Z",
     "iopub.status.busy": "2022-08-18T15:45:28.601793Z",
     "iopub.status.idle": "2022-08-18T15:45:28.621686Z",
     "shell.execute_reply": "2022-08-18T15:45:28.620700Z"
    },
    "papermill": {
     "duration": 0.620881,
     "end_time": "2022-08-18T15:45:28.623828",
     "exception": false,
     "start_time": "2022-08-18T15:45:28.002947",
     "status": "completed"
    },
    "tags": []
   },
   "outputs": [
    {
     "data": {
      "text/html": [
       "<div>\n",
       "<style scoped>\n",
       "    .dataframe tbody tr th:only-of-type {\n",
       "        vertical-align: middle;\n",
       "    }\n",
       "\n",
       "    .dataframe tbody tr th {\n",
       "        vertical-align: top;\n",
       "    }\n",
       "\n",
       "    .dataframe thead th {\n",
       "        text-align: right;\n",
       "    }\n",
       "</style>\n",
       "<table border=\"1\" class=\"dataframe\">\n",
       "  <thead>\n",
       "    <tr style=\"text-align: right;\">\n",
       "      <th></th>\n",
       "      <th>index</th>\n",
       "      <th>M</th>\n",
       "      <th>nprobe</th>\n",
       "      <th>nsegment</th>\n",
       "      <th>recall@1</th>\n",
       "      <th>recall@3</th>\n",
       "      <th>recall@5</th>\n",
       "      <th>train_time</th>\n",
       "      <th>index_time</th>\n",
       "      <th>search_time</th>\n",
       "      <th>index_size</th>\n",
       "    </tr>\n",
       "  </thead>\n",
       "  <tbody>\n",
       "    <tr>\n",
       "      <th>0</th>\n",
       "      <td>IVF65536_HNSW32,PQ32</td>\n",
       "      <td>32</td>\n",
       "      <td>128</td>\n",
       "      <td>32</td>\n",
       "      <td>0.547</td>\n",
       "      <td>0.765</td>\n",
       "      <td>0.806</td>\n",
       "      <td>146.412567</td>\n",
       "      <td>25.161457</td>\n",
       "      <td>0.033655</td>\n",
       "      <td>154.209972</td>\n",
       "    </tr>\n",
       "    <tr>\n",
       "      <th>1</th>\n",
       "      <td>IVF65536_HNSW32,Flat</td>\n",
       "      <td>32</td>\n",
       "      <td>128</td>\n",
       "      <td>0</td>\n",
       "      <td>0.840</td>\n",
       "      <td>0.840</td>\n",
       "      <td>0.840</td>\n",
       "      <td>85.118428</td>\n",
       "      <td>18.936768</td>\n",
       "      <td>0.055360</td>\n",
       "      <td>1594.078859</td>\n",
       "    </tr>\n",
       "    <tr>\n",
       "      <th>2</th>\n",
       "      <td>HNSW32,Flat</td>\n",
       "      <td>32</td>\n",
       "      <td>128</td>\n",
       "      <td>0</td>\n",
       "      <td>0.851</td>\n",
       "      <td>0.851</td>\n",
       "      <td>0.851</td>\n",
       "      <td>None</td>\n",
       "      <td>920.648198</td>\n",
       "      <td>0.209860</td>\n",
       "      <td>2352.424546</td>\n",
       "    </tr>\n",
       "    <tr>\n",
       "      <th>3</th>\n",
       "      <td>HNSW32_PQ32</td>\n",
       "      <td>32</td>\n",
       "      <td>128</td>\n",
       "      <td>32</td>\n",
       "      <td>0.634</td>\n",
       "      <td>0.795</td>\n",
       "      <td>0.815</td>\n",
       "      <td>67.697279</td>\n",
       "      <td>721.771335</td>\n",
       "      <td>0.133165</td>\n",
       "      <td>912.555659</td>\n",
       "    </tr>\n",
       "    <tr>\n",
       "      <th>4</th>\n",
       "      <td>IVF65536_HNSW32,PQ32</td>\n",
       "      <td>32</td>\n",
       "      <td>256</td>\n",
       "      <td>32</td>\n",
       "      <td>0.563</td>\n",
       "      <td>0.804</td>\n",
       "      <td>0.856</td>\n",
       "      <td>146.412567</td>\n",
       "      <td>25.161457</td>\n",
       "      <td>0.074461</td>\n",
       "      <td>154.209972</td>\n",
       "    </tr>\n",
       "    <tr>\n",
       "      <th>5</th>\n",
       "      <td>IVF65536_HNSW32,Flat</td>\n",
       "      <td>32</td>\n",
       "      <td>256</td>\n",
       "      <td>0</td>\n",
       "      <td>0.904</td>\n",
       "      <td>0.904</td>\n",
       "      <td>0.904</td>\n",
       "      <td>85.118428</td>\n",
       "      <td>18.936768</td>\n",
       "      <td>0.088342</td>\n",
       "      <td>1594.078859</td>\n",
       "    </tr>\n",
       "    <tr>\n",
       "      <th>6</th>\n",
       "      <td>HNSW32,Flat</td>\n",
       "      <td>32</td>\n",
       "      <td>256</td>\n",
       "      <td>0</td>\n",
       "      <td>0.851</td>\n",
       "      <td>0.851</td>\n",
       "      <td>0.851</td>\n",
       "      <td>None</td>\n",
       "      <td>920.648198</td>\n",
       "      <td>0.209860</td>\n",
       "      <td>2352.424546</td>\n",
       "    </tr>\n",
       "    <tr>\n",
       "      <th>7</th>\n",
       "      <td>HNSW32_PQ32</td>\n",
       "      <td>32</td>\n",
       "      <td>256</td>\n",
       "      <td>32</td>\n",
       "      <td>0.634</td>\n",
       "      <td>0.795</td>\n",
       "      <td>0.815</td>\n",
       "      <td>67.697279</td>\n",
       "      <td>721.771335</td>\n",
       "      <td>0.133165</td>\n",
       "      <td>912.555659</td>\n",
       "    </tr>\n",
       "    <tr>\n",
       "      <th>8</th>\n",
       "      <td>IVF65536_HNSW32,PQ32</td>\n",
       "      <td>32</td>\n",
       "      <td>512</td>\n",
       "      <td>32</td>\n",
       "      <td>0.578</td>\n",
       "      <td>0.831</td>\n",
       "      <td>0.891</td>\n",
       "      <td>146.412567</td>\n",
       "      <td>25.161457</td>\n",
       "      <td>0.194748</td>\n",
       "      <td>154.209972</td>\n",
       "    </tr>\n",
       "    <tr>\n",
       "      <th>9</th>\n",
       "      <td>IVF65536_HNSW32,Flat</td>\n",
       "      <td>32</td>\n",
       "      <td>512</td>\n",
       "      <td>0</td>\n",
       "      <td>0.944</td>\n",
       "      <td>0.944</td>\n",
       "      <td>0.944</td>\n",
       "      <td>85.118428</td>\n",
       "      <td>18.936768</td>\n",
       "      <td>0.145132</td>\n",
       "      <td>1594.078859</td>\n",
       "    </tr>\n",
       "    <tr>\n",
       "      <th>10</th>\n",
       "      <td>HNSW32,Flat</td>\n",
       "      <td>32</td>\n",
       "      <td>512</td>\n",
       "      <td>0</td>\n",
       "      <td>0.851</td>\n",
       "      <td>0.851</td>\n",
       "      <td>0.851</td>\n",
       "      <td>None</td>\n",
       "      <td>920.648198</td>\n",
       "      <td>0.209860</td>\n",
       "      <td>2352.424546</td>\n",
       "    </tr>\n",
       "    <tr>\n",
       "      <th>11</th>\n",
       "      <td>HNSW32_PQ32</td>\n",
       "      <td>32</td>\n",
       "      <td>512</td>\n",
       "      <td>32</td>\n",
       "      <td>0.634</td>\n",
       "      <td>0.795</td>\n",
       "      <td>0.815</td>\n",
       "      <td>67.697279</td>\n",
       "      <td>721.771335</td>\n",
       "      <td>0.133165</td>\n",
       "      <td>912.555659</td>\n",
       "    </tr>\n",
       "  </tbody>\n",
       "</table>\n",
       "</div>"
      ],
      "text/plain": [
       "                   index   M  nprobe  nsegment  recall@1  recall@3  recall@5  \\\n",
       "0   IVF65536_HNSW32,PQ32  32     128        32     0.547     0.765     0.806   \n",
       "1   IVF65536_HNSW32,Flat  32     128         0     0.840     0.840     0.840   \n",
       "2            HNSW32,Flat  32     128         0     0.851     0.851     0.851   \n",
       "3            HNSW32_PQ32  32     128        32     0.634     0.795     0.815   \n",
       "4   IVF65536_HNSW32,PQ32  32     256        32     0.563     0.804     0.856   \n",
       "5   IVF65536_HNSW32,Flat  32     256         0     0.904     0.904     0.904   \n",
       "6            HNSW32,Flat  32     256         0     0.851     0.851     0.851   \n",
       "7            HNSW32_PQ32  32     256        32     0.634     0.795     0.815   \n",
       "8   IVF65536_HNSW32,PQ32  32     512        32     0.578     0.831     0.891   \n",
       "9   IVF65536_HNSW32,Flat  32     512         0     0.944     0.944     0.944   \n",
       "10           HNSW32,Flat  32     512         0     0.851     0.851     0.851   \n",
       "11           HNSW32_PQ32  32     512        32     0.634     0.795     0.815   \n",
       "\n",
       "    train_time  index_time  search_time   index_size  \n",
       "0   146.412567   25.161457     0.033655   154.209972  \n",
       "1    85.118428   18.936768     0.055360  1594.078859  \n",
       "2         None  920.648198     0.209860  2352.424546  \n",
       "3    67.697279  721.771335     0.133165   912.555659  \n",
       "4   146.412567   25.161457     0.074461   154.209972  \n",
       "5    85.118428   18.936768     0.088342  1594.078859  \n",
       "6         None  920.648198     0.209860  2352.424546  \n",
       "7    67.697279  721.771335     0.133165   912.555659  \n",
       "8   146.412567   25.161457     0.194748   154.209972  \n",
       "9    85.118428   18.936768     0.145132  1594.078859  \n",
       "10        None  920.648198     0.209860  2352.424546  \n",
       "11   67.697279  721.771335     0.133165   912.555659  "
      ]
     },
     "execution_count": 68,
     "metadata": {},
     "output_type": "execute_result"
    }
   ],
   "source": [
    "df3 = pd.concat([df128, df256, df512], ignore_index=True)\n",
    "df3"
   ]
  },
  {
   "cell_type": "code",
   "execution_count": 69,
   "id": "37bb198e",
   "metadata": {
    "execution": {
     "iopub.execute_input": "2022-08-18T15:45:29.879148Z",
     "iopub.status.busy": "2022-08-18T15:45:29.878758Z",
     "iopub.status.idle": "2022-08-18T15:45:30.045136Z",
     "shell.execute_reply": "2022-08-18T15:45:30.044164Z"
    },
    "papermill": {
     "duration": 0.82457,
     "end_time": "2022-08-18T15:45:30.047372",
     "exception": false,
     "start_time": "2022-08-18T15:45:29.222802",
     "status": "completed"
    },
    "tags": []
   },
   "outputs": [
    {
     "data": {
      "text/html": [
       "<div>                            <div id=\"cb80a05a-0e14-4b51-956e-821e4e9db242\" class=\"plotly-graph-div\" style=\"height:380px; width:720px;\"></div>            <script type=\"text/javascript\">                require([\"plotly\"], function(Plotly) {                    window.PLOTLYENV=window.PLOTLYENV || {};                                    if (document.getElementById(\"cb80a05a-0e14-4b51-956e-821e4e9db242\")) {                    Plotly.newPlot(                        \"cb80a05a-0e14-4b51-956e-821e4e9db242\",                        [{\"hovertemplate\":\"index=IVF65536_HNSW32,PQ32<br>nprobe=128<br>search_time=%{x}<br>recall@3=%{y}<br>index_size=%{marker.size}<extra></extra>\",\"legendgroup\":\"IVF65536_HNSW32,PQ32\",\"marker\":{\"color\":\"#2CA02C\",\"size\":[154.209972],\"sizemode\":\"area\",\"sizeref\":2.6138050511111106,\"symbol\":\"circle\"},\"mode\":\"markers\",\"name\":\"IVF65536_HNSW32,PQ32\",\"orientation\":\"v\",\"showlegend\":true,\"x\":[0.03365492820739746],\"xaxis\":\"x\",\"y\":[0.765],\"yaxis\":\"y\",\"type\":\"scatter\"},{\"hovertemplate\":\"index=IVF65536_HNSW32,PQ32<br>nprobe=256<br>search_time=%{x}<br>recall@3=%{y}<br>index_size=%{marker.size}<extra></extra>\",\"legendgroup\":\"IVF65536_HNSW32,PQ32\",\"marker\":{\"color\":\"#2CA02C\",\"size\":[154.209972],\"sizemode\":\"area\",\"sizeref\":2.6138050511111106,\"symbol\":\"circle\"},\"mode\":\"markers\",\"name\":\"IVF65536_HNSW32,PQ32\",\"orientation\":\"v\",\"showlegend\":false,\"x\":[0.07446122169494629],\"xaxis\":\"x2\",\"y\":[0.804],\"yaxis\":\"y2\",\"type\":\"scatter\"},{\"hovertemplate\":\"index=IVF65536_HNSW32,PQ32<br>nprobe=512<br>search_time=%{x}<br>recall@3=%{y}<br>index_size=%{marker.size}<extra></extra>\",\"legendgroup\":\"IVF65536_HNSW32,PQ32\",\"marker\":{\"color\":\"#2CA02C\",\"size\":[154.209972],\"sizemode\":\"area\",\"sizeref\":2.6138050511111106,\"symbol\":\"circle\"},\"mode\":\"markers\",\"name\":\"IVF65536_HNSW32,PQ32\",\"orientation\":\"v\",\"showlegend\":false,\"x\":[0.1947476863861084],\"xaxis\":\"x3\",\"y\":[0.831],\"yaxis\":\"y3\",\"type\":\"scatter\"},{\"hovertemplate\":\"index=IVF65536_HNSW32,Flat<br>nprobe=128<br>search_time=%{x}<br>recall@3=%{y}<br>index_size=%{marker.size}<extra></extra>\",\"legendgroup\":\"IVF65536_HNSW32,Flat\",\"marker\":{\"color\":\"#FF7F0E\",\"size\":[1594.078859],\"sizemode\":\"area\",\"sizeref\":2.6138050511111106,\"symbol\":\"circle\"},\"mode\":\"markers\",\"name\":\"IVF65536_HNSW32,Flat\",\"orientation\":\"v\",\"showlegend\":true,\"x\":[0.05536031723022461],\"xaxis\":\"x\",\"y\":[0.84],\"yaxis\":\"y\",\"type\":\"scatter\"},{\"hovertemplate\":\"index=IVF65536_HNSW32,Flat<br>nprobe=256<br>search_time=%{x}<br>recall@3=%{y}<br>index_size=%{marker.size}<extra></extra>\",\"legendgroup\":\"IVF65536_HNSW32,Flat\",\"marker\":{\"color\":\"#FF7F0E\",\"size\":[1594.078859],\"sizemode\":\"area\",\"sizeref\":2.6138050511111106,\"symbol\":\"circle\"},\"mode\":\"markers\",\"name\":\"IVF65536_HNSW32,Flat\",\"orientation\":\"v\",\"showlegend\":false,\"x\":[0.08834242820739746],\"xaxis\":\"x2\",\"y\":[0.904],\"yaxis\":\"y2\",\"type\":\"scatter\"},{\"hovertemplate\":\"index=IVF65536_HNSW32,Flat<br>nprobe=512<br>search_time=%{x}<br>recall@3=%{y}<br>index_size=%{marker.size}<extra></extra>\",\"legendgroup\":\"IVF65536_HNSW32,Flat\",\"marker\":{\"color\":\"#FF7F0E\",\"size\":[1594.078859],\"sizemode\":\"area\",\"sizeref\":2.6138050511111106,\"symbol\":\"circle\"},\"mode\":\"markers\",\"name\":\"IVF65536_HNSW32,Flat\",\"orientation\":\"v\",\"showlegend\":false,\"x\":[0.14513206481933594],\"xaxis\":\"x3\",\"y\":[0.944],\"yaxis\":\"y3\",\"type\":\"scatter\"},{\"hovertemplate\":\"index=HNSW32,Flat<br>nprobe=128<br>search_time=%{x}<br>recall@3=%{y}<br>index_size=%{marker.size}<extra></extra>\",\"legendgroup\":\"HNSW32,Flat\",\"marker\":{\"color\":\"#D62728\",\"size\":[2352.4245459999997],\"sizemode\":\"area\",\"sizeref\":2.6138050511111106,\"symbol\":\"circle\"},\"mode\":\"markers\",\"name\":\"HNSW32,Flat\",\"orientation\":\"v\",\"showlegend\":true,\"x\":[0.20985984802246094],\"xaxis\":\"x\",\"y\":[0.851],\"yaxis\":\"y\",\"type\":\"scatter\"},{\"hovertemplate\":\"index=HNSW32,Flat<br>nprobe=256<br>search_time=%{x}<br>recall@3=%{y}<br>index_size=%{marker.size}<extra></extra>\",\"legendgroup\":\"HNSW32,Flat\",\"marker\":{\"color\":\"#D62728\",\"size\":[2352.4245459999997],\"sizemode\":\"area\",\"sizeref\":2.6138050511111106,\"symbol\":\"circle\"},\"mode\":\"markers\",\"name\":\"HNSW32,Flat\",\"orientation\":\"v\",\"showlegend\":false,\"x\":[0.20985984802246094],\"xaxis\":\"x2\",\"y\":[0.851],\"yaxis\":\"y2\",\"type\":\"scatter\"},{\"hovertemplate\":\"index=HNSW32,Flat<br>nprobe=512<br>search_time=%{x}<br>recall@3=%{y}<br>index_size=%{marker.size}<extra></extra>\",\"legendgroup\":\"HNSW32,Flat\",\"marker\":{\"color\":\"#D62728\",\"size\":[2352.4245459999997],\"sizemode\":\"area\",\"sizeref\":2.6138050511111106,\"symbol\":\"circle\"},\"mode\":\"markers\",\"name\":\"HNSW32,Flat\",\"orientation\":\"v\",\"showlegend\":false,\"x\":[0.20985984802246094],\"xaxis\":\"x3\",\"y\":[0.851],\"yaxis\":\"y3\",\"type\":\"scatter\"},{\"hovertemplate\":\"index=HNSW32_PQ32<br>nprobe=128<br>search_time=%{x}<br>recall@3=%{y}<br>index_size=%{marker.size}<extra></extra>\",\"legendgroup\":\"HNSW32_PQ32\",\"marker\":{\"color\":\"#1F77B4\",\"size\":[912.555659],\"sizemode\":\"area\",\"sizeref\":2.6138050511111106,\"symbol\":\"circle\"},\"mode\":\"markers\",\"name\":\"HNSW32_PQ32\",\"orientation\":\"v\",\"showlegend\":true,\"x\":[0.133164644241333],\"xaxis\":\"x\",\"y\":[0.795],\"yaxis\":\"y\",\"type\":\"scatter\"},{\"hovertemplate\":\"index=HNSW32_PQ32<br>nprobe=256<br>search_time=%{x}<br>recall@3=%{y}<br>index_size=%{marker.size}<extra></extra>\",\"legendgroup\":\"HNSW32_PQ32\",\"marker\":{\"color\":\"#1F77B4\",\"size\":[912.555659],\"sizemode\":\"area\",\"sizeref\":2.6138050511111106,\"symbol\":\"circle\"},\"mode\":\"markers\",\"name\":\"HNSW32_PQ32\",\"orientation\":\"v\",\"showlegend\":false,\"x\":[0.133164644241333],\"xaxis\":\"x2\",\"y\":[0.795],\"yaxis\":\"y2\",\"type\":\"scatter\"},{\"hovertemplate\":\"index=HNSW32_PQ32<br>nprobe=512<br>search_time=%{x}<br>recall@3=%{y}<br>index_size=%{marker.size}<extra></extra>\",\"legendgroup\":\"HNSW32_PQ32\",\"marker\":{\"color\":\"#1F77B4\",\"size\":[912.555659],\"sizemode\":\"area\",\"sizeref\":2.6138050511111106,\"symbol\":\"circle\"},\"mode\":\"markers\",\"name\":\"HNSW32_PQ32\",\"orientation\":\"v\",\"showlegend\":false,\"x\":[0.133164644241333],\"xaxis\":\"x3\",\"y\":[0.795],\"yaxis\":\"y3\",\"type\":\"scatter\"}],                        {\"template\":{\"data\":{\"barpolar\":[{\"marker\":{\"line\":{\"color\":\"white\",\"width\":0.5},\"pattern\":{\"fillmode\":\"overlay\",\"size\":10,\"solidity\":0.2}},\"type\":\"barpolar\"}],\"bar\":[{\"error_x\":{\"color\":\"rgb(36,36,36)\"},\"error_y\":{\"color\":\"rgb(36,36,36)\"},\"marker\":{\"line\":{\"color\":\"white\",\"width\":0.5},\"pattern\":{\"fillmode\":\"overlay\",\"size\":10,\"solidity\":0.2}},\"type\":\"bar\"}],\"carpet\":[{\"aaxis\":{\"endlinecolor\":\"rgb(36,36,36)\",\"gridcolor\":\"white\",\"linecolor\":\"white\",\"minorgridcolor\":\"white\",\"startlinecolor\":\"rgb(36,36,36)\"},\"baxis\":{\"endlinecolor\":\"rgb(36,36,36)\",\"gridcolor\":\"white\",\"linecolor\":\"white\",\"minorgridcolor\":\"white\",\"startlinecolor\":\"rgb(36,36,36)\"},\"type\":\"carpet\"}],\"choropleth\":[{\"colorbar\":{\"outlinewidth\":1,\"tickcolor\":\"rgb(36,36,36)\",\"ticks\":\"outside\"},\"type\":\"choropleth\"}],\"contourcarpet\":[{\"colorbar\":{\"outlinewidth\":1,\"tickcolor\":\"rgb(36,36,36)\",\"ticks\":\"outside\"},\"type\":\"contourcarpet\"}],\"contour\":[{\"colorbar\":{\"outlinewidth\":1,\"tickcolor\":\"rgb(36,36,36)\",\"ticks\":\"outside\"},\"colorscale\":[[0.0,\"#440154\"],[0.1111111111111111,\"#482878\"],[0.2222222222222222,\"#3e4989\"],[0.3333333333333333,\"#31688e\"],[0.4444444444444444,\"#26828e\"],[0.5555555555555556,\"#1f9e89\"],[0.6666666666666666,\"#35b779\"],[0.7777777777777778,\"#6ece58\"],[0.8888888888888888,\"#b5de2b\"],[1.0,\"#fde725\"]],\"type\":\"contour\"}],\"heatmapgl\":[{\"colorbar\":{\"outlinewidth\":1,\"tickcolor\":\"rgb(36,36,36)\",\"ticks\":\"outside\"},\"colorscale\":[[0.0,\"#440154\"],[0.1111111111111111,\"#482878\"],[0.2222222222222222,\"#3e4989\"],[0.3333333333333333,\"#31688e\"],[0.4444444444444444,\"#26828e\"],[0.5555555555555556,\"#1f9e89\"],[0.6666666666666666,\"#35b779\"],[0.7777777777777778,\"#6ece58\"],[0.8888888888888888,\"#b5de2b\"],[1.0,\"#fde725\"]],\"type\":\"heatmapgl\"}],\"heatmap\":[{\"colorbar\":{\"outlinewidth\":1,\"tickcolor\":\"rgb(36,36,36)\",\"ticks\":\"outside\"},\"colorscale\":[[0.0,\"#440154\"],[0.1111111111111111,\"#482878\"],[0.2222222222222222,\"#3e4989\"],[0.3333333333333333,\"#31688e\"],[0.4444444444444444,\"#26828e\"],[0.5555555555555556,\"#1f9e89\"],[0.6666666666666666,\"#35b779\"],[0.7777777777777778,\"#6ece58\"],[0.8888888888888888,\"#b5de2b\"],[1.0,\"#fde725\"]],\"type\":\"heatmap\"}],\"histogram2dcontour\":[{\"colorbar\":{\"outlinewidth\":1,\"tickcolor\":\"rgb(36,36,36)\",\"ticks\":\"outside\"},\"colorscale\":[[0.0,\"#440154\"],[0.1111111111111111,\"#482878\"],[0.2222222222222222,\"#3e4989\"],[0.3333333333333333,\"#31688e\"],[0.4444444444444444,\"#26828e\"],[0.5555555555555556,\"#1f9e89\"],[0.6666666666666666,\"#35b779\"],[0.7777777777777778,\"#6ece58\"],[0.8888888888888888,\"#b5de2b\"],[1.0,\"#fde725\"]],\"type\":\"histogram2dcontour\"}],\"histogram2d\":[{\"colorbar\":{\"outlinewidth\":1,\"tickcolor\":\"rgb(36,36,36)\",\"ticks\":\"outside\"},\"colorscale\":[[0.0,\"#440154\"],[0.1111111111111111,\"#482878\"],[0.2222222222222222,\"#3e4989\"],[0.3333333333333333,\"#31688e\"],[0.4444444444444444,\"#26828e\"],[0.5555555555555556,\"#1f9e89\"],[0.6666666666666666,\"#35b779\"],[0.7777777777777778,\"#6ece58\"],[0.8888888888888888,\"#b5de2b\"],[1.0,\"#fde725\"]],\"type\":\"histogram2d\"}],\"histogram\":[{\"marker\":{\"line\":{\"color\":\"white\",\"width\":0.6}},\"type\":\"histogram\"}],\"mesh3d\":[{\"colorbar\":{\"outlinewidth\":1,\"tickcolor\":\"rgb(36,36,36)\",\"ticks\":\"outside\"},\"type\":\"mesh3d\"}],\"parcoords\":[{\"line\":{\"colorbar\":{\"outlinewidth\":1,\"tickcolor\":\"rgb(36,36,36)\",\"ticks\":\"outside\"}},\"type\":\"parcoords\"}],\"pie\":[{\"automargin\":true,\"type\":\"pie\"}],\"scatter3d\":[{\"line\":{\"colorbar\":{\"outlinewidth\":1,\"tickcolor\":\"rgb(36,36,36)\",\"ticks\":\"outside\"}},\"marker\":{\"colorbar\":{\"outlinewidth\":1,\"tickcolor\":\"rgb(36,36,36)\",\"ticks\":\"outside\"}},\"type\":\"scatter3d\"}],\"scattercarpet\":[{\"marker\":{\"colorbar\":{\"outlinewidth\":1,\"tickcolor\":\"rgb(36,36,36)\",\"ticks\":\"outside\"}},\"type\":\"scattercarpet\"}],\"scattergeo\":[{\"marker\":{\"colorbar\":{\"outlinewidth\":1,\"tickcolor\":\"rgb(36,36,36)\",\"ticks\":\"outside\"}},\"type\":\"scattergeo\"}],\"scattergl\":[{\"marker\":{\"colorbar\":{\"outlinewidth\":1,\"tickcolor\":\"rgb(36,36,36)\",\"ticks\":\"outside\"}},\"type\":\"scattergl\"}],\"scattermapbox\":[{\"marker\":{\"colorbar\":{\"outlinewidth\":1,\"tickcolor\":\"rgb(36,36,36)\",\"ticks\":\"outside\"}},\"type\":\"scattermapbox\"}],\"scatterpolargl\":[{\"marker\":{\"colorbar\":{\"outlinewidth\":1,\"tickcolor\":\"rgb(36,36,36)\",\"ticks\":\"outside\"}},\"type\":\"scatterpolargl\"}],\"scatterpolar\":[{\"marker\":{\"colorbar\":{\"outlinewidth\":1,\"tickcolor\":\"rgb(36,36,36)\",\"ticks\":\"outside\"}},\"type\":\"scatterpolar\"}],\"scatter\":[{\"fillpattern\":{\"fillmode\":\"overlay\",\"size\":10,\"solidity\":0.2},\"type\":\"scatter\"}],\"scatterternary\":[{\"marker\":{\"colorbar\":{\"outlinewidth\":1,\"tickcolor\":\"rgb(36,36,36)\",\"ticks\":\"outside\"}},\"type\":\"scatterternary\"}],\"surface\":[{\"colorbar\":{\"outlinewidth\":1,\"tickcolor\":\"rgb(36,36,36)\",\"ticks\":\"outside\"},\"colorscale\":[[0.0,\"#440154\"],[0.1111111111111111,\"#482878\"],[0.2222222222222222,\"#3e4989\"],[0.3333333333333333,\"#31688e\"],[0.4444444444444444,\"#26828e\"],[0.5555555555555556,\"#1f9e89\"],[0.6666666666666666,\"#35b779\"],[0.7777777777777778,\"#6ece58\"],[0.8888888888888888,\"#b5de2b\"],[1.0,\"#fde725\"]],\"type\":\"surface\"}],\"table\":[{\"cells\":{\"fill\":{\"color\":\"rgb(237,237,237)\"},\"line\":{\"color\":\"white\"}},\"header\":{\"fill\":{\"color\":\"rgb(217,217,217)\"},\"line\":{\"color\":\"white\"}},\"type\":\"table\"}]},\"layout\":{\"annotationdefaults\":{\"arrowhead\":0,\"arrowwidth\":1},\"autotypenumbers\":\"strict\",\"coloraxis\":{\"colorbar\":{\"outlinewidth\":1,\"tickcolor\":\"rgb(36,36,36)\",\"ticks\":\"outside\"}},\"colorscale\":{\"diverging\":[[0.0,\"rgb(103,0,31)\"],[0.1,\"rgb(178,24,43)\"],[0.2,\"rgb(214,96,77)\"],[0.3,\"rgb(244,165,130)\"],[0.4,\"rgb(253,219,199)\"],[0.5,\"rgb(247,247,247)\"],[0.6,\"rgb(209,229,240)\"],[0.7,\"rgb(146,197,222)\"],[0.8,\"rgb(67,147,195)\"],[0.9,\"rgb(33,102,172)\"],[1.0,\"rgb(5,48,97)\"]],\"sequential\":[[0.0,\"#440154\"],[0.1111111111111111,\"#482878\"],[0.2222222222222222,\"#3e4989\"],[0.3333333333333333,\"#31688e\"],[0.4444444444444444,\"#26828e\"],[0.5555555555555556,\"#1f9e89\"],[0.6666666666666666,\"#35b779\"],[0.7777777777777778,\"#6ece58\"],[0.8888888888888888,\"#b5de2b\"],[1.0,\"#fde725\"]],\"sequentialminus\":[[0.0,\"#440154\"],[0.1111111111111111,\"#482878\"],[0.2222222222222222,\"#3e4989\"],[0.3333333333333333,\"#31688e\"],[0.4444444444444444,\"#26828e\"],[0.5555555555555556,\"#1f9e89\"],[0.6666666666666666,\"#35b779\"],[0.7777777777777778,\"#6ece58\"],[0.8888888888888888,\"#b5de2b\"],[1.0,\"#fde725\"]]},\"colorway\":[\"#1F77B4\",\"#FF7F0E\",\"#2CA02C\",\"#D62728\",\"#9467BD\",\"#8C564B\",\"#E377C2\",\"#7F7F7F\",\"#BCBD22\",\"#17BECF\"],\"font\":{\"color\":\"rgb(36,36,36)\"},\"geo\":{\"bgcolor\":\"white\",\"lakecolor\":\"white\",\"landcolor\":\"white\",\"showlakes\":true,\"showland\":true,\"subunitcolor\":\"white\"},\"hoverlabel\":{\"align\":\"left\"},\"hovermode\":\"closest\",\"mapbox\":{\"style\":\"light\"},\"paper_bgcolor\":\"white\",\"plot_bgcolor\":\"white\",\"polar\":{\"angularaxis\":{\"gridcolor\":\"rgb(232,232,232)\",\"linecolor\":\"rgb(36,36,36)\",\"showgrid\":false,\"showline\":true,\"ticks\":\"outside\"},\"bgcolor\":\"white\",\"radialaxis\":{\"gridcolor\":\"rgb(232,232,232)\",\"linecolor\":\"rgb(36,36,36)\",\"showgrid\":false,\"showline\":true,\"ticks\":\"outside\"}},\"scene\":{\"xaxis\":{\"backgroundcolor\":\"white\",\"gridcolor\":\"rgb(232,232,232)\",\"gridwidth\":2,\"linecolor\":\"rgb(36,36,36)\",\"showbackground\":true,\"showgrid\":false,\"showline\":true,\"ticks\":\"outside\",\"zeroline\":false,\"zerolinecolor\":\"rgb(36,36,36)\"},\"yaxis\":{\"backgroundcolor\":\"white\",\"gridcolor\":\"rgb(232,232,232)\",\"gridwidth\":2,\"linecolor\":\"rgb(36,36,36)\",\"showbackground\":true,\"showgrid\":false,\"showline\":true,\"ticks\":\"outside\",\"zeroline\":false,\"zerolinecolor\":\"rgb(36,36,36)\"},\"zaxis\":{\"backgroundcolor\":\"white\",\"gridcolor\":\"rgb(232,232,232)\",\"gridwidth\":2,\"linecolor\":\"rgb(36,36,36)\",\"showbackground\":true,\"showgrid\":false,\"showline\":true,\"ticks\":\"outside\",\"zeroline\":false,\"zerolinecolor\":\"rgb(36,36,36)\"}},\"shapedefaults\":{\"fillcolor\":\"black\",\"line\":{\"width\":0},\"opacity\":0.3},\"ternary\":{\"aaxis\":{\"gridcolor\":\"rgb(232,232,232)\",\"linecolor\":\"rgb(36,36,36)\",\"showgrid\":false,\"showline\":true,\"ticks\":\"outside\"},\"baxis\":{\"gridcolor\":\"rgb(232,232,232)\",\"linecolor\":\"rgb(36,36,36)\",\"showgrid\":false,\"showline\":true,\"ticks\":\"outside\"},\"bgcolor\":\"white\",\"caxis\":{\"gridcolor\":\"rgb(232,232,232)\",\"linecolor\":\"rgb(36,36,36)\",\"showgrid\":false,\"showline\":true,\"ticks\":\"outside\"}},\"title\":{\"x\":0.05},\"xaxis\":{\"automargin\":true,\"gridcolor\":\"rgb(232,232,232)\",\"linecolor\":\"rgb(36,36,36)\",\"showgrid\":false,\"showline\":true,\"ticks\":\"outside\",\"title\":{\"standoff\":15},\"zeroline\":false,\"zerolinecolor\":\"rgb(36,36,36)\"},\"yaxis\":{\"automargin\":true,\"gridcolor\":\"rgb(232,232,232)\",\"linecolor\":\"rgb(36,36,36)\",\"showgrid\":false,\"showline\":true,\"ticks\":\"outside\",\"title\":{\"standoff\":15},\"zeroline\":false,\"zerolinecolor\":\"rgb(36,36,36)\"}}},\"xaxis\":{\"anchor\":\"y\",\"domain\":[0.0,0.3133333333333333],\"title\":{\"text\":\"\"},\"showgrid\":true,\"gridwidth\":1,\"gridcolor\":\"#F0F0F0\",\"linecolor\":\"darkgrey\",\"ticks\":\"\",\"range\":[0,0.29]},\"yaxis\":{\"anchor\":\"x\",\"domain\":[0.0,1.0],\"title\":{\"text\":\"<B>1-recall@3\",\"standoff\":5},\"showgrid\":true,\"gridwidth\":1,\"gridcolor\":\"#F0F0F0\",\"linecolor\":\"darkgrey\",\"ticks\":\"\",\"range\":[0.5,1]},\"xaxis2\":{\"anchor\":\"y2\",\"domain\":[0.34333333333333327,0.6566666666666665],\"matches\":\"x\",\"title\":{\"text\":\"<B>search time (ms/query)\",\"standoff\":10},\"showgrid\":true,\"gridwidth\":1,\"gridcolor\":\"#F0F0F0\",\"linecolor\":\"darkgrey\",\"ticks\":\"\",\"range\":[0,0.29]},\"yaxis2\":{\"anchor\":\"x2\",\"domain\":[0.0,1.0],\"matches\":\"y\",\"showticklabels\":false,\"showgrid\":true,\"gridwidth\":1,\"gridcolor\":\"#F0F0F0\",\"linecolor\":\"darkgrey\",\"ticks\":\"\",\"range\":[0.5,1]},\"xaxis3\":{\"anchor\":\"y3\",\"domain\":[0.6866666666666665,0.9999999999999998],\"matches\":\"x\",\"title\":{\"text\":\"\"},\"showgrid\":true,\"gridwidth\":1,\"gridcolor\":\"#F0F0F0\",\"linecolor\":\"darkgrey\",\"ticks\":\"\",\"range\":[0,0.29]},\"yaxis3\":{\"anchor\":\"x3\",\"domain\":[0.0,1.0],\"matches\":\"y\",\"showticklabels\":false,\"showgrid\":true,\"gridwidth\":1,\"gridcolor\":\"#F0F0F0\",\"linecolor\":\"darkgrey\",\"ticks\":\"\",\"range\":[0.5,1]},\"annotations\":[{\"font\":{},\"showarrow\":false,\"text\":\"nprobe=128\",\"x\":0.15666666666666665,\"xanchor\":\"center\",\"xref\":\"paper\",\"y\":1.0,\"yanchor\":\"bottom\",\"yref\":\"paper\"},{\"font\":{},\"showarrow\":false,\"text\":\"nprobe=256\",\"x\":0.4999999999999999,\"xanchor\":\"center\",\"xref\":\"paper\",\"y\":1.0,\"yanchor\":\"bottom\",\"yref\":\"paper\"},{\"font\":{},\"showarrow\":false,\"text\":\"nprobe=512\",\"x\":0.8433333333333332,\"xanchor\":\"center\",\"xref\":\"paper\",\"y\":1.0,\"yanchor\":\"bottom\",\"yref\":\"paper\"}],\"legend\":{\"title\":{\"text\":\"\"},\"tracegroupgap\":0,\"itemsizing\":\"constant\",\"borderwidth\":1,\"yanchor\":\"top\",\"y\":0.39,\"xanchor\":\"left\",\"x\":0.7},\"margin\":{\"t\":60},\"height\":380,\"width\":720,\"title\":{\"font\":{\"family\":\"Arial\",\"color\":\"RebeccaPurple\"},\"text\":\"<B>Bubble Size corresponds to Index Size (MB)\",\"yanchor\":\"top\",\"y\":0.98,\"xanchor\":\"center\",\"x\":0.5}},                        {\"responsive\": true}                    ).then(function(){\n",
       "                            \n",
       "var gd = document.getElementById('cb80a05a-0e14-4b51-956e-821e4e9db242');\n",
       "var x = new MutationObserver(function (mutations, observer) {{\n",
       "        var display = window.getComputedStyle(gd).display;\n",
       "        if (!display || display === 'none') {{\n",
       "            console.log([gd, 'removed!']);\n",
       "            Plotly.purge(gd);\n",
       "            observer.disconnect();\n",
       "        }}\n",
       "}});\n",
       "\n",
       "// Listen for the removal of the full notebook cells\n",
       "var notebookContainer = gd.closest('#notebook-container');\n",
       "if (notebookContainer) {{\n",
       "    x.observe(notebookContainer, {childList: true});\n",
       "}}\n",
       "\n",
       "// Listen for the clearing of the current output cell\n",
       "var outputEl = gd.closest('.output');\n",
       "if (outputEl) {{\n",
       "    x.observe(outputEl, {childList: true});\n",
       "}}\n",
       "\n",
       "                        })                };                });            </script>        </div>"
      ]
     },
     "metadata": {},
     "output_type": "display_data"
    }
   ],
   "source": [
    "fig = px.scatter(df3, x=\"search_time\", y=\"recall@3\", color=\"index\", height=380, width=720, size=\"index_size\", size_max=30, \n",
    "                 template=\"simple_white\", color_discrete_sequence=colors_gorb, #color_discrete_sequence=px.colors.qualitative.D3,  \n",
    "                 facet_col=\"nprobe\", facet_col_spacing=0.03     \n",
    "                )\n",
    "fig.update_xaxes(showgrid=True, gridwidth=1, gridcolor='#F0F0F0', linecolor='darkgrey', ticks=\"\", range=[0, 0.29])\n",
    "fig.update_yaxes(showgrid=True, gridwidth=1, gridcolor='#F0F0F0', linecolor='darkgrey', ticks=\"\", range=[0.5, 1])\n",
    "fig.update_xaxes(title_text=\"\")\n",
    "fig.update_xaxes(row=1, col=2, title_standoff=10, title_text=\"<B>search time (ms/query)\")             # title_font_family=\"Arial\"\n",
    "fig.update_yaxes(col=1, row=1, title_standoff=5, title_text=\"<B>1-recall@3\")\n",
    "fig.update_layout(legend=dict(borderwidth=1, yanchor=\"top\", y=0.39, xanchor=\"left\", x=0.7, title=\"\")) # traceorder=\"reversed\", \n",
    "fig.update_layout(title=dict(text=\"<B>Bubble Size corresponds to Index Size (MB)\", yanchor=\"top\", y=0.98, xanchor=\"center\", x=0.5, \n",
    "                             font_family=\"Arial\", font_color=\"RebeccaPurple\"))\n",
    "fig.show()\n",
    "fig.write_html(\"nprobe_x3_indexsize.html\")"
   ]
  },
  {
   "cell_type": "code",
   "execution_count": 70,
   "id": "0949d43f",
   "metadata": {
    "execution": {
     "iopub.execute_input": "2022-08-18T15:45:31.242552Z",
     "iopub.status.busy": "2022-08-18T15:45:31.241901Z",
     "iopub.status.idle": "2022-08-18T15:45:31.333998Z",
     "shell.execute_reply": "2022-08-18T15:45:31.333086Z"
    },
    "papermill": {
     "duration": 0.69128,
     "end_time": "2022-08-18T15:45:31.336092",
     "exception": false,
     "start_time": "2022-08-18T15:45:30.644812",
     "status": "completed"
    },
    "tags": []
   },
   "outputs": [
    {
     "data": {
      "text/html": [
       "<div>                            <div id=\"8d9fbb1b-e483-4797-9eaa-61c0ff4a2d97\" class=\"plotly-graph-div\" style=\"height:400px; width:500px;\"></div>            <script type=\"text/javascript\">                require([\"plotly\"], function(Plotly) {                    window.PLOTLYENV=window.PLOTLYENV || {};                                    if (document.getElementById(\"8d9fbb1b-e483-4797-9eaa-61c0ff4a2d97\")) {                    Plotly.newPlot(                        \"8d9fbb1b-e483-4797-9eaa-61c0ff4a2d97\",                        [{\"alignmentgroup\":\"True\",\"hovertemplate\":\"index=%{x}<br>index_size=%{y}<extra></extra>\",\"legendgroup\":\"IVF65536_HNSW32,PQ32\",\"marker\":{\"color\":\"#2CA02C\",\"pattern\":{\"shape\":\"\"},\"opacity\":0.8},\"name\":\"IVF65536_HNSW32,PQ32\",\"offsetgroup\":\"IVF65536_HNSW32,PQ32\",\"orientation\":\"v\",\"showlegend\":true,\"textposition\":\"outside\",\"x\":[\"IVF65536_HNSW32,PQ32\"],\"xaxis\":\"x\",\"y\":[154.209972],\"yaxis\":\"y\",\"type\":\"bar\",\"textfont\":{\"color\":\"blue\",\"size\":14},\"texttemplate\":\"%{value:,d} MB\"},{\"alignmentgroup\":\"True\",\"hovertemplate\":\"index=%{x}<br>index_size=%{y}<extra></extra>\",\"legendgroup\":\"IVF65536_HNSW32,Flat\",\"marker\":{\"color\":\"#FF7F0E\",\"pattern\":{\"shape\":\"\"},\"opacity\":0.8},\"name\":\"IVF65536_HNSW32,Flat\",\"offsetgroup\":\"IVF65536_HNSW32,Flat\",\"orientation\":\"v\",\"showlegend\":true,\"textposition\":\"outside\",\"x\":[\"IVF65536_HNSW32,Flat\"],\"xaxis\":\"x\",\"y\":[1594.078859],\"yaxis\":\"y\",\"type\":\"bar\",\"textfont\":{\"color\":\"blue\",\"size\":14},\"texttemplate\":\"%{value:,d} MB\"},{\"alignmentgroup\":\"True\",\"hovertemplate\":\"index=%{x}<br>index_size=%{y}<extra></extra>\",\"legendgroup\":\"HNSW32,Flat\",\"marker\":{\"color\":\"#D62728\",\"pattern\":{\"shape\":\"\"},\"opacity\":0.8},\"name\":\"HNSW32,Flat\",\"offsetgroup\":\"HNSW32,Flat\",\"orientation\":\"v\",\"showlegend\":true,\"textposition\":\"outside\",\"x\":[\"HNSW32,Flat\"],\"xaxis\":\"x\",\"y\":[2352.4245459999997],\"yaxis\":\"y\",\"type\":\"bar\",\"textfont\":{\"color\":\"blue\",\"size\":14},\"texttemplate\":\"%{value:,d} MB\"},{\"alignmentgroup\":\"True\",\"hovertemplate\":\"index=%{x}<br>index_size=%{y}<extra></extra>\",\"legendgroup\":\"HNSW32_PQ32\",\"marker\":{\"color\":\"#1F77B4\",\"pattern\":{\"shape\":\"\"},\"opacity\":0.8},\"name\":\"HNSW32_PQ32\",\"offsetgroup\":\"HNSW32_PQ32\",\"orientation\":\"v\",\"showlegend\":true,\"textposition\":\"outside\",\"x\":[\"HNSW32_PQ32\"],\"xaxis\":\"x\",\"y\":[912.555659],\"yaxis\":\"y\",\"type\":\"bar\",\"textfont\":{\"color\":\"blue\",\"size\":14},\"texttemplate\":\"%{value:,d} MB\"}],                        {\"template\":{\"data\":{\"barpolar\":[{\"marker\":{\"line\":{\"color\":\"white\",\"width\":0.5},\"pattern\":{\"fillmode\":\"overlay\",\"size\":10,\"solidity\":0.2}},\"type\":\"barpolar\"}],\"bar\":[{\"error_x\":{\"color\":\"rgb(36,36,36)\"},\"error_y\":{\"color\":\"rgb(36,36,36)\"},\"marker\":{\"line\":{\"color\":\"white\",\"width\":0.5},\"pattern\":{\"fillmode\":\"overlay\",\"size\":10,\"solidity\":0.2}},\"type\":\"bar\"}],\"carpet\":[{\"aaxis\":{\"endlinecolor\":\"rgb(36,36,36)\",\"gridcolor\":\"white\",\"linecolor\":\"white\",\"minorgridcolor\":\"white\",\"startlinecolor\":\"rgb(36,36,36)\"},\"baxis\":{\"endlinecolor\":\"rgb(36,36,36)\",\"gridcolor\":\"white\",\"linecolor\":\"white\",\"minorgridcolor\":\"white\",\"startlinecolor\":\"rgb(36,36,36)\"},\"type\":\"carpet\"}],\"choropleth\":[{\"colorbar\":{\"outlinewidth\":1,\"tickcolor\":\"rgb(36,36,36)\",\"ticks\":\"outside\"},\"type\":\"choropleth\"}],\"contourcarpet\":[{\"colorbar\":{\"outlinewidth\":1,\"tickcolor\":\"rgb(36,36,36)\",\"ticks\":\"outside\"},\"type\":\"contourcarpet\"}],\"contour\":[{\"colorbar\":{\"outlinewidth\":1,\"tickcolor\":\"rgb(36,36,36)\",\"ticks\":\"outside\"},\"colorscale\":[[0.0,\"#440154\"],[0.1111111111111111,\"#482878\"],[0.2222222222222222,\"#3e4989\"],[0.3333333333333333,\"#31688e\"],[0.4444444444444444,\"#26828e\"],[0.5555555555555556,\"#1f9e89\"],[0.6666666666666666,\"#35b779\"],[0.7777777777777778,\"#6ece58\"],[0.8888888888888888,\"#b5de2b\"],[1.0,\"#fde725\"]],\"type\":\"contour\"}],\"heatmapgl\":[{\"colorbar\":{\"outlinewidth\":1,\"tickcolor\":\"rgb(36,36,36)\",\"ticks\":\"outside\"},\"colorscale\":[[0.0,\"#440154\"],[0.1111111111111111,\"#482878\"],[0.2222222222222222,\"#3e4989\"],[0.3333333333333333,\"#31688e\"],[0.4444444444444444,\"#26828e\"],[0.5555555555555556,\"#1f9e89\"],[0.6666666666666666,\"#35b779\"],[0.7777777777777778,\"#6ece58\"],[0.8888888888888888,\"#b5de2b\"],[1.0,\"#fde725\"]],\"type\":\"heatmapgl\"}],\"heatmap\":[{\"colorbar\":{\"outlinewidth\":1,\"tickcolor\":\"rgb(36,36,36)\",\"ticks\":\"outside\"},\"colorscale\":[[0.0,\"#440154\"],[0.1111111111111111,\"#482878\"],[0.2222222222222222,\"#3e4989\"],[0.3333333333333333,\"#31688e\"],[0.4444444444444444,\"#26828e\"],[0.5555555555555556,\"#1f9e89\"],[0.6666666666666666,\"#35b779\"],[0.7777777777777778,\"#6ece58\"],[0.8888888888888888,\"#b5de2b\"],[1.0,\"#fde725\"]],\"type\":\"heatmap\"}],\"histogram2dcontour\":[{\"colorbar\":{\"outlinewidth\":1,\"tickcolor\":\"rgb(36,36,36)\",\"ticks\":\"outside\"},\"colorscale\":[[0.0,\"#440154\"],[0.1111111111111111,\"#482878\"],[0.2222222222222222,\"#3e4989\"],[0.3333333333333333,\"#31688e\"],[0.4444444444444444,\"#26828e\"],[0.5555555555555556,\"#1f9e89\"],[0.6666666666666666,\"#35b779\"],[0.7777777777777778,\"#6ece58\"],[0.8888888888888888,\"#b5de2b\"],[1.0,\"#fde725\"]],\"type\":\"histogram2dcontour\"}],\"histogram2d\":[{\"colorbar\":{\"outlinewidth\":1,\"tickcolor\":\"rgb(36,36,36)\",\"ticks\":\"outside\"},\"colorscale\":[[0.0,\"#440154\"],[0.1111111111111111,\"#482878\"],[0.2222222222222222,\"#3e4989\"],[0.3333333333333333,\"#31688e\"],[0.4444444444444444,\"#26828e\"],[0.5555555555555556,\"#1f9e89\"],[0.6666666666666666,\"#35b779\"],[0.7777777777777778,\"#6ece58\"],[0.8888888888888888,\"#b5de2b\"],[1.0,\"#fde725\"]],\"type\":\"histogram2d\"}],\"histogram\":[{\"marker\":{\"line\":{\"color\":\"white\",\"width\":0.6}},\"type\":\"histogram\"}],\"mesh3d\":[{\"colorbar\":{\"outlinewidth\":1,\"tickcolor\":\"rgb(36,36,36)\",\"ticks\":\"outside\"},\"type\":\"mesh3d\"}],\"parcoords\":[{\"line\":{\"colorbar\":{\"outlinewidth\":1,\"tickcolor\":\"rgb(36,36,36)\",\"ticks\":\"outside\"}},\"type\":\"parcoords\"}],\"pie\":[{\"automargin\":true,\"type\":\"pie\"}],\"scatter3d\":[{\"line\":{\"colorbar\":{\"outlinewidth\":1,\"tickcolor\":\"rgb(36,36,36)\",\"ticks\":\"outside\"}},\"marker\":{\"colorbar\":{\"outlinewidth\":1,\"tickcolor\":\"rgb(36,36,36)\",\"ticks\":\"outside\"}},\"type\":\"scatter3d\"}],\"scattercarpet\":[{\"marker\":{\"colorbar\":{\"outlinewidth\":1,\"tickcolor\":\"rgb(36,36,36)\",\"ticks\":\"outside\"}},\"type\":\"scattercarpet\"}],\"scattergeo\":[{\"marker\":{\"colorbar\":{\"outlinewidth\":1,\"tickcolor\":\"rgb(36,36,36)\",\"ticks\":\"outside\"}},\"type\":\"scattergeo\"}],\"scattergl\":[{\"marker\":{\"colorbar\":{\"outlinewidth\":1,\"tickcolor\":\"rgb(36,36,36)\",\"ticks\":\"outside\"}},\"type\":\"scattergl\"}],\"scattermapbox\":[{\"marker\":{\"colorbar\":{\"outlinewidth\":1,\"tickcolor\":\"rgb(36,36,36)\",\"ticks\":\"outside\"}},\"type\":\"scattermapbox\"}],\"scatterpolargl\":[{\"marker\":{\"colorbar\":{\"outlinewidth\":1,\"tickcolor\":\"rgb(36,36,36)\",\"ticks\":\"outside\"}},\"type\":\"scatterpolargl\"}],\"scatterpolar\":[{\"marker\":{\"colorbar\":{\"outlinewidth\":1,\"tickcolor\":\"rgb(36,36,36)\",\"ticks\":\"outside\"}},\"type\":\"scatterpolar\"}],\"scatter\":[{\"fillpattern\":{\"fillmode\":\"overlay\",\"size\":10,\"solidity\":0.2},\"type\":\"scatter\"}],\"scatterternary\":[{\"marker\":{\"colorbar\":{\"outlinewidth\":1,\"tickcolor\":\"rgb(36,36,36)\",\"ticks\":\"outside\"}},\"type\":\"scatterternary\"}],\"surface\":[{\"colorbar\":{\"outlinewidth\":1,\"tickcolor\":\"rgb(36,36,36)\",\"ticks\":\"outside\"},\"colorscale\":[[0.0,\"#440154\"],[0.1111111111111111,\"#482878\"],[0.2222222222222222,\"#3e4989\"],[0.3333333333333333,\"#31688e\"],[0.4444444444444444,\"#26828e\"],[0.5555555555555556,\"#1f9e89\"],[0.6666666666666666,\"#35b779\"],[0.7777777777777778,\"#6ece58\"],[0.8888888888888888,\"#b5de2b\"],[1.0,\"#fde725\"]],\"type\":\"surface\"}],\"table\":[{\"cells\":{\"fill\":{\"color\":\"rgb(237,237,237)\"},\"line\":{\"color\":\"white\"}},\"header\":{\"fill\":{\"color\":\"rgb(217,217,217)\"},\"line\":{\"color\":\"white\"}},\"type\":\"table\"}]},\"layout\":{\"annotationdefaults\":{\"arrowhead\":0,\"arrowwidth\":1},\"autotypenumbers\":\"strict\",\"coloraxis\":{\"colorbar\":{\"outlinewidth\":1,\"tickcolor\":\"rgb(36,36,36)\",\"ticks\":\"outside\"}},\"colorscale\":{\"diverging\":[[0.0,\"rgb(103,0,31)\"],[0.1,\"rgb(178,24,43)\"],[0.2,\"rgb(214,96,77)\"],[0.3,\"rgb(244,165,130)\"],[0.4,\"rgb(253,219,199)\"],[0.5,\"rgb(247,247,247)\"],[0.6,\"rgb(209,229,240)\"],[0.7,\"rgb(146,197,222)\"],[0.8,\"rgb(67,147,195)\"],[0.9,\"rgb(33,102,172)\"],[1.0,\"rgb(5,48,97)\"]],\"sequential\":[[0.0,\"#440154\"],[0.1111111111111111,\"#482878\"],[0.2222222222222222,\"#3e4989\"],[0.3333333333333333,\"#31688e\"],[0.4444444444444444,\"#26828e\"],[0.5555555555555556,\"#1f9e89\"],[0.6666666666666666,\"#35b779\"],[0.7777777777777778,\"#6ece58\"],[0.8888888888888888,\"#b5de2b\"],[1.0,\"#fde725\"]],\"sequentialminus\":[[0.0,\"#440154\"],[0.1111111111111111,\"#482878\"],[0.2222222222222222,\"#3e4989\"],[0.3333333333333333,\"#31688e\"],[0.4444444444444444,\"#26828e\"],[0.5555555555555556,\"#1f9e89\"],[0.6666666666666666,\"#35b779\"],[0.7777777777777778,\"#6ece58\"],[0.8888888888888888,\"#b5de2b\"],[1.0,\"#fde725\"]]},\"colorway\":[\"#1F77B4\",\"#FF7F0E\",\"#2CA02C\",\"#D62728\",\"#9467BD\",\"#8C564B\",\"#E377C2\",\"#7F7F7F\",\"#BCBD22\",\"#17BECF\"],\"font\":{\"color\":\"rgb(36,36,36)\"},\"geo\":{\"bgcolor\":\"white\",\"lakecolor\":\"white\",\"landcolor\":\"white\",\"showlakes\":true,\"showland\":true,\"subunitcolor\":\"white\"},\"hoverlabel\":{\"align\":\"left\"},\"hovermode\":\"closest\",\"mapbox\":{\"style\":\"light\"},\"paper_bgcolor\":\"white\",\"plot_bgcolor\":\"white\",\"polar\":{\"angularaxis\":{\"gridcolor\":\"rgb(232,232,232)\",\"linecolor\":\"rgb(36,36,36)\",\"showgrid\":false,\"showline\":true,\"ticks\":\"outside\"},\"bgcolor\":\"white\",\"radialaxis\":{\"gridcolor\":\"rgb(232,232,232)\",\"linecolor\":\"rgb(36,36,36)\",\"showgrid\":false,\"showline\":true,\"ticks\":\"outside\"}},\"scene\":{\"xaxis\":{\"backgroundcolor\":\"white\",\"gridcolor\":\"rgb(232,232,232)\",\"gridwidth\":2,\"linecolor\":\"rgb(36,36,36)\",\"showbackground\":true,\"showgrid\":false,\"showline\":true,\"ticks\":\"outside\",\"zeroline\":false,\"zerolinecolor\":\"rgb(36,36,36)\"},\"yaxis\":{\"backgroundcolor\":\"white\",\"gridcolor\":\"rgb(232,232,232)\",\"gridwidth\":2,\"linecolor\":\"rgb(36,36,36)\",\"showbackground\":true,\"showgrid\":false,\"showline\":true,\"ticks\":\"outside\",\"zeroline\":false,\"zerolinecolor\":\"rgb(36,36,36)\"},\"zaxis\":{\"backgroundcolor\":\"white\",\"gridcolor\":\"rgb(232,232,232)\",\"gridwidth\":2,\"linecolor\":\"rgb(36,36,36)\",\"showbackground\":true,\"showgrid\":false,\"showline\":true,\"ticks\":\"outside\",\"zeroline\":false,\"zerolinecolor\":\"rgb(36,36,36)\"}},\"shapedefaults\":{\"fillcolor\":\"black\",\"line\":{\"width\":0},\"opacity\":0.3},\"ternary\":{\"aaxis\":{\"gridcolor\":\"rgb(232,232,232)\",\"linecolor\":\"rgb(36,36,36)\",\"showgrid\":false,\"showline\":true,\"ticks\":\"outside\"},\"baxis\":{\"gridcolor\":\"rgb(232,232,232)\",\"linecolor\":\"rgb(36,36,36)\",\"showgrid\":false,\"showline\":true,\"ticks\":\"outside\"},\"bgcolor\":\"white\",\"caxis\":{\"gridcolor\":\"rgb(232,232,232)\",\"linecolor\":\"rgb(36,36,36)\",\"showgrid\":false,\"showline\":true,\"ticks\":\"outside\"}},\"title\":{\"x\":0.05},\"xaxis\":{\"automargin\":true,\"gridcolor\":\"rgb(232,232,232)\",\"linecolor\":\"rgb(36,36,36)\",\"showgrid\":false,\"showline\":true,\"ticks\":\"outside\",\"title\":{\"standoff\":15},\"zeroline\":false,\"zerolinecolor\":\"rgb(36,36,36)\"},\"yaxis\":{\"automargin\":true,\"gridcolor\":\"rgb(232,232,232)\",\"linecolor\":\"rgb(36,36,36)\",\"showgrid\":false,\"showline\":true,\"ticks\":\"outside\",\"title\":{\"standoff\":15},\"zeroline\":false,\"zerolinecolor\":\"rgb(36,36,36)\"}}},\"xaxis\":{\"anchor\":\"y\",\"domain\":[0.0,1.0],\"title\":{\"text\":\"\"},\"categoryorder\":\"array\",\"categoryarray\":[\"IVF65536_HNSW32,PQ32\",\"IVF65536_HNSW32,Flat\",\"HNSW32,Flat\",\"HNSW32_PQ32\"],\"linecolor\":\"darkgrey\",\"ticks\":\"\",\"tickangle\":20},\"yaxis\":{\"anchor\":\"x\",\"domain\":[0.0,1.0],\"title\":{\"text\":\"index size (MB)\"},\"range\":[0,2600],\"linecolor\":\"darkgrey\"},\"legend\":{\"title\":{\"text\":\"index\"},\"tracegroupgap\":0},\"margin\":{\"t\":60},\"barmode\":\"relative\",\"height\":400,\"width\":500,\"showlegend\":false},                        {\"responsive\": true}                    ).then(function(){\n",
       "                            \n",
       "var gd = document.getElementById('8d9fbb1b-e483-4797-9eaa-61c0ff4a2d97');\n",
       "var x = new MutationObserver(function (mutations, observer) {{\n",
       "        var display = window.getComputedStyle(gd).display;\n",
       "        if (!display || display === 'none') {{\n",
       "            console.log([gd, 'removed!']);\n",
       "            Plotly.purge(gd);\n",
       "            observer.disconnect();\n",
       "        }}\n",
       "}});\n",
       "\n",
       "// Listen for the removal of the full notebook cells\n",
       "var notebookContainer = gd.closest('#notebook-container');\n",
       "if (notebookContainer) {{\n",
       "    x.observe(notebookContainer, {childList: true});\n",
       "}}\n",
       "\n",
       "// Listen for the clearing of the current output cell\n",
       "var outputEl = gd.closest('.output');\n",
       "if (outputEl) {{\n",
       "    x.observe(outputEl, {childList: true});\n",
       "}}\n",
       "\n",
       "                        })                };                });            </script>        </div>"
      ]
     },
     "metadata": {},
     "output_type": "display_data"
    }
   ],
   "source": [
    "fig = px.bar(df128, x=\"index\", y=\"index_size\", color=\"index\", height=400, width=500, #text_auto=',d',\n",
    "             template=\"simple_white\", \n",
    "#             color_discrete_sequence=px.colors.qualitative.Set1,  # To override the colors from template\n",
    "            )\n",
    "for i, fdata in enumerate(fig.data):    \n",
    "    fdata.marker.color = colors_gorb[i]   \n",
    "    fdata.marker.opacity = 0.8\n",
    "\n",
    "fig.update_traces(textfont_size=14, textposition=\"outside\", textfont_color=\"blue\", texttemplate=\"%{value:,d} MB\"  )\n",
    "fig.update_layout(xaxis_title_text=\"\", yaxis_title_text=\"index size (MB)\", yaxis_range=[0, 2600], showlegend=False)\n",
    "fig.update_xaxes(linecolor='darkgrey', ticks=\"\", tickangle=20)\n",
    "fig.update_yaxes(linecolor='darkgrey')\n",
    "fig.show()\n",
    "fig.write_html(\"nprobe128_index_memory.html\")"
   ]
  }
 ],
 "metadata": {
  "kernelspec": {
   "display_name": "Python 3",
   "language": "python",
   "name": "python3"
  },
  "language_info": {
   "codemirror_mode": {
    "name": "ipython",
    "version": 3
   },
   "file_extension": ".py",
   "mimetype": "text/x-python",
   "name": "python",
   "nbconvert_exporter": "python",
   "pygments_lexer": "ipython3",
   "version": "3.7.12"
  },
  "papermill": {
   "default_parameters": {},
   "duration": 13995.213201,
   "end_time": "2022-08-18T15:45:33.453488",
   "environment_variables": {},
   "exception": null,
   "input_path": "__notebook__.ipynb",
   "output_path": "__notebook__.ipynb",
   "parameters": {},
   "start_time": "2022-08-18T11:52:18.240287",
   "version": "2.3.4"
  }
 },
 "nbformat": 4,
 "nbformat_minor": 5
}
