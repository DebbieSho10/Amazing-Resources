{
 "cells": [
  {
   "cell_type": "markdown",
   "id": "c7c94747",
   "metadata": {
    "papermill": {
     "duration": 0.019536,
     "end_time": "2022-08-24T02:57:12.319320",
     "exception": false,
     "start_time": "2022-08-24T02:57:12.299784",
     "status": "completed"
    },
    "tags": []
   },
   "source": [
    "# [IVFPQ + HNSW for Billion-scale Similarity Search](https://medium.com/@peggy1502/ivfpq-hnsw-for-billion-scale-similarity-search-89ff2f89d90e)\n",
    "\n",
    "## *To read the full article on **the best indexing approach for billion-sized vector datasets**, click the link on the title above.*\n",
    "\n",
    "#### This notebook generates some of the plots shown in the article mentioned above.\n",
    "\n",
    "- **Running this notebook may take several hours on a single GPU machine.**\n",
    "- **You may get slightly different values running the same codes in this notebook given the stochastic nature of the algorithm.**\n",
    "- **If you're not able to view the interactive plots in this notebook, copy the URL of this notebook and open it in [nbviewer](https://nbviewer.org/).**"
   ]
  },
  {
   "cell_type": "code",
   "execution_count": 1,
   "id": "bea28007",
   "metadata": {
    "_cell_guid": "b1076dfc-b9ad-4769-8c92-a6c4dae69d19",
    "_kg_hide-input": true,
    "_kg_hide-output": true,
    "_uuid": "8f2839f25d086af736a60e9eeb907d3b93b6e0e5",
    "execution": {
     "iopub.execute_input": "2022-08-24T02:57:12.348375Z",
     "iopub.status.busy": "2022-08-24T02:57:12.347800Z",
     "iopub.status.idle": "2022-08-24T03:23:37.814508Z",
     "shell.execute_reply": "2022-08-24T03:23:37.813050Z"
    },
    "papermill": {
     "duration": 1585.483884,
     "end_time": "2022-08-24T03:23:37.816937",
     "exception": false,
     "start_time": "2022-08-24T02:57:12.333053",
     "status": "completed"
    },
    "tags": []
   },
   "outputs": [
    {
     "name": "stdout",
     "output_type": "stream",
     "text": [
      "Collecting package metadata (current_repodata.json): - \b\b\\ \b\b| \b\b/ \b\b- \b\b\\ \b\b| \b\b/ \b\b- \b\b\\ \b\b| \b\b/ \b\b- \b\b\\ \b\b| \b\b/ \b\b- \b\b\\ \b\b| \b\b/ \b\b- \b\b\\ \b\b| \b\b/ \b\b- \b\b\\ \b\b| \b\b/ \b\b- \b\b\\ \b\b| \b\b/ \b\b- \b\b\\ \b\b| \b\b/ \b\b- \b\b\\ \b\b| \b\b/ \b\b- \b\b\\ \b\b| \b\b/ \b\b- \b\b\\ \b\b| \b\b/ \b\b- \b\b\\ \b\b| \b\b/ \b\b- \b\b\\ \b\b| \b\b/ \b\b- \b\b\\ \b\b| \b\b/ \b\b- \b\b\\ \b\b| \b\b/ \b\b- \b\b\\ \b\b| \b\b/ \b\b- \b\b\\ \b\b| \b\b/ \b\b- \b\b\\ \b\b| \b\b/ \b\b- \b\b\\ \b\b| \b\b/ \b\b- \b\b\\ \b\b| \b\b/ \b\b- \b\b\\ \b\b| \b\b/ \b\b- \b\b\\ \b\b| \b\b/ \b\b- \b\b\\ \b\b| \b\b/ \b\b- \b\b\\ \b\b| \b\b/ \b\b- \b\b\\ \b\b| \b\b/ \b\b- \b\b\\ \b\b| \b\b/ \b\b- \b\b\\ \b\b| \b\b/ \b\b- \b\b\\ \b\b| \b\b/ \b\b- \b\b\\ \b\b| \b\b/ \b\b- \b\b\\ \b\b| \b\b/ \b\b- \b\b\\ \b\b| \b\b/ \b\b- \b\b\\ \b\b| \b\b/ \b\b- \b\b\\ \b\b| \b\b/ \b\b- \b\b\\ \b\b| \b\b/ \b\b- \b\b\\ \b\b| \b\b/ \b\b- \b\b\\ \b\b| \b\b/ \b\b- \b\b\\ \b\b| \b\b/ \b\b- \b\b\\ \b\b| \b\b/ \b\b- \b\b\\ \b\b| \b\b/ \b\b- \b\b\\ \b\b| \b\b/ \b\b- \b\b\\ \b\b| \b\b/ \b\b- \b\b\\ \b\b| \b\b/ \b\b- \b\b\\ \b\b| \b\b/ \b\b- \b\b\\ \b\b| \b\b/ \b\b- \b\b\\ \b\b| \b\b/ \b\b- \b\b\\ \b\b| \b\b/ \b\b- \b\b\\ \b\b| \b\b/ \b\b- \b\b\\ \b\b| \b\b/ \b\b- \b\b\\ \b\b| \b\b/ \b\b- \b\b\\ \b\b| \b\b/ \b\b- \b\b\\ \b\b| \b\b/ \b\b- \b\b\\ \b\b| \b\b/ \b\b- \b\b\\ \b\b| \b\b/ \b\b- \b\b\\ \b\b| \b\b/ \b\b- \b\b\\ \b\b| \b\b/ \b\b- \b\b\\ \b\b| \b\b/ \b\bdone\r\n",
      "Solving environment: \\ \b\b| \b\b/ \b\b- \b\b\\ \b\b| \b\b/ \b\b- \b\b\\ \b\b| \b\b/ \b\b- \b\b\\ \b\b| \b\b/ \b\b- \b\b\\ \b\b| \b\b/ \b\b- \b\b\\ \b\b| \b\b/ \b\b- \b\b\\ \b\b| \b\b/ \b\b- \b\b\\ \b\b| \b\b/ \b\b- \b\b\\ \b\b| \b\b/ \b\b- \b\b\\ \b\b| \b\b/ \b\b- \b\b\\ \b\b| \b\b/ \b\b- \b\b\\ \b\b| \b\b/ \b\b- \b\b\\ \b\b| \b\b/ \b\b- \b\b\\ \b\b| \b\b/ \b\b- \b\b\\ \b\b| \b\b/ \b\b- \b\b\\ \b\b| \b\b/ \b\b- \b\b\\ \b\b| \b\b/ \b\b- \b\b\\ \b\b| \b\b/ \b\b- \b\b\\ \b\b| \b\b/ \b\b- \b\b\\ \b\b| \b\b/ \b\b- \b\b\\ \b\b| \b\b/ \b\b- \b\b\\ \b\b| \b\b/ \b\b- \b\b\\ \b\b| \b\b/ \b\b- \b\b\\ \b\b| \b\b/ \b\b- \b\b\\ \b\b| \b\b/ \b\b- \b\b\\ \b\b| \b\b/ \b\b- \b\b\\ \b\b| \b\b/ \b\b- \b\b\\ \b\b| \b\b/ \b\b- \b\b\\ \b\b| \b\b/ \b\b- \b\b\\ \b\b| \b\b/ \b\b- \b\b\\ \b\b| \b\b/ \b\b- \b\b\\ \b\b| \b\b/ \b\b- \b\b\\ \b\b| \b\b/ \b\b- \b\b\\ \b\b| \b\b/ \b\b- \b\b\\ \b\b| \b\b/ \b\b- \b\b\\ \b\b| \b\b/ \b\b- \b\b\\ \b\b| \b\b/ \b\b- \b\b\\ \b\b| \b\b/ \b\b- \b\b\\ \b\b| \b\b/ \b\b- \b\b\\ \b\b| \b\b/ \b\b- \b\b\\ \b\b| \b\b/ \b\b- \b\b\\ \b\b| \b\b/ \b\b- \b\b\\ \b\b| \b\b/ \b\b- \b\b\\ \b\b| \b\b/ \b\b- \b\b\\ \b\b| \b\b/ \b\b- \b\b\\ \b\b| \b\b/ \b\b- \b\b\\ \b\b| \b\b/ \b\b- \b\b\\ \b\b| \b\b/ \b\b- \b\b\\ \b\b| \b\b/ \b\b- \b\b\\ \b\b| \b\b/ \b\b- \b\b\\ \b\b| \b\b/ \b\b- \b\b\\ \b\b| \b\b/ \b\b- \b\b\\ \b\b| \b\b/ \b\b- \b\b\\ \b\b| \b\b/ \b\b- \b\b\\ \b\b| \b\b/ \b\b- \b\b\\ \b\b| \b\b/ \b\b- \b\b\\ \b\b| \b\b/ \b\b- \b\b\\ \b\b| \b\b/ \b\b- \b\b\\ \b\b| \b\b/ \b\b- \b\b\\ \b\b| \b\b/ \b\b- \b\b\\ \b\b| \b\b/ \b\b- \b\b\\ \b\b| \b\b/ \b\b- \b\b\\ \b\b| \b\b/ \b\b- \b\b\\ \b\b| \b\b/ \b\b- \b\b\\ \b\b| \b\b/ \b\b- \b\b\\ \b\b| \b\b/ \b\b- \b\b\\ \b\b| \b\b/ \b\b- \b\b\\ \b\b| \b\b/ \b\b- \b\b\\ \b\b| \b\b/ \b\b- \b\b\\ \b\b| \b\b/ \b\b- \b\b\\ \b\b| \b\b/ \b\b- \b\b\\ \b\b| \b\b/ \b\b- \b\b\\ \b\b| \b\b/ \b\b- \b\b\\ \b\b| \b\b/ \b\b- \b\b\\ \b\b| \b\b/ \b\b- \b\b\\ \b\b| \b\b/ \b\b- \b\b\\ \b\b| \b\b/ \b\b- \b\b\\ \b\b| \b\b/ \b\b- \b\b\\ \b\b| \b\b/ \b\b- \b\b\\ \b\b| \b\b/ \b\b- \b\b\\ \b\b| \b\b/ \b\b- \b\b\\ \b\b| \b\b/ \b\b- \b\b\\ \b\b| \b\b/ \b\b- \b\b\\ \b\b| \b\b/ \b\b- \b\b\\ \b\b| \b\b/ \b\b- \b\b\\ \b\b| \b\b/ \b\b- \b\b\\ \b\b| \b\b/ \b\b- \b\b\\ \b\b| \b\b/ \b\b- \b\b\\ \b\b| \b\b/ \b\b- \b\b\\ \b\b| \b\b/ \b\b- \b\b\\ \b\b| \b\b/ \b\b- \b\b\\ \b\b| \b\b/ \b\b- \b\b\\ \b\b| \b\b/ \b\b- \b\b\\ \b\b| \b\b/ \b\b- \b\b\\ \b\b| \b\b/ \b\b- \b\b\\ \b\b| \b\b/ \b\b- \b\b\\ \b\b| \b\b/ \b\b- \b\b\\ \b\b| \b\b/ \b\b- \b\b\\ \b\b| \b\b/ \b\b- \b\b\\ \b\b| \b\b/ \b\b- \b\b\\ \b\b| \b\b/ \b\b- \b\b\\ \b\b| \b\b/ \b\b- \b\b\\ \b\b| \b\b/ \b\b- \b\b\\ \b\b| \b\b/ \b\b- \b\b\\ \b\b| \b\b/ \b\b- \b\b\\ \b\b| \b\b/ \b\b- \b\b\\ \b\b| \b\b/ \b\b- \b\b\\ \b\b| \b\b/ \b\b- \b\b\\ \b\b| \b\b/ \b\b- \b\b\\ \b\b| \b\b/ \b\b- \b\b\\ \b\b| \b\b/ \b\b- \b\b\\ \b\b| \b\b/ \b\b- \b\b\\ \b\b| \b\b/ \b\b- \b\b\\ \b\b| \b\b/ \b\b- \b\b\\ \b\b| \b\b/ \b\b- \b\b\\ \b\b| \b\b/ \b\b- \b\b\\ \b\b| \b\b/ \b\b- \b\b\\ \b\b| \b\b/ \b\b- \b\b\\ \b\b| \b\b/ \b\b- \b\b\\ \b\b| \b\b/ \b\b- \b\b\\ \b\b| \b\b/ \b\b- \b\b\\ \b\b| \b\b/ \b\b- \b\b\\ \b\b| \b\b/ \b\b- \b\b\\ \b\b| \b\b/ \b\b- \b\b\\ \b\b| \b\b/ \b\b- \b\b\\ \b\b| \b\b/ \b\b- \b\b\\ \b\b| \b\b/ \b\b- \b\b\\ \b\b| \b\b/ \b\b- \b\b\\ \b\b| \b\b/ \b\b- \b\b\\ \b\b| \b\b/ \b\b- \b\b\\ \b\b| \b\b/ \b\b- \b\b\\ \b\b| \b\b/ \b\b- \b\b\\ \b\b| \b\b/ \b\b- \b\b\\ \b\b| \b\b/ \b\b- \b\b\\ \b\b| \b\b/ \b\b- \b\b\\ \b\b| \b\b/ \b\b- \b\b\\ \b\b| \b\b/ \b\b- \b\b\\ \b\b| \b\b/ \b\b- \b\b\\ \b\b| \b\b/ \b\b- \b\b\\ \b\b| \b\b/ \b\b- \b\b\\ \b\b| \b\b/ \b\b- \b\b\\ \b\b| \b\b/ \b\b- \b\b\\ \b\b| \b\b/ \b\b- \b\b\\ \b\b| \b\b/ \b\b- \b\b\\ \b\b| \b\b/ \b\b- \b\b\\ \b\b| \b\b/ \b\b- \b\b\\ \b\b| \b\b/ \b\b- \b\b\\ \b\b| \b\b/ \b\b- \b\b\\ \b\b| \b\b/ \b\b- \b\b\\ \b\b| \b\b/ \b\b- \b\b\\ \b\b| \b\b/ \b\b- \b\b\\ \b\b| \b\b/ \b\b- \b\b\\ \b\b| \b\b/ \b\b- \b\b\\ \b\b| \b\b/ \b\b- \b\b\\ \b\b| \b\b/ \b\b- \b\b\\ \b\b| \b\b/ \b\b- \b\b\\ \b\b| \b\b/ \b\b- \b\b\\ \b\b| \b\b/ \b\b- \b\b\\ \b\b| \b\b/ \b\b- \b\b\\ \b\b| \b\b/ \b\b- \b\b\\ \b\b| \b\b/ \b\b- \b\b\\ \b\b| \b\b/ \b\b- \b\b\\ \b\b| \b\b/ \b\b- \b\b\\ \b\b| \b\b/ \b\b- \b\b\\ \b\b| \b\b/ \b\b- \b\b\\ \b\b| \b\b/ \b\b- \b\b\\ \b\b| \b\b/ \b\b- \b\b\\ \b\b| \b\b/ \b\b- \b\b\\ \b\b| \b\b/ \b\b- \b\b\\ \b\b| \b\b/ \b\b- \b\b\\ \b\b| \b\b/ \b\b- \b\b\\ \b\b| \b\b/ \b\b- \b\b\\ \b\b| \b\b/ \b\b- \b\b\\ \b\b| \b\b/ \b\b- \b\b\\ \b\b| \b\b/ \b\b- \b\b\\ \b\b| \b\b/ \b\b- \b\b\\ \b\b| \b\b/ \b\b- \b\b\\ \b\b| \b\b/ \b\b- \b\b\\ \b\b| \b\b/ \b\b- \b\b\\ \b\b| \b\b/ \b\b- \b\b\\ \b\b| \b\b/ \b\b- \b\b\\ \b\b| \b\b/ \b\b- \b\b\\ \b\b| \b\b/ \b\b- \b\b\\ \b\b| \b\b/ \b\b- \b\b\\ \b\b| \b\b/ \b\b- \b\b\\ \b\b| \b\b/ \b\b- \b\b\\ \b\b| \b\b/ \b\b- \b\b\\ \b\b| \b\b/ \b\b- \b\b\\ \b\b| \b\b/ \b\b- \b\b\\ \b\b| \b\b/ \b\b- \b\b\\ \b\b| \b\b/ \b\b- \b\b\\ \b\b| \b\b/ \b\b- \b\b\\ \b\b| \b\b/ \b\b- \b\b\\ \b\b| \b\b/ \b\b- \b\b\\ \b\b| \b\b/ \b\b- \b\b\\ \b\b| \b\b/ \b\b- \b\b\\ \b\b| \b\b/ \b\b- \b\b\\ \b\b| \b\b/ \b\b- \b\b\\ \b\b| \b\b/ \b\b- \b\b\\ \b\b| \b\b/ \b\b- \b\b\\ \b\b| \b\b/ \b\b- \b\b\\ \b\b| \b\b/ \b\b- \b\b\\ \b\b| \b\b/ \b\b- \b\b\\ \b\b| \b\b/ \b\b- \b\b\\ \b\b| \b\b/ \b\b- \b\b\\ \b\b| \b\b/ \b\b- \b\b\\ \b\b| \b\b/ \b\b- \b\b\\ \b\b| \b\b/ \b\b- \b\b\\ \b\b| \b\b/ \b\b- \b\b\\ \b\b| \b\b/ \b\b- \b\b\\ \b\b| \b\b/ \b\b- \b\b\\ \b\b| \b\b/ \b\b- \b\b\\ \b\b| \b\b/ \b\b- \b\b\\ \b\b| \b\b/ \b\b- \b\b\\ \b\b| \b\b/ \b\b- \b\b\\ \b\b| \b\b/ \b\b- \b\b\\ \b\b| \b\b/ \b\b- \b\b\\ \b\b| \b\b/ \b\b- \b\b\\ \b\b| \b\b/ \b\b- \b\b\\ \b\b| \b\b/ \b\b- \b\b\\ \b\b| \b\b/ \b\b- \b\b\\ \b\b| \b\b/ \b\b- \b\b\\ \b\b| \b\b/ \b\b- \b\b\\ \b\b| \b\b/ \b\b- \b\b\\ \b\b| \b\b/ \b\b- \b\b\\ \b\b| \b\b/ \b\b- \b\b\\ \b\b| \b\b/ \b\b- \b\b\\ \b\b| \b\b/ \b\b- \b\b\\ \b\b| \b\b/ \b\b- \b\b\\ \b\b| \b\b/ \b\b- \b\b\\ \b\b| \b\b/ \b\b- \b\b\\ \b\b| \b\b/ \b\b- \b\b\\ \b\b| \b\b/ \b\b- \b\b\\ \b\b| \b\b/ \b\b- \b\b\\ \b\b| \b\b/ \b\b- \b\b\\ \b\b| \b\b/ \b\b- \b\b\\ \b\b| \b\b/ \b\b- \b\b\\ \b\b| \b\b/ \b\b- \b\b\\ \b\b| \b\b/ \b\b- \b\b\\ \b\b| \b\b/ \b\b- \b\b\\ \b\b| \b\b/ \b\b- \b\b\\ \b\b| \b\b/ \b\b- \b\b\\ \b\b| \b\b/ \b\b- \b\b\\ \b\b| \b\b/ \b\b- \b\b\\ \b\b| \b\b/ \b\b- \b\b\\ \b\b| \b\b/ \b\b- \b\b\\ \b\b| \b\b/ \b\b- \b\b\\ \b\b| \b\b/ \b\b- \b\b\\ \b\b| \b\b/ \b\b- \b\b\\ \b\b| \b\b/ \b\b- \b\b\\ \b\b| \b\b/ \b\b- \b\b\\ \b\b| \b\b/ \b\b- \b\b\\ \b\b| \b\b/ \b\b- \b\b\\ \b\b| \b\b/ \b\b- \b\b\\ \b\b| \b\b/ \b\b- \b\b\\ \b\b| \b\b/ \b\b- \b\b\\ \b\b| \b\b/ \b\b- \b\b\\ \b\b| \b\b/ \b\b- \b\b\\ \b\b| \b\b/ \b\b- \b\b\\ \b\b| \b\b/ \b\b- \b\b\\ \b\b| \b\b/ \b\b- \b\b\\ \b\b| \b\b/ \b\b- \b\b\\ \b\b| \b\b/ \b\b- \b\b\\ \b\b| \b\b/ \b\b- \b\b\\ \b\b| \b\b/ \b\b- \b\b\\ \b\b| \b\b/ \b\b- \b\b\\ \b\b| \b\b/ \b\b- \b\b\\ \b\b| \b\b/ \b\b- \b\b\\ \b\b| \b\b/ \b\b- \b\b\\ \b\b| \b\b/ \b\b- \b\b\\ \b\b| \b\b/ \b\b- \b\b\\ \b\b| \b\b/ \b\b- \b\b\\ \b\b| \b\b/ \b\b- \b\b\\ \b\b| \b\b/ \b\b- \b\b\\ \b\b| \b\b/ \b\b- \b\b\\ \b\b| \b\b/ \b\b- \b\b\\ \b\b| \b\b/ \b\b- \b\b\\ \b\b| \b\b/ \b\b- \b\b\\ \b\b| \b\b/ \b\b- \b\b\\ \b\b| \b\b/ \b\b- \b\b\\ \b\b| \b\b/ \b\b- \b\b\\ \b\b| \b\b/ \b\b- \b\b\\ \b\b| \b\b/ \b\b- \b\b\\ \b\b| \b\b/ \b\b- \b\b\\ \b\b| \b\b/ \b\b- \b\b\\ \b\b| \b\b/ \b\b- \b\b\\ \b\b| \b\b/ \b\b- \b\b\\ \b\b| \b\b/ \b\b- \b\b\\ \b\b| \b\b/ \b\b- \b\b\\ \b\b| \b\b/ \b\b- \b\b\\ \b\b| \b\b/ \b\b- \b\b\\ \b\b| \b\b/ \b\b- \b\b\\ \b\b| \b\b/ \b\b- \b\b\\ \b\b| \b\b/ \b\b- \b\b\\ \b\b| \b\b/ \b\b- \b\b\\ \b\b| \b\b/ \b\b- \b\b\\ \b\b| \b\b/ \b\b- \b\b\\ \b\b| \b\b/ \b\b- \b\b\\ \b\b| \b\b/ \b\b- \b\b\\ \b\b| \b\b/ \b\b- \b\b\\ \b\b| \b\b/ \b\b- \b\b\\ \b\b| \b\b/ \b\b- \b\b\\ \b\b| \b\b/ \b\b- \b\b\\ \b\b| \b\b/ \b\b- \b\b\\ \b\b| \b\b/ \b\b- \b\b\\ \b\b| \b\b/ \b\b- \b\b\\ \b\b| \b\b/ \b\b- \b\b\\ \b\b| \b\b/ \b\b- \b\b\\ \b\b| \b\b/ \b\b- \b\b\\ \b\b| \b\b/ \b\b- \b\b\\ \b\b| \b\b/ \b\b- \b\b\\ \b\b| \b\b/ \b\b- \b\b\\ \b\b| \b\b/ \b\b- \b\b\\ \b\b| \b\b/ \b\b- \b\b\\ \b\b| \b\b/ \b\b- \b\b\\ \b\b| \b\b/ \b\b- \b\b\\ \b\b| \b\b/ \b\b- \b\b\\ \b\b| \b\b/ \b\b- \b\b\\ \b\b| \b\b/ \b\b- \b\b\\ \b\b| \b\b/ \b\b- \b\b\\ \b\b| \b\b/ \b\b- \b\b\\ \b\b| \b\b/ \b\b- \b\b\\ \b\b| \b\b/ \b\b- \b\b\\ \b\b| \b\b/ \b\b- \b\b\\ \b\b| \b\b/ \b\b- \b\b\\ \b\b| \b\b/ \b\b- \b\b\\ \b\b| \b\b/ \b\b- \b\b\\ \b\b| \b\b/ \b\b- \b\b\\ \b\b| \b\b/ \b\b- \b\b\\ \b\b| \b\b/ \b\b- \b\b\\ \b\b| \b\b/ \b\b- \b\b\\ \b\b| \b\b/ \b\b- \b\b\\ \b\b| \b\b/ \b\b- \b\b\\ \b\b| \b\b/ \b\b- \b\b\\ \b\b| \b\b/ \b\b- \b\b\\ \b\b| \b\b/ \b\b- \b\b\\ \b\b| \b\b/ \b\b- \b\b\\ \b\b| \b\b/ \b\b- \b\b\\ \b\b| \b\b/ \b\b- \b\b\\ \b\b| \b\b/ \b\b- \b\b\\ \b\b| \b\b/ \b\b- \b\b\\ \b\b| \b\b/ \b\b- \b\b\\ \b\b| \b\b/ \b\b- \b\b\\ \b\b| \b\b/ \b\b- \b\b\\ \b\b| \b\b/ \b\b- \b\b\\ \b\b| \b\b/ \b\b- \b\b\\ \b\b| \b\b/ \b\b- \b\b\\ \b\b| \b\b/ \b\b- \b\b\\ \b\b| \b\b/ \b\b- \b\b\\ \b\b| \b\b/ \b\b- \b\b\\ \b\b| \b\b/ \b\b- \b\b\\ \b\b| \b\b/ \b\b- \b\b\\ \b\b| \b\b/ \b\b- \b\b\\ \b\b| \b\b/ \b\b- \b\b\\ \b\b| \b\b/ \b\b- \b\b\\ \b\b| \b\b/ \b\b- \b\b\\ \b\b| \b\b/ \b\b- \b\b\\ \b\b| \b\b/ \b\b- \b\b\\ \b\b| \b\b/ \b\b- \b\b\\ \b\b| \b\b/ \b\b- \b\b\\ \b\b| \b\b/ \b\b- \b\b\\ \b\b| \b\b/ \b\b- \b\b\\ \b\b| \b\b/ \b\b- \b\b\\ \b\b| \b\b/ \b\b- \b\b\\ \b\b| \b\b/ \b\b- \b\b\\ \b\b| \b\b/ \b\b- \b\b\\ \b\b| \b\b/ \b\b- \b\b\\ \b\b| \b\b/ \b\b- \b\b\\ \b\b| \b\b/ \b\b- \b\b\\ \b\b| \b\b/ \b\b- \b\b\\ \b\b| \b\b/ \b\b- \b\b\\ \b\b| \b\b/ \b\b- \b\b\\ \b\b| \b\b/ \b\b- \b\b\\ \b\b| \b\b/ \b\b- \b\b\\ \b\b| \b\b/ \b\b- \b\b\\ \b\b| \b\b/ \b\b- \b\b\\ \b\b| \b\b/ \b\b- \b\b\\ \b\b| \b\b/ \b\b- \b\b\\ \b\b| \b\b/ \b\b- \b\b\\ \b\b| \b\b/ \b\b- \b\b\\ \b\b| \b\b/ \b\b- \b\b\\ \b\b| \b\b/ \b\b- \b\b\\ \b\b| \b\b/ \b\b- \b\b\\ \b\b| \b\b/ \b\b- \b\b\\ \b\b| \b\b/ \b\b- \b\b\\ \b\b| \b\b/ \b\b- \b\b\\ \b\b| \b\b/ \b\b- \b\b\\ \b\b| \b\b/ \b\b- \b\b\\ \b\b| \b\b/ \b\b- \b\b\\ \b\b| \b\b/ \b\b- \b\b\\ \b\b| \b\b/ \b\b- \b\b\\ \b\b| \b\b/ \b\b- \b\b\\ \b\b| \b\b/ \b\b- \b\b\\ \b\b| \b\b/ \b\b- \b\b\\ \b\b| \b\b/ \b\b- \b\b\\ \b\b| \b\b/ \b\b- \b\b\\ \b\b| \b\b/ \b\b- \b\b\\ \b\b| \b\b/ \b\b- \b\b\\ \b\b| \b\b/ \b\b- \b\b\\ \b\b| \b\b/ \b\b- \b\b\\ \b\b| \b\b/ \b\b- \b\b\\ \b\b| \b\b/ \b\b- \b\b\\ \b\b| \b\b/ \b\b- \b\b\\ \b\b| \b\b/ \b\b- \b\b\\ \b\b| \b\b/ \b\b- \b\b\\ \b\b| \b\b/ \b\b- \b\b\\ \b\b| \b\b/ \b\b- \b\b\\ \b\b| \b\b/ \b\b- \b\b\\ \b\b| \b\b/ \b\b- \b\b\\ \b\b| \b\b/ \b\b- \b\b\\ \b\b| \b\b/ \b\b- \b\b\\ \b\b| \b\b/ \b\b- \b\b\\ \b\b| \b\b/ \b\b- \b\b\\ \b\b| \b\b/ \b\b- \b\b\\ \b\b| \b\b/ \b\b- \b\b\\ \b\b| \b\b/ \b\b- \b\b\\ \b\b| \b\b/ \b\b- \b\b\\ \b\b| \b\b/ \b\b- \b\b\\ \b\b| \b\b/ \b\b- \b\b\\ \b\b| \b\b/ \b\b- \b\b\\ \b\b| \b\b/ \b\b- \b\b\\ \b\b| \b\b/ \b\b- \b\b\\ \b\b| \b\b/ \b\b- \b\b\\ \b\b| \b\b/ \b\b- \b\b\\ \b\b| \b\b/ \b\b- \b\b\\ \b\b| \b\b/ \b\b- \b\b\\ \b\b| \b\b/ \b\b- \b\b\\ \b\b| \b\b/ \b\b- \b\b\\ \b\b| \b\b/ \b\b- \b\b\\ \b\b| \b\b/ \b\b- \b\b\\ \b\b| \b\b/ \b\b- \b\b\\ \b\b| \b\b/ \b\b- \b\b\\ \b\b| \b\b/ \b\b- \b\b\\ \b\b| \b\b/ \b\b- \b\b\\ \b\b| \b\b/ \b\b- \b\b\\ \b\b| \b\b/ \b\b- \b\b\\ \b\b| \b\b/ \b\b- \b\b\\ \b\b| \b\b/ \b\b- \b\b\\ \b\b| \b\b/ \b\b- \b\b\\ \b\b| \b\b/ \b\b- \b\b\\ \b\b| \b\b/ \b\b- \b\b\\ \b\b| \b\b/ \b\b- \b\b\\ \b\b| \b\b/ \b\b- \b\b\\ \b\b| \b\b/ \b\b- \b\b\\ \b\b| \b\b/ \b\b- \b\b\\ \b\b| \b\b/ \b\b- \b\b\\ \b\b| \b\b/ \b\b- \b\b\\ \b\b| \b\b/ \b\b- \b\b\\ \b\b| \b\b/ \b\b- \b\b\\ \b\b| \b\b/ \b\b- \b\b\\ \b\b| \b\b/ \b\b- \b\b\\ \b\b| \b\b/ \b\b- \b\b\\ \b\b| \b\b/ \b\b- \b\b\\ \b\b| \b\b/ \b\b- \b\b\\ \b\b| \b\b/ \b\b- \b\b\\ \b\b| \b\b/ \b\b- \b\b\\ \b\b| \b\b/ \b\b- \b\b\\ \b\b| \b\b/ \b\b- \b\b\\ \b\b| \b\b/ \b\b- \b\b\\ \b\b| \b\b/ \b\b- \b\b\\ \b\b| \b\b/ \b\b- \b\b\\ \b\b| \b\b/ \b\b- \b\b\\ \b\b| \b\b/ \b\b- \b\b\\ \b\b| \b\b/ \b\b- \b\b\\ \b\b| \b\b/ \b\b- \b\b\\ \b\b| \b\b/ \b\b- \b\b\\ \b\b| \b\b/ \b\b- \b\b\\ \b\b| \b\b/ \b\b- \b\b\\ \b\b| \b\b/ \b\b- \b\b\\ \b\b| \b\b/ \b\b- \b\b\\ \b\b| \b\b/ \b\b- \b\b\\ \b\b| \b\b/ \b\b- \b\b\\ \b\b| \b\b/ \b\b- \b\b\\ \b\b| \b\b/ \b\b- \b\b\\ \b\b| \b\b/ \b\b- \b\b\\ \b\b| \b\b/ \b\b- \b\b\\ \b\b| \b\b/ \b\b- \b\b\\ \b\b| \b\b/ \b\b- \b\b\\ \b\b| \b\b/ \b\b- \b\b\\ \b\b| \b\b/ \b\b- \b\b\\ \b\b| \b\b/ \b\b- \b\b\\ \b\b| \b\b/ \b\b- \b\b\\ \b\b| \b\b/ \b\b- \b\b\\ \b\b| \b\b/ \b\b- \b\b\\ \b\b| \b\b/ \b\b- \b\b\\ \b\b| \b\b/ \b\b- \b\b\\ \b\b| \b\b/ \b\b- \b\b\\ \b\b| \b\b/ \b\b- \b\b\\ \b\b| \b\b/ \b\b- \b\b\\ \b\b| \b\b/ \b\b- \b\b\\ \b\b| \b\b/ \b\b- \b\b\\ \b\b| \b\b/ \b\b- \b\b\\ \b\b| \b\b/ \b\b- \b\b\\ \b\b| \b\b/ \b\b- \b\b\\ \b\b| \b\b/ \b\b- \b\b\\ \b\b| \b\b/ \b\b- \b\b\\ \b\b| \b\b/ \b\b- \b\b\\ \b\b| \b\b/ \b\b- \b\b\\ \b\b| \b\b/ \b\b- \b\b\\ \b\b| \b\b/ \b\b- \b\b\\ \b\b| \b\b/ \b\b- \b\b\\ \b\b| \b\b/ \b\b- \b\b\\ \b\b| \b\b/ \b\b- \b\b\\ \b\b| \b\b/ \b\b- \b\b\\ \b\b| \b\b/ \b\b- \b\b\\ \b\b| \b\b/ \b\b- \b\b\\ \b\b| \b\b/ \b\b- \b\b\\ \b\b| \b\b/ \b\b- \b\b\\ \b\b| \b\b/ \b\b- \b\b\\ \b\b| \b\b/ \b\b- \b\b\\ \b\b| \b\b/ \b\b- \b\b\\ \b\b| \b\b/ \b\b- \b\b\\ \b\b| \b\b/ \b\b- \b\b\\ \b\b| \b\b/ \b\b- \b\b\\ \b\b| \b\b/ \b\b- \b\b\\ \b\b| \b\b/ \b\b- \b\b\\ \b\b| \b\b/ \b\b- \b\b\\ \b\b| \b\b/ \b\b- \b\b\\ \b\b| \b\b/ \b\b- \b\b\\ \b\b| \b\b/ \b\b- \b\b\\ \b\b| \b\b/ \b\b- \b\b\\ \b\b| \b\b/ \b\b- \b\b\\ \b\b| \b\b/ \b\b- \b\b\\ \b\b| \b\b/ \b\b- \b\b\\ \b\b| \b\b/ \b\b- \b\b\\ \b\b| \b\b/ \b\b- \b\b\\ \b\b| \b\b/ \b\b- \b\b\\ \b\b| \b\b/ \b\b- \b\b\\ \b\b| \b\b/ \b\b- \b\b\\ \b\b| \b\b/ \b\b- \b\b\\ \b\b| \b\b/ \b\b- \b\b\\ \b\b| \b\b/ \b\b- \b\b\\ \b\b| \b\b/ \b\b- \b\b\\ \b\b| \b\b/ \b\b- \b\b\\ \b\b| \b\b/ \b\b- \b\b\\ \b\b| \b\b/ \b\b- \b\b\\ \b\b| \b\b/ \b\b- \b\b\\ \b\b| \b\b/ \b\b- \b\b\\ \b\b| \b\b/ \b\b- \b\b\\ \b\b| \b\b/ \b\b- \b\b\\ \b\b| \b\b/ \b\b- \b\b\\ \b\b| \b\b/ \b\b- \b\b\\ \b\b| \b\b/ \b\b- \b\b\\ \b\b| \b\b/ \b\b- \b\b\\ \b\b| \b\b/ \b\b- \b\b\\ \b\b| \b\b/ \b\b- \b\b\\ \b\b| \b\b/ \b\b- \b\b\\ \b\b| \b\b/ \b\b- \b\b\\ \b\b| \b\b/ \b\b- \b\b\\ \b\b| \b\b/ \b\b- \b\b\\ \b\b| \b\b/ \b\b- \b\b\\ \b\b| \b\b/ \b\b- \b\b\\ \b\b| \b\b/ \b\b- \b\b\\ \b\b| \b\b/ \b\b- \b\b\\ \b\b| \b\b/ \b\b- \b\b\\ \b\b| \b\b/ \b\b- \b\b\\ \b\b| \b\b/ \b\b- \b\b\\ \b\b| \b\b/ \b\b- \b\b\\ \b\b| \b\b/ \b\b- \b\b\\ \b\b| \b\b/ \b\b- \b\b\\ \b\b| \b\b/ \b\b- \b\b\\ \b\b| \b\b/ \b\b- \b\b\\ \b\b| \b\b/ \b\b- \b\b\\ \b\b| \b\b/ \b\b- \b\b\\ \b\b| \b\b/ \b\b- \b\b\\ \b\b| \b\b/ \b\b- \b\b\\ \b\b| \b\b/ \b\b- \b\b\\ \b\b| \b\b/ \b\b- \b\b\\ \b\b| \b\b/ \b\b- \b\b\\ \b\b| \b\b/ \b\b- \b\b\\ \b\b| \b\b/ \b\b- \b\b\\ \b\b| \b\b/ \b\b- \b\b\\ \b\b| \b\b/ \b\b- \b\b\\ \b\b| \b\b/ \b\b- \b\b\\ \b\b| \b\b/ \b\b- \b\b\\ \b\b| \b\b/ \b\b- \b\b\\ \b\b| \b\b/ \b\b- \b\b\\ \b\b| \b\b/ \b\b- \b\b\\ \b\b| \b\b/ \b\b- \b\b\\ \b\b| \b\b/ \b\b- \b\b\\ \b\b| \b\b/ \b\b- \b\b\\ \b\b| \b\b/ \b\b- \b\b\\ \b\b| \b\b/ \b\b- \b\b\\ \b\b| \b\b/ \b\b- \b\b\\ \b\b| \b\b/ \b\b- \b\b\\ \b\b| \b\b/ \b\b- \b\b\\ \b\b| \b\b/ \b\b- \b\b\\ \b\b| \b\b/ \b\b- \b\b\\ \b\b| \b\b/ \b\b- \b\b\\ \b\b| \b\b/ \b\b- \b\b\\ \b\b| \b\b/ \b\b- \b\b\\ \b\b| \b\b/ \b\b- \b\b\\ \b\b| \b\b/ \b\b- \b\b\\ \b\b| \b\b/ \b\b- \b\b\\ \b\b| \b\b/ \b\b- \b\b\\ \b\b| \b\b/ \b\b- \b\b\\ \b\b| \b\b/ \b\b- \b\b\\ \b\b| \b\b/ \b\b- \b\b\\ \b\b| \b\b/ \b\b- \b\b\\ \b\b| \b\b/ \b\b- \b\b\\ \b\b| \b\b/ \b\b- \b\b\\ \b\b| \b\b/ \b\b- \b\b\\ \b\b| \b\b/ \b\b- \b\b\\ \b\b| \b\b/ \b\b- \b\b\\ \b\b| \b\b/ \b\b- \b\b\\ \b\b| \b\b/ \b\b- \b\b\\ \b\b| \b\b/ \b\b- \b\b\\ \b\b| \b\b/ \b\b- \b\b\\ \b\b| \b\b/ \b\b- \b\b\\ \b\b| \b\b/ \b\b- \b\b\\ \b\b| \b\b/ \b\bfailed with initial frozen solve. Retrying with flexible solve.\r\n",
      "Solving environment: \\ \b\b| \b\b/ \b\b- \b\b\\ \b\b| \b\b/ \b\b- \b\b\\ \b\b| \b\b/ \b\b- \b\b\\ \b\b| \b\b/ \b\b- \b\b\\ \b\b| \b\b/ \b\b- \b\b\\ \b\b| \b\b/ \b\b- \b\b\\ \b\b| \b\b/ \b\b- \b\b\\ \b\b| \b\b/ \b\b- \b\b\\ \b\b| \b\b/ \b\b- \b\b\\ \b\b| \b\b/ \b\b- \b\b\\ \b\b| \b\b/ \b\b- \b\b\\ \b\b| \b\b/ \b\b- \b\b\\ \b\b| \b\b/ \b\b- \b\b\\ \b\b| \b\b/ \b\b- \b\b\\ \b\b| \b\b/ \b\b- \b\b\\ \b\b| \b\b/ \b\b- \b\b\\ \b\b| \b\b/ \b\b- \b\b\\ \b\b| \b\b/ \b\b- \b\b\\ \b\b| \b\b/ \b\b- \b\b\\ \b\b| \b\b/ \b\b- \b\b\\ \b\b| \b\b/ \b\b- \b\b\\ \b\b| \b\b/ \b\b- \b\b\\ \b\b| \b\b/ \b\b- \b\b\\ \b\b| \b\b/ \b\b- \b\b\\ \b\b| \b\b/ \b\b- \b\b\\ \b\b| \b\b/ \b\b- \b\b\\ \b\b| \b\b/ \b\b- \b\b\\ \b\b| \b\b/ \b\b- \b\b\\ \b\b| \b\b/ \b\b- \b\b\\ \b\b| \b\b/ \b\b- \b\b\\ \b\b| \b\b/ \b\b- \b\b\\ \b\b| \b\b/ \b\b- \b\b\\ \b\b| \b\b/ \b\b- \b\b\\ \b\b| \b\b/ \b\b- \b\b\\ \b\b| \b\b/ \b\b- \b\b\\ \b\b| \b\b/ \b\b- \b\b\\ \b\b| \b\b/ \b\b- \b\b\\ \b\b| \b\b/ \b\b- \b\b\\ \b\b| \b\b/ \b\b- \b\b\\ \b\b| \b\b/ \b\b- \b\b\\ \b\b| \b\b/ \b\b- \b\b\\ \b\b| \b\b/ \b\b- \b\b\\ \b\b| \b\b/ \b\b- \b\b\\ \b\b| \b\b/ \b\b- \b\b\\ \b\b| \b\b/ \b\b- \b\b\\ \b\b| \b\b/ \b\b- \b\b\\ \b\b| \b\b/ \b\b- \b\b\\ \b\b| \b\b/ \b\b- \b\b\\ \b\b| \b\b/ \b\b- \b\b\\ \b\b| \b\b/ \b\b- \b\b\\ \b\b| \b\b/ \b\b- \b\b\\ \b\b| \b\b/ \b\b- \b\b\\ \b\b| \b\b/ \b\b- \b\b\\ \b\b| \b\b/ \b\b- \b\b\\ \b\b| \b\b/ \b\b- \b\b\\ \b\b| \b\b/ \b\b- \b\b\\ \b\b| \b\b/ \b\b- \b\b\\ \b\b| \b\b/ \b\b- \b\b\\ \b\b| \b\b/ \b\b- \b\b\\ \b\b| \b\b/ \b\b- \b\b\\ \b\b| \b\b/ \b\b- \b\b\\ \b\b| \b\b/ \b\b- \b\b\\ \b\b| \b\b/ \b\b- \b\b\\ \b\b| \b\b/ \b\b- \b\b\\ \b\b| \b\b/ \b\b- \b\b\\ \b\b| \b\b/ \b\b- \b\b\\ \b\b| \b\b/ \b\b- \b\b\\ \b\b| \b\b/ \b\b- \b\b\\ \b\b| \b\b/ \b\b- \b\b\\ \b\b| \b\b/ \b\b- \b\b\\ \b\b| \b\b/ \b\b- \b\b\\ \b\b| \b\b/ \b\b- \b\b\\ \b\b| \b\b/ \b\b- \b\b\\ \b\b| \b\b/ \b\b- \b\b\\ \b\b| \b\b/ \b\b- \b\b\\ \b\b| \b\b/ \b\b- \b\b\\ \b\b| \b\b/ \b\b- \b\b\\ \b\b| \b\b/ \b\b- \b\b\\ \b\b| \b\b/ \b\b- \b\b\\ \b\b| \b\b/ \b\b- \b\b\\ \b\b| \b\b/ \b\b- \b\b\\ \b\b| \b\b/ \b\b- \b\b\\ \b\b| \b\b/ \b\b- \b\b\\ \b\b| \b\b/ \b\b- \b\b\\ \b\b| \b\b/ \b\b- \b\b\\ \b\b| \b\b/ \b\b- \b\b\\ \b\b| \b\b/ \b\b- \b\b\\ \b\b| \b\b/ \b\b- \b\b\\ \b\b| \b\b/ \b\b- \b\b\\ \b\b| \b\b/ \b\b- \b\b\\ \b\b| \b\b/ \b\b- \b\b\\ \b\b| \b\b/ \b\b- \b\b\\ \b\b| \b\b/ \b\b- \b\b\\ \b\b| \b\b/ \b\b- \b\b\\ \b\b| \b\b/ \b\b- \b\b\\ \b\b| \b\b/ \b\b- \b\b\\ \b\b| \b\b/ \b\b- \b\b\\ \b\b| \b\b/ \b\b- \b\b\\ \b\b| \b\b/ \b\b- \b\b\\ \b\b| \b\b/ \b\b- \b\b\\ \b\b| \b\b/ \b\b- \b\b\\ \b\b| \b\b/ \b\b- \b\b\\ \b\b| \b\b/ \b\b- \b\b\\ \b\b| \b\b/ \b\b- \b\b\\ \b\b| \b\b/ \b\b- \b\b\\ \b\b| \b\b/ \b\b- \b\b\\ \b\b| \b\b/ \b\b- \b\b\\ \b\b| \b\b/ \b\b- \b\b\\ \b\b| \b\b/ \b\b- \b\b\\ \b\b| \b\b/ \b\b- \b\b\\ \b\b| \b\b/ \b\b- \b\b\\ \b\b| \b\b/ \b\b- \b\b\\ \b\b| \b\b/ \b\b- \b\b\\ \b\b| \b\b/ \b\b- \b\b\\ \b\b| \b\b/ \b\b- \b\b\\ \b\b| \b\b/ \b\b- \b\b\\ \b\b| \b\b/ \b\b- \b\b\\ \b\b| \b\b/ \b\b- \b\b\\ \b\b| \b\b/ \b\b- \b\b\\ \b\b| \b\b/ \b\b- \b\b\\ \b\b| \b\b/ \b\b- \b\b\\ \b\b| \b\b/ \b\b- \b\b\\ \b\b| \b\b/ \b\b- \b\b\\ \b\b| \b\b/ \b\b- \b\b\\ \b\b| \b\b/ \b\b- \b\b\\ \b\b| \b\b/ \b\b- \b\b\\ \b\b| \b\b/ \b\b- \b\b\\ \b\b| \b\b/ \b\b- \b\b\\ \b\b| \b\b/ \b\b- \b\b\\ \b\b| \b\b/ \b\b- \b\b\\ \b\b| \b\b/ \b\b- \b\b\\ \b\b| \b\b/ \b\b- \b\b\\ \b\b| \b\b/ \b\b- \b\b\\ \b\b| \b\b/ \b\b- \b\b\\ \b\b| \b\b/ \b\b- \b\b\\ \b\b| \b\b/ \b\b- \b\b\\ \b\b| \b\b/ \b\b- \b\b\\ \b\b| \b\b/ \b\b- \b\b\\ \b\b| \b\b/ \b\b- \b\b\\ \b\b| \b\b/ \b\b- \b\b\\ \b\b| \b\b/ \b\b- \b\b\\ \b\b| \b\b/ \b\b- \b\b\\ \b\b| \b\b/ \b\b- \b\b\\ \b\b| \b\b/ \b\b- \b\b\\ \b\b| \b\b/ \b\b- \b\b\\ \b\b| \b\b/ \b\b- \b\b\\ \b\b| \b\b/ \b\b- \b\b\\ \b\b| \b\b/ \b\b- \b\b\\ \b\b| \b\b/ \b\b- \b\b\\ \b\b| \b\b/ \b\b- \b\b\\ \b\b| \b\b/ \b\b- \b\b\\ \b\b| \b\b/ \b\b- \b\b\\ \b\b| \b\b/ \b\b- \b\b\\ \b\b| \b\b/ \b\b- \b\b\\ \b\b| \b\b/ \b\b- \b\b\\ \b\b| \b\b/ \b\b- \b\b\\ \b\b| \b\b/ \b\b- \b\b\\ \b\b| \b\b/ \b\b- \b\b\\ \b\b| \b\b/ \b\b- \b\b\\ \b\b| \b\b/ \b\b- \b\b\\ \b\b| \b\b/ \b\b- \b\b\\ \b\b| \b\b/ \b\b- \b\b\\ \b\b| \b\b/ \b\b- \b\b\\ \b\b| \b\b/ \b\b- \b\b\\ \b\b| \b\b/ \b\b- \b\b\\ \b\b| \b\b/ \b\b- \b\b\\ \b\b| \b\b/ \b\b- \b\b\\ \b\b| \b\b/ \b\b- \b\b\\ \b\b| \b\b/ \b\b- \b\b\\ \b\b| \b\b/ \b\b- \b\b\\ \b\b| \b\b/ \b\b- \b\b\\ \b\b| \b\b/ \b\b- \b\b\\ \b\b| \b\b/ \b\b- \b\b\\ \b\b| \b\b/ \b\b- \b\b\\ \b\b| \b\b/ \b\b- \b\b\\ \b\b| \b\b/ \b\b- \b\b\\ \b\b| \b\b/ \b\b- \b\b\\ \b\b| \b\b/ \b\b- \b\b\\ \b\b| \b\b/ \b\b- \b\b\\ \b\b| \b\b/ \b\b- \b\b\\ \b\b| \b\b/ \b\b- \b\b\\ \b\b| \b\b/ \b\b- \b\b\\ \b\b| \b\b/ \b\b- \b\b\\ \b\b| \b\b/ \b\b- \b\b\\ \b\b| \b\b/ \b\b- \b\b\\ \b\b| \b\b/ \b\b- \b\b\\ \b\b| \b\b/ \b\b- \b\b\\ \b\b| \b\b/ \b\b- \b\b\\ \b\b| \b\b/ \b\b- \b\b\\ \b\b| \b\b/ \b\b- \b\b\\ \b\b| \b\b/ \b\b- \b\b\\ \b\b| \b\b/ \b\b- \b\b\\ \b\b| \b\b/ \b\b- \b\b\\ \b\b| \b\b/ \b\b- \b\b\\ \b\b| \b\b/ \b\b- \b\b\\ \b\b| \b\b/ \b\b- \b\b\\ \b\b| \b\b/ \b\b- \b\b\\ \b\b| \b\b/ \b\b- \b\b\\ \b\b| \b\b/ \b\b- \b\b\\ \b\b| \b\b/ \b\b- \b\b\\ \b\b| \b\b/ \b\b- \b\b\\ \b\b| \b\b/ \b\b- \b\b\\ \b\b| \b\b/ \b\b- \b\b\\ \b\b| \b\b/ \b\b- \b\b\\ \b\b| \b\b/ \b\b- \b\b\\ \b\b| \b\b/ \b\b- \b\b\\ \b\b| \b\b/ \b\b- \b\b\\ \b\b| \b\b/ \b\b- \b\b\\ \b\b| \b\b/ \b\b- \b\b\\ \b\b| \b\b/ \b\b- \b\b\\ \b\b| \b\b/ \b\b- \b\b\\ \b\b| \b\b/ \b\b- \b\b\\ \b\b| \b\b/ \b\b- \b\b\\ \b\b| \b\b/ \b\b- \b\b\\ \b\b| \b\b/ \b\b- \b\b\\ \b\b| \b\b/ \b\b- \b\b\\ \b\b| \b\b/ \b\b- \b\b\\ \b\b| \b\b/ \b\b- \b\b\\ \b\b| \b\b/ \b\b- \b\b\\ \b\b| \b\b/ \b\b- \b\b\\ \b\b| \b\b/ \b\b- \b\b\\ \b\b| \b\b/ \b\b- \b\b\\ \b\b| \b\b/ \b\b- \b\b\\ \b\b| \b\b/ \b\b- \b\b\\ \b\b| \b\b/ \b\b- \b\b\\ \b\b| \b\b/ \b\b- \b\b\\ \b\b| \b\b/ \b\b- \b\b\\ \b\b| \b\b/ \b\b- \b\b\\ \b\b| \b\b/ \b\b- \b\b\\ \b\b| \b\b/ \b\b- \b\b\\ \b\b| \b\b/ \b\b- \b\b\\ \b\b| \b\b/ \b\b- \b\b\\ \b\b| \b\b/ \b\b- \b\b\\ \b\b| \b\b/ \b\b- \b\b\\ \b\b| \b\b/ \b\b- \b\b\\ \b\b| \b\b/ \b\b- \b\b\\ \b\b| \b\b/ \b\b- \b\b\\ \b\b| \b\b/ \b\b- \b\b\\ \b\b| \b\b/ \b\b- \b\b\\ \b\b| \b\b/ \b\b- \b\b\\ \b\b| \b\b/ \b\b- \b\b\\ \b\b| \b\b/ \b\b- \b\b\\ \b\b| \b\b/ \b\b- \b\b\\ \b\b| \b\b/ \b\b- \b\b\\ \b\b| \b\b/ \b\b- \b\b\\ \b\b| \b\b/ \b\b- \b\b\\ \b\b| \b\b/ \b\b- \b\b\\ \b\b| \b\b/ \b\b- \b\b\\ \b\b| \b\b/ \b\b- \b\b\\ \b\b| \b\b/ \b\b- \b\b\\ \b\b| \b\b/ \b\b- \b\b\\ \b\b| \b\b/ \b\b- \b\b\\ \b\b| \b\b/ \b\b- \b\b\\ \b\b| \b\b/ \b\b- \b\b\\ \b\b| \b\b/ \b\b- \b\b\\ \b\b| \b\b/ \b\b- \b\b\\ \b\b| \b\b/ \b\b- \b\b\\ \b\b| \b\b/ \b\b- \b\b\\ \b\b| \b\b/ \b\b- \b\b\\ \b\b| \b\b/ \b\b- \b\b\\ \b\b| \b\b/ \b\b- \b\b\\ \b\b| \b\b/ \b\b- \b\b\\ \b\b| \b\b/ \b\b- \b\b\\ \b\b| \b\b/ \b\b- \b\b\\ \b\b| \b\b/ \b\b- \b\b\\ \b\b| \b\b/ \b\b- \b\b\\ \b\b| \b\b/ \b\b- \b\b\\ \b\b| \b\b/ \b\b- \b\b\\ \b\b| \b\b/ \b\b- \b\b\\ \b\b| \b\b/ \b\b- \b\b\\ \b\b| \b\b/ \b\b- \b\b\\ \b\b| \b\b/ \b\b- \b\b\\ \b\b| \b\b/ \b\b- \b\b\\ \b\b| \b\b/ \b\b- \b\b\\ \b\b| \b\b/ \b\b- \b\b\\ \b\b| \b\b/ \b\b- \b\b\\ \b\b| \b\b/ \b\b- \b\b\\ \b\b| \b\b/ \b\b- \b\b\\ \b\b| \b\b/ \b\b- \b\b\\ \b\b| \b\b/ \b\b- \b\b\\ \b\b| \b\b/ \b\b- \b\b\\ \b\b| \b\b/ \b\b- \b\b\\ \b\b| \b\b/ \b\b- \b\b\\ \b\b| \b\b/ \b\b- \b\b\\ \b\b| \b\b/ \b\b- \b\b\\ \b\b| \b\b/ \b\b- \b\b\\ \b\b| \b\b/ \b\b- \b\b\\ \b\b| \b\b/ \b\b- \b\b\\ \b\b| \b\b/ \b\b- \b\b\\ \b\b| \b\b/ \b\b- \b\b\\ \b\b| \b\b/ \b\b- \b\b\\ \b\b| \b\b/ \b\b- \b\b\\ \b\b| \b\b/ \b\b- \b\b\\ \b\b| \b\b/ \b\b- \b\b\\ \b\b| \b\b/ \b\b- \b\b\\ \b\b| \b\b/ \b\b- \b\b\\ \b\b| \b\b/ \b\b- \b\b\\ \b\b| \b\b/ \b\b- \b\b\\ \b\b| \b\b/ \b\b- \b\b\\ \b\b| \b\b/ \b\b- \b\b\\ \b\b| \b\b/ \b\b- \b\b\\ \b\b| \b\b/ \b\b- \b\b\\ \b\b| \b\b/ \b\b- \b\b\\ \b\b| \b\b/ \b\b- \b\b\\ \b\b| \b\b/ \b\b- \b\b\\ \b\b| \b\b/ \b\b- \b\b\\ \b\b| \b\b/ \b\b- \b\b\\ \b\b| \b\b/ \b\b- \b\b\\ \b\b| \b\b/ \b\b- \b\b\\ \b\b| \b\b/ \b\b- \b\b\\ \b\b| \b\b/ \b\b- \b\b\\ \b\b| \b\b/ \b\b- \b\b\\ \b\b| \b\b/ \b\b- \b\b\\ \b\b| \b\b/ \b\b- \b\b\\ \b\b| \b\b/ \b\b- \b\b\\ \b\b| \b\b/ \b\b- \b\b\\ \b\b| \b\b/ \b\b- \b\b\\ \b\b| \b\b/ \b\b- \b\b\\ \b\b| \b\b/ \b\b- \b\b\\ \b\b| \b\b/ \b\b- \b\b\\ \b\b| \b\b/ \b\b- \b\b\\ \b\b| \b\b/ \b\b- \b\b\\ \b\b| \b\b/ \b\b- \b\b\\ \b\b| \b\b/ \b\b- \b\b\\ \b\b| \b\b/ \b\b- \b\b\\ \b\b| \b\b/ \b\b- \b\b\\ \b\b| \b\b/ \b\b- \b\b\\ \b\b| \b\b/ \b\b- \b\b\\ \b\b| \b\b/ \b\b- \b\b\\ \b\b| \b\b/ \b\b- \b\b\\ \b\b| \b\b/ \b\b- \b\b\\ \b\b| \b\b/ \b\b- \b\b\\ \b\b| \b\b/ \b\b- \b\b\\ \b\b| \b\b/ \b\b- \b\b\\ \b\b| \b\b/ \b\b- \b\b\\ \b\b| \b\b/ \b\b- \b\b\\ \b\b| \b\b/ \b\b- \b\b\\ \b\b| \b\b/ \b\b- \b\b\\ \b\b| \b\b/ \b\b- \b\b\\ \b\b| \b\b/ \b\b- \b\b\\ \b\b| \b\b/ \b\b- \b\b\\ \b\b| \b\b/ \b\b- \b\b\\ \b\b| \b\b/ \b\b- \b\b\\ \b\b| \b\b/ \b\b- \b\b\\ \b\b| \b\b/ \b\b- \b\b\\ \b\b| \b\b/ \b\b- \b\b\\ \b\b| \b\b/ \b\b- \b\b\\ \b\b| \b\b/ \b\b- \b\b\\ \b\b| \b\b/ \b\b- \b\b\\ \b\b| \b\b/ \b\b- \b\b\\ \b\b| \b\b/ \b\b- \b\b\\ \b\b| \b\b/ \b\b- \b\b\\ \b\b| \b\b/ \b\b- \b\b\\ \b\b| \b\b/ \b\b- \b\b\\ \b\b| \b\b/ \b\b- \b\b\\ \b\b| \b\b/ \b\b- \b\b\\ \b\b| \b\b/ \b\b- \b\b\\ \b\b| \b\b/ \b\b- \b\b\\ \b\b| \b\b/ \b\b- \b\b\\ \b\b| \b\b/ \b\b- \b\b\\ \b\b| \b\b/ \b\b- \b\b\\ \b\b| \b\b/ \b\b- \b\b\\ \b\b| \b\b/ \b\b- \b\b\\ \b\b| \b\b/ \b\b- \b\b\\ \b\b| \b\b/ \b\b- \b\b\\ \b\b| \b\b/ \b\b- \b\b\\ \b\b| \b\b/ \b\b- \b\b\\ \b\b| \b\b/ \b\b- \b\b\\ \b\b| \b\b/ \b\b- \b\b\\ \b\b| \b\b/ \b\b- \b\b\\ \b\b| \b\b/ \b\b- \b\b\\ \b\b| \b\b/ \b\b- \b\b\\ \b\b| \b\b/ \b\b- \b\b\\ \b\b| \b\b/ \b\b- \b\b\\ \b\b| \b\b/ \b\b- \b\b\\ \b\b| \b\b/ \b\b- \b\b\\ \b\b| \b\b/ \b\b- \b\b\\ \b\b| \b\b/ \b\b- \b\b\\ \b\b| \b\b/ \b\b- \b\b\\ \b\b| \b\b/ \b\b- \b\b\\ \b\b| \b\b/ \b\b- \b\b\\ \b\b| \b\b/ \b\b- \b\b\\ \b\b| \b\b/ \b\b- \b\b\\ \b\b| \b\b/ \b\b- \b\b\\ \b\b| \b\b/ \b\b- \b\b\\ \b\b| \b\b/ \b\b- \b\b\\ \b\b| \b\b/ \b\b- \b\b\\ \b\b| \b\b/ \b\b- \b\b\\ \b\b| \b\b/ \b\b- \b\b\\ \b\b| \b\b/ \b\b- \b\b\\ \b\b| \b\b/ \b\b- \b\b\\ \b\b| \b\b/ \b\b- \b\b\\ \b\b| \b\b/ \b\b- \b\b\\ \b\b| \b\b/ \b\b- \b\b\\ \b\b| \b\b/ \b\b- \b\b\\ \b\b| \b\b/ \b\b- \b\b\\ \b\b| \b\b/ \b\b- \b\b\\ \b\b| \b\b/ \b\b- \b\b\\ \b\b| \b\b/ \b\b- \b\b\\ \b\b| \b\b/ \b\b- \b\b\\ \b\b| \b\b/ \b\b- \b\b\\ \b\b| \b\b/ \b\b- \b\b\\ \b\b| \b\b/ \b\b- \b\b\\ \b\b| \b\b/ \b\b- \b\b\\ \b\b| \b\b/ \b\b- \b\b\\ \b\b| \b\b/ \b\b- \b\b\\ \b\b| \b\b/ \b\b- \b\b\\ \b\b| \b\b/ \b\b- \b\b\\ \b\b| \b\b/ \b\b- \b\b\\ \b\b| \b\b/ \b\b- \b\b\\ \b\b| \b\b/ \b\b- \b\b\\ \b\b| \b\b/ \b\b- \b\b\\ \b\b| \b\b/ \b\b- \b\b\\ \b\b| \b\b/ \b\b- \b\b\\ \b\b| \b\b/ \b\b- \b\b\\ \b\b| \b\b/ \b\b- \b\b\\ \b\b| \b\b/ \b\b- \b\b\\ \b\b| \b\b/ \b\b- \b\b\\ \b\b| \b\b/ \b\b- \b\b\\ \b\b| \b\b/ \b\b- \b\b\\ \b\b| \b\b/ \b\b- \b\b\\ \b\b| \b\b/ \b\b- \b\b\\ \b\b| \b\b/ \b\b- \b\b\\ \b\b| \b\b/ \b\b- \b\b\\ \b\b| \b\b/ \b\b- \b\b\\ \b\b| \b\b/ \b\b- \b\b\\ \b\b| \b\b/ \b\b- \b\b\\ \b\b| \b\b/ \b\b- \b\b\\ \b\b| \b\b/ \b\b- \b\b\\ \b\b| \b\b/ \b\b- \b\b\\ \b\b| \b\b/ \b\b- \b\b\\ \b\b| \b\b/ \b\b- \b\b\\ \b\b| \b\b/ \b\b- \b\b\\ \b\b| \b\b/ \b\b- \b\b\\ \b\b| \b\b/ \b\b- \b\b\\ \b\b| \b\b/ \b\b- \b\b\\ \b\b| \b\b/ \b\b- \b\b\\ \b\b| \b\b/ \b\b- \b\b\\ \b\b| \b\b/ \b\b- \b\b\\ \b\b| \b\b/ \b\b- \b\b\\ \b\b| \b\b/ \b\b- \b\b\\ \b\b| \b\b/ \b\b- \b\b\\ \b\b| \b\b/ \b\b- \b\b\\ \b\b| \b\b/ \b\b- \b\b\\ \b\b| \b\b/ \b\b- \b\b\\ \b\b| \b\b/ \b\b- \b\b\\ \b\b| \b\b/ \b\b- \b\b\\ \b\b| \b\b/ \b\b- \b\b\\ \b\b| \b\b/ \b\b- \b\b\\ \b\b| \b\b/ \b\b- \b\b\\ \b\b| \b\b/ \b\b- \b\b\\ \b\b| \b\b/ \b\b- \b\b\\ \b\b| \b\b/ \b\b- \b\b\\ \b\b| \b\b/ \b\b- \b\b\\ \b\b| \b\b/ \b\b- \b\b\\ \b\b| \b\b/ \b\b- \b\b\\ \b\b| \b\b/ \b\b- \b\b\\ \b\b| \b\b/ \b\b- \b\b\\ \b\b| \b\b/ \b\b- \b\b\\ \b\b| \b\b/ \b\b- \b\b\\ \b\b| \b\b/ \b\b- \b\b\\ \b\b| \b\b/ \b\b- \b\b\\ \b\b| \b\b/ \b\b- \b\b\\ \b\b| \b\b/ \b\b- \b\b\\ \b\b| \b\b/ \b\b- \b\b\\ \b\b| \b\b/ \b\b- \b\b\\ \b\b| \b\b/ \b\b- \b\b\\ \b\b| \b\b/ \b\b- \b\b\\ \b\b| \b\b/ \b\b- \b\b\\ \b\b| \b\b/ \b\b- \b\b\\ \b\b| \b\b/ \b\b- \b\b\\ \b\b| \b\b/ \b\b- \b\b\\ \b\b| \b\b/ \b\b- \b\b\\ \b\b| \b\b/ \b\b- \b\b\\ \b\b| \b\b/ \b\b- \b\b\\ \b\b| \b\b/ \b\b- \b\b\\ \b\b| \b\b/ \b\b- \b\b\\ \b\b| \b\b/ \b\b- \b\b\\ \b\b| \b\b/ \b\b- \b\b\\ \b\b| \b\b/ \b\b- \b\b\\ \b\b| \b\b/ \b\b- \b\b\\ \b\b| \b\b/ \b\b- \b\b\\ \b\b| \b\b/ \b\b- \b\b\\ \b\b| \b\b/ \b\b- \b\b\\ \b\b| \b\b/ \b\b- \b\b\\ \b\b| \b\b/ \b\b- \b\b\\ \b\b| \b\b/ \b\b- \b\b\\ \b\b| \b\b/ \b\b- \b\b\\ \b\b| \b\b/ \b\b- \b\b\\ \b\b| \b\b/ \b\b- \b\b\\ \b\b| \b\b/ \b\b- \b\b\\ \b\b| \b\b/ \b\b- \b\b\\ \b\b| \b\b/ \b\b- \b\b\\ \b\b| \b\b/ \b\b- \b\b\\ \b\b| \b\b/ \b\b- \b\b\\ \b\b| \b\b/ \b\b- \b\b\\ \b\b| \b\b/ \b\b- \b\b\\ \b\b| \b\b/ \b\b- \b\b\\ \b\b| \b\b/ \b\b- \b\b\\ \b\b| \b\b/ \b\b- \b\b\\ \b\b| \b\b/ \b\b- \b\b\\ \b\b| \b\b/ \b\b- \b\b\\ \b\b| \b\b/ \b\b- \b\b\\ \b\b| \b\b/ \b\b- \b\b\\ \b\b| \b\b/ \b\b- \b\b\\ \b\b| \b\b/ \b\b- \b\b\\ \b\b| \b\b/ \b\b- \b\b\\ \b\b| \b\b/ \b\b- \b\b\\ \b\b| \b\b/ \b\b- \b\b\\ \b\b| \b\b/ \b\b- \b\b\\ \b\b| \b\b/ \b\b- \b\b\\ \b\b| \b\b/ \b\b- \b\b\\ \b\b| \b\b/ \b\b- \b\b\\ \b\b| \b\b/ \b\b- \b\b\\ \b\b| \b\b/ \b\b- \b\b\\ \b\b| \b\b/ \b\b- \b\b\\ \b\b| \b\b/ \b\b- \b\b\\ \b\b| \b\b/ \b\b- \b\b\\ \b\b| \b\b/ \b\b- \b\b\\ \b\b| \b\b/ \b\b- \b\b\\ \b\b| \b\b/ \b\b- \b\b\\ \b\b| \b\b/ \b\b- \b\b\\ \b\b| \b\b/ \b\b- \b\b\\ \b\b| \b\b/ \b\b- \b\b\\ \b\b| \b\b/ \b\b- \b\b\\ \b\b| \b\b/ \b\b- \b\b\\ \b\b| \b\b/ \b\b- \b\b\\ \b\b| \b\b/ \b\b- \b\b\\ \b\b| \b\b/ \b\b- \b\b\\ \b\b| \b\b/ \b\b- \b\b\\ \b\b| \b\b/ \b\b- \b\b\\ \b\b| \b\b/ \b\b- \b\b\\ \b\b| \b\b/ \b\b- \b\b\\ \b\b| \b\b/ \b\b- \b\b\\ \b\b| \b\b/ \b\b- \b\b\\ \b\b| \b\b/ \b\b- \b\b\\ \b\b| \b\b/ \b\b- \b\b\\ \b\b| \b\b/ \b\b- \b\b\\ \b\b| \b\b/ \b\b- \b\b\\ \b\b| \b\b/ \b\b- \b\b\\ \b\b| \b\b/ \b\b- \b\b\\ \b\b| \b\b/ \b\b- \b\b\\ \b\b| \b\b/ \b\b- \b\b\\ \b\b| \b\b/ \b\b- \b\b\\ \b\b| \b\b/ \b\b- \b\b\\ \b\b| \b\b/ \b\b- \b\b\\ \b\b| \b\b/ \b\b- \b\b\\ \b\b| \b\b/ \b\b- \b\b\\ \b\b| \b\b/ \b\b- \b\b\\ \b\b| \b\b/ \b\b- \b\b\\ \b\b| \b\b/ \b\b- \b\b\\ \b\b| \b\b/ \b\b- \b\b\\ \b\b| \b\b/ \b\b- \b\b\\ \b\b| \b\b/ \b\b- \b\b\\ \b\b| \b\b/ \b\b- \b\b\\ \b\b| \b\b/ \b\b- \b\b\\ \b\b| \b\b/ \b\b- \b\b\\ \b\b| \b\b/ \b\b- \b\b\\ \b\b| \b\b/ \b\b- \b\b\\ \b\b| \b\b/ \b\b- \b\b\\ \b\b| \b\b/ \b\b- \b\b\\ \b\b| \b\b/ \b\b- \b\b\\ \b\b| \b\b/ \b\b- \b\b\\ \b\b| \b\b/ \b\b- \b\b\\ \b\b| \b\b/ \b\b- \b\b\\ \b\b| \b\b/ \b\b- \b\b\\ \b\b| \b\b/ \b\b- \b\b\\ \b\b| \b\b/ \b\b- \b\b\\ \b\b| \b\b/ \b\b- \b\b\\ \b\b| \b\b/ \b\b- \b\b\\ \b\b| \b\b/ \b\b- \b\b\\ \b\b| \b\b/ \b\b- \b\b\\ \b\b| \b\b/ \b\b- \b\b\\ \b\b| \b\b/ \b\b- \b\b\\ \b\b| \b\b/ \b\b- \b\b\\ \b\b| \b\b/ \b\b- \b\b\\ \b\b| \b\b/ \b\b- \b\b\\ \b\b| \b\b/ \b\b- \b\b\\ \b\b| \b\b/ \b\b- \b\b\\ \b\b| \b\b/ \b\b- \b\b\\ \b\b| \b\b/ \b\b- \b\b\\ \b\b| \b\b/ \b\b- \b\b\\ \b\b| \b\b/ \b\b- \b\b\\ \b\b| \b\b/ \b\b- \b\b\\ \b\b| \b\b/ \b\b- \b\b\\ \b\b| \b\b/ \b\b- \b\b\\ \b\b| \b\b/ \b\b- \b\b\\ \b\b| \b\b/ \b\b- \b\b\\ \b\b| \b\b/ \b\b- \b\b\\ \b\b| \b\b/ \b\b- \b\b\\ \b\b| \b\b/ \b\b- \b\b\\ \b\b| \b\b/ \b\b- \b\b\\ \b\b| \b\b/ \b\b- \b\b\\ \b\b| \b\b/ \b\b- \b\b\\ \b\b| \b\b/ \b\b- \b\b\\ \b\b| \b\b/ \b\b- \b\b\\ \b\b| \b\b/ \b\b- \b\b\\ \b\b| \b\b/ \b\b- \b\b\\ \b\b| \b\b/ \b\b- \b\b\\ \b\b| \b\b/ \b\b- \b\b\\ \b\b| \b\b/ \b\b- \b\b\\ \b\b| \b\b/ \b\b- \b\b\\ \b\b| \b\b/ \b\b- \b\b\\ \b\b| \b\b/ \b\b- \b\b\\ \b\b| \b\b/ \b\b- \b\b\\ \b\b| \b\b/ \b\b- \b\b\\ \b\b| \b\b/ \b\b- \b\b\\ \b\b| \b\b/ \b\b- \b\b\\ \b\b| \b\b/ \b\b- \b\b\\ \b\b| \b\b/ \b\b- \b\b\\ \b\b| \b\b/ \b\b- \b\b\\ \b\b| \b\b/ \b\b- \b\b\\ \b\b| \b\b/ \b\b- \b\b\\ \b\b| \b\b/ \b\b- \b\b\\ \b\b| \b\b/ \b\b- \b\b\\ \b\b| \b\b/ \b\b- \b\b\\ \b\b| \b\b/ \b\b- \b\b\\ \b\b| \b\b/ \b\b- \b\b\\ \b\b| \b\b/ \b\b- \b\b\\ \b\b| \b\b/ \b\b- \b\b\\ \b\b| \b\b/ \b\b- \b\b\\ \b\b| \b\b/ \b\b- \b\b\\ \b\b| \b\b/ \b\b- \b\b\\ \b\b| \b\b/ \b\b- \b\b\\ \b\b| \b\b/ \b\b- \b\b\\ \b\b| \b\b/ \b\b- \b\b\\ \b\b| \b\b/ \b\b- \b\b\\ \b\b| \b\b/ \b\b- \b\b\\ \b\b| \b\b/ \b\b- \b\b\\ \b\b| \b\b/ \b\b- \b\b\\ \b\b| \b\b/ \b\b- \b\b\\ \b\b| \b\b/ \b\b- \b\b\\ \b\b| \b\b/ \b\b- \b\b\\ \b\b| \b\b/ \b\b- \b\b\\ \b\b| \b\b/ \b\b- \b\b\\ \b\b| \b\b/ \b\b- \b\b\\ \b\b| \b\b/ \b\b- \b\b\\ \b\b| \b\b/ \b\b- \b\b\\ \b\b| \b\b/ \b\b- \b\b\\ \b\b| \b\b/ \b\b- \b\b\\ \b\b| \b\b/ \b\b- \b\b\\ \b\b| \b\b/ \b\b- \b\b\\ \b\b| \b\b/ \b\b- \b\b\\ \b\b| \b\b/ \b\b- \b\b\\ \b\b| \b\b/ \b\b- \b\b\\ \b\b| \b\b/ \b\b- \b\b\\ \b\b| \b\b/ \b\b- \b\b\\ \b\b| \b\b/ \b\b- \b\b\\ \b\b| \b\b/ \b\b- \b\b\\ \b\b| \b\b/ \b\b- \b\b\\ \b\b| \b\b/ \b\b- \b\b\\ \b\b| \b\b/ \b\b- \b\b\\ \b\b| \b\b/ \b\b- \b\b\\ \b\b| \b\b/ \b\b- \b\b\\ \b\b| \b\b/ \b\b- \b\b\\ \b\b| \b\b/ \b\b- \b\b\\ \b\b| \b\b/ \b\b- \b\b\\ \b\b| \b\b/ \b\b- \b\b\\ \b\b| \b\b/ \b\b- \b\b\\ \b\b| \b\b/ \b\b- \b\b\\ \b\b| \b\b/ \b\b- \b\b\\ \b\b| \b\b/ \b\b- \b\b\\ \b\b| \b\b/ \b\b- \b\b\\ \b\b| \b\b/ \b\b- \b\b\\ \b\b| \b\b/ \b\b- \b\b\\ \b\b| \b\b/ \b\b- \b\b\\ \b\b| \b\b/ \b\b- \b\b\\ \b\b| \b\b/ \b\b- \b\b\\ \b\b| \b\b/ \b\b- \b\b\\ \b\b| \b\b/ \b\b- \b\b\\ \b\b| \b\b/ \b\b- \b\b\\ \b\b| \b\b/ \b\b- \b\b\\ \b\b| \b\b/ \b\b- \b\b\\ \b\b| \b\b/ \b\b- \b\b\\ \b\b| \b\b/ \b\b- \b\b\\ \b\b| \b\b/ \b\b- \b\b\\ \b\b| \b\b/ \b\b- \b\b\\ \b\b| \b\b/ \b\b- \b\b\\ \b\b| \b\b/ \b\b- \b\b\\ \b\b| \b\b/ \b\b- \b\b\\ \b\b| \b\b/ \b\b- \b\b\\ \b\b| \b\b/ \b\b- \b\b\\ \b\b| \b\b/ \b\b- \b\b\\ \b\b| \b\b/ \b\b- \b\b\\ \b\b| \b\b/ \b\b- \b\b\\ \b\b| \b\b/ \b\b- \b\b\\ \b\b| \b\b/ \b\b- \b\b\\ \b\b| \b\b/ \b\b- \b\b\\ \b\b| \b\b/ \b\b- \b\b\\ \b\b| \b\b/ \b\b- \b\b\\ \b\b| \b\b/ \b\b- \b\b\\ \b\b| \b\b/ \b\b- \b\b\\ \b\b| \b\b/ \b\b- \b\b\\ \b\b| \b\b/ \b\b- \b\b\\ \b\b| \b\b/ \b\b- \b\b\\ \b\b| \b\b/ \b\b- \b\b\\ \b\b| \b\b/ \b\b- \b\b\\ \b\b| \b\b/ \b\b- \b\b\\ \b\b| \b\b/ \b\b- \b\b\\ \b\b| \b\b/ \b\b- \b\b\\ \b\b| \b\b/ \b\b- \b\b\\ \b\b| \b\b/ \b\b- \b\b\\ \b\b| \b\b/ \b\b- \b\b\\ \b\b| \b\b/ \b\b- \b\b\\ \b\b| \b\b/ \b\b- \b\b\\ \b\b| \b\b/ \b\b- \b\b\\ \b\b| \b\b/ \b\b- \b\b\\ \b\b| \b\b/ \b\b- \b\b\\ \b\b| \b\b/ \b\b- \b\b\\ \b\b| \b\b/ \b\b- \b\b\\ \b\b| \b\b/ \b\b- \b\b\\ \b\b| \b\b/ \b\b- \b\b\\ \b\b| \b\b/ \b\b- \b\b\\ \b\b| \b\b/ \b\b- \b\b\\ \b\b| \b\b/ \b\b- \b\b\\ \b\b| \b\b/ \b\b- \b\b\\ \b\b| \b\b/ \b\b- \b\b\\ \b\b| \b\b/ \b\b- \b\b\\ \b\b| \b\b/ \b\b- \b\b\\ \b\b| \b\b/ \b\b- \b\b\\ \b\b| \b\b/ \b\b- \b\b\\ \b\b| \b\b/ \b\b- \b\b\\ \b\b| \b\b/ \b\b- \b\b\\ \b\b| \b\b/ \b\b- \b\b\\ \b\b| \b\b/ \b\b- \b\b\\ \b\b| \b\b/ \b\b- \b\b\\ \b\b| \b\b/ \b\b- \b\b\\ \b\b| \b\b/ \b\b- \b\b\\ \b\b| \b\b/ \b\b- \b\b\\ \b\b| \b\b/ \b\b- \b\b\\ \b\b| \b\b/ \b\b- \b\b\\ \b\b| \b\b/ \b\b- \b\b\\ \b\b| \b\b/ \b\b- \b\b\\ \b\b| \b\b/ \b\b- \b\b\\ \b\b| \b\b/ \b\b- \b\b\\ \b\b| \b\b/ \b\b- \b\b\\ \b\b| \b\b/ \b\b- \b\b\\ \b\b| \b\b/ \b\b- \b\b\\ \b\b| \b\b/ \b\b- \b\b\\ \b\b| \b\b/ \b\b- \b\b\\ \b\b| \b\b/ \b\b- \b\b\\ \b\b| \b\b/ \b\b- \b\b\\ \b\b| \b\b/ \b\b- \b\b\\ \b\b| \b\b/ \b\b- \b\b\\ \b\b| \b\b/ \b\b- \b\b\\ \b\b| \b\b/ \b\b- \b\b\\ \b\b| \b\b/ \b\b- \b\b\\ \b\b| \b\b/ \b\b- \b\b\\ \b\b| \b\b/ \b\b- \b\b\\ \b\b| \b\b/ \b\b- \b\b\\ \b\b| \b\b/ \b\b- \b\b\\ \b\b| \b\b/ \b\b- \b\b\\ \b\b| \b\b/ \b\b- \b\b\\ \b\b| \b\b/ \b\b- \b\b\\ \b\b| \b\b/ \b\b- \b\b\\ \b\b| \b\b/ \b\b- \b\b\\ \b\b| \b\b/ \b\b- \b\b\\ \b\b| \b\b/ \b\b- \b\b\\ \b\b| \b\b/ \b\b- \b\b\\ \b\b| \b\b/ \b\b- \b\b\\ \b\b| \b\b/ \b\b- \b\b\\ \b\b| \b\b/ \b\b- \b\b\\ \b\b| \b\b/ \b\b- \b\b\\ \b\b| \b\b/ \b\b- \b\b\\ \b\b| \b\b/ \b\b- \b\b\\ \b\b| \b\b/ \b\b- \b\b\\ \b\b| \b\b/ \b\b- \b\b\\ \b\b| \b\b/ \b\b- \b\b\\ \b\b| \b\b/ \b\b- \b\b\\ \b\b| \b\b/ \b\b- \b\b\\ \b\b| \b\b/ \b\b- \b\b\\ \b\b| \b\b/ \b\b- \b\b\\ \b\b| \b\b/ \b\b- \b\b\\ \b\b| \b\b/ \b\b- \b\b\\ \b\b| \b\b/ \b\b- \b\b\\ \b\b| \b\b/ \b\b- \b\b\\ \b\b| \b\b/ \b\b- \b\b\\ \b\b| \b\b/ \b\b- \b\b\\ \b\b| \b\b/ \b\b- \b\b\\ \b\b| \b\b/ \b\b- \b\b\\ \b\b| \b\b/ \b\b- \b\b\\ \b\b| \b\b/ \b\b- \b\b\\ \b\b| \b\b/ \b\b- \b\b\\ \b\b| \b\b/ \b\b- \b\b\\ \b\b| \b\b/ \b\b- \b\b\\ \b\b| \b\b/ \b\b- \b\b\\ \b\b| \b\b/ \b\b- \b\b\\ \b\b| \b\b/ \b\b- \b\b\\ \b\b| \b\b/ \b\b- \b\b\\ \b\b| \b\b/ \b\b- \b\b\\ \b\b| \b\b/ \b\b- \b\b\\ \b\b| \b\b/ \b\b- \b\b\\ \b\b| \b\b/ \b\b- \b\b\\ \b\b| \b\b/ \b\b- \b\b\\ \b\b| \b\b/ \b\b- \b\b\\ \b\b| \b\b/ \b\b- \b\b\\ \b\b| \b\b/ \b\b- \b\b\\ \b\b| \b\b/ \b\b- \b\b\\ \b\b| \b\b/ \b\b- \b\b\\ \b\b| \b\b/ \b\b- \b\b\\ \b\b| \b\b/ \b\b- \b\b\\ \b\b| \b\b/ \b\b- \b\b\\ \b\b| \b\b/ \b\b- \b\b\\ \b\b| \b\b/ \b\b- \b\b\\ \b\b| \b\b/ \b\b- \b\b\\ \b\b| \b\b/ \b\b- \b\b\\ \b\b| \b\b/ \b\b- \b\b\\ \b\b| \b\b/ \b\b- \b\b\\ \b\b| \b\b/ \b\b- \b\b\\ \b\b| \b\b/ \b\b- \b\b\\ \b\b| \b\b/ \b\b- \b\b\\ \b\b| \b\b/ \b\b- \b\b\\ \b\b| \b\b/ \b\b- \b\b\\ \b\b| \b\b/ \b\b- \b\b\\ \b\b| \b\b/ \b\b- \b\b\\ \b\b| \b\b/ \b\b- \b\b\\ \b\b| \b\b/ \b\b- \b\b\\ \b\b| \b\b/ \b\b- \b\b\\ \b\b| \b\b/ \b\b- \b\b\\ \b\b| \b\b/ \b\b- \b\b\\ \b\b| \b\b/ \b\b- \b\b\\ \b\b| \b\b/ \b\b- \b\b\\ \b\b| \b\b/ \b\b- \b\b\\ \b\b| \b\b/ \b\b- \b\b\\ \b\b| \b\b/ \b\b- \b\b\\ \b\b| \b\b/ \b\b- \b\b\\ \b\b| \b\b/ \b\b- \b\b\\ \b\b| \b\b/ \b\b- \b\b\\ \b\b| \b\b/ \b\b- \b\b\\ \b\b| \b\b/ \b\b- \b\b\\ \b\b| \b\b/ \b\b- \b\b\\ \b\b| \b\b/ \b\b- \b\b\\ \b\b| \b\b/ \b\b- \b\b\\ \b\b| \b\b/ \b\b- \b\b\\ \b\b| \b\b/ \b\b- \b\b\\ \b\b| \b\b/ \b\b- \b\b\\ \b\b| \b\b/ \b\b- \b\b\\ \b\b| \b\b/ \b\b- \b\b\\ \b\b| \b\b/ \b\b- \b\b\\ \b\b| \b\b/ \b\b- \b\b\\ \b\b| \b\b/ \b\b- \b\b\\ \b\b| \b\b/ \b\b- \b\b\\ \b\b| \b\b/ \b\b- \b\b\\ \b\b| \b\b/ \b\b- \b\b\\ \b\b| \b\b/ \b\b- \b\b\\ \b\b| \b\b/ \b\b- \b\b\\ \b\b| \b\b/ \b\b- \b\b\\ \b\b| \b\b/ \b\b- \b\b\\ \b\b| \b\b/ \b\b- \b\b\\ \b\b| \b\b/ \b\b- \b\b\\ \b\b| \b\b/ \b\b- \b\b\\ \b\b| \b\b/ \b\b- \b\b\\ \b\b| \b\b/ \b\b- \b\b\\ \b\b| \b\b/ \b\b- \b\b\\ \b\b| \b\b/ \b\b- \b\b\\ \b\b| \b\b/ \b\b- \b\b\\ \b\b| \b\b/ \b\b- \b\b\\ \b\b| \b\b/ \b\b- \b\b\\ \b\b| \b\b/ \b\b- \b\b\\ \b\b| \b\b/ \b\b- \b\b\\ \b\b| \b\b/ \b\b- \b\b\\ \b\b| \b\b/ \b\b- \b\b\\ \b\b| \b\b/ \b\b- \b\b\\ \b\b| \b\b/ \b\b- \b\b\\ \b\b| \b\b/ \b\b- \b\b\\ \b\b| \b\b/ \b\b- \b\b\\ \b\b| \b\b/ \b\b- \b\b\\ \b\b| \b\b/ \b\b- \b\b\\ \b\b| \b\b/ \b\b- \b\b\\ \b\b| \b\b/ \b\b- \b\b\\ \b\b| \b\b/ \b\b- \b\b\\ \b\b| \b\b/ \b\b- \b\b\\ \b\b| \b\b/ \b\b- \b\b\\ \b\b| \b\b/ \b\b- \b\b\\ \b\b| \b\b/ \b\b- \b\b\\ \b\b| \b\b/ \b\b- \b\b\\ \b\b| \b\b/ \b\b- \b\b\\ \b\b| \b\b/ \b\b- \b\b\\ \b\b| \b\b/ \b\b- \b\b\\ \b\b| \b\b/ \b\b- \b\b\\ \b\b| \b\b/ \b\b- \b\b\\ \b\b| \b\b/ \b\b- \b\b\\ \b\b| \b\b/ \b\b- \b\b\\ \b\b| \b\b/ \b\b- \b\b\\ \b\b| \b\b/ \b\b- \b\b\\ \b\b| \b\b/ \b\b- \b\b\\ \b\b| \b\b/ \b\b- \b\b\\ \b\b| \b\b/ \b\b- \b\b\\ \b\b| \b\b/ \b\b- \b\b\\ \b\b| \b\b/ \b\b- \b\b\\ \b\b| \b\b/ \b\b- \b\b\\ \b\b| \b\b/ \b\b- \b\b\\ \b\b| \b\b/ \b\b- \b\b\\ \b\b| \b\b/ \b\b- \b\b\\ \b\b| \b\b/ \b\b- \b\b\\ \b\b| \b\b/ \b\b- \b\b\\ \b\b| \b\b/ \b\b- \b\b\\ \b\b| \b\b/ \b\b- \b\b\\ \b\b| \b\b/ \b\b- \b\b\\ \b\b| \b\b/ \b\b- \b\b\\ \b\b| \b\b/ \b\b- \b\b\\ \b\b| \b\b/ \b\b- \b\b\\ \b\b| \b\b/ \b\b- \b\b\\ \b\b| \b\b/ \b\b- \b\b\\ \b\b| \b\b/ \b\b- \b\b\\ \b\b| \b\b/ \b\b- \b\b\\ \b\b| \b\b/ \b\b- \b\b\\ \b\b| \b\b/ \b\b- \b\b\\ \b\b| \b\b/ \b\b- \b\b\\ \b\b| \b\b/ \b\b- \b\b\\ \b\b| \b\b/ \b\b- \b\b\\ \b\b| \b\b/ \b\b- \b\b\\ \b\b| \b\b/ \b\b- \b\b\\ \b\b| \b\b/ \b\b- \b\b\\ \b\b| \b\b/ \b\b- \b\b\\ \b\b| \b\b/ \b\b- \b\b\\ \b\b| \b\b/ \b\b- \b\b\\ \b\b| \b\b/ \b\b- \b\b\\ \b\b| \b\b/ \b\b- \b\b\\ \b\b| \b\b/ \b\b- \b\b\\ \b\b| \b\b/ \b\b- \b\b\\ \b\b| \b\b/ \b\b- \b\b\\ \b\b| \b\b/ \b\b- \b\b\\ \b\b| \b\b/ \b\b- \b\b\\ \b\b| \b\b/ \b\b- \b\b\\ \b\b| \b\b/ \b\b- \b\b\\ \b\b| \b\b/ \b\b- \b\b\\ \b\b| \b\b/ \b\b- \b\b\\ \b\b| \b\b/ \b\b- \b\b\\ \b\b| \b\b/ \b\b- \b\b\\ \b\b| \b\b/ \b\b- \b\b\\ \b\b| \b\b/ \b\b- \b\b\\ \b\b| \b\b/ \b\b- \b\b\\ \b\b| \b\b/ \b\b- \b\b\\ \b\b| \b\b/ \b\b- \b\b\\ \b\b| \b\b/ \b\b- \b\b\\ \b\b| \b\b/ \b\b- \b\b\\ \b\b| \b\b/ \b\b- \b\b\\ \b\b| \b\b/ \b\b- \b\b\\ \b\b| \b\b/ \b\b- \b\b\\ \b\b| \b\b/ \b\b- \b\b\\ \b\b| \b\b/ \b\b- \b\b\\ \b\b| \b\b/ \b\b- \b\b\\ \b\b| \b\b/ \b\b- \b\b\\ \b\b| \b\b/ \b\b- \b\b\\ \b\b| \b\b/ \b\b- \b\b\\ \b\b| \b\b/ \b\b- \b\b\\ \b\b| \b\b/ \b\b- \b\b\\ \b\b| \b\b/ \b\b- \b\b\\ \b\b| \b\b/ \b\b- \b\b\\ \b\b| \b\b/ \b\b- \b\b\\ \b\b| \b\b/ \b\b- \b\b\\ \b\b| \b\b/ \b\b- \b\b\\ \b\b| \b\b/ \b\b- \b\b\\ \b\b| \b\b/ \b\b- \b\b\\ \b\b| \b\b/ \b\b- \b\b\\ \b\b| \b\b/ \b\b- \b\b\\ \b\b| \b\b/ \b\b- \b\b\\ \b\b| \b\b/ \b\b- \b\b\\ \b\b| \b\b/ \b\b- \b\b\\ \b\b| \b\b/ \b\b- \b\b\\ \b\b| \b\b/ \b\b- \b\b\\ \b\b| \b\b/ \b\b- \b\b\\ \b\b| \b\b/ \b\b- \b\b\\ \b\b| \b\b/ \b\b- \b\b\\ \b\b| \b\b/ \b\b- \b\b\\ \b\b| \b\b/ \b\b- \b\b\\ \b\b| \b\b/ \b\b- \b\b\\ \b\b| \b\b/ \b\b- \b\b\\ \b\b| \b\b/ \b\b- \b\b\\ \b\b| \b\b/ \b\b- \b\b\\ \b\b| \b\b/ \b\b- \b\b\\ \b\b| \b\b/ \b\b- \b\b\\ \b\b| \b\b/ \b\b- \b\b\\ \b\b| \b\b/ \b\b- \b\b\\ \b\b| \b\b/ \b\b- \b\b\\ \b\b| \b\b/ \b\b- \b\b\\ \b\b| \b\b/ \b\b- \b\b\\ \b\b| \b\b/ \b\b- \b\b\\ \b\b| \b\b/ \b\b- \b\b\\ \b\b| \b\b/ \b\b- \b\b\\ \b\b| \b\b/ \b\b- \b\b\\ \b\b| \b\b/ \b\b- \b\b\\ \b\b| \b\b/ \b\b- \b\b\\ \b\b| \b\b/ \b\b- \b\b\\ \b\b| \b\b/ \b\b- \b\b\\ \b\b| \b\b/ \b\b- \b\b\\ \b\b| \b\b/ \b\b- \b\b\\ \b\b| \b\b/ \b\b- \b\b\\ \b\b| \b\b/ \b\b- \b\b\\ \b\b| \b\b/ \b\b- \b\b\\ \b\b| \b\b/ \b\b- \b\b\\ \b\b| \b\b/ \b\b- \b\b\\ \b\b| \b\b/ \b\b- \b\b\\ \b\b| \b\b/ \b\b- \b\b\\ \b\b| \b\b/ \b\b- \b\b\\ \b\b| \b\b/ \b\b- \b\b\\ \b\b| \b\b/ \b\b- \b\b\\ \b\b| \b\b/ \b\b- \b\b\\ \b\b| \b\b/ \b\b- \b\b\\ \b\b| \b\b/ \b\b- \b\b\\ \b\b| \b\b/ \b\b- \b\b\\ \b\b| \b\b/ \b\b- \b\b\\ \b\b| \b\b/ \b\b- \b\b\\ \b\b| \b\b/ \b\b- \b\b\\ \b\b| \b\b/ \b\b- \b\b\\ \b\b| \b\b/ \b\b- \b\b\\ \b\b| \b\b/ \b\b- \b\b\\ \b\b| \b\b/ \b\b- \b\b\\ \b\b| \b\b/ \b\b- \b\b\\ \b\b| \b\b/ \b\b- \b\b\\ \b\b| \b\b/ \b\b- \b\b\\ \b\b| \b\b/ \b\b- \b\b\\ \b\b| \b\b/ \b\b- \b\b\\ \b\b| \b\b/ \b\b- \b\b\\ \b\b| \b\b/ \b\b- \b\b\\ \b\b| \b\b/ \b\b- \b\b\\ \b\b| \b\b/ \b\b- \b\b\\ \b\b| \b\b/ \b\b- \b\b\\ \b\b| \b\b/ \b\b- \b\b\\ \b\b| \b\b/ \b\b- \b\b\\ \b\b| \b\b/ \b\b- \b\b\\ \b\b| \b\b/ \b\b- \b\b\\ \b\b| \b\b/ \b\b- \b\b\\ \b\b| \b\b/ \b\b- \b\b\\ \b\b| \b\b/ \b\b- \b\b\\ \b\b| \b\b/ \b\b- \b\b\\ \b\b| \b\b/ \b\b- \b\b\\ \b\b| \b\b/ \b\b- \b\b\\ \b\b| \b\b/ \b\b- \b\b\\ \b\b| \b\b/ \b\b- \b\b\\ \b\b| \b\b/ \b\b- \b\b\\ \b\b| \b\b/ \b\b- \b\b\\ \b\b| \b\b/ \b\b- \b\b\\ \b\b| \b\b/ \b\b- \b\b\\ \b\b| \b\b/ \b\b- \b\b\\ \b\b| \b\b/ \b\b- \b\b\\ \b\b| \b\b/ \b\b- \b\b\\ \b\b| \b\b/ \b\b- \b\b\\ \b\b| \b\b/ \b\b- \b\b\\ \b\b| \b\b/ \b\b- \b\b\\ \b\b| \b\b/ \b\b- \b\b\\ \b\b| \b\b/ \b\b- \b\b\\ \b\b| \b\b/ \b\b- \b\b\\ \b\b| \b\b/ \b\b- \b\b\\ \b\b| \b\b/ \b\b- \b\b\\ \b\b| \b\b/ \b\b- \b\b\\ \b\b| \b\b/ \b\b- \b\b\\ \b\b| \b\b/ \b\b- \b\b\\ \b\b| \b\b/ \b\b- \b\b\\ \b\b| \b\b/ \b\b- \b\b\\ \b\b| \b\b/ \b\b- \b\b\\ \b\b| \b\b/ \b\b- \b\b\\ \b\b| \b\b/ \b\b- \b\b\\ \b\b| \b\b/ \b\b- \b\b\\ \b\b| \b\b/ \b\b- \b\b\\ \b\b| \b\b/ \b\b- \b\b\\ \b\b| \b\b/ \b\b- \b\b\\ \b\b| \b\b/ \b\b- \b\b\\ \b\b| \b\b/ \b\b- \b\b\\ \b\b| \b\b/ \b\b- \b\b\\ \b\b| \b\b/ \b\b- \b\b\\ \b\b| \b\b/ \b\b- \b\b\\ \b\b| \b\b/ \b\b- \b\b\\ \b\b| \b\b/ \b\b- \b\b\\ \b\b| \b\b/ \b\b- \b\b\\ \b\b| \b\b/ \b\b- \b\b\\ \b\b| \b\b/ \b\b- \b\b\\ \b\b| \b\b/ \b\b- \b\b\\ \b\bfailed with repodata from current_repodata.json, will retry with next repodata source.\r\n",
      "Collecting package metadata (repodata.json): / \b\b- \b\b\\ \b\b| \b\b/ \b\b- \b\b\\ \b\b| \b\b/ \b\b- \b\b\\ \b\b| \b\b/ \b\b- \b\b\\ \b\b| \b\b/ \b\b- \b\b\\ \b\b| \b\b/ \b\b- \b\b\\ \b\b| \b\b/ \b\b- \b\b\\ \b\b| \b\b/ \b\b- \b\b\\ \b\b| \b\b/ \b\b- \b\b\\ \b\b| \b\b/ \b\b- \b\b\\ \b\b| \b\b/ \b\b- \b\b\\ \b\b| \b\b/ \b\b- \b\b\\ \b\b| \b\b/ \b\b- \b\b\\ \b\b| \b\b/ \b\b- \b\b\\ \b\b| \b\b/ \b\b- \b\b\\ \b\b| \b\b/ \b\b- \b\b\\ \b\b| \b\b/ \b\b- \b\b\\ \b\b| \b\b/ \b\b- \b\b\\ \b\b| \b\b/ \b\b- \b\b\\ \b\b| \b\b/ \b\b- \b\b\\ \b\b| \b\b/ \b\b- \b\b\\ \b\b| \b\b/ \b\b- \b\b\\ \b\b| \b\b/ \b\b- \b\b\\ \b\b| \b\b/ \b\b- \b\b\\ \b\b| \b\b/ \b\b- \b\b\\ \b\b| \b\b/ \b\b- \b\b\\ \b\b| \b\b/ \b\b- \b\b\\ \b\b| \b\b/ \b\b- \b\b\\ \b\b| \b\b/ \b\b- \b\b\\ \b\b| \b\b/ \b\b- \b\b\\ \b\b| \b\b/ \b\b- \b\b\\ \b\b| \b\b/ \b\b- \b\b\\ \b\b| \b\b/ \b\b- \b\b\\ \b\b| \b\b/ \b\b- \b\b\\ \b\b| \b\b/ \b\b- \b\b\\ \b\b| \b\b/ \b\b- \b\b\\ \b\b| \b\b/ \b\b- \b\b\\ \b\b| \b\b/ \b\b- \b\b\\ \b\b| \b\b/ \b\b- \b\b\\ \b\b| \b\b/ \b\b- \b\b\\ \b\b| \b\b/ \b\b- \b\b\\ \b\b| \b\b/ \b\b- \b\b\\ \b\b| \b\b/ \b\b- \b\b\\ \b\b| \b\b/ \b\b- \b\b\\ \b\b| \b\b/ \b\b- \b\b\\ \b\b| \b\b/ \b\b- \b\b\\ \b\b| \b\b/ \b\b- \b\b\\ \b\b| \b\b/ \b\b- \b\b\\ \b\b| \b\b/ \b\b- \b\b\\ \b\b| \b\b/ \b\b- \b\b\\ \b\b| \b\b/ \b\b- \b\b\\ \b\b| \b\b/ \b\b- \b\b\\ \b\b| \b\b/ \b\b- \b\b\\ \b\b| \b\b/ \b\b- \b\b\\ \b\b| \b\b/ \b\b- \b\b\\ \b\b| \b\b/ \b\b- \b\b\\ \b\b| \b\b/ \b\b- \b\b\\ \b\b| \b\b/ \b\b- \b\b\\ \b\b| \b\b/ \b\b- \b\b\\ \b\b| \b\b/ \b\b- \b\b\\ \b\b| \b\b/ \b\b- \b\b\\ \b\b| \b\b/ \b\b- \b\b\\ \b\b| \b\b/ \b\b- \b\b\\ \b\b| \b\b/ \b\b- \b\b\\ \b\b| \b\b/ \b\b- \b\b\\ \b\b| \b\b/ \b\b- \b\b\\ \b\b| \b\b/ \b\b- \b\b\\ \b\b| \b\b/ \b\b- \b\b\\ \b\b| \b\b/ \b\b- \b\b\\ \b\b| \b\b/ \b\b- \b\b\\ \b\b| \b\b/ \b\b- \b\b\\ \b\b| \b\b/ \b\b- \b\b\\ \b\b| \b\b/ \b\b- \b\b\\ \b\b| \b\b/ \b\b- \b\b\\ \b\b| \b\b/ \b\b- \b\b\\ \b\b| \b\b/ \b\b- \b\b\\ \b\b| \b\b/ \b\b- \b\b\\ \b\b| \b\b/ \b\b- \b\b\\ \b\b| \b\b/ \b\b- \b\b\\ \b\b| \b\b/ \b\b- \b\b\\ \b\b| \b\b/ \b\b- \b\b\\ \b\b| \b\b/ \b\b- \b\b\\ \b\b| \b\b/ \b\b- \b\b\\ \b\b| \b\b/ \b\b- \b\b\\ \b\b| \b\b/ \b\b- \b\b\\ \b\b| \b\b/ \b\b- \b\b\\ \b\b| \b\b/ \b\b- \b\b\\ \b\b| \b\b/ \b\b- \b\b\\ \b\b| \b\b/ \b\b- \b\b\\ \b\b| \b\b/ \b\b- \b\b\\ \b\b| \b\b/ \b\b- \b\b\\ \b\b| \b\b/ \b\b- \b\b\\ \b\b| \b\b/ \b\b- \b\b\\ \b\b| \b\b/ \b\b- \b\b\\ \b\b| \b\b/ \b\b- \b\b\\ \b\b| \b\b/ \b\b- \b\b\\ \b\b| \b\b/ \b\b- \b\b\\ \b\b| \b\b/ \b\b- \b\b\\ \b\b| \b\b/ \b\b- \b\b\\ \b\b| \b\b/ \b\b- \b\b\\ \b\b| \b\b/ \b\b- \b\b\\ \b\b| \b\b/ \b\b- \b\b\\ \b\b| \b\b/ \b\b- \b\b\\ \b\b| \b\b/ \b\b- \b\b\\ \b\b| \b\b/ \b\b- \b\b\\ \b\b| \b\b/ \b\b- \b\b\\ \b\b| \b\b/ \b\b- \b\b\\ \b\b| \b\b/ \b\b- \b\b\\ \b\b| \b\b/ \b\b- \b\b\\ \b\b| \b\b/ \b\b- \b\b\\ \b\b| \b\b/ \b\b- \b\b\\ \b\b| \b\b/ \b\b- \b\b\\ \b\b| \b\b/ \b\b- \b\b\\ \b\b| \b\b/ \b\b- \b\b\\ \b\b| \b\b/ \b\b- \b\b\\ \b\b| \b\b/ \b\b- \b\b\\ \b\b| \b\b/ \b\b- \b\b\\ \b\b| \b\b/ \b\b- \b\b\\ \b\b| \b\b/ \b\b- \b\b\\ \b\b| \b\b/ \b\b- \b\b\\ \b\b| \b\b/ \b\b- \b\b\\ \b\b| \b\b/ \b\b- \b\b\\ \b\b| \b\b/ \b\b- \b\b\\ \b\b| \b\b/ \b\b- \b\b\\ \b\b| \b\b/ \b\b- \b\b\\ \b\b| \b\b/ \b\b- \b\b\\ \b\b| \b\b/ \b\b- \b\b\\ \b\b| \b\b/ \b\b- \b\b\\ \b\b| \b\b/ \b\b- \b\b\\ \b\b| \b\b/ \b\b- \b\b\\ \b\b| \b\b/ \b\b- \b\b\\ \b\b| \b\b/ \b\b- \b\b\\ \b\b| \b\b/ \b\b- \b\b\\ \b\b| \b\b/ \b\b- \b\b\\ \b\b| \b\b/ \b\b- \b\b\\ \b\b| \b\b/ \b\b- \b\b\\ \b\b| \b\b/ \b\b- \b\b\\ \b\b| \b\b/ \b\b- \b\b\\ \b\b| \b\b/ \b\b- \b\b\\ \b\b| \b\b/ \b\b- \b\b\\ \b\b| \b\b/ \b\b- \b\b\\ \b\b| \b\b/ \b\b- \b\b\\ \b\b| \b\b/ \b\b- \b\b\\ \b\b| \b\b/ \b\b- \b\b\\ \b\b| \b\b/ \b\b- \b\b\\ \b\b| \b\b/ \b\b- \b\b\\ \b\b| \b\b/ \b\b- \b\b\\ \b\b| \b\b/ \b\b- \b\b\\ \b\b| \b\b/ \b\b- \b\b\\ \b\b| \b\b/ \b\b- \b\b\\ \b\b| \b\b/ \b\b- \b\b\\ \b\b| \b\b/ \b\b- \b\b\\ \b\b| \b\b/ \b\b- \b\b\\ \b\b| \b\b/ \b\b- \b\b\\ \b\b| \b\b/ \b\b- \b\b\\ \b\b| \b\b/ \b\b- \b\b\\ \b\b| \b\b/ \b\b- \b\b\\ \b\b| \b\b/ \b\b- \b\b\\ \b\b| \b\b/ \b\b- \b\b\\ \b\b| \b\b/ \b\b- \b\b\\ \b\b| \b\b/ \b\b- \b\b\\ \b\b| \b\b/ \b\b- \b\b\\ \b\b| \b\b/ \b\b- \b\b\\ \b\b| \b\b/ \b\b- \b\b\\ \b\b| \b\b/ \b\b- \b\b\\ \b\b| \b\b/ \b\b- \b\b\\ \b\b| \b\b/ \b\b- \b\b\\ \b\b| \b\b/ \b\b- \b\b\\ \b\b| \b\b/ \b\b- \b\b\\ \b\b| \b\b/ \b\b- \b\b\\ \b\b| \b\b/ \b\b- \b\b\\ \b\b| \b\b/ \b\b- \b\b\\ \b\b| \b\b/ \b\b- \b\b\\ \b\b| \b\b/ \b\b- \b\b\\ \b\b| \b\b/ \b\b- \b\b\\ \b\b| \b\b/ \b\b- \b\b\\ \b\b| \b\b/ \b\b- \b\b\\ \b\b| \b\b/ \b\b- \b\b\\ \b\b| \b\b/ \b\b- \b\b\\ \b\b| \b\b/ \b\b- \b\b\\ \b\b| \b\b/ \b\b- \b\b\\ \b\b| \b\b/ \b\b- \b\b\\ \b\b| \b\b/ \b\b- \b\b\\ \b\b| \b\b/ \b\b- \b\b\\ \b\b| \b\b/ \b\b- \b\b\\ \b\b| \b\b/ \b\b- \b\b\\ \b\b| \b\b/ \b\b- \b\b\\ \b\b| \b\b/ \b\b- \b\b\\ \b\b| \b\b/ \b\b- \b\b\\ \b\b| \b\b/ \b\b- \b\b\\ \b\b| \b\b/ \b\b- \b\b\\ \b\b| \b\b/ \b\b- \b\b\\ \b\b| \b\b/ \b\b- \b\b\\ \b\b| \b\b/ \b\b- \b\b\\ \b\b| \b\b/ \b\b- \b\b\\ \b\b| \b\b/ \b\b- \b\b\\ \b\b| \b\b/ \b\b- \b\b\\ \b\b| \b\b/ \b\b- \b\b\\ \b\b| \b\b/ \b\b- \b\b\\ \b\b| \b\b/ \b\b- \b\b\\ \b\b| \b\b/ \b\b- \b\b\\ \b\b| \b\b/ \b\b- \b\b\\ \b\b| \b\b/ \b\b- \b\b\\ \b\b| \b\b/ \b\b- \b\bdone\r\n",
      "Solving environment: | \b\b/ \b\b- \b\b\\ \b\b| \b\b/ \b\b- \b\b\\ \b\b| \b\b/ \b\b- \b\b\\ \b\b| \b\b/ \b\b- \b\b\\ \b\b| \b\b/ \b\b- \b\b\\ \b\b| \b\b/ \b\b- \b\b\\ \b\b| \b\b/ \b\b- \b\b\\ \b\b| \b\b/ \b\b- \b\b\\ \b\b| \b\b/ \b\b- \b\b\\ \b\b| \b\b/ \b\b- \b\b\\ \b\b| \b\b/ \b\b- \b\b\\ \b\b| \b\b/ \b\b- \b\b\\ \b\b| \b\b/ \b\b- \b\b\\ \b\b| \b\b/ \b\b- \b\b\\ \b\b| \b\b/ \b\b- \b\b\\ \b\b| \b\b/ \b\b- \b\b\\ \b\b| \b\b/ \b\b- \b\b\\ \b\b| \b\b/ \b\b- \b\b\\ \b\b| \b\b/ \b\b- \b\b\\ \b\b| \b\b/ \b\b- \b\b\\ \b\b| \b\b/ \b\b- \b\b\\ \b\b| \b\b/ \b\b- \b\b\\ \b\b| \b\b/ \b\b- \b\b\\ \b\b| \b\b/ \b\b- \b\b\\ \b\b| \b\b/ \b\b- \b\b\\ \b\b| \b\b/ \b\b- \b\b\\ \b\b| \b\b/ \b\b- \b\b\\ \b\b| \b\b/ \b\b- \b\b\\ \b\b| \b\b/ \b\b- \b\b\\ \b\b| \b\b/ \b\b- \b\b\\ \b\b| \b\b/ \b\b- \b\b\\ \b\b| \b\b/ \b\b- \b\b\\ \b\b| \b\b/ \b\b- \b\b\\ \b\b| \b\b/ \b\b- \b\b\\ \b\b| \b\b/ \b\b- \b\b\\ \b\b| \b\b/ \b\b- \b\b\\ \b\b| \b\b/ \b\b- \b\b\\ \b\b| \b\b/ \b\b- \b\b\\ \b\b| \b\b/ \b\b- \b\b\\ \b\b| \b\b/ \b\b- \b\b\\ \b\b| \b\b/ \b\b- \b\b\\ \b\b| \b\b/ \b\b- \b\b\\ \b\b| \b\b/ \b\b- \b\b\\ \b\b| \b\b/ \b\b- \b\b\\ \b\b| \b\b/ \b\b- \b\b\\ \b\b| \b\b/ \b\b- \b\b\\ \b\b| \b\b/ \b\b- \b\b\\ \b\b| \b\b/ \b\b- \b\b\\ \b\b| \b\b/ \b\b- \b\b\\ \b\b| \b\b/ \b\b- \b\b\\ \b\b| \b\b/ \b\b- \b\b\\ \b\b| \b\b/ \b\b- \b\b\\ \b\b| \b\b/ \b\b- \b\b\\ \b\b| \b\b/ \b\b- \b\b\\ \b\b| \b\b/ \b\b- \b\b\\ \b\b| \b\b/ \b\b- \b\b\\ \b\b| \b\b/ \b\b- \b\b\\ \b\b| \b\b/ \b\b- \b\b\\ \b\b| \b\b/ \b\b- \b\b\\ \b\b| \b\b/ \b\b- \b\b\\ \b\b| \b\b/ \b\b- \b\b\\ \b\b| \b\b/ \b\b- \b\b\\ \b\b| \b\b/ \b\b- \b\b\\ \b\b| \b\b/ \b\b- \b\b\\ \b\b| \b\b/ \b\b- \b\b\\ \b\b| \b\b/ \b\b- \b\b\\ \b\b| \b\b/ \b\b- \b\b\\ \b\b| \b\b/ \b\b- \b\b\\ \b\b| \b\b/ \b\b- \b\b\\ \b\b| \b\b/ \b\b- \b\b\\ \b\b| \b\b/ \b\b- \b\b\\ \b\b| \b\b/ \b\b- \b\b\\ \b\b| \b\b/ \b\b- \b\b\\ \b\b| \b\b/ \b\b- \b\b\\ \b\b| \b\b/ \b\b- \b\b\\ \b\b| \b\b/ \b\b- \b\b\\ \b\b| \b\b/ \b\b- \b\b\\ \b\b| \b\b/ \b\b- \b\b\\ \b\b| \b\b/ \b\b- \b\b\\ \b\b| \b\b/ \b\b- \b\b\\ \b\b| \b\b/ \b\b- \b\b\\ \b\b| \b\b/ \b\b- \b\b\\ \b\b| \b\b/ \b\b- \b\b\\ \b\b| \b\b/ \b\b- \b\b\\ \b\b| \b\b/ \b\b- \b\b\\ \b\b| \b\b/ \b\b- \b\b\\ \b\b| \b\b/ \b\b- \b\b\\ \b\b| \b\b/ \b\b- \b\b\\ \b\b| \b\b/ \b\b- \b\b\\ \b\b| \b\b/ \b\b- \b\b\\ \b\b| \b\b/ \b\b- \b\b\\ \b\b| \b\b/ \b\b- \b\b\\ \b\b| \b\b/ \b\b- \b\b\\ \b\b| \b\b/ \b\b- \b\b\\ \b\b| \b\b/ \b\b- \b\b\\ \b\b| \b\b/ \b\b- \b\b\\ \b\b| \b\b/ \b\b- \b\b\\ \b\b| \b\b/ \b\b- \b\b\\ \b\b| \b\b/ \b\b- \b\b\\ \b\b| \b\b/ \b\b- \b\b\\ \b\b| \b\b/ \b\b- \b\b\\ \b\b| \b\b/ \b\b- \b\b\\ \b\b| \b\b/ \b\b- \b\b\\ \b\b| \b\b/ \b\b- \b\b\\ \b\b| \b\b/ \b\b- \b\b\\ \b\b| \b\b/ \b\b- \b\b\\ \b\b| \b\b/ \b\b- \b\b\\ \b\b| \b\b/ \b\b- \b\b\\ \b\b| \b\b/ \b\b- \b\b\\ \b\b| \b\b/ \b\b- \b\b\\ \b\b| \b\b/ \b\b- \b\b\\ \b\b| \b\b/ \b\b- \b\b\\ \b\b| \b\b/ \b\b- \b\b\\ \b\b| \b\b/ \b\b- \b\b\\ \b\b| \b\b/ \b\b- \b\b\\ \b\b| \b\b/ \b\b- \b\b\\ \b\b| \b\b/ \b\b- \b\b\\ \b\b| \b\b/ \b\b- \b\b\\ \b\b| \b\b/ \b\b- \b\b\\ \b\b| \b\b/ \b\b- \b\b\\ \b\b| \b\b/ \b\b- \b\b\\ \b\b| \b\b/ \b\b- \b\b\\ \b\b| \b\b/ \b\b- \b\b\\ \b\b| \b\b/ \b\b- \b\b\\ \b\b| \b\b/ \b\b- \b\b\\ \b\b| \b\b/ \b\b- \b\b\\ \b\b| \b\b/ \b\b- \b\b\\ \b\b| \b\b/ \b\b- \b\b\\ \b\b| \b\b/ \b\b- \b\b\\ \b\b| \b\b/ \b\b- \b\b\\ \b\b| \b\b/ \b\b- \b\b\\ \b\b| \b\b/ \b\b- \b\b\\ \b\b| \b\b/ \b\b- \b\b\\ \b\b| \b\b/ \b\b- \b\b\\ \b\b| \b\b/ \b\b- \b\b\\ \b\b| \b\b/ \b\b- \b\b\\ \b\b| \b\b/ \b\b- \b\b\\ \b\b| \b\b/ \b\b- \b\b\\ \b\b| \b\b/ \b\b- \b\b\\ \b\b| \b\b/ \b\b- \b\b\\ \b\b| \b\b/ \b\b- \b\b\\ \b\b| \b\b/ \b\b- \b\b\\ \b\b| \b\b/ \b\b- \b\b\\ \b\b| \b\b/ \b\b- \b\b\\ \b\b| \b\b/ \b\b- \b\b\\ \b\b| \b\b/ \b\b- \b\b\\ \b\b| \b\b/ \b\b- \b\b\\ \b\b| \b\b/ \b\b- \b\b\\ \b\b| \b\b/ \b\b- \b\b\\ \b\b| \b\b/ \b\b- \b\b\\ \b\b| \b\b/ \b\b- \b\b\\ \b\b| \b\b/ \b\b- \b\b\\ \b\b| \b\b/ \b\b- \b\b\\ \b\b| \b\b/ \b\b- \b\b\\ \b\b| \b\b/ \b\b- \b\b\\ \b\b| \b\b/ \b\b- \b\b\\ \b\b| \b\b/ \b\b- \b\b\\ \b\b| \b\b/ \b\b- \b\b\\ \b\b| \b\b/ \b\b- \b\b\\ \b\b| \b\b/ \b\b- \b\b\\ \b\b| \b\b/ \b\b- \b\b\\ \b\b| \b\b/ \b\b- \b\b\\ \b\b| \b\b/ \b\b- \b\b\\ \b\b| \b\b/ \b\b- \b\b\\ \b\b| \b\b/ \b\b- \b\b\\ \b\b| \b\b/ \b\b- \b\b\\ \b\b| \b\b/ \b\b- \b\b\\ \b\b| \b\b/ \b\b- \b\b\\ \b\b| \b\b/ \b\b- \b\b\\ \b\b| \b\b/ \b\b- \b\b\\ \b\b| \b\b/ \b\b- \b\b\\ \b\b| \b\b/ \b\b- \b\b\\ \b\b| \b\b/ \b\b- \b\b\\ \b\b| \b\b/ \b\b- \b\b\\ \b\b| \b\b/ \b\b- \b\b\\ \b\b| \b\b/ \b\b- \b\b\\ \b\b| \b\b/ \b\b- \b\b\\ \b\b| \b\b/ \b\b- \b\b\\ \b\b| \b\b/ \b\b- \b\b\\ \b\b| \b\b/ \b\b- \b\b\\ \b\b| \b\b/ \b\b- \b\b\\ \b\b| \b\b/ \b\b- \b\b\\ \b\b| \b\b/ \b\b- \b\b\\ \b\b| \b\b/ \b\b- \b\b\\ \b\b| \b\b/ \b\b- \b\b\\ \b\b| \b\b/ \b\b- \b\b\\ \b\b| \b\b/ \b\b- \b\b\\ \b\b| \b\b/ \b\b- \b\b\\ \b\b| \b\b/ \b\b- \b\b\\ \b\b| \b\b/ \b\b- \b\b\\ \b\b| \b\b/ \b\b- \b\b\\ \b\b| \b\b/ \b\b- \b\b\\ \b\b| \b\b/ \b\b- \b\b\\ \b\b| \b\b/ \b\b- \b\b\\ \b\b| \b\b/ \b\b- \b\b\\ \b\b| \b\b/ \b\b- \b\b\\ \b\b| \b\b/ \b\b- \b\b\\ \b\b| \b\b/ \b\b- \b\b\\ \b\b| \b\b/ \b\b- \b\b\\ \b\b| \b\b/ \b\b- \b\b\\ \b\b| \b\b/ \b\b- \b\b\\ \b\b| \b\b/ \b\b- \b\b\\ \b\b| \b\b/ \b\b- \b\b\\ \b\b| \b\b/ \b\b- \b\b\\ \b\b| \b\b/ \b\b- \b\b\\ \b\b| \b\b/ \b\b- \b\b\\ \b\b| \b\b/ \b\b- \b\b\\ \b\b| \b\b/ \b\b- \b\b\\ \b\b| \b\b/ \b\b- \b\b\\ \b\b| \b\b/ \b\b- \b\b\\ \b\b| \b\b/ \b\b- \b\b\\ \b\b| \b\b/ \b\b- \b\b\\ \b\b| \b\b/ \b\b- \b\b\\ \b\b| \b\b/ \b\b- \b\b\\ \b\b| \b\b/ \b\b- \b\b\\ \b\b| \b\b/ \b\b- \b\b\\ \b\b| \b\b/ \b\b- \b\b\\ \b\b| \b\b/ \b\b- \b\b\\ \b\b| \b\b/ \b\b- \b\b\\ \b\b| \b\b/ \b\b- \b\b\\ \b\b| \b\b/ \b\b- \b\b\\ \b\b| \b\b/ \b\b- \b\b\\ \b\b| \b\b/ \b\b- \b\b\\ \b\b| \b\b/ \b\b- \b\b\\ \b\b| \b\b/ \b\b- \b\b\\ \b\b| \b\b/ \b\b- \b\b\\ \b\b| \b\b/ \b\b- \b\b\\ \b\b| \b\b/ \b\b- \b\b\\ \b\b| \b\b/ \b\b- \b\b\\ \b\b| \b\b/ \b\b- \b\b\\ \b\b| \b\b/ \b\b- \b\b\\ \b\b| \b\b/ \b\b- \b\b\\ \b\b| \b\b/ \b\b- \b\b\\ \b\b| \b\b/ \b\b- \b\b\\ \b\b| \b\b/ \b\b- \b\b\\ \b\b| \b\b/ \b\b- \b\b\\ \b\b| \b\b/ \b\b- \b\b\\ \b\b| \b\b/ \b\b- \b\b\\ \b\b| \b\b/ \b\b- \b\b\\ \b\b| \b\b/ \b\b- \b\b\\ \b\b| \b\b/ \b\b- \b\b\\ \b\b| \b\b/ \b\b- \b\b\\ \b\b| \b\b/ \b\b- \b\b\\ \b\b| \b\b/ \b\b- \b\b\\ \b\b| \b\b/ \b\b- \b\b\\ \b\b| \b\b/ \b\b- \b\b\\ \b\b| \b\b/ \b\b- \b\b\\ \b\b| \b\b/ \b\b- \b\b\\ \b\b| \b\b/ \b\b- \b\b\\ \b\b| \b\b/ \b\b- \b\b\\ \b\b| \b\b/ \b\b- \b\b\\ \b\b| \b\b/ \b\b- \b\b\\ \b\b| \b\b/ \b\b- \b\b\\ \b\b| \b\b/ \b\b- \b\b\\ \b\b| \b\b/ \b\b- \b\b\\ \b\b| \b\b/ \b\b- \b\b\\ \b\b| \b\b/ \b\b- \b\b\\ \b\b| \b\b/ \b\b- \b\b\\ \b\b| \b\b/ \b\b- \b\b\\ \b\b| \b\b/ \b\b- \b\b\\ \b\b| \b\b/ \b\b- \b\b\\ \b\b| \b\b/ \b\b- \b\b\\ \b\b| \b\b/ \b\b- \b\b\\ \b\b| \b\b/ \b\b- \b\b\\ \b\b| \b\b/ \b\b- \b\b\\ \b\b| \b\b/ \b\b- \b\b\\ \b\b| \b\b/ \b\b- \b\b\\ \b\b| \b\b/ \b\b- \b\b\\ \b\b| \b\b/ \b\b- \b\b\\ \b\b| \b\b/ \b\b- \b\b\\ \b\b| \b\b/ \b\b- \b\b\\ \b\b| \b\b/ \b\b- \b\b\\ \b\b| \b\b/ \b\b- \b\b\\ \b\b| \b\b/ \b\b- \b\b\\ \b\b| \b\b/ \b\b- \b\b\\ \b\b| \b\b/ \b\b- \b\b\\ \b\b| \b\b/ \b\b- \b\b\\ \b\b| \b\b/ \b\b- \b\b\\ \b\b| \b\b/ \b\b- \b\b\\ \b\b| \b\b/ \b\b- \b\b\\ \b\b| \b\b/ \b\b- \b\b\\ \b\b| \b\b/ \b\b- \b\b\\ \b\b| \b\b/ \b\b- \b\b\\ \b\b| \b\b/ \b\b- \b\b\\ \b\b| \b\b/ \b\b- \b\b\\ \b\b| \b\b/ \b\b- \b\b\\ \b\b| \b\b/ \b\b- \b\b\\ \b\b| \b\b/ \b\b- \b\b\\ \b\b| \b\b/ \b\b- \b\b\\ \b\b| \b\b/ \b\b- \b\b\\ \b\b| \b\b/ \b\b- \b\b\\ \b\b| \b\b/ \b\b- \b\b\\ \b\b| \b\b/ \b\b- \b\b\\ \b\b| \b\b/ \b\b- \b\b\\ \b\b| \b\b/ \b\b- \b\b\\ \b\b| \b\b/ \b\b- \b\b\\ \b\b| \b\b/ \b\b- \b\b\\ \b\b| \b\b/ \b\b- \b\b\\ \b\b| \b\b/ \b\b- \b\b\\ \b\b| \b\b/ \b\b- \b\b\\ \b\b| \b\b/ \b\b- \b\b\\ \b\b| \b\b/ \b\b- \b\b\\ \b\b| \b\b/ \b\b- \b\b\\ \b\b| \b\b/ \b\b- \b\b\\ \b\b| \b\b/ \b\b- \b\b\\ \b\b| \b\b/ \b\b- \b\b\\ \b\b| \b\b/ \b\b- \b\b\\ \b\b| \b\b/ \b\b- \b\b\\ \b\b| \b\b/ \b\b- \b\b\\ \b\b| \b\b/ \b\b- \b\b\\ \b\b| \b\b/ \b\b- \b\b\\ \b\b| \b\b/ \b\b- \b\b\\ \b\b| \b\b/ \b\b- \b\b\\ \b\b| \b\b/ \b\b- \b\b\\ \b\b| \b\b/ \b\b- \b\b\\ \b\b| \b\b/ \b\b- \b\b\\ \b\b| \b\b/ \b\b- \b\b\\ \b\b| \b\b/ \b\b- \b\b\\ \b\b| \b\b/ \b\b- \b\b\\ \b\b| \b\b/ \b\b- \b\b\\ \b\b| \b\b/ \b\b- \b\b\\ \b\b| \b\b/ \b\b- \b\b\\ \b\b| \b\b/ \b\b- \b\b\\ \b\b| \b\b/ \b\b- \b\b\\ \b\b| \b\b/ \b\b- \b\b\\ \b\b| \b\b/ \b\b- \b\b\\ \b\b| \b\b/ \b\b- \b\b\\ \b\b| \b\b/ \b\b- \b\b\\ \b\b| \b\b/ \b\b- \b\b\\ \b\b| \b\b/ \b\b- \b\b\\ \b\b| \b\b/ \b\b- \b\b\\ \b\b| \b\b/ \b\b- \b\b\\ \b\b| \b\b/ \b\b- \b\b\\ \b\b| \b\b/ \b\b- \b\b\\ \b\b| \b\b/ \b\b- \b\b\\ \b\b| \b\b/ \b\b- \b\b\\ \b\b| \b\b/ \b\b- \b\b\\ \b\b| \b\b/ \b\b- \b\b\\ \b\b| \b\b/ \b\b- \b\b\\ \b\b| \b\b/ \b\b- \b\b\\ \b\b| \b\b/ \b\b- \b\b\\ \b\b| \b\b/ \b\b- \b\b\\ \b\b| \b\b/ \b\b- \b\b\\ \b\b| \b\b/ \b\b- \b\b\\ \b\b| \b\b/ \b\b- \b\b\\ \b\b| \b\b/ \b\b- \b\b\\ \b\b| \b\b/ \b\b- \b\b\\ \b\b| \b\b/ \b\b- \b\b\\ \b\b| \b\b/ \b\b- \b\b\\ \b\b| \b\b/ \b\b- \b\b\\ \b\b| \b\b/ \b\b- \b\b\\ \b\b| \b\b/ \b\b- \b\b\\ \b\b| \b\b/ \b\b- \b\b\\ \b\b| \b\b/ \b\b- \b\b\\ \b\b| \b\b/ \b\b- \b\b\\ \b\b| \b\b/ \b\b- \b\b\\ \b\b| \b\b/ \b\b- \b\b\\ \b\b| \b\b/ \b\b- \b\b\\ \b\b| \b\b/ \b\b- \b\b\\ \b\b| \b\b/ \b\b- \b\b\\ \b\b| \b\b/ \b\b- \b\b\\ \b\b| \b\b/ \b\b- \b\b\\ \b\b| \b\b/ \b\b- \b\b\\ \b\b| \b\b/ \b\b- \b\b\\ \b\b| \b\b/ \b\b- \b\b\\ \b\b| \b\b/ \b\b- \b\b\\ \b\b| \b\b/ \b\b- \b\b\\ \b\b| \b\b/ \b\b- \b\b\\ \b\b| \b\b/ \b\b- \b\b\\ \b\b| \b\b/ \b\b- \b\b\\ \b\b| \b\b/ \b\b- \b\b\\ \b\b| \b\b/ \b\b- \b\b\\ \b\b| \b\b/ \b\b- \b\b\\ \b\b| \b\b/ \b\b- \b\b\\ \b\b| \b\b/ \b\b- \b\b\\ \b\b| \b\b/ \b\b- \b\b\\ \b\b| \b\b/ \b\b- \b\b\\ \b\b| \b\b/ \b\b- \b\b\\ \b\b| \b\b/ \b\b- \b\b\\ \b\b| \b\b/ \b\b- \b\b\\ \b\b| \b\b/ \b\b- \b\b\\ \b\b| \b\b/ \b\b- \b\b\\ \b\b| \b\b/ \b\b- \b\b\\ \b\b| \b\b/ \b\b- \b\b\\ \b\b| \b\b/ \b\b- \b\b\\ \b\b| \b\b/ \b\b- \b\b\\ \b\b| \b\b/ \b\b- \b\b\\ \b\b| \b\b/ \b\b- \b\b\\ \b\b| \b\b/ \b\b- \b\b\\ \b\b| \b\b/ \b\b- \b\b\\ \b\b| \b\b/ \b\b- \b\b\\ \b\b| \b\b/ \b\b- \b\b\\ \b\b| \b\b/ \b\b- \b\b\\ \b\b| \b\b/ \b\b- \b\b\\ \b\b| \b\b/ \b\b- \b\b\\ \b\b| \b\b/ \b\b- \b\b\\ \b\b| \b\b/ \b\b- \b\b\\ \b\b| \b\b/ \b\b- \b\b\\ \b\b| \b\b/ \b\b- \b\b\\ \b\b| \b\b/ \b\b- \b\b\\ \b\b| \b\b/ \b\b- \b\b\\ \b\b| \b\b/ \b\b- \b\b\\ \b\b| \b\b/ \b\b- \b\b\\ \b\b| \b\b/ \b\b- \b\b\\ \b\b| \b\b/ \b\b- \b\b\\ \b\b| \b\b/ \b\b- \b\b\\ \b\b| \b\b/ \b\b- \b\b\\ \b\b| \b\b/ \b\b- \b\b\\ \b\b| \b\b/ \b\b- \b\b\\ \b\b| \b\b/ \b\b- \b\b\\ \b\b| \b\b/ \b\b- \b\b\\ \b\b| \b\b/ \b\b- \b\b\\ \b\b| \b\b/ \b\b- \b\b\\ \b\b| \b\b/ \b\b- \b\b\\ \b\b| \b\b/ \b\b- \b\b\\ \b\b| \b\b/ \b\b- \b\b\\ \b\b| \b\b/ \b\b- \b\b\\ \b\b| \b\b/ \b\b- \b\b\\ \b\b| \b\b/ \b\b- \b\b\\ \b\b| \b\b/ \b\b- \b\b\\ \b\b| \b\b/ \b\b- \b\b\\ \b\b| \b\b/ \b\b- \b\b\\ \b\b| \b\b/ \b\b- \b\b\\ \b\b| \b\b/ \b\b- \b\b\\ \b\b| \b\b/ \b\b- \b\b\\ \b\b| \b\b/ \b\b- \b\b\\ \b\b| \b\b/ \b\b- \b\b\\ \b\b| \b\b/ \b\b- \b\b\\ \b\b| \b\b/ \b\b- \b\b\\ \b\b| \b\b/ \b\b- \b\b\\ \b\b| \b\b/ \b\b- \b\b\\ \b\b| \b\b/ \b\b- \b\b\\ \b\b| \b\b/ \b\b- \b\b\\ \b\b| \b\b/ \b\b- \b\b\\ \b\b| \b\b/ \b\b- \b\b\\ \b\b| \b\b/ \b\b- \b\b\\ \b\b| \b\b/ \b\b- \b\b\\ \b\b| \b\b/ \b\b- \b\b\\ \b\b| \b\b/ \b\b- \b\b\\ \b\b| \b\b/ \b\b- \b\b\\ \b\b| \b\b/ \b\b- \b\b\\ \b\b| \b\b/ \b\b- \b\b\\ \b\b| \b\b/ \b\b- \b\b\\ \b\b| \b\b/ \b\b- \b\b\\ \b\b| \b\b/ \b\b- \b\b\\ \b\b| \b\b/ \b\b- \b\b\\ \b\b| \b\b/ \b\b- \b\b\\ \b\b| \b\b/ \b\b- \b\b\\ \b\b| \b\b/ \b\b- \b\b\\ \b\b| \b\b/ \b\b- \b\b\\ \b\b| \b\b/ \b\b- \b\b\\ \b\b| \b\b/ \b\b- \b\b\\ \b\b| \b\b/ \b\b- \b\b\\ \b\b| \b\b/ \b\b- \b\b\\ \b\b| \b\b/ \b\b- \b\b\\ \b\b| \b\b/ \b\b- \b\b\\ \b\b| \b\b/ \b\b- \b\b\\ \b\b| \b\b/ \b\b- \b\b\\ \b\b| \b\b/ \b\b- \b\b\\ \b\b| \b\b/ \b\b- \b\b\\ \b\b| \b\b/ \b\b- \b\b\\ \b\b| \b\b/ \b\b- \b\b\\ \b\b| \b\b/ \b\b- \b\b\\ \b\b| \b\b/ \b\b- \b\b\\ \b\b| \b\b/ \b\b- \b\b\\ \b\b| \b\b/ \b\b- \b\b\\ \b\b| \b\b/ \b\b- \b\b\\ \b\b| \b\b/ \b\b- \b\b\\ \b\b| \b\b/ \b\b- \b\b\\ \b\b| \b\b/ \b\b- \b\b\\ \b\b| \b\b/ \b\b- \b\b\\ \b\b| \b\b/ \b\b- \b\b\\ \b\b| \b\b/ \b\b- \b\b\\ \b\b| \b\b/ \b\b- \b\b\\ \b\b| \b\b/ \b\b- \b\b\\ \b\b| \b\b/ \b\b- \b\b\\ \b\b| \b\b/ \b\b- \b\b\\ \b\b| \b\b/ \b\b- \b\b\\ \b\b| \b\b/ \b\b- \b\b\\ \b\b| \b\b/ \b\b- \b\b\\ \b\b| \b\b/ \b\b- \b\b\\ \b\b| \b\b/ \b\b- \b\b\\ \b\b| \b\b/ \b\b- \b\b\\ \b\b| \b\b/ \b\b- \b\b\\ \b\b| \b\b/ \b\b- \b\b\\ \b\b| \b\b/ \b\b- \b\b\\ \b\b| \b\b/ \b\b- \b\b\\ \b\b| \b\b/ \b\b- \b\b\\ \b\b| \b\b/ \b\b- \b\b\\ \b\b| \b\b/ \b\b- \b\b\\ \b\b| \b\b/ \b\b- \b\b\\ \b\b| \b\b/ \b\b- \b\b\\ \b\b| \b\b/ \b\b- \b\b\\ \b\b| \b\b/ \b\b- \b\b\\ \b\b| \b\b/ \b\b- \b\b\\ \b\b| \b\b/ \b\b- \b\b\\ \b\b| \b\b/ \b\b- \b\b\\ \b\b| \b\b/ \b\b- \b\b\\ \b\b| \b\b/ \b\b- \b\b\\ \b\b| \b\b/ \b\b- \b\b\\ \b\b| \b\b/ \b\b- \b\b\\ \b\b| \b\b/ \b\b- \b\b\\ \b\b| \b\b/ \b\b- \b\b\\ \b\b| \b\b/ \b\b- \b\b\\ \b\b| \b\b/ \b\b- \b\b\\ \b\b| \b\b/ \b\b- \b\b\\ \b\b| \b\b/ \b\b- \b\b\\ \b\b| \b\b/ \b\b- \b\b\\ \b\b| \b\b/ \b\b- \b\b\\ \b\b| \b\b/ \b\b- \b\b\\ \b\b| \b\b/ \b\b- \b\b\\ \b\b| \b\b/ \b\b- \b\b\\ \b\b| \b\b/ \b\b- \b\b\\ \b\b| \b\b/ \b\b- \b\b\\ \b\b| \b\b/ \b\b- \b\b\\ \b\b| \b\b/ \b\b- \b\b\\ \b\b| \b\b/ \b\b- \b\b\\ \b\b| \b\b/ \b\b- \b\b\\ \b\b| \b\b/ \b\b- \b\b\\ \b\b| \b\b/ \b\b- \b\b\\ \b\b| \b\b/ \b\b- \b\b\\ \b\b| \b\b/ \b\b- \b\b\\ \b\b| \b\b/ \b\b- \b\b\\ \b\b| \b\b/ \b\b- \b\b\\ \b\b| \b\b/ \b\b- \b\b\\ \b\b| \b\b/ \b\b- \b\b\\ \b\b| \b\b/ \b\b- \b\b\\ \b\b| \b\b/ \b\b- \b\b\\ \b\b| \b\b/ \b\b- \b\b\\ \b\b| \b\b/ \b\b- \b\b\\ \b\b| \b\b/ \b\b- \b\b\\ \b\b| \b\b/ \b\b- \b\b\\ \b\b| \b\b/ \b\b- \b\b\\ \b\b| \b\b/ \b\b- \b\b\\ \b\b| \b\b/ \b\b- \b\b\\ \b\b| \b\b/ \b\b- \b\b\\ \b\b| \b\b/ \b\b- \b\b\\ \b\b| \b\b/ \b\b- \b\b\\ \b\b| \b\b/ \b\b- \b\b\\ \b\b| \b\b/ \b\b- \b\b\\ \b\b| \b\b/ \b\b- \b\b\\ \b\b| \b\b/ \b\b- \b\b\\ \b\b| \b\b/ \b\b- \b\b\\ \b\b| \b\b/ \b\b- \b\b\\ \b\b| \b\b/ \b\b- \b\b\\ \b\b| \b\b/ \b\b- \b\b\\ \b\b| \b\b/ \b\b- \b\b\\ \b\b| \b\b/ \b\b- \b\b\\ \b\b| \b\b/ \b\b- \b\b\\ \b\b| \b\b/ \b\b- \b\b\\ \b\b| \b\b/ \b\b- \b\b\\ \b\b| \b\b/ \b\b- \b\b\\ \b\b| \b\b/ \b\b- \b\b\\ \b\b| \b\b/ \b\b- \b\b\\ \b\b| \b\b/ \b\b- \b\b\\ \b\b| \b\b/ \b\b- \b\b\\ \b\b| \b\b/ \b\b- \b\b\\ \b\b| \b\b/ \b\b- \b\b\\ \b\b| \b\b/ \b\b- \b\b\\ \b\b| \b\b/ \b\b- \b\b\\ \b\b| \b\b/ \b\b- \b\b\\ \b\b| \b\b/ \b\b- \b\b\\ \b\b| \b\b/ \b\b- \b\b\\ \b\b| \b\b/ \b\b- \b\b\\ \b\b| \b\b/ \b\b- \b\b\\ \b\b| \b\b/ \b\b- \b\b\\ \b\b| \b\b/ \b\b- \b\b\\ \b\b| \b\b/ \b\b- \b\b\\ \b\b| \b\b/ \b\b- \b\b\\ \b\b| \b\b/ \b\b- \b\b\\ \b\b| \b\b/ \b\b- \b\b\\ \b\b| \b\b/ \b\b- \b\b\\ \b\b| \b\b/ \b\b- \b\b\\ \b\b| \b\b/ \b\b- \b\b\\ \b\b| \b\b/ \b\b- \b\b\\ \b\b| \b\b/ \b\b- \b\b\\ \b\b| \b\b/ \b\b- \b\b\\ \b\b| \b\b/ \b\b- \b\b\\ \b\b| \b\b/ \b\b- \b\b\\ \b\b| \b\b/ \b\b- \b\b\\ \b\b| \b\b/ \b\b- \b\b\\ \b\b| \b\b/ \b\b- \b\b\\ \b\b| \b\b/ \b\b- \b\b\\ \b\b| \b\b/ \b\b- \b\b\\ \b\b| \b\b/ \b\b- \b\b\\ \b\b| \b\b/ \b\b- \b\b\\ \b\b| \b\b/ \b\b- \b\b\\ \b\b| \b\b/ \b\b- \b\b\\ \b\b| \b\b/ \b\b- \b\b\\ \b\b| \b\b/ \b\b- \b\b\\ \b\b| \b\b/ \b\b- \b\b\\ \b\b| \b\b/ \b\b- \b\b\\ \b\b| \b\b/ \b\b- \b\b\\ \b\b| \b\b/ \b\b- \b\b\\ \b\b| \b\b/ \b\b- \b\b\\ \b\b| \b\b/ \b\b- \b\b\\ \b\b| \b\b/ \b\b- \b\b\\ \b\b| \b\b/ \b\b- \b\b\\ \b\b| \b\b/ \b\b- \b\b\\ \b\b| \b\b/ \b\b- \b\b\\ \b\b| \b\b/ \b\b- \b\b\\ \b\b| \b\b/ \b\b- \b\b\\ \b\b| \b\b/ \b\b- \b\b\\ \b\b| \b\b/ \b\b- \b\b\\ \b\b| \b\b/ \b\b- \b\b\\ \b\b| \b\b/ \b\b- \b\b\\ \b\b| \b\b/ \b\b- \b\b\\ \b\b| \b\b/ \b\b- \b\b\\ \b\b| \b\b/ \b\b- \b\b\\ \b\b| \b\b/ \b\b- \b\b\\ \b\b| \b\b/ \b\b- \b\b\\ \b\b| \b\b/ \b\b- \b\b\\ \b\b| \b\b/ \b\b- \b\b\\ \b\b| \b\b/ \b\b- \b\b\\ \b\b| \b\b/ \b\b- \b\b\\ \b\b| \b\b/ \b\b- \b\b\\ \b\b| \b\b/ \b\b- \b\b\\ \b\b| \b\b/ \b\b- \b\b\\ \b\b| \b\b/ \b\b- \b\b\\ \b\b| \b\b/ \b\b- \b\b\\ \b\b| \b\b/ \b\b- \b\b\\ \b\b| \b\b/ \b\b- \b\b\\ \b\b| \b\b/ \b\b- \b\b\\ \b\b| \b\b/ \b\b- \b\b\\ \b\b| \b\b/ \b\b- \b\b\\ \b\b| \b\b/ \b\b- \b\b\\ \b\b| \b\b/ \b\b- \b\b\\ \b\b| \b\b/ \b\b- \b\b\\ \b\b| \b\b/ \b\b- \b\b\\ \b\b| \b\b/ \b\b- \b\b\\ \b\b| \b\b/ \b\b- \b\b\\ \b\b| \b\b/ \b\b- \b\b\\ \b\b| \b\b/ \b\b- \b\b\\ \b\b| \b\b/ \b\b- \b\b\\ \b\b| \b\b/ \b\b- \b\b\\ \b\b| \b\b/ \b\b- \b\b\\ \b\b| \b\b/ \b\b- \b\b\\ \b\b| \b\b/ \b\b- \b\b\\ \b\b| \b\b/ \b\b- \b\b\\ \b\b| \b\b/ \b\b- \b\b\\ \b\b| \b\b/ \b\b- \b\b\\ \b\b| \b\b/ \b\b- \b\b\\ \b\b| \b\b/ \b\b- \b\b\\ \b\b| \b\b/ \b\b- \b\b\\ \b\b| \b\b/ \b\b- \b\b\\ \b\b| \b\b/ \b\b- \b\b\\ \b\b| \b\b/ \b\b- \b\b\\ \b\b| \b\b/ \b\b- \b\b\\ \b\b| \b\b/ \b\b- \b\b\\ \b\b| \b\b/ \b\b- \b\b\\ \b\b| \b\b/ \b\b- \b\b\\ \b\b| \b\b/ \b\b- \b\b\\ \b\b| \b\b/ \b\b- \b\b\\ \b\b| \b\b/ \b\b- \b\b\\ \b\b| \b\b/ \b\b- \b\b\\ \b\b| \b\b/ \b\b- \b\b\\ \b\b| \b\b/ \b\b- \b\b\\ \b\b| \b\b/ \b\b- \b\b\\ \b\b| \b\b/ \b\b- \b\b\\ \b\b| \b\b/ \b\b- \b\b\\ \b\b| \b\b/ \b\b- \b\b\\ \b\b| \b\b/ \b\b- \b\b\\ \b\b| \b\b/ \b\b- \b\b\\ \b\b| \b\b/ \b\b- \b\b\\ \b\b| \b\b/ \b\b- \b\b\\ \b\b| \b\b/ \b\b- \b\b\\ \b\b| \b\b/ \b\b- \b\b\\ \b\b| \b\b/ \b\b- \b\b\\ \b\b| \b\b/ \b\b- \b\b\\ \b\b| \b\b/ \b\b- \b\b\\ \b\b| \b\b/ \b\b- \b\b\\ \b\b| \b\b/ \b\b- \b\b\\ \b\b| \b\b/ \b\b- \b\b\\ \b\b| \b\b/ \b\b- \b\b\\ \b\b| \b\b/ \b\b- \b\b\\ \b\b| \b\b/ \b\b- \b\b\\ \b\b| \b\b/ \b\b- \b\b\\ \b\b| \b\b/ \b\b- \b\b\\ \b\b| \b\b/ \b\b- \b\b\\ \b\b| \b\b/ \b\b- \b\b\\ \b\b| \b\b/ \b\b- \b\b\\ \b\b| \b\b/ \b\b- \b\b\\ \b\b| \b\b/ \b\b- \b\b\\ \b\b| \b\b/ \b\b- \b\b\\ \b\b| \b\b/ \b\b- \b\b\\ \b\b| \b\b/ \b\b- \b\b\\ \b\b| \b\b/ \b\b- \b\b\\ \b\b| \b\b/ \b\b- \b\b\\ \b\b| \b\b/ \b\b- \b\b\\ \b\b| \b\b/ \b\b- \b\b\\ \b\b| \b\b/ \b\b- \b\b\\ \b\b| \b\b/ \b\b- \b\b\\ \b\b| \b\b/ \b\b- \b\b\\ \b\b| \b\b/ \b\b- \b\b\\ \b\b| \b\b/ \b\b- \b\b\\ \b\b| \b\b/ \b\b- \b\b\\ \b\b| \b\b/ \b\b- \b\b\\ \b\b| \b\b/ \b\b- \b\b\\ \b\b| \b\b/ \b\b- \b\b\\ \b\b| \b\b/ \b\b- \b\b\\ \b\b| \b\b/ \b\b- \b\b\\ \b\b| \b\b/ \b\b- \b\b\\ \b\b| \b\b/ \b\b- \b\b\\ \b\b| \b\b/ \b\b- \b\b\\ \b\b| \b\b/ \b\b- \b\b\\ \b\b| \b\b/ \b\b- \b\b\\ \b\b| \b\b/ \b\b- \b\b\\ \b\b| \b\b/ \b\b- \b\b\\ \b\b| \b\b/ \b\b- \b\b\\ \b\b| \b\b/ \b\b- \b\b\\ \b\b| \b\b/ \b\b- \b\b\\ \b\b| \b\b/ \b\b- \b\b\\ \b\b| \b\b/ \b\b- \b\b\\ \b\b| \b\b/ \b\b- \b\b\\ \b\b| \b\b/ \b\b- \b\b\\ \b\b| \b\b/ \b\b- \b\b\\ \b\b| \b\b/ \b\b- \b\b\\ \b\b| \b\b/ \b\b- \b\b\\ \b\b| \b\b/ \b\b- \b\b\\ \b\b| \b\b/ \b\b- \b\b\\ \b\b| \b\b/ \b\b- \b\b\\ \b\b| \b\b/ \b\b- \b\b\\ \b\b| \b\b/ \b\b- \b\b\\ \b\b| \b\b/ \b\b- \b\b\\ \b\b| \b\b/ \b\b- \b\b\\ \b\b| \b\b/ \b\b- \b\b\\ \b\b| \b\b/ \b\b- \b\b\\ \b\b| \b\b/ \b\b- \b\b\\ \b\b| \b\b/ \b\b- \b\b\\ \b\b| \b\b/ \b\b- \b\b\\ \b\b| \b\b/ \b\b- \b\b\\ \b\b| \b\b/ \b\b- \b\b\\ \b\b| \b\b/ \b\b- \b\b\\ \b\b| \b\b/ \b\b- \b\b\\ \b\b| \b\b/ \b\b- \b\b\\ \b\b| \b\b/ \b\b- \b\b\\ \b\b| \b\b/ \b\b- \b\b\\ \b\b| \b\b/ \b\b- \b\b\\ \b\b| \b\b/ \b\b- \b\b\\ \b\b| \b\b/ \b\b- \b\b\\ \b\b| \b\b/ \b\b- \b\b\\ \b\b| \b\b/ \b\b- \b\b\\ \b\b| \b\b/ \b\b- \b\b\\ \b\b| \b\b/ \b\b- \b\b\\ \b\b| \b\b/ \b\b- \b\b\\ \b\b| \b\b/ \b\b- \b\b\\ \b\b| \b\b/ \b\b- \b\b\\ \b\b| \b\b/ \b\b- \b\b\\ \b\b| \b\b/ \b\b- \b\b\\ \b\b| \b\b/ \b\b- \b\b\\ \b\b| \b\b/ \b\b- \b\b\\ \b\b| \b\b/ \b\b- \b\b\\ \b\b| \b\b/ \b\b- \b\b\\ \b\b| \b\b/ \b\b- \b\b\\ \b\b| \b\b/ \b\b- \b\b\\ \b\b| \b\b/ \b\b- \b\b\\ \b\b| \b\b/ \b\b- \b\b\\ \b\b| \b\b/ \b\b- \b\b\\ \b\b| \b\b/ \b\b- \b\b\\ \b\b| \b\b/ \b\b- \b\b\\ \b\b| \b\b/ \b\b- \b\b\\ \b\b| \b\b/ \b\b- \b\b\\ \b\b| \b\b/ \b\b- \b\b\\ \b\b| \b\b/ \b\b- \b\b\\ \b\b| \b\b/ \b\b- \b\b\\ \b\b| \b\b/ \b\b- \b\b\\ \b\b| \b\b/ \b\b- \b\b\\ \b\b| \b\b/ \b\b- \b\b\\ \b\b| \b\b/ \b\b- \b\b\\ \b\b| \b\b/ \b\b- \b\b\\ \b\b| \b\b/ \b\b- \b\b\\ \b\b| \b\b/ \b\b- \b\b\\ \b\b| \b\b/ \b\b- \b\b\\ \b\b| \b\b/ \b\b- \b\b\\ \b\b| \b\b/ \b\b- \b\b\\ \b\b| \b\b/ \b\b- \b\b\\ \b\b| \b\b/ \b\b- \b\b\\ \b\b| \b\b/ \b\b- \b\b\\ \b\b| \b\b/ \b\b- \b\b\\ \b\b| \b\b/ \b\b- \b\b\\ \b\b| \b\b/ \b\b- \b\b\\ \b\b| \b\b/ \b\b- \b\b\\ \b\b| \b\b/ \b\b- \b\b\\ \b\b| \b\b/ \b\b- \b\b\\ \b\b| \b\b/ \b\b- \b\b\\ \b\b| \b\b/ \b\b- \b\b\\ \b\b| \b\b/ \b\b- \b\b\\ \b\b| \b\b/ \b\b- \b\b\\ \b\b| \b\b/ \b\b- \b\b\\ \b\b| \b\b/ \b\b- \b\b\\ \b\b| \b\b/ \b\b- \b\b\\ \b\b| \b\b/ \b\b- \b\b\\ \b\b| \b\b/ \b\b- \b\b\\ \b\b| \b\b/ \b\b- \b\b\\ \b\b| \b\b/ \b\b- \b\b\\ \b\b| \b\b/ \b\b- \b\b\\ \b\b| \b\b/ \b\b- \b\b\\ \b\b| \b\b/ \b\b- \b\b\\ \b\b| \b\b/ \b\b- \b\b\\ \b\b| \b\b/ \b\b- \b\b\\ \b\b| \b\b/ \b\b- \b\b\\ \b\b| \b\b/ \b\b- \b\b\\ \b\b| \b\b/ \b\b- \b\b\\ \b\b| \b\b/ \b\b- \b\b\\ \b\b| \b\b/ \b\b- \b\b\\ \b\b| \b\b/ \b\b- \b\b\\ \b\b| \b\b/ \b\b- \b\b\\ \b\b| \b\b/ \b\b- \b\b\\ \b\b| \b\b/ \b\b- \b\b\\ \b\b| \b\b/ \b\b- \b\b\\ \b\b| \b\b/ \b\b- \b\b\\ \b\b| \b\b/ \b\b- \b\b\\ \b\b| \b\b/ \b\b- \b\b\\ \b\b| \b\b/ \b\b- \b\b\\ \b\b| \b\b/ \b\b- \b\b\\ \b\b| \b\b/ \b\b- \b\b\\ \b\b| \b\b/ \b\b- \b\b\\ \b\b| \b\b/ \b\b- \b\b\\ \b\b| \b\b/ \b\b- \b\b\\ \b\b| \b\b/ \b\b- \b\b\\ \b\b| \b\b/ \b\b- \b\b\\ \b\b| \b\b/ \b\b- \b\b\\ \b\b| \b\b/ \b\b- \b\b\\ \b\b| \b\b/ \b\b- \b\b\\ \b\b| \b\b/ \b\b- \b\b\\ \b\b| \b\b/ \b\b- \b\b\\ \b\b| \b\b/ \b\b- \b\b\\ \b\b| \b\b/ \b\b- \b\b\\ \b\b| \b\b/ \b\b- \b\b\\ \b\b| \b\b/ \b\b- \b\b\\ \b\b| \b\b/ \b\b- \b\b\\ \b\b| \b\b/ \b\b- \b\b\\ \b\b| \b\b/ \b\b- \b\b\\ \b\b| \b\b/ \b\b- \b\b\\ \b\b| \b\b/ \b\b- \b\b\\ \b\b| \b\b/ \b\b- \b\b\\ \b\b| \b\b/ \b\b- \b\b\\ \b\b| \b\b/ \b\b- \b\b\\ \b\b| \b\b/ \b\b- \b\b\\ \b\b| \b\b/ \b\b- \b\b\\ \b\b| \b\b/ \b\b- \b\b\\ \b\b| \b\b/ \b\b- \b\b\\ \b\b| \b\b/ \b\b- \b\b\\ \b\b| \b\b/ \b\b- \b\b\\ \b\b| \b\b/ \b\b- \b\b\\ \b\b| \b\b/ \b\b- \b\b\\ \b\b| \b\b/ \b\b- \b\b\\ \b\b| \b\b/ \b\b- \b\b\\ \b\b| \b\b/ \b\b- \b\b\\ \b\b| \b\b/ \b\b- \b\b\\ \b\b| \b\b/ \b\b- \b\b\\ \b\b| \b\b/ \b\b- \b\b\\ \b\b| \b\b/ \b\b- \b\b\\ \b\b| \b\b/ \b\b- \b\b\\ \b\b| \b\b/ \b\b- \b\b\\ \b\b| \b\b/ \b\b- \b\b\\ \b\b| \b\b/ \b\b- \b\b\\ \b\b| \b\b/ \b\b- \b\b\\ \b\b| \b\b/ \b\b- \b\b\\ \b\b| \b\b/ \b\b- \b\b\\ \b\b| \b\b/ \b\b- \b\b\\ \b\b| \b\b/ \b\b- \b\b\\ \b\b| \b\b/ \b\b- \b\b\\ \b\b| \b\b/ \b\b- \b\b\\ \b\b| \b\b/ \b\b- \b\b\\ \b\b| \b\b/ \b\b- \b\b\\ \b\b| \b\b/ \b\b- \b\b\\ \b\b| \b\b/ \b\b- \b\b\\ \b\b| \b\b/ \b\b- \b\b\\ \b\b| \b\b/ \b\b- \b\b\\ \b\b| \b\b/ \b\b- \b\b\\ \b\b| \b\b/ \b\b- \b\b\\ \b\b| \b\b/ \b\b- \b\b\\ \b\b| \b\b/ \b\b- \b\b\\ \b\b| \b\b/ \b\b- \b\b\\ \b\b| \b\b/ \b\b- \b\b\\ \b\b| \b\b/ \b\b- \b\b\\ \b\b| \b\b/ \b\b- \b\b\\ \b\b| \b\b/ \b\b- \b\b\\ \b\b| \b\b/ \b\b- \b\b\\ \b\b| \b\b/ \b\b- \b\b\\ \b\b| \b\b/ \b\b- \b\b\\ \b\b| \b\b/ \b\b- \b\b\\ \b\b| \b\b/ \b\b- \b\b\\ \b\b| \b\b/ \b\b- \b\b\\ \b\b| \b\b/ \b\b- \b\b\\ \b\b| \b\b/ \b\b- \b\b\\ \b\b| \b\b/ \b\b- \b\b\\ \b\b| \b\b/ \b\b- \b\b\\ \b\b| \b\b/ \b\b- \b\b\\ \b\b| \b\b/ \b\b- \b\b\\ \b\b| \b\b/ \b\b- \b\b\\ \b\b| \b\b/ \b\b- \b\b\\ \b\b| \b\b/ \b\b- \b\b\\ \b\b| \b\b/ \b\b- \b\b\\ \b\b| \b\b/ \b\b- \b\b\\ \b\b| \b\b/ \b\b- \b\b\\ \b\b| \b\b/ \b\b- \b\b\\ \b\b| \b\b/ \b\b- \b\b\\ \b\b| \b\b/ \b\b- \b\b\\ \b\b| \b\b/ \b\b- \b\b\\ \b\b| \b\b/ \b\b- \b\b\\ \b\b| \b\b/ \b\b- \b\b\\ \b\b| \b\b/ \b\b- \b\b\\ \b\b| \b\b/ \b\b- \b\b\\ \b\b| \b\b/ \b\b- \b\b\\ \b\b| \b\b/ \b\b- \b\b\\ \b\b| \b\b/ \b\b- \b\b\\ \b\b| \b\b/ \b\b- \b\b\\ \b\b| \b\b/ \b\b- \b\b\\ \b\b| \b\b/ \b\b- \b\b\\ \b\b| \b\b/ \b\b- \b\b\\ \b\b| \b\b/ \b\b- \b\b\\ \b\b| \b\b/ \b\b- \b\b\\ \b\b| \b\b/ \b\b- \b\b\\ \b\b| \b\b/ \b\b- \b\b\\ \b\b| \b\b/ \b\b- \b\b\\ \b\b| \b\b/ \b\b- \b\b\\ \b\b| \b\b/ \b\b- \b\b\\ \b\b| \b\b/ \b\b- \b\b\\ \b\b| \b\b/ \b\b- \b\b\\ \b\b| \b\b/ \b\b- \b\b\\ \b\b| \b\b/ \b\b- \b\b\\ \b\b| \b\b/ \b\b- \b\b\\ \b\b| \b\b/ \b\b- \b\b\\ \b\b| \b\b/ \b\b- \b\b\\ \b\b| \b\b/ \b\b- \b\b\\ \b\b| \b\b/ \b\b- \b\b\\ \b\b| \b\b/ \b\b- \b\b\\ \b\b| \b\b/ \b\b- \b\b\\ \b\b| \b\b/ \b\b- \b\b\\ \b\b| \b\b/ \b\b- \b\b\\ \b\b| \b\b/ \b\b- \b\b\\ \b\b| \b\b/ \b\b- \b\b\\ \b\b| \b\b/ \b\b- \b\b\\ \b\b| \b\b/ \b\b- \b\b\\ \b\b| \b\b/ \b\b- \b\b\\ \b\b| \b\b/ \b\b- \b\b\\ \b\b| \b\b/ \b\b- \b\b\\ \b\b| \b\b/ \b\b- \b\b\\ \b\b| \b\b/ \b\b- \b\b\\ \b\b| \b\b/ \b\b- \b\b\\ \b\b| \b\b/ \b\b- \b\b\\ \b\b| \b\b/ \b\b- \b\b\\ \b\b| \b\b/ \b\b- \b\b\\ \b\b| \b\b/ \b\b- \b\b\\ \b\b| \b\b/ \b\b- \b\b\\ \b\b| \b\b/ \b\b- \b\b\\ \b\b| \b\b/ \b\b- \b\b\\ \b\b| \b\b/ \b\b- \b\b\\ \b\b| \b\b/ \b\b- \b\b\\ \b\b| \b\b/ \b\b- \b\b\\ \b\b| \b\b/ \b\b- \b\b\\ \b\b| \b\b/ \b\b- \b\b\\ \b\b| \b\b/ \b\b- \b\b\\ \b\b| \b\b/ \b\b- \b\b\\ \b\b| \b\b/ \b\b- \b\b\\ \b\b| \b\b/ \b\b- \b\b\\ \b\b| \b\b/ \b\b- \b\b\\ \b\b| \b\b/ \b\b- \b\b\\ \b\b| \b\b/ \b\b- \b\b\\ \b\b| \b\b/ \b\b- \b\b\\ \b\b| \b\b/ \b\b- \b\b\\ \b\b| \b\b/ \b\b- \b\b\\ \b\b| \b\b/ \b\b- \b\b\\ \b\b| \b\b/ \b\b- \b\b\\ \b\b| \b\b/ \b\b- \b\b\\ \b\b| \b\b/ \b\b- \b\b\\ \b\b| \b\b/ \b\b- \b\b\\ \b\b| \b\b/ \b\b- \b\b\\ \b\b| \b\b/ \b\b- \b\b\\ \b\b| \b\b/ \b\b- \b\b\\ \b\b| \b\b/ \b\b- \b\b\\ \b\b| \b\b/ \b\b- \b\b\\ \b\b| \b\b/ \b\b- \b\b\\ \b\b| \b\b/ \b\b- \b\b\\ \b\b| \b\b/ \b\b- \b\b\\ \b\b| \b\b/ \b\b- \b\b\\ \b\b| \b\b/ \b\b- \b\b\\ \b\b| \b\b/ \b\b- \b\b\\ \b\b| \b\b/ \b\b- \b\b\\ \b\b| \b\b/ \b\b- \b\b\\ \b\b| \b\b/ \b\b- \b\b\\ \b\b| \b\b/ \b\b- \b\b\\ \b\b| \b\b/ \b\b- \b\b\\ \b\b| \b\b/ \b\b- \b\b\\ \b\b| \b\b/ \b\b- \b\b\\ \b\b| \b\b/ \b\b- \b\b\\ \b\b| \b\b/ \b\b- \b\b\\ \b\b| \b\b/ \b\b- \b\b\\ \b\b| \b\b/ \b\b- \b\b\\ \b\b| \b\b/ \b\b- \b\b\\ \b\b| \b\b/ \b\b- \b\b\\ \b\b| \b\b/ \b\b- \b\b\\ \b\b| \b\b/ \b\b- \b\b\\ \b\b| \b\b/ \b\b- \b\b\\ \b\b| \b\b/ \b\b- \b\b\\ \b\b| \b\b/ \b\b- \b\b\\ \b\b| \b\b/ \b\b- \b\b\\ \b\b| \b\b/ \b\b- \b\b\\ \b\b| \b\b/ \b\b- \b\b\\ \b\b| \b\b/ \b\b- \b\b\\ \b\b| \b\b/ \b\b- \b\b\\ \b\b| \b\b/ \b\b- \b\b\\ \b\b| \b\b/ \b\b- \b\b\\ \b\b| \b\b/ \b\b- \b\b\\ \b\b| \b\b/ \b\b- \b\b\\ \b\b| \b\b/ \b\b- \b\b\\ \b\b| \b\b/ \b\b- \b\b\\ \b\b| \b\b/ \b\b- \b\b\\ \b\b| \b\b/ \b\b- \b\b\\ \b\b| \b\b/ \b\b- \b\b\\ \b\b| \b\b/ \b\b- \b\b\\ \b\b| \b\b/ \b\b- \b\b\\ \b\b| \b\b/ \b\b- \b\b\\ \b\b| \b\b/ \b\b- \b\b\\ \b\b| \b\b/ \b\b- \b\b\\ \b\b| \b\b/ \b\b- \b\b\\ \b\b| \b\b/ \b\b- \b\b\\ \b\b| \b\b/ \b\b- \b\b\\ \b\b| \b\b/ \b\b- \b\b\\ \b\b| \b\b/ \b\b- \b\b\\ \b\b| \b\b/ \b\b- \b\b\\ \b\b| \b\b/ \b\b- \b\b\\ \b\b| \b\b/ \b\b- \b\b\\ \b\b| \b\b/ \b\b- \b\b\\ \b\b| \b\b/ \b\b- \b\b\\ \b\b| \b\b/ \b\b- \b\b\\ \b\b| \b\b/ \b\b- \b\b\\ \b\b| \b\b/ \b\b- \b\b\\ \b\b| \b\b/ \b\b- \b\b\\ \b\b| \b\b/ \b\b- \b\b\\ \b\b| \b\b/ \b\b- \b\b\\ \b\b| \b\b/ \b\b- \b\b\\ \b\b| \b\b/ \b\b- \b\b\\ \b\b| \b\b/ \b\b- \b\b\\ \b\b| \b\b/ \b\b- \b\b\\ \b\b| \b\b/ \b\b- \b\b\\ \b\b| \b\b/ \b\b- \b\b\\ \b\b| \b\b/ \b\b- \b\b\\ \b\b| \b\b/ \b\b- \b\b\\ \b\b| \b\b/ \b\b- \b\b\\ \b\b| \b\b/ \b\b- \b\b\\ \b\b| \b\b/ \b\b- \b\b\\ \b\b| \b\b/ \b\b- \b\b\\ \b\b| \b\b/ \b\b- \b\b\\ \b\b| \b\b/ \b\b- \b\b\\ \b\b| \b\b/ \b\b- \b\b\\ \b\b| \b\b/ \b\b- \b\b\\ \b\b| \b\b/ \b\b- \b\b\\ \b\b| \b\b/ \b\b- \b\b\\ \b\b| \b\b/ \b\b- \b\b\\ \b\b| \b\b/ \b\b- \b\b\\ \b\b| \b\b/ \b\b- \b\b\\ \b\b| \b\b/ \b\b- \b\b\\ \b\b| \b\b/ \b\b- \b\b\\ \b\b| \b\b/ \b\b- \b\b\\ \b\b| \b\b/ \b\b- \b\b\\ \b\b| \b\b/ \b\b- \b\b\\ \b\b| \b\b/ \b\b- \b\b\\ \b\b| \b\b/ \b\b- \b\b\\ \b\b| \b\b/ \b\b- \b\b\\ \b\b| \b\b/ \b\b- \b\b\\ \b\b| \b\b/ \b\b- \b\b\\ \b\b| \b\b/ \b\b- \b\b\\ \b\b| \b\b/ \b\b- \b\b\\ \b\b| \b\b/ \b\b- \b\b\\ \b\b| \b\b/ \b\b- \b\b\\ \b\b| \b\b/ \b\b- \b\b\\ \b\b| \b\b/ \b\b- \b\b\\ \b\b| \b\b/ \b\b- \b\b\\ \b\b| \b\b/ \b\b- \b\b\\ \b\b| \b\b/ \b\b- \b\b\\ \b\b| \b\b/ \b\b- \b\b\\ \b\b| \b\bdone\r\n",
      "\r\n",
      "## Package Plan ##\r\n",
      "\r\n",
      "  environment location: /opt/conda\r\n",
      "\r\n",
      "  added / updated specs:\r\n",
      "    - faiss-gpu\r\n",
      "\r\n",
      "\r\n",
      "The following packages will be downloaded:\r\n",
      "\r\n",
      "    package                    |            build\r\n",
      "    ---------------------------|-----------------\r\n",
      "    conda-4.14.0               |   py37h89c1867_0        1010 KB  conda-forge\r\n",
      "    distributed-2021.9.1       |   py37h06a4308_0         976 KB\r\n",
      "    faiss-1.7.0                |py37cuda110hf8a59d6_2_cuda         994 KB  conda-forge\r\n",
      "    faiss-gpu-1.7.0            |       h500d9d2_8          28 KB  rapidsai\r\n",
      "    ------------------------------------------------------------\r\n",
      "                                           Total:         2.9 MB\r\n",
      "\r\n",
      "The following NEW packages will be INSTALLED:\r\n",
      "\r\n",
      "  faiss              conda-forge/linux-64::faiss-1.7.0-py37cuda110hf8a59d6_2_cuda\r\n",
      "  faiss-gpu          rapidsai/linux-64::faiss-gpu-1.7.0-h500d9d2_8\r\n",
      "\r\n",
      "The following packages will be UPDATED:\r\n",
      "\r\n",
      "  conda                               4.13.0-py37h89c1867_1 --> 4.14.0-py37h89c1867_0\r\n",
      "\r\n",
      "The following packages will be SUPERSEDED by a higher-priority channel:\r\n",
      "\r\n",
      "  distributed        conda-forge::distributed-2021.9.1-py3~ --> pkgs/main::distributed-2021.9.1-py37h06a4308_0\r\n",
      "\r\n",
      "\r\n",
      "\r\n",
      "Downloading and Extracting Packages\r\n",
      "faiss-1.7.0          | 994 KB    | ##################################### | 100% \r\n",
      "conda-4.14.0         | 1010 KB   | ##################################### | 100% \r\n",
      "distributed-2021.9.1 | 976 KB    | ##################################### | 100% \r\n",
      "faiss-gpu-1.7.0      | 28 KB     | ##################################### | 100% \r\n",
      "Preparing transaction: - \b\bdone\r\n",
      "Verifying transaction: | \b\b/ \b\bdone\r\n",
      "Executing transaction: \\ \b\b| \b\b/ \b\b- \b\b\\ \b\b| \b\b/ \b\b- \b\b\\ \b\b| \b\b/ \b\b- \b\b\\ \b\b| \b\b/ \b\b- \b\b\\ \b\b| \b\b/ \b\b- \b\b\\ \b\b| \b\b/ \b\b- \b\b\\ \b\b| \b\b/ \b\b- \b\b\\ \b\b| \b\b/ \b\b- \b\b\\ \b\b| \b\b/ \b\b- \b\b\\ \b\bdone\r\n",
      "CPU times: user 34.8 s, sys: 5.35 s, total: 40.1 s\n",
      "Wall time: 26min 25s\n"
     ]
    }
   ],
   "source": [
    "%%time\n",
    "! conda install -c pytorch/label/nightly -y faiss-gpu"
   ]
  },
  {
   "cell_type": "code",
   "execution_count": 2,
   "id": "91bd0e61",
   "metadata": {
    "execution": {
     "iopub.execute_input": "2022-08-24T03:23:39.090985Z",
     "iopub.status.busy": "2022-08-24T03:23:39.089994Z",
     "iopub.status.idle": "2022-08-24T03:23:42.145384Z",
     "shell.execute_reply": "2022-08-24T03:23:42.143343Z"
    },
    "papermill": {
     "duration": 3.72778,
     "end_time": "2022-08-24T03:23:42.148386",
     "exception": false,
     "start_time": "2022-08-24T03:23:38.420606",
     "status": "completed"
    },
    "tags": []
   },
   "outputs": [
    {
     "name": "stdout",
     "output_type": "stream",
     "text": [
      "Faiss version: 1.7.0\n",
      "GPUs: 1\n"
     ]
    }
   ],
   "source": [
    "import numpy as np \n",
    "import pandas as pd\n",
    "import os\n",
    "import time\n",
    "import pprint\n",
    "\n",
    "import plotly.express as px\n",
    "import plotly.graph_objects as go\n",
    "from plotly.subplots import make_subplots\n",
    "\n",
    "import faiss\n",
    "from faiss.contrib import datasets\n",
    "\n",
    "print(f\"Faiss version: {faiss.__version__}\")\n",
    "print(f\"GPUs: {faiss.get_num_gpus()}\")"
   ]
  },
  {
   "cell_type": "markdown",
   "id": "dc037ce5",
   "metadata": {
    "papermill": {
     "duration": 0.603066,
     "end_time": "2022-08-24T03:23:43.423676",
     "exception": false,
     "start_time": "2022-08-24T03:23:42.820610",
     "status": "completed"
    },
    "tags": []
   },
   "source": [
    "# Section 1: Exploring HNSW"
   ]
  },
  {
   "cell_type": "code",
   "execution_count": 3,
   "id": "a861754b",
   "metadata": {
    "execution": {
     "iopub.execute_input": "2022-08-24T03:23:44.701334Z",
     "iopub.status.busy": "2022-08-24T03:23:44.700944Z",
     "iopub.status.idle": "2022-08-24T03:23:44.715257Z",
     "shell.execute_reply": "2022-08-24T03:23:44.714042Z"
    },
    "papermill": {
     "duration": 0.623745,
     "end_time": "2022-08-24T03:23:44.718284",
     "exception": false,
     "start_time": "2022-08-24T03:23:44.094539",
     "status": "completed"
    },
    "tags": []
   },
   "outputs": [
    {
     "name": "stdout",
     "output_type": "stream",
     "text": [
      "Number of records added into index : 10\n",
      "Default value for efConstruction   : 40\n",
      "Default value for efSearch         : 16\n"
     ]
    }
   ],
   "source": [
    "d = 8              # Dimension (length) of vectors.\n",
    "M = 4              # Number of connections that would be made for each new vertex during HNSW construction.\n",
    "nvector = 10       # Number of database vectors.\n",
    "\n",
    "ds = datasets.SyntheticDataset(d, 0, nvector, 0)\n",
    "xb = ds.get_database()\n",
    "\n",
    "index = faiss.IndexHNSWFlat(d, M)\n",
    "index.add(xb)\n",
    "\n",
    "print(f\"Number of records added into index : {index.ntotal}\")\n",
    "print(f\"Default value for efConstruction   : {index.hnsw.efConstruction}\")\n",
    "print(f\"Default value for efSearch         : {index.hnsw.efSearch}\")"
   ]
  },
  {
   "cell_type": "code",
   "execution_count": 4,
   "id": "40764c09",
   "metadata": {
    "execution": {
     "iopub.execute_input": "2022-08-24T03:23:46.012983Z",
     "iopub.status.busy": "2022-08-24T03:23:46.011825Z",
     "iopub.status.idle": "2022-08-24T03:23:46.030422Z",
     "shell.execute_reply": "2022-08-24T03:23:46.028412Z"
    },
    "papermill": {
     "duration": 0.634298,
     "end_time": "2022-08-24T03:23:46.033531",
     "exception": false,
     "start_time": "2022-08-24T03:23:45.399233",
     "status": "completed"
    },
    "tags": []
   },
   "outputs": [
    {
     "name": "stdout",
     "output_type": "stream",
     "text": [
      "Index size: 1142.000 bytes. \n",
      "\n"
     ]
    }
   ],
   "source": [
    "faiss.write_index(index, \"test.index\")       # Write index to file    \n",
    "file_size = os.path.getsize(\"test.index\")    # Get file size    \n",
    "os.remove(\"test.index\")                      # Delete saved index\n",
    "print(f\"Index size: %.3f bytes. \\n\" % file_size)"
   ]
  },
  {
   "cell_type": "code",
   "execution_count": 5,
   "id": "2e2606fc",
   "metadata": {
    "execution": {
     "iopub.execute_input": "2022-08-24T03:23:47.811733Z",
     "iopub.status.busy": "2022-08-24T03:23:47.810685Z",
     "iopub.status.idle": "2022-08-24T03:23:47.822485Z",
     "shell.execute_reply": "2022-08-24T03:23:47.821547Z"
    },
    "papermill": {
     "duration": 0.791618,
     "end_time": "2022-08-24T03:23:47.824854",
     "exception": false,
     "start_time": "2022-08-24T03:23:47.033236",
     "status": "completed"
    },
    "tags": []
   },
   "outputs": [
    {
     "name": "stdout",
     "output_type": "stream",
     "text": [
      "\n",
      "=== Vector at index 0 ========================================\n",
      "[-0.77021146  0.6766764  -0.98828435 -0.5946992   0.59806705 -0.07889447\n",
      "  0.30440184  0.8733962 ]\n",
      "\n",
      "=== Vector at index 1 ========================================\n",
      "[-0.86879206 -0.99689794 -0.95869625 -0.4085238   0.03261118 -0.16727902\n",
      " -0.46708187  0.5575034 ]\n",
      "\n",
      "=== Vector at index 2 ========================================\n",
      "[ 0.03351549 -0.9945     -0.16137859 -0.137286    0.5340788   0.00778999\n",
      "  0.99198925 -0.3297846 ]\n",
      "\n",
      "=== Vector at index 3 ========================================\n",
      "[ 0.7873657  -0.18297368  0.91163546 -0.97056043  0.220104   -0.23087963\n",
      "  0.38412806  0.8158843 ]\n",
      "\n",
      "=== Vector at index 4 ========================================\n",
      "[-0.14258705  0.5982093   0.6935446  -0.32969132 -0.5689549  -0.06604872\n",
      "  0.9895372   0.94295764]\n",
      "\n",
      "=== Vector at index 5 ========================================\n",
      "[ 0.12434206  0.8910519  -0.9787737  -0.73430943  0.1108873  -0.00713387\n",
      "  0.0364638   0.08474799]\n",
      "\n",
      "=== Vector at index 6 ========================================\n",
      "[-0.5736761   0.4103292   0.9911055   0.47089875 -0.92912364 -0.17750227\n",
      " -0.42922872  0.33162764]\n",
      "\n",
      "=== Vector at index 7 ========================================\n",
      "[-0.04735673 -0.9384091  -0.16030562 -0.08618837 -0.83368516  0.09884957\n",
      "  0.8705721   0.7892136 ]\n",
      "\n",
      "=== Vector at index 8 ========================================\n",
      "[ 0.77821916  0.94104356 -0.9964823   0.29739013  0.62030303  0.34507278\n",
      "  0.8658368   0.9786864 ]\n",
      "\n",
      "=== Vector at index 9 ========================================\n",
      "[ 0.56988734 -0.50927377 -0.82829607 -0.38108215 -0.3271086   0.08033864\n",
      "  0.87360823  0.42268318]\n"
     ]
    }
   ],
   "source": [
    "# To retrieve the original vectors.\n",
    "\n",
    "for i in range(nvector):\n",
    "    print(f\"\\n=== Vector at index {i} ========================================\")\n",
    "    print(index.reconstruct(i))"
   ]
  },
  {
   "cell_type": "code",
   "execution_count": 6,
   "id": "9d4f0b35",
   "metadata": {
    "execution": {
     "iopub.execute_input": "2022-08-24T03:23:49.098583Z",
     "iopub.status.busy": "2022-08-24T03:23:49.098206Z",
     "iopub.status.idle": "2022-08-24T03:23:49.103698Z",
     "shell.execute_reply": "2022-08-24T03:23:49.102750Z"
    },
    "papermill": {
     "duration": 0.612981,
     "end_time": "2022-08-24T03:23:49.106454",
     "exception": false,
     "start_time": "2022-08-24T03:23:48.493473",
     "status": "completed"
    },
    "tags": []
   },
   "outputs": [
    {
     "name": "stdout",
     "output_type": "stream",
     "text": [
      "In this example, the HNSW entry point is vertex 1\n",
      "The bottom level is : level 0\n",
      "The top level is    : level 1\n"
     ]
    }
   ],
   "source": [
    "print(f\"In this example, the HNSW entry point is vertex {index.hnsw.entry_point}\")\n",
    "print(\"The bottom level is : level 0\")\n",
    "print(\"The top level is    : level\", index.hnsw.max_level)"
   ]
  },
  {
   "cell_type": "code",
   "execution_count": 7,
   "id": "36fa22de",
   "metadata": {
    "execution": {
     "iopub.execute_input": "2022-08-24T03:23:50.377551Z",
     "iopub.status.busy": "2022-08-24T03:23:50.377193Z",
     "iopub.status.idle": "2022-08-24T03:23:50.382613Z",
     "shell.execute_reply": "2022-08-24T03:23:50.381641Z"
    },
    "papermill": {
     "duration": 0.617084,
     "end_time": "2022-08-24T03:23:50.385625",
     "exception": false,
     "start_time": "2022-08-24T03:23:49.768541",
     "status": "completed"
    },
    "tags": []
   },
   "outputs": [
    {
     "name": "stdout",
     "output_type": "stream",
     "text": [
      "The maximum layer (ℓ) assigned to each vertex:\n",
      " [2, 2, 1, 1, 1, 1, 1, 2, 1, 1]\n"
     ]
    }
   ],
   "source": [
    "levels = faiss.vector_to_array(index.hnsw.levels)  \n",
    "print(\"The maximum layer (ℓ) assigned to each vertex:\\n\", levels.tolist())"
   ]
  },
  {
   "cell_type": "code",
   "execution_count": 8,
   "id": "17c6bbba",
   "metadata": {
    "execution": {
     "iopub.execute_input": "2022-08-24T03:23:51.658740Z",
     "iopub.status.busy": "2022-08-24T03:23:51.658005Z",
     "iopub.status.idle": "2022-08-24T03:23:51.666648Z",
     "shell.execute_reply": "2022-08-24T03:23:51.665644Z"
    },
    "papermill": {
     "duration": 0.678325,
     "end_time": "2022-08-24T03:23:51.669539",
     "exception": false,
     "start_time": "2022-08-24T03:23:50.991214",
     "status": "completed"
    },
    "tags": []
   },
   "outputs": [
    {
     "name": "stdout",
     "output_type": "stream",
     "text": [
      "The maximum layer (ℓ) in which a vertex is present, and the corresponding vertex count:\n",
      "array([[1, 7],\n",
      "       [2, 3]])\n"
     ]
    }
   ],
   "source": [
    "print(\"The maximum layer (ℓ) in which a vertex is present, and the corresponding vertex count:\")\n",
    "unique, counts = np.unique(levels, return_counts=True)\n",
    "pprint.pprint(np.column_stack((unique, counts)))"
   ]
  },
  {
   "cell_type": "code",
   "execution_count": 9,
   "id": "3e45bb7a",
   "metadata": {
    "execution": {
     "iopub.execute_input": "2022-08-24T03:23:53.222732Z",
     "iopub.status.busy": "2022-08-24T03:23:53.222336Z",
     "iopub.status.idle": "2022-08-24T03:23:53.228591Z",
     "shell.execute_reply": "2022-08-24T03:23:53.227537Z"
    },
    "papermill": {
     "duration": 0.683154,
     "end_time": "2022-08-24T03:23:53.232555",
     "exception": false,
     "start_time": "2022-08-24T03:23:52.549401",
     "status": "completed"
    },
    "tags": []
   },
   "outputs": [
    {
     "name": "stdout",
     "output_type": "stream",
     "text": [
      "List of vertices with ℓ=1 : (array([2, 3, 4, 5, 6, 8, 9]),) \n",
      "\n",
      "List of vertices with ℓ=2 : (array([0, 1, 7]),) \n",
      "\n"
     ]
    }
   ],
   "source": [
    "for i in range(1, levels.max()+1):\n",
    "    vertices = np.where(levels == i)    \n",
    "    print(f\"List of vertices with ℓ={i} : {vertices} \\n\")  "
   ]
  },
  {
   "cell_type": "markdown",
   "id": "5cb2f384",
   "metadata": {
    "papermill": {
     "duration": 0.66625,
     "end_time": "2022-08-24T03:23:54.505579",
     "exception": false,
     "start_time": "2022-08-24T03:23:53.839329",
     "status": "completed"
    },
    "tags": []
   },
   "source": [
    "## Getting the link structure for a vertex"
   ]
  },
  {
   "cell_type": "code",
   "execution_count": 10,
   "id": "118ac75e",
   "metadata": {
    "execution": {
     "iopub.execute_input": "2022-08-24T03:23:55.769809Z",
     "iopub.status.busy": "2022-08-24T03:23:55.769436Z",
     "iopub.status.idle": "2022-08-24T03:23:55.777076Z",
     "shell.execute_reply": "2022-08-24T03:23:55.776061Z"
    },
    "papermill": {
     "duration": 0.617535,
     "end_time": "2022-08-24T03:23:55.779164",
     "exception": false,
     "start_time": "2022-08-24T03:23:55.161629",
     "status": "completed"
    },
    "tags": []
   },
   "outputs": [],
   "source": [
    "def vector_to_array(v): \n",
    "    \"\"\" make a vector visible as a numpy array (without copying data)\"\"\"\n",
    "    return faiss.rev_swig_ptr(v.data(), v.size())\n",
    "\n",
    "def get_hnsw_links(hnsw, vno): \n",
    "    \"\"\" get link structure for vertex vno \"\"\"\n",
    "    \n",
    "    # make arrays visible from Python\n",
    "    levels = vector_to_array(hnsw.levels)\n",
    "    cum_nneighbor_per_level = vector_to_array(hnsw.cum_nneighbor_per_level)\n",
    "    offsets = vector_to_array(hnsw.offsets)\n",
    "    neighbors = vector_to_array(hnsw.neighbors)\n",
    "    \n",
    "    # all neighbors of vno\n",
    "    neigh_vno = neighbors[offsets[vno] : offsets[vno + 1]]\n",
    "    \n",
    "    # break down per level \n",
    "    nlevel = levels[vno]\n",
    "    return [\n",
    "        neigh_vno[cum_nneighbor_per_level[l] : cum_nneighbor_per_level[l + 1]]\n",
    "        for l in range(nlevel)\n",
    "    ]                 "
   ]
  },
  {
   "cell_type": "code",
   "execution_count": 11,
   "id": "ad1e6027",
   "metadata": {
    "execution": {
     "iopub.execute_input": "2022-08-24T03:23:57.050080Z",
     "iopub.status.busy": "2022-08-24T03:23:57.049316Z",
     "iopub.status.idle": "2022-08-24T03:23:57.060008Z",
     "shell.execute_reply": "2022-08-24T03:23:57.058932Z"
    },
    "papermill": {
     "duration": 0.622326,
     "end_time": "2022-08-24T03:23:57.064860",
     "exception": false,
     "start_time": "2022-08-24T03:23:56.442534",
     "status": "completed"
    },
    "tags": []
   },
   "outputs": [
    {
     "name": "stdout",
     "output_type": "stream",
     "text": [
      "neighbors:\n"
     ]
    },
    {
     "data": {
      "text/plain": [
       "array([ 1,  7,  2,  6,  5,  8,  3,  4,  1,  7, -1, -1,  0,  7,  2,  6,  5,\n",
       "        8,  3, -1,  0,  7, -1, -1,  0,  1,  7,  6,  5,  8,  3,  9,  9,  4,\n",
       "       -1, -1, -1, -1, -1, -1,  0,  6,  7,  3, -1, -1, -1, -1,  6,  7,  2,\n",
       "        1,  0,  8,  3,  9,  2,  0,  1,  7,  5,  8,  3,  4,  1,  4,  9, -1,\n",
       "       -1, -1, -1, -1,  0,  1, -1, -1,  6,  1,  7,  2,  0,  5,  3, -1,  3,\n",
       "        5,  2,  7, -1, -1, -1, -1], dtype=int32)"
      ]
     },
     "execution_count": 11,
     "metadata": {},
     "output_type": "execute_result"
    }
   ],
   "source": [
    "# neighbors[offsets[i]:offsets[i+1]] is the list of neighbors of vector i for all levels. \n",
    "# This is where all storage goes.\n",
    "print(\"neighbors:\")\n",
    "faiss.vector_to_array(index.hnsw.neighbors)"
   ]
  },
  {
   "cell_type": "code",
   "execution_count": 12,
   "id": "dbb5f789",
   "metadata": {
    "execution": {
     "iopub.execute_input": "2022-08-24T03:23:58.342739Z",
     "iopub.status.busy": "2022-08-24T03:23:58.342370Z",
     "iopub.status.idle": "2022-08-24T03:23:58.351677Z",
     "shell.execute_reply": "2022-08-24T03:23:58.350493Z"
    },
    "papermill": {
     "duration": 0.628491,
     "end_time": "2022-08-24T03:23:58.355610",
     "exception": false,
     "start_time": "2022-08-24T03:23:57.727119",
     "status": "completed"
    },
    "tags": []
   },
   "outputs": [
    {
     "name": "stdout",
     "output_type": "stream",
     "text": [
      "offsets:\n"
     ]
    },
    {
     "data": {
      "text/plain": [
       "array([ 0, 12, 24, 32, 40, 48, 56, 64, 76, 84, 92], dtype=uint64)"
      ]
     },
     "execution_count": 12,
     "metadata": {},
     "output_type": "execute_result"
    }
   ],
   "source": [
    "# offsets[i] is the offset in the neighbors array where vector i is stored.\n",
    "# Size of offsets is (ntotal + 1).\n",
    "print(\"offsets:\")\n",
    "faiss.vector_to_array(index.hnsw.offsets)"
   ]
  },
  {
   "cell_type": "code",
   "execution_count": 13,
   "id": "30d69d14",
   "metadata": {
    "execution": {
     "iopub.execute_input": "2022-08-24T03:23:59.630964Z",
     "iopub.status.busy": "2022-08-24T03:23:59.629923Z",
     "iopub.status.idle": "2022-08-24T03:23:59.638962Z",
     "shell.execute_reply": "2022-08-24T03:23:59.637944Z"
    },
    "papermill": {
     "duration": 0.621218,
     "end_time": "2022-08-24T03:23:59.640985",
     "exception": false,
     "start_time": "2022-08-24T03:23:59.019767",
     "status": "completed"
    },
    "tags": []
   },
   "outputs": [
    {
     "name": "stdout",
     "output_type": "stream",
     "text": [
      "cum_nneighbor_per_level:\n"
     ]
    },
    {
     "data": {
      "text/plain": [
       "array([ 0,  8, 12, 16, 20, 24, 28, 32, 36, 40, 44, 48, 52, 56, 60, 64],\n",
       "      dtype=int32)"
      ]
     },
     "execution_count": 13,
     "metadata": {},
     "output_type": "execute_result"
    }
   ],
   "source": [
    "# Number of neighbors stored per layer (cumulative), should not be changed after first add.\n",
    "print(\"cum_nneighbor_per_level:\")\n",
    "faiss.vector_to_array(index.hnsw.cum_nneighbor_per_level) "
   ]
  },
  {
   "cell_type": "code",
   "execution_count": 14,
   "id": "43229990",
   "metadata": {
    "execution": {
     "iopub.execute_input": "2022-08-24T03:24:00.910689Z",
     "iopub.status.busy": "2022-08-24T03:24:00.910317Z",
     "iopub.status.idle": "2022-08-24T03:24:00.919236Z",
     "shell.execute_reply": "2022-08-24T03:24:00.918151Z"
    },
    "papermill": {
     "duration": 0.618487,
     "end_time": "2022-08-24T03:24:00.921988",
     "exception": false,
     "start_time": "2022-08-24T03:24:00.303501",
     "status": "completed"
    },
    "tags": []
   },
   "outputs": [
    {
     "name": "stdout",
     "output_type": "stream",
     "text": [
      "\n",
      "=== Connections for vertex 0 ========================================\n",
      "[array([1, 7, 2, 6, 5, 8, 3, 4], dtype=int32),\n",
      " array([ 1,  7, -1, -1], dtype=int32)]\n",
      "\n",
      "=== Connections for vertex 1 ========================================\n",
      "[array([ 0,  7,  2,  6,  5,  8,  3, -1], dtype=int32),\n",
      " array([ 0,  7, -1, -1], dtype=int32)]\n",
      "\n",
      "=== Connections for vertex 2 ========================================\n",
      "[array([0, 1, 7, 6, 5, 8, 3, 9], dtype=int32)]\n",
      "\n",
      "=== Connections for vertex 3 ========================================\n",
      "[array([ 9,  4, -1, -1, -1, -1, -1, -1], dtype=int32)]\n",
      "\n",
      "=== Connections for vertex 4 ========================================\n",
      "[array([ 0,  6,  7,  3, -1, -1, -1, -1], dtype=int32)]\n",
      "\n",
      "=== Connections for vertex 5 ========================================\n",
      "[array([6, 7, 2, 1, 0, 8, 3, 9], dtype=int32)]\n",
      "\n",
      "=== Connections for vertex 6 ========================================\n",
      "[array([2, 0, 1, 7, 5, 8, 3, 4], dtype=int32)]\n",
      "\n",
      "=== Connections for vertex 7 ========================================\n",
      "[array([ 1,  4,  9, -1, -1, -1, -1, -1], dtype=int32),\n",
      " array([ 0,  1, -1, -1], dtype=int32)]\n",
      "\n",
      "=== Connections for vertex 8 ========================================\n",
      "[array([ 6,  1,  7,  2,  0,  5,  3, -1], dtype=int32)]\n",
      "\n",
      "=== Connections for vertex 9 ========================================\n",
      "[array([ 3,  5,  2,  7, -1, -1, -1, -1], dtype=int32)]\n"
     ]
    }
   ],
   "source": [
    "for i in range(nvector):\n",
    "    # Get connections for that vector at particular index\n",
    "    links = get_hnsw_links(index.hnsw, i)\n",
    "    print(\"\\n=== Connections for vertex\", i, \"========================================\")\n",
    "    pprint.pprint(links)"
   ]
  },
  {
   "cell_type": "code",
   "execution_count": 15,
   "id": "e6d3aecc",
   "metadata": {
    "execution": {
     "iopub.execute_input": "2022-08-24T03:24:02.209486Z",
     "iopub.status.busy": "2022-08-24T03:24:02.209116Z",
     "iopub.status.idle": "2022-08-24T03:24:02.214076Z",
     "shell.execute_reply": "2022-08-24T03:24:02.213162Z"
    },
    "papermill": {
     "duration": 0.627348,
     "end_time": "2022-08-24T03:24:02.216139",
     "exception": false,
     "start_time": "2022-08-24T03:24:01.588791",
     "status": "completed"
    },
    "tags": []
   },
   "outputs": [],
   "source": [
    "del index"
   ]
  },
  {
   "cell_type": "markdown",
   "id": "39188303",
   "metadata": {
    "papermill": {
     "duration": 0.862437,
     "end_time": "2022-08-24T03:24:03.741725",
     "exception": false,
     "start_time": "2022-08-24T03:24:02.879288",
     "status": "completed"
    },
    "tags": []
   },
   "source": [
    "# Section 2: Distribution of ℓ from a random dataset of 500,000 vectors\n",
    "\n",
    "- ℓ is the maximum layer in which a vertex is present.\n",
    "- It has an exponentially decaying probability distribution."
   ]
  },
  {
   "cell_type": "code",
   "execution_count": 16,
   "id": "d1329d4d",
   "metadata": {
    "execution": {
     "iopub.execute_input": "2022-08-24T03:24:05.052775Z",
     "iopub.status.busy": "2022-08-24T03:24:05.051815Z",
     "iopub.status.idle": "2022-08-24T03:24:05.698718Z",
     "shell.execute_reply": "2022-08-24T03:24:05.697713Z"
    },
    "papermill": {
     "duration": 1.294655,
     "end_time": "2022-08-24T03:24:05.701483",
     "exception": false,
     "start_time": "2022-08-24T03:24:04.406828",
     "status": "completed"
    },
    "tags": []
   },
   "outputs": [],
   "source": [
    "d = 128              # Dimension (length) of vectors.\n",
    "M = 32               # Number of connections that would be made for each new vertex during HNSW construction.\n",
    "\n",
    "efConstruction = 32  # The depth of exploration at add time (number of candidate neighbors to explore during construction).\n",
    "efSearch = 32        # The depth of exploration during vector search.\n",
    "\n",
    "np.random.seed(1234)             \n",
    "xb = np.random.random((500000, d)).astype('float32')\n",
    "\n",
    "index = faiss.IndexHNSWFlat(d, M)\n",
    "index.hnsw.efConstruction = efConstruction \n",
    "index.hnsw.efSearch = efSearch"
   ]
  },
  {
   "cell_type": "code",
   "execution_count": 17,
   "id": "6b6a0c88",
   "metadata": {
    "execution": {
     "iopub.execute_input": "2022-08-24T03:24:06.973286Z",
     "iopub.status.busy": "2022-08-24T03:24:06.972905Z",
     "iopub.status.idle": "2022-08-24T03:36:36.282041Z",
     "shell.execute_reply": "2022-08-24T03:36:36.280934Z"
    },
    "papermill": {
     "duration": 750.577015,
     "end_time": "2022-08-24T03:36:36.944362",
     "exception": false,
     "start_time": "2022-08-24T03:24:06.367347",
     "status": "completed"
    },
    "tags": []
   },
   "outputs": [
    {
     "name": "stdout",
     "output_type": "stream",
     "text": [
      "CPU times: user 23min 55s, sys: 1.4 s, total: 23min 56s\n",
      "Wall time: 12min 29s\n"
     ]
    }
   ],
   "source": [
    "%%time\n",
    "index.add(xb)"
   ]
  },
  {
   "cell_type": "code",
   "execution_count": 18,
   "id": "f5ddd000",
   "metadata": {
    "execution": {
     "iopub.execute_input": "2022-08-24T03:36:38.223439Z",
     "iopub.status.busy": "2022-08-24T03:36:38.222785Z",
     "iopub.status.idle": "2022-08-24T03:36:38.234350Z",
     "shell.execute_reply": "2022-08-24T03:36:38.233302Z"
    },
    "papermill": {
     "duration": 0.623205,
     "end_time": "2022-08-24T03:36:38.236584",
     "exception": false,
     "start_time": "2022-08-24T03:36:37.613379",
     "status": "completed"
    },
    "tags": []
   },
   "outputs": [
    {
     "data": {
      "text/plain": [
       "array([     0, 484359,  15162,    461,     17,      1])"
      ]
     },
     "execution_count": 18,
     "metadata": {},
     "output_type": "execute_result"
    }
   ],
   "source": [
    "levels = faiss.vector_to_array(index.hnsw.levels)\n",
    "np.bincount(levels)   # Ignore the first zero on the bincount array."
   ]
  },
  {
   "cell_type": "code",
   "execution_count": 19,
   "id": "2d9203d2",
   "metadata": {
    "execution": {
     "iopub.execute_input": "2022-08-24T03:36:39.504841Z",
     "iopub.status.busy": "2022-08-24T03:36:39.504458Z",
     "iopub.status.idle": "2022-08-24T03:36:39.519082Z",
     "shell.execute_reply": "2022-08-24T03:36:39.518005Z"
    },
    "papermill": {
     "duration": 0.679548,
     "end_time": "2022-08-24T03:36:39.521564",
     "exception": false,
     "start_time": "2022-08-24T03:36:38.842016",
     "status": "completed"
    },
    "tags": []
   },
   "outputs": [
    {
     "name": "stdout",
     "output_type": "stream",
     "text": [
      "The maximum layer (ℓ) in which a vertex is present, and the corresponding vertex count:\n"
     ]
    },
    {
     "data": {
      "text/plain": [
       "array([[     1, 484359],\n",
       "       [     2,  15162],\n",
       "       [     3,    461],\n",
       "       [     4,     17],\n",
       "       [     5,      1]])"
      ]
     },
     "execution_count": 19,
     "metadata": {},
     "output_type": "execute_result"
    }
   ],
   "source": [
    "print(\"The maximum layer (ℓ) in which a vertex is present, and the corresponding vertex count:\")\n",
    "unique, counts = np.unique(levels, return_counts=True)\n",
    "np.column_stack((unique, counts))"
   ]
  },
  {
   "cell_type": "code",
   "execution_count": 20,
   "id": "3037fa17",
   "metadata": {
    "execution": {
     "iopub.execute_input": "2022-08-24T03:36:40.795220Z",
     "iopub.status.busy": "2022-08-24T03:36:40.794205Z",
     "iopub.status.idle": "2022-08-24T03:36:41.468891Z",
     "shell.execute_reply": "2022-08-24T03:36:41.467925Z"
    },
    "papermill": {
     "duration": 1.286875,
     "end_time": "2022-08-24T03:36:41.471326",
     "exception": false,
     "start_time": "2022-08-24T03:36:40.184451",
     "status": "completed"
    },
    "tags": []
   },
   "outputs": [
    {
     "data": {
      "text/html": [
       "        <script type=\"text/javascript\">\n",
       "        window.PlotlyConfig = {MathJaxConfig: 'local'};\n",
       "        if (window.MathJax && window.MathJax.Hub && window.MathJax.Hub.Config) {window.MathJax.Hub.Config({SVG: {font: \"STIX-Web\"}});}\n",
       "        if (typeof require !== 'undefined') {\n",
       "        require.undef(\"plotly\");\n",
       "        requirejs.config({\n",
       "            paths: {\n",
       "                'plotly': ['https://cdn.plot.ly/plotly-2.12.1.min']\n",
       "            }\n",
       "        });\n",
       "        require(['plotly'], function(Plotly) {\n",
       "            window._Plotly = Plotly;\n",
       "        });\n",
       "        }\n",
       "        </script>\n",
       "        "
      ]
     },
     "metadata": {},
     "output_type": "display_data"
    },
    {
     "data": {
      "text/html": [
       "<div>                            <div id=\"932e623d-fded-4b0c-83ed-5888e88260f3\" class=\"plotly-graph-div\" style=\"height:480px; width:500px;\"></div>            <script type=\"text/javascript\">                require([\"plotly\"], function(Plotly) {                    window.PLOTLYENV=window.PLOTLYENV || {};                                    if (document.getElementById(\"932e623d-fded-4b0c-83ed-5888e88260f3\")) {                    Plotly.newPlot(                        \"932e623d-fded-4b0c-83ed-5888e88260f3\",                        [{\"alignmentgroup\":\"True\",\"hovertemplate\":\"x=%{x}<br>y=%{y}<extra></extra>\",\"legendgroup\":\"\",\"marker\":{\"color\":\"#1F77B4\",\"pattern\":{\"shape\":\"\"}},\"name\":\"\",\"offsetgroup\":\"\",\"orientation\":\"v\",\"showlegend\":false,\"textposition\":\"outside\",\"texttemplate\":\"%{y:,d}\",\"x\":[1,2,3,4,5],\"xaxis\":\"x\",\"y\":[484359,15162,461,17,1],\"yaxis\":\"y\",\"type\":\"bar\",\"textfont\":{\"color\":\"blue\",\"size\":14},\"width\":1}],                        {\"template\":{\"data\":{\"barpolar\":[{\"marker\":{\"line\":{\"color\":\"white\",\"width\":0.5},\"pattern\":{\"fillmode\":\"overlay\",\"size\":10,\"solidity\":0.2}},\"type\":\"barpolar\"}],\"bar\":[{\"error_x\":{\"color\":\"rgb(36,36,36)\"},\"error_y\":{\"color\":\"rgb(36,36,36)\"},\"marker\":{\"line\":{\"color\":\"white\",\"width\":0.5},\"pattern\":{\"fillmode\":\"overlay\",\"size\":10,\"solidity\":0.2}},\"type\":\"bar\"}],\"carpet\":[{\"aaxis\":{\"endlinecolor\":\"rgb(36,36,36)\",\"gridcolor\":\"white\",\"linecolor\":\"white\",\"minorgridcolor\":\"white\",\"startlinecolor\":\"rgb(36,36,36)\"},\"baxis\":{\"endlinecolor\":\"rgb(36,36,36)\",\"gridcolor\":\"white\",\"linecolor\":\"white\",\"minorgridcolor\":\"white\",\"startlinecolor\":\"rgb(36,36,36)\"},\"type\":\"carpet\"}],\"choropleth\":[{\"colorbar\":{\"outlinewidth\":1,\"tickcolor\":\"rgb(36,36,36)\",\"ticks\":\"outside\"},\"type\":\"choropleth\"}],\"contourcarpet\":[{\"colorbar\":{\"outlinewidth\":1,\"tickcolor\":\"rgb(36,36,36)\",\"ticks\":\"outside\"},\"type\":\"contourcarpet\"}],\"contour\":[{\"colorbar\":{\"outlinewidth\":1,\"tickcolor\":\"rgb(36,36,36)\",\"ticks\":\"outside\"},\"colorscale\":[[0.0,\"#440154\"],[0.1111111111111111,\"#482878\"],[0.2222222222222222,\"#3e4989\"],[0.3333333333333333,\"#31688e\"],[0.4444444444444444,\"#26828e\"],[0.5555555555555556,\"#1f9e89\"],[0.6666666666666666,\"#35b779\"],[0.7777777777777778,\"#6ece58\"],[0.8888888888888888,\"#b5de2b\"],[1.0,\"#fde725\"]],\"type\":\"contour\"}],\"heatmapgl\":[{\"colorbar\":{\"outlinewidth\":1,\"tickcolor\":\"rgb(36,36,36)\",\"ticks\":\"outside\"},\"colorscale\":[[0.0,\"#440154\"],[0.1111111111111111,\"#482878\"],[0.2222222222222222,\"#3e4989\"],[0.3333333333333333,\"#31688e\"],[0.4444444444444444,\"#26828e\"],[0.5555555555555556,\"#1f9e89\"],[0.6666666666666666,\"#35b779\"],[0.7777777777777778,\"#6ece58\"],[0.8888888888888888,\"#b5de2b\"],[1.0,\"#fde725\"]],\"type\":\"heatmapgl\"}],\"heatmap\":[{\"colorbar\":{\"outlinewidth\":1,\"tickcolor\":\"rgb(36,36,36)\",\"ticks\":\"outside\"},\"colorscale\":[[0.0,\"#440154\"],[0.1111111111111111,\"#482878\"],[0.2222222222222222,\"#3e4989\"],[0.3333333333333333,\"#31688e\"],[0.4444444444444444,\"#26828e\"],[0.5555555555555556,\"#1f9e89\"],[0.6666666666666666,\"#35b779\"],[0.7777777777777778,\"#6ece58\"],[0.8888888888888888,\"#b5de2b\"],[1.0,\"#fde725\"]],\"type\":\"heatmap\"}],\"histogram2dcontour\":[{\"colorbar\":{\"outlinewidth\":1,\"tickcolor\":\"rgb(36,36,36)\",\"ticks\":\"outside\"},\"colorscale\":[[0.0,\"#440154\"],[0.1111111111111111,\"#482878\"],[0.2222222222222222,\"#3e4989\"],[0.3333333333333333,\"#31688e\"],[0.4444444444444444,\"#26828e\"],[0.5555555555555556,\"#1f9e89\"],[0.6666666666666666,\"#35b779\"],[0.7777777777777778,\"#6ece58\"],[0.8888888888888888,\"#b5de2b\"],[1.0,\"#fde725\"]],\"type\":\"histogram2dcontour\"}],\"histogram2d\":[{\"colorbar\":{\"outlinewidth\":1,\"tickcolor\":\"rgb(36,36,36)\",\"ticks\":\"outside\"},\"colorscale\":[[0.0,\"#440154\"],[0.1111111111111111,\"#482878\"],[0.2222222222222222,\"#3e4989\"],[0.3333333333333333,\"#31688e\"],[0.4444444444444444,\"#26828e\"],[0.5555555555555556,\"#1f9e89\"],[0.6666666666666666,\"#35b779\"],[0.7777777777777778,\"#6ece58\"],[0.8888888888888888,\"#b5de2b\"],[1.0,\"#fde725\"]],\"type\":\"histogram2d\"}],\"histogram\":[{\"marker\":{\"line\":{\"color\":\"white\",\"width\":0.6}},\"type\":\"histogram\"}],\"mesh3d\":[{\"colorbar\":{\"outlinewidth\":1,\"tickcolor\":\"rgb(36,36,36)\",\"ticks\":\"outside\"},\"type\":\"mesh3d\"}],\"parcoords\":[{\"line\":{\"colorbar\":{\"outlinewidth\":1,\"tickcolor\":\"rgb(36,36,36)\",\"ticks\":\"outside\"}},\"type\":\"parcoords\"}],\"pie\":[{\"automargin\":true,\"type\":\"pie\"}],\"scatter3d\":[{\"line\":{\"colorbar\":{\"outlinewidth\":1,\"tickcolor\":\"rgb(36,36,36)\",\"ticks\":\"outside\"}},\"marker\":{\"colorbar\":{\"outlinewidth\":1,\"tickcolor\":\"rgb(36,36,36)\",\"ticks\":\"outside\"}},\"type\":\"scatter3d\"}],\"scattercarpet\":[{\"marker\":{\"colorbar\":{\"outlinewidth\":1,\"tickcolor\":\"rgb(36,36,36)\",\"ticks\":\"outside\"}},\"type\":\"scattercarpet\"}],\"scattergeo\":[{\"marker\":{\"colorbar\":{\"outlinewidth\":1,\"tickcolor\":\"rgb(36,36,36)\",\"ticks\":\"outside\"}},\"type\":\"scattergeo\"}],\"scattergl\":[{\"marker\":{\"colorbar\":{\"outlinewidth\":1,\"tickcolor\":\"rgb(36,36,36)\",\"ticks\":\"outside\"}},\"type\":\"scattergl\"}],\"scattermapbox\":[{\"marker\":{\"colorbar\":{\"outlinewidth\":1,\"tickcolor\":\"rgb(36,36,36)\",\"ticks\":\"outside\"}},\"type\":\"scattermapbox\"}],\"scatterpolargl\":[{\"marker\":{\"colorbar\":{\"outlinewidth\":1,\"tickcolor\":\"rgb(36,36,36)\",\"ticks\":\"outside\"}},\"type\":\"scatterpolargl\"}],\"scatterpolar\":[{\"marker\":{\"colorbar\":{\"outlinewidth\":1,\"tickcolor\":\"rgb(36,36,36)\",\"ticks\":\"outside\"}},\"type\":\"scatterpolar\"}],\"scatter\":[{\"fillpattern\":{\"fillmode\":\"overlay\",\"size\":10,\"solidity\":0.2},\"type\":\"scatter\"}],\"scatterternary\":[{\"marker\":{\"colorbar\":{\"outlinewidth\":1,\"tickcolor\":\"rgb(36,36,36)\",\"ticks\":\"outside\"}},\"type\":\"scatterternary\"}],\"surface\":[{\"colorbar\":{\"outlinewidth\":1,\"tickcolor\":\"rgb(36,36,36)\",\"ticks\":\"outside\"},\"colorscale\":[[0.0,\"#440154\"],[0.1111111111111111,\"#482878\"],[0.2222222222222222,\"#3e4989\"],[0.3333333333333333,\"#31688e\"],[0.4444444444444444,\"#26828e\"],[0.5555555555555556,\"#1f9e89\"],[0.6666666666666666,\"#35b779\"],[0.7777777777777778,\"#6ece58\"],[0.8888888888888888,\"#b5de2b\"],[1.0,\"#fde725\"]],\"type\":\"surface\"}],\"table\":[{\"cells\":{\"fill\":{\"color\":\"rgb(237,237,237)\"},\"line\":{\"color\":\"white\"}},\"header\":{\"fill\":{\"color\":\"rgb(217,217,217)\"},\"line\":{\"color\":\"white\"}},\"type\":\"table\"}]},\"layout\":{\"annotationdefaults\":{\"arrowhead\":0,\"arrowwidth\":1},\"autotypenumbers\":\"strict\",\"coloraxis\":{\"colorbar\":{\"outlinewidth\":1,\"tickcolor\":\"rgb(36,36,36)\",\"ticks\":\"outside\"}},\"colorscale\":{\"diverging\":[[0.0,\"rgb(103,0,31)\"],[0.1,\"rgb(178,24,43)\"],[0.2,\"rgb(214,96,77)\"],[0.3,\"rgb(244,165,130)\"],[0.4,\"rgb(253,219,199)\"],[0.5,\"rgb(247,247,247)\"],[0.6,\"rgb(209,229,240)\"],[0.7,\"rgb(146,197,222)\"],[0.8,\"rgb(67,147,195)\"],[0.9,\"rgb(33,102,172)\"],[1.0,\"rgb(5,48,97)\"]],\"sequential\":[[0.0,\"#440154\"],[0.1111111111111111,\"#482878\"],[0.2222222222222222,\"#3e4989\"],[0.3333333333333333,\"#31688e\"],[0.4444444444444444,\"#26828e\"],[0.5555555555555556,\"#1f9e89\"],[0.6666666666666666,\"#35b779\"],[0.7777777777777778,\"#6ece58\"],[0.8888888888888888,\"#b5de2b\"],[1.0,\"#fde725\"]],\"sequentialminus\":[[0.0,\"#440154\"],[0.1111111111111111,\"#482878\"],[0.2222222222222222,\"#3e4989\"],[0.3333333333333333,\"#31688e\"],[0.4444444444444444,\"#26828e\"],[0.5555555555555556,\"#1f9e89\"],[0.6666666666666666,\"#35b779\"],[0.7777777777777778,\"#6ece58\"],[0.8888888888888888,\"#b5de2b\"],[1.0,\"#fde725\"]]},\"colorway\":[\"#1F77B4\",\"#FF7F0E\",\"#2CA02C\",\"#D62728\",\"#9467BD\",\"#8C564B\",\"#E377C2\",\"#7F7F7F\",\"#BCBD22\",\"#17BECF\"],\"font\":{\"color\":\"rgb(36,36,36)\"},\"geo\":{\"bgcolor\":\"white\",\"lakecolor\":\"white\",\"landcolor\":\"white\",\"showlakes\":true,\"showland\":true,\"subunitcolor\":\"white\"},\"hoverlabel\":{\"align\":\"left\"},\"hovermode\":\"closest\",\"mapbox\":{\"style\":\"light\"},\"paper_bgcolor\":\"white\",\"plot_bgcolor\":\"white\",\"polar\":{\"angularaxis\":{\"gridcolor\":\"rgb(232,232,232)\",\"linecolor\":\"rgb(36,36,36)\",\"showgrid\":false,\"showline\":true,\"ticks\":\"outside\"},\"bgcolor\":\"white\",\"radialaxis\":{\"gridcolor\":\"rgb(232,232,232)\",\"linecolor\":\"rgb(36,36,36)\",\"showgrid\":false,\"showline\":true,\"ticks\":\"outside\"}},\"scene\":{\"xaxis\":{\"backgroundcolor\":\"white\",\"gridcolor\":\"rgb(232,232,232)\",\"gridwidth\":2,\"linecolor\":\"rgb(36,36,36)\",\"showbackground\":true,\"showgrid\":false,\"showline\":true,\"ticks\":\"outside\",\"zeroline\":false,\"zerolinecolor\":\"rgb(36,36,36)\"},\"yaxis\":{\"backgroundcolor\":\"white\",\"gridcolor\":\"rgb(232,232,232)\",\"gridwidth\":2,\"linecolor\":\"rgb(36,36,36)\",\"showbackground\":true,\"showgrid\":false,\"showline\":true,\"ticks\":\"outside\",\"zeroline\":false,\"zerolinecolor\":\"rgb(36,36,36)\"},\"zaxis\":{\"backgroundcolor\":\"white\",\"gridcolor\":\"rgb(232,232,232)\",\"gridwidth\":2,\"linecolor\":\"rgb(36,36,36)\",\"showbackground\":true,\"showgrid\":false,\"showline\":true,\"ticks\":\"outside\",\"zeroline\":false,\"zerolinecolor\":\"rgb(36,36,36)\"}},\"shapedefaults\":{\"fillcolor\":\"black\",\"line\":{\"width\":0},\"opacity\":0.3},\"ternary\":{\"aaxis\":{\"gridcolor\":\"rgb(232,232,232)\",\"linecolor\":\"rgb(36,36,36)\",\"showgrid\":false,\"showline\":true,\"ticks\":\"outside\"},\"baxis\":{\"gridcolor\":\"rgb(232,232,232)\",\"linecolor\":\"rgb(36,36,36)\",\"showgrid\":false,\"showline\":true,\"ticks\":\"outside\"},\"bgcolor\":\"white\",\"caxis\":{\"gridcolor\":\"rgb(232,232,232)\",\"linecolor\":\"rgb(36,36,36)\",\"showgrid\":false,\"showline\":true,\"ticks\":\"outside\"}},\"title\":{\"x\":0.05},\"xaxis\":{\"automargin\":true,\"gridcolor\":\"rgb(232,232,232)\",\"linecolor\":\"rgb(36,36,36)\",\"showgrid\":false,\"showline\":true,\"ticks\":\"outside\",\"title\":{\"standoff\":15},\"zeroline\":false,\"zerolinecolor\":\"rgb(36,36,36)\"},\"yaxis\":{\"automargin\":true,\"gridcolor\":\"rgb(232,232,232)\",\"linecolor\":\"rgb(36,36,36)\",\"showgrid\":false,\"showline\":true,\"ticks\":\"outside\",\"title\":{\"standoff\":15},\"zeroline\":false,\"zerolinecolor\":\"rgb(36,36,36)\"}}},\"xaxis\":{\"anchor\":\"y\",\"domain\":[0.0,1.0],\"title\":{\"text\":\"\"},\"tickprefix\":\"ℓ=\",\"ticks\":\"\"},\"yaxis\":{\"anchor\":\"x\",\"domain\":[0.0,1.0],\"title\":{\"text\":\"vertex count\"},\"range\":[0,530000]},\"legend\":{\"tracegroupgap\":0},\"margin\":{\"t\":60},\"barmode\":\"relative\",\"height\":480,\"width\":500},                        {\"responsive\": true}                    ).then(function(){\n",
       "                            \n",
       "var gd = document.getElementById('932e623d-fded-4b0c-83ed-5888e88260f3');\n",
       "var x = new MutationObserver(function (mutations, observer) {{\n",
       "        var display = window.getComputedStyle(gd).display;\n",
       "        if (!display || display === 'none') {{\n",
       "            console.log([gd, 'removed!']);\n",
       "            Plotly.purge(gd);\n",
       "            observer.disconnect();\n",
       "        }}\n",
       "}});\n",
       "\n",
       "// Listen for the removal of the full notebook cells\n",
       "var notebookContainer = gd.closest('#notebook-container');\n",
       "if (notebookContainer) {{\n",
       "    x.observe(notebookContainer, {childList: true});\n",
       "}}\n",
       "\n",
       "// Listen for the clearing of the current output cell\n",
       "var outputEl = gd.closest('.output');\n",
       "if (outputEl) {{\n",
       "    x.observe(outputEl, {childList: true});\n",
       "}}\n",
       "\n",
       "                        })                };                });            </script>        </div>"
      ]
     },
     "metadata": {},
     "output_type": "display_data"
    }
   ],
   "source": [
    "fig = px.bar(x=unique, y=counts, height=480, width=500, text_auto=',d', template=\"simple_white\") #, text_auto=True, \n",
    "fig.update_traces(textfont_size=14, textposition=\"outside\", textfont_color=\"blue\", width=1)\n",
    "fig.update_layout(yaxis_title_text=\"vertex count\", yaxis_range=[0, 530000], xaxis_tickprefix=\"ℓ=\", xaxis_title_text=\"\") # xaxis_title_text=\"ℓ\", \n",
    "fig.update_xaxes(ticks=\"\")\n",
    "fig.show()\n",
    "fig.write_html(\"levels.html\")"
   ]
  },
  {
   "cell_type": "code",
   "execution_count": 21,
   "id": "eb3b359c",
   "metadata": {
    "execution": {
     "iopub.execute_input": "2022-08-24T03:36:42.998741Z",
     "iopub.status.busy": "2022-08-24T03:36:42.998374Z",
     "iopub.status.idle": "2022-08-24T03:36:43.026894Z",
     "shell.execute_reply": "2022-08-24T03:36:43.025943Z"
    },
    "papermill": {
     "duration": 0.79409,
     "end_time": "2022-08-24T03:36:43.028921",
     "exception": false,
     "start_time": "2022-08-24T03:36:42.234831",
     "status": "completed"
    },
    "tags": []
   },
   "outputs": [],
   "source": [
    "del index"
   ]
  },
  {
   "cell_type": "markdown",
   "id": "f251bc25",
   "metadata": {
    "papermill": {
     "duration": 0.664615,
     "end_time": "2022-08-24T03:36:44.297049",
     "exception": false,
     "start_time": "2022-08-24T03:36:43.632434",
     "status": "completed"
    },
    "tags": []
   },
   "source": [
    "# Section 3: Helper Functions"
   ]
  },
  {
   "cell_type": "code",
   "execution_count": 22,
   "id": "7c9c0848",
   "metadata": {
    "execution": {
     "iopub.execute_input": "2022-08-24T03:36:45.586932Z",
     "iopub.status.busy": "2022-08-24T03:36:45.585742Z",
     "iopub.status.idle": "2022-08-24T03:36:45.592200Z",
     "shell.execute_reply": "2022-08-24T03:36:45.591242Z"
    },
    "papermill": {
     "duration": 0.614821,
     "end_time": "2022-08-24T03:36:45.594305",
     "exception": false,
     "start_time": "2022-08-24T03:36:44.979484",
     "status": "completed"
    },
    "tags": []
   },
   "outputs": [],
   "source": [
    "def train_index(fac_string, index, gpu=True):       \n",
    "\n",
    "    if gpu:\n",
    "        res = faiss.StandardGpuResources()           # use a single GPU        \n",
    "        index = faiss.index_cpu_to_gpu(res, 0, index)\n",
    "\n",
    "    t0 = time.time()\n",
    "    index.train(xt)\n",
    "    train_time = time.time() - t0\n",
    "    print(fac_string, \"=> Training done in %.3f s. \\n\" % train_time)\n",
    "    return index, gpu, train_time"
   ]
  },
  {
   "cell_type": "code",
   "execution_count": 23,
   "id": "7cbfb532",
   "metadata": {
    "execution": {
     "iopub.execute_input": "2022-08-24T03:36:46.862163Z",
     "iopub.status.busy": "2022-08-24T03:36:46.861758Z",
     "iopub.status.idle": "2022-08-24T03:36:46.870838Z",
     "shell.execute_reply": "2022-08-24T03:36:46.869941Z"
    },
    "papermill": {
     "duration": 0.674001,
     "end_time": "2022-08-24T03:36:46.872817",
     "exception": false,
     "start_time": "2022-08-24T03:36:46.198816",
     "status": "completed"
    },
    "tags": []
   },
   "outputs": [],
   "source": [
    "def add_index(fac_string, index, efConstruction=0):\n",
    "        \n",
    "    if (\"HNSW\" in fac_string):\n",
    "        if efConstruction > 0:\n",
    "            print(f\"{fac_string} (efConstruction={efConstruction})\")\n",
    "        \n",
    "        if (\"IVF\" in fac_string):\n",
    "            if efConstruction > 0:\n",
    "                faiss.GpuParameterSpace().set_index_parameter(index, \"efConstruction\", efConstruction)                \n",
    "            else:               \n",
    "                efConstruction = 40            # Default value from faiss\n",
    "        else:\n",
    "            if efConstruction > 0:\n",
    "                index.hnsw.efConstruction = efConstruction\n",
    "            else:\n",
    "                efConstruction = index.hnsw.efConstruction\n",
    "        \n",
    "    i = 0\n",
    "    start = 0\n",
    "    end = start + batch_size\n",
    "    t0 = time.time()\n",
    "    \n",
    "    while start < ds.nb:   \n",
    "        if end > ds.nb:\n",
    "            end = ds.nb\n",
    "        index.add(xb[start:end])\n",
    "        if (i % batch_print_interval == 0):\n",
    "            print(f\"    Adding records [{start} : {end}] => ntotal: {index.ntotal}\")\n",
    "        start, end = end, end + batch_size\n",
    "        i += 1\n",
    "\n",
    "    index_time = time.time() - t0    \n",
    "    print(fac_string, \"=> Indexing done in %.3f s\" % index_time, \" (ntotal: \", index.ntotal, \") \\n\")\n",
    "    return index_time"
   ]
  },
  {
   "cell_type": "code",
   "execution_count": 24,
   "id": "ffc1d9cc",
   "metadata": {
    "execution": {
     "iopub.execute_input": "2022-08-24T03:36:48.140977Z",
     "iopub.status.busy": "2022-08-24T03:36:48.140588Z",
     "iopub.status.idle": "2022-08-24T03:36:48.146443Z",
     "shell.execute_reply": "2022-08-24T03:36:48.145538Z"
    },
    "papermill": {
     "duration": 0.676288,
     "end_time": "2022-08-24T03:36:48.148385",
     "exception": false,
     "start_time": "2022-08-24T03:36:47.472097",
     "status": "completed"
    },
    "tags": []
   },
   "outputs": [],
   "source": [
    "def save_n_get_filesize(fac_string, index, gpu=True):  \n",
    "    index_name = fac_string + '.index'         # Set index name\n",
    "    if gpu: \n",
    "        index = faiss.index_gpu_to_cpu(index)  \n",
    "    faiss.write_index(index, index_name)       # Write index to file    \n",
    "    file_size = os.path.getsize(index_name)    # Get file size    \n",
    "#     os.remove(index_name)                    # Delete saved index\n",
    "    file_size = file_size * 1e-6               # Convert bytes to MB\n",
    "    print(f\"{fac_string} => Index size: %.3f MB. \\n\" % file_size)\n",
    "    return file_size "
   ]
  },
  {
   "cell_type": "code",
   "execution_count": 25,
   "id": "a3e76533",
   "metadata": {
    "execution": {
     "iopub.execute_input": "2022-08-24T03:36:49.422038Z",
     "iopub.status.busy": "2022-08-24T03:36:49.421654Z",
     "iopub.status.idle": "2022-08-24T03:36:49.431743Z",
     "shell.execute_reply": "2022-08-24T03:36:49.430697Z"
    },
    "papermill": {
     "duration": 0.620773,
     "end_time": "2022-08-24T03:36:49.433907",
     "exception": false,
     "start_time": "2022-08-24T03:36:48.813134",
     "status": "completed"
    },
    "tags": []
   },
   "outputs": [],
   "source": [
    "def search_index(fac_string, index, nprobe=0, efSearch=0):\n",
    "    if \"IVF\" in fac_string:          \n",
    "        index.nprobe = nprobe                   \n",
    "                  \n",
    "    if \"HNSW\" in fac_string:\n",
    "        if \"IVF\" in fac_string:\n",
    "            if efSearch > 0:\n",
    "                faiss.GpuParameterSpace().set_index_parameter(index, \"efSearch\", efSearch)                \n",
    "            else:                \n",
    "                efSearch = 16     # Default value from faiss\n",
    "        else:\n",
    "            if efSearch > 0:\n",
    "                index.hnsw.efSearch = efSearch\n",
    "            else:\n",
    "                efSearch = index.hnsw.efSearch\n",
    "        \n",
    "    t0 = time.time()\n",
    "    D, I = index.search(xq, k)\n",
    "\n",
    "    rank = 1\n",
    "    recall_1 = (I[:, :rank] == gt[:, :1]).sum() / ds.nq\n",
    "#     print(f\"Recall@{rank} = {recall_1} (nprobe = {nprobe})\")\n",
    "    \n",
    "    rank = 3\n",
    "    recall_3 = (I[:, :rank] == gt[:, :1]).sum() / ds.nq    \n",
    "    \n",
    "    rank = 5\n",
    "    recall_5 = (I[:, :rank] == gt[:, :1]).sum() / ds.nq     \n",
    "    \n",
    "    print(f\"(nprobe={nprobe}) (efSearch={efSearch}) Recall@1={recall_1}, Recall@3={recall_3}, Recall@5={recall_5}\")\n",
    "\n",
    "    search_time = (time.time() - t0) * 1000 / ds.nq     # ms per query  \n",
    "    search_time_all = (time.time() - t0) * 1000    \n",
    "    print(fac_string, \"=> Searching done in %.3f ms.\" % search_time_all, \"\\n\")\n",
    "    \n",
    "    return search_time, recall_1, recall_3, recall_5"
   ]
  },
  {
   "cell_type": "code",
   "execution_count": 26,
   "id": "d04662af",
   "metadata": {
    "execution": {
     "iopub.execute_input": "2022-08-24T03:36:50.719777Z",
     "iopub.status.busy": "2022-08-24T03:36:50.718860Z",
     "iopub.status.idle": "2022-08-24T03:36:50.727294Z",
     "shell.execute_reply": "2022-08-24T03:36:50.726337Z"
    },
    "papermill": {
     "duration": 0.682303,
     "end_time": "2022-08-24T03:36:50.729334",
     "exception": false,
     "start_time": "2022-08-24T03:36:50.047031",
     "status": "completed"
    },
    "tags": []
   },
   "outputs": [],
   "source": [
    "def append_results(df, fac_string, nprobe, nsegment, recall_1, recall_3, recall_5, train_time, index_time, search_time, index_size):\n",
    "    \n",
    "    nprobe2 = 0 if \"IVF\" not in fac_string else nprobe\n",
    "    nsegment2 = 0 if \"PQ\" not in fac_string else nsegment\n",
    "    \n",
    "    hnsw_loc = fac_string.find('HNSW')             # Find start location of HNSW.  \n",
    "    if hnsw_loc >= 0:\n",
    "        last_loc = fac_string.rfind(',')           # Find last location of comma.\n",
    "        if last_loc < 0:\n",
    "            last_loc = fac_string.rfind('_')       # Find last location of underscore.        \n",
    "        M = fac_string[hnsw_loc+4 : last_loc]\n",
    "    else:\n",
    "        M = 0\n",
    "    \n",
    "    df = df.append({'index': fac_string,\n",
    "                    'M': M,\n",
    "                    'nprobe': nprobe2,\n",
    "                    'nsegment': nsegment2,\n",
    "                    'recall@1': recall_1,\n",
    "                    'recall@3': recall_3,\n",
    "                    'recall@5': recall_5,\n",
    "                    'train_time':train_time,\n",
    "                    'index_time': index_time,\n",
    "                    'search_time': search_time,\n",
    "                    'index_size': index_size\n",
    "                    }, ignore_index=True)  \n",
    "    \n",
    "    df.to_csv('df.csv', sep='|', index=False)\n",
    "    return df"
   ]
  },
  {
   "cell_type": "code",
   "execution_count": 27,
   "id": "19113470",
   "metadata": {
    "execution": {
     "iopub.execute_input": "2022-08-24T03:36:52.005348Z",
     "iopub.status.busy": "2022-08-24T03:36:52.004244Z",
     "iopub.status.idle": "2022-08-24T03:36:52.013142Z",
     "shell.execute_reply": "2022-08-24T03:36:52.012148Z"
    },
    "papermill": {
     "duration": 0.677956,
     "end_time": "2022-08-24T03:36:52.015114",
     "exception": false,
     "start_time": "2022-08-24T03:36:51.337158",
     "status": "completed"
    },
    "tags": []
   },
   "outputs": [],
   "source": [
    "def append_results_HNSW(dfHNSW, fac_string, efConstruction, efSearch, recall_1, recall_3, recall_5, train_time, index_time, search_time, index_size):\n",
    "    \n",
    "    hnsw_loc = fac_string.find('HNSW')             # Find start location of HNSW.  \n",
    "    if hnsw_loc >= 0:\n",
    "        last_loc = fac_string.rfind(',')           # Find last location of comma.\n",
    "        if last_loc < 0:\n",
    "            last_loc = fac_string.rfind('_')       # Find last location of underscore.        \n",
    "        M = fac_string[hnsw_loc+4 : last_loc]\n",
    "    else:\n",
    "        M = 0\n",
    "    \n",
    "    dfHNSW = dfHNSW.append({'index': fac_string,\n",
    "                    'M': M,\n",
    "                    'efConstruction': efConstruction,\n",
    "                    'efSearch': efSearch,\n",
    "                    'recall@1': recall_1,\n",
    "                    'recall@3': recall_3,\n",
    "                    'recall@5': recall_5,\n",
    "                    'train_time':train_time,\n",
    "                    'index_time': index_time,\n",
    "                    'search_time': search_time,\n",
    "                    'index_size': index_size\n",
    "                    }, ignore_index=True)  \n",
    "    \n",
    "    dfHNSW.to_csv('dfHNSW.csv', sep='|', index=False)\n",
    "    return dfHNSW"
   ]
  },
  {
   "cell_type": "markdown",
   "id": "a00428b6",
   "metadata": {
    "papermill": {
     "duration": 0.873045,
     "end_time": "2022-08-24T03:36:53.562333",
     "exception": false,
     "start_time": "2022-08-24T03:36:52.689288",
     "status": "completed"
    },
    "tags": []
   },
   "source": [
    "# Section 3a: Getting Data for HNSW (for different `M`, `efConstruction`, `efSearch`)"
   ]
  },
  {
   "cell_type": "code",
   "execution_count": 28,
   "id": "6192107f",
   "metadata": {
    "execution": {
     "iopub.execute_input": "2022-08-24T03:36:54.843376Z",
     "iopub.status.busy": "2022-08-24T03:36:54.843003Z",
     "iopub.status.idle": "2022-08-24T03:36:54.850103Z",
     "shell.execute_reply": "2022-08-24T03:36:54.848959Z"
    },
    "papermill": {
     "duration": 0.676955,
     "end_time": "2022-08-24T03:36:54.852103",
     "exception": false,
     "start_time": "2022-08-24T03:36:54.175148",
     "status": "completed"
    },
    "tags": []
   },
   "outputs": [],
   "source": [
    "dfHNSW = pd.DataFrame({'index': [],\n",
    "                   'M': [],\n",
    "                   'efConstruction': [],\n",
    "                   'efSearch': [],\n",
    "                   'recall@1': [],\n",
    "                   'recall@3': [],\n",
    "                   'recall@5': [],\n",
    "                   'train_time':[],\n",
    "                   'index_time': [],\n",
    "                   'search_time': [],\n",
    "                   'index_size': []\n",
    "})"
   ]
  },
  {
   "cell_type": "code",
   "execution_count": 29,
   "id": "6dfb1a08",
   "metadata": {
    "execution": {
     "iopub.execute_input": "2022-08-24T03:36:56.143976Z",
     "iopub.status.busy": "2022-08-24T03:36:56.143588Z",
     "iopub.status.idle": "2022-08-24T03:36:56.149272Z",
     "shell.execute_reply": "2022-08-24T03:36:56.148300Z"
    },
    "papermill": {
     "duration": 0.673338,
     "end_time": "2022-08-24T03:36:56.151322",
     "exception": false,
     "start_time": "2022-08-24T03:36:55.477984",
     "status": "completed"
    },
    "tags": []
   },
   "outputs": [],
   "source": [
    "k = 5                        # Number of nearest neighbor records to return during search.\n",
    "d = 128                      # Dimension (length) of vectors.\n",
    "nbase = 3 * 1000000          # Number of database vectors.\n",
    "nquery = 1000                # Number of query vectors.\n",
    "batch_size = 32768           # Batch size used to add index.\n",
    "batch_print_interval = 25    # When adding records to index, print status only after every x batches.  "
   ]
  },
  {
   "cell_type": "code",
   "execution_count": 30,
   "id": "e7021990",
   "metadata": {
    "execution": {
     "iopub.execute_input": "2022-08-24T03:36:57.447654Z",
     "iopub.status.busy": "2022-08-24T03:36:57.446409Z",
     "iopub.status.idle": "2022-08-24T06:11:10.101987Z",
     "shell.execute_reply": "2022-08-24T06:11:10.099943Z"
    },
    "papermill": {
     "duration": 9253.272181,
     "end_time": "2022-08-24T06:11:10.104991",
     "exception": false,
     "start_time": "2022-08-24T03:36:56.832810",
     "status": "completed"
    },
    "tags": []
   },
   "outputs": [
    {
     "name": "stdout",
     "output_type": "stream",
     "text": [
      "HNSW4,Flat (efConstruction=4)\n",
      "    Adding records [0 : 32768] => ntotal: 32768\n",
      "    Adding records [819200 : 851968] => ntotal: 851968\n",
      "    Adding records [1638400 : 1671168] => ntotal: 1671168\n",
      "    Adding records [2457600 : 2490368] => ntotal: 2490368\n",
      "HNSW4,Flat => Indexing done in 49.407 s  (ntotal:  3000000 ) \n",
      "\n",
      "HNSW4,Flat => Index size: 1684.009 MB. \n",
      "\n",
      "(nprobe=0) (efSearch=4) Recall@1=0.021, Recall@3=0.021, Recall@5=0.021\n",
      "HNSW4,Flat => Searching done in 111.859 ms. \n",
      "\n",
      "(nprobe=0) (efSearch=16) Recall@1=0.036, Recall@3=0.036, Recall@5=0.036\n",
      "HNSW4,Flat => Searching done in 77.904 ms. \n",
      "\n",
      "(nprobe=0) (efSearch=40) Recall@1=0.043, Recall@3=0.043, Recall@5=0.043\n",
      "HNSW4,Flat => Searching done in 121.467 ms. \n",
      "\n",
      "(nprobe=0) (efSearch=76) Recall@1=0.051, Recall@3=0.051, Recall@5=0.051\n",
      "HNSW4,Flat => Searching done in 164.162 ms. \n",
      "\n",
      "HNSW4,Flat (efConstruction=4) => Total processing time: 0.9 min.\n",
      "===================================================================\n",
      "\n",
      "HNSW4,Flat (efConstruction=16)\n",
      "    Adding records [0 : 32768] => ntotal: 32768\n",
      "    Adding records [819200 : 851968] => ntotal: 851968\n",
      "    Adding records [1638400 : 1671168] => ntotal: 1671168\n",
      "    Adding records [2457600 : 2490368] => ntotal: 2490368\n",
      "HNSW4,Flat => Indexing done in 164.926 s  (ntotal:  3000000 ) \n",
      "\n",
      "HNSW4,Flat => Index size: 1684.009 MB. \n",
      "\n",
      "(nprobe=0) (efSearch=4) Recall@1=0.059, Recall@3=0.059, Recall@5=0.059\n",
      "HNSW4,Flat => Searching done in 55.863 ms. \n",
      "\n",
      "(nprobe=0) (efSearch=16) Recall@1=0.191, Recall@3=0.191, Recall@5=0.191\n",
      "HNSW4,Flat => Searching done in 33.475 ms. \n",
      "\n",
      "(nprobe=0) (efSearch=40) Recall@1=0.345, Recall@3=0.345, Recall@5=0.345\n",
      "HNSW4,Flat => Searching done in 73.582 ms. \n",
      "\n",
      "(nprobe=0) (efSearch=76) Recall@1=0.437, Recall@3=0.437, Recall@5=0.437\n",
      "HNSW4,Flat => Searching done in 229.605 ms. \n",
      "\n",
      "HNSW4,Flat (efConstruction=16) => Total processing time: 2.8 min.\n",
      "===================================================================\n",
      "\n",
      "HNSW4,Flat (efConstruction=40)\n",
      "    Adding records [0 : 32768] => ntotal: 32768\n",
      "    Adding records [819200 : 851968] => ntotal: 851968\n",
      "    Adding records [1638400 : 1671168] => ntotal: 1671168\n",
      "    Adding records [2457600 : 2490368] => ntotal: 2490368\n",
      "HNSW4,Flat => Indexing done in 348.522 s  (ntotal:  3000000 ) \n",
      "\n",
      "HNSW4,Flat => Index size: 1684.009 MB. \n",
      "\n",
      "(nprobe=0) (efSearch=4) Recall@1=0.086, Recall@3=0.086, Recall@5=0.086\n",
      "HNSW4,Flat => Searching done in 21.282 ms. \n",
      "\n",
      "(nprobe=0) (efSearch=16) Recall@1=0.308, Recall@3=0.308, Recall@5=0.308\n",
      "HNSW4,Flat => Searching done in 40.808 ms. \n",
      "\n",
      "(nprobe=0) (efSearch=40) Recall@1=0.539, Recall@3=0.539, Recall@5=0.539\n",
      "HNSW4,Flat => Searching done in 75.330 ms. \n",
      "\n",
      "(nprobe=0) (efSearch=76) Recall@1=0.628, Recall@3=0.628, Recall@5=0.628\n",
      "HNSW4,Flat => Searching done in 136.276 ms. \n",
      "\n",
      "HNSW4,Flat (efConstruction=40) => Total processing time: 5.9 min.\n",
      "===================================================================\n",
      "\n",
      "HNSW4,Flat (efConstruction=76)\n",
      "    Adding records [0 : 32768] => ntotal: 32768\n",
      "    Adding records [819200 : 851968] => ntotal: 851968\n",
      "    Adding records [1638400 : 1671168] => ntotal: 1671168\n",
      "    Adding records [2457600 : 2490368] => ntotal: 2490368\n",
      "HNSW4,Flat => Indexing done in 556.701 s  (ntotal:  3000000 ) \n",
      "\n",
      "HNSW4,Flat => Index size: 1684.009 MB. \n",
      "\n",
      "(nprobe=0) (efSearch=4) Recall@1=0.1, Recall@3=0.1, Recall@5=0.1\n",
      "HNSW4,Flat => Searching done in 68.285 ms. \n",
      "\n",
      "(nprobe=0) (efSearch=16) Recall@1=0.325, Recall@3=0.325, Recall@5=0.325\n",
      "HNSW4,Flat => Searching done in 41.425 ms. \n",
      "\n",
      "(nprobe=0) (efSearch=40) Recall@1=0.566, Recall@3=0.566, Recall@5=0.566\n",
      "HNSW4,Flat => Searching done in 77.702 ms. \n",
      "\n",
      "(nprobe=0) (efSearch=76) Recall@1=0.671, Recall@3=0.671, Recall@5=0.671\n",
      "HNSW4,Flat => Searching done in 140.005 ms. \n",
      "\n",
      "HNSW4,Flat (efConstruction=76) => Total processing time: 9.3 min.\n",
      "===================================================================\n",
      "\n",
      "HNSW16,Flat (efConstruction=4)\n",
      "    Adding records [0 : 32768] => ntotal: 32768\n",
      "    Adding records [819200 : 851968] => ntotal: 851968\n",
      "    Adding records [1638400 : 1671168] => ntotal: 1671168\n",
      "    Adding records [2457600 : 2490368] => ntotal: 2490368\n",
      "HNSW16,Flat => Indexing done in 67.166 s  (ntotal:  3000000 ) \n",
      "\n",
      "HNSW16,Flat => Index size: 1968.808 MB. \n",
      "\n",
      "(nprobe=0) (efSearch=4) Recall@1=0.035, Recall@3=0.035, Recall@5=0.035\n",
      "HNSW16,Flat => Searching done in 25.168 ms. \n",
      "\n",
      "(nprobe=0) (efSearch=16) Recall@1=0.049, Recall@3=0.049, Recall@5=0.049\n",
      "HNSW16,Flat => Searching done in 38.713 ms. \n",
      "\n",
      "(nprobe=0) (efSearch=40) Recall@1=0.066, Recall@3=0.066, Recall@5=0.066\n",
      "HNSW16,Flat => Searching done in 74.999 ms. \n",
      "\n",
      "(nprobe=0) (efSearch=76) Recall@1=0.077, Recall@3=0.077, Recall@5=0.077\n",
      "HNSW16,Flat => Searching done in 135.071 ms. \n",
      "\n",
      "HNSW16,Flat (efConstruction=4) => Total processing time: 1.2 min.\n",
      "===================================================================\n",
      "\n",
      "HNSW16,Flat (efConstruction=16)\n",
      "    Adding records [0 : 32768] => ntotal: 32768\n",
      "    Adding records [819200 : 851968] => ntotal: 851968\n",
      "    Adding records [1638400 : 1671168] => ntotal: 1671168\n",
      "    Adding records [2457600 : 2490368] => ntotal: 2490368\n",
      "HNSW16,Flat => Indexing done in 308.491 s  (ntotal:  3000000 ) \n",
      "\n",
      "HNSW16,Flat => Index size: 1968.808 MB. \n",
      "\n",
      "(nprobe=0) (efSearch=4) Recall@1=0.326, Recall@3=0.326, Recall@5=0.326\n",
      "HNSW16,Flat => Searching done in 47.321 ms. \n",
      "\n",
      "(nprobe=0) (efSearch=16) Recall@1=0.663, Recall@3=0.663, Recall@5=0.663\n",
      "HNSW16,Flat => Searching done in 80.999 ms. \n",
      "\n",
      "(nprobe=0) (efSearch=40) Recall@1=0.824, Recall@3=0.824, Recall@5=0.824\n",
      "HNSW16,Flat => Searching done in 167.103 ms. \n",
      "\n",
      "(nprobe=0) (efSearch=76) Recall@1=0.882, Recall@3=0.882, Recall@5=0.882\n",
      "HNSW16,Flat => Searching done in 298.609 ms. \n",
      "\n",
      "HNSW16,Flat (efConstruction=16) => Total processing time: 5.2 min.\n",
      "===================================================================\n",
      "\n",
      "HNSW16,Flat (efConstruction=40)\n",
      "    Adding records [0 : 32768] => ntotal: 32768\n",
      "    Adding records [819200 : 851968] => ntotal: 851968\n",
      "    Adding records [1638400 : 1671168] => ntotal: 1671168\n",
      "    Adding records [2457600 : 2490368] => ntotal: 2490368\n",
      "HNSW16,Flat => Indexing done in 537.511 s  (ntotal:  3000000 ) \n",
      "\n",
      "HNSW16,Flat => Index size: 1968.808 MB. \n",
      "\n",
      "(nprobe=0) (efSearch=4) Recall@1=0.409, Recall@3=0.409, Recall@5=0.409\n",
      "HNSW16,Flat => Searching done in 72.932 ms. \n",
      "\n",
      "(nprobe=0) (efSearch=16) Recall@1=0.715, Recall@3=0.715, Recall@5=0.715\n",
      "HNSW16,Flat => Searching done in 142.938 ms. \n",
      "\n",
      "(nprobe=0) (efSearch=40) Recall@1=0.842, Recall@3=0.842, Recall@5=0.842\n",
      "HNSW16,Flat => Searching done in 240.153 ms. \n",
      "\n",
      "(nprobe=0) (efSearch=76) Recall@1=0.896, Recall@3=0.896, Recall@5=0.896\n",
      "HNSW16,Flat => Searching done in 358.604 ms. \n",
      "\n",
      "HNSW16,Flat (efConstruction=40) => Total processing time: 9.0 min.\n",
      "===================================================================\n",
      "\n",
      "HNSW16,Flat (efConstruction=76)\n",
      "    Adding records [0 : 32768] => ntotal: 32768\n",
      "    Adding records [819200 : 851968] => ntotal: 851968\n",
      "    Adding records [1638400 : 1671168] => ntotal: 1671168\n",
      "    Adding records [2457600 : 2490368] => ntotal: 2490368\n",
      "HNSW16,Flat => Indexing done in 993.264 s  (ntotal:  3000000 ) \n",
      "\n",
      "HNSW16,Flat => Index size: 1968.808 MB. \n",
      "\n",
      "(nprobe=0) (efSearch=4) Recall@1=0.45, Recall@3=0.45, Recall@5=0.45\n",
      "HNSW16,Flat => Searching done in 44.441 ms. \n",
      "\n",
      "(nprobe=0) (efSearch=16) Recall@1=0.786, Recall@3=0.786, Recall@5=0.786\n",
      "HNSW16,Flat => Searching done in 88.541 ms. \n",
      "\n",
      "(nprobe=0) (efSearch=40) Recall@1=0.911, Recall@3=0.911, Recall@5=0.911\n",
      "HNSW16,Flat => Searching done in 179.739 ms. \n",
      "\n",
      "(nprobe=0) (efSearch=76) Recall@1=0.938, Recall@3=0.938, Recall@5=0.938\n",
      "HNSW16,Flat => Searching done in 309.106 ms. \n",
      "\n",
      "HNSW16,Flat (efConstruction=76) => Total processing time: 16.6 min.\n",
      "===================================================================\n",
      "\n",
      "HNSW32,Flat (efConstruction=4)\n",
      "    Adding records [0 : 32768] => ntotal: 32768\n",
      "    Adding records [819200 : 851968] => ntotal: 851968\n",
      "    Adding records [1638400 : 1671168] => ntotal: 1671168\n",
      "    Adding records [2457600 : 2490368] => ntotal: 2490368\n",
      "HNSW32,Flat => Indexing done in 72.783 s  (ntotal:  3000000 ) \n",
      "\n",
      "HNSW32,Flat => Index size: 2352.425 MB. \n",
      "\n",
      "(nprobe=0) (efSearch=4) Recall@1=0.04, Recall@3=0.04, Recall@5=0.04\n",
      "HNSW32,Flat => Searching done in 27.610 ms. \n",
      "\n",
      "(nprobe=0) (efSearch=16) Recall@1=0.059, Recall@3=0.059, Recall@5=0.059\n",
      "HNSW32,Flat => Searching done in 48.371 ms. \n",
      "\n",
      "(nprobe=0) (efSearch=40) Recall@1=0.071, Recall@3=0.071, Recall@5=0.071\n",
      "HNSW32,Flat => Searching done in 89.596 ms. \n",
      "\n",
      "(nprobe=0) (efSearch=76) Recall@1=0.082, Recall@3=0.082, Recall@5=0.082\n",
      "HNSW32,Flat => Searching done in 154.507 ms. \n",
      "\n",
      "HNSW32,Flat (efConstruction=4) => Total processing time: 1.3 min.\n",
      "===================================================================\n",
      "\n",
      "HNSW32,Flat (efConstruction=16)\n",
      "    Adding records [0 : 32768] => ntotal: 32768\n",
      "    Adding records [819200 : 851968] => ntotal: 851968\n",
      "    Adding records [1638400 : 1671168] => ntotal: 1671168\n",
      "    Adding records [2457600 : 2490368] => ntotal: 2490368\n",
      "HNSW32,Flat => Indexing done in 346.918 s  (ntotal:  3000000 ) \n",
      "\n",
      "HNSW32,Flat => Index size: 2352.425 MB. \n",
      "\n",
      "(nprobe=0) (efSearch=4) Recall@1=0.463, Recall@3=0.463, Recall@5=0.463\n",
      "HNSW32,Flat => Searching done in 55.753 ms. \n",
      "\n",
      "(nprobe=0) (efSearch=16) Recall@1=0.757, Recall@3=0.757, Recall@5=0.757\n",
      "HNSW32,Flat => Searching done in 109.639 ms. \n",
      "\n",
      "(nprobe=0) (efSearch=40) Recall@1=0.887, Recall@3=0.887, Recall@5=0.887\n",
      "HNSW32,Flat => Searching done in 223.123 ms. \n",
      "\n",
      "(nprobe=0) (efSearch=76) Recall@1=0.931, Recall@3=0.931, Recall@5=0.931\n",
      "HNSW32,Flat => Searching done in 359.827 ms. \n",
      "\n",
      "HNSW32,Flat (efConstruction=16) => Total processing time: 5.9 min.\n",
      "===================================================================\n",
      "\n",
      "HNSW32,Flat (efConstruction=40)\n",
      "    Adding records [0 : 32768] => ntotal: 32768\n",
      "    Adding records [819200 : 851968] => ntotal: 851968\n",
      "    Adding records [1638400 : 1671168] => ntotal: 1671168\n",
      "    Adding records [2457600 : 2490368] => ntotal: 2490368\n",
      "HNSW32,Flat => Indexing done in 866.202 s  (ntotal:  3000000 ) \n",
      "\n",
      "HNSW32,Flat => Index size: 2352.425 MB. \n",
      "\n",
      "(nprobe=0) (efSearch=4) Recall@1=0.587, Recall@3=0.587, Recall@5=0.587\n",
      "HNSW32,Flat => Searching done in 125.005 ms. \n",
      "\n",
      "(nprobe=0) (efSearch=16) Recall@1=0.854, Recall@3=0.854, Recall@5=0.854\n",
      "HNSW32,Flat => Searching done in 244.297 ms. \n",
      "\n",
      "(nprobe=0) (efSearch=40) Recall@1=0.938, Recall@3=0.938, Recall@5=0.938\n",
      "HNSW32,Flat => Searching done in 293.137 ms. \n",
      "\n",
      "(nprobe=0) (efSearch=76) Recall@1=0.97, Recall@3=0.97, Recall@5=0.97\n",
      "HNSW32,Flat => Searching done in 485.696 ms. \n",
      "\n",
      "HNSW32,Flat (efConstruction=40) => Total processing time: 14.6 min.\n",
      "===================================================================\n",
      "\n",
      "HNSW32,Flat (efConstruction=76)\n",
      "    Adding records [0 : 32768] => ntotal: 32768\n",
      "    Adding records [819200 : 851968] => ntotal: 851968\n",
      "    Adding records [1638400 : 1671168] => ntotal: 1671168\n",
      "    Adding records [2457600 : 2490368] => ntotal: 2490368\n",
      "HNSW32,Flat => Indexing done in 1111.863 s  (ntotal:  3000000 ) \n",
      "\n",
      "HNSW32,Flat => Index size: 2352.425 MB. \n",
      "\n",
      "(nprobe=0) (efSearch=4) Recall@1=0.558, Recall@3=0.558, Recall@5=0.558\n",
      "HNSW32,Flat => Searching done in 72.757 ms. \n",
      "\n",
      "(nprobe=0) (efSearch=16) Recall@1=0.849, Recall@3=0.849, Recall@5=0.849\n",
      "HNSW32,Flat => Searching done in 186.910 ms. \n",
      "\n",
      "(nprobe=0) (efSearch=40) Recall@1=0.921, Recall@3=0.921, Recall@5=0.921\n",
      "HNSW32,Flat => Searching done in 244.076 ms. \n",
      "\n",
      "(nprobe=0) (efSearch=76) Recall@1=0.952, Recall@3=0.952, Recall@5=0.952\n",
      "HNSW32,Flat => Searching done in 402.256 ms. \n",
      "\n",
      "HNSW32,Flat (efConstruction=76) => Total processing time: 18.7 min.\n",
      "===================================================================\n",
      "\n",
      "HNSW64,Flat (efConstruction=4)\n",
      "    Adding records [0 : 32768] => ntotal: 32768\n",
      "    Adding records [819200 : 851968] => ntotal: 851968\n",
      "    Adding records [1638400 : 1671168] => ntotal: 1671168\n",
      "    Adding records [2457600 : 2490368] => ntotal: 2490368\n",
      "HNSW64,Flat => Indexing done in 82.217 s  (ntotal:  3000000 ) \n",
      "\n",
      "HNSW64,Flat => Index size: 3120.194 MB. \n",
      "\n",
      "(nprobe=0) (efSearch=4) Recall@1=0.04, Recall@3=0.04, Recall@5=0.04\n",
      "HNSW64,Flat => Searching done in 32.308 ms. \n",
      "\n",
      "(nprobe=0) (efSearch=16) Recall@1=0.058, Recall@3=0.058, Recall@5=0.058\n",
      "HNSW64,Flat => Searching done in 59.573 ms. \n",
      "\n",
      "(nprobe=0) (efSearch=40) Recall@1=0.075, Recall@3=0.075, Recall@5=0.075\n",
      "HNSW64,Flat => Searching done in 120.670 ms. \n",
      "\n",
      "(nprobe=0) (efSearch=76) Recall@1=0.085, Recall@3=0.085, Recall@5=0.085\n",
      "HNSW64,Flat => Searching done in 156.951 ms. \n",
      "\n",
      "HNSW64,Flat (efConstruction=4) => Total processing time: 1.6 min.\n",
      "===================================================================\n",
      "\n",
      "HNSW64,Flat (efConstruction=16)\n",
      "    Adding records [0 : 32768] => ntotal: 32768\n",
      "    Adding records [819200 : 851968] => ntotal: 851968\n",
      "    Adding records [1638400 : 1671168] => ntotal: 1671168\n",
      "    Adding records [2457600 : 2490368] => ntotal: 2490368\n",
      "HNSW64,Flat => Indexing done in 394.472 s  (ntotal:  3000000 ) \n",
      "\n",
      "HNSW64,Flat => Index size: 3120.194 MB. \n",
      "\n",
      "(nprobe=0) (efSearch=4) Recall@1=0.477, Recall@3=0.477, Recall@5=0.477\n",
      "HNSW64,Flat => Searching done in 61.453 ms. \n",
      "\n",
      "(nprobe=0) (efSearch=16) Recall@1=0.78, Recall@3=0.78, Recall@5=0.78\n",
      "HNSW64,Flat => Searching done in 127.881 ms. \n",
      "\n",
      "(nprobe=0) (efSearch=40) Recall@1=0.889, Recall@3=0.889, Recall@5=0.889\n",
      "HNSW64,Flat => Searching done in 231.746 ms. \n",
      "\n",
      "(nprobe=0) (efSearch=76) Recall@1=0.924, Recall@3=0.924, Recall@5=0.924\n",
      "HNSW64,Flat => Searching done in 393.527 ms. \n",
      "\n",
      "HNSW64,Flat (efConstruction=16) => Total processing time: 6.8 min.\n",
      "===================================================================\n",
      "\n",
      "HNSW64,Flat (efConstruction=40)\n",
      "    Adding records [0 : 32768] => ntotal: 32768\n",
      "    Adding records [819200 : 851968] => ntotal: 851968\n",
      "    Adding records [1638400 : 1671168] => ntotal: 1671168\n",
      "    Adding records [2457600 : 2490368] => ntotal: 2490368\n",
      "HNSW64,Flat => Indexing done in 1113.726 s  (ntotal:  3000000 ) \n",
      "\n",
      "HNSW64,Flat => Index size: 3120.194 MB. \n",
      "\n",
      "(nprobe=0) (efSearch=4) Recall@1=0.709, Recall@3=0.709, Recall@5=0.709\n",
      "HNSW64,Flat => Searching done in 100.220 ms. \n",
      "\n",
      "(nprobe=0) (efSearch=16) Recall@1=0.886, Recall@3=0.886, Recall@5=0.886\n",
      "HNSW64,Flat => Searching done in 278.789 ms. \n",
      "\n",
      "(nprobe=0) (efSearch=40) Recall@1=0.949, Recall@3=0.949, Recall@5=0.949\n",
      "HNSW64,Flat => Searching done in 465.086 ms. \n",
      "\n",
      "(nprobe=0) (efSearch=76) Recall@1=0.979, Recall@3=0.979, Recall@5=0.979\n",
      "HNSW64,Flat => Searching done in 561.941 ms. \n",
      "\n",
      "HNSW64,Flat (efConstruction=40) => Total processing time: 18.8 min.\n",
      "===================================================================\n",
      "\n",
      "HNSW64,Flat (efConstruction=76)\n",
      "    Adding records [0 : 32768] => ntotal: 32768\n",
      "    Adding records [819200 : 851968] => ntotal: 851968\n",
      "    Adding records [1638400 : 1671168] => ntotal: 1671168\n",
      "    Adding records [2457600 : 2490368] => ntotal: 2490368\n",
      "HNSW64,Flat => Indexing done in 2090.143 s  (ntotal:  3000000 ) \n",
      "\n",
      "HNSW64,Flat => Index size: 3120.194 MB. \n",
      "\n",
      "(nprobe=0) (efSearch=4) Recall@1=0.738, Recall@3=0.738, Recall@5=0.738\n",
      "HNSW64,Flat => Searching done in 125.364 ms. \n",
      "\n",
      "(nprobe=0) (efSearch=16) Recall@1=0.918, Recall@3=0.918, Recall@5=0.918\n",
      "HNSW64,Flat => Searching done in 189.670 ms. \n",
      "\n",
      "(nprobe=0) (efSearch=40) Recall@1=0.97, Recall@3=0.97, Recall@5=0.97\n",
      "HNSW64,Flat => Searching done in 379.518 ms. \n",
      "\n",
      "(nprobe=0) (efSearch=76) Recall@1=0.992, Recall@3=0.992, Recall@5=0.992\n",
      "HNSW64,Flat => Searching done in 642.728 ms. \n",
      "\n",
      "HNSW64,Flat (efConstruction=76) => Total processing time: 35.1 min.\n",
      "===================================================================\n",
      "\n",
      "CPU times: user 4h 49min 7s, sys: 1min 58s, total: 4h 51min 5s\n",
      "Wall time: 2h 34min 12s\n"
     ]
    }
   ],
   "source": [
    "%%time\n",
    "\n",
    "ds = datasets.SyntheticDataset(d, 0, nbase, nquery)\n",
    "xb = ds.get_database()\n",
    "xq = ds.get_queries()\n",
    "gt = ds.get_groundtruth(k) \n",
    "\n",
    "gpu = False            # Training is not required.\n",
    "train_time = None\n",
    "\n",
    "for M in [4,16,32,64]:  \n",
    "    fac_string = \"HNSW\" + str(M) + \",Flat\"    \n",
    "\n",
    "    for efConstruction in [4,16,40,76]:\n",
    "        \n",
    "        t00 = time.time()\n",
    "        \n",
    "        index = faiss.index_factory(d, fac_string)   \n",
    "        index_time = add_index(fac_string, index, efConstruction)\n",
    "        index_size = save_n_get_filesize(fac_string, index, gpu)        \n",
    "\n",
    "        for efSearch in [4,16,40,76]:\n",
    "            search_time, recall_1, recall_3, recall_5 = search_index(fac_string, index, 0, efSearch)\n",
    "            dfHNSW = append_results_HNSW(dfHNSW, fac_string, efConstruction, efSearch, recall_1, recall_3, recall_5, \n",
    "                                         train_time, index_time, search_time, index_size)         \n",
    "\n",
    "        del index\n",
    "        efCont_time = (time.time() - t00) / 60        \n",
    "        print(f\"{fac_string} (efConstruction={efConstruction})\", \"=> Total processing time: %.1f min.\" % efCont_time) \n",
    "        print(\"===================================================================\\n\") "
   ]
  },
  {
   "cell_type": "markdown",
   "id": "0000908d",
   "metadata": {
    "papermill": {
     "duration": 0.610717,
     "end_time": "2022-08-24T06:11:11.367861",
     "exception": false,
     "start_time": "2022-08-24T06:11:10.757144",
     "status": "completed"
    },
    "tags": []
   },
   "source": [
    "# Section 3b: Getting data for the variations of HNSW indexes (with/without IVF and/or PQ)"
   ]
  },
  {
   "cell_type": "code",
   "execution_count": 31,
   "id": "d57b2a51",
   "metadata": {
    "execution": {
     "iopub.execute_input": "2022-08-24T06:11:12.690139Z",
     "iopub.status.busy": "2022-08-24T06:11:12.689765Z",
     "iopub.status.idle": "2022-08-24T06:11:12.695945Z",
     "shell.execute_reply": "2022-08-24T06:11:12.694936Z"
    },
    "papermill": {
     "duration": 0.65687,
     "end_time": "2022-08-24T06:11:12.698030",
     "exception": false,
     "start_time": "2022-08-24T06:11:12.041160",
     "status": "completed"
    },
    "tags": []
   },
   "outputs": [],
   "source": [
    "df = pd.DataFrame({'index': [],\n",
    "                   'M': [],\n",
    "                   'nprobe': [],\n",
    "                   'nsegment': [],\n",
    "                   'recall@1': [],\n",
    "                   'recall@3': [],\n",
    "                   'recall@5': [],\n",
    "                   'train_time':[],\n",
    "                   'index_time': [],\n",
    "                   'search_time': [],\n",
    "                   'index_size': []\n",
    "})"
   ]
  },
  {
   "cell_type": "code",
   "execution_count": 32,
   "id": "b8eb42e8",
   "metadata": {
    "execution": {
     "iopub.execute_input": "2022-08-24T06:11:13.993748Z",
     "iopub.status.busy": "2022-08-24T06:11:13.993375Z",
     "iopub.status.idle": "2022-08-24T06:11:14.002566Z",
     "shell.execute_reply": "2022-08-24T06:11:14.001535Z"
    },
    "papermill": {
     "duration": 0.628694,
     "end_time": "2022-08-24T06:11:14.005048",
     "exception": false,
     "start_time": "2022-08-24T06:11:13.376354",
     "status": "completed"
    },
    "tags": []
   },
   "outputs": [],
   "source": [
    "k = 5                        # Number of nearest neighbor records to return during search.\n",
    "d = 128                      # Dimension (length) of vectors.\n",
    "nlist = 65536                # Number of inverted lists (or number of centroids) for IVF indexes.\n",
    "ntraining = 39 * nlist       # Number of training vectors (x*nlist, where x is between 30 and 256).\n",
    "nbase = 3 * 1000000          # Number of database vectors.\n",
    "nquery = 1000                # Number of query vectors.\n",
    "\n",
    "batch_size = 32768           # Batch size used to add index.\n",
    "batch_print_interval = 25    # When adding records to index, print status only after every x batches.  \n",
    "\n",
    "M = 32                       # Number of connections that would be made for each new vertex during HNSW construction.\n",
    "nsegment = 32                # Number of segments for product quantization.\n",
    "\n",
    "# Indexes to contruct using the index_factory (e.g. \"IVF65536_HNSW32,PQ32\")\n",
    "str1 = \"IVF\" + str(nlist) + \"_HNSW\" + str(M) + \",PQ\" + str(nsegment)\n",
    "str2 = \"IVF\" + str(nlist) + \"_HNSW\" + str(M) + \",Flat\"\n",
    "str3 = \"HNSW\" + str(M) + \",Flat\"\n",
    "str4 = \"HNSW\" + str(M) + \"_PQ\" + str(nsegment)\n",
    "\n",
    "fac_strings = [str1, str2, str3, str4]          # To construct the indexes in this list using index_factory.\n",
    "nprobes = [1, 8, 16, 64, 128, 256, 512, 1024]   # The list of nprobe values to use."
   ]
  },
  {
   "cell_type": "code",
   "execution_count": 33,
   "id": "21270256",
   "metadata": {
    "execution": {
     "iopub.execute_input": "2022-08-24T06:11:15.536681Z",
     "iopub.status.busy": "2022-08-24T06:11:15.536315Z",
     "iopub.status.idle": "2022-08-24T06:42:04.459068Z",
     "shell.execute_reply": "2022-08-24T06:42:04.457905Z"
    },
    "papermill": {
     "duration": 1850.080097,
     "end_time": "2022-08-24T06:42:04.692165",
     "exception": false,
     "start_time": "2022-08-24T06:11:14.612068",
     "status": "completed"
    },
    "tags": []
   },
   "outputs": [
    {
     "name": "stdout",
     "output_type": "stream",
     "text": [
      "IVF65536_HNSW32,PQ32 => Training done in 144.404 s. \n",
      "\n",
      "    Adding records [0 : 32768] => ntotal: 32768\n",
      "    Adding records [819200 : 851968] => ntotal: 851968\n",
      "    Adding records [1638400 : 1671168] => ntotal: 1671168\n",
      "    Adding records [2457600 : 2490368] => ntotal: 2490368\n",
      "IVF65536_HNSW32,PQ32 => Indexing done in 23.839 s  (ntotal:  3000000 ) \n",
      "\n",
      "IVF65536_HNSW32,PQ32 => Index size: 154.210 MB. \n",
      "\n",
      "(nprobe=1) (efSearch=16) Recall@1=0.153, Recall@3=0.177, Recall@5=0.179\n",
      "IVF65536_HNSW32,PQ32 => Searching done in 6.782 ms. \n",
      "\n",
      "(nprobe=8) (efSearch=16) Recall@1=0.349, Recall@3=0.437, Recall@5=0.45\n",
      "IVF65536_HNSW32,PQ32 => Searching done in 6.422 ms. \n",
      "\n",
      "(nprobe=16) (efSearch=16) Recall@1=0.417, Recall@3=0.536, Recall@5=0.555\n",
      "IVF65536_HNSW32,PQ32 => Searching done in 8.229 ms. \n",
      "\n",
      "(nprobe=64) (efSearch=16) Recall@1=0.521, Recall@3=0.712, Recall@5=0.746\n",
      "IVF65536_HNSW32,PQ32 => Searching done in 18.435 ms. \n",
      "\n",
      "(nprobe=128) (efSearch=16) Recall@1=0.547, Recall@3=0.765, Recall@5=0.806\n",
      "IVF65536_HNSW32,PQ32 => Searching done in 33.186 ms. \n",
      "\n",
      "(nprobe=256) (efSearch=16) Recall@1=0.563, Recall@3=0.804, Recall@5=0.856\n",
      "IVF65536_HNSW32,PQ32 => Searching done in 74.436 ms. \n",
      "\n",
      "(nprobe=512) (efSearch=16) Recall@1=0.578, Recall@3=0.831, Recall@5=0.891\n",
      "IVF65536_HNSW32,PQ32 => Searching done in 195.570 ms. \n",
      "\n",
      "(nprobe=1024) (efSearch=16) Recall@1=0.588, Recall@3=0.848, Recall@5=0.913\n",
      "IVF65536_HNSW32,PQ32 => Searching done in 502.940 ms. \n",
      "\n",
      "IVF65536_HNSW32,PQ32 => Total processing time 2.9 min.\n",
      "===================================================================\n",
      "\n",
      "IVF65536_HNSW32,Flat => Training done in 84.893 s. \n",
      "\n",
      "    Adding records [0 : 32768] => ntotal: 32768\n",
      "    Adding records [819200 : 851968] => ntotal: 851968\n",
      "    Adding records [1638400 : 1671168] => ntotal: 1671168\n",
      "    Adding records [2457600 : 2490368] => ntotal: 2490368\n",
      "IVF65536_HNSW32,Flat => Indexing done in 18.271 s  (ntotal:  3000000 ) \n",
      "\n",
      "IVF65536_HNSW32,Flat => Index size: 1594.079 MB. \n",
      "\n",
      "(nprobe=1) (efSearch=16) Recall@1=0.181, Recall@3=0.181, Recall@5=0.181\n",
      "IVF65536_HNSW32,Flat => Searching done in 9.722 ms. \n",
      "\n",
      "(nprobe=8) (efSearch=16) Recall@1=0.455, Recall@3=0.455, Recall@5=0.455\n",
      "IVF65536_HNSW32,Flat => Searching done in 14.854 ms. \n",
      "\n",
      "(nprobe=16) (efSearch=16) Recall@1=0.564, Recall@3=0.564, Recall@5=0.564\n",
      "IVF65536_HNSW32,Flat => Searching done in 25.727 ms. \n",
      "\n",
      "(nprobe=64) (efSearch=16) Recall@1=0.768, Recall@3=0.768, Recall@5=0.768\n",
      "IVF65536_HNSW32,Flat => Searching done in 35.206 ms. \n",
      "\n",
      "(nprobe=128) (efSearch=16) Recall@1=0.84, Recall@3=0.84, Recall@5=0.84\n",
      "IVF65536_HNSW32,Flat => Searching done in 55.387 ms. \n",
      "\n",
      "(nprobe=256) (efSearch=16) Recall@1=0.904, Recall@3=0.904, Recall@5=0.904\n",
      "IVF65536_HNSW32,Flat => Searching done in 88.982 ms. \n",
      "\n",
      "(nprobe=512) (efSearch=16) Recall@1=0.944, Recall@3=0.944, Recall@5=0.944\n",
      "IVF65536_HNSW32,Flat => Searching done in 145.251 ms. \n",
      "\n",
      "(nprobe=1024) (efSearch=16) Recall@1=0.975, Recall@3=0.975, Recall@5=0.975\n",
      "IVF65536_HNSW32,Flat => Searching done in 241.737 ms. \n",
      "\n",
      "IVF65536_HNSW32,Flat => Total processing time 1.9 min.\n",
      "===================================================================\n",
      "\n",
      "    Adding records [0 : 32768] => ntotal: 32768\n",
      "    Adding records [819200 : 851968] => ntotal: 851968\n",
      "    Adding records [1638400 : 1671168] => ntotal: 1671168\n",
      "    Adding records [2457600 : 2490368] => ntotal: 2490368\n",
      "HNSW32,Flat => Indexing done in 828.196 s  (ntotal:  3000000 ) \n",
      "\n",
      "HNSW32,Flat => Index size: 2352.425 MB. \n",
      "\n",
      "(nprobe=0) (efSearch=16) Recall@1=0.85, Recall@3=0.85, Recall@5=0.85\n",
      "HNSW32,Flat => Searching done in 132.885 ms. \n",
      "\n",
      "HNSW32,Flat => Total processing time 14.0 min.\n",
      "===================================================================\n",
      "\n",
      "HNSW32_PQ32 => Training done in 62.063 s. \n",
      "\n",
      "    Adding records [0 : 32768] => ntotal: 32768\n",
      "    Adding records [819200 : 851968] => ntotal: 851968\n",
      "    Adding records [1638400 : 1671168] => ntotal: 1671168\n",
      "    Adding records [2457600 : 2490368] => ntotal: 2490368\n",
      "HNSW32_PQ32 => Indexing done in 618.958 s  (ntotal:  3000000 ) \n",
      "\n",
      "HNSW32_PQ32 => Index size: 912.556 MB. \n",
      "\n",
      "(nprobe=0) (efSearch=16) Recall@1=0.629, Recall@3=0.789, Recall@5=0.81\n",
      "HNSW32_PQ32 => Searching done in 115.767 ms. \n",
      "\n",
      "HNSW32_PQ32 => Total processing time 11.4 min.\n",
      "===================================================================\n",
      "\n",
      "CPU times: user 53min 16s, sys: 1min 24s, total: 54min 40s\n",
      "Wall time: 30min 48s\n"
     ]
    }
   ],
   "source": [
    "%%time\n",
    "\n",
    "ds = datasets.SyntheticDataset(d, ntraining, 0, 0)\n",
    "xt = ds.get_train()\n",
    "\n",
    "ds = datasets.SyntheticDataset(d, 0, nbase, nquery)\n",
    "xb = ds.get_database()\n",
    "xq = ds.get_queries()\n",
    "gt = ds.get_groundtruth(k) \n",
    "\n",
    "for fac_string in fac_strings:\n",
    "    t00 = time.time()  \n",
    "    \n",
    "    index = faiss.index_factory(d, fac_string)\n",
    "    \n",
    "    # If need to get efConstruction & efSearch, downcast first before sending to GPU.    \n",
    "    #--------------------------------------------------\n",
    "    if (\"IVF\" in fac_string) and (\"HNSW\" in fac_string):        \n",
    "        quantizer = faiss.downcast_index(index.quantizer)  # The quantizer is IndexHNSWFlat\n",
    "        efConstruction = quantizer.hnsw.efConstruction\n",
    "        efSearch = quantizer.hnsw.efSearch\n",
    "    #--------------------------------------------------\n",
    "    \n",
    "    if (\"IVF\" in fac_string):   \n",
    "        index, gpu, train_time = train_index(fac_string, index, gpu=True)   # Training is required, use GPU.\n",
    "    elif (\"PQ\" in fac_string): \n",
    "        index, gpu, train_time = train_index(fac_string, index, gpu=False)  # Training is required, but GPU is not supported.\n",
    "    else:                                                                   \n",
    "        gpu = False                                                         # Training is not required.\n",
    "        train_time = None\n",
    "    \n",
    "    index_time = add_index(fac_string, index)\n",
    "    index_size = save_n_get_filesize(fac_string, index, gpu)\n",
    "            \n",
    "    if \"IVF\" in fac_string:\n",
    "        for nprobe in nprobes:\n",
    "            search_time, recall_1, recall_3, recall_5 = search_index(fac_string, index, nprobe)\n",
    "            df = append_results(df, fac_string, nprobe, nsegment, recall_1, recall_3, recall_5, train_time, index_time, search_time, index_size)\n",
    "    else:\n",
    "        search_time, recall_1, recall_3, recall_5 = search_index(fac_string, index, 0)\n",
    "        df = append_results(df, fac_string, 0, nsegment, recall_1, recall_3, recall_5, train_time, index_time, search_time, index_size)    \n",
    "    \n",
    "    del index\n",
    "    total_time = (time.time() - t00) / 60\n",
    "    print(fac_string, \"=> Total processing time %.1f min.\" % total_time) \n",
    "    print(\"===================================================================\\n\") "
   ]
  },
  {
   "cell_type": "markdown",
   "id": "9ce46782",
   "metadata": {
    "papermill": {
     "duration": 0.62797,
     "end_time": "2022-08-24T06:42:06.045786",
     "exception": false,
     "start_time": "2022-08-24T06:42:05.417816",
     "status": "completed"
    },
    "tags": []
   },
   "source": [
    "# Section 4a: Plots to view the effect of `M`, `efConstruction`, `efSearch`"
   ]
  },
  {
   "cell_type": "code",
   "execution_count": 34,
   "id": "1f4ffd32",
   "metadata": {
    "_kg_hide-input": true,
    "execution": {
     "iopub.execute_input": "2022-08-24T06:42:07.337638Z",
     "iopub.status.busy": "2022-08-24T06:42:07.336941Z",
     "iopub.status.idle": "2022-08-24T06:42:07.341404Z",
     "shell.execute_reply": "2022-08-24T06:42:07.340367Z"
    },
    "papermill": {
     "duration": 0.625191,
     "end_time": "2022-08-24T06:42:07.343592",
     "exception": false,
     "start_time": "2022-08-24T06:42:06.718401",
     "status": "completed"
    },
    "tags": []
   },
   "outputs": [],
   "source": [
    "# try:\n",
    "#     print(dfHNSW.head(1))\n",
    "# except NameError:\n",
    "#     dfHNSW = pd.read_csv(\"../input/dfhnsw/dfHNSW-25.csv\", delimiter=\"|\")"
   ]
  },
  {
   "cell_type": "code",
   "execution_count": 35,
   "id": "70f8b036",
   "metadata": {
    "execution": {
     "iopub.execute_input": "2022-08-24T06:42:08.633635Z",
     "iopub.status.busy": "2022-08-24T06:42:08.633265Z",
     "iopub.status.idle": "2022-08-24T06:42:08.665262Z",
     "shell.execute_reply": "2022-08-24T06:42:08.664196Z"
    },
    "papermill": {
     "duration": 0.709483,
     "end_time": "2022-08-24T06:42:08.667677",
     "exception": false,
     "start_time": "2022-08-24T06:42:07.958194",
     "status": "completed"
    },
    "tags": []
   },
   "outputs": [
    {
     "data": {
      "text/html": [
       "<div>\n",
       "<style scoped>\n",
       "    .dataframe tbody tr th:only-of-type {\n",
       "        vertical-align: middle;\n",
       "    }\n",
       "\n",
       "    .dataframe tbody tr th {\n",
       "        vertical-align: top;\n",
       "    }\n",
       "\n",
       "    .dataframe thead th {\n",
       "        text-align: right;\n",
       "    }\n",
       "</style>\n",
       "<table border=\"1\" class=\"dataframe\">\n",
       "  <thead>\n",
       "    <tr style=\"text-align: right;\">\n",
       "      <th></th>\n",
       "      <th>index</th>\n",
       "      <th>M</th>\n",
       "      <th>efConstruction</th>\n",
       "      <th>efSearch</th>\n",
       "      <th>recall@1</th>\n",
       "      <th>recall@3</th>\n",
       "      <th>recall@5</th>\n",
       "      <th>train_time</th>\n",
       "      <th>index_time</th>\n",
       "      <th>search_time</th>\n",
       "      <th>index_size</th>\n",
       "    </tr>\n",
       "  </thead>\n",
       "  <tbody>\n",
       "    <tr>\n",
       "      <th>0</th>\n",
       "      <td>HNSW4,Flat</td>\n",
       "      <td>4</td>\n",
       "      <td>4.0</td>\n",
       "      <td>4.0</td>\n",
       "      <td>0.021</td>\n",
       "      <td>0.021</td>\n",
       "      <td>0.021</td>\n",
       "      <td>None</td>\n",
       "      <td>49.407325</td>\n",
       "      <td>0.111857</td>\n",
       "      <td>1684.00915</td>\n",
       "    </tr>\n",
       "    <tr>\n",
       "      <th>1</th>\n",
       "      <td>HNSW4,Flat</td>\n",
       "      <td>4</td>\n",
       "      <td>4.0</td>\n",
       "      <td>16.0</td>\n",
       "      <td>0.036</td>\n",
       "      <td>0.036</td>\n",
       "      <td>0.036</td>\n",
       "      <td>None</td>\n",
       "      <td>49.407325</td>\n",
       "      <td>0.077902</td>\n",
       "      <td>1684.00915</td>\n",
       "    </tr>\n",
       "    <tr>\n",
       "      <th>2</th>\n",
       "      <td>HNSW4,Flat</td>\n",
       "      <td>4</td>\n",
       "      <td>4.0</td>\n",
       "      <td>40.0</td>\n",
       "      <td>0.043</td>\n",
       "      <td>0.043</td>\n",
       "      <td>0.043</td>\n",
       "      <td>None</td>\n",
       "      <td>49.407325</td>\n",
       "      <td>0.121465</td>\n",
       "      <td>1684.00915</td>\n",
       "    </tr>\n",
       "    <tr>\n",
       "      <th>3</th>\n",
       "      <td>HNSW4,Flat</td>\n",
       "      <td>4</td>\n",
       "      <td>4.0</td>\n",
       "      <td>76.0</td>\n",
       "      <td>0.051</td>\n",
       "      <td>0.051</td>\n",
       "      <td>0.051</td>\n",
       "      <td>None</td>\n",
       "      <td>49.407325</td>\n",
       "      <td>0.164160</td>\n",
       "      <td>1684.00915</td>\n",
       "    </tr>\n",
       "    <tr>\n",
       "      <th>4</th>\n",
       "      <td>HNSW4,Flat</td>\n",
       "      <td>4</td>\n",
       "      <td>16.0</td>\n",
       "      <td>4.0</td>\n",
       "      <td>0.059</td>\n",
       "      <td>0.059</td>\n",
       "      <td>0.059</td>\n",
       "      <td>None</td>\n",
       "      <td>164.926371</td>\n",
       "      <td>0.055861</td>\n",
       "      <td>1684.00915</td>\n",
       "    </tr>\n",
       "    <tr>\n",
       "      <th>...</th>\n",
       "      <td>...</td>\n",
       "      <td>...</td>\n",
       "      <td>...</td>\n",
       "      <td>...</td>\n",
       "      <td>...</td>\n",
       "      <td>...</td>\n",
       "      <td>...</td>\n",
       "      <td>...</td>\n",
       "      <td>...</td>\n",
       "      <td>...</td>\n",
       "      <td>...</td>\n",
       "    </tr>\n",
       "    <tr>\n",
       "      <th>59</th>\n",
       "      <td>HNSW64,Flat</td>\n",
       "      <td>64</td>\n",
       "      <td>40.0</td>\n",
       "      <td>76.0</td>\n",
       "      <td>0.979</td>\n",
       "      <td>0.979</td>\n",
       "      <td>0.979</td>\n",
       "      <td>None</td>\n",
       "      <td>1113.725895</td>\n",
       "      <td>0.561940</td>\n",
       "      <td>3120.19375</td>\n",
       "    </tr>\n",
       "    <tr>\n",
       "      <th>60</th>\n",
       "      <td>HNSW64,Flat</td>\n",
       "      <td>64</td>\n",
       "      <td>76.0</td>\n",
       "      <td>4.0</td>\n",
       "      <td>0.738</td>\n",
       "      <td>0.738</td>\n",
       "      <td>0.738</td>\n",
       "      <td>None</td>\n",
       "      <td>2090.143053</td>\n",
       "      <td>0.125361</td>\n",
       "      <td>3120.19375</td>\n",
       "    </tr>\n",
       "    <tr>\n",
       "      <th>61</th>\n",
       "      <td>HNSW64,Flat</td>\n",
       "      <td>64</td>\n",
       "      <td>76.0</td>\n",
       "      <td>16.0</td>\n",
       "      <td>0.918</td>\n",
       "      <td>0.918</td>\n",
       "      <td>0.918</td>\n",
       "      <td>None</td>\n",
       "      <td>2090.143053</td>\n",
       "      <td>0.189668</td>\n",
       "      <td>3120.19375</td>\n",
       "    </tr>\n",
       "    <tr>\n",
       "      <th>62</th>\n",
       "      <td>HNSW64,Flat</td>\n",
       "      <td>64</td>\n",
       "      <td>76.0</td>\n",
       "      <td>40.0</td>\n",
       "      <td>0.970</td>\n",
       "      <td>0.970</td>\n",
       "      <td>0.970</td>\n",
       "      <td>None</td>\n",
       "      <td>2090.143053</td>\n",
       "      <td>0.379517</td>\n",
       "      <td>3120.19375</td>\n",
       "    </tr>\n",
       "    <tr>\n",
       "      <th>63</th>\n",
       "      <td>HNSW64,Flat</td>\n",
       "      <td>64</td>\n",
       "      <td>76.0</td>\n",
       "      <td>76.0</td>\n",
       "      <td>0.992</td>\n",
       "      <td>0.992</td>\n",
       "      <td>0.992</td>\n",
       "      <td>None</td>\n",
       "      <td>2090.143053</td>\n",
       "      <td>0.642727</td>\n",
       "      <td>3120.19375</td>\n",
       "    </tr>\n",
       "  </tbody>\n",
       "</table>\n",
       "<p>64 rows × 11 columns</p>\n",
       "</div>"
      ],
      "text/plain": [
       "          index   M  efConstruction  efSearch  recall@1  recall@3  recall@5  \\\n",
       "0    HNSW4,Flat   4             4.0       4.0     0.021     0.021     0.021   \n",
       "1    HNSW4,Flat   4             4.0      16.0     0.036     0.036     0.036   \n",
       "2    HNSW4,Flat   4             4.0      40.0     0.043     0.043     0.043   \n",
       "3    HNSW4,Flat   4             4.0      76.0     0.051     0.051     0.051   \n",
       "4    HNSW4,Flat   4            16.0       4.0     0.059     0.059     0.059   \n",
       "..          ...  ..             ...       ...       ...       ...       ...   \n",
       "59  HNSW64,Flat  64            40.0      76.0     0.979     0.979     0.979   \n",
       "60  HNSW64,Flat  64            76.0       4.0     0.738     0.738     0.738   \n",
       "61  HNSW64,Flat  64            76.0      16.0     0.918     0.918     0.918   \n",
       "62  HNSW64,Flat  64            76.0      40.0     0.970     0.970     0.970   \n",
       "63  HNSW64,Flat  64            76.0      76.0     0.992     0.992     0.992   \n",
       "\n",
       "   train_time   index_time  search_time  index_size  \n",
       "0        None    49.407325     0.111857  1684.00915  \n",
       "1        None    49.407325     0.077902  1684.00915  \n",
       "2        None    49.407325     0.121465  1684.00915  \n",
       "3        None    49.407325     0.164160  1684.00915  \n",
       "4        None   164.926371     0.055861  1684.00915  \n",
       "..        ...          ...          ...         ...  \n",
       "59       None  1113.725895     0.561940  3120.19375  \n",
       "60       None  2090.143053     0.125361  3120.19375  \n",
       "61       None  2090.143053     0.189668  3120.19375  \n",
       "62       None  2090.143053     0.379517  3120.19375  \n",
       "63       None  2090.143053     0.642727  3120.19375  \n",
       "\n",
       "[64 rows x 11 columns]"
      ]
     },
     "execution_count": 35,
     "metadata": {},
     "output_type": "execute_result"
    }
   ],
   "source": [
    "dfHNSW"
   ]
  },
  {
   "cell_type": "code",
   "execution_count": 36,
   "id": "ba3f52a1",
   "metadata": {
    "execution": {
     "iopub.execute_input": "2022-08-24T06:42:09.897763Z",
     "iopub.status.busy": "2022-08-24T06:42:09.897388Z",
     "iopub.status.idle": "2022-08-24T06:42:09.922174Z",
     "shell.execute_reply": "2022-08-24T06:42:09.920930Z"
    },
    "papermill": {
     "duration": 0.64035,
     "end_time": "2022-08-24T06:42:09.925037",
     "exception": false,
     "start_time": "2022-08-24T06:42:09.284687",
     "status": "completed"
    },
    "tags": []
   },
   "outputs": [
    {
     "name": "stdout",
     "output_type": "stream",
     "text": [
      "<class 'pandas.core.frame.DataFrame'>\n",
      "RangeIndex: 64 entries, 0 to 63\n",
      "Data columns (total 11 columns):\n",
      " #   Column          Non-Null Count  Dtype  \n",
      "---  ------          --------------  -----  \n",
      " 0   index           64 non-null     object \n",
      " 1   M               64 non-null     object \n",
      " 2   efConstruction  64 non-null     float64\n",
      " 3   efSearch        64 non-null     float64\n",
      " 4   recall@1        64 non-null     float64\n",
      " 5   recall@3        64 non-null     float64\n",
      " 6   recall@5        64 non-null     float64\n",
      " 7   train_time      0 non-null      object \n",
      " 8   index_time      64 non-null     float64\n",
      " 9   search_time     64 non-null     float64\n",
      " 10  index_size      64 non-null     float64\n",
      "dtypes: float64(8), object(3)\n",
      "memory usage: 5.6+ KB\n"
     ]
    }
   ],
   "source": [
    "dfHNSW.info()"
   ]
  },
  {
   "cell_type": "code",
   "execution_count": 37,
   "id": "eef9cd36",
   "metadata": {
    "execution": {
     "iopub.execute_input": "2022-08-24T06:42:11.228460Z",
     "iopub.status.busy": "2022-08-24T06:42:11.228099Z",
     "iopub.status.idle": "2022-08-24T06:42:11.236165Z",
     "shell.execute_reply": "2022-08-24T06:42:11.235086Z"
    },
    "papermill": {
     "duration": 0.64082,
     "end_time": "2022-08-24T06:42:11.238818",
     "exception": false,
     "start_time": "2022-08-24T06:42:10.597998",
     "status": "completed"
    },
    "tags": []
   },
   "outputs": [],
   "source": [
    "dfHNSW[\"M\"] = dfHNSW[\"M\"].fillna(0.0).astype(int)\n",
    "dfHNSW[\"efConstruction\"] = dfHNSW[\"efConstruction\"].fillna(0.0).astype(int)\n",
    "dfHNSW[\"efSearch\"] = dfHNSW[\"efSearch\"].fillna(0.0).astype(int)"
   ]
  },
  {
   "cell_type": "code",
   "execution_count": 38,
   "id": "28f060e1",
   "metadata": {
    "execution": {
     "iopub.execute_input": "2022-08-24T06:42:12.531963Z",
     "iopub.status.busy": "2022-08-24T06:42:12.531122Z",
     "iopub.status.idle": "2022-08-24T06:42:12.626740Z",
     "shell.execute_reply": "2022-08-24T06:42:12.625682Z"
    },
    "papermill": {
     "duration": 0.712792,
     "end_time": "2022-08-24T06:42:12.629150",
     "exception": false,
     "start_time": "2022-08-24T06:42:11.916358",
     "status": "completed"
    },
    "tags": []
   },
   "outputs": [
    {
     "name": "stderr",
     "output_type": "stream",
     "text": [
      "/opt/conda/lib/python3.7/site-packages/plotly/graph_objs/_deprecations.py:385: DeprecationWarning:\n",
      "\n",
      "plotly.graph_objs.Line is deprecated.\n",
      "Please replace it with one of the following more specific types\n",
      "  - plotly.graph_objs.scatter.Line\n",
      "  - plotly.graph_objs.layout.shape.Line\n",
      "  - etc.\n",
      "\n",
      "\n"
     ]
    },
    {
     "data": {
      "text/html": [
       "<div>                            <div id=\"c746f3ba-9c4c-45e1-ab54-f780532b755e\" class=\"plotly-graph-div\" style=\"height:350px; width:700px;\"></div>            <script type=\"text/javascript\">                require([\"plotly\"], function(Plotly) {                    window.PLOTLYENV=window.PLOTLYENV || {};                                    if (document.getElementById(\"c746f3ba-9c4c-45e1-ab54-f780532b755e\")) {                    Plotly.newPlot(                        \"c746f3ba-9c4c-45e1-ab54-f780532b755e\",                        [{\"line\":{\"color\":\"#DC3912\",\"width\":3},\"x\":[4,4,4,4,4,4,4,4,4,4,4,4,4,4,4,4,16,16,16,16,16,16,16,16,16,16,16,16,16,16,16,16,32,32,32,32,32,32,32,32,32,32,32,32,32,32,32,32,64,64,64,64,64,64,64,64,64,64,64,64,64,64,64,64],\"y\":[1684.0091499999999,1684.0091499999999,1684.0091499999999,1684.0091499999999,1684.0091499999999,1684.0091499999999,1684.0091499999999,1684.0091499999999,1684.0091499999999,1684.0091499999999,1684.0091499999999,1684.0091499999999,1684.0091499999999,1684.0091499999999,1684.0091499999999,1684.0091499999999,1968.8076099999998,1968.8076099999998,1968.8076099999998,1968.8076099999998,1968.8076099999998,1968.8076099999998,1968.8076099999998,1968.8076099999998,1968.8076099999998,1968.8076099999998,1968.8076099999998,1968.8076099999998,1968.8076099999998,1968.8076099999998,1968.8076099999998,1968.8076099999998,2352.4245459999997,2352.4245459999997,2352.4245459999997,2352.4245459999997,2352.4245459999997,2352.4245459999997,2352.4245459999997,2352.4245459999997,2352.4245459999997,2352.4245459999997,2352.4245459999997,2352.4245459999997,2352.4245459999997,2352.4245459999997,2352.4245459999997,2352.4245459999997,3120.19375,3120.19375,3120.19375,3120.19375,3120.19375,3120.19375,3120.19375,3120.19375,3120.19375,3120.19375,3120.19375,3120.19375,3120.19375,3120.19375,3120.19375,3120.19375],\"type\":\"scatter\",\"xaxis\":\"x\",\"yaxis\":\"y\"},{\"line\":{\"color\":\"rgb(82, 188, 163)\",\"width\":3},\"x\":[4,4,4,4,16,16,16,16,32,32,32,32,64,64,64,64],\"y\":[348.52228331565857,348.52228331565857,348.52228331565857,348.52228331565857,537.5106830596924,537.5106830596924,537.5106830596924,537.5106830596924,866.2019662857056,866.2019662857056,866.2019662857056,866.2019662857056,1113.7258954048157,1113.7258954048157,1113.7258954048157,1113.7258954048157],\"type\":\"scatter\",\"xaxis\":\"x2\",\"yaxis\":\"y2\"}],                        {\"template\":{\"data\":{\"barpolar\":[{\"marker\":{\"line\":{\"color\":\"white\",\"width\":0.5},\"pattern\":{\"fillmode\":\"overlay\",\"size\":10,\"solidity\":0.2}},\"type\":\"barpolar\"}],\"bar\":[{\"error_x\":{\"color\":\"rgb(36,36,36)\"},\"error_y\":{\"color\":\"rgb(36,36,36)\"},\"marker\":{\"line\":{\"color\":\"white\",\"width\":0.5},\"pattern\":{\"fillmode\":\"overlay\",\"size\":10,\"solidity\":0.2}},\"type\":\"bar\"}],\"carpet\":[{\"aaxis\":{\"endlinecolor\":\"rgb(36,36,36)\",\"gridcolor\":\"white\",\"linecolor\":\"white\",\"minorgridcolor\":\"white\",\"startlinecolor\":\"rgb(36,36,36)\"},\"baxis\":{\"endlinecolor\":\"rgb(36,36,36)\",\"gridcolor\":\"white\",\"linecolor\":\"white\",\"minorgridcolor\":\"white\",\"startlinecolor\":\"rgb(36,36,36)\"},\"type\":\"carpet\"}],\"choropleth\":[{\"colorbar\":{\"outlinewidth\":1,\"tickcolor\":\"rgb(36,36,36)\",\"ticks\":\"outside\"},\"type\":\"choropleth\"}],\"contourcarpet\":[{\"colorbar\":{\"outlinewidth\":1,\"tickcolor\":\"rgb(36,36,36)\",\"ticks\":\"outside\"},\"type\":\"contourcarpet\"}],\"contour\":[{\"colorbar\":{\"outlinewidth\":1,\"tickcolor\":\"rgb(36,36,36)\",\"ticks\":\"outside\"},\"colorscale\":[[0.0,\"#440154\"],[0.1111111111111111,\"#482878\"],[0.2222222222222222,\"#3e4989\"],[0.3333333333333333,\"#31688e\"],[0.4444444444444444,\"#26828e\"],[0.5555555555555556,\"#1f9e89\"],[0.6666666666666666,\"#35b779\"],[0.7777777777777778,\"#6ece58\"],[0.8888888888888888,\"#b5de2b\"],[1.0,\"#fde725\"]],\"type\":\"contour\"}],\"heatmapgl\":[{\"colorbar\":{\"outlinewidth\":1,\"tickcolor\":\"rgb(36,36,36)\",\"ticks\":\"outside\"},\"colorscale\":[[0.0,\"#440154\"],[0.1111111111111111,\"#482878\"],[0.2222222222222222,\"#3e4989\"],[0.3333333333333333,\"#31688e\"],[0.4444444444444444,\"#26828e\"],[0.5555555555555556,\"#1f9e89\"],[0.6666666666666666,\"#35b779\"],[0.7777777777777778,\"#6ece58\"],[0.8888888888888888,\"#b5de2b\"],[1.0,\"#fde725\"]],\"type\":\"heatmapgl\"}],\"heatmap\":[{\"colorbar\":{\"outlinewidth\":1,\"tickcolor\":\"rgb(36,36,36)\",\"ticks\":\"outside\"},\"colorscale\":[[0.0,\"#440154\"],[0.1111111111111111,\"#482878\"],[0.2222222222222222,\"#3e4989\"],[0.3333333333333333,\"#31688e\"],[0.4444444444444444,\"#26828e\"],[0.5555555555555556,\"#1f9e89\"],[0.6666666666666666,\"#35b779\"],[0.7777777777777778,\"#6ece58\"],[0.8888888888888888,\"#b5de2b\"],[1.0,\"#fde725\"]],\"type\":\"heatmap\"}],\"histogram2dcontour\":[{\"colorbar\":{\"outlinewidth\":1,\"tickcolor\":\"rgb(36,36,36)\",\"ticks\":\"outside\"},\"colorscale\":[[0.0,\"#440154\"],[0.1111111111111111,\"#482878\"],[0.2222222222222222,\"#3e4989\"],[0.3333333333333333,\"#31688e\"],[0.4444444444444444,\"#26828e\"],[0.5555555555555556,\"#1f9e89\"],[0.6666666666666666,\"#35b779\"],[0.7777777777777778,\"#6ece58\"],[0.8888888888888888,\"#b5de2b\"],[1.0,\"#fde725\"]],\"type\":\"histogram2dcontour\"}],\"histogram2d\":[{\"colorbar\":{\"outlinewidth\":1,\"tickcolor\":\"rgb(36,36,36)\",\"ticks\":\"outside\"},\"colorscale\":[[0.0,\"#440154\"],[0.1111111111111111,\"#482878\"],[0.2222222222222222,\"#3e4989\"],[0.3333333333333333,\"#31688e\"],[0.4444444444444444,\"#26828e\"],[0.5555555555555556,\"#1f9e89\"],[0.6666666666666666,\"#35b779\"],[0.7777777777777778,\"#6ece58\"],[0.8888888888888888,\"#b5de2b\"],[1.0,\"#fde725\"]],\"type\":\"histogram2d\"}],\"histogram\":[{\"marker\":{\"line\":{\"color\":\"white\",\"width\":0.6}},\"type\":\"histogram\"}],\"mesh3d\":[{\"colorbar\":{\"outlinewidth\":1,\"tickcolor\":\"rgb(36,36,36)\",\"ticks\":\"outside\"},\"type\":\"mesh3d\"}],\"parcoords\":[{\"line\":{\"colorbar\":{\"outlinewidth\":1,\"tickcolor\":\"rgb(36,36,36)\",\"ticks\":\"outside\"}},\"type\":\"parcoords\"}],\"pie\":[{\"automargin\":true,\"type\":\"pie\"}],\"scatter3d\":[{\"line\":{\"colorbar\":{\"outlinewidth\":1,\"tickcolor\":\"rgb(36,36,36)\",\"ticks\":\"outside\"}},\"marker\":{\"colorbar\":{\"outlinewidth\":1,\"tickcolor\":\"rgb(36,36,36)\",\"ticks\":\"outside\"}},\"type\":\"scatter3d\"}],\"scattercarpet\":[{\"marker\":{\"colorbar\":{\"outlinewidth\":1,\"tickcolor\":\"rgb(36,36,36)\",\"ticks\":\"outside\"}},\"type\":\"scattercarpet\"}],\"scattergeo\":[{\"marker\":{\"colorbar\":{\"outlinewidth\":1,\"tickcolor\":\"rgb(36,36,36)\",\"ticks\":\"outside\"}},\"type\":\"scattergeo\"}],\"scattergl\":[{\"marker\":{\"colorbar\":{\"outlinewidth\":1,\"tickcolor\":\"rgb(36,36,36)\",\"ticks\":\"outside\"}},\"type\":\"scattergl\"}],\"scattermapbox\":[{\"marker\":{\"colorbar\":{\"outlinewidth\":1,\"tickcolor\":\"rgb(36,36,36)\",\"ticks\":\"outside\"}},\"type\":\"scattermapbox\"}],\"scatterpolargl\":[{\"marker\":{\"colorbar\":{\"outlinewidth\":1,\"tickcolor\":\"rgb(36,36,36)\",\"ticks\":\"outside\"}},\"type\":\"scatterpolargl\"}],\"scatterpolar\":[{\"marker\":{\"colorbar\":{\"outlinewidth\":1,\"tickcolor\":\"rgb(36,36,36)\",\"ticks\":\"outside\"}},\"type\":\"scatterpolar\"}],\"scatter\":[{\"fillpattern\":{\"fillmode\":\"overlay\",\"size\":10,\"solidity\":0.2},\"type\":\"scatter\"}],\"scatterternary\":[{\"marker\":{\"colorbar\":{\"outlinewidth\":1,\"tickcolor\":\"rgb(36,36,36)\",\"ticks\":\"outside\"}},\"type\":\"scatterternary\"}],\"surface\":[{\"colorbar\":{\"outlinewidth\":1,\"tickcolor\":\"rgb(36,36,36)\",\"ticks\":\"outside\"},\"colorscale\":[[0.0,\"#440154\"],[0.1111111111111111,\"#482878\"],[0.2222222222222222,\"#3e4989\"],[0.3333333333333333,\"#31688e\"],[0.4444444444444444,\"#26828e\"],[0.5555555555555556,\"#1f9e89\"],[0.6666666666666666,\"#35b779\"],[0.7777777777777778,\"#6ece58\"],[0.8888888888888888,\"#b5de2b\"],[1.0,\"#fde725\"]],\"type\":\"surface\"}],\"table\":[{\"cells\":{\"fill\":{\"color\":\"rgb(237,237,237)\"},\"line\":{\"color\":\"white\"}},\"header\":{\"fill\":{\"color\":\"rgb(217,217,217)\"},\"line\":{\"color\":\"white\"}},\"type\":\"table\"}]},\"layout\":{\"annotationdefaults\":{\"arrowhead\":0,\"arrowwidth\":1},\"autotypenumbers\":\"strict\",\"coloraxis\":{\"colorbar\":{\"outlinewidth\":1,\"tickcolor\":\"rgb(36,36,36)\",\"ticks\":\"outside\"}},\"colorscale\":{\"diverging\":[[0.0,\"rgb(103,0,31)\"],[0.1,\"rgb(178,24,43)\"],[0.2,\"rgb(214,96,77)\"],[0.3,\"rgb(244,165,130)\"],[0.4,\"rgb(253,219,199)\"],[0.5,\"rgb(247,247,247)\"],[0.6,\"rgb(209,229,240)\"],[0.7,\"rgb(146,197,222)\"],[0.8,\"rgb(67,147,195)\"],[0.9,\"rgb(33,102,172)\"],[1.0,\"rgb(5,48,97)\"]],\"sequential\":[[0.0,\"#440154\"],[0.1111111111111111,\"#482878\"],[0.2222222222222222,\"#3e4989\"],[0.3333333333333333,\"#31688e\"],[0.4444444444444444,\"#26828e\"],[0.5555555555555556,\"#1f9e89\"],[0.6666666666666666,\"#35b779\"],[0.7777777777777778,\"#6ece58\"],[0.8888888888888888,\"#b5de2b\"],[1.0,\"#fde725\"]],\"sequentialminus\":[[0.0,\"#440154\"],[0.1111111111111111,\"#482878\"],[0.2222222222222222,\"#3e4989\"],[0.3333333333333333,\"#31688e\"],[0.4444444444444444,\"#26828e\"],[0.5555555555555556,\"#1f9e89\"],[0.6666666666666666,\"#35b779\"],[0.7777777777777778,\"#6ece58\"],[0.8888888888888888,\"#b5de2b\"],[1.0,\"#fde725\"]]},\"colorway\":[\"#1F77B4\",\"#FF7F0E\",\"#2CA02C\",\"#D62728\",\"#9467BD\",\"#8C564B\",\"#E377C2\",\"#7F7F7F\",\"#BCBD22\",\"#17BECF\"],\"font\":{\"color\":\"rgb(36,36,36)\"},\"geo\":{\"bgcolor\":\"white\",\"lakecolor\":\"white\",\"landcolor\":\"white\",\"showlakes\":true,\"showland\":true,\"subunitcolor\":\"white\"},\"hoverlabel\":{\"align\":\"left\"},\"hovermode\":\"closest\",\"mapbox\":{\"style\":\"light\"},\"paper_bgcolor\":\"white\",\"plot_bgcolor\":\"white\",\"polar\":{\"angularaxis\":{\"gridcolor\":\"rgb(232,232,232)\",\"linecolor\":\"rgb(36,36,36)\",\"showgrid\":false,\"showline\":true,\"ticks\":\"outside\"},\"bgcolor\":\"white\",\"radialaxis\":{\"gridcolor\":\"rgb(232,232,232)\",\"linecolor\":\"rgb(36,36,36)\",\"showgrid\":false,\"showline\":true,\"ticks\":\"outside\"}},\"scene\":{\"xaxis\":{\"backgroundcolor\":\"white\",\"gridcolor\":\"rgb(232,232,232)\",\"gridwidth\":2,\"linecolor\":\"rgb(36,36,36)\",\"showbackground\":true,\"showgrid\":false,\"showline\":true,\"ticks\":\"outside\",\"zeroline\":false,\"zerolinecolor\":\"rgb(36,36,36)\"},\"yaxis\":{\"backgroundcolor\":\"white\",\"gridcolor\":\"rgb(232,232,232)\",\"gridwidth\":2,\"linecolor\":\"rgb(36,36,36)\",\"showbackground\":true,\"showgrid\":false,\"showline\":true,\"ticks\":\"outside\",\"zeroline\":false,\"zerolinecolor\":\"rgb(36,36,36)\"},\"zaxis\":{\"backgroundcolor\":\"white\",\"gridcolor\":\"rgb(232,232,232)\",\"gridwidth\":2,\"linecolor\":\"rgb(36,36,36)\",\"showbackground\":true,\"showgrid\":false,\"showline\":true,\"ticks\":\"outside\",\"zeroline\":false,\"zerolinecolor\":\"rgb(36,36,36)\"}},\"shapedefaults\":{\"fillcolor\":\"black\",\"line\":{\"width\":0},\"opacity\":0.3},\"ternary\":{\"aaxis\":{\"gridcolor\":\"rgb(232,232,232)\",\"linecolor\":\"rgb(36,36,36)\",\"showgrid\":false,\"showline\":true,\"ticks\":\"outside\"},\"baxis\":{\"gridcolor\":\"rgb(232,232,232)\",\"linecolor\":\"rgb(36,36,36)\",\"showgrid\":false,\"showline\":true,\"ticks\":\"outside\"},\"bgcolor\":\"white\",\"caxis\":{\"gridcolor\":\"rgb(232,232,232)\",\"linecolor\":\"rgb(36,36,36)\",\"showgrid\":false,\"showline\":true,\"ticks\":\"outside\"}},\"title\":{\"x\":0.05},\"xaxis\":{\"automargin\":true,\"gridcolor\":\"rgb(232,232,232)\",\"linecolor\":\"rgb(36,36,36)\",\"showgrid\":false,\"showline\":true,\"ticks\":\"outside\",\"title\":{\"standoff\":15},\"zeroline\":false,\"zerolinecolor\":\"rgb(36,36,36)\"},\"yaxis\":{\"automargin\":true,\"gridcolor\":\"rgb(232,232,232)\",\"linecolor\":\"rgb(36,36,36)\",\"showgrid\":false,\"showline\":true,\"ticks\":\"outside\",\"title\":{\"standoff\":15},\"zeroline\":false,\"zerolinecolor\":\"rgb(36,36,36)\"}}},\"xaxis\":{\"anchor\":\"y\",\"domain\":[0.0,0.4],\"title\":{\"text\":\"M\"},\"ticks\":\"\",\"linecolor\":\"darkgrey\"},\"yaxis\":{\"anchor\":\"x\",\"domain\":[0.0,1.0],\"title\":{\"text\":\"index size (MB)\"},\"ticks\":\"\",\"linecolor\":\"darkgrey\"},\"xaxis2\":{\"anchor\":\"y2\",\"domain\":[0.6000000000000001,1.0],\"title\":{\"text\":\"M\"},\"ticks\":\"\",\"linecolor\":\"darkgrey\"},\"yaxis2\":{\"anchor\":\"x2\",\"domain\":[0.0,1.0],\"title\":{\"text\":\"construction time (s)\"},\"ticks\":\"\",\"linecolor\":\"darkgrey\"},\"title\":{\"text\":\"\"},\"height\":350,\"width\":700,\"showlegend\":false},                        {\"responsive\": true}                    ).then(function(){\n",
       "                            \n",
       "var gd = document.getElementById('c746f3ba-9c4c-45e1-ab54-f780532b755e');\n",
       "var x = new MutationObserver(function (mutations, observer) {{\n",
       "        var display = window.getComputedStyle(gd).display;\n",
       "        if (!display || display === 'none') {{\n",
       "            console.log([gd, 'removed!']);\n",
       "            Plotly.purge(gd);\n",
       "            observer.disconnect();\n",
       "        }}\n",
       "}});\n",
       "\n",
       "// Listen for the removal of the full notebook cells\n",
       "var notebookContainer = gd.closest('#notebook-container');\n",
       "if (notebookContainer) {{\n",
       "    x.observe(notebookContainer, {childList: true});\n",
       "}}\n",
       "\n",
       "// Listen for the clearing of the current output cell\n",
       "var outputEl = gd.closest('.output');\n",
       "if (outputEl) {{\n",
       "    x.observe(outputEl, {childList: true});\n",
       "}}\n",
       "\n",
       "                        })                };                });            </script>        </div>"
      ]
     },
     "metadata": {},
     "output_type": "display_data"
    }
   ],
   "source": [
    "fig = make_subplots(rows=1, cols=2, horizontal_spacing = 0.2)\n",
    "           \n",
    "fig.add_trace(go.Line(x=dfHNSW['M'], y=dfHNSW['index_size'], line=dict(color='#DC3912', width=3)),\n",
    "              row=1, col=1\n",
    "             )         \n",
    "fig.add_trace(go.Line(x=dfHNSW[dfHNSW[\"efConstruction\"]==40][\"M\"].values, \n",
    "                      y=dfHNSW[dfHNSW[\"efConstruction\"]==40][\"index_time\"].values,                       \n",
    "                      line=dict(color='rgb(82, 188, 163)', width=3)),\n",
    "              row=1, col=2\n",
    "             )   \n",
    "fig.update_xaxes(title_text=\"M\", row=1, col=1, ticks=\"\", linecolor='darkgrey')  # range=[0, 65], tick0=0.0, dtick=10, \n",
    "fig.update_xaxes(title_text=\"M\", row=1, col=2, ticks=\"\", linecolor='darkgrey')\n",
    "fig.update_yaxes(title_text=\"index size (MB)\", row=1, col=1, ticks=\"\", linecolor='darkgrey')\n",
    "fig.update_yaxes(title_text=\"construction time (s)\", row=1, col=2, ticks=\"\", linecolor='darkgrey')\n",
    "fig.update_layout(height=350, width=700, template=\"simple_white\", showlegend=False, title_text=\"\")#, title_x=0.5)\n",
    "# fig.update_traces(mode='lines+markers', )\n",
    "fig.show()\n",
    "fig.write_html(\"Hflat_M_indexsize_indextime.html\")"
   ]
  },
  {
   "cell_type": "code",
   "execution_count": 39,
   "id": "8fffce7e",
   "metadata": {
    "execution": {
     "iopub.execute_input": "2022-08-24T06:42:14.118158Z",
     "iopub.status.busy": "2022-08-24T06:42:14.117443Z",
     "iopub.status.idle": "2022-08-24T06:42:14.266545Z",
     "shell.execute_reply": "2022-08-24T06:42:14.265429Z"
    },
    "papermill": {
     "duration": 1.012285,
     "end_time": "2022-08-24T06:42:14.268915",
     "exception": false,
     "start_time": "2022-08-24T06:42:13.256630",
     "status": "completed"
    },
    "tags": []
   },
   "outputs": [
    {
     "data": {
      "text/html": [
       "<div>                            <div id=\"27372766-a740-4de0-86b1-8a19105c88d5\" class=\"plotly-graph-div\" style=\"height:350px; width:600px;\"></div>            <script type=\"text/javascript\">                require([\"plotly\"], function(Plotly) {                    window.PLOTLYENV=window.PLOTLYENV || {};                                    if (document.getElementById(\"27372766-a740-4de0-86b1-8a19105c88d5\")) {                    Plotly.newPlot(                        \"27372766-a740-4de0-86b1-8a19105c88d5\",                        [{\"hovertemplate\":\"efConstruction=4<br>M=%{x}<br>index size (MB)=%{y}<extra></extra>\",\"legendgroup\":\"4\",\"line\":{\"color\":\"rgb(229, 134, 6)\",\"dash\":\"solid\"},\"marker\":{\"symbol\":\"circle\"},\"mode\":\"markers+lines\",\"name\":\"4\",\"orientation\":\"v\",\"showlegend\":true,\"x\":[4,4,4,4,16,16,16,16,32,32,32,32,64,64,64,64],\"xaxis\":\"x\",\"y\":[1684.0091499999999,1684.0091499999999,1684.0091499999999,1684.0091499999999,1968.8076099999998,1968.8076099999998,1968.8076099999998,1968.8076099999998,2352.4245459999997,2352.4245459999997,2352.4245459999997,2352.4245459999997,3120.19375,3120.19375,3120.19375,3120.19375],\"yaxis\":\"y\",\"type\":\"scatter\"},{\"hovertemplate\":\"efConstruction=16<br>M=%{x}<br>index size (MB)=%{y}<extra></extra>\",\"legendgroup\":\"16\",\"line\":{\"color\":\"rgb(93, 105, 177)\",\"dash\":\"solid\"},\"marker\":{\"symbol\":\"circle\"},\"mode\":\"markers+lines\",\"name\":\"16\",\"orientation\":\"v\",\"showlegend\":true,\"x\":[4,4,4,4,16,16,16,16,32,32,32,32,64,64,64,64],\"xaxis\":\"x\",\"y\":[1684.0091499999999,1684.0091499999999,1684.0091499999999,1684.0091499999999,1968.8076099999998,1968.8076099999998,1968.8076099999998,1968.8076099999998,2352.4245459999997,2352.4245459999997,2352.4245459999997,2352.4245459999997,3120.19375,3120.19375,3120.19375,3120.19375],\"yaxis\":\"y\",\"type\":\"scatter\"},{\"hovertemplate\":\"efConstruction=40<br>M=%{x}<br>index size (MB)=%{y}<extra></extra>\",\"legendgroup\":\"40\",\"line\":{\"color\":\"rgb(82, 188, 163)\",\"dash\":\"solid\"},\"marker\":{\"symbol\":\"circle\"},\"mode\":\"markers+lines\",\"name\":\"40\",\"orientation\":\"v\",\"showlegend\":true,\"x\":[4,4,4,4,16,16,16,16,32,32,32,32,64,64,64,64],\"xaxis\":\"x\",\"y\":[1684.0091499999999,1684.0091499999999,1684.0091499999999,1684.0091499999999,1968.8076099999998,1968.8076099999998,1968.8076099999998,1968.8076099999998,2352.4245459999997,2352.4245459999997,2352.4245459999997,2352.4245459999997,3120.19375,3120.19375,3120.19375,3120.19375],\"yaxis\":\"y\",\"type\":\"scatter\"},{\"hovertemplate\":\"efConstruction=76<br>M=%{x}<br>index size (MB)=%{y}<extra></extra>\",\"legendgroup\":\"76\",\"line\":{\"color\":\"rgb(153, 201, 69)\",\"dash\":\"solid\"},\"marker\":{\"symbol\":\"circle\"},\"mode\":\"markers+lines\",\"name\":\"76\",\"orientation\":\"v\",\"showlegend\":true,\"x\":[4,4,4,4,16,16,16,16,32,32,32,32,64,64,64,64],\"xaxis\":\"x\",\"y\":[1684.0091499999999,1684.0091499999999,1684.0091499999999,1684.0091499999999,1968.8076099999998,1968.8076099999998,1968.8076099999998,1968.8076099999998,2352.4245459999997,2352.4245459999997,2352.4245459999997,2352.4245459999997,3120.19375,3120.19375,3120.19375,3120.19375],\"yaxis\":\"y\",\"type\":\"scatter\"}],                        {\"template\":{\"data\":{\"barpolar\":[{\"marker\":{\"line\":{\"color\":\"white\",\"width\":0.5},\"pattern\":{\"fillmode\":\"overlay\",\"size\":10,\"solidity\":0.2}},\"type\":\"barpolar\"}],\"bar\":[{\"error_x\":{\"color\":\"rgb(36,36,36)\"},\"error_y\":{\"color\":\"rgb(36,36,36)\"},\"marker\":{\"line\":{\"color\":\"white\",\"width\":0.5},\"pattern\":{\"fillmode\":\"overlay\",\"size\":10,\"solidity\":0.2}},\"type\":\"bar\"}],\"carpet\":[{\"aaxis\":{\"endlinecolor\":\"rgb(36,36,36)\",\"gridcolor\":\"white\",\"linecolor\":\"white\",\"minorgridcolor\":\"white\",\"startlinecolor\":\"rgb(36,36,36)\"},\"baxis\":{\"endlinecolor\":\"rgb(36,36,36)\",\"gridcolor\":\"white\",\"linecolor\":\"white\",\"minorgridcolor\":\"white\",\"startlinecolor\":\"rgb(36,36,36)\"},\"type\":\"carpet\"}],\"choropleth\":[{\"colorbar\":{\"outlinewidth\":1,\"tickcolor\":\"rgb(36,36,36)\",\"ticks\":\"outside\"},\"type\":\"choropleth\"}],\"contourcarpet\":[{\"colorbar\":{\"outlinewidth\":1,\"tickcolor\":\"rgb(36,36,36)\",\"ticks\":\"outside\"},\"type\":\"contourcarpet\"}],\"contour\":[{\"colorbar\":{\"outlinewidth\":1,\"tickcolor\":\"rgb(36,36,36)\",\"ticks\":\"outside\"},\"colorscale\":[[0.0,\"#440154\"],[0.1111111111111111,\"#482878\"],[0.2222222222222222,\"#3e4989\"],[0.3333333333333333,\"#31688e\"],[0.4444444444444444,\"#26828e\"],[0.5555555555555556,\"#1f9e89\"],[0.6666666666666666,\"#35b779\"],[0.7777777777777778,\"#6ece58\"],[0.8888888888888888,\"#b5de2b\"],[1.0,\"#fde725\"]],\"type\":\"contour\"}],\"heatmapgl\":[{\"colorbar\":{\"outlinewidth\":1,\"tickcolor\":\"rgb(36,36,36)\",\"ticks\":\"outside\"},\"colorscale\":[[0.0,\"#440154\"],[0.1111111111111111,\"#482878\"],[0.2222222222222222,\"#3e4989\"],[0.3333333333333333,\"#31688e\"],[0.4444444444444444,\"#26828e\"],[0.5555555555555556,\"#1f9e89\"],[0.6666666666666666,\"#35b779\"],[0.7777777777777778,\"#6ece58\"],[0.8888888888888888,\"#b5de2b\"],[1.0,\"#fde725\"]],\"type\":\"heatmapgl\"}],\"heatmap\":[{\"colorbar\":{\"outlinewidth\":1,\"tickcolor\":\"rgb(36,36,36)\",\"ticks\":\"outside\"},\"colorscale\":[[0.0,\"#440154\"],[0.1111111111111111,\"#482878\"],[0.2222222222222222,\"#3e4989\"],[0.3333333333333333,\"#31688e\"],[0.4444444444444444,\"#26828e\"],[0.5555555555555556,\"#1f9e89\"],[0.6666666666666666,\"#35b779\"],[0.7777777777777778,\"#6ece58\"],[0.8888888888888888,\"#b5de2b\"],[1.0,\"#fde725\"]],\"type\":\"heatmap\"}],\"histogram2dcontour\":[{\"colorbar\":{\"outlinewidth\":1,\"tickcolor\":\"rgb(36,36,36)\",\"ticks\":\"outside\"},\"colorscale\":[[0.0,\"#440154\"],[0.1111111111111111,\"#482878\"],[0.2222222222222222,\"#3e4989\"],[0.3333333333333333,\"#31688e\"],[0.4444444444444444,\"#26828e\"],[0.5555555555555556,\"#1f9e89\"],[0.6666666666666666,\"#35b779\"],[0.7777777777777778,\"#6ece58\"],[0.8888888888888888,\"#b5de2b\"],[1.0,\"#fde725\"]],\"type\":\"histogram2dcontour\"}],\"histogram2d\":[{\"colorbar\":{\"outlinewidth\":1,\"tickcolor\":\"rgb(36,36,36)\",\"ticks\":\"outside\"},\"colorscale\":[[0.0,\"#440154\"],[0.1111111111111111,\"#482878\"],[0.2222222222222222,\"#3e4989\"],[0.3333333333333333,\"#31688e\"],[0.4444444444444444,\"#26828e\"],[0.5555555555555556,\"#1f9e89\"],[0.6666666666666666,\"#35b779\"],[0.7777777777777778,\"#6ece58\"],[0.8888888888888888,\"#b5de2b\"],[1.0,\"#fde725\"]],\"type\":\"histogram2d\"}],\"histogram\":[{\"marker\":{\"line\":{\"color\":\"white\",\"width\":0.6}},\"type\":\"histogram\"}],\"mesh3d\":[{\"colorbar\":{\"outlinewidth\":1,\"tickcolor\":\"rgb(36,36,36)\",\"ticks\":\"outside\"},\"type\":\"mesh3d\"}],\"parcoords\":[{\"line\":{\"colorbar\":{\"outlinewidth\":1,\"tickcolor\":\"rgb(36,36,36)\",\"ticks\":\"outside\"}},\"type\":\"parcoords\"}],\"pie\":[{\"automargin\":true,\"type\":\"pie\"}],\"scatter3d\":[{\"line\":{\"colorbar\":{\"outlinewidth\":1,\"tickcolor\":\"rgb(36,36,36)\",\"ticks\":\"outside\"}},\"marker\":{\"colorbar\":{\"outlinewidth\":1,\"tickcolor\":\"rgb(36,36,36)\",\"ticks\":\"outside\"}},\"type\":\"scatter3d\"}],\"scattercarpet\":[{\"marker\":{\"colorbar\":{\"outlinewidth\":1,\"tickcolor\":\"rgb(36,36,36)\",\"ticks\":\"outside\"}},\"type\":\"scattercarpet\"}],\"scattergeo\":[{\"marker\":{\"colorbar\":{\"outlinewidth\":1,\"tickcolor\":\"rgb(36,36,36)\",\"ticks\":\"outside\"}},\"type\":\"scattergeo\"}],\"scattergl\":[{\"marker\":{\"colorbar\":{\"outlinewidth\":1,\"tickcolor\":\"rgb(36,36,36)\",\"ticks\":\"outside\"}},\"type\":\"scattergl\"}],\"scattermapbox\":[{\"marker\":{\"colorbar\":{\"outlinewidth\":1,\"tickcolor\":\"rgb(36,36,36)\",\"ticks\":\"outside\"}},\"type\":\"scattermapbox\"}],\"scatterpolargl\":[{\"marker\":{\"colorbar\":{\"outlinewidth\":1,\"tickcolor\":\"rgb(36,36,36)\",\"ticks\":\"outside\"}},\"type\":\"scatterpolargl\"}],\"scatterpolar\":[{\"marker\":{\"colorbar\":{\"outlinewidth\":1,\"tickcolor\":\"rgb(36,36,36)\",\"ticks\":\"outside\"}},\"type\":\"scatterpolar\"}],\"scatter\":[{\"fillpattern\":{\"fillmode\":\"overlay\",\"size\":10,\"solidity\":0.2},\"type\":\"scatter\"}],\"scatterternary\":[{\"marker\":{\"colorbar\":{\"outlinewidth\":1,\"tickcolor\":\"rgb(36,36,36)\",\"ticks\":\"outside\"}},\"type\":\"scatterternary\"}],\"surface\":[{\"colorbar\":{\"outlinewidth\":1,\"tickcolor\":\"rgb(36,36,36)\",\"ticks\":\"outside\"},\"colorscale\":[[0.0,\"#440154\"],[0.1111111111111111,\"#482878\"],[0.2222222222222222,\"#3e4989\"],[0.3333333333333333,\"#31688e\"],[0.4444444444444444,\"#26828e\"],[0.5555555555555556,\"#1f9e89\"],[0.6666666666666666,\"#35b779\"],[0.7777777777777778,\"#6ece58\"],[0.8888888888888888,\"#b5de2b\"],[1.0,\"#fde725\"]],\"type\":\"surface\"}],\"table\":[{\"cells\":{\"fill\":{\"color\":\"rgb(237,237,237)\"},\"line\":{\"color\":\"white\"}},\"header\":{\"fill\":{\"color\":\"rgb(217,217,217)\"},\"line\":{\"color\":\"white\"}},\"type\":\"table\"}]},\"layout\":{\"annotationdefaults\":{\"arrowhead\":0,\"arrowwidth\":1},\"autotypenumbers\":\"strict\",\"coloraxis\":{\"colorbar\":{\"outlinewidth\":1,\"tickcolor\":\"rgb(36,36,36)\",\"ticks\":\"outside\"}},\"colorscale\":{\"diverging\":[[0.0,\"rgb(103,0,31)\"],[0.1,\"rgb(178,24,43)\"],[0.2,\"rgb(214,96,77)\"],[0.3,\"rgb(244,165,130)\"],[0.4,\"rgb(253,219,199)\"],[0.5,\"rgb(247,247,247)\"],[0.6,\"rgb(209,229,240)\"],[0.7,\"rgb(146,197,222)\"],[0.8,\"rgb(67,147,195)\"],[0.9,\"rgb(33,102,172)\"],[1.0,\"rgb(5,48,97)\"]],\"sequential\":[[0.0,\"#440154\"],[0.1111111111111111,\"#482878\"],[0.2222222222222222,\"#3e4989\"],[0.3333333333333333,\"#31688e\"],[0.4444444444444444,\"#26828e\"],[0.5555555555555556,\"#1f9e89\"],[0.6666666666666666,\"#35b779\"],[0.7777777777777778,\"#6ece58\"],[0.8888888888888888,\"#b5de2b\"],[1.0,\"#fde725\"]],\"sequentialminus\":[[0.0,\"#440154\"],[0.1111111111111111,\"#482878\"],[0.2222222222222222,\"#3e4989\"],[0.3333333333333333,\"#31688e\"],[0.4444444444444444,\"#26828e\"],[0.5555555555555556,\"#1f9e89\"],[0.6666666666666666,\"#35b779\"],[0.7777777777777778,\"#6ece58\"],[0.8888888888888888,\"#b5de2b\"],[1.0,\"#fde725\"]]},\"colorway\":[\"#1F77B4\",\"#FF7F0E\",\"#2CA02C\",\"#D62728\",\"#9467BD\",\"#8C564B\",\"#E377C2\",\"#7F7F7F\",\"#BCBD22\",\"#17BECF\"],\"font\":{\"color\":\"rgb(36,36,36)\"},\"geo\":{\"bgcolor\":\"white\",\"lakecolor\":\"white\",\"landcolor\":\"white\",\"showlakes\":true,\"showland\":true,\"subunitcolor\":\"white\"},\"hoverlabel\":{\"align\":\"left\"},\"hovermode\":\"closest\",\"mapbox\":{\"style\":\"light\"},\"paper_bgcolor\":\"white\",\"plot_bgcolor\":\"white\",\"polar\":{\"angularaxis\":{\"gridcolor\":\"rgb(232,232,232)\",\"linecolor\":\"rgb(36,36,36)\",\"showgrid\":false,\"showline\":true,\"ticks\":\"outside\"},\"bgcolor\":\"white\",\"radialaxis\":{\"gridcolor\":\"rgb(232,232,232)\",\"linecolor\":\"rgb(36,36,36)\",\"showgrid\":false,\"showline\":true,\"ticks\":\"outside\"}},\"scene\":{\"xaxis\":{\"backgroundcolor\":\"white\",\"gridcolor\":\"rgb(232,232,232)\",\"gridwidth\":2,\"linecolor\":\"rgb(36,36,36)\",\"showbackground\":true,\"showgrid\":false,\"showline\":true,\"ticks\":\"outside\",\"zeroline\":false,\"zerolinecolor\":\"rgb(36,36,36)\"},\"yaxis\":{\"backgroundcolor\":\"white\",\"gridcolor\":\"rgb(232,232,232)\",\"gridwidth\":2,\"linecolor\":\"rgb(36,36,36)\",\"showbackground\":true,\"showgrid\":false,\"showline\":true,\"ticks\":\"outside\",\"zeroline\":false,\"zerolinecolor\":\"rgb(36,36,36)\"},\"zaxis\":{\"backgroundcolor\":\"white\",\"gridcolor\":\"rgb(232,232,232)\",\"gridwidth\":2,\"linecolor\":\"rgb(36,36,36)\",\"showbackground\":true,\"showgrid\":false,\"showline\":true,\"ticks\":\"outside\",\"zeroline\":false,\"zerolinecolor\":\"rgb(36,36,36)\"}},\"shapedefaults\":{\"fillcolor\":\"black\",\"line\":{\"width\":0},\"opacity\":0.3},\"ternary\":{\"aaxis\":{\"gridcolor\":\"rgb(232,232,232)\",\"linecolor\":\"rgb(36,36,36)\",\"showgrid\":false,\"showline\":true,\"ticks\":\"outside\"},\"baxis\":{\"gridcolor\":\"rgb(232,232,232)\",\"linecolor\":\"rgb(36,36,36)\",\"showgrid\":false,\"showline\":true,\"ticks\":\"outside\"},\"bgcolor\":\"white\",\"caxis\":{\"gridcolor\":\"rgb(232,232,232)\",\"linecolor\":\"rgb(36,36,36)\",\"showgrid\":false,\"showline\":true,\"ticks\":\"outside\"}},\"title\":{\"x\":0.05},\"xaxis\":{\"automargin\":true,\"gridcolor\":\"rgb(232,232,232)\",\"linecolor\":\"rgb(36,36,36)\",\"showgrid\":false,\"showline\":true,\"ticks\":\"outside\",\"title\":{\"standoff\":15},\"zeroline\":false,\"zerolinecolor\":\"rgb(36,36,36)\"},\"yaxis\":{\"automargin\":true,\"gridcolor\":\"rgb(232,232,232)\",\"linecolor\":\"rgb(36,36,36)\",\"showgrid\":false,\"showline\":true,\"ticks\":\"outside\",\"title\":{\"standoff\":15},\"zeroline\":false,\"zerolinecolor\":\"rgb(36,36,36)\"}}},\"xaxis\":{\"anchor\":\"y\",\"domain\":[0.0,1.0],\"title\":{\"text\":\"M\"},\"linecolor\":\"darkgrey\"},\"yaxis\":{\"anchor\":\"x\",\"domain\":[0.0,1.0],\"title\":{\"text\":\"index size (MB)\"},\"linecolor\":\"darkgrey\"},\"legend\":{\"title\":{\"text\":\"efConstruction\"},\"tracegroupgap\":0},\"margin\":{\"t\":60},\"height\":350,\"width\":600},                        {\"responsive\": true}                    ).then(function(){\n",
       "                            \n",
       "var gd = document.getElementById('27372766-a740-4de0-86b1-8a19105c88d5');\n",
       "var x = new MutationObserver(function (mutations, observer) {{\n",
       "        var display = window.getComputedStyle(gd).display;\n",
       "        if (!display || display === 'none') {{\n",
       "            console.log([gd, 'removed!']);\n",
       "            Plotly.purge(gd);\n",
       "            observer.disconnect();\n",
       "        }}\n",
       "}});\n",
       "\n",
       "// Listen for the removal of the full notebook cells\n",
       "var notebookContainer = gd.closest('#notebook-container');\n",
       "if (notebookContainer) {{\n",
       "    x.observe(notebookContainer, {childList: true});\n",
       "}}\n",
       "\n",
       "// Listen for the clearing of the current output cell\n",
       "var outputEl = gd.closest('.output');\n",
       "if (outputEl) {{\n",
       "    x.observe(outputEl, {childList: true});\n",
       "}}\n",
       "\n",
       "                        })                };                });            </script>        </div>"
      ]
     },
     "metadata": {},
     "output_type": "display_data"
    }
   ],
   "source": [
    "fig = px.line(dfHNSW, x=\"M\", y=\"index_size\", markers=True, height=350, width=600, template=\"simple_white\", color=\"efConstruction\",\n",
    "              color_discrete_sequence=px.colors.qualitative.Vivid,  \n",
    "              labels=dict(index_size=\"index size (MB)\",))\n",
    "fig.update_xaxes(linecolor='darkgrey')\n",
    "fig.update_yaxes(linecolor='darkgrey')\n",
    "fig.show()\n",
    "fig.write_html(\"Hflat_M_indexsize.html\")"
   ]
  },
  {
   "cell_type": "code",
   "execution_count": 40,
   "id": "f5754928",
   "metadata": {
    "execution": {
     "iopub.execute_input": "2022-08-24T06:42:15.752029Z",
     "iopub.status.busy": "2022-08-24T06:42:15.750860Z",
     "iopub.status.idle": "2022-08-24T06:42:15.832148Z",
     "shell.execute_reply": "2022-08-24T06:42:15.831249Z"
    },
    "papermill": {
     "duration": 0.723867,
     "end_time": "2022-08-24T06:42:15.834253",
     "exception": false,
     "start_time": "2022-08-24T06:42:15.110386",
     "status": "completed"
    },
    "tags": []
   },
   "outputs": [
    {
     "data": {
      "text/html": [
       "<div>                            <div id=\"6b7c1e1e-0af5-4bf4-ae28-dedb442d346d\" class=\"plotly-graph-div\" style=\"height:350px; width:600px;\"></div>            <script type=\"text/javascript\">                require([\"plotly\"], function(Plotly) {                    window.PLOTLYENV=window.PLOTLYENV || {};                                    if (document.getElementById(\"6b7c1e1e-0af5-4bf4-ae28-dedb442d346d\")) {                    Plotly.newPlot(                        \"6b7c1e1e-0af5-4bf4-ae28-dedb442d346d\",                        [{\"hovertemplate\":\"efConstruction=4<br>M=%{x}<br>construction time (s)=%{y}<extra></extra>\",\"legendgroup\":\"4\",\"line\":{\"color\":\"rgb(229, 134, 6)\",\"dash\":\"solid\"},\"marker\":{\"symbol\":\"circle\"},\"mode\":\"markers+lines\",\"name\":\"4\",\"orientation\":\"v\",\"showlegend\":true,\"x\":[4,4,4,4,16,16,16,16,32,32,32,32,64,64,64,64],\"xaxis\":\"x\",\"y\":[49.40732479095459,49.40732479095459,49.40732479095459,49.40732479095459,67.1663990020752,67.1663990020752,67.1663990020752,67.1663990020752,72.78253841400146,72.78253841400146,72.78253841400146,72.78253841400146,82.21705055236816,82.21705055236816,82.21705055236816,82.21705055236816],\"yaxis\":\"y\",\"type\":\"scatter\"},{\"hovertemplate\":\"efConstruction=16<br>M=%{x}<br>construction time (s)=%{y}<extra></extra>\",\"legendgroup\":\"16\",\"line\":{\"color\":\"rgb(93, 105, 177)\",\"dash\":\"solid\"},\"marker\":{\"symbol\":\"circle\"},\"mode\":\"markers+lines\",\"name\":\"16\",\"orientation\":\"v\",\"showlegend\":true,\"x\":[4,4,4,4,16,16,16,16,32,32,32,32,64,64,64,64],\"xaxis\":\"x\",\"y\":[164.9263710975647,164.9263710975647,164.9263710975647,164.9263710975647,308.49097871780396,308.49097871780396,308.49097871780396,308.49097871780396,346.9180574417114,346.9180574417114,346.9180574417114,346.9180574417114,394.4718232154846,394.4718232154846,394.4718232154846,394.4718232154846],\"yaxis\":\"y\",\"type\":\"scatter\"},{\"hovertemplate\":\"efConstruction=40<br>M=%{x}<br>construction time (s)=%{y}<extra></extra>\",\"legendgroup\":\"40\",\"line\":{\"color\":\"rgb(82, 188, 163)\",\"dash\":\"solid\"},\"marker\":{\"symbol\":\"circle\"},\"mode\":\"markers+lines\",\"name\":\"40\",\"orientation\":\"v\",\"showlegend\":true,\"x\":[4,4,4,4,16,16,16,16,32,32,32,32,64,64,64,64],\"xaxis\":\"x\",\"y\":[348.52228331565857,348.52228331565857,348.52228331565857,348.52228331565857,537.5106830596924,537.5106830596924,537.5106830596924,537.5106830596924,866.2019662857056,866.2019662857056,866.2019662857056,866.2019662857056,1113.7258954048157,1113.7258954048157,1113.7258954048157,1113.7258954048157],\"yaxis\":\"y\",\"type\":\"scatter\"},{\"hovertemplate\":\"efConstruction=76<br>M=%{x}<br>construction time (s)=%{y}<extra></extra>\",\"legendgroup\":\"76\",\"line\":{\"color\":\"rgb(153, 201, 69)\",\"dash\":\"solid\"},\"marker\":{\"symbol\":\"circle\"},\"mode\":\"markers+lines\",\"name\":\"76\",\"orientation\":\"v\",\"showlegend\":true,\"x\":[4,4,4,4,16,16,16,16,32,32,32,32,64,64,64,64],\"xaxis\":\"x\",\"y\":[556.7008607387543,556.7008607387543,556.7008607387543,556.7008607387543,993.2644124031067,993.2644124031067,993.2644124031067,993.2644124031067,1111.8633975982666,1111.8633975982666,1111.8633975982666,1111.8633975982666,2090.143053293228,2090.143053293228,2090.143053293228,2090.143053293228],\"yaxis\":\"y\",\"type\":\"scatter\"}],                        {\"template\":{\"data\":{\"barpolar\":[{\"marker\":{\"line\":{\"color\":\"white\",\"width\":0.5},\"pattern\":{\"fillmode\":\"overlay\",\"size\":10,\"solidity\":0.2}},\"type\":\"barpolar\"}],\"bar\":[{\"error_x\":{\"color\":\"rgb(36,36,36)\"},\"error_y\":{\"color\":\"rgb(36,36,36)\"},\"marker\":{\"line\":{\"color\":\"white\",\"width\":0.5},\"pattern\":{\"fillmode\":\"overlay\",\"size\":10,\"solidity\":0.2}},\"type\":\"bar\"}],\"carpet\":[{\"aaxis\":{\"endlinecolor\":\"rgb(36,36,36)\",\"gridcolor\":\"white\",\"linecolor\":\"white\",\"minorgridcolor\":\"white\",\"startlinecolor\":\"rgb(36,36,36)\"},\"baxis\":{\"endlinecolor\":\"rgb(36,36,36)\",\"gridcolor\":\"white\",\"linecolor\":\"white\",\"minorgridcolor\":\"white\",\"startlinecolor\":\"rgb(36,36,36)\"},\"type\":\"carpet\"}],\"choropleth\":[{\"colorbar\":{\"outlinewidth\":1,\"tickcolor\":\"rgb(36,36,36)\",\"ticks\":\"outside\"},\"type\":\"choropleth\"}],\"contourcarpet\":[{\"colorbar\":{\"outlinewidth\":1,\"tickcolor\":\"rgb(36,36,36)\",\"ticks\":\"outside\"},\"type\":\"contourcarpet\"}],\"contour\":[{\"colorbar\":{\"outlinewidth\":1,\"tickcolor\":\"rgb(36,36,36)\",\"ticks\":\"outside\"},\"colorscale\":[[0.0,\"#440154\"],[0.1111111111111111,\"#482878\"],[0.2222222222222222,\"#3e4989\"],[0.3333333333333333,\"#31688e\"],[0.4444444444444444,\"#26828e\"],[0.5555555555555556,\"#1f9e89\"],[0.6666666666666666,\"#35b779\"],[0.7777777777777778,\"#6ece58\"],[0.8888888888888888,\"#b5de2b\"],[1.0,\"#fde725\"]],\"type\":\"contour\"}],\"heatmapgl\":[{\"colorbar\":{\"outlinewidth\":1,\"tickcolor\":\"rgb(36,36,36)\",\"ticks\":\"outside\"},\"colorscale\":[[0.0,\"#440154\"],[0.1111111111111111,\"#482878\"],[0.2222222222222222,\"#3e4989\"],[0.3333333333333333,\"#31688e\"],[0.4444444444444444,\"#26828e\"],[0.5555555555555556,\"#1f9e89\"],[0.6666666666666666,\"#35b779\"],[0.7777777777777778,\"#6ece58\"],[0.8888888888888888,\"#b5de2b\"],[1.0,\"#fde725\"]],\"type\":\"heatmapgl\"}],\"heatmap\":[{\"colorbar\":{\"outlinewidth\":1,\"tickcolor\":\"rgb(36,36,36)\",\"ticks\":\"outside\"},\"colorscale\":[[0.0,\"#440154\"],[0.1111111111111111,\"#482878\"],[0.2222222222222222,\"#3e4989\"],[0.3333333333333333,\"#31688e\"],[0.4444444444444444,\"#26828e\"],[0.5555555555555556,\"#1f9e89\"],[0.6666666666666666,\"#35b779\"],[0.7777777777777778,\"#6ece58\"],[0.8888888888888888,\"#b5de2b\"],[1.0,\"#fde725\"]],\"type\":\"heatmap\"}],\"histogram2dcontour\":[{\"colorbar\":{\"outlinewidth\":1,\"tickcolor\":\"rgb(36,36,36)\",\"ticks\":\"outside\"},\"colorscale\":[[0.0,\"#440154\"],[0.1111111111111111,\"#482878\"],[0.2222222222222222,\"#3e4989\"],[0.3333333333333333,\"#31688e\"],[0.4444444444444444,\"#26828e\"],[0.5555555555555556,\"#1f9e89\"],[0.6666666666666666,\"#35b779\"],[0.7777777777777778,\"#6ece58\"],[0.8888888888888888,\"#b5de2b\"],[1.0,\"#fde725\"]],\"type\":\"histogram2dcontour\"}],\"histogram2d\":[{\"colorbar\":{\"outlinewidth\":1,\"tickcolor\":\"rgb(36,36,36)\",\"ticks\":\"outside\"},\"colorscale\":[[0.0,\"#440154\"],[0.1111111111111111,\"#482878\"],[0.2222222222222222,\"#3e4989\"],[0.3333333333333333,\"#31688e\"],[0.4444444444444444,\"#26828e\"],[0.5555555555555556,\"#1f9e89\"],[0.6666666666666666,\"#35b779\"],[0.7777777777777778,\"#6ece58\"],[0.8888888888888888,\"#b5de2b\"],[1.0,\"#fde725\"]],\"type\":\"histogram2d\"}],\"histogram\":[{\"marker\":{\"line\":{\"color\":\"white\",\"width\":0.6}},\"type\":\"histogram\"}],\"mesh3d\":[{\"colorbar\":{\"outlinewidth\":1,\"tickcolor\":\"rgb(36,36,36)\",\"ticks\":\"outside\"},\"type\":\"mesh3d\"}],\"parcoords\":[{\"line\":{\"colorbar\":{\"outlinewidth\":1,\"tickcolor\":\"rgb(36,36,36)\",\"ticks\":\"outside\"}},\"type\":\"parcoords\"}],\"pie\":[{\"automargin\":true,\"type\":\"pie\"}],\"scatter3d\":[{\"line\":{\"colorbar\":{\"outlinewidth\":1,\"tickcolor\":\"rgb(36,36,36)\",\"ticks\":\"outside\"}},\"marker\":{\"colorbar\":{\"outlinewidth\":1,\"tickcolor\":\"rgb(36,36,36)\",\"ticks\":\"outside\"}},\"type\":\"scatter3d\"}],\"scattercarpet\":[{\"marker\":{\"colorbar\":{\"outlinewidth\":1,\"tickcolor\":\"rgb(36,36,36)\",\"ticks\":\"outside\"}},\"type\":\"scattercarpet\"}],\"scattergeo\":[{\"marker\":{\"colorbar\":{\"outlinewidth\":1,\"tickcolor\":\"rgb(36,36,36)\",\"ticks\":\"outside\"}},\"type\":\"scattergeo\"}],\"scattergl\":[{\"marker\":{\"colorbar\":{\"outlinewidth\":1,\"tickcolor\":\"rgb(36,36,36)\",\"ticks\":\"outside\"}},\"type\":\"scattergl\"}],\"scattermapbox\":[{\"marker\":{\"colorbar\":{\"outlinewidth\":1,\"tickcolor\":\"rgb(36,36,36)\",\"ticks\":\"outside\"}},\"type\":\"scattermapbox\"}],\"scatterpolargl\":[{\"marker\":{\"colorbar\":{\"outlinewidth\":1,\"tickcolor\":\"rgb(36,36,36)\",\"ticks\":\"outside\"}},\"type\":\"scatterpolargl\"}],\"scatterpolar\":[{\"marker\":{\"colorbar\":{\"outlinewidth\":1,\"tickcolor\":\"rgb(36,36,36)\",\"ticks\":\"outside\"}},\"type\":\"scatterpolar\"}],\"scatter\":[{\"fillpattern\":{\"fillmode\":\"overlay\",\"size\":10,\"solidity\":0.2},\"type\":\"scatter\"}],\"scatterternary\":[{\"marker\":{\"colorbar\":{\"outlinewidth\":1,\"tickcolor\":\"rgb(36,36,36)\",\"ticks\":\"outside\"}},\"type\":\"scatterternary\"}],\"surface\":[{\"colorbar\":{\"outlinewidth\":1,\"tickcolor\":\"rgb(36,36,36)\",\"ticks\":\"outside\"},\"colorscale\":[[0.0,\"#440154\"],[0.1111111111111111,\"#482878\"],[0.2222222222222222,\"#3e4989\"],[0.3333333333333333,\"#31688e\"],[0.4444444444444444,\"#26828e\"],[0.5555555555555556,\"#1f9e89\"],[0.6666666666666666,\"#35b779\"],[0.7777777777777778,\"#6ece58\"],[0.8888888888888888,\"#b5de2b\"],[1.0,\"#fde725\"]],\"type\":\"surface\"}],\"table\":[{\"cells\":{\"fill\":{\"color\":\"rgb(237,237,237)\"},\"line\":{\"color\":\"white\"}},\"header\":{\"fill\":{\"color\":\"rgb(217,217,217)\"},\"line\":{\"color\":\"white\"}},\"type\":\"table\"}]},\"layout\":{\"annotationdefaults\":{\"arrowhead\":0,\"arrowwidth\":1},\"autotypenumbers\":\"strict\",\"coloraxis\":{\"colorbar\":{\"outlinewidth\":1,\"tickcolor\":\"rgb(36,36,36)\",\"ticks\":\"outside\"}},\"colorscale\":{\"diverging\":[[0.0,\"rgb(103,0,31)\"],[0.1,\"rgb(178,24,43)\"],[0.2,\"rgb(214,96,77)\"],[0.3,\"rgb(244,165,130)\"],[0.4,\"rgb(253,219,199)\"],[0.5,\"rgb(247,247,247)\"],[0.6,\"rgb(209,229,240)\"],[0.7,\"rgb(146,197,222)\"],[0.8,\"rgb(67,147,195)\"],[0.9,\"rgb(33,102,172)\"],[1.0,\"rgb(5,48,97)\"]],\"sequential\":[[0.0,\"#440154\"],[0.1111111111111111,\"#482878\"],[0.2222222222222222,\"#3e4989\"],[0.3333333333333333,\"#31688e\"],[0.4444444444444444,\"#26828e\"],[0.5555555555555556,\"#1f9e89\"],[0.6666666666666666,\"#35b779\"],[0.7777777777777778,\"#6ece58\"],[0.8888888888888888,\"#b5de2b\"],[1.0,\"#fde725\"]],\"sequentialminus\":[[0.0,\"#440154\"],[0.1111111111111111,\"#482878\"],[0.2222222222222222,\"#3e4989\"],[0.3333333333333333,\"#31688e\"],[0.4444444444444444,\"#26828e\"],[0.5555555555555556,\"#1f9e89\"],[0.6666666666666666,\"#35b779\"],[0.7777777777777778,\"#6ece58\"],[0.8888888888888888,\"#b5de2b\"],[1.0,\"#fde725\"]]},\"colorway\":[\"#1F77B4\",\"#FF7F0E\",\"#2CA02C\",\"#D62728\",\"#9467BD\",\"#8C564B\",\"#E377C2\",\"#7F7F7F\",\"#BCBD22\",\"#17BECF\"],\"font\":{\"color\":\"rgb(36,36,36)\"},\"geo\":{\"bgcolor\":\"white\",\"lakecolor\":\"white\",\"landcolor\":\"white\",\"showlakes\":true,\"showland\":true,\"subunitcolor\":\"white\"},\"hoverlabel\":{\"align\":\"left\"},\"hovermode\":\"closest\",\"mapbox\":{\"style\":\"light\"},\"paper_bgcolor\":\"white\",\"plot_bgcolor\":\"white\",\"polar\":{\"angularaxis\":{\"gridcolor\":\"rgb(232,232,232)\",\"linecolor\":\"rgb(36,36,36)\",\"showgrid\":false,\"showline\":true,\"ticks\":\"outside\"},\"bgcolor\":\"white\",\"radialaxis\":{\"gridcolor\":\"rgb(232,232,232)\",\"linecolor\":\"rgb(36,36,36)\",\"showgrid\":false,\"showline\":true,\"ticks\":\"outside\"}},\"scene\":{\"xaxis\":{\"backgroundcolor\":\"white\",\"gridcolor\":\"rgb(232,232,232)\",\"gridwidth\":2,\"linecolor\":\"rgb(36,36,36)\",\"showbackground\":true,\"showgrid\":false,\"showline\":true,\"ticks\":\"outside\",\"zeroline\":false,\"zerolinecolor\":\"rgb(36,36,36)\"},\"yaxis\":{\"backgroundcolor\":\"white\",\"gridcolor\":\"rgb(232,232,232)\",\"gridwidth\":2,\"linecolor\":\"rgb(36,36,36)\",\"showbackground\":true,\"showgrid\":false,\"showline\":true,\"ticks\":\"outside\",\"zeroline\":false,\"zerolinecolor\":\"rgb(36,36,36)\"},\"zaxis\":{\"backgroundcolor\":\"white\",\"gridcolor\":\"rgb(232,232,232)\",\"gridwidth\":2,\"linecolor\":\"rgb(36,36,36)\",\"showbackground\":true,\"showgrid\":false,\"showline\":true,\"ticks\":\"outside\",\"zeroline\":false,\"zerolinecolor\":\"rgb(36,36,36)\"}},\"shapedefaults\":{\"fillcolor\":\"black\",\"line\":{\"width\":0},\"opacity\":0.3},\"ternary\":{\"aaxis\":{\"gridcolor\":\"rgb(232,232,232)\",\"linecolor\":\"rgb(36,36,36)\",\"showgrid\":false,\"showline\":true,\"ticks\":\"outside\"},\"baxis\":{\"gridcolor\":\"rgb(232,232,232)\",\"linecolor\":\"rgb(36,36,36)\",\"showgrid\":false,\"showline\":true,\"ticks\":\"outside\"},\"bgcolor\":\"white\",\"caxis\":{\"gridcolor\":\"rgb(232,232,232)\",\"linecolor\":\"rgb(36,36,36)\",\"showgrid\":false,\"showline\":true,\"ticks\":\"outside\"}},\"title\":{\"x\":0.05},\"xaxis\":{\"automargin\":true,\"gridcolor\":\"rgb(232,232,232)\",\"linecolor\":\"rgb(36,36,36)\",\"showgrid\":false,\"showline\":true,\"ticks\":\"outside\",\"title\":{\"standoff\":15},\"zeroline\":false,\"zerolinecolor\":\"rgb(36,36,36)\"},\"yaxis\":{\"automargin\":true,\"gridcolor\":\"rgb(232,232,232)\",\"linecolor\":\"rgb(36,36,36)\",\"showgrid\":false,\"showline\":true,\"ticks\":\"outside\",\"title\":{\"standoff\":15},\"zeroline\":false,\"zerolinecolor\":\"rgb(36,36,36)\"}}},\"xaxis\":{\"anchor\":\"y\",\"domain\":[0.0,1.0],\"title\":{\"text\":\"M\"},\"linecolor\":\"darkgrey\"},\"yaxis\":{\"anchor\":\"x\",\"domain\":[0.0,1.0],\"title\":{\"text\":\"construction time (s)\"},\"linecolor\":\"darkgrey\"},\"legend\":{\"title\":{\"text\":\"efConstruction\"},\"tracegroupgap\":0},\"margin\":{\"t\":60},\"height\":350,\"width\":600},                        {\"responsive\": true}                    ).then(function(){\n",
       "                            \n",
       "var gd = document.getElementById('6b7c1e1e-0af5-4bf4-ae28-dedb442d346d');\n",
       "var x = new MutationObserver(function (mutations, observer) {{\n",
       "        var display = window.getComputedStyle(gd).display;\n",
       "        if (!display || display === 'none') {{\n",
       "            console.log([gd, 'removed!']);\n",
       "            Plotly.purge(gd);\n",
       "            observer.disconnect();\n",
       "        }}\n",
       "}});\n",
       "\n",
       "// Listen for the removal of the full notebook cells\n",
       "var notebookContainer = gd.closest('#notebook-container');\n",
       "if (notebookContainer) {{\n",
       "    x.observe(notebookContainer, {childList: true});\n",
       "}}\n",
       "\n",
       "// Listen for the clearing of the current output cell\n",
       "var outputEl = gd.closest('.output');\n",
       "if (outputEl) {{\n",
       "    x.observe(outputEl, {childList: true});\n",
       "}}\n",
       "\n",
       "                        })                };                });            </script>        </div>"
      ]
     },
     "metadata": {},
     "output_type": "display_data"
    }
   ],
   "source": [
    "fig = px.line(dfHNSW, x=\"M\", y=\"index_time\", markers=True, height=350, width=600, color=\"efConstruction\", template=\"simple_white\",\n",
    "              color_discrete_sequence=px.colors.qualitative.Vivid,  \n",
    "              labels=dict(index_time=\"construction time (s)\",))\n",
    "fig.update_xaxes(linecolor='darkgrey')\n",
    "fig.update_yaxes(linecolor='darkgrey')\n",
    "fig.show()\n",
    "fig.write_html(\"Hflat_M_indextime.html\")"
   ]
  },
  {
   "cell_type": "code",
   "execution_count": 41,
   "id": "f1fb26c7",
   "metadata": {
    "execution": {
     "iopub.execute_input": "2022-08-24T06:42:17.131035Z",
     "iopub.status.busy": "2022-08-24T06:42:17.130012Z",
     "iopub.status.idle": "2022-08-24T06:42:17.211863Z",
     "shell.execute_reply": "2022-08-24T06:42:17.210764Z"
    },
    "papermill": {
     "duration": 0.769757,
     "end_time": "2022-08-24T06:42:17.214366",
     "exception": false,
     "start_time": "2022-08-24T06:42:16.444609",
     "status": "completed"
    },
    "tags": []
   },
   "outputs": [
    {
     "data": {
      "text/html": [
       "<div>                            <div id=\"6f0dd29d-7736-46fe-a526-ffb27c2391e6\" class=\"plotly-graph-div\" style=\"height:350px; width:600px;\"></div>            <script type=\"text/javascript\">                require([\"plotly\"], function(Plotly) {                    window.PLOTLYENV=window.PLOTLYENV || {};                                    if (document.getElementById(\"6f0dd29d-7736-46fe-a526-ffb27c2391e6\")) {                    Plotly.newPlot(                        \"6f0dd29d-7736-46fe-a526-ffb27c2391e6\",                        [{\"hovertemplate\":\"efSearch=4<br>M=%{x}<br>search time (ms/query)=%{y}<extra></extra>\",\"legendgroup\":\"4\",\"line\":{\"color\":\"rgb(229, 134, 6)\",\"dash\":\"solid\"},\"marker\":{\"symbol\":\"circle\"},\"mode\":\"markers+lines\",\"name\":\"4\",\"orientation\":\"v\",\"showlegend\":true,\"x\":[4,16,32,64],\"xaxis\":\"x\",\"y\":[0.0682826042175293,0.04443764686584473,0.0727546215057373,0.12536144256591797],\"yaxis\":\"y\",\"type\":\"scatter\"},{\"hovertemplate\":\"efSearch=16<br>M=%{x}<br>search time (ms/query)=%{y}<extra></extra>\",\"legendgroup\":\"16\",\"line\":{\"color\":\"rgb(93, 105, 177)\",\"dash\":\"solid\"},\"marker\":{\"symbol\":\"circle\"},\"mode\":\"markers+lines\",\"name\":\"16\",\"orientation\":\"v\",\"showlegend\":true,\"x\":[4,16,32,64],\"xaxis\":\"x\",\"y\":[0.04142284393310547,0.08853888511657715,0.18690776824951172,0.1896679401397705],\"yaxis\":\"y\",\"type\":\"scatter\"},{\"hovertemplate\":\"efSearch=40<br>M=%{x}<br>search time (ms/query)=%{y}<extra></extra>\",\"legendgroup\":\"40\",\"line\":{\"color\":\"rgb(82, 188, 163)\",\"dash\":\"solid\"},\"marker\":{\"symbol\":\"circle\"},\"mode\":\"markers+lines\",\"name\":\"40\",\"orientation\":\"v\",\"showlegend\":true,\"x\":[4,16,32,64],\"xaxis\":\"x\",\"y\":[0.07770061492919922,0.17973709106445312,0.24407386779785156,0.3795168399810791],\"yaxis\":\"y\",\"type\":\"scatter\"},{\"hovertemplate\":\"efSearch=76<br>M=%{x}<br>search time (ms/query)=%{y}<extra></extra>\",\"legendgroup\":\"76\",\"line\":{\"color\":\"rgb(153, 201, 69)\",\"dash\":\"solid\"},\"marker\":{\"symbol\":\"circle\"},\"mode\":\"markers+lines\",\"name\":\"76\",\"orientation\":\"v\",\"showlegend\":true,\"x\":[4,16,32,64],\"xaxis\":\"x\",\"y\":[0.14000248908996582,0.30910468101501465,0.4022538661956787,0.6427271366119385],\"yaxis\":\"y\",\"type\":\"scatter\"}],                        {\"template\":{\"data\":{\"barpolar\":[{\"marker\":{\"line\":{\"color\":\"white\",\"width\":0.5},\"pattern\":{\"fillmode\":\"overlay\",\"size\":10,\"solidity\":0.2}},\"type\":\"barpolar\"}],\"bar\":[{\"error_x\":{\"color\":\"rgb(36,36,36)\"},\"error_y\":{\"color\":\"rgb(36,36,36)\"},\"marker\":{\"line\":{\"color\":\"white\",\"width\":0.5},\"pattern\":{\"fillmode\":\"overlay\",\"size\":10,\"solidity\":0.2}},\"type\":\"bar\"}],\"carpet\":[{\"aaxis\":{\"endlinecolor\":\"rgb(36,36,36)\",\"gridcolor\":\"white\",\"linecolor\":\"white\",\"minorgridcolor\":\"white\",\"startlinecolor\":\"rgb(36,36,36)\"},\"baxis\":{\"endlinecolor\":\"rgb(36,36,36)\",\"gridcolor\":\"white\",\"linecolor\":\"white\",\"minorgridcolor\":\"white\",\"startlinecolor\":\"rgb(36,36,36)\"},\"type\":\"carpet\"}],\"choropleth\":[{\"colorbar\":{\"outlinewidth\":1,\"tickcolor\":\"rgb(36,36,36)\",\"ticks\":\"outside\"},\"type\":\"choropleth\"}],\"contourcarpet\":[{\"colorbar\":{\"outlinewidth\":1,\"tickcolor\":\"rgb(36,36,36)\",\"ticks\":\"outside\"},\"type\":\"contourcarpet\"}],\"contour\":[{\"colorbar\":{\"outlinewidth\":1,\"tickcolor\":\"rgb(36,36,36)\",\"ticks\":\"outside\"},\"colorscale\":[[0.0,\"#440154\"],[0.1111111111111111,\"#482878\"],[0.2222222222222222,\"#3e4989\"],[0.3333333333333333,\"#31688e\"],[0.4444444444444444,\"#26828e\"],[0.5555555555555556,\"#1f9e89\"],[0.6666666666666666,\"#35b779\"],[0.7777777777777778,\"#6ece58\"],[0.8888888888888888,\"#b5de2b\"],[1.0,\"#fde725\"]],\"type\":\"contour\"}],\"heatmapgl\":[{\"colorbar\":{\"outlinewidth\":1,\"tickcolor\":\"rgb(36,36,36)\",\"ticks\":\"outside\"},\"colorscale\":[[0.0,\"#440154\"],[0.1111111111111111,\"#482878\"],[0.2222222222222222,\"#3e4989\"],[0.3333333333333333,\"#31688e\"],[0.4444444444444444,\"#26828e\"],[0.5555555555555556,\"#1f9e89\"],[0.6666666666666666,\"#35b779\"],[0.7777777777777778,\"#6ece58\"],[0.8888888888888888,\"#b5de2b\"],[1.0,\"#fde725\"]],\"type\":\"heatmapgl\"}],\"heatmap\":[{\"colorbar\":{\"outlinewidth\":1,\"tickcolor\":\"rgb(36,36,36)\",\"ticks\":\"outside\"},\"colorscale\":[[0.0,\"#440154\"],[0.1111111111111111,\"#482878\"],[0.2222222222222222,\"#3e4989\"],[0.3333333333333333,\"#31688e\"],[0.4444444444444444,\"#26828e\"],[0.5555555555555556,\"#1f9e89\"],[0.6666666666666666,\"#35b779\"],[0.7777777777777778,\"#6ece58\"],[0.8888888888888888,\"#b5de2b\"],[1.0,\"#fde725\"]],\"type\":\"heatmap\"}],\"histogram2dcontour\":[{\"colorbar\":{\"outlinewidth\":1,\"tickcolor\":\"rgb(36,36,36)\",\"ticks\":\"outside\"},\"colorscale\":[[0.0,\"#440154\"],[0.1111111111111111,\"#482878\"],[0.2222222222222222,\"#3e4989\"],[0.3333333333333333,\"#31688e\"],[0.4444444444444444,\"#26828e\"],[0.5555555555555556,\"#1f9e89\"],[0.6666666666666666,\"#35b779\"],[0.7777777777777778,\"#6ece58\"],[0.8888888888888888,\"#b5de2b\"],[1.0,\"#fde725\"]],\"type\":\"histogram2dcontour\"}],\"histogram2d\":[{\"colorbar\":{\"outlinewidth\":1,\"tickcolor\":\"rgb(36,36,36)\",\"ticks\":\"outside\"},\"colorscale\":[[0.0,\"#440154\"],[0.1111111111111111,\"#482878\"],[0.2222222222222222,\"#3e4989\"],[0.3333333333333333,\"#31688e\"],[0.4444444444444444,\"#26828e\"],[0.5555555555555556,\"#1f9e89\"],[0.6666666666666666,\"#35b779\"],[0.7777777777777778,\"#6ece58\"],[0.8888888888888888,\"#b5de2b\"],[1.0,\"#fde725\"]],\"type\":\"histogram2d\"}],\"histogram\":[{\"marker\":{\"line\":{\"color\":\"white\",\"width\":0.6}},\"type\":\"histogram\"}],\"mesh3d\":[{\"colorbar\":{\"outlinewidth\":1,\"tickcolor\":\"rgb(36,36,36)\",\"ticks\":\"outside\"},\"type\":\"mesh3d\"}],\"parcoords\":[{\"line\":{\"colorbar\":{\"outlinewidth\":1,\"tickcolor\":\"rgb(36,36,36)\",\"ticks\":\"outside\"}},\"type\":\"parcoords\"}],\"pie\":[{\"automargin\":true,\"type\":\"pie\"}],\"scatter3d\":[{\"line\":{\"colorbar\":{\"outlinewidth\":1,\"tickcolor\":\"rgb(36,36,36)\",\"ticks\":\"outside\"}},\"marker\":{\"colorbar\":{\"outlinewidth\":1,\"tickcolor\":\"rgb(36,36,36)\",\"ticks\":\"outside\"}},\"type\":\"scatter3d\"}],\"scattercarpet\":[{\"marker\":{\"colorbar\":{\"outlinewidth\":1,\"tickcolor\":\"rgb(36,36,36)\",\"ticks\":\"outside\"}},\"type\":\"scattercarpet\"}],\"scattergeo\":[{\"marker\":{\"colorbar\":{\"outlinewidth\":1,\"tickcolor\":\"rgb(36,36,36)\",\"ticks\":\"outside\"}},\"type\":\"scattergeo\"}],\"scattergl\":[{\"marker\":{\"colorbar\":{\"outlinewidth\":1,\"tickcolor\":\"rgb(36,36,36)\",\"ticks\":\"outside\"}},\"type\":\"scattergl\"}],\"scattermapbox\":[{\"marker\":{\"colorbar\":{\"outlinewidth\":1,\"tickcolor\":\"rgb(36,36,36)\",\"ticks\":\"outside\"}},\"type\":\"scattermapbox\"}],\"scatterpolargl\":[{\"marker\":{\"colorbar\":{\"outlinewidth\":1,\"tickcolor\":\"rgb(36,36,36)\",\"ticks\":\"outside\"}},\"type\":\"scatterpolargl\"}],\"scatterpolar\":[{\"marker\":{\"colorbar\":{\"outlinewidth\":1,\"tickcolor\":\"rgb(36,36,36)\",\"ticks\":\"outside\"}},\"type\":\"scatterpolar\"}],\"scatter\":[{\"fillpattern\":{\"fillmode\":\"overlay\",\"size\":10,\"solidity\":0.2},\"type\":\"scatter\"}],\"scatterternary\":[{\"marker\":{\"colorbar\":{\"outlinewidth\":1,\"tickcolor\":\"rgb(36,36,36)\",\"ticks\":\"outside\"}},\"type\":\"scatterternary\"}],\"surface\":[{\"colorbar\":{\"outlinewidth\":1,\"tickcolor\":\"rgb(36,36,36)\",\"ticks\":\"outside\"},\"colorscale\":[[0.0,\"#440154\"],[0.1111111111111111,\"#482878\"],[0.2222222222222222,\"#3e4989\"],[0.3333333333333333,\"#31688e\"],[0.4444444444444444,\"#26828e\"],[0.5555555555555556,\"#1f9e89\"],[0.6666666666666666,\"#35b779\"],[0.7777777777777778,\"#6ece58\"],[0.8888888888888888,\"#b5de2b\"],[1.0,\"#fde725\"]],\"type\":\"surface\"}],\"table\":[{\"cells\":{\"fill\":{\"color\":\"rgb(237,237,237)\"},\"line\":{\"color\":\"white\"}},\"header\":{\"fill\":{\"color\":\"rgb(217,217,217)\"},\"line\":{\"color\":\"white\"}},\"type\":\"table\"}]},\"layout\":{\"annotationdefaults\":{\"arrowhead\":0,\"arrowwidth\":1},\"autotypenumbers\":\"strict\",\"coloraxis\":{\"colorbar\":{\"outlinewidth\":1,\"tickcolor\":\"rgb(36,36,36)\",\"ticks\":\"outside\"}},\"colorscale\":{\"diverging\":[[0.0,\"rgb(103,0,31)\"],[0.1,\"rgb(178,24,43)\"],[0.2,\"rgb(214,96,77)\"],[0.3,\"rgb(244,165,130)\"],[0.4,\"rgb(253,219,199)\"],[0.5,\"rgb(247,247,247)\"],[0.6,\"rgb(209,229,240)\"],[0.7,\"rgb(146,197,222)\"],[0.8,\"rgb(67,147,195)\"],[0.9,\"rgb(33,102,172)\"],[1.0,\"rgb(5,48,97)\"]],\"sequential\":[[0.0,\"#440154\"],[0.1111111111111111,\"#482878\"],[0.2222222222222222,\"#3e4989\"],[0.3333333333333333,\"#31688e\"],[0.4444444444444444,\"#26828e\"],[0.5555555555555556,\"#1f9e89\"],[0.6666666666666666,\"#35b779\"],[0.7777777777777778,\"#6ece58\"],[0.8888888888888888,\"#b5de2b\"],[1.0,\"#fde725\"]],\"sequentialminus\":[[0.0,\"#440154\"],[0.1111111111111111,\"#482878\"],[0.2222222222222222,\"#3e4989\"],[0.3333333333333333,\"#31688e\"],[0.4444444444444444,\"#26828e\"],[0.5555555555555556,\"#1f9e89\"],[0.6666666666666666,\"#35b779\"],[0.7777777777777778,\"#6ece58\"],[0.8888888888888888,\"#b5de2b\"],[1.0,\"#fde725\"]]},\"colorway\":[\"#1F77B4\",\"#FF7F0E\",\"#2CA02C\",\"#D62728\",\"#9467BD\",\"#8C564B\",\"#E377C2\",\"#7F7F7F\",\"#BCBD22\",\"#17BECF\"],\"font\":{\"color\":\"rgb(36,36,36)\"},\"geo\":{\"bgcolor\":\"white\",\"lakecolor\":\"white\",\"landcolor\":\"white\",\"showlakes\":true,\"showland\":true,\"subunitcolor\":\"white\"},\"hoverlabel\":{\"align\":\"left\"},\"hovermode\":\"closest\",\"mapbox\":{\"style\":\"light\"},\"paper_bgcolor\":\"white\",\"plot_bgcolor\":\"white\",\"polar\":{\"angularaxis\":{\"gridcolor\":\"rgb(232,232,232)\",\"linecolor\":\"rgb(36,36,36)\",\"showgrid\":false,\"showline\":true,\"ticks\":\"outside\"},\"bgcolor\":\"white\",\"radialaxis\":{\"gridcolor\":\"rgb(232,232,232)\",\"linecolor\":\"rgb(36,36,36)\",\"showgrid\":false,\"showline\":true,\"ticks\":\"outside\"}},\"scene\":{\"xaxis\":{\"backgroundcolor\":\"white\",\"gridcolor\":\"rgb(232,232,232)\",\"gridwidth\":2,\"linecolor\":\"rgb(36,36,36)\",\"showbackground\":true,\"showgrid\":false,\"showline\":true,\"ticks\":\"outside\",\"zeroline\":false,\"zerolinecolor\":\"rgb(36,36,36)\"},\"yaxis\":{\"backgroundcolor\":\"white\",\"gridcolor\":\"rgb(232,232,232)\",\"gridwidth\":2,\"linecolor\":\"rgb(36,36,36)\",\"showbackground\":true,\"showgrid\":false,\"showline\":true,\"ticks\":\"outside\",\"zeroline\":false,\"zerolinecolor\":\"rgb(36,36,36)\"},\"zaxis\":{\"backgroundcolor\":\"white\",\"gridcolor\":\"rgb(232,232,232)\",\"gridwidth\":2,\"linecolor\":\"rgb(36,36,36)\",\"showbackground\":true,\"showgrid\":false,\"showline\":true,\"ticks\":\"outside\",\"zeroline\":false,\"zerolinecolor\":\"rgb(36,36,36)\"}},\"shapedefaults\":{\"fillcolor\":\"black\",\"line\":{\"width\":0},\"opacity\":0.3},\"ternary\":{\"aaxis\":{\"gridcolor\":\"rgb(232,232,232)\",\"linecolor\":\"rgb(36,36,36)\",\"showgrid\":false,\"showline\":true,\"ticks\":\"outside\"},\"baxis\":{\"gridcolor\":\"rgb(232,232,232)\",\"linecolor\":\"rgb(36,36,36)\",\"showgrid\":false,\"showline\":true,\"ticks\":\"outside\"},\"bgcolor\":\"white\",\"caxis\":{\"gridcolor\":\"rgb(232,232,232)\",\"linecolor\":\"rgb(36,36,36)\",\"showgrid\":false,\"showline\":true,\"ticks\":\"outside\"}},\"title\":{\"x\":0.05},\"xaxis\":{\"automargin\":true,\"gridcolor\":\"rgb(232,232,232)\",\"linecolor\":\"rgb(36,36,36)\",\"showgrid\":false,\"showline\":true,\"ticks\":\"outside\",\"title\":{\"standoff\":15},\"zeroline\":false,\"zerolinecolor\":\"rgb(36,36,36)\"},\"yaxis\":{\"automargin\":true,\"gridcolor\":\"rgb(232,232,232)\",\"linecolor\":\"rgb(36,36,36)\",\"showgrid\":false,\"showline\":true,\"ticks\":\"outside\",\"title\":{\"standoff\":15},\"zeroline\":false,\"zerolinecolor\":\"rgb(36,36,36)\"}}},\"xaxis\":{\"anchor\":\"y\",\"domain\":[0.0,1.0],\"title\":{\"text\":\"M\"},\"linecolor\":\"darkgrey\"},\"yaxis\":{\"anchor\":\"x\",\"domain\":[0.0,1.0],\"title\":{\"text\":\"search time (ms/query)\"},\"linecolor\":\"darkgrey\"},\"legend\":{\"title\":{\"text\":\"efSearch\"},\"tracegroupgap\":0},\"margin\":{\"t\":60},\"height\":350,\"width\":600},                        {\"responsive\": true}                    ).then(function(){\n",
       "                            \n",
       "var gd = document.getElementById('6f0dd29d-7736-46fe-a526-ffb27c2391e6');\n",
       "var x = new MutationObserver(function (mutations, observer) {{\n",
       "        var display = window.getComputedStyle(gd).display;\n",
       "        if (!display || display === 'none') {{\n",
       "            console.log([gd, 'removed!']);\n",
       "            Plotly.purge(gd);\n",
       "            observer.disconnect();\n",
       "        }}\n",
       "}});\n",
       "\n",
       "// Listen for the removal of the full notebook cells\n",
       "var notebookContainer = gd.closest('#notebook-container');\n",
       "if (notebookContainer) {{\n",
       "    x.observe(notebookContainer, {childList: true});\n",
       "}}\n",
       "\n",
       "// Listen for the clearing of the current output cell\n",
       "var outputEl = gd.closest('.output');\n",
       "if (outputEl) {{\n",
       "    x.observe(outputEl, {childList: true});\n",
       "}}\n",
       "\n",
       "                        })                };                });            </script>        </div>"
      ]
     },
     "metadata": {},
     "output_type": "display_data"
    }
   ],
   "source": [
    "fig = px.line(dfHNSW.query(\"efConstruction==76\"), x=\"M\", y=\"search_time\", markers=True, height=350, width=600, color=\"efSearch\", template=\"simple_white\",\n",
    "              color_discrete_sequence=px.colors.qualitative.Vivid,  \n",
    "              labels=dict(search_time=\"search time (ms/query)\",))\n",
    "fig.update_xaxes(linecolor='darkgrey')\n",
    "fig.update_yaxes(linecolor='darkgrey')\n",
    "fig.show()\n",
    "fig.write_html(\"Hflat_M_searchtime.html\")"
   ]
  },
  {
   "cell_type": "code",
   "execution_count": 42,
   "id": "9e97c94b",
   "metadata": {
    "execution": {
     "iopub.execute_input": "2022-08-24T06:42:18.444329Z",
     "iopub.status.busy": "2022-08-24T06:42:18.443557Z",
     "iopub.status.idle": "2022-08-24T06:42:18.448899Z",
     "shell.execute_reply": "2022-08-24T06:42:18.447953Z"
    },
    "papermill": {
     "duration": 0.620769,
     "end_time": "2022-08-24T06:42:18.451130",
     "exception": false,
     "start_time": "2022-08-24T06:42:17.830361",
     "status": "completed"
    },
    "tags": []
   },
   "outputs": [],
   "source": [
    "# colors_custom = ['#FECB52','#FF9900','#DC3912','#990099'] # yellow, orange, red, purple\n",
    "colors_custom = ['#EECA3B','#FF9900','#DC3912','#990099'] # yellow, orange, red, purple\n",
    "colors_blue = ['#90AD1C','#0099C6','#316395','#1616A7']   # Shades of blue"
   ]
  },
  {
   "cell_type": "code",
   "execution_count": 43,
   "id": "1dae379e",
   "metadata": {
    "execution": {
     "iopub.execute_input": "2022-08-24T06:42:20.100475Z",
     "iopub.status.busy": "2022-08-24T06:42:20.099828Z",
     "iopub.status.idle": "2022-08-24T06:42:20.517745Z",
     "shell.execute_reply": "2022-08-24T06:42:20.516788Z"
    },
    "papermill": {
     "duration": 1.423485,
     "end_time": "2022-08-24T06:42:20.520124",
     "exception": false,
     "start_time": "2022-08-24T06:42:19.096639",
     "status": "completed"
    },
    "tags": []
   },
   "outputs": [
    {
     "data": {
      "text/html": [
       "<div>                            <div id=\"80b8e8e4-8130-481f-b419-e66bd11b83b3\" class=\"plotly-graph-div\" style=\"height:390px; width:750px;\"></div>            <script type=\"text/javascript\">                require([\"plotly\"], function(Plotly) {                    window.PLOTLYENV=window.PLOTLYENV || {};                                    if (document.getElementById(\"80b8e8e4-8130-481f-b419-e66bd11b83b3\")) {                    Plotly.newPlot(                        \"80b8e8e4-8130-481f-b419-e66bd11b83b3\",                        [{\"hovertemplate\":\"M=4<br>efConstruction=4<br>efSearch=%{x}<br>search time (ms/query)=%{y}<extra></extra>\",\"legendgroup\":\"4\",\"line\":{\"color\":\"#EECA3B\",\"dash\":\"solid\"},\"marker\":{\"symbol\":\"circle\"},\"mode\":\"markers+lines\",\"name\":\"4\",\"orientation\":\"v\",\"showlegend\":true,\"x\":[4,16,40,76],\"xaxis\":\"x\",\"y\":[0.11185693740844727,0.07790207862854004,0.12146520614624023,0.16416025161743164],\"yaxis\":\"y\",\"type\":\"scatter\"},{\"hovertemplate\":\"M=4<br>efConstruction=16<br>efSearch=%{x}<br>search time (ms/query)=%{y}<extra></extra>\",\"legendgroup\":\"4\",\"line\":{\"color\":\"#EECA3B\",\"dash\":\"solid\"},\"marker\":{\"symbol\":\"circle\"},\"mode\":\"markers+lines\",\"name\":\"4\",\"orientation\":\"v\",\"showlegend\":false,\"x\":[4,16,40,76],\"xaxis\":\"x2\",\"y\":[0.05586051940917969,0.03347301483154297,0.07358002662658691,0.22960305213928223],\"yaxis\":\"y2\",\"type\":\"scatter\"},{\"hovertemplate\":\"M=4<br>efConstruction=40<br>efSearch=%{x}<br>search time (ms/query)=%{y}<extra></extra>\",\"legendgroup\":\"4\",\"line\":{\"color\":\"#EECA3B\",\"dash\":\"solid\"},\"marker\":{\"symbol\":\"circle\"},\"mode\":\"markers+lines\",\"name\":\"4\",\"orientation\":\"v\",\"showlegend\":false,\"x\":[4,16,40,76],\"xaxis\":\"x3\",\"y\":[0.02127981185913086,0.04080629348754883,0.07532739639282227,0.13627386093139648],\"yaxis\":\"y3\",\"type\":\"scatter\"},{\"hovertemplate\":\"M=4<br>efConstruction=76<br>efSearch=%{x}<br>search time (ms/query)=%{y}<extra></extra>\",\"legendgroup\":\"4\",\"line\":{\"color\":\"#EECA3B\",\"dash\":\"solid\"},\"marker\":{\"symbol\":\"circle\"},\"mode\":\"markers+lines\",\"name\":\"4\",\"orientation\":\"v\",\"showlegend\":false,\"x\":[4,16,40,76],\"xaxis\":\"x4\",\"y\":[0.0682826042175293,0.04142284393310547,0.07770061492919922,0.14000248908996582],\"yaxis\":\"y4\",\"type\":\"scatter\"},{\"hovertemplate\":\"M=16<br>efConstruction=4<br>efSearch=%{x}<br>search time (ms/query)=%{y}<extra></extra>\",\"legendgroup\":\"16\",\"line\":{\"color\":\"#FF9900\",\"dash\":\"solid\"},\"marker\":{\"symbol\":\"circle\"},\"mode\":\"markers+lines\",\"name\":\"16\",\"orientation\":\"v\",\"showlegend\":true,\"x\":[4,16,40,76],\"xaxis\":\"x\",\"y\":[0.025166034698486328,0.038710832595825195,0.0749969482421875,0.13506793975830078],\"yaxis\":\"y\",\"type\":\"scatter\"},{\"hovertemplate\":\"M=16<br>efConstruction=16<br>efSearch=%{x}<br>search time (ms/query)=%{y}<extra></extra>\",\"legendgroup\":\"16\",\"line\":{\"color\":\"#FF9900\",\"dash\":\"solid\"},\"marker\":{\"symbol\":\"circle\"},\"mode\":\"markers+lines\",\"name\":\"16\",\"orientation\":\"v\",\"showlegend\":false,\"x\":[4,16,40,76],\"xaxis\":\"x2\",\"y\":[0.04731893539428711,0.08099675178527832,0.1671006679534912,0.29860758781433105],\"yaxis\":\"y2\",\"type\":\"scatter\"},{\"hovertemplate\":\"M=16<br>efConstruction=40<br>efSearch=%{x}<br>search time (ms/query)=%{y}<extra></extra>\",\"legendgroup\":\"16\",\"line\":{\"color\":\"#FF9900\",\"dash\":\"solid\"},\"marker\":{\"symbol\":\"circle\"},\"mode\":\"markers+lines\",\"name\":\"16\",\"orientation\":\"v\",\"showlegend\":false,\"x\":[4,16,40,76],\"xaxis\":\"x3\",\"y\":[0.07292890548706055,0.14293575286865234,0.24015092849731445,0.35860228538513184],\"yaxis\":\"y3\",\"type\":\"scatter\"},{\"hovertemplate\":\"M=16<br>efConstruction=76<br>efSearch=%{x}<br>search time (ms/query)=%{y}<extra></extra>\",\"legendgroup\":\"16\",\"line\":{\"color\":\"#FF9900\",\"dash\":\"solid\"},\"marker\":{\"symbol\":\"circle\"},\"mode\":\"markers+lines\",\"name\":\"16\",\"orientation\":\"v\",\"showlegend\":false,\"x\":[4,16,40,76],\"xaxis\":\"x4\",\"y\":[0.04443764686584473,0.08853888511657715,0.17973709106445312,0.30910468101501465],\"yaxis\":\"y4\",\"type\":\"scatter\"},{\"hovertemplate\":\"M=32<br>efConstruction=4<br>efSearch=%{x}<br>search time (ms/query)=%{y}<extra></extra>\",\"legendgroup\":\"32\",\"line\":{\"color\":\"#DC3912\",\"dash\":\"solid\"},\"marker\":{\"symbol\":\"circle\"},\"mode\":\"markers+lines\",\"name\":\"32\",\"orientation\":\"v\",\"showlegend\":true,\"x\":[4,16,40,76],\"xaxis\":\"x\",\"y\":[0.027608871459960938,0.04836916923522949,0.08959436416625977,0.15450596809387207],\"yaxis\":\"y\",\"type\":\"scatter\"},{\"hovertemplate\":\"M=32<br>efConstruction=16<br>efSearch=%{x}<br>search time (ms/query)=%{y}<extra></extra>\",\"legendgroup\":\"32\",\"line\":{\"color\":\"#DC3912\",\"dash\":\"solid\"},\"marker\":{\"symbol\":\"circle\"},\"mode\":\"markers+lines\",\"name\":\"32\",\"orientation\":\"v\",\"showlegend\":false,\"x\":[4,16,40,76],\"xaxis\":\"x2\",\"y\":[0.05575084686279297,0.10963678359985352,0.22312116622924805,0.35982537269592285],\"yaxis\":\"y2\",\"type\":\"scatter\"},{\"hovertemplate\":\"M=32<br>efConstruction=40<br>efSearch=%{x}<br>search time (ms/query)=%{y}<extra></extra>\",\"legendgroup\":\"32\",\"line\":{\"color\":\"#DC3912\",\"dash\":\"solid\"},\"marker\":{\"symbol\":\"circle\"},\"mode\":\"markers+lines\",\"name\":\"32\",\"orientation\":\"v\",\"showlegend\":false,\"x\":[4,16,40,76],\"xaxis\":\"x3\",\"y\":[0.12500262260437012,0.2442944049835205,0.2931351661682129,0.48569440841674805],\"yaxis\":\"y3\",\"type\":\"scatter\"},{\"hovertemplate\":\"M=32<br>efConstruction=76<br>efSearch=%{x}<br>search time (ms/query)=%{y}<extra></extra>\",\"legendgroup\":\"32\",\"line\":{\"color\":\"#DC3912\",\"dash\":\"solid\"},\"marker\":{\"symbol\":\"circle\"},\"mode\":\"markers+lines\",\"name\":\"32\",\"orientation\":\"v\",\"showlegend\":false,\"x\":[4,16,40,76],\"xaxis\":\"x4\",\"y\":[0.0727546215057373,0.18690776824951172,0.24407386779785156,0.4022538661956787],\"yaxis\":\"y4\",\"type\":\"scatter\"},{\"hovertemplate\":\"M=64<br>efConstruction=4<br>efSearch=%{x}<br>search time (ms/query)=%{y}<extra></extra>\",\"legendgroup\":\"64\",\"line\":{\"color\":\"#990099\",\"dash\":\"solid\"},\"marker\":{\"symbol\":\"circle\"},\"mode\":\"markers+lines\",\"name\":\"64\",\"orientation\":\"v\",\"showlegend\":true,\"x\":[4,16,40,76],\"xaxis\":\"x\",\"y\":[0.03230619430541992,0.059571027755737305,0.12066841125488281,0.15694952011108398],\"yaxis\":\"y\",\"type\":\"scatter\"},{\"hovertemplate\":\"M=64<br>efConstruction=16<br>efSearch=%{x}<br>search time (ms/query)=%{y}<extra></extra>\",\"legendgroup\":\"64\",\"line\":{\"color\":\"#990099\",\"dash\":\"solid\"},\"marker\":{\"symbol\":\"circle\"},\"mode\":\"markers+lines\",\"name\":\"64\",\"orientation\":\"v\",\"showlegend\":false,\"x\":[4,16,40,76],\"xaxis\":\"x2\",\"y\":[0.06145119667053223,0.12787914276123047,0.23174428939819336,0.3935253620147705],\"yaxis\":\"y2\",\"type\":\"scatter\"},{\"hovertemplate\":\"M=64<br>efConstruction=40<br>efSearch=%{x}<br>search time (ms/query)=%{y}<extra></extra>\",\"legendgroup\":\"64\",\"line\":{\"color\":\"#990099\",\"dash\":\"solid\"},\"marker\":{\"symbol\":\"circle\"},\"mode\":\"markers+lines\",\"name\":\"64\",\"orientation\":\"v\",\"showlegend\":false,\"x\":[4,16,40,76],\"xaxis\":\"x3\",\"y\":[0.10021829605102539,0.27878665924072266,0.4650840759277344,0.5619399547576904],\"yaxis\":\"y3\",\"type\":\"scatter\"},{\"hovertemplate\":\"M=64<br>efConstruction=76<br>efSearch=%{x}<br>search time (ms/query)=%{y}<extra></extra>\",\"legendgroup\":\"64\",\"line\":{\"color\":\"#990099\",\"dash\":\"solid\"},\"marker\":{\"symbol\":\"circle\"},\"mode\":\"markers+lines\",\"name\":\"64\",\"orientation\":\"v\",\"showlegend\":false,\"x\":[4,16,40,76],\"xaxis\":\"x4\",\"y\":[0.12536144256591797,0.1896679401397705,0.3795168399810791,0.6427271366119385],\"yaxis\":\"y4\",\"type\":\"scatter\"}],                        {\"template\":{\"data\":{\"barpolar\":[{\"marker\":{\"line\":{\"color\":\"white\",\"width\":0.5},\"pattern\":{\"fillmode\":\"overlay\",\"size\":10,\"solidity\":0.2}},\"type\":\"barpolar\"}],\"bar\":[{\"error_x\":{\"color\":\"rgb(36,36,36)\"},\"error_y\":{\"color\":\"rgb(36,36,36)\"},\"marker\":{\"line\":{\"color\":\"white\",\"width\":0.5},\"pattern\":{\"fillmode\":\"overlay\",\"size\":10,\"solidity\":0.2}},\"type\":\"bar\"}],\"carpet\":[{\"aaxis\":{\"endlinecolor\":\"rgb(36,36,36)\",\"gridcolor\":\"white\",\"linecolor\":\"white\",\"minorgridcolor\":\"white\",\"startlinecolor\":\"rgb(36,36,36)\"},\"baxis\":{\"endlinecolor\":\"rgb(36,36,36)\",\"gridcolor\":\"white\",\"linecolor\":\"white\",\"minorgridcolor\":\"white\",\"startlinecolor\":\"rgb(36,36,36)\"},\"type\":\"carpet\"}],\"choropleth\":[{\"colorbar\":{\"outlinewidth\":1,\"tickcolor\":\"rgb(36,36,36)\",\"ticks\":\"outside\"},\"type\":\"choropleth\"}],\"contourcarpet\":[{\"colorbar\":{\"outlinewidth\":1,\"tickcolor\":\"rgb(36,36,36)\",\"ticks\":\"outside\"},\"type\":\"contourcarpet\"}],\"contour\":[{\"colorbar\":{\"outlinewidth\":1,\"tickcolor\":\"rgb(36,36,36)\",\"ticks\":\"outside\"},\"colorscale\":[[0.0,\"#440154\"],[0.1111111111111111,\"#482878\"],[0.2222222222222222,\"#3e4989\"],[0.3333333333333333,\"#31688e\"],[0.4444444444444444,\"#26828e\"],[0.5555555555555556,\"#1f9e89\"],[0.6666666666666666,\"#35b779\"],[0.7777777777777778,\"#6ece58\"],[0.8888888888888888,\"#b5de2b\"],[1.0,\"#fde725\"]],\"type\":\"contour\"}],\"heatmapgl\":[{\"colorbar\":{\"outlinewidth\":1,\"tickcolor\":\"rgb(36,36,36)\",\"ticks\":\"outside\"},\"colorscale\":[[0.0,\"#440154\"],[0.1111111111111111,\"#482878\"],[0.2222222222222222,\"#3e4989\"],[0.3333333333333333,\"#31688e\"],[0.4444444444444444,\"#26828e\"],[0.5555555555555556,\"#1f9e89\"],[0.6666666666666666,\"#35b779\"],[0.7777777777777778,\"#6ece58\"],[0.8888888888888888,\"#b5de2b\"],[1.0,\"#fde725\"]],\"type\":\"heatmapgl\"}],\"heatmap\":[{\"colorbar\":{\"outlinewidth\":1,\"tickcolor\":\"rgb(36,36,36)\",\"ticks\":\"outside\"},\"colorscale\":[[0.0,\"#440154\"],[0.1111111111111111,\"#482878\"],[0.2222222222222222,\"#3e4989\"],[0.3333333333333333,\"#31688e\"],[0.4444444444444444,\"#26828e\"],[0.5555555555555556,\"#1f9e89\"],[0.6666666666666666,\"#35b779\"],[0.7777777777777778,\"#6ece58\"],[0.8888888888888888,\"#b5de2b\"],[1.0,\"#fde725\"]],\"type\":\"heatmap\"}],\"histogram2dcontour\":[{\"colorbar\":{\"outlinewidth\":1,\"tickcolor\":\"rgb(36,36,36)\",\"ticks\":\"outside\"},\"colorscale\":[[0.0,\"#440154\"],[0.1111111111111111,\"#482878\"],[0.2222222222222222,\"#3e4989\"],[0.3333333333333333,\"#31688e\"],[0.4444444444444444,\"#26828e\"],[0.5555555555555556,\"#1f9e89\"],[0.6666666666666666,\"#35b779\"],[0.7777777777777778,\"#6ece58\"],[0.8888888888888888,\"#b5de2b\"],[1.0,\"#fde725\"]],\"type\":\"histogram2dcontour\"}],\"histogram2d\":[{\"colorbar\":{\"outlinewidth\":1,\"tickcolor\":\"rgb(36,36,36)\",\"ticks\":\"outside\"},\"colorscale\":[[0.0,\"#440154\"],[0.1111111111111111,\"#482878\"],[0.2222222222222222,\"#3e4989\"],[0.3333333333333333,\"#31688e\"],[0.4444444444444444,\"#26828e\"],[0.5555555555555556,\"#1f9e89\"],[0.6666666666666666,\"#35b779\"],[0.7777777777777778,\"#6ece58\"],[0.8888888888888888,\"#b5de2b\"],[1.0,\"#fde725\"]],\"type\":\"histogram2d\"}],\"histogram\":[{\"marker\":{\"line\":{\"color\":\"white\",\"width\":0.6}},\"type\":\"histogram\"}],\"mesh3d\":[{\"colorbar\":{\"outlinewidth\":1,\"tickcolor\":\"rgb(36,36,36)\",\"ticks\":\"outside\"},\"type\":\"mesh3d\"}],\"parcoords\":[{\"line\":{\"colorbar\":{\"outlinewidth\":1,\"tickcolor\":\"rgb(36,36,36)\",\"ticks\":\"outside\"}},\"type\":\"parcoords\"}],\"pie\":[{\"automargin\":true,\"type\":\"pie\"}],\"scatter3d\":[{\"line\":{\"colorbar\":{\"outlinewidth\":1,\"tickcolor\":\"rgb(36,36,36)\",\"ticks\":\"outside\"}},\"marker\":{\"colorbar\":{\"outlinewidth\":1,\"tickcolor\":\"rgb(36,36,36)\",\"ticks\":\"outside\"}},\"type\":\"scatter3d\"}],\"scattercarpet\":[{\"marker\":{\"colorbar\":{\"outlinewidth\":1,\"tickcolor\":\"rgb(36,36,36)\",\"ticks\":\"outside\"}},\"type\":\"scattercarpet\"}],\"scattergeo\":[{\"marker\":{\"colorbar\":{\"outlinewidth\":1,\"tickcolor\":\"rgb(36,36,36)\",\"ticks\":\"outside\"}},\"type\":\"scattergeo\"}],\"scattergl\":[{\"marker\":{\"colorbar\":{\"outlinewidth\":1,\"tickcolor\":\"rgb(36,36,36)\",\"ticks\":\"outside\"}},\"type\":\"scattergl\"}],\"scattermapbox\":[{\"marker\":{\"colorbar\":{\"outlinewidth\":1,\"tickcolor\":\"rgb(36,36,36)\",\"ticks\":\"outside\"}},\"type\":\"scattermapbox\"}],\"scatterpolargl\":[{\"marker\":{\"colorbar\":{\"outlinewidth\":1,\"tickcolor\":\"rgb(36,36,36)\",\"ticks\":\"outside\"}},\"type\":\"scatterpolargl\"}],\"scatterpolar\":[{\"marker\":{\"colorbar\":{\"outlinewidth\":1,\"tickcolor\":\"rgb(36,36,36)\",\"ticks\":\"outside\"}},\"type\":\"scatterpolar\"}],\"scatter\":[{\"fillpattern\":{\"fillmode\":\"overlay\",\"size\":10,\"solidity\":0.2},\"type\":\"scatter\"}],\"scatterternary\":[{\"marker\":{\"colorbar\":{\"outlinewidth\":1,\"tickcolor\":\"rgb(36,36,36)\",\"ticks\":\"outside\"}},\"type\":\"scatterternary\"}],\"surface\":[{\"colorbar\":{\"outlinewidth\":1,\"tickcolor\":\"rgb(36,36,36)\",\"ticks\":\"outside\"},\"colorscale\":[[0.0,\"#440154\"],[0.1111111111111111,\"#482878\"],[0.2222222222222222,\"#3e4989\"],[0.3333333333333333,\"#31688e\"],[0.4444444444444444,\"#26828e\"],[0.5555555555555556,\"#1f9e89\"],[0.6666666666666666,\"#35b779\"],[0.7777777777777778,\"#6ece58\"],[0.8888888888888888,\"#b5de2b\"],[1.0,\"#fde725\"]],\"type\":\"surface\"}],\"table\":[{\"cells\":{\"fill\":{\"color\":\"rgb(237,237,237)\"},\"line\":{\"color\":\"white\"}},\"header\":{\"fill\":{\"color\":\"rgb(217,217,217)\"},\"line\":{\"color\":\"white\"}},\"type\":\"table\"}]},\"layout\":{\"annotationdefaults\":{\"arrowhead\":0,\"arrowwidth\":1},\"autotypenumbers\":\"strict\",\"coloraxis\":{\"colorbar\":{\"outlinewidth\":1,\"tickcolor\":\"rgb(36,36,36)\",\"ticks\":\"outside\"}},\"colorscale\":{\"diverging\":[[0.0,\"rgb(103,0,31)\"],[0.1,\"rgb(178,24,43)\"],[0.2,\"rgb(214,96,77)\"],[0.3,\"rgb(244,165,130)\"],[0.4,\"rgb(253,219,199)\"],[0.5,\"rgb(247,247,247)\"],[0.6,\"rgb(209,229,240)\"],[0.7,\"rgb(146,197,222)\"],[0.8,\"rgb(67,147,195)\"],[0.9,\"rgb(33,102,172)\"],[1.0,\"rgb(5,48,97)\"]],\"sequential\":[[0.0,\"#440154\"],[0.1111111111111111,\"#482878\"],[0.2222222222222222,\"#3e4989\"],[0.3333333333333333,\"#31688e\"],[0.4444444444444444,\"#26828e\"],[0.5555555555555556,\"#1f9e89\"],[0.6666666666666666,\"#35b779\"],[0.7777777777777778,\"#6ece58\"],[0.8888888888888888,\"#b5de2b\"],[1.0,\"#fde725\"]],\"sequentialminus\":[[0.0,\"#440154\"],[0.1111111111111111,\"#482878\"],[0.2222222222222222,\"#3e4989\"],[0.3333333333333333,\"#31688e\"],[0.4444444444444444,\"#26828e\"],[0.5555555555555556,\"#1f9e89\"],[0.6666666666666666,\"#35b779\"],[0.7777777777777778,\"#6ece58\"],[0.8888888888888888,\"#b5de2b\"],[1.0,\"#fde725\"]]},\"colorway\":[\"#1F77B4\",\"#FF7F0E\",\"#2CA02C\",\"#D62728\",\"#9467BD\",\"#8C564B\",\"#E377C2\",\"#7F7F7F\",\"#BCBD22\",\"#17BECF\"],\"font\":{\"color\":\"rgb(36,36,36)\"},\"geo\":{\"bgcolor\":\"white\",\"lakecolor\":\"white\",\"landcolor\":\"white\",\"showlakes\":true,\"showland\":true,\"subunitcolor\":\"white\"},\"hoverlabel\":{\"align\":\"left\"},\"hovermode\":\"closest\",\"mapbox\":{\"style\":\"light\"},\"paper_bgcolor\":\"white\",\"plot_bgcolor\":\"white\",\"polar\":{\"angularaxis\":{\"gridcolor\":\"rgb(232,232,232)\",\"linecolor\":\"rgb(36,36,36)\",\"showgrid\":false,\"showline\":true,\"ticks\":\"outside\"},\"bgcolor\":\"white\",\"radialaxis\":{\"gridcolor\":\"rgb(232,232,232)\",\"linecolor\":\"rgb(36,36,36)\",\"showgrid\":false,\"showline\":true,\"ticks\":\"outside\"}},\"scene\":{\"xaxis\":{\"backgroundcolor\":\"white\",\"gridcolor\":\"rgb(232,232,232)\",\"gridwidth\":2,\"linecolor\":\"rgb(36,36,36)\",\"showbackground\":true,\"showgrid\":false,\"showline\":true,\"ticks\":\"outside\",\"zeroline\":false,\"zerolinecolor\":\"rgb(36,36,36)\"},\"yaxis\":{\"backgroundcolor\":\"white\",\"gridcolor\":\"rgb(232,232,232)\",\"gridwidth\":2,\"linecolor\":\"rgb(36,36,36)\",\"showbackground\":true,\"showgrid\":false,\"showline\":true,\"ticks\":\"outside\",\"zeroline\":false,\"zerolinecolor\":\"rgb(36,36,36)\"},\"zaxis\":{\"backgroundcolor\":\"white\",\"gridcolor\":\"rgb(232,232,232)\",\"gridwidth\":2,\"linecolor\":\"rgb(36,36,36)\",\"showbackground\":true,\"showgrid\":false,\"showline\":true,\"ticks\":\"outside\",\"zeroline\":false,\"zerolinecolor\":\"rgb(36,36,36)\"}},\"shapedefaults\":{\"fillcolor\":\"black\",\"line\":{\"width\":0},\"opacity\":0.3},\"ternary\":{\"aaxis\":{\"gridcolor\":\"rgb(232,232,232)\",\"linecolor\":\"rgb(36,36,36)\",\"showgrid\":false,\"showline\":true,\"ticks\":\"outside\"},\"baxis\":{\"gridcolor\":\"rgb(232,232,232)\",\"linecolor\":\"rgb(36,36,36)\",\"showgrid\":false,\"showline\":true,\"ticks\":\"outside\"},\"bgcolor\":\"white\",\"caxis\":{\"gridcolor\":\"rgb(232,232,232)\",\"linecolor\":\"rgb(36,36,36)\",\"showgrid\":false,\"showline\":true,\"ticks\":\"outside\"}},\"title\":{\"x\":0.05},\"xaxis\":{\"automargin\":true,\"gridcolor\":\"rgb(232,232,232)\",\"linecolor\":\"rgb(36,36,36)\",\"showgrid\":false,\"showline\":true,\"ticks\":\"outside\",\"title\":{\"standoff\":15},\"zeroline\":false,\"zerolinecolor\":\"rgb(36,36,36)\"},\"yaxis\":{\"automargin\":true,\"gridcolor\":\"rgb(232,232,232)\",\"linecolor\":\"rgb(36,36,36)\",\"showgrid\":false,\"showline\":true,\"ticks\":\"outside\",\"title\":{\"standoff\":15},\"zeroline\":false,\"zerolinecolor\":\"rgb(36,36,36)\"}}},\"xaxis\":{\"anchor\":\"y\",\"domain\":[0.0,0.2425],\"title\":{\"text\":\"efSearch\"},\"linecolor\":\"darkgrey\"},\"yaxis\":{\"anchor\":\"x\",\"domain\":[0.0,1.0],\"title\":{\"text\":\"search time (ms/query)\"},\"linecolor\":\"darkgrey\",\"showgrid\":true,\"gridwidth\":1,\"gridcolor\":\"LightGrey\",\"griddash\":\"dot\",\"ticks\":\"\"},\"xaxis2\":{\"anchor\":\"y2\",\"domain\":[0.2525,0.495],\"matches\":\"x\",\"title\":{\"text\":\"efSearch\"},\"linecolor\":\"darkgrey\"},\"yaxis2\":{\"anchor\":\"x2\",\"domain\":[0.0,1.0],\"matches\":\"y\",\"showticklabels\":false,\"linecolor\":\"darkgrey\",\"showgrid\":true,\"gridwidth\":1,\"gridcolor\":\"LightGrey\",\"griddash\":\"dot\",\"ticks\":\"\"},\"xaxis3\":{\"anchor\":\"y3\",\"domain\":[0.505,0.7475],\"matches\":\"x\",\"title\":{\"text\":\"efSearch\"},\"linecolor\":\"darkgrey\"},\"yaxis3\":{\"anchor\":\"x3\",\"domain\":[0.0,1.0],\"matches\":\"y\",\"showticklabels\":false,\"linecolor\":\"darkgrey\",\"showgrid\":true,\"gridwidth\":1,\"gridcolor\":\"LightGrey\",\"griddash\":\"dot\",\"ticks\":\"\"},\"xaxis4\":{\"anchor\":\"y4\",\"domain\":[0.7575000000000001,1.0],\"matches\":\"x\",\"title\":{\"text\":\"efSearch\"},\"linecolor\":\"darkgrey\"},\"yaxis4\":{\"anchor\":\"x4\",\"domain\":[0.0,1.0],\"matches\":\"y\",\"showticklabels\":false,\"linecolor\":\"darkgrey\",\"showgrid\":true,\"gridwidth\":1,\"gridcolor\":\"LightGrey\",\"griddash\":\"dot\",\"ticks\":\"\"},\"annotations\":[{\"font\":{},\"showarrow\":false,\"text\":\"efConstruction=4\",\"x\":0.12125,\"xanchor\":\"center\",\"xref\":\"paper\",\"y\":1.0,\"yanchor\":\"bottom\",\"yref\":\"paper\"},{\"font\":{},\"showarrow\":false,\"text\":\"efConstruction=16\",\"x\":0.37375,\"xanchor\":\"center\",\"xref\":\"paper\",\"y\":1.0,\"yanchor\":\"bottom\",\"yref\":\"paper\"},{\"font\":{},\"showarrow\":false,\"text\":\"efConstruction=40\",\"x\":0.62625,\"xanchor\":\"center\",\"xref\":\"paper\",\"y\":1.0,\"yanchor\":\"bottom\",\"yref\":\"paper\"},{\"font\":{},\"showarrow\":false,\"text\":\"efConstruction=76\",\"x\":0.87875,\"xanchor\":\"center\",\"xref\":\"paper\",\"y\":1.0,\"yanchor\":\"bottom\",\"yref\":\"paper\"}],\"legend\":{\"title\":{\"text\":\"M\"},\"tracegroupgap\":0,\"yanchor\":\"top\",\"y\":0.99,\"xanchor\":\"left\",\"x\":0.03,\"borderwidth\":1,\"traceorder\":\"reversed\"},\"margin\":{\"t\":60},\"height\":390,\"width\":750},                        {\"responsive\": true}                    ).then(function(){\n",
       "                            \n",
       "var gd = document.getElementById('80b8e8e4-8130-481f-b419-e66bd11b83b3');\n",
       "var x = new MutationObserver(function (mutations, observer) {{\n",
       "        var display = window.getComputedStyle(gd).display;\n",
       "        if (!display || display === 'none') {{\n",
       "            console.log([gd, 'removed!']);\n",
       "            Plotly.purge(gd);\n",
       "            observer.disconnect();\n",
       "        }}\n",
       "}});\n",
       "\n",
       "// Listen for the removal of the full notebook cells\n",
       "var notebookContainer = gd.closest('#notebook-container');\n",
       "if (notebookContainer) {{\n",
       "    x.observe(notebookContainer, {childList: true});\n",
       "}}\n",
       "\n",
       "// Listen for the clearing of the current output cell\n",
       "var outputEl = gd.closest('.output');\n",
       "if (outputEl) {{\n",
       "    x.observe(outputEl, {childList: true});\n",
       "}}\n",
       "\n",
       "                        })                };                });            </script>        </div>"
      ]
     },
     "metadata": {},
     "output_type": "display_data"
    }
   ],
   "source": [
    "fig = px.line(dfHNSW, x=\"efSearch\", y=\"search_time\", color=\"M\", height=390, width=750, markers=True,\n",
    "              template=\"simple_white\", color_discrete_sequence=colors_custom, #color_discrete_sequence=px.colors.qualitative.D3,  \n",
    "              facet_col=\"efConstruction\", facet_col_spacing=0.01,\n",
    "              labels=dict(search_time=\"search time (ms/query)\",)\n",
    "             )\n",
    "fig.update_layout(legend=dict(yanchor=\"top\", y=0.99, xanchor=\"left\", x=0.03, borderwidth=1, traceorder=\"reversed\")) # orientation=\"h\"\n",
    "fig.update_xaxes(linecolor='darkgrey')\n",
    "fig.update_yaxes(linecolor='darkgrey', showgrid=True, gridwidth=1, gridcolor='LightGrey', griddash=\"dot\", ticks=\"\")\n",
    "fig.show()\n",
    "fig.write_html(\"Hflat_search_time_efSearch_efConst.html\")"
   ]
  },
  {
   "cell_type": "code",
   "execution_count": 44,
   "id": "ca63c35d",
   "metadata": {
    "execution": {
     "iopub.execute_input": "2022-08-24T06:42:21.822176Z",
     "iopub.status.busy": "2022-08-24T06:42:21.821784Z",
     "iopub.status.idle": "2022-08-24T06:42:22.035343Z",
     "shell.execute_reply": "2022-08-24T06:42:22.034404Z"
    },
    "papermill": {
     "duration": 0.89948,
     "end_time": "2022-08-24T06:42:22.037504",
     "exception": false,
     "start_time": "2022-08-24T06:42:21.138024",
     "status": "completed"
    },
    "tags": []
   },
   "outputs": [
    {
     "data": {
      "text/html": [
       "<div>                            <div id=\"d2e89b81-ef59-4ef9-9fe5-38be9721facb\" class=\"plotly-graph-div\" style=\"height:390px; width:750px;\"></div>            <script type=\"text/javascript\">                require([\"plotly\"], function(Plotly) {                    window.PLOTLYENV=window.PLOTLYENV || {};                                    if (document.getElementById(\"d2e89b81-ef59-4ef9-9fe5-38be9721facb\")) {                    Plotly.newPlot(                        \"d2e89b81-ef59-4ef9-9fe5-38be9721facb\",                        [{\"hovertemplate\":\"M=4<br>efSearch=4<br>efConstruction=%{x}<br>search time (ms/query)=%{y}<extra></extra>\",\"legendgroup\":\"4\",\"line\":{\"color\":\"#EECA3B\",\"dash\":\"solid\"},\"marker\":{\"symbol\":\"circle\"},\"mode\":\"markers+lines\",\"name\":\"4\",\"orientation\":\"v\",\"showlegend\":true,\"x\":[4,16,40,76],\"xaxis\":\"x\",\"y\":[0.11185693740844727,0.05586051940917969,0.02127981185913086,0.0682826042175293],\"yaxis\":\"y\",\"type\":\"scatter\"},{\"hovertemplate\":\"M=4<br>efSearch=16<br>efConstruction=%{x}<br>search time (ms/query)=%{y}<extra></extra>\",\"legendgroup\":\"4\",\"line\":{\"color\":\"#EECA3B\",\"dash\":\"solid\"},\"marker\":{\"symbol\":\"circle\"},\"mode\":\"markers+lines\",\"name\":\"4\",\"orientation\":\"v\",\"showlegend\":false,\"x\":[4,16,40,76],\"xaxis\":\"x2\",\"y\":[0.07790207862854004,0.03347301483154297,0.04080629348754883,0.04142284393310547],\"yaxis\":\"y2\",\"type\":\"scatter\"},{\"hovertemplate\":\"M=4<br>efSearch=40<br>efConstruction=%{x}<br>search time (ms/query)=%{y}<extra></extra>\",\"legendgroup\":\"4\",\"line\":{\"color\":\"#EECA3B\",\"dash\":\"solid\"},\"marker\":{\"symbol\":\"circle\"},\"mode\":\"markers+lines\",\"name\":\"4\",\"orientation\":\"v\",\"showlegend\":false,\"x\":[4,16,40,76],\"xaxis\":\"x3\",\"y\":[0.12146520614624023,0.07358002662658691,0.07532739639282227,0.07770061492919922],\"yaxis\":\"y3\",\"type\":\"scatter\"},{\"hovertemplate\":\"M=4<br>efSearch=76<br>efConstruction=%{x}<br>search time (ms/query)=%{y}<extra></extra>\",\"legendgroup\":\"4\",\"line\":{\"color\":\"#EECA3B\",\"dash\":\"solid\"},\"marker\":{\"symbol\":\"circle\"},\"mode\":\"markers+lines\",\"name\":\"4\",\"orientation\":\"v\",\"showlegend\":false,\"x\":[4,16,40,76],\"xaxis\":\"x4\",\"y\":[0.16416025161743164,0.22960305213928223,0.13627386093139648,0.14000248908996582],\"yaxis\":\"y4\",\"type\":\"scatter\"},{\"hovertemplate\":\"M=16<br>efSearch=4<br>efConstruction=%{x}<br>search time (ms/query)=%{y}<extra></extra>\",\"legendgroup\":\"16\",\"line\":{\"color\":\"#FF9900\",\"dash\":\"solid\"},\"marker\":{\"symbol\":\"circle\"},\"mode\":\"markers+lines\",\"name\":\"16\",\"orientation\":\"v\",\"showlegend\":true,\"x\":[4,16,40,76],\"xaxis\":\"x\",\"y\":[0.025166034698486328,0.04731893539428711,0.07292890548706055,0.04443764686584473],\"yaxis\":\"y\",\"type\":\"scatter\"},{\"hovertemplate\":\"M=16<br>efSearch=16<br>efConstruction=%{x}<br>search time (ms/query)=%{y}<extra></extra>\",\"legendgroup\":\"16\",\"line\":{\"color\":\"#FF9900\",\"dash\":\"solid\"},\"marker\":{\"symbol\":\"circle\"},\"mode\":\"markers+lines\",\"name\":\"16\",\"orientation\":\"v\",\"showlegend\":false,\"x\":[4,16,40,76],\"xaxis\":\"x2\",\"y\":[0.038710832595825195,0.08099675178527832,0.14293575286865234,0.08853888511657715],\"yaxis\":\"y2\",\"type\":\"scatter\"},{\"hovertemplate\":\"M=16<br>efSearch=40<br>efConstruction=%{x}<br>search time (ms/query)=%{y}<extra></extra>\",\"legendgroup\":\"16\",\"line\":{\"color\":\"#FF9900\",\"dash\":\"solid\"},\"marker\":{\"symbol\":\"circle\"},\"mode\":\"markers+lines\",\"name\":\"16\",\"orientation\":\"v\",\"showlegend\":false,\"x\":[4,16,40,76],\"xaxis\":\"x3\",\"y\":[0.0749969482421875,0.1671006679534912,0.24015092849731445,0.17973709106445312],\"yaxis\":\"y3\",\"type\":\"scatter\"},{\"hovertemplate\":\"M=16<br>efSearch=76<br>efConstruction=%{x}<br>search time (ms/query)=%{y}<extra></extra>\",\"legendgroup\":\"16\",\"line\":{\"color\":\"#FF9900\",\"dash\":\"solid\"},\"marker\":{\"symbol\":\"circle\"},\"mode\":\"markers+lines\",\"name\":\"16\",\"orientation\":\"v\",\"showlegend\":false,\"x\":[4,16,40,76],\"xaxis\":\"x4\",\"y\":[0.13506793975830078,0.29860758781433105,0.35860228538513184,0.30910468101501465],\"yaxis\":\"y4\",\"type\":\"scatter\"},{\"hovertemplate\":\"M=32<br>efSearch=4<br>efConstruction=%{x}<br>search time (ms/query)=%{y}<extra></extra>\",\"legendgroup\":\"32\",\"line\":{\"color\":\"#DC3912\",\"dash\":\"solid\"},\"marker\":{\"symbol\":\"circle\"},\"mode\":\"markers+lines\",\"name\":\"32\",\"orientation\":\"v\",\"showlegend\":true,\"x\":[4,16,40,76],\"xaxis\":\"x\",\"y\":[0.027608871459960938,0.05575084686279297,0.12500262260437012,0.0727546215057373],\"yaxis\":\"y\",\"type\":\"scatter\"},{\"hovertemplate\":\"M=32<br>efSearch=16<br>efConstruction=%{x}<br>search time (ms/query)=%{y}<extra></extra>\",\"legendgroup\":\"32\",\"line\":{\"color\":\"#DC3912\",\"dash\":\"solid\"},\"marker\":{\"symbol\":\"circle\"},\"mode\":\"markers+lines\",\"name\":\"32\",\"orientation\":\"v\",\"showlegend\":false,\"x\":[4,16,40,76],\"xaxis\":\"x2\",\"y\":[0.04836916923522949,0.10963678359985352,0.2442944049835205,0.18690776824951172],\"yaxis\":\"y2\",\"type\":\"scatter\"},{\"hovertemplate\":\"M=32<br>efSearch=40<br>efConstruction=%{x}<br>search time (ms/query)=%{y}<extra></extra>\",\"legendgroup\":\"32\",\"line\":{\"color\":\"#DC3912\",\"dash\":\"solid\"},\"marker\":{\"symbol\":\"circle\"},\"mode\":\"markers+lines\",\"name\":\"32\",\"orientation\":\"v\",\"showlegend\":false,\"x\":[4,16,40,76],\"xaxis\":\"x3\",\"y\":[0.08959436416625977,0.22312116622924805,0.2931351661682129,0.24407386779785156],\"yaxis\":\"y3\",\"type\":\"scatter\"},{\"hovertemplate\":\"M=32<br>efSearch=76<br>efConstruction=%{x}<br>search time (ms/query)=%{y}<extra></extra>\",\"legendgroup\":\"32\",\"line\":{\"color\":\"#DC3912\",\"dash\":\"solid\"},\"marker\":{\"symbol\":\"circle\"},\"mode\":\"markers+lines\",\"name\":\"32\",\"orientation\":\"v\",\"showlegend\":false,\"x\":[4,16,40,76],\"xaxis\":\"x4\",\"y\":[0.15450596809387207,0.35982537269592285,0.48569440841674805,0.4022538661956787],\"yaxis\":\"y4\",\"type\":\"scatter\"},{\"hovertemplate\":\"M=64<br>efSearch=4<br>efConstruction=%{x}<br>search time (ms/query)=%{y}<extra></extra>\",\"legendgroup\":\"64\",\"line\":{\"color\":\"#990099\",\"dash\":\"solid\"},\"marker\":{\"symbol\":\"circle\"},\"mode\":\"markers+lines\",\"name\":\"64\",\"orientation\":\"v\",\"showlegend\":true,\"x\":[4,16,40,76],\"xaxis\":\"x\",\"y\":[0.03230619430541992,0.06145119667053223,0.10021829605102539,0.12536144256591797],\"yaxis\":\"y\",\"type\":\"scatter\"},{\"hovertemplate\":\"M=64<br>efSearch=16<br>efConstruction=%{x}<br>search time (ms/query)=%{y}<extra></extra>\",\"legendgroup\":\"64\",\"line\":{\"color\":\"#990099\",\"dash\":\"solid\"},\"marker\":{\"symbol\":\"circle\"},\"mode\":\"markers+lines\",\"name\":\"64\",\"orientation\":\"v\",\"showlegend\":false,\"x\":[4,16,40,76],\"xaxis\":\"x2\",\"y\":[0.059571027755737305,0.12787914276123047,0.27878665924072266,0.1896679401397705],\"yaxis\":\"y2\",\"type\":\"scatter\"},{\"hovertemplate\":\"M=64<br>efSearch=40<br>efConstruction=%{x}<br>search time (ms/query)=%{y}<extra></extra>\",\"legendgroup\":\"64\",\"line\":{\"color\":\"#990099\",\"dash\":\"solid\"},\"marker\":{\"symbol\":\"circle\"},\"mode\":\"markers+lines\",\"name\":\"64\",\"orientation\":\"v\",\"showlegend\":false,\"x\":[4,16,40,76],\"xaxis\":\"x3\",\"y\":[0.12066841125488281,0.23174428939819336,0.4650840759277344,0.3795168399810791],\"yaxis\":\"y3\",\"type\":\"scatter\"},{\"hovertemplate\":\"M=64<br>efSearch=76<br>efConstruction=%{x}<br>search time (ms/query)=%{y}<extra></extra>\",\"legendgroup\":\"64\",\"line\":{\"color\":\"#990099\",\"dash\":\"solid\"},\"marker\":{\"symbol\":\"circle\"},\"mode\":\"markers+lines\",\"name\":\"64\",\"orientation\":\"v\",\"showlegend\":false,\"x\":[4,16,40,76],\"xaxis\":\"x4\",\"y\":[0.15694952011108398,0.3935253620147705,0.5619399547576904,0.6427271366119385],\"yaxis\":\"y4\",\"type\":\"scatter\"}],                        {\"template\":{\"data\":{\"barpolar\":[{\"marker\":{\"line\":{\"color\":\"white\",\"width\":0.5},\"pattern\":{\"fillmode\":\"overlay\",\"size\":10,\"solidity\":0.2}},\"type\":\"barpolar\"}],\"bar\":[{\"error_x\":{\"color\":\"rgb(36,36,36)\"},\"error_y\":{\"color\":\"rgb(36,36,36)\"},\"marker\":{\"line\":{\"color\":\"white\",\"width\":0.5},\"pattern\":{\"fillmode\":\"overlay\",\"size\":10,\"solidity\":0.2}},\"type\":\"bar\"}],\"carpet\":[{\"aaxis\":{\"endlinecolor\":\"rgb(36,36,36)\",\"gridcolor\":\"white\",\"linecolor\":\"white\",\"minorgridcolor\":\"white\",\"startlinecolor\":\"rgb(36,36,36)\"},\"baxis\":{\"endlinecolor\":\"rgb(36,36,36)\",\"gridcolor\":\"white\",\"linecolor\":\"white\",\"minorgridcolor\":\"white\",\"startlinecolor\":\"rgb(36,36,36)\"},\"type\":\"carpet\"}],\"choropleth\":[{\"colorbar\":{\"outlinewidth\":1,\"tickcolor\":\"rgb(36,36,36)\",\"ticks\":\"outside\"},\"type\":\"choropleth\"}],\"contourcarpet\":[{\"colorbar\":{\"outlinewidth\":1,\"tickcolor\":\"rgb(36,36,36)\",\"ticks\":\"outside\"},\"type\":\"contourcarpet\"}],\"contour\":[{\"colorbar\":{\"outlinewidth\":1,\"tickcolor\":\"rgb(36,36,36)\",\"ticks\":\"outside\"},\"colorscale\":[[0.0,\"#440154\"],[0.1111111111111111,\"#482878\"],[0.2222222222222222,\"#3e4989\"],[0.3333333333333333,\"#31688e\"],[0.4444444444444444,\"#26828e\"],[0.5555555555555556,\"#1f9e89\"],[0.6666666666666666,\"#35b779\"],[0.7777777777777778,\"#6ece58\"],[0.8888888888888888,\"#b5de2b\"],[1.0,\"#fde725\"]],\"type\":\"contour\"}],\"heatmapgl\":[{\"colorbar\":{\"outlinewidth\":1,\"tickcolor\":\"rgb(36,36,36)\",\"ticks\":\"outside\"},\"colorscale\":[[0.0,\"#440154\"],[0.1111111111111111,\"#482878\"],[0.2222222222222222,\"#3e4989\"],[0.3333333333333333,\"#31688e\"],[0.4444444444444444,\"#26828e\"],[0.5555555555555556,\"#1f9e89\"],[0.6666666666666666,\"#35b779\"],[0.7777777777777778,\"#6ece58\"],[0.8888888888888888,\"#b5de2b\"],[1.0,\"#fde725\"]],\"type\":\"heatmapgl\"}],\"heatmap\":[{\"colorbar\":{\"outlinewidth\":1,\"tickcolor\":\"rgb(36,36,36)\",\"ticks\":\"outside\"},\"colorscale\":[[0.0,\"#440154\"],[0.1111111111111111,\"#482878\"],[0.2222222222222222,\"#3e4989\"],[0.3333333333333333,\"#31688e\"],[0.4444444444444444,\"#26828e\"],[0.5555555555555556,\"#1f9e89\"],[0.6666666666666666,\"#35b779\"],[0.7777777777777778,\"#6ece58\"],[0.8888888888888888,\"#b5de2b\"],[1.0,\"#fde725\"]],\"type\":\"heatmap\"}],\"histogram2dcontour\":[{\"colorbar\":{\"outlinewidth\":1,\"tickcolor\":\"rgb(36,36,36)\",\"ticks\":\"outside\"},\"colorscale\":[[0.0,\"#440154\"],[0.1111111111111111,\"#482878\"],[0.2222222222222222,\"#3e4989\"],[0.3333333333333333,\"#31688e\"],[0.4444444444444444,\"#26828e\"],[0.5555555555555556,\"#1f9e89\"],[0.6666666666666666,\"#35b779\"],[0.7777777777777778,\"#6ece58\"],[0.8888888888888888,\"#b5de2b\"],[1.0,\"#fde725\"]],\"type\":\"histogram2dcontour\"}],\"histogram2d\":[{\"colorbar\":{\"outlinewidth\":1,\"tickcolor\":\"rgb(36,36,36)\",\"ticks\":\"outside\"},\"colorscale\":[[0.0,\"#440154\"],[0.1111111111111111,\"#482878\"],[0.2222222222222222,\"#3e4989\"],[0.3333333333333333,\"#31688e\"],[0.4444444444444444,\"#26828e\"],[0.5555555555555556,\"#1f9e89\"],[0.6666666666666666,\"#35b779\"],[0.7777777777777778,\"#6ece58\"],[0.8888888888888888,\"#b5de2b\"],[1.0,\"#fde725\"]],\"type\":\"histogram2d\"}],\"histogram\":[{\"marker\":{\"line\":{\"color\":\"white\",\"width\":0.6}},\"type\":\"histogram\"}],\"mesh3d\":[{\"colorbar\":{\"outlinewidth\":1,\"tickcolor\":\"rgb(36,36,36)\",\"ticks\":\"outside\"},\"type\":\"mesh3d\"}],\"parcoords\":[{\"line\":{\"colorbar\":{\"outlinewidth\":1,\"tickcolor\":\"rgb(36,36,36)\",\"ticks\":\"outside\"}},\"type\":\"parcoords\"}],\"pie\":[{\"automargin\":true,\"type\":\"pie\"}],\"scatter3d\":[{\"line\":{\"colorbar\":{\"outlinewidth\":1,\"tickcolor\":\"rgb(36,36,36)\",\"ticks\":\"outside\"}},\"marker\":{\"colorbar\":{\"outlinewidth\":1,\"tickcolor\":\"rgb(36,36,36)\",\"ticks\":\"outside\"}},\"type\":\"scatter3d\"}],\"scattercarpet\":[{\"marker\":{\"colorbar\":{\"outlinewidth\":1,\"tickcolor\":\"rgb(36,36,36)\",\"ticks\":\"outside\"}},\"type\":\"scattercarpet\"}],\"scattergeo\":[{\"marker\":{\"colorbar\":{\"outlinewidth\":1,\"tickcolor\":\"rgb(36,36,36)\",\"ticks\":\"outside\"}},\"type\":\"scattergeo\"}],\"scattergl\":[{\"marker\":{\"colorbar\":{\"outlinewidth\":1,\"tickcolor\":\"rgb(36,36,36)\",\"ticks\":\"outside\"}},\"type\":\"scattergl\"}],\"scattermapbox\":[{\"marker\":{\"colorbar\":{\"outlinewidth\":1,\"tickcolor\":\"rgb(36,36,36)\",\"ticks\":\"outside\"}},\"type\":\"scattermapbox\"}],\"scatterpolargl\":[{\"marker\":{\"colorbar\":{\"outlinewidth\":1,\"tickcolor\":\"rgb(36,36,36)\",\"ticks\":\"outside\"}},\"type\":\"scatterpolargl\"}],\"scatterpolar\":[{\"marker\":{\"colorbar\":{\"outlinewidth\":1,\"tickcolor\":\"rgb(36,36,36)\",\"ticks\":\"outside\"}},\"type\":\"scatterpolar\"}],\"scatter\":[{\"fillpattern\":{\"fillmode\":\"overlay\",\"size\":10,\"solidity\":0.2},\"type\":\"scatter\"}],\"scatterternary\":[{\"marker\":{\"colorbar\":{\"outlinewidth\":1,\"tickcolor\":\"rgb(36,36,36)\",\"ticks\":\"outside\"}},\"type\":\"scatterternary\"}],\"surface\":[{\"colorbar\":{\"outlinewidth\":1,\"tickcolor\":\"rgb(36,36,36)\",\"ticks\":\"outside\"},\"colorscale\":[[0.0,\"#440154\"],[0.1111111111111111,\"#482878\"],[0.2222222222222222,\"#3e4989\"],[0.3333333333333333,\"#31688e\"],[0.4444444444444444,\"#26828e\"],[0.5555555555555556,\"#1f9e89\"],[0.6666666666666666,\"#35b779\"],[0.7777777777777778,\"#6ece58\"],[0.8888888888888888,\"#b5de2b\"],[1.0,\"#fde725\"]],\"type\":\"surface\"}],\"table\":[{\"cells\":{\"fill\":{\"color\":\"rgb(237,237,237)\"},\"line\":{\"color\":\"white\"}},\"header\":{\"fill\":{\"color\":\"rgb(217,217,217)\"},\"line\":{\"color\":\"white\"}},\"type\":\"table\"}]},\"layout\":{\"annotationdefaults\":{\"arrowhead\":0,\"arrowwidth\":1},\"autotypenumbers\":\"strict\",\"coloraxis\":{\"colorbar\":{\"outlinewidth\":1,\"tickcolor\":\"rgb(36,36,36)\",\"ticks\":\"outside\"}},\"colorscale\":{\"diverging\":[[0.0,\"rgb(103,0,31)\"],[0.1,\"rgb(178,24,43)\"],[0.2,\"rgb(214,96,77)\"],[0.3,\"rgb(244,165,130)\"],[0.4,\"rgb(253,219,199)\"],[0.5,\"rgb(247,247,247)\"],[0.6,\"rgb(209,229,240)\"],[0.7,\"rgb(146,197,222)\"],[0.8,\"rgb(67,147,195)\"],[0.9,\"rgb(33,102,172)\"],[1.0,\"rgb(5,48,97)\"]],\"sequential\":[[0.0,\"#440154\"],[0.1111111111111111,\"#482878\"],[0.2222222222222222,\"#3e4989\"],[0.3333333333333333,\"#31688e\"],[0.4444444444444444,\"#26828e\"],[0.5555555555555556,\"#1f9e89\"],[0.6666666666666666,\"#35b779\"],[0.7777777777777778,\"#6ece58\"],[0.8888888888888888,\"#b5de2b\"],[1.0,\"#fde725\"]],\"sequentialminus\":[[0.0,\"#440154\"],[0.1111111111111111,\"#482878\"],[0.2222222222222222,\"#3e4989\"],[0.3333333333333333,\"#31688e\"],[0.4444444444444444,\"#26828e\"],[0.5555555555555556,\"#1f9e89\"],[0.6666666666666666,\"#35b779\"],[0.7777777777777778,\"#6ece58\"],[0.8888888888888888,\"#b5de2b\"],[1.0,\"#fde725\"]]},\"colorway\":[\"#1F77B4\",\"#FF7F0E\",\"#2CA02C\",\"#D62728\",\"#9467BD\",\"#8C564B\",\"#E377C2\",\"#7F7F7F\",\"#BCBD22\",\"#17BECF\"],\"font\":{\"color\":\"rgb(36,36,36)\"},\"geo\":{\"bgcolor\":\"white\",\"lakecolor\":\"white\",\"landcolor\":\"white\",\"showlakes\":true,\"showland\":true,\"subunitcolor\":\"white\"},\"hoverlabel\":{\"align\":\"left\"},\"hovermode\":\"closest\",\"mapbox\":{\"style\":\"light\"},\"paper_bgcolor\":\"white\",\"plot_bgcolor\":\"white\",\"polar\":{\"angularaxis\":{\"gridcolor\":\"rgb(232,232,232)\",\"linecolor\":\"rgb(36,36,36)\",\"showgrid\":false,\"showline\":true,\"ticks\":\"outside\"},\"bgcolor\":\"white\",\"radialaxis\":{\"gridcolor\":\"rgb(232,232,232)\",\"linecolor\":\"rgb(36,36,36)\",\"showgrid\":false,\"showline\":true,\"ticks\":\"outside\"}},\"scene\":{\"xaxis\":{\"backgroundcolor\":\"white\",\"gridcolor\":\"rgb(232,232,232)\",\"gridwidth\":2,\"linecolor\":\"rgb(36,36,36)\",\"showbackground\":true,\"showgrid\":false,\"showline\":true,\"ticks\":\"outside\",\"zeroline\":false,\"zerolinecolor\":\"rgb(36,36,36)\"},\"yaxis\":{\"backgroundcolor\":\"white\",\"gridcolor\":\"rgb(232,232,232)\",\"gridwidth\":2,\"linecolor\":\"rgb(36,36,36)\",\"showbackground\":true,\"showgrid\":false,\"showline\":true,\"ticks\":\"outside\",\"zeroline\":false,\"zerolinecolor\":\"rgb(36,36,36)\"},\"zaxis\":{\"backgroundcolor\":\"white\",\"gridcolor\":\"rgb(232,232,232)\",\"gridwidth\":2,\"linecolor\":\"rgb(36,36,36)\",\"showbackground\":true,\"showgrid\":false,\"showline\":true,\"ticks\":\"outside\",\"zeroline\":false,\"zerolinecolor\":\"rgb(36,36,36)\"}},\"shapedefaults\":{\"fillcolor\":\"black\",\"line\":{\"width\":0},\"opacity\":0.3},\"ternary\":{\"aaxis\":{\"gridcolor\":\"rgb(232,232,232)\",\"linecolor\":\"rgb(36,36,36)\",\"showgrid\":false,\"showline\":true,\"ticks\":\"outside\"},\"baxis\":{\"gridcolor\":\"rgb(232,232,232)\",\"linecolor\":\"rgb(36,36,36)\",\"showgrid\":false,\"showline\":true,\"ticks\":\"outside\"},\"bgcolor\":\"white\",\"caxis\":{\"gridcolor\":\"rgb(232,232,232)\",\"linecolor\":\"rgb(36,36,36)\",\"showgrid\":false,\"showline\":true,\"ticks\":\"outside\"}},\"title\":{\"x\":0.05},\"xaxis\":{\"automargin\":true,\"gridcolor\":\"rgb(232,232,232)\",\"linecolor\":\"rgb(36,36,36)\",\"showgrid\":false,\"showline\":true,\"ticks\":\"outside\",\"title\":{\"standoff\":15},\"zeroline\":false,\"zerolinecolor\":\"rgb(36,36,36)\"},\"yaxis\":{\"automargin\":true,\"gridcolor\":\"rgb(232,232,232)\",\"linecolor\":\"rgb(36,36,36)\",\"showgrid\":false,\"showline\":true,\"ticks\":\"outside\",\"title\":{\"standoff\":15},\"zeroline\":false,\"zerolinecolor\":\"rgb(36,36,36)\"}}},\"xaxis\":{\"anchor\":\"y\",\"domain\":[0.0,0.2425],\"title\":{\"text\":\"efConstruction\"},\"linecolor\":\"darkgrey\"},\"yaxis\":{\"anchor\":\"x\",\"domain\":[0.0,1.0],\"title\":{\"text\":\"search time (ms/query)\"},\"linecolor\":\"darkgrey\",\"showgrid\":true,\"gridwidth\":1,\"gridcolor\":\"LightGrey\",\"griddash\":\"dot\",\"ticks\":\"\"},\"xaxis2\":{\"anchor\":\"y2\",\"domain\":[0.2525,0.495],\"matches\":\"x\",\"title\":{\"text\":\"efConstruction\"},\"linecolor\":\"darkgrey\"},\"yaxis2\":{\"anchor\":\"x2\",\"domain\":[0.0,1.0],\"matches\":\"y\",\"showticklabels\":false,\"linecolor\":\"darkgrey\",\"showgrid\":true,\"gridwidth\":1,\"gridcolor\":\"LightGrey\",\"griddash\":\"dot\",\"ticks\":\"\"},\"xaxis3\":{\"anchor\":\"y3\",\"domain\":[0.505,0.7475],\"matches\":\"x\",\"title\":{\"text\":\"efConstruction\"},\"linecolor\":\"darkgrey\"},\"yaxis3\":{\"anchor\":\"x3\",\"domain\":[0.0,1.0],\"matches\":\"y\",\"showticklabels\":false,\"linecolor\":\"darkgrey\",\"showgrid\":true,\"gridwidth\":1,\"gridcolor\":\"LightGrey\",\"griddash\":\"dot\",\"ticks\":\"\"},\"xaxis4\":{\"anchor\":\"y4\",\"domain\":[0.7575000000000001,1.0],\"matches\":\"x\",\"title\":{\"text\":\"efConstruction\"},\"linecolor\":\"darkgrey\"},\"yaxis4\":{\"anchor\":\"x4\",\"domain\":[0.0,1.0],\"matches\":\"y\",\"showticklabels\":false,\"linecolor\":\"darkgrey\",\"showgrid\":true,\"gridwidth\":1,\"gridcolor\":\"LightGrey\",\"griddash\":\"dot\",\"ticks\":\"\"},\"annotations\":[{\"font\":{},\"showarrow\":false,\"text\":\"efSearch=4\",\"x\":0.12125,\"xanchor\":\"center\",\"xref\":\"paper\",\"y\":1.0,\"yanchor\":\"bottom\",\"yref\":\"paper\"},{\"font\":{},\"showarrow\":false,\"text\":\"efSearch=16\",\"x\":0.37375,\"xanchor\":\"center\",\"xref\":\"paper\",\"y\":1.0,\"yanchor\":\"bottom\",\"yref\":\"paper\"},{\"font\":{},\"showarrow\":false,\"text\":\"efSearch=40\",\"x\":0.62625,\"xanchor\":\"center\",\"xref\":\"paper\",\"y\":1.0,\"yanchor\":\"bottom\",\"yref\":\"paper\"},{\"font\":{},\"showarrow\":false,\"text\":\"efSearch=76\",\"x\":0.87875,\"xanchor\":\"center\",\"xref\":\"paper\",\"y\":1.0,\"yanchor\":\"bottom\",\"yref\":\"paper\"}],\"legend\":{\"title\":{\"text\":\"M\"},\"tracegroupgap\":0,\"yanchor\":\"top\",\"y\":0.99,\"xanchor\":\"left\",\"x\":0.03,\"borderwidth\":1,\"traceorder\":\"reversed\"},\"margin\":{\"t\":60},\"height\":390,\"width\":750},                        {\"responsive\": true}                    ).then(function(){\n",
       "                            \n",
       "var gd = document.getElementById('d2e89b81-ef59-4ef9-9fe5-38be9721facb');\n",
       "var x = new MutationObserver(function (mutations, observer) {{\n",
       "        var display = window.getComputedStyle(gd).display;\n",
       "        if (!display || display === 'none') {{\n",
       "            console.log([gd, 'removed!']);\n",
       "            Plotly.purge(gd);\n",
       "            observer.disconnect();\n",
       "        }}\n",
       "}});\n",
       "\n",
       "// Listen for the removal of the full notebook cells\n",
       "var notebookContainer = gd.closest('#notebook-container');\n",
       "if (notebookContainer) {{\n",
       "    x.observe(notebookContainer, {childList: true});\n",
       "}}\n",
       "\n",
       "// Listen for the clearing of the current output cell\n",
       "var outputEl = gd.closest('.output');\n",
       "if (outputEl) {{\n",
       "    x.observe(outputEl, {childList: true});\n",
       "}}\n",
       "\n",
       "                        })                };                });            </script>        </div>"
      ]
     },
     "metadata": {},
     "output_type": "display_data"
    }
   ],
   "source": [
    "fig = px.line(dfHNSW, x=\"efConstruction\", y=\"search_time\", color=\"M\", height=390, width=750, markers=True,\n",
    "              template=\"simple_white\", color_discrete_sequence=colors_custom, #color_discrete_sequence=px.colors.qualitative.D3,  \n",
    "              facet_col=\"efSearch\", facet_col_spacing=0.01,\n",
    "              labels=dict(search_time=\"search time (ms/query)\",)\n",
    "             )\n",
    "fig.update_layout(legend=dict(yanchor=\"top\", y=0.99, xanchor=\"left\", x=0.03, borderwidth=1, traceorder=\"reversed\")) # orientation=\"h\"\n",
    "fig.update_xaxes(linecolor='darkgrey')\n",
    "fig.update_yaxes(linecolor='darkgrey', showgrid=True, gridwidth=1, gridcolor='LightGrey', griddash=\"dot\", ticks=\"\")\n",
    "fig.show()\n",
    "fig.write_html(\"Hflat_search_time_efConst_efSearch.html\")"
   ]
  },
  {
   "cell_type": "code",
   "execution_count": 45,
   "id": "8210b26c",
   "metadata": {
    "execution": {
     "iopub.execute_input": "2022-08-24T06:42:23.279796Z",
     "iopub.status.busy": "2022-08-24T06:42:23.278723Z",
     "iopub.status.idle": "2022-08-24T06:42:23.451332Z",
     "shell.execute_reply": "2022-08-24T06:42:23.450411Z"
    },
    "papermill": {
     "duration": 0.79764,
     "end_time": "2022-08-24T06:42:23.453439",
     "exception": false,
     "start_time": "2022-08-24T06:42:22.655799",
     "status": "completed"
    },
    "tags": []
   },
   "outputs": [
    {
     "data": {
      "text/html": [
       "<div>                            <div id=\"b8ce1fc6-863d-41f2-8da6-464918e16420\" class=\"plotly-graph-div\" style=\"height:380px; width:750px;\"></div>            <script type=\"text/javascript\">                require([\"plotly\"], function(Plotly) {                    window.PLOTLYENV=window.PLOTLYENV || {};                                    if (document.getElementById(\"b8ce1fc6-863d-41f2-8da6-464918e16420\")) {                    Plotly.newPlot(                        \"b8ce1fc6-863d-41f2-8da6-464918e16420\",                        [{\"hovertemplate\":\"M=4<br>efSearch=4<br>efConstruction=%{x}<br>recall@3=%{y}<extra></extra>\",\"legendgroup\":\"4\",\"line\":{\"color\":\"#EECA3B\",\"dash\":\"solid\"},\"marker\":{\"symbol\":\"circle\"},\"mode\":\"markers+lines\",\"name\":\"4\",\"orientation\":\"v\",\"showlegend\":true,\"x\":[4,16,40,76],\"xaxis\":\"x\",\"y\":[0.021,0.059,0.086,0.1],\"yaxis\":\"y\",\"type\":\"scatter\"},{\"hovertemplate\":\"M=4<br>efSearch=16<br>efConstruction=%{x}<br>recall@3=%{y}<extra></extra>\",\"legendgroup\":\"4\",\"line\":{\"color\":\"#EECA3B\",\"dash\":\"solid\"},\"marker\":{\"symbol\":\"circle\"},\"mode\":\"markers+lines\",\"name\":\"4\",\"orientation\":\"v\",\"showlegend\":false,\"x\":[4,16,40,76],\"xaxis\":\"x2\",\"y\":[0.036,0.191,0.308,0.325],\"yaxis\":\"y2\",\"type\":\"scatter\"},{\"hovertemplate\":\"M=4<br>efSearch=40<br>efConstruction=%{x}<br>recall@3=%{y}<extra></extra>\",\"legendgroup\":\"4\",\"line\":{\"color\":\"#EECA3B\",\"dash\":\"solid\"},\"marker\":{\"symbol\":\"circle\"},\"mode\":\"markers+lines\",\"name\":\"4\",\"orientation\":\"v\",\"showlegend\":false,\"x\":[4,16,40,76],\"xaxis\":\"x3\",\"y\":[0.043,0.345,0.539,0.566],\"yaxis\":\"y3\",\"type\":\"scatter\"},{\"hovertemplate\":\"M=4<br>efSearch=76<br>efConstruction=%{x}<br>recall@3=%{y}<extra></extra>\",\"legendgroup\":\"4\",\"line\":{\"color\":\"#EECA3B\",\"dash\":\"solid\"},\"marker\":{\"symbol\":\"circle\"},\"mode\":\"markers+lines\",\"name\":\"4\",\"orientation\":\"v\",\"showlegend\":false,\"x\":[4,16,40,76],\"xaxis\":\"x4\",\"y\":[0.051,0.437,0.628,0.671],\"yaxis\":\"y4\",\"type\":\"scatter\"},{\"hovertemplate\":\"M=16<br>efSearch=4<br>efConstruction=%{x}<br>recall@3=%{y}<extra></extra>\",\"legendgroup\":\"16\",\"line\":{\"color\":\"#FF9900\",\"dash\":\"solid\"},\"marker\":{\"symbol\":\"circle\"},\"mode\":\"markers+lines\",\"name\":\"16\",\"orientation\":\"v\",\"showlegend\":true,\"x\":[4,16,40,76],\"xaxis\":\"x\",\"y\":[0.035,0.326,0.409,0.45],\"yaxis\":\"y\",\"type\":\"scatter\"},{\"hovertemplate\":\"M=16<br>efSearch=16<br>efConstruction=%{x}<br>recall@3=%{y}<extra></extra>\",\"legendgroup\":\"16\",\"line\":{\"color\":\"#FF9900\",\"dash\":\"solid\"},\"marker\":{\"symbol\":\"circle\"},\"mode\":\"markers+lines\",\"name\":\"16\",\"orientation\":\"v\",\"showlegend\":false,\"x\":[4,16,40,76],\"xaxis\":\"x2\",\"y\":[0.049,0.663,0.715,0.786],\"yaxis\":\"y2\",\"type\":\"scatter\"},{\"hovertemplate\":\"M=16<br>efSearch=40<br>efConstruction=%{x}<br>recall@3=%{y}<extra></extra>\",\"legendgroup\":\"16\",\"line\":{\"color\":\"#FF9900\",\"dash\":\"solid\"},\"marker\":{\"symbol\":\"circle\"},\"mode\":\"markers+lines\",\"name\":\"16\",\"orientation\":\"v\",\"showlegend\":false,\"x\":[4,16,40,76],\"xaxis\":\"x3\",\"y\":[0.066,0.824,0.842,0.911],\"yaxis\":\"y3\",\"type\":\"scatter\"},{\"hovertemplate\":\"M=16<br>efSearch=76<br>efConstruction=%{x}<br>recall@3=%{y}<extra></extra>\",\"legendgroup\":\"16\",\"line\":{\"color\":\"#FF9900\",\"dash\":\"solid\"},\"marker\":{\"symbol\":\"circle\"},\"mode\":\"markers+lines\",\"name\":\"16\",\"orientation\":\"v\",\"showlegend\":false,\"x\":[4,16,40,76],\"xaxis\":\"x4\",\"y\":[0.077,0.882,0.896,0.938],\"yaxis\":\"y4\",\"type\":\"scatter\"},{\"hovertemplate\":\"M=32<br>efSearch=4<br>efConstruction=%{x}<br>recall@3=%{y}<extra></extra>\",\"legendgroup\":\"32\",\"line\":{\"color\":\"#DC3912\",\"dash\":\"solid\"},\"marker\":{\"symbol\":\"circle\"},\"mode\":\"markers+lines\",\"name\":\"32\",\"orientation\":\"v\",\"showlegend\":true,\"x\":[4,16,40,76],\"xaxis\":\"x\",\"y\":[0.04,0.463,0.587,0.558],\"yaxis\":\"y\",\"type\":\"scatter\"},{\"hovertemplate\":\"M=32<br>efSearch=16<br>efConstruction=%{x}<br>recall@3=%{y}<extra></extra>\",\"legendgroup\":\"32\",\"line\":{\"color\":\"#DC3912\",\"dash\":\"solid\"},\"marker\":{\"symbol\":\"circle\"},\"mode\":\"markers+lines\",\"name\":\"32\",\"orientation\":\"v\",\"showlegend\":false,\"x\":[4,16,40,76],\"xaxis\":\"x2\",\"y\":[0.059,0.757,0.854,0.849],\"yaxis\":\"y2\",\"type\":\"scatter\"},{\"hovertemplate\":\"M=32<br>efSearch=40<br>efConstruction=%{x}<br>recall@3=%{y}<extra></extra>\",\"legendgroup\":\"32\",\"line\":{\"color\":\"#DC3912\",\"dash\":\"solid\"},\"marker\":{\"symbol\":\"circle\"},\"mode\":\"markers+lines\",\"name\":\"32\",\"orientation\":\"v\",\"showlegend\":false,\"x\":[4,16,40,76],\"xaxis\":\"x3\",\"y\":[0.071,0.887,0.938,0.921],\"yaxis\":\"y3\",\"type\":\"scatter\"},{\"hovertemplate\":\"M=32<br>efSearch=76<br>efConstruction=%{x}<br>recall@3=%{y}<extra></extra>\",\"legendgroup\":\"32\",\"line\":{\"color\":\"#DC3912\",\"dash\":\"solid\"},\"marker\":{\"symbol\":\"circle\"},\"mode\":\"markers+lines\",\"name\":\"32\",\"orientation\":\"v\",\"showlegend\":false,\"x\":[4,16,40,76],\"xaxis\":\"x4\",\"y\":[0.082,0.931,0.97,0.952],\"yaxis\":\"y4\",\"type\":\"scatter\"},{\"hovertemplate\":\"M=64<br>efSearch=4<br>efConstruction=%{x}<br>recall@3=%{y}<extra></extra>\",\"legendgroup\":\"64\",\"line\":{\"color\":\"#990099\",\"dash\":\"solid\"},\"marker\":{\"symbol\":\"circle\"},\"mode\":\"markers+lines\",\"name\":\"64\",\"orientation\":\"v\",\"showlegend\":true,\"x\":[4,16,40,76],\"xaxis\":\"x\",\"y\":[0.04,0.477,0.709,0.738],\"yaxis\":\"y\",\"type\":\"scatter\"},{\"hovertemplate\":\"M=64<br>efSearch=16<br>efConstruction=%{x}<br>recall@3=%{y}<extra></extra>\",\"legendgroup\":\"64\",\"line\":{\"color\":\"#990099\",\"dash\":\"solid\"},\"marker\":{\"symbol\":\"circle\"},\"mode\":\"markers+lines\",\"name\":\"64\",\"orientation\":\"v\",\"showlegend\":false,\"x\":[4,16,40,76],\"xaxis\":\"x2\",\"y\":[0.058,0.78,0.886,0.918],\"yaxis\":\"y2\",\"type\":\"scatter\"},{\"hovertemplate\":\"M=64<br>efSearch=40<br>efConstruction=%{x}<br>recall@3=%{y}<extra></extra>\",\"legendgroup\":\"64\",\"line\":{\"color\":\"#990099\",\"dash\":\"solid\"},\"marker\":{\"symbol\":\"circle\"},\"mode\":\"markers+lines\",\"name\":\"64\",\"orientation\":\"v\",\"showlegend\":false,\"x\":[4,16,40,76],\"xaxis\":\"x3\",\"y\":[0.075,0.889,0.949,0.97],\"yaxis\":\"y3\",\"type\":\"scatter\"},{\"hovertemplate\":\"M=64<br>efSearch=76<br>efConstruction=%{x}<br>recall@3=%{y}<extra></extra>\",\"legendgroup\":\"64\",\"line\":{\"color\":\"#990099\",\"dash\":\"solid\"},\"marker\":{\"symbol\":\"circle\"},\"mode\":\"markers+lines\",\"name\":\"64\",\"orientation\":\"v\",\"showlegend\":false,\"x\":[4,16,40,76],\"xaxis\":\"x4\",\"y\":[0.085,0.924,0.979,0.992],\"yaxis\":\"y4\",\"type\":\"scatter\"}],                        {\"template\":{\"data\":{\"barpolar\":[{\"marker\":{\"line\":{\"color\":\"white\",\"width\":0.5},\"pattern\":{\"fillmode\":\"overlay\",\"size\":10,\"solidity\":0.2}},\"type\":\"barpolar\"}],\"bar\":[{\"error_x\":{\"color\":\"rgb(36,36,36)\"},\"error_y\":{\"color\":\"rgb(36,36,36)\"},\"marker\":{\"line\":{\"color\":\"white\",\"width\":0.5},\"pattern\":{\"fillmode\":\"overlay\",\"size\":10,\"solidity\":0.2}},\"type\":\"bar\"}],\"carpet\":[{\"aaxis\":{\"endlinecolor\":\"rgb(36,36,36)\",\"gridcolor\":\"white\",\"linecolor\":\"white\",\"minorgridcolor\":\"white\",\"startlinecolor\":\"rgb(36,36,36)\"},\"baxis\":{\"endlinecolor\":\"rgb(36,36,36)\",\"gridcolor\":\"white\",\"linecolor\":\"white\",\"minorgridcolor\":\"white\",\"startlinecolor\":\"rgb(36,36,36)\"},\"type\":\"carpet\"}],\"choropleth\":[{\"colorbar\":{\"outlinewidth\":1,\"tickcolor\":\"rgb(36,36,36)\",\"ticks\":\"outside\"},\"type\":\"choropleth\"}],\"contourcarpet\":[{\"colorbar\":{\"outlinewidth\":1,\"tickcolor\":\"rgb(36,36,36)\",\"ticks\":\"outside\"},\"type\":\"contourcarpet\"}],\"contour\":[{\"colorbar\":{\"outlinewidth\":1,\"tickcolor\":\"rgb(36,36,36)\",\"ticks\":\"outside\"},\"colorscale\":[[0.0,\"#440154\"],[0.1111111111111111,\"#482878\"],[0.2222222222222222,\"#3e4989\"],[0.3333333333333333,\"#31688e\"],[0.4444444444444444,\"#26828e\"],[0.5555555555555556,\"#1f9e89\"],[0.6666666666666666,\"#35b779\"],[0.7777777777777778,\"#6ece58\"],[0.8888888888888888,\"#b5de2b\"],[1.0,\"#fde725\"]],\"type\":\"contour\"}],\"heatmapgl\":[{\"colorbar\":{\"outlinewidth\":1,\"tickcolor\":\"rgb(36,36,36)\",\"ticks\":\"outside\"},\"colorscale\":[[0.0,\"#440154\"],[0.1111111111111111,\"#482878\"],[0.2222222222222222,\"#3e4989\"],[0.3333333333333333,\"#31688e\"],[0.4444444444444444,\"#26828e\"],[0.5555555555555556,\"#1f9e89\"],[0.6666666666666666,\"#35b779\"],[0.7777777777777778,\"#6ece58\"],[0.8888888888888888,\"#b5de2b\"],[1.0,\"#fde725\"]],\"type\":\"heatmapgl\"}],\"heatmap\":[{\"colorbar\":{\"outlinewidth\":1,\"tickcolor\":\"rgb(36,36,36)\",\"ticks\":\"outside\"},\"colorscale\":[[0.0,\"#440154\"],[0.1111111111111111,\"#482878\"],[0.2222222222222222,\"#3e4989\"],[0.3333333333333333,\"#31688e\"],[0.4444444444444444,\"#26828e\"],[0.5555555555555556,\"#1f9e89\"],[0.6666666666666666,\"#35b779\"],[0.7777777777777778,\"#6ece58\"],[0.8888888888888888,\"#b5de2b\"],[1.0,\"#fde725\"]],\"type\":\"heatmap\"}],\"histogram2dcontour\":[{\"colorbar\":{\"outlinewidth\":1,\"tickcolor\":\"rgb(36,36,36)\",\"ticks\":\"outside\"},\"colorscale\":[[0.0,\"#440154\"],[0.1111111111111111,\"#482878\"],[0.2222222222222222,\"#3e4989\"],[0.3333333333333333,\"#31688e\"],[0.4444444444444444,\"#26828e\"],[0.5555555555555556,\"#1f9e89\"],[0.6666666666666666,\"#35b779\"],[0.7777777777777778,\"#6ece58\"],[0.8888888888888888,\"#b5de2b\"],[1.0,\"#fde725\"]],\"type\":\"histogram2dcontour\"}],\"histogram2d\":[{\"colorbar\":{\"outlinewidth\":1,\"tickcolor\":\"rgb(36,36,36)\",\"ticks\":\"outside\"},\"colorscale\":[[0.0,\"#440154\"],[0.1111111111111111,\"#482878\"],[0.2222222222222222,\"#3e4989\"],[0.3333333333333333,\"#31688e\"],[0.4444444444444444,\"#26828e\"],[0.5555555555555556,\"#1f9e89\"],[0.6666666666666666,\"#35b779\"],[0.7777777777777778,\"#6ece58\"],[0.8888888888888888,\"#b5de2b\"],[1.0,\"#fde725\"]],\"type\":\"histogram2d\"}],\"histogram\":[{\"marker\":{\"line\":{\"color\":\"white\",\"width\":0.6}},\"type\":\"histogram\"}],\"mesh3d\":[{\"colorbar\":{\"outlinewidth\":1,\"tickcolor\":\"rgb(36,36,36)\",\"ticks\":\"outside\"},\"type\":\"mesh3d\"}],\"parcoords\":[{\"line\":{\"colorbar\":{\"outlinewidth\":1,\"tickcolor\":\"rgb(36,36,36)\",\"ticks\":\"outside\"}},\"type\":\"parcoords\"}],\"pie\":[{\"automargin\":true,\"type\":\"pie\"}],\"scatter3d\":[{\"line\":{\"colorbar\":{\"outlinewidth\":1,\"tickcolor\":\"rgb(36,36,36)\",\"ticks\":\"outside\"}},\"marker\":{\"colorbar\":{\"outlinewidth\":1,\"tickcolor\":\"rgb(36,36,36)\",\"ticks\":\"outside\"}},\"type\":\"scatter3d\"}],\"scattercarpet\":[{\"marker\":{\"colorbar\":{\"outlinewidth\":1,\"tickcolor\":\"rgb(36,36,36)\",\"ticks\":\"outside\"}},\"type\":\"scattercarpet\"}],\"scattergeo\":[{\"marker\":{\"colorbar\":{\"outlinewidth\":1,\"tickcolor\":\"rgb(36,36,36)\",\"ticks\":\"outside\"}},\"type\":\"scattergeo\"}],\"scattergl\":[{\"marker\":{\"colorbar\":{\"outlinewidth\":1,\"tickcolor\":\"rgb(36,36,36)\",\"ticks\":\"outside\"}},\"type\":\"scattergl\"}],\"scattermapbox\":[{\"marker\":{\"colorbar\":{\"outlinewidth\":1,\"tickcolor\":\"rgb(36,36,36)\",\"ticks\":\"outside\"}},\"type\":\"scattermapbox\"}],\"scatterpolargl\":[{\"marker\":{\"colorbar\":{\"outlinewidth\":1,\"tickcolor\":\"rgb(36,36,36)\",\"ticks\":\"outside\"}},\"type\":\"scatterpolargl\"}],\"scatterpolar\":[{\"marker\":{\"colorbar\":{\"outlinewidth\":1,\"tickcolor\":\"rgb(36,36,36)\",\"ticks\":\"outside\"}},\"type\":\"scatterpolar\"}],\"scatter\":[{\"fillpattern\":{\"fillmode\":\"overlay\",\"size\":10,\"solidity\":0.2},\"type\":\"scatter\"}],\"scatterternary\":[{\"marker\":{\"colorbar\":{\"outlinewidth\":1,\"tickcolor\":\"rgb(36,36,36)\",\"ticks\":\"outside\"}},\"type\":\"scatterternary\"}],\"surface\":[{\"colorbar\":{\"outlinewidth\":1,\"tickcolor\":\"rgb(36,36,36)\",\"ticks\":\"outside\"},\"colorscale\":[[0.0,\"#440154\"],[0.1111111111111111,\"#482878\"],[0.2222222222222222,\"#3e4989\"],[0.3333333333333333,\"#31688e\"],[0.4444444444444444,\"#26828e\"],[0.5555555555555556,\"#1f9e89\"],[0.6666666666666666,\"#35b779\"],[0.7777777777777778,\"#6ece58\"],[0.8888888888888888,\"#b5de2b\"],[1.0,\"#fde725\"]],\"type\":\"surface\"}],\"table\":[{\"cells\":{\"fill\":{\"color\":\"rgb(237,237,237)\"},\"line\":{\"color\":\"white\"}},\"header\":{\"fill\":{\"color\":\"rgb(217,217,217)\"},\"line\":{\"color\":\"white\"}},\"type\":\"table\"}]},\"layout\":{\"annotationdefaults\":{\"arrowhead\":0,\"arrowwidth\":1},\"autotypenumbers\":\"strict\",\"coloraxis\":{\"colorbar\":{\"outlinewidth\":1,\"tickcolor\":\"rgb(36,36,36)\",\"ticks\":\"outside\"}},\"colorscale\":{\"diverging\":[[0.0,\"rgb(103,0,31)\"],[0.1,\"rgb(178,24,43)\"],[0.2,\"rgb(214,96,77)\"],[0.3,\"rgb(244,165,130)\"],[0.4,\"rgb(253,219,199)\"],[0.5,\"rgb(247,247,247)\"],[0.6,\"rgb(209,229,240)\"],[0.7,\"rgb(146,197,222)\"],[0.8,\"rgb(67,147,195)\"],[0.9,\"rgb(33,102,172)\"],[1.0,\"rgb(5,48,97)\"]],\"sequential\":[[0.0,\"#440154\"],[0.1111111111111111,\"#482878\"],[0.2222222222222222,\"#3e4989\"],[0.3333333333333333,\"#31688e\"],[0.4444444444444444,\"#26828e\"],[0.5555555555555556,\"#1f9e89\"],[0.6666666666666666,\"#35b779\"],[0.7777777777777778,\"#6ece58\"],[0.8888888888888888,\"#b5de2b\"],[1.0,\"#fde725\"]],\"sequentialminus\":[[0.0,\"#440154\"],[0.1111111111111111,\"#482878\"],[0.2222222222222222,\"#3e4989\"],[0.3333333333333333,\"#31688e\"],[0.4444444444444444,\"#26828e\"],[0.5555555555555556,\"#1f9e89\"],[0.6666666666666666,\"#35b779\"],[0.7777777777777778,\"#6ece58\"],[0.8888888888888888,\"#b5de2b\"],[1.0,\"#fde725\"]]},\"colorway\":[\"#1F77B4\",\"#FF7F0E\",\"#2CA02C\",\"#D62728\",\"#9467BD\",\"#8C564B\",\"#E377C2\",\"#7F7F7F\",\"#BCBD22\",\"#17BECF\"],\"font\":{\"color\":\"rgb(36,36,36)\"},\"geo\":{\"bgcolor\":\"white\",\"lakecolor\":\"white\",\"landcolor\":\"white\",\"showlakes\":true,\"showland\":true,\"subunitcolor\":\"white\"},\"hoverlabel\":{\"align\":\"left\"},\"hovermode\":\"closest\",\"mapbox\":{\"style\":\"light\"},\"paper_bgcolor\":\"white\",\"plot_bgcolor\":\"white\",\"polar\":{\"angularaxis\":{\"gridcolor\":\"rgb(232,232,232)\",\"linecolor\":\"rgb(36,36,36)\",\"showgrid\":false,\"showline\":true,\"ticks\":\"outside\"},\"bgcolor\":\"white\",\"radialaxis\":{\"gridcolor\":\"rgb(232,232,232)\",\"linecolor\":\"rgb(36,36,36)\",\"showgrid\":false,\"showline\":true,\"ticks\":\"outside\"}},\"scene\":{\"xaxis\":{\"backgroundcolor\":\"white\",\"gridcolor\":\"rgb(232,232,232)\",\"gridwidth\":2,\"linecolor\":\"rgb(36,36,36)\",\"showbackground\":true,\"showgrid\":false,\"showline\":true,\"ticks\":\"outside\",\"zeroline\":false,\"zerolinecolor\":\"rgb(36,36,36)\"},\"yaxis\":{\"backgroundcolor\":\"white\",\"gridcolor\":\"rgb(232,232,232)\",\"gridwidth\":2,\"linecolor\":\"rgb(36,36,36)\",\"showbackground\":true,\"showgrid\":false,\"showline\":true,\"ticks\":\"outside\",\"zeroline\":false,\"zerolinecolor\":\"rgb(36,36,36)\"},\"zaxis\":{\"backgroundcolor\":\"white\",\"gridcolor\":\"rgb(232,232,232)\",\"gridwidth\":2,\"linecolor\":\"rgb(36,36,36)\",\"showbackground\":true,\"showgrid\":false,\"showline\":true,\"ticks\":\"outside\",\"zeroline\":false,\"zerolinecolor\":\"rgb(36,36,36)\"}},\"shapedefaults\":{\"fillcolor\":\"black\",\"line\":{\"width\":0},\"opacity\":0.3},\"ternary\":{\"aaxis\":{\"gridcolor\":\"rgb(232,232,232)\",\"linecolor\":\"rgb(36,36,36)\",\"showgrid\":false,\"showline\":true,\"ticks\":\"outside\"},\"baxis\":{\"gridcolor\":\"rgb(232,232,232)\",\"linecolor\":\"rgb(36,36,36)\",\"showgrid\":false,\"showline\":true,\"ticks\":\"outside\"},\"bgcolor\":\"white\",\"caxis\":{\"gridcolor\":\"rgb(232,232,232)\",\"linecolor\":\"rgb(36,36,36)\",\"showgrid\":false,\"showline\":true,\"ticks\":\"outside\"}},\"title\":{\"x\":0.05},\"xaxis\":{\"automargin\":true,\"gridcolor\":\"rgb(232,232,232)\",\"linecolor\":\"rgb(36,36,36)\",\"showgrid\":false,\"showline\":true,\"ticks\":\"outside\",\"title\":{\"standoff\":15},\"zeroline\":false,\"zerolinecolor\":\"rgb(36,36,36)\"},\"yaxis\":{\"automargin\":true,\"gridcolor\":\"rgb(232,232,232)\",\"linecolor\":\"rgb(36,36,36)\",\"showgrid\":false,\"showline\":true,\"ticks\":\"outside\",\"title\":{\"standoff\":15},\"zeroline\":false,\"zerolinecolor\":\"rgb(36,36,36)\"}}},\"xaxis\":{\"anchor\":\"y\",\"domain\":[0.0,0.2425],\"title\":{\"text\":\"efConstruction\"},\"linecolor\":\"darkgrey\"},\"yaxis\":{\"anchor\":\"x\",\"domain\":[0.0,1.0],\"title\":{\"text\":\"1-recall@3\"},\"linecolor\":\"darkgrey\",\"showgrid\":true,\"gridwidth\":1,\"gridcolor\":\"LightGrey\",\"griddash\":\"dot\",\"ticks\":\"\"},\"xaxis2\":{\"anchor\":\"y2\",\"domain\":[0.2525,0.495],\"matches\":\"x\",\"title\":{\"text\":\"efConstruction\"},\"linecolor\":\"darkgrey\"},\"yaxis2\":{\"anchor\":\"x2\",\"domain\":[0.0,1.0],\"matches\":\"y\",\"showticklabels\":false,\"linecolor\":\"darkgrey\",\"showgrid\":true,\"gridwidth\":1,\"gridcolor\":\"LightGrey\",\"griddash\":\"dot\",\"ticks\":\"\"},\"xaxis3\":{\"anchor\":\"y3\",\"domain\":[0.505,0.7475],\"matches\":\"x\",\"title\":{\"text\":\"efConstruction\"},\"linecolor\":\"darkgrey\"},\"yaxis3\":{\"anchor\":\"x3\",\"domain\":[0.0,1.0],\"matches\":\"y\",\"showticklabels\":false,\"linecolor\":\"darkgrey\",\"showgrid\":true,\"gridwidth\":1,\"gridcolor\":\"LightGrey\",\"griddash\":\"dot\",\"ticks\":\"\"},\"xaxis4\":{\"anchor\":\"y4\",\"domain\":[0.7575000000000001,1.0],\"matches\":\"x\",\"title\":{\"text\":\"efConstruction\"},\"linecolor\":\"darkgrey\"},\"yaxis4\":{\"anchor\":\"x4\",\"domain\":[0.0,1.0],\"matches\":\"y\",\"showticklabels\":false,\"linecolor\":\"darkgrey\",\"showgrid\":true,\"gridwidth\":1,\"gridcolor\":\"LightGrey\",\"griddash\":\"dot\",\"ticks\":\"\"},\"annotations\":[{\"font\":{},\"showarrow\":false,\"text\":\"efSearch=4\",\"x\":0.12125,\"xanchor\":\"center\",\"xref\":\"paper\",\"y\":1.0,\"yanchor\":\"bottom\",\"yref\":\"paper\"},{\"font\":{},\"showarrow\":false,\"text\":\"efSearch=16\",\"x\":0.37375,\"xanchor\":\"center\",\"xref\":\"paper\",\"y\":1.0,\"yanchor\":\"bottom\",\"yref\":\"paper\"},{\"font\":{},\"showarrow\":false,\"text\":\"efSearch=40\",\"x\":0.62625,\"xanchor\":\"center\",\"xref\":\"paper\",\"y\":1.0,\"yanchor\":\"bottom\",\"yref\":\"paper\"},{\"font\":{},\"showarrow\":false,\"text\":\"efSearch=76\",\"x\":0.87875,\"xanchor\":\"center\",\"xref\":\"paper\",\"y\":1.0,\"yanchor\":\"bottom\",\"yref\":\"paper\"}],\"legend\":{\"title\":{\"text\":\"M\"},\"tracegroupgap\":0,\"yanchor\":\"top\",\"y\":0.48,\"xanchor\":\"right\",\"x\":0.99,\"borderwidth\":1,\"traceorder\":\"reversed\"},\"margin\":{\"t\":60},\"height\":380,\"width\":750},                        {\"responsive\": true}                    ).then(function(){\n",
       "                            \n",
       "var gd = document.getElementById('b8ce1fc6-863d-41f2-8da6-464918e16420');\n",
       "var x = new MutationObserver(function (mutations, observer) {{\n",
       "        var display = window.getComputedStyle(gd).display;\n",
       "        if (!display || display === 'none') {{\n",
       "            console.log([gd, 'removed!']);\n",
       "            Plotly.purge(gd);\n",
       "            observer.disconnect();\n",
       "        }}\n",
       "}});\n",
       "\n",
       "// Listen for the removal of the full notebook cells\n",
       "var notebookContainer = gd.closest('#notebook-container');\n",
       "if (notebookContainer) {{\n",
       "    x.observe(notebookContainer, {childList: true});\n",
       "}}\n",
       "\n",
       "// Listen for the clearing of the current output cell\n",
       "var outputEl = gd.closest('.output');\n",
       "if (outputEl) {{\n",
       "    x.observe(outputEl, {childList: true});\n",
       "}}\n",
       "\n",
       "                        })                };                });            </script>        </div>"
      ]
     },
     "metadata": {},
     "output_type": "display_data"
    }
   ],
   "source": [
    "fig = px.line(dfHNSW, x=\"efConstruction\", y=\"recall@3\", color=\"M\", height=380, width=750, markers=True,\n",
    "              template=\"simple_white\", color_discrete_sequence=colors_custom, #color_discrete_sequence=px.colors.qualitative.D3,  \n",
    "              facet_col=\"efSearch\", facet_col_spacing=0.01,  \n",
    "              )\n",
    "fig.update_layout(legend=dict(yanchor=\"top\", y=0.48, xanchor=\"right\", x=0.99, borderwidth=1, traceorder=\"reversed\")) # orientation=\"h\"\n",
    "fig.update_xaxes(linecolor='darkgrey')\n",
    "fig.update_yaxes(linecolor='darkgrey', showgrid=True, gridwidth=1, gridcolor='LightGrey', griddash=\"dot\", ticks=\"\")\n",
    "fig.update_yaxes(row=1, col=1, title_text=\"1-recall@3\")\n",
    "fig.show()\n",
    "fig.write_html(\"Hflat_recall_efConst_efSearch.html\")"
   ]
  },
  {
   "cell_type": "code",
   "execution_count": 46,
   "id": "46e1f1bb",
   "metadata": {
    "execution": {
     "iopub.execute_input": "2022-08-24T06:42:26.205871Z",
     "iopub.status.busy": "2022-08-24T06:42:26.205443Z",
     "iopub.status.idle": "2022-08-24T06:42:26.377208Z",
     "shell.execute_reply": "2022-08-24T06:42:26.376299Z"
    },
    "papermill": {
     "duration": 2.231017,
     "end_time": "2022-08-24T06:42:26.379326",
     "exception": false,
     "start_time": "2022-08-24T06:42:24.148309",
     "status": "completed"
    },
    "tags": []
   },
   "outputs": [
    {
     "data": {
      "text/html": [
       "<div>                            <div id=\"33cb7329-7008-450e-b63f-35b886e0a798\" class=\"plotly-graph-div\" style=\"height:380px; width:750px;\"></div>            <script type=\"text/javascript\">                require([\"plotly\"], function(Plotly) {                    window.PLOTLYENV=window.PLOTLYENV || {};                                    if (document.getElementById(\"33cb7329-7008-450e-b63f-35b886e0a798\")) {                    Plotly.newPlot(                        \"33cb7329-7008-450e-b63f-35b886e0a798\",                        [{\"hovertemplate\":\"M=4<br>efConstruction=4<br>efSearch=%{x}<br>recall@3=%{y}<extra></extra>\",\"legendgroup\":\"4\",\"line\":{\"color\":\"#EECA3B\",\"dash\":\"solid\"},\"marker\":{\"symbol\":\"circle\"},\"mode\":\"markers+lines\",\"name\":\"4\",\"orientation\":\"v\",\"showlegend\":true,\"x\":[4,16,40,76],\"xaxis\":\"x\",\"y\":[0.021,0.036,0.043,0.051],\"yaxis\":\"y\",\"type\":\"scatter\"},{\"hovertemplate\":\"M=4<br>efConstruction=16<br>efSearch=%{x}<br>recall@3=%{y}<extra></extra>\",\"legendgroup\":\"4\",\"line\":{\"color\":\"#EECA3B\",\"dash\":\"solid\"},\"marker\":{\"symbol\":\"circle\"},\"mode\":\"markers+lines\",\"name\":\"4\",\"orientation\":\"v\",\"showlegend\":false,\"x\":[4,16,40,76],\"xaxis\":\"x2\",\"y\":[0.059,0.191,0.345,0.437],\"yaxis\":\"y2\",\"type\":\"scatter\"},{\"hovertemplate\":\"M=4<br>efConstruction=40<br>efSearch=%{x}<br>recall@3=%{y}<extra></extra>\",\"legendgroup\":\"4\",\"line\":{\"color\":\"#EECA3B\",\"dash\":\"solid\"},\"marker\":{\"symbol\":\"circle\"},\"mode\":\"markers+lines\",\"name\":\"4\",\"orientation\":\"v\",\"showlegend\":false,\"x\":[4,16,40,76],\"xaxis\":\"x3\",\"y\":[0.086,0.308,0.539,0.628],\"yaxis\":\"y3\",\"type\":\"scatter\"},{\"hovertemplate\":\"M=4<br>efConstruction=76<br>efSearch=%{x}<br>recall@3=%{y}<extra></extra>\",\"legendgroup\":\"4\",\"line\":{\"color\":\"#EECA3B\",\"dash\":\"solid\"},\"marker\":{\"symbol\":\"circle\"},\"mode\":\"markers+lines\",\"name\":\"4\",\"orientation\":\"v\",\"showlegend\":false,\"x\":[4,16,40,76],\"xaxis\":\"x4\",\"y\":[0.1,0.325,0.566,0.671],\"yaxis\":\"y4\",\"type\":\"scatter\"},{\"hovertemplate\":\"M=16<br>efConstruction=4<br>efSearch=%{x}<br>recall@3=%{y}<extra></extra>\",\"legendgroup\":\"16\",\"line\":{\"color\":\"#FF9900\",\"dash\":\"solid\"},\"marker\":{\"symbol\":\"circle\"},\"mode\":\"markers+lines\",\"name\":\"16\",\"orientation\":\"v\",\"showlegend\":true,\"x\":[4,16,40,76],\"xaxis\":\"x\",\"y\":[0.035,0.049,0.066,0.077],\"yaxis\":\"y\",\"type\":\"scatter\"},{\"hovertemplate\":\"M=16<br>efConstruction=16<br>efSearch=%{x}<br>recall@3=%{y}<extra></extra>\",\"legendgroup\":\"16\",\"line\":{\"color\":\"#FF9900\",\"dash\":\"solid\"},\"marker\":{\"symbol\":\"circle\"},\"mode\":\"markers+lines\",\"name\":\"16\",\"orientation\":\"v\",\"showlegend\":false,\"x\":[4,16,40,76],\"xaxis\":\"x2\",\"y\":[0.326,0.663,0.824,0.882],\"yaxis\":\"y2\",\"type\":\"scatter\"},{\"hovertemplate\":\"M=16<br>efConstruction=40<br>efSearch=%{x}<br>recall@3=%{y}<extra></extra>\",\"legendgroup\":\"16\",\"line\":{\"color\":\"#FF9900\",\"dash\":\"solid\"},\"marker\":{\"symbol\":\"circle\"},\"mode\":\"markers+lines\",\"name\":\"16\",\"orientation\":\"v\",\"showlegend\":false,\"x\":[4,16,40,76],\"xaxis\":\"x3\",\"y\":[0.409,0.715,0.842,0.896],\"yaxis\":\"y3\",\"type\":\"scatter\"},{\"hovertemplate\":\"M=16<br>efConstruction=76<br>efSearch=%{x}<br>recall@3=%{y}<extra></extra>\",\"legendgroup\":\"16\",\"line\":{\"color\":\"#FF9900\",\"dash\":\"solid\"},\"marker\":{\"symbol\":\"circle\"},\"mode\":\"markers+lines\",\"name\":\"16\",\"orientation\":\"v\",\"showlegend\":false,\"x\":[4,16,40,76],\"xaxis\":\"x4\",\"y\":[0.45,0.786,0.911,0.938],\"yaxis\":\"y4\",\"type\":\"scatter\"},{\"hovertemplate\":\"M=32<br>efConstruction=4<br>efSearch=%{x}<br>recall@3=%{y}<extra></extra>\",\"legendgroup\":\"32\",\"line\":{\"color\":\"#DC3912\",\"dash\":\"solid\"},\"marker\":{\"symbol\":\"circle\"},\"mode\":\"markers+lines\",\"name\":\"32\",\"orientation\":\"v\",\"showlegend\":true,\"x\":[4,16,40,76],\"xaxis\":\"x\",\"y\":[0.04,0.059,0.071,0.082],\"yaxis\":\"y\",\"type\":\"scatter\"},{\"hovertemplate\":\"M=32<br>efConstruction=16<br>efSearch=%{x}<br>recall@3=%{y}<extra></extra>\",\"legendgroup\":\"32\",\"line\":{\"color\":\"#DC3912\",\"dash\":\"solid\"},\"marker\":{\"symbol\":\"circle\"},\"mode\":\"markers+lines\",\"name\":\"32\",\"orientation\":\"v\",\"showlegend\":false,\"x\":[4,16,40,76],\"xaxis\":\"x2\",\"y\":[0.463,0.757,0.887,0.931],\"yaxis\":\"y2\",\"type\":\"scatter\"},{\"hovertemplate\":\"M=32<br>efConstruction=40<br>efSearch=%{x}<br>recall@3=%{y}<extra></extra>\",\"legendgroup\":\"32\",\"line\":{\"color\":\"#DC3912\",\"dash\":\"solid\"},\"marker\":{\"symbol\":\"circle\"},\"mode\":\"markers+lines\",\"name\":\"32\",\"orientation\":\"v\",\"showlegend\":false,\"x\":[4,16,40,76],\"xaxis\":\"x3\",\"y\":[0.587,0.854,0.938,0.97],\"yaxis\":\"y3\",\"type\":\"scatter\"},{\"hovertemplate\":\"M=32<br>efConstruction=76<br>efSearch=%{x}<br>recall@3=%{y}<extra></extra>\",\"legendgroup\":\"32\",\"line\":{\"color\":\"#DC3912\",\"dash\":\"solid\"},\"marker\":{\"symbol\":\"circle\"},\"mode\":\"markers+lines\",\"name\":\"32\",\"orientation\":\"v\",\"showlegend\":false,\"x\":[4,16,40,76],\"xaxis\":\"x4\",\"y\":[0.558,0.849,0.921,0.952],\"yaxis\":\"y4\",\"type\":\"scatter\"},{\"hovertemplate\":\"M=64<br>efConstruction=4<br>efSearch=%{x}<br>recall@3=%{y}<extra></extra>\",\"legendgroup\":\"64\",\"line\":{\"color\":\"#990099\",\"dash\":\"solid\"},\"marker\":{\"symbol\":\"circle\"},\"mode\":\"markers+lines\",\"name\":\"64\",\"orientation\":\"v\",\"showlegend\":true,\"x\":[4,16,40,76],\"xaxis\":\"x\",\"y\":[0.04,0.058,0.075,0.085],\"yaxis\":\"y\",\"type\":\"scatter\"},{\"hovertemplate\":\"M=64<br>efConstruction=16<br>efSearch=%{x}<br>recall@3=%{y}<extra></extra>\",\"legendgroup\":\"64\",\"line\":{\"color\":\"#990099\",\"dash\":\"solid\"},\"marker\":{\"symbol\":\"circle\"},\"mode\":\"markers+lines\",\"name\":\"64\",\"orientation\":\"v\",\"showlegend\":false,\"x\":[4,16,40,76],\"xaxis\":\"x2\",\"y\":[0.477,0.78,0.889,0.924],\"yaxis\":\"y2\",\"type\":\"scatter\"},{\"hovertemplate\":\"M=64<br>efConstruction=40<br>efSearch=%{x}<br>recall@3=%{y}<extra></extra>\",\"legendgroup\":\"64\",\"line\":{\"color\":\"#990099\",\"dash\":\"solid\"},\"marker\":{\"symbol\":\"circle\"},\"mode\":\"markers+lines\",\"name\":\"64\",\"orientation\":\"v\",\"showlegend\":false,\"x\":[4,16,40,76],\"xaxis\":\"x3\",\"y\":[0.709,0.886,0.949,0.979],\"yaxis\":\"y3\",\"type\":\"scatter\"},{\"hovertemplate\":\"M=64<br>efConstruction=76<br>efSearch=%{x}<br>recall@3=%{y}<extra></extra>\",\"legendgroup\":\"64\",\"line\":{\"color\":\"#990099\",\"dash\":\"solid\"},\"marker\":{\"symbol\":\"circle\"},\"mode\":\"markers+lines\",\"name\":\"64\",\"orientation\":\"v\",\"showlegend\":false,\"x\":[4,16,40,76],\"xaxis\":\"x4\",\"y\":[0.738,0.918,0.97,0.992],\"yaxis\":\"y4\",\"type\":\"scatter\"}],                        {\"template\":{\"data\":{\"barpolar\":[{\"marker\":{\"line\":{\"color\":\"white\",\"width\":0.5},\"pattern\":{\"fillmode\":\"overlay\",\"size\":10,\"solidity\":0.2}},\"type\":\"barpolar\"}],\"bar\":[{\"error_x\":{\"color\":\"rgb(36,36,36)\"},\"error_y\":{\"color\":\"rgb(36,36,36)\"},\"marker\":{\"line\":{\"color\":\"white\",\"width\":0.5},\"pattern\":{\"fillmode\":\"overlay\",\"size\":10,\"solidity\":0.2}},\"type\":\"bar\"}],\"carpet\":[{\"aaxis\":{\"endlinecolor\":\"rgb(36,36,36)\",\"gridcolor\":\"white\",\"linecolor\":\"white\",\"minorgridcolor\":\"white\",\"startlinecolor\":\"rgb(36,36,36)\"},\"baxis\":{\"endlinecolor\":\"rgb(36,36,36)\",\"gridcolor\":\"white\",\"linecolor\":\"white\",\"minorgridcolor\":\"white\",\"startlinecolor\":\"rgb(36,36,36)\"},\"type\":\"carpet\"}],\"choropleth\":[{\"colorbar\":{\"outlinewidth\":1,\"tickcolor\":\"rgb(36,36,36)\",\"ticks\":\"outside\"},\"type\":\"choropleth\"}],\"contourcarpet\":[{\"colorbar\":{\"outlinewidth\":1,\"tickcolor\":\"rgb(36,36,36)\",\"ticks\":\"outside\"},\"type\":\"contourcarpet\"}],\"contour\":[{\"colorbar\":{\"outlinewidth\":1,\"tickcolor\":\"rgb(36,36,36)\",\"ticks\":\"outside\"},\"colorscale\":[[0.0,\"#440154\"],[0.1111111111111111,\"#482878\"],[0.2222222222222222,\"#3e4989\"],[0.3333333333333333,\"#31688e\"],[0.4444444444444444,\"#26828e\"],[0.5555555555555556,\"#1f9e89\"],[0.6666666666666666,\"#35b779\"],[0.7777777777777778,\"#6ece58\"],[0.8888888888888888,\"#b5de2b\"],[1.0,\"#fde725\"]],\"type\":\"contour\"}],\"heatmapgl\":[{\"colorbar\":{\"outlinewidth\":1,\"tickcolor\":\"rgb(36,36,36)\",\"ticks\":\"outside\"},\"colorscale\":[[0.0,\"#440154\"],[0.1111111111111111,\"#482878\"],[0.2222222222222222,\"#3e4989\"],[0.3333333333333333,\"#31688e\"],[0.4444444444444444,\"#26828e\"],[0.5555555555555556,\"#1f9e89\"],[0.6666666666666666,\"#35b779\"],[0.7777777777777778,\"#6ece58\"],[0.8888888888888888,\"#b5de2b\"],[1.0,\"#fde725\"]],\"type\":\"heatmapgl\"}],\"heatmap\":[{\"colorbar\":{\"outlinewidth\":1,\"tickcolor\":\"rgb(36,36,36)\",\"ticks\":\"outside\"},\"colorscale\":[[0.0,\"#440154\"],[0.1111111111111111,\"#482878\"],[0.2222222222222222,\"#3e4989\"],[0.3333333333333333,\"#31688e\"],[0.4444444444444444,\"#26828e\"],[0.5555555555555556,\"#1f9e89\"],[0.6666666666666666,\"#35b779\"],[0.7777777777777778,\"#6ece58\"],[0.8888888888888888,\"#b5de2b\"],[1.0,\"#fde725\"]],\"type\":\"heatmap\"}],\"histogram2dcontour\":[{\"colorbar\":{\"outlinewidth\":1,\"tickcolor\":\"rgb(36,36,36)\",\"ticks\":\"outside\"},\"colorscale\":[[0.0,\"#440154\"],[0.1111111111111111,\"#482878\"],[0.2222222222222222,\"#3e4989\"],[0.3333333333333333,\"#31688e\"],[0.4444444444444444,\"#26828e\"],[0.5555555555555556,\"#1f9e89\"],[0.6666666666666666,\"#35b779\"],[0.7777777777777778,\"#6ece58\"],[0.8888888888888888,\"#b5de2b\"],[1.0,\"#fde725\"]],\"type\":\"histogram2dcontour\"}],\"histogram2d\":[{\"colorbar\":{\"outlinewidth\":1,\"tickcolor\":\"rgb(36,36,36)\",\"ticks\":\"outside\"},\"colorscale\":[[0.0,\"#440154\"],[0.1111111111111111,\"#482878\"],[0.2222222222222222,\"#3e4989\"],[0.3333333333333333,\"#31688e\"],[0.4444444444444444,\"#26828e\"],[0.5555555555555556,\"#1f9e89\"],[0.6666666666666666,\"#35b779\"],[0.7777777777777778,\"#6ece58\"],[0.8888888888888888,\"#b5de2b\"],[1.0,\"#fde725\"]],\"type\":\"histogram2d\"}],\"histogram\":[{\"marker\":{\"line\":{\"color\":\"white\",\"width\":0.6}},\"type\":\"histogram\"}],\"mesh3d\":[{\"colorbar\":{\"outlinewidth\":1,\"tickcolor\":\"rgb(36,36,36)\",\"ticks\":\"outside\"},\"type\":\"mesh3d\"}],\"parcoords\":[{\"line\":{\"colorbar\":{\"outlinewidth\":1,\"tickcolor\":\"rgb(36,36,36)\",\"ticks\":\"outside\"}},\"type\":\"parcoords\"}],\"pie\":[{\"automargin\":true,\"type\":\"pie\"}],\"scatter3d\":[{\"line\":{\"colorbar\":{\"outlinewidth\":1,\"tickcolor\":\"rgb(36,36,36)\",\"ticks\":\"outside\"}},\"marker\":{\"colorbar\":{\"outlinewidth\":1,\"tickcolor\":\"rgb(36,36,36)\",\"ticks\":\"outside\"}},\"type\":\"scatter3d\"}],\"scattercarpet\":[{\"marker\":{\"colorbar\":{\"outlinewidth\":1,\"tickcolor\":\"rgb(36,36,36)\",\"ticks\":\"outside\"}},\"type\":\"scattercarpet\"}],\"scattergeo\":[{\"marker\":{\"colorbar\":{\"outlinewidth\":1,\"tickcolor\":\"rgb(36,36,36)\",\"ticks\":\"outside\"}},\"type\":\"scattergeo\"}],\"scattergl\":[{\"marker\":{\"colorbar\":{\"outlinewidth\":1,\"tickcolor\":\"rgb(36,36,36)\",\"ticks\":\"outside\"}},\"type\":\"scattergl\"}],\"scattermapbox\":[{\"marker\":{\"colorbar\":{\"outlinewidth\":1,\"tickcolor\":\"rgb(36,36,36)\",\"ticks\":\"outside\"}},\"type\":\"scattermapbox\"}],\"scatterpolargl\":[{\"marker\":{\"colorbar\":{\"outlinewidth\":1,\"tickcolor\":\"rgb(36,36,36)\",\"ticks\":\"outside\"}},\"type\":\"scatterpolargl\"}],\"scatterpolar\":[{\"marker\":{\"colorbar\":{\"outlinewidth\":1,\"tickcolor\":\"rgb(36,36,36)\",\"ticks\":\"outside\"}},\"type\":\"scatterpolar\"}],\"scatter\":[{\"fillpattern\":{\"fillmode\":\"overlay\",\"size\":10,\"solidity\":0.2},\"type\":\"scatter\"}],\"scatterternary\":[{\"marker\":{\"colorbar\":{\"outlinewidth\":1,\"tickcolor\":\"rgb(36,36,36)\",\"ticks\":\"outside\"}},\"type\":\"scatterternary\"}],\"surface\":[{\"colorbar\":{\"outlinewidth\":1,\"tickcolor\":\"rgb(36,36,36)\",\"ticks\":\"outside\"},\"colorscale\":[[0.0,\"#440154\"],[0.1111111111111111,\"#482878\"],[0.2222222222222222,\"#3e4989\"],[0.3333333333333333,\"#31688e\"],[0.4444444444444444,\"#26828e\"],[0.5555555555555556,\"#1f9e89\"],[0.6666666666666666,\"#35b779\"],[0.7777777777777778,\"#6ece58\"],[0.8888888888888888,\"#b5de2b\"],[1.0,\"#fde725\"]],\"type\":\"surface\"}],\"table\":[{\"cells\":{\"fill\":{\"color\":\"rgb(237,237,237)\"},\"line\":{\"color\":\"white\"}},\"header\":{\"fill\":{\"color\":\"rgb(217,217,217)\"},\"line\":{\"color\":\"white\"}},\"type\":\"table\"}]},\"layout\":{\"annotationdefaults\":{\"arrowhead\":0,\"arrowwidth\":1},\"autotypenumbers\":\"strict\",\"coloraxis\":{\"colorbar\":{\"outlinewidth\":1,\"tickcolor\":\"rgb(36,36,36)\",\"ticks\":\"outside\"}},\"colorscale\":{\"diverging\":[[0.0,\"rgb(103,0,31)\"],[0.1,\"rgb(178,24,43)\"],[0.2,\"rgb(214,96,77)\"],[0.3,\"rgb(244,165,130)\"],[0.4,\"rgb(253,219,199)\"],[0.5,\"rgb(247,247,247)\"],[0.6,\"rgb(209,229,240)\"],[0.7,\"rgb(146,197,222)\"],[0.8,\"rgb(67,147,195)\"],[0.9,\"rgb(33,102,172)\"],[1.0,\"rgb(5,48,97)\"]],\"sequential\":[[0.0,\"#440154\"],[0.1111111111111111,\"#482878\"],[0.2222222222222222,\"#3e4989\"],[0.3333333333333333,\"#31688e\"],[0.4444444444444444,\"#26828e\"],[0.5555555555555556,\"#1f9e89\"],[0.6666666666666666,\"#35b779\"],[0.7777777777777778,\"#6ece58\"],[0.8888888888888888,\"#b5de2b\"],[1.0,\"#fde725\"]],\"sequentialminus\":[[0.0,\"#440154\"],[0.1111111111111111,\"#482878\"],[0.2222222222222222,\"#3e4989\"],[0.3333333333333333,\"#31688e\"],[0.4444444444444444,\"#26828e\"],[0.5555555555555556,\"#1f9e89\"],[0.6666666666666666,\"#35b779\"],[0.7777777777777778,\"#6ece58\"],[0.8888888888888888,\"#b5de2b\"],[1.0,\"#fde725\"]]},\"colorway\":[\"#1F77B4\",\"#FF7F0E\",\"#2CA02C\",\"#D62728\",\"#9467BD\",\"#8C564B\",\"#E377C2\",\"#7F7F7F\",\"#BCBD22\",\"#17BECF\"],\"font\":{\"color\":\"rgb(36,36,36)\"},\"geo\":{\"bgcolor\":\"white\",\"lakecolor\":\"white\",\"landcolor\":\"white\",\"showlakes\":true,\"showland\":true,\"subunitcolor\":\"white\"},\"hoverlabel\":{\"align\":\"left\"},\"hovermode\":\"closest\",\"mapbox\":{\"style\":\"light\"},\"paper_bgcolor\":\"white\",\"plot_bgcolor\":\"white\",\"polar\":{\"angularaxis\":{\"gridcolor\":\"rgb(232,232,232)\",\"linecolor\":\"rgb(36,36,36)\",\"showgrid\":false,\"showline\":true,\"ticks\":\"outside\"},\"bgcolor\":\"white\",\"radialaxis\":{\"gridcolor\":\"rgb(232,232,232)\",\"linecolor\":\"rgb(36,36,36)\",\"showgrid\":false,\"showline\":true,\"ticks\":\"outside\"}},\"scene\":{\"xaxis\":{\"backgroundcolor\":\"white\",\"gridcolor\":\"rgb(232,232,232)\",\"gridwidth\":2,\"linecolor\":\"rgb(36,36,36)\",\"showbackground\":true,\"showgrid\":false,\"showline\":true,\"ticks\":\"outside\",\"zeroline\":false,\"zerolinecolor\":\"rgb(36,36,36)\"},\"yaxis\":{\"backgroundcolor\":\"white\",\"gridcolor\":\"rgb(232,232,232)\",\"gridwidth\":2,\"linecolor\":\"rgb(36,36,36)\",\"showbackground\":true,\"showgrid\":false,\"showline\":true,\"ticks\":\"outside\",\"zeroline\":false,\"zerolinecolor\":\"rgb(36,36,36)\"},\"zaxis\":{\"backgroundcolor\":\"white\",\"gridcolor\":\"rgb(232,232,232)\",\"gridwidth\":2,\"linecolor\":\"rgb(36,36,36)\",\"showbackground\":true,\"showgrid\":false,\"showline\":true,\"ticks\":\"outside\",\"zeroline\":false,\"zerolinecolor\":\"rgb(36,36,36)\"}},\"shapedefaults\":{\"fillcolor\":\"black\",\"line\":{\"width\":0},\"opacity\":0.3},\"ternary\":{\"aaxis\":{\"gridcolor\":\"rgb(232,232,232)\",\"linecolor\":\"rgb(36,36,36)\",\"showgrid\":false,\"showline\":true,\"ticks\":\"outside\"},\"baxis\":{\"gridcolor\":\"rgb(232,232,232)\",\"linecolor\":\"rgb(36,36,36)\",\"showgrid\":false,\"showline\":true,\"ticks\":\"outside\"},\"bgcolor\":\"white\",\"caxis\":{\"gridcolor\":\"rgb(232,232,232)\",\"linecolor\":\"rgb(36,36,36)\",\"showgrid\":false,\"showline\":true,\"ticks\":\"outside\"}},\"title\":{\"x\":0.05},\"xaxis\":{\"automargin\":true,\"gridcolor\":\"rgb(232,232,232)\",\"linecolor\":\"rgb(36,36,36)\",\"showgrid\":false,\"showline\":true,\"ticks\":\"outside\",\"title\":{\"standoff\":15},\"zeroline\":false,\"zerolinecolor\":\"rgb(36,36,36)\"},\"yaxis\":{\"automargin\":true,\"gridcolor\":\"rgb(232,232,232)\",\"linecolor\":\"rgb(36,36,36)\",\"showgrid\":false,\"showline\":true,\"ticks\":\"outside\",\"title\":{\"standoff\":15},\"zeroline\":false,\"zerolinecolor\":\"rgb(36,36,36)\"}}},\"xaxis\":{\"anchor\":\"y\",\"domain\":[0.0,0.2425],\"title\":{\"text\":\"efSearch\"},\"linecolor\":\"darkgrey\"},\"yaxis\":{\"anchor\":\"x\",\"domain\":[0.0,1.0],\"title\":{\"text\":\"1-recall@3\"},\"linecolor\":\"darkgrey\",\"showgrid\":true,\"gridwidth\":1,\"gridcolor\":\"LightGrey\",\"griddash\":\"dot\",\"ticks\":\"\"},\"xaxis2\":{\"anchor\":\"y2\",\"domain\":[0.2525,0.495],\"matches\":\"x\",\"title\":{\"text\":\"efSearch\"},\"linecolor\":\"darkgrey\"},\"yaxis2\":{\"anchor\":\"x2\",\"domain\":[0.0,1.0],\"matches\":\"y\",\"showticklabels\":false,\"linecolor\":\"darkgrey\",\"showgrid\":true,\"gridwidth\":1,\"gridcolor\":\"LightGrey\",\"griddash\":\"dot\",\"ticks\":\"\"},\"xaxis3\":{\"anchor\":\"y3\",\"domain\":[0.505,0.7475],\"matches\":\"x\",\"title\":{\"text\":\"efSearch\"},\"linecolor\":\"darkgrey\"},\"yaxis3\":{\"anchor\":\"x3\",\"domain\":[0.0,1.0],\"matches\":\"y\",\"showticklabels\":false,\"linecolor\":\"darkgrey\",\"showgrid\":true,\"gridwidth\":1,\"gridcolor\":\"LightGrey\",\"griddash\":\"dot\",\"ticks\":\"\"},\"xaxis4\":{\"anchor\":\"y4\",\"domain\":[0.7575000000000001,1.0],\"matches\":\"x\",\"title\":{\"text\":\"efSearch\"},\"linecolor\":\"darkgrey\"},\"yaxis4\":{\"anchor\":\"x4\",\"domain\":[0.0,1.0],\"matches\":\"y\",\"showticklabels\":false,\"linecolor\":\"darkgrey\",\"showgrid\":true,\"gridwidth\":1,\"gridcolor\":\"LightGrey\",\"griddash\":\"dot\",\"ticks\":\"\"},\"annotations\":[{\"font\":{},\"showarrow\":false,\"text\":\"efConstruction=4\",\"x\":0.12125,\"xanchor\":\"center\",\"xref\":\"paper\",\"y\":1.0,\"yanchor\":\"bottom\",\"yref\":\"paper\"},{\"font\":{},\"showarrow\":false,\"text\":\"efConstruction=16\",\"x\":0.37375,\"xanchor\":\"center\",\"xref\":\"paper\",\"y\":1.0,\"yanchor\":\"bottom\",\"yref\":\"paper\"},{\"font\":{},\"showarrow\":false,\"text\":\"efConstruction=40\",\"x\":0.62625,\"xanchor\":\"center\",\"xref\":\"paper\",\"y\":1.0,\"yanchor\":\"bottom\",\"yref\":\"paper\"},{\"font\":{},\"showarrow\":false,\"text\":\"efConstruction=76\",\"x\":0.87875,\"xanchor\":\"center\",\"xref\":\"paper\",\"y\":1.0,\"yanchor\":\"bottom\",\"yref\":\"paper\"}],\"legend\":{\"title\":{\"text\":\"M\"},\"tracegroupgap\":0,\"yanchor\":\"top\",\"y\":0.48,\"xanchor\":\"right\",\"x\":0.99,\"borderwidth\":1,\"traceorder\":\"reversed\"},\"margin\":{\"t\":60},\"height\":380,\"width\":750},                        {\"responsive\": true}                    ).then(function(){\n",
       "                            \n",
       "var gd = document.getElementById('33cb7329-7008-450e-b63f-35b886e0a798');\n",
       "var x = new MutationObserver(function (mutations, observer) {{\n",
       "        var display = window.getComputedStyle(gd).display;\n",
       "        if (!display || display === 'none') {{\n",
       "            console.log([gd, 'removed!']);\n",
       "            Plotly.purge(gd);\n",
       "            observer.disconnect();\n",
       "        }}\n",
       "}});\n",
       "\n",
       "// Listen for the removal of the full notebook cells\n",
       "var notebookContainer = gd.closest('#notebook-container');\n",
       "if (notebookContainer) {{\n",
       "    x.observe(notebookContainer, {childList: true});\n",
       "}}\n",
       "\n",
       "// Listen for the clearing of the current output cell\n",
       "var outputEl = gd.closest('.output');\n",
       "if (outputEl) {{\n",
       "    x.observe(outputEl, {childList: true});\n",
       "}}\n",
       "\n",
       "                        })                };                });            </script>        </div>"
      ]
     },
     "metadata": {},
     "output_type": "display_data"
    }
   ],
   "source": [
    "fig = px.line(dfHNSW, x=\"efSearch\", y=\"recall@3\", color=\"M\", height=380, width=750, markers=True, \n",
    "              template=\"simple_white\", color_discrete_sequence=colors_custom, #color_discrete_sequence=px.colors.qualitative.D3,  \n",
    "              facet_col=\"efConstruction\", facet_col_spacing=0.01,                \n",
    "              )\n",
    "fig.update_layout(legend=dict(yanchor=\"top\", y=0.48, xanchor=\"right\", x=0.99, borderwidth=1, traceorder=\"reversed\")) # orientation=\"h\"\n",
    "fig.update_xaxes(linecolor='darkgrey')\n",
    "fig.update_yaxes(linecolor='darkgrey', showgrid=True, gridwidth=1, gridcolor='LightGrey', griddash=\"dot\", ticks=\"\")\n",
    "fig.update_yaxes(row=1, col=1, title_text=\"1-recall@3\")\n",
    "fig.show()\n",
    "fig.write_html(\"Hflat_recall_efSearch_efConst.html\")"
   ]
  },
  {
   "cell_type": "code",
   "execution_count": 47,
   "id": "fe2b49a2",
   "metadata": {
    "execution": {
     "iopub.execute_input": "2022-08-24T06:42:27.692078Z",
     "iopub.status.busy": "2022-08-24T06:42:27.690969Z",
     "iopub.status.idle": "2022-08-24T06:42:27.767792Z",
     "shell.execute_reply": "2022-08-24T06:42:27.766916Z"
    },
    "papermill": {
     "duration": 0.691166,
     "end_time": "2022-08-24T06:42:27.769821",
     "exception": false,
     "start_time": "2022-08-24T06:42:27.078655",
     "status": "completed"
    },
    "tags": []
   },
   "outputs": [
    {
     "data": {
      "text/html": [
       "<div>                            <div id=\"57cf6084-8bd7-4c96-b79d-cfeb4a244847\" class=\"plotly-graph-div\" style=\"height:350px; width:600px;\"></div>            <script type=\"text/javascript\">                require([\"plotly\"], function(Plotly) {                    window.PLOTLYENV=window.PLOTLYENV || {};                                    if (document.getElementById(\"57cf6084-8bd7-4c96-b79d-cfeb4a244847\")) {                    Plotly.newPlot(                        \"57cf6084-8bd7-4c96-b79d-cfeb4a244847\",                        [{\"hovertemplate\":\"M=4<br>efConstruction=%{x}<br>construction time (s)=%{y}<extra></extra>\",\"legendgroup\":\"4\",\"line\":{\"color\":\"#EECA3B\",\"dash\":\"solid\"},\"marker\":{\"symbol\":\"circle\"},\"mode\":\"markers+lines\",\"name\":\"4\",\"orientation\":\"v\",\"showlegend\":true,\"x\":[4,4,4,4,16,16,16,16,40,40,40,40,76,76,76,76],\"xaxis\":\"x\",\"y\":[49.40732479095459,49.40732479095459,49.40732479095459,49.40732479095459,164.9263710975647,164.9263710975647,164.9263710975647,164.9263710975647,348.52228331565857,348.52228331565857,348.52228331565857,348.52228331565857,556.7008607387543,556.7008607387543,556.7008607387543,556.7008607387543],\"yaxis\":\"y\",\"type\":\"scatter\"},{\"hovertemplate\":\"M=16<br>efConstruction=%{x}<br>construction time (s)=%{y}<extra></extra>\",\"legendgroup\":\"16\",\"line\":{\"color\":\"#FF9900\",\"dash\":\"solid\"},\"marker\":{\"symbol\":\"circle\"},\"mode\":\"markers+lines\",\"name\":\"16\",\"orientation\":\"v\",\"showlegend\":true,\"x\":[4,4,4,4,16,16,16,16,40,40,40,40,76,76,76,76],\"xaxis\":\"x\",\"y\":[67.1663990020752,67.1663990020752,67.1663990020752,67.1663990020752,308.49097871780396,308.49097871780396,308.49097871780396,308.49097871780396,537.5106830596924,537.5106830596924,537.5106830596924,537.5106830596924,993.2644124031067,993.2644124031067,993.2644124031067,993.2644124031067],\"yaxis\":\"y\",\"type\":\"scatter\"},{\"hovertemplate\":\"M=32<br>efConstruction=%{x}<br>construction time (s)=%{y}<extra></extra>\",\"legendgroup\":\"32\",\"line\":{\"color\":\"#DC3912\",\"dash\":\"solid\"},\"marker\":{\"symbol\":\"circle\"},\"mode\":\"markers+lines\",\"name\":\"32\",\"orientation\":\"v\",\"showlegend\":true,\"x\":[4,4,4,4,16,16,16,16,40,40,40,40,76,76,76,76],\"xaxis\":\"x\",\"y\":[72.78253841400146,72.78253841400146,72.78253841400146,72.78253841400146,346.9180574417114,346.9180574417114,346.9180574417114,346.9180574417114,866.2019662857056,866.2019662857056,866.2019662857056,866.2019662857056,1111.8633975982666,1111.8633975982666,1111.8633975982666,1111.8633975982666],\"yaxis\":\"y\",\"type\":\"scatter\"},{\"hovertemplate\":\"M=64<br>efConstruction=%{x}<br>construction time (s)=%{y}<extra></extra>\",\"legendgroup\":\"64\",\"line\":{\"color\":\"#990099\",\"dash\":\"solid\"},\"marker\":{\"symbol\":\"circle\"},\"mode\":\"markers+lines\",\"name\":\"64\",\"orientation\":\"v\",\"showlegend\":true,\"x\":[4,4,4,4,16,16,16,16,40,40,40,40,76,76,76,76],\"xaxis\":\"x\",\"y\":[82.21705055236816,82.21705055236816,82.21705055236816,82.21705055236816,394.4718232154846,394.4718232154846,394.4718232154846,394.4718232154846,1113.7258954048157,1113.7258954048157,1113.7258954048157,1113.7258954048157,2090.143053293228,2090.143053293228,2090.143053293228,2090.143053293228],\"yaxis\":\"y\",\"type\":\"scatter\"}],                        {\"template\":{\"data\":{\"barpolar\":[{\"marker\":{\"line\":{\"color\":\"white\",\"width\":0.5},\"pattern\":{\"fillmode\":\"overlay\",\"size\":10,\"solidity\":0.2}},\"type\":\"barpolar\"}],\"bar\":[{\"error_x\":{\"color\":\"rgb(36,36,36)\"},\"error_y\":{\"color\":\"rgb(36,36,36)\"},\"marker\":{\"line\":{\"color\":\"white\",\"width\":0.5},\"pattern\":{\"fillmode\":\"overlay\",\"size\":10,\"solidity\":0.2}},\"type\":\"bar\"}],\"carpet\":[{\"aaxis\":{\"endlinecolor\":\"rgb(36,36,36)\",\"gridcolor\":\"white\",\"linecolor\":\"white\",\"minorgridcolor\":\"white\",\"startlinecolor\":\"rgb(36,36,36)\"},\"baxis\":{\"endlinecolor\":\"rgb(36,36,36)\",\"gridcolor\":\"white\",\"linecolor\":\"white\",\"minorgridcolor\":\"white\",\"startlinecolor\":\"rgb(36,36,36)\"},\"type\":\"carpet\"}],\"choropleth\":[{\"colorbar\":{\"outlinewidth\":1,\"tickcolor\":\"rgb(36,36,36)\",\"ticks\":\"outside\"},\"type\":\"choropleth\"}],\"contourcarpet\":[{\"colorbar\":{\"outlinewidth\":1,\"tickcolor\":\"rgb(36,36,36)\",\"ticks\":\"outside\"},\"type\":\"contourcarpet\"}],\"contour\":[{\"colorbar\":{\"outlinewidth\":1,\"tickcolor\":\"rgb(36,36,36)\",\"ticks\":\"outside\"},\"colorscale\":[[0.0,\"#440154\"],[0.1111111111111111,\"#482878\"],[0.2222222222222222,\"#3e4989\"],[0.3333333333333333,\"#31688e\"],[0.4444444444444444,\"#26828e\"],[0.5555555555555556,\"#1f9e89\"],[0.6666666666666666,\"#35b779\"],[0.7777777777777778,\"#6ece58\"],[0.8888888888888888,\"#b5de2b\"],[1.0,\"#fde725\"]],\"type\":\"contour\"}],\"heatmapgl\":[{\"colorbar\":{\"outlinewidth\":1,\"tickcolor\":\"rgb(36,36,36)\",\"ticks\":\"outside\"},\"colorscale\":[[0.0,\"#440154\"],[0.1111111111111111,\"#482878\"],[0.2222222222222222,\"#3e4989\"],[0.3333333333333333,\"#31688e\"],[0.4444444444444444,\"#26828e\"],[0.5555555555555556,\"#1f9e89\"],[0.6666666666666666,\"#35b779\"],[0.7777777777777778,\"#6ece58\"],[0.8888888888888888,\"#b5de2b\"],[1.0,\"#fde725\"]],\"type\":\"heatmapgl\"}],\"heatmap\":[{\"colorbar\":{\"outlinewidth\":1,\"tickcolor\":\"rgb(36,36,36)\",\"ticks\":\"outside\"},\"colorscale\":[[0.0,\"#440154\"],[0.1111111111111111,\"#482878\"],[0.2222222222222222,\"#3e4989\"],[0.3333333333333333,\"#31688e\"],[0.4444444444444444,\"#26828e\"],[0.5555555555555556,\"#1f9e89\"],[0.6666666666666666,\"#35b779\"],[0.7777777777777778,\"#6ece58\"],[0.8888888888888888,\"#b5de2b\"],[1.0,\"#fde725\"]],\"type\":\"heatmap\"}],\"histogram2dcontour\":[{\"colorbar\":{\"outlinewidth\":1,\"tickcolor\":\"rgb(36,36,36)\",\"ticks\":\"outside\"},\"colorscale\":[[0.0,\"#440154\"],[0.1111111111111111,\"#482878\"],[0.2222222222222222,\"#3e4989\"],[0.3333333333333333,\"#31688e\"],[0.4444444444444444,\"#26828e\"],[0.5555555555555556,\"#1f9e89\"],[0.6666666666666666,\"#35b779\"],[0.7777777777777778,\"#6ece58\"],[0.8888888888888888,\"#b5de2b\"],[1.0,\"#fde725\"]],\"type\":\"histogram2dcontour\"}],\"histogram2d\":[{\"colorbar\":{\"outlinewidth\":1,\"tickcolor\":\"rgb(36,36,36)\",\"ticks\":\"outside\"},\"colorscale\":[[0.0,\"#440154\"],[0.1111111111111111,\"#482878\"],[0.2222222222222222,\"#3e4989\"],[0.3333333333333333,\"#31688e\"],[0.4444444444444444,\"#26828e\"],[0.5555555555555556,\"#1f9e89\"],[0.6666666666666666,\"#35b779\"],[0.7777777777777778,\"#6ece58\"],[0.8888888888888888,\"#b5de2b\"],[1.0,\"#fde725\"]],\"type\":\"histogram2d\"}],\"histogram\":[{\"marker\":{\"line\":{\"color\":\"white\",\"width\":0.6}},\"type\":\"histogram\"}],\"mesh3d\":[{\"colorbar\":{\"outlinewidth\":1,\"tickcolor\":\"rgb(36,36,36)\",\"ticks\":\"outside\"},\"type\":\"mesh3d\"}],\"parcoords\":[{\"line\":{\"colorbar\":{\"outlinewidth\":1,\"tickcolor\":\"rgb(36,36,36)\",\"ticks\":\"outside\"}},\"type\":\"parcoords\"}],\"pie\":[{\"automargin\":true,\"type\":\"pie\"}],\"scatter3d\":[{\"line\":{\"colorbar\":{\"outlinewidth\":1,\"tickcolor\":\"rgb(36,36,36)\",\"ticks\":\"outside\"}},\"marker\":{\"colorbar\":{\"outlinewidth\":1,\"tickcolor\":\"rgb(36,36,36)\",\"ticks\":\"outside\"}},\"type\":\"scatter3d\"}],\"scattercarpet\":[{\"marker\":{\"colorbar\":{\"outlinewidth\":1,\"tickcolor\":\"rgb(36,36,36)\",\"ticks\":\"outside\"}},\"type\":\"scattercarpet\"}],\"scattergeo\":[{\"marker\":{\"colorbar\":{\"outlinewidth\":1,\"tickcolor\":\"rgb(36,36,36)\",\"ticks\":\"outside\"}},\"type\":\"scattergeo\"}],\"scattergl\":[{\"marker\":{\"colorbar\":{\"outlinewidth\":1,\"tickcolor\":\"rgb(36,36,36)\",\"ticks\":\"outside\"}},\"type\":\"scattergl\"}],\"scattermapbox\":[{\"marker\":{\"colorbar\":{\"outlinewidth\":1,\"tickcolor\":\"rgb(36,36,36)\",\"ticks\":\"outside\"}},\"type\":\"scattermapbox\"}],\"scatterpolargl\":[{\"marker\":{\"colorbar\":{\"outlinewidth\":1,\"tickcolor\":\"rgb(36,36,36)\",\"ticks\":\"outside\"}},\"type\":\"scatterpolargl\"}],\"scatterpolar\":[{\"marker\":{\"colorbar\":{\"outlinewidth\":1,\"tickcolor\":\"rgb(36,36,36)\",\"ticks\":\"outside\"}},\"type\":\"scatterpolar\"}],\"scatter\":[{\"fillpattern\":{\"fillmode\":\"overlay\",\"size\":10,\"solidity\":0.2},\"type\":\"scatter\"}],\"scatterternary\":[{\"marker\":{\"colorbar\":{\"outlinewidth\":1,\"tickcolor\":\"rgb(36,36,36)\",\"ticks\":\"outside\"}},\"type\":\"scatterternary\"}],\"surface\":[{\"colorbar\":{\"outlinewidth\":1,\"tickcolor\":\"rgb(36,36,36)\",\"ticks\":\"outside\"},\"colorscale\":[[0.0,\"#440154\"],[0.1111111111111111,\"#482878\"],[0.2222222222222222,\"#3e4989\"],[0.3333333333333333,\"#31688e\"],[0.4444444444444444,\"#26828e\"],[0.5555555555555556,\"#1f9e89\"],[0.6666666666666666,\"#35b779\"],[0.7777777777777778,\"#6ece58\"],[0.8888888888888888,\"#b5de2b\"],[1.0,\"#fde725\"]],\"type\":\"surface\"}],\"table\":[{\"cells\":{\"fill\":{\"color\":\"rgb(237,237,237)\"},\"line\":{\"color\":\"white\"}},\"header\":{\"fill\":{\"color\":\"rgb(217,217,217)\"},\"line\":{\"color\":\"white\"}},\"type\":\"table\"}]},\"layout\":{\"annotationdefaults\":{\"arrowhead\":0,\"arrowwidth\":1},\"autotypenumbers\":\"strict\",\"coloraxis\":{\"colorbar\":{\"outlinewidth\":1,\"tickcolor\":\"rgb(36,36,36)\",\"ticks\":\"outside\"}},\"colorscale\":{\"diverging\":[[0.0,\"rgb(103,0,31)\"],[0.1,\"rgb(178,24,43)\"],[0.2,\"rgb(214,96,77)\"],[0.3,\"rgb(244,165,130)\"],[0.4,\"rgb(253,219,199)\"],[0.5,\"rgb(247,247,247)\"],[0.6,\"rgb(209,229,240)\"],[0.7,\"rgb(146,197,222)\"],[0.8,\"rgb(67,147,195)\"],[0.9,\"rgb(33,102,172)\"],[1.0,\"rgb(5,48,97)\"]],\"sequential\":[[0.0,\"#440154\"],[0.1111111111111111,\"#482878\"],[0.2222222222222222,\"#3e4989\"],[0.3333333333333333,\"#31688e\"],[0.4444444444444444,\"#26828e\"],[0.5555555555555556,\"#1f9e89\"],[0.6666666666666666,\"#35b779\"],[0.7777777777777778,\"#6ece58\"],[0.8888888888888888,\"#b5de2b\"],[1.0,\"#fde725\"]],\"sequentialminus\":[[0.0,\"#440154\"],[0.1111111111111111,\"#482878\"],[0.2222222222222222,\"#3e4989\"],[0.3333333333333333,\"#31688e\"],[0.4444444444444444,\"#26828e\"],[0.5555555555555556,\"#1f9e89\"],[0.6666666666666666,\"#35b779\"],[0.7777777777777778,\"#6ece58\"],[0.8888888888888888,\"#b5de2b\"],[1.0,\"#fde725\"]]},\"colorway\":[\"#1F77B4\",\"#FF7F0E\",\"#2CA02C\",\"#D62728\",\"#9467BD\",\"#8C564B\",\"#E377C2\",\"#7F7F7F\",\"#BCBD22\",\"#17BECF\"],\"font\":{\"color\":\"rgb(36,36,36)\"},\"geo\":{\"bgcolor\":\"white\",\"lakecolor\":\"white\",\"landcolor\":\"white\",\"showlakes\":true,\"showland\":true,\"subunitcolor\":\"white\"},\"hoverlabel\":{\"align\":\"left\"},\"hovermode\":\"closest\",\"mapbox\":{\"style\":\"light\"},\"paper_bgcolor\":\"white\",\"plot_bgcolor\":\"white\",\"polar\":{\"angularaxis\":{\"gridcolor\":\"rgb(232,232,232)\",\"linecolor\":\"rgb(36,36,36)\",\"showgrid\":false,\"showline\":true,\"ticks\":\"outside\"},\"bgcolor\":\"white\",\"radialaxis\":{\"gridcolor\":\"rgb(232,232,232)\",\"linecolor\":\"rgb(36,36,36)\",\"showgrid\":false,\"showline\":true,\"ticks\":\"outside\"}},\"scene\":{\"xaxis\":{\"backgroundcolor\":\"white\",\"gridcolor\":\"rgb(232,232,232)\",\"gridwidth\":2,\"linecolor\":\"rgb(36,36,36)\",\"showbackground\":true,\"showgrid\":false,\"showline\":true,\"ticks\":\"outside\",\"zeroline\":false,\"zerolinecolor\":\"rgb(36,36,36)\"},\"yaxis\":{\"backgroundcolor\":\"white\",\"gridcolor\":\"rgb(232,232,232)\",\"gridwidth\":2,\"linecolor\":\"rgb(36,36,36)\",\"showbackground\":true,\"showgrid\":false,\"showline\":true,\"ticks\":\"outside\",\"zeroline\":false,\"zerolinecolor\":\"rgb(36,36,36)\"},\"zaxis\":{\"backgroundcolor\":\"white\",\"gridcolor\":\"rgb(232,232,232)\",\"gridwidth\":2,\"linecolor\":\"rgb(36,36,36)\",\"showbackground\":true,\"showgrid\":false,\"showline\":true,\"ticks\":\"outside\",\"zeroline\":false,\"zerolinecolor\":\"rgb(36,36,36)\"}},\"shapedefaults\":{\"fillcolor\":\"black\",\"line\":{\"width\":0},\"opacity\":0.3},\"ternary\":{\"aaxis\":{\"gridcolor\":\"rgb(232,232,232)\",\"linecolor\":\"rgb(36,36,36)\",\"showgrid\":false,\"showline\":true,\"ticks\":\"outside\"},\"baxis\":{\"gridcolor\":\"rgb(232,232,232)\",\"linecolor\":\"rgb(36,36,36)\",\"showgrid\":false,\"showline\":true,\"ticks\":\"outside\"},\"bgcolor\":\"white\",\"caxis\":{\"gridcolor\":\"rgb(232,232,232)\",\"linecolor\":\"rgb(36,36,36)\",\"showgrid\":false,\"showline\":true,\"ticks\":\"outside\"}},\"title\":{\"x\":0.05},\"xaxis\":{\"automargin\":true,\"gridcolor\":\"rgb(232,232,232)\",\"linecolor\":\"rgb(36,36,36)\",\"showgrid\":false,\"showline\":true,\"ticks\":\"outside\",\"title\":{\"standoff\":15},\"zeroline\":false,\"zerolinecolor\":\"rgb(36,36,36)\"},\"yaxis\":{\"automargin\":true,\"gridcolor\":\"rgb(232,232,232)\",\"linecolor\":\"rgb(36,36,36)\",\"showgrid\":false,\"showline\":true,\"ticks\":\"outside\",\"title\":{\"standoff\":15},\"zeroline\":false,\"zerolinecolor\":\"rgb(36,36,36)\"}}},\"xaxis\":{\"anchor\":\"y\",\"domain\":[0.0,1.0],\"title\":{\"text\":\"efConstruction\"},\"linecolor\":\"darkgrey\"},\"yaxis\":{\"anchor\":\"x\",\"domain\":[0.0,1.0],\"title\":{\"text\":\"construction time (s)\"},\"linecolor\":\"darkgrey\",\"showgrid\":true,\"gridwidth\":1,\"gridcolor\":\"LightGrey\",\"griddash\":\"dot\",\"ticks\":\"\"},\"legend\":{\"title\":{\"text\":\"M\"},\"tracegroupgap\":0,\"yanchor\":\"top\",\"y\":0.98,\"xanchor\":\"left\",\"x\":0.05,\"borderwidth\":1,\"traceorder\":\"reversed\"},\"margin\":{\"t\":60},\"height\":350,\"width\":600},                        {\"responsive\": true}                    ).then(function(){\n",
       "                            \n",
       "var gd = document.getElementById('57cf6084-8bd7-4c96-b79d-cfeb4a244847');\n",
       "var x = new MutationObserver(function (mutations, observer) {{\n",
       "        var display = window.getComputedStyle(gd).display;\n",
       "        if (!display || display === 'none') {{\n",
       "            console.log([gd, 'removed!']);\n",
       "            Plotly.purge(gd);\n",
       "            observer.disconnect();\n",
       "        }}\n",
       "}});\n",
       "\n",
       "// Listen for the removal of the full notebook cells\n",
       "var notebookContainer = gd.closest('#notebook-container');\n",
       "if (notebookContainer) {{\n",
       "    x.observe(notebookContainer, {childList: true});\n",
       "}}\n",
       "\n",
       "// Listen for the clearing of the current output cell\n",
       "var outputEl = gd.closest('.output');\n",
       "if (outputEl) {{\n",
       "    x.observe(outputEl, {childList: true});\n",
       "}}\n",
       "\n",
       "                        })                };                });            </script>        </div>"
      ]
     },
     "metadata": {},
     "output_type": "display_data"
    }
   ],
   "source": [
    "fig = px.line(dfHNSW, x=\"efConstruction\", y=\"index_time\", color=\"M\", height=350, width=600, markers=True,\n",
    "              template=\"simple_white\", color_discrete_sequence=colors_custom, #color_discrete_sequence=px.colors.qualitative.D3,  \n",
    "              labels=dict(index_time=\"construction time (s)\",)\n",
    "              )\n",
    "fig.update_layout(legend=dict(yanchor=\"top\", y=0.98, xanchor=\"left\", x=0.05, borderwidth=1, traceorder=\"reversed\")) # orientation=\"h\"\n",
    "fig.update_xaxes(linecolor='darkgrey')\n",
    "fig.update_yaxes(linecolor='darkgrey', showgrid=True, gridwidth=1, gridcolor='LightGrey', griddash=\"dot\", ticks=\"\")\n",
    "fig.show()\n",
    "fig.write_html(\"Hflat_indextime_efConst.html\")"
   ]
  },
  {
   "cell_type": "code",
   "execution_count": 48,
   "id": "fa9c40d5",
   "metadata": {
    "execution": {
     "iopub.execute_input": "2022-08-24T06:42:29.059469Z",
     "iopub.status.busy": "2022-08-24T06:42:29.058752Z",
     "iopub.status.idle": "2022-08-24T06:42:29.141634Z",
     "shell.execute_reply": "2022-08-24T06:42:29.140726Z"
    },
    "papermill": {
     "duration": 0.75724,
     "end_time": "2022-08-24T06:42:29.143700",
     "exception": false,
     "start_time": "2022-08-24T06:42:28.386460",
     "status": "completed"
    },
    "tags": []
   },
   "outputs": [
    {
     "data": {
      "text/html": [
       "<div>                            <div id=\"88423ede-e95d-49c0-8095-6214e57d6959\" class=\"plotly-graph-div\" style=\"height:350px; width:600px;\"></div>            <script type=\"text/javascript\">                require([\"plotly\"], function(Plotly) {                    window.PLOTLYENV=window.PLOTLYENV || {};                                    if (document.getElementById(\"88423ede-e95d-49c0-8095-6214e57d6959\")) {                    Plotly.newPlot(                        \"88423ede-e95d-49c0-8095-6214e57d6959\",                        [{\"hovertemplate\":\"M=4<br>efSearch=%{x}<br>search time (ms/query)=%{y}<extra></extra>\",\"legendgroup\":\"4\",\"line\":{\"color\":\"#EECA3B\",\"dash\":\"solid\"},\"marker\":{\"symbol\":\"circle\"},\"mode\":\"markers+lines\",\"name\":\"4\",\"orientation\":\"v\",\"showlegend\":true,\"x\":[4,16,40,76],\"xaxis\":\"x\",\"y\":[0.02127981185913086,0.04080629348754883,0.07532739639282227,0.13627386093139648],\"yaxis\":\"y\",\"type\":\"scatter\"},{\"hovertemplate\":\"M=16<br>efSearch=%{x}<br>search time (ms/query)=%{y}<extra></extra>\",\"legendgroup\":\"16\",\"line\":{\"color\":\"#FF9900\",\"dash\":\"solid\"},\"marker\":{\"symbol\":\"circle\"},\"mode\":\"markers+lines\",\"name\":\"16\",\"orientation\":\"v\",\"showlegend\":true,\"x\":[4,16,40,76],\"xaxis\":\"x\",\"y\":[0.07292890548706055,0.14293575286865234,0.24015092849731445,0.35860228538513184],\"yaxis\":\"y\",\"type\":\"scatter\"},{\"hovertemplate\":\"M=32<br>efSearch=%{x}<br>search time (ms/query)=%{y}<extra></extra>\",\"legendgroup\":\"32\",\"line\":{\"color\":\"#DC3912\",\"dash\":\"solid\"},\"marker\":{\"symbol\":\"circle\"},\"mode\":\"markers+lines\",\"name\":\"32\",\"orientation\":\"v\",\"showlegend\":true,\"x\":[4,16,40,76],\"xaxis\":\"x\",\"y\":[0.12500262260437012,0.2442944049835205,0.2931351661682129,0.48569440841674805],\"yaxis\":\"y\",\"type\":\"scatter\"},{\"hovertemplate\":\"M=64<br>efSearch=%{x}<br>search time (ms/query)=%{y}<extra></extra>\",\"legendgroup\":\"64\",\"line\":{\"color\":\"#990099\",\"dash\":\"solid\"},\"marker\":{\"symbol\":\"circle\"},\"mode\":\"markers+lines\",\"name\":\"64\",\"orientation\":\"v\",\"showlegend\":true,\"x\":[4,16,40,76],\"xaxis\":\"x\",\"y\":[0.10021829605102539,0.27878665924072266,0.4650840759277344,0.5619399547576904],\"yaxis\":\"y\",\"type\":\"scatter\"}],                        {\"template\":{\"data\":{\"barpolar\":[{\"marker\":{\"line\":{\"color\":\"white\",\"width\":0.5},\"pattern\":{\"fillmode\":\"overlay\",\"size\":10,\"solidity\":0.2}},\"type\":\"barpolar\"}],\"bar\":[{\"error_x\":{\"color\":\"rgb(36,36,36)\"},\"error_y\":{\"color\":\"rgb(36,36,36)\"},\"marker\":{\"line\":{\"color\":\"white\",\"width\":0.5},\"pattern\":{\"fillmode\":\"overlay\",\"size\":10,\"solidity\":0.2}},\"type\":\"bar\"}],\"carpet\":[{\"aaxis\":{\"endlinecolor\":\"rgb(36,36,36)\",\"gridcolor\":\"white\",\"linecolor\":\"white\",\"minorgridcolor\":\"white\",\"startlinecolor\":\"rgb(36,36,36)\"},\"baxis\":{\"endlinecolor\":\"rgb(36,36,36)\",\"gridcolor\":\"white\",\"linecolor\":\"white\",\"minorgridcolor\":\"white\",\"startlinecolor\":\"rgb(36,36,36)\"},\"type\":\"carpet\"}],\"choropleth\":[{\"colorbar\":{\"outlinewidth\":1,\"tickcolor\":\"rgb(36,36,36)\",\"ticks\":\"outside\"},\"type\":\"choropleth\"}],\"contourcarpet\":[{\"colorbar\":{\"outlinewidth\":1,\"tickcolor\":\"rgb(36,36,36)\",\"ticks\":\"outside\"},\"type\":\"contourcarpet\"}],\"contour\":[{\"colorbar\":{\"outlinewidth\":1,\"tickcolor\":\"rgb(36,36,36)\",\"ticks\":\"outside\"},\"colorscale\":[[0.0,\"#440154\"],[0.1111111111111111,\"#482878\"],[0.2222222222222222,\"#3e4989\"],[0.3333333333333333,\"#31688e\"],[0.4444444444444444,\"#26828e\"],[0.5555555555555556,\"#1f9e89\"],[0.6666666666666666,\"#35b779\"],[0.7777777777777778,\"#6ece58\"],[0.8888888888888888,\"#b5de2b\"],[1.0,\"#fde725\"]],\"type\":\"contour\"}],\"heatmapgl\":[{\"colorbar\":{\"outlinewidth\":1,\"tickcolor\":\"rgb(36,36,36)\",\"ticks\":\"outside\"},\"colorscale\":[[0.0,\"#440154\"],[0.1111111111111111,\"#482878\"],[0.2222222222222222,\"#3e4989\"],[0.3333333333333333,\"#31688e\"],[0.4444444444444444,\"#26828e\"],[0.5555555555555556,\"#1f9e89\"],[0.6666666666666666,\"#35b779\"],[0.7777777777777778,\"#6ece58\"],[0.8888888888888888,\"#b5de2b\"],[1.0,\"#fde725\"]],\"type\":\"heatmapgl\"}],\"heatmap\":[{\"colorbar\":{\"outlinewidth\":1,\"tickcolor\":\"rgb(36,36,36)\",\"ticks\":\"outside\"},\"colorscale\":[[0.0,\"#440154\"],[0.1111111111111111,\"#482878\"],[0.2222222222222222,\"#3e4989\"],[0.3333333333333333,\"#31688e\"],[0.4444444444444444,\"#26828e\"],[0.5555555555555556,\"#1f9e89\"],[0.6666666666666666,\"#35b779\"],[0.7777777777777778,\"#6ece58\"],[0.8888888888888888,\"#b5de2b\"],[1.0,\"#fde725\"]],\"type\":\"heatmap\"}],\"histogram2dcontour\":[{\"colorbar\":{\"outlinewidth\":1,\"tickcolor\":\"rgb(36,36,36)\",\"ticks\":\"outside\"},\"colorscale\":[[0.0,\"#440154\"],[0.1111111111111111,\"#482878\"],[0.2222222222222222,\"#3e4989\"],[0.3333333333333333,\"#31688e\"],[0.4444444444444444,\"#26828e\"],[0.5555555555555556,\"#1f9e89\"],[0.6666666666666666,\"#35b779\"],[0.7777777777777778,\"#6ece58\"],[0.8888888888888888,\"#b5de2b\"],[1.0,\"#fde725\"]],\"type\":\"histogram2dcontour\"}],\"histogram2d\":[{\"colorbar\":{\"outlinewidth\":1,\"tickcolor\":\"rgb(36,36,36)\",\"ticks\":\"outside\"},\"colorscale\":[[0.0,\"#440154\"],[0.1111111111111111,\"#482878\"],[0.2222222222222222,\"#3e4989\"],[0.3333333333333333,\"#31688e\"],[0.4444444444444444,\"#26828e\"],[0.5555555555555556,\"#1f9e89\"],[0.6666666666666666,\"#35b779\"],[0.7777777777777778,\"#6ece58\"],[0.8888888888888888,\"#b5de2b\"],[1.0,\"#fde725\"]],\"type\":\"histogram2d\"}],\"histogram\":[{\"marker\":{\"line\":{\"color\":\"white\",\"width\":0.6}},\"type\":\"histogram\"}],\"mesh3d\":[{\"colorbar\":{\"outlinewidth\":1,\"tickcolor\":\"rgb(36,36,36)\",\"ticks\":\"outside\"},\"type\":\"mesh3d\"}],\"parcoords\":[{\"line\":{\"colorbar\":{\"outlinewidth\":1,\"tickcolor\":\"rgb(36,36,36)\",\"ticks\":\"outside\"}},\"type\":\"parcoords\"}],\"pie\":[{\"automargin\":true,\"type\":\"pie\"}],\"scatter3d\":[{\"line\":{\"colorbar\":{\"outlinewidth\":1,\"tickcolor\":\"rgb(36,36,36)\",\"ticks\":\"outside\"}},\"marker\":{\"colorbar\":{\"outlinewidth\":1,\"tickcolor\":\"rgb(36,36,36)\",\"ticks\":\"outside\"}},\"type\":\"scatter3d\"}],\"scattercarpet\":[{\"marker\":{\"colorbar\":{\"outlinewidth\":1,\"tickcolor\":\"rgb(36,36,36)\",\"ticks\":\"outside\"}},\"type\":\"scattercarpet\"}],\"scattergeo\":[{\"marker\":{\"colorbar\":{\"outlinewidth\":1,\"tickcolor\":\"rgb(36,36,36)\",\"ticks\":\"outside\"}},\"type\":\"scattergeo\"}],\"scattergl\":[{\"marker\":{\"colorbar\":{\"outlinewidth\":1,\"tickcolor\":\"rgb(36,36,36)\",\"ticks\":\"outside\"}},\"type\":\"scattergl\"}],\"scattermapbox\":[{\"marker\":{\"colorbar\":{\"outlinewidth\":1,\"tickcolor\":\"rgb(36,36,36)\",\"ticks\":\"outside\"}},\"type\":\"scattermapbox\"}],\"scatterpolargl\":[{\"marker\":{\"colorbar\":{\"outlinewidth\":1,\"tickcolor\":\"rgb(36,36,36)\",\"ticks\":\"outside\"}},\"type\":\"scatterpolargl\"}],\"scatterpolar\":[{\"marker\":{\"colorbar\":{\"outlinewidth\":1,\"tickcolor\":\"rgb(36,36,36)\",\"ticks\":\"outside\"}},\"type\":\"scatterpolar\"}],\"scatter\":[{\"fillpattern\":{\"fillmode\":\"overlay\",\"size\":10,\"solidity\":0.2},\"type\":\"scatter\"}],\"scatterternary\":[{\"marker\":{\"colorbar\":{\"outlinewidth\":1,\"tickcolor\":\"rgb(36,36,36)\",\"ticks\":\"outside\"}},\"type\":\"scatterternary\"}],\"surface\":[{\"colorbar\":{\"outlinewidth\":1,\"tickcolor\":\"rgb(36,36,36)\",\"ticks\":\"outside\"},\"colorscale\":[[0.0,\"#440154\"],[0.1111111111111111,\"#482878\"],[0.2222222222222222,\"#3e4989\"],[0.3333333333333333,\"#31688e\"],[0.4444444444444444,\"#26828e\"],[0.5555555555555556,\"#1f9e89\"],[0.6666666666666666,\"#35b779\"],[0.7777777777777778,\"#6ece58\"],[0.8888888888888888,\"#b5de2b\"],[1.0,\"#fde725\"]],\"type\":\"surface\"}],\"table\":[{\"cells\":{\"fill\":{\"color\":\"rgb(237,237,237)\"},\"line\":{\"color\":\"white\"}},\"header\":{\"fill\":{\"color\":\"rgb(217,217,217)\"},\"line\":{\"color\":\"white\"}},\"type\":\"table\"}]},\"layout\":{\"annotationdefaults\":{\"arrowhead\":0,\"arrowwidth\":1},\"autotypenumbers\":\"strict\",\"coloraxis\":{\"colorbar\":{\"outlinewidth\":1,\"tickcolor\":\"rgb(36,36,36)\",\"ticks\":\"outside\"}},\"colorscale\":{\"diverging\":[[0.0,\"rgb(103,0,31)\"],[0.1,\"rgb(178,24,43)\"],[0.2,\"rgb(214,96,77)\"],[0.3,\"rgb(244,165,130)\"],[0.4,\"rgb(253,219,199)\"],[0.5,\"rgb(247,247,247)\"],[0.6,\"rgb(209,229,240)\"],[0.7,\"rgb(146,197,222)\"],[0.8,\"rgb(67,147,195)\"],[0.9,\"rgb(33,102,172)\"],[1.0,\"rgb(5,48,97)\"]],\"sequential\":[[0.0,\"#440154\"],[0.1111111111111111,\"#482878\"],[0.2222222222222222,\"#3e4989\"],[0.3333333333333333,\"#31688e\"],[0.4444444444444444,\"#26828e\"],[0.5555555555555556,\"#1f9e89\"],[0.6666666666666666,\"#35b779\"],[0.7777777777777778,\"#6ece58\"],[0.8888888888888888,\"#b5de2b\"],[1.0,\"#fde725\"]],\"sequentialminus\":[[0.0,\"#440154\"],[0.1111111111111111,\"#482878\"],[0.2222222222222222,\"#3e4989\"],[0.3333333333333333,\"#31688e\"],[0.4444444444444444,\"#26828e\"],[0.5555555555555556,\"#1f9e89\"],[0.6666666666666666,\"#35b779\"],[0.7777777777777778,\"#6ece58\"],[0.8888888888888888,\"#b5de2b\"],[1.0,\"#fde725\"]]},\"colorway\":[\"#1F77B4\",\"#FF7F0E\",\"#2CA02C\",\"#D62728\",\"#9467BD\",\"#8C564B\",\"#E377C2\",\"#7F7F7F\",\"#BCBD22\",\"#17BECF\"],\"font\":{\"color\":\"rgb(36,36,36)\"},\"geo\":{\"bgcolor\":\"white\",\"lakecolor\":\"white\",\"landcolor\":\"white\",\"showlakes\":true,\"showland\":true,\"subunitcolor\":\"white\"},\"hoverlabel\":{\"align\":\"left\"},\"hovermode\":\"closest\",\"mapbox\":{\"style\":\"light\"},\"paper_bgcolor\":\"white\",\"plot_bgcolor\":\"white\",\"polar\":{\"angularaxis\":{\"gridcolor\":\"rgb(232,232,232)\",\"linecolor\":\"rgb(36,36,36)\",\"showgrid\":false,\"showline\":true,\"ticks\":\"outside\"},\"bgcolor\":\"white\",\"radialaxis\":{\"gridcolor\":\"rgb(232,232,232)\",\"linecolor\":\"rgb(36,36,36)\",\"showgrid\":false,\"showline\":true,\"ticks\":\"outside\"}},\"scene\":{\"xaxis\":{\"backgroundcolor\":\"white\",\"gridcolor\":\"rgb(232,232,232)\",\"gridwidth\":2,\"linecolor\":\"rgb(36,36,36)\",\"showbackground\":true,\"showgrid\":false,\"showline\":true,\"ticks\":\"outside\",\"zeroline\":false,\"zerolinecolor\":\"rgb(36,36,36)\"},\"yaxis\":{\"backgroundcolor\":\"white\",\"gridcolor\":\"rgb(232,232,232)\",\"gridwidth\":2,\"linecolor\":\"rgb(36,36,36)\",\"showbackground\":true,\"showgrid\":false,\"showline\":true,\"ticks\":\"outside\",\"zeroline\":false,\"zerolinecolor\":\"rgb(36,36,36)\"},\"zaxis\":{\"backgroundcolor\":\"white\",\"gridcolor\":\"rgb(232,232,232)\",\"gridwidth\":2,\"linecolor\":\"rgb(36,36,36)\",\"showbackground\":true,\"showgrid\":false,\"showline\":true,\"ticks\":\"outside\",\"zeroline\":false,\"zerolinecolor\":\"rgb(36,36,36)\"}},\"shapedefaults\":{\"fillcolor\":\"black\",\"line\":{\"width\":0},\"opacity\":0.3},\"ternary\":{\"aaxis\":{\"gridcolor\":\"rgb(232,232,232)\",\"linecolor\":\"rgb(36,36,36)\",\"showgrid\":false,\"showline\":true,\"ticks\":\"outside\"},\"baxis\":{\"gridcolor\":\"rgb(232,232,232)\",\"linecolor\":\"rgb(36,36,36)\",\"showgrid\":false,\"showline\":true,\"ticks\":\"outside\"},\"bgcolor\":\"white\",\"caxis\":{\"gridcolor\":\"rgb(232,232,232)\",\"linecolor\":\"rgb(36,36,36)\",\"showgrid\":false,\"showline\":true,\"ticks\":\"outside\"}},\"title\":{\"x\":0.05},\"xaxis\":{\"automargin\":true,\"gridcolor\":\"rgb(232,232,232)\",\"linecolor\":\"rgb(36,36,36)\",\"showgrid\":false,\"showline\":true,\"ticks\":\"outside\",\"title\":{\"standoff\":15},\"zeroline\":false,\"zerolinecolor\":\"rgb(36,36,36)\"},\"yaxis\":{\"automargin\":true,\"gridcolor\":\"rgb(232,232,232)\",\"linecolor\":\"rgb(36,36,36)\",\"showgrid\":false,\"showline\":true,\"ticks\":\"outside\",\"title\":{\"standoff\":15},\"zeroline\":false,\"zerolinecolor\":\"rgb(36,36,36)\"}}},\"xaxis\":{\"anchor\":\"y\",\"domain\":[0.0,1.0],\"title\":{\"text\":\"efSearch\"},\"linecolor\":\"darkgrey\"},\"yaxis\":{\"anchor\":\"x\",\"domain\":[0.0,1.0],\"title\":{\"text\":\"search time (ms/query)\"},\"linecolor\":\"darkgrey\",\"showgrid\":true,\"gridwidth\":1,\"gridcolor\":\"LightGrey\",\"griddash\":\"dot\",\"ticks\":\"\"},\"legend\":{\"title\":{\"text\":\"M\"},\"tracegroupgap\":0,\"yanchor\":\"top\",\"y\":1.05,\"xanchor\":\"left\",\"x\":0.05,\"borderwidth\":1,\"traceorder\":\"reversed\"},\"title\":{\"text\":\"efConstruction = 40\"},\"height\":350,\"width\":600},                        {\"responsive\": true}                    ).then(function(){\n",
       "                            \n",
       "var gd = document.getElementById('88423ede-e95d-49c0-8095-6214e57d6959');\n",
       "var x = new MutationObserver(function (mutations, observer) {{\n",
       "        var display = window.getComputedStyle(gd).display;\n",
       "        if (!display || display === 'none') {{\n",
       "            console.log([gd, 'removed!']);\n",
       "            Plotly.purge(gd);\n",
       "            observer.disconnect();\n",
       "        }}\n",
       "}});\n",
       "\n",
       "// Listen for the removal of the full notebook cells\n",
       "var notebookContainer = gd.closest('#notebook-container');\n",
       "if (notebookContainer) {{\n",
       "    x.observe(notebookContainer, {childList: true});\n",
       "}}\n",
       "\n",
       "// Listen for the clearing of the current output cell\n",
       "var outputEl = gd.closest('.output');\n",
       "if (outputEl) {{\n",
       "    x.observe(outputEl, {childList: true});\n",
       "}}\n",
       "\n",
       "                        })                };                });            </script>        </div>"
      ]
     },
     "metadata": {},
     "output_type": "display_data"
    }
   ],
   "source": [
    "fig = px.line(dfHNSW.query(\"efConstruction==40\"), x=\"efSearch\", y=\"search_time\", color=\"M\", height=350, width=600, markers=True,\n",
    "              template=\"simple_white\", color_discrete_sequence=colors_custom, #color_discrete_sequence=px.colors.qualitative.D3,  \n",
    "              labels=dict(search_time=\"search time (ms/query)\",), title=\"efConstruction = 40\"\n",
    "              )\n",
    "fig.update_layout(legend=dict(yanchor=\"top\", y=1.05, xanchor=\"left\", x=0.05, borderwidth=1, traceorder=\"reversed\")) # orientation=\"h\"\n",
    "fig.update_xaxes(linecolor='darkgrey')\n",
    "fig.update_yaxes(linecolor='darkgrey', showgrid=True, gridwidth=1, gridcolor='LightGrey', griddash=\"dot\", ticks=\"\")\n",
    "fig.show()\n",
    "fig.write_html(\"Hflat_searchtime_efSearch_efConst40.html\")"
   ]
  },
  {
   "cell_type": "code",
   "execution_count": 49,
   "id": "4f35f65c",
   "metadata": {
    "execution": {
     "iopub.execute_input": "2022-08-24T06:42:30.362665Z",
     "iopub.status.busy": "2022-08-24T06:42:30.362296Z",
     "iopub.status.idle": "2022-08-24T06:42:30.368727Z",
     "shell.execute_reply": "2022-08-24T06:42:30.367673Z"
    },
    "papermill": {
     "duration": 0.617718,
     "end_time": "2022-08-24T06:42:30.371217",
     "exception": false,
     "start_time": "2022-08-24T06:42:29.753499",
     "status": "completed"
    },
    "tags": []
   },
   "outputs": [],
   "source": [
    "dfHNSW[\"M\"] = dfHNSW[\"M\"].fillna(0.0).astype(str)"
   ]
  },
  {
   "cell_type": "code",
   "execution_count": 50,
   "id": "4d310ce5",
   "metadata": {
    "execution": {
     "iopub.execute_input": "2022-08-24T06:42:31.658437Z",
     "iopub.status.busy": "2022-08-24T06:42:31.658009Z",
     "iopub.status.idle": "2022-08-24T06:42:32.468891Z",
     "shell.execute_reply": "2022-08-24T06:42:32.467933Z"
    },
    "papermill": {
     "duration": 1.4891,
     "end_time": "2022-08-24T06:42:32.471416",
     "exception": false,
     "start_time": "2022-08-24T06:42:30.982316",
     "status": "completed"
    },
    "tags": []
   },
   "outputs": [
    {
     "data": {
      "text/html": [
       "<div>                            <div id=\"e451863c-2ae7-4cbb-9a48-73a47dcb0dc1\" class=\"plotly-graph-div\" style=\"height:700px; width:700px;\"></div>            <script type=\"text/javascript\">                require([\"plotly\"], function(Plotly) {                    window.PLOTLYENV=window.PLOTLYENV || {};                                    if (document.getElementById(\"e451863c-2ae7-4cbb-9a48-73a47dcb0dc1\")) {                    Plotly.newPlot(                        \"e451863c-2ae7-4cbb-9a48-73a47dcb0dc1\",                        [{\"hovertemplate\":\"M=4<br>efSearch=4<br>efConstruction=4<br>search_time=%{x}<br>recall@3=%{y}<br>index_size=%{marker.size}<extra></extra>\",\"legendgroup\":\"4\",\"marker\":{\"color\":\"#EECA3B\",\"size\":[1684.0091499999999],\"sizemode\":\"area\",\"sizeref\":13.867527777777777,\"symbol\":\"circle\"},\"mode\":\"markers\",\"name\":\"4\",\"orientation\":\"v\",\"showlegend\":true,\"x\":[0.11185693740844727],\"xaxis\":\"x13\",\"y\":[0.021],\"yaxis\":\"y13\",\"type\":\"scatter\"},{\"hovertemplate\":\"M=4<br>efSearch=4<br>efConstruction=16<br>search_time=%{x}<br>recall@3=%{y}<br>index_size=%{marker.size}<extra></extra>\",\"legendgroup\":\"4\",\"marker\":{\"color\":\"#EECA3B\",\"size\":[1684.0091499999999],\"sizemode\":\"area\",\"sizeref\":13.867527777777777,\"symbol\":\"circle\"},\"mode\":\"markers\",\"name\":\"4\",\"orientation\":\"v\",\"showlegend\":false,\"x\":[0.05586051940917969],\"xaxis\":\"x14\",\"y\":[0.059],\"yaxis\":\"y14\",\"type\":\"scatter\"},{\"hovertemplate\":\"M=4<br>efSearch=4<br>efConstruction=40<br>search_time=%{x}<br>recall@3=%{y}<br>index_size=%{marker.size}<extra></extra>\",\"legendgroup\":\"4\",\"marker\":{\"color\":\"#EECA3B\",\"size\":[1684.0091499999999],\"sizemode\":\"area\",\"sizeref\":13.867527777777777,\"symbol\":\"circle\"},\"mode\":\"markers\",\"name\":\"4\",\"orientation\":\"v\",\"showlegend\":false,\"x\":[0.02127981185913086],\"xaxis\":\"x15\",\"y\":[0.086],\"yaxis\":\"y15\",\"type\":\"scatter\"},{\"hovertemplate\":\"M=4<br>efSearch=4<br>efConstruction=76<br>search_time=%{x}<br>recall@3=%{y}<br>index_size=%{marker.size}<extra></extra>\",\"legendgroup\":\"4\",\"marker\":{\"color\":\"#EECA3B\",\"size\":[1684.0091499999999],\"sizemode\":\"area\",\"sizeref\":13.867527777777777,\"symbol\":\"circle\"},\"mode\":\"markers\",\"name\":\"4\",\"orientation\":\"v\",\"showlegend\":false,\"x\":[0.0682826042175293],\"xaxis\":\"x16\",\"y\":[0.1],\"yaxis\":\"y16\",\"type\":\"scatter\"},{\"hovertemplate\":\"M=4<br>efSearch=16<br>efConstruction=4<br>search_time=%{x}<br>recall@3=%{y}<br>index_size=%{marker.size}<extra></extra>\",\"legendgroup\":\"4\",\"marker\":{\"color\":\"#EECA3B\",\"size\":[1684.0091499999999],\"sizemode\":\"area\",\"sizeref\":13.867527777777777,\"symbol\":\"circle\"},\"mode\":\"markers\",\"name\":\"4\",\"orientation\":\"v\",\"showlegend\":false,\"x\":[0.07790207862854004],\"xaxis\":\"x9\",\"y\":[0.036],\"yaxis\":\"y9\",\"type\":\"scatter\"},{\"hovertemplate\":\"M=4<br>efSearch=16<br>efConstruction=16<br>search_time=%{x}<br>recall@3=%{y}<br>index_size=%{marker.size}<extra></extra>\",\"legendgroup\":\"4\",\"marker\":{\"color\":\"#EECA3B\",\"size\":[1684.0091499999999],\"sizemode\":\"area\",\"sizeref\":13.867527777777777,\"symbol\":\"circle\"},\"mode\":\"markers\",\"name\":\"4\",\"orientation\":\"v\",\"showlegend\":false,\"x\":[0.03347301483154297],\"xaxis\":\"x10\",\"y\":[0.191],\"yaxis\":\"y10\",\"type\":\"scatter\"},{\"hovertemplate\":\"M=4<br>efSearch=16<br>efConstruction=40<br>search_time=%{x}<br>recall@3=%{y}<br>index_size=%{marker.size}<extra></extra>\",\"legendgroup\":\"4\",\"marker\":{\"color\":\"#EECA3B\",\"size\":[1684.0091499999999],\"sizemode\":\"area\",\"sizeref\":13.867527777777777,\"symbol\":\"circle\"},\"mode\":\"markers\",\"name\":\"4\",\"orientation\":\"v\",\"showlegend\":false,\"x\":[0.04080629348754883],\"xaxis\":\"x11\",\"y\":[0.308],\"yaxis\":\"y11\",\"type\":\"scatter\"},{\"hovertemplate\":\"M=4<br>efSearch=16<br>efConstruction=76<br>search_time=%{x}<br>recall@3=%{y}<br>index_size=%{marker.size}<extra></extra>\",\"legendgroup\":\"4\",\"marker\":{\"color\":\"#EECA3B\",\"size\":[1684.0091499999999],\"sizemode\":\"area\",\"sizeref\":13.867527777777777,\"symbol\":\"circle\"},\"mode\":\"markers\",\"name\":\"4\",\"orientation\":\"v\",\"showlegend\":false,\"x\":[0.04142284393310547],\"xaxis\":\"x12\",\"y\":[0.325],\"yaxis\":\"y12\",\"type\":\"scatter\"},{\"hovertemplate\":\"M=4<br>efSearch=40<br>efConstruction=4<br>search_time=%{x}<br>recall@3=%{y}<br>index_size=%{marker.size}<extra></extra>\",\"legendgroup\":\"4\",\"marker\":{\"color\":\"#EECA3B\",\"size\":[1684.0091499999999],\"sizemode\":\"area\",\"sizeref\":13.867527777777777,\"symbol\":\"circle\"},\"mode\":\"markers\",\"name\":\"4\",\"orientation\":\"v\",\"showlegend\":false,\"x\":[0.12146520614624023],\"xaxis\":\"x5\",\"y\":[0.043],\"yaxis\":\"y5\",\"type\":\"scatter\"},{\"hovertemplate\":\"M=4<br>efSearch=40<br>efConstruction=16<br>search_time=%{x}<br>recall@3=%{y}<br>index_size=%{marker.size}<extra></extra>\",\"legendgroup\":\"4\",\"marker\":{\"color\":\"#EECA3B\",\"size\":[1684.0091499999999],\"sizemode\":\"area\",\"sizeref\":13.867527777777777,\"symbol\":\"circle\"},\"mode\":\"markers\",\"name\":\"4\",\"orientation\":\"v\",\"showlegend\":false,\"x\":[0.07358002662658691],\"xaxis\":\"x6\",\"y\":[0.345],\"yaxis\":\"y6\",\"type\":\"scatter\"},{\"hovertemplate\":\"M=4<br>efSearch=40<br>efConstruction=40<br>search_time=%{x}<br>recall@3=%{y}<br>index_size=%{marker.size}<extra></extra>\",\"legendgroup\":\"4\",\"marker\":{\"color\":\"#EECA3B\",\"size\":[1684.0091499999999],\"sizemode\":\"area\",\"sizeref\":13.867527777777777,\"symbol\":\"circle\"},\"mode\":\"markers\",\"name\":\"4\",\"orientation\":\"v\",\"showlegend\":false,\"x\":[0.07532739639282227],\"xaxis\":\"x7\",\"y\":[0.539],\"yaxis\":\"y7\",\"type\":\"scatter\"},{\"hovertemplate\":\"M=4<br>efSearch=40<br>efConstruction=76<br>search_time=%{x}<br>recall@3=%{y}<br>index_size=%{marker.size}<extra></extra>\",\"legendgroup\":\"4\",\"marker\":{\"color\":\"#EECA3B\",\"size\":[1684.0091499999999],\"sizemode\":\"area\",\"sizeref\":13.867527777777777,\"symbol\":\"circle\"},\"mode\":\"markers\",\"name\":\"4\",\"orientation\":\"v\",\"showlegend\":false,\"x\":[0.07770061492919922],\"xaxis\":\"x8\",\"y\":[0.566],\"yaxis\":\"y8\",\"type\":\"scatter\"},{\"hovertemplate\":\"M=4<br>efSearch=76<br>efConstruction=4<br>search_time=%{x}<br>recall@3=%{y}<br>index_size=%{marker.size}<extra></extra>\",\"legendgroup\":\"4\",\"marker\":{\"color\":\"#EECA3B\",\"size\":[1684.0091499999999],\"sizemode\":\"area\",\"sizeref\":13.867527777777777,\"symbol\":\"circle\"},\"mode\":\"markers\",\"name\":\"4\",\"orientation\":\"v\",\"showlegend\":false,\"x\":[0.16416025161743164],\"xaxis\":\"x\",\"y\":[0.051],\"yaxis\":\"y\",\"type\":\"scatter\"},{\"hovertemplate\":\"M=4<br>efSearch=76<br>efConstruction=16<br>search_time=%{x}<br>recall@3=%{y}<br>index_size=%{marker.size}<extra></extra>\",\"legendgroup\":\"4\",\"marker\":{\"color\":\"#EECA3B\",\"size\":[1684.0091499999999],\"sizemode\":\"area\",\"sizeref\":13.867527777777777,\"symbol\":\"circle\"},\"mode\":\"markers\",\"name\":\"4\",\"orientation\":\"v\",\"showlegend\":false,\"x\":[0.22960305213928223],\"xaxis\":\"x2\",\"y\":[0.437],\"yaxis\":\"y2\",\"type\":\"scatter\"},{\"hovertemplate\":\"M=4<br>efSearch=76<br>efConstruction=40<br>search_time=%{x}<br>recall@3=%{y}<br>index_size=%{marker.size}<extra></extra>\",\"legendgroup\":\"4\",\"marker\":{\"color\":\"#EECA3B\",\"size\":[1684.0091499999999],\"sizemode\":\"area\",\"sizeref\":13.867527777777777,\"symbol\":\"circle\"},\"mode\":\"markers\",\"name\":\"4\",\"orientation\":\"v\",\"showlegend\":false,\"x\":[0.13627386093139648],\"xaxis\":\"x3\",\"y\":[0.628],\"yaxis\":\"y3\",\"type\":\"scatter\"},{\"hovertemplate\":\"M=4<br>efSearch=76<br>efConstruction=76<br>search_time=%{x}<br>recall@3=%{y}<br>index_size=%{marker.size}<extra></extra>\",\"legendgroup\":\"4\",\"marker\":{\"color\":\"#EECA3B\",\"size\":[1684.0091499999999],\"sizemode\":\"area\",\"sizeref\":13.867527777777777,\"symbol\":\"circle\"},\"mode\":\"markers\",\"name\":\"4\",\"orientation\":\"v\",\"showlegend\":false,\"x\":[0.14000248908996582],\"xaxis\":\"x4\",\"y\":[0.671],\"yaxis\":\"y4\",\"type\":\"scatter\"},{\"hovertemplate\":\"M=16<br>efSearch=4<br>efConstruction=4<br>search_time=%{x}<br>recall@3=%{y}<br>index_size=%{marker.size}<extra></extra>\",\"legendgroup\":\"16\",\"marker\":{\"color\":\"#FF9900\",\"size\":[1968.8076099999998],\"sizemode\":\"area\",\"sizeref\":13.867527777777777,\"symbol\":\"circle\"},\"mode\":\"markers\",\"name\":\"16\",\"orientation\":\"v\",\"showlegend\":true,\"x\":[0.025166034698486328],\"xaxis\":\"x13\",\"y\":[0.035],\"yaxis\":\"y13\",\"type\":\"scatter\"},{\"hovertemplate\":\"M=16<br>efSearch=4<br>efConstruction=16<br>search_time=%{x}<br>recall@3=%{y}<br>index_size=%{marker.size}<extra></extra>\",\"legendgroup\":\"16\",\"marker\":{\"color\":\"#FF9900\",\"size\":[1968.8076099999998],\"sizemode\":\"area\",\"sizeref\":13.867527777777777,\"symbol\":\"circle\"},\"mode\":\"markers\",\"name\":\"16\",\"orientation\":\"v\",\"showlegend\":false,\"x\":[0.04731893539428711],\"xaxis\":\"x14\",\"y\":[0.326],\"yaxis\":\"y14\",\"type\":\"scatter\"},{\"hovertemplate\":\"M=16<br>efSearch=4<br>efConstruction=40<br>search_time=%{x}<br>recall@3=%{y}<br>index_size=%{marker.size}<extra></extra>\",\"legendgroup\":\"16\",\"marker\":{\"color\":\"#FF9900\",\"size\":[1968.8076099999998],\"sizemode\":\"area\",\"sizeref\":13.867527777777777,\"symbol\":\"circle\"},\"mode\":\"markers\",\"name\":\"16\",\"orientation\":\"v\",\"showlegend\":false,\"x\":[0.07292890548706055],\"xaxis\":\"x15\",\"y\":[0.409],\"yaxis\":\"y15\",\"type\":\"scatter\"},{\"hovertemplate\":\"M=16<br>efSearch=4<br>efConstruction=76<br>search_time=%{x}<br>recall@3=%{y}<br>index_size=%{marker.size}<extra></extra>\",\"legendgroup\":\"16\",\"marker\":{\"color\":\"#FF9900\",\"size\":[1968.8076099999998],\"sizemode\":\"area\",\"sizeref\":13.867527777777777,\"symbol\":\"circle\"},\"mode\":\"markers\",\"name\":\"16\",\"orientation\":\"v\",\"showlegend\":false,\"x\":[0.04443764686584473],\"xaxis\":\"x16\",\"y\":[0.45],\"yaxis\":\"y16\",\"type\":\"scatter\"},{\"hovertemplate\":\"M=16<br>efSearch=16<br>efConstruction=4<br>search_time=%{x}<br>recall@3=%{y}<br>index_size=%{marker.size}<extra></extra>\",\"legendgroup\":\"16\",\"marker\":{\"color\":\"#FF9900\",\"size\":[1968.8076099999998],\"sizemode\":\"area\",\"sizeref\":13.867527777777777,\"symbol\":\"circle\"},\"mode\":\"markers\",\"name\":\"16\",\"orientation\":\"v\",\"showlegend\":false,\"x\":[0.038710832595825195],\"xaxis\":\"x9\",\"y\":[0.049],\"yaxis\":\"y9\",\"type\":\"scatter\"},{\"hovertemplate\":\"M=16<br>efSearch=16<br>efConstruction=16<br>search_time=%{x}<br>recall@3=%{y}<br>index_size=%{marker.size}<extra></extra>\",\"legendgroup\":\"16\",\"marker\":{\"color\":\"#FF9900\",\"size\":[1968.8076099999998],\"sizemode\":\"area\",\"sizeref\":13.867527777777777,\"symbol\":\"circle\"},\"mode\":\"markers\",\"name\":\"16\",\"orientation\":\"v\",\"showlegend\":false,\"x\":[0.08099675178527832],\"xaxis\":\"x10\",\"y\":[0.663],\"yaxis\":\"y10\",\"type\":\"scatter\"},{\"hovertemplate\":\"M=16<br>efSearch=16<br>efConstruction=40<br>search_time=%{x}<br>recall@3=%{y}<br>index_size=%{marker.size}<extra></extra>\",\"legendgroup\":\"16\",\"marker\":{\"color\":\"#FF9900\",\"size\":[1968.8076099999998],\"sizemode\":\"area\",\"sizeref\":13.867527777777777,\"symbol\":\"circle\"},\"mode\":\"markers\",\"name\":\"16\",\"orientation\":\"v\",\"showlegend\":false,\"x\":[0.14293575286865234],\"xaxis\":\"x11\",\"y\":[0.715],\"yaxis\":\"y11\",\"type\":\"scatter\"},{\"hovertemplate\":\"M=16<br>efSearch=16<br>efConstruction=76<br>search_time=%{x}<br>recall@3=%{y}<br>index_size=%{marker.size}<extra></extra>\",\"legendgroup\":\"16\",\"marker\":{\"color\":\"#FF9900\",\"size\":[1968.8076099999998],\"sizemode\":\"area\",\"sizeref\":13.867527777777777,\"symbol\":\"circle\"},\"mode\":\"markers\",\"name\":\"16\",\"orientation\":\"v\",\"showlegend\":false,\"x\":[0.08853888511657715],\"xaxis\":\"x12\",\"y\":[0.786],\"yaxis\":\"y12\",\"type\":\"scatter\"},{\"hovertemplate\":\"M=16<br>efSearch=40<br>efConstruction=4<br>search_time=%{x}<br>recall@3=%{y}<br>index_size=%{marker.size}<extra></extra>\",\"legendgroup\":\"16\",\"marker\":{\"color\":\"#FF9900\",\"size\":[1968.8076099999998],\"sizemode\":\"area\",\"sizeref\":13.867527777777777,\"symbol\":\"circle\"},\"mode\":\"markers\",\"name\":\"16\",\"orientation\":\"v\",\"showlegend\":false,\"x\":[0.0749969482421875],\"xaxis\":\"x5\",\"y\":[0.066],\"yaxis\":\"y5\",\"type\":\"scatter\"},{\"hovertemplate\":\"M=16<br>efSearch=40<br>efConstruction=16<br>search_time=%{x}<br>recall@3=%{y}<br>index_size=%{marker.size}<extra></extra>\",\"legendgroup\":\"16\",\"marker\":{\"color\":\"#FF9900\",\"size\":[1968.8076099999998],\"sizemode\":\"area\",\"sizeref\":13.867527777777777,\"symbol\":\"circle\"},\"mode\":\"markers\",\"name\":\"16\",\"orientation\":\"v\",\"showlegend\":false,\"x\":[0.1671006679534912],\"xaxis\":\"x6\",\"y\":[0.824],\"yaxis\":\"y6\",\"type\":\"scatter\"},{\"hovertemplate\":\"M=16<br>efSearch=40<br>efConstruction=40<br>search_time=%{x}<br>recall@3=%{y}<br>index_size=%{marker.size}<extra></extra>\",\"legendgroup\":\"16\",\"marker\":{\"color\":\"#FF9900\",\"size\":[1968.8076099999998],\"sizemode\":\"area\",\"sizeref\":13.867527777777777,\"symbol\":\"circle\"},\"mode\":\"markers\",\"name\":\"16\",\"orientation\":\"v\",\"showlegend\":false,\"x\":[0.24015092849731445],\"xaxis\":\"x7\",\"y\":[0.842],\"yaxis\":\"y7\",\"type\":\"scatter\"},{\"hovertemplate\":\"M=16<br>efSearch=40<br>efConstruction=76<br>search_time=%{x}<br>recall@3=%{y}<br>index_size=%{marker.size}<extra></extra>\",\"legendgroup\":\"16\",\"marker\":{\"color\":\"#FF9900\",\"size\":[1968.8076099999998],\"sizemode\":\"area\",\"sizeref\":13.867527777777777,\"symbol\":\"circle\"},\"mode\":\"markers\",\"name\":\"16\",\"orientation\":\"v\",\"showlegend\":false,\"x\":[0.17973709106445312],\"xaxis\":\"x8\",\"y\":[0.911],\"yaxis\":\"y8\",\"type\":\"scatter\"},{\"hovertemplate\":\"M=16<br>efSearch=76<br>efConstruction=4<br>search_time=%{x}<br>recall@3=%{y}<br>index_size=%{marker.size}<extra></extra>\",\"legendgroup\":\"16\",\"marker\":{\"color\":\"#FF9900\",\"size\":[1968.8076099999998],\"sizemode\":\"area\",\"sizeref\":13.867527777777777,\"symbol\":\"circle\"},\"mode\":\"markers\",\"name\":\"16\",\"orientation\":\"v\",\"showlegend\":false,\"x\":[0.13506793975830078],\"xaxis\":\"x\",\"y\":[0.077],\"yaxis\":\"y\",\"type\":\"scatter\"},{\"hovertemplate\":\"M=16<br>efSearch=76<br>efConstruction=16<br>search_time=%{x}<br>recall@3=%{y}<br>index_size=%{marker.size}<extra></extra>\",\"legendgroup\":\"16\",\"marker\":{\"color\":\"#FF9900\",\"size\":[1968.8076099999998],\"sizemode\":\"area\",\"sizeref\":13.867527777777777,\"symbol\":\"circle\"},\"mode\":\"markers\",\"name\":\"16\",\"orientation\":\"v\",\"showlegend\":false,\"x\":[0.29860758781433105],\"xaxis\":\"x2\",\"y\":[0.882],\"yaxis\":\"y2\",\"type\":\"scatter\"},{\"hovertemplate\":\"M=16<br>efSearch=76<br>efConstruction=40<br>search_time=%{x}<br>recall@3=%{y}<br>index_size=%{marker.size}<extra></extra>\",\"legendgroup\":\"16\",\"marker\":{\"color\":\"#FF9900\",\"size\":[1968.8076099999998],\"sizemode\":\"area\",\"sizeref\":13.867527777777777,\"symbol\":\"circle\"},\"mode\":\"markers\",\"name\":\"16\",\"orientation\":\"v\",\"showlegend\":false,\"x\":[0.35860228538513184],\"xaxis\":\"x3\",\"y\":[0.896],\"yaxis\":\"y3\",\"type\":\"scatter\"},{\"hovertemplate\":\"M=16<br>efSearch=76<br>efConstruction=76<br>search_time=%{x}<br>recall@3=%{y}<br>index_size=%{marker.size}<extra></extra>\",\"legendgroup\":\"16\",\"marker\":{\"color\":\"#FF9900\",\"size\":[1968.8076099999998],\"sizemode\":\"area\",\"sizeref\":13.867527777777777,\"symbol\":\"circle\"},\"mode\":\"markers\",\"name\":\"16\",\"orientation\":\"v\",\"showlegend\":false,\"x\":[0.30910468101501465],\"xaxis\":\"x4\",\"y\":[0.938],\"yaxis\":\"y4\",\"type\":\"scatter\"},{\"hovertemplate\":\"M=32<br>efSearch=4<br>efConstruction=4<br>search_time=%{x}<br>recall@3=%{y}<br>index_size=%{marker.size}<extra></extra>\",\"legendgroup\":\"32\",\"marker\":{\"color\":\"#DC3912\",\"size\":[2352.4245459999997],\"sizemode\":\"area\",\"sizeref\":13.867527777777777,\"symbol\":\"circle\"},\"mode\":\"markers\",\"name\":\"32\",\"orientation\":\"v\",\"showlegend\":true,\"x\":[0.027608871459960938],\"xaxis\":\"x13\",\"y\":[0.04],\"yaxis\":\"y13\",\"type\":\"scatter\"},{\"hovertemplate\":\"M=32<br>efSearch=4<br>efConstruction=16<br>search_time=%{x}<br>recall@3=%{y}<br>index_size=%{marker.size}<extra></extra>\",\"legendgroup\":\"32\",\"marker\":{\"color\":\"#DC3912\",\"size\":[2352.4245459999997],\"sizemode\":\"area\",\"sizeref\":13.867527777777777,\"symbol\":\"circle\"},\"mode\":\"markers\",\"name\":\"32\",\"orientation\":\"v\",\"showlegend\":false,\"x\":[0.05575084686279297],\"xaxis\":\"x14\",\"y\":[0.463],\"yaxis\":\"y14\",\"type\":\"scatter\"},{\"hovertemplate\":\"M=32<br>efSearch=4<br>efConstruction=40<br>search_time=%{x}<br>recall@3=%{y}<br>index_size=%{marker.size}<extra></extra>\",\"legendgroup\":\"32\",\"marker\":{\"color\":\"#DC3912\",\"size\":[2352.4245459999997],\"sizemode\":\"area\",\"sizeref\":13.867527777777777,\"symbol\":\"circle\"},\"mode\":\"markers\",\"name\":\"32\",\"orientation\":\"v\",\"showlegend\":false,\"x\":[0.12500262260437012],\"xaxis\":\"x15\",\"y\":[0.587],\"yaxis\":\"y15\",\"type\":\"scatter\"},{\"hovertemplate\":\"M=32<br>efSearch=4<br>efConstruction=76<br>search_time=%{x}<br>recall@3=%{y}<br>index_size=%{marker.size}<extra></extra>\",\"legendgroup\":\"32\",\"marker\":{\"color\":\"#DC3912\",\"size\":[2352.4245459999997],\"sizemode\":\"area\",\"sizeref\":13.867527777777777,\"symbol\":\"circle\"},\"mode\":\"markers\",\"name\":\"32\",\"orientation\":\"v\",\"showlegend\":false,\"x\":[0.0727546215057373],\"xaxis\":\"x16\",\"y\":[0.558],\"yaxis\":\"y16\",\"type\":\"scatter\"},{\"hovertemplate\":\"M=32<br>efSearch=16<br>efConstruction=4<br>search_time=%{x}<br>recall@3=%{y}<br>index_size=%{marker.size}<extra></extra>\",\"legendgroup\":\"32\",\"marker\":{\"color\":\"#DC3912\",\"size\":[2352.4245459999997],\"sizemode\":\"area\",\"sizeref\":13.867527777777777,\"symbol\":\"circle\"},\"mode\":\"markers\",\"name\":\"32\",\"orientation\":\"v\",\"showlegend\":false,\"x\":[0.04836916923522949],\"xaxis\":\"x9\",\"y\":[0.059],\"yaxis\":\"y9\",\"type\":\"scatter\"},{\"hovertemplate\":\"M=32<br>efSearch=16<br>efConstruction=16<br>search_time=%{x}<br>recall@3=%{y}<br>index_size=%{marker.size}<extra></extra>\",\"legendgroup\":\"32\",\"marker\":{\"color\":\"#DC3912\",\"size\":[2352.4245459999997],\"sizemode\":\"area\",\"sizeref\":13.867527777777777,\"symbol\":\"circle\"},\"mode\":\"markers\",\"name\":\"32\",\"orientation\":\"v\",\"showlegend\":false,\"x\":[0.10963678359985352],\"xaxis\":\"x10\",\"y\":[0.757],\"yaxis\":\"y10\",\"type\":\"scatter\"},{\"hovertemplate\":\"M=32<br>efSearch=16<br>efConstruction=40<br>search_time=%{x}<br>recall@3=%{y}<br>index_size=%{marker.size}<extra></extra>\",\"legendgroup\":\"32\",\"marker\":{\"color\":\"#DC3912\",\"size\":[2352.4245459999997],\"sizemode\":\"area\",\"sizeref\":13.867527777777777,\"symbol\":\"circle\"},\"mode\":\"markers\",\"name\":\"32\",\"orientation\":\"v\",\"showlegend\":false,\"x\":[0.2442944049835205],\"xaxis\":\"x11\",\"y\":[0.854],\"yaxis\":\"y11\",\"type\":\"scatter\"},{\"hovertemplate\":\"M=32<br>efSearch=16<br>efConstruction=76<br>search_time=%{x}<br>recall@3=%{y}<br>index_size=%{marker.size}<extra></extra>\",\"legendgroup\":\"32\",\"marker\":{\"color\":\"#DC3912\",\"size\":[2352.4245459999997],\"sizemode\":\"area\",\"sizeref\":13.867527777777777,\"symbol\":\"circle\"},\"mode\":\"markers\",\"name\":\"32\",\"orientation\":\"v\",\"showlegend\":false,\"x\":[0.18690776824951172],\"xaxis\":\"x12\",\"y\":[0.849],\"yaxis\":\"y12\",\"type\":\"scatter\"},{\"hovertemplate\":\"M=32<br>efSearch=40<br>efConstruction=4<br>search_time=%{x}<br>recall@3=%{y}<br>index_size=%{marker.size}<extra></extra>\",\"legendgroup\":\"32\",\"marker\":{\"color\":\"#DC3912\",\"size\":[2352.4245459999997],\"sizemode\":\"area\",\"sizeref\":13.867527777777777,\"symbol\":\"circle\"},\"mode\":\"markers\",\"name\":\"32\",\"orientation\":\"v\",\"showlegend\":false,\"x\":[0.08959436416625977],\"xaxis\":\"x5\",\"y\":[0.071],\"yaxis\":\"y5\",\"type\":\"scatter\"},{\"hovertemplate\":\"M=32<br>efSearch=40<br>efConstruction=16<br>search_time=%{x}<br>recall@3=%{y}<br>index_size=%{marker.size}<extra></extra>\",\"legendgroup\":\"32\",\"marker\":{\"color\":\"#DC3912\",\"size\":[2352.4245459999997],\"sizemode\":\"area\",\"sizeref\":13.867527777777777,\"symbol\":\"circle\"},\"mode\":\"markers\",\"name\":\"32\",\"orientation\":\"v\",\"showlegend\":false,\"x\":[0.22312116622924805],\"xaxis\":\"x6\",\"y\":[0.887],\"yaxis\":\"y6\",\"type\":\"scatter\"},{\"hovertemplate\":\"M=32<br>efSearch=40<br>efConstruction=40<br>search_time=%{x}<br>recall@3=%{y}<br>index_size=%{marker.size}<extra></extra>\",\"legendgroup\":\"32\",\"marker\":{\"color\":\"#DC3912\",\"size\":[2352.4245459999997],\"sizemode\":\"area\",\"sizeref\":13.867527777777777,\"symbol\":\"circle\"},\"mode\":\"markers\",\"name\":\"32\",\"orientation\":\"v\",\"showlegend\":false,\"x\":[0.2931351661682129],\"xaxis\":\"x7\",\"y\":[0.938],\"yaxis\":\"y7\",\"type\":\"scatter\"},{\"hovertemplate\":\"M=32<br>efSearch=40<br>efConstruction=76<br>search_time=%{x}<br>recall@3=%{y}<br>index_size=%{marker.size}<extra></extra>\",\"legendgroup\":\"32\",\"marker\":{\"color\":\"#DC3912\",\"size\":[2352.4245459999997],\"sizemode\":\"area\",\"sizeref\":13.867527777777777,\"symbol\":\"circle\"},\"mode\":\"markers\",\"name\":\"32\",\"orientation\":\"v\",\"showlegend\":false,\"x\":[0.24407386779785156],\"xaxis\":\"x8\",\"y\":[0.921],\"yaxis\":\"y8\",\"type\":\"scatter\"},{\"hovertemplate\":\"M=32<br>efSearch=76<br>efConstruction=4<br>search_time=%{x}<br>recall@3=%{y}<br>index_size=%{marker.size}<extra></extra>\",\"legendgroup\":\"32\",\"marker\":{\"color\":\"#DC3912\",\"size\":[2352.4245459999997],\"sizemode\":\"area\",\"sizeref\":13.867527777777777,\"symbol\":\"circle\"},\"mode\":\"markers\",\"name\":\"32\",\"orientation\":\"v\",\"showlegend\":false,\"x\":[0.15450596809387207],\"xaxis\":\"x\",\"y\":[0.082],\"yaxis\":\"y\",\"type\":\"scatter\"},{\"hovertemplate\":\"M=32<br>efSearch=76<br>efConstruction=16<br>search_time=%{x}<br>recall@3=%{y}<br>index_size=%{marker.size}<extra></extra>\",\"legendgroup\":\"32\",\"marker\":{\"color\":\"#DC3912\",\"size\":[2352.4245459999997],\"sizemode\":\"area\",\"sizeref\":13.867527777777777,\"symbol\":\"circle\"},\"mode\":\"markers\",\"name\":\"32\",\"orientation\":\"v\",\"showlegend\":false,\"x\":[0.35982537269592285],\"xaxis\":\"x2\",\"y\":[0.931],\"yaxis\":\"y2\",\"type\":\"scatter\"},{\"hovertemplate\":\"M=32<br>efSearch=76<br>efConstruction=40<br>search_time=%{x}<br>recall@3=%{y}<br>index_size=%{marker.size}<extra></extra>\",\"legendgroup\":\"32\",\"marker\":{\"color\":\"#DC3912\",\"size\":[2352.4245459999997],\"sizemode\":\"area\",\"sizeref\":13.867527777777777,\"symbol\":\"circle\"},\"mode\":\"markers\",\"name\":\"32\",\"orientation\":\"v\",\"showlegend\":false,\"x\":[0.48569440841674805],\"xaxis\":\"x3\",\"y\":[0.97],\"yaxis\":\"y3\",\"type\":\"scatter\"},{\"hovertemplate\":\"M=32<br>efSearch=76<br>efConstruction=76<br>search_time=%{x}<br>recall@3=%{y}<br>index_size=%{marker.size}<extra></extra>\",\"legendgroup\":\"32\",\"marker\":{\"color\":\"#DC3912\",\"size\":[2352.4245459999997],\"sizemode\":\"area\",\"sizeref\":13.867527777777777,\"symbol\":\"circle\"},\"mode\":\"markers\",\"name\":\"32\",\"orientation\":\"v\",\"showlegend\":false,\"x\":[0.4022538661956787],\"xaxis\":\"x4\",\"y\":[0.952],\"yaxis\":\"y4\",\"type\":\"scatter\"},{\"hovertemplate\":\"M=64<br>efSearch=4<br>efConstruction=4<br>search_time=%{x}<br>recall@3=%{y}<br>index_size=%{marker.size}<extra></extra>\",\"legendgroup\":\"64\",\"marker\":{\"color\":\"#990099\",\"size\":[3120.19375],\"sizemode\":\"area\",\"sizeref\":13.867527777777777,\"symbol\":\"circle\"},\"mode\":\"markers\",\"name\":\"64\",\"orientation\":\"v\",\"showlegend\":true,\"x\":[0.03230619430541992],\"xaxis\":\"x13\",\"y\":[0.04],\"yaxis\":\"y13\",\"type\":\"scatter\"},{\"hovertemplate\":\"M=64<br>efSearch=4<br>efConstruction=16<br>search_time=%{x}<br>recall@3=%{y}<br>index_size=%{marker.size}<extra></extra>\",\"legendgroup\":\"64\",\"marker\":{\"color\":\"#990099\",\"size\":[3120.19375],\"sizemode\":\"area\",\"sizeref\":13.867527777777777,\"symbol\":\"circle\"},\"mode\":\"markers\",\"name\":\"64\",\"orientation\":\"v\",\"showlegend\":false,\"x\":[0.06145119667053223],\"xaxis\":\"x14\",\"y\":[0.477],\"yaxis\":\"y14\",\"type\":\"scatter\"},{\"hovertemplate\":\"M=64<br>efSearch=4<br>efConstruction=40<br>search_time=%{x}<br>recall@3=%{y}<br>index_size=%{marker.size}<extra></extra>\",\"legendgroup\":\"64\",\"marker\":{\"color\":\"#990099\",\"size\":[3120.19375],\"sizemode\":\"area\",\"sizeref\":13.867527777777777,\"symbol\":\"circle\"},\"mode\":\"markers\",\"name\":\"64\",\"orientation\":\"v\",\"showlegend\":false,\"x\":[0.10021829605102539],\"xaxis\":\"x15\",\"y\":[0.709],\"yaxis\":\"y15\",\"type\":\"scatter\"},{\"hovertemplate\":\"M=64<br>efSearch=4<br>efConstruction=76<br>search_time=%{x}<br>recall@3=%{y}<br>index_size=%{marker.size}<extra></extra>\",\"legendgroup\":\"64\",\"marker\":{\"color\":\"#990099\",\"size\":[3120.19375],\"sizemode\":\"area\",\"sizeref\":13.867527777777777,\"symbol\":\"circle\"},\"mode\":\"markers\",\"name\":\"64\",\"orientation\":\"v\",\"showlegend\":false,\"x\":[0.12536144256591797],\"xaxis\":\"x16\",\"y\":[0.738],\"yaxis\":\"y16\",\"type\":\"scatter\"},{\"hovertemplate\":\"M=64<br>efSearch=16<br>efConstruction=4<br>search_time=%{x}<br>recall@3=%{y}<br>index_size=%{marker.size}<extra></extra>\",\"legendgroup\":\"64\",\"marker\":{\"color\":\"#990099\",\"size\":[3120.19375],\"sizemode\":\"area\",\"sizeref\":13.867527777777777,\"symbol\":\"circle\"},\"mode\":\"markers\",\"name\":\"64\",\"orientation\":\"v\",\"showlegend\":false,\"x\":[0.059571027755737305],\"xaxis\":\"x9\",\"y\":[0.058],\"yaxis\":\"y9\",\"type\":\"scatter\"},{\"hovertemplate\":\"M=64<br>efSearch=16<br>efConstruction=16<br>search_time=%{x}<br>recall@3=%{y}<br>index_size=%{marker.size}<extra></extra>\",\"legendgroup\":\"64\",\"marker\":{\"color\":\"#990099\",\"size\":[3120.19375],\"sizemode\":\"area\",\"sizeref\":13.867527777777777,\"symbol\":\"circle\"},\"mode\":\"markers\",\"name\":\"64\",\"orientation\":\"v\",\"showlegend\":false,\"x\":[0.12787914276123047],\"xaxis\":\"x10\",\"y\":[0.78],\"yaxis\":\"y10\",\"type\":\"scatter\"},{\"hovertemplate\":\"M=64<br>efSearch=16<br>efConstruction=40<br>search_time=%{x}<br>recall@3=%{y}<br>index_size=%{marker.size}<extra></extra>\",\"legendgroup\":\"64\",\"marker\":{\"color\":\"#990099\",\"size\":[3120.19375],\"sizemode\":\"area\",\"sizeref\":13.867527777777777,\"symbol\":\"circle\"},\"mode\":\"markers\",\"name\":\"64\",\"orientation\":\"v\",\"showlegend\":false,\"x\":[0.27878665924072266],\"xaxis\":\"x11\",\"y\":[0.886],\"yaxis\":\"y11\",\"type\":\"scatter\"},{\"hovertemplate\":\"M=64<br>efSearch=16<br>efConstruction=76<br>search_time=%{x}<br>recall@3=%{y}<br>index_size=%{marker.size}<extra></extra>\",\"legendgroup\":\"64\",\"marker\":{\"color\":\"#990099\",\"size\":[3120.19375],\"sizemode\":\"area\",\"sizeref\":13.867527777777777,\"symbol\":\"circle\"},\"mode\":\"markers\",\"name\":\"64\",\"orientation\":\"v\",\"showlegend\":false,\"x\":[0.1896679401397705],\"xaxis\":\"x12\",\"y\":[0.918],\"yaxis\":\"y12\",\"type\":\"scatter\"},{\"hovertemplate\":\"M=64<br>efSearch=40<br>efConstruction=4<br>search_time=%{x}<br>recall@3=%{y}<br>index_size=%{marker.size}<extra></extra>\",\"legendgroup\":\"64\",\"marker\":{\"color\":\"#990099\",\"size\":[3120.19375],\"sizemode\":\"area\",\"sizeref\":13.867527777777777,\"symbol\":\"circle\"},\"mode\":\"markers\",\"name\":\"64\",\"orientation\":\"v\",\"showlegend\":false,\"x\":[0.12066841125488281],\"xaxis\":\"x5\",\"y\":[0.075],\"yaxis\":\"y5\",\"type\":\"scatter\"},{\"hovertemplate\":\"M=64<br>efSearch=40<br>efConstruction=16<br>search_time=%{x}<br>recall@3=%{y}<br>index_size=%{marker.size}<extra></extra>\",\"legendgroup\":\"64\",\"marker\":{\"color\":\"#990099\",\"size\":[3120.19375],\"sizemode\":\"area\",\"sizeref\":13.867527777777777,\"symbol\":\"circle\"},\"mode\":\"markers\",\"name\":\"64\",\"orientation\":\"v\",\"showlegend\":false,\"x\":[0.23174428939819336],\"xaxis\":\"x6\",\"y\":[0.889],\"yaxis\":\"y6\",\"type\":\"scatter\"},{\"hovertemplate\":\"M=64<br>efSearch=40<br>efConstruction=40<br>search_time=%{x}<br>recall@3=%{y}<br>index_size=%{marker.size}<extra></extra>\",\"legendgroup\":\"64\",\"marker\":{\"color\":\"#990099\",\"size\":[3120.19375],\"sizemode\":\"area\",\"sizeref\":13.867527777777777,\"symbol\":\"circle\"},\"mode\":\"markers\",\"name\":\"64\",\"orientation\":\"v\",\"showlegend\":false,\"x\":[0.4650840759277344],\"xaxis\":\"x7\",\"y\":[0.949],\"yaxis\":\"y7\",\"type\":\"scatter\"},{\"hovertemplate\":\"M=64<br>efSearch=40<br>efConstruction=76<br>search_time=%{x}<br>recall@3=%{y}<br>index_size=%{marker.size}<extra></extra>\",\"legendgroup\":\"64\",\"marker\":{\"color\":\"#990099\",\"size\":[3120.19375],\"sizemode\":\"area\",\"sizeref\":13.867527777777777,\"symbol\":\"circle\"},\"mode\":\"markers\",\"name\":\"64\",\"orientation\":\"v\",\"showlegend\":false,\"x\":[0.3795168399810791],\"xaxis\":\"x8\",\"y\":[0.97],\"yaxis\":\"y8\",\"type\":\"scatter\"},{\"hovertemplate\":\"M=64<br>efSearch=76<br>efConstruction=4<br>search_time=%{x}<br>recall@3=%{y}<br>index_size=%{marker.size}<extra></extra>\",\"legendgroup\":\"64\",\"marker\":{\"color\":\"#990099\",\"size\":[3120.19375],\"sizemode\":\"area\",\"sizeref\":13.867527777777777,\"symbol\":\"circle\"},\"mode\":\"markers\",\"name\":\"64\",\"orientation\":\"v\",\"showlegend\":false,\"x\":[0.15694952011108398],\"xaxis\":\"x\",\"y\":[0.085],\"yaxis\":\"y\",\"type\":\"scatter\"},{\"hovertemplate\":\"M=64<br>efSearch=76<br>efConstruction=16<br>search_time=%{x}<br>recall@3=%{y}<br>index_size=%{marker.size}<extra></extra>\",\"legendgroup\":\"64\",\"marker\":{\"color\":\"#990099\",\"size\":[3120.19375],\"sizemode\":\"area\",\"sizeref\":13.867527777777777,\"symbol\":\"circle\"},\"mode\":\"markers\",\"name\":\"64\",\"orientation\":\"v\",\"showlegend\":false,\"x\":[0.3935253620147705],\"xaxis\":\"x2\",\"y\":[0.924],\"yaxis\":\"y2\",\"type\":\"scatter\"},{\"hovertemplate\":\"M=64<br>efSearch=76<br>efConstruction=40<br>search_time=%{x}<br>recall@3=%{y}<br>index_size=%{marker.size}<extra></extra>\",\"legendgroup\":\"64\",\"marker\":{\"color\":\"#990099\",\"size\":[3120.19375],\"sizemode\":\"area\",\"sizeref\":13.867527777777777,\"symbol\":\"circle\"},\"mode\":\"markers\",\"name\":\"64\",\"orientation\":\"v\",\"showlegend\":false,\"x\":[0.5619399547576904],\"xaxis\":\"x3\",\"y\":[0.979],\"yaxis\":\"y3\",\"type\":\"scatter\"},{\"hovertemplate\":\"M=64<br>efSearch=76<br>efConstruction=76<br>search_time=%{x}<br>recall@3=%{y}<br>index_size=%{marker.size}<extra></extra>\",\"legendgroup\":\"64\",\"marker\":{\"color\":\"#990099\",\"size\":[3120.19375],\"sizemode\":\"area\",\"sizeref\":13.867527777777777,\"symbol\":\"circle\"},\"mode\":\"markers\",\"name\":\"64\",\"orientation\":\"v\",\"showlegend\":false,\"x\":[0.6427271366119385],\"xaxis\":\"x4\",\"y\":[0.992],\"yaxis\":\"y4\",\"type\":\"scatter\"}],                        {\"template\":{\"data\":{\"barpolar\":[{\"marker\":{\"line\":{\"color\":\"white\",\"width\":0.5},\"pattern\":{\"fillmode\":\"overlay\",\"size\":10,\"solidity\":0.2}},\"type\":\"barpolar\"}],\"bar\":[{\"error_x\":{\"color\":\"rgb(36,36,36)\"},\"error_y\":{\"color\":\"rgb(36,36,36)\"},\"marker\":{\"line\":{\"color\":\"white\",\"width\":0.5},\"pattern\":{\"fillmode\":\"overlay\",\"size\":10,\"solidity\":0.2}},\"type\":\"bar\"}],\"carpet\":[{\"aaxis\":{\"endlinecolor\":\"rgb(36,36,36)\",\"gridcolor\":\"white\",\"linecolor\":\"white\",\"minorgridcolor\":\"white\",\"startlinecolor\":\"rgb(36,36,36)\"},\"baxis\":{\"endlinecolor\":\"rgb(36,36,36)\",\"gridcolor\":\"white\",\"linecolor\":\"white\",\"minorgridcolor\":\"white\",\"startlinecolor\":\"rgb(36,36,36)\"},\"type\":\"carpet\"}],\"choropleth\":[{\"colorbar\":{\"outlinewidth\":1,\"tickcolor\":\"rgb(36,36,36)\",\"ticks\":\"outside\"},\"type\":\"choropleth\"}],\"contourcarpet\":[{\"colorbar\":{\"outlinewidth\":1,\"tickcolor\":\"rgb(36,36,36)\",\"ticks\":\"outside\"},\"type\":\"contourcarpet\"}],\"contour\":[{\"colorbar\":{\"outlinewidth\":1,\"tickcolor\":\"rgb(36,36,36)\",\"ticks\":\"outside\"},\"colorscale\":[[0.0,\"#440154\"],[0.1111111111111111,\"#482878\"],[0.2222222222222222,\"#3e4989\"],[0.3333333333333333,\"#31688e\"],[0.4444444444444444,\"#26828e\"],[0.5555555555555556,\"#1f9e89\"],[0.6666666666666666,\"#35b779\"],[0.7777777777777778,\"#6ece58\"],[0.8888888888888888,\"#b5de2b\"],[1.0,\"#fde725\"]],\"type\":\"contour\"}],\"heatmapgl\":[{\"colorbar\":{\"outlinewidth\":1,\"tickcolor\":\"rgb(36,36,36)\",\"ticks\":\"outside\"},\"colorscale\":[[0.0,\"#440154\"],[0.1111111111111111,\"#482878\"],[0.2222222222222222,\"#3e4989\"],[0.3333333333333333,\"#31688e\"],[0.4444444444444444,\"#26828e\"],[0.5555555555555556,\"#1f9e89\"],[0.6666666666666666,\"#35b779\"],[0.7777777777777778,\"#6ece58\"],[0.8888888888888888,\"#b5de2b\"],[1.0,\"#fde725\"]],\"type\":\"heatmapgl\"}],\"heatmap\":[{\"colorbar\":{\"outlinewidth\":1,\"tickcolor\":\"rgb(36,36,36)\",\"ticks\":\"outside\"},\"colorscale\":[[0.0,\"#440154\"],[0.1111111111111111,\"#482878\"],[0.2222222222222222,\"#3e4989\"],[0.3333333333333333,\"#31688e\"],[0.4444444444444444,\"#26828e\"],[0.5555555555555556,\"#1f9e89\"],[0.6666666666666666,\"#35b779\"],[0.7777777777777778,\"#6ece58\"],[0.8888888888888888,\"#b5de2b\"],[1.0,\"#fde725\"]],\"type\":\"heatmap\"}],\"histogram2dcontour\":[{\"colorbar\":{\"outlinewidth\":1,\"tickcolor\":\"rgb(36,36,36)\",\"ticks\":\"outside\"},\"colorscale\":[[0.0,\"#440154\"],[0.1111111111111111,\"#482878\"],[0.2222222222222222,\"#3e4989\"],[0.3333333333333333,\"#31688e\"],[0.4444444444444444,\"#26828e\"],[0.5555555555555556,\"#1f9e89\"],[0.6666666666666666,\"#35b779\"],[0.7777777777777778,\"#6ece58\"],[0.8888888888888888,\"#b5de2b\"],[1.0,\"#fde725\"]],\"type\":\"histogram2dcontour\"}],\"histogram2d\":[{\"colorbar\":{\"outlinewidth\":1,\"tickcolor\":\"rgb(36,36,36)\",\"ticks\":\"outside\"},\"colorscale\":[[0.0,\"#440154\"],[0.1111111111111111,\"#482878\"],[0.2222222222222222,\"#3e4989\"],[0.3333333333333333,\"#31688e\"],[0.4444444444444444,\"#26828e\"],[0.5555555555555556,\"#1f9e89\"],[0.6666666666666666,\"#35b779\"],[0.7777777777777778,\"#6ece58\"],[0.8888888888888888,\"#b5de2b\"],[1.0,\"#fde725\"]],\"type\":\"histogram2d\"}],\"histogram\":[{\"marker\":{\"line\":{\"color\":\"white\",\"width\":0.6}},\"type\":\"histogram\"}],\"mesh3d\":[{\"colorbar\":{\"outlinewidth\":1,\"tickcolor\":\"rgb(36,36,36)\",\"ticks\":\"outside\"},\"type\":\"mesh3d\"}],\"parcoords\":[{\"line\":{\"colorbar\":{\"outlinewidth\":1,\"tickcolor\":\"rgb(36,36,36)\",\"ticks\":\"outside\"}},\"type\":\"parcoords\"}],\"pie\":[{\"automargin\":true,\"type\":\"pie\"}],\"scatter3d\":[{\"line\":{\"colorbar\":{\"outlinewidth\":1,\"tickcolor\":\"rgb(36,36,36)\",\"ticks\":\"outside\"}},\"marker\":{\"colorbar\":{\"outlinewidth\":1,\"tickcolor\":\"rgb(36,36,36)\",\"ticks\":\"outside\"}},\"type\":\"scatter3d\"}],\"scattercarpet\":[{\"marker\":{\"colorbar\":{\"outlinewidth\":1,\"tickcolor\":\"rgb(36,36,36)\",\"ticks\":\"outside\"}},\"type\":\"scattercarpet\"}],\"scattergeo\":[{\"marker\":{\"colorbar\":{\"outlinewidth\":1,\"tickcolor\":\"rgb(36,36,36)\",\"ticks\":\"outside\"}},\"type\":\"scattergeo\"}],\"scattergl\":[{\"marker\":{\"colorbar\":{\"outlinewidth\":1,\"tickcolor\":\"rgb(36,36,36)\",\"ticks\":\"outside\"}},\"type\":\"scattergl\"}],\"scattermapbox\":[{\"marker\":{\"colorbar\":{\"outlinewidth\":1,\"tickcolor\":\"rgb(36,36,36)\",\"ticks\":\"outside\"}},\"type\":\"scattermapbox\"}],\"scatterpolargl\":[{\"marker\":{\"colorbar\":{\"outlinewidth\":1,\"tickcolor\":\"rgb(36,36,36)\",\"ticks\":\"outside\"}},\"type\":\"scatterpolargl\"}],\"scatterpolar\":[{\"marker\":{\"colorbar\":{\"outlinewidth\":1,\"tickcolor\":\"rgb(36,36,36)\",\"ticks\":\"outside\"}},\"type\":\"scatterpolar\"}],\"scatter\":[{\"fillpattern\":{\"fillmode\":\"overlay\",\"size\":10,\"solidity\":0.2},\"type\":\"scatter\"}],\"scatterternary\":[{\"marker\":{\"colorbar\":{\"outlinewidth\":1,\"tickcolor\":\"rgb(36,36,36)\",\"ticks\":\"outside\"}},\"type\":\"scatterternary\"}],\"surface\":[{\"colorbar\":{\"outlinewidth\":1,\"tickcolor\":\"rgb(36,36,36)\",\"ticks\":\"outside\"},\"colorscale\":[[0.0,\"#440154\"],[0.1111111111111111,\"#482878\"],[0.2222222222222222,\"#3e4989\"],[0.3333333333333333,\"#31688e\"],[0.4444444444444444,\"#26828e\"],[0.5555555555555556,\"#1f9e89\"],[0.6666666666666666,\"#35b779\"],[0.7777777777777778,\"#6ece58\"],[0.8888888888888888,\"#b5de2b\"],[1.0,\"#fde725\"]],\"type\":\"surface\"}],\"table\":[{\"cells\":{\"fill\":{\"color\":\"rgb(237,237,237)\"},\"line\":{\"color\":\"white\"}},\"header\":{\"fill\":{\"color\":\"rgb(217,217,217)\"},\"line\":{\"color\":\"white\"}},\"type\":\"table\"}]},\"layout\":{\"annotationdefaults\":{\"arrowhead\":0,\"arrowwidth\":1},\"autotypenumbers\":\"strict\",\"coloraxis\":{\"colorbar\":{\"outlinewidth\":1,\"tickcolor\":\"rgb(36,36,36)\",\"ticks\":\"outside\"}},\"colorscale\":{\"diverging\":[[0.0,\"rgb(103,0,31)\"],[0.1,\"rgb(178,24,43)\"],[0.2,\"rgb(214,96,77)\"],[0.3,\"rgb(244,165,130)\"],[0.4,\"rgb(253,219,199)\"],[0.5,\"rgb(247,247,247)\"],[0.6,\"rgb(209,229,240)\"],[0.7,\"rgb(146,197,222)\"],[0.8,\"rgb(67,147,195)\"],[0.9,\"rgb(33,102,172)\"],[1.0,\"rgb(5,48,97)\"]],\"sequential\":[[0.0,\"#440154\"],[0.1111111111111111,\"#482878\"],[0.2222222222222222,\"#3e4989\"],[0.3333333333333333,\"#31688e\"],[0.4444444444444444,\"#26828e\"],[0.5555555555555556,\"#1f9e89\"],[0.6666666666666666,\"#35b779\"],[0.7777777777777778,\"#6ece58\"],[0.8888888888888888,\"#b5de2b\"],[1.0,\"#fde725\"]],\"sequentialminus\":[[0.0,\"#440154\"],[0.1111111111111111,\"#482878\"],[0.2222222222222222,\"#3e4989\"],[0.3333333333333333,\"#31688e\"],[0.4444444444444444,\"#26828e\"],[0.5555555555555556,\"#1f9e89\"],[0.6666666666666666,\"#35b779\"],[0.7777777777777778,\"#6ece58\"],[0.8888888888888888,\"#b5de2b\"],[1.0,\"#fde725\"]]},\"colorway\":[\"#1F77B4\",\"#FF7F0E\",\"#2CA02C\",\"#D62728\",\"#9467BD\",\"#8C564B\",\"#E377C2\",\"#7F7F7F\",\"#BCBD22\",\"#17BECF\"],\"font\":{\"color\":\"rgb(36,36,36)\"},\"geo\":{\"bgcolor\":\"white\",\"lakecolor\":\"white\",\"landcolor\":\"white\",\"showlakes\":true,\"showland\":true,\"subunitcolor\":\"white\"},\"hoverlabel\":{\"align\":\"left\"},\"hovermode\":\"closest\",\"mapbox\":{\"style\":\"light\"},\"paper_bgcolor\":\"white\",\"plot_bgcolor\":\"white\",\"polar\":{\"angularaxis\":{\"gridcolor\":\"rgb(232,232,232)\",\"linecolor\":\"rgb(36,36,36)\",\"showgrid\":false,\"showline\":true,\"ticks\":\"outside\"},\"bgcolor\":\"white\",\"radialaxis\":{\"gridcolor\":\"rgb(232,232,232)\",\"linecolor\":\"rgb(36,36,36)\",\"showgrid\":false,\"showline\":true,\"ticks\":\"outside\"}},\"scene\":{\"xaxis\":{\"backgroundcolor\":\"white\",\"gridcolor\":\"rgb(232,232,232)\",\"gridwidth\":2,\"linecolor\":\"rgb(36,36,36)\",\"showbackground\":true,\"showgrid\":false,\"showline\":true,\"ticks\":\"outside\",\"zeroline\":false,\"zerolinecolor\":\"rgb(36,36,36)\"},\"yaxis\":{\"backgroundcolor\":\"white\",\"gridcolor\":\"rgb(232,232,232)\",\"gridwidth\":2,\"linecolor\":\"rgb(36,36,36)\",\"showbackground\":true,\"showgrid\":false,\"showline\":true,\"ticks\":\"outside\",\"zeroline\":false,\"zerolinecolor\":\"rgb(36,36,36)\"},\"zaxis\":{\"backgroundcolor\":\"white\",\"gridcolor\":\"rgb(232,232,232)\",\"gridwidth\":2,\"linecolor\":\"rgb(36,36,36)\",\"showbackground\":true,\"showgrid\":false,\"showline\":true,\"ticks\":\"outside\",\"zeroline\":false,\"zerolinecolor\":\"rgb(36,36,36)\"}},\"shapedefaults\":{\"fillcolor\":\"black\",\"line\":{\"width\":0},\"opacity\":0.3},\"ternary\":{\"aaxis\":{\"gridcolor\":\"rgb(232,232,232)\",\"linecolor\":\"rgb(36,36,36)\",\"showgrid\":false,\"showline\":true,\"ticks\":\"outside\"},\"baxis\":{\"gridcolor\":\"rgb(232,232,232)\",\"linecolor\":\"rgb(36,36,36)\",\"showgrid\":false,\"showline\":true,\"ticks\":\"outside\"},\"bgcolor\":\"white\",\"caxis\":{\"gridcolor\":\"rgb(232,232,232)\",\"linecolor\":\"rgb(36,36,36)\",\"showgrid\":false,\"showline\":true,\"ticks\":\"outside\"}},\"title\":{\"x\":0.05},\"xaxis\":{\"automargin\":true,\"gridcolor\":\"rgb(232,232,232)\",\"linecolor\":\"rgb(36,36,36)\",\"showgrid\":false,\"showline\":true,\"ticks\":\"outside\",\"title\":{\"standoff\":15},\"zeroline\":false,\"zerolinecolor\":\"rgb(36,36,36)\"},\"yaxis\":{\"automargin\":true,\"gridcolor\":\"rgb(232,232,232)\",\"linecolor\":\"rgb(36,36,36)\",\"showgrid\":false,\"showline\":true,\"ticks\":\"outside\",\"title\":{\"standoff\":15},\"zeroline\":false,\"zerolinecolor\":\"rgb(36,36,36)\"}}},\"xaxis\":{\"anchor\":\"y\",\"domain\":[0.0,0.22999999999999998],\"title\":{\"text\":\"\"},\"showgrid\":true,\"gridwidth\":1,\"gridcolor\":\"#F0F0F0\",\"linecolor\":\"darkgrey\",\"ticks\":\"\"},\"yaxis\":{\"anchor\":\"x\",\"domain\":[0.0,0.235],\"title\":{\"text\":\"<B>                             1-recall@3\",\"standoff\":5},\"showgrid\":true,\"gridwidth\":1,\"gridcolor\":\"#F0F0F0\",\"linecolor\":\"darkgrey\",\"ticks\":\"\",\"range\":[0,1.1],\"tick0\":0.2,\"dtick\":0.2},\"xaxis2\":{\"anchor\":\"y2\",\"domain\":[0.24999999999999997,0.48],\"matches\":\"x\",\"title\":{\"text\":\"<B>search time (ms/query)\",\"standoff\":10},\"showgrid\":true,\"gridwidth\":1,\"gridcolor\":\"#F0F0F0\",\"linecolor\":\"darkgrey\",\"ticks\":\"\"},\"yaxis2\":{\"anchor\":\"x2\",\"domain\":[0.0,0.235],\"matches\":\"y\",\"showticklabels\":false,\"showgrid\":true,\"gridwidth\":1,\"gridcolor\":\"#F0F0F0\",\"linecolor\":\"darkgrey\",\"ticks\":\"\",\"range\":[0,1.1],\"tick0\":0.2,\"dtick\":0.2,\"title\":{\"text\":\"\"}},\"xaxis3\":{\"anchor\":\"y3\",\"domain\":[0.49999999999999994,0.73],\"matches\":\"x\",\"title\":{\"text\":\"\"},\"showgrid\":true,\"gridwidth\":1,\"gridcolor\":\"#F0F0F0\",\"linecolor\":\"darkgrey\",\"ticks\":\"\"},\"yaxis3\":{\"anchor\":\"x3\",\"domain\":[0.0,0.235],\"matches\":\"y\",\"showticklabels\":false,\"showgrid\":true,\"gridwidth\":1,\"gridcolor\":\"#F0F0F0\",\"linecolor\":\"darkgrey\",\"ticks\":\"\",\"range\":[0,1.1],\"tick0\":0.2,\"dtick\":0.2,\"title\":{\"text\":\"\"}},\"xaxis4\":{\"anchor\":\"y4\",\"domain\":[0.75,0.98],\"matches\":\"x\",\"title\":{\"text\":\"\"},\"showgrid\":true,\"gridwidth\":1,\"gridcolor\":\"#F0F0F0\",\"linecolor\":\"darkgrey\",\"ticks\":\"\"},\"yaxis4\":{\"anchor\":\"x4\",\"domain\":[0.0,0.235],\"matches\":\"y\",\"showticklabels\":false,\"showgrid\":true,\"gridwidth\":1,\"gridcolor\":\"#F0F0F0\",\"linecolor\":\"darkgrey\",\"ticks\":\"\",\"range\":[0,1.1],\"tick0\":0.2,\"dtick\":0.2,\"title\":{\"text\":\"\"}},\"xaxis5\":{\"anchor\":\"y5\",\"domain\":[0.0,0.22999999999999998],\"matches\":\"x\",\"showticklabels\":false,\"showgrid\":true,\"gridwidth\":1,\"gridcolor\":\"#F0F0F0\",\"linecolor\":\"darkgrey\",\"ticks\":\"\",\"title\":{\"text\":\"\"}},\"yaxis5\":{\"anchor\":\"x5\",\"domain\":[0.255,0.49],\"matches\":\"y\",\"title\":{\"text\":\"\"},\"showgrid\":true,\"gridwidth\":1,\"gridcolor\":\"#F0F0F0\",\"linecolor\":\"darkgrey\",\"ticks\":\"\",\"range\":[0,1.1],\"tick0\":0.2,\"dtick\":0.2},\"xaxis6\":{\"anchor\":\"y6\",\"domain\":[0.24999999999999997,0.48],\"matches\":\"x\",\"showticklabels\":false,\"showgrid\":true,\"gridwidth\":1,\"gridcolor\":\"#F0F0F0\",\"linecolor\":\"darkgrey\",\"ticks\":\"\",\"title\":{\"text\":\"\"}},\"yaxis6\":{\"anchor\":\"x6\",\"domain\":[0.255,0.49],\"matches\":\"y\",\"showticklabels\":false,\"showgrid\":true,\"gridwidth\":1,\"gridcolor\":\"#F0F0F0\",\"linecolor\":\"darkgrey\",\"ticks\":\"\",\"range\":[0,1.1],\"tick0\":0.2,\"dtick\":0.2,\"title\":{\"text\":\"\"}},\"xaxis7\":{\"anchor\":\"y7\",\"domain\":[0.49999999999999994,0.73],\"matches\":\"x\",\"showticklabels\":false,\"showgrid\":true,\"gridwidth\":1,\"gridcolor\":\"#F0F0F0\",\"linecolor\":\"darkgrey\",\"ticks\":\"\",\"title\":{\"text\":\"\"}},\"yaxis7\":{\"anchor\":\"x7\",\"domain\":[0.255,0.49],\"matches\":\"y\",\"showticklabels\":false,\"showgrid\":true,\"gridwidth\":1,\"gridcolor\":\"#F0F0F0\",\"linecolor\":\"darkgrey\",\"ticks\":\"\",\"range\":[0,1.1],\"tick0\":0.2,\"dtick\":0.2,\"title\":{\"text\":\"\"}},\"xaxis8\":{\"anchor\":\"y8\",\"domain\":[0.75,0.98],\"matches\":\"x\",\"showticklabels\":false,\"showgrid\":true,\"gridwidth\":1,\"gridcolor\":\"#F0F0F0\",\"linecolor\":\"darkgrey\",\"ticks\":\"\",\"title\":{\"text\":\"\"}},\"yaxis8\":{\"anchor\":\"x8\",\"domain\":[0.255,0.49],\"matches\":\"y\",\"showticklabels\":false,\"showgrid\":true,\"gridwidth\":1,\"gridcolor\":\"#F0F0F0\",\"linecolor\":\"darkgrey\",\"ticks\":\"\",\"range\":[0,1.1],\"tick0\":0.2,\"dtick\":0.2,\"title\":{\"text\":\"\"}},\"xaxis9\":{\"anchor\":\"y9\",\"domain\":[0.0,0.22999999999999998],\"matches\":\"x\",\"showticklabels\":false,\"showgrid\":true,\"gridwidth\":1,\"gridcolor\":\"#F0F0F0\",\"linecolor\":\"darkgrey\",\"ticks\":\"\",\"title\":{\"text\":\"\"}},\"yaxis9\":{\"anchor\":\"x9\",\"domain\":[0.51,0.745],\"matches\":\"y\",\"title\":{\"text\":\"\"},\"showgrid\":true,\"gridwidth\":1,\"gridcolor\":\"#F0F0F0\",\"linecolor\":\"darkgrey\",\"ticks\":\"\",\"range\":[0,1.1],\"tick0\":0.2,\"dtick\":0.2},\"xaxis10\":{\"anchor\":\"y10\",\"domain\":[0.24999999999999997,0.48],\"matches\":\"x\",\"showticklabels\":false,\"showgrid\":true,\"gridwidth\":1,\"gridcolor\":\"#F0F0F0\",\"linecolor\":\"darkgrey\",\"ticks\":\"\",\"title\":{\"text\":\"\"}},\"yaxis10\":{\"anchor\":\"x10\",\"domain\":[0.51,0.745],\"matches\":\"y\",\"showticklabels\":false,\"showgrid\":true,\"gridwidth\":1,\"gridcolor\":\"#F0F0F0\",\"linecolor\":\"darkgrey\",\"ticks\":\"\",\"range\":[0,1.1],\"tick0\":0.2,\"dtick\":0.2,\"title\":{\"text\":\"\"}},\"xaxis11\":{\"anchor\":\"y11\",\"domain\":[0.49999999999999994,0.73],\"matches\":\"x\",\"showticklabels\":false,\"showgrid\":true,\"gridwidth\":1,\"gridcolor\":\"#F0F0F0\",\"linecolor\":\"darkgrey\",\"ticks\":\"\",\"title\":{\"text\":\"\"}},\"yaxis11\":{\"anchor\":\"x11\",\"domain\":[0.51,0.745],\"matches\":\"y\",\"showticklabels\":false,\"showgrid\":true,\"gridwidth\":1,\"gridcolor\":\"#F0F0F0\",\"linecolor\":\"darkgrey\",\"ticks\":\"\",\"range\":[0,1.1],\"tick0\":0.2,\"dtick\":0.2,\"title\":{\"text\":\"\"}},\"xaxis12\":{\"anchor\":\"y12\",\"domain\":[0.75,0.98],\"matches\":\"x\",\"showticklabels\":false,\"showgrid\":true,\"gridwidth\":1,\"gridcolor\":\"#F0F0F0\",\"linecolor\":\"darkgrey\",\"ticks\":\"\",\"title\":{\"text\":\"\"}},\"yaxis12\":{\"anchor\":\"x12\",\"domain\":[0.51,0.745],\"matches\":\"y\",\"showticklabels\":false,\"showgrid\":true,\"gridwidth\":1,\"gridcolor\":\"#F0F0F0\",\"linecolor\":\"darkgrey\",\"ticks\":\"\",\"range\":[0,1.1],\"tick0\":0.2,\"dtick\":0.2,\"title\":{\"text\":\"\"}},\"xaxis13\":{\"anchor\":\"y13\",\"domain\":[0.0,0.22999999999999998],\"matches\":\"x\",\"showticklabels\":false,\"showgrid\":true,\"gridwidth\":1,\"gridcolor\":\"#F0F0F0\",\"linecolor\":\"darkgrey\",\"ticks\":\"\",\"title\":{\"text\":\"\"}},\"yaxis13\":{\"anchor\":\"x13\",\"domain\":[0.7649999999999999,0.9999999999999999],\"matches\":\"y\",\"title\":{\"text\":\"\"},\"showgrid\":true,\"gridwidth\":1,\"gridcolor\":\"#F0F0F0\",\"linecolor\":\"darkgrey\",\"ticks\":\"\",\"range\":[0,1.1],\"tick0\":0.2,\"dtick\":0.2},\"xaxis14\":{\"anchor\":\"y14\",\"domain\":[0.24999999999999997,0.48],\"matches\":\"x\",\"showticklabels\":false,\"showgrid\":true,\"gridwidth\":1,\"gridcolor\":\"#F0F0F0\",\"linecolor\":\"darkgrey\",\"ticks\":\"\",\"title\":{\"text\":\"\"}},\"yaxis14\":{\"anchor\":\"x14\",\"domain\":[0.7649999999999999,0.9999999999999999],\"matches\":\"y\",\"showticklabels\":false,\"showgrid\":true,\"gridwidth\":1,\"gridcolor\":\"#F0F0F0\",\"linecolor\":\"darkgrey\",\"ticks\":\"\",\"range\":[0,1.1],\"tick0\":0.2,\"dtick\":0.2,\"title\":{\"text\":\"\"}},\"xaxis15\":{\"anchor\":\"y15\",\"domain\":[0.49999999999999994,0.73],\"matches\":\"x\",\"showticklabels\":false,\"showgrid\":true,\"gridwidth\":1,\"gridcolor\":\"#F0F0F0\",\"linecolor\":\"darkgrey\",\"ticks\":\"\",\"title\":{\"text\":\"\"}},\"yaxis15\":{\"anchor\":\"x15\",\"domain\":[0.7649999999999999,0.9999999999999999],\"matches\":\"y\",\"showticklabels\":false,\"showgrid\":true,\"gridwidth\":1,\"gridcolor\":\"#F0F0F0\",\"linecolor\":\"darkgrey\",\"ticks\":\"\",\"range\":[0,1.1],\"tick0\":0.2,\"dtick\":0.2,\"title\":{\"text\":\"\"}},\"xaxis16\":{\"anchor\":\"y16\",\"domain\":[0.75,0.98],\"matches\":\"x\",\"showticklabels\":false,\"showgrid\":true,\"gridwidth\":1,\"gridcolor\":\"#F0F0F0\",\"linecolor\":\"darkgrey\",\"ticks\":\"\",\"title\":{\"text\":\"\"}},\"yaxis16\":{\"anchor\":\"x16\",\"domain\":[0.7649999999999999,0.9999999999999999],\"matches\":\"y\",\"showticklabels\":false,\"showgrid\":true,\"gridwidth\":1,\"gridcolor\":\"#F0F0F0\",\"linecolor\":\"darkgrey\",\"ticks\":\"\",\"range\":[0,1.1],\"tick0\":0.2,\"dtick\":0.2,\"title\":{\"text\":\"\"}},\"annotations\":[{\"font\":{},\"showarrow\":false,\"text\":\"efConstruction=4\",\"x\":0.11499999999999999,\"xanchor\":\"center\",\"xref\":\"paper\",\"y\":0.9999999999999999,\"yanchor\":\"bottom\",\"yref\":\"paper\"},{\"font\":{},\"showarrow\":false,\"text\":\"efConstruction=16\",\"x\":0.365,\"xanchor\":\"center\",\"xref\":\"paper\",\"y\":0.9999999999999999,\"yanchor\":\"bottom\",\"yref\":\"paper\"},{\"font\":{},\"showarrow\":false,\"text\":\"efConstruction=40\",\"x\":0.615,\"xanchor\":\"center\",\"xref\":\"paper\",\"y\":0.9999999999999999,\"yanchor\":\"bottom\",\"yref\":\"paper\"},{\"font\":{},\"showarrow\":false,\"text\":\"efConstruction=76\",\"x\":0.865,\"xanchor\":\"center\",\"xref\":\"paper\",\"y\":0.9999999999999999,\"yanchor\":\"bottom\",\"yref\":\"paper\"},{\"font\":{},\"showarrow\":false,\"text\":\"efSearch=76\",\"textangle\":90,\"x\":0.98,\"xanchor\":\"left\",\"xref\":\"paper\",\"y\":0.1175,\"yanchor\":\"middle\",\"yref\":\"paper\"},{\"font\":{},\"showarrow\":false,\"text\":\"efSearch=40\",\"textangle\":90,\"x\":0.98,\"xanchor\":\"left\",\"xref\":\"paper\",\"y\":0.3725,\"yanchor\":\"middle\",\"yref\":\"paper\"},{\"font\":{},\"showarrow\":false,\"text\":\"efSearch=16\",\"textangle\":90,\"x\":0.98,\"xanchor\":\"left\",\"xref\":\"paper\",\"y\":0.6275,\"yanchor\":\"middle\",\"yref\":\"paper\"},{\"font\":{},\"showarrow\":false,\"text\":\"efSearch=4\",\"textangle\":90,\"x\":0.98,\"xanchor\":\"left\",\"xref\":\"paper\",\"y\":0.8824999999999998,\"yanchor\":\"middle\",\"yref\":\"paper\"}],\"legend\":{\"title\":{\"text\":\"M\"},\"tracegroupgap\":0,\"itemsizing\":\"constant\",\"borderwidth\":1,\"traceorder\":\"reversed\",\"yanchor\":\"top\",\"y\":0.76,\"xanchor\":\"left\",\"x\":1.03},\"margin\":{\"t\":60},\"height\":700,\"width\":700,\"title\":{\"font\":{\"family\":\"Arial\",\"color\":\"RebeccaPurple\"},\"text\":\"<B>Bubble Size corresponds to Index Size (MB)\",\"yanchor\":\"top\",\"y\":0.98,\"xanchor\":\"center\",\"x\":0.5}},                        {\"responsive\": true}                    ).then(function(){\n",
       "                            \n",
       "var gd = document.getElementById('e451863c-2ae7-4cbb-9a48-73a47dcb0dc1');\n",
       "var x = new MutationObserver(function (mutations, observer) {{\n",
       "        var display = window.getComputedStyle(gd).display;\n",
       "        if (!display || display === 'none') {{\n",
       "            console.log([gd, 'removed!']);\n",
       "            Plotly.purge(gd);\n",
       "            observer.disconnect();\n",
       "        }}\n",
       "}});\n",
       "\n",
       "// Listen for the removal of the full notebook cells\n",
       "var notebookContainer = gd.closest('#notebook-container');\n",
       "if (notebookContainer) {{\n",
       "    x.observe(notebookContainer, {childList: true});\n",
       "}}\n",
       "\n",
       "// Listen for the clearing of the current output cell\n",
       "var outputEl = gd.closest('.output');\n",
       "if (outputEl) {{\n",
       "    x.observe(outputEl, {childList: true});\n",
       "}}\n",
       "\n",
       "                        })                };                });            </script>        </div>"
      ]
     },
     "metadata": {},
     "output_type": "display_data"
    }
   ],
   "source": [
    "fig = px.scatter(dfHNSW, x=\"search_time\", y=\"recall@3\", color=\"M\", height=700, width=700, size=\"index_size\", size_max=15,\n",
    "                 template=\"simple_white\", color_discrete_sequence=colors_custom, #color_discrete_sequence=px.colors.qualitative.D3,  \n",
    "                 facet_row=\"efSearch\", facet_row_spacing=0.02,  \n",
    "                 facet_col=\"efConstruction\", facet_col_spacing=0.02#, title=\"Bubble Size corresponds to Index Size\"    \n",
    "                )\n",
    "fig.update_xaxes(showgrid=True, gridwidth=1, gridcolor='#F0F0F0', linecolor='darkgrey', ticks=\"\")\n",
    "fig.update_yaxes(showgrid=True, gridwidth=1, gridcolor='#F0F0F0', linecolor='darkgrey', ticks=\"\", range=[0, 1.1], tick0=0.2, dtick=0.2)\n",
    "fig.update_xaxes(title_text=\"\")\n",
    "fig.update_yaxes(title_text=\"\")\n",
    "fig.update_xaxes(row=1, col=2, title_standoff=10, title_text=\"<B>search time (ms/query)\")                # title_font_family=\"Arial\"\n",
    "fig.update_yaxes(col=1, row=1, title_standoff=5, title_text=\"<B>                             1-recall@3\")\n",
    "fig.update_layout(legend=dict(borderwidth=1, traceorder=\"reversed\", yanchor=\"top\", y=0.76, xanchor=\"left\", x=1.03, ))\n",
    "fig.update_layout(title=dict(text=\"<B>Bubble Size corresponds to Index Size (MB)\", yanchor=\"top\", y=0.98, xanchor=\"center\", x=0.5, \n",
    "                             font_family=\"Arial\", font_color=\"RebeccaPurple\"))\n",
    "fig.show()\n",
    "fig.write_html(\"Hflat_recall_4x4_indexsize.html\")"
   ]
  },
  {
   "cell_type": "code",
   "execution_count": 51,
   "id": "91db9ef9",
   "metadata": {
    "execution": {
     "iopub.execute_input": "2022-08-24T06:42:33.698655Z",
     "iopub.status.busy": "2022-08-24T06:42:33.698268Z",
     "iopub.status.idle": "2022-08-24T06:42:34.315142Z",
     "shell.execute_reply": "2022-08-24T06:42:34.314188Z"
    },
    "papermill": {
     "duration": 1.234237,
     "end_time": "2022-08-24T06:42:34.317628",
     "exception": false,
     "start_time": "2022-08-24T06:42:33.083391",
     "status": "completed"
    },
    "tags": []
   },
   "outputs": [
    {
     "data": {
      "text/html": [
       "<div>                            <div id=\"dc568d15-f1fa-403f-89ea-0c667d7f1711\" class=\"plotly-graph-div\" style=\"height:700px; width:700px;\"></div>            <script type=\"text/javascript\">                require([\"plotly\"], function(Plotly) {                    window.PLOTLYENV=window.PLOTLYENV || {};                                    if (document.getElementById(\"dc568d15-f1fa-403f-89ea-0c667d7f1711\")) {                    Plotly.newPlot(                        \"dc568d15-f1fa-403f-89ea-0c667d7f1711\",                        [{\"hovertemplate\":\"M=4<br>efSearch=4<br>efConstruction=4<br>search_time=%{x}<br>recall@3=%{y}<br>index_time=%{marker.size}<extra></extra>\",\"legendgroup\":\"4\",\"marker\":{\"color\":\"#EECA3B\",\"size\":[49.40732479095459],\"sizemode\":\"area\",\"sizeref\":9.289524681303236,\"symbol\":\"circle\"},\"mode\":\"markers\",\"name\":\"4\",\"orientation\":\"v\",\"showlegend\":true,\"x\":[0.11185693740844727],\"xaxis\":\"x13\",\"y\":[0.021],\"yaxis\":\"y13\",\"type\":\"scatter\"},{\"hovertemplate\":\"M=4<br>efSearch=4<br>efConstruction=16<br>search_time=%{x}<br>recall@3=%{y}<br>index_time=%{marker.size}<extra></extra>\",\"legendgroup\":\"4\",\"marker\":{\"color\":\"#EECA3B\",\"size\":[164.9263710975647],\"sizemode\":\"area\",\"sizeref\":9.289524681303236,\"symbol\":\"circle\"},\"mode\":\"markers\",\"name\":\"4\",\"orientation\":\"v\",\"showlegend\":false,\"x\":[0.05586051940917969],\"xaxis\":\"x14\",\"y\":[0.059],\"yaxis\":\"y14\",\"type\":\"scatter\"},{\"hovertemplate\":\"M=4<br>efSearch=4<br>efConstruction=40<br>search_time=%{x}<br>recall@3=%{y}<br>index_time=%{marker.size}<extra></extra>\",\"legendgroup\":\"4\",\"marker\":{\"color\":\"#EECA3B\",\"size\":[348.52228331565857],\"sizemode\":\"area\",\"sizeref\":9.289524681303236,\"symbol\":\"circle\"},\"mode\":\"markers\",\"name\":\"4\",\"orientation\":\"v\",\"showlegend\":false,\"x\":[0.02127981185913086],\"xaxis\":\"x15\",\"y\":[0.086],\"yaxis\":\"y15\",\"type\":\"scatter\"},{\"hovertemplate\":\"M=4<br>efSearch=4<br>efConstruction=76<br>search_time=%{x}<br>recall@3=%{y}<br>index_time=%{marker.size}<extra></extra>\",\"legendgroup\":\"4\",\"marker\":{\"color\":\"#EECA3B\",\"size\":[556.7008607387543],\"sizemode\":\"area\",\"sizeref\":9.289524681303236,\"symbol\":\"circle\"},\"mode\":\"markers\",\"name\":\"4\",\"orientation\":\"v\",\"showlegend\":false,\"x\":[0.0682826042175293],\"xaxis\":\"x16\",\"y\":[0.1],\"yaxis\":\"y16\",\"type\":\"scatter\"},{\"hovertemplate\":\"M=4<br>efSearch=16<br>efConstruction=4<br>search_time=%{x}<br>recall@3=%{y}<br>index_time=%{marker.size}<extra></extra>\",\"legendgroup\":\"4\",\"marker\":{\"color\":\"#EECA3B\",\"size\":[49.40732479095459],\"sizemode\":\"area\",\"sizeref\":9.289524681303236,\"symbol\":\"circle\"},\"mode\":\"markers\",\"name\":\"4\",\"orientation\":\"v\",\"showlegend\":false,\"x\":[0.07790207862854004],\"xaxis\":\"x9\",\"y\":[0.036],\"yaxis\":\"y9\",\"type\":\"scatter\"},{\"hovertemplate\":\"M=4<br>efSearch=16<br>efConstruction=16<br>search_time=%{x}<br>recall@3=%{y}<br>index_time=%{marker.size}<extra></extra>\",\"legendgroup\":\"4\",\"marker\":{\"color\":\"#EECA3B\",\"size\":[164.9263710975647],\"sizemode\":\"area\",\"sizeref\":9.289524681303236,\"symbol\":\"circle\"},\"mode\":\"markers\",\"name\":\"4\",\"orientation\":\"v\",\"showlegend\":false,\"x\":[0.03347301483154297],\"xaxis\":\"x10\",\"y\":[0.191],\"yaxis\":\"y10\",\"type\":\"scatter\"},{\"hovertemplate\":\"M=4<br>efSearch=16<br>efConstruction=40<br>search_time=%{x}<br>recall@3=%{y}<br>index_time=%{marker.size}<extra></extra>\",\"legendgroup\":\"4\",\"marker\":{\"color\":\"#EECA3B\",\"size\":[348.52228331565857],\"sizemode\":\"area\",\"sizeref\":9.289524681303236,\"symbol\":\"circle\"},\"mode\":\"markers\",\"name\":\"4\",\"orientation\":\"v\",\"showlegend\":false,\"x\":[0.04080629348754883],\"xaxis\":\"x11\",\"y\":[0.308],\"yaxis\":\"y11\",\"type\":\"scatter\"},{\"hovertemplate\":\"M=4<br>efSearch=16<br>efConstruction=76<br>search_time=%{x}<br>recall@3=%{y}<br>index_time=%{marker.size}<extra></extra>\",\"legendgroup\":\"4\",\"marker\":{\"color\":\"#EECA3B\",\"size\":[556.7008607387543],\"sizemode\":\"area\",\"sizeref\":9.289524681303236,\"symbol\":\"circle\"},\"mode\":\"markers\",\"name\":\"4\",\"orientation\":\"v\",\"showlegend\":false,\"x\":[0.04142284393310547],\"xaxis\":\"x12\",\"y\":[0.325],\"yaxis\":\"y12\",\"type\":\"scatter\"},{\"hovertemplate\":\"M=4<br>efSearch=40<br>efConstruction=4<br>search_time=%{x}<br>recall@3=%{y}<br>index_time=%{marker.size}<extra></extra>\",\"legendgroup\":\"4\",\"marker\":{\"color\":\"#EECA3B\",\"size\":[49.40732479095459],\"sizemode\":\"area\",\"sizeref\":9.289524681303236,\"symbol\":\"circle\"},\"mode\":\"markers\",\"name\":\"4\",\"orientation\":\"v\",\"showlegend\":false,\"x\":[0.12146520614624023],\"xaxis\":\"x5\",\"y\":[0.043],\"yaxis\":\"y5\",\"type\":\"scatter\"},{\"hovertemplate\":\"M=4<br>efSearch=40<br>efConstruction=16<br>search_time=%{x}<br>recall@3=%{y}<br>index_time=%{marker.size}<extra></extra>\",\"legendgroup\":\"4\",\"marker\":{\"color\":\"#EECA3B\",\"size\":[164.9263710975647],\"sizemode\":\"area\",\"sizeref\":9.289524681303236,\"symbol\":\"circle\"},\"mode\":\"markers\",\"name\":\"4\",\"orientation\":\"v\",\"showlegend\":false,\"x\":[0.07358002662658691],\"xaxis\":\"x6\",\"y\":[0.345],\"yaxis\":\"y6\",\"type\":\"scatter\"},{\"hovertemplate\":\"M=4<br>efSearch=40<br>efConstruction=40<br>search_time=%{x}<br>recall@3=%{y}<br>index_time=%{marker.size}<extra></extra>\",\"legendgroup\":\"4\",\"marker\":{\"color\":\"#EECA3B\",\"size\":[348.52228331565857],\"sizemode\":\"area\",\"sizeref\":9.289524681303236,\"symbol\":\"circle\"},\"mode\":\"markers\",\"name\":\"4\",\"orientation\":\"v\",\"showlegend\":false,\"x\":[0.07532739639282227],\"xaxis\":\"x7\",\"y\":[0.539],\"yaxis\":\"y7\",\"type\":\"scatter\"},{\"hovertemplate\":\"M=4<br>efSearch=40<br>efConstruction=76<br>search_time=%{x}<br>recall@3=%{y}<br>index_time=%{marker.size}<extra></extra>\",\"legendgroup\":\"4\",\"marker\":{\"color\":\"#EECA3B\",\"size\":[556.7008607387543],\"sizemode\":\"area\",\"sizeref\":9.289524681303236,\"symbol\":\"circle\"},\"mode\":\"markers\",\"name\":\"4\",\"orientation\":\"v\",\"showlegend\":false,\"x\":[0.07770061492919922],\"xaxis\":\"x8\",\"y\":[0.566],\"yaxis\":\"y8\",\"type\":\"scatter\"},{\"hovertemplate\":\"M=4<br>efSearch=76<br>efConstruction=4<br>search_time=%{x}<br>recall@3=%{y}<br>index_time=%{marker.size}<extra></extra>\",\"legendgroup\":\"4\",\"marker\":{\"color\":\"#EECA3B\",\"size\":[49.40732479095459],\"sizemode\":\"area\",\"sizeref\":9.289524681303236,\"symbol\":\"circle\"},\"mode\":\"markers\",\"name\":\"4\",\"orientation\":\"v\",\"showlegend\":false,\"x\":[0.16416025161743164],\"xaxis\":\"x\",\"y\":[0.051],\"yaxis\":\"y\",\"type\":\"scatter\"},{\"hovertemplate\":\"M=4<br>efSearch=76<br>efConstruction=16<br>search_time=%{x}<br>recall@3=%{y}<br>index_time=%{marker.size}<extra></extra>\",\"legendgroup\":\"4\",\"marker\":{\"color\":\"#EECA3B\",\"size\":[164.9263710975647],\"sizemode\":\"area\",\"sizeref\":9.289524681303236,\"symbol\":\"circle\"},\"mode\":\"markers\",\"name\":\"4\",\"orientation\":\"v\",\"showlegend\":false,\"x\":[0.22960305213928223],\"xaxis\":\"x2\",\"y\":[0.437],\"yaxis\":\"y2\",\"type\":\"scatter\"},{\"hovertemplate\":\"M=4<br>efSearch=76<br>efConstruction=40<br>search_time=%{x}<br>recall@3=%{y}<br>index_time=%{marker.size}<extra></extra>\",\"legendgroup\":\"4\",\"marker\":{\"color\":\"#EECA3B\",\"size\":[348.52228331565857],\"sizemode\":\"area\",\"sizeref\":9.289524681303236,\"symbol\":\"circle\"},\"mode\":\"markers\",\"name\":\"4\",\"orientation\":\"v\",\"showlegend\":false,\"x\":[0.13627386093139648],\"xaxis\":\"x3\",\"y\":[0.628],\"yaxis\":\"y3\",\"type\":\"scatter\"},{\"hovertemplate\":\"M=4<br>efSearch=76<br>efConstruction=76<br>search_time=%{x}<br>recall@3=%{y}<br>index_time=%{marker.size}<extra></extra>\",\"legendgroup\":\"4\",\"marker\":{\"color\":\"#EECA3B\",\"size\":[556.7008607387543],\"sizemode\":\"area\",\"sizeref\":9.289524681303236,\"symbol\":\"circle\"},\"mode\":\"markers\",\"name\":\"4\",\"orientation\":\"v\",\"showlegend\":false,\"x\":[0.14000248908996582],\"xaxis\":\"x4\",\"y\":[0.671],\"yaxis\":\"y4\",\"type\":\"scatter\"},{\"hovertemplate\":\"M=16<br>efSearch=4<br>efConstruction=4<br>search_time=%{x}<br>recall@3=%{y}<br>index_time=%{marker.size}<extra></extra>\",\"legendgroup\":\"16\",\"marker\":{\"color\":\"#FF9900\",\"size\":[67.1663990020752],\"sizemode\":\"area\",\"sizeref\":9.289524681303236,\"symbol\":\"circle\"},\"mode\":\"markers\",\"name\":\"16\",\"orientation\":\"v\",\"showlegend\":true,\"x\":[0.025166034698486328],\"xaxis\":\"x13\",\"y\":[0.035],\"yaxis\":\"y13\",\"type\":\"scatter\"},{\"hovertemplate\":\"M=16<br>efSearch=4<br>efConstruction=16<br>search_time=%{x}<br>recall@3=%{y}<br>index_time=%{marker.size}<extra></extra>\",\"legendgroup\":\"16\",\"marker\":{\"color\":\"#FF9900\",\"size\":[308.49097871780396],\"sizemode\":\"area\",\"sizeref\":9.289524681303236,\"symbol\":\"circle\"},\"mode\":\"markers\",\"name\":\"16\",\"orientation\":\"v\",\"showlegend\":false,\"x\":[0.04731893539428711],\"xaxis\":\"x14\",\"y\":[0.326],\"yaxis\":\"y14\",\"type\":\"scatter\"},{\"hovertemplate\":\"M=16<br>efSearch=4<br>efConstruction=40<br>search_time=%{x}<br>recall@3=%{y}<br>index_time=%{marker.size}<extra></extra>\",\"legendgroup\":\"16\",\"marker\":{\"color\":\"#FF9900\",\"size\":[537.5106830596924],\"sizemode\":\"area\",\"sizeref\":9.289524681303236,\"symbol\":\"circle\"},\"mode\":\"markers\",\"name\":\"16\",\"orientation\":\"v\",\"showlegend\":false,\"x\":[0.07292890548706055],\"xaxis\":\"x15\",\"y\":[0.409],\"yaxis\":\"y15\",\"type\":\"scatter\"},{\"hovertemplate\":\"M=16<br>efSearch=4<br>efConstruction=76<br>search_time=%{x}<br>recall@3=%{y}<br>index_time=%{marker.size}<extra></extra>\",\"legendgroup\":\"16\",\"marker\":{\"color\":\"#FF9900\",\"size\":[993.2644124031067],\"sizemode\":\"area\",\"sizeref\":9.289524681303236,\"symbol\":\"circle\"},\"mode\":\"markers\",\"name\":\"16\",\"orientation\":\"v\",\"showlegend\":false,\"x\":[0.04443764686584473],\"xaxis\":\"x16\",\"y\":[0.45],\"yaxis\":\"y16\",\"type\":\"scatter\"},{\"hovertemplate\":\"M=16<br>efSearch=16<br>efConstruction=4<br>search_time=%{x}<br>recall@3=%{y}<br>index_time=%{marker.size}<extra></extra>\",\"legendgroup\":\"16\",\"marker\":{\"color\":\"#FF9900\",\"size\":[67.1663990020752],\"sizemode\":\"area\",\"sizeref\":9.289524681303236,\"symbol\":\"circle\"},\"mode\":\"markers\",\"name\":\"16\",\"orientation\":\"v\",\"showlegend\":false,\"x\":[0.038710832595825195],\"xaxis\":\"x9\",\"y\":[0.049],\"yaxis\":\"y9\",\"type\":\"scatter\"},{\"hovertemplate\":\"M=16<br>efSearch=16<br>efConstruction=16<br>search_time=%{x}<br>recall@3=%{y}<br>index_time=%{marker.size}<extra></extra>\",\"legendgroup\":\"16\",\"marker\":{\"color\":\"#FF9900\",\"size\":[308.49097871780396],\"sizemode\":\"area\",\"sizeref\":9.289524681303236,\"symbol\":\"circle\"},\"mode\":\"markers\",\"name\":\"16\",\"orientation\":\"v\",\"showlegend\":false,\"x\":[0.08099675178527832],\"xaxis\":\"x10\",\"y\":[0.663],\"yaxis\":\"y10\",\"type\":\"scatter\"},{\"hovertemplate\":\"M=16<br>efSearch=16<br>efConstruction=40<br>search_time=%{x}<br>recall@3=%{y}<br>index_time=%{marker.size}<extra></extra>\",\"legendgroup\":\"16\",\"marker\":{\"color\":\"#FF9900\",\"size\":[537.5106830596924],\"sizemode\":\"area\",\"sizeref\":9.289524681303236,\"symbol\":\"circle\"},\"mode\":\"markers\",\"name\":\"16\",\"orientation\":\"v\",\"showlegend\":false,\"x\":[0.14293575286865234],\"xaxis\":\"x11\",\"y\":[0.715],\"yaxis\":\"y11\",\"type\":\"scatter\"},{\"hovertemplate\":\"M=16<br>efSearch=16<br>efConstruction=76<br>search_time=%{x}<br>recall@3=%{y}<br>index_time=%{marker.size}<extra></extra>\",\"legendgroup\":\"16\",\"marker\":{\"color\":\"#FF9900\",\"size\":[993.2644124031067],\"sizemode\":\"area\",\"sizeref\":9.289524681303236,\"symbol\":\"circle\"},\"mode\":\"markers\",\"name\":\"16\",\"orientation\":\"v\",\"showlegend\":false,\"x\":[0.08853888511657715],\"xaxis\":\"x12\",\"y\":[0.786],\"yaxis\":\"y12\",\"type\":\"scatter\"},{\"hovertemplate\":\"M=16<br>efSearch=40<br>efConstruction=4<br>search_time=%{x}<br>recall@3=%{y}<br>index_time=%{marker.size}<extra></extra>\",\"legendgroup\":\"16\",\"marker\":{\"color\":\"#FF9900\",\"size\":[67.1663990020752],\"sizemode\":\"area\",\"sizeref\":9.289524681303236,\"symbol\":\"circle\"},\"mode\":\"markers\",\"name\":\"16\",\"orientation\":\"v\",\"showlegend\":false,\"x\":[0.0749969482421875],\"xaxis\":\"x5\",\"y\":[0.066],\"yaxis\":\"y5\",\"type\":\"scatter\"},{\"hovertemplate\":\"M=16<br>efSearch=40<br>efConstruction=16<br>search_time=%{x}<br>recall@3=%{y}<br>index_time=%{marker.size}<extra></extra>\",\"legendgroup\":\"16\",\"marker\":{\"color\":\"#FF9900\",\"size\":[308.49097871780396],\"sizemode\":\"area\",\"sizeref\":9.289524681303236,\"symbol\":\"circle\"},\"mode\":\"markers\",\"name\":\"16\",\"orientation\":\"v\",\"showlegend\":false,\"x\":[0.1671006679534912],\"xaxis\":\"x6\",\"y\":[0.824],\"yaxis\":\"y6\",\"type\":\"scatter\"},{\"hovertemplate\":\"M=16<br>efSearch=40<br>efConstruction=40<br>search_time=%{x}<br>recall@3=%{y}<br>index_time=%{marker.size}<extra></extra>\",\"legendgroup\":\"16\",\"marker\":{\"color\":\"#FF9900\",\"size\":[537.5106830596924],\"sizemode\":\"area\",\"sizeref\":9.289524681303236,\"symbol\":\"circle\"},\"mode\":\"markers\",\"name\":\"16\",\"orientation\":\"v\",\"showlegend\":false,\"x\":[0.24015092849731445],\"xaxis\":\"x7\",\"y\":[0.842],\"yaxis\":\"y7\",\"type\":\"scatter\"},{\"hovertemplate\":\"M=16<br>efSearch=40<br>efConstruction=76<br>search_time=%{x}<br>recall@3=%{y}<br>index_time=%{marker.size}<extra></extra>\",\"legendgroup\":\"16\",\"marker\":{\"color\":\"#FF9900\",\"size\":[993.2644124031067],\"sizemode\":\"area\",\"sizeref\":9.289524681303236,\"symbol\":\"circle\"},\"mode\":\"markers\",\"name\":\"16\",\"orientation\":\"v\",\"showlegend\":false,\"x\":[0.17973709106445312],\"xaxis\":\"x8\",\"y\":[0.911],\"yaxis\":\"y8\",\"type\":\"scatter\"},{\"hovertemplate\":\"M=16<br>efSearch=76<br>efConstruction=4<br>search_time=%{x}<br>recall@3=%{y}<br>index_time=%{marker.size}<extra></extra>\",\"legendgroup\":\"16\",\"marker\":{\"color\":\"#FF9900\",\"size\":[67.1663990020752],\"sizemode\":\"area\",\"sizeref\":9.289524681303236,\"symbol\":\"circle\"},\"mode\":\"markers\",\"name\":\"16\",\"orientation\":\"v\",\"showlegend\":false,\"x\":[0.13506793975830078],\"xaxis\":\"x\",\"y\":[0.077],\"yaxis\":\"y\",\"type\":\"scatter\"},{\"hovertemplate\":\"M=16<br>efSearch=76<br>efConstruction=16<br>search_time=%{x}<br>recall@3=%{y}<br>index_time=%{marker.size}<extra></extra>\",\"legendgroup\":\"16\",\"marker\":{\"color\":\"#FF9900\",\"size\":[308.49097871780396],\"sizemode\":\"area\",\"sizeref\":9.289524681303236,\"symbol\":\"circle\"},\"mode\":\"markers\",\"name\":\"16\",\"orientation\":\"v\",\"showlegend\":false,\"x\":[0.29860758781433105],\"xaxis\":\"x2\",\"y\":[0.882],\"yaxis\":\"y2\",\"type\":\"scatter\"},{\"hovertemplate\":\"M=16<br>efSearch=76<br>efConstruction=40<br>search_time=%{x}<br>recall@3=%{y}<br>index_time=%{marker.size}<extra></extra>\",\"legendgroup\":\"16\",\"marker\":{\"color\":\"#FF9900\",\"size\":[537.5106830596924],\"sizemode\":\"area\",\"sizeref\":9.289524681303236,\"symbol\":\"circle\"},\"mode\":\"markers\",\"name\":\"16\",\"orientation\":\"v\",\"showlegend\":false,\"x\":[0.35860228538513184],\"xaxis\":\"x3\",\"y\":[0.896],\"yaxis\":\"y3\",\"type\":\"scatter\"},{\"hovertemplate\":\"M=16<br>efSearch=76<br>efConstruction=76<br>search_time=%{x}<br>recall@3=%{y}<br>index_time=%{marker.size}<extra></extra>\",\"legendgroup\":\"16\",\"marker\":{\"color\":\"#FF9900\",\"size\":[993.2644124031067],\"sizemode\":\"area\",\"sizeref\":9.289524681303236,\"symbol\":\"circle\"},\"mode\":\"markers\",\"name\":\"16\",\"orientation\":\"v\",\"showlegend\":false,\"x\":[0.30910468101501465],\"xaxis\":\"x4\",\"y\":[0.938],\"yaxis\":\"y4\",\"type\":\"scatter\"},{\"hovertemplate\":\"M=32<br>efSearch=4<br>efConstruction=4<br>search_time=%{x}<br>recall@3=%{y}<br>index_time=%{marker.size}<extra></extra>\",\"legendgroup\":\"32\",\"marker\":{\"color\":\"#DC3912\",\"size\":[72.78253841400146],\"sizemode\":\"area\",\"sizeref\":9.289524681303236,\"symbol\":\"circle\"},\"mode\":\"markers\",\"name\":\"32\",\"orientation\":\"v\",\"showlegend\":true,\"x\":[0.027608871459960938],\"xaxis\":\"x13\",\"y\":[0.04],\"yaxis\":\"y13\",\"type\":\"scatter\"},{\"hovertemplate\":\"M=32<br>efSearch=4<br>efConstruction=16<br>search_time=%{x}<br>recall@3=%{y}<br>index_time=%{marker.size}<extra></extra>\",\"legendgroup\":\"32\",\"marker\":{\"color\":\"#DC3912\",\"size\":[346.9180574417114],\"sizemode\":\"area\",\"sizeref\":9.289524681303236,\"symbol\":\"circle\"},\"mode\":\"markers\",\"name\":\"32\",\"orientation\":\"v\",\"showlegend\":false,\"x\":[0.05575084686279297],\"xaxis\":\"x14\",\"y\":[0.463],\"yaxis\":\"y14\",\"type\":\"scatter\"},{\"hovertemplate\":\"M=32<br>efSearch=4<br>efConstruction=40<br>search_time=%{x}<br>recall@3=%{y}<br>index_time=%{marker.size}<extra></extra>\",\"legendgroup\":\"32\",\"marker\":{\"color\":\"#DC3912\",\"size\":[866.2019662857056],\"sizemode\":\"area\",\"sizeref\":9.289524681303236,\"symbol\":\"circle\"},\"mode\":\"markers\",\"name\":\"32\",\"orientation\":\"v\",\"showlegend\":false,\"x\":[0.12500262260437012],\"xaxis\":\"x15\",\"y\":[0.587],\"yaxis\":\"y15\",\"type\":\"scatter\"},{\"hovertemplate\":\"M=32<br>efSearch=4<br>efConstruction=76<br>search_time=%{x}<br>recall@3=%{y}<br>index_time=%{marker.size}<extra></extra>\",\"legendgroup\":\"32\",\"marker\":{\"color\":\"#DC3912\",\"size\":[1111.8633975982666],\"sizemode\":\"area\",\"sizeref\":9.289524681303236,\"symbol\":\"circle\"},\"mode\":\"markers\",\"name\":\"32\",\"orientation\":\"v\",\"showlegend\":false,\"x\":[0.0727546215057373],\"xaxis\":\"x16\",\"y\":[0.558],\"yaxis\":\"y16\",\"type\":\"scatter\"},{\"hovertemplate\":\"M=32<br>efSearch=16<br>efConstruction=4<br>search_time=%{x}<br>recall@3=%{y}<br>index_time=%{marker.size}<extra></extra>\",\"legendgroup\":\"32\",\"marker\":{\"color\":\"#DC3912\",\"size\":[72.78253841400146],\"sizemode\":\"area\",\"sizeref\":9.289524681303236,\"symbol\":\"circle\"},\"mode\":\"markers\",\"name\":\"32\",\"orientation\":\"v\",\"showlegend\":false,\"x\":[0.04836916923522949],\"xaxis\":\"x9\",\"y\":[0.059],\"yaxis\":\"y9\",\"type\":\"scatter\"},{\"hovertemplate\":\"M=32<br>efSearch=16<br>efConstruction=16<br>search_time=%{x}<br>recall@3=%{y}<br>index_time=%{marker.size}<extra></extra>\",\"legendgroup\":\"32\",\"marker\":{\"color\":\"#DC3912\",\"size\":[346.9180574417114],\"sizemode\":\"area\",\"sizeref\":9.289524681303236,\"symbol\":\"circle\"},\"mode\":\"markers\",\"name\":\"32\",\"orientation\":\"v\",\"showlegend\":false,\"x\":[0.10963678359985352],\"xaxis\":\"x10\",\"y\":[0.757],\"yaxis\":\"y10\",\"type\":\"scatter\"},{\"hovertemplate\":\"M=32<br>efSearch=16<br>efConstruction=40<br>search_time=%{x}<br>recall@3=%{y}<br>index_time=%{marker.size}<extra></extra>\",\"legendgroup\":\"32\",\"marker\":{\"color\":\"#DC3912\",\"size\":[866.2019662857056],\"sizemode\":\"area\",\"sizeref\":9.289524681303236,\"symbol\":\"circle\"},\"mode\":\"markers\",\"name\":\"32\",\"orientation\":\"v\",\"showlegend\":false,\"x\":[0.2442944049835205],\"xaxis\":\"x11\",\"y\":[0.854],\"yaxis\":\"y11\",\"type\":\"scatter\"},{\"hovertemplate\":\"M=32<br>efSearch=16<br>efConstruction=76<br>search_time=%{x}<br>recall@3=%{y}<br>index_time=%{marker.size}<extra></extra>\",\"legendgroup\":\"32\",\"marker\":{\"color\":\"#DC3912\",\"size\":[1111.8633975982666],\"sizemode\":\"area\",\"sizeref\":9.289524681303236,\"symbol\":\"circle\"},\"mode\":\"markers\",\"name\":\"32\",\"orientation\":\"v\",\"showlegend\":false,\"x\":[0.18690776824951172],\"xaxis\":\"x12\",\"y\":[0.849],\"yaxis\":\"y12\",\"type\":\"scatter\"},{\"hovertemplate\":\"M=32<br>efSearch=40<br>efConstruction=4<br>search_time=%{x}<br>recall@3=%{y}<br>index_time=%{marker.size}<extra></extra>\",\"legendgroup\":\"32\",\"marker\":{\"color\":\"#DC3912\",\"size\":[72.78253841400146],\"sizemode\":\"area\",\"sizeref\":9.289524681303236,\"symbol\":\"circle\"},\"mode\":\"markers\",\"name\":\"32\",\"orientation\":\"v\",\"showlegend\":false,\"x\":[0.08959436416625977],\"xaxis\":\"x5\",\"y\":[0.071],\"yaxis\":\"y5\",\"type\":\"scatter\"},{\"hovertemplate\":\"M=32<br>efSearch=40<br>efConstruction=16<br>search_time=%{x}<br>recall@3=%{y}<br>index_time=%{marker.size}<extra></extra>\",\"legendgroup\":\"32\",\"marker\":{\"color\":\"#DC3912\",\"size\":[346.9180574417114],\"sizemode\":\"area\",\"sizeref\":9.289524681303236,\"symbol\":\"circle\"},\"mode\":\"markers\",\"name\":\"32\",\"orientation\":\"v\",\"showlegend\":false,\"x\":[0.22312116622924805],\"xaxis\":\"x6\",\"y\":[0.887],\"yaxis\":\"y6\",\"type\":\"scatter\"},{\"hovertemplate\":\"M=32<br>efSearch=40<br>efConstruction=40<br>search_time=%{x}<br>recall@3=%{y}<br>index_time=%{marker.size}<extra></extra>\",\"legendgroup\":\"32\",\"marker\":{\"color\":\"#DC3912\",\"size\":[866.2019662857056],\"sizemode\":\"area\",\"sizeref\":9.289524681303236,\"symbol\":\"circle\"},\"mode\":\"markers\",\"name\":\"32\",\"orientation\":\"v\",\"showlegend\":false,\"x\":[0.2931351661682129],\"xaxis\":\"x7\",\"y\":[0.938],\"yaxis\":\"y7\",\"type\":\"scatter\"},{\"hovertemplate\":\"M=32<br>efSearch=40<br>efConstruction=76<br>search_time=%{x}<br>recall@3=%{y}<br>index_time=%{marker.size}<extra></extra>\",\"legendgroup\":\"32\",\"marker\":{\"color\":\"#DC3912\",\"size\":[1111.8633975982666],\"sizemode\":\"area\",\"sizeref\":9.289524681303236,\"symbol\":\"circle\"},\"mode\":\"markers\",\"name\":\"32\",\"orientation\":\"v\",\"showlegend\":false,\"x\":[0.24407386779785156],\"xaxis\":\"x8\",\"y\":[0.921],\"yaxis\":\"y8\",\"type\":\"scatter\"},{\"hovertemplate\":\"M=32<br>efSearch=76<br>efConstruction=4<br>search_time=%{x}<br>recall@3=%{y}<br>index_time=%{marker.size}<extra></extra>\",\"legendgroup\":\"32\",\"marker\":{\"color\":\"#DC3912\",\"size\":[72.78253841400146],\"sizemode\":\"area\",\"sizeref\":9.289524681303236,\"symbol\":\"circle\"},\"mode\":\"markers\",\"name\":\"32\",\"orientation\":\"v\",\"showlegend\":false,\"x\":[0.15450596809387207],\"xaxis\":\"x\",\"y\":[0.082],\"yaxis\":\"y\",\"type\":\"scatter\"},{\"hovertemplate\":\"M=32<br>efSearch=76<br>efConstruction=16<br>search_time=%{x}<br>recall@3=%{y}<br>index_time=%{marker.size}<extra></extra>\",\"legendgroup\":\"32\",\"marker\":{\"color\":\"#DC3912\",\"size\":[346.9180574417114],\"sizemode\":\"area\",\"sizeref\":9.289524681303236,\"symbol\":\"circle\"},\"mode\":\"markers\",\"name\":\"32\",\"orientation\":\"v\",\"showlegend\":false,\"x\":[0.35982537269592285],\"xaxis\":\"x2\",\"y\":[0.931],\"yaxis\":\"y2\",\"type\":\"scatter\"},{\"hovertemplate\":\"M=32<br>efSearch=76<br>efConstruction=40<br>search_time=%{x}<br>recall@3=%{y}<br>index_time=%{marker.size}<extra></extra>\",\"legendgroup\":\"32\",\"marker\":{\"color\":\"#DC3912\",\"size\":[866.2019662857056],\"sizemode\":\"area\",\"sizeref\":9.289524681303236,\"symbol\":\"circle\"},\"mode\":\"markers\",\"name\":\"32\",\"orientation\":\"v\",\"showlegend\":false,\"x\":[0.48569440841674805],\"xaxis\":\"x3\",\"y\":[0.97],\"yaxis\":\"y3\",\"type\":\"scatter\"},{\"hovertemplate\":\"M=32<br>efSearch=76<br>efConstruction=76<br>search_time=%{x}<br>recall@3=%{y}<br>index_time=%{marker.size}<extra></extra>\",\"legendgroup\":\"32\",\"marker\":{\"color\":\"#DC3912\",\"size\":[1111.8633975982666],\"sizemode\":\"area\",\"sizeref\":9.289524681303236,\"symbol\":\"circle\"},\"mode\":\"markers\",\"name\":\"32\",\"orientation\":\"v\",\"showlegend\":false,\"x\":[0.4022538661956787],\"xaxis\":\"x4\",\"y\":[0.952],\"yaxis\":\"y4\",\"type\":\"scatter\"},{\"hovertemplate\":\"M=64<br>efSearch=4<br>efConstruction=4<br>search_time=%{x}<br>recall@3=%{y}<br>index_time=%{marker.size}<extra></extra>\",\"legendgroup\":\"64\",\"marker\":{\"color\":\"#990099\",\"size\":[82.21705055236816],\"sizemode\":\"area\",\"sizeref\":9.289524681303236,\"symbol\":\"circle\"},\"mode\":\"markers\",\"name\":\"64\",\"orientation\":\"v\",\"showlegend\":true,\"x\":[0.03230619430541992],\"xaxis\":\"x13\",\"y\":[0.04],\"yaxis\":\"y13\",\"type\":\"scatter\"},{\"hovertemplate\":\"M=64<br>efSearch=4<br>efConstruction=16<br>search_time=%{x}<br>recall@3=%{y}<br>index_time=%{marker.size}<extra></extra>\",\"legendgroup\":\"64\",\"marker\":{\"color\":\"#990099\",\"size\":[394.4718232154846],\"sizemode\":\"area\",\"sizeref\":9.289524681303236,\"symbol\":\"circle\"},\"mode\":\"markers\",\"name\":\"64\",\"orientation\":\"v\",\"showlegend\":false,\"x\":[0.06145119667053223],\"xaxis\":\"x14\",\"y\":[0.477],\"yaxis\":\"y14\",\"type\":\"scatter\"},{\"hovertemplate\":\"M=64<br>efSearch=4<br>efConstruction=40<br>search_time=%{x}<br>recall@3=%{y}<br>index_time=%{marker.size}<extra></extra>\",\"legendgroup\":\"64\",\"marker\":{\"color\":\"#990099\",\"size\":[1113.7258954048157],\"sizemode\":\"area\",\"sizeref\":9.289524681303236,\"symbol\":\"circle\"},\"mode\":\"markers\",\"name\":\"64\",\"orientation\":\"v\",\"showlegend\":false,\"x\":[0.10021829605102539],\"xaxis\":\"x15\",\"y\":[0.709],\"yaxis\":\"y15\",\"type\":\"scatter\"},{\"hovertemplate\":\"M=64<br>efSearch=4<br>efConstruction=76<br>search_time=%{x}<br>recall@3=%{y}<br>index_time=%{marker.size}<extra></extra>\",\"legendgroup\":\"64\",\"marker\":{\"color\":\"#990099\",\"size\":[2090.143053293228],\"sizemode\":\"area\",\"sizeref\":9.289524681303236,\"symbol\":\"circle\"},\"mode\":\"markers\",\"name\":\"64\",\"orientation\":\"v\",\"showlegend\":false,\"x\":[0.12536144256591797],\"xaxis\":\"x16\",\"y\":[0.738],\"yaxis\":\"y16\",\"type\":\"scatter\"},{\"hovertemplate\":\"M=64<br>efSearch=16<br>efConstruction=4<br>search_time=%{x}<br>recall@3=%{y}<br>index_time=%{marker.size}<extra></extra>\",\"legendgroup\":\"64\",\"marker\":{\"color\":\"#990099\",\"size\":[82.21705055236816],\"sizemode\":\"area\",\"sizeref\":9.289524681303236,\"symbol\":\"circle\"},\"mode\":\"markers\",\"name\":\"64\",\"orientation\":\"v\",\"showlegend\":false,\"x\":[0.059571027755737305],\"xaxis\":\"x9\",\"y\":[0.058],\"yaxis\":\"y9\",\"type\":\"scatter\"},{\"hovertemplate\":\"M=64<br>efSearch=16<br>efConstruction=16<br>search_time=%{x}<br>recall@3=%{y}<br>index_time=%{marker.size}<extra></extra>\",\"legendgroup\":\"64\",\"marker\":{\"color\":\"#990099\",\"size\":[394.4718232154846],\"sizemode\":\"area\",\"sizeref\":9.289524681303236,\"symbol\":\"circle\"},\"mode\":\"markers\",\"name\":\"64\",\"orientation\":\"v\",\"showlegend\":false,\"x\":[0.12787914276123047],\"xaxis\":\"x10\",\"y\":[0.78],\"yaxis\":\"y10\",\"type\":\"scatter\"},{\"hovertemplate\":\"M=64<br>efSearch=16<br>efConstruction=40<br>search_time=%{x}<br>recall@3=%{y}<br>index_time=%{marker.size}<extra></extra>\",\"legendgroup\":\"64\",\"marker\":{\"color\":\"#990099\",\"size\":[1113.7258954048157],\"sizemode\":\"area\",\"sizeref\":9.289524681303236,\"symbol\":\"circle\"},\"mode\":\"markers\",\"name\":\"64\",\"orientation\":\"v\",\"showlegend\":false,\"x\":[0.27878665924072266],\"xaxis\":\"x11\",\"y\":[0.886],\"yaxis\":\"y11\",\"type\":\"scatter\"},{\"hovertemplate\":\"M=64<br>efSearch=16<br>efConstruction=76<br>search_time=%{x}<br>recall@3=%{y}<br>index_time=%{marker.size}<extra></extra>\",\"legendgroup\":\"64\",\"marker\":{\"color\":\"#990099\",\"size\":[2090.143053293228],\"sizemode\":\"area\",\"sizeref\":9.289524681303236,\"symbol\":\"circle\"},\"mode\":\"markers\",\"name\":\"64\",\"orientation\":\"v\",\"showlegend\":false,\"x\":[0.1896679401397705],\"xaxis\":\"x12\",\"y\":[0.918],\"yaxis\":\"y12\",\"type\":\"scatter\"},{\"hovertemplate\":\"M=64<br>efSearch=40<br>efConstruction=4<br>search_time=%{x}<br>recall@3=%{y}<br>index_time=%{marker.size}<extra></extra>\",\"legendgroup\":\"64\",\"marker\":{\"color\":\"#990099\",\"size\":[82.21705055236816],\"sizemode\":\"area\",\"sizeref\":9.289524681303236,\"symbol\":\"circle\"},\"mode\":\"markers\",\"name\":\"64\",\"orientation\":\"v\",\"showlegend\":false,\"x\":[0.12066841125488281],\"xaxis\":\"x5\",\"y\":[0.075],\"yaxis\":\"y5\",\"type\":\"scatter\"},{\"hovertemplate\":\"M=64<br>efSearch=40<br>efConstruction=16<br>search_time=%{x}<br>recall@3=%{y}<br>index_time=%{marker.size}<extra></extra>\",\"legendgroup\":\"64\",\"marker\":{\"color\":\"#990099\",\"size\":[394.4718232154846],\"sizemode\":\"area\",\"sizeref\":9.289524681303236,\"symbol\":\"circle\"},\"mode\":\"markers\",\"name\":\"64\",\"orientation\":\"v\",\"showlegend\":false,\"x\":[0.23174428939819336],\"xaxis\":\"x6\",\"y\":[0.889],\"yaxis\":\"y6\",\"type\":\"scatter\"},{\"hovertemplate\":\"M=64<br>efSearch=40<br>efConstruction=40<br>search_time=%{x}<br>recall@3=%{y}<br>index_time=%{marker.size}<extra></extra>\",\"legendgroup\":\"64\",\"marker\":{\"color\":\"#990099\",\"size\":[1113.7258954048157],\"sizemode\":\"area\",\"sizeref\":9.289524681303236,\"symbol\":\"circle\"},\"mode\":\"markers\",\"name\":\"64\",\"orientation\":\"v\",\"showlegend\":false,\"x\":[0.4650840759277344],\"xaxis\":\"x7\",\"y\":[0.949],\"yaxis\":\"y7\",\"type\":\"scatter\"},{\"hovertemplate\":\"M=64<br>efSearch=40<br>efConstruction=76<br>search_time=%{x}<br>recall@3=%{y}<br>index_time=%{marker.size}<extra></extra>\",\"legendgroup\":\"64\",\"marker\":{\"color\":\"#990099\",\"size\":[2090.143053293228],\"sizemode\":\"area\",\"sizeref\":9.289524681303236,\"symbol\":\"circle\"},\"mode\":\"markers\",\"name\":\"64\",\"orientation\":\"v\",\"showlegend\":false,\"x\":[0.3795168399810791],\"xaxis\":\"x8\",\"y\":[0.97],\"yaxis\":\"y8\",\"type\":\"scatter\"},{\"hovertemplate\":\"M=64<br>efSearch=76<br>efConstruction=4<br>search_time=%{x}<br>recall@3=%{y}<br>index_time=%{marker.size}<extra></extra>\",\"legendgroup\":\"64\",\"marker\":{\"color\":\"#990099\",\"size\":[82.21705055236816],\"sizemode\":\"area\",\"sizeref\":9.289524681303236,\"symbol\":\"circle\"},\"mode\":\"markers\",\"name\":\"64\",\"orientation\":\"v\",\"showlegend\":false,\"x\":[0.15694952011108398],\"xaxis\":\"x\",\"y\":[0.085],\"yaxis\":\"y\",\"type\":\"scatter\"},{\"hovertemplate\":\"M=64<br>efSearch=76<br>efConstruction=16<br>search_time=%{x}<br>recall@3=%{y}<br>index_time=%{marker.size}<extra></extra>\",\"legendgroup\":\"64\",\"marker\":{\"color\":\"#990099\",\"size\":[394.4718232154846],\"sizemode\":\"area\",\"sizeref\":9.289524681303236,\"symbol\":\"circle\"},\"mode\":\"markers\",\"name\":\"64\",\"orientation\":\"v\",\"showlegend\":false,\"x\":[0.3935253620147705],\"xaxis\":\"x2\",\"y\":[0.924],\"yaxis\":\"y2\",\"type\":\"scatter\"},{\"hovertemplate\":\"M=64<br>efSearch=76<br>efConstruction=40<br>search_time=%{x}<br>recall@3=%{y}<br>index_time=%{marker.size}<extra></extra>\",\"legendgroup\":\"64\",\"marker\":{\"color\":\"#990099\",\"size\":[1113.7258954048157],\"sizemode\":\"area\",\"sizeref\":9.289524681303236,\"symbol\":\"circle\"},\"mode\":\"markers\",\"name\":\"64\",\"orientation\":\"v\",\"showlegend\":false,\"x\":[0.5619399547576904],\"xaxis\":\"x3\",\"y\":[0.979],\"yaxis\":\"y3\",\"type\":\"scatter\"},{\"hovertemplate\":\"M=64<br>efSearch=76<br>efConstruction=76<br>search_time=%{x}<br>recall@3=%{y}<br>index_time=%{marker.size}<extra></extra>\",\"legendgroup\":\"64\",\"marker\":{\"color\":\"#990099\",\"size\":[2090.143053293228],\"sizemode\":\"area\",\"sizeref\":9.289524681303236,\"symbol\":\"circle\"},\"mode\":\"markers\",\"name\":\"64\",\"orientation\":\"v\",\"showlegend\":false,\"x\":[0.6427271366119385],\"xaxis\":\"x4\",\"y\":[0.992],\"yaxis\":\"y4\",\"type\":\"scatter\"}],                        {\"template\":{\"data\":{\"barpolar\":[{\"marker\":{\"line\":{\"color\":\"white\",\"width\":0.5},\"pattern\":{\"fillmode\":\"overlay\",\"size\":10,\"solidity\":0.2}},\"type\":\"barpolar\"}],\"bar\":[{\"error_x\":{\"color\":\"rgb(36,36,36)\"},\"error_y\":{\"color\":\"rgb(36,36,36)\"},\"marker\":{\"line\":{\"color\":\"white\",\"width\":0.5},\"pattern\":{\"fillmode\":\"overlay\",\"size\":10,\"solidity\":0.2}},\"type\":\"bar\"}],\"carpet\":[{\"aaxis\":{\"endlinecolor\":\"rgb(36,36,36)\",\"gridcolor\":\"white\",\"linecolor\":\"white\",\"minorgridcolor\":\"white\",\"startlinecolor\":\"rgb(36,36,36)\"},\"baxis\":{\"endlinecolor\":\"rgb(36,36,36)\",\"gridcolor\":\"white\",\"linecolor\":\"white\",\"minorgridcolor\":\"white\",\"startlinecolor\":\"rgb(36,36,36)\"},\"type\":\"carpet\"}],\"choropleth\":[{\"colorbar\":{\"outlinewidth\":1,\"tickcolor\":\"rgb(36,36,36)\",\"ticks\":\"outside\"},\"type\":\"choropleth\"}],\"contourcarpet\":[{\"colorbar\":{\"outlinewidth\":1,\"tickcolor\":\"rgb(36,36,36)\",\"ticks\":\"outside\"},\"type\":\"contourcarpet\"}],\"contour\":[{\"colorbar\":{\"outlinewidth\":1,\"tickcolor\":\"rgb(36,36,36)\",\"ticks\":\"outside\"},\"colorscale\":[[0.0,\"#440154\"],[0.1111111111111111,\"#482878\"],[0.2222222222222222,\"#3e4989\"],[0.3333333333333333,\"#31688e\"],[0.4444444444444444,\"#26828e\"],[0.5555555555555556,\"#1f9e89\"],[0.6666666666666666,\"#35b779\"],[0.7777777777777778,\"#6ece58\"],[0.8888888888888888,\"#b5de2b\"],[1.0,\"#fde725\"]],\"type\":\"contour\"}],\"heatmapgl\":[{\"colorbar\":{\"outlinewidth\":1,\"tickcolor\":\"rgb(36,36,36)\",\"ticks\":\"outside\"},\"colorscale\":[[0.0,\"#440154\"],[0.1111111111111111,\"#482878\"],[0.2222222222222222,\"#3e4989\"],[0.3333333333333333,\"#31688e\"],[0.4444444444444444,\"#26828e\"],[0.5555555555555556,\"#1f9e89\"],[0.6666666666666666,\"#35b779\"],[0.7777777777777778,\"#6ece58\"],[0.8888888888888888,\"#b5de2b\"],[1.0,\"#fde725\"]],\"type\":\"heatmapgl\"}],\"heatmap\":[{\"colorbar\":{\"outlinewidth\":1,\"tickcolor\":\"rgb(36,36,36)\",\"ticks\":\"outside\"},\"colorscale\":[[0.0,\"#440154\"],[0.1111111111111111,\"#482878\"],[0.2222222222222222,\"#3e4989\"],[0.3333333333333333,\"#31688e\"],[0.4444444444444444,\"#26828e\"],[0.5555555555555556,\"#1f9e89\"],[0.6666666666666666,\"#35b779\"],[0.7777777777777778,\"#6ece58\"],[0.8888888888888888,\"#b5de2b\"],[1.0,\"#fde725\"]],\"type\":\"heatmap\"}],\"histogram2dcontour\":[{\"colorbar\":{\"outlinewidth\":1,\"tickcolor\":\"rgb(36,36,36)\",\"ticks\":\"outside\"},\"colorscale\":[[0.0,\"#440154\"],[0.1111111111111111,\"#482878\"],[0.2222222222222222,\"#3e4989\"],[0.3333333333333333,\"#31688e\"],[0.4444444444444444,\"#26828e\"],[0.5555555555555556,\"#1f9e89\"],[0.6666666666666666,\"#35b779\"],[0.7777777777777778,\"#6ece58\"],[0.8888888888888888,\"#b5de2b\"],[1.0,\"#fde725\"]],\"type\":\"histogram2dcontour\"}],\"histogram2d\":[{\"colorbar\":{\"outlinewidth\":1,\"tickcolor\":\"rgb(36,36,36)\",\"ticks\":\"outside\"},\"colorscale\":[[0.0,\"#440154\"],[0.1111111111111111,\"#482878\"],[0.2222222222222222,\"#3e4989\"],[0.3333333333333333,\"#31688e\"],[0.4444444444444444,\"#26828e\"],[0.5555555555555556,\"#1f9e89\"],[0.6666666666666666,\"#35b779\"],[0.7777777777777778,\"#6ece58\"],[0.8888888888888888,\"#b5de2b\"],[1.0,\"#fde725\"]],\"type\":\"histogram2d\"}],\"histogram\":[{\"marker\":{\"line\":{\"color\":\"white\",\"width\":0.6}},\"type\":\"histogram\"}],\"mesh3d\":[{\"colorbar\":{\"outlinewidth\":1,\"tickcolor\":\"rgb(36,36,36)\",\"ticks\":\"outside\"},\"type\":\"mesh3d\"}],\"parcoords\":[{\"line\":{\"colorbar\":{\"outlinewidth\":1,\"tickcolor\":\"rgb(36,36,36)\",\"ticks\":\"outside\"}},\"type\":\"parcoords\"}],\"pie\":[{\"automargin\":true,\"type\":\"pie\"}],\"scatter3d\":[{\"line\":{\"colorbar\":{\"outlinewidth\":1,\"tickcolor\":\"rgb(36,36,36)\",\"ticks\":\"outside\"}},\"marker\":{\"colorbar\":{\"outlinewidth\":1,\"tickcolor\":\"rgb(36,36,36)\",\"ticks\":\"outside\"}},\"type\":\"scatter3d\"}],\"scattercarpet\":[{\"marker\":{\"colorbar\":{\"outlinewidth\":1,\"tickcolor\":\"rgb(36,36,36)\",\"ticks\":\"outside\"}},\"type\":\"scattercarpet\"}],\"scattergeo\":[{\"marker\":{\"colorbar\":{\"outlinewidth\":1,\"tickcolor\":\"rgb(36,36,36)\",\"ticks\":\"outside\"}},\"type\":\"scattergeo\"}],\"scattergl\":[{\"marker\":{\"colorbar\":{\"outlinewidth\":1,\"tickcolor\":\"rgb(36,36,36)\",\"ticks\":\"outside\"}},\"type\":\"scattergl\"}],\"scattermapbox\":[{\"marker\":{\"colorbar\":{\"outlinewidth\":1,\"tickcolor\":\"rgb(36,36,36)\",\"ticks\":\"outside\"}},\"type\":\"scattermapbox\"}],\"scatterpolargl\":[{\"marker\":{\"colorbar\":{\"outlinewidth\":1,\"tickcolor\":\"rgb(36,36,36)\",\"ticks\":\"outside\"}},\"type\":\"scatterpolargl\"}],\"scatterpolar\":[{\"marker\":{\"colorbar\":{\"outlinewidth\":1,\"tickcolor\":\"rgb(36,36,36)\",\"ticks\":\"outside\"}},\"type\":\"scatterpolar\"}],\"scatter\":[{\"fillpattern\":{\"fillmode\":\"overlay\",\"size\":10,\"solidity\":0.2},\"type\":\"scatter\"}],\"scatterternary\":[{\"marker\":{\"colorbar\":{\"outlinewidth\":1,\"tickcolor\":\"rgb(36,36,36)\",\"ticks\":\"outside\"}},\"type\":\"scatterternary\"}],\"surface\":[{\"colorbar\":{\"outlinewidth\":1,\"tickcolor\":\"rgb(36,36,36)\",\"ticks\":\"outside\"},\"colorscale\":[[0.0,\"#440154\"],[0.1111111111111111,\"#482878\"],[0.2222222222222222,\"#3e4989\"],[0.3333333333333333,\"#31688e\"],[0.4444444444444444,\"#26828e\"],[0.5555555555555556,\"#1f9e89\"],[0.6666666666666666,\"#35b779\"],[0.7777777777777778,\"#6ece58\"],[0.8888888888888888,\"#b5de2b\"],[1.0,\"#fde725\"]],\"type\":\"surface\"}],\"table\":[{\"cells\":{\"fill\":{\"color\":\"rgb(237,237,237)\"},\"line\":{\"color\":\"white\"}},\"header\":{\"fill\":{\"color\":\"rgb(217,217,217)\"},\"line\":{\"color\":\"white\"}},\"type\":\"table\"}]},\"layout\":{\"annotationdefaults\":{\"arrowhead\":0,\"arrowwidth\":1},\"autotypenumbers\":\"strict\",\"coloraxis\":{\"colorbar\":{\"outlinewidth\":1,\"tickcolor\":\"rgb(36,36,36)\",\"ticks\":\"outside\"}},\"colorscale\":{\"diverging\":[[0.0,\"rgb(103,0,31)\"],[0.1,\"rgb(178,24,43)\"],[0.2,\"rgb(214,96,77)\"],[0.3,\"rgb(244,165,130)\"],[0.4,\"rgb(253,219,199)\"],[0.5,\"rgb(247,247,247)\"],[0.6,\"rgb(209,229,240)\"],[0.7,\"rgb(146,197,222)\"],[0.8,\"rgb(67,147,195)\"],[0.9,\"rgb(33,102,172)\"],[1.0,\"rgb(5,48,97)\"]],\"sequential\":[[0.0,\"#440154\"],[0.1111111111111111,\"#482878\"],[0.2222222222222222,\"#3e4989\"],[0.3333333333333333,\"#31688e\"],[0.4444444444444444,\"#26828e\"],[0.5555555555555556,\"#1f9e89\"],[0.6666666666666666,\"#35b779\"],[0.7777777777777778,\"#6ece58\"],[0.8888888888888888,\"#b5de2b\"],[1.0,\"#fde725\"]],\"sequentialminus\":[[0.0,\"#440154\"],[0.1111111111111111,\"#482878\"],[0.2222222222222222,\"#3e4989\"],[0.3333333333333333,\"#31688e\"],[0.4444444444444444,\"#26828e\"],[0.5555555555555556,\"#1f9e89\"],[0.6666666666666666,\"#35b779\"],[0.7777777777777778,\"#6ece58\"],[0.8888888888888888,\"#b5de2b\"],[1.0,\"#fde725\"]]},\"colorway\":[\"#1F77B4\",\"#FF7F0E\",\"#2CA02C\",\"#D62728\",\"#9467BD\",\"#8C564B\",\"#E377C2\",\"#7F7F7F\",\"#BCBD22\",\"#17BECF\"],\"font\":{\"color\":\"rgb(36,36,36)\"},\"geo\":{\"bgcolor\":\"white\",\"lakecolor\":\"white\",\"landcolor\":\"white\",\"showlakes\":true,\"showland\":true,\"subunitcolor\":\"white\"},\"hoverlabel\":{\"align\":\"left\"},\"hovermode\":\"closest\",\"mapbox\":{\"style\":\"light\"},\"paper_bgcolor\":\"white\",\"plot_bgcolor\":\"white\",\"polar\":{\"angularaxis\":{\"gridcolor\":\"rgb(232,232,232)\",\"linecolor\":\"rgb(36,36,36)\",\"showgrid\":false,\"showline\":true,\"ticks\":\"outside\"},\"bgcolor\":\"white\",\"radialaxis\":{\"gridcolor\":\"rgb(232,232,232)\",\"linecolor\":\"rgb(36,36,36)\",\"showgrid\":false,\"showline\":true,\"ticks\":\"outside\"}},\"scene\":{\"xaxis\":{\"backgroundcolor\":\"white\",\"gridcolor\":\"rgb(232,232,232)\",\"gridwidth\":2,\"linecolor\":\"rgb(36,36,36)\",\"showbackground\":true,\"showgrid\":false,\"showline\":true,\"ticks\":\"outside\",\"zeroline\":false,\"zerolinecolor\":\"rgb(36,36,36)\"},\"yaxis\":{\"backgroundcolor\":\"white\",\"gridcolor\":\"rgb(232,232,232)\",\"gridwidth\":2,\"linecolor\":\"rgb(36,36,36)\",\"showbackground\":true,\"showgrid\":false,\"showline\":true,\"ticks\":\"outside\",\"zeroline\":false,\"zerolinecolor\":\"rgb(36,36,36)\"},\"zaxis\":{\"backgroundcolor\":\"white\",\"gridcolor\":\"rgb(232,232,232)\",\"gridwidth\":2,\"linecolor\":\"rgb(36,36,36)\",\"showbackground\":true,\"showgrid\":false,\"showline\":true,\"ticks\":\"outside\",\"zeroline\":false,\"zerolinecolor\":\"rgb(36,36,36)\"}},\"shapedefaults\":{\"fillcolor\":\"black\",\"line\":{\"width\":0},\"opacity\":0.3},\"ternary\":{\"aaxis\":{\"gridcolor\":\"rgb(232,232,232)\",\"linecolor\":\"rgb(36,36,36)\",\"showgrid\":false,\"showline\":true,\"ticks\":\"outside\"},\"baxis\":{\"gridcolor\":\"rgb(232,232,232)\",\"linecolor\":\"rgb(36,36,36)\",\"showgrid\":false,\"showline\":true,\"ticks\":\"outside\"},\"bgcolor\":\"white\",\"caxis\":{\"gridcolor\":\"rgb(232,232,232)\",\"linecolor\":\"rgb(36,36,36)\",\"showgrid\":false,\"showline\":true,\"ticks\":\"outside\"}},\"title\":{\"x\":0.05},\"xaxis\":{\"automargin\":true,\"gridcolor\":\"rgb(232,232,232)\",\"linecolor\":\"rgb(36,36,36)\",\"showgrid\":false,\"showline\":true,\"ticks\":\"outside\",\"title\":{\"standoff\":15},\"zeroline\":false,\"zerolinecolor\":\"rgb(36,36,36)\"},\"yaxis\":{\"automargin\":true,\"gridcolor\":\"rgb(232,232,232)\",\"linecolor\":\"rgb(36,36,36)\",\"showgrid\":false,\"showline\":true,\"ticks\":\"outside\",\"title\":{\"standoff\":15},\"zeroline\":false,\"zerolinecolor\":\"rgb(36,36,36)\"}}},\"xaxis\":{\"anchor\":\"y\",\"domain\":[0.0,0.22999999999999998],\"title\":{\"text\":\"\"},\"showgrid\":true,\"gridwidth\":1,\"gridcolor\":\"#F0F0F0\",\"linecolor\":\"darkgrey\",\"ticks\":\"\"},\"yaxis\":{\"anchor\":\"x\",\"domain\":[0.0,0.235],\"title\":{\"text\":\"<B>                             1-recall@3\",\"standoff\":5},\"showgrid\":true,\"gridwidth\":1,\"gridcolor\":\"#F0F0F0\",\"linecolor\":\"darkgrey\",\"ticks\":\"\",\"range\":[0,1.1],\"tick0\":0.2,\"dtick\":0.2},\"xaxis2\":{\"anchor\":\"y2\",\"domain\":[0.24999999999999997,0.48],\"matches\":\"x\",\"title\":{\"text\":\"<B>search time (ms/query)\",\"standoff\":10},\"showgrid\":true,\"gridwidth\":1,\"gridcolor\":\"#F0F0F0\",\"linecolor\":\"darkgrey\",\"ticks\":\"\"},\"yaxis2\":{\"anchor\":\"x2\",\"domain\":[0.0,0.235],\"matches\":\"y\",\"showticklabels\":false,\"showgrid\":true,\"gridwidth\":1,\"gridcolor\":\"#F0F0F0\",\"linecolor\":\"darkgrey\",\"ticks\":\"\",\"range\":[0,1.1],\"tick0\":0.2,\"dtick\":0.2,\"title\":{\"text\":\"\"}},\"xaxis3\":{\"anchor\":\"y3\",\"domain\":[0.49999999999999994,0.73],\"matches\":\"x\",\"title\":{\"text\":\"\"},\"showgrid\":true,\"gridwidth\":1,\"gridcolor\":\"#F0F0F0\",\"linecolor\":\"darkgrey\",\"ticks\":\"\"},\"yaxis3\":{\"anchor\":\"x3\",\"domain\":[0.0,0.235],\"matches\":\"y\",\"showticklabels\":false,\"showgrid\":true,\"gridwidth\":1,\"gridcolor\":\"#F0F0F0\",\"linecolor\":\"darkgrey\",\"ticks\":\"\",\"range\":[0,1.1],\"tick0\":0.2,\"dtick\":0.2,\"title\":{\"text\":\"\"}},\"xaxis4\":{\"anchor\":\"y4\",\"domain\":[0.75,0.98],\"matches\":\"x\",\"title\":{\"text\":\"\"},\"showgrid\":true,\"gridwidth\":1,\"gridcolor\":\"#F0F0F0\",\"linecolor\":\"darkgrey\",\"ticks\":\"\"},\"yaxis4\":{\"anchor\":\"x4\",\"domain\":[0.0,0.235],\"matches\":\"y\",\"showticklabels\":false,\"showgrid\":true,\"gridwidth\":1,\"gridcolor\":\"#F0F0F0\",\"linecolor\":\"darkgrey\",\"ticks\":\"\",\"range\":[0,1.1],\"tick0\":0.2,\"dtick\":0.2,\"title\":{\"text\":\"\"}},\"xaxis5\":{\"anchor\":\"y5\",\"domain\":[0.0,0.22999999999999998],\"matches\":\"x\",\"showticklabels\":false,\"showgrid\":true,\"gridwidth\":1,\"gridcolor\":\"#F0F0F0\",\"linecolor\":\"darkgrey\",\"ticks\":\"\",\"title\":{\"text\":\"\"}},\"yaxis5\":{\"anchor\":\"x5\",\"domain\":[0.255,0.49],\"matches\":\"y\",\"title\":{\"text\":\"\"},\"showgrid\":true,\"gridwidth\":1,\"gridcolor\":\"#F0F0F0\",\"linecolor\":\"darkgrey\",\"ticks\":\"\",\"range\":[0,1.1],\"tick0\":0.2,\"dtick\":0.2},\"xaxis6\":{\"anchor\":\"y6\",\"domain\":[0.24999999999999997,0.48],\"matches\":\"x\",\"showticklabels\":false,\"showgrid\":true,\"gridwidth\":1,\"gridcolor\":\"#F0F0F0\",\"linecolor\":\"darkgrey\",\"ticks\":\"\",\"title\":{\"text\":\"\"}},\"yaxis6\":{\"anchor\":\"x6\",\"domain\":[0.255,0.49],\"matches\":\"y\",\"showticklabels\":false,\"showgrid\":true,\"gridwidth\":1,\"gridcolor\":\"#F0F0F0\",\"linecolor\":\"darkgrey\",\"ticks\":\"\",\"range\":[0,1.1],\"tick0\":0.2,\"dtick\":0.2,\"title\":{\"text\":\"\"}},\"xaxis7\":{\"anchor\":\"y7\",\"domain\":[0.49999999999999994,0.73],\"matches\":\"x\",\"showticklabels\":false,\"showgrid\":true,\"gridwidth\":1,\"gridcolor\":\"#F0F0F0\",\"linecolor\":\"darkgrey\",\"ticks\":\"\",\"title\":{\"text\":\"\"}},\"yaxis7\":{\"anchor\":\"x7\",\"domain\":[0.255,0.49],\"matches\":\"y\",\"showticklabels\":false,\"showgrid\":true,\"gridwidth\":1,\"gridcolor\":\"#F0F0F0\",\"linecolor\":\"darkgrey\",\"ticks\":\"\",\"range\":[0,1.1],\"tick0\":0.2,\"dtick\":0.2,\"title\":{\"text\":\"\"}},\"xaxis8\":{\"anchor\":\"y8\",\"domain\":[0.75,0.98],\"matches\":\"x\",\"showticklabels\":false,\"showgrid\":true,\"gridwidth\":1,\"gridcolor\":\"#F0F0F0\",\"linecolor\":\"darkgrey\",\"ticks\":\"\",\"title\":{\"text\":\"\"}},\"yaxis8\":{\"anchor\":\"x8\",\"domain\":[0.255,0.49],\"matches\":\"y\",\"showticklabels\":false,\"showgrid\":true,\"gridwidth\":1,\"gridcolor\":\"#F0F0F0\",\"linecolor\":\"darkgrey\",\"ticks\":\"\",\"range\":[0,1.1],\"tick0\":0.2,\"dtick\":0.2,\"title\":{\"text\":\"\"}},\"xaxis9\":{\"anchor\":\"y9\",\"domain\":[0.0,0.22999999999999998],\"matches\":\"x\",\"showticklabels\":false,\"showgrid\":true,\"gridwidth\":1,\"gridcolor\":\"#F0F0F0\",\"linecolor\":\"darkgrey\",\"ticks\":\"\",\"title\":{\"text\":\"\"}},\"yaxis9\":{\"anchor\":\"x9\",\"domain\":[0.51,0.745],\"matches\":\"y\",\"title\":{\"text\":\"\"},\"showgrid\":true,\"gridwidth\":1,\"gridcolor\":\"#F0F0F0\",\"linecolor\":\"darkgrey\",\"ticks\":\"\",\"range\":[0,1.1],\"tick0\":0.2,\"dtick\":0.2},\"xaxis10\":{\"anchor\":\"y10\",\"domain\":[0.24999999999999997,0.48],\"matches\":\"x\",\"showticklabels\":false,\"showgrid\":true,\"gridwidth\":1,\"gridcolor\":\"#F0F0F0\",\"linecolor\":\"darkgrey\",\"ticks\":\"\",\"title\":{\"text\":\"\"}},\"yaxis10\":{\"anchor\":\"x10\",\"domain\":[0.51,0.745],\"matches\":\"y\",\"showticklabels\":false,\"showgrid\":true,\"gridwidth\":1,\"gridcolor\":\"#F0F0F0\",\"linecolor\":\"darkgrey\",\"ticks\":\"\",\"range\":[0,1.1],\"tick0\":0.2,\"dtick\":0.2,\"title\":{\"text\":\"\"}},\"xaxis11\":{\"anchor\":\"y11\",\"domain\":[0.49999999999999994,0.73],\"matches\":\"x\",\"showticklabels\":false,\"showgrid\":true,\"gridwidth\":1,\"gridcolor\":\"#F0F0F0\",\"linecolor\":\"darkgrey\",\"ticks\":\"\",\"title\":{\"text\":\"\"}},\"yaxis11\":{\"anchor\":\"x11\",\"domain\":[0.51,0.745],\"matches\":\"y\",\"showticklabels\":false,\"showgrid\":true,\"gridwidth\":1,\"gridcolor\":\"#F0F0F0\",\"linecolor\":\"darkgrey\",\"ticks\":\"\",\"range\":[0,1.1],\"tick0\":0.2,\"dtick\":0.2,\"title\":{\"text\":\"\"}},\"xaxis12\":{\"anchor\":\"y12\",\"domain\":[0.75,0.98],\"matches\":\"x\",\"showticklabels\":false,\"showgrid\":true,\"gridwidth\":1,\"gridcolor\":\"#F0F0F0\",\"linecolor\":\"darkgrey\",\"ticks\":\"\",\"title\":{\"text\":\"\"}},\"yaxis12\":{\"anchor\":\"x12\",\"domain\":[0.51,0.745],\"matches\":\"y\",\"showticklabels\":false,\"showgrid\":true,\"gridwidth\":1,\"gridcolor\":\"#F0F0F0\",\"linecolor\":\"darkgrey\",\"ticks\":\"\",\"range\":[0,1.1],\"tick0\":0.2,\"dtick\":0.2,\"title\":{\"text\":\"\"}},\"xaxis13\":{\"anchor\":\"y13\",\"domain\":[0.0,0.22999999999999998],\"matches\":\"x\",\"showticklabels\":false,\"showgrid\":true,\"gridwidth\":1,\"gridcolor\":\"#F0F0F0\",\"linecolor\":\"darkgrey\",\"ticks\":\"\",\"title\":{\"text\":\"\"}},\"yaxis13\":{\"anchor\":\"x13\",\"domain\":[0.7649999999999999,0.9999999999999999],\"matches\":\"y\",\"title\":{\"text\":\"\"},\"showgrid\":true,\"gridwidth\":1,\"gridcolor\":\"#F0F0F0\",\"linecolor\":\"darkgrey\",\"ticks\":\"\",\"range\":[0,1.1],\"tick0\":0.2,\"dtick\":0.2},\"xaxis14\":{\"anchor\":\"y14\",\"domain\":[0.24999999999999997,0.48],\"matches\":\"x\",\"showticklabels\":false,\"showgrid\":true,\"gridwidth\":1,\"gridcolor\":\"#F0F0F0\",\"linecolor\":\"darkgrey\",\"ticks\":\"\",\"title\":{\"text\":\"\"}},\"yaxis14\":{\"anchor\":\"x14\",\"domain\":[0.7649999999999999,0.9999999999999999],\"matches\":\"y\",\"showticklabels\":false,\"showgrid\":true,\"gridwidth\":1,\"gridcolor\":\"#F0F0F0\",\"linecolor\":\"darkgrey\",\"ticks\":\"\",\"range\":[0,1.1],\"tick0\":0.2,\"dtick\":0.2,\"title\":{\"text\":\"\"}},\"xaxis15\":{\"anchor\":\"y15\",\"domain\":[0.49999999999999994,0.73],\"matches\":\"x\",\"showticklabels\":false,\"showgrid\":true,\"gridwidth\":1,\"gridcolor\":\"#F0F0F0\",\"linecolor\":\"darkgrey\",\"ticks\":\"\",\"title\":{\"text\":\"\"}},\"yaxis15\":{\"anchor\":\"x15\",\"domain\":[0.7649999999999999,0.9999999999999999],\"matches\":\"y\",\"showticklabels\":false,\"showgrid\":true,\"gridwidth\":1,\"gridcolor\":\"#F0F0F0\",\"linecolor\":\"darkgrey\",\"ticks\":\"\",\"range\":[0,1.1],\"tick0\":0.2,\"dtick\":0.2,\"title\":{\"text\":\"\"}},\"xaxis16\":{\"anchor\":\"y16\",\"domain\":[0.75,0.98],\"matches\":\"x\",\"showticklabels\":false,\"showgrid\":true,\"gridwidth\":1,\"gridcolor\":\"#F0F0F0\",\"linecolor\":\"darkgrey\",\"ticks\":\"\",\"title\":{\"text\":\"\"}},\"yaxis16\":{\"anchor\":\"x16\",\"domain\":[0.7649999999999999,0.9999999999999999],\"matches\":\"y\",\"showticklabels\":false,\"showgrid\":true,\"gridwidth\":1,\"gridcolor\":\"#F0F0F0\",\"linecolor\":\"darkgrey\",\"ticks\":\"\",\"range\":[0,1.1],\"tick0\":0.2,\"dtick\":0.2,\"title\":{\"text\":\"\"}},\"annotations\":[{\"font\":{},\"showarrow\":false,\"text\":\"efConstruction=4\",\"x\":0.11499999999999999,\"xanchor\":\"center\",\"xref\":\"paper\",\"y\":0.9999999999999999,\"yanchor\":\"bottom\",\"yref\":\"paper\"},{\"font\":{},\"showarrow\":false,\"text\":\"efConstruction=16\",\"x\":0.365,\"xanchor\":\"center\",\"xref\":\"paper\",\"y\":0.9999999999999999,\"yanchor\":\"bottom\",\"yref\":\"paper\"},{\"font\":{},\"showarrow\":false,\"text\":\"efConstruction=40\",\"x\":0.615,\"xanchor\":\"center\",\"xref\":\"paper\",\"y\":0.9999999999999999,\"yanchor\":\"bottom\",\"yref\":\"paper\"},{\"font\":{},\"showarrow\":false,\"text\":\"efConstruction=76\",\"x\":0.865,\"xanchor\":\"center\",\"xref\":\"paper\",\"y\":0.9999999999999999,\"yanchor\":\"bottom\",\"yref\":\"paper\"},{\"font\":{},\"showarrow\":false,\"text\":\"efSearch=76\",\"textangle\":90,\"x\":0.98,\"xanchor\":\"left\",\"xref\":\"paper\",\"y\":0.1175,\"yanchor\":\"middle\",\"yref\":\"paper\"},{\"font\":{},\"showarrow\":false,\"text\":\"efSearch=40\",\"textangle\":90,\"x\":0.98,\"xanchor\":\"left\",\"xref\":\"paper\",\"y\":0.3725,\"yanchor\":\"middle\",\"yref\":\"paper\"},{\"font\":{},\"showarrow\":false,\"text\":\"efSearch=16\",\"textangle\":90,\"x\":0.98,\"xanchor\":\"left\",\"xref\":\"paper\",\"y\":0.6275,\"yanchor\":\"middle\",\"yref\":\"paper\"},{\"font\":{},\"showarrow\":false,\"text\":\"efSearch=4\",\"textangle\":90,\"x\":0.98,\"xanchor\":\"left\",\"xref\":\"paper\",\"y\":0.8824999999999998,\"yanchor\":\"middle\",\"yref\":\"paper\"}],\"legend\":{\"title\":{\"text\":\"M\"},\"tracegroupgap\":0,\"itemsizing\":\"constant\",\"borderwidth\":1,\"traceorder\":\"reversed\",\"yanchor\":\"top\",\"y\":0.76,\"xanchor\":\"left\",\"x\":1.03},\"margin\":{\"t\":60},\"height\":700,\"width\":700,\"title\":{\"font\":{\"family\":\"Arial\",\"color\":\"RebeccaPurple\"},\"text\":\"<B>Bubble Size corresponds to Construction Time (s)\",\"yanchor\":\"top\",\"y\":0.98,\"xanchor\":\"center\",\"x\":0.5}},                        {\"responsive\": true}                    ).then(function(){\n",
       "                            \n",
       "var gd = document.getElementById('dc568d15-f1fa-403f-89ea-0c667d7f1711');\n",
       "var x = new MutationObserver(function (mutations, observer) {{\n",
       "        var display = window.getComputedStyle(gd).display;\n",
       "        if (!display || display === 'none') {{\n",
       "            console.log([gd, 'removed!']);\n",
       "            Plotly.purge(gd);\n",
       "            observer.disconnect();\n",
       "        }}\n",
       "}});\n",
       "\n",
       "// Listen for the removal of the full notebook cells\n",
       "var notebookContainer = gd.closest('#notebook-container');\n",
       "if (notebookContainer) {{\n",
       "    x.observe(notebookContainer, {childList: true});\n",
       "}}\n",
       "\n",
       "// Listen for the clearing of the current output cell\n",
       "var outputEl = gd.closest('.output');\n",
       "if (outputEl) {{\n",
       "    x.observe(outputEl, {childList: true});\n",
       "}}\n",
       "\n",
       "                        })                };                });            </script>        </div>"
      ]
     },
     "metadata": {},
     "output_type": "display_data"
    }
   ],
   "source": [
    "fig = px.scatter(dfHNSW, x=\"search_time\", y=\"recall@3\", color=\"M\", height=700, width=700, size=\"index_time\", size_max=15, \n",
    "                 template=\"simple_white\", color_discrete_sequence=colors_custom, #color_discrete_sequence=px.colors.qualitative.D3,  \n",
    "                 facet_row=\"efSearch\", facet_row_spacing=0.02,  \n",
    "                 facet_col=\"efConstruction\", facet_col_spacing=0.02     \n",
    "                )\n",
    "fig.update_xaxes(showgrid=True, gridwidth=1, gridcolor='#F0F0F0', linecolor='darkgrey', ticks=\"\")\n",
    "fig.update_yaxes(showgrid=True, gridwidth=1, gridcolor='#F0F0F0', linecolor='darkgrey', ticks=\"\", range=[0, 1.1], tick0=0.2, dtick=0.2)\n",
    "fig.update_xaxes(title_text=\"\")\n",
    "fig.update_yaxes(title_text=\"\")\n",
    "fig.update_xaxes(row=1, col=2, title_standoff=10, title_text=\"<B>search time (ms/query)\")                # title_font_family=\"Arial\"\n",
    "fig.update_yaxes(col=1, row=1, title_standoff=5, title_text=\"<B>                             1-recall@3\")\n",
    "fig.update_layout(legend=dict(borderwidth=1, traceorder=\"reversed\", yanchor=\"top\", y=0.76, xanchor=\"left\", x=1.03, ))\n",
    "fig.update_layout(title=dict(text=\"<B>Bubble Size corresponds to Construction Time (s)\", yanchor=\"top\", y=0.98, xanchor=\"center\", x=0.5, \n",
    "                             font_family=\"Arial\", font_color=\"RebeccaPurple\"))\n",
    "fig.show()\n",
    "fig.write_html(\"Hflat_recall_4x4_indextime.html\")"
   ]
  },
  {
   "cell_type": "markdown",
   "id": "0b41b879",
   "metadata": {
    "papermill": {
     "duration": 0.62157,
     "end_time": "2022-08-24T06:42:35.628558",
     "exception": false,
     "start_time": "2022-08-24T06:42:35.006988",
     "status": "completed"
    },
    "tags": []
   },
   "source": [
    "# Section 4b: Plots comparing the various HNSW indexes (with/without IVF and/or PQ)"
   ]
  },
  {
   "cell_type": "code",
   "execution_count": 52,
   "id": "3db6f6e8",
   "metadata": {
    "_kg_hide-input": true,
    "execution": {
     "iopub.execute_input": "2022-08-24T06:42:37.116070Z",
     "iopub.status.busy": "2022-08-24T06:42:37.115650Z",
     "iopub.status.idle": "2022-08-24T06:42:37.120378Z",
     "shell.execute_reply": "2022-08-24T06:42:37.119449Z"
    },
    "papermill": {
     "duration": 0.634995,
     "end_time": "2022-08-24T06:42:37.122330",
     "exception": false,
     "start_time": "2022-08-24T06:42:36.487335",
     "status": "completed"
    },
    "tags": []
   },
   "outputs": [],
   "source": [
    "# try:\n",
    "#     print(df.head(1))\n",
    "# except NameError:\n",
    "#     df = pd.read_csv(\"../input/dfhnsw/df-25.csv\", delimiter=\"|\")"
   ]
  },
  {
   "cell_type": "code",
   "execution_count": 53,
   "id": "ef15cbdc",
   "metadata": {
    "execution": {
     "iopub.execute_input": "2022-08-24T06:42:38.413647Z",
     "iopub.status.busy": "2022-08-24T06:42:38.413254Z",
     "iopub.status.idle": "2022-08-24T06:42:38.436359Z",
     "shell.execute_reply": "2022-08-24T06:42:38.435354Z"
    },
    "papermill": {
     "duration": 0.641948,
     "end_time": "2022-08-24T06:42:38.439061",
     "exception": false,
     "start_time": "2022-08-24T06:42:37.797113",
     "status": "completed"
    },
    "tags": []
   },
   "outputs": [
    {
     "data": {
      "text/html": [
       "<div>\n",
       "<style scoped>\n",
       "    .dataframe tbody tr th:only-of-type {\n",
       "        vertical-align: middle;\n",
       "    }\n",
       "\n",
       "    .dataframe tbody tr th {\n",
       "        vertical-align: top;\n",
       "    }\n",
       "\n",
       "    .dataframe thead th {\n",
       "        text-align: right;\n",
       "    }\n",
       "</style>\n",
       "<table border=\"1\" class=\"dataframe\">\n",
       "  <thead>\n",
       "    <tr style=\"text-align: right;\">\n",
       "      <th></th>\n",
       "      <th>index</th>\n",
       "      <th>M</th>\n",
       "      <th>nprobe</th>\n",
       "      <th>nsegment</th>\n",
       "      <th>recall@1</th>\n",
       "      <th>recall@3</th>\n",
       "      <th>recall@5</th>\n",
       "      <th>train_time</th>\n",
       "      <th>index_time</th>\n",
       "      <th>search_time</th>\n",
       "      <th>index_size</th>\n",
       "    </tr>\n",
       "  </thead>\n",
       "  <tbody>\n",
       "    <tr>\n",
       "      <th>0</th>\n",
       "      <td>IVF65536_HNSW32,PQ32</td>\n",
       "      <td>32</td>\n",
       "      <td>1.0</td>\n",
       "      <td>32.0</td>\n",
       "      <td>0.153</td>\n",
       "      <td>0.177</td>\n",
       "      <td>0.179</td>\n",
       "      <td>144.403778</td>\n",
       "      <td>23.839422</td>\n",
       "      <td>0.006780</td>\n",
       "      <td>154.209972</td>\n",
       "    </tr>\n",
       "    <tr>\n",
       "      <th>1</th>\n",
       "      <td>IVF65536_HNSW32,PQ32</td>\n",
       "      <td>32</td>\n",
       "      <td>8.0</td>\n",
       "      <td>32.0</td>\n",
       "      <td>0.349</td>\n",
       "      <td>0.437</td>\n",
       "      <td>0.450</td>\n",
       "      <td>144.403778</td>\n",
       "      <td>23.839422</td>\n",
       "      <td>0.006421</td>\n",
       "      <td>154.209972</td>\n",
       "    </tr>\n",
       "    <tr>\n",
       "      <th>2</th>\n",
       "      <td>IVF65536_HNSW32,PQ32</td>\n",
       "      <td>32</td>\n",
       "      <td>16.0</td>\n",
       "      <td>32.0</td>\n",
       "      <td>0.417</td>\n",
       "      <td>0.536</td>\n",
       "      <td>0.555</td>\n",
       "      <td>144.403778</td>\n",
       "      <td>23.839422</td>\n",
       "      <td>0.008228</td>\n",
       "      <td>154.209972</td>\n",
       "    </tr>\n",
       "    <tr>\n",
       "      <th>3</th>\n",
       "      <td>IVF65536_HNSW32,PQ32</td>\n",
       "      <td>32</td>\n",
       "      <td>64.0</td>\n",
       "      <td>32.0</td>\n",
       "      <td>0.521</td>\n",
       "      <td>0.712</td>\n",
       "      <td>0.746</td>\n",
       "      <td>144.403778</td>\n",
       "      <td>23.839422</td>\n",
       "      <td>0.018434</td>\n",
       "      <td>154.209972</td>\n",
       "    </tr>\n",
       "    <tr>\n",
       "      <th>4</th>\n",
       "      <td>IVF65536_HNSW32,PQ32</td>\n",
       "      <td>32</td>\n",
       "      <td>128.0</td>\n",
       "      <td>32.0</td>\n",
       "      <td>0.547</td>\n",
       "      <td>0.765</td>\n",
       "      <td>0.806</td>\n",
       "      <td>144.403778</td>\n",
       "      <td>23.839422</td>\n",
       "      <td>0.033185</td>\n",
       "      <td>154.209972</td>\n",
       "    </tr>\n",
       "    <tr>\n",
       "      <th>5</th>\n",
       "      <td>IVF65536_HNSW32,PQ32</td>\n",
       "      <td>32</td>\n",
       "      <td>256.0</td>\n",
       "      <td>32.0</td>\n",
       "      <td>0.563</td>\n",
       "      <td>0.804</td>\n",
       "      <td>0.856</td>\n",
       "      <td>144.403778</td>\n",
       "      <td>23.839422</td>\n",
       "      <td>0.074435</td>\n",
       "      <td>154.209972</td>\n",
       "    </tr>\n",
       "    <tr>\n",
       "      <th>6</th>\n",
       "      <td>IVF65536_HNSW32,PQ32</td>\n",
       "      <td>32</td>\n",
       "      <td>512.0</td>\n",
       "      <td>32.0</td>\n",
       "      <td>0.578</td>\n",
       "      <td>0.831</td>\n",
       "      <td>0.891</td>\n",
       "      <td>144.403778</td>\n",
       "      <td>23.839422</td>\n",
       "      <td>0.195568</td>\n",
       "      <td>154.209972</td>\n",
       "    </tr>\n",
       "    <tr>\n",
       "      <th>7</th>\n",
       "      <td>IVF65536_HNSW32,PQ32</td>\n",
       "      <td>32</td>\n",
       "      <td>1024.0</td>\n",
       "      <td>32.0</td>\n",
       "      <td>0.588</td>\n",
       "      <td>0.848</td>\n",
       "      <td>0.913</td>\n",
       "      <td>144.403778</td>\n",
       "      <td>23.839422</td>\n",
       "      <td>0.502939</td>\n",
       "      <td>154.209972</td>\n",
       "    </tr>\n",
       "    <tr>\n",
       "      <th>8</th>\n",
       "      <td>IVF65536_HNSW32,Flat</td>\n",
       "      <td>32</td>\n",
       "      <td>1.0</td>\n",
       "      <td>0.0</td>\n",
       "      <td>0.181</td>\n",
       "      <td>0.181</td>\n",
       "      <td>0.181</td>\n",
       "      <td>84.892702</td>\n",
       "      <td>18.270943</td>\n",
       "      <td>0.009719</td>\n",
       "      <td>1594.078859</td>\n",
       "    </tr>\n",
       "    <tr>\n",
       "      <th>9</th>\n",
       "      <td>IVF65536_HNSW32,Flat</td>\n",
       "      <td>32</td>\n",
       "      <td>8.0</td>\n",
       "      <td>0.0</td>\n",
       "      <td>0.455</td>\n",
       "      <td>0.455</td>\n",
       "      <td>0.455</td>\n",
       "      <td>84.892702</td>\n",
       "      <td>18.270943</td>\n",
       "      <td>0.014852</td>\n",
       "      <td>1594.078859</td>\n",
       "    </tr>\n",
       "    <tr>\n",
       "      <th>10</th>\n",
       "      <td>IVF65536_HNSW32,Flat</td>\n",
       "      <td>32</td>\n",
       "      <td>16.0</td>\n",
       "      <td>0.0</td>\n",
       "      <td>0.564</td>\n",
       "      <td>0.564</td>\n",
       "      <td>0.564</td>\n",
       "      <td>84.892702</td>\n",
       "      <td>18.270943</td>\n",
       "      <td>0.025725</td>\n",
       "      <td>1594.078859</td>\n",
       "    </tr>\n",
       "    <tr>\n",
       "      <th>11</th>\n",
       "      <td>IVF65536_HNSW32,Flat</td>\n",
       "      <td>32</td>\n",
       "      <td>64.0</td>\n",
       "      <td>0.0</td>\n",
       "      <td>0.768</td>\n",
       "      <td>0.768</td>\n",
       "      <td>0.768</td>\n",
       "      <td>84.892702</td>\n",
       "      <td>18.270943</td>\n",
       "      <td>0.035203</td>\n",
       "      <td>1594.078859</td>\n",
       "    </tr>\n",
       "    <tr>\n",
       "      <th>12</th>\n",
       "      <td>IVF65536_HNSW32,Flat</td>\n",
       "      <td>32</td>\n",
       "      <td>128.0</td>\n",
       "      <td>0.0</td>\n",
       "      <td>0.840</td>\n",
       "      <td>0.840</td>\n",
       "      <td>0.840</td>\n",
       "      <td>84.892702</td>\n",
       "      <td>18.270943</td>\n",
       "      <td>0.055386</td>\n",
       "      <td>1594.078859</td>\n",
       "    </tr>\n",
       "    <tr>\n",
       "      <th>13</th>\n",
       "      <td>IVF65536_HNSW32,Flat</td>\n",
       "      <td>32</td>\n",
       "      <td>256.0</td>\n",
       "      <td>0.0</td>\n",
       "      <td>0.904</td>\n",
       "      <td>0.904</td>\n",
       "      <td>0.904</td>\n",
       "      <td>84.892702</td>\n",
       "      <td>18.270943</td>\n",
       "      <td>0.088980</td>\n",
       "      <td>1594.078859</td>\n",
       "    </tr>\n",
       "    <tr>\n",
       "      <th>14</th>\n",
       "      <td>IVF65536_HNSW32,Flat</td>\n",
       "      <td>32</td>\n",
       "      <td>512.0</td>\n",
       "      <td>0.0</td>\n",
       "      <td>0.944</td>\n",
       "      <td>0.944</td>\n",
       "      <td>0.944</td>\n",
       "      <td>84.892702</td>\n",
       "      <td>18.270943</td>\n",
       "      <td>0.145250</td>\n",
       "      <td>1594.078859</td>\n",
       "    </tr>\n",
       "    <tr>\n",
       "      <th>15</th>\n",
       "      <td>IVF65536_HNSW32,Flat</td>\n",
       "      <td>32</td>\n",
       "      <td>1024.0</td>\n",
       "      <td>0.0</td>\n",
       "      <td>0.975</td>\n",
       "      <td>0.975</td>\n",
       "      <td>0.975</td>\n",
       "      <td>84.892702</td>\n",
       "      <td>18.270943</td>\n",
       "      <td>0.241735</td>\n",
       "      <td>1594.078859</td>\n",
       "    </tr>\n",
       "    <tr>\n",
       "      <th>16</th>\n",
       "      <td>HNSW32,Flat</td>\n",
       "      <td>32</td>\n",
       "      <td>0.0</td>\n",
       "      <td>0.0</td>\n",
       "      <td>0.850</td>\n",
       "      <td>0.850</td>\n",
       "      <td>0.850</td>\n",
       "      <td>None</td>\n",
       "      <td>828.196047</td>\n",
       "      <td>0.132884</td>\n",
       "      <td>2352.424546</td>\n",
       "    </tr>\n",
       "    <tr>\n",
       "      <th>17</th>\n",
       "      <td>HNSW32_PQ32</td>\n",
       "      <td>32</td>\n",
       "      <td>0.0</td>\n",
       "      <td>32.0</td>\n",
       "      <td>0.629</td>\n",
       "      <td>0.789</td>\n",
       "      <td>0.810</td>\n",
       "      <td>62.063184</td>\n",
       "      <td>618.958291</td>\n",
       "      <td>0.115766</td>\n",
       "      <td>912.555659</td>\n",
       "    </tr>\n",
       "  </tbody>\n",
       "</table>\n",
       "</div>"
      ],
      "text/plain": [
       "                   index   M  nprobe  nsegment  recall@1  recall@3  recall@5  \\\n",
       "0   IVF65536_HNSW32,PQ32  32     1.0      32.0     0.153     0.177     0.179   \n",
       "1   IVF65536_HNSW32,PQ32  32     8.0      32.0     0.349     0.437     0.450   \n",
       "2   IVF65536_HNSW32,PQ32  32    16.0      32.0     0.417     0.536     0.555   \n",
       "3   IVF65536_HNSW32,PQ32  32    64.0      32.0     0.521     0.712     0.746   \n",
       "4   IVF65536_HNSW32,PQ32  32   128.0      32.0     0.547     0.765     0.806   \n",
       "5   IVF65536_HNSW32,PQ32  32   256.0      32.0     0.563     0.804     0.856   \n",
       "6   IVF65536_HNSW32,PQ32  32   512.0      32.0     0.578     0.831     0.891   \n",
       "7   IVF65536_HNSW32,PQ32  32  1024.0      32.0     0.588     0.848     0.913   \n",
       "8   IVF65536_HNSW32,Flat  32     1.0       0.0     0.181     0.181     0.181   \n",
       "9   IVF65536_HNSW32,Flat  32     8.0       0.0     0.455     0.455     0.455   \n",
       "10  IVF65536_HNSW32,Flat  32    16.0       0.0     0.564     0.564     0.564   \n",
       "11  IVF65536_HNSW32,Flat  32    64.0       0.0     0.768     0.768     0.768   \n",
       "12  IVF65536_HNSW32,Flat  32   128.0       0.0     0.840     0.840     0.840   \n",
       "13  IVF65536_HNSW32,Flat  32   256.0       0.0     0.904     0.904     0.904   \n",
       "14  IVF65536_HNSW32,Flat  32   512.0       0.0     0.944     0.944     0.944   \n",
       "15  IVF65536_HNSW32,Flat  32  1024.0       0.0     0.975     0.975     0.975   \n",
       "16           HNSW32,Flat  32     0.0       0.0     0.850     0.850     0.850   \n",
       "17           HNSW32_PQ32  32     0.0      32.0     0.629     0.789     0.810   \n",
       "\n",
       "    train_time  index_time  search_time   index_size  \n",
       "0   144.403778   23.839422     0.006780   154.209972  \n",
       "1   144.403778   23.839422     0.006421   154.209972  \n",
       "2   144.403778   23.839422     0.008228   154.209972  \n",
       "3   144.403778   23.839422     0.018434   154.209972  \n",
       "4   144.403778   23.839422     0.033185   154.209972  \n",
       "5   144.403778   23.839422     0.074435   154.209972  \n",
       "6   144.403778   23.839422     0.195568   154.209972  \n",
       "7   144.403778   23.839422     0.502939   154.209972  \n",
       "8    84.892702   18.270943     0.009719  1594.078859  \n",
       "9    84.892702   18.270943     0.014852  1594.078859  \n",
       "10   84.892702   18.270943     0.025725  1594.078859  \n",
       "11   84.892702   18.270943     0.035203  1594.078859  \n",
       "12   84.892702   18.270943     0.055386  1594.078859  \n",
       "13   84.892702   18.270943     0.088980  1594.078859  \n",
       "14   84.892702   18.270943     0.145250  1594.078859  \n",
       "15   84.892702   18.270943     0.241735  1594.078859  \n",
       "16        None  828.196047     0.132884  2352.424546  \n",
       "17   62.063184  618.958291     0.115766   912.555659  "
      ]
     },
     "execution_count": 53,
     "metadata": {},
     "output_type": "execute_result"
    }
   ],
   "source": [
    "df"
   ]
  },
  {
   "cell_type": "code",
   "execution_count": 54,
   "id": "ab31cd76",
   "metadata": {
    "execution": {
     "iopub.execute_input": "2022-08-24T06:42:39.884078Z",
     "iopub.status.busy": "2022-08-24T06:42:39.883558Z",
     "iopub.status.idle": "2022-08-24T06:42:39.899104Z",
     "shell.execute_reply": "2022-08-24T06:42:39.897939Z"
    },
    "papermill": {
     "duration": 0.704923,
     "end_time": "2022-08-24T06:42:39.901640",
     "exception": false,
     "start_time": "2022-08-24T06:42:39.196717",
     "status": "completed"
    },
    "tags": []
   },
   "outputs": [
    {
     "name": "stdout",
     "output_type": "stream",
     "text": [
      "<class 'pandas.core.frame.DataFrame'>\n",
      "RangeIndex: 18 entries, 0 to 17\n",
      "Data columns (total 11 columns):\n",
      " #   Column       Non-Null Count  Dtype  \n",
      "---  ------       --------------  -----  \n",
      " 0   index        18 non-null     object \n",
      " 1   M            18 non-null     object \n",
      " 2   nprobe       18 non-null     float64\n",
      " 3   nsegment     18 non-null     float64\n",
      " 4   recall@1     18 non-null     float64\n",
      " 5   recall@3     18 non-null     float64\n",
      " 6   recall@5     18 non-null     float64\n",
      " 7   train_time   17 non-null     object \n",
      " 8   index_time   18 non-null     float64\n",
      " 9   search_time  18 non-null     float64\n",
      " 10  index_size   18 non-null     float64\n",
      "dtypes: float64(8), object(3)\n",
      "memory usage: 1.7+ KB\n"
     ]
    }
   ],
   "source": [
    "df.info()"
   ]
  },
  {
   "cell_type": "code",
   "execution_count": 55,
   "id": "06865633",
   "metadata": {
    "execution": {
     "iopub.execute_input": "2022-08-24T06:42:41.545462Z",
     "iopub.status.busy": "2022-08-24T06:42:41.544958Z",
     "iopub.status.idle": "2022-08-24T06:42:41.561683Z",
     "shell.execute_reply": "2022-08-24T06:42:41.560405Z"
    },
    "papermill": {
     "duration": 0.990668,
     "end_time": "2022-08-24T06:42:41.565743",
     "exception": false,
     "start_time": "2022-08-24T06:42:40.575075",
     "status": "completed"
    },
    "tags": []
   },
   "outputs": [],
   "source": [
    "df[\"M\"] = df[\"M\"].fillna(0.0).astype(int)\n",
    "df[\"nprobe\"] = df[\"nprobe\"].fillna(0.0).astype(int)\n",
    "df[\"nsegment\"] = df[\"nsegment\"].fillna(0.0).astype(int)"
   ]
  },
  {
   "cell_type": "code",
   "execution_count": 56,
   "id": "cc48c0ee",
   "metadata": {
    "execution": {
     "iopub.execute_input": "2022-08-24T06:42:43.175651Z",
     "iopub.status.busy": "2022-08-24T06:42:43.175273Z",
     "iopub.status.idle": "2022-08-24T06:42:43.180341Z",
     "shell.execute_reply": "2022-08-24T06:42:43.179037Z"
    },
    "papermill": {
     "duration": 0.70434,
     "end_time": "2022-08-24T06:42:43.182581",
     "exception": false,
     "start_time": "2022-08-24T06:42:42.478241",
     "status": "completed"
    },
    "tags": []
   },
   "outputs": [],
   "source": [
    "colors_gorb = ['#2CA02C', '#FF7F0E', '#D62728', '#1F77B4']   # green, orange, red, blue"
   ]
  },
  {
   "cell_type": "code",
   "execution_count": 57,
   "id": "c4138457",
   "metadata": {
    "execution": {
     "iopub.execute_input": "2022-08-24T06:42:44.413816Z",
     "iopub.status.busy": "2022-08-24T06:42:44.413172Z",
     "iopub.status.idle": "2022-08-24T06:42:44.532146Z",
     "shell.execute_reply": "2022-08-24T06:42:44.531203Z"
    },
    "papermill": {
     "duration": 0.738939,
     "end_time": "2022-08-24T06:42:44.534219",
     "exception": false,
     "start_time": "2022-08-24T06:42:43.795280",
     "status": "completed"
    },
    "tags": []
   },
   "outputs": [
    {
     "data": {
      "text/html": [
       "<div>                            <div id=\"a239d746-7d41-40b3-9f75-6415a6fd4294\" class=\"plotly-graph-div\" style=\"height:350px; width:550px;\"></div>            <script type=\"text/javascript\">                require([\"plotly\"], function(Plotly) {                    window.PLOTLYENV=window.PLOTLYENV || {};                                    if (document.getElementById(\"a239d746-7d41-40b3-9f75-6415a6fd4294\")) {                    Plotly.newPlot(                        \"a239d746-7d41-40b3-9f75-6415a6fd4294\",                        [{\"hovertemplate\":\"index=IVF65536_HNSW32,PQ32<br>nprobe=%{x}<br>search time (ms/query)=%{y}<extra></extra>\",\"legendgroup\":\"IVF65536_HNSW32,PQ32\",\"line\":{\"color\":\"#2CA02C\",\"dash\":\"solid\"},\"marker\":{\"symbol\":\"circle\",\"size\":8,\"color\":\"#2CA02C\"},\"mode\":\"markers+lines\",\"name\":\"IVF65536_HNSW32,PQ32\",\"orientation\":\"v\",\"showlegend\":true,\"x\":[1,8,16,64,128,256,512,1024],\"xaxis\":\"x\",\"y\":[0.006780147552490234,0.00642085075378418,0.008228302001953125,0.01843404769897461,0.03318452835083008,0.07443547248840332,0.19556832313537598,0.5029392242431641],\"yaxis\":\"y\",\"type\":\"scatter\"},{\"hovertemplate\":\"index=IVF65536_HNSW32,Flat<br>nprobe=%{x}<br>search time (ms/query)=%{y}<extra></extra>\",\"legendgroup\":\"IVF65536_HNSW32,Flat\",\"line\":{\"color\":\"#FF7F0E\",\"dash\":\"solid\"},\"marker\":{\"symbol\":\"circle\",\"size\":8,\"color\":\"#FF7F0E\"},\"mode\":\"markers+lines\",\"name\":\"IVF65536_HNSW32,Flat\",\"orientation\":\"v\",\"showlegend\":true,\"x\":[1,8,16,64,128,256,512,1024],\"xaxis\":\"x\",\"y\":[0.009719371795654297,0.014852285385131836,0.02572488784790039,0.03520321846008301,0.055385589599609375,0.08897972106933594,0.145249605178833,0.24173474311828613],\"yaxis\":\"y\",\"type\":\"scatter\"}],                        {\"template\":{\"data\":{\"barpolar\":[{\"marker\":{\"line\":{\"color\":\"white\",\"width\":0.5},\"pattern\":{\"fillmode\":\"overlay\",\"size\":10,\"solidity\":0.2}},\"type\":\"barpolar\"}],\"bar\":[{\"error_x\":{\"color\":\"rgb(36,36,36)\"},\"error_y\":{\"color\":\"rgb(36,36,36)\"},\"marker\":{\"line\":{\"color\":\"white\",\"width\":0.5},\"pattern\":{\"fillmode\":\"overlay\",\"size\":10,\"solidity\":0.2}},\"type\":\"bar\"}],\"carpet\":[{\"aaxis\":{\"endlinecolor\":\"rgb(36,36,36)\",\"gridcolor\":\"white\",\"linecolor\":\"white\",\"minorgridcolor\":\"white\",\"startlinecolor\":\"rgb(36,36,36)\"},\"baxis\":{\"endlinecolor\":\"rgb(36,36,36)\",\"gridcolor\":\"white\",\"linecolor\":\"white\",\"minorgridcolor\":\"white\",\"startlinecolor\":\"rgb(36,36,36)\"},\"type\":\"carpet\"}],\"choropleth\":[{\"colorbar\":{\"outlinewidth\":1,\"tickcolor\":\"rgb(36,36,36)\",\"ticks\":\"outside\"},\"type\":\"choropleth\"}],\"contourcarpet\":[{\"colorbar\":{\"outlinewidth\":1,\"tickcolor\":\"rgb(36,36,36)\",\"ticks\":\"outside\"},\"type\":\"contourcarpet\"}],\"contour\":[{\"colorbar\":{\"outlinewidth\":1,\"tickcolor\":\"rgb(36,36,36)\",\"ticks\":\"outside\"},\"colorscale\":[[0.0,\"#440154\"],[0.1111111111111111,\"#482878\"],[0.2222222222222222,\"#3e4989\"],[0.3333333333333333,\"#31688e\"],[0.4444444444444444,\"#26828e\"],[0.5555555555555556,\"#1f9e89\"],[0.6666666666666666,\"#35b779\"],[0.7777777777777778,\"#6ece58\"],[0.8888888888888888,\"#b5de2b\"],[1.0,\"#fde725\"]],\"type\":\"contour\"}],\"heatmapgl\":[{\"colorbar\":{\"outlinewidth\":1,\"tickcolor\":\"rgb(36,36,36)\",\"ticks\":\"outside\"},\"colorscale\":[[0.0,\"#440154\"],[0.1111111111111111,\"#482878\"],[0.2222222222222222,\"#3e4989\"],[0.3333333333333333,\"#31688e\"],[0.4444444444444444,\"#26828e\"],[0.5555555555555556,\"#1f9e89\"],[0.6666666666666666,\"#35b779\"],[0.7777777777777778,\"#6ece58\"],[0.8888888888888888,\"#b5de2b\"],[1.0,\"#fde725\"]],\"type\":\"heatmapgl\"}],\"heatmap\":[{\"colorbar\":{\"outlinewidth\":1,\"tickcolor\":\"rgb(36,36,36)\",\"ticks\":\"outside\"},\"colorscale\":[[0.0,\"#440154\"],[0.1111111111111111,\"#482878\"],[0.2222222222222222,\"#3e4989\"],[0.3333333333333333,\"#31688e\"],[0.4444444444444444,\"#26828e\"],[0.5555555555555556,\"#1f9e89\"],[0.6666666666666666,\"#35b779\"],[0.7777777777777778,\"#6ece58\"],[0.8888888888888888,\"#b5de2b\"],[1.0,\"#fde725\"]],\"type\":\"heatmap\"}],\"histogram2dcontour\":[{\"colorbar\":{\"outlinewidth\":1,\"tickcolor\":\"rgb(36,36,36)\",\"ticks\":\"outside\"},\"colorscale\":[[0.0,\"#440154\"],[0.1111111111111111,\"#482878\"],[0.2222222222222222,\"#3e4989\"],[0.3333333333333333,\"#31688e\"],[0.4444444444444444,\"#26828e\"],[0.5555555555555556,\"#1f9e89\"],[0.6666666666666666,\"#35b779\"],[0.7777777777777778,\"#6ece58\"],[0.8888888888888888,\"#b5de2b\"],[1.0,\"#fde725\"]],\"type\":\"histogram2dcontour\"}],\"histogram2d\":[{\"colorbar\":{\"outlinewidth\":1,\"tickcolor\":\"rgb(36,36,36)\",\"ticks\":\"outside\"},\"colorscale\":[[0.0,\"#440154\"],[0.1111111111111111,\"#482878\"],[0.2222222222222222,\"#3e4989\"],[0.3333333333333333,\"#31688e\"],[0.4444444444444444,\"#26828e\"],[0.5555555555555556,\"#1f9e89\"],[0.6666666666666666,\"#35b779\"],[0.7777777777777778,\"#6ece58\"],[0.8888888888888888,\"#b5de2b\"],[1.0,\"#fde725\"]],\"type\":\"histogram2d\"}],\"histogram\":[{\"marker\":{\"line\":{\"color\":\"white\",\"width\":0.6}},\"type\":\"histogram\"}],\"mesh3d\":[{\"colorbar\":{\"outlinewidth\":1,\"tickcolor\":\"rgb(36,36,36)\",\"ticks\":\"outside\"},\"type\":\"mesh3d\"}],\"parcoords\":[{\"line\":{\"colorbar\":{\"outlinewidth\":1,\"tickcolor\":\"rgb(36,36,36)\",\"ticks\":\"outside\"}},\"type\":\"parcoords\"}],\"pie\":[{\"automargin\":true,\"type\":\"pie\"}],\"scatter3d\":[{\"line\":{\"colorbar\":{\"outlinewidth\":1,\"tickcolor\":\"rgb(36,36,36)\",\"ticks\":\"outside\"}},\"marker\":{\"colorbar\":{\"outlinewidth\":1,\"tickcolor\":\"rgb(36,36,36)\",\"ticks\":\"outside\"}},\"type\":\"scatter3d\"}],\"scattercarpet\":[{\"marker\":{\"colorbar\":{\"outlinewidth\":1,\"tickcolor\":\"rgb(36,36,36)\",\"ticks\":\"outside\"}},\"type\":\"scattercarpet\"}],\"scattergeo\":[{\"marker\":{\"colorbar\":{\"outlinewidth\":1,\"tickcolor\":\"rgb(36,36,36)\",\"ticks\":\"outside\"}},\"type\":\"scattergeo\"}],\"scattergl\":[{\"marker\":{\"colorbar\":{\"outlinewidth\":1,\"tickcolor\":\"rgb(36,36,36)\",\"ticks\":\"outside\"}},\"type\":\"scattergl\"}],\"scattermapbox\":[{\"marker\":{\"colorbar\":{\"outlinewidth\":1,\"tickcolor\":\"rgb(36,36,36)\",\"ticks\":\"outside\"}},\"type\":\"scattermapbox\"}],\"scatterpolargl\":[{\"marker\":{\"colorbar\":{\"outlinewidth\":1,\"tickcolor\":\"rgb(36,36,36)\",\"ticks\":\"outside\"}},\"type\":\"scatterpolargl\"}],\"scatterpolar\":[{\"marker\":{\"colorbar\":{\"outlinewidth\":1,\"tickcolor\":\"rgb(36,36,36)\",\"ticks\":\"outside\"}},\"type\":\"scatterpolar\"}],\"scatter\":[{\"fillpattern\":{\"fillmode\":\"overlay\",\"size\":10,\"solidity\":0.2},\"type\":\"scatter\"}],\"scatterternary\":[{\"marker\":{\"colorbar\":{\"outlinewidth\":1,\"tickcolor\":\"rgb(36,36,36)\",\"ticks\":\"outside\"}},\"type\":\"scatterternary\"}],\"surface\":[{\"colorbar\":{\"outlinewidth\":1,\"tickcolor\":\"rgb(36,36,36)\",\"ticks\":\"outside\"},\"colorscale\":[[0.0,\"#440154\"],[0.1111111111111111,\"#482878\"],[0.2222222222222222,\"#3e4989\"],[0.3333333333333333,\"#31688e\"],[0.4444444444444444,\"#26828e\"],[0.5555555555555556,\"#1f9e89\"],[0.6666666666666666,\"#35b779\"],[0.7777777777777778,\"#6ece58\"],[0.8888888888888888,\"#b5de2b\"],[1.0,\"#fde725\"]],\"type\":\"surface\"}],\"table\":[{\"cells\":{\"fill\":{\"color\":\"rgb(237,237,237)\"},\"line\":{\"color\":\"white\"}},\"header\":{\"fill\":{\"color\":\"rgb(217,217,217)\"},\"line\":{\"color\":\"white\"}},\"type\":\"table\"}]},\"layout\":{\"annotationdefaults\":{\"arrowhead\":0,\"arrowwidth\":1},\"autotypenumbers\":\"strict\",\"coloraxis\":{\"colorbar\":{\"outlinewidth\":1,\"tickcolor\":\"rgb(36,36,36)\",\"ticks\":\"outside\"}},\"colorscale\":{\"diverging\":[[0.0,\"rgb(103,0,31)\"],[0.1,\"rgb(178,24,43)\"],[0.2,\"rgb(214,96,77)\"],[0.3,\"rgb(244,165,130)\"],[0.4,\"rgb(253,219,199)\"],[0.5,\"rgb(247,247,247)\"],[0.6,\"rgb(209,229,240)\"],[0.7,\"rgb(146,197,222)\"],[0.8,\"rgb(67,147,195)\"],[0.9,\"rgb(33,102,172)\"],[1.0,\"rgb(5,48,97)\"]],\"sequential\":[[0.0,\"#440154\"],[0.1111111111111111,\"#482878\"],[0.2222222222222222,\"#3e4989\"],[0.3333333333333333,\"#31688e\"],[0.4444444444444444,\"#26828e\"],[0.5555555555555556,\"#1f9e89\"],[0.6666666666666666,\"#35b779\"],[0.7777777777777778,\"#6ece58\"],[0.8888888888888888,\"#b5de2b\"],[1.0,\"#fde725\"]],\"sequentialminus\":[[0.0,\"#440154\"],[0.1111111111111111,\"#482878\"],[0.2222222222222222,\"#3e4989\"],[0.3333333333333333,\"#31688e\"],[0.4444444444444444,\"#26828e\"],[0.5555555555555556,\"#1f9e89\"],[0.6666666666666666,\"#35b779\"],[0.7777777777777778,\"#6ece58\"],[0.8888888888888888,\"#b5de2b\"],[1.0,\"#fde725\"]]},\"colorway\":[\"#1F77B4\",\"#FF7F0E\",\"#2CA02C\",\"#D62728\",\"#9467BD\",\"#8C564B\",\"#E377C2\",\"#7F7F7F\",\"#BCBD22\",\"#17BECF\"],\"font\":{\"color\":\"rgb(36,36,36)\"},\"geo\":{\"bgcolor\":\"white\",\"lakecolor\":\"white\",\"landcolor\":\"white\",\"showlakes\":true,\"showland\":true,\"subunitcolor\":\"white\"},\"hoverlabel\":{\"align\":\"left\"},\"hovermode\":\"closest\",\"mapbox\":{\"style\":\"light\"},\"paper_bgcolor\":\"white\",\"plot_bgcolor\":\"white\",\"polar\":{\"angularaxis\":{\"gridcolor\":\"rgb(232,232,232)\",\"linecolor\":\"rgb(36,36,36)\",\"showgrid\":false,\"showline\":true,\"ticks\":\"outside\"},\"bgcolor\":\"white\",\"radialaxis\":{\"gridcolor\":\"rgb(232,232,232)\",\"linecolor\":\"rgb(36,36,36)\",\"showgrid\":false,\"showline\":true,\"ticks\":\"outside\"}},\"scene\":{\"xaxis\":{\"backgroundcolor\":\"white\",\"gridcolor\":\"rgb(232,232,232)\",\"gridwidth\":2,\"linecolor\":\"rgb(36,36,36)\",\"showbackground\":true,\"showgrid\":false,\"showline\":true,\"ticks\":\"outside\",\"zeroline\":false,\"zerolinecolor\":\"rgb(36,36,36)\"},\"yaxis\":{\"backgroundcolor\":\"white\",\"gridcolor\":\"rgb(232,232,232)\",\"gridwidth\":2,\"linecolor\":\"rgb(36,36,36)\",\"showbackground\":true,\"showgrid\":false,\"showline\":true,\"ticks\":\"outside\",\"zeroline\":false,\"zerolinecolor\":\"rgb(36,36,36)\"},\"zaxis\":{\"backgroundcolor\":\"white\",\"gridcolor\":\"rgb(232,232,232)\",\"gridwidth\":2,\"linecolor\":\"rgb(36,36,36)\",\"showbackground\":true,\"showgrid\":false,\"showline\":true,\"ticks\":\"outside\",\"zeroline\":false,\"zerolinecolor\":\"rgb(36,36,36)\"}},\"shapedefaults\":{\"fillcolor\":\"black\",\"line\":{\"width\":0},\"opacity\":0.3},\"ternary\":{\"aaxis\":{\"gridcolor\":\"rgb(232,232,232)\",\"linecolor\":\"rgb(36,36,36)\",\"showgrid\":false,\"showline\":true,\"ticks\":\"outside\"},\"baxis\":{\"gridcolor\":\"rgb(232,232,232)\",\"linecolor\":\"rgb(36,36,36)\",\"showgrid\":false,\"showline\":true,\"ticks\":\"outside\"},\"bgcolor\":\"white\",\"caxis\":{\"gridcolor\":\"rgb(232,232,232)\",\"linecolor\":\"rgb(36,36,36)\",\"showgrid\":false,\"showline\":true,\"ticks\":\"outside\"}},\"title\":{\"x\":0.05},\"xaxis\":{\"automargin\":true,\"gridcolor\":\"rgb(232,232,232)\",\"linecolor\":\"rgb(36,36,36)\",\"showgrid\":false,\"showline\":true,\"ticks\":\"outside\",\"title\":{\"standoff\":15},\"zeroline\":false,\"zerolinecolor\":\"rgb(36,36,36)\"},\"yaxis\":{\"automargin\":true,\"gridcolor\":\"rgb(232,232,232)\",\"linecolor\":\"rgb(36,36,36)\",\"showgrid\":false,\"showline\":true,\"ticks\":\"outside\",\"title\":{\"standoff\":15},\"zeroline\":false,\"zerolinecolor\":\"rgb(36,36,36)\"}}},\"xaxis\":{\"anchor\":\"y\",\"domain\":[0.0,1.0],\"title\":{\"text\":\"nprobe\"},\"linecolor\":\"darkgrey\"},\"yaxis\":{\"anchor\":\"x\",\"domain\":[0.0,1.0],\"title\":{\"text\":\"search time (ms/query)\"},\"linecolor\":\"darkgrey\"},\"legend\":{\"title\":{\"text\":\"\"},\"tracegroupgap\":0,\"yanchor\":\"top\",\"y\":1,\"xanchor\":\"left\",\"x\":0.3,\"borderwidth\":1},\"margin\":{\"t\":60},\"height\":350,\"width\":550,\"shapes\":[{\"line\":{\"color\":\"#1F77B4\",\"dash\":\"dot\",\"width\":1},\"opacity\":1,\"type\":\"line\",\"x0\":0,\"x1\":1,\"xref\":\"x domain\",\"y0\":0.13288354873657227,\"y1\":0.13288354873657227,\"yref\":\"y\"},{\"line\":{\"color\":\"#D62728\",\"dash\":\"dot\",\"width\":1},\"opacity\":1,\"type\":\"line\",\"x0\":0,\"x1\":1,\"xref\":\"x domain\",\"y0\":0.11576581001281738,\"y1\":0.11576581001281738,\"yref\":\"y\"},{\"line\":{\"color\":\"grey\",\"dash\":\"dot\",\"width\":3},\"type\":\"line\",\"x0\":128,\"x1\":128,\"xref\":\"x\",\"y0\":0,\"y1\":1,\"yref\":\"y domain\"}],\"annotations\":[{\"font\":{\"color\":\"#1F77B4\"},\"showarrow\":false,\"text\":\"<I>HNSW32,Flat</I>\",\"x\":1,\"xanchor\":\"right\",\"xref\":\"x domain\",\"y\":0.13288354873657227,\"yanchor\":\"bottom\",\"yref\":\"y\"},{\"font\":{\"color\":\"#D62728\"},\"showarrow\":false,\"text\":\"<I>HNSW32_PQ32</I>\",\"x\":1,\"xanchor\":\"right\",\"xref\":\"x domain\",\"y\":0.11576581001281738,\"yanchor\":\"top\",\"yref\":\"y\"},{\"font\":{\"color\":\"darkgrey\"},\"showarrow\":false,\"text\":\"nprobe=128\",\"x\":128,\"xanchor\":\"center\",\"xref\":\"x\",\"y\":1,\"yanchor\":\"bottom\",\"yref\":\"y domain\"}]},                        {\"responsive\": true}                    ).then(function(){\n",
       "                            \n",
       "var gd = document.getElementById('a239d746-7d41-40b3-9f75-6415a6fd4294');\n",
       "var x = new MutationObserver(function (mutations, observer) {{\n",
       "        var display = window.getComputedStyle(gd).display;\n",
       "        if (!display || display === 'none') {{\n",
       "            console.log([gd, 'removed!']);\n",
       "            Plotly.purge(gd);\n",
       "            observer.disconnect();\n",
       "        }}\n",
       "}});\n",
       "\n",
       "// Listen for the removal of the full notebook cells\n",
       "var notebookContainer = gd.closest('#notebook-container');\n",
       "if (notebookContainer) {{\n",
       "    x.observe(notebookContainer, {childList: true});\n",
       "}}\n",
       "\n",
       "// Listen for the clearing of the current output cell\n",
       "var outputEl = gd.closest('.output');\n",
       "if (outputEl) {{\n",
       "    x.observe(outputEl, {childList: true});\n",
       "}}\n",
       "\n",
       "                        })                };                });            </script>        </div>"
      ]
     },
     "metadata": {},
     "output_type": "display_data"
    }
   ],
   "source": [
    "fig = px.line(df.query(\"nprobe>0\"), x=\"nprobe\", y=\"search_time\", color=\"index\", markers=True, height=350, width=550,\n",
    "             labels=dict(search_time=\"search time (ms/query)\",), template=\"simple_white\")\n",
    "fig.update_layout(legend_title=\"\", legend=dict(yanchor=\"top\", y=1, xanchor=\"left\", x=0.3, borderwidth=1)) # traceorder=\"reversed\", \n",
    "\n",
    "# Set unique marker style for different lines (https://plotly.com/python/marker-style/)\n",
    "line_styles = [\"solid\", \"solid\"]            # ['solid', 'dot', 'dash', 'longdash', 'dashdot', 'longdashdot']\n",
    "symbols = [\"circle\", \"circle\"]  \n",
    "sizes = [8, 8]\n",
    "\n",
    "for i, fdata in enumerate(fig.data):\n",
    "    fdata.marker.symbol = symbols[i]\n",
    "    fdata.marker.size = sizes[i]\n",
    "    fdata.marker.color = colors_gorb[i]\n",
    "    fdata.line.color = colors_gorb[i]\n",
    "    fdata.line.dash = line_styles[i]    \n",
    "\n",
    "# Getting the search time for HNSW Flat and HNSW PQ to draw the horizontal lines for reference.\n",
    "hnsw_flat = df[df[\"index\"]==\"HNSW32,Flat\"][\"search_time\"].values[0]\n",
    "hnsw_pq = df[df[\"index\"]==\"HNSW32_PQ32\"][\"search_time\"].values[0]\n",
    "\n",
    "diff = abs(hnsw_flat - hnsw_pq)\n",
    "if diff < 0.023:\n",
    "    if hnsw_flat > hnsw_pq:\n",
    "        hnsw_flat_position = \"top right\"\n",
    "        hnsw_pq_position = \"bottom right\"\n",
    "    else:\n",
    "        hnsw_flat_position = \"bottom right\"\n",
    "        hnsw_pq_position = \"top right\"\n",
    "else:\n",
    "    hnsw_flat_position = \"right\"\n",
    "    hnsw_pq_position = \"right\"\n",
    "\n",
    "fig.add_hline(y=hnsw_flat, line_width=1, line_dash=\"dot\", line_color=\"#1F77B4\", opacity=1,\n",
    "              annotation_text=\"<I>HNSW32,Flat</I>\", annotation_position=hnsw_flat_position, annotation_font=dict(color=\"#1F77B4\"))\n",
    "\n",
    "fig.add_hline(y=hnsw_pq, line_width=1, line_dash=\"dot\", line_color=\"#D62728\", opacity=1,\n",
    "              annotation_text=\"<I>HNSW32_PQ32</I>\", annotation_position=hnsw_pq_position, annotation_font=dict(color=\"#D62728\"))\n",
    "\n",
    "fig.add_vline(x=128, line_width=3, line_dash=\"dot\", line_color=\"grey\", \n",
    "              annotation_text=\"nprobe=128\", annotation_position=\"top\", annotation_font=dict(color=\"darkgrey\"))\n",
    "fig.update_xaxes(linecolor='darkgrey')\n",
    "fig.update_yaxes(linecolor='darkgrey')\n",
    "fig.show()\n",
    "fig.write_html(\"nprobe_search.html\")"
   ]
  },
  {
   "cell_type": "code",
   "execution_count": 58,
   "id": "cddf871a",
   "metadata": {
    "execution": {
     "iopub.execute_input": "2022-08-24T06:42:45.837572Z",
     "iopub.status.busy": "2022-08-24T06:42:45.836816Z",
     "iopub.status.idle": "2022-08-24T06:42:45.956986Z",
     "shell.execute_reply": "2022-08-24T06:42:45.955957Z"
    },
    "papermill": {
     "duration": 0.792951,
     "end_time": "2022-08-24T06:42:45.959297",
     "exception": false,
     "start_time": "2022-08-24T06:42:45.166346",
     "status": "completed"
    },
    "tags": []
   },
   "outputs": [
    {
     "data": {
      "text/html": [
       "<div>                            <div id=\"7e31a07f-0f5c-4cad-8c4e-09d58cfcc64f\" class=\"plotly-graph-div\" style=\"height:350px; width:550px;\"></div>            <script type=\"text/javascript\">                require([\"plotly\"], function(Plotly) {                    window.PLOTLYENV=window.PLOTLYENV || {};                                    if (document.getElementById(\"7e31a07f-0f5c-4cad-8c4e-09d58cfcc64f\")) {                    Plotly.newPlot(                        \"7e31a07f-0f5c-4cad-8c4e-09d58cfcc64f\",                        [{\"hovertemplate\":\"index=IVF65536_HNSW32,PQ32<br>nprobe=%{x}<br>recall@3=%{y}<extra></extra>\",\"legendgroup\":\"IVF65536_HNSW32,PQ32\",\"line\":{\"color\":\"#2CA02C\",\"dash\":\"solid\"},\"marker\":{\"symbol\":\"circle\",\"size\":8,\"color\":\"#2CA02C\"},\"mode\":\"markers+lines\",\"name\":\"IVF65536_HNSW32,PQ32\",\"orientation\":\"v\",\"showlegend\":true,\"x\":[1,8,16,64,128,256,512,1024],\"xaxis\":\"x\",\"y\":[0.177,0.437,0.536,0.712,0.765,0.804,0.831,0.848],\"yaxis\":\"y\",\"type\":\"scatter\"},{\"hovertemplate\":\"index=IVF65536_HNSW32,Flat<br>nprobe=%{x}<br>recall@3=%{y}<extra></extra>\",\"legendgroup\":\"IVF65536_HNSW32,Flat\",\"line\":{\"color\":\"#FF7F0E\",\"dash\":\"solid\"},\"marker\":{\"symbol\":\"circle\",\"size\":8,\"color\":\"#FF7F0E\"},\"mode\":\"markers+lines\",\"name\":\"IVF65536_HNSW32,Flat\",\"orientation\":\"v\",\"showlegend\":true,\"x\":[1,8,16,64,128,256,512,1024],\"xaxis\":\"x\",\"y\":[0.181,0.455,0.564,0.768,0.84,0.904,0.944,0.975],\"yaxis\":\"y\",\"type\":\"scatter\"}],                        {\"template\":{\"data\":{\"barpolar\":[{\"marker\":{\"line\":{\"color\":\"white\",\"width\":0.5},\"pattern\":{\"fillmode\":\"overlay\",\"size\":10,\"solidity\":0.2}},\"type\":\"barpolar\"}],\"bar\":[{\"error_x\":{\"color\":\"rgb(36,36,36)\"},\"error_y\":{\"color\":\"rgb(36,36,36)\"},\"marker\":{\"line\":{\"color\":\"white\",\"width\":0.5},\"pattern\":{\"fillmode\":\"overlay\",\"size\":10,\"solidity\":0.2}},\"type\":\"bar\"}],\"carpet\":[{\"aaxis\":{\"endlinecolor\":\"rgb(36,36,36)\",\"gridcolor\":\"white\",\"linecolor\":\"white\",\"minorgridcolor\":\"white\",\"startlinecolor\":\"rgb(36,36,36)\"},\"baxis\":{\"endlinecolor\":\"rgb(36,36,36)\",\"gridcolor\":\"white\",\"linecolor\":\"white\",\"minorgridcolor\":\"white\",\"startlinecolor\":\"rgb(36,36,36)\"},\"type\":\"carpet\"}],\"choropleth\":[{\"colorbar\":{\"outlinewidth\":1,\"tickcolor\":\"rgb(36,36,36)\",\"ticks\":\"outside\"},\"type\":\"choropleth\"}],\"contourcarpet\":[{\"colorbar\":{\"outlinewidth\":1,\"tickcolor\":\"rgb(36,36,36)\",\"ticks\":\"outside\"},\"type\":\"contourcarpet\"}],\"contour\":[{\"colorbar\":{\"outlinewidth\":1,\"tickcolor\":\"rgb(36,36,36)\",\"ticks\":\"outside\"},\"colorscale\":[[0.0,\"#440154\"],[0.1111111111111111,\"#482878\"],[0.2222222222222222,\"#3e4989\"],[0.3333333333333333,\"#31688e\"],[0.4444444444444444,\"#26828e\"],[0.5555555555555556,\"#1f9e89\"],[0.6666666666666666,\"#35b779\"],[0.7777777777777778,\"#6ece58\"],[0.8888888888888888,\"#b5de2b\"],[1.0,\"#fde725\"]],\"type\":\"contour\"}],\"heatmapgl\":[{\"colorbar\":{\"outlinewidth\":1,\"tickcolor\":\"rgb(36,36,36)\",\"ticks\":\"outside\"},\"colorscale\":[[0.0,\"#440154\"],[0.1111111111111111,\"#482878\"],[0.2222222222222222,\"#3e4989\"],[0.3333333333333333,\"#31688e\"],[0.4444444444444444,\"#26828e\"],[0.5555555555555556,\"#1f9e89\"],[0.6666666666666666,\"#35b779\"],[0.7777777777777778,\"#6ece58\"],[0.8888888888888888,\"#b5de2b\"],[1.0,\"#fde725\"]],\"type\":\"heatmapgl\"}],\"heatmap\":[{\"colorbar\":{\"outlinewidth\":1,\"tickcolor\":\"rgb(36,36,36)\",\"ticks\":\"outside\"},\"colorscale\":[[0.0,\"#440154\"],[0.1111111111111111,\"#482878\"],[0.2222222222222222,\"#3e4989\"],[0.3333333333333333,\"#31688e\"],[0.4444444444444444,\"#26828e\"],[0.5555555555555556,\"#1f9e89\"],[0.6666666666666666,\"#35b779\"],[0.7777777777777778,\"#6ece58\"],[0.8888888888888888,\"#b5de2b\"],[1.0,\"#fde725\"]],\"type\":\"heatmap\"}],\"histogram2dcontour\":[{\"colorbar\":{\"outlinewidth\":1,\"tickcolor\":\"rgb(36,36,36)\",\"ticks\":\"outside\"},\"colorscale\":[[0.0,\"#440154\"],[0.1111111111111111,\"#482878\"],[0.2222222222222222,\"#3e4989\"],[0.3333333333333333,\"#31688e\"],[0.4444444444444444,\"#26828e\"],[0.5555555555555556,\"#1f9e89\"],[0.6666666666666666,\"#35b779\"],[0.7777777777777778,\"#6ece58\"],[0.8888888888888888,\"#b5de2b\"],[1.0,\"#fde725\"]],\"type\":\"histogram2dcontour\"}],\"histogram2d\":[{\"colorbar\":{\"outlinewidth\":1,\"tickcolor\":\"rgb(36,36,36)\",\"ticks\":\"outside\"},\"colorscale\":[[0.0,\"#440154\"],[0.1111111111111111,\"#482878\"],[0.2222222222222222,\"#3e4989\"],[0.3333333333333333,\"#31688e\"],[0.4444444444444444,\"#26828e\"],[0.5555555555555556,\"#1f9e89\"],[0.6666666666666666,\"#35b779\"],[0.7777777777777778,\"#6ece58\"],[0.8888888888888888,\"#b5de2b\"],[1.0,\"#fde725\"]],\"type\":\"histogram2d\"}],\"histogram\":[{\"marker\":{\"line\":{\"color\":\"white\",\"width\":0.6}},\"type\":\"histogram\"}],\"mesh3d\":[{\"colorbar\":{\"outlinewidth\":1,\"tickcolor\":\"rgb(36,36,36)\",\"ticks\":\"outside\"},\"type\":\"mesh3d\"}],\"parcoords\":[{\"line\":{\"colorbar\":{\"outlinewidth\":1,\"tickcolor\":\"rgb(36,36,36)\",\"ticks\":\"outside\"}},\"type\":\"parcoords\"}],\"pie\":[{\"automargin\":true,\"type\":\"pie\"}],\"scatter3d\":[{\"line\":{\"colorbar\":{\"outlinewidth\":1,\"tickcolor\":\"rgb(36,36,36)\",\"ticks\":\"outside\"}},\"marker\":{\"colorbar\":{\"outlinewidth\":1,\"tickcolor\":\"rgb(36,36,36)\",\"ticks\":\"outside\"}},\"type\":\"scatter3d\"}],\"scattercarpet\":[{\"marker\":{\"colorbar\":{\"outlinewidth\":1,\"tickcolor\":\"rgb(36,36,36)\",\"ticks\":\"outside\"}},\"type\":\"scattercarpet\"}],\"scattergeo\":[{\"marker\":{\"colorbar\":{\"outlinewidth\":1,\"tickcolor\":\"rgb(36,36,36)\",\"ticks\":\"outside\"}},\"type\":\"scattergeo\"}],\"scattergl\":[{\"marker\":{\"colorbar\":{\"outlinewidth\":1,\"tickcolor\":\"rgb(36,36,36)\",\"ticks\":\"outside\"}},\"type\":\"scattergl\"}],\"scattermapbox\":[{\"marker\":{\"colorbar\":{\"outlinewidth\":1,\"tickcolor\":\"rgb(36,36,36)\",\"ticks\":\"outside\"}},\"type\":\"scattermapbox\"}],\"scatterpolargl\":[{\"marker\":{\"colorbar\":{\"outlinewidth\":1,\"tickcolor\":\"rgb(36,36,36)\",\"ticks\":\"outside\"}},\"type\":\"scatterpolargl\"}],\"scatterpolar\":[{\"marker\":{\"colorbar\":{\"outlinewidth\":1,\"tickcolor\":\"rgb(36,36,36)\",\"ticks\":\"outside\"}},\"type\":\"scatterpolar\"}],\"scatter\":[{\"fillpattern\":{\"fillmode\":\"overlay\",\"size\":10,\"solidity\":0.2},\"type\":\"scatter\"}],\"scatterternary\":[{\"marker\":{\"colorbar\":{\"outlinewidth\":1,\"tickcolor\":\"rgb(36,36,36)\",\"ticks\":\"outside\"}},\"type\":\"scatterternary\"}],\"surface\":[{\"colorbar\":{\"outlinewidth\":1,\"tickcolor\":\"rgb(36,36,36)\",\"ticks\":\"outside\"},\"colorscale\":[[0.0,\"#440154\"],[0.1111111111111111,\"#482878\"],[0.2222222222222222,\"#3e4989\"],[0.3333333333333333,\"#31688e\"],[0.4444444444444444,\"#26828e\"],[0.5555555555555556,\"#1f9e89\"],[0.6666666666666666,\"#35b779\"],[0.7777777777777778,\"#6ece58\"],[0.8888888888888888,\"#b5de2b\"],[1.0,\"#fde725\"]],\"type\":\"surface\"}],\"table\":[{\"cells\":{\"fill\":{\"color\":\"rgb(237,237,237)\"},\"line\":{\"color\":\"white\"}},\"header\":{\"fill\":{\"color\":\"rgb(217,217,217)\"},\"line\":{\"color\":\"white\"}},\"type\":\"table\"}]},\"layout\":{\"annotationdefaults\":{\"arrowhead\":0,\"arrowwidth\":1},\"autotypenumbers\":\"strict\",\"coloraxis\":{\"colorbar\":{\"outlinewidth\":1,\"tickcolor\":\"rgb(36,36,36)\",\"ticks\":\"outside\"}},\"colorscale\":{\"diverging\":[[0.0,\"rgb(103,0,31)\"],[0.1,\"rgb(178,24,43)\"],[0.2,\"rgb(214,96,77)\"],[0.3,\"rgb(244,165,130)\"],[0.4,\"rgb(253,219,199)\"],[0.5,\"rgb(247,247,247)\"],[0.6,\"rgb(209,229,240)\"],[0.7,\"rgb(146,197,222)\"],[0.8,\"rgb(67,147,195)\"],[0.9,\"rgb(33,102,172)\"],[1.0,\"rgb(5,48,97)\"]],\"sequential\":[[0.0,\"#440154\"],[0.1111111111111111,\"#482878\"],[0.2222222222222222,\"#3e4989\"],[0.3333333333333333,\"#31688e\"],[0.4444444444444444,\"#26828e\"],[0.5555555555555556,\"#1f9e89\"],[0.6666666666666666,\"#35b779\"],[0.7777777777777778,\"#6ece58\"],[0.8888888888888888,\"#b5de2b\"],[1.0,\"#fde725\"]],\"sequentialminus\":[[0.0,\"#440154\"],[0.1111111111111111,\"#482878\"],[0.2222222222222222,\"#3e4989\"],[0.3333333333333333,\"#31688e\"],[0.4444444444444444,\"#26828e\"],[0.5555555555555556,\"#1f9e89\"],[0.6666666666666666,\"#35b779\"],[0.7777777777777778,\"#6ece58\"],[0.8888888888888888,\"#b5de2b\"],[1.0,\"#fde725\"]]},\"colorway\":[\"#1F77B4\",\"#FF7F0E\",\"#2CA02C\",\"#D62728\",\"#9467BD\",\"#8C564B\",\"#E377C2\",\"#7F7F7F\",\"#BCBD22\",\"#17BECF\"],\"font\":{\"color\":\"rgb(36,36,36)\"},\"geo\":{\"bgcolor\":\"white\",\"lakecolor\":\"white\",\"landcolor\":\"white\",\"showlakes\":true,\"showland\":true,\"subunitcolor\":\"white\"},\"hoverlabel\":{\"align\":\"left\"},\"hovermode\":\"closest\",\"mapbox\":{\"style\":\"light\"},\"paper_bgcolor\":\"white\",\"plot_bgcolor\":\"white\",\"polar\":{\"angularaxis\":{\"gridcolor\":\"rgb(232,232,232)\",\"linecolor\":\"rgb(36,36,36)\",\"showgrid\":false,\"showline\":true,\"ticks\":\"outside\"},\"bgcolor\":\"white\",\"radialaxis\":{\"gridcolor\":\"rgb(232,232,232)\",\"linecolor\":\"rgb(36,36,36)\",\"showgrid\":false,\"showline\":true,\"ticks\":\"outside\"}},\"scene\":{\"xaxis\":{\"backgroundcolor\":\"white\",\"gridcolor\":\"rgb(232,232,232)\",\"gridwidth\":2,\"linecolor\":\"rgb(36,36,36)\",\"showbackground\":true,\"showgrid\":false,\"showline\":true,\"ticks\":\"outside\",\"zeroline\":false,\"zerolinecolor\":\"rgb(36,36,36)\"},\"yaxis\":{\"backgroundcolor\":\"white\",\"gridcolor\":\"rgb(232,232,232)\",\"gridwidth\":2,\"linecolor\":\"rgb(36,36,36)\",\"showbackground\":true,\"showgrid\":false,\"showline\":true,\"ticks\":\"outside\",\"zeroline\":false,\"zerolinecolor\":\"rgb(36,36,36)\"},\"zaxis\":{\"backgroundcolor\":\"white\",\"gridcolor\":\"rgb(232,232,232)\",\"gridwidth\":2,\"linecolor\":\"rgb(36,36,36)\",\"showbackground\":true,\"showgrid\":false,\"showline\":true,\"ticks\":\"outside\",\"zeroline\":false,\"zerolinecolor\":\"rgb(36,36,36)\"}},\"shapedefaults\":{\"fillcolor\":\"black\",\"line\":{\"width\":0},\"opacity\":0.3},\"ternary\":{\"aaxis\":{\"gridcolor\":\"rgb(232,232,232)\",\"linecolor\":\"rgb(36,36,36)\",\"showgrid\":false,\"showline\":true,\"ticks\":\"outside\"},\"baxis\":{\"gridcolor\":\"rgb(232,232,232)\",\"linecolor\":\"rgb(36,36,36)\",\"showgrid\":false,\"showline\":true,\"ticks\":\"outside\"},\"bgcolor\":\"white\",\"caxis\":{\"gridcolor\":\"rgb(232,232,232)\",\"linecolor\":\"rgb(36,36,36)\",\"showgrid\":false,\"showline\":true,\"ticks\":\"outside\"}},\"title\":{\"x\":0.05},\"xaxis\":{\"automargin\":true,\"gridcolor\":\"rgb(232,232,232)\",\"linecolor\":\"rgb(36,36,36)\",\"showgrid\":false,\"showline\":true,\"ticks\":\"outside\",\"title\":{\"standoff\":15},\"zeroline\":false,\"zerolinecolor\":\"rgb(36,36,36)\"},\"yaxis\":{\"automargin\":true,\"gridcolor\":\"rgb(232,232,232)\",\"linecolor\":\"rgb(36,36,36)\",\"showgrid\":false,\"showline\":true,\"ticks\":\"outside\",\"title\":{\"standoff\":15},\"zeroline\":false,\"zerolinecolor\":\"rgb(36,36,36)\"}}},\"xaxis\":{\"anchor\":\"y\",\"domain\":[0.0,1.0],\"title\":{\"text\":\"nprobe\"},\"linecolor\":\"darkgrey\"},\"yaxis\":{\"anchor\":\"x\",\"domain\":[0.0,1.0],\"title\":{\"text\":\"1-recall@3\"},\"linecolor\":\"darkgrey\"},\"legend\":{\"title\":{\"text\":\"\"},\"tracegroupgap\":0,\"yanchor\":\"bottom\",\"y\":0.1,\"xanchor\":\"right\",\"x\":0.9,\"borderwidth\":1,\"traceorder\":\"reversed\"},\"margin\":{\"t\":60},\"height\":350,\"width\":550,\"shapes\":[{\"line\":{\"color\":\"grey\",\"dash\":\"dot\",\"width\":3},\"type\":\"line\",\"x0\":128,\"x1\":128,\"xref\":\"x\",\"y0\":0,\"y1\":1,\"yref\":\"y domain\"},{\"line\":{\"color\":\"#1F77B4\",\"dash\":\"dot\",\"width\":1},\"opacity\":1,\"type\":\"line\",\"x0\":0,\"x1\":1,\"xref\":\"x domain\",\"y0\":0.85,\"y1\":0.85,\"yref\":\"y\"},{\"line\":{\"color\":\"#D62728\",\"dash\":\"dot\",\"width\":1},\"opacity\":1,\"type\":\"line\",\"x0\":0,\"x1\":1,\"xref\":\"x domain\",\"y0\":0.789,\"y1\":0.789,\"yref\":\"y\"}],\"annotations\":[{\"font\":{\"color\":\"darkgrey\"},\"showarrow\":false,\"text\":\"nprobe=128\",\"x\":128,\"xanchor\":\"center\",\"xref\":\"x\",\"y\":1,\"yanchor\":\"bottom\",\"yref\":\"y domain\"},{\"font\":{\"color\":\"#1F77B4\"},\"showarrow\":false,\"text\":\"<I>HNSW32,Flat</I>\",\"x\":1,\"xanchor\":\"left\",\"xref\":\"x domain\",\"y\":0.85,\"yanchor\":\"middle\",\"yref\":\"y\"},{\"font\":{\"color\":\"#D62728\"},\"showarrow\":false,\"text\":\"<I>HNSW32_PQ32</I>\",\"x\":1,\"xanchor\":\"left\",\"xref\":\"x domain\",\"y\":0.789,\"yanchor\":\"middle\",\"yref\":\"y\"}]},                        {\"responsive\": true}                    ).then(function(){\n",
       "                            \n",
       "var gd = document.getElementById('7e31a07f-0f5c-4cad-8c4e-09d58cfcc64f');\n",
       "var x = new MutationObserver(function (mutations, observer) {{\n",
       "        var display = window.getComputedStyle(gd).display;\n",
       "        if (!display || display === 'none') {{\n",
       "            console.log([gd, 'removed!']);\n",
       "            Plotly.purge(gd);\n",
       "            observer.disconnect();\n",
       "        }}\n",
       "}});\n",
       "\n",
       "// Listen for the removal of the full notebook cells\n",
       "var notebookContainer = gd.closest('#notebook-container');\n",
       "if (notebookContainer) {{\n",
       "    x.observe(notebookContainer, {childList: true});\n",
       "}}\n",
       "\n",
       "// Listen for the clearing of the current output cell\n",
       "var outputEl = gd.closest('.output');\n",
       "if (outputEl) {{\n",
       "    x.observe(outputEl, {childList: true});\n",
       "}}\n",
       "\n",
       "                        })                };                });            </script>        </div>"
      ]
     },
     "metadata": {},
     "output_type": "display_data"
    }
   ],
   "source": [
    "fig = px.line(df.query(\"nprobe>0\"), x=\"nprobe\", y=\"recall@3\", color=\"index\", markers=True, height=350, width=550, template=\"simple_white\")\n",
    "fig.update_layout(yaxis_title_text=\"1-recall@3\",\n",
    "                  legend_title=\"\", legend=dict(yanchor=\"bottom\", y=0.1, xanchor=\"right\", x=0.9, borderwidth=1, traceorder=\"reversed\")) # traceorder=\"reversed\", \n",
    "\n",
    "# Set unique marker style for different lines (https://plotly.com/python/marker-style/)\n",
    "line_styles = [\"solid\", \"solid\"]            # ['solid', 'dot', 'dash', 'longdash', 'dashdot', 'longdashdot']\n",
    "symbols = [\"circle\", \"circle\"]  \n",
    "sizes = [8, 8]\n",
    "\n",
    "for i, fdata in enumerate(fig.data):\n",
    "    fdata.marker.symbol = symbols[i]\n",
    "    fdata.marker.size = sizes[i]\n",
    "    fdata.marker.color = colors_gorb[i]\n",
    "    fdata.line.color = colors_gorb[i]\n",
    "    fdata.line.dash = line_styles[i]\n",
    "        \n",
    "fig.add_vline(x=128, line_width=3, line_dash=\"dot\", line_color=\"grey\", \n",
    "              annotation_text=\"nprobe=128\", annotation_position=\"top\", annotation_font=dict(color=\"darkgrey\"))\n",
    "\n",
    "fig.add_hline(y=df[df[\"index\"]==\"HNSW32,Flat\"][\"recall@3\"].values[0], line_width=1, line_dash=\"dot\", line_color=\"#1F77B4\", opacity=1,\n",
    "              annotation_text=\"<I>HNSW32,Flat</I>\", annotation_position=\"right\", annotation_font=dict(color=\"#1F77B4\"))\n",
    "\n",
    "fig.add_hline(y=df[df[\"index\"]==\"HNSW32_PQ32\"][\"recall@3\"].values[0], line_width=1, line_dash=\"dot\", line_color=\"#D62728\", opacity=1,\n",
    "              annotation_text=\"<I>HNSW32_PQ32</I>\", annotation_position=\"right\", annotation_font=dict(color=\"#D62728\"))\n",
    "fig.update_xaxes(linecolor='darkgrey')\n",
    "fig.update_yaxes(linecolor='darkgrey')\n",
    "fig.show()\n",
    "fig.write_html(\"nprobe_recall_3.html\")"
   ]
  },
  {
   "cell_type": "code",
   "execution_count": 59,
   "id": "bb338424",
   "metadata": {
    "execution": {
     "iopub.execute_input": "2022-08-24T06:42:47.454483Z",
     "iopub.status.busy": "2022-08-24T06:42:47.453957Z",
     "iopub.status.idle": "2022-08-24T06:42:47.477247Z",
     "shell.execute_reply": "2022-08-24T06:42:47.476175Z"
    },
    "papermill": {
     "duration": 0.895769,
     "end_time": "2022-08-24T06:42:47.479617",
     "exception": false,
     "start_time": "2022-08-24T06:42:46.583848",
     "status": "completed"
    },
    "tags": []
   },
   "outputs": [
    {
     "data": {
      "text/html": [
       "<div>\n",
       "<style scoped>\n",
       "    .dataframe tbody tr th:only-of-type {\n",
       "        vertical-align: middle;\n",
       "    }\n",
       "\n",
       "    .dataframe tbody tr th {\n",
       "        vertical-align: top;\n",
       "    }\n",
       "\n",
       "    .dataframe thead th {\n",
       "        text-align: right;\n",
       "    }\n",
       "</style>\n",
       "<table border=\"1\" class=\"dataframe\">\n",
       "  <thead>\n",
       "    <tr style=\"text-align: right;\">\n",
       "      <th></th>\n",
       "      <th>index</th>\n",
       "      <th>M</th>\n",
       "      <th>nprobe</th>\n",
       "      <th>nsegment</th>\n",
       "      <th>recall@1</th>\n",
       "      <th>recall@3</th>\n",
       "      <th>recall@5</th>\n",
       "      <th>train_time</th>\n",
       "      <th>index_time</th>\n",
       "      <th>search_time</th>\n",
       "      <th>index_size</th>\n",
       "    </tr>\n",
       "  </thead>\n",
       "  <tbody>\n",
       "    <tr>\n",
       "      <th>4</th>\n",
       "      <td>IVF65536_HNSW32,PQ32</td>\n",
       "      <td>32</td>\n",
       "      <td>128</td>\n",
       "      <td>32</td>\n",
       "      <td>0.547</td>\n",
       "      <td>0.765</td>\n",
       "      <td>0.806</td>\n",
       "      <td>144.403778</td>\n",
       "      <td>23.839422</td>\n",
       "      <td>0.033185</td>\n",
       "      <td>154.209972</td>\n",
       "    </tr>\n",
       "    <tr>\n",
       "      <th>12</th>\n",
       "      <td>IVF65536_HNSW32,Flat</td>\n",
       "      <td>32</td>\n",
       "      <td>128</td>\n",
       "      <td>0</td>\n",
       "      <td>0.840</td>\n",
       "      <td>0.840</td>\n",
       "      <td>0.840</td>\n",
       "      <td>84.892702</td>\n",
       "      <td>18.270943</td>\n",
       "      <td>0.055386</td>\n",
       "      <td>1594.078859</td>\n",
       "    </tr>\n",
       "    <tr>\n",
       "      <th>16</th>\n",
       "      <td>HNSW32,Flat</td>\n",
       "      <td>32</td>\n",
       "      <td>0</td>\n",
       "      <td>0</td>\n",
       "      <td>0.850</td>\n",
       "      <td>0.850</td>\n",
       "      <td>0.850</td>\n",
       "      <td>None</td>\n",
       "      <td>828.196047</td>\n",
       "      <td>0.132884</td>\n",
       "      <td>2352.424546</td>\n",
       "    </tr>\n",
       "    <tr>\n",
       "      <th>17</th>\n",
       "      <td>HNSW32_PQ32</td>\n",
       "      <td>32</td>\n",
       "      <td>0</td>\n",
       "      <td>32</td>\n",
       "      <td>0.629</td>\n",
       "      <td>0.789</td>\n",
       "      <td>0.810</td>\n",
       "      <td>62.063184</td>\n",
       "      <td>618.958291</td>\n",
       "      <td>0.115766</td>\n",
       "      <td>912.555659</td>\n",
       "    </tr>\n",
       "  </tbody>\n",
       "</table>\n",
       "</div>"
      ],
      "text/plain": [
       "                   index   M  nprobe  nsegment  recall@1  recall@3  recall@5  \\\n",
       "4   IVF65536_HNSW32,PQ32  32     128        32     0.547     0.765     0.806   \n",
       "12  IVF65536_HNSW32,Flat  32     128         0     0.840     0.840     0.840   \n",
       "16           HNSW32,Flat  32       0         0     0.850     0.850     0.850   \n",
       "17           HNSW32_PQ32  32       0        32     0.629     0.789     0.810   \n",
       "\n",
       "    train_time  index_time  search_time   index_size  \n",
       "4   144.403778   23.839422     0.033185   154.209972  \n",
       "12   84.892702   18.270943     0.055386  1594.078859  \n",
       "16        None  828.196047     0.132884  2352.424546  \n",
       "17   62.063184  618.958291     0.115766   912.555659  "
      ]
     },
     "execution_count": 59,
     "metadata": {},
     "output_type": "execute_result"
    }
   ],
   "source": [
    "df128 = df[(df[\"nprobe\"]==128) | (df[\"index\"]==\"HNSW32,Flat\") | (df[\"index\"]==\"HNSW32_PQ32\")].copy()\n",
    "df128"
   ]
  },
  {
   "cell_type": "code",
   "execution_count": 60,
   "id": "8f0bc499",
   "metadata": {
    "execution": {
     "iopub.execute_input": "2022-08-24T06:42:48.778241Z",
     "iopub.status.busy": "2022-08-24T06:42:48.777845Z",
     "iopub.status.idle": "2022-08-24T06:42:48.877372Z",
     "shell.execute_reply": "2022-08-24T06:42:48.876438Z"
    },
    "papermill": {
     "duration": 0.719029,
     "end_time": "2022-08-24T06:42:48.879500",
     "exception": false,
     "start_time": "2022-08-24T06:42:48.160471",
     "status": "completed"
    },
    "tags": []
   },
   "outputs": [
    {
     "data": {
      "text/html": [
       "<div>                            <div id=\"77e0633a-30fe-47ea-8203-2045b719fc7a\" class=\"plotly-graph-div\" style=\"height:400px; width:900px;\"></div>            <script type=\"text/javascript\">                require([\"plotly\"], function(Plotly) {                    window.PLOTLYENV=window.PLOTLYENV || {};                                    if (document.getElementById(\"77e0633a-30fe-47ea-8203-2045b719fc7a\")) {                    Plotly.newPlot(                        \"77e0633a-30fe-47ea-8203-2045b719fc7a\",                        [{\"marker\":{\"color\":[\"#2CA02C\",\"#FF7F0E\",\"#D62728\",\"#1F77B4\"]},\"name\":\"search time\",\"x\":[\"IVF65536_HNSW32,PQ32\",\"IVF65536_HNSW32,Flat\",\"HNSW32,Flat\",\"HNSW32_PQ32\"],\"y\":[0.03318452835083008,0.055385589599609375,0.13288354873657227,0.11576581001281738],\"type\":\"bar\",\"xaxis\":\"x\",\"yaxis\":\"y\"},{\"marker\":{\"color\":[\"#2CA02C\",\"#FF7F0E\",\"#D62728\",\"#1F77B4\"]},\"name\":\"recall@1\",\"x\":[\"IVF65536_HNSW32,PQ32\",\"IVF65536_HNSW32,Flat\",\"HNSW32,Flat\",\"HNSW32_PQ32\"],\"y\":[0.547,0.84,0.85,0.629],\"type\":\"bar\",\"xaxis\":\"x2\",\"yaxis\":\"y2\"},{\"marker\":{\"color\":[\"#2CA02C\",\"#FF7F0E\",\"#D62728\",\"#1F77B4\"]},\"name\":\"recall@3\",\"x\":[\"IVF65536_HNSW32,PQ32\",\"IVF65536_HNSW32,Flat\",\"HNSW32,Flat\",\"HNSW32_PQ32\"],\"y\":[0.765,0.84,0.85,0.789],\"type\":\"bar\",\"xaxis\":\"x3\",\"yaxis\":\"y3\"},{\"marker\":{\"color\":[\"#2CA02C\",\"#FF7F0E\",\"#D62728\",\"#1F77B4\"]},\"name\":\"recall@5\",\"x\":[\"IVF65536_HNSW32,PQ32\",\"IVF65536_HNSW32,Flat\",\"HNSW32,Flat\",\"HNSW32_PQ32\"],\"y\":[0.806,0.84,0.85,0.81],\"type\":\"bar\",\"xaxis\":\"x4\",\"yaxis\":\"y4\"}],                        {\"template\":{\"data\":{\"barpolar\":[{\"marker\":{\"line\":{\"color\":\"white\",\"width\":0.5},\"pattern\":{\"fillmode\":\"overlay\",\"size\":10,\"solidity\":0.2}},\"type\":\"barpolar\"}],\"bar\":[{\"error_x\":{\"color\":\"rgb(36,36,36)\"},\"error_y\":{\"color\":\"rgb(36,36,36)\"},\"marker\":{\"line\":{\"color\":\"white\",\"width\":0.5},\"pattern\":{\"fillmode\":\"overlay\",\"size\":10,\"solidity\":0.2}},\"type\":\"bar\"}],\"carpet\":[{\"aaxis\":{\"endlinecolor\":\"rgb(36,36,36)\",\"gridcolor\":\"white\",\"linecolor\":\"white\",\"minorgridcolor\":\"white\",\"startlinecolor\":\"rgb(36,36,36)\"},\"baxis\":{\"endlinecolor\":\"rgb(36,36,36)\",\"gridcolor\":\"white\",\"linecolor\":\"white\",\"minorgridcolor\":\"white\",\"startlinecolor\":\"rgb(36,36,36)\"},\"type\":\"carpet\"}],\"choropleth\":[{\"colorbar\":{\"outlinewidth\":1,\"tickcolor\":\"rgb(36,36,36)\",\"ticks\":\"outside\"},\"type\":\"choropleth\"}],\"contourcarpet\":[{\"colorbar\":{\"outlinewidth\":1,\"tickcolor\":\"rgb(36,36,36)\",\"ticks\":\"outside\"},\"type\":\"contourcarpet\"}],\"contour\":[{\"colorbar\":{\"outlinewidth\":1,\"tickcolor\":\"rgb(36,36,36)\",\"ticks\":\"outside\"},\"colorscale\":[[0.0,\"#440154\"],[0.1111111111111111,\"#482878\"],[0.2222222222222222,\"#3e4989\"],[0.3333333333333333,\"#31688e\"],[0.4444444444444444,\"#26828e\"],[0.5555555555555556,\"#1f9e89\"],[0.6666666666666666,\"#35b779\"],[0.7777777777777778,\"#6ece58\"],[0.8888888888888888,\"#b5de2b\"],[1.0,\"#fde725\"]],\"type\":\"contour\"}],\"heatmapgl\":[{\"colorbar\":{\"outlinewidth\":1,\"tickcolor\":\"rgb(36,36,36)\",\"ticks\":\"outside\"},\"colorscale\":[[0.0,\"#440154\"],[0.1111111111111111,\"#482878\"],[0.2222222222222222,\"#3e4989\"],[0.3333333333333333,\"#31688e\"],[0.4444444444444444,\"#26828e\"],[0.5555555555555556,\"#1f9e89\"],[0.6666666666666666,\"#35b779\"],[0.7777777777777778,\"#6ece58\"],[0.8888888888888888,\"#b5de2b\"],[1.0,\"#fde725\"]],\"type\":\"heatmapgl\"}],\"heatmap\":[{\"colorbar\":{\"outlinewidth\":1,\"tickcolor\":\"rgb(36,36,36)\",\"ticks\":\"outside\"},\"colorscale\":[[0.0,\"#440154\"],[0.1111111111111111,\"#482878\"],[0.2222222222222222,\"#3e4989\"],[0.3333333333333333,\"#31688e\"],[0.4444444444444444,\"#26828e\"],[0.5555555555555556,\"#1f9e89\"],[0.6666666666666666,\"#35b779\"],[0.7777777777777778,\"#6ece58\"],[0.8888888888888888,\"#b5de2b\"],[1.0,\"#fde725\"]],\"type\":\"heatmap\"}],\"histogram2dcontour\":[{\"colorbar\":{\"outlinewidth\":1,\"tickcolor\":\"rgb(36,36,36)\",\"ticks\":\"outside\"},\"colorscale\":[[0.0,\"#440154\"],[0.1111111111111111,\"#482878\"],[0.2222222222222222,\"#3e4989\"],[0.3333333333333333,\"#31688e\"],[0.4444444444444444,\"#26828e\"],[0.5555555555555556,\"#1f9e89\"],[0.6666666666666666,\"#35b779\"],[0.7777777777777778,\"#6ece58\"],[0.8888888888888888,\"#b5de2b\"],[1.0,\"#fde725\"]],\"type\":\"histogram2dcontour\"}],\"histogram2d\":[{\"colorbar\":{\"outlinewidth\":1,\"tickcolor\":\"rgb(36,36,36)\",\"ticks\":\"outside\"},\"colorscale\":[[0.0,\"#440154\"],[0.1111111111111111,\"#482878\"],[0.2222222222222222,\"#3e4989\"],[0.3333333333333333,\"#31688e\"],[0.4444444444444444,\"#26828e\"],[0.5555555555555556,\"#1f9e89\"],[0.6666666666666666,\"#35b779\"],[0.7777777777777778,\"#6ece58\"],[0.8888888888888888,\"#b5de2b\"],[1.0,\"#fde725\"]],\"type\":\"histogram2d\"}],\"histogram\":[{\"marker\":{\"line\":{\"color\":\"white\",\"width\":0.6}},\"type\":\"histogram\"}],\"mesh3d\":[{\"colorbar\":{\"outlinewidth\":1,\"tickcolor\":\"rgb(36,36,36)\",\"ticks\":\"outside\"},\"type\":\"mesh3d\"}],\"parcoords\":[{\"line\":{\"colorbar\":{\"outlinewidth\":1,\"tickcolor\":\"rgb(36,36,36)\",\"ticks\":\"outside\"}},\"type\":\"parcoords\"}],\"pie\":[{\"automargin\":true,\"type\":\"pie\"}],\"scatter3d\":[{\"line\":{\"colorbar\":{\"outlinewidth\":1,\"tickcolor\":\"rgb(36,36,36)\",\"ticks\":\"outside\"}},\"marker\":{\"colorbar\":{\"outlinewidth\":1,\"tickcolor\":\"rgb(36,36,36)\",\"ticks\":\"outside\"}},\"type\":\"scatter3d\"}],\"scattercarpet\":[{\"marker\":{\"colorbar\":{\"outlinewidth\":1,\"tickcolor\":\"rgb(36,36,36)\",\"ticks\":\"outside\"}},\"type\":\"scattercarpet\"}],\"scattergeo\":[{\"marker\":{\"colorbar\":{\"outlinewidth\":1,\"tickcolor\":\"rgb(36,36,36)\",\"ticks\":\"outside\"}},\"type\":\"scattergeo\"}],\"scattergl\":[{\"marker\":{\"colorbar\":{\"outlinewidth\":1,\"tickcolor\":\"rgb(36,36,36)\",\"ticks\":\"outside\"}},\"type\":\"scattergl\"}],\"scattermapbox\":[{\"marker\":{\"colorbar\":{\"outlinewidth\":1,\"tickcolor\":\"rgb(36,36,36)\",\"ticks\":\"outside\"}},\"type\":\"scattermapbox\"}],\"scatterpolargl\":[{\"marker\":{\"colorbar\":{\"outlinewidth\":1,\"tickcolor\":\"rgb(36,36,36)\",\"ticks\":\"outside\"}},\"type\":\"scatterpolargl\"}],\"scatterpolar\":[{\"marker\":{\"colorbar\":{\"outlinewidth\":1,\"tickcolor\":\"rgb(36,36,36)\",\"ticks\":\"outside\"}},\"type\":\"scatterpolar\"}],\"scatter\":[{\"fillpattern\":{\"fillmode\":\"overlay\",\"size\":10,\"solidity\":0.2},\"type\":\"scatter\"}],\"scatterternary\":[{\"marker\":{\"colorbar\":{\"outlinewidth\":1,\"tickcolor\":\"rgb(36,36,36)\",\"ticks\":\"outside\"}},\"type\":\"scatterternary\"}],\"surface\":[{\"colorbar\":{\"outlinewidth\":1,\"tickcolor\":\"rgb(36,36,36)\",\"ticks\":\"outside\"},\"colorscale\":[[0.0,\"#440154\"],[0.1111111111111111,\"#482878\"],[0.2222222222222222,\"#3e4989\"],[0.3333333333333333,\"#31688e\"],[0.4444444444444444,\"#26828e\"],[0.5555555555555556,\"#1f9e89\"],[0.6666666666666666,\"#35b779\"],[0.7777777777777778,\"#6ece58\"],[0.8888888888888888,\"#b5de2b\"],[1.0,\"#fde725\"]],\"type\":\"surface\"}],\"table\":[{\"cells\":{\"fill\":{\"color\":\"rgb(237,237,237)\"},\"line\":{\"color\":\"white\"}},\"header\":{\"fill\":{\"color\":\"rgb(217,217,217)\"},\"line\":{\"color\":\"white\"}},\"type\":\"table\"}]},\"layout\":{\"annotationdefaults\":{\"arrowhead\":0,\"arrowwidth\":1},\"autotypenumbers\":\"strict\",\"coloraxis\":{\"colorbar\":{\"outlinewidth\":1,\"tickcolor\":\"rgb(36,36,36)\",\"ticks\":\"outside\"}},\"colorscale\":{\"diverging\":[[0.0,\"rgb(103,0,31)\"],[0.1,\"rgb(178,24,43)\"],[0.2,\"rgb(214,96,77)\"],[0.3,\"rgb(244,165,130)\"],[0.4,\"rgb(253,219,199)\"],[0.5,\"rgb(247,247,247)\"],[0.6,\"rgb(209,229,240)\"],[0.7,\"rgb(146,197,222)\"],[0.8,\"rgb(67,147,195)\"],[0.9,\"rgb(33,102,172)\"],[1.0,\"rgb(5,48,97)\"]],\"sequential\":[[0.0,\"#440154\"],[0.1111111111111111,\"#482878\"],[0.2222222222222222,\"#3e4989\"],[0.3333333333333333,\"#31688e\"],[0.4444444444444444,\"#26828e\"],[0.5555555555555556,\"#1f9e89\"],[0.6666666666666666,\"#35b779\"],[0.7777777777777778,\"#6ece58\"],[0.8888888888888888,\"#b5de2b\"],[1.0,\"#fde725\"]],\"sequentialminus\":[[0.0,\"#440154\"],[0.1111111111111111,\"#482878\"],[0.2222222222222222,\"#3e4989\"],[0.3333333333333333,\"#31688e\"],[0.4444444444444444,\"#26828e\"],[0.5555555555555556,\"#1f9e89\"],[0.6666666666666666,\"#35b779\"],[0.7777777777777778,\"#6ece58\"],[0.8888888888888888,\"#b5de2b\"],[1.0,\"#fde725\"]]},\"colorway\":[\"#1F77B4\",\"#FF7F0E\",\"#2CA02C\",\"#D62728\",\"#9467BD\",\"#8C564B\",\"#E377C2\",\"#7F7F7F\",\"#BCBD22\",\"#17BECF\"],\"font\":{\"color\":\"rgb(36,36,36)\"},\"geo\":{\"bgcolor\":\"white\",\"lakecolor\":\"white\",\"landcolor\":\"white\",\"showlakes\":true,\"showland\":true,\"subunitcolor\":\"white\"},\"hoverlabel\":{\"align\":\"left\"},\"hovermode\":\"closest\",\"mapbox\":{\"style\":\"light\"},\"paper_bgcolor\":\"white\",\"plot_bgcolor\":\"white\",\"polar\":{\"angularaxis\":{\"gridcolor\":\"rgb(232,232,232)\",\"linecolor\":\"rgb(36,36,36)\",\"showgrid\":false,\"showline\":true,\"ticks\":\"outside\"},\"bgcolor\":\"white\",\"radialaxis\":{\"gridcolor\":\"rgb(232,232,232)\",\"linecolor\":\"rgb(36,36,36)\",\"showgrid\":false,\"showline\":true,\"ticks\":\"outside\"}},\"scene\":{\"xaxis\":{\"backgroundcolor\":\"white\",\"gridcolor\":\"rgb(232,232,232)\",\"gridwidth\":2,\"linecolor\":\"rgb(36,36,36)\",\"showbackground\":true,\"showgrid\":false,\"showline\":true,\"ticks\":\"outside\",\"zeroline\":false,\"zerolinecolor\":\"rgb(36,36,36)\"},\"yaxis\":{\"backgroundcolor\":\"white\",\"gridcolor\":\"rgb(232,232,232)\",\"gridwidth\":2,\"linecolor\":\"rgb(36,36,36)\",\"showbackground\":true,\"showgrid\":false,\"showline\":true,\"ticks\":\"outside\",\"zeroline\":false,\"zerolinecolor\":\"rgb(36,36,36)\"},\"zaxis\":{\"backgroundcolor\":\"white\",\"gridcolor\":\"rgb(232,232,232)\",\"gridwidth\":2,\"linecolor\":\"rgb(36,36,36)\",\"showbackground\":true,\"showgrid\":false,\"showline\":true,\"ticks\":\"outside\",\"zeroline\":false,\"zerolinecolor\":\"rgb(36,36,36)\"}},\"shapedefaults\":{\"fillcolor\":\"black\",\"line\":{\"width\":0},\"opacity\":0.3},\"ternary\":{\"aaxis\":{\"gridcolor\":\"rgb(232,232,232)\",\"linecolor\":\"rgb(36,36,36)\",\"showgrid\":false,\"showline\":true,\"ticks\":\"outside\"},\"baxis\":{\"gridcolor\":\"rgb(232,232,232)\",\"linecolor\":\"rgb(36,36,36)\",\"showgrid\":false,\"showline\":true,\"ticks\":\"outside\"},\"bgcolor\":\"white\",\"caxis\":{\"gridcolor\":\"rgb(232,232,232)\",\"linecolor\":\"rgb(36,36,36)\",\"showgrid\":false,\"showline\":true,\"ticks\":\"outside\"}},\"title\":{\"x\":0.05},\"xaxis\":{\"automargin\":true,\"gridcolor\":\"rgb(232,232,232)\",\"linecolor\":\"rgb(36,36,36)\",\"showgrid\":false,\"showline\":true,\"ticks\":\"outside\",\"title\":{\"standoff\":15},\"zeroline\":false,\"zerolinecolor\":\"rgb(36,36,36)\"},\"yaxis\":{\"automargin\":true,\"gridcolor\":\"rgb(232,232,232)\",\"linecolor\":\"rgb(36,36,36)\",\"showgrid\":false,\"showline\":true,\"ticks\":\"outside\",\"title\":{\"standoff\":15},\"zeroline\":false,\"zerolinecolor\":\"rgb(36,36,36)\"}}},\"xaxis\":{\"anchor\":\"y\",\"domain\":[0.0,0.1375],\"ticks\":\"\",\"tickangle\":30,\"linecolor\":\"darkgrey\"},\"yaxis\":{\"anchor\":\"x\",\"domain\":[0.0,1.0],\"title\":{\"text\":\"search time (ms/query)\"},\"linecolor\":\"darkgrey\"},\"xaxis2\":{\"anchor\":\"y2\",\"domain\":[0.2875,0.425],\"ticks\":\"\",\"tickangle\":30,\"linecolor\":\"darkgrey\"},\"yaxis2\":{\"anchor\":\"x2\",\"domain\":[0.0,1.0],\"title\":{\"text\":\"1-recall@1\"},\"linecolor\":\"darkgrey\"},\"xaxis3\":{\"anchor\":\"y3\",\"domain\":[0.575,0.7124999999999999],\"ticks\":\"\",\"tickangle\":30,\"linecolor\":\"darkgrey\"},\"yaxis3\":{\"anchor\":\"x3\",\"domain\":[0.0,1.0],\"title\":{\"text\":\"1-recall@3\"},\"linecolor\":\"darkgrey\"},\"xaxis4\":{\"anchor\":\"y4\",\"domain\":[0.8625,1.0],\"ticks\":\"\",\"tickangle\":30,\"linecolor\":\"darkgrey\"},\"yaxis4\":{\"anchor\":\"x4\",\"domain\":[0.0,1.0],\"title\":{\"text\":\"1-recall@5\"},\"linecolor\":\"darkgrey\"},\"title\":{\"text\":\"For IVF-based indexes, nprobe=128\"},\"height\":400,\"width\":900,\"showlegend\":false},                        {\"responsive\": true}                    ).then(function(){\n",
       "                            \n",
       "var gd = document.getElementById('77e0633a-30fe-47ea-8203-2045b719fc7a');\n",
       "var x = new MutationObserver(function (mutations, observer) {{\n",
       "        var display = window.getComputedStyle(gd).display;\n",
       "        if (!display || display === 'none') {{\n",
       "            console.log([gd, 'removed!']);\n",
       "            Plotly.purge(gd);\n",
       "            observer.disconnect();\n",
       "        }}\n",
       "}});\n",
       "\n",
       "// Listen for the removal of the full notebook cells\n",
       "var notebookContainer = gd.closest('#notebook-container');\n",
       "if (notebookContainer) {{\n",
       "    x.observe(notebookContainer, {childList: true});\n",
       "}}\n",
       "\n",
       "// Listen for the clearing of the current output cell\n",
       "var outputEl = gd.closest('.output');\n",
       "if (outputEl) {{\n",
       "    x.observe(outputEl, {childList: true});\n",
       "}}\n",
       "\n",
       "                        })                };                });            </script>        </div>"
      ]
     },
     "metadata": {},
     "output_type": "display_data"
    }
   ],
   "source": [
    "fig = make_subplots(rows=1, cols=4, horizontal_spacing = 0.15)\n",
    "colors = px.colors.qualitative.D3  \n",
    "\n",
    "fig.add_trace(go.Bar(x=df128.loc[:,'index'], y=df128.loc[:,'search_time'], marker_color=colors_gorb, name=\"search time\"),\n",
    "              row=1, col=1\n",
    "             )              \n",
    "fig.add_trace(go.Bar(x=df128.loc[:,'index'], y=df128.loc[:,'recall@1'], marker_color=colors_gorb, name=\"recall@1\"),\n",
    "              row=1, col=2\n",
    "             )  \n",
    "fig.add_trace(go.Bar(x=df128.loc[:,'index'], y=df128.loc[:,'recall@3'], marker_color=colors_gorb, name=\"recall@3\"),\n",
    "              row=1, col=3\n",
    "             ) \n",
    "fig.add_trace(go.Bar(x=df128.loc[:,'index'], y=df128.loc[:,'recall@5'], marker_color=colors_gorb, name=\"recall@5\"),\n",
    "              row=1, col=4\n",
    "             ) \n",
    "fig.update_yaxes(title_text=\"search time (ms/query)\", row=1, col=1)\n",
    "fig.update_yaxes(title_text=\"1-recall@1\", row=1, col=2)\n",
    "fig.update_yaxes(title_text=\"1-recall@3\", row=1, col=3)\n",
    "fig.update_yaxes(title_text=\"1-recall@5\", row=1, col=4)\n",
    "fig.update_xaxes(ticks=\"\", tickangle=30, linecolor='darkgrey')\n",
    "fig.update_yaxes(linecolor='darkgrey')\n",
    "fig.update_layout(height=400, width=900, template=\"simple_white\", showlegend=False, title_text=\"For IVF-based indexes, nprobe=128\")\n",
    "fig.show()\n",
    "fig.write_html(\"nprobe128_search_recalls.html\")"
   ]
  },
  {
   "cell_type": "code",
   "execution_count": 61,
   "id": "6aa3ced4",
   "metadata": {
    "execution": {
     "iopub.execute_input": "2022-08-24T06:42:50.171665Z",
     "iopub.status.busy": "2022-08-24T06:42:50.171274Z",
     "iopub.status.idle": "2022-08-24T06:42:50.250053Z",
     "shell.execute_reply": "2022-08-24T06:42:50.249137Z"
    },
    "papermill": {
     "duration": 0.757231,
     "end_time": "2022-08-24T06:42:50.252126",
     "exception": false,
     "start_time": "2022-08-24T06:42:49.494895",
     "status": "completed"
    },
    "tags": []
   },
   "outputs": [
    {
     "data": {
      "text/html": [
       "<div>                            <div id=\"86ae16c6-b475-4ad7-abeb-c3f0e0c62e10\" class=\"plotly-graph-div\" style=\"height:400px; width:500px;\"></div>            <script type=\"text/javascript\">                require([\"plotly\"], function(Plotly) {                    window.PLOTLYENV=window.PLOTLYENV || {};                                    if (document.getElementById(\"86ae16c6-b475-4ad7-abeb-c3f0e0c62e10\")) {                    Plotly.newPlot(                        \"86ae16c6-b475-4ad7-abeb-c3f0e0c62e10\",                        [{\"marker\":{\"color\":[\"#2CA02C\",\"#FF7F0E\",\"#D62728\",\"#1F77B4\"],\"opacity\":0.8},\"x\":[\"IVF65536_HNSW32,PQ32\",\"IVF65536_HNSW32,Flat\",\"HNSW32,Flat\",\"HNSW32_PQ32\"],\"y\":[0.03318452835083008,0.055385589599609375,0.13288354873657227,0.11576581001281738],\"type\":\"bar\",\"xaxis\":\"x\",\"yaxis\":\"y\"},{\"marker\":{\"color\":[\"#2CA02C\",\"#FF7F0E\",\"#D62728\",\"#1F77B4\"],\"opacity\":0.8},\"x\":[\"IVF65536_HNSW32,PQ32\",\"IVF65536_HNSW32,Flat\",\"HNSW32,Flat\",\"HNSW32_PQ32\"],\"y\":[0.765,0.84,0.85,0.789],\"type\":\"bar\",\"xaxis\":\"x2\",\"yaxis\":\"y2\"}],                        {\"template\":{\"data\":{\"barpolar\":[{\"marker\":{\"line\":{\"color\":\"white\",\"width\":0.5},\"pattern\":{\"fillmode\":\"overlay\",\"size\":10,\"solidity\":0.2}},\"type\":\"barpolar\"}],\"bar\":[{\"error_x\":{\"color\":\"rgb(36,36,36)\"},\"error_y\":{\"color\":\"rgb(36,36,36)\"},\"marker\":{\"line\":{\"color\":\"white\",\"width\":0.5},\"pattern\":{\"fillmode\":\"overlay\",\"size\":10,\"solidity\":0.2}},\"type\":\"bar\"}],\"carpet\":[{\"aaxis\":{\"endlinecolor\":\"rgb(36,36,36)\",\"gridcolor\":\"white\",\"linecolor\":\"white\",\"minorgridcolor\":\"white\",\"startlinecolor\":\"rgb(36,36,36)\"},\"baxis\":{\"endlinecolor\":\"rgb(36,36,36)\",\"gridcolor\":\"white\",\"linecolor\":\"white\",\"minorgridcolor\":\"white\",\"startlinecolor\":\"rgb(36,36,36)\"},\"type\":\"carpet\"}],\"choropleth\":[{\"colorbar\":{\"outlinewidth\":1,\"tickcolor\":\"rgb(36,36,36)\",\"ticks\":\"outside\"},\"type\":\"choropleth\"}],\"contourcarpet\":[{\"colorbar\":{\"outlinewidth\":1,\"tickcolor\":\"rgb(36,36,36)\",\"ticks\":\"outside\"},\"type\":\"contourcarpet\"}],\"contour\":[{\"colorbar\":{\"outlinewidth\":1,\"tickcolor\":\"rgb(36,36,36)\",\"ticks\":\"outside\"},\"colorscale\":[[0.0,\"#440154\"],[0.1111111111111111,\"#482878\"],[0.2222222222222222,\"#3e4989\"],[0.3333333333333333,\"#31688e\"],[0.4444444444444444,\"#26828e\"],[0.5555555555555556,\"#1f9e89\"],[0.6666666666666666,\"#35b779\"],[0.7777777777777778,\"#6ece58\"],[0.8888888888888888,\"#b5de2b\"],[1.0,\"#fde725\"]],\"type\":\"contour\"}],\"heatmapgl\":[{\"colorbar\":{\"outlinewidth\":1,\"tickcolor\":\"rgb(36,36,36)\",\"ticks\":\"outside\"},\"colorscale\":[[0.0,\"#440154\"],[0.1111111111111111,\"#482878\"],[0.2222222222222222,\"#3e4989\"],[0.3333333333333333,\"#31688e\"],[0.4444444444444444,\"#26828e\"],[0.5555555555555556,\"#1f9e89\"],[0.6666666666666666,\"#35b779\"],[0.7777777777777778,\"#6ece58\"],[0.8888888888888888,\"#b5de2b\"],[1.0,\"#fde725\"]],\"type\":\"heatmapgl\"}],\"heatmap\":[{\"colorbar\":{\"outlinewidth\":1,\"tickcolor\":\"rgb(36,36,36)\",\"ticks\":\"outside\"},\"colorscale\":[[0.0,\"#440154\"],[0.1111111111111111,\"#482878\"],[0.2222222222222222,\"#3e4989\"],[0.3333333333333333,\"#31688e\"],[0.4444444444444444,\"#26828e\"],[0.5555555555555556,\"#1f9e89\"],[0.6666666666666666,\"#35b779\"],[0.7777777777777778,\"#6ece58\"],[0.8888888888888888,\"#b5de2b\"],[1.0,\"#fde725\"]],\"type\":\"heatmap\"}],\"histogram2dcontour\":[{\"colorbar\":{\"outlinewidth\":1,\"tickcolor\":\"rgb(36,36,36)\",\"ticks\":\"outside\"},\"colorscale\":[[0.0,\"#440154\"],[0.1111111111111111,\"#482878\"],[0.2222222222222222,\"#3e4989\"],[0.3333333333333333,\"#31688e\"],[0.4444444444444444,\"#26828e\"],[0.5555555555555556,\"#1f9e89\"],[0.6666666666666666,\"#35b779\"],[0.7777777777777778,\"#6ece58\"],[0.8888888888888888,\"#b5de2b\"],[1.0,\"#fde725\"]],\"type\":\"histogram2dcontour\"}],\"histogram2d\":[{\"colorbar\":{\"outlinewidth\":1,\"tickcolor\":\"rgb(36,36,36)\",\"ticks\":\"outside\"},\"colorscale\":[[0.0,\"#440154\"],[0.1111111111111111,\"#482878\"],[0.2222222222222222,\"#3e4989\"],[0.3333333333333333,\"#31688e\"],[0.4444444444444444,\"#26828e\"],[0.5555555555555556,\"#1f9e89\"],[0.6666666666666666,\"#35b779\"],[0.7777777777777778,\"#6ece58\"],[0.8888888888888888,\"#b5de2b\"],[1.0,\"#fde725\"]],\"type\":\"histogram2d\"}],\"histogram\":[{\"marker\":{\"line\":{\"color\":\"white\",\"width\":0.6}},\"type\":\"histogram\"}],\"mesh3d\":[{\"colorbar\":{\"outlinewidth\":1,\"tickcolor\":\"rgb(36,36,36)\",\"ticks\":\"outside\"},\"type\":\"mesh3d\"}],\"parcoords\":[{\"line\":{\"colorbar\":{\"outlinewidth\":1,\"tickcolor\":\"rgb(36,36,36)\",\"ticks\":\"outside\"}},\"type\":\"parcoords\"}],\"pie\":[{\"automargin\":true,\"type\":\"pie\"}],\"scatter3d\":[{\"line\":{\"colorbar\":{\"outlinewidth\":1,\"tickcolor\":\"rgb(36,36,36)\",\"ticks\":\"outside\"}},\"marker\":{\"colorbar\":{\"outlinewidth\":1,\"tickcolor\":\"rgb(36,36,36)\",\"ticks\":\"outside\"}},\"type\":\"scatter3d\"}],\"scattercarpet\":[{\"marker\":{\"colorbar\":{\"outlinewidth\":1,\"tickcolor\":\"rgb(36,36,36)\",\"ticks\":\"outside\"}},\"type\":\"scattercarpet\"}],\"scattergeo\":[{\"marker\":{\"colorbar\":{\"outlinewidth\":1,\"tickcolor\":\"rgb(36,36,36)\",\"ticks\":\"outside\"}},\"type\":\"scattergeo\"}],\"scattergl\":[{\"marker\":{\"colorbar\":{\"outlinewidth\":1,\"tickcolor\":\"rgb(36,36,36)\",\"ticks\":\"outside\"}},\"type\":\"scattergl\"}],\"scattermapbox\":[{\"marker\":{\"colorbar\":{\"outlinewidth\":1,\"tickcolor\":\"rgb(36,36,36)\",\"ticks\":\"outside\"}},\"type\":\"scattermapbox\"}],\"scatterpolargl\":[{\"marker\":{\"colorbar\":{\"outlinewidth\":1,\"tickcolor\":\"rgb(36,36,36)\",\"ticks\":\"outside\"}},\"type\":\"scatterpolargl\"}],\"scatterpolar\":[{\"marker\":{\"colorbar\":{\"outlinewidth\":1,\"tickcolor\":\"rgb(36,36,36)\",\"ticks\":\"outside\"}},\"type\":\"scatterpolar\"}],\"scatter\":[{\"fillpattern\":{\"fillmode\":\"overlay\",\"size\":10,\"solidity\":0.2},\"type\":\"scatter\"}],\"scatterternary\":[{\"marker\":{\"colorbar\":{\"outlinewidth\":1,\"tickcolor\":\"rgb(36,36,36)\",\"ticks\":\"outside\"}},\"type\":\"scatterternary\"}],\"surface\":[{\"colorbar\":{\"outlinewidth\":1,\"tickcolor\":\"rgb(36,36,36)\",\"ticks\":\"outside\"},\"colorscale\":[[0.0,\"#440154\"],[0.1111111111111111,\"#482878\"],[0.2222222222222222,\"#3e4989\"],[0.3333333333333333,\"#31688e\"],[0.4444444444444444,\"#26828e\"],[0.5555555555555556,\"#1f9e89\"],[0.6666666666666666,\"#35b779\"],[0.7777777777777778,\"#6ece58\"],[0.8888888888888888,\"#b5de2b\"],[1.0,\"#fde725\"]],\"type\":\"surface\"}],\"table\":[{\"cells\":{\"fill\":{\"color\":\"rgb(237,237,237)\"},\"line\":{\"color\":\"white\"}},\"header\":{\"fill\":{\"color\":\"rgb(217,217,217)\"},\"line\":{\"color\":\"white\"}},\"type\":\"table\"}]},\"layout\":{\"annotationdefaults\":{\"arrowhead\":0,\"arrowwidth\":1},\"autotypenumbers\":\"strict\",\"coloraxis\":{\"colorbar\":{\"outlinewidth\":1,\"tickcolor\":\"rgb(36,36,36)\",\"ticks\":\"outside\"}},\"colorscale\":{\"diverging\":[[0.0,\"rgb(103,0,31)\"],[0.1,\"rgb(178,24,43)\"],[0.2,\"rgb(214,96,77)\"],[0.3,\"rgb(244,165,130)\"],[0.4,\"rgb(253,219,199)\"],[0.5,\"rgb(247,247,247)\"],[0.6,\"rgb(209,229,240)\"],[0.7,\"rgb(146,197,222)\"],[0.8,\"rgb(67,147,195)\"],[0.9,\"rgb(33,102,172)\"],[1.0,\"rgb(5,48,97)\"]],\"sequential\":[[0.0,\"#440154\"],[0.1111111111111111,\"#482878\"],[0.2222222222222222,\"#3e4989\"],[0.3333333333333333,\"#31688e\"],[0.4444444444444444,\"#26828e\"],[0.5555555555555556,\"#1f9e89\"],[0.6666666666666666,\"#35b779\"],[0.7777777777777778,\"#6ece58\"],[0.8888888888888888,\"#b5de2b\"],[1.0,\"#fde725\"]],\"sequentialminus\":[[0.0,\"#440154\"],[0.1111111111111111,\"#482878\"],[0.2222222222222222,\"#3e4989\"],[0.3333333333333333,\"#31688e\"],[0.4444444444444444,\"#26828e\"],[0.5555555555555556,\"#1f9e89\"],[0.6666666666666666,\"#35b779\"],[0.7777777777777778,\"#6ece58\"],[0.8888888888888888,\"#b5de2b\"],[1.0,\"#fde725\"]]},\"colorway\":[\"#1F77B4\",\"#FF7F0E\",\"#2CA02C\",\"#D62728\",\"#9467BD\",\"#8C564B\",\"#E377C2\",\"#7F7F7F\",\"#BCBD22\",\"#17BECF\"],\"font\":{\"color\":\"rgb(36,36,36)\"},\"geo\":{\"bgcolor\":\"white\",\"lakecolor\":\"white\",\"landcolor\":\"white\",\"showlakes\":true,\"showland\":true,\"subunitcolor\":\"white\"},\"hoverlabel\":{\"align\":\"left\"},\"hovermode\":\"closest\",\"mapbox\":{\"style\":\"light\"},\"paper_bgcolor\":\"white\",\"plot_bgcolor\":\"white\",\"polar\":{\"angularaxis\":{\"gridcolor\":\"rgb(232,232,232)\",\"linecolor\":\"rgb(36,36,36)\",\"showgrid\":false,\"showline\":true,\"ticks\":\"outside\"},\"bgcolor\":\"white\",\"radialaxis\":{\"gridcolor\":\"rgb(232,232,232)\",\"linecolor\":\"rgb(36,36,36)\",\"showgrid\":false,\"showline\":true,\"ticks\":\"outside\"}},\"scene\":{\"xaxis\":{\"backgroundcolor\":\"white\",\"gridcolor\":\"rgb(232,232,232)\",\"gridwidth\":2,\"linecolor\":\"rgb(36,36,36)\",\"showbackground\":true,\"showgrid\":false,\"showline\":true,\"ticks\":\"outside\",\"zeroline\":false,\"zerolinecolor\":\"rgb(36,36,36)\"},\"yaxis\":{\"backgroundcolor\":\"white\",\"gridcolor\":\"rgb(232,232,232)\",\"gridwidth\":2,\"linecolor\":\"rgb(36,36,36)\",\"showbackground\":true,\"showgrid\":false,\"showline\":true,\"ticks\":\"outside\",\"zeroline\":false,\"zerolinecolor\":\"rgb(36,36,36)\"},\"zaxis\":{\"backgroundcolor\":\"white\",\"gridcolor\":\"rgb(232,232,232)\",\"gridwidth\":2,\"linecolor\":\"rgb(36,36,36)\",\"showbackground\":true,\"showgrid\":false,\"showline\":true,\"ticks\":\"outside\",\"zeroline\":false,\"zerolinecolor\":\"rgb(36,36,36)\"}},\"shapedefaults\":{\"fillcolor\":\"black\",\"line\":{\"width\":0},\"opacity\":0.3},\"ternary\":{\"aaxis\":{\"gridcolor\":\"rgb(232,232,232)\",\"linecolor\":\"rgb(36,36,36)\",\"showgrid\":false,\"showline\":true,\"ticks\":\"outside\"},\"baxis\":{\"gridcolor\":\"rgb(232,232,232)\",\"linecolor\":\"rgb(36,36,36)\",\"showgrid\":false,\"showline\":true,\"ticks\":\"outside\"},\"bgcolor\":\"white\",\"caxis\":{\"gridcolor\":\"rgb(232,232,232)\",\"linecolor\":\"rgb(36,36,36)\",\"showgrid\":false,\"showline\":true,\"ticks\":\"outside\"}},\"title\":{\"x\":0.05},\"xaxis\":{\"automargin\":true,\"gridcolor\":\"rgb(232,232,232)\",\"linecolor\":\"rgb(36,36,36)\",\"showgrid\":false,\"showline\":true,\"ticks\":\"outside\",\"title\":{\"standoff\":15},\"zeroline\":false,\"zerolinecolor\":\"rgb(36,36,36)\"},\"yaxis\":{\"automargin\":true,\"gridcolor\":\"rgb(232,232,232)\",\"linecolor\":\"rgb(36,36,36)\",\"showgrid\":false,\"showline\":true,\"ticks\":\"outside\",\"title\":{\"standoff\":15},\"zeroline\":false,\"zerolinecolor\":\"rgb(36,36,36)\"}}},\"xaxis\":{\"anchor\":\"y\",\"domain\":[0.0,0.3],\"ticks\":\"\",\"tickangle\":30,\"linecolor\":\"darkgrey\"},\"yaxis\":{\"anchor\":\"x\",\"domain\":[0.0,1.0],\"title\":{\"text\":\"search time (ms/query)\"},\"linecolor\":\"darkgrey\"},\"xaxis2\":{\"anchor\":\"y2\",\"domain\":[0.7,1.0],\"ticks\":\"\",\"tickangle\":30,\"linecolor\":\"darkgrey\"},\"yaxis2\":{\"anchor\":\"x2\",\"domain\":[0.0,1.0],\"title\":{\"text\":\"1-recall@3\"},\"linecolor\":\"darkgrey\"},\"title\":{\"text\":\"<B><I>( For IVF-based indexes, nprobe=128 )\",\"font\":{\"family\":\"Arial\",\"color\":\"RebeccaPurple\",\"size\":13},\"yanchor\":\"top\",\"y\":0.85,\"xanchor\":\"left\",\"x\":0.1},\"height\":400,\"width\":500,\"showlegend\":false},                        {\"responsive\": true}                    ).then(function(){\n",
       "                            \n",
       "var gd = document.getElementById('86ae16c6-b475-4ad7-abeb-c3f0e0c62e10');\n",
       "var x = new MutationObserver(function (mutations, observer) {{\n",
       "        var display = window.getComputedStyle(gd).display;\n",
       "        if (!display || display === 'none') {{\n",
       "            console.log([gd, 'removed!']);\n",
       "            Plotly.purge(gd);\n",
       "            observer.disconnect();\n",
       "        }}\n",
       "}});\n",
       "\n",
       "// Listen for the removal of the full notebook cells\n",
       "var notebookContainer = gd.closest('#notebook-container');\n",
       "if (notebookContainer) {{\n",
       "    x.observe(notebookContainer, {childList: true});\n",
       "}}\n",
       "\n",
       "// Listen for the clearing of the current output cell\n",
       "var outputEl = gd.closest('.output');\n",
       "if (outputEl) {{\n",
       "    x.observe(outputEl, {childList: true});\n",
       "}}\n",
       "\n",
       "                        })                };                });            </script>        </div>"
      ]
     },
     "metadata": {},
     "output_type": "display_data"
    }
   ],
   "source": [
    "fig = make_subplots(rows=1, cols=2, horizontal_spacing = 0.4)\n",
    "colors = px.colors.qualitative.D3  \n",
    "\n",
    "fig.add_trace(go.Bar(x=df128.loc[:,'index'], y=df128.loc[:,'search_time'], marker_color=colors_gorb, marker_opacity = 0.8),\n",
    "              row=1, col=1\n",
    "             )              \n",
    "fig.add_trace(go.Bar(x=df128.loc[:,'index'], y=df128.loc[:,'recall@3'], marker_color=colors_gorb, marker_opacity = 0.8),\n",
    "              row=1, col=2\n",
    "             ) \n",
    "fig.update_yaxes(title_text=\"search time (ms/query)\", row=1, col=1)\n",
    "fig.update_yaxes(title_text=\"1-recall@3\", row=1, col=2)\n",
    "fig.update_xaxes(ticks=\"\", tickangle=30, linecolor='darkgrey')\n",
    "fig.update_yaxes(linecolor='darkgrey')\n",
    "\n",
    "fig.update_layout(height=400, width=500, template=\"simple_white\", showlegend=False, title_text=\"\")\n",
    "fig.update_layout(title=dict(text=\"<B><I>( For IVF-based indexes, nprobe=128 )\", yanchor=\"top\", y=0.85, xanchor=\"left\", x=0.1, \n",
    "                             font_family=\"Arial\", font_color=\"RebeccaPurple\", font_size=13))\n",
    "fig.show()\n",
    "fig.write_html(\"nprobe128_search_recall3.html\")"
   ]
  },
  {
   "cell_type": "code",
   "execution_count": 62,
   "id": "0e3336c4",
   "metadata": {
    "execution": {
     "iopub.execute_input": "2022-08-24T06:42:51.488506Z",
     "iopub.status.busy": "2022-08-24T06:42:51.488099Z",
     "iopub.status.idle": "2022-08-24T06:42:51.560453Z",
     "shell.execute_reply": "2022-08-24T06:42:51.559609Z"
    },
    "papermill": {
     "duration": 0.695303,
     "end_time": "2022-08-24T06:42:51.562664",
     "exception": false,
     "start_time": "2022-08-24T06:42:50.867361",
     "status": "completed"
    },
    "tags": []
   },
   "outputs": [
    {
     "data": {
      "text/html": [
       "<div>                            <div id=\"774ecc8e-2ef4-43da-b952-c65e0c22fe02\" class=\"plotly-graph-div\" style=\"height:400px; width:700px;\"></div>            <script type=\"text/javascript\">                require([\"plotly\"], function(Plotly) {                    window.PLOTLYENV=window.PLOTLYENV || {};                                    if (document.getElementById(\"774ecc8e-2ef4-43da-b952-c65e0c22fe02\")) {                    Plotly.newPlot(                        \"774ecc8e-2ef4-43da-b952-c65e0c22fe02\",                        [{\"name\":\"search time (ms/query)\",\"x\":[\"IVF65536_HNSW32,PQ32\",\"IVF65536_HNSW32,Flat\",\"HNSW32,Flat\",\"HNSW32_PQ32\"],\"y\":[0.03318452835083008,0.055385589599609375,0.13288354873657227,0.11576581001281738],\"type\":\"scatter\",\"xaxis\":\"x\",\"yaxis\":\"y\",\"marker\":{\"size\":12,\"color\":\"#E15F99\",\"symbol\":\"diamond\"},\"line\":{\"color\":\"#E15F99\"}},{\"name\":\"1-recall@3\",\"x\":[\"IVF65536_HNSW32,PQ32\",\"IVF65536_HNSW32,Flat\",\"HNSW32,Flat\",\"HNSW32_PQ32\"],\"y\":[0.765,0.84,0.85,0.789],\"type\":\"scatter\",\"xaxis\":\"x\",\"yaxis\":\"y2\",\"marker\":{\"size\":12,\"color\":\"#2E91E5\",\"symbol\":\"hexagram\"},\"line\":{\"color\":\"#2E91E5\"}}],                        {\"template\":{\"data\":{\"barpolar\":[{\"marker\":{\"line\":{\"color\":\"white\",\"width\":0.5},\"pattern\":{\"fillmode\":\"overlay\",\"size\":10,\"solidity\":0.2}},\"type\":\"barpolar\"}],\"bar\":[{\"error_x\":{\"color\":\"rgb(36,36,36)\"},\"error_y\":{\"color\":\"rgb(36,36,36)\"},\"marker\":{\"line\":{\"color\":\"white\",\"width\":0.5},\"pattern\":{\"fillmode\":\"overlay\",\"size\":10,\"solidity\":0.2}},\"type\":\"bar\"}],\"carpet\":[{\"aaxis\":{\"endlinecolor\":\"rgb(36,36,36)\",\"gridcolor\":\"white\",\"linecolor\":\"white\",\"minorgridcolor\":\"white\",\"startlinecolor\":\"rgb(36,36,36)\"},\"baxis\":{\"endlinecolor\":\"rgb(36,36,36)\",\"gridcolor\":\"white\",\"linecolor\":\"white\",\"minorgridcolor\":\"white\",\"startlinecolor\":\"rgb(36,36,36)\"},\"type\":\"carpet\"}],\"choropleth\":[{\"colorbar\":{\"outlinewidth\":1,\"tickcolor\":\"rgb(36,36,36)\",\"ticks\":\"outside\"},\"type\":\"choropleth\"}],\"contourcarpet\":[{\"colorbar\":{\"outlinewidth\":1,\"tickcolor\":\"rgb(36,36,36)\",\"ticks\":\"outside\"},\"type\":\"contourcarpet\"}],\"contour\":[{\"colorbar\":{\"outlinewidth\":1,\"tickcolor\":\"rgb(36,36,36)\",\"ticks\":\"outside\"},\"colorscale\":[[0.0,\"#440154\"],[0.1111111111111111,\"#482878\"],[0.2222222222222222,\"#3e4989\"],[0.3333333333333333,\"#31688e\"],[0.4444444444444444,\"#26828e\"],[0.5555555555555556,\"#1f9e89\"],[0.6666666666666666,\"#35b779\"],[0.7777777777777778,\"#6ece58\"],[0.8888888888888888,\"#b5de2b\"],[1.0,\"#fde725\"]],\"type\":\"contour\"}],\"heatmapgl\":[{\"colorbar\":{\"outlinewidth\":1,\"tickcolor\":\"rgb(36,36,36)\",\"ticks\":\"outside\"},\"colorscale\":[[0.0,\"#440154\"],[0.1111111111111111,\"#482878\"],[0.2222222222222222,\"#3e4989\"],[0.3333333333333333,\"#31688e\"],[0.4444444444444444,\"#26828e\"],[0.5555555555555556,\"#1f9e89\"],[0.6666666666666666,\"#35b779\"],[0.7777777777777778,\"#6ece58\"],[0.8888888888888888,\"#b5de2b\"],[1.0,\"#fde725\"]],\"type\":\"heatmapgl\"}],\"heatmap\":[{\"colorbar\":{\"outlinewidth\":1,\"tickcolor\":\"rgb(36,36,36)\",\"ticks\":\"outside\"},\"colorscale\":[[0.0,\"#440154\"],[0.1111111111111111,\"#482878\"],[0.2222222222222222,\"#3e4989\"],[0.3333333333333333,\"#31688e\"],[0.4444444444444444,\"#26828e\"],[0.5555555555555556,\"#1f9e89\"],[0.6666666666666666,\"#35b779\"],[0.7777777777777778,\"#6ece58\"],[0.8888888888888888,\"#b5de2b\"],[1.0,\"#fde725\"]],\"type\":\"heatmap\"}],\"histogram2dcontour\":[{\"colorbar\":{\"outlinewidth\":1,\"tickcolor\":\"rgb(36,36,36)\",\"ticks\":\"outside\"},\"colorscale\":[[0.0,\"#440154\"],[0.1111111111111111,\"#482878\"],[0.2222222222222222,\"#3e4989\"],[0.3333333333333333,\"#31688e\"],[0.4444444444444444,\"#26828e\"],[0.5555555555555556,\"#1f9e89\"],[0.6666666666666666,\"#35b779\"],[0.7777777777777778,\"#6ece58\"],[0.8888888888888888,\"#b5de2b\"],[1.0,\"#fde725\"]],\"type\":\"histogram2dcontour\"}],\"histogram2d\":[{\"colorbar\":{\"outlinewidth\":1,\"tickcolor\":\"rgb(36,36,36)\",\"ticks\":\"outside\"},\"colorscale\":[[0.0,\"#440154\"],[0.1111111111111111,\"#482878\"],[0.2222222222222222,\"#3e4989\"],[0.3333333333333333,\"#31688e\"],[0.4444444444444444,\"#26828e\"],[0.5555555555555556,\"#1f9e89\"],[0.6666666666666666,\"#35b779\"],[0.7777777777777778,\"#6ece58\"],[0.8888888888888888,\"#b5de2b\"],[1.0,\"#fde725\"]],\"type\":\"histogram2d\"}],\"histogram\":[{\"marker\":{\"line\":{\"color\":\"white\",\"width\":0.6}},\"type\":\"histogram\"}],\"mesh3d\":[{\"colorbar\":{\"outlinewidth\":1,\"tickcolor\":\"rgb(36,36,36)\",\"ticks\":\"outside\"},\"type\":\"mesh3d\"}],\"parcoords\":[{\"line\":{\"colorbar\":{\"outlinewidth\":1,\"tickcolor\":\"rgb(36,36,36)\",\"ticks\":\"outside\"}},\"type\":\"parcoords\"}],\"pie\":[{\"automargin\":true,\"type\":\"pie\"}],\"scatter3d\":[{\"line\":{\"colorbar\":{\"outlinewidth\":1,\"tickcolor\":\"rgb(36,36,36)\",\"ticks\":\"outside\"}},\"marker\":{\"colorbar\":{\"outlinewidth\":1,\"tickcolor\":\"rgb(36,36,36)\",\"ticks\":\"outside\"}},\"type\":\"scatter3d\"}],\"scattercarpet\":[{\"marker\":{\"colorbar\":{\"outlinewidth\":1,\"tickcolor\":\"rgb(36,36,36)\",\"ticks\":\"outside\"}},\"type\":\"scattercarpet\"}],\"scattergeo\":[{\"marker\":{\"colorbar\":{\"outlinewidth\":1,\"tickcolor\":\"rgb(36,36,36)\",\"ticks\":\"outside\"}},\"type\":\"scattergeo\"}],\"scattergl\":[{\"marker\":{\"colorbar\":{\"outlinewidth\":1,\"tickcolor\":\"rgb(36,36,36)\",\"ticks\":\"outside\"}},\"type\":\"scattergl\"}],\"scattermapbox\":[{\"marker\":{\"colorbar\":{\"outlinewidth\":1,\"tickcolor\":\"rgb(36,36,36)\",\"ticks\":\"outside\"}},\"type\":\"scattermapbox\"}],\"scatterpolargl\":[{\"marker\":{\"colorbar\":{\"outlinewidth\":1,\"tickcolor\":\"rgb(36,36,36)\",\"ticks\":\"outside\"}},\"type\":\"scatterpolargl\"}],\"scatterpolar\":[{\"marker\":{\"colorbar\":{\"outlinewidth\":1,\"tickcolor\":\"rgb(36,36,36)\",\"ticks\":\"outside\"}},\"type\":\"scatterpolar\"}],\"scatter\":[{\"fillpattern\":{\"fillmode\":\"overlay\",\"size\":10,\"solidity\":0.2},\"type\":\"scatter\"}],\"scatterternary\":[{\"marker\":{\"colorbar\":{\"outlinewidth\":1,\"tickcolor\":\"rgb(36,36,36)\",\"ticks\":\"outside\"}},\"type\":\"scatterternary\"}],\"surface\":[{\"colorbar\":{\"outlinewidth\":1,\"tickcolor\":\"rgb(36,36,36)\",\"ticks\":\"outside\"},\"colorscale\":[[0.0,\"#440154\"],[0.1111111111111111,\"#482878\"],[0.2222222222222222,\"#3e4989\"],[0.3333333333333333,\"#31688e\"],[0.4444444444444444,\"#26828e\"],[0.5555555555555556,\"#1f9e89\"],[0.6666666666666666,\"#35b779\"],[0.7777777777777778,\"#6ece58\"],[0.8888888888888888,\"#b5de2b\"],[1.0,\"#fde725\"]],\"type\":\"surface\"}],\"table\":[{\"cells\":{\"fill\":{\"color\":\"rgb(237,237,237)\"},\"line\":{\"color\":\"white\"}},\"header\":{\"fill\":{\"color\":\"rgb(217,217,217)\"},\"line\":{\"color\":\"white\"}},\"type\":\"table\"}]},\"layout\":{\"annotationdefaults\":{\"arrowhead\":0,\"arrowwidth\":1},\"autotypenumbers\":\"strict\",\"coloraxis\":{\"colorbar\":{\"outlinewidth\":1,\"tickcolor\":\"rgb(36,36,36)\",\"ticks\":\"outside\"}},\"colorscale\":{\"diverging\":[[0.0,\"rgb(103,0,31)\"],[0.1,\"rgb(178,24,43)\"],[0.2,\"rgb(214,96,77)\"],[0.3,\"rgb(244,165,130)\"],[0.4,\"rgb(253,219,199)\"],[0.5,\"rgb(247,247,247)\"],[0.6,\"rgb(209,229,240)\"],[0.7,\"rgb(146,197,222)\"],[0.8,\"rgb(67,147,195)\"],[0.9,\"rgb(33,102,172)\"],[1.0,\"rgb(5,48,97)\"]],\"sequential\":[[0.0,\"#440154\"],[0.1111111111111111,\"#482878\"],[0.2222222222222222,\"#3e4989\"],[0.3333333333333333,\"#31688e\"],[0.4444444444444444,\"#26828e\"],[0.5555555555555556,\"#1f9e89\"],[0.6666666666666666,\"#35b779\"],[0.7777777777777778,\"#6ece58\"],[0.8888888888888888,\"#b5de2b\"],[1.0,\"#fde725\"]],\"sequentialminus\":[[0.0,\"#440154\"],[0.1111111111111111,\"#482878\"],[0.2222222222222222,\"#3e4989\"],[0.3333333333333333,\"#31688e\"],[0.4444444444444444,\"#26828e\"],[0.5555555555555556,\"#1f9e89\"],[0.6666666666666666,\"#35b779\"],[0.7777777777777778,\"#6ece58\"],[0.8888888888888888,\"#b5de2b\"],[1.0,\"#fde725\"]]},\"colorway\":[\"#1F77B4\",\"#FF7F0E\",\"#2CA02C\",\"#D62728\",\"#9467BD\",\"#8C564B\",\"#E377C2\",\"#7F7F7F\",\"#BCBD22\",\"#17BECF\"],\"font\":{\"color\":\"rgb(36,36,36)\"},\"geo\":{\"bgcolor\":\"white\",\"lakecolor\":\"white\",\"landcolor\":\"white\",\"showlakes\":true,\"showland\":true,\"subunitcolor\":\"white\"},\"hoverlabel\":{\"align\":\"left\"},\"hovermode\":\"closest\",\"mapbox\":{\"style\":\"light\"},\"paper_bgcolor\":\"white\",\"plot_bgcolor\":\"white\",\"polar\":{\"angularaxis\":{\"gridcolor\":\"rgb(232,232,232)\",\"linecolor\":\"rgb(36,36,36)\",\"showgrid\":false,\"showline\":true,\"ticks\":\"outside\"},\"bgcolor\":\"white\",\"radialaxis\":{\"gridcolor\":\"rgb(232,232,232)\",\"linecolor\":\"rgb(36,36,36)\",\"showgrid\":false,\"showline\":true,\"ticks\":\"outside\"}},\"scene\":{\"xaxis\":{\"backgroundcolor\":\"white\",\"gridcolor\":\"rgb(232,232,232)\",\"gridwidth\":2,\"linecolor\":\"rgb(36,36,36)\",\"showbackground\":true,\"showgrid\":false,\"showline\":true,\"ticks\":\"outside\",\"zeroline\":false,\"zerolinecolor\":\"rgb(36,36,36)\"},\"yaxis\":{\"backgroundcolor\":\"white\",\"gridcolor\":\"rgb(232,232,232)\",\"gridwidth\":2,\"linecolor\":\"rgb(36,36,36)\",\"showbackground\":true,\"showgrid\":false,\"showline\":true,\"ticks\":\"outside\",\"zeroline\":false,\"zerolinecolor\":\"rgb(36,36,36)\"},\"zaxis\":{\"backgroundcolor\":\"white\",\"gridcolor\":\"rgb(232,232,232)\",\"gridwidth\":2,\"linecolor\":\"rgb(36,36,36)\",\"showbackground\":true,\"showgrid\":false,\"showline\":true,\"ticks\":\"outside\",\"zeroline\":false,\"zerolinecolor\":\"rgb(36,36,36)\"}},\"shapedefaults\":{\"fillcolor\":\"black\",\"line\":{\"width\":0},\"opacity\":0.3},\"ternary\":{\"aaxis\":{\"gridcolor\":\"rgb(232,232,232)\",\"linecolor\":\"rgb(36,36,36)\",\"showgrid\":false,\"showline\":true,\"ticks\":\"outside\"},\"baxis\":{\"gridcolor\":\"rgb(232,232,232)\",\"linecolor\":\"rgb(36,36,36)\",\"showgrid\":false,\"showline\":true,\"ticks\":\"outside\"},\"bgcolor\":\"white\",\"caxis\":{\"gridcolor\":\"rgb(232,232,232)\",\"linecolor\":\"rgb(36,36,36)\",\"showgrid\":false,\"showline\":true,\"ticks\":\"outside\"}},\"title\":{\"x\":0.05},\"xaxis\":{\"automargin\":true,\"gridcolor\":\"rgb(232,232,232)\",\"linecolor\":\"rgb(36,36,36)\",\"showgrid\":false,\"showline\":true,\"ticks\":\"outside\",\"title\":{\"standoff\":15},\"zeroline\":false,\"zerolinecolor\":\"rgb(36,36,36)\"},\"yaxis\":{\"automargin\":true,\"gridcolor\":\"rgb(232,232,232)\",\"linecolor\":\"rgb(36,36,36)\",\"showgrid\":false,\"showline\":true,\"ticks\":\"outside\",\"title\":{\"standoff\":15},\"zeroline\":false,\"zerolinecolor\":\"rgb(36,36,36)\"}}},\"xaxis\":{\"anchor\":\"y\",\"domain\":[0.0,0.94],\"title\":{\"text\":\"\"},\"tickangle\":8,\"linecolor\":\"darkgrey\"},\"yaxis\":{\"anchor\":\"x\",\"domain\":[0.0,1.0],\"title\":{\"text\":\"<b>search time (ms/query)</b>\"},\"range\":[0.0,0.3],\"color\":\"#E15F99\",\"linecolor\":\"darkgrey\"},\"yaxis2\":{\"anchor\":\"x\",\"overlaying\":\"y\",\"side\":\"right\",\"title\":{\"text\":\"<b>1-recall@3</b>\"},\"range\":[0,1],\"color\":\"#2E91E5\",\"linecolor\":\"darkgrey\"},\"title\":{\"text\":\"Search time vs Recall\"},\"legend\":{\"orientation\":\"h\",\"yanchor\":\"bottom\",\"y\":1.0,\"xanchor\":\"right\",\"x\":0.9,\"borderwidth\":1},\"height\":400,\"width\":700},                        {\"responsive\": true}                    ).then(function(){\n",
       "                            \n",
       "var gd = document.getElementById('774ecc8e-2ef4-43da-b952-c65e0c22fe02');\n",
       "var x = new MutationObserver(function (mutations, observer) {{\n",
       "        var display = window.getComputedStyle(gd).display;\n",
       "        if (!display || display === 'none') {{\n",
       "            console.log([gd, 'removed!']);\n",
       "            Plotly.purge(gd);\n",
       "            observer.disconnect();\n",
       "        }}\n",
       "}});\n",
       "\n",
       "// Listen for the removal of the full notebook cells\n",
       "var notebookContainer = gd.closest('#notebook-container');\n",
       "if (notebookContainer) {{\n",
       "    x.observe(notebookContainer, {childList: true});\n",
       "}}\n",
       "\n",
       "// Listen for the clearing of the current output cell\n",
       "var outputEl = gd.closest('.output');\n",
       "if (outputEl) {{\n",
       "    x.observe(outputEl, {childList: true});\n",
       "}}\n",
       "\n",
       "                        })                };                });            </script>        </div>"
      ]
     },
     "metadata": {},
     "output_type": "display_data"
    }
   ],
   "source": [
    "# Create figure with secondary y-axis.\n",
    "fig = make_subplots(specs=[[{\"secondary_y\": True}]])\n",
    "\n",
    "fig.add_trace(go.Scatter(x=df128.loc[:,'index'], y=df128.loc[:,'search_time'], name=\"search time (ms/query)\"),    \n",
    "              secondary_y=False\n",
    "             )\n",
    "fig.add_trace(go.Scatter(x=df128.loc[:,'index'], y=df128.loc[:,\"recall@3\"], name=\"1-recall@3\"),    \n",
    "              secondary_y=True\n",
    "             )\n",
    "fig.update_layout(height=400, width=700, template=\"simple_white\", title_text=\"Search time vs Recall\",                   \n",
    "                  legend=dict(orientation=\"h\", yanchor=\"bottom\", y=1.0, xanchor=\"right\", x=0.9, borderwidth=1)\n",
    "                 )\n",
    "\n",
    "# Set unique marker style for different lines (https://plotly.com/python/marker-style/)\n",
    "colors = ['#E15F99', '#2E91E5']\n",
    "symbols = [\"diamond\", \"hexagram\"]\n",
    "sizes = [12, 12]\n",
    "\n",
    "for i, fdata in enumerate(fig.data):\n",
    "    fdata.marker.size = sizes[i]\n",
    "    fdata.marker.color = colors[i]\n",
    "    fdata.line.color = colors[i]  \n",
    "    fdata.marker.symbol = symbols[i]\n",
    "    \n",
    "fig.update_xaxes(title_text=\"\", tickangle=8, linecolor='darkgrey')\n",
    "fig.update_yaxes(range=[0.00, 0.30], secondary_y=False, title_text=\"<b>search time (ms/query)</b>\", color=\"#E15F99\", linecolor='darkgrey')\n",
    "fig.update_yaxes(range=[0, 1], secondary_y=True, title_text=\"<b>1-recall@3</b>\", color=\"#2E91E5\", linecolor='darkgrey')\n",
    "fig.show()\n",
    "fig.write_html(\"nprobe128_search_recall_dual_y.html\")"
   ]
  },
  {
   "cell_type": "code",
   "execution_count": 63,
   "id": "c04464e2",
   "metadata": {
    "_kg_hide-input": true,
    "_kg_hide-output": true,
    "execution": {
     "iopub.execute_input": "2022-08-24T06:42:52.850128Z",
     "iopub.status.busy": "2022-08-24T06:42:52.849731Z",
     "iopub.status.idle": "2022-08-24T06:42:52.951475Z",
     "shell.execute_reply": "2022-08-24T06:42:52.950578Z"
    },
    "papermill": {
     "duration": 0.716538,
     "end_time": "2022-08-24T06:42:52.953618",
     "exception": false,
     "start_time": "2022-08-24T06:42:52.237080",
     "status": "completed"
    },
    "tags": []
   },
   "outputs": [
    {
     "data": {
      "text/html": [
       "<div>                            <div id=\"4d0d5ed1-8cc9-4d98-b0d8-bca5125537cc\" class=\"plotly-graph-div\" style=\"height:400px; width:650px;\"></div>            <script type=\"text/javascript\">                require([\"plotly\"], function(Plotly) {                    window.PLOTLYENV=window.PLOTLYENV || {};                                    if (document.getElementById(\"4d0d5ed1-8cc9-4d98-b0d8-bca5125537cc\")) {                    Plotly.newPlot(                        \"4d0d5ed1-8cc9-4d98-b0d8-bca5125537cc\",                        [{\"hovertemplate\":\"index=%{text}<br>search_time=%{x}<br>recall@3=%{y}<br>index_size=%{marker.size}<extra></extra>\",\"legendgroup\":\"IVF65536_HNSW32,PQ32\",\"marker\":{\"color\":\"#2CA02C\",\"size\":[154.209972],\"sizemode\":\"area\",\"sizeref\":0.9409698183999999,\"symbol\":\"circle\",\"opacity\":0.8},\"mode\":\"markers+text\",\"name\":\"IVF65536_HNSW32,PQ32\",\"orientation\":\"v\",\"showlegend\":true,\"text\":[\"IVF65536_HNSW32,PQ32\"],\"x\":[0.03318452835083008],\"xaxis\":\"x\",\"y\":[0.765],\"yaxis\":\"y\",\"type\":\"scatter\",\"textposition\":\"bottom right\",\"textfont\":{\"color\":\"#2CA02C\",\"size\":13,\"family\":\"Arial\"},\"texttemplate\":\"%{text}<br>(%{marker.size:,d} MB)\"},{\"hovertemplate\":\"index=%{text}<br>search_time=%{x}<br>recall@3=%{y}<br>index_size=%{marker.size}<extra></extra>\",\"legendgroup\":\"IVF65536_HNSW32,Flat\",\"marker\":{\"color\":\"#FF7F0E\",\"size\":[1594.078859],\"sizemode\":\"area\",\"sizeref\":0.9409698183999999,\"symbol\":\"circle\",\"opacity\":0.8},\"mode\":\"markers+text\",\"name\":\"IVF65536_HNSW32,Flat\",\"orientation\":\"v\",\"showlegend\":true,\"text\":[\"IVF65536_HNSW32,Flat\"],\"x\":[0.055385589599609375],\"xaxis\":\"x\",\"y\":[0.84],\"yaxis\":\"y\",\"type\":\"scatter\",\"textposition\":\"top center\",\"textfont\":{\"color\":\"#FF7F0E\",\"size\":13,\"family\":\"Arial\"},\"texttemplate\":\"%{text}<br>(%{marker.size:,d} MB)\"},{\"hovertemplate\":\"index=%{text}<br>search_time=%{x}<br>recall@3=%{y}<br>index_size=%{marker.size}<extra></extra>\",\"legendgroup\":\"HNSW32,Flat\",\"marker\":{\"color\":\"#D62728\",\"size\":[2352.4245459999997],\"sizemode\":\"area\",\"sizeref\":0.9409698183999999,\"symbol\":\"circle\",\"opacity\":0.8},\"mode\":\"markers+text\",\"name\":\"HNSW32,Flat\",\"orientation\":\"v\",\"showlegend\":true,\"text\":[\"HNSW32,Flat\"],\"x\":[0.13288354873657227],\"xaxis\":\"x\",\"y\":[0.85],\"yaxis\":\"y\",\"type\":\"scatter\",\"textposition\":\"top center\",\"textfont\":{\"color\":\"#D62728\",\"size\":13,\"family\":\"Arial\"},\"texttemplate\":\"%{text}<br>(%{marker.size:,d} MB)\"},{\"hovertemplate\":\"index=%{text}<br>search_time=%{x}<br>recall@3=%{y}<br>index_size=%{marker.size}<extra></extra>\",\"legendgroup\":\"HNSW32_PQ32\",\"marker\":{\"color\":\"#1F77B4\",\"size\":[912.555659],\"sizemode\":\"area\",\"sizeref\":0.9409698183999999,\"symbol\":\"circle\",\"opacity\":0.8},\"mode\":\"markers+text\",\"name\":\"HNSW32_PQ32\",\"orientation\":\"v\",\"showlegend\":true,\"text\":[\"HNSW32_PQ32\"],\"x\":[0.11576581001281738],\"xaxis\":\"x\",\"y\":[0.789],\"yaxis\":\"y\",\"type\":\"scatter\",\"textposition\":\"bottom center\",\"textfont\":{\"color\":\"#1F77B4\",\"size\":13,\"family\":\"Arial\"},\"texttemplate\":\"%{text}<br>(%{marker.size:,d} MB)\"}],                        {\"template\":{\"data\":{\"barpolar\":[{\"marker\":{\"line\":{\"color\":\"white\",\"width\":0.5},\"pattern\":{\"fillmode\":\"overlay\",\"size\":10,\"solidity\":0.2}},\"type\":\"barpolar\"}],\"bar\":[{\"error_x\":{\"color\":\"rgb(36,36,36)\"},\"error_y\":{\"color\":\"rgb(36,36,36)\"},\"marker\":{\"line\":{\"color\":\"white\",\"width\":0.5},\"pattern\":{\"fillmode\":\"overlay\",\"size\":10,\"solidity\":0.2}},\"type\":\"bar\"}],\"carpet\":[{\"aaxis\":{\"endlinecolor\":\"rgb(36,36,36)\",\"gridcolor\":\"white\",\"linecolor\":\"white\",\"minorgridcolor\":\"white\",\"startlinecolor\":\"rgb(36,36,36)\"},\"baxis\":{\"endlinecolor\":\"rgb(36,36,36)\",\"gridcolor\":\"white\",\"linecolor\":\"white\",\"minorgridcolor\":\"white\",\"startlinecolor\":\"rgb(36,36,36)\"},\"type\":\"carpet\"}],\"choropleth\":[{\"colorbar\":{\"outlinewidth\":1,\"tickcolor\":\"rgb(36,36,36)\",\"ticks\":\"outside\"},\"type\":\"choropleth\"}],\"contourcarpet\":[{\"colorbar\":{\"outlinewidth\":1,\"tickcolor\":\"rgb(36,36,36)\",\"ticks\":\"outside\"},\"type\":\"contourcarpet\"}],\"contour\":[{\"colorbar\":{\"outlinewidth\":1,\"tickcolor\":\"rgb(36,36,36)\",\"ticks\":\"outside\"},\"colorscale\":[[0.0,\"#440154\"],[0.1111111111111111,\"#482878\"],[0.2222222222222222,\"#3e4989\"],[0.3333333333333333,\"#31688e\"],[0.4444444444444444,\"#26828e\"],[0.5555555555555556,\"#1f9e89\"],[0.6666666666666666,\"#35b779\"],[0.7777777777777778,\"#6ece58\"],[0.8888888888888888,\"#b5de2b\"],[1.0,\"#fde725\"]],\"type\":\"contour\"}],\"heatmapgl\":[{\"colorbar\":{\"outlinewidth\":1,\"tickcolor\":\"rgb(36,36,36)\",\"ticks\":\"outside\"},\"colorscale\":[[0.0,\"#440154\"],[0.1111111111111111,\"#482878\"],[0.2222222222222222,\"#3e4989\"],[0.3333333333333333,\"#31688e\"],[0.4444444444444444,\"#26828e\"],[0.5555555555555556,\"#1f9e89\"],[0.6666666666666666,\"#35b779\"],[0.7777777777777778,\"#6ece58\"],[0.8888888888888888,\"#b5de2b\"],[1.0,\"#fde725\"]],\"type\":\"heatmapgl\"}],\"heatmap\":[{\"colorbar\":{\"outlinewidth\":1,\"tickcolor\":\"rgb(36,36,36)\",\"ticks\":\"outside\"},\"colorscale\":[[0.0,\"#440154\"],[0.1111111111111111,\"#482878\"],[0.2222222222222222,\"#3e4989\"],[0.3333333333333333,\"#31688e\"],[0.4444444444444444,\"#26828e\"],[0.5555555555555556,\"#1f9e89\"],[0.6666666666666666,\"#35b779\"],[0.7777777777777778,\"#6ece58\"],[0.8888888888888888,\"#b5de2b\"],[1.0,\"#fde725\"]],\"type\":\"heatmap\"}],\"histogram2dcontour\":[{\"colorbar\":{\"outlinewidth\":1,\"tickcolor\":\"rgb(36,36,36)\",\"ticks\":\"outside\"},\"colorscale\":[[0.0,\"#440154\"],[0.1111111111111111,\"#482878\"],[0.2222222222222222,\"#3e4989\"],[0.3333333333333333,\"#31688e\"],[0.4444444444444444,\"#26828e\"],[0.5555555555555556,\"#1f9e89\"],[0.6666666666666666,\"#35b779\"],[0.7777777777777778,\"#6ece58\"],[0.8888888888888888,\"#b5de2b\"],[1.0,\"#fde725\"]],\"type\":\"histogram2dcontour\"}],\"histogram2d\":[{\"colorbar\":{\"outlinewidth\":1,\"tickcolor\":\"rgb(36,36,36)\",\"ticks\":\"outside\"},\"colorscale\":[[0.0,\"#440154\"],[0.1111111111111111,\"#482878\"],[0.2222222222222222,\"#3e4989\"],[0.3333333333333333,\"#31688e\"],[0.4444444444444444,\"#26828e\"],[0.5555555555555556,\"#1f9e89\"],[0.6666666666666666,\"#35b779\"],[0.7777777777777778,\"#6ece58\"],[0.8888888888888888,\"#b5de2b\"],[1.0,\"#fde725\"]],\"type\":\"histogram2d\"}],\"histogram\":[{\"marker\":{\"line\":{\"color\":\"white\",\"width\":0.6}},\"type\":\"histogram\"}],\"mesh3d\":[{\"colorbar\":{\"outlinewidth\":1,\"tickcolor\":\"rgb(36,36,36)\",\"ticks\":\"outside\"},\"type\":\"mesh3d\"}],\"parcoords\":[{\"line\":{\"colorbar\":{\"outlinewidth\":1,\"tickcolor\":\"rgb(36,36,36)\",\"ticks\":\"outside\"}},\"type\":\"parcoords\"}],\"pie\":[{\"automargin\":true,\"type\":\"pie\"}],\"scatter3d\":[{\"line\":{\"colorbar\":{\"outlinewidth\":1,\"tickcolor\":\"rgb(36,36,36)\",\"ticks\":\"outside\"}},\"marker\":{\"colorbar\":{\"outlinewidth\":1,\"tickcolor\":\"rgb(36,36,36)\",\"ticks\":\"outside\"}},\"type\":\"scatter3d\"}],\"scattercarpet\":[{\"marker\":{\"colorbar\":{\"outlinewidth\":1,\"tickcolor\":\"rgb(36,36,36)\",\"ticks\":\"outside\"}},\"type\":\"scattercarpet\"}],\"scattergeo\":[{\"marker\":{\"colorbar\":{\"outlinewidth\":1,\"tickcolor\":\"rgb(36,36,36)\",\"ticks\":\"outside\"}},\"type\":\"scattergeo\"}],\"scattergl\":[{\"marker\":{\"colorbar\":{\"outlinewidth\":1,\"tickcolor\":\"rgb(36,36,36)\",\"ticks\":\"outside\"}},\"type\":\"scattergl\"}],\"scattermapbox\":[{\"marker\":{\"colorbar\":{\"outlinewidth\":1,\"tickcolor\":\"rgb(36,36,36)\",\"ticks\":\"outside\"}},\"type\":\"scattermapbox\"}],\"scatterpolargl\":[{\"marker\":{\"colorbar\":{\"outlinewidth\":1,\"tickcolor\":\"rgb(36,36,36)\",\"ticks\":\"outside\"}},\"type\":\"scatterpolargl\"}],\"scatterpolar\":[{\"marker\":{\"colorbar\":{\"outlinewidth\":1,\"tickcolor\":\"rgb(36,36,36)\",\"ticks\":\"outside\"}},\"type\":\"scatterpolar\"}],\"scatter\":[{\"fillpattern\":{\"fillmode\":\"overlay\",\"size\":10,\"solidity\":0.2},\"type\":\"scatter\"}],\"scatterternary\":[{\"marker\":{\"colorbar\":{\"outlinewidth\":1,\"tickcolor\":\"rgb(36,36,36)\",\"ticks\":\"outside\"}},\"type\":\"scatterternary\"}],\"surface\":[{\"colorbar\":{\"outlinewidth\":1,\"tickcolor\":\"rgb(36,36,36)\",\"ticks\":\"outside\"},\"colorscale\":[[0.0,\"#440154\"],[0.1111111111111111,\"#482878\"],[0.2222222222222222,\"#3e4989\"],[0.3333333333333333,\"#31688e\"],[0.4444444444444444,\"#26828e\"],[0.5555555555555556,\"#1f9e89\"],[0.6666666666666666,\"#35b779\"],[0.7777777777777778,\"#6ece58\"],[0.8888888888888888,\"#b5de2b\"],[1.0,\"#fde725\"]],\"type\":\"surface\"}],\"table\":[{\"cells\":{\"fill\":{\"color\":\"rgb(237,237,237)\"},\"line\":{\"color\":\"white\"}},\"header\":{\"fill\":{\"color\":\"rgb(217,217,217)\"},\"line\":{\"color\":\"white\"}},\"type\":\"table\"}]},\"layout\":{\"annotationdefaults\":{\"arrowhead\":0,\"arrowwidth\":1},\"autotypenumbers\":\"strict\",\"coloraxis\":{\"colorbar\":{\"outlinewidth\":1,\"tickcolor\":\"rgb(36,36,36)\",\"ticks\":\"outside\"}},\"colorscale\":{\"diverging\":[[0.0,\"rgb(103,0,31)\"],[0.1,\"rgb(178,24,43)\"],[0.2,\"rgb(214,96,77)\"],[0.3,\"rgb(244,165,130)\"],[0.4,\"rgb(253,219,199)\"],[0.5,\"rgb(247,247,247)\"],[0.6,\"rgb(209,229,240)\"],[0.7,\"rgb(146,197,222)\"],[0.8,\"rgb(67,147,195)\"],[0.9,\"rgb(33,102,172)\"],[1.0,\"rgb(5,48,97)\"]],\"sequential\":[[0.0,\"#440154\"],[0.1111111111111111,\"#482878\"],[0.2222222222222222,\"#3e4989\"],[0.3333333333333333,\"#31688e\"],[0.4444444444444444,\"#26828e\"],[0.5555555555555556,\"#1f9e89\"],[0.6666666666666666,\"#35b779\"],[0.7777777777777778,\"#6ece58\"],[0.8888888888888888,\"#b5de2b\"],[1.0,\"#fde725\"]],\"sequentialminus\":[[0.0,\"#440154\"],[0.1111111111111111,\"#482878\"],[0.2222222222222222,\"#3e4989\"],[0.3333333333333333,\"#31688e\"],[0.4444444444444444,\"#26828e\"],[0.5555555555555556,\"#1f9e89\"],[0.6666666666666666,\"#35b779\"],[0.7777777777777778,\"#6ece58\"],[0.8888888888888888,\"#b5de2b\"],[1.0,\"#fde725\"]]},\"colorway\":[\"#1F77B4\",\"#FF7F0E\",\"#2CA02C\",\"#D62728\",\"#9467BD\",\"#8C564B\",\"#E377C2\",\"#7F7F7F\",\"#BCBD22\",\"#17BECF\"],\"font\":{\"color\":\"rgb(36,36,36)\"},\"geo\":{\"bgcolor\":\"white\",\"lakecolor\":\"white\",\"landcolor\":\"white\",\"showlakes\":true,\"showland\":true,\"subunitcolor\":\"white\"},\"hoverlabel\":{\"align\":\"left\"},\"hovermode\":\"closest\",\"mapbox\":{\"style\":\"light\"},\"paper_bgcolor\":\"white\",\"plot_bgcolor\":\"white\",\"polar\":{\"angularaxis\":{\"gridcolor\":\"rgb(232,232,232)\",\"linecolor\":\"rgb(36,36,36)\",\"showgrid\":false,\"showline\":true,\"ticks\":\"outside\"},\"bgcolor\":\"white\",\"radialaxis\":{\"gridcolor\":\"rgb(232,232,232)\",\"linecolor\":\"rgb(36,36,36)\",\"showgrid\":false,\"showline\":true,\"ticks\":\"outside\"}},\"scene\":{\"xaxis\":{\"backgroundcolor\":\"white\",\"gridcolor\":\"rgb(232,232,232)\",\"gridwidth\":2,\"linecolor\":\"rgb(36,36,36)\",\"showbackground\":true,\"showgrid\":false,\"showline\":true,\"ticks\":\"outside\",\"zeroline\":false,\"zerolinecolor\":\"rgb(36,36,36)\"},\"yaxis\":{\"backgroundcolor\":\"white\",\"gridcolor\":\"rgb(232,232,232)\",\"gridwidth\":2,\"linecolor\":\"rgb(36,36,36)\",\"showbackground\":true,\"showgrid\":false,\"showline\":true,\"ticks\":\"outside\",\"zeroline\":false,\"zerolinecolor\":\"rgb(36,36,36)\"},\"zaxis\":{\"backgroundcolor\":\"white\",\"gridcolor\":\"rgb(232,232,232)\",\"gridwidth\":2,\"linecolor\":\"rgb(36,36,36)\",\"showbackground\":true,\"showgrid\":false,\"showline\":true,\"ticks\":\"outside\",\"zeroline\":false,\"zerolinecolor\":\"rgb(36,36,36)\"}},\"shapedefaults\":{\"fillcolor\":\"black\",\"line\":{\"width\":0},\"opacity\":0.3},\"ternary\":{\"aaxis\":{\"gridcolor\":\"rgb(232,232,232)\",\"linecolor\":\"rgb(36,36,36)\",\"showgrid\":false,\"showline\":true,\"ticks\":\"outside\"},\"baxis\":{\"gridcolor\":\"rgb(232,232,232)\",\"linecolor\":\"rgb(36,36,36)\",\"showgrid\":false,\"showline\":true,\"ticks\":\"outside\"},\"bgcolor\":\"white\",\"caxis\":{\"gridcolor\":\"rgb(232,232,232)\",\"linecolor\":\"rgb(36,36,36)\",\"showgrid\":false,\"showline\":true,\"ticks\":\"outside\"}},\"title\":{\"x\":0.05},\"xaxis\":{\"automargin\":true,\"gridcolor\":\"rgb(232,232,232)\",\"linecolor\":\"rgb(36,36,36)\",\"showgrid\":false,\"showline\":true,\"ticks\":\"outside\",\"title\":{\"standoff\":15},\"zeroline\":false,\"zerolinecolor\":\"rgb(36,36,36)\"},\"yaxis\":{\"automargin\":true,\"gridcolor\":\"rgb(232,232,232)\",\"linecolor\":\"rgb(36,36,36)\",\"showgrid\":false,\"showline\":true,\"ticks\":\"outside\",\"title\":{\"standoff\":15},\"zeroline\":false,\"zerolinecolor\":\"rgb(36,36,36)\"}}},\"xaxis\":{\"anchor\":\"y\",\"domain\":[0.0,1.0],\"title\":{\"text\":\"search time (ms/query)\"},\"range\":[0,0.29],\"linecolor\":\"darkgrey\"},\"yaxis\":{\"anchor\":\"x\",\"domain\":[0.0,1.0],\"title\":{\"text\":\"1-recall@3\"},\"range\":[0.5,1],\"linecolor\":\"darkgrey\"},\"legend\":{\"title\":{\"text\":\"index\"},\"tracegroupgap\":0,\"itemsizing\":\"constant\"},\"margin\":{\"t\":60},\"height\":400,\"width\":650,\"showlegend\":false,\"title\":{\"font\":{\"family\":\"Arial\",\"color\":\"RebeccaPurple\",\"size\":13},\"text\":\"<B><I>( For IVF-based indexes, nprobe=128 )\",\"yanchor\":\"top\",\"y\":0.3,\"xanchor\":\"left\",\"x\":0.15}},                        {\"responsive\": true}                    ).then(function(){\n",
       "                            \n",
       "var gd = document.getElementById('4d0d5ed1-8cc9-4d98-b0d8-bca5125537cc');\n",
       "var x = new MutationObserver(function (mutations, observer) {{\n",
       "        var display = window.getComputedStyle(gd).display;\n",
       "        if (!display || display === 'none') {{\n",
       "            console.log([gd, 'removed!']);\n",
       "            Plotly.purge(gd);\n",
       "            observer.disconnect();\n",
       "        }}\n",
       "}});\n",
       "\n",
       "// Listen for the removal of the full notebook cells\n",
       "var notebookContainer = gd.closest('#notebook-container');\n",
       "if (notebookContainer) {{\n",
       "    x.observe(notebookContainer, {childList: true});\n",
       "}}\n",
       "\n",
       "// Listen for the clearing of the current output cell\n",
       "var outputEl = gd.closest('.output');\n",
       "if (outputEl) {{\n",
       "    x.observe(outputEl, {childList: true});\n",
       "}}\n",
       "\n",
       "                        })                };                });            </script>        </div>"
      ]
     },
     "metadata": {},
     "output_type": "display_data"
    }
   ],
   "source": [
    "fig = px.scatter(df128, x=\"search_time\", y=\"recall@3\", color=\"index\", height=400, width=650,\n",
    "                 template=\"simple_white\", text=\"index\", size=\"index_size\", size_max=50)     \n",
    "\n",
    "positions = [\"bottom right\", \"top center\", \"top center\", \"bottom center\"]\n",
    "\n",
    "for i, fdata in enumerate(fig.data):   \n",
    "    fdata.textposition = positions[i]\n",
    "    fdata.marker.opacity = 0.8\n",
    "    fdata.marker.color = colors_gorb[i]    \n",
    "    fdata.textfont.color = colors_gorb[i]   \n",
    "    fdata.textfont.size = 13    \n",
    "    fdata.textfont.family=\"Arial\"\n",
    "    \n",
    "fig.update_traces(mode='markers+text')#, textposition=\"middle right\") \n",
    "fig.update_traces(texttemplate=\"%{text}<br>(%{marker.size:,d} MB)\")\n",
    "fig.update_layout(xaxis_title_text=\"search time (ms/query)\", yaxis_title_text=\"1-recall@3\", yaxis_range=[0.5, 1], xaxis_range=[0, 0.29], showlegend=False)\n",
    "fig.update_layout(title=dict(text=\"<B><I>( For IVF-based indexes, nprobe=128 )\", yanchor=\"top\", y=0.3, xanchor=\"left\", x=0.15, \n",
    "                             font_family=\"Arial\", font_color=\"RebeccaPurple\", font_size=13))\n",
    "fig.update_xaxes(linecolor='darkgrey')\n",
    "fig.update_yaxes(linecolor='darkgrey')\n",
    "fig.show()\n",
    "fig.write_html(\"nprobe128_search_recall_bubble0.html\")"
   ]
  },
  {
   "cell_type": "code",
   "execution_count": 64,
   "id": "14810536",
   "metadata": {
    "execution": {
     "iopub.execute_input": "2022-08-24T06:42:54.249710Z",
     "iopub.status.busy": "2022-08-24T06:42:54.249348Z",
     "iopub.status.idle": "2022-08-24T06:42:54.342974Z",
     "shell.execute_reply": "2022-08-24T06:42:54.342060Z"
    },
    "papermill": {
     "duration": 0.708944,
     "end_time": "2022-08-24T06:42:54.345147",
     "exception": false,
     "start_time": "2022-08-24T06:42:53.636203",
     "status": "completed"
    },
    "tags": []
   },
   "outputs": [
    {
     "data": {
      "text/html": [
       "<div>                            <div id=\"b8f301a8-3e1d-4109-8093-2f36494a44b6\" class=\"plotly-graph-div\" style=\"height:400px; width:650px;\"></div>            <script type=\"text/javascript\">                require([\"plotly\"], function(Plotly) {                    window.PLOTLYENV=window.PLOTLYENV || {};                                    if (document.getElementById(\"b8f301a8-3e1d-4109-8093-2f36494a44b6\")) {                    Plotly.newPlot(                        \"b8f301a8-3e1d-4109-8093-2f36494a44b6\",                        [{\"hovertemplate\":\"index=%{text}<br>search_time=%{x}<br>recall@3=%{y}<br>index_size=%{marker.size}<extra></extra>\",\"legendgroup\":\"IVF65536_HNSW32,PQ32\",\"marker\":{\"color\":\"#2CA02C\",\"size\":[154.209972],\"sizemode\":\"area\",\"sizeref\":0.9409698183999999,\"symbol\":\"circle\",\"opacity\":0.8},\"mode\":\"markers+text\",\"name\":\"IVF65536_HNSW32,PQ32\",\"orientation\":\"v\",\"showlegend\":true,\"text\":[\"IVF65536_HNSW32,PQ32\"],\"x\":[0.03318452835083008],\"xaxis\":\"x\",\"y\":[0.765],\"yaxis\":\"y\",\"type\":\"scatter\",\"textposition\":\"bottom right\",\"textfont\":{\"color\":\"#2CA02C\",\"size\":13,\"family\":\"Arial\"},\"texttemplate\":\"%{text}<br>(%{marker.size:,d} MB)\"},{\"hovertemplate\":\"index=%{text}<br>search_time=%{x}<br>recall@3=%{y}<br>index_size=%{marker.size}<extra></extra>\",\"legendgroup\":\"IVF65536_HNSW32,Flat\",\"marker\":{\"color\":\"#FF7F0E\",\"size\":[1594.078859],\"sizemode\":\"area\",\"sizeref\":0.9409698183999999,\"symbol\":\"circle\",\"opacity\":0.8},\"mode\":\"markers+text\",\"name\":\"IVF65536_HNSW32,Flat\",\"orientation\":\"v\",\"showlegend\":true,\"text\":[\"IVF65536_HNSW32,Flat\"],\"x\":[0.055385589599609375],\"xaxis\":\"x\",\"y\":[0.84],\"yaxis\":\"y\",\"type\":\"scatter\",\"textposition\":\"top center\",\"textfont\":{\"color\":\"#FF7F0E\",\"size\":13,\"family\":\"Arial\"},\"texttemplate\":\"%{text}<br>(%{marker.size:,d} MB)\"},{\"hovertemplate\":\"index=%{text}<br>search_time=%{x}<br>recall@3=%{y}<br>index_size=%{marker.size}<extra></extra>\",\"legendgroup\":\"HNSW32,Flat\",\"marker\":{\"color\":\"#D62728\",\"size\":[2352.4245459999997],\"sizemode\":\"area\",\"sizeref\":0.9409698183999999,\"symbol\":\"circle\",\"opacity\":0.8},\"mode\":\"markers+text\",\"name\":\"HNSW32,Flat\",\"orientation\":\"v\",\"showlegend\":true,\"text\":[\"HNSW32,Flat\"],\"x\":[0.13288354873657227],\"xaxis\":\"x\",\"y\":[0.85],\"yaxis\":\"y\",\"type\":\"scatter\",\"textposition\":\"top center\",\"textfont\":{\"color\":\"#D62728\",\"size\":13,\"family\":\"Arial\"},\"texttemplate\":\"%{text}<br>(%{marker.size:,d} MB)\"},{\"hovertemplate\":\"index=%{text}<br>search_time=%{x}<br>recall@3=%{y}<br>index_size=%{marker.size}<extra></extra>\",\"legendgroup\":\"HNSW32_PQ32\",\"marker\":{\"color\":\"#1F77B4\",\"size\":[912.555659],\"sizemode\":\"area\",\"sizeref\":0.9409698183999999,\"symbol\":\"circle\",\"opacity\":0.8},\"mode\":\"markers+text\",\"name\":\"HNSW32_PQ32\",\"orientation\":\"v\",\"showlegend\":true,\"text\":[\"HNSW32_PQ32\"],\"x\":[0.11576581001281738],\"xaxis\":\"x\",\"y\":[0.789],\"yaxis\":\"y\",\"type\":\"scatter\",\"textposition\":\"bottom right\",\"textfont\":{\"color\":\"#1F77B4\",\"size\":13,\"family\":\"Arial\"},\"texttemplate\":\"%{text}<br>(%{marker.size:,d} MB)\"}],                        {\"template\":{\"data\":{\"barpolar\":[{\"marker\":{\"line\":{\"color\":\"white\",\"width\":0.5},\"pattern\":{\"fillmode\":\"overlay\",\"size\":10,\"solidity\":0.2}},\"type\":\"barpolar\"}],\"bar\":[{\"error_x\":{\"color\":\"rgb(36,36,36)\"},\"error_y\":{\"color\":\"rgb(36,36,36)\"},\"marker\":{\"line\":{\"color\":\"white\",\"width\":0.5},\"pattern\":{\"fillmode\":\"overlay\",\"size\":10,\"solidity\":0.2}},\"type\":\"bar\"}],\"carpet\":[{\"aaxis\":{\"endlinecolor\":\"rgb(36,36,36)\",\"gridcolor\":\"white\",\"linecolor\":\"white\",\"minorgridcolor\":\"white\",\"startlinecolor\":\"rgb(36,36,36)\"},\"baxis\":{\"endlinecolor\":\"rgb(36,36,36)\",\"gridcolor\":\"white\",\"linecolor\":\"white\",\"minorgridcolor\":\"white\",\"startlinecolor\":\"rgb(36,36,36)\"},\"type\":\"carpet\"}],\"choropleth\":[{\"colorbar\":{\"outlinewidth\":1,\"tickcolor\":\"rgb(36,36,36)\",\"ticks\":\"outside\"},\"type\":\"choropleth\"}],\"contourcarpet\":[{\"colorbar\":{\"outlinewidth\":1,\"tickcolor\":\"rgb(36,36,36)\",\"ticks\":\"outside\"},\"type\":\"contourcarpet\"}],\"contour\":[{\"colorbar\":{\"outlinewidth\":1,\"tickcolor\":\"rgb(36,36,36)\",\"ticks\":\"outside\"},\"colorscale\":[[0.0,\"#440154\"],[0.1111111111111111,\"#482878\"],[0.2222222222222222,\"#3e4989\"],[0.3333333333333333,\"#31688e\"],[0.4444444444444444,\"#26828e\"],[0.5555555555555556,\"#1f9e89\"],[0.6666666666666666,\"#35b779\"],[0.7777777777777778,\"#6ece58\"],[0.8888888888888888,\"#b5de2b\"],[1.0,\"#fde725\"]],\"type\":\"contour\"}],\"heatmapgl\":[{\"colorbar\":{\"outlinewidth\":1,\"tickcolor\":\"rgb(36,36,36)\",\"ticks\":\"outside\"},\"colorscale\":[[0.0,\"#440154\"],[0.1111111111111111,\"#482878\"],[0.2222222222222222,\"#3e4989\"],[0.3333333333333333,\"#31688e\"],[0.4444444444444444,\"#26828e\"],[0.5555555555555556,\"#1f9e89\"],[0.6666666666666666,\"#35b779\"],[0.7777777777777778,\"#6ece58\"],[0.8888888888888888,\"#b5de2b\"],[1.0,\"#fde725\"]],\"type\":\"heatmapgl\"}],\"heatmap\":[{\"colorbar\":{\"outlinewidth\":1,\"tickcolor\":\"rgb(36,36,36)\",\"ticks\":\"outside\"},\"colorscale\":[[0.0,\"#440154\"],[0.1111111111111111,\"#482878\"],[0.2222222222222222,\"#3e4989\"],[0.3333333333333333,\"#31688e\"],[0.4444444444444444,\"#26828e\"],[0.5555555555555556,\"#1f9e89\"],[0.6666666666666666,\"#35b779\"],[0.7777777777777778,\"#6ece58\"],[0.8888888888888888,\"#b5de2b\"],[1.0,\"#fde725\"]],\"type\":\"heatmap\"}],\"histogram2dcontour\":[{\"colorbar\":{\"outlinewidth\":1,\"tickcolor\":\"rgb(36,36,36)\",\"ticks\":\"outside\"},\"colorscale\":[[0.0,\"#440154\"],[0.1111111111111111,\"#482878\"],[0.2222222222222222,\"#3e4989\"],[0.3333333333333333,\"#31688e\"],[0.4444444444444444,\"#26828e\"],[0.5555555555555556,\"#1f9e89\"],[0.6666666666666666,\"#35b779\"],[0.7777777777777778,\"#6ece58\"],[0.8888888888888888,\"#b5de2b\"],[1.0,\"#fde725\"]],\"type\":\"histogram2dcontour\"}],\"histogram2d\":[{\"colorbar\":{\"outlinewidth\":1,\"tickcolor\":\"rgb(36,36,36)\",\"ticks\":\"outside\"},\"colorscale\":[[0.0,\"#440154\"],[0.1111111111111111,\"#482878\"],[0.2222222222222222,\"#3e4989\"],[0.3333333333333333,\"#31688e\"],[0.4444444444444444,\"#26828e\"],[0.5555555555555556,\"#1f9e89\"],[0.6666666666666666,\"#35b779\"],[0.7777777777777778,\"#6ece58\"],[0.8888888888888888,\"#b5de2b\"],[1.0,\"#fde725\"]],\"type\":\"histogram2d\"}],\"histogram\":[{\"marker\":{\"line\":{\"color\":\"white\",\"width\":0.6}},\"type\":\"histogram\"}],\"mesh3d\":[{\"colorbar\":{\"outlinewidth\":1,\"tickcolor\":\"rgb(36,36,36)\",\"ticks\":\"outside\"},\"type\":\"mesh3d\"}],\"parcoords\":[{\"line\":{\"colorbar\":{\"outlinewidth\":1,\"tickcolor\":\"rgb(36,36,36)\",\"ticks\":\"outside\"}},\"type\":\"parcoords\"}],\"pie\":[{\"automargin\":true,\"type\":\"pie\"}],\"scatter3d\":[{\"line\":{\"colorbar\":{\"outlinewidth\":1,\"tickcolor\":\"rgb(36,36,36)\",\"ticks\":\"outside\"}},\"marker\":{\"colorbar\":{\"outlinewidth\":1,\"tickcolor\":\"rgb(36,36,36)\",\"ticks\":\"outside\"}},\"type\":\"scatter3d\"}],\"scattercarpet\":[{\"marker\":{\"colorbar\":{\"outlinewidth\":1,\"tickcolor\":\"rgb(36,36,36)\",\"ticks\":\"outside\"}},\"type\":\"scattercarpet\"}],\"scattergeo\":[{\"marker\":{\"colorbar\":{\"outlinewidth\":1,\"tickcolor\":\"rgb(36,36,36)\",\"ticks\":\"outside\"}},\"type\":\"scattergeo\"}],\"scattergl\":[{\"marker\":{\"colorbar\":{\"outlinewidth\":1,\"tickcolor\":\"rgb(36,36,36)\",\"ticks\":\"outside\"}},\"type\":\"scattergl\"}],\"scattermapbox\":[{\"marker\":{\"colorbar\":{\"outlinewidth\":1,\"tickcolor\":\"rgb(36,36,36)\",\"ticks\":\"outside\"}},\"type\":\"scattermapbox\"}],\"scatterpolargl\":[{\"marker\":{\"colorbar\":{\"outlinewidth\":1,\"tickcolor\":\"rgb(36,36,36)\",\"ticks\":\"outside\"}},\"type\":\"scatterpolargl\"}],\"scatterpolar\":[{\"marker\":{\"colorbar\":{\"outlinewidth\":1,\"tickcolor\":\"rgb(36,36,36)\",\"ticks\":\"outside\"}},\"type\":\"scatterpolar\"}],\"scatter\":[{\"fillpattern\":{\"fillmode\":\"overlay\",\"size\":10,\"solidity\":0.2},\"type\":\"scatter\"}],\"scatterternary\":[{\"marker\":{\"colorbar\":{\"outlinewidth\":1,\"tickcolor\":\"rgb(36,36,36)\",\"ticks\":\"outside\"}},\"type\":\"scatterternary\"}],\"surface\":[{\"colorbar\":{\"outlinewidth\":1,\"tickcolor\":\"rgb(36,36,36)\",\"ticks\":\"outside\"},\"colorscale\":[[0.0,\"#440154\"],[0.1111111111111111,\"#482878\"],[0.2222222222222222,\"#3e4989\"],[0.3333333333333333,\"#31688e\"],[0.4444444444444444,\"#26828e\"],[0.5555555555555556,\"#1f9e89\"],[0.6666666666666666,\"#35b779\"],[0.7777777777777778,\"#6ece58\"],[0.8888888888888888,\"#b5de2b\"],[1.0,\"#fde725\"]],\"type\":\"surface\"}],\"table\":[{\"cells\":{\"fill\":{\"color\":\"rgb(237,237,237)\"},\"line\":{\"color\":\"white\"}},\"header\":{\"fill\":{\"color\":\"rgb(217,217,217)\"},\"line\":{\"color\":\"white\"}},\"type\":\"table\"}]},\"layout\":{\"annotationdefaults\":{\"arrowhead\":0,\"arrowwidth\":1},\"autotypenumbers\":\"strict\",\"coloraxis\":{\"colorbar\":{\"outlinewidth\":1,\"tickcolor\":\"rgb(36,36,36)\",\"ticks\":\"outside\"}},\"colorscale\":{\"diverging\":[[0.0,\"rgb(103,0,31)\"],[0.1,\"rgb(178,24,43)\"],[0.2,\"rgb(214,96,77)\"],[0.3,\"rgb(244,165,130)\"],[0.4,\"rgb(253,219,199)\"],[0.5,\"rgb(247,247,247)\"],[0.6,\"rgb(209,229,240)\"],[0.7,\"rgb(146,197,222)\"],[0.8,\"rgb(67,147,195)\"],[0.9,\"rgb(33,102,172)\"],[1.0,\"rgb(5,48,97)\"]],\"sequential\":[[0.0,\"#440154\"],[0.1111111111111111,\"#482878\"],[0.2222222222222222,\"#3e4989\"],[0.3333333333333333,\"#31688e\"],[0.4444444444444444,\"#26828e\"],[0.5555555555555556,\"#1f9e89\"],[0.6666666666666666,\"#35b779\"],[0.7777777777777778,\"#6ece58\"],[0.8888888888888888,\"#b5de2b\"],[1.0,\"#fde725\"]],\"sequentialminus\":[[0.0,\"#440154\"],[0.1111111111111111,\"#482878\"],[0.2222222222222222,\"#3e4989\"],[0.3333333333333333,\"#31688e\"],[0.4444444444444444,\"#26828e\"],[0.5555555555555556,\"#1f9e89\"],[0.6666666666666666,\"#35b779\"],[0.7777777777777778,\"#6ece58\"],[0.8888888888888888,\"#b5de2b\"],[1.0,\"#fde725\"]]},\"colorway\":[\"#1F77B4\",\"#FF7F0E\",\"#2CA02C\",\"#D62728\",\"#9467BD\",\"#8C564B\",\"#E377C2\",\"#7F7F7F\",\"#BCBD22\",\"#17BECF\"],\"font\":{\"color\":\"rgb(36,36,36)\"},\"geo\":{\"bgcolor\":\"white\",\"lakecolor\":\"white\",\"landcolor\":\"white\",\"showlakes\":true,\"showland\":true,\"subunitcolor\":\"white\"},\"hoverlabel\":{\"align\":\"left\"},\"hovermode\":\"closest\",\"mapbox\":{\"style\":\"light\"},\"paper_bgcolor\":\"white\",\"plot_bgcolor\":\"white\",\"polar\":{\"angularaxis\":{\"gridcolor\":\"rgb(232,232,232)\",\"linecolor\":\"rgb(36,36,36)\",\"showgrid\":false,\"showline\":true,\"ticks\":\"outside\"},\"bgcolor\":\"white\",\"radialaxis\":{\"gridcolor\":\"rgb(232,232,232)\",\"linecolor\":\"rgb(36,36,36)\",\"showgrid\":false,\"showline\":true,\"ticks\":\"outside\"}},\"scene\":{\"xaxis\":{\"backgroundcolor\":\"white\",\"gridcolor\":\"rgb(232,232,232)\",\"gridwidth\":2,\"linecolor\":\"rgb(36,36,36)\",\"showbackground\":true,\"showgrid\":false,\"showline\":true,\"ticks\":\"outside\",\"zeroline\":false,\"zerolinecolor\":\"rgb(36,36,36)\"},\"yaxis\":{\"backgroundcolor\":\"white\",\"gridcolor\":\"rgb(232,232,232)\",\"gridwidth\":2,\"linecolor\":\"rgb(36,36,36)\",\"showbackground\":true,\"showgrid\":false,\"showline\":true,\"ticks\":\"outside\",\"zeroline\":false,\"zerolinecolor\":\"rgb(36,36,36)\"},\"zaxis\":{\"backgroundcolor\":\"white\",\"gridcolor\":\"rgb(232,232,232)\",\"gridwidth\":2,\"linecolor\":\"rgb(36,36,36)\",\"showbackground\":true,\"showgrid\":false,\"showline\":true,\"ticks\":\"outside\",\"zeroline\":false,\"zerolinecolor\":\"rgb(36,36,36)\"}},\"shapedefaults\":{\"fillcolor\":\"black\",\"line\":{\"width\":0},\"opacity\":0.3},\"ternary\":{\"aaxis\":{\"gridcolor\":\"rgb(232,232,232)\",\"linecolor\":\"rgb(36,36,36)\",\"showgrid\":false,\"showline\":true,\"ticks\":\"outside\"},\"baxis\":{\"gridcolor\":\"rgb(232,232,232)\",\"linecolor\":\"rgb(36,36,36)\",\"showgrid\":false,\"showline\":true,\"ticks\":\"outside\"},\"bgcolor\":\"white\",\"caxis\":{\"gridcolor\":\"rgb(232,232,232)\",\"linecolor\":\"rgb(36,36,36)\",\"showgrid\":false,\"showline\":true,\"ticks\":\"outside\"}},\"title\":{\"x\":0.05},\"xaxis\":{\"automargin\":true,\"gridcolor\":\"rgb(232,232,232)\",\"linecolor\":\"rgb(36,36,36)\",\"showgrid\":false,\"showline\":true,\"ticks\":\"outside\",\"title\":{\"standoff\":15},\"zeroline\":false,\"zerolinecolor\":\"rgb(36,36,36)\"},\"yaxis\":{\"automargin\":true,\"gridcolor\":\"rgb(232,232,232)\",\"linecolor\":\"rgb(36,36,36)\",\"showgrid\":false,\"showline\":true,\"ticks\":\"outside\",\"title\":{\"standoff\":15},\"zeroline\":false,\"zerolinecolor\":\"rgb(36,36,36)\"}}},\"xaxis\":{\"anchor\":\"y\",\"domain\":[0.0,1.0],\"title\":{\"text\":\"search time (ms/query)\"},\"range\":[0,0.29],\"linecolor\":\"darkgrey\"},\"yaxis\":{\"anchor\":\"x\",\"domain\":[0.0,1.0],\"title\":{\"text\":\"1-recall@3\"},\"range\":[0.5,1],\"linecolor\":\"darkgrey\"},\"legend\":{\"title\":{\"text\":\"index\"},\"tracegroupgap\":0,\"itemsizing\":\"constant\"},\"margin\":{\"t\":60},\"height\":400,\"width\":650,\"showlegend\":false,\"title\":{\"font\":{\"family\":\"Arial\",\"color\":\"RebeccaPurple\",\"size\":13},\"text\":\"<B><I>( For IVF-based indexes, nprobe=128 )\",\"yanchor\":\"top\",\"y\":0.3,\"xanchor\":\"left\",\"x\":0.15}},                        {\"responsive\": true}                    ).then(function(){\n",
       "                            \n",
       "var gd = document.getElementById('b8f301a8-3e1d-4109-8093-2f36494a44b6');\n",
       "var x = new MutationObserver(function (mutations, observer) {{\n",
       "        var display = window.getComputedStyle(gd).display;\n",
       "        if (!display || display === 'none') {{\n",
       "            console.log([gd, 'removed!']);\n",
       "            Plotly.purge(gd);\n",
       "            observer.disconnect();\n",
       "        }}\n",
       "}});\n",
       "\n",
       "// Listen for the removal of the full notebook cells\n",
       "var notebookContainer = gd.closest('#notebook-container');\n",
       "if (notebookContainer) {{\n",
       "    x.observe(notebookContainer, {childList: true});\n",
       "}}\n",
       "\n",
       "// Listen for the clearing of the current output cell\n",
       "var outputEl = gd.closest('.output');\n",
       "if (outputEl) {{\n",
       "    x.observe(outputEl, {childList: true});\n",
       "}}\n",
       "\n",
       "                        })                };                });            </script>        </div>"
      ]
     },
     "metadata": {},
     "output_type": "display_data"
    }
   ],
   "source": [
    "fig = px.scatter(df128, x=\"search_time\", y=\"recall@3\", color=\"index\", height=400, width=650,\n",
    "                 template=\"simple_white\", text=\"index\", size=\"index_size\", size_max=50)     \n",
    "\n",
    "positions = [\"bottom right\", \"top center\", \"top center\", \"bottom right\"]\n",
    "\n",
    "for i, fdata in enumerate(fig.data):   \n",
    "    fdata.textposition = positions[i]\n",
    "    fdata.marker.opacity = 0.8\n",
    "    fdata.marker.color = colors_gorb[i]    \n",
    "    fdata.textfont.color = colors_gorb[i]   \n",
    "    fdata.textfont.size = 13 \n",
    "    fdata.textfont.family=\"Arial\"\n",
    "    \n",
    "fig.update_traces(mode='markers+text')#, textposition=\"middle right\") \n",
    "fig.update_traces(texttemplate=\"%{text}<br>(%{marker.size:,d} MB)\")\n",
    "fig.update_layout(xaxis_title_text=\"search time (ms/query)\", yaxis_title_text=\"1-recall@3\", yaxis_range=[0.5, 1], xaxis_range=[0, 0.29], showlegend=False)\n",
    "fig.update_layout(title=dict(text=\"<B><I>( For IVF-based indexes, nprobe=128 )\", yanchor=\"top\", y=0.3, xanchor=\"left\", x=0.15, \n",
    "                             font_family=\"Arial\", font_color=\"RebeccaPurple\", font_size=13))\n",
    "fig.update_xaxes(linecolor='darkgrey')\n",
    "fig.update_yaxes(linecolor='darkgrey')\n",
    "fig.show()\n",
    "fig.write_html(\"nprobe128_search_recall_bubble.html\")"
   ]
  },
  {
   "cell_type": "code",
   "execution_count": 65,
   "id": "6b29f669",
   "metadata": {
    "execution": {
     "iopub.execute_input": "2022-08-24T06:42:55.653864Z",
     "iopub.status.busy": "2022-08-24T06:42:55.652905Z",
     "iopub.status.idle": "2022-08-24T06:42:55.669961Z",
     "shell.execute_reply": "2022-08-24T06:42:55.668943Z"
    },
    "papermill": {
     "duration": 0.690731,
     "end_time": "2022-08-24T06:42:55.672452",
     "exception": false,
     "start_time": "2022-08-24T06:42:54.981721",
     "status": "completed"
    },
    "tags": []
   },
   "outputs": [
    {
     "data": {
      "text/html": [
       "<div>\n",
       "<style scoped>\n",
       "    .dataframe tbody tr th:only-of-type {\n",
       "        vertical-align: middle;\n",
       "    }\n",
       "\n",
       "    .dataframe tbody tr th {\n",
       "        vertical-align: top;\n",
       "    }\n",
       "\n",
       "    .dataframe thead th {\n",
       "        text-align: right;\n",
       "    }\n",
       "</style>\n",
       "<table border=\"1\" class=\"dataframe\">\n",
       "  <thead>\n",
       "    <tr style=\"text-align: right;\">\n",
       "      <th></th>\n",
       "      <th>index</th>\n",
       "      <th>M</th>\n",
       "      <th>nprobe</th>\n",
       "      <th>nsegment</th>\n",
       "      <th>recall@1</th>\n",
       "      <th>recall@3</th>\n",
       "      <th>recall@5</th>\n",
       "      <th>train_time</th>\n",
       "      <th>index_time</th>\n",
       "      <th>search_time</th>\n",
       "      <th>index_size</th>\n",
       "    </tr>\n",
       "  </thead>\n",
       "  <tbody>\n",
       "    <tr>\n",
       "      <th>5</th>\n",
       "      <td>IVF65536_HNSW32,PQ32</td>\n",
       "      <td>32</td>\n",
       "      <td>256</td>\n",
       "      <td>32</td>\n",
       "      <td>0.563</td>\n",
       "      <td>0.804</td>\n",
       "      <td>0.856</td>\n",
       "      <td>144.403778</td>\n",
       "      <td>23.839422</td>\n",
       "      <td>0.074435</td>\n",
       "      <td>154.209972</td>\n",
       "    </tr>\n",
       "    <tr>\n",
       "      <th>13</th>\n",
       "      <td>IVF65536_HNSW32,Flat</td>\n",
       "      <td>32</td>\n",
       "      <td>256</td>\n",
       "      <td>0</td>\n",
       "      <td>0.904</td>\n",
       "      <td>0.904</td>\n",
       "      <td>0.904</td>\n",
       "      <td>84.892702</td>\n",
       "      <td>18.270943</td>\n",
       "      <td>0.088980</td>\n",
       "      <td>1594.078859</td>\n",
       "    </tr>\n",
       "    <tr>\n",
       "      <th>16</th>\n",
       "      <td>HNSW32,Flat</td>\n",
       "      <td>32</td>\n",
       "      <td>0</td>\n",
       "      <td>0</td>\n",
       "      <td>0.850</td>\n",
       "      <td>0.850</td>\n",
       "      <td>0.850</td>\n",
       "      <td>None</td>\n",
       "      <td>828.196047</td>\n",
       "      <td>0.132884</td>\n",
       "      <td>2352.424546</td>\n",
       "    </tr>\n",
       "    <tr>\n",
       "      <th>17</th>\n",
       "      <td>HNSW32_PQ32</td>\n",
       "      <td>32</td>\n",
       "      <td>0</td>\n",
       "      <td>32</td>\n",
       "      <td>0.629</td>\n",
       "      <td>0.789</td>\n",
       "      <td>0.810</td>\n",
       "      <td>62.063184</td>\n",
       "      <td>618.958291</td>\n",
       "      <td>0.115766</td>\n",
       "      <td>912.555659</td>\n",
       "    </tr>\n",
       "  </tbody>\n",
       "</table>\n",
       "</div>"
      ],
      "text/plain": [
       "                   index   M  nprobe  nsegment  recall@1  recall@3  recall@5  \\\n",
       "5   IVF65536_HNSW32,PQ32  32     256        32     0.563     0.804     0.856   \n",
       "13  IVF65536_HNSW32,Flat  32     256         0     0.904     0.904     0.904   \n",
       "16           HNSW32,Flat  32       0         0     0.850     0.850     0.850   \n",
       "17           HNSW32_PQ32  32       0        32     0.629     0.789     0.810   \n",
       "\n",
       "    train_time  index_time  search_time   index_size  \n",
       "5   144.403778   23.839422     0.074435   154.209972  \n",
       "13   84.892702   18.270943     0.088980  1594.078859  \n",
       "16        None  828.196047     0.132884  2352.424546  \n",
       "17   62.063184  618.958291     0.115766   912.555659  "
      ]
     },
     "execution_count": 65,
     "metadata": {},
     "output_type": "execute_result"
    }
   ],
   "source": [
    "df256 = df[(df[\"nprobe\"]==256) | (df[\"index\"]==\"HNSW32,Flat\") | (df[\"index\"]==\"HNSW32_PQ32\")].copy()\n",
    "df256"
   ]
  },
  {
   "cell_type": "code",
   "execution_count": 66,
   "id": "0a27de93",
   "metadata": {
    "execution": {
     "iopub.execute_input": "2022-08-24T06:42:56.914748Z",
     "iopub.status.busy": "2022-08-24T06:42:56.914379Z",
     "iopub.status.idle": "2022-08-24T06:42:57.008700Z",
     "shell.execute_reply": "2022-08-24T06:42:57.007799Z"
    },
    "papermill": {
     "duration": 0.708133,
     "end_time": "2022-08-24T06:42:57.010836",
     "exception": false,
     "start_time": "2022-08-24T06:42:56.302703",
     "status": "completed"
    },
    "tags": []
   },
   "outputs": [
    {
     "data": {
      "text/html": [
       "<div>                            <div id=\"644237d8-6e99-433f-a0fe-21ae98052f63\" class=\"plotly-graph-div\" style=\"height:400px; width:650px;\"></div>            <script type=\"text/javascript\">                require([\"plotly\"], function(Plotly) {                    window.PLOTLYENV=window.PLOTLYENV || {};                                    if (document.getElementById(\"644237d8-6e99-433f-a0fe-21ae98052f63\")) {                    Plotly.newPlot(                        \"644237d8-6e99-433f-a0fe-21ae98052f63\",                        [{\"hovertemplate\":\"index=%{text}<br>search_time=%{x}<br>recall@3=%{y}<br>index_size=%{marker.size}<extra></extra>\",\"legendgroup\":\"IVF65536_HNSW32,PQ32\",\"marker\":{\"color\":\"#2CA02C\",\"size\":[154.209972],\"sizemode\":\"area\",\"sizeref\":0.9409698183999999,\"symbol\":\"circle\",\"opacity\":0.8},\"mode\":\"markers+text\",\"name\":\"IVF65536_HNSW32,PQ32\",\"orientation\":\"v\",\"showlegend\":true,\"text\":[\"IVF65536_HNSW32,PQ32\"],\"x\":[0.07443547248840332],\"xaxis\":\"x\",\"y\":[0.804],\"yaxis\":\"y\",\"type\":\"scatter\",\"textposition\":\"bottom center\",\"textfont\":{\"color\":\"#2CA02C\",\"size\":13,\"family\":\"Arial\"},\"texttemplate\":\"%{text}<br>(%{marker.size:,d} MB)\"},{\"hovertemplate\":\"index=%{text}<br>search_time=%{x}<br>recall@3=%{y}<br>index_size=%{marker.size}<extra></extra>\",\"legendgroup\":\"IVF65536_HNSW32,Flat\",\"marker\":{\"color\":\"#FF7F0E\",\"size\":[1594.078859],\"sizemode\":\"area\",\"sizeref\":0.9409698183999999,\"symbol\":\"circle\",\"opacity\":0.8},\"mode\":\"markers+text\",\"name\":\"IVF65536_HNSW32,Flat\",\"orientation\":\"v\",\"showlegend\":true,\"text\":[\"IVF65536_HNSW32,Flat\"],\"x\":[0.08897972106933594],\"xaxis\":\"x\",\"y\":[0.904],\"yaxis\":\"y\",\"type\":\"scatter\",\"textposition\":\"top center\",\"textfont\":{\"color\":\"#FF7F0E\",\"size\":13,\"family\":\"Arial\"},\"texttemplate\":\"%{text}<br>(%{marker.size:,d} MB)\"},{\"hovertemplate\":\"index=%{text}<br>search_time=%{x}<br>recall@3=%{y}<br>index_size=%{marker.size}<extra></extra>\",\"legendgroup\":\"HNSW32,Flat\",\"marker\":{\"color\":\"#D62728\",\"size\":[2352.4245459999997],\"sizemode\":\"area\",\"sizeref\":0.9409698183999999,\"symbol\":\"circle\",\"opacity\":0.8},\"mode\":\"markers+text\",\"name\":\"HNSW32,Flat\",\"orientation\":\"v\",\"showlegend\":true,\"text\":[\"HNSW32,Flat\"],\"x\":[0.13288354873657227],\"xaxis\":\"x\",\"y\":[0.85],\"yaxis\":\"y\",\"type\":\"scatter\",\"textposition\":\"top center\",\"textfont\":{\"color\":\"#D62728\",\"size\":13,\"family\":\"Arial\"},\"texttemplate\":\"%{text}<br>(%{marker.size:,d} MB)\"},{\"hovertemplate\":\"index=%{text}<br>search_time=%{x}<br>recall@3=%{y}<br>index_size=%{marker.size}<extra></extra>\",\"legendgroup\":\"HNSW32_PQ32\",\"marker\":{\"color\":\"#1F77B4\",\"size\":[912.555659],\"sizemode\":\"area\",\"sizeref\":0.9409698183999999,\"symbol\":\"circle\",\"opacity\":0.8},\"mode\":\"markers+text\",\"name\":\"HNSW32_PQ32\",\"orientation\":\"v\",\"showlegend\":true,\"text\":[\"HNSW32_PQ32\"],\"x\":[0.11576581001281738],\"xaxis\":\"x\",\"y\":[0.789],\"yaxis\":\"y\",\"type\":\"scatter\",\"textposition\":\"bottom right\",\"textfont\":{\"color\":\"#1F77B4\",\"size\":13,\"family\":\"Arial\"},\"texttemplate\":\"%{text}<br>(%{marker.size:,d} MB)\"}],                        {\"template\":{\"data\":{\"barpolar\":[{\"marker\":{\"line\":{\"color\":\"white\",\"width\":0.5},\"pattern\":{\"fillmode\":\"overlay\",\"size\":10,\"solidity\":0.2}},\"type\":\"barpolar\"}],\"bar\":[{\"error_x\":{\"color\":\"rgb(36,36,36)\"},\"error_y\":{\"color\":\"rgb(36,36,36)\"},\"marker\":{\"line\":{\"color\":\"white\",\"width\":0.5},\"pattern\":{\"fillmode\":\"overlay\",\"size\":10,\"solidity\":0.2}},\"type\":\"bar\"}],\"carpet\":[{\"aaxis\":{\"endlinecolor\":\"rgb(36,36,36)\",\"gridcolor\":\"white\",\"linecolor\":\"white\",\"minorgridcolor\":\"white\",\"startlinecolor\":\"rgb(36,36,36)\"},\"baxis\":{\"endlinecolor\":\"rgb(36,36,36)\",\"gridcolor\":\"white\",\"linecolor\":\"white\",\"minorgridcolor\":\"white\",\"startlinecolor\":\"rgb(36,36,36)\"},\"type\":\"carpet\"}],\"choropleth\":[{\"colorbar\":{\"outlinewidth\":1,\"tickcolor\":\"rgb(36,36,36)\",\"ticks\":\"outside\"},\"type\":\"choropleth\"}],\"contourcarpet\":[{\"colorbar\":{\"outlinewidth\":1,\"tickcolor\":\"rgb(36,36,36)\",\"ticks\":\"outside\"},\"type\":\"contourcarpet\"}],\"contour\":[{\"colorbar\":{\"outlinewidth\":1,\"tickcolor\":\"rgb(36,36,36)\",\"ticks\":\"outside\"},\"colorscale\":[[0.0,\"#440154\"],[0.1111111111111111,\"#482878\"],[0.2222222222222222,\"#3e4989\"],[0.3333333333333333,\"#31688e\"],[0.4444444444444444,\"#26828e\"],[0.5555555555555556,\"#1f9e89\"],[0.6666666666666666,\"#35b779\"],[0.7777777777777778,\"#6ece58\"],[0.8888888888888888,\"#b5de2b\"],[1.0,\"#fde725\"]],\"type\":\"contour\"}],\"heatmapgl\":[{\"colorbar\":{\"outlinewidth\":1,\"tickcolor\":\"rgb(36,36,36)\",\"ticks\":\"outside\"},\"colorscale\":[[0.0,\"#440154\"],[0.1111111111111111,\"#482878\"],[0.2222222222222222,\"#3e4989\"],[0.3333333333333333,\"#31688e\"],[0.4444444444444444,\"#26828e\"],[0.5555555555555556,\"#1f9e89\"],[0.6666666666666666,\"#35b779\"],[0.7777777777777778,\"#6ece58\"],[0.8888888888888888,\"#b5de2b\"],[1.0,\"#fde725\"]],\"type\":\"heatmapgl\"}],\"heatmap\":[{\"colorbar\":{\"outlinewidth\":1,\"tickcolor\":\"rgb(36,36,36)\",\"ticks\":\"outside\"},\"colorscale\":[[0.0,\"#440154\"],[0.1111111111111111,\"#482878\"],[0.2222222222222222,\"#3e4989\"],[0.3333333333333333,\"#31688e\"],[0.4444444444444444,\"#26828e\"],[0.5555555555555556,\"#1f9e89\"],[0.6666666666666666,\"#35b779\"],[0.7777777777777778,\"#6ece58\"],[0.8888888888888888,\"#b5de2b\"],[1.0,\"#fde725\"]],\"type\":\"heatmap\"}],\"histogram2dcontour\":[{\"colorbar\":{\"outlinewidth\":1,\"tickcolor\":\"rgb(36,36,36)\",\"ticks\":\"outside\"},\"colorscale\":[[0.0,\"#440154\"],[0.1111111111111111,\"#482878\"],[0.2222222222222222,\"#3e4989\"],[0.3333333333333333,\"#31688e\"],[0.4444444444444444,\"#26828e\"],[0.5555555555555556,\"#1f9e89\"],[0.6666666666666666,\"#35b779\"],[0.7777777777777778,\"#6ece58\"],[0.8888888888888888,\"#b5de2b\"],[1.0,\"#fde725\"]],\"type\":\"histogram2dcontour\"}],\"histogram2d\":[{\"colorbar\":{\"outlinewidth\":1,\"tickcolor\":\"rgb(36,36,36)\",\"ticks\":\"outside\"},\"colorscale\":[[0.0,\"#440154\"],[0.1111111111111111,\"#482878\"],[0.2222222222222222,\"#3e4989\"],[0.3333333333333333,\"#31688e\"],[0.4444444444444444,\"#26828e\"],[0.5555555555555556,\"#1f9e89\"],[0.6666666666666666,\"#35b779\"],[0.7777777777777778,\"#6ece58\"],[0.8888888888888888,\"#b5de2b\"],[1.0,\"#fde725\"]],\"type\":\"histogram2d\"}],\"histogram\":[{\"marker\":{\"line\":{\"color\":\"white\",\"width\":0.6}},\"type\":\"histogram\"}],\"mesh3d\":[{\"colorbar\":{\"outlinewidth\":1,\"tickcolor\":\"rgb(36,36,36)\",\"ticks\":\"outside\"},\"type\":\"mesh3d\"}],\"parcoords\":[{\"line\":{\"colorbar\":{\"outlinewidth\":1,\"tickcolor\":\"rgb(36,36,36)\",\"ticks\":\"outside\"}},\"type\":\"parcoords\"}],\"pie\":[{\"automargin\":true,\"type\":\"pie\"}],\"scatter3d\":[{\"line\":{\"colorbar\":{\"outlinewidth\":1,\"tickcolor\":\"rgb(36,36,36)\",\"ticks\":\"outside\"}},\"marker\":{\"colorbar\":{\"outlinewidth\":1,\"tickcolor\":\"rgb(36,36,36)\",\"ticks\":\"outside\"}},\"type\":\"scatter3d\"}],\"scattercarpet\":[{\"marker\":{\"colorbar\":{\"outlinewidth\":1,\"tickcolor\":\"rgb(36,36,36)\",\"ticks\":\"outside\"}},\"type\":\"scattercarpet\"}],\"scattergeo\":[{\"marker\":{\"colorbar\":{\"outlinewidth\":1,\"tickcolor\":\"rgb(36,36,36)\",\"ticks\":\"outside\"}},\"type\":\"scattergeo\"}],\"scattergl\":[{\"marker\":{\"colorbar\":{\"outlinewidth\":1,\"tickcolor\":\"rgb(36,36,36)\",\"ticks\":\"outside\"}},\"type\":\"scattergl\"}],\"scattermapbox\":[{\"marker\":{\"colorbar\":{\"outlinewidth\":1,\"tickcolor\":\"rgb(36,36,36)\",\"ticks\":\"outside\"}},\"type\":\"scattermapbox\"}],\"scatterpolargl\":[{\"marker\":{\"colorbar\":{\"outlinewidth\":1,\"tickcolor\":\"rgb(36,36,36)\",\"ticks\":\"outside\"}},\"type\":\"scatterpolargl\"}],\"scatterpolar\":[{\"marker\":{\"colorbar\":{\"outlinewidth\":1,\"tickcolor\":\"rgb(36,36,36)\",\"ticks\":\"outside\"}},\"type\":\"scatterpolar\"}],\"scatter\":[{\"fillpattern\":{\"fillmode\":\"overlay\",\"size\":10,\"solidity\":0.2},\"type\":\"scatter\"}],\"scatterternary\":[{\"marker\":{\"colorbar\":{\"outlinewidth\":1,\"tickcolor\":\"rgb(36,36,36)\",\"ticks\":\"outside\"}},\"type\":\"scatterternary\"}],\"surface\":[{\"colorbar\":{\"outlinewidth\":1,\"tickcolor\":\"rgb(36,36,36)\",\"ticks\":\"outside\"},\"colorscale\":[[0.0,\"#440154\"],[0.1111111111111111,\"#482878\"],[0.2222222222222222,\"#3e4989\"],[0.3333333333333333,\"#31688e\"],[0.4444444444444444,\"#26828e\"],[0.5555555555555556,\"#1f9e89\"],[0.6666666666666666,\"#35b779\"],[0.7777777777777778,\"#6ece58\"],[0.8888888888888888,\"#b5de2b\"],[1.0,\"#fde725\"]],\"type\":\"surface\"}],\"table\":[{\"cells\":{\"fill\":{\"color\":\"rgb(237,237,237)\"},\"line\":{\"color\":\"white\"}},\"header\":{\"fill\":{\"color\":\"rgb(217,217,217)\"},\"line\":{\"color\":\"white\"}},\"type\":\"table\"}]},\"layout\":{\"annotationdefaults\":{\"arrowhead\":0,\"arrowwidth\":1},\"autotypenumbers\":\"strict\",\"coloraxis\":{\"colorbar\":{\"outlinewidth\":1,\"tickcolor\":\"rgb(36,36,36)\",\"ticks\":\"outside\"}},\"colorscale\":{\"diverging\":[[0.0,\"rgb(103,0,31)\"],[0.1,\"rgb(178,24,43)\"],[0.2,\"rgb(214,96,77)\"],[0.3,\"rgb(244,165,130)\"],[0.4,\"rgb(253,219,199)\"],[0.5,\"rgb(247,247,247)\"],[0.6,\"rgb(209,229,240)\"],[0.7,\"rgb(146,197,222)\"],[0.8,\"rgb(67,147,195)\"],[0.9,\"rgb(33,102,172)\"],[1.0,\"rgb(5,48,97)\"]],\"sequential\":[[0.0,\"#440154\"],[0.1111111111111111,\"#482878\"],[0.2222222222222222,\"#3e4989\"],[0.3333333333333333,\"#31688e\"],[0.4444444444444444,\"#26828e\"],[0.5555555555555556,\"#1f9e89\"],[0.6666666666666666,\"#35b779\"],[0.7777777777777778,\"#6ece58\"],[0.8888888888888888,\"#b5de2b\"],[1.0,\"#fde725\"]],\"sequentialminus\":[[0.0,\"#440154\"],[0.1111111111111111,\"#482878\"],[0.2222222222222222,\"#3e4989\"],[0.3333333333333333,\"#31688e\"],[0.4444444444444444,\"#26828e\"],[0.5555555555555556,\"#1f9e89\"],[0.6666666666666666,\"#35b779\"],[0.7777777777777778,\"#6ece58\"],[0.8888888888888888,\"#b5de2b\"],[1.0,\"#fde725\"]]},\"colorway\":[\"#1F77B4\",\"#FF7F0E\",\"#2CA02C\",\"#D62728\",\"#9467BD\",\"#8C564B\",\"#E377C2\",\"#7F7F7F\",\"#BCBD22\",\"#17BECF\"],\"font\":{\"color\":\"rgb(36,36,36)\"},\"geo\":{\"bgcolor\":\"white\",\"lakecolor\":\"white\",\"landcolor\":\"white\",\"showlakes\":true,\"showland\":true,\"subunitcolor\":\"white\"},\"hoverlabel\":{\"align\":\"left\"},\"hovermode\":\"closest\",\"mapbox\":{\"style\":\"light\"},\"paper_bgcolor\":\"white\",\"plot_bgcolor\":\"white\",\"polar\":{\"angularaxis\":{\"gridcolor\":\"rgb(232,232,232)\",\"linecolor\":\"rgb(36,36,36)\",\"showgrid\":false,\"showline\":true,\"ticks\":\"outside\"},\"bgcolor\":\"white\",\"radialaxis\":{\"gridcolor\":\"rgb(232,232,232)\",\"linecolor\":\"rgb(36,36,36)\",\"showgrid\":false,\"showline\":true,\"ticks\":\"outside\"}},\"scene\":{\"xaxis\":{\"backgroundcolor\":\"white\",\"gridcolor\":\"rgb(232,232,232)\",\"gridwidth\":2,\"linecolor\":\"rgb(36,36,36)\",\"showbackground\":true,\"showgrid\":false,\"showline\":true,\"ticks\":\"outside\",\"zeroline\":false,\"zerolinecolor\":\"rgb(36,36,36)\"},\"yaxis\":{\"backgroundcolor\":\"white\",\"gridcolor\":\"rgb(232,232,232)\",\"gridwidth\":2,\"linecolor\":\"rgb(36,36,36)\",\"showbackground\":true,\"showgrid\":false,\"showline\":true,\"ticks\":\"outside\",\"zeroline\":false,\"zerolinecolor\":\"rgb(36,36,36)\"},\"zaxis\":{\"backgroundcolor\":\"white\",\"gridcolor\":\"rgb(232,232,232)\",\"gridwidth\":2,\"linecolor\":\"rgb(36,36,36)\",\"showbackground\":true,\"showgrid\":false,\"showline\":true,\"ticks\":\"outside\",\"zeroline\":false,\"zerolinecolor\":\"rgb(36,36,36)\"}},\"shapedefaults\":{\"fillcolor\":\"black\",\"line\":{\"width\":0},\"opacity\":0.3},\"ternary\":{\"aaxis\":{\"gridcolor\":\"rgb(232,232,232)\",\"linecolor\":\"rgb(36,36,36)\",\"showgrid\":false,\"showline\":true,\"ticks\":\"outside\"},\"baxis\":{\"gridcolor\":\"rgb(232,232,232)\",\"linecolor\":\"rgb(36,36,36)\",\"showgrid\":false,\"showline\":true,\"ticks\":\"outside\"},\"bgcolor\":\"white\",\"caxis\":{\"gridcolor\":\"rgb(232,232,232)\",\"linecolor\":\"rgb(36,36,36)\",\"showgrid\":false,\"showline\":true,\"ticks\":\"outside\"}},\"title\":{\"x\":0.05},\"xaxis\":{\"automargin\":true,\"gridcolor\":\"rgb(232,232,232)\",\"linecolor\":\"rgb(36,36,36)\",\"showgrid\":false,\"showline\":true,\"ticks\":\"outside\",\"title\":{\"standoff\":15},\"zeroline\":false,\"zerolinecolor\":\"rgb(36,36,36)\"},\"yaxis\":{\"automargin\":true,\"gridcolor\":\"rgb(232,232,232)\",\"linecolor\":\"rgb(36,36,36)\",\"showgrid\":false,\"showline\":true,\"ticks\":\"outside\",\"title\":{\"standoff\":15},\"zeroline\":false,\"zerolinecolor\":\"rgb(36,36,36)\"}}},\"xaxis\":{\"anchor\":\"y\",\"domain\":[0.0,1.0],\"title\":{\"text\":\"search time (ms/query)\"},\"range\":[0,0.29],\"linecolor\":\"darkgrey\"},\"yaxis\":{\"anchor\":\"x\",\"domain\":[0.0,1.0],\"title\":{\"text\":\"1-recall@3\"},\"range\":[0.5,1.06],\"linecolor\":\"darkgrey\"},\"legend\":{\"title\":{\"text\":\"index\"},\"tracegroupgap\":0,\"itemsizing\":\"constant\"},\"margin\":{\"t\":60},\"height\":400,\"width\":650,\"showlegend\":false,\"title\":{\"font\":{\"family\":\"Arial\",\"color\":\"RebeccaPurple\",\"size\":13},\"text\":\"<B><I>( For IVF-based indexes, nprobe=256 )\",\"yanchor\":\"top\",\"y\":0.3,\"xanchor\":\"left\",\"x\":0.15}},                        {\"responsive\": true}                    ).then(function(){\n",
       "                            \n",
       "var gd = document.getElementById('644237d8-6e99-433f-a0fe-21ae98052f63');\n",
       "var x = new MutationObserver(function (mutations, observer) {{\n",
       "        var display = window.getComputedStyle(gd).display;\n",
       "        if (!display || display === 'none') {{\n",
       "            console.log([gd, 'removed!']);\n",
       "            Plotly.purge(gd);\n",
       "            observer.disconnect();\n",
       "        }}\n",
       "}});\n",
       "\n",
       "// Listen for the removal of the full notebook cells\n",
       "var notebookContainer = gd.closest('#notebook-container');\n",
       "if (notebookContainer) {{\n",
       "    x.observe(notebookContainer, {childList: true});\n",
       "}}\n",
       "\n",
       "// Listen for the clearing of the current output cell\n",
       "var outputEl = gd.closest('.output');\n",
       "if (outputEl) {{\n",
       "    x.observe(outputEl, {childList: true});\n",
       "}}\n",
       "\n",
       "                        })                };                });            </script>        </div>"
      ]
     },
     "metadata": {},
     "output_type": "display_data"
    }
   ],
   "source": [
    "fig = px.scatter(df256, x=\"search_time\", y=\"recall@3\", color=\"index\", height=400, width=650,\n",
    "                 template=\"simple_white\", text=\"index\", size=\"index_size\", size_max=50)     \n",
    "\n",
    "positions = [\"bottom center\", \"top center\", \"top center\", \"bottom right\"]\n",
    "\n",
    "for i, fdata in enumerate(fig.data):   \n",
    "    fdata.textposition = positions[i]\n",
    "    fdata.marker.opacity = 0.8\n",
    "    fdata.marker.color = colors_gorb[i]    \n",
    "    fdata.textfont.color = colors_gorb[i]   \n",
    "    fdata.textfont.size = 13  \n",
    "    fdata.textfont.family=\"Arial\"\n",
    "    \n",
    "fig.update_traces(mode='markers+text')#, textposition=\"middle right\") \n",
    "fig.update_traces(texttemplate=\"%{text}<br>(%{marker.size:,d} MB)\")\n",
    "fig.update_layout(xaxis_title_text=\"search time (ms/query)\", yaxis_title_text=\"1-recall@3\", yaxis_range=[0.5, 1.06], xaxis_range=[0, 0.29], showlegend=False)\n",
    "fig.update_layout(title=dict(text=\"<B><I>( For IVF-based indexes, nprobe=256 )\", yanchor=\"top\", y=0.3, xanchor=\"left\", x=0.15, \n",
    "                             font_family=\"Arial\", font_color=\"RebeccaPurple\", font_size=13))\n",
    "fig.update_xaxes(linecolor='darkgrey')\n",
    "fig.update_yaxes(linecolor='darkgrey')\n",
    "fig.show()\n",
    "fig.write_html(\"nprobe256_search_recall_bubble.html\")"
   ]
  },
  {
   "cell_type": "code",
   "execution_count": 67,
   "id": "77545a7d",
   "metadata": {
    "execution": {
     "iopub.execute_input": "2022-08-24T06:42:58.548524Z",
     "iopub.status.busy": "2022-08-24T06:42:58.547914Z",
     "iopub.status.idle": "2022-08-24T06:42:58.564989Z",
     "shell.execute_reply": "2022-08-24T06:42:58.563943Z"
    },
    "papermill": {
     "duration": 0.886368,
     "end_time": "2022-08-24T06:42:58.566931",
     "exception": false,
     "start_time": "2022-08-24T06:42:57.680563",
     "status": "completed"
    },
    "tags": []
   },
   "outputs": [
    {
     "data": {
      "text/html": [
       "<div>\n",
       "<style scoped>\n",
       "    .dataframe tbody tr th:only-of-type {\n",
       "        vertical-align: middle;\n",
       "    }\n",
       "\n",
       "    .dataframe tbody tr th {\n",
       "        vertical-align: top;\n",
       "    }\n",
       "\n",
       "    .dataframe thead th {\n",
       "        text-align: right;\n",
       "    }\n",
       "</style>\n",
       "<table border=\"1\" class=\"dataframe\">\n",
       "  <thead>\n",
       "    <tr style=\"text-align: right;\">\n",
       "      <th></th>\n",
       "      <th>index</th>\n",
       "      <th>M</th>\n",
       "      <th>nprobe</th>\n",
       "      <th>nsegment</th>\n",
       "      <th>recall@1</th>\n",
       "      <th>recall@3</th>\n",
       "      <th>recall@5</th>\n",
       "      <th>train_time</th>\n",
       "      <th>index_time</th>\n",
       "      <th>search_time</th>\n",
       "      <th>index_size</th>\n",
       "    </tr>\n",
       "  </thead>\n",
       "  <tbody>\n",
       "    <tr>\n",
       "      <th>6</th>\n",
       "      <td>IVF65536_HNSW32,PQ32</td>\n",
       "      <td>32</td>\n",
       "      <td>512</td>\n",
       "      <td>32</td>\n",
       "      <td>0.578</td>\n",
       "      <td>0.831</td>\n",
       "      <td>0.891</td>\n",
       "      <td>144.403778</td>\n",
       "      <td>23.839422</td>\n",
       "      <td>0.195568</td>\n",
       "      <td>154.209972</td>\n",
       "    </tr>\n",
       "    <tr>\n",
       "      <th>14</th>\n",
       "      <td>IVF65536_HNSW32,Flat</td>\n",
       "      <td>32</td>\n",
       "      <td>512</td>\n",
       "      <td>0</td>\n",
       "      <td>0.944</td>\n",
       "      <td>0.944</td>\n",
       "      <td>0.944</td>\n",
       "      <td>84.892702</td>\n",
       "      <td>18.270943</td>\n",
       "      <td>0.145250</td>\n",
       "      <td>1594.078859</td>\n",
       "    </tr>\n",
       "    <tr>\n",
       "      <th>16</th>\n",
       "      <td>HNSW32,Flat</td>\n",
       "      <td>32</td>\n",
       "      <td>0</td>\n",
       "      <td>0</td>\n",
       "      <td>0.850</td>\n",
       "      <td>0.850</td>\n",
       "      <td>0.850</td>\n",
       "      <td>None</td>\n",
       "      <td>828.196047</td>\n",
       "      <td>0.132884</td>\n",
       "      <td>2352.424546</td>\n",
       "    </tr>\n",
       "    <tr>\n",
       "      <th>17</th>\n",
       "      <td>HNSW32_PQ32</td>\n",
       "      <td>32</td>\n",
       "      <td>0</td>\n",
       "      <td>32</td>\n",
       "      <td>0.629</td>\n",
       "      <td>0.789</td>\n",
       "      <td>0.810</td>\n",
       "      <td>62.063184</td>\n",
       "      <td>618.958291</td>\n",
       "      <td>0.115766</td>\n",
       "      <td>912.555659</td>\n",
       "    </tr>\n",
       "  </tbody>\n",
       "</table>\n",
       "</div>"
      ],
      "text/plain": [
       "                   index   M  nprobe  nsegment  recall@1  recall@3  recall@5  \\\n",
       "6   IVF65536_HNSW32,PQ32  32     512        32     0.578     0.831     0.891   \n",
       "14  IVF65536_HNSW32,Flat  32     512         0     0.944     0.944     0.944   \n",
       "16           HNSW32,Flat  32       0         0     0.850     0.850     0.850   \n",
       "17           HNSW32_PQ32  32       0        32     0.629     0.789     0.810   \n",
       "\n",
       "    train_time  index_time  search_time   index_size  \n",
       "6   144.403778   23.839422     0.195568   154.209972  \n",
       "14   84.892702   18.270943     0.145250  1594.078859  \n",
       "16        None  828.196047     0.132884  2352.424546  \n",
       "17   62.063184  618.958291     0.115766   912.555659  "
      ]
     },
     "execution_count": 67,
     "metadata": {},
     "output_type": "execute_result"
    }
   ],
   "source": [
    "df512 = df[(df[\"nprobe\"]==512) | (df[\"index\"]==\"HNSW32,Flat\") | (df[\"index\"]==\"HNSW32_PQ32\")].copy()\n",
    "df512"
   ]
  },
  {
   "cell_type": "code",
   "execution_count": 68,
   "id": "818e596a",
   "metadata": {
    "execution": {
     "iopub.execute_input": "2022-08-24T06:42:59.868080Z",
     "iopub.status.busy": "2022-08-24T06:42:59.867675Z",
     "iopub.status.idle": "2022-08-24T06:42:59.887652Z",
     "shell.execute_reply": "2022-08-24T06:42:59.886648Z"
    },
    "papermill": {
     "duration": 0.70454,
     "end_time": "2022-08-24T06:42:59.889796",
     "exception": false,
     "start_time": "2022-08-24T06:42:59.185256",
     "status": "completed"
    },
    "tags": []
   },
   "outputs": [
    {
     "data": {
      "text/html": [
       "<div>\n",
       "<style scoped>\n",
       "    .dataframe tbody tr th:only-of-type {\n",
       "        vertical-align: middle;\n",
       "    }\n",
       "\n",
       "    .dataframe tbody tr th {\n",
       "        vertical-align: top;\n",
       "    }\n",
       "\n",
       "    .dataframe thead th {\n",
       "        text-align: right;\n",
       "    }\n",
       "</style>\n",
       "<table border=\"1\" class=\"dataframe\">\n",
       "  <thead>\n",
       "    <tr style=\"text-align: right;\">\n",
       "      <th></th>\n",
       "      <th>index</th>\n",
       "      <th>M</th>\n",
       "      <th>nprobe</th>\n",
       "      <th>nsegment</th>\n",
       "      <th>recall@1</th>\n",
       "      <th>recall@3</th>\n",
       "      <th>recall@5</th>\n",
       "      <th>train_time</th>\n",
       "      <th>index_time</th>\n",
       "      <th>search_time</th>\n",
       "      <th>index_size</th>\n",
       "    </tr>\n",
       "  </thead>\n",
       "  <tbody>\n",
       "    <tr>\n",
       "      <th>0</th>\n",
       "      <td>IVF65536_HNSW32,PQ32</td>\n",
       "      <td>32</td>\n",
       "      <td>128</td>\n",
       "      <td>32</td>\n",
       "      <td>0.547</td>\n",
       "      <td>0.765</td>\n",
       "      <td>0.806</td>\n",
       "      <td>144.403778</td>\n",
       "      <td>23.839422</td>\n",
       "      <td>0.033185</td>\n",
       "      <td>154.209972</td>\n",
       "    </tr>\n",
       "    <tr>\n",
       "      <th>1</th>\n",
       "      <td>IVF65536_HNSW32,Flat</td>\n",
       "      <td>32</td>\n",
       "      <td>128</td>\n",
       "      <td>0</td>\n",
       "      <td>0.840</td>\n",
       "      <td>0.840</td>\n",
       "      <td>0.840</td>\n",
       "      <td>84.892702</td>\n",
       "      <td>18.270943</td>\n",
       "      <td>0.055386</td>\n",
       "      <td>1594.078859</td>\n",
       "    </tr>\n",
       "    <tr>\n",
       "      <th>2</th>\n",
       "      <td>HNSW32,Flat</td>\n",
       "      <td>32</td>\n",
       "      <td>128</td>\n",
       "      <td>0</td>\n",
       "      <td>0.850</td>\n",
       "      <td>0.850</td>\n",
       "      <td>0.850</td>\n",
       "      <td>None</td>\n",
       "      <td>828.196047</td>\n",
       "      <td>0.132884</td>\n",
       "      <td>2352.424546</td>\n",
       "    </tr>\n",
       "    <tr>\n",
       "      <th>3</th>\n",
       "      <td>HNSW32_PQ32</td>\n",
       "      <td>32</td>\n",
       "      <td>128</td>\n",
       "      <td>32</td>\n",
       "      <td>0.629</td>\n",
       "      <td>0.789</td>\n",
       "      <td>0.810</td>\n",
       "      <td>62.063184</td>\n",
       "      <td>618.958291</td>\n",
       "      <td>0.115766</td>\n",
       "      <td>912.555659</td>\n",
       "    </tr>\n",
       "    <tr>\n",
       "      <th>4</th>\n",
       "      <td>IVF65536_HNSW32,PQ32</td>\n",
       "      <td>32</td>\n",
       "      <td>256</td>\n",
       "      <td>32</td>\n",
       "      <td>0.563</td>\n",
       "      <td>0.804</td>\n",
       "      <td>0.856</td>\n",
       "      <td>144.403778</td>\n",
       "      <td>23.839422</td>\n",
       "      <td>0.074435</td>\n",
       "      <td>154.209972</td>\n",
       "    </tr>\n",
       "    <tr>\n",
       "      <th>5</th>\n",
       "      <td>IVF65536_HNSW32,Flat</td>\n",
       "      <td>32</td>\n",
       "      <td>256</td>\n",
       "      <td>0</td>\n",
       "      <td>0.904</td>\n",
       "      <td>0.904</td>\n",
       "      <td>0.904</td>\n",
       "      <td>84.892702</td>\n",
       "      <td>18.270943</td>\n",
       "      <td>0.088980</td>\n",
       "      <td>1594.078859</td>\n",
       "    </tr>\n",
       "    <tr>\n",
       "      <th>6</th>\n",
       "      <td>HNSW32,Flat</td>\n",
       "      <td>32</td>\n",
       "      <td>256</td>\n",
       "      <td>0</td>\n",
       "      <td>0.850</td>\n",
       "      <td>0.850</td>\n",
       "      <td>0.850</td>\n",
       "      <td>None</td>\n",
       "      <td>828.196047</td>\n",
       "      <td>0.132884</td>\n",
       "      <td>2352.424546</td>\n",
       "    </tr>\n",
       "    <tr>\n",
       "      <th>7</th>\n",
       "      <td>HNSW32_PQ32</td>\n",
       "      <td>32</td>\n",
       "      <td>256</td>\n",
       "      <td>32</td>\n",
       "      <td>0.629</td>\n",
       "      <td>0.789</td>\n",
       "      <td>0.810</td>\n",
       "      <td>62.063184</td>\n",
       "      <td>618.958291</td>\n",
       "      <td>0.115766</td>\n",
       "      <td>912.555659</td>\n",
       "    </tr>\n",
       "    <tr>\n",
       "      <th>8</th>\n",
       "      <td>IVF65536_HNSW32,PQ32</td>\n",
       "      <td>32</td>\n",
       "      <td>512</td>\n",
       "      <td>32</td>\n",
       "      <td>0.578</td>\n",
       "      <td>0.831</td>\n",
       "      <td>0.891</td>\n",
       "      <td>144.403778</td>\n",
       "      <td>23.839422</td>\n",
       "      <td>0.195568</td>\n",
       "      <td>154.209972</td>\n",
       "    </tr>\n",
       "    <tr>\n",
       "      <th>9</th>\n",
       "      <td>IVF65536_HNSW32,Flat</td>\n",
       "      <td>32</td>\n",
       "      <td>512</td>\n",
       "      <td>0</td>\n",
       "      <td>0.944</td>\n",
       "      <td>0.944</td>\n",
       "      <td>0.944</td>\n",
       "      <td>84.892702</td>\n",
       "      <td>18.270943</td>\n",
       "      <td>0.145250</td>\n",
       "      <td>1594.078859</td>\n",
       "    </tr>\n",
       "    <tr>\n",
       "      <th>10</th>\n",
       "      <td>HNSW32,Flat</td>\n",
       "      <td>32</td>\n",
       "      <td>512</td>\n",
       "      <td>0</td>\n",
       "      <td>0.850</td>\n",
       "      <td>0.850</td>\n",
       "      <td>0.850</td>\n",
       "      <td>None</td>\n",
       "      <td>828.196047</td>\n",
       "      <td>0.132884</td>\n",
       "      <td>2352.424546</td>\n",
       "    </tr>\n",
       "    <tr>\n",
       "      <th>11</th>\n",
       "      <td>HNSW32_PQ32</td>\n",
       "      <td>32</td>\n",
       "      <td>512</td>\n",
       "      <td>32</td>\n",
       "      <td>0.629</td>\n",
       "      <td>0.789</td>\n",
       "      <td>0.810</td>\n",
       "      <td>62.063184</td>\n",
       "      <td>618.958291</td>\n",
       "      <td>0.115766</td>\n",
       "      <td>912.555659</td>\n",
       "    </tr>\n",
       "  </tbody>\n",
       "</table>\n",
       "</div>"
      ],
      "text/plain": [
       "                   index   M  nprobe  nsegment  recall@1  recall@3  recall@5  \\\n",
       "0   IVF65536_HNSW32,PQ32  32     128        32     0.547     0.765     0.806   \n",
       "1   IVF65536_HNSW32,Flat  32     128         0     0.840     0.840     0.840   \n",
       "2            HNSW32,Flat  32     128         0     0.850     0.850     0.850   \n",
       "3            HNSW32_PQ32  32     128        32     0.629     0.789     0.810   \n",
       "4   IVF65536_HNSW32,PQ32  32     256        32     0.563     0.804     0.856   \n",
       "5   IVF65536_HNSW32,Flat  32     256         0     0.904     0.904     0.904   \n",
       "6            HNSW32,Flat  32     256         0     0.850     0.850     0.850   \n",
       "7            HNSW32_PQ32  32     256        32     0.629     0.789     0.810   \n",
       "8   IVF65536_HNSW32,PQ32  32     512        32     0.578     0.831     0.891   \n",
       "9   IVF65536_HNSW32,Flat  32     512         0     0.944     0.944     0.944   \n",
       "10           HNSW32,Flat  32     512         0     0.850     0.850     0.850   \n",
       "11           HNSW32_PQ32  32     512        32     0.629     0.789     0.810   \n",
       "\n",
       "    train_time  index_time  search_time   index_size  \n",
       "0   144.403778   23.839422     0.033185   154.209972  \n",
       "1    84.892702   18.270943     0.055386  1594.078859  \n",
       "2         None  828.196047     0.132884  2352.424546  \n",
       "3    62.063184  618.958291     0.115766   912.555659  \n",
       "4   144.403778   23.839422     0.074435   154.209972  \n",
       "5    84.892702   18.270943     0.088980  1594.078859  \n",
       "6         None  828.196047     0.132884  2352.424546  \n",
       "7    62.063184  618.958291     0.115766   912.555659  \n",
       "8   144.403778   23.839422     0.195568   154.209972  \n",
       "9    84.892702   18.270943     0.145250  1594.078859  \n",
       "10        None  828.196047     0.132884  2352.424546  \n",
       "11   62.063184  618.958291     0.115766   912.555659  "
      ]
     },
     "execution_count": 68,
     "metadata": {},
     "output_type": "execute_result"
    }
   ],
   "source": [
    "df128[\"nprobe\"] = 128\n",
    "df256[\"nprobe\"] = 256\n",
    "df512[\"nprobe\"] = 512\n",
    "\n",
    "df3 = pd.concat([df128, df256, df512], ignore_index=True)\n",
    "df3"
   ]
  },
  {
   "cell_type": "code",
   "execution_count": 69,
   "id": "13f6c1c6",
   "metadata": {
    "execution": {
     "iopub.execute_input": "2022-08-24T06:43:01.123456Z",
     "iopub.status.busy": "2022-08-24T06:43:01.123082Z",
     "iopub.status.idle": "2022-08-24T06:43:01.286161Z",
     "shell.execute_reply": "2022-08-24T06:43:01.285195Z"
    },
    "papermill": {
     "duration": 0.782148,
     "end_time": "2022-08-24T06:43:01.289497",
     "exception": false,
     "start_time": "2022-08-24T06:43:00.507349",
     "status": "completed"
    },
    "tags": []
   },
   "outputs": [
    {
     "data": {
      "text/html": [
       "<div>                            <div id=\"ffac7b5b-9192-44e7-9030-0797415c6a9f\" class=\"plotly-graph-div\" style=\"height:380px; width:720px;\"></div>            <script type=\"text/javascript\">                require([\"plotly\"], function(Plotly) {                    window.PLOTLYENV=window.PLOTLYENV || {};                                    if (document.getElementById(\"ffac7b5b-9192-44e7-9030-0797415c6a9f\")) {                    Plotly.newPlot(                        \"ffac7b5b-9192-44e7-9030-0797415c6a9f\",                        [{\"hovertemplate\":\"index=IVF65536_HNSW32,PQ32<br>nprobe=128<br>search_time=%{x}<br>recall@3=%{y}<br>index_size=%{marker.size}<extra></extra>\",\"legendgroup\":\"IVF65536_HNSW32,PQ32\",\"marker\":{\"color\":\"#2CA02C\",\"size\":[154.209972],\"sizemode\":\"area\",\"sizeref\":2.6138050511111106,\"symbol\":\"circle\"},\"mode\":\"markers\",\"name\":\"IVF65536_HNSW32,PQ32\",\"orientation\":\"v\",\"showlegend\":true,\"x\":[0.03318452835083008],\"xaxis\":\"x\",\"y\":[0.765],\"yaxis\":\"y\",\"type\":\"scatter\"},{\"hovertemplate\":\"index=IVF65536_HNSW32,PQ32<br>nprobe=256<br>search_time=%{x}<br>recall@3=%{y}<br>index_size=%{marker.size}<extra></extra>\",\"legendgroup\":\"IVF65536_HNSW32,PQ32\",\"marker\":{\"color\":\"#2CA02C\",\"size\":[154.209972],\"sizemode\":\"area\",\"sizeref\":2.6138050511111106,\"symbol\":\"circle\"},\"mode\":\"markers\",\"name\":\"IVF65536_HNSW32,PQ32\",\"orientation\":\"v\",\"showlegend\":false,\"x\":[0.07443547248840332],\"xaxis\":\"x2\",\"y\":[0.804],\"yaxis\":\"y2\",\"type\":\"scatter\"},{\"hovertemplate\":\"index=IVF65536_HNSW32,PQ32<br>nprobe=512<br>search_time=%{x}<br>recall@3=%{y}<br>index_size=%{marker.size}<extra></extra>\",\"legendgroup\":\"IVF65536_HNSW32,PQ32\",\"marker\":{\"color\":\"#2CA02C\",\"size\":[154.209972],\"sizemode\":\"area\",\"sizeref\":2.6138050511111106,\"symbol\":\"circle\"},\"mode\":\"markers\",\"name\":\"IVF65536_HNSW32,PQ32\",\"orientation\":\"v\",\"showlegend\":false,\"x\":[0.19556832313537598],\"xaxis\":\"x3\",\"y\":[0.831],\"yaxis\":\"y3\",\"type\":\"scatter\"},{\"hovertemplate\":\"index=IVF65536_HNSW32,Flat<br>nprobe=128<br>search_time=%{x}<br>recall@3=%{y}<br>index_size=%{marker.size}<extra></extra>\",\"legendgroup\":\"IVF65536_HNSW32,Flat\",\"marker\":{\"color\":\"#FF7F0E\",\"size\":[1594.078859],\"sizemode\":\"area\",\"sizeref\":2.6138050511111106,\"symbol\":\"circle\"},\"mode\":\"markers\",\"name\":\"IVF65536_HNSW32,Flat\",\"orientation\":\"v\",\"showlegend\":true,\"x\":[0.055385589599609375],\"xaxis\":\"x\",\"y\":[0.84],\"yaxis\":\"y\",\"type\":\"scatter\"},{\"hovertemplate\":\"index=IVF65536_HNSW32,Flat<br>nprobe=256<br>search_time=%{x}<br>recall@3=%{y}<br>index_size=%{marker.size}<extra></extra>\",\"legendgroup\":\"IVF65536_HNSW32,Flat\",\"marker\":{\"color\":\"#FF7F0E\",\"size\":[1594.078859],\"sizemode\":\"area\",\"sizeref\":2.6138050511111106,\"symbol\":\"circle\"},\"mode\":\"markers\",\"name\":\"IVF65536_HNSW32,Flat\",\"orientation\":\"v\",\"showlegend\":false,\"x\":[0.08897972106933594],\"xaxis\":\"x2\",\"y\":[0.904],\"yaxis\":\"y2\",\"type\":\"scatter\"},{\"hovertemplate\":\"index=IVF65536_HNSW32,Flat<br>nprobe=512<br>search_time=%{x}<br>recall@3=%{y}<br>index_size=%{marker.size}<extra></extra>\",\"legendgroup\":\"IVF65536_HNSW32,Flat\",\"marker\":{\"color\":\"#FF7F0E\",\"size\":[1594.078859],\"sizemode\":\"area\",\"sizeref\":2.6138050511111106,\"symbol\":\"circle\"},\"mode\":\"markers\",\"name\":\"IVF65536_HNSW32,Flat\",\"orientation\":\"v\",\"showlegend\":false,\"x\":[0.145249605178833],\"xaxis\":\"x3\",\"y\":[0.944],\"yaxis\":\"y3\",\"type\":\"scatter\"},{\"hovertemplate\":\"index=HNSW32,Flat<br>nprobe=128<br>search_time=%{x}<br>recall@3=%{y}<br>index_size=%{marker.size}<extra></extra>\",\"legendgroup\":\"HNSW32,Flat\",\"marker\":{\"color\":\"#D62728\",\"size\":[2352.4245459999997],\"sizemode\":\"area\",\"sizeref\":2.6138050511111106,\"symbol\":\"circle\"},\"mode\":\"markers\",\"name\":\"HNSW32,Flat\",\"orientation\":\"v\",\"showlegend\":true,\"x\":[0.13288354873657227],\"xaxis\":\"x\",\"y\":[0.85],\"yaxis\":\"y\",\"type\":\"scatter\"},{\"hovertemplate\":\"index=HNSW32,Flat<br>nprobe=256<br>search_time=%{x}<br>recall@3=%{y}<br>index_size=%{marker.size}<extra></extra>\",\"legendgroup\":\"HNSW32,Flat\",\"marker\":{\"color\":\"#D62728\",\"size\":[2352.4245459999997],\"sizemode\":\"area\",\"sizeref\":2.6138050511111106,\"symbol\":\"circle\"},\"mode\":\"markers\",\"name\":\"HNSW32,Flat\",\"orientation\":\"v\",\"showlegend\":false,\"x\":[0.13288354873657227],\"xaxis\":\"x2\",\"y\":[0.85],\"yaxis\":\"y2\",\"type\":\"scatter\"},{\"hovertemplate\":\"index=HNSW32,Flat<br>nprobe=512<br>search_time=%{x}<br>recall@3=%{y}<br>index_size=%{marker.size}<extra></extra>\",\"legendgroup\":\"HNSW32,Flat\",\"marker\":{\"color\":\"#D62728\",\"size\":[2352.4245459999997],\"sizemode\":\"area\",\"sizeref\":2.6138050511111106,\"symbol\":\"circle\"},\"mode\":\"markers\",\"name\":\"HNSW32,Flat\",\"orientation\":\"v\",\"showlegend\":false,\"x\":[0.13288354873657227],\"xaxis\":\"x3\",\"y\":[0.85],\"yaxis\":\"y3\",\"type\":\"scatter\"},{\"hovertemplate\":\"index=HNSW32_PQ32<br>nprobe=128<br>search_time=%{x}<br>recall@3=%{y}<br>index_size=%{marker.size}<extra></extra>\",\"legendgroup\":\"HNSW32_PQ32\",\"marker\":{\"color\":\"#1F77B4\",\"size\":[912.555659],\"sizemode\":\"area\",\"sizeref\":2.6138050511111106,\"symbol\":\"circle\"},\"mode\":\"markers\",\"name\":\"HNSW32_PQ32\",\"orientation\":\"v\",\"showlegend\":true,\"x\":[0.11576581001281738],\"xaxis\":\"x\",\"y\":[0.789],\"yaxis\":\"y\",\"type\":\"scatter\"},{\"hovertemplate\":\"index=HNSW32_PQ32<br>nprobe=256<br>search_time=%{x}<br>recall@3=%{y}<br>index_size=%{marker.size}<extra></extra>\",\"legendgroup\":\"HNSW32_PQ32\",\"marker\":{\"color\":\"#1F77B4\",\"size\":[912.555659],\"sizemode\":\"area\",\"sizeref\":2.6138050511111106,\"symbol\":\"circle\"},\"mode\":\"markers\",\"name\":\"HNSW32_PQ32\",\"orientation\":\"v\",\"showlegend\":false,\"x\":[0.11576581001281738],\"xaxis\":\"x2\",\"y\":[0.789],\"yaxis\":\"y2\",\"type\":\"scatter\"},{\"hovertemplate\":\"index=HNSW32_PQ32<br>nprobe=512<br>search_time=%{x}<br>recall@3=%{y}<br>index_size=%{marker.size}<extra></extra>\",\"legendgroup\":\"HNSW32_PQ32\",\"marker\":{\"color\":\"#1F77B4\",\"size\":[912.555659],\"sizemode\":\"area\",\"sizeref\":2.6138050511111106,\"symbol\":\"circle\"},\"mode\":\"markers\",\"name\":\"HNSW32_PQ32\",\"orientation\":\"v\",\"showlegend\":false,\"x\":[0.11576581001281738],\"xaxis\":\"x3\",\"y\":[0.789],\"yaxis\":\"y3\",\"type\":\"scatter\"}],                        {\"template\":{\"data\":{\"barpolar\":[{\"marker\":{\"line\":{\"color\":\"white\",\"width\":0.5},\"pattern\":{\"fillmode\":\"overlay\",\"size\":10,\"solidity\":0.2}},\"type\":\"barpolar\"}],\"bar\":[{\"error_x\":{\"color\":\"rgb(36,36,36)\"},\"error_y\":{\"color\":\"rgb(36,36,36)\"},\"marker\":{\"line\":{\"color\":\"white\",\"width\":0.5},\"pattern\":{\"fillmode\":\"overlay\",\"size\":10,\"solidity\":0.2}},\"type\":\"bar\"}],\"carpet\":[{\"aaxis\":{\"endlinecolor\":\"rgb(36,36,36)\",\"gridcolor\":\"white\",\"linecolor\":\"white\",\"minorgridcolor\":\"white\",\"startlinecolor\":\"rgb(36,36,36)\"},\"baxis\":{\"endlinecolor\":\"rgb(36,36,36)\",\"gridcolor\":\"white\",\"linecolor\":\"white\",\"minorgridcolor\":\"white\",\"startlinecolor\":\"rgb(36,36,36)\"},\"type\":\"carpet\"}],\"choropleth\":[{\"colorbar\":{\"outlinewidth\":1,\"tickcolor\":\"rgb(36,36,36)\",\"ticks\":\"outside\"},\"type\":\"choropleth\"}],\"contourcarpet\":[{\"colorbar\":{\"outlinewidth\":1,\"tickcolor\":\"rgb(36,36,36)\",\"ticks\":\"outside\"},\"type\":\"contourcarpet\"}],\"contour\":[{\"colorbar\":{\"outlinewidth\":1,\"tickcolor\":\"rgb(36,36,36)\",\"ticks\":\"outside\"},\"colorscale\":[[0.0,\"#440154\"],[0.1111111111111111,\"#482878\"],[0.2222222222222222,\"#3e4989\"],[0.3333333333333333,\"#31688e\"],[0.4444444444444444,\"#26828e\"],[0.5555555555555556,\"#1f9e89\"],[0.6666666666666666,\"#35b779\"],[0.7777777777777778,\"#6ece58\"],[0.8888888888888888,\"#b5de2b\"],[1.0,\"#fde725\"]],\"type\":\"contour\"}],\"heatmapgl\":[{\"colorbar\":{\"outlinewidth\":1,\"tickcolor\":\"rgb(36,36,36)\",\"ticks\":\"outside\"},\"colorscale\":[[0.0,\"#440154\"],[0.1111111111111111,\"#482878\"],[0.2222222222222222,\"#3e4989\"],[0.3333333333333333,\"#31688e\"],[0.4444444444444444,\"#26828e\"],[0.5555555555555556,\"#1f9e89\"],[0.6666666666666666,\"#35b779\"],[0.7777777777777778,\"#6ece58\"],[0.8888888888888888,\"#b5de2b\"],[1.0,\"#fde725\"]],\"type\":\"heatmapgl\"}],\"heatmap\":[{\"colorbar\":{\"outlinewidth\":1,\"tickcolor\":\"rgb(36,36,36)\",\"ticks\":\"outside\"},\"colorscale\":[[0.0,\"#440154\"],[0.1111111111111111,\"#482878\"],[0.2222222222222222,\"#3e4989\"],[0.3333333333333333,\"#31688e\"],[0.4444444444444444,\"#26828e\"],[0.5555555555555556,\"#1f9e89\"],[0.6666666666666666,\"#35b779\"],[0.7777777777777778,\"#6ece58\"],[0.8888888888888888,\"#b5de2b\"],[1.0,\"#fde725\"]],\"type\":\"heatmap\"}],\"histogram2dcontour\":[{\"colorbar\":{\"outlinewidth\":1,\"tickcolor\":\"rgb(36,36,36)\",\"ticks\":\"outside\"},\"colorscale\":[[0.0,\"#440154\"],[0.1111111111111111,\"#482878\"],[0.2222222222222222,\"#3e4989\"],[0.3333333333333333,\"#31688e\"],[0.4444444444444444,\"#26828e\"],[0.5555555555555556,\"#1f9e89\"],[0.6666666666666666,\"#35b779\"],[0.7777777777777778,\"#6ece58\"],[0.8888888888888888,\"#b5de2b\"],[1.0,\"#fde725\"]],\"type\":\"histogram2dcontour\"}],\"histogram2d\":[{\"colorbar\":{\"outlinewidth\":1,\"tickcolor\":\"rgb(36,36,36)\",\"ticks\":\"outside\"},\"colorscale\":[[0.0,\"#440154\"],[0.1111111111111111,\"#482878\"],[0.2222222222222222,\"#3e4989\"],[0.3333333333333333,\"#31688e\"],[0.4444444444444444,\"#26828e\"],[0.5555555555555556,\"#1f9e89\"],[0.6666666666666666,\"#35b779\"],[0.7777777777777778,\"#6ece58\"],[0.8888888888888888,\"#b5de2b\"],[1.0,\"#fde725\"]],\"type\":\"histogram2d\"}],\"histogram\":[{\"marker\":{\"line\":{\"color\":\"white\",\"width\":0.6}},\"type\":\"histogram\"}],\"mesh3d\":[{\"colorbar\":{\"outlinewidth\":1,\"tickcolor\":\"rgb(36,36,36)\",\"ticks\":\"outside\"},\"type\":\"mesh3d\"}],\"parcoords\":[{\"line\":{\"colorbar\":{\"outlinewidth\":1,\"tickcolor\":\"rgb(36,36,36)\",\"ticks\":\"outside\"}},\"type\":\"parcoords\"}],\"pie\":[{\"automargin\":true,\"type\":\"pie\"}],\"scatter3d\":[{\"line\":{\"colorbar\":{\"outlinewidth\":1,\"tickcolor\":\"rgb(36,36,36)\",\"ticks\":\"outside\"}},\"marker\":{\"colorbar\":{\"outlinewidth\":1,\"tickcolor\":\"rgb(36,36,36)\",\"ticks\":\"outside\"}},\"type\":\"scatter3d\"}],\"scattercarpet\":[{\"marker\":{\"colorbar\":{\"outlinewidth\":1,\"tickcolor\":\"rgb(36,36,36)\",\"ticks\":\"outside\"}},\"type\":\"scattercarpet\"}],\"scattergeo\":[{\"marker\":{\"colorbar\":{\"outlinewidth\":1,\"tickcolor\":\"rgb(36,36,36)\",\"ticks\":\"outside\"}},\"type\":\"scattergeo\"}],\"scattergl\":[{\"marker\":{\"colorbar\":{\"outlinewidth\":1,\"tickcolor\":\"rgb(36,36,36)\",\"ticks\":\"outside\"}},\"type\":\"scattergl\"}],\"scattermapbox\":[{\"marker\":{\"colorbar\":{\"outlinewidth\":1,\"tickcolor\":\"rgb(36,36,36)\",\"ticks\":\"outside\"}},\"type\":\"scattermapbox\"}],\"scatterpolargl\":[{\"marker\":{\"colorbar\":{\"outlinewidth\":1,\"tickcolor\":\"rgb(36,36,36)\",\"ticks\":\"outside\"}},\"type\":\"scatterpolargl\"}],\"scatterpolar\":[{\"marker\":{\"colorbar\":{\"outlinewidth\":1,\"tickcolor\":\"rgb(36,36,36)\",\"ticks\":\"outside\"}},\"type\":\"scatterpolar\"}],\"scatter\":[{\"fillpattern\":{\"fillmode\":\"overlay\",\"size\":10,\"solidity\":0.2},\"type\":\"scatter\"}],\"scatterternary\":[{\"marker\":{\"colorbar\":{\"outlinewidth\":1,\"tickcolor\":\"rgb(36,36,36)\",\"ticks\":\"outside\"}},\"type\":\"scatterternary\"}],\"surface\":[{\"colorbar\":{\"outlinewidth\":1,\"tickcolor\":\"rgb(36,36,36)\",\"ticks\":\"outside\"},\"colorscale\":[[0.0,\"#440154\"],[0.1111111111111111,\"#482878\"],[0.2222222222222222,\"#3e4989\"],[0.3333333333333333,\"#31688e\"],[0.4444444444444444,\"#26828e\"],[0.5555555555555556,\"#1f9e89\"],[0.6666666666666666,\"#35b779\"],[0.7777777777777778,\"#6ece58\"],[0.8888888888888888,\"#b5de2b\"],[1.0,\"#fde725\"]],\"type\":\"surface\"}],\"table\":[{\"cells\":{\"fill\":{\"color\":\"rgb(237,237,237)\"},\"line\":{\"color\":\"white\"}},\"header\":{\"fill\":{\"color\":\"rgb(217,217,217)\"},\"line\":{\"color\":\"white\"}},\"type\":\"table\"}]},\"layout\":{\"annotationdefaults\":{\"arrowhead\":0,\"arrowwidth\":1},\"autotypenumbers\":\"strict\",\"coloraxis\":{\"colorbar\":{\"outlinewidth\":1,\"tickcolor\":\"rgb(36,36,36)\",\"ticks\":\"outside\"}},\"colorscale\":{\"diverging\":[[0.0,\"rgb(103,0,31)\"],[0.1,\"rgb(178,24,43)\"],[0.2,\"rgb(214,96,77)\"],[0.3,\"rgb(244,165,130)\"],[0.4,\"rgb(253,219,199)\"],[0.5,\"rgb(247,247,247)\"],[0.6,\"rgb(209,229,240)\"],[0.7,\"rgb(146,197,222)\"],[0.8,\"rgb(67,147,195)\"],[0.9,\"rgb(33,102,172)\"],[1.0,\"rgb(5,48,97)\"]],\"sequential\":[[0.0,\"#440154\"],[0.1111111111111111,\"#482878\"],[0.2222222222222222,\"#3e4989\"],[0.3333333333333333,\"#31688e\"],[0.4444444444444444,\"#26828e\"],[0.5555555555555556,\"#1f9e89\"],[0.6666666666666666,\"#35b779\"],[0.7777777777777778,\"#6ece58\"],[0.8888888888888888,\"#b5de2b\"],[1.0,\"#fde725\"]],\"sequentialminus\":[[0.0,\"#440154\"],[0.1111111111111111,\"#482878\"],[0.2222222222222222,\"#3e4989\"],[0.3333333333333333,\"#31688e\"],[0.4444444444444444,\"#26828e\"],[0.5555555555555556,\"#1f9e89\"],[0.6666666666666666,\"#35b779\"],[0.7777777777777778,\"#6ece58\"],[0.8888888888888888,\"#b5de2b\"],[1.0,\"#fde725\"]]},\"colorway\":[\"#1F77B4\",\"#FF7F0E\",\"#2CA02C\",\"#D62728\",\"#9467BD\",\"#8C564B\",\"#E377C2\",\"#7F7F7F\",\"#BCBD22\",\"#17BECF\"],\"font\":{\"color\":\"rgb(36,36,36)\"},\"geo\":{\"bgcolor\":\"white\",\"lakecolor\":\"white\",\"landcolor\":\"white\",\"showlakes\":true,\"showland\":true,\"subunitcolor\":\"white\"},\"hoverlabel\":{\"align\":\"left\"},\"hovermode\":\"closest\",\"mapbox\":{\"style\":\"light\"},\"paper_bgcolor\":\"white\",\"plot_bgcolor\":\"white\",\"polar\":{\"angularaxis\":{\"gridcolor\":\"rgb(232,232,232)\",\"linecolor\":\"rgb(36,36,36)\",\"showgrid\":false,\"showline\":true,\"ticks\":\"outside\"},\"bgcolor\":\"white\",\"radialaxis\":{\"gridcolor\":\"rgb(232,232,232)\",\"linecolor\":\"rgb(36,36,36)\",\"showgrid\":false,\"showline\":true,\"ticks\":\"outside\"}},\"scene\":{\"xaxis\":{\"backgroundcolor\":\"white\",\"gridcolor\":\"rgb(232,232,232)\",\"gridwidth\":2,\"linecolor\":\"rgb(36,36,36)\",\"showbackground\":true,\"showgrid\":false,\"showline\":true,\"ticks\":\"outside\",\"zeroline\":false,\"zerolinecolor\":\"rgb(36,36,36)\"},\"yaxis\":{\"backgroundcolor\":\"white\",\"gridcolor\":\"rgb(232,232,232)\",\"gridwidth\":2,\"linecolor\":\"rgb(36,36,36)\",\"showbackground\":true,\"showgrid\":false,\"showline\":true,\"ticks\":\"outside\",\"zeroline\":false,\"zerolinecolor\":\"rgb(36,36,36)\"},\"zaxis\":{\"backgroundcolor\":\"white\",\"gridcolor\":\"rgb(232,232,232)\",\"gridwidth\":2,\"linecolor\":\"rgb(36,36,36)\",\"showbackground\":true,\"showgrid\":false,\"showline\":true,\"ticks\":\"outside\",\"zeroline\":false,\"zerolinecolor\":\"rgb(36,36,36)\"}},\"shapedefaults\":{\"fillcolor\":\"black\",\"line\":{\"width\":0},\"opacity\":0.3},\"ternary\":{\"aaxis\":{\"gridcolor\":\"rgb(232,232,232)\",\"linecolor\":\"rgb(36,36,36)\",\"showgrid\":false,\"showline\":true,\"ticks\":\"outside\"},\"baxis\":{\"gridcolor\":\"rgb(232,232,232)\",\"linecolor\":\"rgb(36,36,36)\",\"showgrid\":false,\"showline\":true,\"ticks\":\"outside\"},\"bgcolor\":\"white\",\"caxis\":{\"gridcolor\":\"rgb(232,232,232)\",\"linecolor\":\"rgb(36,36,36)\",\"showgrid\":false,\"showline\":true,\"ticks\":\"outside\"}},\"title\":{\"x\":0.05},\"xaxis\":{\"automargin\":true,\"gridcolor\":\"rgb(232,232,232)\",\"linecolor\":\"rgb(36,36,36)\",\"showgrid\":false,\"showline\":true,\"ticks\":\"outside\",\"title\":{\"standoff\":15},\"zeroline\":false,\"zerolinecolor\":\"rgb(36,36,36)\"},\"yaxis\":{\"automargin\":true,\"gridcolor\":\"rgb(232,232,232)\",\"linecolor\":\"rgb(36,36,36)\",\"showgrid\":false,\"showline\":true,\"ticks\":\"outside\",\"title\":{\"standoff\":15},\"zeroline\":false,\"zerolinecolor\":\"rgb(36,36,36)\"}}},\"xaxis\":{\"anchor\":\"y\",\"domain\":[0.0,0.3133333333333333],\"title\":{\"text\":\"\"},\"showgrid\":true,\"gridwidth\":1,\"gridcolor\":\"#F0F0F0\",\"linecolor\":\"darkgrey\",\"ticks\":\"\",\"range\":[0,0.29]},\"yaxis\":{\"anchor\":\"x\",\"domain\":[0.0,1.0],\"title\":{\"text\":\"<B>1-recall@3\",\"standoff\":5},\"showgrid\":true,\"gridwidth\":1,\"gridcolor\":\"#F0F0F0\",\"linecolor\":\"darkgrey\",\"ticks\":\"\",\"range\":[0.5,1]},\"xaxis2\":{\"anchor\":\"y2\",\"domain\":[0.34333333333333327,0.6566666666666665],\"matches\":\"x\",\"title\":{\"text\":\"<B>search time (ms/query)\",\"standoff\":10},\"showgrid\":true,\"gridwidth\":1,\"gridcolor\":\"#F0F0F0\",\"linecolor\":\"darkgrey\",\"ticks\":\"\",\"range\":[0,0.29]},\"yaxis2\":{\"anchor\":\"x2\",\"domain\":[0.0,1.0],\"matches\":\"y\",\"showticklabels\":false,\"showgrid\":true,\"gridwidth\":1,\"gridcolor\":\"#F0F0F0\",\"linecolor\":\"darkgrey\",\"ticks\":\"\",\"range\":[0.5,1]},\"xaxis3\":{\"anchor\":\"y3\",\"domain\":[0.6866666666666665,0.9999999999999998],\"matches\":\"x\",\"title\":{\"text\":\"\"},\"showgrid\":true,\"gridwidth\":1,\"gridcolor\":\"#F0F0F0\",\"linecolor\":\"darkgrey\",\"ticks\":\"\",\"range\":[0,0.29]},\"yaxis3\":{\"anchor\":\"x3\",\"domain\":[0.0,1.0],\"matches\":\"y\",\"showticklabels\":false,\"showgrid\":true,\"gridwidth\":1,\"gridcolor\":\"#F0F0F0\",\"linecolor\":\"darkgrey\",\"ticks\":\"\",\"range\":[0.5,1]},\"annotations\":[{\"font\":{},\"showarrow\":false,\"text\":\"nprobe=128\",\"x\":0.15666666666666665,\"xanchor\":\"center\",\"xref\":\"paper\",\"y\":1.0,\"yanchor\":\"bottom\",\"yref\":\"paper\"},{\"font\":{},\"showarrow\":false,\"text\":\"nprobe=256\",\"x\":0.4999999999999999,\"xanchor\":\"center\",\"xref\":\"paper\",\"y\":1.0,\"yanchor\":\"bottom\",\"yref\":\"paper\"},{\"font\":{},\"showarrow\":false,\"text\":\"nprobe=512\",\"x\":0.8433333333333332,\"xanchor\":\"center\",\"xref\":\"paper\",\"y\":1.0,\"yanchor\":\"bottom\",\"yref\":\"paper\"}],\"legend\":{\"title\":{\"text\":\"\"},\"tracegroupgap\":0,\"itemsizing\":\"constant\",\"borderwidth\":1,\"yanchor\":\"top\",\"y\":0.39,\"xanchor\":\"left\",\"x\":0.7},\"margin\":{\"t\":60},\"height\":380,\"width\":720,\"title\":{\"font\":{\"family\":\"Arial\",\"color\":\"RebeccaPurple\"},\"text\":\"<B>Bubble Size corresponds to Index Size (MB)\",\"yanchor\":\"top\",\"y\":0.98,\"xanchor\":\"center\",\"x\":0.5}},                        {\"responsive\": true}                    ).then(function(){\n",
       "                            \n",
       "var gd = document.getElementById('ffac7b5b-9192-44e7-9030-0797415c6a9f');\n",
       "var x = new MutationObserver(function (mutations, observer) {{\n",
       "        var display = window.getComputedStyle(gd).display;\n",
       "        if (!display || display === 'none') {{\n",
       "            console.log([gd, 'removed!']);\n",
       "            Plotly.purge(gd);\n",
       "            observer.disconnect();\n",
       "        }}\n",
       "}});\n",
       "\n",
       "// Listen for the removal of the full notebook cells\n",
       "var notebookContainer = gd.closest('#notebook-container');\n",
       "if (notebookContainer) {{\n",
       "    x.observe(notebookContainer, {childList: true});\n",
       "}}\n",
       "\n",
       "// Listen for the clearing of the current output cell\n",
       "var outputEl = gd.closest('.output');\n",
       "if (outputEl) {{\n",
       "    x.observe(outputEl, {childList: true});\n",
       "}}\n",
       "\n",
       "                        })                };                });            </script>        </div>"
      ]
     },
     "metadata": {},
     "output_type": "display_data"
    }
   ],
   "source": [
    "fig = px.scatter(df3, x=\"search_time\", y=\"recall@3\", color=\"index\", height=380, width=720, size=\"index_size\", size_max=30, \n",
    "                 template=\"simple_white\", color_discrete_sequence=colors_gorb, #color_discrete_sequence=px.colors.qualitative.D3,  \n",
    "                 facet_col=\"nprobe\", facet_col_spacing=0.03     \n",
    "                )\n",
    "fig.update_xaxes(showgrid=True, gridwidth=1, gridcolor='#F0F0F0', linecolor='darkgrey', ticks=\"\", range=[0, 0.29])\n",
    "fig.update_yaxes(showgrid=True, gridwidth=1, gridcolor='#F0F0F0', linecolor='darkgrey', ticks=\"\", range=[0.5, 1])\n",
    "fig.update_xaxes(title_text=\"\")\n",
    "fig.update_xaxes(row=1, col=2, title_standoff=10, title_text=\"<B>search time (ms/query)\")             # title_font_family=\"Arial\"\n",
    "fig.update_yaxes(col=1, row=1, title_standoff=5, title_text=\"<B>1-recall@3\")\n",
    "fig.update_layout(legend=dict(borderwidth=1, yanchor=\"top\", y=0.39, xanchor=\"left\", x=0.7, title=\"\")) # traceorder=\"reversed\", \n",
    "fig.update_layout(title=dict(text=\"<B>Bubble Size corresponds to Index Size (MB)\", yanchor=\"top\", y=0.98, xanchor=\"center\", x=0.5, \n",
    "                             font_family=\"Arial\", font_color=\"RebeccaPurple\"))\n",
    "fig.show()\n",
    "fig.write_html(\"nprobe_x3_indexsize.html\")"
   ]
  },
  {
   "cell_type": "code",
   "execution_count": 70,
   "id": "cf448708",
   "metadata": {
    "execution": {
     "iopub.execute_input": "2022-08-24T06:43:02.593907Z",
     "iopub.status.busy": "2022-08-24T06:43:02.593491Z",
     "iopub.status.idle": "2022-08-24T06:43:02.685212Z",
     "shell.execute_reply": "2022-08-24T06:43:02.684292Z"
    },
    "papermill": {
     "duration": 0.709932,
     "end_time": "2022-08-24T06:43:02.687397",
     "exception": false,
     "start_time": "2022-08-24T06:43:01.977465",
     "status": "completed"
    },
    "tags": []
   },
   "outputs": [
    {
     "data": {
      "text/html": [
       "<div>                            <div id=\"52fc510b-3e32-4b2d-9dbf-ab07ed24fc59\" class=\"plotly-graph-div\" style=\"height:350px; width:450px;\"></div>            <script type=\"text/javascript\">                require([\"plotly\"], function(Plotly) {                    window.PLOTLYENV=window.PLOTLYENV || {};                                    if (document.getElementById(\"52fc510b-3e32-4b2d-9dbf-ab07ed24fc59\")) {                    Plotly.newPlot(                        \"52fc510b-3e32-4b2d-9dbf-ab07ed24fc59\",                        [{\"alignmentgroup\":\"True\",\"hovertemplate\":\"index=%{x}<br>index_size=%{y}<extra></extra>\",\"legendgroup\":\"IVF65536_HNSW32,PQ32\",\"marker\":{\"color\":\"#2CA02C\",\"pattern\":{\"shape\":\"\"},\"opacity\":0.8},\"name\":\"IVF65536_HNSW32,PQ32\",\"offsetgroup\":\"IVF65536_HNSW32,PQ32\",\"orientation\":\"v\",\"showlegend\":true,\"textposition\":\"outside\",\"x\":[\"IVF65536_HNSW32,PQ32\"],\"xaxis\":\"x\",\"y\":[154.209972],\"yaxis\":\"y\",\"type\":\"bar\",\"textfont\":{\"color\":\"blue\",\"size\":12},\"texttemplate\":\"%{value:,d} MB\"},{\"alignmentgroup\":\"True\",\"hovertemplate\":\"index=%{x}<br>index_size=%{y}<extra></extra>\",\"legendgroup\":\"IVF65536_HNSW32,Flat\",\"marker\":{\"color\":\"#FF7F0E\",\"pattern\":{\"shape\":\"\"},\"opacity\":0.8},\"name\":\"IVF65536_HNSW32,Flat\",\"offsetgroup\":\"IVF65536_HNSW32,Flat\",\"orientation\":\"v\",\"showlegend\":true,\"textposition\":\"outside\",\"x\":[\"IVF65536_HNSW32,Flat\"],\"xaxis\":\"x\",\"y\":[1594.078859],\"yaxis\":\"y\",\"type\":\"bar\",\"textfont\":{\"color\":\"blue\",\"size\":12},\"texttemplate\":\"%{value:,d} MB\"},{\"alignmentgroup\":\"True\",\"hovertemplate\":\"index=%{x}<br>index_size=%{y}<extra></extra>\",\"legendgroup\":\"HNSW32,Flat\",\"marker\":{\"color\":\"#D62728\",\"pattern\":{\"shape\":\"\"},\"opacity\":0.8},\"name\":\"HNSW32,Flat\",\"offsetgroup\":\"HNSW32,Flat\",\"orientation\":\"v\",\"showlegend\":true,\"textposition\":\"outside\",\"x\":[\"HNSW32,Flat\"],\"xaxis\":\"x\",\"y\":[2352.4245459999997],\"yaxis\":\"y\",\"type\":\"bar\",\"textfont\":{\"color\":\"blue\",\"size\":12},\"texttemplate\":\"%{value:,d} MB\"},{\"alignmentgroup\":\"True\",\"hovertemplate\":\"index=%{x}<br>index_size=%{y}<extra></extra>\",\"legendgroup\":\"HNSW32_PQ32\",\"marker\":{\"color\":\"#1F77B4\",\"pattern\":{\"shape\":\"\"},\"opacity\":0.8},\"name\":\"HNSW32_PQ32\",\"offsetgroup\":\"HNSW32_PQ32\",\"orientation\":\"v\",\"showlegend\":true,\"textposition\":\"outside\",\"x\":[\"HNSW32_PQ32\"],\"xaxis\":\"x\",\"y\":[912.555659],\"yaxis\":\"y\",\"type\":\"bar\",\"textfont\":{\"color\":\"blue\",\"size\":12},\"texttemplate\":\"%{value:,d} MB\"}],                        {\"template\":{\"data\":{\"barpolar\":[{\"marker\":{\"line\":{\"color\":\"white\",\"width\":0.5},\"pattern\":{\"fillmode\":\"overlay\",\"size\":10,\"solidity\":0.2}},\"type\":\"barpolar\"}],\"bar\":[{\"error_x\":{\"color\":\"rgb(36,36,36)\"},\"error_y\":{\"color\":\"rgb(36,36,36)\"},\"marker\":{\"line\":{\"color\":\"white\",\"width\":0.5},\"pattern\":{\"fillmode\":\"overlay\",\"size\":10,\"solidity\":0.2}},\"type\":\"bar\"}],\"carpet\":[{\"aaxis\":{\"endlinecolor\":\"rgb(36,36,36)\",\"gridcolor\":\"white\",\"linecolor\":\"white\",\"minorgridcolor\":\"white\",\"startlinecolor\":\"rgb(36,36,36)\"},\"baxis\":{\"endlinecolor\":\"rgb(36,36,36)\",\"gridcolor\":\"white\",\"linecolor\":\"white\",\"minorgridcolor\":\"white\",\"startlinecolor\":\"rgb(36,36,36)\"},\"type\":\"carpet\"}],\"choropleth\":[{\"colorbar\":{\"outlinewidth\":1,\"tickcolor\":\"rgb(36,36,36)\",\"ticks\":\"outside\"},\"type\":\"choropleth\"}],\"contourcarpet\":[{\"colorbar\":{\"outlinewidth\":1,\"tickcolor\":\"rgb(36,36,36)\",\"ticks\":\"outside\"},\"type\":\"contourcarpet\"}],\"contour\":[{\"colorbar\":{\"outlinewidth\":1,\"tickcolor\":\"rgb(36,36,36)\",\"ticks\":\"outside\"},\"colorscale\":[[0.0,\"#440154\"],[0.1111111111111111,\"#482878\"],[0.2222222222222222,\"#3e4989\"],[0.3333333333333333,\"#31688e\"],[0.4444444444444444,\"#26828e\"],[0.5555555555555556,\"#1f9e89\"],[0.6666666666666666,\"#35b779\"],[0.7777777777777778,\"#6ece58\"],[0.8888888888888888,\"#b5de2b\"],[1.0,\"#fde725\"]],\"type\":\"contour\"}],\"heatmapgl\":[{\"colorbar\":{\"outlinewidth\":1,\"tickcolor\":\"rgb(36,36,36)\",\"ticks\":\"outside\"},\"colorscale\":[[0.0,\"#440154\"],[0.1111111111111111,\"#482878\"],[0.2222222222222222,\"#3e4989\"],[0.3333333333333333,\"#31688e\"],[0.4444444444444444,\"#26828e\"],[0.5555555555555556,\"#1f9e89\"],[0.6666666666666666,\"#35b779\"],[0.7777777777777778,\"#6ece58\"],[0.8888888888888888,\"#b5de2b\"],[1.0,\"#fde725\"]],\"type\":\"heatmapgl\"}],\"heatmap\":[{\"colorbar\":{\"outlinewidth\":1,\"tickcolor\":\"rgb(36,36,36)\",\"ticks\":\"outside\"},\"colorscale\":[[0.0,\"#440154\"],[0.1111111111111111,\"#482878\"],[0.2222222222222222,\"#3e4989\"],[0.3333333333333333,\"#31688e\"],[0.4444444444444444,\"#26828e\"],[0.5555555555555556,\"#1f9e89\"],[0.6666666666666666,\"#35b779\"],[0.7777777777777778,\"#6ece58\"],[0.8888888888888888,\"#b5de2b\"],[1.0,\"#fde725\"]],\"type\":\"heatmap\"}],\"histogram2dcontour\":[{\"colorbar\":{\"outlinewidth\":1,\"tickcolor\":\"rgb(36,36,36)\",\"ticks\":\"outside\"},\"colorscale\":[[0.0,\"#440154\"],[0.1111111111111111,\"#482878\"],[0.2222222222222222,\"#3e4989\"],[0.3333333333333333,\"#31688e\"],[0.4444444444444444,\"#26828e\"],[0.5555555555555556,\"#1f9e89\"],[0.6666666666666666,\"#35b779\"],[0.7777777777777778,\"#6ece58\"],[0.8888888888888888,\"#b5de2b\"],[1.0,\"#fde725\"]],\"type\":\"histogram2dcontour\"}],\"histogram2d\":[{\"colorbar\":{\"outlinewidth\":1,\"tickcolor\":\"rgb(36,36,36)\",\"ticks\":\"outside\"},\"colorscale\":[[0.0,\"#440154\"],[0.1111111111111111,\"#482878\"],[0.2222222222222222,\"#3e4989\"],[0.3333333333333333,\"#31688e\"],[0.4444444444444444,\"#26828e\"],[0.5555555555555556,\"#1f9e89\"],[0.6666666666666666,\"#35b779\"],[0.7777777777777778,\"#6ece58\"],[0.8888888888888888,\"#b5de2b\"],[1.0,\"#fde725\"]],\"type\":\"histogram2d\"}],\"histogram\":[{\"marker\":{\"line\":{\"color\":\"white\",\"width\":0.6}},\"type\":\"histogram\"}],\"mesh3d\":[{\"colorbar\":{\"outlinewidth\":1,\"tickcolor\":\"rgb(36,36,36)\",\"ticks\":\"outside\"},\"type\":\"mesh3d\"}],\"parcoords\":[{\"line\":{\"colorbar\":{\"outlinewidth\":1,\"tickcolor\":\"rgb(36,36,36)\",\"ticks\":\"outside\"}},\"type\":\"parcoords\"}],\"pie\":[{\"automargin\":true,\"type\":\"pie\"}],\"scatter3d\":[{\"line\":{\"colorbar\":{\"outlinewidth\":1,\"tickcolor\":\"rgb(36,36,36)\",\"ticks\":\"outside\"}},\"marker\":{\"colorbar\":{\"outlinewidth\":1,\"tickcolor\":\"rgb(36,36,36)\",\"ticks\":\"outside\"}},\"type\":\"scatter3d\"}],\"scattercarpet\":[{\"marker\":{\"colorbar\":{\"outlinewidth\":1,\"tickcolor\":\"rgb(36,36,36)\",\"ticks\":\"outside\"}},\"type\":\"scattercarpet\"}],\"scattergeo\":[{\"marker\":{\"colorbar\":{\"outlinewidth\":1,\"tickcolor\":\"rgb(36,36,36)\",\"ticks\":\"outside\"}},\"type\":\"scattergeo\"}],\"scattergl\":[{\"marker\":{\"colorbar\":{\"outlinewidth\":1,\"tickcolor\":\"rgb(36,36,36)\",\"ticks\":\"outside\"}},\"type\":\"scattergl\"}],\"scattermapbox\":[{\"marker\":{\"colorbar\":{\"outlinewidth\":1,\"tickcolor\":\"rgb(36,36,36)\",\"ticks\":\"outside\"}},\"type\":\"scattermapbox\"}],\"scatterpolargl\":[{\"marker\":{\"colorbar\":{\"outlinewidth\":1,\"tickcolor\":\"rgb(36,36,36)\",\"ticks\":\"outside\"}},\"type\":\"scatterpolargl\"}],\"scatterpolar\":[{\"marker\":{\"colorbar\":{\"outlinewidth\":1,\"tickcolor\":\"rgb(36,36,36)\",\"ticks\":\"outside\"}},\"type\":\"scatterpolar\"}],\"scatter\":[{\"fillpattern\":{\"fillmode\":\"overlay\",\"size\":10,\"solidity\":0.2},\"type\":\"scatter\"}],\"scatterternary\":[{\"marker\":{\"colorbar\":{\"outlinewidth\":1,\"tickcolor\":\"rgb(36,36,36)\",\"ticks\":\"outside\"}},\"type\":\"scatterternary\"}],\"surface\":[{\"colorbar\":{\"outlinewidth\":1,\"tickcolor\":\"rgb(36,36,36)\",\"ticks\":\"outside\"},\"colorscale\":[[0.0,\"#440154\"],[0.1111111111111111,\"#482878\"],[0.2222222222222222,\"#3e4989\"],[0.3333333333333333,\"#31688e\"],[0.4444444444444444,\"#26828e\"],[0.5555555555555556,\"#1f9e89\"],[0.6666666666666666,\"#35b779\"],[0.7777777777777778,\"#6ece58\"],[0.8888888888888888,\"#b5de2b\"],[1.0,\"#fde725\"]],\"type\":\"surface\"}],\"table\":[{\"cells\":{\"fill\":{\"color\":\"rgb(237,237,237)\"},\"line\":{\"color\":\"white\"}},\"header\":{\"fill\":{\"color\":\"rgb(217,217,217)\"},\"line\":{\"color\":\"white\"}},\"type\":\"table\"}]},\"layout\":{\"annotationdefaults\":{\"arrowhead\":0,\"arrowwidth\":1},\"autotypenumbers\":\"strict\",\"coloraxis\":{\"colorbar\":{\"outlinewidth\":1,\"tickcolor\":\"rgb(36,36,36)\",\"ticks\":\"outside\"}},\"colorscale\":{\"diverging\":[[0.0,\"rgb(103,0,31)\"],[0.1,\"rgb(178,24,43)\"],[0.2,\"rgb(214,96,77)\"],[0.3,\"rgb(244,165,130)\"],[0.4,\"rgb(253,219,199)\"],[0.5,\"rgb(247,247,247)\"],[0.6,\"rgb(209,229,240)\"],[0.7,\"rgb(146,197,222)\"],[0.8,\"rgb(67,147,195)\"],[0.9,\"rgb(33,102,172)\"],[1.0,\"rgb(5,48,97)\"]],\"sequential\":[[0.0,\"#440154\"],[0.1111111111111111,\"#482878\"],[0.2222222222222222,\"#3e4989\"],[0.3333333333333333,\"#31688e\"],[0.4444444444444444,\"#26828e\"],[0.5555555555555556,\"#1f9e89\"],[0.6666666666666666,\"#35b779\"],[0.7777777777777778,\"#6ece58\"],[0.8888888888888888,\"#b5de2b\"],[1.0,\"#fde725\"]],\"sequentialminus\":[[0.0,\"#440154\"],[0.1111111111111111,\"#482878\"],[0.2222222222222222,\"#3e4989\"],[0.3333333333333333,\"#31688e\"],[0.4444444444444444,\"#26828e\"],[0.5555555555555556,\"#1f9e89\"],[0.6666666666666666,\"#35b779\"],[0.7777777777777778,\"#6ece58\"],[0.8888888888888888,\"#b5de2b\"],[1.0,\"#fde725\"]]},\"colorway\":[\"#1F77B4\",\"#FF7F0E\",\"#2CA02C\",\"#D62728\",\"#9467BD\",\"#8C564B\",\"#E377C2\",\"#7F7F7F\",\"#BCBD22\",\"#17BECF\"],\"font\":{\"color\":\"rgb(36,36,36)\"},\"geo\":{\"bgcolor\":\"white\",\"lakecolor\":\"white\",\"landcolor\":\"white\",\"showlakes\":true,\"showland\":true,\"subunitcolor\":\"white\"},\"hoverlabel\":{\"align\":\"left\"},\"hovermode\":\"closest\",\"mapbox\":{\"style\":\"light\"},\"paper_bgcolor\":\"white\",\"plot_bgcolor\":\"white\",\"polar\":{\"angularaxis\":{\"gridcolor\":\"rgb(232,232,232)\",\"linecolor\":\"rgb(36,36,36)\",\"showgrid\":false,\"showline\":true,\"ticks\":\"outside\"},\"bgcolor\":\"white\",\"radialaxis\":{\"gridcolor\":\"rgb(232,232,232)\",\"linecolor\":\"rgb(36,36,36)\",\"showgrid\":false,\"showline\":true,\"ticks\":\"outside\"}},\"scene\":{\"xaxis\":{\"backgroundcolor\":\"white\",\"gridcolor\":\"rgb(232,232,232)\",\"gridwidth\":2,\"linecolor\":\"rgb(36,36,36)\",\"showbackground\":true,\"showgrid\":false,\"showline\":true,\"ticks\":\"outside\",\"zeroline\":false,\"zerolinecolor\":\"rgb(36,36,36)\"},\"yaxis\":{\"backgroundcolor\":\"white\",\"gridcolor\":\"rgb(232,232,232)\",\"gridwidth\":2,\"linecolor\":\"rgb(36,36,36)\",\"showbackground\":true,\"showgrid\":false,\"showline\":true,\"ticks\":\"outside\",\"zeroline\":false,\"zerolinecolor\":\"rgb(36,36,36)\"},\"zaxis\":{\"backgroundcolor\":\"white\",\"gridcolor\":\"rgb(232,232,232)\",\"gridwidth\":2,\"linecolor\":\"rgb(36,36,36)\",\"showbackground\":true,\"showgrid\":false,\"showline\":true,\"ticks\":\"outside\",\"zeroline\":false,\"zerolinecolor\":\"rgb(36,36,36)\"}},\"shapedefaults\":{\"fillcolor\":\"black\",\"line\":{\"width\":0},\"opacity\":0.3},\"ternary\":{\"aaxis\":{\"gridcolor\":\"rgb(232,232,232)\",\"linecolor\":\"rgb(36,36,36)\",\"showgrid\":false,\"showline\":true,\"ticks\":\"outside\"},\"baxis\":{\"gridcolor\":\"rgb(232,232,232)\",\"linecolor\":\"rgb(36,36,36)\",\"showgrid\":false,\"showline\":true,\"ticks\":\"outside\"},\"bgcolor\":\"white\",\"caxis\":{\"gridcolor\":\"rgb(232,232,232)\",\"linecolor\":\"rgb(36,36,36)\",\"showgrid\":false,\"showline\":true,\"ticks\":\"outside\"}},\"title\":{\"x\":0.05},\"xaxis\":{\"automargin\":true,\"gridcolor\":\"rgb(232,232,232)\",\"linecolor\":\"rgb(36,36,36)\",\"showgrid\":false,\"showline\":true,\"ticks\":\"outside\",\"title\":{\"standoff\":15},\"zeroline\":false,\"zerolinecolor\":\"rgb(36,36,36)\"},\"yaxis\":{\"automargin\":true,\"gridcolor\":\"rgb(232,232,232)\",\"linecolor\":\"rgb(36,36,36)\",\"showgrid\":false,\"showline\":true,\"ticks\":\"outside\",\"title\":{\"standoff\":15},\"zeroline\":false,\"zerolinecolor\":\"rgb(36,36,36)\"}}},\"xaxis\":{\"anchor\":\"y\",\"domain\":[0.0,1.0],\"title\":{\"text\":\"\"},\"categoryorder\":\"array\",\"categoryarray\":[\"IVF65536_HNSW32,PQ32\",\"IVF65536_HNSW32,Flat\",\"HNSW32,Flat\",\"HNSW32_PQ32\"],\"ticks\":\"\",\"tickangle\":15,\"linecolor\":\"darkgrey\"},\"yaxis\":{\"anchor\":\"x\",\"domain\":[0.0,1.0],\"title\":{\"text\":\"\"},\"range\":[0,2600],\"ticks\":\"\",\"showticklabels\":false,\"showline\":false},\"legend\":{\"title\":{\"text\":\"index\"},\"tracegroupgap\":0},\"margin\":{\"t\":60},\"barmode\":\"relative\",\"height\":350,\"width\":450,\"showlegend\":false},                        {\"responsive\": true}                    ).then(function(){\n",
       "                            \n",
       "var gd = document.getElementById('52fc510b-3e32-4b2d-9dbf-ab07ed24fc59');\n",
       "var x = new MutationObserver(function (mutations, observer) {{\n",
       "        var display = window.getComputedStyle(gd).display;\n",
       "        if (!display || display === 'none') {{\n",
       "            console.log([gd, 'removed!']);\n",
       "            Plotly.purge(gd);\n",
       "            observer.disconnect();\n",
       "        }}\n",
       "}});\n",
       "\n",
       "// Listen for the removal of the full notebook cells\n",
       "var notebookContainer = gd.closest('#notebook-container');\n",
       "if (notebookContainer) {{\n",
       "    x.observe(notebookContainer, {childList: true});\n",
       "}}\n",
       "\n",
       "// Listen for the clearing of the current output cell\n",
       "var outputEl = gd.closest('.output');\n",
       "if (outputEl) {{\n",
       "    x.observe(outputEl, {childList: true});\n",
       "}}\n",
       "\n",
       "                        })                };                });            </script>        </div>"
      ]
     },
     "metadata": {},
     "output_type": "display_data"
    }
   ],
   "source": [
    "fig = px.bar(df128, x=\"index\", y=\"index_size\", color=\"index\", height=350, width=450, #text_auto=',d',\n",
    "             template=\"simple_white\", \n",
    "#             color_discrete_sequence=px.colors.qualitative.Set1,  # To override the colors from template\n",
    "            )\n",
    "for i, fdata in enumerate(fig.data):    \n",
    "    fdata.marker.color = colors_gorb[i]   \n",
    "    fdata.marker.opacity = 0.8\n",
    "\n",
    "fig.update_traces(textfont_size=12, textposition=\"outside\", textfont_color=\"blue\", texttemplate=\"%{value:,d} MB\"  )\n",
    "fig.update_layout(xaxis_title_text=\"\", yaxis_title_text=\"\", yaxis_range=[0, 2600], showlegend=False) # yaxis_title_text=\"index size (MB)\", \n",
    "fig.update_xaxes(ticks=\"\", tickangle=15, linecolor='darkgrey',)\n",
    "fig.update_yaxes(ticks=\"\", showticklabels=False, showline=False)\n",
    "fig.show()\n",
    "fig.write_html(\"nprobe128_index_memory.html\")"
   ]
  }
 ],
 "metadata": {
  "kernelspec": {
   "display_name": "Python 3",
   "language": "python",
   "name": "python3"
  },
  "language_info": {
   "codemirror_mode": {
    "name": "ipython",
    "version": 3
   },
   "file_extension": ".py",
   "mimetype": "text/x-python",
   "name": "python",
   "nbconvert_exporter": "python",
   "pygments_lexer": "ipython3",
   "version": "3.7.12"
  },
  "papermill": {
   "default_parameters": {},
   "duration": 13560.062861,
   "end_time": "2022-08-24T06:43:04.650377",
   "environment_variables": {},
   "exception": null,
   "input_path": "__notebook__.ipynb",
   "output_path": "__notebook__.ipynb",
   "parameters": {},
   "start_time": "2022-08-24T02:57:04.587516",
   "version": "2.3.4"
  }
 },
 "nbformat": 4,
 "nbformat_minor": 5
}
