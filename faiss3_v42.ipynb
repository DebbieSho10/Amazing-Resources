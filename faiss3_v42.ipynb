{
 "cells": [
  {
   "cell_type": "markdown",
   "id": "5ca088ca",
   "metadata": {
    "papermill": {
     "duration": 0.017113,
     "end_time": "2022-08-23T03:21:03.580159",
     "exception": false,
     "start_time": "2022-08-23T03:21:03.563046",
     "status": "completed"
    },
    "tags": []
   },
   "source": [
    "# [IVFPQ + HNSW for Billion-scale Similarity Search](https://medium.com/@peggy1502/ivfpq-hnsw-for-billion-scale-similarity-search-89ff2f89d90e)\n",
    "\n",
    "## *To read the full article on **the best indexing approach for billion-sized vector datasets**, click the link on the title above.*\n",
    "\n",
    "#### This notebook generates some of the plots shown in the article mentioned above.\n",
    "\n",
    "- **Running this notebook may take several hours on a single GPU machine.**\n",
    "- **You may get slightly different values running the same codes in this notebook given the stochastic nature of the algorithm.**\n",
    "- **If you're not able to view the interactive plots in this notebook, copy the URL of this notebook and open it in [nbviewer](https://nbviewer.org/).**"
   ]
  },
  {
   "cell_type": "code",
   "execution_count": 1,
   "id": "24b5a653",
   "metadata": {
    "_cell_guid": "b1076dfc-b9ad-4769-8c92-a6c4dae69d19",
    "_kg_hide-input": true,
    "_kg_hide-output": true,
    "_uuid": "8f2839f25d086af736a60e9eeb907d3b93b6e0e5",
    "execution": {
     "iopub.execute_input": "2022-08-23T03:21:03.609059Z",
     "iopub.status.busy": "2022-08-23T03:21:03.608498Z",
     "iopub.status.idle": "2022-08-23T03:44:25.504249Z",
     "shell.execute_reply": "2022-08-23T03:44:25.502995Z"
    },
    "papermill": {
     "duration": 1401.913364,
     "end_time": "2022-08-23T03:44:25.507161",
     "exception": false,
     "start_time": "2022-08-23T03:21:03.593797",
     "status": "completed"
    },
    "tags": []
   },
   "outputs": [
    {
     "name": "stdout",
     "output_type": "stream",
     "text": [
      "Collecting package metadata (current_repodata.json): - \b\b\\ \b\b| \b\b/ \b\b- \b\b\\ \b\b| \b\b/ \b\b- \b\b\\ \b\b| \b\b/ \b\b- \b\b\\ \b\b| \b\b/ \b\b- \b\b\\ \b\b| \b\b/ \b\b- \b\b\\ \b\b| \b\b/ \b\b- \b\b\\ \b\b| \b\b/ \b\b- \b\b\\ \b\b| \b\b/ \b\b- \b\b\\ \b\b| \b\b/ \b\b- \b\b\\ \b\b| \b\b/ \b\b- \b\b\\ \b\b| \b\b/ \b\b- \b\b\\ \b\b| \b\b/ \b\b- \b\b\\ \b\b| \b\b/ \b\b- \b\b\\ \b\b| \b\b/ \b\b- \b\b\\ \b\b| \b\b/ \b\b- \b\b\\ \b\b| \b\b/ \b\b- \b\b\\ \b\b| \b\b/ \b\b- \b\b\\ \b\b| \b\b/ \b\b- \b\b\\ \b\b| \b\b/ \b\b- \b\b\\ \b\b| \b\b/ \b\b- \b\b\\ \b\b| \b\b/ \b\b- \b\b\\ \b\b| \b\b/ \b\b- \b\b\\ \b\b| \b\b/ \b\b- \b\b\\ \b\b| \b\b/ \b\b- \b\b\\ \b\b| \b\b/ \b\b- \b\b\\ \b\b| \b\b/ \b\b- \b\b\\ \b\b| \b\b/ \b\b- \b\b\\ \b\b| \b\b/ \b\b- \b\b\\ \b\b| \b\b/ \b\b- \b\b\\ \b\b| \b\b/ \b\b- \b\b\\ \b\b| \b\b/ \b\b- \b\b\\ \b\b| \b\b/ \b\b- \b\b\\ \b\b| \b\b/ \b\b- \b\b\\ \b\b| \b\b/ \b\b- \b\b\\ \b\b| \b\b/ \b\b- \b\b\\ \b\b| \b\b/ \b\b- \b\b\\ \b\b| \b\b/ \b\b- \b\b\\ \b\b| \b\b/ \b\b- \b\b\\ \b\b| \b\b/ \b\b- \b\b\\ \b\b| \b\b/ \b\b- \b\b\\ \b\b| \b\b/ \b\b- \b\b\\ \b\b| \b\b/ \b\b- \b\b\\ \b\b| \b\b/ \b\b- \b\b\\ \b\b| \b\b/ \b\b- \b\b\\ \b\b| \b\b/ \b\b- \b\b\\ \b\b| \b\b/ \b\b- \b\b\\ \b\b| \b\b/ \b\b- \b\b\\ \b\b| \b\b/ \b\b- \b\b\\ \b\b| \b\b/ \b\b- \b\b\\ \b\b| \b\b/ \b\b- \b\b\\ \b\b| \b\b/ \b\b- \b\b\\ \b\b| \b\b/ \b\b- \b\b\\ \b\b| \b\b/ \b\b- \b\b\\ \b\b| \b\b/ \b\b- \b\b\\ \b\b| \b\b/ \b\b- \b\bdone\r\n",
      "Solving environment: | \b\b/ \b\b- \b\b\\ \b\b| \b\b/ \b\b- \b\b\\ \b\b| \b\b/ \b\b- \b\b\\ \b\b| \b\b/ \b\b- \b\b\\ \b\b| \b\b/ \b\b- \b\b\\ \b\b| \b\b/ \b\b- \b\b\\ \b\b| \b\b/ \b\b- \b\b\\ \b\b| \b\b/ \b\b- \b\b\\ \b\b| \b\b/ \b\b- \b\b\\ \b\b| \b\b/ \b\b- \b\b\\ \b\b| \b\b/ \b\b- \b\b\\ \b\b| \b\b/ \b\b- \b\b\\ \b\b| \b\b/ \b\b- \b\b\\ \b\b| \b\b/ \b\b- \b\b\\ \b\b| \b\b/ \b\b- \b\b\\ \b\b| \b\b/ \b\b- \b\b\\ \b\b| \b\b/ \b\b- \b\b\\ \b\b| \b\b/ \b\b- \b\b\\ \b\b| \b\b/ \b\b- \b\b\\ \b\b| \b\b/ \b\b- \b\b\\ \b\b| \b\b/ \b\b- \b\b\\ \b\b| \b\b/ \b\b- \b\b\\ \b\b| \b\b/ \b\b- \b\b\\ \b\b| \b\b/ \b\b- \b\b\\ \b\b| \b\b/ \b\b- \b\b\\ \b\b| \b\b/ \b\b- \b\b\\ \b\b| \b\b/ \b\b- \b\b\\ \b\b| \b\b/ \b\b- \b\b\\ \b\b| \b\b/ \b\b- \b\b\\ \b\b| \b\b/ \b\b- \b\b\\ \b\b| \b\b/ \b\b- \b\b\\ \b\b| \b\b/ \b\b- \b\b\\ \b\b| \b\b/ \b\b- \b\b\\ \b\b| \b\b/ \b\b- \b\b\\ \b\b| \b\b/ \b\b- \b\b\\ \b\b| \b\b/ \b\b- \b\b\\ \b\b| \b\b/ \b\b- \b\b\\ \b\b| \b\b/ \b\b- \b\b\\ \b\b| \b\b/ \b\b- \b\b\\ \b\b| \b\b/ \b\b- \b\b\\ \b\b| \b\b/ \b\b- \b\b\\ \b\b| \b\b/ \b\b- \b\b\\ \b\b| \b\b/ \b\b- \b\b\\ \b\b| \b\b/ \b\b- \b\b\\ \b\b| \b\b/ \b\b- \b\b\\ \b\b| \b\b/ \b\b- \b\b\\ \b\b| \b\b/ \b\b- \b\b\\ \b\b| \b\b/ \b\b- \b\b\\ \b\b| \b\b/ \b\b- \b\b\\ \b\b| \b\b/ \b\b- \b\b\\ \b\b| \b\b/ \b\b- \b\b\\ \b\b| \b\b/ \b\b- \b\b\\ \b\b| \b\b/ \b\b- \b\b\\ \b\b| \b\b/ \b\b- \b\b\\ \b\b| \b\b/ \b\b- \b\b\\ \b\b| \b\b/ \b\b- \b\b\\ \b\b| \b\b/ \b\b- \b\b\\ \b\b| \b\b/ \b\b- \b\b\\ \b\b| \b\b/ \b\b- \b\b\\ \b\b| \b\b/ \b\b- \b\b\\ \b\b| \b\b/ \b\b- \b\b\\ \b\b| \b\b/ \b\b- \b\b\\ \b\b| \b\b/ \b\b- \b\b\\ \b\b| \b\b/ \b\b- \b\b\\ \b\b| \b\b/ \b\b- \b\b\\ \b\b| \b\b/ \b\b- \b\b\\ \b\b| \b\b/ \b\b- \b\b\\ \b\b| \b\b/ \b\b- \b\b\\ \b\b| \b\b/ \b\b- \b\b\\ \b\b| \b\b/ \b\b- \b\b\\ \b\b| \b\b/ \b\b- \b\b\\ \b\b| \b\b/ \b\b- \b\b\\ \b\b| \b\b/ \b\b- \b\b\\ \b\b| \b\b/ \b\b- \b\b\\ \b\b| \b\b/ \b\b- \b\b\\ \b\b| \b\b/ \b\b- \b\b\\ \b\b| \b\b/ \b\b- \b\b\\ \b\b| \b\b/ \b\b- \b\b\\ \b\b| \b\b/ \b\b- \b\b\\ \b\b| \b\b/ \b\b- \b\b\\ \b\b| \b\b/ \b\b- \b\b\\ \b\b| \b\b/ \b\b- \b\b\\ \b\b| \b\b/ \b\b- \b\b\\ \b\b| \b\b/ \b\b- \b\b\\ \b\b| \b\b/ \b\b- \b\b\\ \b\b| \b\b/ \b\b- \b\b\\ \b\b| \b\b/ \b\b- \b\b\\ \b\b| \b\b/ \b\b- \b\b\\ \b\b| \b\b/ \b\b- \b\b\\ \b\b| \b\b/ \b\b- \b\b\\ \b\b| \b\b/ \b\b- \b\b\\ \b\b| \b\b/ \b\b- \b\b\\ \b\b| \b\b/ \b\b- \b\b\\ \b\b| \b\b/ \b\b- \b\b\\ \b\b| \b\b/ \b\b- \b\b\\ \b\b| \b\b/ \b\b- \b\b\\ \b\b| \b\b/ \b\b- \b\b\\ \b\b| \b\b/ \b\b- \b\b\\ \b\b| \b\b/ \b\b- \b\b\\ \b\b| \b\b/ \b\b- \b\b\\ \b\b| \b\b/ \b\b- \b\b\\ \b\b| \b\b/ \b\b- \b\b\\ \b\b| \b\b/ \b\b- \b\b\\ \b\b| \b\b/ \b\b- \b\b\\ \b\b| \b\b/ \b\b- \b\b\\ \b\b| \b\b/ \b\b- \b\b\\ \b\b| \b\b/ \b\b- \b\b\\ \b\b| \b\b/ \b\b- \b\b\\ \b\b| \b\b/ \b\b- \b\b\\ \b\b| \b\b/ \b\b- \b\b\\ \b\b| \b\b/ \b\b- \b\b\\ \b\b| \b\b/ \b\b- \b\b\\ \b\b| \b\b/ \b\b- \b\b\\ \b\b| \b\b/ \b\b- \b\b\\ \b\b| \b\b/ \b\b- \b\b\\ \b\b| \b\b/ \b\b- \b\b\\ \b\b| \b\b/ \b\b- \b\b\\ \b\b| \b\b/ \b\b- \b\b\\ \b\b| \b\b/ \b\b- \b\b\\ \b\b| \b\b/ \b\b- \b\b\\ \b\b| \b\b/ \b\b- \b\b\\ \b\b| \b\b/ \b\b- \b\b\\ \b\b| \b\b/ \b\b- \b\b\\ \b\b| \b\b/ \b\b- \b\b\\ \b\b| \b\b/ \b\b- \b\b\\ \b\b| \b\b/ \b\b- \b\b\\ \b\b| \b\b/ \b\b- \b\b\\ \b\b| \b\b/ \b\b- \b\b\\ \b\b| \b\b/ \b\b- \b\b\\ \b\b| \b\b/ \b\b- \b\b\\ \b\b| \b\b/ \b\b- \b\b\\ \b\b| \b\b/ \b\b- \b\b\\ \b\b| \b\b/ \b\b- \b\b\\ \b\b| \b\b/ \b\b- \b\b\\ \b\b| \b\b/ \b\b- \b\b\\ \b\b| \b\b/ \b\b- \b\b\\ \b\b| \b\b/ \b\b- \b\b\\ \b\b| \b\b/ \b\b- \b\b\\ \b\b| \b\b/ \b\b- \b\b\\ \b\b| \b\b/ \b\b- \b\b\\ \b\b| \b\b/ \b\b- \b\b\\ \b\b| \b\b/ \b\b- \b\b\\ \b\b| \b\b/ \b\b- \b\b\\ \b\b| \b\b/ \b\b- \b\b\\ \b\b| \b\b/ \b\b- \b\b\\ \b\b| \b\b/ \b\b- \b\b\\ \b\b| \b\b/ \b\b- \b\b\\ \b\b| \b\b/ \b\b- \b\b\\ \b\b| \b\b/ \b\b- \b\b\\ \b\b| \b\b/ \b\b- \b\b\\ \b\b| \b\b/ \b\b- \b\b\\ \b\b| \b\b/ \b\b- \b\b\\ \b\b| \b\b/ \b\b- \b\b\\ \b\b| \b\b/ \b\b- \b\b\\ \b\b| \b\b/ \b\b- \b\b\\ \b\b| \b\b/ \b\b- \b\b\\ \b\b| \b\b/ \b\b- \b\b\\ \b\b| \b\b/ \b\b- \b\b\\ \b\b| \b\b/ \b\b- \b\b\\ \b\b| \b\b/ \b\b- \b\b\\ \b\b| \b\b/ \b\b- \b\b\\ \b\b| \b\b/ \b\b- \b\b\\ \b\b| \b\b/ \b\b- \b\b\\ \b\b| \b\b/ \b\b- \b\b\\ \b\b| \b\b/ \b\b- \b\b\\ \b\b| \b\b/ \b\b- \b\b\\ \b\b| \b\b/ \b\b- \b\b\\ \b\b| \b\b/ \b\b- \b\b\\ \b\b| \b\b/ \b\b- \b\b\\ \b\b| \b\b/ \b\b- \b\b\\ \b\b| \b\b/ \b\b- \b\b\\ \b\b| \b\b/ \b\b- \b\b\\ \b\b| \b\b/ \b\b- \b\b\\ \b\b| \b\b/ \b\b- \b\b\\ \b\b| \b\b/ \b\b- \b\b\\ \b\b| \b\b/ \b\b- \b\b\\ \b\b| \b\b/ \b\b- \b\b\\ \b\b| \b\b/ \b\b- \b\b\\ \b\b| \b\b/ \b\b- \b\b\\ \b\b| \b\b/ \b\b- \b\b\\ \b\b| \b\b/ \b\b- \b\b\\ \b\b| \b\b/ \b\b- \b\b\\ \b\b| \b\b/ \b\b- \b\b\\ \b\b| \b\b/ \b\b- \b\b\\ \b\b| \b\b/ \b\b- \b\b\\ \b\b| \b\b/ \b\b- \b\b\\ \b\b| \b\b/ \b\b- \b\b\\ \b\b| \b\b/ \b\b- \b\b\\ \b\b| \b\b/ \b\b- \b\b\\ \b\b| \b\b/ \b\b- \b\b\\ \b\b| \b\b/ \b\b- \b\b\\ \b\b| \b\b/ \b\b- \b\b\\ \b\b| \b\b/ \b\b- \b\b\\ \b\b| \b\b/ \b\b- \b\b\\ \b\b| \b\b/ \b\b- \b\b\\ \b\b| \b\b/ \b\b- \b\b\\ \b\b| \b\b/ \b\b- \b\b\\ \b\b| \b\b/ \b\b- \b\b\\ \b\b| \b\b/ \b\b- \b\b\\ \b\b| \b\b/ \b\b- \b\b\\ \b\b| \b\b/ \b\b- \b\b\\ \b\b| \b\b/ \b\b- \b\b\\ \b\b| \b\b/ \b\b- \b\b\\ \b\b| \b\b/ \b\b- \b\b\\ \b\b| \b\b/ \b\b- \b\b\\ \b\b| \b\b/ \b\b- \b\b\\ \b\b| \b\b/ \b\b- \b\b\\ \b\b| \b\b/ \b\b- \b\b\\ \b\b| \b\b/ \b\b- \b\b\\ \b\b| \b\b/ \b\b- \b\b\\ \b\b| \b\b/ \b\b- \b\b\\ \b\b| \b\b/ \b\b- \b\b\\ \b\b| \b\b/ \b\b- \b\b\\ \b\b| \b\b/ \b\b- \b\b\\ \b\b| \b\b/ \b\b- \b\b\\ \b\b| \b\b/ \b\b- \b\b\\ \b\b| \b\b/ \b\b- \b\b\\ \b\b| \b\b/ \b\b- \b\b\\ \b\b| \b\b/ \b\b- \b\b\\ \b\b| \b\b/ \b\b- \b\b\\ \b\b| \b\b/ \b\b- \b\b\\ \b\b| \b\b/ \b\b- \b\b\\ \b\b| \b\b/ \b\b- \b\b\\ \b\b| \b\b/ \b\b- \b\b\\ \b\b| \b\b/ \b\b- \b\b\\ \b\b| \b\b/ \b\b- \b\b\\ \b\b| \b\b/ \b\b- \b\b\\ \b\b| \b\b/ \b\b- \b\b\\ \b\b| \b\b/ \b\b- \b\b\\ \b\b| \b\b/ \b\b- \b\b\\ \b\b| \b\b/ \b\b- \b\b\\ \b\b| \b\b/ \b\b- \b\b\\ \b\b| \b\b/ \b\b- \b\b\\ \b\b| \b\b/ \b\b- \b\b\\ \b\b| \b\b/ \b\b- \b\b\\ \b\b| \b\b/ \b\b- \b\b\\ \b\b| \b\b/ \b\b- \b\b\\ \b\b| \b\b/ \b\b- \b\b\\ \b\b| \b\b/ \b\b- \b\b\\ \b\b| \b\b/ \b\b- \b\b\\ \b\b| \b\b/ \b\b- \b\b\\ \b\b| \b\b/ \b\b- \b\b\\ \b\b| \b\b/ \b\b- \b\b\\ \b\b| \b\b/ \b\b- \b\b\\ \b\b| \b\b/ \b\b- \b\b\\ \b\b| \b\b/ \b\b- \b\b\\ \b\b| \b\b/ \b\b- \b\b\\ \b\b| \b\b/ \b\b- \b\b\\ \b\b| \b\b/ \b\b- \b\b\\ \b\b| \b\b/ \b\b- \b\b\\ \b\b| \b\b/ \b\b- \b\b\\ \b\b| \b\b/ \b\b- \b\b\\ \b\b| \b\b/ \b\b- \b\b\\ \b\b| \b\b/ \b\b- \b\b\\ \b\b| \b\b/ \b\b- \b\b\\ \b\b| \b\b/ \b\b- \b\b\\ \b\b| \b\b/ \b\b- \b\b\\ \b\b| \b\b/ \b\b- \b\b\\ \b\b| \b\b/ \b\b- \b\b\\ \b\b| \b\b/ \b\b- \b\b\\ \b\b| \b\b/ \b\b- \b\b\\ \b\b| \b\b/ \b\b- \b\b\\ \b\b| \b\b/ \b\b- \b\b\\ \b\b| \b\b/ \b\b- \b\b\\ \b\b| \b\b/ \b\b- \b\b\\ \b\b| \b\b/ \b\b- \b\b\\ \b\b| \b\b/ \b\b- \b\b\\ \b\b| \b\b/ \b\b- \b\b\\ \b\b| \b\b/ \b\b- \b\b\\ \b\b| \b\b/ \b\b- \b\b\\ \b\b| \b\b/ \b\b- \b\b\\ \b\b| \b\b/ \b\b- \b\b\\ \b\b| \b\b/ \b\b- \b\b\\ \b\b| \b\b/ \b\b- \b\b\\ \b\b| \b\b/ \b\b- \b\b\\ \b\b| \b\b/ \b\b- \b\b\\ \b\b| \b\b/ \b\b- \b\b\\ \b\b| \b\b/ \b\b- \b\b\\ \b\b| \b\b/ \b\b- \b\b\\ \b\b| \b\b/ \b\b- \b\b\\ \b\b| \b\b/ \b\b- \b\b\\ \b\b| \b\b/ \b\b- \b\b\\ \b\b| \b\b/ \b\b- \b\b\\ \b\b| \b\b/ \b\b- \b\b\\ \b\b| \b\b/ \b\b- \b\b\\ \b\b| \b\b/ \b\b- \b\b\\ \b\b| \b\b/ \b\b- \b\b\\ \b\b| \b\b/ \b\b- \b\b\\ \b\b| \b\b/ \b\b- \b\b\\ \b\b| \b\b/ \b\b- \b\b\\ \b\b| \b\b/ \b\b- \b\b\\ \b\b| \b\b/ \b\b- \b\b\\ \b\b| \b\b/ \b\b- \b\b\\ \b\b| \b\b/ \b\b- \b\b\\ \b\b| \b\b/ \b\b- \b\b\\ \b\b| \b\b/ \b\b- \b\b\\ \b\b| \b\b/ \b\b- \b\b\\ \b\b| \b\b/ \b\b- \b\b\\ \b\b| \b\b/ \b\b- \b\b\\ \b\b| \b\b/ \b\b- \b\b\\ \b\b| \b\b/ \b\b- \b\b\\ \b\b| \b\b/ \b\b- \b\b\\ \b\b| \b\b/ \b\b- \b\b\\ \b\b| \b\b/ \b\b- \b\b\\ \b\b| \b\b/ \b\b- \b\b\\ \b\b| \b\b/ \b\b- \b\b\\ \b\b| \b\b/ \b\b- \b\b\\ \b\b| \b\b/ \b\b- \b\b\\ \b\b| \b\b/ \b\b- \b\b\\ \b\b| \b\b/ \b\b- \b\b\\ \b\b| \b\b/ \b\b- \b\b\\ \b\b| \b\b/ \b\b- \b\b\\ \b\b| \b\b/ \b\b- \b\b\\ \b\b| \b\b/ \b\b- \b\b\\ \b\b| \b\b/ \b\b- \b\b\\ \b\b| \b\b/ \b\b- \b\b\\ \b\b| \b\b/ \b\b- \b\b\\ \b\b| \b\b/ \b\b- \b\b\\ \b\b| \b\b/ \b\b- \b\b\\ \b\b| \b\b/ \b\b- \b\b\\ \b\b| \b\b/ \b\b- \b\b\\ \b\b| \b\b/ \b\b- \b\b\\ \b\b| \b\b/ \b\b- \b\b\\ \b\b| \b\b/ \b\b- \b\b\\ \b\b| \b\b/ \b\b- \b\b\\ \b\b| \b\b/ \b\b- \b\b\\ \b\b| \b\b/ \b\b- \b\b\\ \b\b| \b\b/ \b\b- \b\b\\ \b\b| \b\b/ \b\b- \b\b\\ \b\b| \b\b/ \b\b- \b\b\\ \b\b| \b\b/ \b\b- \b\b\\ \b\b| \b\b/ \b\b- \b\b\\ \b\b| \b\b/ \b\b- \b\b\\ \b\b| \b\b/ \b\b- \b\b\\ \b\b| \b\b/ \b\b- \b\b\\ \b\b| \b\b/ \b\b- \b\b\\ \b\b| \b\b/ \b\b- \b\b\\ \b\b| \b\b/ \b\b- \b\b\\ \b\b| \b\b/ \b\b- \b\b\\ \b\b| \b\b/ \b\b- \b\b\\ \b\b| \b\b/ \b\b- \b\b\\ \b\b| \b\b/ \b\b- \b\b\\ \b\b| \b\b/ \b\b- \b\b\\ \b\b| \b\b/ \b\b- \b\b\\ \b\b| \b\b/ \b\b- \b\b\\ \b\b| \b\b/ \b\b- \b\b\\ \b\b| \b\b/ \b\b- \b\b\\ \b\b| \b\b/ \b\b- \b\b\\ \b\b| \b\b/ \b\b- \b\b\\ \b\b| \b\b/ \b\b- \b\b\\ \b\b| \b\b/ \b\b- \b\b\\ \b\b| \b\b/ \b\b- \b\b\\ \b\b| \b\b/ \b\b- \b\b\\ \b\b| \b\b/ \b\b- \b\b\\ \b\b| \b\b/ \b\b- \b\b\\ \b\b| \b\b/ \b\b- \b\b\\ \b\b| \b\b/ \b\b- \b\b\\ \b\b| \b\b/ \b\b- \b\b\\ \b\b| \b\b/ \b\b- \b\b\\ \b\b| \b\b/ \b\b- \b\b\\ \b\b| \b\b/ \b\b- \b\b\\ \b\b| \b\b/ \b\b- \b\b\\ \b\b| \b\b/ \b\b- \b\b\\ \b\b| \b\b/ \b\b- \b\b\\ \b\b| \b\b/ \b\b- \b\b\\ \b\b| \b\b/ \b\b- \b\b\\ \b\b| \b\b/ \b\b- \b\b\\ \b\b| \b\b/ \b\b- \b\b\\ \b\b| \b\b/ \b\b- \b\b\\ \b\b| \b\b/ \b\b- \b\b\\ \b\b| \b\b/ \b\b- \b\b\\ \b\b| \b\b/ \b\b- \b\b\\ \b\b| \b\b/ \b\b- \b\b\\ \b\b| \b\b/ \b\b- \b\b\\ \b\b| \b\b/ \b\b- \b\b\\ \b\b| \b\b/ \b\b- \b\b\\ \b\b| \b\b/ \b\b- \b\b\\ \b\b| \b\b/ \b\b- \b\b\\ \b\b| \b\b/ \b\b- \b\b\\ \b\b| \b\b/ \b\b- \b\b\\ \b\b| \b\b/ \b\b- \b\b\\ \b\b| \b\b/ \b\b- \b\b\\ \b\b| \b\b/ \b\b- \b\b\\ \b\b| \b\b/ \b\b- \b\b\\ \b\b| \b\b/ \b\b- \b\b\\ \b\b| \b\b/ \b\b- \b\b\\ \b\b| \b\b/ \b\b- \b\b\\ \b\b| \b\b/ \b\b- \b\b\\ \b\b| \b\b/ \b\b- \b\b\\ \b\b| \b\b/ \b\b- \b\b\\ \b\b| \b\b/ \b\b- \b\b\\ \b\b| \b\b/ \b\b- \b\b\\ \b\b| \b\b/ \b\b- \b\b\\ \b\b| \b\b/ \b\b- \b\b\\ \b\b| \b\b/ \b\b- \b\b\\ \b\b| \b\b/ \b\b- \b\b\\ \b\b| \b\b/ \b\b- \b\b\\ \b\b| \b\b/ \b\b- \b\b\\ \b\b| \b\b/ \b\b- \b\b\\ \b\b| \b\b/ \b\b- \b\b\\ \b\b| \b\b/ \b\b- \b\b\\ \b\b| \b\bfailed with initial frozen solve. Retrying with flexible solve.\r\n",
      "Solving environment: - \b\b\\ \b\b| \b\b/ \b\b- \b\b\\ \b\b| \b\b/ \b\b- \b\b\\ \b\b| \b\b/ \b\b- \b\b\\ \b\b| \b\b/ \b\b- \b\b\\ \b\b| \b\b/ \b\b- \b\b\\ \b\b| \b\b/ \b\b- \b\b\\ \b\b| \b\b/ \b\b- \b\b\\ \b\b| \b\b/ \b\b- \b\b\\ \b\b| \b\b/ \b\b- \b\b\\ \b\b| \b\b/ \b\b- \b\b\\ \b\b| \b\b/ \b\b- \b\b\\ \b\b| \b\b/ \b\b- \b\b\\ \b\b| \b\b/ \b\b- \b\b\\ \b\b| \b\b/ \b\b- \b\b\\ \b\b| \b\b/ \b\b- \b\b\\ \b\b| \b\b/ \b\b- \b\b\\ \b\b| \b\b/ \b\b- \b\b\\ \b\b| \b\b/ \b\b- \b\b\\ \b\b| \b\b/ \b\b- \b\b\\ \b\b| \b\b/ \b\b- \b\b\\ \b\b| \b\b/ \b\b- \b\b\\ \b\b| \b\b/ \b\b- \b\b\\ \b\b| \b\b/ \b\b- \b\b\\ \b\b| \b\b/ \b\b- \b\b\\ \b\b| \b\b/ \b\b- \b\b\\ \b\b| \b\b/ \b\b- \b\b\\ \b\b| \b\b/ \b\b- \b\b\\ \b\b| \b\b/ \b\b- \b\b\\ \b\b| \b\b/ \b\b- \b\b\\ \b\b| \b\b/ \b\b- \b\b\\ \b\b| \b\b/ \b\b- \b\b\\ \b\b| \b\b/ \b\b- \b\b\\ \b\b| \b\b/ \b\b- \b\b\\ \b\b| \b\b/ \b\b- \b\b\\ \b\b| \b\b/ \b\b- \b\b\\ \b\b| \b\b/ \b\b- \b\b\\ \b\b| \b\b/ \b\b- \b\b\\ \b\b| \b\b/ \b\b- \b\b\\ \b\b| \b\b/ \b\b- \b\b\\ \b\b| \b\b/ \b\b- \b\b\\ \b\b| \b\b/ \b\b- \b\b\\ \b\b| \b\b/ \b\b- \b\b\\ \b\b| \b\b/ \b\b- \b\b\\ \b\b| \b\b/ \b\b- \b\b\\ \b\b| \b\b/ \b\b- \b\b\\ \b\b| \b\b/ \b\b- \b\b\\ \b\b| \b\b/ \b\b- \b\b\\ \b\b| \b\b/ \b\b- \b\b\\ \b\b| \b\b/ \b\b- \b\b\\ \b\b| \b\b/ \b\b- \b\b\\ \b\b| \b\b/ \b\b- \b\b\\ \b\b| \b\b/ \b\b- \b\b\\ \b\b| \b\b/ \b\b- \b\b\\ \b\b| \b\b/ \b\b- \b\b\\ \b\b| \b\b/ \b\b- \b\b\\ \b\b| \b\b/ \b\b- \b\b\\ \b\b| \b\b/ \b\b- \b\b\\ \b\b| \b\b/ \b\b- \b\b\\ \b\b| \b\b/ \b\b- \b\b\\ \b\b| \b\b/ \b\b- \b\b\\ \b\b| \b\b/ \b\b- \b\b\\ \b\b| \b\b/ \b\b- \b\b\\ \b\b| \b\b/ \b\b- \b\b\\ \b\b| \b\b/ \b\b- \b\b\\ \b\b| \b\b/ \b\b- \b\b\\ \b\b| \b\b/ \b\b- \b\b\\ \b\b| \b\b/ \b\b- \b\b\\ \b\b| \b\b/ \b\b- \b\b\\ \b\b| \b\b/ \b\b- \b\b\\ \b\b| \b\b/ \b\b- \b\b\\ \b\b| \b\b/ \b\b- \b\b\\ \b\b| \b\b/ \b\b- \b\b\\ \b\b| \b\b/ \b\b- \b\b\\ \b\b| \b\b/ \b\b- \b\b\\ \b\b| \b\b/ \b\b- \b\b\\ \b\b| \b\b/ \b\b- \b\b\\ \b\b| \b\b/ \b\b- \b\b\\ \b\b| \b\b/ \b\b- \b\b\\ \b\b| \b\b/ \b\b- \b\b\\ \b\b| \b\b/ \b\b- \b\b\\ \b\b| \b\b/ \b\b- \b\b\\ \b\b| \b\b/ \b\b- \b\b\\ \b\b| \b\b/ \b\b- \b\b\\ \b\b| \b\b/ \b\b- \b\b\\ \b\b| \b\b/ \b\b- \b\b\\ \b\b| \b\b/ \b\b- \b\b\\ \b\b| \b\b/ \b\b- \b\b\\ \b\b| \b\b/ \b\b- \b\b\\ \b\b| \b\b/ \b\b- \b\b\\ \b\b| \b\b/ \b\b- \b\b\\ \b\b| \b\b/ \b\b- \b\b\\ \b\b| \b\b/ \b\b- \b\b\\ \b\b| \b\b/ \b\b- \b\b\\ \b\b| \b\b/ \b\b- \b\b\\ \b\b| \b\b/ \b\b- \b\b\\ \b\b| \b\b/ \b\b- \b\b\\ \b\b| \b\b/ \b\b- \b\b\\ \b\b| \b\b/ \b\b- \b\b\\ \b\b| \b\b/ \b\b- \b\b\\ \b\b| \b\b/ \b\b- \b\b\\ \b\b| \b\b/ \b\b- \b\b\\ \b\b| \b\b/ \b\b- \b\b\\ \b\b| \b\b/ \b\b- \b\b\\ \b\b| \b\b/ \b\b- \b\b\\ \b\b| \b\b/ \b\b- \b\b\\ \b\b| \b\b/ \b\b- \b\b\\ \b\b| \b\b/ \b\b- \b\b\\ \b\b| \b\b/ \b\b- \b\b\\ \b\b| \b\b/ \b\b- \b\b\\ \b\b| \b\b/ \b\b- \b\b\\ \b\b| \b\b/ \b\b- \b\b\\ \b\b| \b\b/ \b\b- \b\b\\ \b\b| \b\b/ \b\b- \b\b\\ \b\b| \b\b/ \b\b- \b\b\\ \b\b| \b\b/ \b\b- \b\b\\ \b\b| \b\b/ \b\b- \b\b\\ \b\b| \b\b/ \b\b- \b\b\\ \b\b| \b\b/ \b\b- \b\b\\ \b\b| \b\b/ \b\b- \b\b\\ \b\b| \b\b/ \b\b- \b\b\\ \b\b| \b\b/ \b\b- \b\b\\ \b\b| \b\b/ \b\b- \b\b\\ \b\b| \b\b/ \b\b- \b\b\\ \b\b| \b\b/ \b\b- \b\b\\ \b\b| \b\b/ \b\b- \b\b\\ \b\b| \b\b/ \b\b- \b\b\\ \b\b| \b\b/ \b\b- \b\b\\ \b\b| \b\b/ \b\b- \b\b\\ \b\b| \b\b/ \b\b- \b\b\\ \b\b| \b\b/ \b\b- \b\b\\ \b\b| \b\b/ \b\b- \b\b\\ \b\b| \b\b/ \b\b- \b\b\\ \b\b| \b\b/ \b\b- \b\b\\ \b\b| \b\b/ \b\b- \b\b\\ \b\b| \b\b/ \b\b- \b\b\\ \b\b| \b\b/ \b\b- \b\b\\ \b\b| \b\b/ \b\b- \b\b\\ \b\b| \b\b/ \b\b- \b\b\\ \b\b| \b\b/ \b\b- \b\b\\ \b\b| \b\b/ \b\b- \b\b\\ \b\b| \b\b/ \b\b- \b\b\\ \b\b| \b\b/ \b\b- \b\b\\ \b\b| \b\b/ \b\b- \b\b\\ \b\b| \b\b/ \b\b- \b\b\\ \b\b| \b\b/ \b\b- \b\b\\ \b\b| \b\b/ \b\b- \b\b\\ \b\b| \b\b/ \b\b- \b\b\\ \b\b| \b\b/ \b\b- \b\b\\ \b\b| \b\b/ \b\b- \b\b\\ \b\b| \b\b/ \b\b- \b\b\\ \b\b| \b\b/ \b\b- \b\b\\ \b\b| \b\b/ \b\b- \b\b\\ \b\b| \b\b/ \b\b- \b\b\\ \b\b| \b\b/ \b\b- \b\b\\ \b\b| \b\b/ \b\b- \b\b\\ \b\b| \b\b/ \b\b- \b\b\\ \b\b| \b\b/ \b\b- \b\b\\ \b\b| \b\b/ \b\b- \b\b\\ \b\b| \b\b/ \b\b- \b\b\\ \b\b| \b\b/ \b\b- \b\b\\ \b\b| \b\b/ \b\b- \b\b\\ \b\b| \b\b/ \b\b- \b\b\\ \b\b| \b\b/ \b\b- \b\b\\ \b\b| \b\b/ \b\b- \b\b\\ \b\b| \b\b/ \b\b- \b\b\\ \b\b| \b\b/ \b\b- \b\b\\ \b\b| \b\b/ \b\b- \b\b\\ \b\b| \b\b/ \b\b- \b\b\\ \b\b| \b\b/ \b\b- \b\b\\ \b\b| \b\b/ \b\b- \b\b\\ \b\b| \b\b/ \b\b- \b\b\\ \b\b| \b\b/ \b\b- \b\b\\ \b\b| \b\b/ \b\b- \b\b\\ \b\b| \b\b/ \b\b- \b\b\\ \b\b| \b\b/ \b\b- \b\b\\ \b\b| \b\b/ \b\b- \b\b\\ \b\b| \b\b/ \b\b- \b\b\\ \b\b| \b\b/ \b\b- \b\b\\ \b\b| \b\b/ \b\b- \b\b\\ \b\b| \b\b/ \b\b- \b\b\\ \b\b| \b\b/ \b\b- \b\b\\ \b\b| \b\b/ \b\b- \b\b\\ \b\b| \b\b/ \b\b- \b\b\\ \b\b| \b\b/ \b\b- \b\b\\ \b\b| \b\b/ \b\b- \b\b\\ \b\b| \b\b/ \b\b- \b\b\\ \b\b| \b\b/ \b\b- \b\b\\ \b\b| \b\b/ \b\b- \b\b\\ \b\b| \b\b/ \b\b- \b\b\\ \b\b| \b\b/ \b\b- \b\b\\ \b\b| \b\b/ \b\b- \b\b\\ \b\b| \b\b/ \b\b- \b\b\\ \b\b| \b\b/ \b\b- \b\b\\ \b\b| \b\b/ \b\b- \b\b\\ \b\b| \b\b/ \b\b- \b\b\\ \b\b| \b\b/ \b\b- \b\b\\ \b\b| \b\b/ \b\b- \b\b\\ \b\b| \b\b/ \b\b- \b\b\\ \b\b| \b\b/ \b\b- \b\b\\ \b\b| \b\b/ \b\b- \b\b\\ \b\b| \b\b/ \b\b- \b\b\\ \b\b| \b\b/ \b\b- \b\b\\ \b\b| \b\b/ \b\b- \b\b\\ \b\b| \b\b/ \b\b- \b\b\\ \b\b| \b\b/ \b\b- \b\b\\ \b\b| \b\b/ \b\b- \b\b\\ \b\b| \b\b/ \b\b- \b\b\\ \b\b| \b\b/ \b\b- \b\b\\ \b\b| \b\b/ \b\b- \b\b\\ \b\b| \b\b/ \b\b- \b\b\\ \b\b| \b\b/ \b\b- \b\b\\ \b\b| \b\b/ \b\b- \b\b\\ \b\b| \b\b/ \b\b- \b\b\\ \b\b| \b\b/ \b\b- \b\b\\ \b\b| \b\b/ \b\b- \b\b\\ \b\b| \b\b/ \b\b- \b\b\\ \b\b| \b\b/ \b\b- \b\b\\ \b\b| \b\b/ \b\b- \b\b\\ \b\b| \b\b/ \b\b- \b\b\\ \b\b| \b\b/ \b\b- \b\b\\ \b\b| \b\b/ \b\b- \b\b\\ \b\b| \b\b/ \b\b- \b\b\\ \b\b| \b\b/ \b\b- \b\b\\ \b\b| \b\b/ \b\b- \b\b\\ \b\b| \b\b/ \b\b- \b\b\\ \b\b| \b\b/ \b\b- \b\b\\ \b\b| \b\b/ \b\b- \b\b\\ \b\b| \b\b/ \b\b- \b\b\\ \b\b| \b\b/ \b\b- \b\b\\ \b\b| \b\b/ \b\b- \b\b\\ \b\b| \b\b/ \b\b- \b\b\\ \b\b| \b\b/ \b\b- \b\b\\ \b\b| \b\b/ \b\b- \b\b\\ \b\b| \b\b/ \b\b- \b\b\\ \b\b| \b\b/ \b\b- \b\b\\ \b\b| \b\b/ \b\b- \b\b\\ \b\b| \b\b/ \b\b- \b\b\\ \b\b| \b\b/ \b\b- \b\b\\ \b\b| \b\b/ \b\b- \b\b\\ \b\b| \b\b/ \b\b- \b\b\\ \b\b| \b\b/ \b\b- \b\b\\ \b\b| \b\b/ \b\b- \b\b\\ \b\b| \b\b/ \b\b- \b\b\\ \b\b| \b\b/ \b\b- \b\b\\ \b\b| \b\b/ \b\b- \b\b\\ \b\b| \b\b/ \b\b- \b\b\\ \b\b| \b\b/ \b\b- \b\b\\ \b\b| \b\b/ \b\b- \b\b\\ \b\b| \b\b/ \b\b- \b\b\\ \b\b| \b\b/ \b\b- \b\b\\ \b\b| \b\b/ \b\b- \b\b\\ \b\b| \b\b/ \b\b- \b\b\\ \b\b| \b\b/ \b\b- \b\b\\ \b\b| \b\b/ \b\b- \b\b\\ \b\b| \b\b/ \b\b- \b\b\\ \b\b| \b\b/ \b\b- \b\b\\ \b\b| \b\b/ \b\b- \b\b\\ \b\b| \b\b/ \b\b- \b\b\\ \b\b| \b\b/ \b\b- \b\b\\ \b\b| \b\b/ \b\b- \b\b\\ \b\b| \b\b/ \b\b- \b\b\\ \b\b| \b\b/ \b\b- \b\b\\ \b\b| \b\b/ \b\b- \b\b\\ \b\b| \b\b/ \b\b- \b\b\\ \b\b| \b\b/ \b\b- \b\b\\ \b\b| \b\b/ \b\b- \b\b\\ \b\b| \b\b/ \b\b- \b\b\\ \b\b| \b\b/ \b\b- \b\b\\ \b\b| \b\b/ \b\b- \b\b\\ \b\b| \b\b/ \b\b- \b\b\\ \b\b| \b\b/ \b\b- \b\b\\ \b\b| \b\b/ \b\b- \b\b\\ \b\b| \b\b/ \b\b- \b\b\\ \b\b| \b\b/ \b\b- \b\b\\ \b\b| \b\b/ \b\b- \b\b\\ \b\b| \b\b/ \b\b- \b\b\\ \b\b| \b\b/ \b\b- \b\b\\ \b\b| \b\b/ \b\b- \b\b\\ \b\b| \b\b/ \b\b- \b\b\\ \b\b| \b\b/ \b\b- \b\b\\ \b\b| \b\b/ \b\b- \b\b\\ \b\b| \b\b/ \b\b- \b\b\\ \b\b| \b\b/ \b\b- \b\b\\ \b\b| \b\b/ \b\b- \b\b\\ \b\b| \b\b/ \b\b- \b\b\\ \b\b| \b\b/ \b\b- \b\b\\ \b\b| \b\b/ \b\b- \b\b\\ \b\b| \b\b/ \b\b- \b\b\\ \b\b| \b\b/ \b\b- \b\b\\ \b\b| \b\b/ \b\b- \b\b\\ \b\b| \b\b/ \b\b- \b\b\\ \b\b| \b\b/ \b\b- \b\b\\ \b\b| \b\b/ \b\b- \b\b\\ \b\b| \b\b/ \b\b- \b\b\\ \b\b| \b\b/ \b\b- \b\b\\ \b\b| \b\b/ \b\b- \b\b\\ \b\b| \b\b/ \b\b- \b\b\\ \b\b| \b\b/ \b\b- \b\b\\ \b\b| \b\b/ \b\b- \b\b\\ \b\b| \b\b/ \b\b- \b\b\\ \b\b| \b\b/ \b\b- \b\b\\ \b\b| \b\b/ \b\b- \b\b\\ \b\b| \b\b/ \b\b- \b\b\\ \b\b| \b\b/ \b\b- \b\b\\ \b\b| \b\b/ \b\b- \b\b\\ \b\b| \b\b/ \b\b- \b\b\\ \b\b| \b\b/ \b\b- \b\b\\ \b\b| \b\b/ \b\b- \b\b\\ \b\b| \b\b/ \b\b- \b\b\\ \b\b| \b\b/ \b\b- \b\b\\ \b\b| \b\b/ \b\b- \b\b\\ \b\b| \b\b/ \b\b- \b\b\\ \b\b| \b\b/ \b\b- \b\b\\ \b\b| \b\b/ \b\b- \b\b\\ \b\b| \b\b/ \b\b- \b\b\\ \b\b| \b\b/ \b\b- \b\b\\ \b\b| \b\b/ \b\b- \b\b\\ \b\b| \b\b/ \b\b- \b\b\\ \b\b| \b\b/ \b\b- \b\b\\ \b\b| \b\b/ \b\b- \b\b\\ \b\b| \b\b/ \b\b- \b\b\\ \b\b| \b\b/ \b\b- \b\b\\ \b\b| \b\b/ \b\b- \b\b\\ \b\b| \b\b/ \b\b- \b\b\\ \b\b| \b\b/ \b\b- \b\b\\ \b\b| \b\b/ \b\b- \b\b\\ \b\b| \b\b/ \b\b- \b\b\\ \b\b| \b\b/ \b\b- \b\b\\ \b\b| \b\b/ \b\b- \b\b\\ \b\b| \b\b/ \b\b- \b\b\\ \b\b| \b\b/ \b\b- \b\b\\ \b\b| \b\b/ \b\b- \b\b\\ \b\b| \b\b/ \b\b- \b\b\\ \b\b| \b\b/ \b\b- \b\b\\ \b\b| \b\b/ \b\b- \b\b\\ \b\b| \b\b/ \b\b- \b\b\\ \b\b| \b\b/ \b\b- \b\b\\ \b\b| \b\b/ \b\b- \b\b\\ \b\b| \b\b/ \b\b- \b\b\\ \b\b| \b\b/ \b\b- \b\b\\ \b\b| \b\b/ \b\b- \b\b\\ \b\b| \b\b/ \b\b- \b\b\\ \b\b| \b\b/ \b\b- \b\b\\ \b\b| \b\b/ \b\b- \b\b\\ \b\b| \b\b/ \b\b- \b\b\\ \b\b| \b\b/ \b\b- \b\b\\ \b\b| \b\b/ \b\b- \b\b\\ \b\b| \b\b/ \b\b- \b\b\\ \b\b| \b\b/ \b\b- \b\b\\ \b\b| \b\b/ \b\b- \b\b\\ \b\b| \b\b/ \b\b- \b\b\\ \b\b| \b\b/ \b\b- \b\b\\ \b\b| \b\b/ \b\b- \b\b\\ \b\b| \b\b/ \b\b- \b\b\\ \b\b| \b\b/ \b\b- \b\b\\ \b\b| \b\b/ \b\b- \b\b\\ \b\b| \b\b/ \b\b- \b\b\\ \b\b| \b\b/ \b\b- \b\b\\ \b\b| \b\b/ \b\b- \b\b\\ \b\b| \b\b/ \b\b- \b\b\\ \b\b| \b\b/ \b\b- \b\b\\ \b\b| \b\b/ \b\b- \b\b\\ \b\b| \b\b/ \b\b- \b\b\\ \b\b| \b\b/ \b\b- \b\b\\ \b\b| \b\b/ \b\b- \b\b\\ \b\b| \b\b/ \b\b- \b\b\\ \b\b| \b\b/ \b\b- \b\b\\ \b\b| \b\b/ \b\b- \b\b\\ \b\b| \b\b/ \b\b- \b\b\\ \b\b| \b\b/ \b\b- \b\b\\ \b\b| \b\b/ \b\b- \b\b\\ \b\b| \b\b/ \b\b- \b\b\\ \b\b| \b\b/ \b\b- \b\b\\ \b\b| \b\b/ \b\b- \b\b\\ \b\b| \b\b/ \b\b- \b\b\\ \b\b| \b\b/ \b\b- \b\b\\ \b\b| \b\b/ \b\b- \b\b\\ \b\b| \b\b/ \b\b- \b\b\\ \b\b| \b\b/ \b\b- \b\b\\ \b\b| \b\b/ \b\b- \b\b\\ \b\b| \b\b/ \b\b- \b\b\\ \b\b| \b\b/ \b\b- \b\b\\ \b\b| \b\b/ \b\b- \b\b\\ \b\b| \b\b/ \b\b- \b\b\\ \b\b| \b\b/ \b\b- \b\b\\ \b\b| \b\b/ \b\b- \b\b\\ \b\b| \b\b/ \b\b- \b\b\\ \b\b| \b\b/ \b\b- \b\b\\ \b\b| \b\b/ \b\b- \b\b\\ \b\b| \b\b/ \b\b- \b\b\\ \b\b| \b\b/ \b\b- \b\b\\ \b\b| \b\b/ \b\b- \b\b\\ \b\b| \b\b/ \b\b- \b\b\\ \b\b| \b\b/ \b\b- \b\b\\ \b\b| \b\b/ \b\b- \b\b\\ \b\b| \b\b/ \b\b- \b\b\\ \b\b| \b\b/ \b\b- \b\b\\ \b\b| \b\b/ \b\b- \b\b\\ \b\b| \b\b/ \b\b- \b\b\\ \b\b| \b\b/ \b\b- \b\b\\ \b\b| \b\b/ \b\b- \b\b\\ \b\b| \b\b/ \b\b- \b\b\\ \b\b| \b\b/ \b\b- \b\b\\ \b\b| \b\b/ \b\b- \b\b\\ \b\b| \b\b/ \b\b- \b\b\\ \b\b| \b\b/ \b\b- \b\b\\ \b\b| \b\b/ \b\b- \b\b\\ \b\b| \b\b/ \b\b- \b\b\\ \b\b| \b\b/ \b\b- \b\b\\ \b\b| \b\b/ \b\b- \b\b\\ \b\b| \b\b/ \b\b- \b\b\\ \b\b| \b\b/ \b\b- \b\b\\ \b\b| \b\b/ \b\b- \b\b\\ \b\b| \b\b/ \b\b- \b\b\\ \b\b| \b\b/ \b\b- \b\b\\ \b\b| \b\b/ \b\b- \b\b\\ \b\b| \b\b/ \b\b- \b\b\\ \b\b| \b\b/ \b\b- \b\b\\ \b\b| \b\b/ \b\b- \b\b\\ \b\b| \b\b/ \b\b- \b\b\\ \b\b| \b\b/ \b\b- \b\b\\ \b\b| \b\b/ \b\b- \b\b\\ \b\b| \b\b/ \b\b- \b\b\\ \b\b| \b\b/ \b\b- \b\b\\ \b\b| \b\b/ \b\b- \b\b\\ \b\b| \b\b/ \b\b- \b\b\\ \b\b| \b\b/ \b\b- \b\b\\ \b\b| \b\b/ \b\b- \b\b\\ \b\b| \b\b/ \b\b- \b\b\\ \b\b| \b\b/ \b\b- \b\b\\ \b\b| \b\b/ \b\b- \b\b\\ \b\b| \b\b/ \b\b- \b\b\\ \b\b| \b\b/ \b\b- \b\b\\ \b\b| \b\b/ \b\b- \b\b\\ \b\b| \b\b/ \b\b- \b\b\\ \b\b| \b\b/ \b\b- \b\b\\ \b\b| \b\b/ \b\b- \b\b\\ \b\b| \b\b/ \b\b- \b\b\\ \b\b| \b\b/ \b\b- \b\b\\ \b\b| \b\b/ \b\b- \b\b\\ \b\b| \b\b/ \b\b- \b\b\\ \b\b| \b\b/ \b\b- \b\b\\ \b\b| \b\b/ \b\b- \b\b\\ \b\b| \b\b/ \b\b- \b\b\\ \b\b| \b\b/ \b\b- \b\b\\ \b\b| \b\b/ \b\b- \b\b\\ \b\b| \b\b/ \b\b- \b\b\\ \b\b| \b\b/ \b\b- \b\b\\ \b\b| \b\b/ \b\b- \b\b\\ \b\b| \b\b/ \b\b- \b\b\\ \b\b| \b\b/ \b\b- \b\b\\ \b\b| \b\b/ \b\b- \b\b\\ \b\b| \b\b/ \b\b- \b\b\\ \b\b| \b\b/ \b\b- \b\b\\ \b\b| \b\b/ \b\b- \b\b\\ \b\b| \b\b/ \b\b- \b\b\\ \b\b| \b\b/ \b\b- \b\b\\ \b\b| \b\b/ \b\b- \b\b\\ \b\b| \b\b/ \b\b- \b\b\\ \b\b| \b\b/ \b\b- \b\b\\ \b\b| \b\b/ \b\b- \b\b\\ \b\b| \b\b/ \b\b- \b\b\\ \b\b| \b\b/ \b\b- \b\b\\ \b\b| \b\b/ \b\b- \b\b\\ \b\b| \b\b/ \b\b- \b\b\\ \b\b| \b\b/ \b\b- \b\b\\ \b\b| \b\b/ \b\b- \b\b\\ \b\b| \b\b/ \b\b- \b\b\\ \b\b| \b\b/ \b\b- \b\b\\ \b\b| \b\b/ \b\b- \b\b\\ \b\b| \b\b/ \b\b- \b\b\\ \b\b| \b\b/ \b\b- \b\b\\ \b\b| \b\b/ \b\b- \b\b\\ \b\b| \b\b/ \b\b- \b\b\\ \b\b| \b\b/ \b\b- \b\b\\ \b\b| \b\b/ \b\b- \b\b\\ \b\b| \b\b/ \b\b- \b\b\\ \b\b| \b\b/ \b\b- \b\b\\ \b\b| \b\b/ \b\b- \b\b\\ \b\b| \b\b/ \b\b- \b\b\\ \b\b| \b\b/ \b\b- \b\b\\ \b\b| \b\b/ \b\b- \b\b\\ \b\b| \b\b/ \b\b- \b\b\\ \b\b| \b\b/ \b\b- \b\b\\ \b\b| \b\b/ \b\b- \b\b\\ \b\b| \b\b/ \b\b- \b\b\\ \b\b| \b\b/ \b\b- \b\b\\ \b\b| \b\b/ \b\b- \b\b\\ \b\b| \b\b/ \b\b- \b\b\\ \b\b| \b\b/ \b\b- \b\b\\ \b\b| \b\b/ \b\b- \b\b\\ \b\b| \b\b/ \b\b- \b\b\\ \b\b| \b\b/ \b\b- \b\b\\ \b\b| \b\b/ \b\b- \b\b\\ \b\b| \b\b/ \b\b- \b\b\\ \b\b| \b\b/ \b\b- \b\b\\ \b\b| \b\b/ \b\b- \b\b\\ \b\b| \b\b/ \b\b- \b\b\\ \b\b| \b\b/ \b\b- \b\b\\ \b\b| \b\b/ \b\b- \b\b\\ \b\b| \b\b/ \b\b- \b\b\\ \b\b| \b\b/ \b\b- \b\b\\ \b\b| \b\b/ \b\b- \b\b\\ \b\b| \b\b/ \b\b- \b\b\\ \b\b| \b\b/ \b\b- \b\b\\ \b\b| \b\b/ \b\b- \b\b\\ \b\b| \b\b/ \b\b- \b\b\\ \b\b| \b\b/ \b\b- \b\b\\ \b\b| \b\b/ \b\b- \b\b\\ \b\b| \b\b/ \b\b- \b\b\\ \b\b| \b\b/ \b\b- \b\b\\ \b\b| \b\b/ \b\b- \b\b\\ \b\b| \b\b/ \b\b- \b\b\\ \b\b| \b\b/ \b\b- \b\b\\ \b\b| \b\b/ \b\b- \b\b\\ \b\b| \b\b/ \b\b- \b\b\\ \b\b| \b\b/ \b\b- \b\b\\ \b\b| \b\b/ \b\b- \b\b\\ \b\b| \b\b/ \b\b- \b\b\\ \b\b| \b\b/ \b\b- \b\b\\ \b\b| \b\b/ \b\b- \b\b\\ \b\b| \b\b/ \b\b- \b\b\\ \b\b| \b\b/ \b\b- \b\b\\ \b\b| \b\b/ \b\b- \b\b\\ \b\b| \b\b/ \b\b- \b\b\\ \b\b| \b\b/ \b\b- \b\b\\ \b\b| \b\b/ \b\b- \b\b\\ \b\b| \b\b/ \b\b- \b\b\\ \b\b| \b\b/ \b\b- \b\b\\ \b\b| \b\b/ \b\b- \b\b\\ \b\b| \b\b/ \b\b- \b\b\\ \b\b| \b\b/ \b\b- \b\b\\ \b\b| \b\b/ \b\b- \b\b\\ \b\b| \b\b/ \b\b- \b\b\\ \b\b| \b\b/ \b\b- \b\b\\ \b\b| \b\b/ \b\b- \b\b\\ \b\b| \b\b/ \b\b- \b\b\\ \b\b| \b\b/ \b\b- \b\b\\ \b\b| \b\b/ \b\b- \b\b\\ \b\b| \b\b/ \b\b- \b\b\\ \b\b| \b\b/ \b\b- \b\b\\ \b\b| \b\b/ \b\b- \b\b\\ \b\b| \b\b/ \b\b- \b\b\\ \b\b| \b\b/ \b\b- \b\b\\ \b\b| \b\b/ \b\b- \b\b\\ \b\b| \b\b/ \b\b- \b\b\\ \b\b| \b\b/ \b\b- \b\b\\ \b\b| \b\b/ \b\b- \b\b\\ \b\b| \b\b/ \b\b- \b\b\\ \b\b| \b\b/ \b\b- \b\b\\ \b\b| \b\b/ \b\b- \b\b\\ \b\b| \b\b/ \b\b- \b\b\\ \b\b| \b\b/ \b\b- \b\b\\ \b\b| \b\b/ \b\b- \b\b\\ \b\b| \b\b/ \b\b- \b\b\\ \b\b| \b\b/ \b\b- \b\b\\ \b\b| \b\b/ \b\b- \b\b\\ \b\b| \b\b/ \b\b- \b\b\\ \b\b| \b\b/ \b\b- \b\b\\ \b\b| \b\b/ \b\b- \b\b\\ \b\b| \b\b/ \b\b- \b\b\\ \b\b| \b\b/ \b\b- \b\b\\ \b\b| \b\b/ \b\b- \b\b\\ \b\b| \b\b/ \b\b- \b\b\\ \b\b| \b\b/ \b\b- \b\b\\ \b\b| \b\b/ \b\b- \b\b\\ \b\b| \b\b/ \b\b- \b\b\\ \b\b| \b\b/ \b\b- \b\b\\ \b\b| \b\b/ \b\b- \b\b\\ \b\b| \b\b/ \b\b- \b\b\\ \b\b| \b\b/ \b\b- \b\b\\ \b\b| \b\b/ \b\b- \b\b\\ \b\b| \b\b/ \b\b- \b\b\\ \b\b| \b\b/ \b\b- \b\b\\ \b\b| \b\b/ \b\b- \b\b\\ \b\b| \b\b/ \b\b- \b\b\\ \b\b| \b\b/ \b\b- \b\b\\ \b\b| \b\b/ \b\b- \b\b\\ \b\b| \b\b/ \b\b- \b\b\\ \b\b| \b\b/ \b\b- \b\b\\ \b\b| \b\b/ \b\b- \b\b\\ \b\b| \b\b/ \b\b- \b\b\\ \b\b| \b\b/ \b\b- \b\b\\ \b\b| \b\b/ \b\b- \b\b\\ \b\b| \b\b/ \b\b- \b\b\\ \b\b| \b\b/ \b\b- \b\b\\ \b\b| \b\b/ \b\b- \b\b\\ \b\b| \b\b/ \b\b- \b\b\\ \b\b| \b\b/ \b\b- \b\b\\ \b\b| \b\b/ \b\b- \b\b\\ \b\b| \b\b/ \b\b- \b\b\\ \b\b| \b\b/ \b\b- \b\b\\ \b\b| \b\b/ \b\b- \b\b\\ \b\b| \b\b/ \b\b- \b\b\\ \b\b| \b\b/ \b\b- \b\b\\ \b\b| \b\b/ \b\b- \b\b\\ \b\b| \b\b/ \b\b- \b\b\\ \b\b| \b\b/ \b\b- \b\b\\ \b\b| \b\b/ \b\b- \b\b\\ \b\b| \b\b/ \b\b- \b\b\\ \b\b| \b\b/ \b\b- \b\b\\ \b\b| \b\b/ \b\b- \b\b\\ \b\b| \b\b/ \b\b- \b\b\\ \b\b| \b\b/ \b\b- \b\b\\ \b\b| \b\b/ \b\b- \b\b\\ \b\b| \b\b/ \b\b- \b\b\\ \b\b| \b\b/ \b\b- \b\b\\ \b\b| \b\b/ \b\b- \b\b\\ \b\b| \b\b/ \b\b- \b\b\\ \b\b| \b\b/ \b\b- \b\b\\ \b\b| \b\b/ \b\b- \b\b\\ \b\b| \b\b/ \b\b- \b\b\\ \b\b| \b\b/ \b\b- \b\b\\ \b\b| \b\b/ \b\b- \b\b\\ \b\b| \b\b/ \b\b- \b\b\\ \b\b| \b\b/ \b\b- \b\b\\ \b\b| \b\b/ \b\b- \b\b\\ \b\b| \b\b/ \b\b- \b\b\\ \b\b| \b\b/ \b\b- \b\b\\ \b\b| \b\b/ \b\b- \b\b\\ \b\b| \b\b/ \b\b- \b\b\\ \b\b| \b\b/ \b\b- \b\b\\ \b\b| \b\b/ \b\b- \b\b\\ \b\b| \b\b/ \b\b- \b\b\\ \b\b| \b\b/ \b\b- \b\b\\ \b\b| \b\b/ \b\b- \b\b\\ \b\b| \b\b/ \b\b- \b\b\\ \b\b| \b\b/ \b\b- \b\b\\ \b\b| \b\b/ \b\b- \b\b\\ \b\b| \b\b/ \b\b- \b\b\\ \b\b| \b\b/ \b\b- \b\b\\ \b\b| \b\b/ \b\b- \b\b\\ \b\b| \b\b/ \b\b- \b\b\\ \b\b| \b\b/ \b\b- \b\b\\ \b\b| \b\b/ \b\b- \b\b\\ \b\b| \b\b/ \b\b- \b\b\\ \b\b| \b\b/ \b\b- \b\b\\ \b\b| \b\b/ \b\b- \b\b\\ \b\b| \b\b/ \b\b- \b\b\\ \b\b| \b\b/ \b\b- \b\b\\ \b\b| \b\b/ \b\b- \b\b\\ \b\b| \b\b/ \b\b- \b\b\\ \b\b| \b\b/ \b\b- \b\b\\ \b\b| \b\b/ \b\b- \b\b\\ \b\b| \b\b/ \b\b- \b\b\\ \b\b| \b\b/ \b\b- \b\b\\ \b\b| \b\b/ \b\b- \b\b\\ \b\b| \b\b/ \b\b- \b\b\\ \b\b| \b\b/ \b\b- \b\b\\ \b\b| \b\b/ \b\b- \b\b\\ \b\b| \b\b/ \b\b- \b\b\\ \b\b| \b\b/ \b\b- \b\b\\ \b\b| \b\b/ \b\b- \b\b\\ \b\b| \b\b/ \b\b- \b\b\\ \b\b| \b\b/ \b\b- \b\b\\ \b\b| \b\b/ \b\b- \b\b\\ \b\b| \b\b/ \b\b- \b\b\\ \b\b| \b\b/ \b\b- \b\b\\ \b\b| \b\b/ \b\b- \b\b\\ \b\b| \b\b/ \b\b- \b\b\\ \b\b| \b\b/ \b\b- \b\b\\ \b\b| \b\b/ \b\b- \b\b\\ \b\b| \b\b/ \b\b- \b\b\\ \b\b| \b\b/ \b\b- \b\b\\ \b\b| \b\b/ \b\b- \b\b\\ \b\b| \b\b/ \b\b- \b\b\\ \b\b| \b\b/ \b\b- \b\b\\ \b\b| \b\b/ \b\b- \b\b\\ \b\b| \b\b/ \b\b- \b\b\\ \b\b| \b\b/ \b\b- \b\b\\ \b\b| \b\b/ \b\b- \b\b\\ \b\b| \b\b/ \b\b- \b\b\\ \b\b| \b\b/ \b\b- \b\b\\ \b\b| \b\b/ \b\b- \b\b\\ \b\b| \b\b/ \b\b- \b\b\\ \b\b| \b\b/ \b\b- \b\b\\ \b\b| \b\b/ \b\b- \b\b\\ \b\b| \b\b/ \b\b- \b\b\\ \b\b| \b\b/ \b\b- \b\b\\ \b\b| \b\b/ \b\b- \b\b\\ \b\b| \b\b/ \b\b- \b\b\\ \b\b| \b\b/ \b\b- \b\b\\ \b\b| \b\b/ \b\b- \b\b\\ \b\b| \b\b/ \b\b- \b\b\\ \b\b| \b\b/ \b\b- \b\b\\ \b\b| \b\b/ \b\b- \b\b\\ \b\b| \b\b/ \b\b- \b\b\\ \b\b| \b\b/ \b\b- \b\b\\ \b\b| \b\b/ \b\b- \b\b\\ \b\b| \b\b/ \b\b- \b\b\\ \b\b| \b\b/ \b\b- \b\b\\ \b\b| \b\b/ \b\b- \b\b\\ \b\b| \b\b/ \b\b- \b\b\\ \b\b| \b\b/ \b\b- \b\b\\ \b\b| \b\b/ \b\b- \b\b\\ \b\b| \b\b/ \b\b- \b\b\\ \b\b| \b\b/ \b\b- \b\b\\ \b\b| \b\b/ \b\b- \b\b\\ \b\b| \b\b/ \b\b- \b\b\\ \b\b| \b\b/ \b\b- \b\b\\ \b\b| \b\b/ \b\b- \b\b\\ \b\b| \b\b/ \b\b- \b\b\\ \b\b| \b\b/ \b\b- \b\b\\ \b\b| \b\b/ \b\b- \b\b\\ \b\b| \b\b/ \b\b- \b\b\\ \b\b| \b\b/ \b\b- \b\b\\ \b\b| \b\b/ \b\b- \b\b\\ \b\b| \b\b/ \b\b- \b\b\\ \b\b| \b\b/ \b\b- \b\b\\ \b\b| \b\b/ \b\b- \b\b\\ \b\b| \b\b/ \b\b- \b\b\\ \b\b| \b\b/ \b\b- \b\b\\ \b\b| \b\b/ \b\b- \b\b\\ \b\b| \b\b/ \b\b- \b\b\\ \b\b| \b\b/ \b\b- \b\b\\ \b\b| \b\b/ \b\b- \b\b\\ \b\b| \b\b/ \b\b- \b\b\\ \b\b| \b\b/ \b\b- \b\b\\ \b\b| \b\b/ \b\b- \b\b\\ \b\b| \b\b/ \b\b- \b\b\\ \b\b| \b\b/ \b\b- \b\b\\ \b\b| \b\b/ \b\b- \b\b\\ \b\b| \b\b/ \b\b- \b\b\\ \b\b| \b\b/ \b\b- \b\b\\ \b\b| \b\b/ \b\b- \b\b\\ \b\b| \b\b/ \b\b- \b\b\\ \b\b| \b\b/ \b\b- \b\b\\ \b\b| \b\b/ \b\b- \b\b\\ \b\b| \b\b/ \b\b- \b\b\\ \b\b| \b\b/ \b\b- \b\b\\ \b\b| \b\b/ \b\b- \b\b\\ \b\b| \b\b/ \b\b- \b\b\\ \b\b| \b\b/ \b\b- \b\b\\ \b\b| \b\b/ \b\b- \b\b\\ \b\b| \b\b/ \b\b- \b\b\\ \b\b| \b\b/ \b\b- \b\b\\ \b\b| \b\b/ \b\b- \b\b\\ \b\b| \b\b/ \b\b- \b\b\\ \b\b| \b\b/ \b\b- \b\b\\ \b\b| \b\b/ \b\b- \b\b\\ \b\b| \b\b/ \b\b- \b\b\\ \b\b| \b\b/ \b\b- \b\b\\ \b\b| \b\b/ \b\b- \b\b\\ \b\b| \b\b/ \b\b- \b\b\\ \b\b| \b\b/ \b\b- \b\b\\ \b\b| \b\b/ \b\b- \b\b\\ \b\b| \b\b/ \b\b- \b\b\\ \b\b| \b\b/ \b\b- \b\b\\ \b\b| \b\b/ \b\b- \b\b\\ \b\b| \b\b/ \b\b- \b\b\\ \b\b| \b\b/ \b\b- \b\b\\ \b\b| \b\b/ \b\b- \b\b\\ \b\b| \b\b/ \b\b- \b\b\\ \b\b| \b\b/ \b\b- \b\b\\ \b\b| \b\b/ \b\b- \b\b\\ \b\b| \b\b/ \b\b- \b\b\\ \b\b| \b\b/ \b\b- \b\b\\ \b\b| \b\b/ \b\b- \b\b\\ \b\b| \b\b/ \b\b- \b\b\\ \b\b| \b\b/ \b\b- \b\b\\ \b\b| \b\b/ \b\b- \b\b\\ \b\b| \b\b/ \b\b- \b\b\\ \b\b| \b\b/ \b\b- \b\b\\ \b\b| \b\b/ \b\b- \b\b\\ \b\b| \b\b/ \b\b- \b\b\\ \b\b| \b\b/ \b\b- \b\b\\ \b\b| \b\b/ \b\b- \b\b\\ \b\b| \b\b/ \b\b- \b\b\\ \b\b| \b\b/ \b\b- \b\b\\ \b\b| \b\b/ \b\b- \b\b\\ \b\b| \b\b/ \b\b- \b\b\\ \b\b| \b\b/ \b\b- \b\b\\ \b\b| \b\b/ \b\b- \b\b\\ \b\b| \b\b/ \b\b- \b\b\\ \b\b| \b\b/ \b\b- \b\b\\ \b\b| \b\b/ \b\b- \b\b\\ \b\b| \b\b/ \b\b- \b\b\\ \b\b| \b\b/ \b\b- \b\b\\ \b\b| \b\b/ \b\b- \b\b\\ \b\b| \b\b/ \b\b- \b\b\\ \b\b| \b\b/ \b\b- \b\b\\ \b\b| \b\b/ \b\b- \b\b\\ \b\b| \b\b/ \b\b- \b\b\\ \b\b| \b\b/ \b\b- \b\b\\ \b\b| \b\b/ \b\b- \b\b\\ \b\b| \b\b/ \b\b- \b\b\\ \b\b| \b\b/ \b\b- \b\b\\ \b\b| \b\b/ \b\b- \b\b\\ \b\b| \b\b/ \b\b- \b\b\\ \b\b| \b\b/ \b\b- \b\b\\ \b\b| \b\b/ \b\b- \b\b\\ \b\b| \b\b/ \b\b- \b\b\\ \b\b| \b\b/ \b\b- \b\b\\ \b\b| \b\b/ \b\b- \b\b\\ \b\b| \b\b/ \b\b- \b\b\\ \b\b| \b\b/ \b\b- \b\b\\ \b\b| \b\b/ \b\b- \b\b\\ \b\b| \b\b/ \b\b- \b\b\\ \b\b| \b\b/ \b\b- \b\b\\ \b\b| \b\b/ \b\b- \b\b\\ \b\b| \b\b/ \b\b- \b\b\\ \b\b| \b\b/ \b\b- \b\b\\ \b\b| \b\b/ \b\b- \b\b\\ \b\b| \b\b/ \b\b- \b\b\\ \b\b| \b\b/ \b\b- \b\b\\ \b\b| \b\b/ \b\b- \b\b\\ \b\b| \b\b/ \b\b- \b\b\\ \b\b| \b\b/ \b\b- \b\b\\ \b\b| \b\b/ \b\b- \b\b\\ \b\b| \b\b/ \b\b- \b\b\\ \b\b| \b\b/ \b\b- \b\b\\ \b\b| \b\b/ \b\b- \b\b\\ \b\b| \b\b/ \b\b- \b\b\\ \b\b| \b\b/ \b\b- \b\b\\ \b\b| \b\b/ \b\b- \b\b\\ \b\b| \b\b/ \b\b- \b\b\\ \b\b| \b\b/ \b\b- \b\b\\ \b\b| \b\b/ \b\b- \b\b\\ \b\b| \b\b/ \b\b- \b\b\\ \b\b| \b\b/ \b\b- \b\b\\ \b\b| \b\b/ \b\b- \b\b\\ \b\b| \b\b/ \b\b- \b\b\\ \b\b| \b\b/ \b\b- \b\b\\ \b\b| \b\b/ \b\b- \b\b\\ \b\b| \b\b/ \b\b- \b\b\\ \b\b| \b\b/ \b\b- \b\b\\ \b\b| \b\b/ \b\b- \b\b\\ \b\b| \b\b/ \b\b- \b\b\\ \b\b| \b\b/ \b\b- \b\b\\ \b\b| \b\b/ \b\b- \b\b\\ \b\b| \b\b/ \b\b- \b\b\\ \b\b| \b\b/ \b\b- \b\b\\ \b\b| \b\b/ \b\b- \b\b\\ \b\b| \b\b/ \b\b- \b\b\\ \b\b| \b\b/ \b\b- \b\b\\ \b\b| \b\b/ \b\b- \b\b\\ \b\b| \b\b/ \b\b- \b\b\\ \b\b| \b\b/ \b\b- \b\b\\ \b\b| \b\b/ \b\b- \b\b\\ \b\b| \b\b/ \b\b- \b\b\\ \b\b| \b\b/ \b\b- \b\b\\ \b\b| \b\b/ \b\b- \b\b\\ \b\b| \b\b/ \b\b- \b\b\\ \b\b| \b\b/ \b\b- \b\b\\ \b\b| \b\b/ \b\b- \b\b\\ \b\b| \b\b/ \b\b- \b\b\\ \b\b| \b\b/ \b\b- \b\b\\ \b\b| \b\b/ \b\b- \b\b\\ \b\b| \b\b/ \b\b- \b\b\\ \b\b| \b\b/ \b\b- \b\b\\ \b\b| \b\b/ \b\b- \b\b\\ \b\b| \b\b/ \b\b- \b\b\\ \b\b| \b\b/ \b\b- \b\b\\ \b\b| \b\b/ \b\b- \b\b\\ \b\b| \b\b/ \b\b- \b\b\\ \b\b| \b\b/ \b\b- \b\b\\ \b\b| \b\b/ \b\b- \b\b\\ \b\b| \b\b/ \b\b- \b\b\\ \b\b| \b\b/ \b\b- \b\b\\ \b\b| \b\b/ \b\b- \b\b\\ \b\b| \b\b/ \b\b- \b\b\\ \b\b| \b\b/ \b\b- \b\b\\ \b\b| \b\b/ \b\b- \b\b\\ \b\b| \b\b/ \b\b- \b\b\\ \b\b| \b\b/ \b\b- \b\b\\ \b\b| \b\b/ \b\b- \b\b\\ \b\b| \b\b/ \b\b- \b\b\\ \b\b| \b\b/ \b\b- \b\b\\ \b\b| \b\b/ \b\b- \b\b\\ \b\b| \b\b/ \b\b- \b\b\\ \b\b| \b\b/ \b\b- \b\b\\ \b\b| \b\b/ \b\b- \b\b\\ \b\b| \b\b/ \b\b- \b\b\\ \b\b| \b\b/ \b\b- \b\b\\ \b\b| \b\b/ \b\b- \b\b\\ \b\b| \b\b/ \b\b- \b\b\\ \b\b| \b\b/ \b\b- \b\b\\ \b\b| \b\b/ \b\b- \b\b\\ \b\b| \b\b/ \b\b- \b\b\\ \b\b| \b\b/ \b\b- \b\b\\ \b\b| \b\b/ \b\b- \b\b\\ \b\b| \b\b/ \b\b- \b\b\\ \b\b| \b\b/ \b\b- \b\b\\ \b\b| \b\b/ \b\b- \b\b\\ \b\b| \b\b/ \b\b- \b\b\\ \b\b| \b\b/ \b\b- \b\b\\ \b\b| \b\b/ \b\b- \b\b\\ \b\b| \b\b/ \b\b- \b\b\\ \b\b| \b\b/ \b\b- \b\b\\ \b\b| \b\b/ \b\b- \b\b\\ \b\b| \b\b/ \b\b- \b\b\\ \b\b| \b\b/ \b\b- \b\b\\ \b\b| \b\b/ \b\b- \b\b\\ \b\b| \b\b/ \b\b- \b\b\\ \b\b| \b\b/ \b\b- \b\b\\ \b\b| \b\b/ \b\b- \b\b\\ \b\b| \b\b/ \b\b- \b\b\\ \b\b| \b\b/ \b\b- \b\b\\ \b\b| \b\b/ \b\b- \b\b\\ \b\b| \b\b/ \b\b- \b\b\\ \b\b| \b\b/ \b\b- \b\b\\ \b\b| \b\b/ \b\b- \b\b\\ \b\b| \b\b/ \b\b- \b\b\\ \b\b| \b\b/ \b\b- \b\b\\ \b\b| \b\b/ \b\b- \b\b\\ \b\b| \b\b/ \b\b- \b\b\\ \b\b| \b\b/ \b\b- \b\b\\ \b\b| \b\b/ \b\b- \b\b\\ \b\b| \b\b/ \b\b- \b\b\\ \b\b| \b\b/ \b\b- \b\b\\ \b\b| \b\b/ \b\b- \b\b\\ \b\b| \b\b/ \b\b- \b\b\\ \b\b| \b\b/ \b\b- \b\b\\ \b\b| \b\b/ \b\b- \b\b\\ \b\b| \b\b/ \b\b- \b\b\\ \b\b| \b\b/ \b\b- \b\b\\ \b\b| \b\b/ \b\b- \b\b\\ \b\b| \b\b/ \b\b- \b\b\\ \b\b| \b\b/ \b\b- \b\b\\ \b\b| \b\b/ \b\b- \b\b\\ \b\b| \b\b/ \b\b- \b\b\\ \b\b| \b\b/ \b\b- \b\b\\ \b\b| \b\b/ \b\b- \b\b\\ \b\b| \b\b/ \b\b- \b\b\\ \b\b| \b\b/ \b\b- \b\b\\ \b\b| \b\b/ \b\b- \b\b\\ \b\b| \b\b/ \b\b- \b\b\\ \b\b| \b\b/ \b\b- \b\b\\ \b\b| \b\b/ \b\b- \b\b\\ \b\b| \b\b/ \b\b- \b\b\\ \b\b| \b\b/ \b\b- \b\b\\ \b\b| \b\b/ \b\b- \b\b\\ \b\b| \b\b/ \b\b- \b\b\\ \b\b| \b\b/ \b\b- \b\b\\ \b\b| \b\b/ \b\b- \b\b\\ \b\b| \b\b/ \b\b- \b\b\\ \b\b| \b\b/ \b\b- \b\b\\ \b\b| \b\b/ \b\b- \b\b\\ \b\b| \b\b/ \b\b- \b\b\\ \b\b| \b\b/ \b\b- \b\b\\ \b\b| \b\b/ \b\b- \b\b\\ \b\b| \b\b/ \b\b- \b\b\\ \b\b| \b\b/ \b\b- \b\b\\ \b\b| \b\b/ \b\b- \b\b\\ \b\b| \b\b/ \b\b- \b\b\\ \b\b| \b\b/ \b\b- \b\b\\ \b\b| \b\b/ \b\b- \b\b\\ \b\b| \b\b/ \b\b- \b\b\\ \b\b| \b\b/ \b\b- \b\b\\ \b\b| \b\b/ \b\b- \b\b\\ \b\b| \b\b/ \b\b- \b\b\\ \b\b| \b\b/ \b\b- \b\b\\ \b\b| \b\b/ \b\b- \b\b\\ \b\b| \b\b/ \b\b- \b\b\\ \b\b| \b\b/ \b\b- \b\b\\ \b\b| \b\b/ \b\b- \b\b\\ \b\b| \b\b/ \b\b- \b\b\\ \b\b| \b\b/ \b\b- \b\b\\ \b\b| \b\b/ \b\b- \b\b\\ \b\b| \b\b/ \b\b- \b\b\\ \b\b| \b\b/ \b\b- \b\b\\ \b\b| \b\b/ \b\b- \b\b\\ \b\b| \b\b/ \b\b- \b\b\\ \b\b| \b\b/ \b\b- \b\b\\ \b\b| \b\b/ \b\b- \b\b\\ \b\b| \b\b/ \b\b- \b\b\\ \b\b| \b\b/ \b\b- \b\b\\ \b\b| \b\b/ \b\b- \b\b\\ \b\b| \b\b/ \b\b- \b\b\\ \b\b| \b\b/ \b\b- \b\b\\ \b\b| \b\b/ \b\b- \b\b\\ \b\b| \b\b/ \b\b- \b\b\\ \b\b| \b\b/ \b\b- \b\b\\ \b\b| \b\b/ \b\b- \b\b\\ \b\b| \b\b/ \b\b- \b\b\\ \b\b| \b\b/ \b\b- \b\b\\ \b\b| \b\b/ \b\b- \b\b\\ \b\b| \b\b/ \b\b- \b\b\\ \b\b| \b\b/ \b\b- \b\b\\ \b\b| \b\b/ \b\b- \b\b\\ \b\b| \b\b/ \b\b- \b\b\\ \b\b| \b\b/ \b\b- \b\b\\ \b\b| \b\b/ \b\b- \b\b\\ \b\b| \b\b/ \b\b- \b\b\\ \b\b| \b\b/ \b\b- \b\b\\ \b\b| \b\b/ \b\b- \b\b\\ \b\b| \b\b/ \b\b- \b\b\\ \b\b| \b\b/ \b\b- \b\b\\ \b\b| \b\b/ \b\b- \b\b\\ \b\b| \b\b/ \b\b- \b\b\\ \b\b| \b\b/ \b\b- \b\b\\ \b\b| \b\b/ \b\b- \b\b\\ \b\b| \b\b/ \b\b- \b\b\\ \b\b| \b\b/ \b\b- \b\b\\ \b\b| \b\b/ \b\b- \b\b\\ \b\b| \b\b/ \b\b- \b\b\\ \b\b| \b\b/ \b\b- \b\b\\ \b\b| \b\b/ \b\b- \b\b\\ \b\b| \b\b/ \b\b- \b\b\\ \b\b| \b\b/ \b\b- \b\b\\ \b\b| \b\b/ \b\b- \b\b\\ \b\b| \b\b/ \b\b- \b\b\\ \b\b| \b\b/ \b\b- \b\b\\ \b\b| \b\b/ \b\b- \b\b\\ \b\b| \b\b/ \b\b- \b\b\\ \b\b| \b\b/ \b\b- \b\b\\ \b\b| \b\b/ \b\b- \b\b\\ \b\b| \b\b/ \b\b- \b\b\\ \b\b| \b\b/ \b\b- \b\b\\ \b\b| \b\b/ \b\b- \b\b\\ \b\b| \b\b/ \b\b- \b\b\\ \b\b| \b\b/ \b\b- \b\b\\ \b\b| \b\b/ \b\b- \b\b\\ \b\b| \b\b/ \b\b- \b\b\\ \b\b| \b\b/ \b\b- \b\b\\ \b\b| \b\b/ \b\b- \b\b\\ \b\b| \b\b/ \b\b- \b\b\\ \b\b| \b\b/ \b\b- \b\b\\ \b\b| \b\b/ \b\b- \b\b\\ \b\b| \b\b/ \b\b- \b\b\\ \b\b| \b\b/ \b\b- \b\b\\ \b\b| \b\b/ \b\b- \b\b\\ \b\b| \b\b/ \b\b- \b\b\\ \b\b| \b\b/ \b\b- \b\b\\ \b\b| \b\b/ \b\b- \b\b\\ \b\b| \b\b/ \b\b- \b\b\\ \b\b| \b\b/ \b\b- \b\b\\ \b\b| \b\b/ \b\b- \b\b\\ \b\b| \b\b/ \b\b- \b\b\\ \b\b| \b\b/ \b\b- \b\b\\ \b\b| \b\b/ \b\b- \b\b\\ \b\b| \b\b/ \b\b- \b\b\\ \b\b| \b\b/ \b\b- \b\b\\ \b\b| \b\b/ \b\b- \b\b\\ \b\b| \b\b/ \b\b- \b\b\\ \b\b| \b\b/ \b\b- \b\b\\ \b\b| \b\b/ \b\b- \b\b\\ \b\b| \b\b/ \b\b- \b\b\\ \b\b| \b\b/ \b\b- \b\b\\ \b\b| \b\b/ \b\b- \b\b\\ \b\b| \b\b/ \b\b- \b\b\\ \b\b| \b\b/ \b\b- \b\b\\ \b\b| \b\b/ \b\b- \b\b\\ \b\b| \b\b/ \b\b- \b\b\\ \b\b| \b\b/ \b\b- \b\b\\ \b\b| \b\b/ \b\b- \b\b\\ \b\b| \b\b/ \b\b- \b\b\\ \b\b| \b\b/ \b\b- \b\b\\ \b\b| \b\b/ \b\b- \b\b\\ \b\b| \b\b/ \b\b- \b\b\\ \b\b| \b\b/ \b\b- \b\b\\ \b\b| \b\b/ \b\b- \b\b\\ \b\b| \b\b/ \b\b- \b\b\\ \b\b| \b\b/ \b\b- \b\b\\ \b\b| \b\b/ \b\b- \b\b\\ \b\b| \b\b/ \b\b- \b\b\\ \b\b| \b\b/ \b\b- \b\b\\ \b\b| \b\b/ \b\b- \b\b\\ \b\b| \b\b/ \b\b- \b\b\\ \b\b| \b\b/ \b\b- \b\b\\ \b\b| \b\b/ \b\b- \b\b\\ \b\b| \b\b/ \b\b- \b\b\\ \b\b| \b\b/ \b\b- \b\b\\ \b\b| \b\b/ \b\b- \b\b\\ \b\b| \b\b/ \b\b- \b\b\\ \b\b| \b\b/ \b\b- \b\b\\ \b\b| \b\b/ \b\b- \b\b\\ \b\b| \b\b/ \b\b- \b\b\\ \b\b| \b\b/ \b\b- \b\b\\ \b\b| \b\b/ \b\b- \b\b\\ \b\b| \b\b/ \b\b- \b\b\\ \b\b| \b\b/ \b\b- \b\b\\ \b\b| \b\b/ \b\b- \b\b\\ \b\b| \b\b/ \b\b- \b\b\\ \b\b| \b\b/ \b\b- \b\b\\ \b\b| \b\b/ \b\b- \b\b\\ \b\b| \b\b/ \b\b- \b\b\\ \b\b| \b\b/ \b\b- \b\b\\ \b\b| \b\b/ \b\b- \b\b\\ \b\b| \b\b/ \b\bfailed with repodata from current_repodata.json, will retry with next repodata source.\r\n",
      "Collecting package metadata (repodata.json): \\ \b\b| \b\b/ \b\b- \b\b\\ \b\b| \b\b/ \b\b- \b\b\\ \b\b| \b\b/ \b\b- \b\b\\ \b\b| \b\b/ \b\b- \b\b\\ \b\b| \b\b/ \b\b- \b\b\\ \b\b| \b\b/ \b\b- \b\b\\ \b\b| \b\b/ \b\b- \b\b\\ \b\b| \b\b/ \b\b- \b\b\\ \b\b| \b\b/ \b\b- \b\b\\ \b\b| \b\b/ \b\b- \b\b\\ \b\b| \b\b/ \b\b- \b\b\\ \b\b| \b\b/ \b\b- \b\b\\ \b\b| \b\b/ \b\b- \b\b\\ \b\b| \b\b/ \b\b- \b\b\\ \b\b| \b\b/ \b\b- \b\b\\ \b\b| \b\b/ \b\b- \b\b\\ \b\b| \b\b/ \b\b- \b\b\\ \b\b| \b\b/ \b\b- \b\b\\ \b\b| \b\b/ \b\b- \b\b\\ \b\b| \b\b/ \b\b- \b\b\\ \b\b| \b\b/ \b\b- \b\b\\ \b\b| \b\b/ \b\b- \b\b\\ \b\b| \b\b/ \b\b- \b\b\\ \b\b| \b\b/ \b\b- \b\b\\ \b\b| \b\b/ \b\b- \b\b\\ \b\b| \b\b/ \b\b- \b\b\\ \b\b| \b\b/ \b\b- \b\b\\ \b\b| \b\b/ \b\b- \b\b\\ \b\b| \b\b/ \b\b- \b\b\\ \b\b| \b\b/ \b\b- \b\b\\ \b\b| \b\b/ \b\b- \b\b\\ \b\b| \b\b/ \b\b- \b\b\\ \b\b| \b\b/ \b\b- \b\b\\ \b\b| \b\b/ \b\b- \b\b\\ \b\b| \b\b/ \b\b- \b\b\\ \b\b| \b\b/ \b\b- \b\b\\ \b\b| \b\b/ \b\b- \b\b\\ \b\b| \b\b/ \b\b- \b\b\\ \b\b| \b\b/ \b\b- \b\b\\ \b\b| \b\b/ \b\b- \b\b\\ \b\b| \b\b/ \b\b- \b\b\\ \b\b| \b\b/ \b\b- \b\b\\ \b\b| \b\b/ \b\b- \b\b\\ \b\b| \b\b/ \b\b- \b\b\\ \b\b| \b\b/ \b\b- \b\b\\ \b\b| \b\b/ \b\b- \b\b\\ \b\b| \b\b/ \b\b- \b\b\\ \b\b| \b\b/ \b\b- \b\b\\ \b\b| \b\b/ \b\b- \b\b\\ \b\b| \b\b/ \b\b- \b\b\\ \b\b| \b\b/ \b\b- \b\b\\ \b\b| \b\b/ \b\b- \b\b\\ \b\b| \b\b/ \b\b- \b\b\\ \b\b| \b\b/ \b\b- \b\b\\ \b\b| \b\b/ \b\b- \b\b\\ \b\b| \b\b/ \b\b- \b\b\\ \b\b| \b\b/ \b\b- \b\b\\ \b\b| \b\b/ \b\b- \b\b\\ \b\b| \b\b/ \b\b- \b\b\\ \b\b| \b\b/ \b\b- \b\b\\ \b\b| \b\b/ \b\b- \b\b\\ \b\b| \b\b/ \b\b- \b\b\\ \b\b| \b\b/ \b\b- \b\b\\ \b\b| \b\b/ \b\b- \b\b\\ \b\b| \b\b/ \b\b- \b\b\\ \b\b| \b\b/ \b\b- \b\b\\ \b\b| \b\b/ \b\b- \b\b\\ \b\b| \b\b/ \b\b- \b\b\\ \b\b| \b\b/ \b\b- \b\b\\ \b\b| \b\b/ \b\b- \b\b\\ \b\b| \b\b/ \b\b- \b\b\\ \b\b| \b\b/ \b\b- \b\b\\ \b\b| \b\b/ \b\b- \b\b\\ \b\b| \b\b/ \b\b- \b\b\\ \b\b| \b\b/ \b\b- \b\b\\ \b\b| \b\b/ \b\b- \b\b\\ \b\b| \b\b/ \b\b- \b\b\\ \b\b| \b\b/ \b\b- \b\b\\ \b\b| \b\b/ \b\b- \b\b\\ \b\b| \b\b/ \b\b- \b\b\\ \b\b| \b\b/ \b\b- \b\b\\ \b\b| \b\b/ \b\b- \b\b\\ \b\b| \b\b/ \b\b- \b\b\\ \b\b| \b\b/ \b\b- \b\b\\ \b\b| \b\b/ \b\b- \b\b\\ \b\b| \b\b/ \b\b- \b\b\\ \b\b| \b\b/ \b\b- \b\b\\ \b\b| \b\b/ \b\b- \b\b\\ \b\b| \b\b/ \b\b- \b\b\\ \b\b| \b\b/ \b\b- \b\b\\ \b\b| \b\b/ \b\b- \b\b\\ \b\b| \b\b/ \b\b- \b\b\\ \b\b| \b\b/ \b\b- \b\b\\ \b\b| \b\b/ \b\b- \b\b\\ \b\b| \b\b/ \b\b- \b\b\\ \b\b| \b\b/ \b\b- \b\b\\ \b\b| \b\b/ \b\b- \b\b\\ \b\b| \b\b/ \b\b- \b\b\\ \b\b| \b\b/ \b\b- \b\b\\ \b\b| \b\b/ \b\b- \b\b\\ \b\b| \b\b/ \b\b- \b\b\\ \b\b| \b\b/ \b\b- \b\b\\ \b\b| \b\b/ \b\b- \b\b\\ \b\b| \b\b/ \b\b- \b\b\\ \b\b| \b\b/ \b\b- \b\b\\ \b\b| \b\b/ \b\b- \b\b\\ \b\b| \b\b/ \b\b- \b\b\\ \b\b| \b\b/ \b\b- \b\b\\ \b\b| \b\b/ \b\b- \b\b\\ \b\b| \b\b/ \b\b- \b\b\\ \b\b| \b\b/ \b\b- \b\b\\ \b\b| \b\b/ \b\b- \b\b\\ \b\b| \b\b/ \b\b- \b\b\\ \b\b| \b\b/ \b\b- \b\b\\ \b\b| \b\b/ \b\b- \b\b\\ \b\b| \b\b/ \b\b- \b\b\\ \b\b| \b\b/ \b\b- \b\b\\ \b\b| \b\b/ \b\b- \b\b\\ \b\b| \b\b/ \b\b- \b\b\\ \b\b| \b\b/ \b\b- \b\b\\ \b\b| \b\b/ \b\b- \b\b\\ \b\b| \b\b/ \b\b- \b\b\\ \b\b| \b\b/ \b\b- \b\b\\ \b\b| \b\b/ \b\b- \b\b\\ \b\b| \b\b/ \b\b- \b\b\\ \b\b| \b\b/ \b\b- \b\b\\ \b\b| \b\b/ \b\b- \b\b\\ \b\b| \b\b/ \b\b- \b\b\\ \b\b| \b\b/ \b\b- \b\b\\ \b\b| \b\b/ \b\b- \b\b\\ \b\b| \b\b/ \b\b- \b\b\\ \b\b| \b\b/ \b\b- \b\b\\ \b\b| \b\b/ \b\b- \b\b\\ \b\b| \b\b/ \b\b- \b\b\\ \b\b| \b\b/ \b\b- \b\b\\ \b\b| \b\b/ \b\b- \b\b\\ \b\b| \b\b/ \b\b- \b\b\\ \b\b| \b\b/ \b\b- \b\b\\ \b\b| \b\b/ \b\b- \b\b\\ \b\b| \b\b/ \b\b- \b\b\\ \b\b| \b\b/ \b\b- \b\b\\ \b\b| \b\b/ \b\b- \b\b\\ \b\b| \b\b/ \b\b- \b\b\\ \b\b| \b\b/ \b\b- \b\b\\ \b\b| \b\b/ \b\b- \b\b\\ \b\b| \b\b/ \b\b- \b\b\\ \b\b| \b\b/ \b\b- \b\b\\ \b\b| \b\b/ \b\b- \b\b\\ \b\b| \b\b/ \b\b- \b\b\\ \b\b| \b\b/ \b\b- \b\b\\ \b\b| \b\b/ \b\b- \b\b\\ \b\b| \b\b/ \b\b- \b\b\\ \b\b| \b\b/ \b\b- \b\b\\ \b\b| \b\b/ \b\b- \b\b\\ \b\b| \b\b/ \b\b- \b\b\\ \b\b| \b\b/ \b\b- \b\b\\ \b\b| \b\b/ \b\b- \b\b\\ \b\b| \b\b/ \b\b- \b\b\\ \b\b| \b\b/ \b\b- \b\b\\ \b\b| \b\b/ \b\b- \b\b\\ \b\b| \b\b/ \b\b- \b\b\\ \b\b| \b\b/ \b\b- \b\b\\ \b\b| \b\b/ \b\b- \b\b\\ \b\b| \b\b/ \b\b- \b\b\\ \b\b| \b\b/ \b\b- \b\b\\ \b\b| \b\b/ \b\b- \b\b\\ \b\b| \b\b/ \b\b- \b\b\\ \b\b| \b\b/ \b\b- \b\b\\ \b\b| \b\b/ \b\b- \b\b\\ \b\b| \b\b/ \b\b- \b\b\\ \b\b| \b\b/ \b\b- \b\b\\ \b\b| \b\b/ \b\b- \b\b\\ \b\b| \b\b/ \b\b- \b\b\\ \b\b| \b\b/ \b\b- \b\b\\ \b\b| \b\b/ \b\b- \b\b\\ \b\b| \b\b/ \b\b- \b\b\\ \b\b| \b\b/ \b\b- \b\b\\ \b\b| \b\b/ \b\b- \b\b\\ \b\b| \b\b/ \b\b- \b\b\\ \b\b| \b\b/ \b\b- \b\b\\ \b\b| \b\b/ \b\b- \b\b\\ \b\b| \b\b/ \b\b- \b\b\\ \b\b| \b\b/ \b\b- \b\b\\ \b\b| \b\b/ \b\b- \b\b\\ \b\b| \b\b/ \b\b- \b\b\\ \b\b| \b\b/ \b\b- \b\b\\ \b\bdone\r\n",
      "Solving environment: / \b\b- \b\b\\ \b\b| \b\b/ \b\b- \b\b\\ \b\b| \b\b/ \b\b- \b\b\\ \b\b| \b\b/ \b\b- \b\b\\ \b\b| \b\b/ \b\b- \b\b\\ \b\b| \b\b/ \b\b- \b\b\\ \b\b| \b\b/ \b\b- \b\b\\ \b\b| \b\b/ \b\b- \b\b\\ \b\b| \b\b/ \b\b- \b\b\\ \b\b| \b\b/ \b\b- \b\b\\ \b\b| \b\b/ \b\b- \b\b\\ \b\b| \b\b/ \b\b- \b\b\\ \b\b| \b\b/ \b\b- \b\b\\ \b\b| \b\b/ \b\b- \b\b\\ \b\b| \b\b/ \b\b- \b\b\\ \b\b| \b\b/ \b\b- \b\b\\ \b\b| \b\b/ \b\b- \b\b\\ \b\b| \b\b/ \b\b- \b\b\\ \b\b| \b\b/ \b\b- \b\b\\ \b\b| \b\b/ \b\b- \b\b\\ \b\b| \b\b/ \b\b- \b\b\\ \b\b| \b\b/ \b\b- \b\b\\ \b\b| \b\b/ \b\b- \b\b\\ \b\b| \b\b/ \b\b- \b\b\\ \b\b| \b\b/ \b\b- \b\b\\ \b\b| \b\b/ \b\b- \b\b\\ \b\b| \b\b/ \b\b- \b\b\\ \b\b| \b\b/ \b\b- \b\b\\ \b\b| \b\b/ \b\b- \b\b\\ \b\b| \b\b/ \b\b- \b\b\\ \b\b| \b\b/ \b\b- \b\b\\ \b\b| \b\b/ \b\b- \b\b\\ \b\b| \b\b/ \b\b- \b\b\\ \b\b| \b\b/ \b\b- \b\b\\ \b\b| \b\b/ \b\b- \b\b\\ \b\b| \b\b/ \b\b- \b\b\\ \b\b| \b\b/ \b\b- \b\b\\ \b\b| \b\b/ \b\b- \b\b\\ \b\b| \b\b/ \b\b- \b\b\\ \b\b| \b\b/ \b\b- \b\b\\ \b\b| \b\b/ \b\b- \b\b\\ \b\b| \b\b/ \b\b- \b\b\\ \b\b| \b\b/ \b\b- \b\b\\ \b\b| \b\b/ \b\b- \b\b\\ \b\b| \b\b/ \b\b- \b\b\\ \b\b| \b\b/ \b\b- \b\b\\ \b\b| \b\b/ \b\b- \b\b\\ \b\b| \b\b/ \b\b- \b\b\\ \b\b| \b\b/ \b\b- \b\b\\ \b\b| \b\b/ \b\b- \b\b\\ \b\b| \b\b/ \b\b- \b\b\\ \b\b| \b\b/ \b\b- \b\b\\ \b\b| \b\b/ \b\b- \b\b\\ \b\b| \b\b/ \b\b- \b\b\\ \b\b| \b\b/ \b\b- \b\b\\ \b\b| \b\b/ \b\b- \b\b\\ \b\b| \b\b/ \b\b- \b\b\\ \b\b| \b\b/ \b\b- \b\b\\ \b\b| \b\b/ \b\b- \b\b\\ \b\b| \b\b/ \b\b- \b\b\\ \b\b| \b\b/ \b\b- \b\b\\ \b\b| \b\b/ \b\b- \b\b\\ \b\b| \b\b/ \b\b- \b\b\\ \b\b| \b\b/ \b\b- \b\b\\ \b\b| \b\b/ \b\b- \b\b\\ \b\b| \b\b/ \b\b- \b\b\\ \b\b| \b\b/ \b\b- \b\b\\ \b\b| \b\b/ \b\b- \b\b\\ \b\b| \b\b/ \b\b- \b\b\\ \b\b| \b\b/ \b\b- \b\b\\ \b\b| \b\b/ \b\b- \b\b\\ \b\b| \b\b/ \b\b- \b\b\\ \b\b| \b\b/ \b\b- \b\b\\ \b\b| \b\b/ \b\b- \b\b\\ \b\b| \b\b/ \b\b- \b\b\\ \b\b| \b\b/ \b\b- \b\b\\ \b\b| \b\b/ \b\b- \b\b\\ \b\b| \b\b/ \b\b- \b\b\\ \b\b| \b\b/ \b\b- \b\b\\ \b\b| \b\b/ \b\b- \b\b\\ \b\b| \b\b/ \b\b- \b\b\\ \b\b| \b\b/ \b\b- \b\b\\ \b\b| \b\b/ \b\b- \b\b\\ \b\b| \b\b/ \b\b- \b\b\\ \b\b| \b\b/ \b\b- \b\b\\ \b\b| \b\b/ \b\b- \b\b\\ \b\b| \b\b/ \b\b- \b\b\\ \b\b| \b\b/ \b\b- \b\b\\ \b\b| \b\b/ \b\b- \b\b\\ \b\b| \b\b/ \b\b- \b\b\\ \b\b| \b\b/ \b\b- \b\b\\ \b\b| \b\b/ \b\b- \b\b\\ \b\b| \b\b/ \b\b- \b\b\\ \b\b| \b\b/ \b\b- \b\b\\ \b\b| \b\b/ \b\b- \b\b\\ \b\b| \b\b/ \b\b- \b\b\\ \b\b| \b\b/ \b\b- \b\b\\ \b\b| \b\b/ \b\b- \b\b\\ \b\b| \b\b/ \b\b- \b\b\\ \b\b| \b\b/ \b\b- \b\b\\ \b\b| \b\b/ \b\b- \b\b\\ \b\b| \b\b/ \b\b- \b\b\\ \b\b| \b\b/ \b\b- \b\b\\ \b\b| \b\b/ \b\b- \b\b\\ \b\b| \b\b/ \b\b- \b\b\\ \b\b| \b\b/ \b\b- \b\b\\ \b\b| \b\b/ \b\b- \b\b\\ \b\b| \b\b/ \b\b- \b\b\\ \b\b| \b\b/ \b\b- \b\b\\ \b\b| \b\b/ \b\b- \b\b\\ \b\b| \b\b/ \b\b- \b\b\\ \b\b| \b\b/ \b\b- \b\b\\ \b\b| \b\b/ \b\b- \b\b\\ \b\b| \b\b/ \b\b- \b\b\\ \b\b| \b\b/ \b\b- \b\b\\ \b\b| \b\b/ \b\b- \b\b\\ \b\b| \b\b/ \b\b- \b\b\\ \b\b| \b\b/ \b\b- \b\b\\ \b\b| \b\b/ \b\b- \b\b\\ \b\b| \b\b/ \b\b- \b\b\\ \b\b| \b\b/ \b\b- \b\b\\ \b\b| \b\b/ \b\b- \b\b\\ \b\b| \b\b/ \b\b- \b\b\\ \b\b| \b\b/ \b\b- \b\b\\ \b\b| \b\b/ \b\b- \b\b\\ \b\b| \b\b/ \b\b- \b\b\\ \b\b| \b\b/ \b\b- \b\b\\ \b\b| \b\b/ \b\b- \b\b\\ \b\b| \b\b/ \b\b- \b\b\\ \b\b| \b\b/ \b\b- \b\b\\ \b\b| \b\b/ \b\b- \b\b\\ \b\b| \b\b/ \b\b- \b\b\\ \b\b| \b\b/ \b\b- \b\b\\ \b\b| \b\b/ \b\b- \b\b\\ \b\b| \b\b/ \b\b- \b\b\\ \b\b| \b\b/ \b\b- \b\b\\ \b\b| \b\b/ \b\b- \b\b\\ \b\b| \b\b/ \b\b- \b\b\\ \b\b| \b\b/ \b\b- \b\b\\ \b\b| \b\b/ \b\b- \b\b\\ \b\b| \b\b/ \b\b- \b\b\\ \b\b| \b\b/ \b\b- \b\b\\ \b\b| \b\b/ \b\b- \b\b\\ \b\b| \b\b/ \b\b- \b\b\\ \b\b| \b\b/ \b\b- \b\b\\ \b\b| \b\b/ \b\b- \b\b\\ \b\b| \b\b/ \b\b- \b\b\\ \b\b| \b\b/ \b\b- \b\b\\ \b\b| \b\b/ \b\b- \b\b\\ \b\b| \b\b/ \b\b- \b\b\\ \b\b| \b\b/ \b\b- \b\b\\ \b\b| \b\b/ \b\b- \b\b\\ \b\b| \b\b/ \b\b- \b\b\\ \b\b| \b\b/ \b\b- \b\b\\ \b\b| \b\b/ \b\b- \b\b\\ \b\b| \b\b/ \b\b- \b\b\\ \b\b| \b\b/ \b\b- \b\b\\ \b\b| \b\b/ \b\b- \b\b\\ \b\b| \b\b/ \b\b- \b\b\\ \b\b| \b\b/ \b\b- \b\b\\ \b\b| \b\b/ \b\b- \b\b\\ \b\b| \b\b/ \b\b- \b\b\\ \b\b| \b\b/ \b\b- \b\b\\ \b\b| \b\b/ \b\b- \b\b\\ \b\b| \b\b/ \b\b- \b\b\\ \b\b| \b\b/ \b\b- \b\b\\ \b\b| \b\b/ \b\b- \b\b\\ \b\b| \b\b/ \b\b- \b\b\\ \b\b| \b\b/ \b\b- \b\b\\ \b\b| \b\b/ \b\b- \b\b\\ \b\b| \b\b/ \b\b- \b\b\\ \b\b| \b\b/ \b\b- \b\b\\ \b\b| \b\b/ \b\b- \b\b\\ \b\b| \b\b/ \b\b- \b\b\\ \b\b| \b\b/ \b\b- \b\b\\ \b\b| \b\b/ \b\b- \b\b\\ \b\b| \b\b/ \b\b- \b\b\\ \b\b| \b\b/ \b\b- \b\b\\ \b\b| \b\b/ \b\b- \b\b\\ \b\b| \b\b/ \b\b- \b\b\\ \b\b| \b\b/ \b\b- \b\b\\ \b\b| \b\b/ \b\b- \b\b\\ \b\b| \b\b/ \b\b- \b\b\\ \b\b| \b\b/ \b\b- \b\b\\ \b\b| \b\b/ \b\b- \b\b\\ \b\b| \b\b/ \b\b- \b\b\\ \b\b| \b\b/ \b\b- \b\b\\ \b\b| \b\b/ \b\b- \b\b\\ \b\b| \b\b/ \b\b- \b\b\\ \b\b| \b\b/ \b\b- \b\b\\ \b\b| \b\b/ \b\b- \b\b\\ \b\b| \b\b/ \b\b- \b\b\\ \b\b| \b\b/ \b\b- \b\b\\ \b\b| \b\b/ \b\b- \b\b\\ \b\b| \b\b/ \b\b- \b\b\\ \b\b| \b\b/ \b\b- \b\b\\ \b\b| \b\b/ \b\b- \b\b\\ \b\b| \b\b/ \b\b- \b\b\\ \b\b| \b\b/ \b\b- \b\b\\ \b\b| \b\b/ \b\b- \b\b\\ \b\b| \b\b/ \b\b- \b\b\\ \b\b| \b\b/ \b\b- \b\b\\ \b\b| \b\b/ \b\b- \b\b\\ \b\b| \b\b/ \b\b- \b\b\\ \b\b| \b\b/ \b\b- \b\b\\ \b\b| \b\b/ \b\b- \b\b\\ \b\b| \b\b/ \b\b- \b\b\\ \b\b| \b\b/ \b\b- \b\b\\ \b\b| \b\b/ \b\b- \b\b\\ \b\b| \b\b/ \b\b- \b\b\\ \b\b| \b\b/ \b\b- \b\b\\ \b\b| \b\b/ \b\b- \b\b\\ \b\b| \b\b/ \b\b- \b\b\\ \b\b| \b\b/ \b\b- \b\b\\ \b\b| \b\b/ \b\b- \b\b\\ \b\b| \b\b/ \b\b- \b\b\\ \b\b| \b\b/ \b\b- \b\b\\ \b\b| \b\b/ \b\b- \b\b\\ \b\b| \b\b/ \b\b- \b\b\\ \b\b| \b\b/ \b\b- \b\b\\ \b\b| \b\b/ \b\b- \b\b\\ \b\b| \b\b/ \b\b- \b\b\\ \b\b| \b\b/ \b\b- \b\b\\ \b\b| \b\b/ \b\b- \b\b\\ \b\b| \b\b/ \b\b- \b\b\\ \b\b| \b\b/ \b\b- \b\b\\ \b\b| \b\b/ \b\b- \b\b\\ \b\b| \b\b/ \b\b- \b\b\\ \b\b| \b\b/ \b\b- \b\b\\ \b\b| \b\b/ \b\b- \b\b\\ \b\b| \b\b/ \b\b- \b\b\\ \b\b| \b\b/ \b\b- \b\b\\ \b\b| \b\b/ \b\b- \b\b\\ \b\b| \b\b/ \b\b- \b\b\\ \b\b| \b\b/ \b\b- \b\b\\ \b\b| \b\b/ \b\b- \b\b\\ \b\b| \b\b/ \b\b- \b\b\\ \b\b| \b\b/ \b\b- \b\b\\ \b\b| \b\b/ \b\b- \b\b\\ \b\b| \b\b/ \b\b- \b\b\\ \b\b| \b\b/ \b\b- \b\b\\ \b\b| \b\b/ \b\b- \b\b\\ \b\b| \b\b/ \b\b- \b\b\\ \b\b| \b\b/ \b\b- \b\b\\ \b\b| \b\b/ \b\b- \b\b\\ \b\b| \b\b/ \b\b- \b\b\\ \b\b| \b\b/ \b\b- \b\b\\ \b\b| \b\b/ \b\b- \b\b\\ \b\b| \b\b/ \b\b- \b\b\\ \b\b| \b\b/ \b\b- \b\b\\ \b\b| \b\b/ \b\b- \b\b\\ \b\b| \b\b/ \b\b- \b\b\\ \b\b| \b\b/ \b\b- \b\b\\ \b\b| \b\b/ \b\b- \b\b\\ \b\b| \b\b/ \b\b- \b\b\\ \b\b| \b\b/ \b\b- \b\b\\ \b\b| \b\b/ \b\b- \b\b\\ \b\b| \b\b/ \b\b- \b\b\\ \b\b| \b\b/ \b\b- \b\b\\ \b\b| \b\b/ \b\b- \b\b\\ \b\b| \b\b/ \b\b- \b\b\\ \b\b| \b\b/ \b\b- \b\b\\ \b\b| \b\b/ \b\b- \b\b\\ \b\b| \b\b/ \b\b- \b\b\\ \b\b| \b\b/ \b\b- \b\b\\ \b\b| \b\b/ \b\b- \b\b\\ \b\b| \b\b/ \b\b- \b\b\\ \b\b| \b\b/ \b\b- \b\b\\ \b\b| \b\b/ \b\b- \b\b\\ \b\b| \b\b/ \b\b- \b\b\\ \b\b| \b\b/ \b\b- \b\b\\ \b\b| \b\b/ \b\b- \b\b\\ \b\b| \b\b/ \b\b- \b\b\\ \b\b| \b\b/ \b\b- \b\b\\ \b\b| \b\b/ \b\b- \b\b\\ \b\b| \b\b/ \b\b- \b\b\\ \b\b| \b\b/ \b\b- \b\b\\ \b\b| \b\b/ \b\b- \b\b\\ \b\b| \b\b/ \b\b- \b\b\\ \b\b| \b\b/ \b\b- \b\b\\ \b\b| \b\b/ \b\b- \b\b\\ \b\b| \b\b/ \b\b- \b\b\\ \b\b| \b\b/ \b\b- \b\b\\ \b\b| \b\b/ \b\b- \b\b\\ \b\b| \b\b/ \b\b- \b\b\\ \b\b| \b\b/ \b\b- \b\b\\ \b\b| \b\b/ \b\b- \b\b\\ \b\b| \b\b/ \b\b- \b\b\\ \b\b| \b\b/ \b\b- \b\b\\ \b\b| \b\b/ \b\b- \b\b\\ \b\b| \b\b/ \b\b- \b\b\\ \b\b| \b\b/ \b\b- \b\b\\ \b\b| \b\b/ \b\b- \b\b\\ \b\b| \b\b/ \b\b- \b\b\\ \b\b| \b\b/ \b\b- \b\b\\ \b\b| \b\b/ \b\b- \b\b\\ \b\b| \b\b/ \b\b- \b\b\\ \b\b| \b\b/ \b\b- \b\b\\ \b\b| \b\b/ \b\b- \b\b\\ \b\b| \b\b/ \b\b- \b\b\\ \b\b| \b\b/ \b\b- \b\b\\ \b\b| \b\b/ \b\b- \b\b\\ \b\b| \b\b/ \b\b- \b\b\\ \b\b| \b\b/ \b\b- \b\b\\ \b\b| \b\b/ \b\b- \b\b\\ \b\b| \b\b/ \b\b- \b\b\\ \b\b| \b\b/ \b\b- \b\b\\ \b\b| \b\b/ \b\b- \b\b\\ \b\b| \b\b/ \b\b- \b\b\\ \b\b| \b\b/ \b\b- \b\b\\ \b\b| \b\b/ \b\b- \b\b\\ \b\b| \b\b/ \b\b- \b\b\\ \b\b| \b\b/ \b\b- \b\b\\ \b\b| \b\b/ \b\b- \b\b\\ \b\b| \b\b/ \b\b- \b\b\\ \b\b| \b\b/ \b\b- \b\b\\ \b\b| \b\b/ \b\b- \b\b\\ \b\b| \b\b/ \b\b- \b\b\\ \b\b| \b\b/ \b\b- \b\b\\ \b\b| \b\b/ \b\b- \b\b\\ \b\b| \b\b/ \b\b- \b\b\\ \b\b| \b\b/ \b\b- \b\b\\ \b\b| \b\b/ \b\b- \b\b\\ \b\b| \b\b/ \b\b- \b\b\\ \b\b| \b\b/ \b\b- \b\b\\ \b\b| \b\b/ \b\b- \b\b\\ \b\b| \b\b/ \b\b- \b\b\\ \b\b| \b\b/ \b\b- \b\b\\ \b\b| \b\b/ \b\b- \b\b\\ \b\b| \b\b/ \b\b- \b\b\\ \b\b| \b\b/ \b\b- \b\b\\ \b\b| \b\b/ \b\b- \b\b\\ \b\b| \b\b/ \b\b- \b\b\\ \b\b| \b\b/ \b\b- \b\b\\ \b\b| \b\b/ \b\b- \b\b\\ \b\b| \b\b/ \b\b- \b\b\\ \b\b| \b\b/ \b\b- \b\b\\ \b\b| \b\b/ \b\b- \b\b\\ \b\b| \b\b/ \b\b- \b\b\\ \b\b| \b\b/ \b\b- \b\b\\ \b\b| \b\b/ \b\b- \b\b\\ \b\b| \b\b/ \b\b- \b\b\\ \b\b| \b\b/ \b\b- \b\b\\ \b\b| \b\b/ \b\b- \b\b\\ \b\b| \b\b/ \b\b- \b\b\\ \b\b| \b\b/ \b\b- \b\b\\ \b\b| \b\b/ \b\b- \b\b\\ \b\b| \b\b/ \b\b- \b\b\\ \b\b| \b\b/ \b\b- \b\b\\ \b\b| \b\b/ \b\b- \b\b\\ \b\b| \b\b/ \b\b- \b\b\\ \b\b| \b\b/ \b\b- \b\b\\ \b\b| \b\b/ \b\b- \b\b\\ \b\b| \b\b/ \b\b- \b\b\\ \b\b| \b\b/ \b\b- \b\b\\ \b\b| \b\b/ \b\b- \b\b\\ \b\b| \b\b/ \b\b- \b\b\\ \b\b| \b\b/ \b\b- \b\b\\ \b\b| \b\b/ \b\b- \b\b\\ \b\b| \b\b/ \b\b- \b\b\\ \b\b| \b\b/ \b\b- \b\b\\ \b\b| \b\b/ \b\b- \b\b\\ \b\b| \b\b/ \b\b- \b\b\\ \b\b| \b\b/ \b\b- \b\b\\ \b\b| \b\b/ \b\b- \b\b\\ \b\b| \b\b/ \b\b- \b\b\\ \b\b| \b\b/ \b\b- \b\b\\ \b\b| \b\b/ \b\b- \b\b\\ \b\b| \b\b/ \b\b- \b\b\\ \b\b| \b\b/ \b\b- \b\b\\ \b\b| \b\b/ \b\b- \b\b\\ \b\b| \b\b/ \b\b- \b\b\\ \b\b| \b\b/ \b\b- \b\b\\ \b\b| \b\b/ \b\b- \b\b\\ \b\b| \b\b/ \b\b- \b\b\\ \b\b| \b\b/ \b\b- \b\b\\ \b\b| \b\b/ \b\b- \b\b\\ \b\b| \b\b/ \b\b- \b\b\\ \b\b| \b\b/ \b\b- \b\b\\ \b\b| \b\b/ \b\b- \b\b\\ \b\b| \b\b/ \b\b- \b\b\\ \b\b| \b\b/ \b\b- \b\b\\ \b\b| \b\b/ \b\b- \b\b\\ \b\b| \b\b/ \b\b- \b\b\\ \b\b| \b\b/ \b\b- \b\b\\ \b\b| \b\b/ \b\b- \b\b\\ \b\b| \b\b/ \b\b- \b\b\\ \b\b| \b\b/ \b\b- \b\b\\ \b\b| \b\b/ \b\b- \b\b\\ \b\b| \b\b/ \b\b- \b\b\\ \b\b| \b\b/ \b\b- \b\b\\ \b\b| \b\b/ \b\b- \b\b\\ \b\b| \b\b/ \b\b- \b\b\\ \b\b| \b\b/ \b\b- \b\b\\ \b\b| \b\b/ \b\b- \b\b\\ \b\b| \b\b/ \b\b- \b\b\\ \b\b| \b\b/ \b\b- \b\b\\ \b\b| \b\b/ \b\b- \b\b\\ \b\b| \b\b/ \b\b- \b\b\\ \b\b| \b\b/ \b\b- \b\b\\ \b\b| \b\b/ \b\b- \b\b\\ \b\b| \b\b/ \b\b- \b\b\\ \b\b| \b\b/ \b\b- \b\b\\ \b\b| \b\b/ \b\b- \b\b\\ \b\b| \b\b/ \b\b- \b\b\\ \b\b| \b\b/ \b\b- \b\b\\ \b\b| \b\b/ \b\b- \b\b\\ \b\b| \b\b/ \b\b- \b\b\\ \b\b| \b\b/ \b\b- \b\b\\ \b\b| \b\b/ \b\b- \b\b\\ \b\b| \b\b/ \b\b- \b\b\\ \b\b| \b\b/ \b\b- \b\b\\ \b\b| \b\b/ \b\b- \b\b\\ \b\b| \b\b/ \b\b- \b\b\\ \b\b| \b\b/ \b\b- \b\b\\ \b\b| \b\b/ \b\b- \b\b\\ \b\b| \b\b/ \b\b- \b\b\\ \b\b| \b\b/ \b\b- \b\b\\ \b\b| \b\b/ \b\b- \b\b\\ \b\b| \b\b/ \b\b- \b\b\\ \b\b| \b\b/ \b\b- \b\b\\ \b\b| \b\b/ \b\b- \b\b\\ \b\b| \b\b/ \b\b- \b\b\\ \b\b| \b\b/ \b\b- \b\b\\ \b\b| \b\b/ \b\b- \b\b\\ \b\b| \b\b/ \b\b- \b\b\\ \b\b| \b\b/ \b\b- \b\b\\ \b\b| \b\b/ \b\b- \b\b\\ \b\b| \b\b/ \b\b- \b\b\\ \b\b| \b\b/ \b\b- \b\b\\ \b\b| \b\b/ \b\b- \b\b\\ \b\b| \b\b/ \b\b- \b\b\\ \b\b| \b\b/ \b\b- \b\b\\ \b\b| \b\b/ \b\b- \b\b\\ \b\b| \b\b/ \b\b- \b\b\\ \b\b| \b\b/ \b\b- \b\b\\ \b\b| \b\b/ \b\b- \b\b\\ \b\b| \b\b/ \b\b- \b\b\\ \b\b| \b\b/ \b\b- \b\b\\ \b\b| \b\b/ \b\b- \b\b\\ \b\b| \b\b/ \b\b- \b\b\\ \b\b| \b\b/ \b\b- \b\b\\ \b\b| \b\b/ \b\b- \b\b\\ \b\b| \b\b/ \b\b- \b\b\\ \b\b| \b\b/ \b\b- \b\b\\ \b\b| \b\b/ \b\b- \b\b\\ \b\b| \b\b/ \b\b- \b\b\\ \b\b| \b\b/ \b\b- \b\b\\ \b\b| \b\b/ \b\b- \b\b\\ \b\b| \b\b/ \b\b- \b\b\\ \b\b| \b\b/ \b\b- \b\b\\ \b\b| \b\b/ \b\b- \b\b\\ \b\b| \b\b/ \b\b- \b\b\\ \b\b| \b\b/ \b\b- \b\b\\ \b\b| \b\b/ \b\b- \b\b\\ \b\b| \b\b/ \b\b- \b\b\\ \b\b| \b\b/ \b\b- \b\b\\ \b\b| \b\b/ \b\b- \b\b\\ \b\b| \b\b/ \b\b- \b\b\\ \b\b| \b\b/ \b\b- \b\b\\ \b\b| \b\b/ \b\b- \b\b\\ \b\b| \b\b/ \b\b- \b\b\\ \b\b| \b\b/ \b\b- \b\b\\ \b\b| \b\b/ \b\b- \b\b\\ \b\b| \b\b/ \b\b- \b\b\\ \b\b| \b\b/ \b\b- \b\b\\ \b\b| \b\b/ \b\b- \b\b\\ \b\b| \b\b/ \b\b- \b\b\\ \b\b| \b\b/ \b\b- \b\b\\ \b\b| \b\b/ \b\b- \b\b\\ \b\b| \b\b/ \b\b- \b\b\\ \b\b| \b\b/ \b\b- \b\b\\ \b\b| \b\b/ \b\b- \b\b\\ \b\b| \b\b/ \b\b- \b\b\\ \b\b| \b\b/ \b\b- \b\b\\ \b\b| \b\b/ \b\b- \b\b\\ \b\b| \b\b/ \b\b- \b\b\\ \b\b| \b\b/ \b\b- \b\b\\ \b\b| \b\b/ \b\b- \b\b\\ \b\b| \b\b/ \b\b- \b\b\\ \b\b| \b\b/ \b\b- \b\b\\ \b\b| \b\b/ \b\b- \b\b\\ \b\b| \b\b/ \b\b- \b\b\\ \b\b| \b\b/ \b\b- \b\b\\ \b\b| \b\b/ \b\b- \b\b\\ \b\b| \b\b/ \b\b- \b\b\\ \b\b| \b\b/ \b\b- \b\b\\ \b\b| \b\b/ \b\b- \b\b\\ \b\b| \b\b/ \b\b- \b\b\\ \b\b| \b\b/ \b\b- \b\b\\ \b\b| \b\b/ \b\b- \b\b\\ \b\b| \b\b/ \b\b- \b\b\\ \b\b| \b\b/ \b\b- \b\b\\ \b\b| \b\b/ \b\b- \b\b\\ \b\b| \b\b/ \b\b- \b\b\\ \b\b| \b\b/ \b\b- \b\b\\ \b\b| \b\b/ \b\b- \b\b\\ \b\b| \b\b/ \b\b- \b\b\\ \b\b| \b\b/ \b\b- \b\b\\ \b\b| \b\b/ \b\b- \b\b\\ \b\b| \b\b/ \b\b- \b\b\\ \b\b| \b\b/ \b\b- \b\b\\ \b\b| \b\b/ \b\b- \b\b\\ \b\b| \b\b/ \b\b- \b\b\\ \b\b| \b\b/ \b\b- \b\b\\ \b\b| \b\b/ \b\b- \b\b\\ \b\b| \b\b/ \b\b- \b\b\\ \b\b| \b\b/ \b\b- \b\b\\ \b\b| \b\b/ \b\b- \b\b\\ \b\b| \b\b/ \b\b- \b\b\\ \b\b| \b\b/ \b\b- \b\b\\ \b\b| \b\b/ \b\b- \b\b\\ \b\b| \b\b/ \b\b- \b\b\\ \b\b| \b\b/ \b\b- \b\b\\ \b\b| \b\b/ \b\b- \b\b\\ \b\b| \b\b/ \b\b- \b\b\\ \b\b| \b\b/ \b\b- \b\b\\ \b\b| \b\b/ \b\b- \b\b\\ \b\b| \b\b/ \b\b- \b\b\\ \b\b| \b\b/ \b\b- \b\b\\ \b\b| \b\b/ \b\b- \b\b\\ \b\b| \b\b/ \b\b- \b\b\\ \b\b| \b\b/ \b\b- \b\b\\ \b\b| \b\b/ \b\b- \b\b\\ \b\b| \b\b/ \b\b- \b\b\\ \b\b| \b\b/ \b\b- \b\b\\ \b\b| \b\b/ \b\b- \b\b\\ \b\b| \b\b/ \b\b- \b\b\\ \b\b| \b\b/ \b\b- \b\b\\ \b\b| \b\b/ \b\b- \b\b\\ \b\b| \b\b/ \b\b- \b\b\\ \b\b| \b\b/ \b\b- \b\b\\ \b\b| \b\b/ \b\b- \b\b\\ \b\b| \b\b/ \b\b- \b\b\\ \b\b| \b\b/ \b\b- \b\b\\ \b\b| \b\b/ \b\b- \b\b\\ \b\b| \b\b/ \b\b- \b\b\\ \b\b| \b\b/ \b\b- \b\b\\ \b\b| \b\b/ \b\b- \b\b\\ \b\b| \b\b/ \b\b- \b\b\\ \b\b| \b\b/ \b\b- \b\b\\ \b\b| \b\b/ \b\b- \b\b\\ \b\b| \b\b/ \b\b- \b\b\\ \b\b| \b\b/ \b\b- \b\b\\ \b\b| \b\b/ \b\b- \b\b\\ \b\b| \b\b/ \b\b- \b\b\\ \b\b| \b\b/ \b\b- \b\b\\ \b\b| \b\b/ \b\b- \b\b\\ \b\b| \b\b/ \b\b- \b\b\\ \b\b| \b\b/ \b\b- \b\b\\ \b\b| \b\b/ \b\b- \b\b\\ \b\b| \b\b/ \b\b- \b\b\\ \b\b| \b\b/ \b\b- \b\b\\ \b\b| \b\b/ \b\b- \b\b\\ \b\b| \b\b/ \b\b- \b\b\\ \b\b| \b\b/ \b\b- \b\b\\ \b\b| \b\b/ \b\b- \b\b\\ \b\b| \b\b/ \b\b- \b\b\\ \b\b| \b\b/ \b\b- \b\b\\ \b\b| \b\b/ \b\b- \b\b\\ \b\b| \b\b/ \b\b- \b\b\\ \b\b| \b\b/ \b\b- \b\b\\ \b\b| \b\b/ \b\b- \b\b\\ \b\b| \b\b/ \b\b- \b\b\\ \b\b| \b\b/ \b\b- \b\b\\ \b\b| \b\b/ \b\b- \b\b\\ \b\b| \b\b/ \b\b- \b\b\\ \b\b| \b\b/ \b\b- \b\b\\ \b\b| \b\b/ \b\b- \b\b\\ \b\b| \b\b/ \b\b- \b\b\\ \b\b| \b\b/ \b\b- \b\b\\ \b\b| \b\b/ \b\b- \b\b\\ \b\b| \b\b/ \b\b- \b\b\\ \b\b| \b\b/ \b\b- \b\b\\ \b\b| \b\b/ \b\b- \b\b\\ \b\b| \b\b/ \b\b- \b\b\\ \b\b| \b\b/ \b\b- \b\b\\ \b\b| \b\b/ \b\b- \b\b\\ \b\b| \b\b/ \b\b- \b\b\\ \b\b| \b\b/ \b\b- \b\b\\ \b\b| \b\b/ \b\b- \b\b\\ \b\b| \b\b/ \b\b- \b\b\\ \b\b| \b\b/ \b\b- \b\b\\ \b\b| \b\b/ \b\b- \b\b\\ \b\b| \b\b/ \b\b- \b\b\\ \b\b| \b\b/ \b\b- \b\b\\ \b\b| \b\b/ \b\b- \b\b\\ \b\b| \b\b/ \b\b- \b\b\\ \b\b| \b\b/ \b\b- \b\b\\ \b\b| \b\b/ \b\b- \b\b\\ \b\b| \b\b/ \b\b- \b\b\\ \b\b| \b\b/ \b\b- \b\b\\ \b\b| \b\b/ \b\b- \b\b\\ \b\b| \b\b/ \b\b- \b\b\\ \b\b| \b\b/ \b\b- \b\b\\ \b\b| \b\b/ \b\b- \b\b\\ \b\b| \b\b/ \b\b- \b\b\\ \b\b| \b\b/ \b\b- \b\b\\ \b\b| \b\b/ \b\b- \b\b\\ \b\b| \b\b/ \b\b- \b\b\\ \b\b| \b\b/ \b\b- \b\b\\ \b\b| \b\b/ \b\b- \b\b\\ \b\b| \b\b/ \b\b- \b\b\\ \b\b| \b\b/ \b\b- \b\b\\ \b\b| \b\b/ \b\b- \b\b\\ \b\b| \b\b/ \b\b- \b\b\\ \b\b| \b\b/ \b\b- \b\b\\ \b\b| \b\b/ \b\b- \b\b\\ \b\b| \b\b/ \b\b- \b\b\\ \b\b| \b\b/ \b\b- \b\b\\ \b\b| \b\b/ \b\b- \b\b\\ \b\b| \b\b/ \b\b- \b\b\\ \b\b| \b\b/ \b\b- \b\b\\ \b\b| \b\b/ \b\b- \b\b\\ \b\b| \b\b/ \b\b- \b\b\\ \b\b| \b\b/ \b\b- \b\b\\ \b\b| \b\b/ \b\b- \b\b\\ \b\b| \b\b/ \b\b- \b\b\\ \b\b| \b\b/ \b\b- \b\b\\ \b\b| \b\b/ \b\b- \b\b\\ \b\b| \b\b/ \b\b- \b\b\\ \b\b| \b\b/ \b\b- \b\b\\ \b\b| \b\b/ \b\b- \b\b\\ \b\b| \b\b/ \b\b- \b\b\\ \b\b| \b\b/ \b\b- \b\b\\ \b\b| \b\b/ \b\b- \b\b\\ \b\b| \b\b/ \b\b- \b\b\\ \b\b| \b\b/ \b\b- \b\b\\ \b\b| \b\b/ \b\b- \b\b\\ \b\b| \b\b/ \b\b- \b\b\\ \b\b| \b\b/ \b\b- \b\b\\ \b\b| \b\b/ \b\b- \b\b\\ \b\b| \b\b/ \b\b- \b\b\\ \b\b| \b\b/ \b\b- \b\b\\ \b\b| \b\b/ \b\b- \b\b\\ \b\b| \b\b/ \b\b- \b\b\\ \b\b| \b\b/ \b\b- \b\b\\ \b\b| \b\b/ \b\b- \b\b\\ \b\b| \b\b/ \b\b- \b\b\\ \b\b| \b\b/ \b\b- \b\b\\ \b\b| \b\b/ \b\b- \b\b\\ \b\b| \b\b/ \b\b- \b\b\\ \b\b| \b\b/ \b\b- \b\b\\ \b\b| \b\b/ \b\b- \b\b\\ \b\b| \b\b/ \b\b- \b\b\\ \b\b| \b\b/ \b\b- \b\b\\ \b\b| \b\b/ \b\b- \b\b\\ \b\b| \b\b/ \b\b- \b\b\\ \b\b| \b\b/ \b\b- \b\b\\ \b\b| \b\b/ \b\b- \b\b\\ \b\b| \b\b/ \b\b- \b\b\\ \b\b| \b\b/ \b\b- \b\b\\ \b\b| \b\b/ \b\b- \b\b\\ \b\b| \b\b/ \b\b- \b\b\\ \b\b| \b\b/ \b\b- \b\b\\ \b\b| \b\b/ \b\b- \b\b\\ \b\b| \b\b/ \b\b- \b\b\\ \b\b| \b\b/ \b\b- \b\b\\ \b\b| \b\b/ \b\b- \b\b\\ \b\b| \b\b/ \b\b- \b\b\\ \b\b| \b\b/ \b\b- \b\b\\ \b\b| \b\b/ \b\b- \b\b\\ \b\b| \b\b/ \b\b- \b\b\\ \b\b| \b\b/ \b\b- \b\b\\ \b\b| \b\b/ \b\b- \b\b\\ \b\b| \b\b/ \b\b- \b\b\\ \b\b| \b\b/ \b\b- \b\b\\ \b\b| \b\b/ \b\b- \b\b\\ \b\b| \b\b/ \b\b- \b\b\\ \b\b| \b\b/ \b\b- \b\b\\ \b\b| \b\b/ \b\b- \b\b\\ \b\b| \b\b/ \b\b- \b\b\\ \b\b| \b\b/ \b\b- \b\b\\ \b\b| \b\b/ \b\b- \b\b\\ \b\b| \b\b/ \b\b- \b\b\\ \b\b| \b\b/ \b\b- \b\b\\ \b\b| \b\b/ \b\b- \b\b\\ \b\b| \b\b/ \b\b- \b\b\\ \b\b| \b\b/ \b\b- \b\b\\ \b\b| \b\b/ \b\b- \b\b\\ \b\b| \b\b/ \b\b- \b\b\\ \b\b| \b\b/ \b\b- \b\b\\ \b\b| \b\b/ \b\b- \b\b\\ \b\b| \b\b/ \b\b- \b\b\\ \b\b| \b\b/ \b\b- \b\b\\ \b\b| \b\b/ \b\b- \b\b\\ \b\b| \b\b/ \b\b- \b\b\\ \b\b| \b\b/ \b\b- \b\b\\ \b\b| \b\b/ \b\b- \b\b\\ \b\b| \b\b/ \b\b- \b\b\\ \b\b| \b\b/ \b\b- \b\b\\ \b\b| \b\b/ \b\b- \b\b\\ \b\b| \b\b/ \b\b- \b\b\\ \b\b| \b\b/ \b\b- \b\b\\ \b\b| \b\b/ \b\b- \b\b\\ \b\b| \b\b/ \b\b- \b\b\\ \b\b| \b\b/ \b\b- \b\b\\ \b\b| \b\b/ \b\b- \b\b\\ \b\b| \b\b/ \b\b- \b\b\\ \b\b| \b\b/ \b\b- \b\b\\ \b\b| \b\b/ \b\b- \b\b\\ \b\b| \b\b/ \b\b- \b\b\\ \b\b| \b\b/ \b\b- \b\b\\ \b\b| \b\b/ \b\b- \b\b\\ \b\b| \b\b/ \b\b- \b\b\\ \b\b| \b\b/ \b\b- \b\b\\ \b\b| \b\b/ \b\b- \b\b\\ \b\b| \b\b/ \b\b- \b\b\\ \b\b| \b\b/ \b\b- \b\b\\ \b\b| \b\b/ \b\b- \b\b\\ \b\b| \b\b/ \b\b- \b\b\\ \b\b| \b\b/ \b\b- \b\b\\ \b\b| \b\b/ \b\b- \b\b\\ \b\b| \b\b/ \b\b- \b\b\\ \b\b| \b\b/ \b\b- \b\b\\ \b\b| \b\b/ \b\b- \b\b\\ \b\b| \b\b/ \b\b- \b\b\\ \b\b| \b\b/ \b\b- \b\b\\ \b\b| \b\b/ \b\b- \b\b\\ \b\b| \b\b/ \b\b- \b\b\\ \b\b| \b\b/ \b\b- \b\b\\ \b\b| \b\b/ \b\b- \b\b\\ \b\b| \b\b/ \b\b- \b\b\\ \b\b| \b\b/ \b\b- \b\b\\ \b\b| \b\b/ \b\b- \b\b\\ \b\b| \b\b/ \b\b- \b\b\\ \b\b| \b\b/ \b\b- \b\b\\ \b\b| \b\b/ \b\b- \b\b\\ \b\b| \b\b/ \b\b- \b\b\\ \b\b| \b\b/ \b\b- \b\b\\ \b\b| \b\b/ \b\b- \b\b\\ \b\b| \b\b/ \b\b- \b\b\\ \b\b| \b\b/ \b\b- \b\b\\ \b\b| \b\b/ \b\b- \b\b\\ \b\b| \b\b/ \b\b- \b\b\\ \b\b| \b\b/ \b\b- \b\b\\ \b\b| \b\b/ \b\b- \b\b\\ \b\b| \b\b/ \b\b- \b\b\\ \b\b| \b\b/ \b\b- \b\b\\ \b\b| \b\b/ \b\b- \b\b\\ \b\b| \b\b/ \b\b- \b\b\\ \b\b| \b\b/ \b\b- \b\b\\ \b\b| \b\b/ \b\b- \b\b\\ \b\b| \b\b/ \b\b- \b\b\\ \b\b| \b\b/ \b\b- \b\b\\ \b\b| \b\b/ \b\b- \b\b\\ \b\b| \b\b/ \b\b- \b\b\\ \b\b| \b\b/ \b\b- \b\b\\ \b\b| \b\b/ \b\b- \b\b\\ \b\b| \b\b/ \b\b- \b\b\\ \b\b| \b\b/ \b\b- \b\b\\ \b\b| \b\b/ \b\b- \b\b\\ \b\b| \b\b/ \b\b- \b\b\\ \b\b| \b\b/ \b\b- \b\b\\ \b\b| \b\b/ \b\b- \b\b\\ \b\b| \b\b/ \b\b- \b\b\\ \b\b| \b\b/ \b\b- \b\b\\ \b\b| \b\b/ \b\b- \b\b\\ \b\b| \b\b/ \b\b- \b\b\\ \b\b| \b\b/ \b\b- \b\b\\ \b\b| \b\b/ \b\b- \b\b\\ \b\b| \b\b/ \b\b- \b\b\\ \b\b| \b\b/ \b\b- \b\b\\ \b\b| \b\b/ \b\b- \b\b\\ \b\b| \b\b/ \b\b- \b\b\\ \b\b| \b\b/ \b\b- \b\b\\ \b\b| \b\b/ \b\b- \b\b\\ \b\b| \b\b/ \b\b- \b\b\\ \b\b| \b\b/ \b\b- \b\b\\ \b\b| \b\b/ \b\b- \b\b\\ \b\b| \b\b/ \b\b- \b\b\\ \b\b| \b\b/ \b\b- \b\b\\ \b\b| \b\b/ \b\b- \b\b\\ \b\b| \b\b/ \b\b- \b\b\\ \b\b| \b\b/ \b\b- \b\b\\ \b\b| \b\b/ \b\b- \b\b\\ \b\b| \b\b/ \b\b- \b\b\\ \b\b| \b\b/ \b\b- \b\b\\ \b\b| \b\b/ \b\b- \b\b\\ \b\b| \b\b/ \b\b- \b\b\\ \b\b| \b\b/ \b\b- \b\b\\ \b\b| \b\b/ \b\b- \b\b\\ \b\b| \b\b/ \b\b- \b\b\\ \b\b| \b\b/ \b\b- \b\b\\ \b\b| \b\b/ \b\b- \b\b\\ \b\b| \b\b/ \b\b- \b\b\\ \b\b| \b\b/ \b\b- \b\b\\ \b\b| \b\b/ \b\b- \b\b\\ \b\b| \b\b/ \b\b- \b\b\\ \b\b| \b\b/ \b\b- \b\b\\ \b\b| \b\b/ \b\b- \b\b\\ \b\b| \b\b/ \b\b- \b\b\\ \b\b| \b\b/ \b\b- \b\b\\ \b\b| \b\b/ \b\b- \b\b\\ \b\b| \b\b/ \b\b- \b\b\\ \b\b| \b\b/ \b\b- \b\b\\ \b\b| \b\b/ \b\b- \b\b\\ \b\b| \b\b/ \b\b- \b\b\\ \b\b| \b\b/ \b\b- \b\b\\ \b\b| \b\b/ \b\b- \b\b\\ \b\b| \b\b/ \b\b- \b\b\\ \b\b| \b\b/ \b\b- \b\b\\ \b\b| \b\b/ \b\b- \b\b\\ \b\b| \b\b/ \b\b- \b\b\\ \b\b| \b\b/ \b\b- \b\b\\ \b\b| \b\b/ \b\b- \b\b\\ \b\b| \b\b/ \b\b- \b\b\\ \b\b| \b\b/ \b\b- \b\b\\ \b\b| \b\b/ \b\b- \b\b\\ \b\b| \b\b/ \b\b- \b\b\\ \b\b| \b\b/ \b\b- \b\b\\ \b\b| \b\b/ \b\b- \b\b\\ \b\b| \b\b/ \b\b- \b\b\\ \b\b| \b\b/ \b\b- \b\b\\ \b\b| \b\b/ \b\b- \b\b\\ \b\b| \b\b/ \b\b- \b\b\\ \b\b| \b\b/ \b\b- \b\b\\ \b\b| \b\b/ \b\b- \b\b\\ \b\b| \b\b/ \b\b- \b\b\\ \b\b| \b\b/ \b\b- \b\b\\ \b\b| \b\b/ \b\b- \b\b\\ \b\b| \b\b/ \b\b- \b\b\\ \b\b| \b\b/ \b\b- \b\b\\ \b\b| \b\b/ \b\b- \b\b\\ \b\b| \b\b/ \b\b- \b\b\\ \b\b| \b\b/ \b\b- \b\b\\ \b\b| \b\b/ \b\b- \b\b\\ \b\b| \b\b/ \b\b- \b\b\\ \b\b| \b\b/ \b\b- \b\b\\ \b\b| \b\b/ \b\b- \b\b\\ \b\b| \b\b/ \b\b- \b\b\\ \b\b| \b\b/ \b\b- \b\b\\ \b\b| \b\b/ \b\b- \b\b\\ \b\b| \b\b/ \b\b- \b\b\\ \b\b| \b\b/ \b\b- \b\b\\ \b\b| \b\b/ \b\b- \b\b\\ \b\b| \b\b/ \b\b- \b\b\\ \b\b| \b\b/ \b\b- \b\b\\ \b\b| \b\b/ \b\b- \b\b\\ \b\b| \b\b/ \b\b- \b\b\\ \b\b| \b\b/ \b\b- \b\b\\ \b\b| \b\b/ \b\b- \b\b\\ \b\b| \b\b/ \b\b- \b\b\\ \b\b| \b\b/ \b\b- \b\b\\ \b\b| \b\b/ \b\b- \b\b\\ \b\b| \b\b/ \b\b- \b\b\\ \b\b| \b\b/ \b\b- \b\b\\ \b\b| \b\b/ \b\b- \b\b\\ \b\b| \b\b/ \b\b- \b\b\\ \b\b| \b\b/ \b\b- \b\b\\ \b\b| \b\b/ \b\b- \b\b\\ \b\b| \b\b/ \b\b- \b\b\\ \b\b| \b\b/ \b\b- \b\b\\ \b\b| \b\b/ \b\b- \b\b\\ \b\b| \b\b/ \b\b- \b\b\\ \b\b| \b\b/ \b\b- \b\b\\ \b\b| \b\b/ \b\b- \b\b\\ \b\b| \b\b/ \b\b- \b\b\\ \b\b| \b\b/ \b\b- \b\b\\ \b\b| \b\b/ \b\b- \b\b\\ \b\b| \b\b/ \b\b- \b\b\\ \b\b| \b\b/ \b\b- \b\b\\ \b\b| \b\b/ \b\b- \b\b\\ \b\b| \b\b/ \b\b- \b\b\\ \b\b| \b\b/ \b\b- \b\b\\ \b\b| \b\b/ \b\b- \b\b\\ \b\b| \b\b/ \b\b- \b\b\\ \b\b| \b\b/ \b\b- \b\b\\ \b\b| \b\b/ \b\b- \b\b\\ \b\b| \b\b/ \b\b- \b\b\\ \b\b| \b\b/ \b\b- \b\b\\ \b\b| \b\b/ \b\b- \b\b\\ \b\b| \b\b/ \b\b- \b\b\\ \b\b| \b\b/ \b\b- \b\b\\ \b\b| \b\b/ \b\b- \b\b\\ \b\b| \b\b/ \b\b- \b\b\\ \b\b| \b\b/ \b\b- \b\b\\ \b\b| \b\b/ \b\b- \b\b\\ \b\b| \b\b/ \b\b- \b\b\\ \b\b| \b\b/ \b\b- \b\b\\ \b\b| \b\b/ \b\b- \b\b\\ \b\b| \b\b/ \b\b- \b\b\\ \b\b| \b\b/ \b\b- \b\b\\ \b\b| \b\b/ \b\b- \b\b\\ \b\b| \b\b/ \b\b- \b\b\\ \b\b| \b\b/ \b\b- \b\b\\ \b\b| \b\b/ \b\b- \b\b\\ \b\b| \b\b/ \b\b- \b\b\\ \b\b| \b\b/ \b\b- \b\b\\ \b\b| \b\b/ \b\b- \b\b\\ \b\b| \b\b/ \b\b- \b\b\\ \b\b| \b\b/ \b\b- \b\b\\ \b\b| \b\b/ \b\b- \b\b\\ \b\b| \b\b/ \b\b- \b\b\\ \b\b| \b\b/ \b\b- \b\b\\ \b\b| \b\b/ \b\b- \b\b\\ \b\b| \b\b/ \b\b- \b\b\\ \b\b| \b\b/ \b\b- \b\b\\ \b\b| \b\b/ \b\b- \b\b\\ \b\b| \b\b/ \b\b- \b\b\\ \b\b| \b\b/ \b\b- \b\b\\ \b\b| \b\b/ \b\b- \b\b\\ \b\b| \b\b/ \b\b- \b\b\\ \b\b| \b\b/ \b\b- \b\b\\ \b\b| \b\b/ \b\b- \b\b\\ \b\b| \b\b/ \b\b- \b\b\\ \b\b| \b\b/ \b\b- \b\b\\ \b\b| \b\b/ \b\b- \b\b\\ \b\b| \b\b/ \b\b- \b\b\\ \b\b| \b\b/ \b\b- \b\b\\ \b\b| \b\b/ \b\b- \b\b\\ \b\b| \b\b/ \b\b- \b\b\\ \b\b| \b\b/ \b\b- \b\b\\ \b\b| \b\b/ \b\b- \b\b\\ \b\b| \b\b/ \b\b- \b\b\\ \b\b| \b\b/ \b\b- \b\b\\ \b\b| \b\b/ \b\b- \b\b\\ \b\b| \b\b/ \b\b- \b\b\\ \b\b| \b\b/ \b\b- \b\b\\ \b\b| \b\b/ \b\b- \b\b\\ \b\b| \b\b/ \b\b- \b\b\\ \b\b| \b\b/ \b\b- \b\b\\ \b\b| \b\b/ \b\b- \b\b\\ \b\b| \b\b/ \b\b- \b\b\\ \b\b| \b\b/ \b\b- \b\b\\ \b\b| \b\b/ \b\b- \b\b\\ \b\b| \b\b/ \b\b- \b\b\\ \b\b| \b\b/ \b\b- \b\b\\ \b\b| \b\b/ \b\b- \b\b\\ \b\b| \b\b/ \b\b- \b\b\\ \b\b| \b\b/ \b\b- \b\b\\ \b\b| \b\b/ \b\b- \b\b\\ \b\b| \b\b/ \b\b- \b\b\\ \b\b| \b\b/ \b\b- \b\b\\ \b\b| \b\b/ \b\b- \b\b\\ \b\b| \b\b/ \b\b- \b\b\\ \b\b| \b\b/ \b\b- \b\b\\ \b\b| \b\b/ \b\b- \b\b\\ \b\b| \b\b/ \b\b- \b\b\\ \b\b| \b\b/ \b\b- \b\b\\ \b\b| \b\b/ \b\b- \b\b\\ \b\b| \b\b/ \b\b- \b\b\\ \b\b| \b\b/ \b\b- \b\b\\ \b\b| \b\b/ \b\b- \b\b\\ \b\b| \b\b/ \b\b- \b\b\\ \b\b| \b\b/ \b\b- \b\b\\ \b\b| \b\b/ \b\b- \b\b\\ \b\b| \b\b/ \b\b- \b\b\\ \b\b| \b\b/ \b\b- \b\b\\ \b\b| \b\b/ \b\b- \b\b\\ \b\b| \b\b/ \b\b- \b\b\\ \b\b| \b\b/ \b\b- \b\b\\ \b\b| \b\b/ \b\b- \b\b\\ \b\b| \b\b/ \b\b- \b\b\\ \b\b| \b\b/ \b\b- \b\b\\ \b\b| \b\b/ \b\b- \b\b\\ \b\b| \b\b/ \b\b- \b\b\\ \b\b| \b\b/ \b\b- \b\b\\ \b\b| \b\b/ \b\b- \b\b\\ \b\b| \b\b/ \b\b- \b\b\\ \b\b| \b\b/ \b\b- \b\b\\ \b\b| \b\b/ \b\b- \b\b\\ \b\b| \b\b/ \b\b- \b\b\\ \b\b| \b\b/ \b\b- \b\b\\ \b\b| \b\b/ \b\b- \b\b\\ \b\b| \b\b/ \b\b- \b\b\\ \b\b| \b\b/ \b\b- \b\b\\ \b\b| \b\b/ \b\b- \b\b\\ \b\b| \b\b/ \b\b- \b\b\\ \b\b| \b\b/ \b\b- \b\b\\ \b\b| \b\b/ \b\b- \b\b\\ \b\b| \b\b/ \b\b- \b\b\\ \b\b| \b\b/ \b\b- \b\b\\ \b\b| \b\b/ \b\b- \b\b\\ \b\b| \b\b/ \b\b- \b\b\\ \b\b| \b\b/ \b\b- \b\b\\ \b\b| \b\b/ \b\b- \b\b\\ \b\b| \b\b/ \b\b- \b\b\\ \b\b| \b\b/ \b\b- \b\b\\ \b\b| \b\b/ \b\b- \b\b\\ \b\b| \b\b/ \b\b- \b\b\\ \b\b| \b\b/ \b\b- \b\b\\ \b\b| \b\b/ \b\b- \b\b\\ \b\b| \b\b/ \b\b- \b\b\\ \b\b| \b\b/ \b\b- \b\b\\ \b\b| \b\b/ \b\b- \b\b\\ \b\b| \b\b/ \b\b- \b\b\\ \b\b| \b\b/ \b\b- \b\b\\ \b\b| \b\b/ \b\b- \b\b\\ \b\b| \b\b/ \b\b- \b\b\\ \b\b| \b\b/ \b\b- \b\b\\ \b\b| \b\b/ \b\b- \b\b\\ \b\b| \b\b/ \b\b- \b\b\\ \b\b| \b\b/ \b\b- \b\b\\ \b\b| \b\b/ \b\b- \b\b\\ \b\b| \b\b/ \b\b- \b\b\\ \b\b| \b\b/ \b\b- \b\b\\ \b\b| \b\b/ \b\b- \b\b\\ \b\b| \b\b/ \b\b- \b\b\\ \b\b| \b\b/ \b\b- \b\b\\ \b\b| \b\b/ \b\b- \b\b\\ \b\b| \b\b/ \b\b- \b\b\\ \b\b| \b\b/ \b\b- \b\b\\ \b\b| \b\b/ \b\b- \b\b\\ \b\b| \b\b/ \b\bdone\r\n",
      "\r\n",
      "## Package Plan ##\r\n",
      "\r\n",
      "  environment location: /opt/conda\r\n",
      "\r\n",
      "  added / updated specs:\r\n",
      "    - faiss-gpu\r\n",
      "\r\n",
      "\r\n",
      "The following packages will be downloaded:\r\n",
      "\r\n",
      "    package                    |            build\r\n",
      "    ---------------------------|-----------------\r\n",
      "    click-8.0.4                |   py37h89c1867_0         145 KB  conda-forge\r\n",
      "    conda-4.14.0               |   py37h89c1867_0        1010 KB  conda-forge\r\n",
      "    faiss-1.7.0                |py37cuda110hf8a59d6_2_cuda         994 KB  conda-forge\r\n",
      "    faiss-gpu-1.7.0            |       h500d9d2_8          28 KB  rapidsai\r\n",
      "    ------------------------------------------------------------\r\n",
      "                                           Total:         2.1 MB\r\n",
      "\r\n",
      "The following NEW packages will be INSTALLED:\r\n",
      "\r\n",
      "  faiss              conda-forge/linux-64::faiss-1.7.0-py37cuda110hf8a59d6_2_cuda\r\n",
      "  faiss-gpu          rapidsai/linux-64::faiss-gpu-1.7.0-h500d9d2_8\r\n",
      "\r\n",
      "The following packages will be UPDATED:\r\n",
      "\r\n",
      "  conda                               4.13.0-py37h89c1867_1 --> 4.14.0-py37h89c1867_0\r\n",
      "\r\n",
      "The following packages will be DOWNGRADED:\r\n",
      "\r\n",
      "  click                                8.1.3-py37h89c1867_0 --> 8.0.4-py37h89c1867_0\r\n",
      "\r\n",
      "\r\n",
      "\r\n",
      "Downloading and Extracting Packages\r\n",
      "faiss-gpu-1.7.0      | 28 KB     | ##################################### | 100% \r\n",
      "faiss-1.7.0          | 994 KB    | ##################################### | 100% \r\n",
      "click-8.0.4          | 145 KB    | ##################################### | 100% \r\n",
      "conda-4.14.0         | 1010 KB   | ##################################### | 100% \r\n",
      "Preparing transaction: \\ \b\bdone\r\n",
      "Verifying transaction: / \b\b- \b\bdone\r\n",
      "Executing transaction: | \b\b/ \b\b- \b\b\\ \b\b| \b\b/ \b\b- \b\b\\ \b\b| \b\b/ \b\b- \b\b\\ \b\b| \b\b/ \b\b- \b\b\\ \b\b| \b\b/ \b\b- \b\b\\ \b\b| \b\b/ \b\b- \b\b\\ \b\b| \b\b/ \b\b- \b\bdone\r\n",
      "CPU times: user 26.7 s, sys: 4.29 s, total: 31 s\n",
      "Wall time: 23min 21s\n"
     ]
    }
   ],
   "source": [
    "%%time\n",
    "! conda install -c pytorch/label/nightly -y faiss-gpu"
   ]
  },
  {
   "cell_type": "code",
   "execution_count": 2,
   "id": "71fb5bb9",
   "metadata": {
    "execution": {
     "iopub.execute_input": "2022-08-23T03:44:26.656150Z",
     "iopub.status.busy": "2022-08-23T03:44:26.655780Z",
     "iopub.status.idle": "2022-08-23T03:44:29.712249Z",
     "shell.execute_reply": "2022-08-23T03:44:29.710873Z"
    },
    "papermill": {
     "duration": 3.607152,
     "end_time": "2022-08-23T03:44:29.714974",
     "exception": false,
     "start_time": "2022-08-23T03:44:26.107822",
     "status": "completed"
    },
    "tags": []
   },
   "outputs": [
    {
     "name": "stdout",
     "output_type": "stream",
     "text": [
      "Faiss version: 1.7.0\n",
      "GPUs: 1\n"
     ]
    }
   ],
   "source": [
    "import numpy as np \n",
    "import pandas as pd\n",
    "import os\n",
    "import time\n",
    "import pprint\n",
    "\n",
    "import plotly.express as px\n",
    "import plotly.graph_objects as go\n",
    "from plotly.subplots import make_subplots\n",
    "\n",
    "import faiss\n",
    "from faiss.contrib import datasets\n",
    "\n",
    "print(f\"Faiss version: {faiss.__version__}\")\n",
    "print(f\"GPUs: {faiss.get_num_gpus()}\")"
   ]
  },
  {
   "cell_type": "markdown",
   "id": "9293216c",
   "metadata": {
    "papermill": {
     "duration": 0.541974,
     "end_time": "2022-08-23T03:44:30.849772",
     "exception": false,
     "start_time": "2022-08-23T03:44:30.307798",
     "status": "completed"
    },
    "tags": []
   },
   "source": [
    "# Section 1: Exploring HNSW"
   ]
  },
  {
   "cell_type": "code",
   "execution_count": 3,
   "id": "f6ab248d",
   "metadata": {
    "execution": {
     "iopub.execute_input": "2022-08-23T03:44:31.999155Z",
     "iopub.status.busy": "2022-08-23T03:44:31.998778Z",
     "iopub.status.idle": "2022-08-23T03:44:32.012265Z",
     "shell.execute_reply": "2022-08-23T03:44:32.010789Z"
    },
    "papermill": {
     "duration": 0.560707,
     "end_time": "2022-08-23T03:44:32.014410",
     "exception": false,
     "start_time": "2022-08-23T03:44:31.453703",
     "status": "completed"
    },
    "tags": []
   },
   "outputs": [
    {
     "name": "stdout",
     "output_type": "stream",
     "text": [
      "Number of records added into index : 10\n",
      "Default value for efConstruction   : 40\n",
      "Default value for efSearch         : 16\n"
     ]
    }
   ],
   "source": [
    "d = 8              # Dimension (length) of vectors.\n",
    "M = 4              # Number of connections that would be made for each new vertex during HNSW construction.\n",
    "nvector = 10       # Number of database vectors.\n",
    "\n",
    "ds = datasets.SyntheticDataset(d, 0, nvector, 0)\n",
    "xb = ds.get_database()\n",
    "\n",
    "index = faiss.IndexHNSWFlat(d, M)\n",
    "index.add(xb)\n",
    "\n",
    "print(f\"Number of records added into index : {index.ntotal}\")\n",
    "print(f\"Default value for efConstruction   : {index.hnsw.efConstruction}\")\n",
    "print(f\"Default value for efSearch         : {index.hnsw.efSearch}\")"
   ]
  },
  {
   "cell_type": "code",
   "execution_count": 4,
   "id": "ffe4d75a",
   "metadata": {
    "execution": {
     "iopub.execute_input": "2022-08-23T03:44:33.155259Z",
     "iopub.status.busy": "2022-08-23T03:44:33.154653Z",
     "iopub.status.idle": "2022-08-23T03:44:33.162011Z",
     "shell.execute_reply": "2022-08-23T03:44:33.160803Z"
    },
    "papermill": {
     "duration": 0.608981,
     "end_time": "2022-08-23T03:44:33.164886",
     "exception": false,
     "start_time": "2022-08-23T03:44:32.555905",
     "status": "completed"
    },
    "tags": []
   },
   "outputs": [
    {
     "name": "stdout",
     "output_type": "stream",
     "text": [
      "Index size: 1142.000 bytes. \n",
      "\n"
     ]
    }
   ],
   "source": [
    "faiss.write_index(index, \"test.index\")       # Write index to file    \n",
    "file_size = os.path.getsize(\"test.index\")    # Get file size    \n",
    "os.remove(\"test.index\")                      # Delete saved index\n",
    "print(f\"Index size: %.3f bytes. \\n\" % file_size)"
   ]
  },
  {
   "cell_type": "code",
   "execution_count": 5,
   "id": "0c6e90da",
   "metadata": {
    "execution": {
     "iopub.execute_input": "2022-08-23T03:44:34.369318Z",
     "iopub.status.busy": "2022-08-23T03:44:34.368827Z",
     "iopub.status.idle": "2022-08-23T03:44:34.379317Z",
     "shell.execute_reply": "2022-08-23T03:44:34.377802Z"
    },
    "papermill": {
     "duration": 0.67627,
     "end_time": "2022-08-23T03:44:34.381960",
     "exception": false,
     "start_time": "2022-08-23T03:44:33.705690",
     "status": "completed"
    },
    "tags": []
   },
   "outputs": [
    {
     "name": "stdout",
     "output_type": "stream",
     "text": [
      "\n",
      "=== Vector at index 0 ========================================\n",
      "[-0.77021146  0.6766764  -0.98828435 -0.5946992   0.59806705 -0.07889447\n",
      "  0.30440184  0.8733962 ]\n",
      "\n",
      "=== Vector at index 1 ========================================\n",
      "[-0.86879206 -0.99689794 -0.95869625 -0.4085238   0.03261118 -0.16727902\n",
      " -0.46708187  0.5575034 ]\n",
      "\n",
      "=== Vector at index 2 ========================================\n",
      "[ 0.03351549 -0.9945     -0.16137859 -0.137286    0.5340788   0.00778999\n",
      "  0.99198925 -0.3297846 ]\n",
      "\n",
      "=== Vector at index 3 ========================================\n",
      "[ 0.7873657  -0.18297368  0.91163546 -0.97056043  0.220104   -0.23087963\n",
      "  0.38412806  0.8158843 ]\n",
      "\n",
      "=== Vector at index 4 ========================================\n",
      "[-0.14258705  0.5982093   0.6935446  -0.32969132 -0.5689549  -0.06604872\n",
      "  0.9895372   0.94295764]\n",
      "\n",
      "=== Vector at index 5 ========================================\n",
      "[ 0.12434206  0.8910519  -0.9787737  -0.73430943  0.1108873  -0.00713387\n",
      "  0.0364638   0.08474799]\n",
      "\n",
      "=== Vector at index 6 ========================================\n",
      "[-0.5736761   0.4103292   0.9911055   0.47089875 -0.92912364 -0.17750227\n",
      " -0.42922872  0.33162764]\n",
      "\n",
      "=== Vector at index 7 ========================================\n",
      "[-0.04735673 -0.9384091  -0.16030562 -0.08618837 -0.83368516  0.09884957\n",
      "  0.8705721   0.7892136 ]\n",
      "\n",
      "=== Vector at index 8 ========================================\n",
      "[ 0.77821916  0.94104356 -0.9964823   0.29739013  0.62030303  0.34507278\n",
      "  0.8658368   0.9786864 ]\n",
      "\n",
      "=== Vector at index 9 ========================================\n",
      "[ 0.56988734 -0.50927377 -0.82829607 -0.38108215 -0.3271086   0.08033864\n",
      "  0.87360823  0.42268318]\n"
     ]
    }
   ],
   "source": [
    "# To retrieve the original vectors.\n",
    "\n",
    "for i in range(nvector):\n",
    "    print(f\"\\n=== Vector at index {i} ========================================\")\n",
    "    print(index.reconstruct(i))"
   ]
  },
  {
   "cell_type": "code",
   "execution_count": 6,
   "id": "04c7b603",
   "metadata": {
    "execution": {
     "iopub.execute_input": "2022-08-23T03:44:35.648796Z",
     "iopub.status.busy": "2022-08-23T03:44:35.648420Z",
     "iopub.status.idle": "2022-08-23T03:44:35.653798Z",
     "shell.execute_reply": "2022-08-23T03:44:35.652808Z"
    },
    "papermill": {
     "duration": 0.555476,
     "end_time": "2022-08-23T03:44:35.656309",
     "exception": false,
     "start_time": "2022-08-23T03:44:35.100833",
     "status": "completed"
    },
    "tags": []
   },
   "outputs": [
    {
     "name": "stdout",
     "output_type": "stream",
     "text": [
      "In this example, the HNSW entry point is vertex 1\n",
      "The bottom level is : level 0\n",
      "The top level is    : level 1\n"
     ]
    }
   ],
   "source": [
    "print(f\"In this example, the HNSW entry point is vertex {index.hnsw.entry_point}\")\n",
    "print(\"The bottom level is : level 0\")\n",
    "print(\"The top level is    : level\", index.hnsw.max_level)"
   ]
  },
  {
   "cell_type": "code",
   "execution_count": 7,
   "id": "ca56b645",
   "metadata": {
    "execution": {
     "iopub.execute_input": "2022-08-23T03:44:36.799334Z",
     "iopub.status.busy": "2022-08-23T03:44:36.798828Z",
     "iopub.status.idle": "2022-08-23T03:44:36.804768Z",
     "shell.execute_reply": "2022-08-23T03:44:36.803829Z"
    },
    "papermill": {
     "duration": 0.559814,
     "end_time": "2022-08-23T03:44:36.809465",
     "exception": false,
     "start_time": "2022-08-23T03:44:36.249651",
     "status": "completed"
    },
    "tags": []
   },
   "outputs": [
    {
     "name": "stdout",
     "output_type": "stream",
     "text": [
      "The maximum layer (ℓ) assigned to each vertex:\n",
      " [2, 2, 1, 1, 1, 1, 1, 2, 1, 1]\n"
     ]
    }
   ],
   "source": [
    "levels = faiss.vector_to_array(index.hnsw.levels)  \n",
    "print(\"The maximum layer (ℓ) assigned to each vertex:\\n\", levels.tolist())"
   ]
  },
  {
   "cell_type": "code",
   "execution_count": 8,
   "id": "9c42a62b",
   "metadata": {
    "execution": {
     "iopub.execute_input": "2022-08-23T03:44:37.963225Z",
     "iopub.status.busy": "2022-08-23T03:44:37.962485Z",
     "iopub.status.idle": "2022-08-23T03:44:37.972319Z",
     "shell.execute_reply": "2022-08-23T03:44:37.971064Z"
    },
    "papermill": {
     "duration": 0.557222,
     "end_time": "2022-08-23T03:44:37.975322",
     "exception": false,
     "start_time": "2022-08-23T03:44:37.418100",
     "status": "completed"
    },
    "tags": []
   },
   "outputs": [
    {
     "name": "stdout",
     "output_type": "stream",
     "text": [
      "The maximum layer (ℓ) in which a vertex is present, and the corresponding vertex count:\n",
      "array([[1, 7],\n",
      "       [2, 3]])\n"
     ]
    }
   ],
   "source": [
    "print(\"The maximum layer (ℓ) in which a vertex is present, and the corresponding vertex count:\")\n",
    "unique, counts = np.unique(levels, return_counts=True)\n",
    "pprint.pprint(np.column_stack((unique, counts)))"
   ]
  },
  {
   "cell_type": "code",
   "execution_count": 9,
   "id": "06c719bd",
   "metadata": {
    "execution": {
     "iopub.execute_input": "2022-08-23T03:44:39.114261Z",
     "iopub.status.busy": "2022-08-23T03:44:39.113265Z",
     "iopub.status.idle": "2022-08-23T03:44:39.120397Z",
     "shell.execute_reply": "2022-08-23T03:44:39.119107Z"
    },
    "papermill": {
     "duration": 0.556957,
     "end_time": "2022-08-23T03:44:39.122812",
     "exception": false,
     "start_time": "2022-08-23T03:44:38.565855",
     "status": "completed"
    },
    "tags": []
   },
   "outputs": [
    {
     "name": "stdout",
     "output_type": "stream",
     "text": [
      "List of vertices with ℓ=1 : (array([2, 3, 4, 5, 6, 8, 9]),) \n",
      "\n",
      "List of vertices with ℓ=2 : (array([0, 1, 7]),) \n",
      "\n"
     ]
    }
   ],
   "source": [
    "for i in range(1, levels.max()+1):\n",
    "    vertices = np.where(levels == i)    \n",
    "    print(f\"List of vertices with ℓ={i} : {vertices} \\n\")  "
   ]
  },
  {
   "cell_type": "markdown",
   "id": "38384e59",
   "metadata": {
    "papermill": {
     "duration": 0.565913,
     "end_time": "2022-08-23T03:44:40.280797",
     "exception": false,
     "start_time": "2022-08-23T03:44:39.714884",
     "status": "completed"
    },
    "tags": []
   },
   "source": [
    "## Getting the link structure for a vertex"
   ]
  },
  {
   "cell_type": "code",
   "execution_count": 10,
   "id": "e7e88738",
   "metadata": {
    "execution": {
     "iopub.execute_input": "2022-08-23T03:44:41.936549Z",
     "iopub.status.busy": "2022-08-23T03:44:41.936177Z",
     "iopub.status.idle": "2022-08-23T03:44:41.945310Z",
     "shell.execute_reply": "2022-08-23T03:44:41.944098Z"
    },
    "papermill": {
     "duration": 0.860763,
     "end_time": "2022-08-23T03:44:41.947434",
     "exception": false,
     "start_time": "2022-08-23T03:44:41.086671",
     "status": "completed"
    },
    "tags": []
   },
   "outputs": [],
   "source": [
    "def vector_to_array(v): \n",
    "    \"\"\" make a vector visible as a numpy array (without copying data)\"\"\"\n",
    "    return faiss.rev_swig_ptr(v.data(), v.size())\n",
    "\n",
    "def get_hnsw_links(hnsw, vno): \n",
    "    \"\"\" get link structure for vertex vno \"\"\"\n",
    "    \n",
    "    # make arrays visible from Python\n",
    "    levels = vector_to_array(hnsw.levels)\n",
    "    cum_nneighbor_per_level = vector_to_array(hnsw.cum_nneighbor_per_level)\n",
    "    offsets = vector_to_array(hnsw.offsets)\n",
    "    neighbors = vector_to_array(hnsw.neighbors)\n",
    "    \n",
    "    # all neighbors of vno\n",
    "    neigh_vno = neighbors[offsets[vno] : offsets[vno + 1]]\n",
    "    \n",
    "    # break down per level \n",
    "    nlevel = levels[vno]\n",
    "    return [\n",
    "        neigh_vno[cum_nneighbor_per_level[l] : cum_nneighbor_per_level[l + 1]]\n",
    "        for l in range(nlevel)\n",
    "    ]                 "
   ]
  },
  {
   "cell_type": "code",
   "execution_count": 11,
   "id": "d07e37d1",
   "metadata": {
    "execution": {
     "iopub.execute_input": "2022-08-23T03:44:43.086867Z",
     "iopub.status.busy": "2022-08-23T03:44:43.086481Z",
     "iopub.status.idle": "2022-08-23T03:44:43.097161Z",
     "shell.execute_reply": "2022-08-23T03:44:43.096114Z"
    },
    "papermill": {
     "duration": 0.561152,
     "end_time": "2022-08-23T03:44:43.099716",
     "exception": false,
     "start_time": "2022-08-23T03:44:42.538564",
     "status": "completed"
    },
    "tags": []
   },
   "outputs": [
    {
     "name": "stdout",
     "output_type": "stream",
     "text": [
      "neighbors:\n"
     ]
    },
    {
     "data": {
      "text/plain": [
       "array([ 1,  7,  2,  6,  5,  8,  3,  4,  1,  7, -1, -1,  0,  7,  2,  6,  5,\n",
       "        8,  3, -1,  0,  7, -1, -1,  0,  1,  7,  6,  5,  8,  3,  9,  9,  4,\n",
       "       -1, -1, -1, -1, -1, -1,  0,  6,  7,  3, -1, -1, -1, -1,  6,  7,  2,\n",
       "        1,  0,  8,  3,  9,  2,  0,  1,  7,  5,  8,  3,  4,  1,  4,  9, -1,\n",
       "       -1, -1, -1, -1,  0,  1, -1, -1,  6,  1,  7,  2,  0,  5,  3, -1,  3,\n",
       "        5,  2,  7, -1, -1, -1, -1], dtype=int32)"
      ]
     },
     "execution_count": 11,
     "metadata": {},
     "output_type": "execute_result"
    }
   ],
   "source": [
    "# neighbors[offsets[i]:offsets[i+1]] is the list of neighbors of vector i for all levels. \n",
    "# This is where all storage goes.\n",
    "print(\"neighbors:\")\n",
    "faiss.vector_to_array(index.hnsw.neighbors)"
   ]
  },
  {
   "cell_type": "code",
   "execution_count": 12,
   "id": "00f591b1",
   "metadata": {
    "execution": {
     "iopub.execute_input": "2022-08-23T03:44:44.270474Z",
     "iopub.status.busy": "2022-08-23T03:44:44.270111Z",
     "iopub.status.idle": "2022-08-23T03:44:44.279349Z",
     "shell.execute_reply": "2022-08-23T03:44:44.278405Z"
    },
    "papermill": {
     "duration": 0.638682,
     "end_time": "2022-08-23T03:44:44.282433",
     "exception": false,
     "start_time": "2022-08-23T03:44:43.643751",
     "status": "completed"
    },
    "tags": []
   },
   "outputs": [
    {
     "name": "stdout",
     "output_type": "stream",
     "text": [
      "offsets:\n"
     ]
    },
    {
     "data": {
      "text/plain": [
       "array([ 0, 12, 24, 32, 40, 48, 56, 64, 76, 84, 92], dtype=uint64)"
      ]
     },
     "execution_count": 12,
     "metadata": {},
     "output_type": "execute_result"
    }
   ],
   "source": [
    "# offsets[i] is the offset in the neighbors array where vector i is stored.\n",
    "# Size of offsets is (ntotal + 1).\n",
    "print(\"offsets:\")\n",
    "faiss.vector_to_array(index.hnsw.offsets)"
   ]
  },
  {
   "cell_type": "code",
   "execution_count": 13,
   "id": "0b4ba37c",
   "metadata": {
    "execution": {
     "iopub.execute_input": "2022-08-23T03:44:45.618043Z",
     "iopub.status.busy": "2022-08-23T03:44:45.617463Z",
     "iopub.status.idle": "2022-08-23T03:44:45.629705Z",
     "shell.execute_reply": "2022-08-23T03:44:45.628848Z"
    },
    "papermill": {
     "duration": 0.808998,
     "end_time": "2022-08-23T03:44:45.632215",
     "exception": false,
     "start_time": "2022-08-23T03:44:44.823217",
     "status": "completed"
    },
    "tags": []
   },
   "outputs": [
    {
     "name": "stdout",
     "output_type": "stream",
     "text": [
      "cum_nneighbor_per_level:\n"
     ]
    },
    {
     "data": {
      "text/plain": [
       "array([ 0,  8, 12, 16, 20, 24, 28, 32, 36, 40, 44, 48, 52, 56, 60, 64],\n",
       "      dtype=int32)"
      ]
     },
     "execution_count": 13,
     "metadata": {},
     "output_type": "execute_result"
    }
   ],
   "source": [
    "# Number of neighbors stored per layer (cumulative), should not be changed after first add.\n",
    "print(\"cum_nneighbor_per_level:\")\n",
    "faiss.vector_to_array(index.hnsw.cum_nneighbor_per_level) "
   ]
  },
  {
   "cell_type": "code",
   "execution_count": 14,
   "id": "3f4d1b78",
   "metadata": {
    "execution": {
     "iopub.execute_input": "2022-08-23T03:44:46.811838Z",
     "iopub.status.busy": "2022-08-23T03:44:46.811457Z",
     "iopub.status.idle": "2022-08-23T03:44:46.821401Z",
     "shell.execute_reply": "2022-08-23T03:44:46.819587Z"
    },
    "papermill": {
     "duration": 0.606439,
     "end_time": "2022-08-23T03:44:46.823492",
     "exception": false,
     "start_time": "2022-08-23T03:44:46.217053",
     "status": "completed"
    },
    "tags": []
   },
   "outputs": [
    {
     "name": "stdout",
     "output_type": "stream",
     "text": [
      "\n",
      "=== Connections for vertex 0 ========================================\n",
      "[array([1, 7, 2, 6, 5, 8, 3, 4], dtype=int32),\n",
      " array([ 1,  7, -1, -1], dtype=int32)]\n",
      "\n",
      "=== Connections for vertex 1 ========================================\n",
      "[array([ 0,  7,  2,  6,  5,  8,  3, -1], dtype=int32),\n",
      " array([ 0,  7, -1, -1], dtype=int32)]\n",
      "\n",
      "=== Connections for vertex 2 ========================================\n",
      "[array([0, 1, 7, 6, 5, 8, 3, 9], dtype=int32)]\n",
      "\n",
      "=== Connections for vertex 3 ========================================\n",
      "[array([ 9,  4, -1, -1, -1, -1, -1, -1], dtype=int32)]\n",
      "\n",
      "=== Connections for vertex 4 ========================================\n",
      "[array([ 0,  6,  7,  3, -1, -1, -1, -1], dtype=int32)]\n",
      "\n",
      "=== Connections for vertex 5 ========================================\n",
      "[array([6, 7, 2, 1, 0, 8, 3, 9], dtype=int32)]\n",
      "\n",
      "=== Connections for vertex 6 ========================================\n",
      "[array([2, 0, 1, 7, 5, 8, 3, 4], dtype=int32)]\n",
      "\n",
      "=== Connections for vertex 7 ========================================\n",
      "[array([ 1,  4,  9, -1, -1, -1, -1, -1], dtype=int32),\n",
      " array([ 0,  1, -1, -1], dtype=int32)]\n",
      "\n",
      "=== Connections for vertex 8 ========================================\n",
      "[array([ 6,  1,  7,  2,  0,  5,  3, -1], dtype=int32)]\n",
      "\n",
      "=== Connections for vertex 9 ========================================\n",
      "[array([ 3,  5,  2,  7, -1, -1, -1, -1], dtype=int32)]\n"
     ]
    }
   ],
   "source": [
    "for i in range(nvector):\n",
    "    # Get connections for that vector at particular index\n",
    "    links = get_hnsw_links(index.hnsw, i)\n",
    "    print(\"\\n=== Connections for vertex\", i, \"========================================\")\n",
    "    pprint.pprint(links)"
   ]
  },
  {
   "cell_type": "code",
   "execution_count": 15,
   "id": "0a95de29",
   "metadata": {
    "execution": {
     "iopub.execute_input": "2022-08-23T03:44:47.925228Z",
     "iopub.status.busy": "2022-08-23T03:44:47.924627Z",
     "iopub.status.idle": "2022-08-23T03:44:47.929386Z",
     "shell.execute_reply": "2022-08-23T03:44:47.928442Z"
    },
    "papermill": {
     "duration": 0.561251,
     "end_time": "2022-08-23T03:44:47.931691",
     "exception": false,
     "start_time": "2022-08-23T03:44:47.370440",
     "status": "completed"
    },
    "tags": []
   },
   "outputs": [],
   "source": [
    "del index"
   ]
  },
  {
   "cell_type": "markdown",
   "id": "2e96cf0b",
   "metadata": {
    "papermill": {
     "duration": 0.537973,
     "end_time": "2022-08-23T03:44:49.060168",
     "exception": false,
     "start_time": "2022-08-23T03:44:48.522195",
     "status": "completed"
    },
    "tags": []
   },
   "source": [
    "# Section 2: Distribution of ℓ from a random dataset of 500,000 vectors\n",
    "\n",
    "- ℓ is the maximum layer in which a vertex is present.\n",
    "- It has an exponentially decaying probability distribution."
   ]
  },
  {
   "cell_type": "code",
   "execution_count": 16,
   "id": "0ad15a80",
   "metadata": {
    "execution": {
     "iopub.execute_input": "2022-08-23T03:44:50.197399Z",
     "iopub.status.busy": "2022-08-23T03:44:50.197044Z",
     "iopub.status.idle": "2022-08-23T03:44:50.824657Z",
     "shell.execute_reply": "2022-08-23T03:44:50.823678Z"
    },
    "papermill": {
     "duration": 1.176563,
     "end_time": "2022-08-23T03:44:50.827136",
     "exception": false,
     "start_time": "2022-08-23T03:44:49.650573",
     "status": "completed"
    },
    "tags": []
   },
   "outputs": [],
   "source": [
    "d = 128              # Dimension (length) of vectors.\n",
    "M = 32               # Number of connections that would be made for each new vertex during HNSW construction.\n",
    "\n",
    "efConstruction = 32  # The depth of exploration at add time (number of candidate neighbors to explore during construction).\n",
    "efSearch = 32        # The depth of exploration during vector search.\n",
    "\n",
    "np.random.seed(1234)             \n",
    "xb = np.random.random((500000, d)).astype('float32')\n",
    "\n",
    "index = faiss.IndexHNSWFlat(d, M)\n",
    "index.hnsw.efConstruction = efConstruction \n",
    "index.hnsw.efSearch = efSearch"
   ]
  },
  {
   "cell_type": "code",
   "execution_count": 17,
   "id": "600bdacf",
   "metadata": {
    "execution": {
     "iopub.execute_input": "2022-08-23T03:44:51.988506Z",
     "iopub.status.busy": "2022-08-23T03:44:51.987900Z",
     "iopub.status.idle": "2022-08-23T03:56:57.722150Z",
     "shell.execute_reply": "2022-08-23T03:56:57.721055Z"
    },
    "papermill": {
     "duration": 726.86552,
     "end_time": "2022-08-23T03:56:58.306720",
     "exception": false,
     "start_time": "2022-08-23T03:44:51.441200",
     "status": "completed"
    },
    "tags": []
   },
   "outputs": [
    {
     "name": "stdout",
     "output_type": "stream",
     "text": [
      "CPU times: user 23min 10s, sys: 1.87 s, total: 23min 12s\n",
      "Wall time: 12min 5s\n"
     ]
    }
   ],
   "source": [
    "%%time\n",
    "index.add(xb)"
   ]
  },
  {
   "cell_type": "code",
   "execution_count": 18,
   "id": "25d9ba99",
   "metadata": {
    "execution": {
     "iopub.execute_input": "2022-08-23T03:56:59.446978Z",
     "iopub.status.busy": "2022-08-23T03:56:59.446541Z",
     "iopub.status.idle": "2022-08-23T03:56:59.458297Z",
     "shell.execute_reply": "2022-08-23T03:56:59.457214Z"
    },
    "papermill": {
     "duration": 0.613834,
     "end_time": "2022-08-23T03:56:59.460480",
     "exception": false,
     "start_time": "2022-08-23T03:56:58.846646",
     "status": "completed"
    },
    "tags": []
   },
   "outputs": [
    {
     "data": {
      "text/plain": [
       "array([     0, 484359,  15162,    461,     17,      1])"
      ]
     },
     "execution_count": 18,
     "metadata": {},
     "output_type": "execute_result"
    }
   ],
   "source": [
    "levels = faiss.vector_to_array(index.hnsw.levels)\n",
    "np.bincount(levels)   # Ignore the first zero on the bincount array."
   ]
  },
  {
   "cell_type": "code",
   "execution_count": 19,
   "id": "1e802867",
   "metadata": {
    "execution": {
     "iopub.execute_input": "2022-08-23T03:57:00.597573Z",
     "iopub.status.busy": "2022-08-23T03:57:00.597209Z",
     "iopub.status.idle": "2022-08-23T03:57:00.611791Z",
     "shell.execute_reply": "2022-08-23T03:57:00.609991Z"
    },
    "papermill": {
     "duration": 0.611672,
     "end_time": "2022-08-23T03:57:00.614786",
     "exception": false,
     "start_time": "2022-08-23T03:57:00.003114",
     "status": "completed"
    },
    "tags": []
   },
   "outputs": [
    {
     "name": "stdout",
     "output_type": "stream",
     "text": [
      "The maximum layer (ℓ) in which a vertex is present, and the corresponding vertex count:\n"
     ]
    },
    {
     "data": {
      "text/plain": [
       "array([[     1, 484359],\n",
       "       [     2,  15162],\n",
       "       [     3,    461],\n",
       "       [     4,     17],\n",
       "       [     5,      1]])"
      ]
     },
     "execution_count": 19,
     "metadata": {},
     "output_type": "execute_result"
    }
   ],
   "source": [
    "print(\"The maximum layer (ℓ) in which a vertex is present, and the corresponding vertex count:\")\n",
    "unique, counts = np.unique(levels, return_counts=True)\n",
    "np.column_stack((unique, counts))"
   ]
  },
  {
   "cell_type": "code",
   "execution_count": 20,
   "id": "9bdb3366",
   "metadata": {
    "execution": {
     "iopub.execute_input": "2022-08-23T03:57:01.754922Z",
     "iopub.status.busy": "2022-08-23T03:57:01.753895Z",
     "iopub.status.idle": "2022-08-23T03:57:02.550867Z",
     "shell.execute_reply": "2022-08-23T03:57:02.549676Z"
    },
    "papermill": {
     "duration": 1.391399,
     "end_time": "2022-08-23T03:57:02.553888",
     "exception": false,
     "start_time": "2022-08-23T03:57:01.162489",
     "status": "completed"
    },
    "tags": []
   },
   "outputs": [
    {
     "data": {
      "text/html": [
       "        <script type=\"text/javascript\">\n",
       "        window.PlotlyConfig = {MathJaxConfig: 'local'};\n",
       "        if (window.MathJax && window.MathJax.Hub && window.MathJax.Hub.Config) {window.MathJax.Hub.Config({SVG: {font: \"STIX-Web\"}});}\n",
       "        if (typeof require !== 'undefined') {\n",
       "        require.undef(\"plotly\");\n",
       "        requirejs.config({\n",
       "            paths: {\n",
       "                'plotly': ['https://cdn.plot.ly/plotly-2.12.1.min']\n",
       "            }\n",
       "        });\n",
       "        require(['plotly'], function(Plotly) {\n",
       "            window._Plotly = Plotly;\n",
       "        });\n",
       "        }\n",
       "        </script>\n",
       "        "
      ]
     },
     "metadata": {},
     "output_type": "display_data"
    },
    {
     "data": {
      "text/html": [
       "<div>                            <div id=\"8ec3fa44-1b1f-49e7-b90c-7c82e9a98e54\" class=\"plotly-graph-div\" style=\"height:480px; width:500px;\"></div>            <script type=\"text/javascript\">                require([\"plotly\"], function(Plotly) {                    window.PLOTLYENV=window.PLOTLYENV || {};                                    if (document.getElementById(\"8ec3fa44-1b1f-49e7-b90c-7c82e9a98e54\")) {                    Plotly.newPlot(                        \"8ec3fa44-1b1f-49e7-b90c-7c82e9a98e54\",                        [{\"alignmentgroup\":\"True\",\"hovertemplate\":\"x=%{x}<br>y=%{y}<extra></extra>\",\"legendgroup\":\"\",\"marker\":{\"color\":\"#1F77B4\",\"pattern\":{\"shape\":\"\"}},\"name\":\"\",\"offsetgroup\":\"\",\"orientation\":\"v\",\"showlegend\":false,\"textposition\":\"outside\",\"texttemplate\":\"%{y:,d}\",\"x\":[1,2,3,4,5],\"xaxis\":\"x\",\"y\":[484359,15162,461,17,1],\"yaxis\":\"y\",\"type\":\"bar\",\"textfont\":{\"color\":\"blue\",\"size\":14},\"width\":1}],                        {\"template\":{\"data\":{\"barpolar\":[{\"marker\":{\"line\":{\"color\":\"white\",\"width\":0.5},\"pattern\":{\"fillmode\":\"overlay\",\"size\":10,\"solidity\":0.2}},\"type\":\"barpolar\"}],\"bar\":[{\"error_x\":{\"color\":\"rgb(36,36,36)\"},\"error_y\":{\"color\":\"rgb(36,36,36)\"},\"marker\":{\"line\":{\"color\":\"white\",\"width\":0.5},\"pattern\":{\"fillmode\":\"overlay\",\"size\":10,\"solidity\":0.2}},\"type\":\"bar\"}],\"carpet\":[{\"aaxis\":{\"endlinecolor\":\"rgb(36,36,36)\",\"gridcolor\":\"white\",\"linecolor\":\"white\",\"minorgridcolor\":\"white\",\"startlinecolor\":\"rgb(36,36,36)\"},\"baxis\":{\"endlinecolor\":\"rgb(36,36,36)\",\"gridcolor\":\"white\",\"linecolor\":\"white\",\"minorgridcolor\":\"white\",\"startlinecolor\":\"rgb(36,36,36)\"},\"type\":\"carpet\"}],\"choropleth\":[{\"colorbar\":{\"outlinewidth\":1,\"tickcolor\":\"rgb(36,36,36)\",\"ticks\":\"outside\"},\"type\":\"choropleth\"}],\"contourcarpet\":[{\"colorbar\":{\"outlinewidth\":1,\"tickcolor\":\"rgb(36,36,36)\",\"ticks\":\"outside\"},\"type\":\"contourcarpet\"}],\"contour\":[{\"colorbar\":{\"outlinewidth\":1,\"tickcolor\":\"rgb(36,36,36)\",\"ticks\":\"outside\"},\"colorscale\":[[0.0,\"#440154\"],[0.1111111111111111,\"#482878\"],[0.2222222222222222,\"#3e4989\"],[0.3333333333333333,\"#31688e\"],[0.4444444444444444,\"#26828e\"],[0.5555555555555556,\"#1f9e89\"],[0.6666666666666666,\"#35b779\"],[0.7777777777777778,\"#6ece58\"],[0.8888888888888888,\"#b5de2b\"],[1.0,\"#fde725\"]],\"type\":\"contour\"}],\"heatmapgl\":[{\"colorbar\":{\"outlinewidth\":1,\"tickcolor\":\"rgb(36,36,36)\",\"ticks\":\"outside\"},\"colorscale\":[[0.0,\"#440154\"],[0.1111111111111111,\"#482878\"],[0.2222222222222222,\"#3e4989\"],[0.3333333333333333,\"#31688e\"],[0.4444444444444444,\"#26828e\"],[0.5555555555555556,\"#1f9e89\"],[0.6666666666666666,\"#35b779\"],[0.7777777777777778,\"#6ece58\"],[0.8888888888888888,\"#b5de2b\"],[1.0,\"#fde725\"]],\"type\":\"heatmapgl\"}],\"heatmap\":[{\"colorbar\":{\"outlinewidth\":1,\"tickcolor\":\"rgb(36,36,36)\",\"ticks\":\"outside\"},\"colorscale\":[[0.0,\"#440154\"],[0.1111111111111111,\"#482878\"],[0.2222222222222222,\"#3e4989\"],[0.3333333333333333,\"#31688e\"],[0.4444444444444444,\"#26828e\"],[0.5555555555555556,\"#1f9e89\"],[0.6666666666666666,\"#35b779\"],[0.7777777777777778,\"#6ece58\"],[0.8888888888888888,\"#b5de2b\"],[1.0,\"#fde725\"]],\"type\":\"heatmap\"}],\"histogram2dcontour\":[{\"colorbar\":{\"outlinewidth\":1,\"tickcolor\":\"rgb(36,36,36)\",\"ticks\":\"outside\"},\"colorscale\":[[0.0,\"#440154\"],[0.1111111111111111,\"#482878\"],[0.2222222222222222,\"#3e4989\"],[0.3333333333333333,\"#31688e\"],[0.4444444444444444,\"#26828e\"],[0.5555555555555556,\"#1f9e89\"],[0.6666666666666666,\"#35b779\"],[0.7777777777777778,\"#6ece58\"],[0.8888888888888888,\"#b5de2b\"],[1.0,\"#fde725\"]],\"type\":\"histogram2dcontour\"}],\"histogram2d\":[{\"colorbar\":{\"outlinewidth\":1,\"tickcolor\":\"rgb(36,36,36)\",\"ticks\":\"outside\"},\"colorscale\":[[0.0,\"#440154\"],[0.1111111111111111,\"#482878\"],[0.2222222222222222,\"#3e4989\"],[0.3333333333333333,\"#31688e\"],[0.4444444444444444,\"#26828e\"],[0.5555555555555556,\"#1f9e89\"],[0.6666666666666666,\"#35b779\"],[0.7777777777777778,\"#6ece58\"],[0.8888888888888888,\"#b5de2b\"],[1.0,\"#fde725\"]],\"type\":\"histogram2d\"}],\"histogram\":[{\"marker\":{\"line\":{\"color\":\"white\",\"width\":0.6}},\"type\":\"histogram\"}],\"mesh3d\":[{\"colorbar\":{\"outlinewidth\":1,\"tickcolor\":\"rgb(36,36,36)\",\"ticks\":\"outside\"},\"type\":\"mesh3d\"}],\"parcoords\":[{\"line\":{\"colorbar\":{\"outlinewidth\":1,\"tickcolor\":\"rgb(36,36,36)\",\"ticks\":\"outside\"}},\"type\":\"parcoords\"}],\"pie\":[{\"automargin\":true,\"type\":\"pie\"}],\"scatter3d\":[{\"line\":{\"colorbar\":{\"outlinewidth\":1,\"tickcolor\":\"rgb(36,36,36)\",\"ticks\":\"outside\"}},\"marker\":{\"colorbar\":{\"outlinewidth\":1,\"tickcolor\":\"rgb(36,36,36)\",\"ticks\":\"outside\"}},\"type\":\"scatter3d\"}],\"scattercarpet\":[{\"marker\":{\"colorbar\":{\"outlinewidth\":1,\"tickcolor\":\"rgb(36,36,36)\",\"ticks\":\"outside\"}},\"type\":\"scattercarpet\"}],\"scattergeo\":[{\"marker\":{\"colorbar\":{\"outlinewidth\":1,\"tickcolor\":\"rgb(36,36,36)\",\"ticks\":\"outside\"}},\"type\":\"scattergeo\"}],\"scattergl\":[{\"marker\":{\"colorbar\":{\"outlinewidth\":1,\"tickcolor\":\"rgb(36,36,36)\",\"ticks\":\"outside\"}},\"type\":\"scattergl\"}],\"scattermapbox\":[{\"marker\":{\"colorbar\":{\"outlinewidth\":1,\"tickcolor\":\"rgb(36,36,36)\",\"ticks\":\"outside\"}},\"type\":\"scattermapbox\"}],\"scatterpolargl\":[{\"marker\":{\"colorbar\":{\"outlinewidth\":1,\"tickcolor\":\"rgb(36,36,36)\",\"ticks\":\"outside\"}},\"type\":\"scatterpolargl\"}],\"scatterpolar\":[{\"marker\":{\"colorbar\":{\"outlinewidth\":1,\"tickcolor\":\"rgb(36,36,36)\",\"ticks\":\"outside\"}},\"type\":\"scatterpolar\"}],\"scatter\":[{\"fillpattern\":{\"fillmode\":\"overlay\",\"size\":10,\"solidity\":0.2},\"type\":\"scatter\"}],\"scatterternary\":[{\"marker\":{\"colorbar\":{\"outlinewidth\":1,\"tickcolor\":\"rgb(36,36,36)\",\"ticks\":\"outside\"}},\"type\":\"scatterternary\"}],\"surface\":[{\"colorbar\":{\"outlinewidth\":1,\"tickcolor\":\"rgb(36,36,36)\",\"ticks\":\"outside\"},\"colorscale\":[[0.0,\"#440154\"],[0.1111111111111111,\"#482878\"],[0.2222222222222222,\"#3e4989\"],[0.3333333333333333,\"#31688e\"],[0.4444444444444444,\"#26828e\"],[0.5555555555555556,\"#1f9e89\"],[0.6666666666666666,\"#35b779\"],[0.7777777777777778,\"#6ece58\"],[0.8888888888888888,\"#b5de2b\"],[1.0,\"#fde725\"]],\"type\":\"surface\"}],\"table\":[{\"cells\":{\"fill\":{\"color\":\"rgb(237,237,237)\"},\"line\":{\"color\":\"white\"}},\"header\":{\"fill\":{\"color\":\"rgb(217,217,217)\"},\"line\":{\"color\":\"white\"}},\"type\":\"table\"}]},\"layout\":{\"annotationdefaults\":{\"arrowhead\":0,\"arrowwidth\":1},\"autotypenumbers\":\"strict\",\"coloraxis\":{\"colorbar\":{\"outlinewidth\":1,\"tickcolor\":\"rgb(36,36,36)\",\"ticks\":\"outside\"}},\"colorscale\":{\"diverging\":[[0.0,\"rgb(103,0,31)\"],[0.1,\"rgb(178,24,43)\"],[0.2,\"rgb(214,96,77)\"],[0.3,\"rgb(244,165,130)\"],[0.4,\"rgb(253,219,199)\"],[0.5,\"rgb(247,247,247)\"],[0.6,\"rgb(209,229,240)\"],[0.7,\"rgb(146,197,222)\"],[0.8,\"rgb(67,147,195)\"],[0.9,\"rgb(33,102,172)\"],[1.0,\"rgb(5,48,97)\"]],\"sequential\":[[0.0,\"#440154\"],[0.1111111111111111,\"#482878\"],[0.2222222222222222,\"#3e4989\"],[0.3333333333333333,\"#31688e\"],[0.4444444444444444,\"#26828e\"],[0.5555555555555556,\"#1f9e89\"],[0.6666666666666666,\"#35b779\"],[0.7777777777777778,\"#6ece58\"],[0.8888888888888888,\"#b5de2b\"],[1.0,\"#fde725\"]],\"sequentialminus\":[[0.0,\"#440154\"],[0.1111111111111111,\"#482878\"],[0.2222222222222222,\"#3e4989\"],[0.3333333333333333,\"#31688e\"],[0.4444444444444444,\"#26828e\"],[0.5555555555555556,\"#1f9e89\"],[0.6666666666666666,\"#35b779\"],[0.7777777777777778,\"#6ece58\"],[0.8888888888888888,\"#b5de2b\"],[1.0,\"#fde725\"]]},\"colorway\":[\"#1F77B4\",\"#FF7F0E\",\"#2CA02C\",\"#D62728\",\"#9467BD\",\"#8C564B\",\"#E377C2\",\"#7F7F7F\",\"#BCBD22\",\"#17BECF\"],\"font\":{\"color\":\"rgb(36,36,36)\"},\"geo\":{\"bgcolor\":\"white\",\"lakecolor\":\"white\",\"landcolor\":\"white\",\"showlakes\":true,\"showland\":true,\"subunitcolor\":\"white\"},\"hoverlabel\":{\"align\":\"left\"},\"hovermode\":\"closest\",\"mapbox\":{\"style\":\"light\"},\"paper_bgcolor\":\"white\",\"plot_bgcolor\":\"white\",\"polar\":{\"angularaxis\":{\"gridcolor\":\"rgb(232,232,232)\",\"linecolor\":\"rgb(36,36,36)\",\"showgrid\":false,\"showline\":true,\"ticks\":\"outside\"},\"bgcolor\":\"white\",\"radialaxis\":{\"gridcolor\":\"rgb(232,232,232)\",\"linecolor\":\"rgb(36,36,36)\",\"showgrid\":false,\"showline\":true,\"ticks\":\"outside\"}},\"scene\":{\"xaxis\":{\"backgroundcolor\":\"white\",\"gridcolor\":\"rgb(232,232,232)\",\"gridwidth\":2,\"linecolor\":\"rgb(36,36,36)\",\"showbackground\":true,\"showgrid\":false,\"showline\":true,\"ticks\":\"outside\",\"zeroline\":false,\"zerolinecolor\":\"rgb(36,36,36)\"},\"yaxis\":{\"backgroundcolor\":\"white\",\"gridcolor\":\"rgb(232,232,232)\",\"gridwidth\":2,\"linecolor\":\"rgb(36,36,36)\",\"showbackground\":true,\"showgrid\":false,\"showline\":true,\"ticks\":\"outside\",\"zeroline\":false,\"zerolinecolor\":\"rgb(36,36,36)\"},\"zaxis\":{\"backgroundcolor\":\"white\",\"gridcolor\":\"rgb(232,232,232)\",\"gridwidth\":2,\"linecolor\":\"rgb(36,36,36)\",\"showbackground\":true,\"showgrid\":false,\"showline\":true,\"ticks\":\"outside\",\"zeroline\":false,\"zerolinecolor\":\"rgb(36,36,36)\"}},\"shapedefaults\":{\"fillcolor\":\"black\",\"line\":{\"width\":0},\"opacity\":0.3},\"ternary\":{\"aaxis\":{\"gridcolor\":\"rgb(232,232,232)\",\"linecolor\":\"rgb(36,36,36)\",\"showgrid\":false,\"showline\":true,\"ticks\":\"outside\"},\"baxis\":{\"gridcolor\":\"rgb(232,232,232)\",\"linecolor\":\"rgb(36,36,36)\",\"showgrid\":false,\"showline\":true,\"ticks\":\"outside\"},\"bgcolor\":\"white\",\"caxis\":{\"gridcolor\":\"rgb(232,232,232)\",\"linecolor\":\"rgb(36,36,36)\",\"showgrid\":false,\"showline\":true,\"ticks\":\"outside\"}},\"title\":{\"x\":0.05},\"xaxis\":{\"automargin\":true,\"gridcolor\":\"rgb(232,232,232)\",\"linecolor\":\"rgb(36,36,36)\",\"showgrid\":false,\"showline\":true,\"ticks\":\"outside\",\"title\":{\"standoff\":15},\"zeroline\":false,\"zerolinecolor\":\"rgb(36,36,36)\"},\"yaxis\":{\"automargin\":true,\"gridcolor\":\"rgb(232,232,232)\",\"linecolor\":\"rgb(36,36,36)\",\"showgrid\":false,\"showline\":true,\"ticks\":\"outside\",\"title\":{\"standoff\":15},\"zeroline\":false,\"zerolinecolor\":\"rgb(36,36,36)\"}}},\"xaxis\":{\"anchor\":\"y\",\"domain\":[0.0,1.0],\"title\":{\"text\":\"\"},\"tickprefix\":\"ℓ=\",\"ticks\":\"\"},\"yaxis\":{\"anchor\":\"x\",\"domain\":[0.0,1.0],\"title\":{\"text\":\"vertex count\"},\"range\":[0,530000]},\"legend\":{\"tracegroupgap\":0},\"margin\":{\"t\":60},\"barmode\":\"relative\",\"height\":480,\"width\":500},                        {\"responsive\": true}                    ).then(function(){\n",
       "                            \n",
       "var gd = document.getElementById('8ec3fa44-1b1f-49e7-b90c-7c82e9a98e54');\n",
       "var x = new MutationObserver(function (mutations, observer) {{\n",
       "        var display = window.getComputedStyle(gd).display;\n",
       "        if (!display || display === 'none') {{\n",
       "            console.log([gd, 'removed!']);\n",
       "            Plotly.purge(gd);\n",
       "            observer.disconnect();\n",
       "        }}\n",
       "}});\n",
       "\n",
       "// Listen for the removal of the full notebook cells\n",
       "var notebookContainer = gd.closest('#notebook-container');\n",
       "if (notebookContainer) {{\n",
       "    x.observe(notebookContainer, {childList: true});\n",
       "}}\n",
       "\n",
       "// Listen for the clearing of the current output cell\n",
       "var outputEl = gd.closest('.output');\n",
       "if (outputEl) {{\n",
       "    x.observe(outputEl, {childList: true});\n",
       "}}\n",
       "\n",
       "                        })                };                });            </script>        </div>"
      ]
     },
     "metadata": {},
     "output_type": "display_data"
    }
   ],
   "source": [
    "fig = px.bar(x=unique, y=counts, height=480, width=500, text_auto=',d', template=\"simple_white\") #, text_auto=True, \n",
    "fig.update_traces(textfont_size=14, textposition=\"outside\", textfont_color=\"blue\", width=1)\n",
    "fig.update_layout(yaxis_title_text=\"vertex count\", yaxis_range=[0, 530000], xaxis_tickprefix=\"ℓ=\", xaxis_title_text=\"\") # xaxis_title_text=\"ℓ\", \n",
    "fig.update_xaxes(ticks=\"\")\n",
    "fig.show()\n",
    "fig.write_html(\"levels.html\")"
   ]
  },
  {
   "cell_type": "code",
   "execution_count": 21,
   "id": "da3f6c5b",
   "metadata": {
    "execution": {
     "iopub.execute_input": "2022-08-23T03:57:03.897300Z",
     "iopub.status.busy": "2022-08-23T03:57:03.896656Z",
     "iopub.status.idle": "2022-08-23T03:57:03.934228Z",
     "shell.execute_reply": "2022-08-23T03:57:03.931977Z"
    },
    "papermill": {
     "duration": 0.793322,
     "end_time": "2022-08-23T03:57:03.938680",
     "exception": false,
     "start_time": "2022-08-23T03:57:03.145358",
     "status": "completed"
    },
    "tags": []
   },
   "outputs": [],
   "source": [
    "del index"
   ]
  },
  {
   "cell_type": "markdown",
   "id": "df848afe",
   "metadata": {
    "papermill": {
     "duration": 0.563821,
     "end_time": "2022-08-23T03:57:05.395804",
     "exception": false,
     "start_time": "2022-08-23T03:57:04.831983",
     "status": "completed"
    },
    "tags": []
   },
   "source": [
    "# Section 3: Helper Functions"
   ]
  },
  {
   "cell_type": "code",
   "execution_count": 22,
   "id": "823281dc",
   "metadata": {
    "execution": {
     "iopub.execute_input": "2022-08-23T03:57:06.586873Z",
     "iopub.status.busy": "2022-08-23T03:57:06.586466Z",
     "iopub.status.idle": "2022-08-23T03:57:06.592606Z",
     "shell.execute_reply": "2022-08-23T03:57:06.591359Z"
    },
    "papermill": {
     "duration": 0.556426,
     "end_time": "2022-08-23T03:57:06.595440",
     "exception": false,
     "start_time": "2022-08-23T03:57:06.039014",
     "status": "completed"
    },
    "tags": []
   },
   "outputs": [],
   "source": [
    "def train_index(fac_string, index, gpu=True):       \n",
    "\n",
    "    if gpu:\n",
    "        res = faiss.StandardGpuResources()           # use a single GPU        \n",
    "        index = faiss.index_cpu_to_gpu(res, 0, index)\n",
    "\n",
    "    t0 = time.time()\n",
    "    index.train(xt)\n",
    "    train_time = time.time() - t0\n",
    "    print(fac_string, \"=> Training done in %.3f s. \\n\" % train_time)\n",
    "    return index, gpu, train_time"
   ]
  },
  {
   "cell_type": "code",
   "execution_count": 23,
   "id": "0deed488",
   "metadata": {
    "execution": {
     "iopub.execute_input": "2022-08-23T03:57:07.735562Z",
     "iopub.status.busy": "2022-08-23T03:57:07.735198Z",
     "iopub.status.idle": "2022-08-23T03:57:07.744120Z",
     "shell.execute_reply": "2022-08-23T03:57:07.743229Z"
    },
    "papermill": {
     "duration": 0.555755,
     "end_time": "2022-08-23T03:57:07.746202",
     "exception": false,
     "start_time": "2022-08-23T03:57:07.190447",
     "status": "completed"
    },
    "tags": []
   },
   "outputs": [],
   "source": [
    "def add_index(fac_string, index, efConstruction=0):\n",
    "        \n",
    "    if (\"HNSW\" in fac_string):\n",
    "        if efConstruction > 0:\n",
    "            print(f\"{fac_string} (efConstruction={efConstruction})\")\n",
    "        \n",
    "        if (\"IVF\" in fac_string):\n",
    "            if efConstruction > 0:\n",
    "                faiss.GpuParameterSpace().set_index_parameter(index, \"efConstruction\", efConstruction)                \n",
    "            else:               \n",
    "                efConstruction = 40            # Default value from faiss\n",
    "        else:\n",
    "            if efConstruction > 0:\n",
    "                index.hnsw.efConstruction = efConstruction\n",
    "            else:\n",
    "                efConstruction = index.hnsw.efConstruction\n",
    "        \n",
    "    i = 0\n",
    "    start = 0\n",
    "    end = start + batch_size\n",
    "    t0 = time.time()\n",
    "    \n",
    "    while start < ds.nb:   \n",
    "        if end > ds.nb:\n",
    "            end = ds.nb\n",
    "        index.add(xb[start:end])\n",
    "        if (i % batch_print_interval == 0):\n",
    "            print(f\"    Adding records [{start} : {end}] => ntotal: {index.ntotal}\")\n",
    "        start, end = end, end + batch_size\n",
    "        i += 1\n",
    "\n",
    "    index_time = time.time() - t0    \n",
    "    print(fac_string, \"=> Indexing done in %.3f s\" % index_time, \" (ntotal: \", index.ntotal, \") \\n\")\n",
    "    return index_time"
   ]
  },
  {
   "cell_type": "code",
   "execution_count": 24,
   "id": "7f19b4a0",
   "metadata": {
    "execution": {
     "iopub.execute_input": "2022-08-23T03:57:08.891290Z",
     "iopub.status.busy": "2022-08-23T03:57:08.890920Z",
     "iopub.status.idle": "2022-08-23T03:57:08.897232Z",
     "shell.execute_reply": "2022-08-23T03:57:08.896295Z"
    },
    "papermill": {
     "duration": 0.550602,
     "end_time": "2022-08-23T03:57:08.899275",
     "exception": false,
     "start_time": "2022-08-23T03:57:08.348673",
     "status": "completed"
    },
    "tags": []
   },
   "outputs": [],
   "source": [
    "def save_n_get_filesize(fac_string, index, gpu=True):  \n",
    "    index_name = fac_string + '.index'         # Set index name\n",
    "    if gpu: \n",
    "        index = faiss.index_gpu_to_cpu(index)  \n",
    "    faiss.write_index(index, index_name)       # Write index to file    \n",
    "    file_size = os.path.getsize(index_name)    # Get file size    \n",
    "#     os.remove(index_name)                    # Delete saved index\n",
    "    file_size = file_size * 1e-6               # Convert bytes to MB\n",
    "    print(f\"{fac_string} => Index size: %.3f MB. \\n\" % file_size)\n",
    "    return file_size "
   ]
  },
  {
   "cell_type": "code",
   "execution_count": 25,
   "id": "370c7001",
   "metadata": {
    "execution": {
     "iopub.execute_input": "2022-08-23T03:57:10.045571Z",
     "iopub.status.busy": "2022-08-23T03:57:10.045204Z",
     "iopub.status.idle": "2022-08-23T03:57:10.055854Z",
     "shell.execute_reply": "2022-08-23T03:57:10.054957Z"
    },
    "papermill": {
     "duration": 0.613371,
     "end_time": "2022-08-23T03:57:10.057710",
     "exception": false,
     "start_time": "2022-08-23T03:57:09.444339",
     "status": "completed"
    },
    "tags": []
   },
   "outputs": [],
   "source": [
    "def search_index(fac_string, index, nprobe=0, efSearch=0):\n",
    "    if \"IVF\" in fac_string:          \n",
    "        index.nprobe = nprobe                   \n",
    "                  \n",
    "    if \"HNSW\" in fac_string:\n",
    "        if \"IVF\" in fac_string:\n",
    "            if efSearch > 0:\n",
    "                faiss.GpuParameterSpace().set_index_parameter(index, \"efSearch\", efSearch)                \n",
    "            else:                \n",
    "                efSearch = 16     # Default value from faiss\n",
    "        else:\n",
    "            if efSearch > 0:\n",
    "                index.hnsw.efSearch = efSearch\n",
    "            else:\n",
    "                efSearch = index.hnsw.efSearch\n",
    "        \n",
    "    t0 = time.time()\n",
    "    D, I = index.search(xq, k)\n",
    "\n",
    "    rank = 1\n",
    "    recall_1 = (I[:, :rank] == gt[:, :1]).sum() / ds.nq\n",
    "#     print(f\"Recall@{rank} = {recall_1} (nprobe = {nprobe})\")\n",
    "    \n",
    "    rank = 3\n",
    "    recall_3 = (I[:, :rank] == gt[:, :1]).sum() / ds.nq    \n",
    "    \n",
    "    rank = 5\n",
    "    recall_5 = (I[:, :rank] == gt[:, :1]).sum() / ds.nq     \n",
    "    \n",
    "    print(f\"(nprobe={nprobe}) (efSearch={efSearch}) Recall@1={recall_1}, Recall@3={recall_3}, Recall@5={recall_5}\")\n",
    "\n",
    "    search_time = (time.time() - t0) * 1000 / ds.nq     # ms per query  \n",
    "    search_time_all = (time.time() - t0) * 1000    \n",
    "    print(fac_string, \"=> Searching done in %.3f ms.\" % search_time_all, \"\\n\")\n",
    "    \n",
    "    return search_time, recall_1, recall_3, recall_5"
   ]
  },
  {
   "cell_type": "code",
   "execution_count": 26,
   "id": "6210529b",
   "metadata": {
    "execution": {
     "iopub.execute_input": "2022-08-23T03:57:11.196478Z",
     "iopub.status.busy": "2022-08-23T03:57:11.196098Z",
     "iopub.status.idle": "2022-08-23T03:57:11.204460Z",
     "shell.execute_reply": "2022-08-23T03:57:11.203495Z"
    },
    "papermill": {
     "duration": 0.608531,
     "end_time": "2022-08-23T03:57:11.206816",
     "exception": false,
     "start_time": "2022-08-23T03:57:10.598285",
     "status": "completed"
    },
    "tags": []
   },
   "outputs": [],
   "source": [
    "def append_results(df, fac_string, nprobe, nsegment, recall_1, recall_3, recall_5, train_time, index_time, search_time, index_size):\n",
    "    \n",
    "    nprobe2 = 0 if \"IVF\" not in fac_string else nprobe\n",
    "    nsegment2 = 0 if \"PQ\" not in fac_string else nsegment\n",
    "    \n",
    "    hnsw_loc = fac_string.find('HNSW')             # Find start location of HNSW.  \n",
    "    if hnsw_loc >= 0:\n",
    "        last_loc = fac_string.rfind(',')           # Find last location of comma.\n",
    "        if last_loc < 0:\n",
    "            last_loc = fac_string.rfind('_')       # Find last location of underscore.        \n",
    "        M = fac_string[hnsw_loc+4 : last_loc]\n",
    "    else:\n",
    "        M = 0\n",
    "    \n",
    "    df = df.append({'index': fac_string,\n",
    "                    'M': M,\n",
    "                    'nprobe': nprobe2,\n",
    "                    'nsegment': nsegment2,\n",
    "                    'recall@1': recall_1,\n",
    "                    'recall@3': recall_3,\n",
    "                    'recall@5': recall_5,\n",
    "                    'train_time':train_time,\n",
    "                    'index_time': index_time,\n",
    "                    'search_time': search_time,\n",
    "                    'index_size': index_size\n",
    "                    }, ignore_index=True)  \n",
    "    \n",
    "    df.to_csv('df.csv', sep='|', index=False)\n",
    "    return df"
   ]
  },
  {
   "cell_type": "code",
   "execution_count": 27,
   "id": "3bef6feb",
   "metadata": {
    "execution": {
     "iopub.execute_input": "2022-08-23T03:57:12.296366Z",
     "iopub.status.busy": "2022-08-23T03:57:12.295638Z",
     "iopub.status.idle": "2022-08-23T03:57:12.303356Z",
     "shell.execute_reply": "2022-08-23T03:57:12.302266Z"
    },
    "papermill": {
     "duration": 0.555174,
     "end_time": "2022-08-23T03:57:12.305923",
     "exception": false,
     "start_time": "2022-08-23T03:57:11.750749",
     "status": "completed"
    },
    "tags": []
   },
   "outputs": [],
   "source": [
    "def append_results_HNSW(dfHNSW, fac_string, efConstruction, efSearch, recall_1, recall_3, recall_5, train_time, index_time, search_time, index_size):\n",
    "    \n",
    "    hnsw_loc = fac_string.find('HNSW')             # Find start location of HNSW.  \n",
    "    if hnsw_loc >= 0:\n",
    "        last_loc = fac_string.rfind(',')           # Find last location of comma.\n",
    "        if last_loc < 0:\n",
    "            last_loc = fac_string.rfind('_')       # Find last location of underscore.        \n",
    "        M = fac_string[hnsw_loc+4 : last_loc]\n",
    "    else:\n",
    "        M = 0\n",
    "    \n",
    "    dfHNSW = dfHNSW.append({'index': fac_string,\n",
    "                    'M': M,\n",
    "                    'efConstruction': efConstruction,\n",
    "                    'efSearch': efSearch,\n",
    "                    'recall@1': recall_1,\n",
    "                    'recall@3': recall_3,\n",
    "                    'recall@5': recall_5,\n",
    "                    'train_time':train_time,\n",
    "                    'index_time': index_time,\n",
    "                    'search_time': search_time,\n",
    "                    'index_size': index_size\n",
    "                    }, ignore_index=True)  \n",
    "    \n",
    "    dfHNSW.to_csv('dfHNSW.csv', sep='|', index=False)\n",
    "    return dfHNSW"
   ]
  },
  {
   "cell_type": "markdown",
   "id": "3afca87c",
   "metadata": {
    "papermill": {
     "duration": 0.777835,
     "end_time": "2022-08-23T03:57:13.680109",
     "exception": false,
     "start_time": "2022-08-23T03:57:12.902274",
     "status": "completed"
    },
    "tags": []
   },
   "source": [
    "# Section 3a: Getting Data for HNSW (for different `M`, `efConstruction`, `efSearch`)"
   ]
  },
  {
   "cell_type": "code",
   "execution_count": 28,
   "id": "4a246db0",
   "metadata": {
    "execution": {
     "iopub.execute_input": "2022-08-23T03:57:14.853850Z",
     "iopub.status.busy": "2022-08-23T03:57:14.853456Z",
     "iopub.status.idle": "2022-08-23T03:57:14.860150Z",
     "shell.execute_reply": "2022-08-23T03:57:14.858999Z"
    },
    "papermill": {
     "duration": 0.554558,
     "end_time": "2022-08-23T03:57:14.862250",
     "exception": false,
     "start_time": "2022-08-23T03:57:14.307692",
     "status": "completed"
    },
    "tags": []
   },
   "outputs": [],
   "source": [
    "dfHNSW = pd.DataFrame({'index': [],\n",
    "                   'M': [],\n",
    "                   'efConstruction': [],\n",
    "                   'efSearch': [],\n",
    "                   'recall@1': [],\n",
    "                   'recall@3': [],\n",
    "                   'recall@5': [],\n",
    "                   'train_time':[],\n",
    "                   'index_time': [],\n",
    "                   'search_time': [],\n",
    "                   'index_size': []\n",
    "})"
   ]
  },
  {
   "cell_type": "code",
   "execution_count": 29,
   "id": "860679f4",
   "metadata": {
    "execution": {
     "iopub.execute_input": "2022-08-23T03:57:15.997767Z",
     "iopub.status.busy": "2022-08-23T03:57:15.997384Z",
     "iopub.status.idle": "2022-08-23T03:57:16.002993Z",
     "shell.execute_reply": "2022-08-23T03:57:16.002025Z"
    },
    "papermill": {
     "duration": 0.601462,
     "end_time": "2022-08-23T03:57:16.005106",
     "exception": false,
     "start_time": "2022-08-23T03:57:15.403644",
     "status": "completed"
    },
    "tags": []
   },
   "outputs": [],
   "source": [
    "k = 5                        # Number of nearest neighbor records to return during search.\n",
    "d = 128                      # Dimension (length) of vectors.\n",
    "nbase = 3 * 1000000          # Number of database vectors.\n",
    "nquery = 1000                # Number of query vectors.\n",
    "batch_size = 32768           # Batch size used to add index.\n",
    "batch_print_interval = 25    # When adding records to index, print status only after every x batches.  "
   ]
  },
  {
   "cell_type": "code",
   "execution_count": 30,
   "id": "9c688f05",
   "metadata": {
    "execution": {
     "iopub.execute_input": "2022-08-23T03:57:17.156907Z",
     "iopub.status.busy": "2022-08-23T03:57:17.156528Z",
     "iopub.status.idle": "2022-08-23T06:26:15.056853Z",
     "shell.execute_reply": "2022-08-23T06:26:15.055629Z"
    },
    "papermill": {
     "duration": 8938.505317,
     "end_time": "2022-08-23T06:26:15.059035",
     "exception": false,
     "start_time": "2022-08-23T03:57:16.553718",
     "status": "completed"
    },
    "tags": []
   },
   "outputs": [
    {
     "name": "stdout",
     "output_type": "stream",
     "text": [
      "HNSW4,Flat (efConstruction=4)\n",
      "    Adding records [0 : 32768] => ntotal: 32768\n",
      "    Adding records [819200 : 851968] => ntotal: 851968\n",
      "    Adding records [1638400 : 1671168] => ntotal: 1671168\n",
      "    Adding records [2457600 : 2490368] => ntotal: 2490368\n",
      "HNSW4,Flat => Indexing done in 47.446 s  (ntotal:  3000000 ) \n",
      "\n",
      "HNSW4,Flat => Index size: 1684.009 MB. \n",
      "\n",
      "(nprobe=0) (efSearch=4) Recall@1=0.02, Recall@3=0.02, Recall@5=0.02\n",
      "HNSW4,Flat => Searching done in 51.483 ms. \n",
      "\n",
      "(nprobe=0) (efSearch=16) Recall@1=0.034, Recall@3=0.034, Recall@5=0.034\n",
      "HNSW4,Flat => Searching done in 88.002 ms. \n",
      "\n",
      "(nprobe=0) (efSearch=40) Recall@1=0.042, Recall@3=0.042, Recall@5=0.042\n",
      "HNSW4,Flat => Searching done in 140.014 ms. \n",
      "\n",
      "(nprobe=0) (efSearch=76) Recall@1=0.049, Recall@3=0.049, Recall@5=0.049\n",
      "HNSW4,Flat => Searching done in 110.791 ms. \n",
      "\n",
      "HNSW4,Flat (efConstruction=4) => Total processing time: 0.8 min.\n",
      "===================================================================\n",
      "\n",
      "HNSW4,Flat (efConstruction=16)\n",
      "    Adding records [0 : 32768] => ntotal: 32768\n",
      "    Adding records [819200 : 851968] => ntotal: 851968\n",
      "    Adding records [1638400 : 1671168] => ntotal: 1671168\n",
      "    Adding records [2457600 : 2490368] => ntotal: 2490368\n",
      "HNSW4,Flat => Indexing done in 157.090 s  (ntotal:  3000000 ) \n",
      "\n",
      "HNSW4,Flat => Index size: 1684.009 MB. \n",
      "\n",
      "(nprobe=0) (efSearch=4) Recall@1=0.049, Recall@3=0.049, Recall@5=0.049\n",
      "HNSW4,Flat => Searching done in 47.987 ms. \n",
      "\n",
      "(nprobe=0) (efSearch=16) Recall@1=0.185, Recall@3=0.185, Recall@5=0.185\n",
      "HNSW4,Flat => Searching done in 39.412 ms. \n",
      "\n",
      "(nprobe=0) (efSearch=40) Recall@1=0.342, Recall@3=0.342, Recall@5=0.342\n",
      "HNSW4,Flat => Searching done in 67.567 ms. \n",
      "\n",
      "(nprobe=0) (efSearch=76) Recall@1=0.431, Recall@3=0.431, Recall@5=0.431\n",
      "HNSW4,Flat => Searching done in 188.412 ms. \n",
      "\n",
      "HNSW4,Flat (efConstruction=16) => Total processing time: 2.7 min.\n",
      "===================================================================\n",
      "\n",
      "HNSW4,Flat (efConstruction=40)\n",
      "    Adding records [0 : 32768] => ntotal: 32768\n",
      "    Adding records [819200 : 851968] => ntotal: 851968\n",
      "    Adding records [1638400 : 1671168] => ntotal: 1671168\n",
      "    Adding records [2457600 : 2490368] => ntotal: 2490368\n",
      "HNSW4,Flat => Indexing done in 326.164 s  (ntotal:  3000000 ) \n",
      "\n",
      "HNSW4,Flat => Index size: 1684.009 MB. \n",
      "\n",
      "(nprobe=0) (efSearch=4) Recall@1=0.092, Recall@3=0.092, Recall@5=0.092\n",
      "HNSW4,Flat => Searching done in 73.155 ms. \n",
      "\n",
      "(nprobe=0) (efSearch=16) Recall@1=0.311, Recall@3=0.311, Recall@5=0.311\n",
      "HNSW4,Flat => Searching done in 34.208 ms. \n",
      "\n",
      "(nprobe=0) (efSearch=40) Recall@1=0.526, Recall@3=0.526, Recall@5=0.526\n",
      "HNSW4,Flat => Searching done in 73.324 ms. \n",
      "\n",
      "(nprobe=0) (efSearch=76) Recall@1=0.643, Recall@3=0.643, Recall@5=0.643\n",
      "HNSW4,Flat => Searching done in 128.445 ms. \n",
      "\n",
      "HNSW4,Flat (efConstruction=40) => Total processing time: 5.5 min.\n",
      "===================================================================\n",
      "\n",
      "HNSW4,Flat (efConstruction=76)\n",
      "    Adding records [0 : 32768] => ntotal: 32768\n",
      "    Adding records [819200 : 851968] => ntotal: 851968\n",
      "    Adding records [1638400 : 1671168] => ntotal: 1671168\n",
      "    Adding records [2457600 : 2490368] => ntotal: 2490368\n",
      "HNSW4,Flat => Indexing done in 523.919 s  (ntotal:  3000000 ) \n",
      "\n",
      "HNSW4,Flat => Index size: 1684.009 MB. \n",
      "\n",
      "(nprobe=0) (efSearch=4) Recall@1=0.096, Recall@3=0.096, Recall@5=0.096\n",
      "HNSW4,Flat => Searching done in 78.785 ms. \n",
      "\n",
      "(nprobe=0) (efSearch=16) Recall@1=0.327, Recall@3=0.327, Recall@5=0.327\n",
      "HNSW4,Flat => Searching done in 36.489 ms. \n",
      "\n",
      "(nprobe=0) (efSearch=40) Recall@1=0.559, Recall@3=0.559, Recall@5=0.559\n",
      "HNSW4,Flat => Searching done in 75.524 ms. \n",
      "\n",
      "(nprobe=0) (efSearch=76) Recall@1=0.665, Recall@3=0.665, Recall@5=0.665\n",
      "HNSW4,Flat => Searching done in 132.852 ms. \n",
      "\n",
      "HNSW4,Flat (efConstruction=76) => Total processing time: 8.8 min.\n",
      "===================================================================\n",
      "\n",
      "HNSW16,Flat (efConstruction=4)\n",
      "    Adding records [0 : 32768] => ntotal: 32768\n",
      "    Adding records [819200 : 851968] => ntotal: 851968\n",
      "    Adding records [1638400 : 1671168] => ntotal: 1671168\n",
      "    Adding records [2457600 : 2490368] => ntotal: 2490368\n",
      "HNSW16,Flat => Indexing done in 63.443 s  (ntotal:  3000000 ) \n",
      "\n",
      "HNSW16,Flat => Index size: 1968.808 MB. \n",
      "\n",
      "(nprobe=0) (efSearch=4) Recall@1=0.029, Recall@3=0.029, Recall@5=0.029\n",
      "HNSW16,Flat => Searching done in 32.430 ms. \n",
      "\n",
      "(nprobe=0) (efSearch=16) Recall@1=0.042, Recall@3=0.042, Recall@5=0.042\n",
      "HNSW16,Flat => Searching done in 35.002 ms. \n",
      "\n",
      "(nprobe=0) (efSearch=40) Recall@1=0.053, Recall@3=0.053, Recall@5=0.053\n",
      "HNSW16,Flat => Searching done in 74.182 ms. \n",
      "\n",
      "(nprobe=0) (efSearch=76) Recall@1=0.065, Recall@3=0.065, Recall@5=0.065\n",
      "HNSW16,Flat => Searching done in 172.184 ms. \n",
      "\n",
      "HNSW16,Flat (efConstruction=4) => Total processing time: 1.1 min.\n",
      "===================================================================\n",
      "\n",
      "HNSW16,Flat (efConstruction=16)\n",
      "    Adding records [0 : 32768] => ntotal: 32768\n",
      "    Adding records [819200 : 851968] => ntotal: 851968\n",
      "    Adding records [1638400 : 1671168] => ntotal: 1671168\n",
      "    Adding records [2457600 : 2490368] => ntotal: 2490368\n",
      "HNSW16,Flat => Indexing done in 287.356 s  (ntotal:  3000000 ) \n",
      "\n",
      "HNSW16,Flat => Index size: 1968.808 MB. \n",
      "\n",
      "(nprobe=0) (efSearch=4) Recall@1=0.33, Recall@3=0.33, Recall@5=0.33\n",
      "HNSW16,Flat => Searching done in 59.126 ms. \n",
      "\n",
      "(nprobe=0) (efSearch=16) Recall@1=0.651, Recall@3=0.651, Recall@5=0.651\n",
      "HNSW16,Flat => Searching done in 74.225 ms. \n",
      "\n",
      "(nprobe=0) (efSearch=40) Recall@1=0.814, Recall@3=0.814, Recall@5=0.814\n",
      "HNSW16,Flat => Searching done in 150.619 ms. \n",
      "\n",
      "(nprobe=0) (efSearch=76) Recall@1=0.883, Recall@3=0.883, Recall@5=0.883\n",
      "HNSW16,Flat => Searching done in 276.556 ms. \n",
      "\n",
      "HNSW16,Flat (efConstruction=16) => Total processing time: 4.9 min.\n",
      "===================================================================\n",
      "\n",
      "HNSW16,Flat (efConstruction=40)\n",
      "    Adding records [0 : 32768] => ntotal: 32768\n",
      "    Adding records [819200 : 851968] => ntotal: 851968\n",
      "    Adding records [1638400 : 1671168] => ntotal: 1671168\n",
      "    Adding records [2457600 : 2490368] => ntotal: 2490368\n",
      "HNSW16,Flat => Indexing done in 497.460 s  (ntotal:  3000000 ) \n",
      "\n",
      "HNSW16,Flat => Index size: 1968.808 MB. \n",
      "\n",
      "(nprobe=0) (efSearch=4) Recall@1=0.417, Recall@3=0.417, Recall@5=0.417\n",
      "HNSW16,Flat => Searching done in 78.762 ms. \n",
      "\n",
      "(nprobe=0) (efSearch=16) Recall@1=0.731, Recall@3=0.731, Recall@5=0.731\n",
      "HNSW16,Flat => Searching done in 145.790 ms. \n",
      "\n",
      "(nprobe=0) (efSearch=40) Recall@1=0.851, Recall@3=0.851, Recall@5=0.851\n",
      "HNSW16,Flat => Searching done in 265.513 ms. \n",
      "\n",
      "(nprobe=0) (efSearch=76) Recall@1=0.897, Recall@3=0.897, Recall@5=0.897\n",
      "HNSW16,Flat => Searching done in 329.670 ms. \n",
      "\n",
      "HNSW16,Flat (efConstruction=40) => Total processing time: 8.4 min.\n",
      "===================================================================\n",
      "\n",
      "HNSW16,Flat (efConstruction=76)\n",
      "    Adding records [0 : 32768] => ntotal: 32768\n",
      "    Adding records [819200 : 851968] => ntotal: 851968\n",
      "    Adding records [1638400 : 1671168] => ntotal: 1671168\n",
      "    Adding records [2457600 : 2490368] => ntotal: 2490368\n",
      "HNSW16,Flat => Indexing done in 937.583 s  (ntotal:  3000000 ) \n",
      "\n",
      "HNSW16,Flat => Index size: 1968.808 MB. \n",
      "\n",
      "(nprobe=0) (efSearch=4) Recall@1=0.449, Recall@3=0.449, Recall@5=0.449\n",
      "HNSW16,Flat => Searching done in 50.645 ms. \n",
      "\n",
      "(nprobe=0) (efSearch=16) Recall@1=0.788, Recall@3=0.788, Recall@5=0.788\n",
      "HNSW16,Flat => Searching done in 80.579 ms. \n",
      "\n",
      "(nprobe=0) (efSearch=40) Recall@1=0.909, Recall@3=0.909, Recall@5=0.909\n",
      "HNSW16,Flat => Searching done in 163.749 ms. \n",
      "\n",
      "(nprobe=0) (efSearch=76) Recall@1=0.939, Recall@3=0.939, Recall@5=0.939\n",
      "HNSW16,Flat => Searching done in 302.861 ms. \n",
      "\n",
      "HNSW16,Flat (efConstruction=76) => Total processing time: 15.7 min.\n",
      "===================================================================\n",
      "\n",
      "HNSW32,Flat (efConstruction=4)\n",
      "    Adding records [0 : 32768] => ntotal: 32768\n",
      "    Adding records [819200 : 851968] => ntotal: 851968\n",
      "    Adding records [1638400 : 1671168] => ntotal: 1671168\n",
      "    Adding records [2457600 : 2490368] => ntotal: 2490368\n",
      "HNSW32,Flat => Indexing done in 67.228 s  (ntotal:  3000000 ) \n",
      "\n",
      "HNSW32,Flat => Index size: 2352.425 MB. \n",
      "\n",
      "(nprobe=0) (efSearch=4) Recall@1=0.045, Recall@3=0.045, Recall@5=0.045\n",
      "HNSW32,Flat => Searching done in 40.520 ms. \n",
      "\n",
      "(nprobe=0) (efSearch=16) Recall@1=0.065, Recall@3=0.065, Recall@5=0.065\n",
      "HNSW32,Flat => Searching done in 73.036 ms. \n",
      "\n",
      "(nprobe=0) (efSearch=40) Recall@1=0.077, Recall@3=0.077, Recall@5=0.077\n",
      "HNSW32,Flat => Searching done in 82.918 ms. \n",
      "\n",
      "(nprobe=0) (efSearch=76) Recall@1=0.093, Recall@3=0.093, Recall@5=0.093\n",
      "HNSW32,Flat => Searching done in 132.845 ms. \n",
      "\n",
      "HNSW32,Flat (efConstruction=4) => Total processing time: 1.2 min.\n",
      "===================================================================\n",
      "\n",
      "HNSW32,Flat (efConstruction=16)\n",
      "    Adding records [0 : 32768] => ntotal: 32768\n",
      "    Adding records [819200 : 851968] => ntotal: 851968\n",
      "    Adding records [1638400 : 1671168] => ntotal: 1671168\n",
      "    Adding records [2457600 : 2490368] => ntotal: 2490368\n",
      "HNSW32,Flat => Indexing done in 332.864 s  (ntotal:  3000000 ) \n",
      "\n",
      "HNSW32,Flat => Index size: 2352.425 MB. \n",
      "\n",
      "(nprobe=0) (efSearch=4) Recall@1=0.463, Recall@3=0.463, Recall@5=0.463\n",
      "HNSW32,Flat => Searching done in 106.240 ms. \n",
      "\n",
      "(nprobe=0) (efSearch=16) Recall@1=0.75, Recall@3=0.75, Recall@5=0.75\n",
      "HNSW32,Flat => Searching done in 202.870 ms. \n",
      "\n",
      "(nprobe=0) (efSearch=40) Recall@1=0.878, Recall@3=0.878, Recall@5=0.878\n",
      "HNSW32,Flat => Searching done in 329.881 ms. \n",
      "\n",
      "(nprobe=0) (efSearch=76) Recall@1=0.927, Recall@3=0.927, Recall@5=0.927\n",
      "HNSW32,Flat => Searching done in 448.656 ms. \n",
      "\n",
      "HNSW32,Flat (efConstruction=16) => Total processing time: 5.6 min.\n",
      "===================================================================\n",
      "\n",
      "HNSW32,Flat (efConstruction=40)\n",
      "    Adding records [0 : 32768] => ntotal: 32768\n",
      "    Adding records [819200 : 851968] => ntotal: 851968\n",
      "    Adding records [1638400 : 1671168] => ntotal: 1671168\n",
      "    Adding records [2457600 : 2490368] => ntotal: 2490368\n",
      "HNSW32,Flat => Indexing done in 836.794 s  (ntotal:  3000000 ) \n",
      "\n",
      "HNSW32,Flat => Index size: 2352.425 MB. \n",
      "\n",
      "(nprobe=0) (efSearch=4) Recall@1=0.581, Recall@3=0.581, Recall@5=0.581\n",
      "HNSW32,Flat => Searching done in 103.195 ms. \n",
      "\n",
      "(nprobe=0) (efSearch=16) Recall@1=0.847, Recall@3=0.847, Recall@5=0.847\n",
      "HNSW32,Flat => Searching done in 136.614 ms. \n",
      "\n",
      "(nprobe=0) (efSearch=40) Recall@1=0.93, Recall@3=0.93, Recall@5=0.93\n",
      "HNSW32,Flat => Searching done in 264.650 ms. \n",
      "\n",
      "(nprobe=0) (efSearch=76) Recall@1=0.96, Recall@3=0.96, Recall@5=0.96\n",
      "HNSW32,Flat => Searching done in 425.203 ms. \n",
      "\n",
      "HNSW32,Flat (efConstruction=40) => Total processing time: 14.0 min.\n",
      "===================================================================\n",
      "\n",
      "HNSW32,Flat (efConstruction=76)\n",
      "    Adding records [0 : 32768] => ntotal: 32768\n",
      "    Adding records [819200 : 851968] => ntotal: 851968\n",
      "    Adding records [1638400 : 1671168] => ntotal: 1671168\n",
      "    Adding records [2457600 : 2490368] => ntotal: 2490368\n",
      "HNSW32,Flat => Indexing done in 1070.007 s  (ntotal:  3000000 ) \n",
      "\n",
      "HNSW32,Flat => Index size: 2352.425 MB. \n",
      "\n",
      "(nprobe=0) (efSearch=4) Recall@1=0.558, Recall@3=0.558, Recall@5=0.558\n",
      "HNSW32,Flat => Searching done in 58.933 ms. \n",
      "\n",
      "(nprobe=0) (efSearch=16) Recall@1=0.849, Recall@3=0.849, Recall@5=0.849\n",
      "HNSW32,Flat => Searching done in 108.862 ms. \n",
      "\n",
      "(nprobe=0) (efSearch=40) Recall@1=0.921, Recall@3=0.921, Recall@5=0.921\n",
      "HNSW32,Flat => Searching done in 208.406 ms. \n",
      "\n",
      "(nprobe=0) (efSearch=76) Recall@1=0.952, Recall@3=0.952, Recall@5=0.952\n",
      "HNSW32,Flat => Searching done in 467.030 ms. \n",
      "\n",
      "HNSW32,Flat (efConstruction=76) => Total processing time: 18.0 min.\n",
      "===================================================================\n",
      "\n",
      "HNSW64,Flat (efConstruction=4)\n",
      "    Adding records [0 : 32768] => ntotal: 32768\n",
      "    Adding records [819200 : 851968] => ntotal: 851968\n",
      "    Adding records [1638400 : 1671168] => ntotal: 1671168\n",
      "    Adding records [2457600 : 2490368] => ntotal: 2490368\n",
      "HNSW64,Flat => Indexing done in 76.510 s  (ntotal:  3000000 ) \n",
      "\n",
      "HNSW64,Flat => Index size: 3120.194 MB. \n",
      "\n",
      "(nprobe=0) (efSearch=4) Recall@1=0.04, Recall@3=0.04, Recall@5=0.04\n",
      "HNSW64,Flat => Searching done in 34.425 ms. \n",
      "\n",
      "(nprobe=0) (efSearch=16) Recall@1=0.054, Recall@3=0.054, Recall@5=0.054\n",
      "HNSW64,Flat => Searching done in 126.265 ms. \n",
      "\n",
      "(nprobe=0) (efSearch=40) Recall@1=0.07, Recall@3=0.07, Recall@5=0.07\n",
      "HNSW64,Flat => Searching done in 104.107 ms. \n",
      "\n",
      "(nprobe=0) (efSearch=76) Recall@1=0.086, Recall@3=0.086, Recall@5=0.086\n",
      "HNSW64,Flat => Searching done in 153.742 ms. \n",
      "\n",
      "HNSW64,Flat (efConstruction=4) => Total processing time: 1.5 min.\n",
      "===================================================================\n",
      "\n",
      "HNSW64,Flat (efConstruction=16)\n",
      "    Adding records [0 : 32768] => ntotal: 32768\n",
      "    Adding records [819200 : 851968] => ntotal: 851968\n",
      "    Adding records [1638400 : 1671168] => ntotal: 1671168\n",
      "    Adding records [2457600 : 2490368] => ntotal: 2490368\n",
      "HNSW64,Flat => Indexing done in 378.949 s  (ntotal:  3000000 ) \n",
      "\n",
      "HNSW64,Flat => Index size: 3120.194 MB. \n",
      "\n",
      "(nprobe=0) (efSearch=4) Recall@1=0.476, Recall@3=0.476, Recall@5=0.476\n",
      "HNSW64,Flat => Searching done in 106.068 ms. \n",
      "\n",
      "(nprobe=0) (efSearch=16) Recall@1=0.772, Recall@3=0.772, Recall@5=0.772\n",
      "HNSW64,Flat => Searching done in 121.108 ms. \n",
      "\n",
      "(nprobe=0) (efSearch=40) Recall@1=0.887, Recall@3=0.887, Recall@5=0.887\n",
      "HNSW64,Flat => Searching done in 236.677 ms. \n",
      "\n",
      "(nprobe=0) (efSearch=76) Recall@1=0.925, Recall@3=0.925, Recall@5=0.925\n",
      "HNSW64,Flat => Searching done in 372.755 ms. \n",
      "\n",
      "HNSW64,Flat (efConstruction=16) => Total processing time: 6.6 min.\n",
      "===================================================================\n",
      "\n",
      "HNSW64,Flat (efConstruction=40)\n",
      "    Adding records [0 : 32768] => ntotal: 32768\n",
      "    Adding records [819200 : 851968] => ntotal: 851968\n",
      "    Adding records [1638400 : 1671168] => ntotal: 1671168\n",
      "    Adding records [2457600 : 2490368] => ntotal: 2490368\n",
      "HNSW64,Flat => Indexing done in 1086.319 s  (ntotal:  3000000 ) \n",
      "\n",
      "HNSW64,Flat => Index size: 3120.194 MB. \n",
      "\n",
      "(nprobe=0) (efSearch=4) Recall@1=0.709, Recall@3=0.709, Recall@5=0.709\n",
      "HNSW64,Flat => Searching done in 113.201 ms. \n",
      "\n",
      "(nprobe=0) (efSearch=16) Recall@1=0.885, Recall@3=0.885, Recall@5=0.885\n",
      "HNSW64,Flat => Searching done in 177.599 ms. \n",
      "\n",
      "(nprobe=0) (efSearch=40) Recall@1=0.949, Recall@3=0.949, Recall@5=0.949\n",
      "HNSW64,Flat => Searching done in 359.505 ms. \n",
      "\n",
      "(nprobe=0) (efSearch=76) Recall@1=0.978, Recall@3=0.978, Recall@5=0.978\n",
      "HNSW64,Flat => Searching done in 568.676 ms. \n",
      "\n",
      "HNSW64,Flat (efConstruction=40) => Total processing time: 18.3 min.\n",
      "===================================================================\n",
      "\n",
      "HNSW64,Flat (efConstruction=76)\n",
      "    Adding records [0 : 32768] => ntotal: 32768\n",
      "    Adding records [819200 : 851968] => ntotal: 851968\n",
      "    Adding records [1638400 : 1671168] => ntotal: 1671168\n",
      "    Adding records [2457600 : 2490368] => ntotal: 2490368\n",
      "HNSW64,Flat => Indexing done in 2106.428 s  (ntotal:  3000000 ) \n",
      "\n",
      "HNSW64,Flat => Index size: 3120.194 MB. \n",
      "\n",
      "(nprobe=0) (efSearch=4) Recall@1=0.738, Recall@3=0.738, Recall@5=0.738\n",
      "HNSW64,Flat => Searching done in 99.436 ms. \n",
      "\n",
      "(nprobe=0) (efSearch=16) Recall@1=0.918, Recall@3=0.918, Recall@5=0.918\n",
      "HNSW64,Flat => Searching done in 226.481 ms. \n",
      "\n",
      "(nprobe=0) (efSearch=40) Recall@1=0.97, Recall@3=0.97, Recall@5=0.97\n",
      "HNSW64,Flat => Searching done in 429.123 ms. \n",
      "\n",
      "(nprobe=0) (efSearch=76) Recall@1=0.992, Recall@3=0.992, Recall@5=0.992\n",
      "HNSW64,Flat => Searching done in 728.729 ms. \n",
      "\n",
      "HNSW64,Flat (efConstruction=76) => Total processing time: 35.4 min.\n",
      "===================================================================\n",
      "\n",
      "CPU times: user 4h 39min 28s, sys: 2min 4s, total: 4h 41min 33s\n",
      "Wall time: 2h 28min 57s\n"
     ]
    }
   ],
   "source": [
    "%%time\n",
    "\n",
    "ds = datasets.SyntheticDataset(d, 0, nbase, nquery)\n",
    "xb = ds.get_database()\n",
    "xq = ds.get_queries()\n",
    "gt = ds.get_groundtruth(k) \n",
    "\n",
    "gpu = False            # Training is not required.\n",
    "train_time = None\n",
    "\n",
    "for M in [4,16,32,64]:  \n",
    "    fac_string = \"HNSW\" + str(M) + \",Flat\"    \n",
    "\n",
    "    for efConstruction in [4,16,40,76]:\n",
    "        \n",
    "        t00 = time.time()\n",
    "        \n",
    "        index = faiss.index_factory(d, fac_string)   \n",
    "        index_time = add_index(fac_string, index, efConstruction)\n",
    "        index_size = save_n_get_filesize(fac_string, index, gpu)        \n",
    "\n",
    "        for efSearch in [4,16,40,76]:\n",
    "            search_time, recall_1, recall_3, recall_5 = search_index(fac_string, index, 0, efSearch)\n",
    "            dfHNSW = append_results_HNSW(dfHNSW, fac_string, efConstruction, efSearch, recall_1, recall_3, recall_5, \n",
    "                                         train_time, index_time, search_time, index_size)         \n",
    "\n",
    "        del index\n",
    "        efCont_time = (time.time() - t00) / 60        \n",
    "        print(f\"{fac_string} (efConstruction={efConstruction})\", \"=> Total processing time: %.1f min.\" % efCont_time) \n",
    "        print(\"===================================================================\\n\") "
   ]
  },
  {
   "cell_type": "markdown",
   "id": "4c7c6ef6",
   "metadata": {
    "papermill": {
     "duration": 1.045363,
     "end_time": "2022-08-23T06:26:16.967201",
     "exception": false,
     "start_time": "2022-08-23T06:26:15.921838",
     "status": "completed"
    },
    "tags": []
   },
   "source": [
    "# Section 3b: Getting data for the variations of HNSW indexes (with/without IVF and/or PQ)"
   ]
  },
  {
   "cell_type": "code",
   "execution_count": 31,
   "id": "e2d8cda1",
   "metadata": {
    "execution": {
     "iopub.execute_input": "2022-08-23T06:26:18.070855Z",
     "iopub.status.busy": "2022-08-23T06:26:18.070481Z",
     "iopub.status.idle": "2022-08-23T06:26:18.076729Z",
     "shell.execute_reply": "2022-08-23T06:26:18.075677Z"
    },
    "papermill": {
     "duration": 0.563285,
     "end_time": "2022-08-23T06:26:18.079272",
     "exception": false,
     "start_time": "2022-08-23T06:26:17.515987",
     "status": "completed"
    },
    "tags": []
   },
   "outputs": [],
   "source": [
    "df = pd.DataFrame({'index': [],\n",
    "                   'M': [],\n",
    "                   'nprobe': [],\n",
    "                   'nsegment': [],\n",
    "                   'recall@1': [],\n",
    "                   'recall@3': [],\n",
    "                   'recall@5': [],\n",
    "                   'train_time':[],\n",
    "                   'index_time': [],\n",
    "                   'search_time': [],\n",
    "                   'index_size': []\n",
    "})"
   ]
  },
  {
   "cell_type": "code",
   "execution_count": 32,
   "id": "7477b3a2",
   "metadata": {
    "execution": {
     "iopub.execute_input": "2022-08-23T06:26:19.236414Z",
     "iopub.status.busy": "2022-08-23T06:26:19.236049Z",
     "iopub.status.idle": "2022-08-23T06:26:19.243429Z",
     "shell.execute_reply": "2022-08-23T06:26:19.242458Z"
    },
    "papermill": {
     "duration": 0.557641,
     "end_time": "2022-08-23T06:26:19.245473",
     "exception": false,
     "start_time": "2022-08-23T06:26:18.687832",
     "status": "completed"
    },
    "tags": []
   },
   "outputs": [],
   "source": [
    "k = 5                        # Number of nearest neighbor records to return during search.\n",
    "d = 128                      # Dimension (length) of vectors.\n",
    "nlist = 65536                # Number of inverted lists (or number of centroids) for IVF indexes.\n",
    "ntraining = 39 * nlist       # Number of training vectors (x*nlist, where x is between 30 and 256).\n",
    "nbase = 3 * 1000000          # Number of database vectors.\n",
    "nquery = 1000                # Number of query vectors.\n",
    "\n",
    "batch_size = 32768           # Batch size used to add index.\n",
    "batch_print_interval = 25    # When adding records to index, print status only after every x batches.  \n",
    "\n",
    "M = 32                       # Number of connections that would be made for each new vertex during HNSW construction.\n",
    "nsegment = 32                # Number of segments for product quantization.\n",
    "\n",
    "# Indexes to contruct using the index_factory (e.g. \"IVF65536_HNSW32,PQ32\")\n",
    "str1 = \"IVF\" + str(nlist) + \"_HNSW\" + str(M) + \",PQ\" + str(nsegment)\n",
    "str2 = \"IVF\" + str(nlist) + \"_HNSW\" + str(M) + \",Flat\"\n",
    "str3 = \"HNSW\" + str(M) + \",Flat\"\n",
    "str4 = \"HNSW\" + str(M) + \"_PQ\" + str(nsegment)\n",
    "\n",
    "fac_strings = [str1, str2, str3, str4]          # To construct the indexes in this list using index_factory.\n",
    "nprobes = [1, 8, 16, 64, 128, 256, 512, 1024]   # The list of nprobe values to use."
   ]
  },
  {
   "cell_type": "code",
   "execution_count": 33,
   "id": "c6495193",
   "metadata": {
    "execution": {
     "iopub.execute_input": "2022-08-23T06:26:20.411685Z",
     "iopub.status.busy": "2022-08-23T06:26:20.410699Z",
     "iopub.status.idle": "2022-08-23T06:57:59.695833Z",
     "shell.execute_reply": "2022-08-23T06:57:59.694868Z"
    },
    "papermill": {
     "duration": 1900.199,
     "end_time": "2022-08-23T06:57:59.993943",
     "exception": false,
     "start_time": "2022-08-23T06:26:19.794943",
     "status": "completed"
    },
    "tags": []
   },
   "outputs": [
    {
     "name": "stdout",
     "output_type": "stream",
     "text": [
      "IVF65536_HNSW32,PQ32 => Training done in 143.291 s. \n",
      "\n",
      "    Adding records [0 : 32768] => ntotal: 32768\n",
      "    Adding records [819200 : 851968] => ntotal: 851968\n",
      "    Adding records [1638400 : 1671168] => ntotal: 1671168\n",
      "    Adding records [2457600 : 2490368] => ntotal: 2490368\n",
      "IVF65536_HNSW32,PQ32 => Indexing done in 24.346 s  (ntotal:  3000000 ) \n",
      "\n",
      "IVF65536_HNSW32,PQ32 => Index size: 154.210 MB. \n",
      "\n",
      "(nprobe=1) (efSearch=16) Recall@1=0.153, Recall@3=0.177, Recall@5=0.179\n",
      "IVF65536_HNSW32,PQ32 => Searching done in 6.560 ms. \n",
      "\n",
      "(nprobe=8) (efSearch=16) Recall@1=0.349, Recall@3=0.437, Recall@5=0.45\n",
      "IVF65536_HNSW32,PQ32 => Searching done in 6.398 ms. \n",
      "\n",
      "(nprobe=16) (efSearch=16) Recall@1=0.417, Recall@3=0.536, Recall@5=0.555\n",
      "IVF65536_HNSW32,PQ32 => Searching done in 8.130 ms. \n",
      "\n",
      "(nprobe=64) (efSearch=16) Recall@1=0.521, Recall@3=0.712, Recall@5=0.746\n",
      "IVF65536_HNSW32,PQ32 => Searching done in 18.362 ms. \n",
      "\n",
      "(nprobe=128) (efSearch=16) Recall@1=0.547, Recall@3=0.765, Recall@5=0.806\n",
      "IVF65536_HNSW32,PQ32 => Searching done in 33.370 ms. \n",
      "\n",
      "(nprobe=256) (efSearch=16) Recall@1=0.563, Recall@3=0.804, Recall@5=0.856\n",
      "IVF65536_HNSW32,PQ32 => Searching done in 78.496 ms. \n",
      "\n",
      "(nprobe=512) (efSearch=16) Recall@1=0.578, Recall@3=0.831, Recall@5=0.891\n",
      "IVF65536_HNSW32,PQ32 => Searching done in 194.044 ms. \n",
      "\n",
      "(nprobe=1024) (efSearch=16) Recall@1=0.588, Recall@3=0.848, Recall@5=0.913\n",
      "IVF65536_HNSW32,PQ32 => Searching done in 503.718 ms. \n",
      "\n",
      "IVF65536_HNSW32,PQ32 => Total processing time 2.9 min.\n",
      "===================================================================\n",
      "\n",
      "IVF65536_HNSW32,Flat => Training done in 85.010 s. \n",
      "\n",
      "    Adding records [0 : 32768] => ntotal: 32768\n",
      "    Adding records [819200 : 851968] => ntotal: 851968\n",
      "    Adding records [1638400 : 1671168] => ntotal: 1671168\n",
      "    Adding records [2457600 : 2490368] => ntotal: 2490368\n",
      "IVF65536_HNSW32,Flat => Indexing done in 18.676 s  (ntotal:  3000000 ) \n",
      "\n",
      "IVF65536_HNSW32,Flat => Index size: 1594.079 MB. \n",
      "\n",
      "(nprobe=1) (efSearch=16) Recall@1=0.181, Recall@3=0.181, Recall@5=0.181\n",
      "IVF65536_HNSW32,Flat => Searching done in 9.616 ms. \n",
      "\n",
      "(nprobe=8) (efSearch=16) Recall@1=0.455, Recall@3=0.455, Recall@5=0.455\n",
      "IVF65536_HNSW32,Flat => Searching done in 10.903 ms. \n",
      "\n",
      "(nprobe=16) (efSearch=16) Recall@1=0.564, Recall@3=0.564, Recall@5=0.564\n",
      "IVF65536_HNSW32,Flat => Searching done in 16.060 ms. \n",
      "\n",
      "(nprobe=64) (efSearch=16) Recall@1=0.768, Recall@3=0.768, Recall@5=0.768\n",
      "IVF65536_HNSW32,Flat => Searching done in 35.004 ms. \n",
      "\n",
      "(nprobe=128) (efSearch=16) Recall@1=0.84, Recall@3=0.84, Recall@5=0.84\n",
      "IVF65536_HNSW32,Flat => Searching done in 55.481 ms. \n",
      "\n",
      "(nprobe=256) (efSearch=16) Recall@1=0.904, Recall@3=0.904, Recall@5=0.904\n",
      "IVF65536_HNSW32,Flat => Searching done in 88.941 ms. \n",
      "\n",
      "(nprobe=512) (efSearch=16) Recall@1=0.944, Recall@3=0.944, Recall@5=0.944\n",
      "IVF65536_HNSW32,Flat => Searching done in 145.103 ms. \n",
      "\n",
      "(nprobe=1024) (efSearch=16) Recall@1=0.975, Recall@3=0.975, Recall@5=0.975\n",
      "IVF65536_HNSW32,Flat => Searching done in 241.864 ms. \n",
      "\n",
      "IVF65536_HNSW32,Flat => Total processing time 1.9 min.\n",
      "===================================================================\n",
      "\n",
      "    Adding records [0 : 32768] => ntotal: 32768\n",
      "    Adding records [819200 : 851968] => ntotal: 851968\n",
      "    Adding records [1638400 : 1671168] => ntotal: 1671168\n",
      "    Adding records [2457600 : 2490368] => ntotal: 2490368\n",
      "HNSW32,Flat => Indexing done in 847.505 s  (ntotal:  3000000 ) \n",
      "\n",
      "HNSW32,Flat => Index size: 2352.425 MB. \n",
      "\n",
      "(nprobe=0) (efSearch=16) Recall@1=0.854, Recall@3=0.854, Recall@5=0.854\n",
      "HNSW32,Flat => Searching done in 148.550 ms. \n",
      "\n",
      "HNSW32,Flat => Total processing time 14.3 min.\n",
      "===================================================================\n",
      "\n",
      "HNSW32_PQ32 => Training done in 61.466 s. \n",
      "\n",
      "    Adding records [0 : 32768] => ntotal: 32768\n",
      "    Adding records [819200 : 851968] => ntotal: 851968\n",
      "    Adding records [1638400 : 1671168] => ntotal: 1671168\n",
      "    Adding records [2457600 : 2490368] => ntotal: 2490368\n",
      "HNSW32_PQ32 => Indexing done in 651.526 s  (ntotal:  3000000 ) \n",
      "\n",
      "HNSW32_PQ32 => Index size: 912.556 MB. \n",
      "\n",
      "(nprobe=0) (efSearch=16) Recall@1=0.627, Recall@3=0.793, Recall@5=0.813\n",
      "HNSW32_PQ32 => Searching done in 172.362 ms. \n",
      "\n",
      "HNSW32_PQ32 => Total processing time 11.9 min.\n",
      "===================================================================\n",
      "\n",
      "CPU times: user 54min 56s, sys: 1min 25s, total: 56min 22s\n",
      "Wall time: 31min 39s\n"
     ]
    }
   ],
   "source": [
    "%%time\n",
    "\n",
    "ds = datasets.SyntheticDataset(d, ntraining, 0, 0)\n",
    "xt = ds.get_train()\n",
    "\n",
    "ds = datasets.SyntheticDataset(d, 0, nbase, nquery)\n",
    "xb = ds.get_database()\n",
    "xq = ds.get_queries()\n",
    "gt = ds.get_groundtruth(k) \n",
    "\n",
    "for fac_string in fac_strings:\n",
    "    t00 = time.time()  \n",
    "    \n",
    "    index = faiss.index_factory(d, fac_string)\n",
    "    \n",
    "    # If need to get efConstruction & efSearch, downcast first before sending to GPU.    \n",
    "    #--------------------------------------------------\n",
    "    if (\"IVF\" in fac_string) and (\"HNSW\" in fac_string):        \n",
    "        quantizer = faiss.downcast_index(index.quantizer)  # The quantizer is IndexHNSWFlat\n",
    "        efConstruction = quantizer.hnsw.efConstruction\n",
    "        efSearch = quantizer.hnsw.efSearch\n",
    "    #--------------------------------------------------\n",
    "    \n",
    "    if (\"IVF\" in fac_string):   \n",
    "        index, gpu, train_time = train_index(fac_string, index, gpu=True)   # Training is required, use GPU.\n",
    "    elif (\"PQ\" in fac_string): \n",
    "        index, gpu, train_time = train_index(fac_string, index, gpu=False)  # Training is required, but GPU is not supported.\n",
    "    else:                                                                   \n",
    "        gpu = False                                                         # Training is not required.\n",
    "        train_time = None\n",
    "    \n",
    "    index_time = add_index(fac_string, index)\n",
    "    index_size = save_n_get_filesize(fac_string, index, gpu)\n",
    "            \n",
    "    if \"IVF\" in fac_string:\n",
    "        for nprobe in nprobes:\n",
    "            search_time, recall_1, recall_3, recall_5 = search_index(fac_string, index, nprobe)\n",
    "            df = append_results(df, fac_string, nprobe, nsegment, recall_1, recall_3, recall_5, train_time, index_time, search_time, index_size)\n",
    "    else:\n",
    "        search_time, recall_1, recall_3, recall_5 = search_index(fac_string, index, 0)\n",
    "        df = append_results(df, fac_string, 0, nsegment, recall_1, recall_3, recall_5, train_time, index_time, search_time, index_size)    \n",
    "    \n",
    "    del index\n",
    "    total_time = (time.time() - t00) / 60\n",
    "    print(fac_string, \"=> Total processing time %.1f min.\" % total_time) \n",
    "    print(\"===================================================================\\n\") "
   ]
  },
  {
   "cell_type": "markdown",
   "id": "641a7a5e",
   "metadata": {
    "papermill": {
     "duration": 0.552762,
     "end_time": "2022-08-23T06:58:01.162037",
     "exception": false,
     "start_time": "2022-08-23T06:58:00.609275",
     "status": "completed"
    },
    "tags": []
   },
   "source": [
    "# Section 4a: Plots to view the effect of `M`, `efConstruction`, `efSearch`"
   ]
  },
  {
   "cell_type": "code",
   "execution_count": 34,
   "id": "a54adad1",
   "metadata": {
    "_kg_hide-input": true,
    "execution": {
     "iopub.execute_input": "2022-08-23T06:58:02.325605Z",
     "iopub.status.busy": "2022-08-23T06:58:02.325221Z",
     "iopub.status.idle": "2022-08-23T06:58:02.329941Z",
     "shell.execute_reply": "2022-08-23T06:58:02.328805Z"
    },
    "papermill": {
     "duration": 0.61563,
     "end_time": "2022-08-23T06:58:02.332583",
     "exception": false,
     "start_time": "2022-08-23T06:58:01.716953",
     "status": "completed"
    },
    "tags": []
   },
   "outputs": [],
   "source": [
    "# try:\n",
    "#     print(dfHNSW.head(1))\n",
    "# except NameError:\n",
    "#     dfHNSW = pd.read_csv(\"../input/dfhnsw/dfHNSW-25.csv\", delimiter=\"|\")"
   ]
  },
  {
   "cell_type": "code",
   "execution_count": 35,
   "id": "b7d9d643",
   "metadata": {
    "execution": {
     "iopub.execute_input": "2022-08-23T06:58:03.438183Z",
     "iopub.status.busy": "2022-08-23T06:58:03.437817Z",
     "iopub.status.idle": "2022-08-23T06:58:03.469858Z",
     "shell.execute_reply": "2022-08-23T06:58:03.468789Z"
    },
    "papermill": {
     "duration": 0.590212,
     "end_time": "2022-08-23T06:58:03.472270",
     "exception": false,
     "start_time": "2022-08-23T06:58:02.882058",
     "status": "completed"
    },
    "tags": []
   },
   "outputs": [
    {
     "data": {
      "text/html": [
       "<div>\n",
       "<style scoped>\n",
       "    .dataframe tbody tr th:only-of-type {\n",
       "        vertical-align: middle;\n",
       "    }\n",
       "\n",
       "    .dataframe tbody tr th {\n",
       "        vertical-align: top;\n",
       "    }\n",
       "\n",
       "    .dataframe thead th {\n",
       "        text-align: right;\n",
       "    }\n",
       "</style>\n",
       "<table border=\"1\" class=\"dataframe\">\n",
       "  <thead>\n",
       "    <tr style=\"text-align: right;\">\n",
       "      <th></th>\n",
       "      <th>index</th>\n",
       "      <th>M</th>\n",
       "      <th>efConstruction</th>\n",
       "      <th>efSearch</th>\n",
       "      <th>recall@1</th>\n",
       "      <th>recall@3</th>\n",
       "      <th>recall@5</th>\n",
       "      <th>train_time</th>\n",
       "      <th>index_time</th>\n",
       "      <th>search_time</th>\n",
       "      <th>index_size</th>\n",
       "    </tr>\n",
       "  </thead>\n",
       "  <tbody>\n",
       "    <tr>\n",
       "      <th>0</th>\n",
       "      <td>HNSW4,Flat</td>\n",
       "      <td>4</td>\n",
       "      <td>4.0</td>\n",
       "      <td>4.0</td>\n",
       "      <td>0.020</td>\n",
       "      <td>0.020</td>\n",
       "      <td>0.020</td>\n",
       "      <td>None</td>\n",
       "      <td>47.445714</td>\n",
       "      <td>0.051481</td>\n",
       "      <td>1684.00915</td>\n",
       "    </tr>\n",
       "    <tr>\n",
       "      <th>1</th>\n",
       "      <td>HNSW4,Flat</td>\n",
       "      <td>4</td>\n",
       "      <td>4.0</td>\n",
       "      <td>16.0</td>\n",
       "      <td>0.034</td>\n",
       "      <td>0.034</td>\n",
       "      <td>0.034</td>\n",
       "      <td>None</td>\n",
       "      <td>47.445714</td>\n",
       "      <td>0.087999</td>\n",
       "      <td>1684.00915</td>\n",
       "    </tr>\n",
       "    <tr>\n",
       "      <th>2</th>\n",
       "      <td>HNSW4,Flat</td>\n",
       "      <td>4</td>\n",
       "      <td>4.0</td>\n",
       "      <td>40.0</td>\n",
       "      <td>0.042</td>\n",
       "      <td>0.042</td>\n",
       "      <td>0.042</td>\n",
       "      <td>None</td>\n",
       "      <td>47.445714</td>\n",
       "      <td>0.140012</td>\n",
       "      <td>1684.00915</td>\n",
       "    </tr>\n",
       "    <tr>\n",
       "      <th>3</th>\n",
       "      <td>HNSW4,Flat</td>\n",
       "      <td>4</td>\n",
       "      <td>4.0</td>\n",
       "      <td>76.0</td>\n",
       "      <td>0.049</td>\n",
       "      <td>0.049</td>\n",
       "      <td>0.049</td>\n",
       "      <td>None</td>\n",
       "      <td>47.445714</td>\n",
       "      <td>0.110789</td>\n",
       "      <td>1684.00915</td>\n",
       "    </tr>\n",
       "    <tr>\n",
       "      <th>4</th>\n",
       "      <td>HNSW4,Flat</td>\n",
       "      <td>4</td>\n",
       "      <td>16.0</td>\n",
       "      <td>4.0</td>\n",
       "      <td>0.049</td>\n",
       "      <td>0.049</td>\n",
       "      <td>0.049</td>\n",
       "      <td>None</td>\n",
       "      <td>157.089970</td>\n",
       "      <td>0.047984</td>\n",
       "      <td>1684.00915</td>\n",
       "    </tr>\n",
       "    <tr>\n",
       "      <th>...</th>\n",
       "      <td>...</td>\n",
       "      <td>...</td>\n",
       "      <td>...</td>\n",
       "      <td>...</td>\n",
       "      <td>...</td>\n",
       "      <td>...</td>\n",
       "      <td>...</td>\n",
       "      <td>...</td>\n",
       "      <td>...</td>\n",
       "      <td>...</td>\n",
       "      <td>...</td>\n",
       "    </tr>\n",
       "    <tr>\n",
       "      <th>59</th>\n",
       "      <td>HNSW64,Flat</td>\n",
       "      <td>64</td>\n",
       "      <td>40.0</td>\n",
       "      <td>76.0</td>\n",
       "      <td>0.978</td>\n",
       "      <td>0.978</td>\n",
       "      <td>0.978</td>\n",
       "      <td>None</td>\n",
       "      <td>1086.318875</td>\n",
       "      <td>0.568675</td>\n",
       "      <td>3120.19375</td>\n",
       "    </tr>\n",
       "    <tr>\n",
       "      <th>60</th>\n",
       "      <td>HNSW64,Flat</td>\n",
       "      <td>64</td>\n",
       "      <td>76.0</td>\n",
       "      <td>4.0</td>\n",
       "      <td>0.738</td>\n",
       "      <td>0.738</td>\n",
       "      <td>0.738</td>\n",
       "      <td>None</td>\n",
       "      <td>2106.428173</td>\n",
       "      <td>0.099434</td>\n",
       "      <td>3120.19375</td>\n",
       "    </tr>\n",
       "    <tr>\n",
       "      <th>61</th>\n",
       "      <td>HNSW64,Flat</td>\n",
       "      <td>64</td>\n",
       "      <td>76.0</td>\n",
       "      <td>16.0</td>\n",
       "      <td>0.918</td>\n",
       "      <td>0.918</td>\n",
       "      <td>0.918</td>\n",
       "      <td>None</td>\n",
       "      <td>2106.428173</td>\n",
       "      <td>0.226479</td>\n",
       "      <td>3120.19375</td>\n",
       "    </tr>\n",
       "    <tr>\n",
       "      <th>62</th>\n",
       "      <td>HNSW64,Flat</td>\n",
       "      <td>64</td>\n",
       "      <td>76.0</td>\n",
       "      <td>40.0</td>\n",
       "      <td>0.970</td>\n",
       "      <td>0.970</td>\n",
       "      <td>0.970</td>\n",
       "      <td>None</td>\n",
       "      <td>2106.428173</td>\n",
       "      <td>0.429121</td>\n",
       "      <td>3120.19375</td>\n",
       "    </tr>\n",
       "    <tr>\n",
       "      <th>63</th>\n",
       "      <td>HNSW64,Flat</td>\n",
       "      <td>64</td>\n",
       "      <td>76.0</td>\n",
       "      <td>76.0</td>\n",
       "      <td>0.992</td>\n",
       "      <td>0.992</td>\n",
       "      <td>0.992</td>\n",
       "      <td>None</td>\n",
       "      <td>2106.428173</td>\n",
       "      <td>0.728727</td>\n",
       "      <td>3120.19375</td>\n",
       "    </tr>\n",
       "  </tbody>\n",
       "</table>\n",
       "<p>64 rows × 11 columns</p>\n",
       "</div>"
      ],
      "text/plain": [
       "          index   M  efConstruction  efSearch  recall@1  recall@3  recall@5  \\\n",
       "0    HNSW4,Flat   4             4.0       4.0     0.020     0.020     0.020   \n",
       "1    HNSW4,Flat   4             4.0      16.0     0.034     0.034     0.034   \n",
       "2    HNSW4,Flat   4             4.0      40.0     0.042     0.042     0.042   \n",
       "3    HNSW4,Flat   4             4.0      76.0     0.049     0.049     0.049   \n",
       "4    HNSW4,Flat   4            16.0       4.0     0.049     0.049     0.049   \n",
       "..          ...  ..             ...       ...       ...       ...       ...   \n",
       "59  HNSW64,Flat  64            40.0      76.0     0.978     0.978     0.978   \n",
       "60  HNSW64,Flat  64            76.0       4.0     0.738     0.738     0.738   \n",
       "61  HNSW64,Flat  64            76.0      16.0     0.918     0.918     0.918   \n",
       "62  HNSW64,Flat  64            76.0      40.0     0.970     0.970     0.970   \n",
       "63  HNSW64,Flat  64            76.0      76.0     0.992     0.992     0.992   \n",
       "\n",
       "   train_time   index_time  search_time  index_size  \n",
       "0        None    47.445714     0.051481  1684.00915  \n",
       "1        None    47.445714     0.087999  1684.00915  \n",
       "2        None    47.445714     0.140012  1684.00915  \n",
       "3        None    47.445714     0.110789  1684.00915  \n",
       "4        None   157.089970     0.047984  1684.00915  \n",
       "..        ...          ...          ...         ...  \n",
       "59       None  1086.318875     0.568675  3120.19375  \n",
       "60       None  2106.428173     0.099434  3120.19375  \n",
       "61       None  2106.428173     0.226479  3120.19375  \n",
       "62       None  2106.428173     0.429121  3120.19375  \n",
       "63       None  2106.428173     0.728727  3120.19375  \n",
       "\n",
       "[64 rows x 11 columns]"
      ]
     },
     "execution_count": 35,
     "metadata": {},
     "output_type": "execute_result"
    }
   ],
   "source": [
    "dfHNSW"
   ]
  },
  {
   "cell_type": "code",
   "execution_count": 36,
   "id": "6553b7dd",
   "metadata": {
    "execution": {
     "iopub.execute_input": "2022-08-23T06:58:04.772221Z",
     "iopub.status.busy": "2022-08-23T06:58:04.771586Z",
     "iopub.status.idle": "2022-08-23T06:58:04.794550Z",
     "shell.execute_reply": "2022-08-23T06:58:04.793530Z"
    },
    "papermill": {
     "duration": 0.601519,
     "end_time": "2022-08-23T06:58:04.797814",
     "exception": false,
     "start_time": "2022-08-23T06:58:04.196295",
     "status": "completed"
    },
    "tags": []
   },
   "outputs": [
    {
     "name": "stdout",
     "output_type": "stream",
     "text": [
      "<class 'pandas.core.frame.DataFrame'>\n",
      "RangeIndex: 64 entries, 0 to 63\n",
      "Data columns (total 11 columns):\n",
      " #   Column          Non-Null Count  Dtype  \n",
      "---  ------          --------------  -----  \n",
      " 0   index           64 non-null     object \n",
      " 1   M               64 non-null     object \n",
      " 2   efConstruction  64 non-null     float64\n",
      " 3   efSearch        64 non-null     float64\n",
      " 4   recall@1        64 non-null     float64\n",
      " 5   recall@3        64 non-null     float64\n",
      " 6   recall@5        64 non-null     float64\n",
      " 7   train_time      0 non-null      object \n",
      " 8   index_time      64 non-null     float64\n",
      " 9   search_time     64 non-null     float64\n",
      " 10  index_size      64 non-null     float64\n",
      "dtypes: float64(8), object(3)\n",
      "memory usage: 5.6+ KB\n"
     ]
    }
   ],
   "source": [
    "dfHNSW.info()"
   ]
  },
  {
   "cell_type": "code",
   "execution_count": 37,
   "id": "7e6b1ee6",
   "metadata": {
    "execution": {
     "iopub.execute_input": "2022-08-23T06:58:05.981796Z",
     "iopub.status.busy": "2022-08-23T06:58:05.981418Z",
     "iopub.status.idle": "2022-08-23T06:58:05.989443Z",
     "shell.execute_reply": "2022-08-23T06:58:05.988414Z"
    },
    "papermill": {
     "duration": 0.626694,
     "end_time": "2022-08-23T06:58:05.991798",
     "exception": false,
     "start_time": "2022-08-23T06:58:05.365104",
     "status": "completed"
    },
    "tags": []
   },
   "outputs": [],
   "source": [
    "dfHNSW[\"M\"] = dfHNSW[\"M\"].fillna(0.0).astype(int)\n",
    "dfHNSW[\"efConstruction\"] = dfHNSW[\"efConstruction\"].fillna(0.0).astype(int)\n",
    "dfHNSW[\"efSearch\"] = dfHNSW[\"efSearch\"].fillna(0.0).astype(int)"
   ]
  },
  {
   "cell_type": "code",
   "execution_count": 38,
   "id": "ffbd1f12",
   "metadata": {
    "execution": {
     "iopub.execute_input": "2022-08-23T06:58:07.110623Z",
     "iopub.status.busy": "2022-08-23T06:58:07.110256Z",
     "iopub.status.idle": "2022-08-23T06:58:07.203851Z",
     "shell.execute_reply": "2022-08-23T06:58:07.202777Z"
    },
    "papermill": {
     "duration": 0.659459,
     "end_time": "2022-08-23T06:58:07.206102",
     "exception": false,
     "start_time": "2022-08-23T06:58:06.546643",
     "status": "completed"
    },
    "tags": []
   },
   "outputs": [
    {
     "name": "stderr",
     "output_type": "stream",
     "text": [
      "/opt/conda/lib/python3.7/site-packages/plotly/graph_objs/_deprecations.py:385: DeprecationWarning:\n",
      "\n",
      "plotly.graph_objs.Line is deprecated.\n",
      "Please replace it with one of the following more specific types\n",
      "  - plotly.graph_objs.scatter.Line\n",
      "  - plotly.graph_objs.layout.shape.Line\n",
      "  - etc.\n",
      "\n",
      "\n"
     ]
    },
    {
     "data": {
      "text/html": [
       "<div>                            <div id=\"b67d5ed8-0e88-4adb-8eda-f3f4fe3f12b7\" class=\"plotly-graph-div\" style=\"height:350px; width:700px;\"></div>            <script type=\"text/javascript\">                require([\"plotly\"], function(Plotly) {                    window.PLOTLYENV=window.PLOTLYENV || {};                                    if (document.getElementById(\"b67d5ed8-0e88-4adb-8eda-f3f4fe3f12b7\")) {                    Plotly.newPlot(                        \"b67d5ed8-0e88-4adb-8eda-f3f4fe3f12b7\",                        [{\"line\":{\"color\":\"#DC3912\",\"width\":3},\"x\":[4,4,4,4,4,4,4,4,4,4,4,4,4,4,4,4,16,16,16,16,16,16,16,16,16,16,16,16,16,16,16,16,32,32,32,32,32,32,32,32,32,32,32,32,32,32,32,32,64,64,64,64,64,64,64,64,64,64,64,64,64,64,64,64],\"y\":[1684.0091499999999,1684.0091499999999,1684.0091499999999,1684.0091499999999,1684.0091499999999,1684.0091499999999,1684.0091499999999,1684.0091499999999,1684.0091499999999,1684.0091499999999,1684.0091499999999,1684.0091499999999,1684.0091499999999,1684.0091499999999,1684.0091499999999,1684.0091499999999,1968.8076099999998,1968.8076099999998,1968.8076099999998,1968.8076099999998,1968.8076099999998,1968.8076099999998,1968.8076099999998,1968.8076099999998,1968.8076099999998,1968.8076099999998,1968.8076099999998,1968.8076099999998,1968.8076099999998,1968.8076099999998,1968.8076099999998,1968.8076099999998,2352.4245459999997,2352.4245459999997,2352.4245459999997,2352.4245459999997,2352.4245459999997,2352.4245459999997,2352.4245459999997,2352.4245459999997,2352.4245459999997,2352.4245459999997,2352.4245459999997,2352.4245459999997,2352.4245459999997,2352.4245459999997,2352.4245459999997,2352.4245459999997,3120.19375,3120.19375,3120.19375,3120.19375,3120.19375,3120.19375,3120.19375,3120.19375,3120.19375,3120.19375,3120.19375,3120.19375,3120.19375,3120.19375,3120.19375,3120.19375],\"type\":\"scatter\",\"xaxis\":\"x\",\"yaxis\":\"y\"},{\"line\":{\"color\":\"rgb(82, 188, 163)\",\"width\":3},\"x\":[4,4,4,4,16,16,16,16,32,32,32,32,64,64,64,64],\"y\":[326.1638009548187,326.1638009548187,326.1638009548187,326.1638009548187,497.4599633216858,497.4599633216858,497.4599633216858,497.4599633216858,836.7941265106201,836.7941265106201,836.7941265106201,836.7941265106201,1086.3188750743866,1086.3188750743866,1086.3188750743866,1086.3188750743866],\"type\":\"scatter\",\"xaxis\":\"x2\",\"yaxis\":\"y2\"}],                        {\"template\":{\"data\":{\"barpolar\":[{\"marker\":{\"line\":{\"color\":\"white\",\"width\":0.5},\"pattern\":{\"fillmode\":\"overlay\",\"size\":10,\"solidity\":0.2}},\"type\":\"barpolar\"}],\"bar\":[{\"error_x\":{\"color\":\"rgb(36,36,36)\"},\"error_y\":{\"color\":\"rgb(36,36,36)\"},\"marker\":{\"line\":{\"color\":\"white\",\"width\":0.5},\"pattern\":{\"fillmode\":\"overlay\",\"size\":10,\"solidity\":0.2}},\"type\":\"bar\"}],\"carpet\":[{\"aaxis\":{\"endlinecolor\":\"rgb(36,36,36)\",\"gridcolor\":\"white\",\"linecolor\":\"white\",\"minorgridcolor\":\"white\",\"startlinecolor\":\"rgb(36,36,36)\"},\"baxis\":{\"endlinecolor\":\"rgb(36,36,36)\",\"gridcolor\":\"white\",\"linecolor\":\"white\",\"minorgridcolor\":\"white\",\"startlinecolor\":\"rgb(36,36,36)\"},\"type\":\"carpet\"}],\"choropleth\":[{\"colorbar\":{\"outlinewidth\":1,\"tickcolor\":\"rgb(36,36,36)\",\"ticks\":\"outside\"},\"type\":\"choropleth\"}],\"contourcarpet\":[{\"colorbar\":{\"outlinewidth\":1,\"tickcolor\":\"rgb(36,36,36)\",\"ticks\":\"outside\"},\"type\":\"contourcarpet\"}],\"contour\":[{\"colorbar\":{\"outlinewidth\":1,\"tickcolor\":\"rgb(36,36,36)\",\"ticks\":\"outside\"},\"colorscale\":[[0.0,\"#440154\"],[0.1111111111111111,\"#482878\"],[0.2222222222222222,\"#3e4989\"],[0.3333333333333333,\"#31688e\"],[0.4444444444444444,\"#26828e\"],[0.5555555555555556,\"#1f9e89\"],[0.6666666666666666,\"#35b779\"],[0.7777777777777778,\"#6ece58\"],[0.8888888888888888,\"#b5de2b\"],[1.0,\"#fde725\"]],\"type\":\"contour\"}],\"heatmapgl\":[{\"colorbar\":{\"outlinewidth\":1,\"tickcolor\":\"rgb(36,36,36)\",\"ticks\":\"outside\"},\"colorscale\":[[0.0,\"#440154\"],[0.1111111111111111,\"#482878\"],[0.2222222222222222,\"#3e4989\"],[0.3333333333333333,\"#31688e\"],[0.4444444444444444,\"#26828e\"],[0.5555555555555556,\"#1f9e89\"],[0.6666666666666666,\"#35b779\"],[0.7777777777777778,\"#6ece58\"],[0.8888888888888888,\"#b5de2b\"],[1.0,\"#fde725\"]],\"type\":\"heatmapgl\"}],\"heatmap\":[{\"colorbar\":{\"outlinewidth\":1,\"tickcolor\":\"rgb(36,36,36)\",\"ticks\":\"outside\"},\"colorscale\":[[0.0,\"#440154\"],[0.1111111111111111,\"#482878\"],[0.2222222222222222,\"#3e4989\"],[0.3333333333333333,\"#31688e\"],[0.4444444444444444,\"#26828e\"],[0.5555555555555556,\"#1f9e89\"],[0.6666666666666666,\"#35b779\"],[0.7777777777777778,\"#6ece58\"],[0.8888888888888888,\"#b5de2b\"],[1.0,\"#fde725\"]],\"type\":\"heatmap\"}],\"histogram2dcontour\":[{\"colorbar\":{\"outlinewidth\":1,\"tickcolor\":\"rgb(36,36,36)\",\"ticks\":\"outside\"},\"colorscale\":[[0.0,\"#440154\"],[0.1111111111111111,\"#482878\"],[0.2222222222222222,\"#3e4989\"],[0.3333333333333333,\"#31688e\"],[0.4444444444444444,\"#26828e\"],[0.5555555555555556,\"#1f9e89\"],[0.6666666666666666,\"#35b779\"],[0.7777777777777778,\"#6ece58\"],[0.8888888888888888,\"#b5de2b\"],[1.0,\"#fde725\"]],\"type\":\"histogram2dcontour\"}],\"histogram2d\":[{\"colorbar\":{\"outlinewidth\":1,\"tickcolor\":\"rgb(36,36,36)\",\"ticks\":\"outside\"},\"colorscale\":[[0.0,\"#440154\"],[0.1111111111111111,\"#482878\"],[0.2222222222222222,\"#3e4989\"],[0.3333333333333333,\"#31688e\"],[0.4444444444444444,\"#26828e\"],[0.5555555555555556,\"#1f9e89\"],[0.6666666666666666,\"#35b779\"],[0.7777777777777778,\"#6ece58\"],[0.8888888888888888,\"#b5de2b\"],[1.0,\"#fde725\"]],\"type\":\"histogram2d\"}],\"histogram\":[{\"marker\":{\"line\":{\"color\":\"white\",\"width\":0.6}},\"type\":\"histogram\"}],\"mesh3d\":[{\"colorbar\":{\"outlinewidth\":1,\"tickcolor\":\"rgb(36,36,36)\",\"ticks\":\"outside\"},\"type\":\"mesh3d\"}],\"parcoords\":[{\"line\":{\"colorbar\":{\"outlinewidth\":1,\"tickcolor\":\"rgb(36,36,36)\",\"ticks\":\"outside\"}},\"type\":\"parcoords\"}],\"pie\":[{\"automargin\":true,\"type\":\"pie\"}],\"scatter3d\":[{\"line\":{\"colorbar\":{\"outlinewidth\":1,\"tickcolor\":\"rgb(36,36,36)\",\"ticks\":\"outside\"}},\"marker\":{\"colorbar\":{\"outlinewidth\":1,\"tickcolor\":\"rgb(36,36,36)\",\"ticks\":\"outside\"}},\"type\":\"scatter3d\"}],\"scattercarpet\":[{\"marker\":{\"colorbar\":{\"outlinewidth\":1,\"tickcolor\":\"rgb(36,36,36)\",\"ticks\":\"outside\"}},\"type\":\"scattercarpet\"}],\"scattergeo\":[{\"marker\":{\"colorbar\":{\"outlinewidth\":1,\"tickcolor\":\"rgb(36,36,36)\",\"ticks\":\"outside\"}},\"type\":\"scattergeo\"}],\"scattergl\":[{\"marker\":{\"colorbar\":{\"outlinewidth\":1,\"tickcolor\":\"rgb(36,36,36)\",\"ticks\":\"outside\"}},\"type\":\"scattergl\"}],\"scattermapbox\":[{\"marker\":{\"colorbar\":{\"outlinewidth\":1,\"tickcolor\":\"rgb(36,36,36)\",\"ticks\":\"outside\"}},\"type\":\"scattermapbox\"}],\"scatterpolargl\":[{\"marker\":{\"colorbar\":{\"outlinewidth\":1,\"tickcolor\":\"rgb(36,36,36)\",\"ticks\":\"outside\"}},\"type\":\"scatterpolargl\"}],\"scatterpolar\":[{\"marker\":{\"colorbar\":{\"outlinewidth\":1,\"tickcolor\":\"rgb(36,36,36)\",\"ticks\":\"outside\"}},\"type\":\"scatterpolar\"}],\"scatter\":[{\"fillpattern\":{\"fillmode\":\"overlay\",\"size\":10,\"solidity\":0.2},\"type\":\"scatter\"}],\"scatterternary\":[{\"marker\":{\"colorbar\":{\"outlinewidth\":1,\"tickcolor\":\"rgb(36,36,36)\",\"ticks\":\"outside\"}},\"type\":\"scatterternary\"}],\"surface\":[{\"colorbar\":{\"outlinewidth\":1,\"tickcolor\":\"rgb(36,36,36)\",\"ticks\":\"outside\"},\"colorscale\":[[0.0,\"#440154\"],[0.1111111111111111,\"#482878\"],[0.2222222222222222,\"#3e4989\"],[0.3333333333333333,\"#31688e\"],[0.4444444444444444,\"#26828e\"],[0.5555555555555556,\"#1f9e89\"],[0.6666666666666666,\"#35b779\"],[0.7777777777777778,\"#6ece58\"],[0.8888888888888888,\"#b5de2b\"],[1.0,\"#fde725\"]],\"type\":\"surface\"}],\"table\":[{\"cells\":{\"fill\":{\"color\":\"rgb(237,237,237)\"},\"line\":{\"color\":\"white\"}},\"header\":{\"fill\":{\"color\":\"rgb(217,217,217)\"},\"line\":{\"color\":\"white\"}},\"type\":\"table\"}]},\"layout\":{\"annotationdefaults\":{\"arrowhead\":0,\"arrowwidth\":1},\"autotypenumbers\":\"strict\",\"coloraxis\":{\"colorbar\":{\"outlinewidth\":1,\"tickcolor\":\"rgb(36,36,36)\",\"ticks\":\"outside\"}},\"colorscale\":{\"diverging\":[[0.0,\"rgb(103,0,31)\"],[0.1,\"rgb(178,24,43)\"],[0.2,\"rgb(214,96,77)\"],[0.3,\"rgb(244,165,130)\"],[0.4,\"rgb(253,219,199)\"],[0.5,\"rgb(247,247,247)\"],[0.6,\"rgb(209,229,240)\"],[0.7,\"rgb(146,197,222)\"],[0.8,\"rgb(67,147,195)\"],[0.9,\"rgb(33,102,172)\"],[1.0,\"rgb(5,48,97)\"]],\"sequential\":[[0.0,\"#440154\"],[0.1111111111111111,\"#482878\"],[0.2222222222222222,\"#3e4989\"],[0.3333333333333333,\"#31688e\"],[0.4444444444444444,\"#26828e\"],[0.5555555555555556,\"#1f9e89\"],[0.6666666666666666,\"#35b779\"],[0.7777777777777778,\"#6ece58\"],[0.8888888888888888,\"#b5de2b\"],[1.0,\"#fde725\"]],\"sequentialminus\":[[0.0,\"#440154\"],[0.1111111111111111,\"#482878\"],[0.2222222222222222,\"#3e4989\"],[0.3333333333333333,\"#31688e\"],[0.4444444444444444,\"#26828e\"],[0.5555555555555556,\"#1f9e89\"],[0.6666666666666666,\"#35b779\"],[0.7777777777777778,\"#6ece58\"],[0.8888888888888888,\"#b5de2b\"],[1.0,\"#fde725\"]]},\"colorway\":[\"#1F77B4\",\"#FF7F0E\",\"#2CA02C\",\"#D62728\",\"#9467BD\",\"#8C564B\",\"#E377C2\",\"#7F7F7F\",\"#BCBD22\",\"#17BECF\"],\"font\":{\"color\":\"rgb(36,36,36)\"},\"geo\":{\"bgcolor\":\"white\",\"lakecolor\":\"white\",\"landcolor\":\"white\",\"showlakes\":true,\"showland\":true,\"subunitcolor\":\"white\"},\"hoverlabel\":{\"align\":\"left\"},\"hovermode\":\"closest\",\"mapbox\":{\"style\":\"light\"},\"paper_bgcolor\":\"white\",\"plot_bgcolor\":\"white\",\"polar\":{\"angularaxis\":{\"gridcolor\":\"rgb(232,232,232)\",\"linecolor\":\"rgb(36,36,36)\",\"showgrid\":false,\"showline\":true,\"ticks\":\"outside\"},\"bgcolor\":\"white\",\"radialaxis\":{\"gridcolor\":\"rgb(232,232,232)\",\"linecolor\":\"rgb(36,36,36)\",\"showgrid\":false,\"showline\":true,\"ticks\":\"outside\"}},\"scene\":{\"xaxis\":{\"backgroundcolor\":\"white\",\"gridcolor\":\"rgb(232,232,232)\",\"gridwidth\":2,\"linecolor\":\"rgb(36,36,36)\",\"showbackground\":true,\"showgrid\":false,\"showline\":true,\"ticks\":\"outside\",\"zeroline\":false,\"zerolinecolor\":\"rgb(36,36,36)\"},\"yaxis\":{\"backgroundcolor\":\"white\",\"gridcolor\":\"rgb(232,232,232)\",\"gridwidth\":2,\"linecolor\":\"rgb(36,36,36)\",\"showbackground\":true,\"showgrid\":false,\"showline\":true,\"ticks\":\"outside\",\"zeroline\":false,\"zerolinecolor\":\"rgb(36,36,36)\"},\"zaxis\":{\"backgroundcolor\":\"white\",\"gridcolor\":\"rgb(232,232,232)\",\"gridwidth\":2,\"linecolor\":\"rgb(36,36,36)\",\"showbackground\":true,\"showgrid\":false,\"showline\":true,\"ticks\":\"outside\",\"zeroline\":false,\"zerolinecolor\":\"rgb(36,36,36)\"}},\"shapedefaults\":{\"fillcolor\":\"black\",\"line\":{\"width\":0},\"opacity\":0.3},\"ternary\":{\"aaxis\":{\"gridcolor\":\"rgb(232,232,232)\",\"linecolor\":\"rgb(36,36,36)\",\"showgrid\":false,\"showline\":true,\"ticks\":\"outside\"},\"baxis\":{\"gridcolor\":\"rgb(232,232,232)\",\"linecolor\":\"rgb(36,36,36)\",\"showgrid\":false,\"showline\":true,\"ticks\":\"outside\"},\"bgcolor\":\"white\",\"caxis\":{\"gridcolor\":\"rgb(232,232,232)\",\"linecolor\":\"rgb(36,36,36)\",\"showgrid\":false,\"showline\":true,\"ticks\":\"outside\"}},\"title\":{\"x\":0.05},\"xaxis\":{\"automargin\":true,\"gridcolor\":\"rgb(232,232,232)\",\"linecolor\":\"rgb(36,36,36)\",\"showgrid\":false,\"showline\":true,\"ticks\":\"outside\",\"title\":{\"standoff\":15},\"zeroline\":false,\"zerolinecolor\":\"rgb(36,36,36)\"},\"yaxis\":{\"automargin\":true,\"gridcolor\":\"rgb(232,232,232)\",\"linecolor\":\"rgb(36,36,36)\",\"showgrid\":false,\"showline\":true,\"ticks\":\"outside\",\"title\":{\"standoff\":15},\"zeroline\":false,\"zerolinecolor\":\"rgb(36,36,36)\"}}},\"xaxis\":{\"anchor\":\"y\",\"domain\":[0.0,0.4],\"title\":{\"text\":\"M\"},\"ticks\":\"\",\"linecolor\":\"darkgrey\"},\"yaxis\":{\"anchor\":\"x\",\"domain\":[0.0,1.0],\"title\":{\"text\":\"index size (MB)\"},\"ticks\":\"\",\"linecolor\":\"darkgrey\"},\"xaxis2\":{\"anchor\":\"y2\",\"domain\":[0.6000000000000001,1.0],\"title\":{\"text\":\"M\"},\"ticks\":\"\",\"linecolor\":\"darkgrey\"},\"yaxis2\":{\"anchor\":\"x2\",\"domain\":[0.0,1.0],\"title\":{\"text\":\"construction time (s)\"},\"ticks\":\"\",\"linecolor\":\"darkgrey\"},\"title\":{\"text\":\"\"},\"height\":350,\"width\":700,\"showlegend\":false},                        {\"responsive\": true}                    ).then(function(){\n",
       "                            \n",
       "var gd = document.getElementById('b67d5ed8-0e88-4adb-8eda-f3f4fe3f12b7');\n",
       "var x = new MutationObserver(function (mutations, observer) {{\n",
       "        var display = window.getComputedStyle(gd).display;\n",
       "        if (!display || display === 'none') {{\n",
       "            console.log([gd, 'removed!']);\n",
       "            Plotly.purge(gd);\n",
       "            observer.disconnect();\n",
       "        }}\n",
       "}});\n",
       "\n",
       "// Listen for the removal of the full notebook cells\n",
       "var notebookContainer = gd.closest('#notebook-container');\n",
       "if (notebookContainer) {{\n",
       "    x.observe(notebookContainer, {childList: true});\n",
       "}}\n",
       "\n",
       "// Listen for the clearing of the current output cell\n",
       "var outputEl = gd.closest('.output');\n",
       "if (outputEl) {{\n",
       "    x.observe(outputEl, {childList: true});\n",
       "}}\n",
       "\n",
       "                        })                };                });            </script>        </div>"
      ]
     },
     "metadata": {},
     "output_type": "display_data"
    }
   ],
   "source": [
    "fig = make_subplots(rows=1, cols=2, horizontal_spacing = 0.2)\n",
    "           \n",
    "fig.add_trace(go.Line(x=dfHNSW['M'], y=dfHNSW['index_size'], line=dict(color='#DC3912', width=3)),\n",
    "              row=1, col=1\n",
    "             )         \n",
    "fig.add_trace(go.Line(x=dfHNSW[dfHNSW[\"efConstruction\"]==40][\"M\"].values, \n",
    "                      y=dfHNSW[dfHNSW[\"efConstruction\"]==40][\"index_time\"].values,                       \n",
    "                      line=dict(color='rgb(82, 188, 163)', width=3)),\n",
    "              row=1, col=2\n",
    "             )   \n",
    "fig.update_xaxes(title_text=\"M\", row=1, col=1, ticks=\"\", linecolor='darkgrey')  # range=[0, 65], tick0=0.0, dtick=10, \n",
    "fig.update_xaxes(title_text=\"M\", row=1, col=2, ticks=\"\", linecolor='darkgrey')\n",
    "fig.update_yaxes(title_text=\"index size (MB)\", row=1, col=1, ticks=\"\", linecolor='darkgrey')\n",
    "fig.update_yaxes(title_text=\"construction time (s)\", row=1, col=2, ticks=\"\", linecolor='darkgrey')\n",
    "fig.update_layout(height=350, width=700, template=\"simple_white\", showlegend=False, title_text=\"\")#, title_x=0.5)\n",
    "# fig.update_traces(mode='lines+markers', )\n",
    "fig.show()\n",
    "fig.write_html(\"Hflat_M_indexsize_indextime.html\")"
   ]
  },
  {
   "cell_type": "code",
   "execution_count": 39,
   "id": "c5b5c0c1",
   "metadata": {
    "execution": {
     "iopub.execute_input": "2022-08-23T06:58:08.369130Z",
     "iopub.status.busy": "2022-08-23T06:58:08.368031Z",
     "iopub.status.idle": "2022-08-23T06:58:08.457743Z",
     "shell.execute_reply": "2022-08-23T06:58:08.456434Z"
    },
    "papermill": {
     "duration": 0.641858,
     "end_time": "2022-08-23T06:58:08.460146",
     "exception": false,
     "start_time": "2022-08-23T06:58:07.818288",
     "status": "completed"
    },
    "tags": []
   },
   "outputs": [
    {
     "data": {
      "text/html": [
       "<div>                            <div id=\"15f3383b-22b0-41d8-b33f-2aa7b7f438ed\" class=\"plotly-graph-div\" style=\"height:350px; width:600px;\"></div>            <script type=\"text/javascript\">                require([\"plotly\"], function(Plotly) {                    window.PLOTLYENV=window.PLOTLYENV || {};                                    if (document.getElementById(\"15f3383b-22b0-41d8-b33f-2aa7b7f438ed\")) {                    Plotly.newPlot(                        \"15f3383b-22b0-41d8-b33f-2aa7b7f438ed\",                        [{\"hovertemplate\":\"efConstruction=4<br>M=%{x}<br>index size (MB)=%{y}<extra></extra>\",\"legendgroup\":\"4\",\"line\":{\"color\":\"rgb(229, 134, 6)\",\"dash\":\"solid\"},\"marker\":{\"symbol\":\"circle\"},\"mode\":\"markers+lines\",\"name\":\"4\",\"orientation\":\"v\",\"showlegend\":true,\"x\":[4,4,4,4,16,16,16,16,32,32,32,32,64,64,64,64],\"xaxis\":\"x\",\"y\":[1684.0091499999999,1684.0091499999999,1684.0091499999999,1684.0091499999999,1968.8076099999998,1968.8076099999998,1968.8076099999998,1968.8076099999998,2352.4245459999997,2352.4245459999997,2352.4245459999997,2352.4245459999997,3120.19375,3120.19375,3120.19375,3120.19375],\"yaxis\":\"y\",\"type\":\"scatter\"},{\"hovertemplate\":\"efConstruction=16<br>M=%{x}<br>index size (MB)=%{y}<extra></extra>\",\"legendgroup\":\"16\",\"line\":{\"color\":\"rgb(93, 105, 177)\",\"dash\":\"solid\"},\"marker\":{\"symbol\":\"circle\"},\"mode\":\"markers+lines\",\"name\":\"16\",\"orientation\":\"v\",\"showlegend\":true,\"x\":[4,4,4,4,16,16,16,16,32,32,32,32,64,64,64,64],\"xaxis\":\"x\",\"y\":[1684.0091499999999,1684.0091499999999,1684.0091499999999,1684.0091499999999,1968.8076099999998,1968.8076099999998,1968.8076099999998,1968.8076099999998,2352.4245459999997,2352.4245459999997,2352.4245459999997,2352.4245459999997,3120.19375,3120.19375,3120.19375,3120.19375],\"yaxis\":\"y\",\"type\":\"scatter\"},{\"hovertemplate\":\"efConstruction=40<br>M=%{x}<br>index size (MB)=%{y}<extra></extra>\",\"legendgroup\":\"40\",\"line\":{\"color\":\"rgb(82, 188, 163)\",\"dash\":\"solid\"},\"marker\":{\"symbol\":\"circle\"},\"mode\":\"markers+lines\",\"name\":\"40\",\"orientation\":\"v\",\"showlegend\":true,\"x\":[4,4,4,4,16,16,16,16,32,32,32,32,64,64,64,64],\"xaxis\":\"x\",\"y\":[1684.0091499999999,1684.0091499999999,1684.0091499999999,1684.0091499999999,1968.8076099999998,1968.8076099999998,1968.8076099999998,1968.8076099999998,2352.4245459999997,2352.4245459999997,2352.4245459999997,2352.4245459999997,3120.19375,3120.19375,3120.19375,3120.19375],\"yaxis\":\"y\",\"type\":\"scatter\"},{\"hovertemplate\":\"efConstruction=76<br>M=%{x}<br>index size (MB)=%{y}<extra></extra>\",\"legendgroup\":\"76\",\"line\":{\"color\":\"rgb(153, 201, 69)\",\"dash\":\"solid\"},\"marker\":{\"symbol\":\"circle\"},\"mode\":\"markers+lines\",\"name\":\"76\",\"orientation\":\"v\",\"showlegend\":true,\"x\":[4,4,4,4,16,16,16,16,32,32,32,32,64,64,64,64],\"xaxis\":\"x\",\"y\":[1684.0091499999999,1684.0091499999999,1684.0091499999999,1684.0091499999999,1968.8076099999998,1968.8076099999998,1968.8076099999998,1968.8076099999998,2352.4245459999997,2352.4245459999997,2352.4245459999997,2352.4245459999997,3120.19375,3120.19375,3120.19375,3120.19375],\"yaxis\":\"y\",\"type\":\"scatter\"}],                        {\"template\":{\"data\":{\"barpolar\":[{\"marker\":{\"line\":{\"color\":\"white\",\"width\":0.5},\"pattern\":{\"fillmode\":\"overlay\",\"size\":10,\"solidity\":0.2}},\"type\":\"barpolar\"}],\"bar\":[{\"error_x\":{\"color\":\"rgb(36,36,36)\"},\"error_y\":{\"color\":\"rgb(36,36,36)\"},\"marker\":{\"line\":{\"color\":\"white\",\"width\":0.5},\"pattern\":{\"fillmode\":\"overlay\",\"size\":10,\"solidity\":0.2}},\"type\":\"bar\"}],\"carpet\":[{\"aaxis\":{\"endlinecolor\":\"rgb(36,36,36)\",\"gridcolor\":\"white\",\"linecolor\":\"white\",\"minorgridcolor\":\"white\",\"startlinecolor\":\"rgb(36,36,36)\"},\"baxis\":{\"endlinecolor\":\"rgb(36,36,36)\",\"gridcolor\":\"white\",\"linecolor\":\"white\",\"minorgridcolor\":\"white\",\"startlinecolor\":\"rgb(36,36,36)\"},\"type\":\"carpet\"}],\"choropleth\":[{\"colorbar\":{\"outlinewidth\":1,\"tickcolor\":\"rgb(36,36,36)\",\"ticks\":\"outside\"},\"type\":\"choropleth\"}],\"contourcarpet\":[{\"colorbar\":{\"outlinewidth\":1,\"tickcolor\":\"rgb(36,36,36)\",\"ticks\":\"outside\"},\"type\":\"contourcarpet\"}],\"contour\":[{\"colorbar\":{\"outlinewidth\":1,\"tickcolor\":\"rgb(36,36,36)\",\"ticks\":\"outside\"},\"colorscale\":[[0.0,\"#440154\"],[0.1111111111111111,\"#482878\"],[0.2222222222222222,\"#3e4989\"],[0.3333333333333333,\"#31688e\"],[0.4444444444444444,\"#26828e\"],[0.5555555555555556,\"#1f9e89\"],[0.6666666666666666,\"#35b779\"],[0.7777777777777778,\"#6ece58\"],[0.8888888888888888,\"#b5de2b\"],[1.0,\"#fde725\"]],\"type\":\"contour\"}],\"heatmapgl\":[{\"colorbar\":{\"outlinewidth\":1,\"tickcolor\":\"rgb(36,36,36)\",\"ticks\":\"outside\"},\"colorscale\":[[0.0,\"#440154\"],[0.1111111111111111,\"#482878\"],[0.2222222222222222,\"#3e4989\"],[0.3333333333333333,\"#31688e\"],[0.4444444444444444,\"#26828e\"],[0.5555555555555556,\"#1f9e89\"],[0.6666666666666666,\"#35b779\"],[0.7777777777777778,\"#6ece58\"],[0.8888888888888888,\"#b5de2b\"],[1.0,\"#fde725\"]],\"type\":\"heatmapgl\"}],\"heatmap\":[{\"colorbar\":{\"outlinewidth\":1,\"tickcolor\":\"rgb(36,36,36)\",\"ticks\":\"outside\"},\"colorscale\":[[0.0,\"#440154\"],[0.1111111111111111,\"#482878\"],[0.2222222222222222,\"#3e4989\"],[0.3333333333333333,\"#31688e\"],[0.4444444444444444,\"#26828e\"],[0.5555555555555556,\"#1f9e89\"],[0.6666666666666666,\"#35b779\"],[0.7777777777777778,\"#6ece58\"],[0.8888888888888888,\"#b5de2b\"],[1.0,\"#fde725\"]],\"type\":\"heatmap\"}],\"histogram2dcontour\":[{\"colorbar\":{\"outlinewidth\":1,\"tickcolor\":\"rgb(36,36,36)\",\"ticks\":\"outside\"},\"colorscale\":[[0.0,\"#440154\"],[0.1111111111111111,\"#482878\"],[0.2222222222222222,\"#3e4989\"],[0.3333333333333333,\"#31688e\"],[0.4444444444444444,\"#26828e\"],[0.5555555555555556,\"#1f9e89\"],[0.6666666666666666,\"#35b779\"],[0.7777777777777778,\"#6ece58\"],[0.8888888888888888,\"#b5de2b\"],[1.0,\"#fde725\"]],\"type\":\"histogram2dcontour\"}],\"histogram2d\":[{\"colorbar\":{\"outlinewidth\":1,\"tickcolor\":\"rgb(36,36,36)\",\"ticks\":\"outside\"},\"colorscale\":[[0.0,\"#440154\"],[0.1111111111111111,\"#482878\"],[0.2222222222222222,\"#3e4989\"],[0.3333333333333333,\"#31688e\"],[0.4444444444444444,\"#26828e\"],[0.5555555555555556,\"#1f9e89\"],[0.6666666666666666,\"#35b779\"],[0.7777777777777778,\"#6ece58\"],[0.8888888888888888,\"#b5de2b\"],[1.0,\"#fde725\"]],\"type\":\"histogram2d\"}],\"histogram\":[{\"marker\":{\"line\":{\"color\":\"white\",\"width\":0.6}},\"type\":\"histogram\"}],\"mesh3d\":[{\"colorbar\":{\"outlinewidth\":1,\"tickcolor\":\"rgb(36,36,36)\",\"ticks\":\"outside\"},\"type\":\"mesh3d\"}],\"parcoords\":[{\"line\":{\"colorbar\":{\"outlinewidth\":1,\"tickcolor\":\"rgb(36,36,36)\",\"ticks\":\"outside\"}},\"type\":\"parcoords\"}],\"pie\":[{\"automargin\":true,\"type\":\"pie\"}],\"scatter3d\":[{\"line\":{\"colorbar\":{\"outlinewidth\":1,\"tickcolor\":\"rgb(36,36,36)\",\"ticks\":\"outside\"}},\"marker\":{\"colorbar\":{\"outlinewidth\":1,\"tickcolor\":\"rgb(36,36,36)\",\"ticks\":\"outside\"}},\"type\":\"scatter3d\"}],\"scattercarpet\":[{\"marker\":{\"colorbar\":{\"outlinewidth\":1,\"tickcolor\":\"rgb(36,36,36)\",\"ticks\":\"outside\"}},\"type\":\"scattercarpet\"}],\"scattergeo\":[{\"marker\":{\"colorbar\":{\"outlinewidth\":1,\"tickcolor\":\"rgb(36,36,36)\",\"ticks\":\"outside\"}},\"type\":\"scattergeo\"}],\"scattergl\":[{\"marker\":{\"colorbar\":{\"outlinewidth\":1,\"tickcolor\":\"rgb(36,36,36)\",\"ticks\":\"outside\"}},\"type\":\"scattergl\"}],\"scattermapbox\":[{\"marker\":{\"colorbar\":{\"outlinewidth\":1,\"tickcolor\":\"rgb(36,36,36)\",\"ticks\":\"outside\"}},\"type\":\"scattermapbox\"}],\"scatterpolargl\":[{\"marker\":{\"colorbar\":{\"outlinewidth\":1,\"tickcolor\":\"rgb(36,36,36)\",\"ticks\":\"outside\"}},\"type\":\"scatterpolargl\"}],\"scatterpolar\":[{\"marker\":{\"colorbar\":{\"outlinewidth\":1,\"tickcolor\":\"rgb(36,36,36)\",\"ticks\":\"outside\"}},\"type\":\"scatterpolar\"}],\"scatter\":[{\"fillpattern\":{\"fillmode\":\"overlay\",\"size\":10,\"solidity\":0.2},\"type\":\"scatter\"}],\"scatterternary\":[{\"marker\":{\"colorbar\":{\"outlinewidth\":1,\"tickcolor\":\"rgb(36,36,36)\",\"ticks\":\"outside\"}},\"type\":\"scatterternary\"}],\"surface\":[{\"colorbar\":{\"outlinewidth\":1,\"tickcolor\":\"rgb(36,36,36)\",\"ticks\":\"outside\"},\"colorscale\":[[0.0,\"#440154\"],[0.1111111111111111,\"#482878\"],[0.2222222222222222,\"#3e4989\"],[0.3333333333333333,\"#31688e\"],[0.4444444444444444,\"#26828e\"],[0.5555555555555556,\"#1f9e89\"],[0.6666666666666666,\"#35b779\"],[0.7777777777777778,\"#6ece58\"],[0.8888888888888888,\"#b5de2b\"],[1.0,\"#fde725\"]],\"type\":\"surface\"}],\"table\":[{\"cells\":{\"fill\":{\"color\":\"rgb(237,237,237)\"},\"line\":{\"color\":\"white\"}},\"header\":{\"fill\":{\"color\":\"rgb(217,217,217)\"},\"line\":{\"color\":\"white\"}},\"type\":\"table\"}]},\"layout\":{\"annotationdefaults\":{\"arrowhead\":0,\"arrowwidth\":1},\"autotypenumbers\":\"strict\",\"coloraxis\":{\"colorbar\":{\"outlinewidth\":1,\"tickcolor\":\"rgb(36,36,36)\",\"ticks\":\"outside\"}},\"colorscale\":{\"diverging\":[[0.0,\"rgb(103,0,31)\"],[0.1,\"rgb(178,24,43)\"],[0.2,\"rgb(214,96,77)\"],[0.3,\"rgb(244,165,130)\"],[0.4,\"rgb(253,219,199)\"],[0.5,\"rgb(247,247,247)\"],[0.6,\"rgb(209,229,240)\"],[0.7,\"rgb(146,197,222)\"],[0.8,\"rgb(67,147,195)\"],[0.9,\"rgb(33,102,172)\"],[1.0,\"rgb(5,48,97)\"]],\"sequential\":[[0.0,\"#440154\"],[0.1111111111111111,\"#482878\"],[0.2222222222222222,\"#3e4989\"],[0.3333333333333333,\"#31688e\"],[0.4444444444444444,\"#26828e\"],[0.5555555555555556,\"#1f9e89\"],[0.6666666666666666,\"#35b779\"],[0.7777777777777778,\"#6ece58\"],[0.8888888888888888,\"#b5de2b\"],[1.0,\"#fde725\"]],\"sequentialminus\":[[0.0,\"#440154\"],[0.1111111111111111,\"#482878\"],[0.2222222222222222,\"#3e4989\"],[0.3333333333333333,\"#31688e\"],[0.4444444444444444,\"#26828e\"],[0.5555555555555556,\"#1f9e89\"],[0.6666666666666666,\"#35b779\"],[0.7777777777777778,\"#6ece58\"],[0.8888888888888888,\"#b5de2b\"],[1.0,\"#fde725\"]]},\"colorway\":[\"#1F77B4\",\"#FF7F0E\",\"#2CA02C\",\"#D62728\",\"#9467BD\",\"#8C564B\",\"#E377C2\",\"#7F7F7F\",\"#BCBD22\",\"#17BECF\"],\"font\":{\"color\":\"rgb(36,36,36)\"},\"geo\":{\"bgcolor\":\"white\",\"lakecolor\":\"white\",\"landcolor\":\"white\",\"showlakes\":true,\"showland\":true,\"subunitcolor\":\"white\"},\"hoverlabel\":{\"align\":\"left\"},\"hovermode\":\"closest\",\"mapbox\":{\"style\":\"light\"},\"paper_bgcolor\":\"white\",\"plot_bgcolor\":\"white\",\"polar\":{\"angularaxis\":{\"gridcolor\":\"rgb(232,232,232)\",\"linecolor\":\"rgb(36,36,36)\",\"showgrid\":false,\"showline\":true,\"ticks\":\"outside\"},\"bgcolor\":\"white\",\"radialaxis\":{\"gridcolor\":\"rgb(232,232,232)\",\"linecolor\":\"rgb(36,36,36)\",\"showgrid\":false,\"showline\":true,\"ticks\":\"outside\"}},\"scene\":{\"xaxis\":{\"backgroundcolor\":\"white\",\"gridcolor\":\"rgb(232,232,232)\",\"gridwidth\":2,\"linecolor\":\"rgb(36,36,36)\",\"showbackground\":true,\"showgrid\":false,\"showline\":true,\"ticks\":\"outside\",\"zeroline\":false,\"zerolinecolor\":\"rgb(36,36,36)\"},\"yaxis\":{\"backgroundcolor\":\"white\",\"gridcolor\":\"rgb(232,232,232)\",\"gridwidth\":2,\"linecolor\":\"rgb(36,36,36)\",\"showbackground\":true,\"showgrid\":false,\"showline\":true,\"ticks\":\"outside\",\"zeroline\":false,\"zerolinecolor\":\"rgb(36,36,36)\"},\"zaxis\":{\"backgroundcolor\":\"white\",\"gridcolor\":\"rgb(232,232,232)\",\"gridwidth\":2,\"linecolor\":\"rgb(36,36,36)\",\"showbackground\":true,\"showgrid\":false,\"showline\":true,\"ticks\":\"outside\",\"zeroline\":false,\"zerolinecolor\":\"rgb(36,36,36)\"}},\"shapedefaults\":{\"fillcolor\":\"black\",\"line\":{\"width\":0},\"opacity\":0.3},\"ternary\":{\"aaxis\":{\"gridcolor\":\"rgb(232,232,232)\",\"linecolor\":\"rgb(36,36,36)\",\"showgrid\":false,\"showline\":true,\"ticks\":\"outside\"},\"baxis\":{\"gridcolor\":\"rgb(232,232,232)\",\"linecolor\":\"rgb(36,36,36)\",\"showgrid\":false,\"showline\":true,\"ticks\":\"outside\"},\"bgcolor\":\"white\",\"caxis\":{\"gridcolor\":\"rgb(232,232,232)\",\"linecolor\":\"rgb(36,36,36)\",\"showgrid\":false,\"showline\":true,\"ticks\":\"outside\"}},\"title\":{\"x\":0.05},\"xaxis\":{\"automargin\":true,\"gridcolor\":\"rgb(232,232,232)\",\"linecolor\":\"rgb(36,36,36)\",\"showgrid\":false,\"showline\":true,\"ticks\":\"outside\",\"title\":{\"standoff\":15},\"zeroline\":false,\"zerolinecolor\":\"rgb(36,36,36)\"},\"yaxis\":{\"automargin\":true,\"gridcolor\":\"rgb(232,232,232)\",\"linecolor\":\"rgb(36,36,36)\",\"showgrid\":false,\"showline\":true,\"ticks\":\"outside\",\"title\":{\"standoff\":15},\"zeroline\":false,\"zerolinecolor\":\"rgb(36,36,36)\"}}},\"xaxis\":{\"anchor\":\"y\",\"domain\":[0.0,1.0],\"title\":{\"text\":\"M\"},\"linecolor\":\"darkgrey\"},\"yaxis\":{\"anchor\":\"x\",\"domain\":[0.0,1.0],\"title\":{\"text\":\"index size (MB)\"},\"linecolor\":\"darkgrey\"},\"legend\":{\"title\":{\"text\":\"efConstruction\"},\"tracegroupgap\":0},\"margin\":{\"t\":60},\"height\":350,\"width\":600},                        {\"responsive\": true}                    ).then(function(){\n",
       "                            \n",
       "var gd = document.getElementById('15f3383b-22b0-41d8-b33f-2aa7b7f438ed');\n",
       "var x = new MutationObserver(function (mutations, observer) {{\n",
       "        var display = window.getComputedStyle(gd).display;\n",
       "        if (!display || display === 'none') {{\n",
       "            console.log([gd, 'removed!']);\n",
       "            Plotly.purge(gd);\n",
       "            observer.disconnect();\n",
       "        }}\n",
       "}});\n",
       "\n",
       "// Listen for the removal of the full notebook cells\n",
       "var notebookContainer = gd.closest('#notebook-container');\n",
       "if (notebookContainer) {{\n",
       "    x.observe(notebookContainer, {childList: true});\n",
       "}}\n",
       "\n",
       "// Listen for the clearing of the current output cell\n",
       "var outputEl = gd.closest('.output');\n",
       "if (outputEl) {{\n",
       "    x.observe(outputEl, {childList: true});\n",
       "}}\n",
       "\n",
       "                        })                };                });            </script>        </div>"
      ]
     },
     "metadata": {},
     "output_type": "display_data"
    }
   ],
   "source": [
    "fig = px.line(dfHNSW, x=\"M\", y=\"index_size\", markers=True, height=350, width=600, template=\"simple_white\", color=\"efConstruction\",\n",
    "              color_discrete_sequence=px.colors.qualitative.Vivid,  \n",
    "              labels=dict(index_size=\"index size (MB)\",))\n",
    "fig.update_xaxes(linecolor='darkgrey')\n",
    "fig.update_yaxes(linecolor='darkgrey')\n",
    "fig.show()\n",
    "fig.write_html(\"Hflat_M_indexsize.html\")"
   ]
  },
  {
   "cell_type": "code",
   "execution_count": 40,
   "id": "df6091e2",
   "metadata": {
    "execution": {
     "iopub.execute_input": "2022-08-23T06:58:10.368058Z",
     "iopub.status.busy": "2022-08-23T06:58:10.367582Z",
     "iopub.status.idle": "2022-08-23T06:58:10.587775Z",
     "shell.execute_reply": "2022-08-23T06:58:10.586800Z"
    },
    "papermill": {
     "duration": 1.581527,
     "end_time": "2022-08-23T06:58:10.591293",
     "exception": false,
     "start_time": "2022-08-23T06:58:09.009766",
     "status": "completed"
    },
    "tags": []
   },
   "outputs": [
    {
     "data": {
      "text/html": [
       "<div>                            <div id=\"9668ffb1-ceb9-4f10-95cc-2191dc21deff\" class=\"plotly-graph-div\" style=\"height:350px; width:600px;\"></div>            <script type=\"text/javascript\">                require([\"plotly\"], function(Plotly) {                    window.PLOTLYENV=window.PLOTLYENV || {};                                    if (document.getElementById(\"9668ffb1-ceb9-4f10-95cc-2191dc21deff\")) {                    Plotly.newPlot(                        \"9668ffb1-ceb9-4f10-95cc-2191dc21deff\",                        [{\"hovertemplate\":\"efConstruction=4<br>M=%{x}<br>construction time (s)=%{y}<extra></extra>\",\"legendgroup\":\"4\",\"line\":{\"color\":\"rgb(229, 134, 6)\",\"dash\":\"solid\"},\"marker\":{\"symbol\":\"circle\"},\"mode\":\"markers+lines\",\"name\":\"4\",\"orientation\":\"v\",\"showlegend\":true,\"x\":[4,4,4,4,16,16,16,16,32,32,32,32,64,64,64,64],\"xaxis\":\"x\",\"y\":[47.44571399688721,47.44571399688721,47.44571399688721,47.44571399688721,63.44312024116516,63.44312024116516,63.44312024116516,63.44312024116516,67.2278950214386,67.2278950214386,67.2278950214386,67.2278950214386,76.5102310180664,76.5102310180664,76.5102310180664,76.5102310180664],\"yaxis\":\"y\",\"type\":\"scatter\"},{\"hovertemplate\":\"efConstruction=16<br>M=%{x}<br>construction time (s)=%{y}<extra></extra>\",\"legendgroup\":\"16\",\"line\":{\"color\":\"rgb(93, 105, 177)\",\"dash\":\"solid\"},\"marker\":{\"symbol\":\"circle\"},\"mode\":\"markers+lines\",\"name\":\"16\",\"orientation\":\"v\",\"showlegend\":true,\"x\":[4,4,4,4,16,16,16,16,32,32,32,32,64,64,64,64],\"xaxis\":\"x\",\"y\":[157.0899703502655,157.0899703502655,157.0899703502655,157.0899703502655,287.3562853336334,287.3562853336334,287.3562853336334,287.3562853336334,332.8636655807495,332.8636655807495,332.8636655807495,332.8636655807495,378.9487624168396,378.9487624168396,378.9487624168396,378.9487624168396],\"yaxis\":\"y\",\"type\":\"scatter\"},{\"hovertemplate\":\"efConstruction=40<br>M=%{x}<br>construction time (s)=%{y}<extra></extra>\",\"legendgroup\":\"40\",\"line\":{\"color\":\"rgb(82, 188, 163)\",\"dash\":\"solid\"},\"marker\":{\"symbol\":\"circle\"},\"mode\":\"markers+lines\",\"name\":\"40\",\"orientation\":\"v\",\"showlegend\":true,\"x\":[4,4,4,4,16,16,16,16,32,32,32,32,64,64,64,64],\"xaxis\":\"x\",\"y\":[326.1638009548187,326.1638009548187,326.1638009548187,326.1638009548187,497.4599633216858,497.4599633216858,497.4599633216858,497.4599633216858,836.7941265106201,836.7941265106201,836.7941265106201,836.7941265106201,1086.3188750743866,1086.3188750743866,1086.3188750743866,1086.3188750743866],\"yaxis\":\"y\",\"type\":\"scatter\"},{\"hovertemplate\":\"efConstruction=76<br>M=%{x}<br>construction time (s)=%{y}<extra></extra>\",\"legendgroup\":\"76\",\"line\":{\"color\":\"rgb(153, 201, 69)\",\"dash\":\"solid\"},\"marker\":{\"symbol\":\"circle\"},\"mode\":\"markers+lines\",\"name\":\"76\",\"orientation\":\"v\",\"showlegend\":true,\"x\":[4,4,4,4,16,16,16,16,32,32,32,32,64,64,64,64],\"xaxis\":\"x\",\"y\":[523.9186105728149,523.9186105728149,523.9186105728149,523.9186105728149,937.5826642513275,937.5826642513275,937.5826642513275,937.5826642513275,1070.0068504810333,1070.0068504810333,1070.0068504810333,1070.0068504810333,2106.4281725883484,2106.4281725883484,2106.4281725883484,2106.4281725883484],\"yaxis\":\"y\",\"type\":\"scatter\"}],                        {\"template\":{\"data\":{\"barpolar\":[{\"marker\":{\"line\":{\"color\":\"white\",\"width\":0.5},\"pattern\":{\"fillmode\":\"overlay\",\"size\":10,\"solidity\":0.2}},\"type\":\"barpolar\"}],\"bar\":[{\"error_x\":{\"color\":\"rgb(36,36,36)\"},\"error_y\":{\"color\":\"rgb(36,36,36)\"},\"marker\":{\"line\":{\"color\":\"white\",\"width\":0.5},\"pattern\":{\"fillmode\":\"overlay\",\"size\":10,\"solidity\":0.2}},\"type\":\"bar\"}],\"carpet\":[{\"aaxis\":{\"endlinecolor\":\"rgb(36,36,36)\",\"gridcolor\":\"white\",\"linecolor\":\"white\",\"minorgridcolor\":\"white\",\"startlinecolor\":\"rgb(36,36,36)\"},\"baxis\":{\"endlinecolor\":\"rgb(36,36,36)\",\"gridcolor\":\"white\",\"linecolor\":\"white\",\"minorgridcolor\":\"white\",\"startlinecolor\":\"rgb(36,36,36)\"},\"type\":\"carpet\"}],\"choropleth\":[{\"colorbar\":{\"outlinewidth\":1,\"tickcolor\":\"rgb(36,36,36)\",\"ticks\":\"outside\"},\"type\":\"choropleth\"}],\"contourcarpet\":[{\"colorbar\":{\"outlinewidth\":1,\"tickcolor\":\"rgb(36,36,36)\",\"ticks\":\"outside\"},\"type\":\"contourcarpet\"}],\"contour\":[{\"colorbar\":{\"outlinewidth\":1,\"tickcolor\":\"rgb(36,36,36)\",\"ticks\":\"outside\"},\"colorscale\":[[0.0,\"#440154\"],[0.1111111111111111,\"#482878\"],[0.2222222222222222,\"#3e4989\"],[0.3333333333333333,\"#31688e\"],[0.4444444444444444,\"#26828e\"],[0.5555555555555556,\"#1f9e89\"],[0.6666666666666666,\"#35b779\"],[0.7777777777777778,\"#6ece58\"],[0.8888888888888888,\"#b5de2b\"],[1.0,\"#fde725\"]],\"type\":\"contour\"}],\"heatmapgl\":[{\"colorbar\":{\"outlinewidth\":1,\"tickcolor\":\"rgb(36,36,36)\",\"ticks\":\"outside\"},\"colorscale\":[[0.0,\"#440154\"],[0.1111111111111111,\"#482878\"],[0.2222222222222222,\"#3e4989\"],[0.3333333333333333,\"#31688e\"],[0.4444444444444444,\"#26828e\"],[0.5555555555555556,\"#1f9e89\"],[0.6666666666666666,\"#35b779\"],[0.7777777777777778,\"#6ece58\"],[0.8888888888888888,\"#b5de2b\"],[1.0,\"#fde725\"]],\"type\":\"heatmapgl\"}],\"heatmap\":[{\"colorbar\":{\"outlinewidth\":1,\"tickcolor\":\"rgb(36,36,36)\",\"ticks\":\"outside\"},\"colorscale\":[[0.0,\"#440154\"],[0.1111111111111111,\"#482878\"],[0.2222222222222222,\"#3e4989\"],[0.3333333333333333,\"#31688e\"],[0.4444444444444444,\"#26828e\"],[0.5555555555555556,\"#1f9e89\"],[0.6666666666666666,\"#35b779\"],[0.7777777777777778,\"#6ece58\"],[0.8888888888888888,\"#b5de2b\"],[1.0,\"#fde725\"]],\"type\":\"heatmap\"}],\"histogram2dcontour\":[{\"colorbar\":{\"outlinewidth\":1,\"tickcolor\":\"rgb(36,36,36)\",\"ticks\":\"outside\"},\"colorscale\":[[0.0,\"#440154\"],[0.1111111111111111,\"#482878\"],[0.2222222222222222,\"#3e4989\"],[0.3333333333333333,\"#31688e\"],[0.4444444444444444,\"#26828e\"],[0.5555555555555556,\"#1f9e89\"],[0.6666666666666666,\"#35b779\"],[0.7777777777777778,\"#6ece58\"],[0.8888888888888888,\"#b5de2b\"],[1.0,\"#fde725\"]],\"type\":\"histogram2dcontour\"}],\"histogram2d\":[{\"colorbar\":{\"outlinewidth\":1,\"tickcolor\":\"rgb(36,36,36)\",\"ticks\":\"outside\"},\"colorscale\":[[0.0,\"#440154\"],[0.1111111111111111,\"#482878\"],[0.2222222222222222,\"#3e4989\"],[0.3333333333333333,\"#31688e\"],[0.4444444444444444,\"#26828e\"],[0.5555555555555556,\"#1f9e89\"],[0.6666666666666666,\"#35b779\"],[0.7777777777777778,\"#6ece58\"],[0.8888888888888888,\"#b5de2b\"],[1.0,\"#fde725\"]],\"type\":\"histogram2d\"}],\"histogram\":[{\"marker\":{\"line\":{\"color\":\"white\",\"width\":0.6}},\"type\":\"histogram\"}],\"mesh3d\":[{\"colorbar\":{\"outlinewidth\":1,\"tickcolor\":\"rgb(36,36,36)\",\"ticks\":\"outside\"},\"type\":\"mesh3d\"}],\"parcoords\":[{\"line\":{\"colorbar\":{\"outlinewidth\":1,\"tickcolor\":\"rgb(36,36,36)\",\"ticks\":\"outside\"}},\"type\":\"parcoords\"}],\"pie\":[{\"automargin\":true,\"type\":\"pie\"}],\"scatter3d\":[{\"line\":{\"colorbar\":{\"outlinewidth\":1,\"tickcolor\":\"rgb(36,36,36)\",\"ticks\":\"outside\"}},\"marker\":{\"colorbar\":{\"outlinewidth\":1,\"tickcolor\":\"rgb(36,36,36)\",\"ticks\":\"outside\"}},\"type\":\"scatter3d\"}],\"scattercarpet\":[{\"marker\":{\"colorbar\":{\"outlinewidth\":1,\"tickcolor\":\"rgb(36,36,36)\",\"ticks\":\"outside\"}},\"type\":\"scattercarpet\"}],\"scattergeo\":[{\"marker\":{\"colorbar\":{\"outlinewidth\":1,\"tickcolor\":\"rgb(36,36,36)\",\"ticks\":\"outside\"}},\"type\":\"scattergeo\"}],\"scattergl\":[{\"marker\":{\"colorbar\":{\"outlinewidth\":1,\"tickcolor\":\"rgb(36,36,36)\",\"ticks\":\"outside\"}},\"type\":\"scattergl\"}],\"scattermapbox\":[{\"marker\":{\"colorbar\":{\"outlinewidth\":1,\"tickcolor\":\"rgb(36,36,36)\",\"ticks\":\"outside\"}},\"type\":\"scattermapbox\"}],\"scatterpolargl\":[{\"marker\":{\"colorbar\":{\"outlinewidth\":1,\"tickcolor\":\"rgb(36,36,36)\",\"ticks\":\"outside\"}},\"type\":\"scatterpolargl\"}],\"scatterpolar\":[{\"marker\":{\"colorbar\":{\"outlinewidth\":1,\"tickcolor\":\"rgb(36,36,36)\",\"ticks\":\"outside\"}},\"type\":\"scatterpolar\"}],\"scatter\":[{\"fillpattern\":{\"fillmode\":\"overlay\",\"size\":10,\"solidity\":0.2},\"type\":\"scatter\"}],\"scatterternary\":[{\"marker\":{\"colorbar\":{\"outlinewidth\":1,\"tickcolor\":\"rgb(36,36,36)\",\"ticks\":\"outside\"}},\"type\":\"scatterternary\"}],\"surface\":[{\"colorbar\":{\"outlinewidth\":1,\"tickcolor\":\"rgb(36,36,36)\",\"ticks\":\"outside\"},\"colorscale\":[[0.0,\"#440154\"],[0.1111111111111111,\"#482878\"],[0.2222222222222222,\"#3e4989\"],[0.3333333333333333,\"#31688e\"],[0.4444444444444444,\"#26828e\"],[0.5555555555555556,\"#1f9e89\"],[0.6666666666666666,\"#35b779\"],[0.7777777777777778,\"#6ece58\"],[0.8888888888888888,\"#b5de2b\"],[1.0,\"#fde725\"]],\"type\":\"surface\"}],\"table\":[{\"cells\":{\"fill\":{\"color\":\"rgb(237,237,237)\"},\"line\":{\"color\":\"white\"}},\"header\":{\"fill\":{\"color\":\"rgb(217,217,217)\"},\"line\":{\"color\":\"white\"}},\"type\":\"table\"}]},\"layout\":{\"annotationdefaults\":{\"arrowhead\":0,\"arrowwidth\":1},\"autotypenumbers\":\"strict\",\"coloraxis\":{\"colorbar\":{\"outlinewidth\":1,\"tickcolor\":\"rgb(36,36,36)\",\"ticks\":\"outside\"}},\"colorscale\":{\"diverging\":[[0.0,\"rgb(103,0,31)\"],[0.1,\"rgb(178,24,43)\"],[0.2,\"rgb(214,96,77)\"],[0.3,\"rgb(244,165,130)\"],[0.4,\"rgb(253,219,199)\"],[0.5,\"rgb(247,247,247)\"],[0.6,\"rgb(209,229,240)\"],[0.7,\"rgb(146,197,222)\"],[0.8,\"rgb(67,147,195)\"],[0.9,\"rgb(33,102,172)\"],[1.0,\"rgb(5,48,97)\"]],\"sequential\":[[0.0,\"#440154\"],[0.1111111111111111,\"#482878\"],[0.2222222222222222,\"#3e4989\"],[0.3333333333333333,\"#31688e\"],[0.4444444444444444,\"#26828e\"],[0.5555555555555556,\"#1f9e89\"],[0.6666666666666666,\"#35b779\"],[0.7777777777777778,\"#6ece58\"],[0.8888888888888888,\"#b5de2b\"],[1.0,\"#fde725\"]],\"sequentialminus\":[[0.0,\"#440154\"],[0.1111111111111111,\"#482878\"],[0.2222222222222222,\"#3e4989\"],[0.3333333333333333,\"#31688e\"],[0.4444444444444444,\"#26828e\"],[0.5555555555555556,\"#1f9e89\"],[0.6666666666666666,\"#35b779\"],[0.7777777777777778,\"#6ece58\"],[0.8888888888888888,\"#b5de2b\"],[1.0,\"#fde725\"]]},\"colorway\":[\"#1F77B4\",\"#FF7F0E\",\"#2CA02C\",\"#D62728\",\"#9467BD\",\"#8C564B\",\"#E377C2\",\"#7F7F7F\",\"#BCBD22\",\"#17BECF\"],\"font\":{\"color\":\"rgb(36,36,36)\"},\"geo\":{\"bgcolor\":\"white\",\"lakecolor\":\"white\",\"landcolor\":\"white\",\"showlakes\":true,\"showland\":true,\"subunitcolor\":\"white\"},\"hoverlabel\":{\"align\":\"left\"},\"hovermode\":\"closest\",\"mapbox\":{\"style\":\"light\"},\"paper_bgcolor\":\"white\",\"plot_bgcolor\":\"white\",\"polar\":{\"angularaxis\":{\"gridcolor\":\"rgb(232,232,232)\",\"linecolor\":\"rgb(36,36,36)\",\"showgrid\":false,\"showline\":true,\"ticks\":\"outside\"},\"bgcolor\":\"white\",\"radialaxis\":{\"gridcolor\":\"rgb(232,232,232)\",\"linecolor\":\"rgb(36,36,36)\",\"showgrid\":false,\"showline\":true,\"ticks\":\"outside\"}},\"scene\":{\"xaxis\":{\"backgroundcolor\":\"white\",\"gridcolor\":\"rgb(232,232,232)\",\"gridwidth\":2,\"linecolor\":\"rgb(36,36,36)\",\"showbackground\":true,\"showgrid\":false,\"showline\":true,\"ticks\":\"outside\",\"zeroline\":false,\"zerolinecolor\":\"rgb(36,36,36)\"},\"yaxis\":{\"backgroundcolor\":\"white\",\"gridcolor\":\"rgb(232,232,232)\",\"gridwidth\":2,\"linecolor\":\"rgb(36,36,36)\",\"showbackground\":true,\"showgrid\":false,\"showline\":true,\"ticks\":\"outside\",\"zeroline\":false,\"zerolinecolor\":\"rgb(36,36,36)\"},\"zaxis\":{\"backgroundcolor\":\"white\",\"gridcolor\":\"rgb(232,232,232)\",\"gridwidth\":2,\"linecolor\":\"rgb(36,36,36)\",\"showbackground\":true,\"showgrid\":false,\"showline\":true,\"ticks\":\"outside\",\"zeroline\":false,\"zerolinecolor\":\"rgb(36,36,36)\"}},\"shapedefaults\":{\"fillcolor\":\"black\",\"line\":{\"width\":0},\"opacity\":0.3},\"ternary\":{\"aaxis\":{\"gridcolor\":\"rgb(232,232,232)\",\"linecolor\":\"rgb(36,36,36)\",\"showgrid\":false,\"showline\":true,\"ticks\":\"outside\"},\"baxis\":{\"gridcolor\":\"rgb(232,232,232)\",\"linecolor\":\"rgb(36,36,36)\",\"showgrid\":false,\"showline\":true,\"ticks\":\"outside\"},\"bgcolor\":\"white\",\"caxis\":{\"gridcolor\":\"rgb(232,232,232)\",\"linecolor\":\"rgb(36,36,36)\",\"showgrid\":false,\"showline\":true,\"ticks\":\"outside\"}},\"title\":{\"x\":0.05},\"xaxis\":{\"automargin\":true,\"gridcolor\":\"rgb(232,232,232)\",\"linecolor\":\"rgb(36,36,36)\",\"showgrid\":false,\"showline\":true,\"ticks\":\"outside\",\"title\":{\"standoff\":15},\"zeroline\":false,\"zerolinecolor\":\"rgb(36,36,36)\"},\"yaxis\":{\"automargin\":true,\"gridcolor\":\"rgb(232,232,232)\",\"linecolor\":\"rgb(36,36,36)\",\"showgrid\":false,\"showline\":true,\"ticks\":\"outside\",\"title\":{\"standoff\":15},\"zeroline\":false,\"zerolinecolor\":\"rgb(36,36,36)\"}}},\"xaxis\":{\"anchor\":\"y\",\"domain\":[0.0,1.0],\"title\":{\"text\":\"M\"},\"linecolor\":\"darkgrey\"},\"yaxis\":{\"anchor\":\"x\",\"domain\":[0.0,1.0],\"title\":{\"text\":\"construction time (s)\"},\"linecolor\":\"darkgrey\"},\"legend\":{\"title\":{\"text\":\"efConstruction\"},\"tracegroupgap\":0},\"margin\":{\"t\":60},\"height\":350,\"width\":600},                        {\"responsive\": true}                    ).then(function(){\n",
       "                            \n",
       "var gd = document.getElementById('9668ffb1-ceb9-4f10-95cc-2191dc21deff');\n",
       "var x = new MutationObserver(function (mutations, observer) {{\n",
       "        var display = window.getComputedStyle(gd).display;\n",
       "        if (!display || display === 'none') {{\n",
       "            console.log([gd, 'removed!']);\n",
       "            Plotly.purge(gd);\n",
       "            observer.disconnect();\n",
       "        }}\n",
       "}});\n",
       "\n",
       "// Listen for the removal of the full notebook cells\n",
       "var notebookContainer = gd.closest('#notebook-container');\n",
       "if (notebookContainer) {{\n",
       "    x.observe(notebookContainer, {childList: true});\n",
       "}}\n",
       "\n",
       "// Listen for the clearing of the current output cell\n",
       "var outputEl = gd.closest('.output');\n",
       "if (outputEl) {{\n",
       "    x.observe(outputEl, {childList: true});\n",
       "}}\n",
       "\n",
       "                        })                };                });            </script>        </div>"
      ]
     },
     "metadata": {},
     "output_type": "display_data"
    }
   ],
   "source": [
    "fig = px.line(dfHNSW, x=\"M\", y=\"index_time\", markers=True, height=350, width=600, color=\"efConstruction\", template=\"simple_white\",\n",
    "              color_discrete_sequence=px.colors.qualitative.Vivid,  \n",
    "              labels=dict(index_time=\"construction time (s)\",))\n",
    "fig.update_xaxes(linecolor='darkgrey')\n",
    "fig.update_yaxes(linecolor='darkgrey')\n",
    "fig.show()\n",
    "fig.write_html(\"Hflat_M_indextime.html\")"
   ]
  },
  {
   "cell_type": "code",
   "execution_count": 41,
   "id": "40fbe0dd",
   "metadata": {
    "execution": {
     "iopub.execute_input": "2022-08-23T06:58:12.346611Z",
     "iopub.status.busy": "2022-08-23T06:58:12.346205Z",
     "iopub.status.idle": "2022-08-23T06:58:12.425431Z",
     "shell.execute_reply": "2022-08-23T06:58:12.424539Z"
    },
    "papermill": {
     "duration": 0.654716,
     "end_time": "2022-08-23T06:58:12.427682",
     "exception": false,
     "start_time": "2022-08-23T06:58:11.772966",
     "status": "completed"
    },
    "tags": []
   },
   "outputs": [
    {
     "data": {
      "text/html": [
       "<div>                            <div id=\"5fc7275d-e0df-465a-8642-8e4c4acd38c3\" class=\"plotly-graph-div\" style=\"height:350px; width:600px;\"></div>            <script type=\"text/javascript\">                require([\"plotly\"], function(Plotly) {                    window.PLOTLYENV=window.PLOTLYENV || {};                                    if (document.getElementById(\"5fc7275d-e0df-465a-8642-8e4c4acd38c3\")) {                    Plotly.newPlot(                        \"5fc7275d-e0df-465a-8642-8e4c4acd38c3\",                        [{\"hovertemplate\":\"efSearch=4<br>M=%{x}<br>search time (ms/query)=%{y}<extra></extra>\",\"legendgroup\":\"4\",\"line\":{\"color\":\"rgb(229, 134, 6)\",\"dash\":\"solid\"},\"marker\":{\"symbol\":\"circle\"},\"mode\":\"markers+lines\",\"name\":\"4\",\"orientation\":\"v\",\"showlegend\":true,\"x\":[4,16,32,64],\"xaxis\":\"x\",\"y\":[0.0787818431854248,0.050643205642700195,0.05893135070800781,0.09943366050720215],\"yaxis\":\"y\",\"type\":\"scatter\"},{\"hovertemplate\":\"efSearch=16<br>M=%{x}<br>search time (ms/query)=%{y}<extra></extra>\",\"legendgroup\":\"16\",\"line\":{\"color\":\"rgb(93, 105, 177)\",\"dash\":\"solid\"},\"marker\":{\"symbol\":\"circle\"},\"mode\":\"markers+lines\",\"name\":\"16\",\"orientation\":\"v\",\"showlegend\":true,\"x\":[4,16,32,64],\"xaxis\":\"x\",\"y\":[0.03648710250854492,0.08057737350463867,0.10886073112487793,0.22647881507873535],\"yaxis\":\"y\",\"type\":\"scatter\"},{\"hovertemplate\":\"efSearch=40<br>M=%{x}<br>search time (ms/query)=%{y}<extra></extra>\",\"legendgroup\":\"40\",\"line\":{\"color\":\"rgb(82, 188, 163)\",\"dash\":\"solid\"},\"marker\":{\"symbol\":\"circle\"},\"mode\":\"markers+lines\",\"name\":\"40\",\"orientation\":\"v\",\"showlegend\":true,\"x\":[4,16,32,64],\"xaxis\":\"x\",\"y\":[0.07552194595336914,0.16374754905700684,0.2084043025970459,0.4291207790374756],\"yaxis\":\"y\",\"type\":\"scatter\"},{\"hovertemplate\":\"efSearch=76<br>M=%{x}<br>search time (ms/query)=%{y}<extra></extra>\",\"legendgroup\":\"76\",\"line\":{\"color\":\"rgb(153, 201, 69)\",\"dash\":\"solid\"},\"marker\":{\"symbol\":\"circle\"},\"mode\":\"markers+lines\",\"name\":\"76\",\"orientation\":\"v\",\"showlegend\":true,\"x\":[4,16,32,64],\"xaxis\":\"x\",\"y\":[0.13284969329833984,0.3028593063354492,0.4670281410217285,0.728726863861084],\"yaxis\":\"y\",\"type\":\"scatter\"}],                        {\"template\":{\"data\":{\"barpolar\":[{\"marker\":{\"line\":{\"color\":\"white\",\"width\":0.5},\"pattern\":{\"fillmode\":\"overlay\",\"size\":10,\"solidity\":0.2}},\"type\":\"barpolar\"}],\"bar\":[{\"error_x\":{\"color\":\"rgb(36,36,36)\"},\"error_y\":{\"color\":\"rgb(36,36,36)\"},\"marker\":{\"line\":{\"color\":\"white\",\"width\":0.5},\"pattern\":{\"fillmode\":\"overlay\",\"size\":10,\"solidity\":0.2}},\"type\":\"bar\"}],\"carpet\":[{\"aaxis\":{\"endlinecolor\":\"rgb(36,36,36)\",\"gridcolor\":\"white\",\"linecolor\":\"white\",\"minorgridcolor\":\"white\",\"startlinecolor\":\"rgb(36,36,36)\"},\"baxis\":{\"endlinecolor\":\"rgb(36,36,36)\",\"gridcolor\":\"white\",\"linecolor\":\"white\",\"minorgridcolor\":\"white\",\"startlinecolor\":\"rgb(36,36,36)\"},\"type\":\"carpet\"}],\"choropleth\":[{\"colorbar\":{\"outlinewidth\":1,\"tickcolor\":\"rgb(36,36,36)\",\"ticks\":\"outside\"},\"type\":\"choropleth\"}],\"contourcarpet\":[{\"colorbar\":{\"outlinewidth\":1,\"tickcolor\":\"rgb(36,36,36)\",\"ticks\":\"outside\"},\"type\":\"contourcarpet\"}],\"contour\":[{\"colorbar\":{\"outlinewidth\":1,\"tickcolor\":\"rgb(36,36,36)\",\"ticks\":\"outside\"},\"colorscale\":[[0.0,\"#440154\"],[0.1111111111111111,\"#482878\"],[0.2222222222222222,\"#3e4989\"],[0.3333333333333333,\"#31688e\"],[0.4444444444444444,\"#26828e\"],[0.5555555555555556,\"#1f9e89\"],[0.6666666666666666,\"#35b779\"],[0.7777777777777778,\"#6ece58\"],[0.8888888888888888,\"#b5de2b\"],[1.0,\"#fde725\"]],\"type\":\"contour\"}],\"heatmapgl\":[{\"colorbar\":{\"outlinewidth\":1,\"tickcolor\":\"rgb(36,36,36)\",\"ticks\":\"outside\"},\"colorscale\":[[0.0,\"#440154\"],[0.1111111111111111,\"#482878\"],[0.2222222222222222,\"#3e4989\"],[0.3333333333333333,\"#31688e\"],[0.4444444444444444,\"#26828e\"],[0.5555555555555556,\"#1f9e89\"],[0.6666666666666666,\"#35b779\"],[0.7777777777777778,\"#6ece58\"],[0.8888888888888888,\"#b5de2b\"],[1.0,\"#fde725\"]],\"type\":\"heatmapgl\"}],\"heatmap\":[{\"colorbar\":{\"outlinewidth\":1,\"tickcolor\":\"rgb(36,36,36)\",\"ticks\":\"outside\"},\"colorscale\":[[0.0,\"#440154\"],[0.1111111111111111,\"#482878\"],[0.2222222222222222,\"#3e4989\"],[0.3333333333333333,\"#31688e\"],[0.4444444444444444,\"#26828e\"],[0.5555555555555556,\"#1f9e89\"],[0.6666666666666666,\"#35b779\"],[0.7777777777777778,\"#6ece58\"],[0.8888888888888888,\"#b5de2b\"],[1.0,\"#fde725\"]],\"type\":\"heatmap\"}],\"histogram2dcontour\":[{\"colorbar\":{\"outlinewidth\":1,\"tickcolor\":\"rgb(36,36,36)\",\"ticks\":\"outside\"},\"colorscale\":[[0.0,\"#440154\"],[0.1111111111111111,\"#482878\"],[0.2222222222222222,\"#3e4989\"],[0.3333333333333333,\"#31688e\"],[0.4444444444444444,\"#26828e\"],[0.5555555555555556,\"#1f9e89\"],[0.6666666666666666,\"#35b779\"],[0.7777777777777778,\"#6ece58\"],[0.8888888888888888,\"#b5de2b\"],[1.0,\"#fde725\"]],\"type\":\"histogram2dcontour\"}],\"histogram2d\":[{\"colorbar\":{\"outlinewidth\":1,\"tickcolor\":\"rgb(36,36,36)\",\"ticks\":\"outside\"},\"colorscale\":[[0.0,\"#440154\"],[0.1111111111111111,\"#482878\"],[0.2222222222222222,\"#3e4989\"],[0.3333333333333333,\"#31688e\"],[0.4444444444444444,\"#26828e\"],[0.5555555555555556,\"#1f9e89\"],[0.6666666666666666,\"#35b779\"],[0.7777777777777778,\"#6ece58\"],[0.8888888888888888,\"#b5de2b\"],[1.0,\"#fde725\"]],\"type\":\"histogram2d\"}],\"histogram\":[{\"marker\":{\"line\":{\"color\":\"white\",\"width\":0.6}},\"type\":\"histogram\"}],\"mesh3d\":[{\"colorbar\":{\"outlinewidth\":1,\"tickcolor\":\"rgb(36,36,36)\",\"ticks\":\"outside\"},\"type\":\"mesh3d\"}],\"parcoords\":[{\"line\":{\"colorbar\":{\"outlinewidth\":1,\"tickcolor\":\"rgb(36,36,36)\",\"ticks\":\"outside\"}},\"type\":\"parcoords\"}],\"pie\":[{\"automargin\":true,\"type\":\"pie\"}],\"scatter3d\":[{\"line\":{\"colorbar\":{\"outlinewidth\":1,\"tickcolor\":\"rgb(36,36,36)\",\"ticks\":\"outside\"}},\"marker\":{\"colorbar\":{\"outlinewidth\":1,\"tickcolor\":\"rgb(36,36,36)\",\"ticks\":\"outside\"}},\"type\":\"scatter3d\"}],\"scattercarpet\":[{\"marker\":{\"colorbar\":{\"outlinewidth\":1,\"tickcolor\":\"rgb(36,36,36)\",\"ticks\":\"outside\"}},\"type\":\"scattercarpet\"}],\"scattergeo\":[{\"marker\":{\"colorbar\":{\"outlinewidth\":1,\"tickcolor\":\"rgb(36,36,36)\",\"ticks\":\"outside\"}},\"type\":\"scattergeo\"}],\"scattergl\":[{\"marker\":{\"colorbar\":{\"outlinewidth\":1,\"tickcolor\":\"rgb(36,36,36)\",\"ticks\":\"outside\"}},\"type\":\"scattergl\"}],\"scattermapbox\":[{\"marker\":{\"colorbar\":{\"outlinewidth\":1,\"tickcolor\":\"rgb(36,36,36)\",\"ticks\":\"outside\"}},\"type\":\"scattermapbox\"}],\"scatterpolargl\":[{\"marker\":{\"colorbar\":{\"outlinewidth\":1,\"tickcolor\":\"rgb(36,36,36)\",\"ticks\":\"outside\"}},\"type\":\"scatterpolargl\"}],\"scatterpolar\":[{\"marker\":{\"colorbar\":{\"outlinewidth\":1,\"tickcolor\":\"rgb(36,36,36)\",\"ticks\":\"outside\"}},\"type\":\"scatterpolar\"}],\"scatter\":[{\"fillpattern\":{\"fillmode\":\"overlay\",\"size\":10,\"solidity\":0.2},\"type\":\"scatter\"}],\"scatterternary\":[{\"marker\":{\"colorbar\":{\"outlinewidth\":1,\"tickcolor\":\"rgb(36,36,36)\",\"ticks\":\"outside\"}},\"type\":\"scatterternary\"}],\"surface\":[{\"colorbar\":{\"outlinewidth\":1,\"tickcolor\":\"rgb(36,36,36)\",\"ticks\":\"outside\"},\"colorscale\":[[0.0,\"#440154\"],[0.1111111111111111,\"#482878\"],[0.2222222222222222,\"#3e4989\"],[0.3333333333333333,\"#31688e\"],[0.4444444444444444,\"#26828e\"],[0.5555555555555556,\"#1f9e89\"],[0.6666666666666666,\"#35b779\"],[0.7777777777777778,\"#6ece58\"],[0.8888888888888888,\"#b5de2b\"],[1.0,\"#fde725\"]],\"type\":\"surface\"}],\"table\":[{\"cells\":{\"fill\":{\"color\":\"rgb(237,237,237)\"},\"line\":{\"color\":\"white\"}},\"header\":{\"fill\":{\"color\":\"rgb(217,217,217)\"},\"line\":{\"color\":\"white\"}},\"type\":\"table\"}]},\"layout\":{\"annotationdefaults\":{\"arrowhead\":0,\"arrowwidth\":1},\"autotypenumbers\":\"strict\",\"coloraxis\":{\"colorbar\":{\"outlinewidth\":1,\"tickcolor\":\"rgb(36,36,36)\",\"ticks\":\"outside\"}},\"colorscale\":{\"diverging\":[[0.0,\"rgb(103,0,31)\"],[0.1,\"rgb(178,24,43)\"],[0.2,\"rgb(214,96,77)\"],[0.3,\"rgb(244,165,130)\"],[0.4,\"rgb(253,219,199)\"],[0.5,\"rgb(247,247,247)\"],[0.6,\"rgb(209,229,240)\"],[0.7,\"rgb(146,197,222)\"],[0.8,\"rgb(67,147,195)\"],[0.9,\"rgb(33,102,172)\"],[1.0,\"rgb(5,48,97)\"]],\"sequential\":[[0.0,\"#440154\"],[0.1111111111111111,\"#482878\"],[0.2222222222222222,\"#3e4989\"],[0.3333333333333333,\"#31688e\"],[0.4444444444444444,\"#26828e\"],[0.5555555555555556,\"#1f9e89\"],[0.6666666666666666,\"#35b779\"],[0.7777777777777778,\"#6ece58\"],[0.8888888888888888,\"#b5de2b\"],[1.0,\"#fde725\"]],\"sequentialminus\":[[0.0,\"#440154\"],[0.1111111111111111,\"#482878\"],[0.2222222222222222,\"#3e4989\"],[0.3333333333333333,\"#31688e\"],[0.4444444444444444,\"#26828e\"],[0.5555555555555556,\"#1f9e89\"],[0.6666666666666666,\"#35b779\"],[0.7777777777777778,\"#6ece58\"],[0.8888888888888888,\"#b5de2b\"],[1.0,\"#fde725\"]]},\"colorway\":[\"#1F77B4\",\"#FF7F0E\",\"#2CA02C\",\"#D62728\",\"#9467BD\",\"#8C564B\",\"#E377C2\",\"#7F7F7F\",\"#BCBD22\",\"#17BECF\"],\"font\":{\"color\":\"rgb(36,36,36)\"},\"geo\":{\"bgcolor\":\"white\",\"lakecolor\":\"white\",\"landcolor\":\"white\",\"showlakes\":true,\"showland\":true,\"subunitcolor\":\"white\"},\"hoverlabel\":{\"align\":\"left\"},\"hovermode\":\"closest\",\"mapbox\":{\"style\":\"light\"},\"paper_bgcolor\":\"white\",\"plot_bgcolor\":\"white\",\"polar\":{\"angularaxis\":{\"gridcolor\":\"rgb(232,232,232)\",\"linecolor\":\"rgb(36,36,36)\",\"showgrid\":false,\"showline\":true,\"ticks\":\"outside\"},\"bgcolor\":\"white\",\"radialaxis\":{\"gridcolor\":\"rgb(232,232,232)\",\"linecolor\":\"rgb(36,36,36)\",\"showgrid\":false,\"showline\":true,\"ticks\":\"outside\"}},\"scene\":{\"xaxis\":{\"backgroundcolor\":\"white\",\"gridcolor\":\"rgb(232,232,232)\",\"gridwidth\":2,\"linecolor\":\"rgb(36,36,36)\",\"showbackground\":true,\"showgrid\":false,\"showline\":true,\"ticks\":\"outside\",\"zeroline\":false,\"zerolinecolor\":\"rgb(36,36,36)\"},\"yaxis\":{\"backgroundcolor\":\"white\",\"gridcolor\":\"rgb(232,232,232)\",\"gridwidth\":2,\"linecolor\":\"rgb(36,36,36)\",\"showbackground\":true,\"showgrid\":false,\"showline\":true,\"ticks\":\"outside\",\"zeroline\":false,\"zerolinecolor\":\"rgb(36,36,36)\"},\"zaxis\":{\"backgroundcolor\":\"white\",\"gridcolor\":\"rgb(232,232,232)\",\"gridwidth\":2,\"linecolor\":\"rgb(36,36,36)\",\"showbackground\":true,\"showgrid\":false,\"showline\":true,\"ticks\":\"outside\",\"zeroline\":false,\"zerolinecolor\":\"rgb(36,36,36)\"}},\"shapedefaults\":{\"fillcolor\":\"black\",\"line\":{\"width\":0},\"opacity\":0.3},\"ternary\":{\"aaxis\":{\"gridcolor\":\"rgb(232,232,232)\",\"linecolor\":\"rgb(36,36,36)\",\"showgrid\":false,\"showline\":true,\"ticks\":\"outside\"},\"baxis\":{\"gridcolor\":\"rgb(232,232,232)\",\"linecolor\":\"rgb(36,36,36)\",\"showgrid\":false,\"showline\":true,\"ticks\":\"outside\"},\"bgcolor\":\"white\",\"caxis\":{\"gridcolor\":\"rgb(232,232,232)\",\"linecolor\":\"rgb(36,36,36)\",\"showgrid\":false,\"showline\":true,\"ticks\":\"outside\"}},\"title\":{\"x\":0.05},\"xaxis\":{\"automargin\":true,\"gridcolor\":\"rgb(232,232,232)\",\"linecolor\":\"rgb(36,36,36)\",\"showgrid\":false,\"showline\":true,\"ticks\":\"outside\",\"title\":{\"standoff\":15},\"zeroline\":false,\"zerolinecolor\":\"rgb(36,36,36)\"},\"yaxis\":{\"automargin\":true,\"gridcolor\":\"rgb(232,232,232)\",\"linecolor\":\"rgb(36,36,36)\",\"showgrid\":false,\"showline\":true,\"ticks\":\"outside\",\"title\":{\"standoff\":15},\"zeroline\":false,\"zerolinecolor\":\"rgb(36,36,36)\"}}},\"xaxis\":{\"anchor\":\"y\",\"domain\":[0.0,1.0],\"title\":{\"text\":\"M\"},\"linecolor\":\"darkgrey\"},\"yaxis\":{\"anchor\":\"x\",\"domain\":[0.0,1.0],\"title\":{\"text\":\"search time (ms/query)\"},\"linecolor\":\"darkgrey\"},\"legend\":{\"title\":{\"text\":\"efSearch\"},\"tracegroupgap\":0},\"margin\":{\"t\":60},\"height\":350,\"width\":600},                        {\"responsive\": true}                    ).then(function(){\n",
       "                            \n",
       "var gd = document.getElementById('5fc7275d-e0df-465a-8642-8e4c4acd38c3');\n",
       "var x = new MutationObserver(function (mutations, observer) {{\n",
       "        var display = window.getComputedStyle(gd).display;\n",
       "        if (!display || display === 'none') {{\n",
       "            console.log([gd, 'removed!']);\n",
       "            Plotly.purge(gd);\n",
       "            observer.disconnect();\n",
       "        }}\n",
       "}});\n",
       "\n",
       "// Listen for the removal of the full notebook cells\n",
       "var notebookContainer = gd.closest('#notebook-container');\n",
       "if (notebookContainer) {{\n",
       "    x.observe(notebookContainer, {childList: true});\n",
       "}}\n",
       "\n",
       "// Listen for the clearing of the current output cell\n",
       "var outputEl = gd.closest('.output');\n",
       "if (outputEl) {{\n",
       "    x.observe(outputEl, {childList: true});\n",
       "}}\n",
       "\n",
       "                        })                };                });            </script>        </div>"
      ]
     },
     "metadata": {},
     "output_type": "display_data"
    }
   ],
   "source": [
    "fig = px.line(dfHNSW.query(\"efConstruction==76\"), x=\"M\", y=\"search_time\", markers=True, height=350, width=600, color=\"efSearch\", template=\"simple_white\",\n",
    "              color_discrete_sequence=px.colors.qualitative.Vivid,  \n",
    "              labels=dict(search_time=\"search time (ms/query)\",))\n",
    "fig.update_xaxes(linecolor='darkgrey')\n",
    "fig.update_yaxes(linecolor='darkgrey')\n",
    "fig.show()\n",
    "fig.write_html(\"Hflat_M_searchtime.html\")"
   ]
  },
  {
   "cell_type": "code",
   "execution_count": 42,
   "id": "7a577ff4",
   "metadata": {
    "execution": {
     "iopub.execute_input": "2022-08-23T06:58:13.597705Z",
     "iopub.status.busy": "2022-08-23T06:58:13.596937Z",
     "iopub.status.idle": "2022-08-23T06:58:13.602237Z",
     "shell.execute_reply": "2022-08-23T06:58:13.601087Z"
    },
    "papermill": {
     "duration": 0.620979,
     "end_time": "2022-08-23T06:58:13.604450",
     "exception": false,
     "start_time": "2022-08-23T06:58:12.983471",
     "status": "completed"
    },
    "tags": []
   },
   "outputs": [],
   "source": [
    "# colors_custom = ['#FECB52','#FF9900','#DC3912','#990099'] # yellow, orange, red, purple\n",
    "colors_custom = ['#EECA3B','#FF9900','#DC3912','#990099'] # yellow, orange, red, purple\n",
    "colors_blue = ['#90AD1C','#0099C6','#316395','#1616A7']   # Shades of blue"
   ]
  },
  {
   "cell_type": "code",
   "execution_count": 43,
   "id": "84c4d8d5",
   "metadata": {
    "execution": {
     "iopub.execute_input": "2022-08-23T06:58:15.710562Z",
     "iopub.status.busy": "2022-08-23T06:58:15.710197Z",
     "iopub.status.idle": "2022-08-23T06:58:15.890035Z",
     "shell.execute_reply": "2022-08-23T06:58:15.888969Z"
    },
    "papermill": {
     "duration": 0.736074,
     "end_time": "2022-08-23T06:58:15.892199",
     "exception": false,
     "start_time": "2022-08-23T06:58:15.156125",
     "status": "completed"
    },
    "tags": []
   },
   "outputs": [
    {
     "data": {
      "text/html": [
       "<div>                            <div id=\"73230917-be37-4d33-a803-5c12a6a7949a\" class=\"plotly-graph-div\" style=\"height:390px; width:750px;\"></div>            <script type=\"text/javascript\">                require([\"plotly\"], function(Plotly) {                    window.PLOTLYENV=window.PLOTLYENV || {};                                    if (document.getElementById(\"73230917-be37-4d33-a803-5c12a6a7949a\")) {                    Plotly.newPlot(                        \"73230917-be37-4d33-a803-5c12a6a7949a\",                        [{\"hovertemplate\":\"M=4<br>efConstruction=4<br>efSearch=%{x}<br>search time (ms/query)=%{y}<extra></extra>\",\"legendgroup\":\"4\",\"line\":{\"color\":\"#EECA3B\",\"dash\":\"solid\"},\"marker\":{\"symbol\":\"circle\"},\"mode\":\"markers+lines\",\"name\":\"4\",\"orientation\":\"v\",\"showlegend\":true,\"x\":[4,16,40,76],\"xaxis\":\"x\",\"y\":[0.05148124694824219,0.08799934387207031,0.14001178741455078,0.11078906059265137],\"yaxis\":\"y\",\"type\":\"scatter\"},{\"hovertemplate\":\"M=4<br>efConstruction=16<br>efSearch=%{x}<br>search time (ms/query)=%{y}<extra></extra>\",\"legendgroup\":\"4\",\"line\":{\"color\":\"#EECA3B\",\"dash\":\"solid\"},\"marker\":{\"symbol\":\"circle\"},\"mode\":\"markers+lines\",\"name\":\"4\",\"orientation\":\"v\",\"showlegend\":false,\"x\":[4,16,40,76],\"xaxis\":\"x2\",\"y\":[0.04798436164855957,0.03941011428833008,0.0675649642944336,0.18841075897216797],\"yaxis\":\"y2\",\"type\":\"scatter\"},{\"hovertemplate\":\"M=4<br>efConstruction=40<br>efSearch=%{x}<br>search time (ms/query)=%{y}<extra></extra>\",\"legendgroup\":\"4\",\"line\":{\"color\":\"#EECA3B\",\"dash\":\"solid\"},\"marker\":{\"symbol\":\"circle\"},\"mode\":\"markers+lines\",\"name\":\"4\",\"orientation\":\"v\",\"showlegend\":false,\"x\":[4,16,40,76],\"xaxis\":\"x3\",\"y\":[0.07315301895141602,0.03420615196228027,0.07332253456115723,0.12844347953796387],\"yaxis\":\"y3\",\"type\":\"scatter\"},{\"hovertemplate\":\"M=4<br>efConstruction=76<br>efSearch=%{x}<br>search time (ms/query)=%{y}<extra></extra>\",\"legendgroup\":\"4\",\"line\":{\"color\":\"#EECA3B\",\"dash\":\"solid\"},\"marker\":{\"symbol\":\"circle\"},\"mode\":\"markers+lines\",\"name\":\"4\",\"orientation\":\"v\",\"showlegend\":false,\"x\":[4,16,40,76],\"xaxis\":\"x4\",\"y\":[0.0787818431854248,0.03648710250854492,0.07552194595336914,0.13284969329833984],\"yaxis\":\"y4\",\"type\":\"scatter\"},{\"hovertemplate\":\"M=16<br>efConstruction=4<br>efSearch=%{x}<br>search time (ms/query)=%{y}<extra></extra>\",\"legendgroup\":\"16\",\"line\":{\"color\":\"#FF9900\",\"dash\":\"solid\"},\"marker\":{\"symbol\":\"circle\"},\"mode\":\"markers+lines\",\"name\":\"16\",\"orientation\":\"v\",\"showlegend\":true,\"x\":[4,16,40,76],\"xaxis\":\"x\",\"y\":[0.03242778778076172,0.03500080108642578,0.07417988777160645,0.1721813678741455],\"yaxis\":\"y\",\"type\":\"scatter\"},{\"hovertemplate\":\"M=16<br>efConstruction=16<br>efSearch=%{x}<br>search time (ms/query)=%{y}<extra></extra>\",\"legendgroup\":\"16\",\"line\":{\"color\":\"#FF9900\",\"dash\":\"solid\"},\"marker\":{\"symbol\":\"circle\"},\"mode\":\"markers+lines\",\"name\":\"16\",\"orientation\":\"v\",\"showlegend\":false,\"x\":[4,16,40,76],\"xaxis\":\"x2\",\"y\":[0.059123992919921875,0.07422256469726562,0.15061712265014648,0.2765541076660156],\"yaxis\":\"y2\",\"type\":\"scatter\"},{\"hovertemplate\":\"M=16<br>efConstruction=40<br>efSearch=%{x}<br>search time (ms/query)=%{y}<extra></extra>\",\"legendgroup\":\"16\",\"line\":{\"color\":\"#FF9900\",\"dash\":\"solid\"},\"marker\":{\"symbol\":\"circle\"},\"mode\":\"markers+lines\",\"name\":\"16\",\"orientation\":\"v\",\"showlegend\":false,\"x\":[4,16,40,76],\"xaxis\":\"x3\",\"y\":[0.07875919342041016,0.14578747749328613,0.26551079750061035,0.329667329788208],\"yaxis\":\"y3\",\"type\":\"scatter\"},{\"hovertemplate\":\"M=16<br>efConstruction=76<br>efSearch=%{x}<br>search time (ms/query)=%{y}<extra></extra>\",\"legendgroup\":\"16\",\"line\":{\"color\":\"#FF9900\",\"dash\":\"solid\"},\"marker\":{\"symbol\":\"circle\"},\"mode\":\"markers+lines\",\"name\":\"16\",\"orientation\":\"v\",\"showlegend\":false,\"x\":[4,16,40,76],\"xaxis\":\"x4\",\"y\":[0.050643205642700195,0.08057737350463867,0.16374754905700684,0.3028593063354492],\"yaxis\":\"y4\",\"type\":\"scatter\"},{\"hovertemplate\":\"M=32<br>efConstruction=4<br>efSearch=%{x}<br>search time (ms/query)=%{y}<extra></extra>\",\"legendgroup\":\"32\",\"line\":{\"color\":\"#DC3912\",\"dash\":\"solid\"},\"marker\":{\"symbol\":\"circle\"},\"mode\":\"markers+lines\",\"name\":\"32\",\"orientation\":\"v\",\"showlegend\":true,\"x\":[4,16,40,76],\"xaxis\":\"x\",\"y\":[0.04051804542541504,0.07303428649902344,0.0829169750213623,0.132843017578125],\"yaxis\":\"y\",\"type\":\"scatter\"},{\"hovertemplate\":\"M=32<br>efConstruction=16<br>efSearch=%{x}<br>search time (ms/query)=%{y}<extra></extra>\",\"legendgroup\":\"32\",\"line\":{\"color\":\"#DC3912\",\"dash\":\"solid\"},\"marker\":{\"symbol\":\"circle\"},\"mode\":\"markers+lines\",\"name\":\"32\",\"orientation\":\"v\",\"showlegend\":false,\"x\":[4,16,40,76],\"xaxis\":\"x2\",\"y\":[0.10623764991760254,0.20286774635314941,0.32986998558044434,0.4486548900604248],\"yaxis\":\"y2\",\"type\":\"scatter\"},{\"hovertemplate\":\"M=32<br>efConstruction=40<br>efSearch=%{x}<br>search time (ms/query)=%{y}<extra></extra>\",\"legendgroup\":\"32\",\"line\":{\"color\":\"#DC3912\",\"dash\":\"solid\"},\"marker\":{\"symbol\":\"circle\"},\"mode\":\"markers+lines\",\"name\":\"32\",\"orientation\":\"v\",\"showlegend\":false,\"x\":[4,16,40,76],\"xaxis\":\"x3\",\"y\":[0.10319304466247559,0.1366117000579834,0.2646486759185791,0.4252011775970459],\"yaxis\":\"y3\",\"type\":\"scatter\"},{\"hovertemplate\":\"M=32<br>efConstruction=76<br>efSearch=%{x}<br>search time (ms/query)=%{y}<extra></extra>\",\"legendgroup\":\"32\",\"line\":{\"color\":\"#DC3912\",\"dash\":\"solid\"},\"marker\":{\"symbol\":\"circle\"},\"mode\":\"markers+lines\",\"name\":\"32\",\"orientation\":\"v\",\"showlegend\":false,\"x\":[4,16,40,76],\"xaxis\":\"x4\",\"y\":[0.05893135070800781,0.10886073112487793,0.2084043025970459,0.4670281410217285],\"yaxis\":\"y4\",\"type\":\"scatter\"},{\"hovertemplate\":\"M=64<br>efConstruction=4<br>efSearch=%{x}<br>search time (ms/query)=%{y}<extra></extra>\",\"legendgroup\":\"64\",\"line\":{\"color\":\"#990099\",\"dash\":\"solid\"},\"marker\":{\"symbol\":\"circle\"},\"mode\":\"markers+lines\",\"name\":\"64\",\"orientation\":\"v\",\"showlegend\":true,\"x\":[4,16,40,76],\"xaxis\":\"x\",\"y\":[0.0344233512878418,0.12626266479492188,0.10410618782043457,0.15374064445495605],\"yaxis\":\"y\",\"type\":\"scatter\"},{\"hovertemplate\":\"M=64<br>efConstruction=16<br>efSearch=%{x}<br>search time (ms/query)=%{y}<extra></extra>\",\"legendgroup\":\"64\",\"line\":{\"color\":\"#990099\",\"dash\":\"solid\"},\"marker\":{\"symbol\":\"circle\"},\"mode\":\"markers+lines\",\"name\":\"64\",\"orientation\":\"v\",\"showlegend\":false,\"x\":[4,16,40,76],\"xaxis\":\"x2\",\"y\":[0.10606551170349121,0.12110638618469238,0.23667573928833008,0.3727540969848633],\"yaxis\":\"y2\",\"type\":\"scatter\"},{\"hovertemplate\":\"M=64<br>efConstruction=40<br>efSearch=%{x}<br>search time (ms/query)=%{y}<extra></extra>\",\"legendgroup\":\"64\",\"line\":{\"color\":\"#990099\",\"dash\":\"solid\"},\"marker\":{\"symbol\":\"circle\"},\"mode\":\"markers+lines\",\"name\":\"64\",\"orientation\":\"v\",\"showlegend\":false,\"x\":[4,16,40,76],\"xaxis\":\"x3\",\"y\":[0.11319875717163086,0.1775972843170166,0.35950422286987305,0.5686748027801514],\"yaxis\":\"y3\",\"type\":\"scatter\"},{\"hovertemplate\":\"M=64<br>efConstruction=76<br>efSearch=%{x}<br>search time (ms/query)=%{y}<extra></extra>\",\"legendgroup\":\"64\",\"line\":{\"color\":\"#990099\",\"dash\":\"solid\"},\"marker\":{\"symbol\":\"circle\"},\"mode\":\"markers+lines\",\"name\":\"64\",\"orientation\":\"v\",\"showlegend\":false,\"x\":[4,16,40,76],\"xaxis\":\"x4\",\"y\":[0.09943366050720215,0.22647881507873535,0.4291207790374756,0.728726863861084],\"yaxis\":\"y4\",\"type\":\"scatter\"}],                        {\"template\":{\"data\":{\"barpolar\":[{\"marker\":{\"line\":{\"color\":\"white\",\"width\":0.5},\"pattern\":{\"fillmode\":\"overlay\",\"size\":10,\"solidity\":0.2}},\"type\":\"barpolar\"}],\"bar\":[{\"error_x\":{\"color\":\"rgb(36,36,36)\"},\"error_y\":{\"color\":\"rgb(36,36,36)\"},\"marker\":{\"line\":{\"color\":\"white\",\"width\":0.5},\"pattern\":{\"fillmode\":\"overlay\",\"size\":10,\"solidity\":0.2}},\"type\":\"bar\"}],\"carpet\":[{\"aaxis\":{\"endlinecolor\":\"rgb(36,36,36)\",\"gridcolor\":\"white\",\"linecolor\":\"white\",\"minorgridcolor\":\"white\",\"startlinecolor\":\"rgb(36,36,36)\"},\"baxis\":{\"endlinecolor\":\"rgb(36,36,36)\",\"gridcolor\":\"white\",\"linecolor\":\"white\",\"minorgridcolor\":\"white\",\"startlinecolor\":\"rgb(36,36,36)\"},\"type\":\"carpet\"}],\"choropleth\":[{\"colorbar\":{\"outlinewidth\":1,\"tickcolor\":\"rgb(36,36,36)\",\"ticks\":\"outside\"},\"type\":\"choropleth\"}],\"contourcarpet\":[{\"colorbar\":{\"outlinewidth\":1,\"tickcolor\":\"rgb(36,36,36)\",\"ticks\":\"outside\"},\"type\":\"contourcarpet\"}],\"contour\":[{\"colorbar\":{\"outlinewidth\":1,\"tickcolor\":\"rgb(36,36,36)\",\"ticks\":\"outside\"},\"colorscale\":[[0.0,\"#440154\"],[0.1111111111111111,\"#482878\"],[0.2222222222222222,\"#3e4989\"],[0.3333333333333333,\"#31688e\"],[0.4444444444444444,\"#26828e\"],[0.5555555555555556,\"#1f9e89\"],[0.6666666666666666,\"#35b779\"],[0.7777777777777778,\"#6ece58\"],[0.8888888888888888,\"#b5de2b\"],[1.0,\"#fde725\"]],\"type\":\"contour\"}],\"heatmapgl\":[{\"colorbar\":{\"outlinewidth\":1,\"tickcolor\":\"rgb(36,36,36)\",\"ticks\":\"outside\"},\"colorscale\":[[0.0,\"#440154\"],[0.1111111111111111,\"#482878\"],[0.2222222222222222,\"#3e4989\"],[0.3333333333333333,\"#31688e\"],[0.4444444444444444,\"#26828e\"],[0.5555555555555556,\"#1f9e89\"],[0.6666666666666666,\"#35b779\"],[0.7777777777777778,\"#6ece58\"],[0.8888888888888888,\"#b5de2b\"],[1.0,\"#fde725\"]],\"type\":\"heatmapgl\"}],\"heatmap\":[{\"colorbar\":{\"outlinewidth\":1,\"tickcolor\":\"rgb(36,36,36)\",\"ticks\":\"outside\"},\"colorscale\":[[0.0,\"#440154\"],[0.1111111111111111,\"#482878\"],[0.2222222222222222,\"#3e4989\"],[0.3333333333333333,\"#31688e\"],[0.4444444444444444,\"#26828e\"],[0.5555555555555556,\"#1f9e89\"],[0.6666666666666666,\"#35b779\"],[0.7777777777777778,\"#6ece58\"],[0.8888888888888888,\"#b5de2b\"],[1.0,\"#fde725\"]],\"type\":\"heatmap\"}],\"histogram2dcontour\":[{\"colorbar\":{\"outlinewidth\":1,\"tickcolor\":\"rgb(36,36,36)\",\"ticks\":\"outside\"},\"colorscale\":[[0.0,\"#440154\"],[0.1111111111111111,\"#482878\"],[0.2222222222222222,\"#3e4989\"],[0.3333333333333333,\"#31688e\"],[0.4444444444444444,\"#26828e\"],[0.5555555555555556,\"#1f9e89\"],[0.6666666666666666,\"#35b779\"],[0.7777777777777778,\"#6ece58\"],[0.8888888888888888,\"#b5de2b\"],[1.0,\"#fde725\"]],\"type\":\"histogram2dcontour\"}],\"histogram2d\":[{\"colorbar\":{\"outlinewidth\":1,\"tickcolor\":\"rgb(36,36,36)\",\"ticks\":\"outside\"},\"colorscale\":[[0.0,\"#440154\"],[0.1111111111111111,\"#482878\"],[0.2222222222222222,\"#3e4989\"],[0.3333333333333333,\"#31688e\"],[0.4444444444444444,\"#26828e\"],[0.5555555555555556,\"#1f9e89\"],[0.6666666666666666,\"#35b779\"],[0.7777777777777778,\"#6ece58\"],[0.8888888888888888,\"#b5de2b\"],[1.0,\"#fde725\"]],\"type\":\"histogram2d\"}],\"histogram\":[{\"marker\":{\"line\":{\"color\":\"white\",\"width\":0.6}},\"type\":\"histogram\"}],\"mesh3d\":[{\"colorbar\":{\"outlinewidth\":1,\"tickcolor\":\"rgb(36,36,36)\",\"ticks\":\"outside\"},\"type\":\"mesh3d\"}],\"parcoords\":[{\"line\":{\"colorbar\":{\"outlinewidth\":1,\"tickcolor\":\"rgb(36,36,36)\",\"ticks\":\"outside\"}},\"type\":\"parcoords\"}],\"pie\":[{\"automargin\":true,\"type\":\"pie\"}],\"scatter3d\":[{\"line\":{\"colorbar\":{\"outlinewidth\":1,\"tickcolor\":\"rgb(36,36,36)\",\"ticks\":\"outside\"}},\"marker\":{\"colorbar\":{\"outlinewidth\":1,\"tickcolor\":\"rgb(36,36,36)\",\"ticks\":\"outside\"}},\"type\":\"scatter3d\"}],\"scattercarpet\":[{\"marker\":{\"colorbar\":{\"outlinewidth\":1,\"tickcolor\":\"rgb(36,36,36)\",\"ticks\":\"outside\"}},\"type\":\"scattercarpet\"}],\"scattergeo\":[{\"marker\":{\"colorbar\":{\"outlinewidth\":1,\"tickcolor\":\"rgb(36,36,36)\",\"ticks\":\"outside\"}},\"type\":\"scattergeo\"}],\"scattergl\":[{\"marker\":{\"colorbar\":{\"outlinewidth\":1,\"tickcolor\":\"rgb(36,36,36)\",\"ticks\":\"outside\"}},\"type\":\"scattergl\"}],\"scattermapbox\":[{\"marker\":{\"colorbar\":{\"outlinewidth\":1,\"tickcolor\":\"rgb(36,36,36)\",\"ticks\":\"outside\"}},\"type\":\"scattermapbox\"}],\"scatterpolargl\":[{\"marker\":{\"colorbar\":{\"outlinewidth\":1,\"tickcolor\":\"rgb(36,36,36)\",\"ticks\":\"outside\"}},\"type\":\"scatterpolargl\"}],\"scatterpolar\":[{\"marker\":{\"colorbar\":{\"outlinewidth\":1,\"tickcolor\":\"rgb(36,36,36)\",\"ticks\":\"outside\"}},\"type\":\"scatterpolar\"}],\"scatter\":[{\"fillpattern\":{\"fillmode\":\"overlay\",\"size\":10,\"solidity\":0.2},\"type\":\"scatter\"}],\"scatterternary\":[{\"marker\":{\"colorbar\":{\"outlinewidth\":1,\"tickcolor\":\"rgb(36,36,36)\",\"ticks\":\"outside\"}},\"type\":\"scatterternary\"}],\"surface\":[{\"colorbar\":{\"outlinewidth\":1,\"tickcolor\":\"rgb(36,36,36)\",\"ticks\":\"outside\"},\"colorscale\":[[0.0,\"#440154\"],[0.1111111111111111,\"#482878\"],[0.2222222222222222,\"#3e4989\"],[0.3333333333333333,\"#31688e\"],[0.4444444444444444,\"#26828e\"],[0.5555555555555556,\"#1f9e89\"],[0.6666666666666666,\"#35b779\"],[0.7777777777777778,\"#6ece58\"],[0.8888888888888888,\"#b5de2b\"],[1.0,\"#fde725\"]],\"type\":\"surface\"}],\"table\":[{\"cells\":{\"fill\":{\"color\":\"rgb(237,237,237)\"},\"line\":{\"color\":\"white\"}},\"header\":{\"fill\":{\"color\":\"rgb(217,217,217)\"},\"line\":{\"color\":\"white\"}},\"type\":\"table\"}]},\"layout\":{\"annotationdefaults\":{\"arrowhead\":0,\"arrowwidth\":1},\"autotypenumbers\":\"strict\",\"coloraxis\":{\"colorbar\":{\"outlinewidth\":1,\"tickcolor\":\"rgb(36,36,36)\",\"ticks\":\"outside\"}},\"colorscale\":{\"diverging\":[[0.0,\"rgb(103,0,31)\"],[0.1,\"rgb(178,24,43)\"],[0.2,\"rgb(214,96,77)\"],[0.3,\"rgb(244,165,130)\"],[0.4,\"rgb(253,219,199)\"],[0.5,\"rgb(247,247,247)\"],[0.6,\"rgb(209,229,240)\"],[0.7,\"rgb(146,197,222)\"],[0.8,\"rgb(67,147,195)\"],[0.9,\"rgb(33,102,172)\"],[1.0,\"rgb(5,48,97)\"]],\"sequential\":[[0.0,\"#440154\"],[0.1111111111111111,\"#482878\"],[0.2222222222222222,\"#3e4989\"],[0.3333333333333333,\"#31688e\"],[0.4444444444444444,\"#26828e\"],[0.5555555555555556,\"#1f9e89\"],[0.6666666666666666,\"#35b779\"],[0.7777777777777778,\"#6ece58\"],[0.8888888888888888,\"#b5de2b\"],[1.0,\"#fde725\"]],\"sequentialminus\":[[0.0,\"#440154\"],[0.1111111111111111,\"#482878\"],[0.2222222222222222,\"#3e4989\"],[0.3333333333333333,\"#31688e\"],[0.4444444444444444,\"#26828e\"],[0.5555555555555556,\"#1f9e89\"],[0.6666666666666666,\"#35b779\"],[0.7777777777777778,\"#6ece58\"],[0.8888888888888888,\"#b5de2b\"],[1.0,\"#fde725\"]]},\"colorway\":[\"#1F77B4\",\"#FF7F0E\",\"#2CA02C\",\"#D62728\",\"#9467BD\",\"#8C564B\",\"#E377C2\",\"#7F7F7F\",\"#BCBD22\",\"#17BECF\"],\"font\":{\"color\":\"rgb(36,36,36)\"},\"geo\":{\"bgcolor\":\"white\",\"lakecolor\":\"white\",\"landcolor\":\"white\",\"showlakes\":true,\"showland\":true,\"subunitcolor\":\"white\"},\"hoverlabel\":{\"align\":\"left\"},\"hovermode\":\"closest\",\"mapbox\":{\"style\":\"light\"},\"paper_bgcolor\":\"white\",\"plot_bgcolor\":\"white\",\"polar\":{\"angularaxis\":{\"gridcolor\":\"rgb(232,232,232)\",\"linecolor\":\"rgb(36,36,36)\",\"showgrid\":false,\"showline\":true,\"ticks\":\"outside\"},\"bgcolor\":\"white\",\"radialaxis\":{\"gridcolor\":\"rgb(232,232,232)\",\"linecolor\":\"rgb(36,36,36)\",\"showgrid\":false,\"showline\":true,\"ticks\":\"outside\"}},\"scene\":{\"xaxis\":{\"backgroundcolor\":\"white\",\"gridcolor\":\"rgb(232,232,232)\",\"gridwidth\":2,\"linecolor\":\"rgb(36,36,36)\",\"showbackground\":true,\"showgrid\":false,\"showline\":true,\"ticks\":\"outside\",\"zeroline\":false,\"zerolinecolor\":\"rgb(36,36,36)\"},\"yaxis\":{\"backgroundcolor\":\"white\",\"gridcolor\":\"rgb(232,232,232)\",\"gridwidth\":2,\"linecolor\":\"rgb(36,36,36)\",\"showbackground\":true,\"showgrid\":false,\"showline\":true,\"ticks\":\"outside\",\"zeroline\":false,\"zerolinecolor\":\"rgb(36,36,36)\"},\"zaxis\":{\"backgroundcolor\":\"white\",\"gridcolor\":\"rgb(232,232,232)\",\"gridwidth\":2,\"linecolor\":\"rgb(36,36,36)\",\"showbackground\":true,\"showgrid\":false,\"showline\":true,\"ticks\":\"outside\",\"zeroline\":false,\"zerolinecolor\":\"rgb(36,36,36)\"}},\"shapedefaults\":{\"fillcolor\":\"black\",\"line\":{\"width\":0},\"opacity\":0.3},\"ternary\":{\"aaxis\":{\"gridcolor\":\"rgb(232,232,232)\",\"linecolor\":\"rgb(36,36,36)\",\"showgrid\":false,\"showline\":true,\"ticks\":\"outside\"},\"baxis\":{\"gridcolor\":\"rgb(232,232,232)\",\"linecolor\":\"rgb(36,36,36)\",\"showgrid\":false,\"showline\":true,\"ticks\":\"outside\"},\"bgcolor\":\"white\",\"caxis\":{\"gridcolor\":\"rgb(232,232,232)\",\"linecolor\":\"rgb(36,36,36)\",\"showgrid\":false,\"showline\":true,\"ticks\":\"outside\"}},\"title\":{\"x\":0.05},\"xaxis\":{\"automargin\":true,\"gridcolor\":\"rgb(232,232,232)\",\"linecolor\":\"rgb(36,36,36)\",\"showgrid\":false,\"showline\":true,\"ticks\":\"outside\",\"title\":{\"standoff\":15},\"zeroline\":false,\"zerolinecolor\":\"rgb(36,36,36)\"},\"yaxis\":{\"automargin\":true,\"gridcolor\":\"rgb(232,232,232)\",\"linecolor\":\"rgb(36,36,36)\",\"showgrid\":false,\"showline\":true,\"ticks\":\"outside\",\"title\":{\"standoff\":15},\"zeroline\":false,\"zerolinecolor\":\"rgb(36,36,36)\"}}},\"xaxis\":{\"anchor\":\"y\",\"domain\":[0.0,0.2425],\"title\":{\"text\":\"efSearch\"},\"linecolor\":\"darkgrey\"},\"yaxis\":{\"anchor\":\"x\",\"domain\":[0.0,1.0],\"title\":{\"text\":\"search time (ms/query)\"},\"linecolor\":\"darkgrey\",\"showgrid\":true,\"gridwidth\":1,\"gridcolor\":\"LightGrey\",\"griddash\":\"dot\",\"ticks\":\"\"},\"xaxis2\":{\"anchor\":\"y2\",\"domain\":[0.2525,0.495],\"matches\":\"x\",\"title\":{\"text\":\"efSearch\"},\"linecolor\":\"darkgrey\"},\"yaxis2\":{\"anchor\":\"x2\",\"domain\":[0.0,1.0],\"matches\":\"y\",\"showticklabels\":false,\"linecolor\":\"darkgrey\",\"showgrid\":true,\"gridwidth\":1,\"gridcolor\":\"LightGrey\",\"griddash\":\"dot\",\"ticks\":\"\"},\"xaxis3\":{\"anchor\":\"y3\",\"domain\":[0.505,0.7475],\"matches\":\"x\",\"title\":{\"text\":\"efSearch\"},\"linecolor\":\"darkgrey\"},\"yaxis3\":{\"anchor\":\"x3\",\"domain\":[0.0,1.0],\"matches\":\"y\",\"showticklabels\":false,\"linecolor\":\"darkgrey\",\"showgrid\":true,\"gridwidth\":1,\"gridcolor\":\"LightGrey\",\"griddash\":\"dot\",\"ticks\":\"\"},\"xaxis4\":{\"anchor\":\"y4\",\"domain\":[0.7575000000000001,1.0],\"matches\":\"x\",\"title\":{\"text\":\"efSearch\"},\"linecolor\":\"darkgrey\"},\"yaxis4\":{\"anchor\":\"x4\",\"domain\":[0.0,1.0],\"matches\":\"y\",\"showticklabels\":false,\"linecolor\":\"darkgrey\",\"showgrid\":true,\"gridwidth\":1,\"gridcolor\":\"LightGrey\",\"griddash\":\"dot\",\"ticks\":\"\"},\"annotations\":[{\"font\":{},\"showarrow\":false,\"text\":\"efConstruction=4\",\"x\":0.12125,\"xanchor\":\"center\",\"xref\":\"paper\",\"y\":1.0,\"yanchor\":\"bottom\",\"yref\":\"paper\"},{\"font\":{},\"showarrow\":false,\"text\":\"efConstruction=16\",\"x\":0.37375,\"xanchor\":\"center\",\"xref\":\"paper\",\"y\":1.0,\"yanchor\":\"bottom\",\"yref\":\"paper\"},{\"font\":{},\"showarrow\":false,\"text\":\"efConstruction=40\",\"x\":0.62625,\"xanchor\":\"center\",\"xref\":\"paper\",\"y\":1.0,\"yanchor\":\"bottom\",\"yref\":\"paper\"},{\"font\":{},\"showarrow\":false,\"text\":\"efConstruction=76\",\"x\":0.87875,\"xanchor\":\"center\",\"xref\":\"paper\",\"y\":1.0,\"yanchor\":\"bottom\",\"yref\":\"paper\"}],\"legend\":{\"title\":{\"text\":\"M\"},\"tracegroupgap\":0,\"yanchor\":\"top\",\"y\":0.99,\"xanchor\":\"left\",\"x\":0.03,\"borderwidth\":1,\"traceorder\":\"reversed\"},\"margin\":{\"t\":60},\"height\":390,\"width\":750},                        {\"responsive\": true}                    ).then(function(){\n",
       "                            \n",
       "var gd = document.getElementById('73230917-be37-4d33-a803-5c12a6a7949a');\n",
       "var x = new MutationObserver(function (mutations, observer) {{\n",
       "        var display = window.getComputedStyle(gd).display;\n",
       "        if (!display || display === 'none') {{\n",
       "            console.log([gd, 'removed!']);\n",
       "            Plotly.purge(gd);\n",
       "            observer.disconnect();\n",
       "        }}\n",
       "}});\n",
       "\n",
       "// Listen for the removal of the full notebook cells\n",
       "var notebookContainer = gd.closest('#notebook-container');\n",
       "if (notebookContainer) {{\n",
       "    x.observe(notebookContainer, {childList: true});\n",
       "}}\n",
       "\n",
       "// Listen for the clearing of the current output cell\n",
       "var outputEl = gd.closest('.output');\n",
       "if (outputEl) {{\n",
       "    x.observe(outputEl, {childList: true});\n",
       "}}\n",
       "\n",
       "                        })                };                });            </script>        </div>"
      ]
     },
     "metadata": {},
     "output_type": "display_data"
    }
   ],
   "source": [
    "fig = px.line(dfHNSW, x=\"efSearch\", y=\"search_time\", color=\"M\", height=390, width=750, markers=True,\n",
    "              template=\"simple_white\", color_discrete_sequence=colors_custom, #color_discrete_sequence=px.colors.qualitative.D3,  \n",
    "              facet_col=\"efConstruction\", facet_col_spacing=0.01,\n",
    "              labels=dict(search_time=\"search time (ms/query)\",)\n",
    "             )\n",
    "fig.update_layout(legend=dict(yanchor=\"top\", y=0.99, xanchor=\"left\", x=0.03, borderwidth=1, traceorder=\"reversed\")) # orientation=\"h\"\n",
    "fig.update_xaxes(linecolor='darkgrey')\n",
    "fig.update_yaxes(linecolor='darkgrey', showgrid=True, gridwidth=1, gridcolor='LightGrey', griddash=\"dot\", ticks=\"\")\n",
    "fig.show()\n",
    "fig.write_html(\"Hflat_search_time_efSearch_efConst.html\")"
   ]
  },
  {
   "cell_type": "code",
   "execution_count": 44,
   "id": "1105cacf",
   "metadata": {
    "execution": {
     "iopub.execute_input": "2022-08-23T06:58:17.058513Z",
     "iopub.status.busy": "2022-08-23T06:58:17.058151Z",
     "iopub.status.idle": "2022-08-23T06:58:17.219892Z",
     "shell.execute_reply": "2022-08-23T06:58:17.218918Z"
    },
    "papermill": {
     "duration": 0.714768,
     "end_time": "2022-08-23T06:58:17.222248",
     "exception": false,
     "start_time": "2022-08-23T06:58:16.507480",
     "status": "completed"
    },
    "tags": []
   },
   "outputs": [
    {
     "data": {
      "text/html": [
       "<div>                            <div id=\"a4d2ebd4-3b16-4970-bc52-ebb929a0bc9d\" class=\"plotly-graph-div\" style=\"height:390px; width:750px;\"></div>            <script type=\"text/javascript\">                require([\"plotly\"], function(Plotly) {                    window.PLOTLYENV=window.PLOTLYENV || {};                                    if (document.getElementById(\"a4d2ebd4-3b16-4970-bc52-ebb929a0bc9d\")) {                    Plotly.newPlot(                        \"a4d2ebd4-3b16-4970-bc52-ebb929a0bc9d\",                        [{\"hovertemplate\":\"M=4<br>efSearch=4<br>efConstruction=%{x}<br>search time (ms/query)=%{y}<extra></extra>\",\"legendgroup\":\"4\",\"line\":{\"color\":\"#EECA3B\",\"dash\":\"solid\"},\"marker\":{\"symbol\":\"circle\"},\"mode\":\"markers+lines\",\"name\":\"4\",\"orientation\":\"v\",\"showlegend\":true,\"x\":[4,16,40,76],\"xaxis\":\"x\",\"y\":[0.05148124694824219,0.04798436164855957,0.07315301895141602,0.0787818431854248],\"yaxis\":\"y\",\"type\":\"scatter\"},{\"hovertemplate\":\"M=4<br>efSearch=16<br>efConstruction=%{x}<br>search time (ms/query)=%{y}<extra></extra>\",\"legendgroup\":\"4\",\"line\":{\"color\":\"#EECA3B\",\"dash\":\"solid\"},\"marker\":{\"symbol\":\"circle\"},\"mode\":\"markers+lines\",\"name\":\"4\",\"orientation\":\"v\",\"showlegend\":false,\"x\":[4,16,40,76],\"xaxis\":\"x2\",\"y\":[0.08799934387207031,0.03941011428833008,0.03420615196228027,0.03648710250854492],\"yaxis\":\"y2\",\"type\":\"scatter\"},{\"hovertemplate\":\"M=4<br>efSearch=40<br>efConstruction=%{x}<br>search time (ms/query)=%{y}<extra></extra>\",\"legendgroup\":\"4\",\"line\":{\"color\":\"#EECA3B\",\"dash\":\"solid\"},\"marker\":{\"symbol\":\"circle\"},\"mode\":\"markers+lines\",\"name\":\"4\",\"orientation\":\"v\",\"showlegend\":false,\"x\":[4,16,40,76],\"xaxis\":\"x3\",\"y\":[0.14001178741455078,0.0675649642944336,0.07332253456115723,0.07552194595336914],\"yaxis\":\"y3\",\"type\":\"scatter\"},{\"hovertemplate\":\"M=4<br>efSearch=76<br>efConstruction=%{x}<br>search time (ms/query)=%{y}<extra></extra>\",\"legendgroup\":\"4\",\"line\":{\"color\":\"#EECA3B\",\"dash\":\"solid\"},\"marker\":{\"symbol\":\"circle\"},\"mode\":\"markers+lines\",\"name\":\"4\",\"orientation\":\"v\",\"showlegend\":false,\"x\":[4,16,40,76],\"xaxis\":\"x4\",\"y\":[0.11078906059265137,0.18841075897216797,0.12844347953796387,0.13284969329833984],\"yaxis\":\"y4\",\"type\":\"scatter\"},{\"hovertemplate\":\"M=16<br>efSearch=4<br>efConstruction=%{x}<br>search time (ms/query)=%{y}<extra></extra>\",\"legendgroup\":\"16\",\"line\":{\"color\":\"#FF9900\",\"dash\":\"solid\"},\"marker\":{\"symbol\":\"circle\"},\"mode\":\"markers+lines\",\"name\":\"16\",\"orientation\":\"v\",\"showlegend\":true,\"x\":[4,16,40,76],\"xaxis\":\"x\",\"y\":[0.03242778778076172,0.059123992919921875,0.07875919342041016,0.050643205642700195],\"yaxis\":\"y\",\"type\":\"scatter\"},{\"hovertemplate\":\"M=16<br>efSearch=16<br>efConstruction=%{x}<br>search time (ms/query)=%{y}<extra></extra>\",\"legendgroup\":\"16\",\"line\":{\"color\":\"#FF9900\",\"dash\":\"solid\"},\"marker\":{\"symbol\":\"circle\"},\"mode\":\"markers+lines\",\"name\":\"16\",\"orientation\":\"v\",\"showlegend\":false,\"x\":[4,16,40,76],\"xaxis\":\"x2\",\"y\":[0.03500080108642578,0.07422256469726562,0.14578747749328613,0.08057737350463867],\"yaxis\":\"y2\",\"type\":\"scatter\"},{\"hovertemplate\":\"M=16<br>efSearch=40<br>efConstruction=%{x}<br>search time (ms/query)=%{y}<extra></extra>\",\"legendgroup\":\"16\",\"line\":{\"color\":\"#FF9900\",\"dash\":\"solid\"},\"marker\":{\"symbol\":\"circle\"},\"mode\":\"markers+lines\",\"name\":\"16\",\"orientation\":\"v\",\"showlegend\":false,\"x\":[4,16,40,76],\"xaxis\":\"x3\",\"y\":[0.07417988777160645,0.15061712265014648,0.26551079750061035,0.16374754905700684],\"yaxis\":\"y3\",\"type\":\"scatter\"},{\"hovertemplate\":\"M=16<br>efSearch=76<br>efConstruction=%{x}<br>search time (ms/query)=%{y}<extra></extra>\",\"legendgroup\":\"16\",\"line\":{\"color\":\"#FF9900\",\"dash\":\"solid\"},\"marker\":{\"symbol\":\"circle\"},\"mode\":\"markers+lines\",\"name\":\"16\",\"orientation\":\"v\",\"showlegend\":false,\"x\":[4,16,40,76],\"xaxis\":\"x4\",\"y\":[0.1721813678741455,0.2765541076660156,0.329667329788208,0.3028593063354492],\"yaxis\":\"y4\",\"type\":\"scatter\"},{\"hovertemplate\":\"M=32<br>efSearch=4<br>efConstruction=%{x}<br>search time (ms/query)=%{y}<extra></extra>\",\"legendgroup\":\"32\",\"line\":{\"color\":\"#DC3912\",\"dash\":\"solid\"},\"marker\":{\"symbol\":\"circle\"},\"mode\":\"markers+lines\",\"name\":\"32\",\"orientation\":\"v\",\"showlegend\":true,\"x\":[4,16,40,76],\"xaxis\":\"x\",\"y\":[0.04051804542541504,0.10623764991760254,0.10319304466247559,0.05893135070800781],\"yaxis\":\"y\",\"type\":\"scatter\"},{\"hovertemplate\":\"M=32<br>efSearch=16<br>efConstruction=%{x}<br>search time (ms/query)=%{y}<extra></extra>\",\"legendgroup\":\"32\",\"line\":{\"color\":\"#DC3912\",\"dash\":\"solid\"},\"marker\":{\"symbol\":\"circle\"},\"mode\":\"markers+lines\",\"name\":\"32\",\"orientation\":\"v\",\"showlegend\":false,\"x\":[4,16,40,76],\"xaxis\":\"x2\",\"y\":[0.07303428649902344,0.20286774635314941,0.1366117000579834,0.10886073112487793],\"yaxis\":\"y2\",\"type\":\"scatter\"},{\"hovertemplate\":\"M=32<br>efSearch=40<br>efConstruction=%{x}<br>search time (ms/query)=%{y}<extra></extra>\",\"legendgroup\":\"32\",\"line\":{\"color\":\"#DC3912\",\"dash\":\"solid\"},\"marker\":{\"symbol\":\"circle\"},\"mode\":\"markers+lines\",\"name\":\"32\",\"orientation\":\"v\",\"showlegend\":false,\"x\":[4,16,40,76],\"xaxis\":\"x3\",\"y\":[0.0829169750213623,0.32986998558044434,0.2646486759185791,0.2084043025970459],\"yaxis\":\"y3\",\"type\":\"scatter\"},{\"hovertemplate\":\"M=32<br>efSearch=76<br>efConstruction=%{x}<br>search time (ms/query)=%{y}<extra></extra>\",\"legendgroup\":\"32\",\"line\":{\"color\":\"#DC3912\",\"dash\":\"solid\"},\"marker\":{\"symbol\":\"circle\"},\"mode\":\"markers+lines\",\"name\":\"32\",\"orientation\":\"v\",\"showlegend\":false,\"x\":[4,16,40,76],\"xaxis\":\"x4\",\"y\":[0.132843017578125,0.4486548900604248,0.4252011775970459,0.4670281410217285],\"yaxis\":\"y4\",\"type\":\"scatter\"},{\"hovertemplate\":\"M=64<br>efSearch=4<br>efConstruction=%{x}<br>search time (ms/query)=%{y}<extra></extra>\",\"legendgroup\":\"64\",\"line\":{\"color\":\"#990099\",\"dash\":\"solid\"},\"marker\":{\"symbol\":\"circle\"},\"mode\":\"markers+lines\",\"name\":\"64\",\"orientation\":\"v\",\"showlegend\":true,\"x\":[4,16,40,76],\"xaxis\":\"x\",\"y\":[0.0344233512878418,0.10606551170349121,0.11319875717163086,0.09943366050720215],\"yaxis\":\"y\",\"type\":\"scatter\"},{\"hovertemplate\":\"M=64<br>efSearch=16<br>efConstruction=%{x}<br>search time (ms/query)=%{y}<extra></extra>\",\"legendgroup\":\"64\",\"line\":{\"color\":\"#990099\",\"dash\":\"solid\"},\"marker\":{\"symbol\":\"circle\"},\"mode\":\"markers+lines\",\"name\":\"64\",\"orientation\":\"v\",\"showlegend\":false,\"x\":[4,16,40,76],\"xaxis\":\"x2\",\"y\":[0.12626266479492188,0.12110638618469238,0.1775972843170166,0.22647881507873535],\"yaxis\":\"y2\",\"type\":\"scatter\"},{\"hovertemplate\":\"M=64<br>efSearch=40<br>efConstruction=%{x}<br>search time (ms/query)=%{y}<extra></extra>\",\"legendgroup\":\"64\",\"line\":{\"color\":\"#990099\",\"dash\":\"solid\"},\"marker\":{\"symbol\":\"circle\"},\"mode\":\"markers+lines\",\"name\":\"64\",\"orientation\":\"v\",\"showlegend\":false,\"x\":[4,16,40,76],\"xaxis\":\"x3\",\"y\":[0.10410618782043457,0.23667573928833008,0.35950422286987305,0.4291207790374756],\"yaxis\":\"y3\",\"type\":\"scatter\"},{\"hovertemplate\":\"M=64<br>efSearch=76<br>efConstruction=%{x}<br>search time (ms/query)=%{y}<extra></extra>\",\"legendgroup\":\"64\",\"line\":{\"color\":\"#990099\",\"dash\":\"solid\"},\"marker\":{\"symbol\":\"circle\"},\"mode\":\"markers+lines\",\"name\":\"64\",\"orientation\":\"v\",\"showlegend\":false,\"x\":[4,16,40,76],\"xaxis\":\"x4\",\"y\":[0.15374064445495605,0.3727540969848633,0.5686748027801514,0.728726863861084],\"yaxis\":\"y4\",\"type\":\"scatter\"}],                        {\"template\":{\"data\":{\"barpolar\":[{\"marker\":{\"line\":{\"color\":\"white\",\"width\":0.5},\"pattern\":{\"fillmode\":\"overlay\",\"size\":10,\"solidity\":0.2}},\"type\":\"barpolar\"}],\"bar\":[{\"error_x\":{\"color\":\"rgb(36,36,36)\"},\"error_y\":{\"color\":\"rgb(36,36,36)\"},\"marker\":{\"line\":{\"color\":\"white\",\"width\":0.5},\"pattern\":{\"fillmode\":\"overlay\",\"size\":10,\"solidity\":0.2}},\"type\":\"bar\"}],\"carpet\":[{\"aaxis\":{\"endlinecolor\":\"rgb(36,36,36)\",\"gridcolor\":\"white\",\"linecolor\":\"white\",\"minorgridcolor\":\"white\",\"startlinecolor\":\"rgb(36,36,36)\"},\"baxis\":{\"endlinecolor\":\"rgb(36,36,36)\",\"gridcolor\":\"white\",\"linecolor\":\"white\",\"minorgridcolor\":\"white\",\"startlinecolor\":\"rgb(36,36,36)\"},\"type\":\"carpet\"}],\"choropleth\":[{\"colorbar\":{\"outlinewidth\":1,\"tickcolor\":\"rgb(36,36,36)\",\"ticks\":\"outside\"},\"type\":\"choropleth\"}],\"contourcarpet\":[{\"colorbar\":{\"outlinewidth\":1,\"tickcolor\":\"rgb(36,36,36)\",\"ticks\":\"outside\"},\"type\":\"contourcarpet\"}],\"contour\":[{\"colorbar\":{\"outlinewidth\":1,\"tickcolor\":\"rgb(36,36,36)\",\"ticks\":\"outside\"},\"colorscale\":[[0.0,\"#440154\"],[0.1111111111111111,\"#482878\"],[0.2222222222222222,\"#3e4989\"],[0.3333333333333333,\"#31688e\"],[0.4444444444444444,\"#26828e\"],[0.5555555555555556,\"#1f9e89\"],[0.6666666666666666,\"#35b779\"],[0.7777777777777778,\"#6ece58\"],[0.8888888888888888,\"#b5de2b\"],[1.0,\"#fde725\"]],\"type\":\"contour\"}],\"heatmapgl\":[{\"colorbar\":{\"outlinewidth\":1,\"tickcolor\":\"rgb(36,36,36)\",\"ticks\":\"outside\"},\"colorscale\":[[0.0,\"#440154\"],[0.1111111111111111,\"#482878\"],[0.2222222222222222,\"#3e4989\"],[0.3333333333333333,\"#31688e\"],[0.4444444444444444,\"#26828e\"],[0.5555555555555556,\"#1f9e89\"],[0.6666666666666666,\"#35b779\"],[0.7777777777777778,\"#6ece58\"],[0.8888888888888888,\"#b5de2b\"],[1.0,\"#fde725\"]],\"type\":\"heatmapgl\"}],\"heatmap\":[{\"colorbar\":{\"outlinewidth\":1,\"tickcolor\":\"rgb(36,36,36)\",\"ticks\":\"outside\"},\"colorscale\":[[0.0,\"#440154\"],[0.1111111111111111,\"#482878\"],[0.2222222222222222,\"#3e4989\"],[0.3333333333333333,\"#31688e\"],[0.4444444444444444,\"#26828e\"],[0.5555555555555556,\"#1f9e89\"],[0.6666666666666666,\"#35b779\"],[0.7777777777777778,\"#6ece58\"],[0.8888888888888888,\"#b5de2b\"],[1.0,\"#fde725\"]],\"type\":\"heatmap\"}],\"histogram2dcontour\":[{\"colorbar\":{\"outlinewidth\":1,\"tickcolor\":\"rgb(36,36,36)\",\"ticks\":\"outside\"},\"colorscale\":[[0.0,\"#440154\"],[0.1111111111111111,\"#482878\"],[0.2222222222222222,\"#3e4989\"],[0.3333333333333333,\"#31688e\"],[0.4444444444444444,\"#26828e\"],[0.5555555555555556,\"#1f9e89\"],[0.6666666666666666,\"#35b779\"],[0.7777777777777778,\"#6ece58\"],[0.8888888888888888,\"#b5de2b\"],[1.0,\"#fde725\"]],\"type\":\"histogram2dcontour\"}],\"histogram2d\":[{\"colorbar\":{\"outlinewidth\":1,\"tickcolor\":\"rgb(36,36,36)\",\"ticks\":\"outside\"},\"colorscale\":[[0.0,\"#440154\"],[0.1111111111111111,\"#482878\"],[0.2222222222222222,\"#3e4989\"],[0.3333333333333333,\"#31688e\"],[0.4444444444444444,\"#26828e\"],[0.5555555555555556,\"#1f9e89\"],[0.6666666666666666,\"#35b779\"],[0.7777777777777778,\"#6ece58\"],[0.8888888888888888,\"#b5de2b\"],[1.0,\"#fde725\"]],\"type\":\"histogram2d\"}],\"histogram\":[{\"marker\":{\"line\":{\"color\":\"white\",\"width\":0.6}},\"type\":\"histogram\"}],\"mesh3d\":[{\"colorbar\":{\"outlinewidth\":1,\"tickcolor\":\"rgb(36,36,36)\",\"ticks\":\"outside\"},\"type\":\"mesh3d\"}],\"parcoords\":[{\"line\":{\"colorbar\":{\"outlinewidth\":1,\"tickcolor\":\"rgb(36,36,36)\",\"ticks\":\"outside\"}},\"type\":\"parcoords\"}],\"pie\":[{\"automargin\":true,\"type\":\"pie\"}],\"scatter3d\":[{\"line\":{\"colorbar\":{\"outlinewidth\":1,\"tickcolor\":\"rgb(36,36,36)\",\"ticks\":\"outside\"}},\"marker\":{\"colorbar\":{\"outlinewidth\":1,\"tickcolor\":\"rgb(36,36,36)\",\"ticks\":\"outside\"}},\"type\":\"scatter3d\"}],\"scattercarpet\":[{\"marker\":{\"colorbar\":{\"outlinewidth\":1,\"tickcolor\":\"rgb(36,36,36)\",\"ticks\":\"outside\"}},\"type\":\"scattercarpet\"}],\"scattergeo\":[{\"marker\":{\"colorbar\":{\"outlinewidth\":1,\"tickcolor\":\"rgb(36,36,36)\",\"ticks\":\"outside\"}},\"type\":\"scattergeo\"}],\"scattergl\":[{\"marker\":{\"colorbar\":{\"outlinewidth\":1,\"tickcolor\":\"rgb(36,36,36)\",\"ticks\":\"outside\"}},\"type\":\"scattergl\"}],\"scattermapbox\":[{\"marker\":{\"colorbar\":{\"outlinewidth\":1,\"tickcolor\":\"rgb(36,36,36)\",\"ticks\":\"outside\"}},\"type\":\"scattermapbox\"}],\"scatterpolargl\":[{\"marker\":{\"colorbar\":{\"outlinewidth\":1,\"tickcolor\":\"rgb(36,36,36)\",\"ticks\":\"outside\"}},\"type\":\"scatterpolargl\"}],\"scatterpolar\":[{\"marker\":{\"colorbar\":{\"outlinewidth\":1,\"tickcolor\":\"rgb(36,36,36)\",\"ticks\":\"outside\"}},\"type\":\"scatterpolar\"}],\"scatter\":[{\"fillpattern\":{\"fillmode\":\"overlay\",\"size\":10,\"solidity\":0.2},\"type\":\"scatter\"}],\"scatterternary\":[{\"marker\":{\"colorbar\":{\"outlinewidth\":1,\"tickcolor\":\"rgb(36,36,36)\",\"ticks\":\"outside\"}},\"type\":\"scatterternary\"}],\"surface\":[{\"colorbar\":{\"outlinewidth\":1,\"tickcolor\":\"rgb(36,36,36)\",\"ticks\":\"outside\"},\"colorscale\":[[0.0,\"#440154\"],[0.1111111111111111,\"#482878\"],[0.2222222222222222,\"#3e4989\"],[0.3333333333333333,\"#31688e\"],[0.4444444444444444,\"#26828e\"],[0.5555555555555556,\"#1f9e89\"],[0.6666666666666666,\"#35b779\"],[0.7777777777777778,\"#6ece58\"],[0.8888888888888888,\"#b5de2b\"],[1.0,\"#fde725\"]],\"type\":\"surface\"}],\"table\":[{\"cells\":{\"fill\":{\"color\":\"rgb(237,237,237)\"},\"line\":{\"color\":\"white\"}},\"header\":{\"fill\":{\"color\":\"rgb(217,217,217)\"},\"line\":{\"color\":\"white\"}},\"type\":\"table\"}]},\"layout\":{\"annotationdefaults\":{\"arrowhead\":0,\"arrowwidth\":1},\"autotypenumbers\":\"strict\",\"coloraxis\":{\"colorbar\":{\"outlinewidth\":1,\"tickcolor\":\"rgb(36,36,36)\",\"ticks\":\"outside\"}},\"colorscale\":{\"diverging\":[[0.0,\"rgb(103,0,31)\"],[0.1,\"rgb(178,24,43)\"],[0.2,\"rgb(214,96,77)\"],[0.3,\"rgb(244,165,130)\"],[0.4,\"rgb(253,219,199)\"],[0.5,\"rgb(247,247,247)\"],[0.6,\"rgb(209,229,240)\"],[0.7,\"rgb(146,197,222)\"],[0.8,\"rgb(67,147,195)\"],[0.9,\"rgb(33,102,172)\"],[1.0,\"rgb(5,48,97)\"]],\"sequential\":[[0.0,\"#440154\"],[0.1111111111111111,\"#482878\"],[0.2222222222222222,\"#3e4989\"],[0.3333333333333333,\"#31688e\"],[0.4444444444444444,\"#26828e\"],[0.5555555555555556,\"#1f9e89\"],[0.6666666666666666,\"#35b779\"],[0.7777777777777778,\"#6ece58\"],[0.8888888888888888,\"#b5de2b\"],[1.0,\"#fde725\"]],\"sequentialminus\":[[0.0,\"#440154\"],[0.1111111111111111,\"#482878\"],[0.2222222222222222,\"#3e4989\"],[0.3333333333333333,\"#31688e\"],[0.4444444444444444,\"#26828e\"],[0.5555555555555556,\"#1f9e89\"],[0.6666666666666666,\"#35b779\"],[0.7777777777777778,\"#6ece58\"],[0.8888888888888888,\"#b5de2b\"],[1.0,\"#fde725\"]]},\"colorway\":[\"#1F77B4\",\"#FF7F0E\",\"#2CA02C\",\"#D62728\",\"#9467BD\",\"#8C564B\",\"#E377C2\",\"#7F7F7F\",\"#BCBD22\",\"#17BECF\"],\"font\":{\"color\":\"rgb(36,36,36)\"},\"geo\":{\"bgcolor\":\"white\",\"lakecolor\":\"white\",\"landcolor\":\"white\",\"showlakes\":true,\"showland\":true,\"subunitcolor\":\"white\"},\"hoverlabel\":{\"align\":\"left\"},\"hovermode\":\"closest\",\"mapbox\":{\"style\":\"light\"},\"paper_bgcolor\":\"white\",\"plot_bgcolor\":\"white\",\"polar\":{\"angularaxis\":{\"gridcolor\":\"rgb(232,232,232)\",\"linecolor\":\"rgb(36,36,36)\",\"showgrid\":false,\"showline\":true,\"ticks\":\"outside\"},\"bgcolor\":\"white\",\"radialaxis\":{\"gridcolor\":\"rgb(232,232,232)\",\"linecolor\":\"rgb(36,36,36)\",\"showgrid\":false,\"showline\":true,\"ticks\":\"outside\"}},\"scene\":{\"xaxis\":{\"backgroundcolor\":\"white\",\"gridcolor\":\"rgb(232,232,232)\",\"gridwidth\":2,\"linecolor\":\"rgb(36,36,36)\",\"showbackground\":true,\"showgrid\":false,\"showline\":true,\"ticks\":\"outside\",\"zeroline\":false,\"zerolinecolor\":\"rgb(36,36,36)\"},\"yaxis\":{\"backgroundcolor\":\"white\",\"gridcolor\":\"rgb(232,232,232)\",\"gridwidth\":2,\"linecolor\":\"rgb(36,36,36)\",\"showbackground\":true,\"showgrid\":false,\"showline\":true,\"ticks\":\"outside\",\"zeroline\":false,\"zerolinecolor\":\"rgb(36,36,36)\"},\"zaxis\":{\"backgroundcolor\":\"white\",\"gridcolor\":\"rgb(232,232,232)\",\"gridwidth\":2,\"linecolor\":\"rgb(36,36,36)\",\"showbackground\":true,\"showgrid\":false,\"showline\":true,\"ticks\":\"outside\",\"zeroline\":false,\"zerolinecolor\":\"rgb(36,36,36)\"}},\"shapedefaults\":{\"fillcolor\":\"black\",\"line\":{\"width\":0},\"opacity\":0.3},\"ternary\":{\"aaxis\":{\"gridcolor\":\"rgb(232,232,232)\",\"linecolor\":\"rgb(36,36,36)\",\"showgrid\":false,\"showline\":true,\"ticks\":\"outside\"},\"baxis\":{\"gridcolor\":\"rgb(232,232,232)\",\"linecolor\":\"rgb(36,36,36)\",\"showgrid\":false,\"showline\":true,\"ticks\":\"outside\"},\"bgcolor\":\"white\",\"caxis\":{\"gridcolor\":\"rgb(232,232,232)\",\"linecolor\":\"rgb(36,36,36)\",\"showgrid\":false,\"showline\":true,\"ticks\":\"outside\"}},\"title\":{\"x\":0.05},\"xaxis\":{\"automargin\":true,\"gridcolor\":\"rgb(232,232,232)\",\"linecolor\":\"rgb(36,36,36)\",\"showgrid\":false,\"showline\":true,\"ticks\":\"outside\",\"title\":{\"standoff\":15},\"zeroline\":false,\"zerolinecolor\":\"rgb(36,36,36)\"},\"yaxis\":{\"automargin\":true,\"gridcolor\":\"rgb(232,232,232)\",\"linecolor\":\"rgb(36,36,36)\",\"showgrid\":false,\"showline\":true,\"ticks\":\"outside\",\"title\":{\"standoff\":15},\"zeroline\":false,\"zerolinecolor\":\"rgb(36,36,36)\"}}},\"xaxis\":{\"anchor\":\"y\",\"domain\":[0.0,0.2425],\"title\":{\"text\":\"efConstruction\"},\"linecolor\":\"darkgrey\"},\"yaxis\":{\"anchor\":\"x\",\"domain\":[0.0,1.0],\"title\":{\"text\":\"search time (ms/query)\"},\"linecolor\":\"darkgrey\",\"showgrid\":true,\"gridwidth\":1,\"gridcolor\":\"LightGrey\",\"griddash\":\"dot\",\"ticks\":\"\"},\"xaxis2\":{\"anchor\":\"y2\",\"domain\":[0.2525,0.495],\"matches\":\"x\",\"title\":{\"text\":\"efConstruction\"},\"linecolor\":\"darkgrey\"},\"yaxis2\":{\"anchor\":\"x2\",\"domain\":[0.0,1.0],\"matches\":\"y\",\"showticklabels\":false,\"linecolor\":\"darkgrey\",\"showgrid\":true,\"gridwidth\":1,\"gridcolor\":\"LightGrey\",\"griddash\":\"dot\",\"ticks\":\"\"},\"xaxis3\":{\"anchor\":\"y3\",\"domain\":[0.505,0.7475],\"matches\":\"x\",\"title\":{\"text\":\"efConstruction\"},\"linecolor\":\"darkgrey\"},\"yaxis3\":{\"anchor\":\"x3\",\"domain\":[0.0,1.0],\"matches\":\"y\",\"showticklabels\":false,\"linecolor\":\"darkgrey\",\"showgrid\":true,\"gridwidth\":1,\"gridcolor\":\"LightGrey\",\"griddash\":\"dot\",\"ticks\":\"\"},\"xaxis4\":{\"anchor\":\"y4\",\"domain\":[0.7575000000000001,1.0],\"matches\":\"x\",\"title\":{\"text\":\"efConstruction\"},\"linecolor\":\"darkgrey\"},\"yaxis4\":{\"anchor\":\"x4\",\"domain\":[0.0,1.0],\"matches\":\"y\",\"showticklabels\":false,\"linecolor\":\"darkgrey\",\"showgrid\":true,\"gridwidth\":1,\"gridcolor\":\"LightGrey\",\"griddash\":\"dot\",\"ticks\":\"\"},\"annotations\":[{\"font\":{},\"showarrow\":false,\"text\":\"efSearch=4\",\"x\":0.12125,\"xanchor\":\"center\",\"xref\":\"paper\",\"y\":1.0,\"yanchor\":\"bottom\",\"yref\":\"paper\"},{\"font\":{},\"showarrow\":false,\"text\":\"efSearch=16\",\"x\":0.37375,\"xanchor\":\"center\",\"xref\":\"paper\",\"y\":1.0,\"yanchor\":\"bottom\",\"yref\":\"paper\"},{\"font\":{},\"showarrow\":false,\"text\":\"efSearch=40\",\"x\":0.62625,\"xanchor\":\"center\",\"xref\":\"paper\",\"y\":1.0,\"yanchor\":\"bottom\",\"yref\":\"paper\"},{\"font\":{},\"showarrow\":false,\"text\":\"efSearch=76\",\"x\":0.87875,\"xanchor\":\"center\",\"xref\":\"paper\",\"y\":1.0,\"yanchor\":\"bottom\",\"yref\":\"paper\"}],\"legend\":{\"title\":{\"text\":\"M\"},\"tracegroupgap\":0,\"yanchor\":\"top\",\"y\":0.99,\"xanchor\":\"left\",\"x\":0.03,\"borderwidth\":1,\"traceorder\":\"reversed\"},\"margin\":{\"t\":60},\"height\":390,\"width\":750},                        {\"responsive\": true}                    ).then(function(){\n",
       "                            \n",
       "var gd = document.getElementById('a4d2ebd4-3b16-4970-bc52-ebb929a0bc9d');\n",
       "var x = new MutationObserver(function (mutations, observer) {{\n",
       "        var display = window.getComputedStyle(gd).display;\n",
       "        if (!display || display === 'none') {{\n",
       "            console.log([gd, 'removed!']);\n",
       "            Plotly.purge(gd);\n",
       "            observer.disconnect();\n",
       "        }}\n",
       "}});\n",
       "\n",
       "// Listen for the removal of the full notebook cells\n",
       "var notebookContainer = gd.closest('#notebook-container');\n",
       "if (notebookContainer) {{\n",
       "    x.observe(notebookContainer, {childList: true});\n",
       "}}\n",
       "\n",
       "// Listen for the clearing of the current output cell\n",
       "var outputEl = gd.closest('.output');\n",
       "if (outputEl) {{\n",
       "    x.observe(outputEl, {childList: true});\n",
       "}}\n",
       "\n",
       "                        })                };                });            </script>        </div>"
      ]
     },
     "metadata": {},
     "output_type": "display_data"
    }
   ],
   "source": [
    "fig = px.line(dfHNSW, x=\"efConstruction\", y=\"search_time\", color=\"M\", height=390, width=750, markers=True,\n",
    "              template=\"simple_white\", color_discrete_sequence=colors_custom, #color_discrete_sequence=px.colors.qualitative.D3,  \n",
    "              facet_col=\"efSearch\", facet_col_spacing=0.01,\n",
    "              labels=dict(search_time=\"search time (ms/query)\",)\n",
    "             )\n",
    "fig.update_layout(legend=dict(yanchor=\"top\", y=0.99, xanchor=\"left\", x=0.03, borderwidth=1, traceorder=\"reversed\")) # orientation=\"h\"\n",
    "fig.update_xaxes(linecolor='darkgrey')\n",
    "fig.update_yaxes(linecolor='darkgrey', showgrid=True, gridwidth=1, gridcolor='LightGrey', griddash=\"dot\", ticks=\"\")\n",
    "fig.show()\n",
    "fig.write_html(\"Hflat_search_time_efConst_efSearch.html\")"
   ]
  },
  {
   "cell_type": "code",
   "execution_count": 45,
   "id": "dcf05c96",
   "metadata": {
    "execution": {
     "iopub.execute_input": "2022-08-23T06:58:18.397589Z",
     "iopub.status.busy": "2022-08-23T06:58:18.397206Z",
     "iopub.status.idle": "2022-08-23T06:58:18.565380Z",
     "shell.execute_reply": "2022-08-23T06:58:18.564446Z"
    },
    "papermill": {
     "duration": 0.785829,
     "end_time": "2022-08-23T06:58:18.567583",
     "exception": false,
     "start_time": "2022-08-23T06:58:17.781754",
     "status": "completed"
    },
    "tags": []
   },
   "outputs": [
    {
     "data": {
      "text/html": [
       "<div>                            <div id=\"05a9970b-0e31-4a9e-8bfb-cfa62e4e1c9c\" class=\"plotly-graph-div\" style=\"height:380px; width:750px;\"></div>            <script type=\"text/javascript\">                require([\"plotly\"], function(Plotly) {                    window.PLOTLYENV=window.PLOTLYENV || {};                                    if (document.getElementById(\"05a9970b-0e31-4a9e-8bfb-cfa62e4e1c9c\")) {                    Plotly.newPlot(                        \"05a9970b-0e31-4a9e-8bfb-cfa62e4e1c9c\",                        [{\"hovertemplate\":\"M=4<br>efSearch=4<br>efConstruction=%{x}<br>recall@3=%{y}<extra></extra>\",\"legendgroup\":\"4\",\"line\":{\"color\":\"#EECA3B\",\"dash\":\"solid\"},\"marker\":{\"symbol\":\"circle\"},\"mode\":\"markers+lines\",\"name\":\"4\",\"orientation\":\"v\",\"showlegend\":true,\"x\":[4,16,40,76],\"xaxis\":\"x\",\"y\":[0.02,0.049,0.092,0.096],\"yaxis\":\"y\",\"type\":\"scatter\"},{\"hovertemplate\":\"M=4<br>efSearch=16<br>efConstruction=%{x}<br>recall@3=%{y}<extra></extra>\",\"legendgroup\":\"4\",\"line\":{\"color\":\"#EECA3B\",\"dash\":\"solid\"},\"marker\":{\"symbol\":\"circle\"},\"mode\":\"markers+lines\",\"name\":\"4\",\"orientation\":\"v\",\"showlegend\":false,\"x\":[4,16,40,76],\"xaxis\":\"x2\",\"y\":[0.034,0.185,0.311,0.327],\"yaxis\":\"y2\",\"type\":\"scatter\"},{\"hovertemplate\":\"M=4<br>efSearch=40<br>efConstruction=%{x}<br>recall@3=%{y}<extra></extra>\",\"legendgroup\":\"4\",\"line\":{\"color\":\"#EECA3B\",\"dash\":\"solid\"},\"marker\":{\"symbol\":\"circle\"},\"mode\":\"markers+lines\",\"name\":\"4\",\"orientation\":\"v\",\"showlegend\":false,\"x\":[4,16,40,76],\"xaxis\":\"x3\",\"y\":[0.042,0.342,0.526,0.559],\"yaxis\":\"y3\",\"type\":\"scatter\"},{\"hovertemplate\":\"M=4<br>efSearch=76<br>efConstruction=%{x}<br>recall@3=%{y}<extra></extra>\",\"legendgroup\":\"4\",\"line\":{\"color\":\"#EECA3B\",\"dash\":\"solid\"},\"marker\":{\"symbol\":\"circle\"},\"mode\":\"markers+lines\",\"name\":\"4\",\"orientation\":\"v\",\"showlegend\":false,\"x\":[4,16,40,76],\"xaxis\":\"x4\",\"y\":[0.049,0.431,0.643,0.665],\"yaxis\":\"y4\",\"type\":\"scatter\"},{\"hovertemplate\":\"M=16<br>efSearch=4<br>efConstruction=%{x}<br>recall@3=%{y}<extra></extra>\",\"legendgroup\":\"16\",\"line\":{\"color\":\"#FF9900\",\"dash\":\"solid\"},\"marker\":{\"symbol\":\"circle\"},\"mode\":\"markers+lines\",\"name\":\"16\",\"orientation\":\"v\",\"showlegend\":true,\"x\":[4,16,40,76],\"xaxis\":\"x\",\"y\":[0.029,0.33,0.417,0.449],\"yaxis\":\"y\",\"type\":\"scatter\"},{\"hovertemplate\":\"M=16<br>efSearch=16<br>efConstruction=%{x}<br>recall@3=%{y}<extra></extra>\",\"legendgroup\":\"16\",\"line\":{\"color\":\"#FF9900\",\"dash\":\"solid\"},\"marker\":{\"symbol\":\"circle\"},\"mode\":\"markers+lines\",\"name\":\"16\",\"orientation\":\"v\",\"showlegend\":false,\"x\":[4,16,40,76],\"xaxis\":\"x2\",\"y\":[0.042,0.651,0.731,0.788],\"yaxis\":\"y2\",\"type\":\"scatter\"},{\"hovertemplate\":\"M=16<br>efSearch=40<br>efConstruction=%{x}<br>recall@3=%{y}<extra></extra>\",\"legendgroup\":\"16\",\"line\":{\"color\":\"#FF9900\",\"dash\":\"solid\"},\"marker\":{\"symbol\":\"circle\"},\"mode\":\"markers+lines\",\"name\":\"16\",\"orientation\":\"v\",\"showlegend\":false,\"x\":[4,16,40,76],\"xaxis\":\"x3\",\"y\":[0.053,0.814,0.851,0.909],\"yaxis\":\"y3\",\"type\":\"scatter\"},{\"hovertemplate\":\"M=16<br>efSearch=76<br>efConstruction=%{x}<br>recall@3=%{y}<extra></extra>\",\"legendgroup\":\"16\",\"line\":{\"color\":\"#FF9900\",\"dash\":\"solid\"},\"marker\":{\"symbol\":\"circle\"},\"mode\":\"markers+lines\",\"name\":\"16\",\"orientation\":\"v\",\"showlegend\":false,\"x\":[4,16,40,76],\"xaxis\":\"x4\",\"y\":[0.065,0.883,0.897,0.939],\"yaxis\":\"y4\",\"type\":\"scatter\"},{\"hovertemplate\":\"M=32<br>efSearch=4<br>efConstruction=%{x}<br>recall@3=%{y}<extra></extra>\",\"legendgroup\":\"32\",\"line\":{\"color\":\"#DC3912\",\"dash\":\"solid\"},\"marker\":{\"symbol\":\"circle\"},\"mode\":\"markers+lines\",\"name\":\"32\",\"orientation\":\"v\",\"showlegend\":true,\"x\":[4,16,40,76],\"xaxis\":\"x\",\"y\":[0.045,0.463,0.581,0.558],\"yaxis\":\"y\",\"type\":\"scatter\"},{\"hovertemplate\":\"M=32<br>efSearch=16<br>efConstruction=%{x}<br>recall@3=%{y}<extra></extra>\",\"legendgroup\":\"32\",\"line\":{\"color\":\"#DC3912\",\"dash\":\"solid\"},\"marker\":{\"symbol\":\"circle\"},\"mode\":\"markers+lines\",\"name\":\"32\",\"orientation\":\"v\",\"showlegend\":false,\"x\":[4,16,40,76],\"xaxis\":\"x2\",\"y\":[0.065,0.75,0.847,0.849],\"yaxis\":\"y2\",\"type\":\"scatter\"},{\"hovertemplate\":\"M=32<br>efSearch=40<br>efConstruction=%{x}<br>recall@3=%{y}<extra></extra>\",\"legendgroup\":\"32\",\"line\":{\"color\":\"#DC3912\",\"dash\":\"solid\"},\"marker\":{\"symbol\":\"circle\"},\"mode\":\"markers+lines\",\"name\":\"32\",\"orientation\":\"v\",\"showlegend\":false,\"x\":[4,16,40,76],\"xaxis\":\"x3\",\"y\":[0.077,0.878,0.93,0.921],\"yaxis\":\"y3\",\"type\":\"scatter\"},{\"hovertemplate\":\"M=32<br>efSearch=76<br>efConstruction=%{x}<br>recall@3=%{y}<extra></extra>\",\"legendgroup\":\"32\",\"line\":{\"color\":\"#DC3912\",\"dash\":\"solid\"},\"marker\":{\"symbol\":\"circle\"},\"mode\":\"markers+lines\",\"name\":\"32\",\"orientation\":\"v\",\"showlegend\":false,\"x\":[4,16,40,76],\"xaxis\":\"x4\",\"y\":[0.093,0.927,0.96,0.952],\"yaxis\":\"y4\",\"type\":\"scatter\"},{\"hovertemplate\":\"M=64<br>efSearch=4<br>efConstruction=%{x}<br>recall@3=%{y}<extra></extra>\",\"legendgroup\":\"64\",\"line\":{\"color\":\"#990099\",\"dash\":\"solid\"},\"marker\":{\"symbol\":\"circle\"},\"mode\":\"markers+lines\",\"name\":\"64\",\"orientation\":\"v\",\"showlegend\":true,\"x\":[4,16,40,76],\"xaxis\":\"x\",\"y\":[0.04,0.476,0.709,0.738],\"yaxis\":\"y\",\"type\":\"scatter\"},{\"hovertemplate\":\"M=64<br>efSearch=16<br>efConstruction=%{x}<br>recall@3=%{y}<extra></extra>\",\"legendgroup\":\"64\",\"line\":{\"color\":\"#990099\",\"dash\":\"solid\"},\"marker\":{\"symbol\":\"circle\"},\"mode\":\"markers+lines\",\"name\":\"64\",\"orientation\":\"v\",\"showlegend\":false,\"x\":[4,16,40,76],\"xaxis\":\"x2\",\"y\":[0.054,0.772,0.885,0.918],\"yaxis\":\"y2\",\"type\":\"scatter\"},{\"hovertemplate\":\"M=64<br>efSearch=40<br>efConstruction=%{x}<br>recall@3=%{y}<extra></extra>\",\"legendgroup\":\"64\",\"line\":{\"color\":\"#990099\",\"dash\":\"solid\"},\"marker\":{\"symbol\":\"circle\"},\"mode\":\"markers+lines\",\"name\":\"64\",\"orientation\":\"v\",\"showlegend\":false,\"x\":[4,16,40,76],\"xaxis\":\"x3\",\"y\":[0.07,0.887,0.949,0.97],\"yaxis\":\"y3\",\"type\":\"scatter\"},{\"hovertemplate\":\"M=64<br>efSearch=76<br>efConstruction=%{x}<br>recall@3=%{y}<extra></extra>\",\"legendgroup\":\"64\",\"line\":{\"color\":\"#990099\",\"dash\":\"solid\"},\"marker\":{\"symbol\":\"circle\"},\"mode\":\"markers+lines\",\"name\":\"64\",\"orientation\":\"v\",\"showlegend\":false,\"x\":[4,16,40,76],\"xaxis\":\"x4\",\"y\":[0.086,0.925,0.978,0.992],\"yaxis\":\"y4\",\"type\":\"scatter\"}],                        {\"template\":{\"data\":{\"barpolar\":[{\"marker\":{\"line\":{\"color\":\"white\",\"width\":0.5},\"pattern\":{\"fillmode\":\"overlay\",\"size\":10,\"solidity\":0.2}},\"type\":\"barpolar\"}],\"bar\":[{\"error_x\":{\"color\":\"rgb(36,36,36)\"},\"error_y\":{\"color\":\"rgb(36,36,36)\"},\"marker\":{\"line\":{\"color\":\"white\",\"width\":0.5},\"pattern\":{\"fillmode\":\"overlay\",\"size\":10,\"solidity\":0.2}},\"type\":\"bar\"}],\"carpet\":[{\"aaxis\":{\"endlinecolor\":\"rgb(36,36,36)\",\"gridcolor\":\"white\",\"linecolor\":\"white\",\"minorgridcolor\":\"white\",\"startlinecolor\":\"rgb(36,36,36)\"},\"baxis\":{\"endlinecolor\":\"rgb(36,36,36)\",\"gridcolor\":\"white\",\"linecolor\":\"white\",\"minorgridcolor\":\"white\",\"startlinecolor\":\"rgb(36,36,36)\"},\"type\":\"carpet\"}],\"choropleth\":[{\"colorbar\":{\"outlinewidth\":1,\"tickcolor\":\"rgb(36,36,36)\",\"ticks\":\"outside\"},\"type\":\"choropleth\"}],\"contourcarpet\":[{\"colorbar\":{\"outlinewidth\":1,\"tickcolor\":\"rgb(36,36,36)\",\"ticks\":\"outside\"},\"type\":\"contourcarpet\"}],\"contour\":[{\"colorbar\":{\"outlinewidth\":1,\"tickcolor\":\"rgb(36,36,36)\",\"ticks\":\"outside\"},\"colorscale\":[[0.0,\"#440154\"],[0.1111111111111111,\"#482878\"],[0.2222222222222222,\"#3e4989\"],[0.3333333333333333,\"#31688e\"],[0.4444444444444444,\"#26828e\"],[0.5555555555555556,\"#1f9e89\"],[0.6666666666666666,\"#35b779\"],[0.7777777777777778,\"#6ece58\"],[0.8888888888888888,\"#b5de2b\"],[1.0,\"#fde725\"]],\"type\":\"contour\"}],\"heatmapgl\":[{\"colorbar\":{\"outlinewidth\":1,\"tickcolor\":\"rgb(36,36,36)\",\"ticks\":\"outside\"},\"colorscale\":[[0.0,\"#440154\"],[0.1111111111111111,\"#482878\"],[0.2222222222222222,\"#3e4989\"],[0.3333333333333333,\"#31688e\"],[0.4444444444444444,\"#26828e\"],[0.5555555555555556,\"#1f9e89\"],[0.6666666666666666,\"#35b779\"],[0.7777777777777778,\"#6ece58\"],[0.8888888888888888,\"#b5de2b\"],[1.0,\"#fde725\"]],\"type\":\"heatmapgl\"}],\"heatmap\":[{\"colorbar\":{\"outlinewidth\":1,\"tickcolor\":\"rgb(36,36,36)\",\"ticks\":\"outside\"},\"colorscale\":[[0.0,\"#440154\"],[0.1111111111111111,\"#482878\"],[0.2222222222222222,\"#3e4989\"],[0.3333333333333333,\"#31688e\"],[0.4444444444444444,\"#26828e\"],[0.5555555555555556,\"#1f9e89\"],[0.6666666666666666,\"#35b779\"],[0.7777777777777778,\"#6ece58\"],[0.8888888888888888,\"#b5de2b\"],[1.0,\"#fde725\"]],\"type\":\"heatmap\"}],\"histogram2dcontour\":[{\"colorbar\":{\"outlinewidth\":1,\"tickcolor\":\"rgb(36,36,36)\",\"ticks\":\"outside\"},\"colorscale\":[[0.0,\"#440154\"],[0.1111111111111111,\"#482878\"],[0.2222222222222222,\"#3e4989\"],[0.3333333333333333,\"#31688e\"],[0.4444444444444444,\"#26828e\"],[0.5555555555555556,\"#1f9e89\"],[0.6666666666666666,\"#35b779\"],[0.7777777777777778,\"#6ece58\"],[0.8888888888888888,\"#b5de2b\"],[1.0,\"#fde725\"]],\"type\":\"histogram2dcontour\"}],\"histogram2d\":[{\"colorbar\":{\"outlinewidth\":1,\"tickcolor\":\"rgb(36,36,36)\",\"ticks\":\"outside\"},\"colorscale\":[[0.0,\"#440154\"],[0.1111111111111111,\"#482878\"],[0.2222222222222222,\"#3e4989\"],[0.3333333333333333,\"#31688e\"],[0.4444444444444444,\"#26828e\"],[0.5555555555555556,\"#1f9e89\"],[0.6666666666666666,\"#35b779\"],[0.7777777777777778,\"#6ece58\"],[0.8888888888888888,\"#b5de2b\"],[1.0,\"#fde725\"]],\"type\":\"histogram2d\"}],\"histogram\":[{\"marker\":{\"line\":{\"color\":\"white\",\"width\":0.6}},\"type\":\"histogram\"}],\"mesh3d\":[{\"colorbar\":{\"outlinewidth\":1,\"tickcolor\":\"rgb(36,36,36)\",\"ticks\":\"outside\"},\"type\":\"mesh3d\"}],\"parcoords\":[{\"line\":{\"colorbar\":{\"outlinewidth\":1,\"tickcolor\":\"rgb(36,36,36)\",\"ticks\":\"outside\"}},\"type\":\"parcoords\"}],\"pie\":[{\"automargin\":true,\"type\":\"pie\"}],\"scatter3d\":[{\"line\":{\"colorbar\":{\"outlinewidth\":1,\"tickcolor\":\"rgb(36,36,36)\",\"ticks\":\"outside\"}},\"marker\":{\"colorbar\":{\"outlinewidth\":1,\"tickcolor\":\"rgb(36,36,36)\",\"ticks\":\"outside\"}},\"type\":\"scatter3d\"}],\"scattercarpet\":[{\"marker\":{\"colorbar\":{\"outlinewidth\":1,\"tickcolor\":\"rgb(36,36,36)\",\"ticks\":\"outside\"}},\"type\":\"scattercarpet\"}],\"scattergeo\":[{\"marker\":{\"colorbar\":{\"outlinewidth\":1,\"tickcolor\":\"rgb(36,36,36)\",\"ticks\":\"outside\"}},\"type\":\"scattergeo\"}],\"scattergl\":[{\"marker\":{\"colorbar\":{\"outlinewidth\":1,\"tickcolor\":\"rgb(36,36,36)\",\"ticks\":\"outside\"}},\"type\":\"scattergl\"}],\"scattermapbox\":[{\"marker\":{\"colorbar\":{\"outlinewidth\":1,\"tickcolor\":\"rgb(36,36,36)\",\"ticks\":\"outside\"}},\"type\":\"scattermapbox\"}],\"scatterpolargl\":[{\"marker\":{\"colorbar\":{\"outlinewidth\":1,\"tickcolor\":\"rgb(36,36,36)\",\"ticks\":\"outside\"}},\"type\":\"scatterpolargl\"}],\"scatterpolar\":[{\"marker\":{\"colorbar\":{\"outlinewidth\":1,\"tickcolor\":\"rgb(36,36,36)\",\"ticks\":\"outside\"}},\"type\":\"scatterpolar\"}],\"scatter\":[{\"fillpattern\":{\"fillmode\":\"overlay\",\"size\":10,\"solidity\":0.2},\"type\":\"scatter\"}],\"scatterternary\":[{\"marker\":{\"colorbar\":{\"outlinewidth\":1,\"tickcolor\":\"rgb(36,36,36)\",\"ticks\":\"outside\"}},\"type\":\"scatterternary\"}],\"surface\":[{\"colorbar\":{\"outlinewidth\":1,\"tickcolor\":\"rgb(36,36,36)\",\"ticks\":\"outside\"},\"colorscale\":[[0.0,\"#440154\"],[0.1111111111111111,\"#482878\"],[0.2222222222222222,\"#3e4989\"],[0.3333333333333333,\"#31688e\"],[0.4444444444444444,\"#26828e\"],[0.5555555555555556,\"#1f9e89\"],[0.6666666666666666,\"#35b779\"],[0.7777777777777778,\"#6ece58\"],[0.8888888888888888,\"#b5de2b\"],[1.0,\"#fde725\"]],\"type\":\"surface\"}],\"table\":[{\"cells\":{\"fill\":{\"color\":\"rgb(237,237,237)\"},\"line\":{\"color\":\"white\"}},\"header\":{\"fill\":{\"color\":\"rgb(217,217,217)\"},\"line\":{\"color\":\"white\"}},\"type\":\"table\"}]},\"layout\":{\"annotationdefaults\":{\"arrowhead\":0,\"arrowwidth\":1},\"autotypenumbers\":\"strict\",\"coloraxis\":{\"colorbar\":{\"outlinewidth\":1,\"tickcolor\":\"rgb(36,36,36)\",\"ticks\":\"outside\"}},\"colorscale\":{\"diverging\":[[0.0,\"rgb(103,0,31)\"],[0.1,\"rgb(178,24,43)\"],[0.2,\"rgb(214,96,77)\"],[0.3,\"rgb(244,165,130)\"],[0.4,\"rgb(253,219,199)\"],[0.5,\"rgb(247,247,247)\"],[0.6,\"rgb(209,229,240)\"],[0.7,\"rgb(146,197,222)\"],[0.8,\"rgb(67,147,195)\"],[0.9,\"rgb(33,102,172)\"],[1.0,\"rgb(5,48,97)\"]],\"sequential\":[[0.0,\"#440154\"],[0.1111111111111111,\"#482878\"],[0.2222222222222222,\"#3e4989\"],[0.3333333333333333,\"#31688e\"],[0.4444444444444444,\"#26828e\"],[0.5555555555555556,\"#1f9e89\"],[0.6666666666666666,\"#35b779\"],[0.7777777777777778,\"#6ece58\"],[0.8888888888888888,\"#b5de2b\"],[1.0,\"#fde725\"]],\"sequentialminus\":[[0.0,\"#440154\"],[0.1111111111111111,\"#482878\"],[0.2222222222222222,\"#3e4989\"],[0.3333333333333333,\"#31688e\"],[0.4444444444444444,\"#26828e\"],[0.5555555555555556,\"#1f9e89\"],[0.6666666666666666,\"#35b779\"],[0.7777777777777778,\"#6ece58\"],[0.8888888888888888,\"#b5de2b\"],[1.0,\"#fde725\"]]},\"colorway\":[\"#1F77B4\",\"#FF7F0E\",\"#2CA02C\",\"#D62728\",\"#9467BD\",\"#8C564B\",\"#E377C2\",\"#7F7F7F\",\"#BCBD22\",\"#17BECF\"],\"font\":{\"color\":\"rgb(36,36,36)\"},\"geo\":{\"bgcolor\":\"white\",\"lakecolor\":\"white\",\"landcolor\":\"white\",\"showlakes\":true,\"showland\":true,\"subunitcolor\":\"white\"},\"hoverlabel\":{\"align\":\"left\"},\"hovermode\":\"closest\",\"mapbox\":{\"style\":\"light\"},\"paper_bgcolor\":\"white\",\"plot_bgcolor\":\"white\",\"polar\":{\"angularaxis\":{\"gridcolor\":\"rgb(232,232,232)\",\"linecolor\":\"rgb(36,36,36)\",\"showgrid\":false,\"showline\":true,\"ticks\":\"outside\"},\"bgcolor\":\"white\",\"radialaxis\":{\"gridcolor\":\"rgb(232,232,232)\",\"linecolor\":\"rgb(36,36,36)\",\"showgrid\":false,\"showline\":true,\"ticks\":\"outside\"}},\"scene\":{\"xaxis\":{\"backgroundcolor\":\"white\",\"gridcolor\":\"rgb(232,232,232)\",\"gridwidth\":2,\"linecolor\":\"rgb(36,36,36)\",\"showbackground\":true,\"showgrid\":false,\"showline\":true,\"ticks\":\"outside\",\"zeroline\":false,\"zerolinecolor\":\"rgb(36,36,36)\"},\"yaxis\":{\"backgroundcolor\":\"white\",\"gridcolor\":\"rgb(232,232,232)\",\"gridwidth\":2,\"linecolor\":\"rgb(36,36,36)\",\"showbackground\":true,\"showgrid\":false,\"showline\":true,\"ticks\":\"outside\",\"zeroline\":false,\"zerolinecolor\":\"rgb(36,36,36)\"},\"zaxis\":{\"backgroundcolor\":\"white\",\"gridcolor\":\"rgb(232,232,232)\",\"gridwidth\":2,\"linecolor\":\"rgb(36,36,36)\",\"showbackground\":true,\"showgrid\":false,\"showline\":true,\"ticks\":\"outside\",\"zeroline\":false,\"zerolinecolor\":\"rgb(36,36,36)\"}},\"shapedefaults\":{\"fillcolor\":\"black\",\"line\":{\"width\":0},\"opacity\":0.3},\"ternary\":{\"aaxis\":{\"gridcolor\":\"rgb(232,232,232)\",\"linecolor\":\"rgb(36,36,36)\",\"showgrid\":false,\"showline\":true,\"ticks\":\"outside\"},\"baxis\":{\"gridcolor\":\"rgb(232,232,232)\",\"linecolor\":\"rgb(36,36,36)\",\"showgrid\":false,\"showline\":true,\"ticks\":\"outside\"},\"bgcolor\":\"white\",\"caxis\":{\"gridcolor\":\"rgb(232,232,232)\",\"linecolor\":\"rgb(36,36,36)\",\"showgrid\":false,\"showline\":true,\"ticks\":\"outside\"}},\"title\":{\"x\":0.05},\"xaxis\":{\"automargin\":true,\"gridcolor\":\"rgb(232,232,232)\",\"linecolor\":\"rgb(36,36,36)\",\"showgrid\":false,\"showline\":true,\"ticks\":\"outside\",\"title\":{\"standoff\":15},\"zeroline\":false,\"zerolinecolor\":\"rgb(36,36,36)\"},\"yaxis\":{\"automargin\":true,\"gridcolor\":\"rgb(232,232,232)\",\"linecolor\":\"rgb(36,36,36)\",\"showgrid\":false,\"showline\":true,\"ticks\":\"outside\",\"title\":{\"standoff\":15},\"zeroline\":false,\"zerolinecolor\":\"rgb(36,36,36)\"}}},\"xaxis\":{\"anchor\":\"y\",\"domain\":[0.0,0.2425],\"title\":{\"text\":\"efConstruction\"},\"linecolor\":\"darkgrey\"},\"yaxis\":{\"anchor\":\"x\",\"domain\":[0.0,1.0],\"title\":{\"text\":\"1-recall@3\"},\"linecolor\":\"darkgrey\",\"showgrid\":true,\"gridwidth\":1,\"gridcolor\":\"LightGrey\",\"griddash\":\"dot\",\"ticks\":\"\"},\"xaxis2\":{\"anchor\":\"y2\",\"domain\":[0.2525,0.495],\"matches\":\"x\",\"title\":{\"text\":\"efConstruction\"},\"linecolor\":\"darkgrey\"},\"yaxis2\":{\"anchor\":\"x2\",\"domain\":[0.0,1.0],\"matches\":\"y\",\"showticklabels\":false,\"linecolor\":\"darkgrey\",\"showgrid\":true,\"gridwidth\":1,\"gridcolor\":\"LightGrey\",\"griddash\":\"dot\",\"ticks\":\"\"},\"xaxis3\":{\"anchor\":\"y3\",\"domain\":[0.505,0.7475],\"matches\":\"x\",\"title\":{\"text\":\"efConstruction\"},\"linecolor\":\"darkgrey\"},\"yaxis3\":{\"anchor\":\"x3\",\"domain\":[0.0,1.0],\"matches\":\"y\",\"showticklabels\":false,\"linecolor\":\"darkgrey\",\"showgrid\":true,\"gridwidth\":1,\"gridcolor\":\"LightGrey\",\"griddash\":\"dot\",\"ticks\":\"\"},\"xaxis4\":{\"anchor\":\"y4\",\"domain\":[0.7575000000000001,1.0],\"matches\":\"x\",\"title\":{\"text\":\"efConstruction\"},\"linecolor\":\"darkgrey\"},\"yaxis4\":{\"anchor\":\"x4\",\"domain\":[0.0,1.0],\"matches\":\"y\",\"showticklabels\":false,\"linecolor\":\"darkgrey\",\"showgrid\":true,\"gridwidth\":1,\"gridcolor\":\"LightGrey\",\"griddash\":\"dot\",\"ticks\":\"\"},\"annotations\":[{\"font\":{},\"showarrow\":false,\"text\":\"efSearch=4\",\"x\":0.12125,\"xanchor\":\"center\",\"xref\":\"paper\",\"y\":1.0,\"yanchor\":\"bottom\",\"yref\":\"paper\"},{\"font\":{},\"showarrow\":false,\"text\":\"efSearch=16\",\"x\":0.37375,\"xanchor\":\"center\",\"xref\":\"paper\",\"y\":1.0,\"yanchor\":\"bottom\",\"yref\":\"paper\"},{\"font\":{},\"showarrow\":false,\"text\":\"efSearch=40\",\"x\":0.62625,\"xanchor\":\"center\",\"xref\":\"paper\",\"y\":1.0,\"yanchor\":\"bottom\",\"yref\":\"paper\"},{\"font\":{},\"showarrow\":false,\"text\":\"efSearch=76\",\"x\":0.87875,\"xanchor\":\"center\",\"xref\":\"paper\",\"y\":1.0,\"yanchor\":\"bottom\",\"yref\":\"paper\"}],\"legend\":{\"title\":{\"text\":\"M\"},\"tracegroupgap\":0,\"yanchor\":\"top\",\"y\":0.48,\"xanchor\":\"right\",\"x\":0.99,\"borderwidth\":1,\"traceorder\":\"reversed\"},\"margin\":{\"t\":60},\"height\":380,\"width\":750},                        {\"responsive\": true}                    ).then(function(){\n",
       "                            \n",
       "var gd = document.getElementById('05a9970b-0e31-4a9e-8bfb-cfa62e4e1c9c');\n",
       "var x = new MutationObserver(function (mutations, observer) {{\n",
       "        var display = window.getComputedStyle(gd).display;\n",
       "        if (!display || display === 'none') {{\n",
       "            console.log([gd, 'removed!']);\n",
       "            Plotly.purge(gd);\n",
       "            observer.disconnect();\n",
       "        }}\n",
       "}});\n",
       "\n",
       "// Listen for the removal of the full notebook cells\n",
       "var notebookContainer = gd.closest('#notebook-container');\n",
       "if (notebookContainer) {{\n",
       "    x.observe(notebookContainer, {childList: true});\n",
       "}}\n",
       "\n",
       "// Listen for the clearing of the current output cell\n",
       "var outputEl = gd.closest('.output');\n",
       "if (outputEl) {{\n",
       "    x.observe(outputEl, {childList: true});\n",
       "}}\n",
       "\n",
       "                        })                };                });            </script>        </div>"
      ]
     },
     "metadata": {},
     "output_type": "display_data"
    }
   ],
   "source": [
    "fig = px.line(dfHNSW, x=\"efConstruction\", y=\"recall@3\", color=\"M\", height=380, width=750, markers=True,\n",
    "              template=\"simple_white\", color_discrete_sequence=colors_custom, #color_discrete_sequence=px.colors.qualitative.D3,  \n",
    "              facet_col=\"efSearch\", facet_col_spacing=0.01,  \n",
    "              )\n",
    "fig.update_layout(legend=dict(yanchor=\"top\", y=0.48, xanchor=\"right\", x=0.99, borderwidth=1, traceorder=\"reversed\")) # orientation=\"h\"\n",
    "fig.update_xaxes(linecolor='darkgrey')\n",
    "fig.update_yaxes(linecolor='darkgrey', showgrid=True, gridwidth=1, gridcolor='LightGrey', griddash=\"dot\", ticks=\"\")\n",
    "fig.update_yaxes(row=1, col=1, title_text=\"1-recall@3\")\n",
    "fig.show()\n",
    "fig.write_html(\"Hflat_recall_efConst_efSearch.html\")"
   ]
  },
  {
   "cell_type": "code",
   "execution_count": 46,
   "id": "97d3c287",
   "metadata": {
    "execution": {
     "iopub.execute_input": "2022-08-23T06:58:19.680771Z",
     "iopub.status.busy": "2022-08-23T06:58:19.679771Z",
     "iopub.status.idle": "2022-08-23T06:58:19.850048Z",
     "shell.execute_reply": "2022-08-23T06:58:19.849026Z"
    },
    "papermill": {
     "duration": 0.726368,
     "end_time": "2022-08-23T06:58:19.852523",
     "exception": false,
     "start_time": "2022-08-23T06:58:19.126155",
     "status": "completed"
    },
    "tags": []
   },
   "outputs": [
    {
     "data": {
      "text/html": [
       "<div>                            <div id=\"fd480de7-1f02-43ed-8570-f8cf74d73550\" class=\"plotly-graph-div\" style=\"height:380px; width:750px;\"></div>            <script type=\"text/javascript\">                require([\"plotly\"], function(Plotly) {                    window.PLOTLYENV=window.PLOTLYENV || {};                                    if (document.getElementById(\"fd480de7-1f02-43ed-8570-f8cf74d73550\")) {                    Plotly.newPlot(                        \"fd480de7-1f02-43ed-8570-f8cf74d73550\",                        [{\"hovertemplate\":\"M=4<br>efConstruction=4<br>efSearch=%{x}<br>recall@3=%{y}<extra></extra>\",\"legendgroup\":\"4\",\"line\":{\"color\":\"#EECA3B\",\"dash\":\"solid\"},\"marker\":{\"symbol\":\"circle\"},\"mode\":\"markers+lines\",\"name\":\"4\",\"orientation\":\"v\",\"showlegend\":true,\"x\":[4,16,40,76],\"xaxis\":\"x\",\"y\":[0.02,0.034,0.042,0.049],\"yaxis\":\"y\",\"type\":\"scatter\"},{\"hovertemplate\":\"M=4<br>efConstruction=16<br>efSearch=%{x}<br>recall@3=%{y}<extra></extra>\",\"legendgroup\":\"4\",\"line\":{\"color\":\"#EECA3B\",\"dash\":\"solid\"},\"marker\":{\"symbol\":\"circle\"},\"mode\":\"markers+lines\",\"name\":\"4\",\"orientation\":\"v\",\"showlegend\":false,\"x\":[4,16,40,76],\"xaxis\":\"x2\",\"y\":[0.049,0.185,0.342,0.431],\"yaxis\":\"y2\",\"type\":\"scatter\"},{\"hovertemplate\":\"M=4<br>efConstruction=40<br>efSearch=%{x}<br>recall@3=%{y}<extra></extra>\",\"legendgroup\":\"4\",\"line\":{\"color\":\"#EECA3B\",\"dash\":\"solid\"},\"marker\":{\"symbol\":\"circle\"},\"mode\":\"markers+lines\",\"name\":\"4\",\"orientation\":\"v\",\"showlegend\":false,\"x\":[4,16,40,76],\"xaxis\":\"x3\",\"y\":[0.092,0.311,0.526,0.643],\"yaxis\":\"y3\",\"type\":\"scatter\"},{\"hovertemplate\":\"M=4<br>efConstruction=76<br>efSearch=%{x}<br>recall@3=%{y}<extra></extra>\",\"legendgroup\":\"4\",\"line\":{\"color\":\"#EECA3B\",\"dash\":\"solid\"},\"marker\":{\"symbol\":\"circle\"},\"mode\":\"markers+lines\",\"name\":\"4\",\"orientation\":\"v\",\"showlegend\":false,\"x\":[4,16,40,76],\"xaxis\":\"x4\",\"y\":[0.096,0.327,0.559,0.665],\"yaxis\":\"y4\",\"type\":\"scatter\"},{\"hovertemplate\":\"M=16<br>efConstruction=4<br>efSearch=%{x}<br>recall@3=%{y}<extra></extra>\",\"legendgroup\":\"16\",\"line\":{\"color\":\"#FF9900\",\"dash\":\"solid\"},\"marker\":{\"symbol\":\"circle\"},\"mode\":\"markers+lines\",\"name\":\"16\",\"orientation\":\"v\",\"showlegend\":true,\"x\":[4,16,40,76],\"xaxis\":\"x\",\"y\":[0.029,0.042,0.053,0.065],\"yaxis\":\"y\",\"type\":\"scatter\"},{\"hovertemplate\":\"M=16<br>efConstruction=16<br>efSearch=%{x}<br>recall@3=%{y}<extra></extra>\",\"legendgroup\":\"16\",\"line\":{\"color\":\"#FF9900\",\"dash\":\"solid\"},\"marker\":{\"symbol\":\"circle\"},\"mode\":\"markers+lines\",\"name\":\"16\",\"orientation\":\"v\",\"showlegend\":false,\"x\":[4,16,40,76],\"xaxis\":\"x2\",\"y\":[0.33,0.651,0.814,0.883],\"yaxis\":\"y2\",\"type\":\"scatter\"},{\"hovertemplate\":\"M=16<br>efConstruction=40<br>efSearch=%{x}<br>recall@3=%{y}<extra></extra>\",\"legendgroup\":\"16\",\"line\":{\"color\":\"#FF9900\",\"dash\":\"solid\"},\"marker\":{\"symbol\":\"circle\"},\"mode\":\"markers+lines\",\"name\":\"16\",\"orientation\":\"v\",\"showlegend\":false,\"x\":[4,16,40,76],\"xaxis\":\"x3\",\"y\":[0.417,0.731,0.851,0.897],\"yaxis\":\"y3\",\"type\":\"scatter\"},{\"hovertemplate\":\"M=16<br>efConstruction=76<br>efSearch=%{x}<br>recall@3=%{y}<extra></extra>\",\"legendgroup\":\"16\",\"line\":{\"color\":\"#FF9900\",\"dash\":\"solid\"},\"marker\":{\"symbol\":\"circle\"},\"mode\":\"markers+lines\",\"name\":\"16\",\"orientation\":\"v\",\"showlegend\":false,\"x\":[4,16,40,76],\"xaxis\":\"x4\",\"y\":[0.449,0.788,0.909,0.939],\"yaxis\":\"y4\",\"type\":\"scatter\"},{\"hovertemplate\":\"M=32<br>efConstruction=4<br>efSearch=%{x}<br>recall@3=%{y}<extra></extra>\",\"legendgroup\":\"32\",\"line\":{\"color\":\"#DC3912\",\"dash\":\"solid\"},\"marker\":{\"symbol\":\"circle\"},\"mode\":\"markers+lines\",\"name\":\"32\",\"orientation\":\"v\",\"showlegend\":true,\"x\":[4,16,40,76],\"xaxis\":\"x\",\"y\":[0.045,0.065,0.077,0.093],\"yaxis\":\"y\",\"type\":\"scatter\"},{\"hovertemplate\":\"M=32<br>efConstruction=16<br>efSearch=%{x}<br>recall@3=%{y}<extra></extra>\",\"legendgroup\":\"32\",\"line\":{\"color\":\"#DC3912\",\"dash\":\"solid\"},\"marker\":{\"symbol\":\"circle\"},\"mode\":\"markers+lines\",\"name\":\"32\",\"orientation\":\"v\",\"showlegend\":false,\"x\":[4,16,40,76],\"xaxis\":\"x2\",\"y\":[0.463,0.75,0.878,0.927],\"yaxis\":\"y2\",\"type\":\"scatter\"},{\"hovertemplate\":\"M=32<br>efConstruction=40<br>efSearch=%{x}<br>recall@3=%{y}<extra></extra>\",\"legendgroup\":\"32\",\"line\":{\"color\":\"#DC3912\",\"dash\":\"solid\"},\"marker\":{\"symbol\":\"circle\"},\"mode\":\"markers+lines\",\"name\":\"32\",\"orientation\":\"v\",\"showlegend\":false,\"x\":[4,16,40,76],\"xaxis\":\"x3\",\"y\":[0.581,0.847,0.93,0.96],\"yaxis\":\"y3\",\"type\":\"scatter\"},{\"hovertemplate\":\"M=32<br>efConstruction=76<br>efSearch=%{x}<br>recall@3=%{y}<extra></extra>\",\"legendgroup\":\"32\",\"line\":{\"color\":\"#DC3912\",\"dash\":\"solid\"},\"marker\":{\"symbol\":\"circle\"},\"mode\":\"markers+lines\",\"name\":\"32\",\"orientation\":\"v\",\"showlegend\":false,\"x\":[4,16,40,76],\"xaxis\":\"x4\",\"y\":[0.558,0.849,0.921,0.952],\"yaxis\":\"y4\",\"type\":\"scatter\"},{\"hovertemplate\":\"M=64<br>efConstruction=4<br>efSearch=%{x}<br>recall@3=%{y}<extra></extra>\",\"legendgroup\":\"64\",\"line\":{\"color\":\"#990099\",\"dash\":\"solid\"},\"marker\":{\"symbol\":\"circle\"},\"mode\":\"markers+lines\",\"name\":\"64\",\"orientation\":\"v\",\"showlegend\":true,\"x\":[4,16,40,76],\"xaxis\":\"x\",\"y\":[0.04,0.054,0.07,0.086],\"yaxis\":\"y\",\"type\":\"scatter\"},{\"hovertemplate\":\"M=64<br>efConstruction=16<br>efSearch=%{x}<br>recall@3=%{y}<extra></extra>\",\"legendgroup\":\"64\",\"line\":{\"color\":\"#990099\",\"dash\":\"solid\"},\"marker\":{\"symbol\":\"circle\"},\"mode\":\"markers+lines\",\"name\":\"64\",\"orientation\":\"v\",\"showlegend\":false,\"x\":[4,16,40,76],\"xaxis\":\"x2\",\"y\":[0.476,0.772,0.887,0.925],\"yaxis\":\"y2\",\"type\":\"scatter\"},{\"hovertemplate\":\"M=64<br>efConstruction=40<br>efSearch=%{x}<br>recall@3=%{y}<extra></extra>\",\"legendgroup\":\"64\",\"line\":{\"color\":\"#990099\",\"dash\":\"solid\"},\"marker\":{\"symbol\":\"circle\"},\"mode\":\"markers+lines\",\"name\":\"64\",\"orientation\":\"v\",\"showlegend\":false,\"x\":[4,16,40,76],\"xaxis\":\"x3\",\"y\":[0.709,0.885,0.949,0.978],\"yaxis\":\"y3\",\"type\":\"scatter\"},{\"hovertemplate\":\"M=64<br>efConstruction=76<br>efSearch=%{x}<br>recall@3=%{y}<extra></extra>\",\"legendgroup\":\"64\",\"line\":{\"color\":\"#990099\",\"dash\":\"solid\"},\"marker\":{\"symbol\":\"circle\"},\"mode\":\"markers+lines\",\"name\":\"64\",\"orientation\":\"v\",\"showlegend\":false,\"x\":[4,16,40,76],\"xaxis\":\"x4\",\"y\":[0.738,0.918,0.97,0.992],\"yaxis\":\"y4\",\"type\":\"scatter\"}],                        {\"template\":{\"data\":{\"barpolar\":[{\"marker\":{\"line\":{\"color\":\"white\",\"width\":0.5},\"pattern\":{\"fillmode\":\"overlay\",\"size\":10,\"solidity\":0.2}},\"type\":\"barpolar\"}],\"bar\":[{\"error_x\":{\"color\":\"rgb(36,36,36)\"},\"error_y\":{\"color\":\"rgb(36,36,36)\"},\"marker\":{\"line\":{\"color\":\"white\",\"width\":0.5},\"pattern\":{\"fillmode\":\"overlay\",\"size\":10,\"solidity\":0.2}},\"type\":\"bar\"}],\"carpet\":[{\"aaxis\":{\"endlinecolor\":\"rgb(36,36,36)\",\"gridcolor\":\"white\",\"linecolor\":\"white\",\"minorgridcolor\":\"white\",\"startlinecolor\":\"rgb(36,36,36)\"},\"baxis\":{\"endlinecolor\":\"rgb(36,36,36)\",\"gridcolor\":\"white\",\"linecolor\":\"white\",\"minorgridcolor\":\"white\",\"startlinecolor\":\"rgb(36,36,36)\"},\"type\":\"carpet\"}],\"choropleth\":[{\"colorbar\":{\"outlinewidth\":1,\"tickcolor\":\"rgb(36,36,36)\",\"ticks\":\"outside\"},\"type\":\"choropleth\"}],\"contourcarpet\":[{\"colorbar\":{\"outlinewidth\":1,\"tickcolor\":\"rgb(36,36,36)\",\"ticks\":\"outside\"},\"type\":\"contourcarpet\"}],\"contour\":[{\"colorbar\":{\"outlinewidth\":1,\"tickcolor\":\"rgb(36,36,36)\",\"ticks\":\"outside\"},\"colorscale\":[[0.0,\"#440154\"],[0.1111111111111111,\"#482878\"],[0.2222222222222222,\"#3e4989\"],[0.3333333333333333,\"#31688e\"],[0.4444444444444444,\"#26828e\"],[0.5555555555555556,\"#1f9e89\"],[0.6666666666666666,\"#35b779\"],[0.7777777777777778,\"#6ece58\"],[0.8888888888888888,\"#b5de2b\"],[1.0,\"#fde725\"]],\"type\":\"contour\"}],\"heatmapgl\":[{\"colorbar\":{\"outlinewidth\":1,\"tickcolor\":\"rgb(36,36,36)\",\"ticks\":\"outside\"},\"colorscale\":[[0.0,\"#440154\"],[0.1111111111111111,\"#482878\"],[0.2222222222222222,\"#3e4989\"],[0.3333333333333333,\"#31688e\"],[0.4444444444444444,\"#26828e\"],[0.5555555555555556,\"#1f9e89\"],[0.6666666666666666,\"#35b779\"],[0.7777777777777778,\"#6ece58\"],[0.8888888888888888,\"#b5de2b\"],[1.0,\"#fde725\"]],\"type\":\"heatmapgl\"}],\"heatmap\":[{\"colorbar\":{\"outlinewidth\":1,\"tickcolor\":\"rgb(36,36,36)\",\"ticks\":\"outside\"},\"colorscale\":[[0.0,\"#440154\"],[0.1111111111111111,\"#482878\"],[0.2222222222222222,\"#3e4989\"],[0.3333333333333333,\"#31688e\"],[0.4444444444444444,\"#26828e\"],[0.5555555555555556,\"#1f9e89\"],[0.6666666666666666,\"#35b779\"],[0.7777777777777778,\"#6ece58\"],[0.8888888888888888,\"#b5de2b\"],[1.0,\"#fde725\"]],\"type\":\"heatmap\"}],\"histogram2dcontour\":[{\"colorbar\":{\"outlinewidth\":1,\"tickcolor\":\"rgb(36,36,36)\",\"ticks\":\"outside\"},\"colorscale\":[[0.0,\"#440154\"],[0.1111111111111111,\"#482878\"],[0.2222222222222222,\"#3e4989\"],[0.3333333333333333,\"#31688e\"],[0.4444444444444444,\"#26828e\"],[0.5555555555555556,\"#1f9e89\"],[0.6666666666666666,\"#35b779\"],[0.7777777777777778,\"#6ece58\"],[0.8888888888888888,\"#b5de2b\"],[1.0,\"#fde725\"]],\"type\":\"histogram2dcontour\"}],\"histogram2d\":[{\"colorbar\":{\"outlinewidth\":1,\"tickcolor\":\"rgb(36,36,36)\",\"ticks\":\"outside\"},\"colorscale\":[[0.0,\"#440154\"],[0.1111111111111111,\"#482878\"],[0.2222222222222222,\"#3e4989\"],[0.3333333333333333,\"#31688e\"],[0.4444444444444444,\"#26828e\"],[0.5555555555555556,\"#1f9e89\"],[0.6666666666666666,\"#35b779\"],[0.7777777777777778,\"#6ece58\"],[0.8888888888888888,\"#b5de2b\"],[1.0,\"#fde725\"]],\"type\":\"histogram2d\"}],\"histogram\":[{\"marker\":{\"line\":{\"color\":\"white\",\"width\":0.6}},\"type\":\"histogram\"}],\"mesh3d\":[{\"colorbar\":{\"outlinewidth\":1,\"tickcolor\":\"rgb(36,36,36)\",\"ticks\":\"outside\"},\"type\":\"mesh3d\"}],\"parcoords\":[{\"line\":{\"colorbar\":{\"outlinewidth\":1,\"tickcolor\":\"rgb(36,36,36)\",\"ticks\":\"outside\"}},\"type\":\"parcoords\"}],\"pie\":[{\"automargin\":true,\"type\":\"pie\"}],\"scatter3d\":[{\"line\":{\"colorbar\":{\"outlinewidth\":1,\"tickcolor\":\"rgb(36,36,36)\",\"ticks\":\"outside\"}},\"marker\":{\"colorbar\":{\"outlinewidth\":1,\"tickcolor\":\"rgb(36,36,36)\",\"ticks\":\"outside\"}},\"type\":\"scatter3d\"}],\"scattercarpet\":[{\"marker\":{\"colorbar\":{\"outlinewidth\":1,\"tickcolor\":\"rgb(36,36,36)\",\"ticks\":\"outside\"}},\"type\":\"scattercarpet\"}],\"scattergeo\":[{\"marker\":{\"colorbar\":{\"outlinewidth\":1,\"tickcolor\":\"rgb(36,36,36)\",\"ticks\":\"outside\"}},\"type\":\"scattergeo\"}],\"scattergl\":[{\"marker\":{\"colorbar\":{\"outlinewidth\":1,\"tickcolor\":\"rgb(36,36,36)\",\"ticks\":\"outside\"}},\"type\":\"scattergl\"}],\"scattermapbox\":[{\"marker\":{\"colorbar\":{\"outlinewidth\":1,\"tickcolor\":\"rgb(36,36,36)\",\"ticks\":\"outside\"}},\"type\":\"scattermapbox\"}],\"scatterpolargl\":[{\"marker\":{\"colorbar\":{\"outlinewidth\":1,\"tickcolor\":\"rgb(36,36,36)\",\"ticks\":\"outside\"}},\"type\":\"scatterpolargl\"}],\"scatterpolar\":[{\"marker\":{\"colorbar\":{\"outlinewidth\":1,\"tickcolor\":\"rgb(36,36,36)\",\"ticks\":\"outside\"}},\"type\":\"scatterpolar\"}],\"scatter\":[{\"fillpattern\":{\"fillmode\":\"overlay\",\"size\":10,\"solidity\":0.2},\"type\":\"scatter\"}],\"scatterternary\":[{\"marker\":{\"colorbar\":{\"outlinewidth\":1,\"tickcolor\":\"rgb(36,36,36)\",\"ticks\":\"outside\"}},\"type\":\"scatterternary\"}],\"surface\":[{\"colorbar\":{\"outlinewidth\":1,\"tickcolor\":\"rgb(36,36,36)\",\"ticks\":\"outside\"},\"colorscale\":[[0.0,\"#440154\"],[0.1111111111111111,\"#482878\"],[0.2222222222222222,\"#3e4989\"],[0.3333333333333333,\"#31688e\"],[0.4444444444444444,\"#26828e\"],[0.5555555555555556,\"#1f9e89\"],[0.6666666666666666,\"#35b779\"],[0.7777777777777778,\"#6ece58\"],[0.8888888888888888,\"#b5de2b\"],[1.0,\"#fde725\"]],\"type\":\"surface\"}],\"table\":[{\"cells\":{\"fill\":{\"color\":\"rgb(237,237,237)\"},\"line\":{\"color\":\"white\"}},\"header\":{\"fill\":{\"color\":\"rgb(217,217,217)\"},\"line\":{\"color\":\"white\"}},\"type\":\"table\"}]},\"layout\":{\"annotationdefaults\":{\"arrowhead\":0,\"arrowwidth\":1},\"autotypenumbers\":\"strict\",\"coloraxis\":{\"colorbar\":{\"outlinewidth\":1,\"tickcolor\":\"rgb(36,36,36)\",\"ticks\":\"outside\"}},\"colorscale\":{\"diverging\":[[0.0,\"rgb(103,0,31)\"],[0.1,\"rgb(178,24,43)\"],[0.2,\"rgb(214,96,77)\"],[0.3,\"rgb(244,165,130)\"],[0.4,\"rgb(253,219,199)\"],[0.5,\"rgb(247,247,247)\"],[0.6,\"rgb(209,229,240)\"],[0.7,\"rgb(146,197,222)\"],[0.8,\"rgb(67,147,195)\"],[0.9,\"rgb(33,102,172)\"],[1.0,\"rgb(5,48,97)\"]],\"sequential\":[[0.0,\"#440154\"],[0.1111111111111111,\"#482878\"],[0.2222222222222222,\"#3e4989\"],[0.3333333333333333,\"#31688e\"],[0.4444444444444444,\"#26828e\"],[0.5555555555555556,\"#1f9e89\"],[0.6666666666666666,\"#35b779\"],[0.7777777777777778,\"#6ece58\"],[0.8888888888888888,\"#b5de2b\"],[1.0,\"#fde725\"]],\"sequentialminus\":[[0.0,\"#440154\"],[0.1111111111111111,\"#482878\"],[0.2222222222222222,\"#3e4989\"],[0.3333333333333333,\"#31688e\"],[0.4444444444444444,\"#26828e\"],[0.5555555555555556,\"#1f9e89\"],[0.6666666666666666,\"#35b779\"],[0.7777777777777778,\"#6ece58\"],[0.8888888888888888,\"#b5de2b\"],[1.0,\"#fde725\"]]},\"colorway\":[\"#1F77B4\",\"#FF7F0E\",\"#2CA02C\",\"#D62728\",\"#9467BD\",\"#8C564B\",\"#E377C2\",\"#7F7F7F\",\"#BCBD22\",\"#17BECF\"],\"font\":{\"color\":\"rgb(36,36,36)\"},\"geo\":{\"bgcolor\":\"white\",\"lakecolor\":\"white\",\"landcolor\":\"white\",\"showlakes\":true,\"showland\":true,\"subunitcolor\":\"white\"},\"hoverlabel\":{\"align\":\"left\"},\"hovermode\":\"closest\",\"mapbox\":{\"style\":\"light\"},\"paper_bgcolor\":\"white\",\"plot_bgcolor\":\"white\",\"polar\":{\"angularaxis\":{\"gridcolor\":\"rgb(232,232,232)\",\"linecolor\":\"rgb(36,36,36)\",\"showgrid\":false,\"showline\":true,\"ticks\":\"outside\"},\"bgcolor\":\"white\",\"radialaxis\":{\"gridcolor\":\"rgb(232,232,232)\",\"linecolor\":\"rgb(36,36,36)\",\"showgrid\":false,\"showline\":true,\"ticks\":\"outside\"}},\"scene\":{\"xaxis\":{\"backgroundcolor\":\"white\",\"gridcolor\":\"rgb(232,232,232)\",\"gridwidth\":2,\"linecolor\":\"rgb(36,36,36)\",\"showbackground\":true,\"showgrid\":false,\"showline\":true,\"ticks\":\"outside\",\"zeroline\":false,\"zerolinecolor\":\"rgb(36,36,36)\"},\"yaxis\":{\"backgroundcolor\":\"white\",\"gridcolor\":\"rgb(232,232,232)\",\"gridwidth\":2,\"linecolor\":\"rgb(36,36,36)\",\"showbackground\":true,\"showgrid\":false,\"showline\":true,\"ticks\":\"outside\",\"zeroline\":false,\"zerolinecolor\":\"rgb(36,36,36)\"},\"zaxis\":{\"backgroundcolor\":\"white\",\"gridcolor\":\"rgb(232,232,232)\",\"gridwidth\":2,\"linecolor\":\"rgb(36,36,36)\",\"showbackground\":true,\"showgrid\":false,\"showline\":true,\"ticks\":\"outside\",\"zeroline\":false,\"zerolinecolor\":\"rgb(36,36,36)\"}},\"shapedefaults\":{\"fillcolor\":\"black\",\"line\":{\"width\":0},\"opacity\":0.3},\"ternary\":{\"aaxis\":{\"gridcolor\":\"rgb(232,232,232)\",\"linecolor\":\"rgb(36,36,36)\",\"showgrid\":false,\"showline\":true,\"ticks\":\"outside\"},\"baxis\":{\"gridcolor\":\"rgb(232,232,232)\",\"linecolor\":\"rgb(36,36,36)\",\"showgrid\":false,\"showline\":true,\"ticks\":\"outside\"},\"bgcolor\":\"white\",\"caxis\":{\"gridcolor\":\"rgb(232,232,232)\",\"linecolor\":\"rgb(36,36,36)\",\"showgrid\":false,\"showline\":true,\"ticks\":\"outside\"}},\"title\":{\"x\":0.05},\"xaxis\":{\"automargin\":true,\"gridcolor\":\"rgb(232,232,232)\",\"linecolor\":\"rgb(36,36,36)\",\"showgrid\":false,\"showline\":true,\"ticks\":\"outside\",\"title\":{\"standoff\":15},\"zeroline\":false,\"zerolinecolor\":\"rgb(36,36,36)\"},\"yaxis\":{\"automargin\":true,\"gridcolor\":\"rgb(232,232,232)\",\"linecolor\":\"rgb(36,36,36)\",\"showgrid\":false,\"showline\":true,\"ticks\":\"outside\",\"title\":{\"standoff\":15},\"zeroline\":false,\"zerolinecolor\":\"rgb(36,36,36)\"}}},\"xaxis\":{\"anchor\":\"y\",\"domain\":[0.0,0.2425],\"title\":{\"text\":\"efSearch\"},\"linecolor\":\"darkgrey\"},\"yaxis\":{\"anchor\":\"x\",\"domain\":[0.0,1.0],\"title\":{\"text\":\"1-recall@3\"},\"linecolor\":\"darkgrey\",\"showgrid\":true,\"gridwidth\":1,\"gridcolor\":\"LightGrey\",\"griddash\":\"dot\",\"ticks\":\"\"},\"xaxis2\":{\"anchor\":\"y2\",\"domain\":[0.2525,0.495],\"matches\":\"x\",\"title\":{\"text\":\"efSearch\"},\"linecolor\":\"darkgrey\"},\"yaxis2\":{\"anchor\":\"x2\",\"domain\":[0.0,1.0],\"matches\":\"y\",\"showticklabels\":false,\"linecolor\":\"darkgrey\",\"showgrid\":true,\"gridwidth\":1,\"gridcolor\":\"LightGrey\",\"griddash\":\"dot\",\"ticks\":\"\"},\"xaxis3\":{\"anchor\":\"y3\",\"domain\":[0.505,0.7475],\"matches\":\"x\",\"title\":{\"text\":\"efSearch\"},\"linecolor\":\"darkgrey\"},\"yaxis3\":{\"anchor\":\"x3\",\"domain\":[0.0,1.0],\"matches\":\"y\",\"showticklabels\":false,\"linecolor\":\"darkgrey\",\"showgrid\":true,\"gridwidth\":1,\"gridcolor\":\"LightGrey\",\"griddash\":\"dot\",\"ticks\":\"\"},\"xaxis4\":{\"anchor\":\"y4\",\"domain\":[0.7575000000000001,1.0],\"matches\":\"x\",\"title\":{\"text\":\"efSearch\"},\"linecolor\":\"darkgrey\"},\"yaxis4\":{\"anchor\":\"x4\",\"domain\":[0.0,1.0],\"matches\":\"y\",\"showticklabels\":false,\"linecolor\":\"darkgrey\",\"showgrid\":true,\"gridwidth\":1,\"gridcolor\":\"LightGrey\",\"griddash\":\"dot\",\"ticks\":\"\"},\"annotations\":[{\"font\":{},\"showarrow\":false,\"text\":\"efConstruction=4\",\"x\":0.12125,\"xanchor\":\"center\",\"xref\":\"paper\",\"y\":1.0,\"yanchor\":\"bottom\",\"yref\":\"paper\"},{\"font\":{},\"showarrow\":false,\"text\":\"efConstruction=16\",\"x\":0.37375,\"xanchor\":\"center\",\"xref\":\"paper\",\"y\":1.0,\"yanchor\":\"bottom\",\"yref\":\"paper\"},{\"font\":{},\"showarrow\":false,\"text\":\"efConstruction=40\",\"x\":0.62625,\"xanchor\":\"center\",\"xref\":\"paper\",\"y\":1.0,\"yanchor\":\"bottom\",\"yref\":\"paper\"},{\"font\":{},\"showarrow\":false,\"text\":\"efConstruction=76\",\"x\":0.87875,\"xanchor\":\"center\",\"xref\":\"paper\",\"y\":1.0,\"yanchor\":\"bottom\",\"yref\":\"paper\"}],\"legend\":{\"title\":{\"text\":\"M\"},\"tracegroupgap\":0,\"yanchor\":\"top\",\"y\":0.48,\"xanchor\":\"right\",\"x\":0.99,\"borderwidth\":1,\"traceorder\":\"reversed\"},\"margin\":{\"t\":60},\"height\":380,\"width\":750},                        {\"responsive\": true}                    ).then(function(){\n",
       "                            \n",
       "var gd = document.getElementById('fd480de7-1f02-43ed-8570-f8cf74d73550');\n",
       "var x = new MutationObserver(function (mutations, observer) {{\n",
       "        var display = window.getComputedStyle(gd).display;\n",
       "        if (!display || display === 'none') {{\n",
       "            console.log([gd, 'removed!']);\n",
       "            Plotly.purge(gd);\n",
       "            observer.disconnect();\n",
       "        }}\n",
       "}});\n",
       "\n",
       "// Listen for the removal of the full notebook cells\n",
       "var notebookContainer = gd.closest('#notebook-container');\n",
       "if (notebookContainer) {{\n",
       "    x.observe(notebookContainer, {childList: true});\n",
       "}}\n",
       "\n",
       "// Listen for the clearing of the current output cell\n",
       "var outputEl = gd.closest('.output');\n",
       "if (outputEl) {{\n",
       "    x.observe(outputEl, {childList: true});\n",
       "}}\n",
       "\n",
       "                        })                };                });            </script>        </div>"
      ]
     },
     "metadata": {},
     "output_type": "display_data"
    }
   ],
   "source": [
    "fig = px.line(dfHNSW, x=\"efSearch\", y=\"recall@3\", color=\"M\", height=380, width=750, markers=True, \n",
    "              template=\"simple_white\", color_discrete_sequence=colors_custom, #color_discrete_sequence=px.colors.qualitative.D3,  \n",
    "              facet_col=\"efConstruction\", facet_col_spacing=0.01,                \n",
    "              )\n",
    "fig.update_layout(legend=dict(yanchor=\"top\", y=0.48, xanchor=\"right\", x=0.99, borderwidth=1, traceorder=\"reversed\")) # orientation=\"h\"\n",
    "fig.update_xaxes(linecolor='darkgrey')\n",
    "fig.update_yaxes(linecolor='darkgrey', showgrid=True, gridwidth=1, gridcolor='LightGrey', griddash=\"dot\", ticks=\"\")\n",
    "fig.update_yaxes(row=1, col=1, title_text=\"1-recall@3\")\n",
    "fig.show()\n",
    "fig.write_html(\"Hflat_recall_efSearch_efConst.html\")"
   ]
  },
  {
   "cell_type": "code",
   "execution_count": 47,
   "id": "5f372db9",
   "metadata": {
    "execution": {
     "iopub.execute_input": "2022-08-23T06:58:21.040567Z",
     "iopub.status.busy": "2022-08-23T06:58:21.040184Z",
     "iopub.status.idle": "2022-08-23T06:58:21.117619Z",
     "shell.execute_reply": "2022-08-23T06:58:21.116742Z"
    },
    "papermill": {
     "duration": 0.632785,
     "end_time": "2022-08-23T06:58:21.119778",
     "exception": false,
     "start_time": "2022-08-23T06:58:20.486993",
     "status": "completed"
    },
    "tags": []
   },
   "outputs": [
    {
     "data": {
      "text/html": [
       "<div>                            <div id=\"5c5aac51-013c-4481-ad90-c961f1ec7539\" class=\"plotly-graph-div\" style=\"height:350px; width:600px;\"></div>            <script type=\"text/javascript\">                require([\"plotly\"], function(Plotly) {                    window.PLOTLYENV=window.PLOTLYENV || {};                                    if (document.getElementById(\"5c5aac51-013c-4481-ad90-c961f1ec7539\")) {                    Plotly.newPlot(                        \"5c5aac51-013c-4481-ad90-c961f1ec7539\",                        [{\"hovertemplate\":\"M=4<br>efConstruction=%{x}<br>construction time (s)=%{y}<extra></extra>\",\"legendgroup\":\"4\",\"line\":{\"color\":\"#EECA3B\",\"dash\":\"solid\"},\"marker\":{\"symbol\":\"circle\"},\"mode\":\"markers+lines\",\"name\":\"4\",\"orientation\":\"v\",\"showlegend\":true,\"x\":[4,4,4,4,16,16,16,16,40,40,40,40,76,76,76,76],\"xaxis\":\"x\",\"y\":[47.44571399688721,47.44571399688721,47.44571399688721,47.44571399688721,157.0899703502655,157.0899703502655,157.0899703502655,157.0899703502655,326.1638009548187,326.1638009548187,326.1638009548187,326.1638009548187,523.9186105728149,523.9186105728149,523.9186105728149,523.9186105728149],\"yaxis\":\"y\",\"type\":\"scatter\"},{\"hovertemplate\":\"M=16<br>efConstruction=%{x}<br>construction time (s)=%{y}<extra></extra>\",\"legendgroup\":\"16\",\"line\":{\"color\":\"#FF9900\",\"dash\":\"solid\"},\"marker\":{\"symbol\":\"circle\"},\"mode\":\"markers+lines\",\"name\":\"16\",\"orientation\":\"v\",\"showlegend\":true,\"x\":[4,4,4,4,16,16,16,16,40,40,40,40,76,76,76,76],\"xaxis\":\"x\",\"y\":[63.44312024116516,63.44312024116516,63.44312024116516,63.44312024116516,287.3562853336334,287.3562853336334,287.3562853336334,287.3562853336334,497.4599633216858,497.4599633216858,497.4599633216858,497.4599633216858,937.5826642513275,937.5826642513275,937.5826642513275,937.5826642513275],\"yaxis\":\"y\",\"type\":\"scatter\"},{\"hovertemplate\":\"M=32<br>efConstruction=%{x}<br>construction time (s)=%{y}<extra></extra>\",\"legendgroup\":\"32\",\"line\":{\"color\":\"#DC3912\",\"dash\":\"solid\"},\"marker\":{\"symbol\":\"circle\"},\"mode\":\"markers+lines\",\"name\":\"32\",\"orientation\":\"v\",\"showlegend\":true,\"x\":[4,4,4,4,16,16,16,16,40,40,40,40,76,76,76,76],\"xaxis\":\"x\",\"y\":[67.2278950214386,67.2278950214386,67.2278950214386,67.2278950214386,332.8636655807495,332.8636655807495,332.8636655807495,332.8636655807495,836.7941265106201,836.7941265106201,836.7941265106201,836.7941265106201,1070.0068504810333,1070.0068504810333,1070.0068504810333,1070.0068504810333],\"yaxis\":\"y\",\"type\":\"scatter\"},{\"hovertemplate\":\"M=64<br>efConstruction=%{x}<br>construction time (s)=%{y}<extra></extra>\",\"legendgroup\":\"64\",\"line\":{\"color\":\"#990099\",\"dash\":\"solid\"},\"marker\":{\"symbol\":\"circle\"},\"mode\":\"markers+lines\",\"name\":\"64\",\"orientation\":\"v\",\"showlegend\":true,\"x\":[4,4,4,4,16,16,16,16,40,40,40,40,76,76,76,76],\"xaxis\":\"x\",\"y\":[76.5102310180664,76.5102310180664,76.5102310180664,76.5102310180664,378.9487624168396,378.9487624168396,378.9487624168396,378.9487624168396,1086.3188750743866,1086.3188750743866,1086.3188750743866,1086.3188750743866,2106.4281725883484,2106.4281725883484,2106.4281725883484,2106.4281725883484],\"yaxis\":\"y\",\"type\":\"scatter\"}],                        {\"template\":{\"data\":{\"barpolar\":[{\"marker\":{\"line\":{\"color\":\"white\",\"width\":0.5},\"pattern\":{\"fillmode\":\"overlay\",\"size\":10,\"solidity\":0.2}},\"type\":\"barpolar\"}],\"bar\":[{\"error_x\":{\"color\":\"rgb(36,36,36)\"},\"error_y\":{\"color\":\"rgb(36,36,36)\"},\"marker\":{\"line\":{\"color\":\"white\",\"width\":0.5},\"pattern\":{\"fillmode\":\"overlay\",\"size\":10,\"solidity\":0.2}},\"type\":\"bar\"}],\"carpet\":[{\"aaxis\":{\"endlinecolor\":\"rgb(36,36,36)\",\"gridcolor\":\"white\",\"linecolor\":\"white\",\"minorgridcolor\":\"white\",\"startlinecolor\":\"rgb(36,36,36)\"},\"baxis\":{\"endlinecolor\":\"rgb(36,36,36)\",\"gridcolor\":\"white\",\"linecolor\":\"white\",\"minorgridcolor\":\"white\",\"startlinecolor\":\"rgb(36,36,36)\"},\"type\":\"carpet\"}],\"choropleth\":[{\"colorbar\":{\"outlinewidth\":1,\"tickcolor\":\"rgb(36,36,36)\",\"ticks\":\"outside\"},\"type\":\"choropleth\"}],\"contourcarpet\":[{\"colorbar\":{\"outlinewidth\":1,\"tickcolor\":\"rgb(36,36,36)\",\"ticks\":\"outside\"},\"type\":\"contourcarpet\"}],\"contour\":[{\"colorbar\":{\"outlinewidth\":1,\"tickcolor\":\"rgb(36,36,36)\",\"ticks\":\"outside\"},\"colorscale\":[[0.0,\"#440154\"],[0.1111111111111111,\"#482878\"],[0.2222222222222222,\"#3e4989\"],[0.3333333333333333,\"#31688e\"],[0.4444444444444444,\"#26828e\"],[0.5555555555555556,\"#1f9e89\"],[0.6666666666666666,\"#35b779\"],[0.7777777777777778,\"#6ece58\"],[0.8888888888888888,\"#b5de2b\"],[1.0,\"#fde725\"]],\"type\":\"contour\"}],\"heatmapgl\":[{\"colorbar\":{\"outlinewidth\":1,\"tickcolor\":\"rgb(36,36,36)\",\"ticks\":\"outside\"},\"colorscale\":[[0.0,\"#440154\"],[0.1111111111111111,\"#482878\"],[0.2222222222222222,\"#3e4989\"],[0.3333333333333333,\"#31688e\"],[0.4444444444444444,\"#26828e\"],[0.5555555555555556,\"#1f9e89\"],[0.6666666666666666,\"#35b779\"],[0.7777777777777778,\"#6ece58\"],[0.8888888888888888,\"#b5de2b\"],[1.0,\"#fde725\"]],\"type\":\"heatmapgl\"}],\"heatmap\":[{\"colorbar\":{\"outlinewidth\":1,\"tickcolor\":\"rgb(36,36,36)\",\"ticks\":\"outside\"},\"colorscale\":[[0.0,\"#440154\"],[0.1111111111111111,\"#482878\"],[0.2222222222222222,\"#3e4989\"],[0.3333333333333333,\"#31688e\"],[0.4444444444444444,\"#26828e\"],[0.5555555555555556,\"#1f9e89\"],[0.6666666666666666,\"#35b779\"],[0.7777777777777778,\"#6ece58\"],[0.8888888888888888,\"#b5de2b\"],[1.0,\"#fde725\"]],\"type\":\"heatmap\"}],\"histogram2dcontour\":[{\"colorbar\":{\"outlinewidth\":1,\"tickcolor\":\"rgb(36,36,36)\",\"ticks\":\"outside\"},\"colorscale\":[[0.0,\"#440154\"],[0.1111111111111111,\"#482878\"],[0.2222222222222222,\"#3e4989\"],[0.3333333333333333,\"#31688e\"],[0.4444444444444444,\"#26828e\"],[0.5555555555555556,\"#1f9e89\"],[0.6666666666666666,\"#35b779\"],[0.7777777777777778,\"#6ece58\"],[0.8888888888888888,\"#b5de2b\"],[1.0,\"#fde725\"]],\"type\":\"histogram2dcontour\"}],\"histogram2d\":[{\"colorbar\":{\"outlinewidth\":1,\"tickcolor\":\"rgb(36,36,36)\",\"ticks\":\"outside\"},\"colorscale\":[[0.0,\"#440154\"],[0.1111111111111111,\"#482878\"],[0.2222222222222222,\"#3e4989\"],[0.3333333333333333,\"#31688e\"],[0.4444444444444444,\"#26828e\"],[0.5555555555555556,\"#1f9e89\"],[0.6666666666666666,\"#35b779\"],[0.7777777777777778,\"#6ece58\"],[0.8888888888888888,\"#b5de2b\"],[1.0,\"#fde725\"]],\"type\":\"histogram2d\"}],\"histogram\":[{\"marker\":{\"line\":{\"color\":\"white\",\"width\":0.6}},\"type\":\"histogram\"}],\"mesh3d\":[{\"colorbar\":{\"outlinewidth\":1,\"tickcolor\":\"rgb(36,36,36)\",\"ticks\":\"outside\"},\"type\":\"mesh3d\"}],\"parcoords\":[{\"line\":{\"colorbar\":{\"outlinewidth\":1,\"tickcolor\":\"rgb(36,36,36)\",\"ticks\":\"outside\"}},\"type\":\"parcoords\"}],\"pie\":[{\"automargin\":true,\"type\":\"pie\"}],\"scatter3d\":[{\"line\":{\"colorbar\":{\"outlinewidth\":1,\"tickcolor\":\"rgb(36,36,36)\",\"ticks\":\"outside\"}},\"marker\":{\"colorbar\":{\"outlinewidth\":1,\"tickcolor\":\"rgb(36,36,36)\",\"ticks\":\"outside\"}},\"type\":\"scatter3d\"}],\"scattercarpet\":[{\"marker\":{\"colorbar\":{\"outlinewidth\":1,\"tickcolor\":\"rgb(36,36,36)\",\"ticks\":\"outside\"}},\"type\":\"scattercarpet\"}],\"scattergeo\":[{\"marker\":{\"colorbar\":{\"outlinewidth\":1,\"tickcolor\":\"rgb(36,36,36)\",\"ticks\":\"outside\"}},\"type\":\"scattergeo\"}],\"scattergl\":[{\"marker\":{\"colorbar\":{\"outlinewidth\":1,\"tickcolor\":\"rgb(36,36,36)\",\"ticks\":\"outside\"}},\"type\":\"scattergl\"}],\"scattermapbox\":[{\"marker\":{\"colorbar\":{\"outlinewidth\":1,\"tickcolor\":\"rgb(36,36,36)\",\"ticks\":\"outside\"}},\"type\":\"scattermapbox\"}],\"scatterpolargl\":[{\"marker\":{\"colorbar\":{\"outlinewidth\":1,\"tickcolor\":\"rgb(36,36,36)\",\"ticks\":\"outside\"}},\"type\":\"scatterpolargl\"}],\"scatterpolar\":[{\"marker\":{\"colorbar\":{\"outlinewidth\":1,\"tickcolor\":\"rgb(36,36,36)\",\"ticks\":\"outside\"}},\"type\":\"scatterpolar\"}],\"scatter\":[{\"fillpattern\":{\"fillmode\":\"overlay\",\"size\":10,\"solidity\":0.2},\"type\":\"scatter\"}],\"scatterternary\":[{\"marker\":{\"colorbar\":{\"outlinewidth\":1,\"tickcolor\":\"rgb(36,36,36)\",\"ticks\":\"outside\"}},\"type\":\"scatterternary\"}],\"surface\":[{\"colorbar\":{\"outlinewidth\":1,\"tickcolor\":\"rgb(36,36,36)\",\"ticks\":\"outside\"},\"colorscale\":[[0.0,\"#440154\"],[0.1111111111111111,\"#482878\"],[0.2222222222222222,\"#3e4989\"],[0.3333333333333333,\"#31688e\"],[0.4444444444444444,\"#26828e\"],[0.5555555555555556,\"#1f9e89\"],[0.6666666666666666,\"#35b779\"],[0.7777777777777778,\"#6ece58\"],[0.8888888888888888,\"#b5de2b\"],[1.0,\"#fde725\"]],\"type\":\"surface\"}],\"table\":[{\"cells\":{\"fill\":{\"color\":\"rgb(237,237,237)\"},\"line\":{\"color\":\"white\"}},\"header\":{\"fill\":{\"color\":\"rgb(217,217,217)\"},\"line\":{\"color\":\"white\"}},\"type\":\"table\"}]},\"layout\":{\"annotationdefaults\":{\"arrowhead\":0,\"arrowwidth\":1},\"autotypenumbers\":\"strict\",\"coloraxis\":{\"colorbar\":{\"outlinewidth\":1,\"tickcolor\":\"rgb(36,36,36)\",\"ticks\":\"outside\"}},\"colorscale\":{\"diverging\":[[0.0,\"rgb(103,0,31)\"],[0.1,\"rgb(178,24,43)\"],[0.2,\"rgb(214,96,77)\"],[0.3,\"rgb(244,165,130)\"],[0.4,\"rgb(253,219,199)\"],[0.5,\"rgb(247,247,247)\"],[0.6,\"rgb(209,229,240)\"],[0.7,\"rgb(146,197,222)\"],[0.8,\"rgb(67,147,195)\"],[0.9,\"rgb(33,102,172)\"],[1.0,\"rgb(5,48,97)\"]],\"sequential\":[[0.0,\"#440154\"],[0.1111111111111111,\"#482878\"],[0.2222222222222222,\"#3e4989\"],[0.3333333333333333,\"#31688e\"],[0.4444444444444444,\"#26828e\"],[0.5555555555555556,\"#1f9e89\"],[0.6666666666666666,\"#35b779\"],[0.7777777777777778,\"#6ece58\"],[0.8888888888888888,\"#b5de2b\"],[1.0,\"#fde725\"]],\"sequentialminus\":[[0.0,\"#440154\"],[0.1111111111111111,\"#482878\"],[0.2222222222222222,\"#3e4989\"],[0.3333333333333333,\"#31688e\"],[0.4444444444444444,\"#26828e\"],[0.5555555555555556,\"#1f9e89\"],[0.6666666666666666,\"#35b779\"],[0.7777777777777778,\"#6ece58\"],[0.8888888888888888,\"#b5de2b\"],[1.0,\"#fde725\"]]},\"colorway\":[\"#1F77B4\",\"#FF7F0E\",\"#2CA02C\",\"#D62728\",\"#9467BD\",\"#8C564B\",\"#E377C2\",\"#7F7F7F\",\"#BCBD22\",\"#17BECF\"],\"font\":{\"color\":\"rgb(36,36,36)\"},\"geo\":{\"bgcolor\":\"white\",\"lakecolor\":\"white\",\"landcolor\":\"white\",\"showlakes\":true,\"showland\":true,\"subunitcolor\":\"white\"},\"hoverlabel\":{\"align\":\"left\"},\"hovermode\":\"closest\",\"mapbox\":{\"style\":\"light\"},\"paper_bgcolor\":\"white\",\"plot_bgcolor\":\"white\",\"polar\":{\"angularaxis\":{\"gridcolor\":\"rgb(232,232,232)\",\"linecolor\":\"rgb(36,36,36)\",\"showgrid\":false,\"showline\":true,\"ticks\":\"outside\"},\"bgcolor\":\"white\",\"radialaxis\":{\"gridcolor\":\"rgb(232,232,232)\",\"linecolor\":\"rgb(36,36,36)\",\"showgrid\":false,\"showline\":true,\"ticks\":\"outside\"}},\"scene\":{\"xaxis\":{\"backgroundcolor\":\"white\",\"gridcolor\":\"rgb(232,232,232)\",\"gridwidth\":2,\"linecolor\":\"rgb(36,36,36)\",\"showbackground\":true,\"showgrid\":false,\"showline\":true,\"ticks\":\"outside\",\"zeroline\":false,\"zerolinecolor\":\"rgb(36,36,36)\"},\"yaxis\":{\"backgroundcolor\":\"white\",\"gridcolor\":\"rgb(232,232,232)\",\"gridwidth\":2,\"linecolor\":\"rgb(36,36,36)\",\"showbackground\":true,\"showgrid\":false,\"showline\":true,\"ticks\":\"outside\",\"zeroline\":false,\"zerolinecolor\":\"rgb(36,36,36)\"},\"zaxis\":{\"backgroundcolor\":\"white\",\"gridcolor\":\"rgb(232,232,232)\",\"gridwidth\":2,\"linecolor\":\"rgb(36,36,36)\",\"showbackground\":true,\"showgrid\":false,\"showline\":true,\"ticks\":\"outside\",\"zeroline\":false,\"zerolinecolor\":\"rgb(36,36,36)\"}},\"shapedefaults\":{\"fillcolor\":\"black\",\"line\":{\"width\":0},\"opacity\":0.3},\"ternary\":{\"aaxis\":{\"gridcolor\":\"rgb(232,232,232)\",\"linecolor\":\"rgb(36,36,36)\",\"showgrid\":false,\"showline\":true,\"ticks\":\"outside\"},\"baxis\":{\"gridcolor\":\"rgb(232,232,232)\",\"linecolor\":\"rgb(36,36,36)\",\"showgrid\":false,\"showline\":true,\"ticks\":\"outside\"},\"bgcolor\":\"white\",\"caxis\":{\"gridcolor\":\"rgb(232,232,232)\",\"linecolor\":\"rgb(36,36,36)\",\"showgrid\":false,\"showline\":true,\"ticks\":\"outside\"}},\"title\":{\"x\":0.05},\"xaxis\":{\"automargin\":true,\"gridcolor\":\"rgb(232,232,232)\",\"linecolor\":\"rgb(36,36,36)\",\"showgrid\":false,\"showline\":true,\"ticks\":\"outside\",\"title\":{\"standoff\":15},\"zeroline\":false,\"zerolinecolor\":\"rgb(36,36,36)\"},\"yaxis\":{\"automargin\":true,\"gridcolor\":\"rgb(232,232,232)\",\"linecolor\":\"rgb(36,36,36)\",\"showgrid\":false,\"showline\":true,\"ticks\":\"outside\",\"title\":{\"standoff\":15},\"zeroline\":false,\"zerolinecolor\":\"rgb(36,36,36)\"}}},\"xaxis\":{\"anchor\":\"y\",\"domain\":[0.0,1.0],\"title\":{\"text\":\"efConstruction\"},\"linecolor\":\"darkgrey\"},\"yaxis\":{\"anchor\":\"x\",\"domain\":[0.0,1.0],\"title\":{\"text\":\"construction time (s)\"},\"linecolor\":\"darkgrey\",\"showgrid\":true,\"gridwidth\":1,\"gridcolor\":\"LightGrey\",\"griddash\":\"dot\",\"ticks\":\"\"},\"legend\":{\"title\":{\"text\":\"M\"},\"tracegroupgap\":0,\"yanchor\":\"top\",\"y\":0.98,\"xanchor\":\"left\",\"x\":0.05,\"borderwidth\":1,\"traceorder\":\"reversed\"},\"margin\":{\"t\":60},\"height\":350,\"width\":600},                        {\"responsive\": true}                    ).then(function(){\n",
       "                            \n",
       "var gd = document.getElementById('5c5aac51-013c-4481-ad90-c961f1ec7539');\n",
       "var x = new MutationObserver(function (mutations, observer) {{\n",
       "        var display = window.getComputedStyle(gd).display;\n",
       "        if (!display || display === 'none') {{\n",
       "            console.log([gd, 'removed!']);\n",
       "            Plotly.purge(gd);\n",
       "            observer.disconnect();\n",
       "        }}\n",
       "}});\n",
       "\n",
       "// Listen for the removal of the full notebook cells\n",
       "var notebookContainer = gd.closest('#notebook-container');\n",
       "if (notebookContainer) {{\n",
       "    x.observe(notebookContainer, {childList: true});\n",
       "}}\n",
       "\n",
       "// Listen for the clearing of the current output cell\n",
       "var outputEl = gd.closest('.output');\n",
       "if (outputEl) {{\n",
       "    x.observe(outputEl, {childList: true});\n",
       "}}\n",
       "\n",
       "                        })                };                });            </script>        </div>"
      ]
     },
     "metadata": {},
     "output_type": "display_data"
    }
   ],
   "source": [
    "fig = px.line(dfHNSW, x=\"efConstruction\", y=\"index_time\", color=\"M\", height=350, width=600, markers=True,\n",
    "              template=\"simple_white\", color_discrete_sequence=colors_custom, #color_discrete_sequence=px.colors.qualitative.D3,  \n",
    "              labels=dict(index_time=\"construction time (s)\",)\n",
    "              )\n",
    "fig.update_layout(legend=dict(yanchor=\"top\", y=0.98, xanchor=\"left\", x=0.05, borderwidth=1, traceorder=\"reversed\")) # orientation=\"h\"\n",
    "fig.update_xaxes(linecolor='darkgrey')\n",
    "fig.update_yaxes(linecolor='darkgrey', showgrid=True, gridwidth=1, gridcolor='LightGrey', griddash=\"dot\", ticks=\"\")\n",
    "fig.show()\n",
    "fig.write_html(\"Hflat_indextime_efConst.html\")"
   ]
  },
  {
   "cell_type": "code",
   "execution_count": 48,
   "id": "524fdf15",
   "metadata": {
    "execution": {
     "iopub.execute_input": "2022-08-23T06:58:22.516618Z",
     "iopub.status.busy": "2022-08-23T06:58:22.515680Z",
     "iopub.status.idle": "2022-08-23T06:58:22.775999Z",
     "shell.execute_reply": "2022-08-23T06:58:22.775059Z"
    },
    "papermill": {
     "duration": 0.816683,
     "end_time": "2022-08-23T06:58:22.778185",
     "exception": false,
     "start_time": "2022-08-23T06:58:21.961502",
     "status": "completed"
    },
    "tags": []
   },
   "outputs": [
    {
     "data": {
      "text/html": [
       "<div>                            <div id=\"c622ee2d-69db-447c-ae93-b2023002b40e\" class=\"plotly-graph-div\" style=\"height:350px; width:600px;\"></div>            <script type=\"text/javascript\">                require([\"plotly\"], function(Plotly) {                    window.PLOTLYENV=window.PLOTLYENV || {};                                    if (document.getElementById(\"c622ee2d-69db-447c-ae93-b2023002b40e\")) {                    Plotly.newPlot(                        \"c622ee2d-69db-447c-ae93-b2023002b40e\",                        [{\"hovertemplate\":\"M=4<br>efSearch=%{x}<br>search time (ms/query)=%{y}<extra></extra>\",\"legendgroup\":\"4\",\"line\":{\"color\":\"#EECA3B\",\"dash\":\"solid\"},\"marker\":{\"symbol\":\"circle\"},\"mode\":\"markers+lines\",\"name\":\"4\",\"orientation\":\"v\",\"showlegend\":true,\"x\":[4,16,40,76],\"xaxis\":\"x\",\"y\":[0.07315301895141602,0.03420615196228027,0.07332253456115723,0.12844347953796387],\"yaxis\":\"y\",\"type\":\"scatter\"},{\"hovertemplate\":\"M=16<br>efSearch=%{x}<br>search time (ms/query)=%{y}<extra></extra>\",\"legendgroup\":\"16\",\"line\":{\"color\":\"#FF9900\",\"dash\":\"solid\"},\"marker\":{\"symbol\":\"circle\"},\"mode\":\"markers+lines\",\"name\":\"16\",\"orientation\":\"v\",\"showlegend\":true,\"x\":[4,16,40,76],\"xaxis\":\"x\",\"y\":[0.07875919342041016,0.14578747749328613,0.26551079750061035,0.329667329788208],\"yaxis\":\"y\",\"type\":\"scatter\"},{\"hovertemplate\":\"M=32<br>efSearch=%{x}<br>search time (ms/query)=%{y}<extra></extra>\",\"legendgroup\":\"32\",\"line\":{\"color\":\"#DC3912\",\"dash\":\"solid\"},\"marker\":{\"symbol\":\"circle\"},\"mode\":\"markers+lines\",\"name\":\"32\",\"orientation\":\"v\",\"showlegend\":true,\"x\":[4,16,40,76],\"xaxis\":\"x\",\"y\":[0.10319304466247559,0.1366117000579834,0.2646486759185791,0.4252011775970459],\"yaxis\":\"y\",\"type\":\"scatter\"},{\"hovertemplate\":\"M=64<br>efSearch=%{x}<br>search time (ms/query)=%{y}<extra></extra>\",\"legendgroup\":\"64\",\"line\":{\"color\":\"#990099\",\"dash\":\"solid\"},\"marker\":{\"symbol\":\"circle\"},\"mode\":\"markers+lines\",\"name\":\"64\",\"orientation\":\"v\",\"showlegend\":true,\"x\":[4,16,40,76],\"xaxis\":\"x\",\"y\":[0.11319875717163086,0.1775972843170166,0.35950422286987305,0.5686748027801514],\"yaxis\":\"y\",\"type\":\"scatter\"}],                        {\"template\":{\"data\":{\"barpolar\":[{\"marker\":{\"line\":{\"color\":\"white\",\"width\":0.5},\"pattern\":{\"fillmode\":\"overlay\",\"size\":10,\"solidity\":0.2}},\"type\":\"barpolar\"}],\"bar\":[{\"error_x\":{\"color\":\"rgb(36,36,36)\"},\"error_y\":{\"color\":\"rgb(36,36,36)\"},\"marker\":{\"line\":{\"color\":\"white\",\"width\":0.5},\"pattern\":{\"fillmode\":\"overlay\",\"size\":10,\"solidity\":0.2}},\"type\":\"bar\"}],\"carpet\":[{\"aaxis\":{\"endlinecolor\":\"rgb(36,36,36)\",\"gridcolor\":\"white\",\"linecolor\":\"white\",\"minorgridcolor\":\"white\",\"startlinecolor\":\"rgb(36,36,36)\"},\"baxis\":{\"endlinecolor\":\"rgb(36,36,36)\",\"gridcolor\":\"white\",\"linecolor\":\"white\",\"minorgridcolor\":\"white\",\"startlinecolor\":\"rgb(36,36,36)\"},\"type\":\"carpet\"}],\"choropleth\":[{\"colorbar\":{\"outlinewidth\":1,\"tickcolor\":\"rgb(36,36,36)\",\"ticks\":\"outside\"},\"type\":\"choropleth\"}],\"contourcarpet\":[{\"colorbar\":{\"outlinewidth\":1,\"tickcolor\":\"rgb(36,36,36)\",\"ticks\":\"outside\"},\"type\":\"contourcarpet\"}],\"contour\":[{\"colorbar\":{\"outlinewidth\":1,\"tickcolor\":\"rgb(36,36,36)\",\"ticks\":\"outside\"},\"colorscale\":[[0.0,\"#440154\"],[0.1111111111111111,\"#482878\"],[0.2222222222222222,\"#3e4989\"],[0.3333333333333333,\"#31688e\"],[0.4444444444444444,\"#26828e\"],[0.5555555555555556,\"#1f9e89\"],[0.6666666666666666,\"#35b779\"],[0.7777777777777778,\"#6ece58\"],[0.8888888888888888,\"#b5de2b\"],[1.0,\"#fde725\"]],\"type\":\"contour\"}],\"heatmapgl\":[{\"colorbar\":{\"outlinewidth\":1,\"tickcolor\":\"rgb(36,36,36)\",\"ticks\":\"outside\"},\"colorscale\":[[0.0,\"#440154\"],[0.1111111111111111,\"#482878\"],[0.2222222222222222,\"#3e4989\"],[0.3333333333333333,\"#31688e\"],[0.4444444444444444,\"#26828e\"],[0.5555555555555556,\"#1f9e89\"],[0.6666666666666666,\"#35b779\"],[0.7777777777777778,\"#6ece58\"],[0.8888888888888888,\"#b5de2b\"],[1.0,\"#fde725\"]],\"type\":\"heatmapgl\"}],\"heatmap\":[{\"colorbar\":{\"outlinewidth\":1,\"tickcolor\":\"rgb(36,36,36)\",\"ticks\":\"outside\"},\"colorscale\":[[0.0,\"#440154\"],[0.1111111111111111,\"#482878\"],[0.2222222222222222,\"#3e4989\"],[0.3333333333333333,\"#31688e\"],[0.4444444444444444,\"#26828e\"],[0.5555555555555556,\"#1f9e89\"],[0.6666666666666666,\"#35b779\"],[0.7777777777777778,\"#6ece58\"],[0.8888888888888888,\"#b5de2b\"],[1.0,\"#fde725\"]],\"type\":\"heatmap\"}],\"histogram2dcontour\":[{\"colorbar\":{\"outlinewidth\":1,\"tickcolor\":\"rgb(36,36,36)\",\"ticks\":\"outside\"},\"colorscale\":[[0.0,\"#440154\"],[0.1111111111111111,\"#482878\"],[0.2222222222222222,\"#3e4989\"],[0.3333333333333333,\"#31688e\"],[0.4444444444444444,\"#26828e\"],[0.5555555555555556,\"#1f9e89\"],[0.6666666666666666,\"#35b779\"],[0.7777777777777778,\"#6ece58\"],[0.8888888888888888,\"#b5de2b\"],[1.0,\"#fde725\"]],\"type\":\"histogram2dcontour\"}],\"histogram2d\":[{\"colorbar\":{\"outlinewidth\":1,\"tickcolor\":\"rgb(36,36,36)\",\"ticks\":\"outside\"},\"colorscale\":[[0.0,\"#440154\"],[0.1111111111111111,\"#482878\"],[0.2222222222222222,\"#3e4989\"],[0.3333333333333333,\"#31688e\"],[0.4444444444444444,\"#26828e\"],[0.5555555555555556,\"#1f9e89\"],[0.6666666666666666,\"#35b779\"],[0.7777777777777778,\"#6ece58\"],[0.8888888888888888,\"#b5de2b\"],[1.0,\"#fde725\"]],\"type\":\"histogram2d\"}],\"histogram\":[{\"marker\":{\"line\":{\"color\":\"white\",\"width\":0.6}},\"type\":\"histogram\"}],\"mesh3d\":[{\"colorbar\":{\"outlinewidth\":1,\"tickcolor\":\"rgb(36,36,36)\",\"ticks\":\"outside\"},\"type\":\"mesh3d\"}],\"parcoords\":[{\"line\":{\"colorbar\":{\"outlinewidth\":1,\"tickcolor\":\"rgb(36,36,36)\",\"ticks\":\"outside\"}},\"type\":\"parcoords\"}],\"pie\":[{\"automargin\":true,\"type\":\"pie\"}],\"scatter3d\":[{\"line\":{\"colorbar\":{\"outlinewidth\":1,\"tickcolor\":\"rgb(36,36,36)\",\"ticks\":\"outside\"}},\"marker\":{\"colorbar\":{\"outlinewidth\":1,\"tickcolor\":\"rgb(36,36,36)\",\"ticks\":\"outside\"}},\"type\":\"scatter3d\"}],\"scattercarpet\":[{\"marker\":{\"colorbar\":{\"outlinewidth\":1,\"tickcolor\":\"rgb(36,36,36)\",\"ticks\":\"outside\"}},\"type\":\"scattercarpet\"}],\"scattergeo\":[{\"marker\":{\"colorbar\":{\"outlinewidth\":1,\"tickcolor\":\"rgb(36,36,36)\",\"ticks\":\"outside\"}},\"type\":\"scattergeo\"}],\"scattergl\":[{\"marker\":{\"colorbar\":{\"outlinewidth\":1,\"tickcolor\":\"rgb(36,36,36)\",\"ticks\":\"outside\"}},\"type\":\"scattergl\"}],\"scattermapbox\":[{\"marker\":{\"colorbar\":{\"outlinewidth\":1,\"tickcolor\":\"rgb(36,36,36)\",\"ticks\":\"outside\"}},\"type\":\"scattermapbox\"}],\"scatterpolargl\":[{\"marker\":{\"colorbar\":{\"outlinewidth\":1,\"tickcolor\":\"rgb(36,36,36)\",\"ticks\":\"outside\"}},\"type\":\"scatterpolargl\"}],\"scatterpolar\":[{\"marker\":{\"colorbar\":{\"outlinewidth\":1,\"tickcolor\":\"rgb(36,36,36)\",\"ticks\":\"outside\"}},\"type\":\"scatterpolar\"}],\"scatter\":[{\"fillpattern\":{\"fillmode\":\"overlay\",\"size\":10,\"solidity\":0.2},\"type\":\"scatter\"}],\"scatterternary\":[{\"marker\":{\"colorbar\":{\"outlinewidth\":1,\"tickcolor\":\"rgb(36,36,36)\",\"ticks\":\"outside\"}},\"type\":\"scatterternary\"}],\"surface\":[{\"colorbar\":{\"outlinewidth\":1,\"tickcolor\":\"rgb(36,36,36)\",\"ticks\":\"outside\"},\"colorscale\":[[0.0,\"#440154\"],[0.1111111111111111,\"#482878\"],[0.2222222222222222,\"#3e4989\"],[0.3333333333333333,\"#31688e\"],[0.4444444444444444,\"#26828e\"],[0.5555555555555556,\"#1f9e89\"],[0.6666666666666666,\"#35b779\"],[0.7777777777777778,\"#6ece58\"],[0.8888888888888888,\"#b5de2b\"],[1.0,\"#fde725\"]],\"type\":\"surface\"}],\"table\":[{\"cells\":{\"fill\":{\"color\":\"rgb(237,237,237)\"},\"line\":{\"color\":\"white\"}},\"header\":{\"fill\":{\"color\":\"rgb(217,217,217)\"},\"line\":{\"color\":\"white\"}},\"type\":\"table\"}]},\"layout\":{\"annotationdefaults\":{\"arrowhead\":0,\"arrowwidth\":1},\"autotypenumbers\":\"strict\",\"coloraxis\":{\"colorbar\":{\"outlinewidth\":1,\"tickcolor\":\"rgb(36,36,36)\",\"ticks\":\"outside\"}},\"colorscale\":{\"diverging\":[[0.0,\"rgb(103,0,31)\"],[0.1,\"rgb(178,24,43)\"],[0.2,\"rgb(214,96,77)\"],[0.3,\"rgb(244,165,130)\"],[0.4,\"rgb(253,219,199)\"],[0.5,\"rgb(247,247,247)\"],[0.6,\"rgb(209,229,240)\"],[0.7,\"rgb(146,197,222)\"],[0.8,\"rgb(67,147,195)\"],[0.9,\"rgb(33,102,172)\"],[1.0,\"rgb(5,48,97)\"]],\"sequential\":[[0.0,\"#440154\"],[0.1111111111111111,\"#482878\"],[0.2222222222222222,\"#3e4989\"],[0.3333333333333333,\"#31688e\"],[0.4444444444444444,\"#26828e\"],[0.5555555555555556,\"#1f9e89\"],[0.6666666666666666,\"#35b779\"],[0.7777777777777778,\"#6ece58\"],[0.8888888888888888,\"#b5de2b\"],[1.0,\"#fde725\"]],\"sequentialminus\":[[0.0,\"#440154\"],[0.1111111111111111,\"#482878\"],[0.2222222222222222,\"#3e4989\"],[0.3333333333333333,\"#31688e\"],[0.4444444444444444,\"#26828e\"],[0.5555555555555556,\"#1f9e89\"],[0.6666666666666666,\"#35b779\"],[0.7777777777777778,\"#6ece58\"],[0.8888888888888888,\"#b5de2b\"],[1.0,\"#fde725\"]]},\"colorway\":[\"#1F77B4\",\"#FF7F0E\",\"#2CA02C\",\"#D62728\",\"#9467BD\",\"#8C564B\",\"#E377C2\",\"#7F7F7F\",\"#BCBD22\",\"#17BECF\"],\"font\":{\"color\":\"rgb(36,36,36)\"},\"geo\":{\"bgcolor\":\"white\",\"lakecolor\":\"white\",\"landcolor\":\"white\",\"showlakes\":true,\"showland\":true,\"subunitcolor\":\"white\"},\"hoverlabel\":{\"align\":\"left\"},\"hovermode\":\"closest\",\"mapbox\":{\"style\":\"light\"},\"paper_bgcolor\":\"white\",\"plot_bgcolor\":\"white\",\"polar\":{\"angularaxis\":{\"gridcolor\":\"rgb(232,232,232)\",\"linecolor\":\"rgb(36,36,36)\",\"showgrid\":false,\"showline\":true,\"ticks\":\"outside\"},\"bgcolor\":\"white\",\"radialaxis\":{\"gridcolor\":\"rgb(232,232,232)\",\"linecolor\":\"rgb(36,36,36)\",\"showgrid\":false,\"showline\":true,\"ticks\":\"outside\"}},\"scene\":{\"xaxis\":{\"backgroundcolor\":\"white\",\"gridcolor\":\"rgb(232,232,232)\",\"gridwidth\":2,\"linecolor\":\"rgb(36,36,36)\",\"showbackground\":true,\"showgrid\":false,\"showline\":true,\"ticks\":\"outside\",\"zeroline\":false,\"zerolinecolor\":\"rgb(36,36,36)\"},\"yaxis\":{\"backgroundcolor\":\"white\",\"gridcolor\":\"rgb(232,232,232)\",\"gridwidth\":2,\"linecolor\":\"rgb(36,36,36)\",\"showbackground\":true,\"showgrid\":false,\"showline\":true,\"ticks\":\"outside\",\"zeroline\":false,\"zerolinecolor\":\"rgb(36,36,36)\"},\"zaxis\":{\"backgroundcolor\":\"white\",\"gridcolor\":\"rgb(232,232,232)\",\"gridwidth\":2,\"linecolor\":\"rgb(36,36,36)\",\"showbackground\":true,\"showgrid\":false,\"showline\":true,\"ticks\":\"outside\",\"zeroline\":false,\"zerolinecolor\":\"rgb(36,36,36)\"}},\"shapedefaults\":{\"fillcolor\":\"black\",\"line\":{\"width\":0},\"opacity\":0.3},\"ternary\":{\"aaxis\":{\"gridcolor\":\"rgb(232,232,232)\",\"linecolor\":\"rgb(36,36,36)\",\"showgrid\":false,\"showline\":true,\"ticks\":\"outside\"},\"baxis\":{\"gridcolor\":\"rgb(232,232,232)\",\"linecolor\":\"rgb(36,36,36)\",\"showgrid\":false,\"showline\":true,\"ticks\":\"outside\"},\"bgcolor\":\"white\",\"caxis\":{\"gridcolor\":\"rgb(232,232,232)\",\"linecolor\":\"rgb(36,36,36)\",\"showgrid\":false,\"showline\":true,\"ticks\":\"outside\"}},\"title\":{\"x\":0.05},\"xaxis\":{\"automargin\":true,\"gridcolor\":\"rgb(232,232,232)\",\"linecolor\":\"rgb(36,36,36)\",\"showgrid\":false,\"showline\":true,\"ticks\":\"outside\",\"title\":{\"standoff\":15},\"zeroline\":false,\"zerolinecolor\":\"rgb(36,36,36)\"},\"yaxis\":{\"automargin\":true,\"gridcolor\":\"rgb(232,232,232)\",\"linecolor\":\"rgb(36,36,36)\",\"showgrid\":false,\"showline\":true,\"ticks\":\"outside\",\"title\":{\"standoff\":15},\"zeroline\":false,\"zerolinecolor\":\"rgb(36,36,36)\"}}},\"xaxis\":{\"anchor\":\"y\",\"domain\":[0.0,1.0],\"title\":{\"text\":\"efSearch\"},\"linecolor\":\"darkgrey\"},\"yaxis\":{\"anchor\":\"x\",\"domain\":[0.0,1.0],\"title\":{\"text\":\"search time (ms/query)\"},\"linecolor\":\"darkgrey\",\"showgrid\":true,\"gridwidth\":1,\"gridcolor\":\"LightGrey\",\"griddash\":\"dot\",\"ticks\":\"\"},\"legend\":{\"title\":{\"text\":\"M\"},\"tracegroupgap\":0,\"yanchor\":\"top\",\"y\":1.05,\"xanchor\":\"left\",\"x\":0.05,\"borderwidth\":1,\"traceorder\":\"reversed\"},\"title\":{\"text\":\"efConstruction = 40\"},\"height\":350,\"width\":600},                        {\"responsive\": true}                    ).then(function(){\n",
       "                            \n",
       "var gd = document.getElementById('c622ee2d-69db-447c-ae93-b2023002b40e');\n",
       "var x = new MutationObserver(function (mutations, observer) {{\n",
       "        var display = window.getComputedStyle(gd).display;\n",
       "        if (!display || display === 'none') {{\n",
       "            console.log([gd, 'removed!']);\n",
       "            Plotly.purge(gd);\n",
       "            observer.disconnect();\n",
       "        }}\n",
       "}});\n",
       "\n",
       "// Listen for the removal of the full notebook cells\n",
       "var notebookContainer = gd.closest('#notebook-container');\n",
       "if (notebookContainer) {{\n",
       "    x.observe(notebookContainer, {childList: true});\n",
       "}}\n",
       "\n",
       "// Listen for the clearing of the current output cell\n",
       "var outputEl = gd.closest('.output');\n",
       "if (outputEl) {{\n",
       "    x.observe(outputEl, {childList: true});\n",
       "}}\n",
       "\n",
       "                        })                };                });            </script>        </div>"
      ]
     },
     "metadata": {},
     "output_type": "display_data"
    }
   ],
   "source": [
    "fig = px.line(dfHNSW.query(\"efConstruction==40\"), x=\"efSearch\", y=\"search_time\", color=\"M\", height=350, width=600, markers=True,\n",
    "              template=\"simple_white\", color_discrete_sequence=colors_custom, #color_discrete_sequence=px.colors.qualitative.D3,  \n",
    "              labels=dict(search_time=\"search time (ms/query)\",), title=\"efConstruction = 40\"\n",
    "              )\n",
    "fig.update_layout(legend=dict(yanchor=\"top\", y=1.05, xanchor=\"left\", x=0.05, borderwidth=1, traceorder=\"reversed\")) # orientation=\"h\"\n",
    "fig.update_xaxes(linecolor='darkgrey')\n",
    "fig.update_yaxes(linecolor='darkgrey', showgrid=True, gridwidth=1, gridcolor='LightGrey', griddash=\"dot\", ticks=\"\")\n",
    "fig.show()\n",
    "fig.write_html(\"Hflat_searchtime_efSearch_efConst40.html\")"
   ]
  },
  {
   "cell_type": "code",
   "execution_count": 49,
   "id": "55559183",
   "metadata": {
    "execution": {
     "iopub.execute_input": "2022-08-23T06:58:23.945719Z",
     "iopub.status.busy": "2022-08-23T06:58:23.945348Z",
     "iopub.status.idle": "2022-08-23T06:58:23.951287Z",
     "shell.execute_reply": "2022-08-23T06:58:23.950230Z"
    },
    "papermill": {
     "duration": 0.558554,
     "end_time": "2022-08-23T06:58:23.954074",
     "exception": false,
     "start_time": "2022-08-23T06:58:23.395520",
     "status": "completed"
    },
    "tags": []
   },
   "outputs": [],
   "source": [
    "dfHNSW[\"M\"] = dfHNSW[\"M\"].fillna(0.0).astype(str)"
   ]
  },
  {
   "cell_type": "code",
   "execution_count": 50,
   "id": "bac32769",
   "metadata": {
    "execution": {
     "iopub.execute_input": "2022-08-23T06:58:25.147195Z",
     "iopub.status.busy": "2022-08-23T06:58:25.146827Z",
     "iopub.status.idle": "2022-08-23T06:58:25.760693Z",
     "shell.execute_reply": "2022-08-23T06:58:25.759781Z"
    },
    "papermill": {
     "duration": 1.178313,
     "end_time": "2022-08-23T06:58:25.762938",
     "exception": false,
     "start_time": "2022-08-23T06:58:24.584625",
     "status": "completed"
    },
    "tags": []
   },
   "outputs": [
    {
     "data": {
      "text/html": [
       "<div>                            <div id=\"39f33782-e7fc-4b30-983f-7e321561d0de\" class=\"plotly-graph-div\" style=\"height:700px; width:700px;\"></div>            <script type=\"text/javascript\">                require([\"plotly\"], function(Plotly) {                    window.PLOTLYENV=window.PLOTLYENV || {};                                    if (document.getElementById(\"39f33782-e7fc-4b30-983f-7e321561d0de\")) {                    Plotly.newPlot(                        \"39f33782-e7fc-4b30-983f-7e321561d0de\",                        [{\"hovertemplate\":\"M=4<br>efSearch=4<br>efConstruction=4<br>search_time=%{x}<br>recall@3=%{y}<br>index_size=%{marker.size}<extra></extra>\",\"legendgroup\":\"4\",\"marker\":{\"color\":\"#EECA3B\",\"size\":[1684.0091499999999],\"sizemode\":\"area\",\"sizeref\":13.867527777777777,\"symbol\":\"circle\"},\"mode\":\"markers\",\"name\":\"4\",\"orientation\":\"v\",\"showlegend\":true,\"x\":[0.05148124694824219],\"xaxis\":\"x13\",\"y\":[0.02],\"yaxis\":\"y13\",\"type\":\"scatter\"},{\"hovertemplate\":\"M=4<br>efSearch=4<br>efConstruction=16<br>search_time=%{x}<br>recall@3=%{y}<br>index_size=%{marker.size}<extra></extra>\",\"legendgroup\":\"4\",\"marker\":{\"color\":\"#EECA3B\",\"size\":[1684.0091499999999],\"sizemode\":\"area\",\"sizeref\":13.867527777777777,\"symbol\":\"circle\"},\"mode\":\"markers\",\"name\":\"4\",\"orientation\":\"v\",\"showlegend\":false,\"x\":[0.04798436164855957],\"xaxis\":\"x14\",\"y\":[0.049],\"yaxis\":\"y14\",\"type\":\"scatter\"},{\"hovertemplate\":\"M=4<br>efSearch=4<br>efConstruction=40<br>search_time=%{x}<br>recall@3=%{y}<br>index_size=%{marker.size}<extra></extra>\",\"legendgroup\":\"4\",\"marker\":{\"color\":\"#EECA3B\",\"size\":[1684.0091499999999],\"sizemode\":\"area\",\"sizeref\":13.867527777777777,\"symbol\":\"circle\"},\"mode\":\"markers\",\"name\":\"4\",\"orientation\":\"v\",\"showlegend\":false,\"x\":[0.07315301895141602],\"xaxis\":\"x15\",\"y\":[0.092],\"yaxis\":\"y15\",\"type\":\"scatter\"},{\"hovertemplate\":\"M=4<br>efSearch=4<br>efConstruction=76<br>search_time=%{x}<br>recall@3=%{y}<br>index_size=%{marker.size}<extra></extra>\",\"legendgroup\":\"4\",\"marker\":{\"color\":\"#EECA3B\",\"size\":[1684.0091499999999],\"sizemode\":\"area\",\"sizeref\":13.867527777777777,\"symbol\":\"circle\"},\"mode\":\"markers\",\"name\":\"4\",\"orientation\":\"v\",\"showlegend\":false,\"x\":[0.0787818431854248],\"xaxis\":\"x16\",\"y\":[0.096],\"yaxis\":\"y16\",\"type\":\"scatter\"},{\"hovertemplate\":\"M=4<br>efSearch=16<br>efConstruction=4<br>search_time=%{x}<br>recall@3=%{y}<br>index_size=%{marker.size}<extra></extra>\",\"legendgroup\":\"4\",\"marker\":{\"color\":\"#EECA3B\",\"size\":[1684.0091499999999],\"sizemode\":\"area\",\"sizeref\":13.867527777777777,\"symbol\":\"circle\"},\"mode\":\"markers\",\"name\":\"4\",\"orientation\":\"v\",\"showlegend\":false,\"x\":[0.08799934387207031],\"xaxis\":\"x9\",\"y\":[0.034],\"yaxis\":\"y9\",\"type\":\"scatter\"},{\"hovertemplate\":\"M=4<br>efSearch=16<br>efConstruction=16<br>search_time=%{x}<br>recall@3=%{y}<br>index_size=%{marker.size}<extra></extra>\",\"legendgroup\":\"4\",\"marker\":{\"color\":\"#EECA3B\",\"size\":[1684.0091499999999],\"sizemode\":\"area\",\"sizeref\":13.867527777777777,\"symbol\":\"circle\"},\"mode\":\"markers\",\"name\":\"4\",\"orientation\":\"v\",\"showlegend\":false,\"x\":[0.03941011428833008],\"xaxis\":\"x10\",\"y\":[0.185],\"yaxis\":\"y10\",\"type\":\"scatter\"},{\"hovertemplate\":\"M=4<br>efSearch=16<br>efConstruction=40<br>search_time=%{x}<br>recall@3=%{y}<br>index_size=%{marker.size}<extra></extra>\",\"legendgroup\":\"4\",\"marker\":{\"color\":\"#EECA3B\",\"size\":[1684.0091499999999],\"sizemode\":\"area\",\"sizeref\":13.867527777777777,\"symbol\":\"circle\"},\"mode\":\"markers\",\"name\":\"4\",\"orientation\":\"v\",\"showlegend\":false,\"x\":[0.03420615196228027],\"xaxis\":\"x11\",\"y\":[0.311],\"yaxis\":\"y11\",\"type\":\"scatter\"},{\"hovertemplate\":\"M=4<br>efSearch=16<br>efConstruction=76<br>search_time=%{x}<br>recall@3=%{y}<br>index_size=%{marker.size}<extra></extra>\",\"legendgroup\":\"4\",\"marker\":{\"color\":\"#EECA3B\",\"size\":[1684.0091499999999],\"sizemode\":\"area\",\"sizeref\":13.867527777777777,\"symbol\":\"circle\"},\"mode\":\"markers\",\"name\":\"4\",\"orientation\":\"v\",\"showlegend\":false,\"x\":[0.03648710250854492],\"xaxis\":\"x12\",\"y\":[0.327],\"yaxis\":\"y12\",\"type\":\"scatter\"},{\"hovertemplate\":\"M=4<br>efSearch=40<br>efConstruction=4<br>search_time=%{x}<br>recall@3=%{y}<br>index_size=%{marker.size}<extra></extra>\",\"legendgroup\":\"4\",\"marker\":{\"color\":\"#EECA3B\",\"size\":[1684.0091499999999],\"sizemode\":\"area\",\"sizeref\":13.867527777777777,\"symbol\":\"circle\"},\"mode\":\"markers\",\"name\":\"4\",\"orientation\":\"v\",\"showlegend\":false,\"x\":[0.14001178741455078],\"xaxis\":\"x5\",\"y\":[0.042],\"yaxis\":\"y5\",\"type\":\"scatter\"},{\"hovertemplate\":\"M=4<br>efSearch=40<br>efConstruction=16<br>search_time=%{x}<br>recall@3=%{y}<br>index_size=%{marker.size}<extra></extra>\",\"legendgroup\":\"4\",\"marker\":{\"color\":\"#EECA3B\",\"size\":[1684.0091499999999],\"sizemode\":\"area\",\"sizeref\":13.867527777777777,\"symbol\":\"circle\"},\"mode\":\"markers\",\"name\":\"4\",\"orientation\":\"v\",\"showlegend\":false,\"x\":[0.0675649642944336],\"xaxis\":\"x6\",\"y\":[0.342],\"yaxis\":\"y6\",\"type\":\"scatter\"},{\"hovertemplate\":\"M=4<br>efSearch=40<br>efConstruction=40<br>search_time=%{x}<br>recall@3=%{y}<br>index_size=%{marker.size}<extra></extra>\",\"legendgroup\":\"4\",\"marker\":{\"color\":\"#EECA3B\",\"size\":[1684.0091499999999],\"sizemode\":\"area\",\"sizeref\":13.867527777777777,\"symbol\":\"circle\"},\"mode\":\"markers\",\"name\":\"4\",\"orientation\":\"v\",\"showlegend\":false,\"x\":[0.07332253456115723],\"xaxis\":\"x7\",\"y\":[0.526],\"yaxis\":\"y7\",\"type\":\"scatter\"},{\"hovertemplate\":\"M=4<br>efSearch=40<br>efConstruction=76<br>search_time=%{x}<br>recall@3=%{y}<br>index_size=%{marker.size}<extra></extra>\",\"legendgroup\":\"4\",\"marker\":{\"color\":\"#EECA3B\",\"size\":[1684.0091499999999],\"sizemode\":\"area\",\"sizeref\":13.867527777777777,\"symbol\":\"circle\"},\"mode\":\"markers\",\"name\":\"4\",\"orientation\":\"v\",\"showlegend\":false,\"x\":[0.07552194595336914],\"xaxis\":\"x8\",\"y\":[0.559],\"yaxis\":\"y8\",\"type\":\"scatter\"},{\"hovertemplate\":\"M=4<br>efSearch=76<br>efConstruction=4<br>search_time=%{x}<br>recall@3=%{y}<br>index_size=%{marker.size}<extra></extra>\",\"legendgroup\":\"4\",\"marker\":{\"color\":\"#EECA3B\",\"size\":[1684.0091499999999],\"sizemode\":\"area\",\"sizeref\":13.867527777777777,\"symbol\":\"circle\"},\"mode\":\"markers\",\"name\":\"4\",\"orientation\":\"v\",\"showlegend\":false,\"x\":[0.11078906059265137],\"xaxis\":\"x\",\"y\":[0.049],\"yaxis\":\"y\",\"type\":\"scatter\"},{\"hovertemplate\":\"M=4<br>efSearch=76<br>efConstruction=16<br>search_time=%{x}<br>recall@3=%{y}<br>index_size=%{marker.size}<extra></extra>\",\"legendgroup\":\"4\",\"marker\":{\"color\":\"#EECA3B\",\"size\":[1684.0091499999999],\"sizemode\":\"area\",\"sizeref\":13.867527777777777,\"symbol\":\"circle\"},\"mode\":\"markers\",\"name\":\"4\",\"orientation\":\"v\",\"showlegend\":false,\"x\":[0.18841075897216797],\"xaxis\":\"x2\",\"y\":[0.431],\"yaxis\":\"y2\",\"type\":\"scatter\"},{\"hovertemplate\":\"M=4<br>efSearch=76<br>efConstruction=40<br>search_time=%{x}<br>recall@3=%{y}<br>index_size=%{marker.size}<extra></extra>\",\"legendgroup\":\"4\",\"marker\":{\"color\":\"#EECA3B\",\"size\":[1684.0091499999999],\"sizemode\":\"area\",\"sizeref\":13.867527777777777,\"symbol\":\"circle\"},\"mode\":\"markers\",\"name\":\"4\",\"orientation\":\"v\",\"showlegend\":false,\"x\":[0.12844347953796387],\"xaxis\":\"x3\",\"y\":[0.643],\"yaxis\":\"y3\",\"type\":\"scatter\"},{\"hovertemplate\":\"M=4<br>efSearch=76<br>efConstruction=76<br>search_time=%{x}<br>recall@3=%{y}<br>index_size=%{marker.size}<extra></extra>\",\"legendgroup\":\"4\",\"marker\":{\"color\":\"#EECA3B\",\"size\":[1684.0091499999999],\"sizemode\":\"area\",\"sizeref\":13.867527777777777,\"symbol\":\"circle\"},\"mode\":\"markers\",\"name\":\"4\",\"orientation\":\"v\",\"showlegend\":false,\"x\":[0.13284969329833984],\"xaxis\":\"x4\",\"y\":[0.665],\"yaxis\":\"y4\",\"type\":\"scatter\"},{\"hovertemplate\":\"M=16<br>efSearch=4<br>efConstruction=4<br>search_time=%{x}<br>recall@3=%{y}<br>index_size=%{marker.size}<extra></extra>\",\"legendgroup\":\"16\",\"marker\":{\"color\":\"#FF9900\",\"size\":[1968.8076099999998],\"sizemode\":\"area\",\"sizeref\":13.867527777777777,\"symbol\":\"circle\"},\"mode\":\"markers\",\"name\":\"16\",\"orientation\":\"v\",\"showlegend\":true,\"x\":[0.03242778778076172],\"xaxis\":\"x13\",\"y\":[0.029],\"yaxis\":\"y13\",\"type\":\"scatter\"},{\"hovertemplate\":\"M=16<br>efSearch=4<br>efConstruction=16<br>search_time=%{x}<br>recall@3=%{y}<br>index_size=%{marker.size}<extra></extra>\",\"legendgroup\":\"16\",\"marker\":{\"color\":\"#FF9900\",\"size\":[1968.8076099999998],\"sizemode\":\"area\",\"sizeref\":13.867527777777777,\"symbol\":\"circle\"},\"mode\":\"markers\",\"name\":\"16\",\"orientation\":\"v\",\"showlegend\":false,\"x\":[0.059123992919921875],\"xaxis\":\"x14\",\"y\":[0.33],\"yaxis\":\"y14\",\"type\":\"scatter\"},{\"hovertemplate\":\"M=16<br>efSearch=4<br>efConstruction=40<br>search_time=%{x}<br>recall@3=%{y}<br>index_size=%{marker.size}<extra></extra>\",\"legendgroup\":\"16\",\"marker\":{\"color\":\"#FF9900\",\"size\":[1968.8076099999998],\"sizemode\":\"area\",\"sizeref\":13.867527777777777,\"symbol\":\"circle\"},\"mode\":\"markers\",\"name\":\"16\",\"orientation\":\"v\",\"showlegend\":false,\"x\":[0.07875919342041016],\"xaxis\":\"x15\",\"y\":[0.417],\"yaxis\":\"y15\",\"type\":\"scatter\"},{\"hovertemplate\":\"M=16<br>efSearch=4<br>efConstruction=76<br>search_time=%{x}<br>recall@3=%{y}<br>index_size=%{marker.size}<extra></extra>\",\"legendgroup\":\"16\",\"marker\":{\"color\":\"#FF9900\",\"size\":[1968.8076099999998],\"sizemode\":\"area\",\"sizeref\":13.867527777777777,\"symbol\":\"circle\"},\"mode\":\"markers\",\"name\":\"16\",\"orientation\":\"v\",\"showlegend\":false,\"x\":[0.050643205642700195],\"xaxis\":\"x16\",\"y\":[0.449],\"yaxis\":\"y16\",\"type\":\"scatter\"},{\"hovertemplate\":\"M=16<br>efSearch=16<br>efConstruction=4<br>search_time=%{x}<br>recall@3=%{y}<br>index_size=%{marker.size}<extra></extra>\",\"legendgroup\":\"16\",\"marker\":{\"color\":\"#FF9900\",\"size\":[1968.8076099999998],\"sizemode\":\"area\",\"sizeref\":13.867527777777777,\"symbol\":\"circle\"},\"mode\":\"markers\",\"name\":\"16\",\"orientation\":\"v\",\"showlegend\":false,\"x\":[0.03500080108642578],\"xaxis\":\"x9\",\"y\":[0.042],\"yaxis\":\"y9\",\"type\":\"scatter\"},{\"hovertemplate\":\"M=16<br>efSearch=16<br>efConstruction=16<br>search_time=%{x}<br>recall@3=%{y}<br>index_size=%{marker.size}<extra></extra>\",\"legendgroup\":\"16\",\"marker\":{\"color\":\"#FF9900\",\"size\":[1968.8076099999998],\"sizemode\":\"area\",\"sizeref\":13.867527777777777,\"symbol\":\"circle\"},\"mode\":\"markers\",\"name\":\"16\",\"orientation\":\"v\",\"showlegend\":false,\"x\":[0.07422256469726562],\"xaxis\":\"x10\",\"y\":[0.651],\"yaxis\":\"y10\",\"type\":\"scatter\"},{\"hovertemplate\":\"M=16<br>efSearch=16<br>efConstruction=40<br>search_time=%{x}<br>recall@3=%{y}<br>index_size=%{marker.size}<extra></extra>\",\"legendgroup\":\"16\",\"marker\":{\"color\":\"#FF9900\",\"size\":[1968.8076099999998],\"sizemode\":\"area\",\"sizeref\":13.867527777777777,\"symbol\":\"circle\"},\"mode\":\"markers\",\"name\":\"16\",\"orientation\":\"v\",\"showlegend\":false,\"x\":[0.14578747749328613],\"xaxis\":\"x11\",\"y\":[0.731],\"yaxis\":\"y11\",\"type\":\"scatter\"},{\"hovertemplate\":\"M=16<br>efSearch=16<br>efConstruction=76<br>search_time=%{x}<br>recall@3=%{y}<br>index_size=%{marker.size}<extra></extra>\",\"legendgroup\":\"16\",\"marker\":{\"color\":\"#FF9900\",\"size\":[1968.8076099999998],\"sizemode\":\"area\",\"sizeref\":13.867527777777777,\"symbol\":\"circle\"},\"mode\":\"markers\",\"name\":\"16\",\"orientation\":\"v\",\"showlegend\":false,\"x\":[0.08057737350463867],\"xaxis\":\"x12\",\"y\":[0.788],\"yaxis\":\"y12\",\"type\":\"scatter\"},{\"hovertemplate\":\"M=16<br>efSearch=40<br>efConstruction=4<br>search_time=%{x}<br>recall@3=%{y}<br>index_size=%{marker.size}<extra></extra>\",\"legendgroup\":\"16\",\"marker\":{\"color\":\"#FF9900\",\"size\":[1968.8076099999998],\"sizemode\":\"area\",\"sizeref\":13.867527777777777,\"symbol\":\"circle\"},\"mode\":\"markers\",\"name\":\"16\",\"orientation\":\"v\",\"showlegend\":false,\"x\":[0.07417988777160645],\"xaxis\":\"x5\",\"y\":[0.053],\"yaxis\":\"y5\",\"type\":\"scatter\"},{\"hovertemplate\":\"M=16<br>efSearch=40<br>efConstruction=16<br>search_time=%{x}<br>recall@3=%{y}<br>index_size=%{marker.size}<extra></extra>\",\"legendgroup\":\"16\",\"marker\":{\"color\":\"#FF9900\",\"size\":[1968.8076099999998],\"sizemode\":\"area\",\"sizeref\":13.867527777777777,\"symbol\":\"circle\"},\"mode\":\"markers\",\"name\":\"16\",\"orientation\":\"v\",\"showlegend\":false,\"x\":[0.15061712265014648],\"xaxis\":\"x6\",\"y\":[0.814],\"yaxis\":\"y6\",\"type\":\"scatter\"},{\"hovertemplate\":\"M=16<br>efSearch=40<br>efConstruction=40<br>search_time=%{x}<br>recall@3=%{y}<br>index_size=%{marker.size}<extra></extra>\",\"legendgroup\":\"16\",\"marker\":{\"color\":\"#FF9900\",\"size\":[1968.8076099999998],\"sizemode\":\"area\",\"sizeref\":13.867527777777777,\"symbol\":\"circle\"},\"mode\":\"markers\",\"name\":\"16\",\"orientation\":\"v\",\"showlegend\":false,\"x\":[0.26551079750061035],\"xaxis\":\"x7\",\"y\":[0.851],\"yaxis\":\"y7\",\"type\":\"scatter\"},{\"hovertemplate\":\"M=16<br>efSearch=40<br>efConstruction=76<br>search_time=%{x}<br>recall@3=%{y}<br>index_size=%{marker.size}<extra></extra>\",\"legendgroup\":\"16\",\"marker\":{\"color\":\"#FF9900\",\"size\":[1968.8076099999998],\"sizemode\":\"area\",\"sizeref\":13.867527777777777,\"symbol\":\"circle\"},\"mode\":\"markers\",\"name\":\"16\",\"orientation\":\"v\",\"showlegend\":false,\"x\":[0.16374754905700684],\"xaxis\":\"x8\",\"y\":[0.909],\"yaxis\":\"y8\",\"type\":\"scatter\"},{\"hovertemplate\":\"M=16<br>efSearch=76<br>efConstruction=4<br>search_time=%{x}<br>recall@3=%{y}<br>index_size=%{marker.size}<extra></extra>\",\"legendgroup\":\"16\",\"marker\":{\"color\":\"#FF9900\",\"size\":[1968.8076099999998],\"sizemode\":\"area\",\"sizeref\":13.867527777777777,\"symbol\":\"circle\"},\"mode\":\"markers\",\"name\":\"16\",\"orientation\":\"v\",\"showlegend\":false,\"x\":[0.1721813678741455],\"xaxis\":\"x\",\"y\":[0.065],\"yaxis\":\"y\",\"type\":\"scatter\"},{\"hovertemplate\":\"M=16<br>efSearch=76<br>efConstruction=16<br>search_time=%{x}<br>recall@3=%{y}<br>index_size=%{marker.size}<extra></extra>\",\"legendgroup\":\"16\",\"marker\":{\"color\":\"#FF9900\",\"size\":[1968.8076099999998],\"sizemode\":\"area\",\"sizeref\":13.867527777777777,\"symbol\":\"circle\"},\"mode\":\"markers\",\"name\":\"16\",\"orientation\":\"v\",\"showlegend\":false,\"x\":[0.2765541076660156],\"xaxis\":\"x2\",\"y\":[0.883],\"yaxis\":\"y2\",\"type\":\"scatter\"},{\"hovertemplate\":\"M=16<br>efSearch=76<br>efConstruction=40<br>search_time=%{x}<br>recall@3=%{y}<br>index_size=%{marker.size}<extra></extra>\",\"legendgroup\":\"16\",\"marker\":{\"color\":\"#FF9900\",\"size\":[1968.8076099999998],\"sizemode\":\"area\",\"sizeref\":13.867527777777777,\"symbol\":\"circle\"},\"mode\":\"markers\",\"name\":\"16\",\"orientation\":\"v\",\"showlegend\":false,\"x\":[0.329667329788208],\"xaxis\":\"x3\",\"y\":[0.897],\"yaxis\":\"y3\",\"type\":\"scatter\"},{\"hovertemplate\":\"M=16<br>efSearch=76<br>efConstruction=76<br>search_time=%{x}<br>recall@3=%{y}<br>index_size=%{marker.size}<extra></extra>\",\"legendgroup\":\"16\",\"marker\":{\"color\":\"#FF9900\",\"size\":[1968.8076099999998],\"sizemode\":\"area\",\"sizeref\":13.867527777777777,\"symbol\":\"circle\"},\"mode\":\"markers\",\"name\":\"16\",\"orientation\":\"v\",\"showlegend\":false,\"x\":[0.3028593063354492],\"xaxis\":\"x4\",\"y\":[0.939],\"yaxis\":\"y4\",\"type\":\"scatter\"},{\"hovertemplate\":\"M=32<br>efSearch=4<br>efConstruction=4<br>search_time=%{x}<br>recall@3=%{y}<br>index_size=%{marker.size}<extra></extra>\",\"legendgroup\":\"32\",\"marker\":{\"color\":\"#DC3912\",\"size\":[2352.4245459999997],\"sizemode\":\"area\",\"sizeref\":13.867527777777777,\"symbol\":\"circle\"},\"mode\":\"markers\",\"name\":\"32\",\"orientation\":\"v\",\"showlegend\":true,\"x\":[0.04051804542541504],\"xaxis\":\"x13\",\"y\":[0.045],\"yaxis\":\"y13\",\"type\":\"scatter\"},{\"hovertemplate\":\"M=32<br>efSearch=4<br>efConstruction=16<br>search_time=%{x}<br>recall@3=%{y}<br>index_size=%{marker.size}<extra></extra>\",\"legendgroup\":\"32\",\"marker\":{\"color\":\"#DC3912\",\"size\":[2352.4245459999997],\"sizemode\":\"area\",\"sizeref\":13.867527777777777,\"symbol\":\"circle\"},\"mode\":\"markers\",\"name\":\"32\",\"orientation\":\"v\",\"showlegend\":false,\"x\":[0.10623764991760254],\"xaxis\":\"x14\",\"y\":[0.463],\"yaxis\":\"y14\",\"type\":\"scatter\"},{\"hovertemplate\":\"M=32<br>efSearch=4<br>efConstruction=40<br>search_time=%{x}<br>recall@3=%{y}<br>index_size=%{marker.size}<extra></extra>\",\"legendgroup\":\"32\",\"marker\":{\"color\":\"#DC3912\",\"size\":[2352.4245459999997],\"sizemode\":\"area\",\"sizeref\":13.867527777777777,\"symbol\":\"circle\"},\"mode\":\"markers\",\"name\":\"32\",\"orientation\":\"v\",\"showlegend\":false,\"x\":[0.10319304466247559],\"xaxis\":\"x15\",\"y\":[0.581],\"yaxis\":\"y15\",\"type\":\"scatter\"},{\"hovertemplate\":\"M=32<br>efSearch=4<br>efConstruction=76<br>search_time=%{x}<br>recall@3=%{y}<br>index_size=%{marker.size}<extra></extra>\",\"legendgroup\":\"32\",\"marker\":{\"color\":\"#DC3912\",\"size\":[2352.4245459999997],\"sizemode\":\"area\",\"sizeref\":13.867527777777777,\"symbol\":\"circle\"},\"mode\":\"markers\",\"name\":\"32\",\"orientation\":\"v\",\"showlegend\":false,\"x\":[0.05893135070800781],\"xaxis\":\"x16\",\"y\":[0.558],\"yaxis\":\"y16\",\"type\":\"scatter\"},{\"hovertemplate\":\"M=32<br>efSearch=16<br>efConstruction=4<br>search_time=%{x}<br>recall@3=%{y}<br>index_size=%{marker.size}<extra></extra>\",\"legendgroup\":\"32\",\"marker\":{\"color\":\"#DC3912\",\"size\":[2352.4245459999997],\"sizemode\":\"area\",\"sizeref\":13.867527777777777,\"symbol\":\"circle\"},\"mode\":\"markers\",\"name\":\"32\",\"orientation\":\"v\",\"showlegend\":false,\"x\":[0.07303428649902344],\"xaxis\":\"x9\",\"y\":[0.065],\"yaxis\":\"y9\",\"type\":\"scatter\"},{\"hovertemplate\":\"M=32<br>efSearch=16<br>efConstruction=16<br>search_time=%{x}<br>recall@3=%{y}<br>index_size=%{marker.size}<extra></extra>\",\"legendgroup\":\"32\",\"marker\":{\"color\":\"#DC3912\",\"size\":[2352.4245459999997],\"sizemode\":\"area\",\"sizeref\":13.867527777777777,\"symbol\":\"circle\"},\"mode\":\"markers\",\"name\":\"32\",\"orientation\":\"v\",\"showlegend\":false,\"x\":[0.20286774635314941],\"xaxis\":\"x10\",\"y\":[0.75],\"yaxis\":\"y10\",\"type\":\"scatter\"},{\"hovertemplate\":\"M=32<br>efSearch=16<br>efConstruction=40<br>search_time=%{x}<br>recall@3=%{y}<br>index_size=%{marker.size}<extra></extra>\",\"legendgroup\":\"32\",\"marker\":{\"color\":\"#DC3912\",\"size\":[2352.4245459999997],\"sizemode\":\"area\",\"sizeref\":13.867527777777777,\"symbol\":\"circle\"},\"mode\":\"markers\",\"name\":\"32\",\"orientation\":\"v\",\"showlegend\":false,\"x\":[0.1366117000579834],\"xaxis\":\"x11\",\"y\":[0.847],\"yaxis\":\"y11\",\"type\":\"scatter\"},{\"hovertemplate\":\"M=32<br>efSearch=16<br>efConstruction=76<br>search_time=%{x}<br>recall@3=%{y}<br>index_size=%{marker.size}<extra></extra>\",\"legendgroup\":\"32\",\"marker\":{\"color\":\"#DC3912\",\"size\":[2352.4245459999997],\"sizemode\":\"area\",\"sizeref\":13.867527777777777,\"symbol\":\"circle\"},\"mode\":\"markers\",\"name\":\"32\",\"orientation\":\"v\",\"showlegend\":false,\"x\":[0.10886073112487793],\"xaxis\":\"x12\",\"y\":[0.849],\"yaxis\":\"y12\",\"type\":\"scatter\"},{\"hovertemplate\":\"M=32<br>efSearch=40<br>efConstruction=4<br>search_time=%{x}<br>recall@3=%{y}<br>index_size=%{marker.size}<extra></extra>\",\"legendgroup\":\"32\",\"marker\":{\"color\":\"#DC3912\",\"size\":[2352.4245459999997],\"sizemode\":\"area\",\"sizeref\":13.867527777777777,\"symbol\":\"circle\"},\"mode\":\"markers\",\"name\":\"32\",\"orientation\":\"v\",\"showlegend\":false,\"x\":[0.0829169750213623],\"xaxis\":\"x5\",\"y\":[0.077],\"yaxis\":\"y5\",\"type\":\"scatter\"},{\"hovertemplate\":\"M=32<br>efSearch=40<br>efConstruction=16<br>search_time=%{x}<br>recall@3=%{y}<br>index_size=%{marker.size}<extra></extra>\",\"legendgroup\":\"32\",\"marker\":{\"color\":\"#DC3912\",\"size\":[2352.4245459999997],\"sizemode\":\"area\",\"sizeref\":13.867527777777777,\"symbol\":\"circle\"},\"mode\":\"markers\",\"name\":\"32\",\"orientation\":\"v\",\"showlegend\":false,\"x\":[0.32986998558044434],\"xaxis\":\"x6\",\"y\":[0.878],\"yaxis\":\"y6\",\"type\":\"scatter\"},{\"hovertemplate\":\"M=32<br>efSearch=40<br>efConstruction=40<br>search_time=%{x}<br>recall@3=%{y}<br>index_size=%{marker.size}<extra></extra>\",\"legendgroup\":\"32\",\"marker\":{\"color\":\"#DC3912\",\"size\":[2352.4245459999997],\"sizemode\":\"area\",\"sizeref\":13.867527777777777,\"symbol\":\"circle\"},\"mode\":\"markers\",\"name\":\"32\",\"orientation\":\"v\",\"showlegend\":false,\"x\":[0.2646486759185791],\"xaxis\":\"x7\",\"y\":[0.93],\"yaxis\":\"y7\",\"type\":\"scatter\"},{\"hovertemplate\":\"M=32<br>efSearch=40<br>efConstruction=76<br>search_time=%{x}<br>recall@3=%{y}<br>index_size=%{marker.size}<extra></extra>\",\"legendgroup\":\"32\",\"marker\":{\"color\":\"#DC3912\",\"size\":[2352.4245459999997],\"sizemode\":\"area\",\"sizeref\":13.867527777777777,\"symbol\":\"circle\"},\"mode\":\"markers\",\"name\":\"32\",\"orientation\":\"v\",\"showlegend\":false,\"x\":[0.2084043025970459],\"xaxis\":\"x8\",\"y\":[0.921],\"yaxis\":\"y8\",\"type\":\"scatter\"},{\"hovertemplate\":\"M=32<br>efSearch=76<br>efConstruction=4<br>search_time=%{x}<br>recall@3=%{y}<br>index_size=%{marker.size}<extra></extra>\",\"legendgroup\":\"32\",\"marker\":{\"color\":\"#DC3912\",\"size\":[2352.4245459999997],\"sizemode\":\"area\",\"sizeref\":13.867527777777777,\"symbol\":\"circle\"},\"mode\":\"markers\",\"name\":\"32\",\"orientation\":\"v\",\"showlegend\":false,\"x\":[0.132843017578125],\"xaxis\":\"x\",\"y\":[0.093],\"yaxis\":\"y\",\"type\":\"scatter\"},{\"hovertemplate\":\"M=32<br>efSearch=76<br>efConstruction=16<br>search_time=%{x}<br>recall@3=%{y}<br>index_size=%{marker.size}<extra></extra>\",\"legendgroup\":\"32\",\"marker\":{\"color\":\"#DC3912\",\"size\":[2352.4245459999997],\"sizemode\":\"area\",\"sizeref\":13.867527777777777,\"symbol\":\"circle\"},\"mode\":\"markers\",\"name\":\"32\",\"orientation\":\"v\",\"showlegend\":false,\"x\":[0.4486548900604248],\"xaxis\":\"x2\",\"y\":[0.927],\"yaxis\":\"y2\",\"type\":\"scatter\"},{\"hovertemplate\":\"M=32<br>efSearch=76<br>efConstruction=40<br>search_time=%{x}<br>recall@3=%{y}<br>index_size=%{marker.size}<extra></extra>\",\"legendgroup\":\"32\",\"marker\":{\"color\":\"#DC3912\",\"size\":[2352.4245459999997],\"sizemode\":\"area\",\"sizeref\":13.867527777777777,\"symbol\":\"circle\"},\"mode\":\"markers\",\"name\":\"32\",\"orientation\":\"v\",\"showlegend\":false,\"x\":[0.4252011775970459],\"xaxis\":\"x3\",\"y\":[0.96],\"yaxis\":\"y3\",\"type\":\"scatter\"},{\"hovertemplate\":\"M=32<br>efSearch=76<br>efConstruction=76<br>search_time=%{x}<br>recall@3=%{y}<br>index_size=%{marker.size}<extra></extra>\",\"legendgroup\":\"32\",\"marker\":{\"color\":\"#DC3912\",\"size\":[2352.4245459999997],\"sizemode\":\"area\",\"sizeref\":13.867527777777777,\"symbol\":\"circle\"},\"mode\":\"markers\",\"name\":\"32\",\"orientation\":\"v\",\"showlegend\":false,\"x\":[0.4670281410217285],\"xaxis\":\"x4\",\"y\":[0.952],\"yaxis\":\"y4\",\"type\":\"scatter\"},{\"hovertemplate\":\"M=64<br>efSearch=4<br>efConstruction=4<br>search_time=%{x}<br>recall@3=%{y}<br>index_size=%{marker.size}<extra></extra>\",\"legendgroup\":\"64\",\"marker\":{\"color\":\"#990099\",\"size\":[3120.19375],\"sizemode\":\"area\",\"sizeref\":13.867527777777777,\"symbol\":\"circle\"},\"mode\":\"markers\",\"name\":\"64\",\"orientation\":\"v\",\"showlegend\":true,\"x\":[0.0344233512878418],\"xaxis\":\"x13\",\"y\":[0.04],\"yaxis\":\"y13\",\"type\":\"scatter\"},{\"hovertemplate\":\"M=64<br>efSearch=4<br>efConstruction=16<br>search_time=%{x}<br>recall@3=%{y}<br>index_size=%{marker.size}<extra></extra>\",\"legendgroup\":\"64\",\"marker\":{\"color\":\"#990099\",\"size\":[3120.19375],\"sizemode\":\"area\",\"sizeref\":13.867527777777777,\"symbol\":\"circle\"},\"mode\":\"markers\",\"name\":\"64\",\"orientation\":\"v\",\"showlegend\":false,\"x\":[0.10606551170349121],\"xaxis\":\"x14\",\"y\":[0.476],\"yaxis\":\"y14\",\"type\":\"scatter\"},{\"hovertemplate\":\"M=64<br>efSearch=4<br>efConstruction=40<br>search_time=%{x}<br>recall@3=%{y}<br>index_size=%{marker.size}<extra></extra>\",\"legendgroup\":\"64\",\"marker\":{\"color\":\"#990099\",\"size\":[3120.19375],\"sizemode\":\"area\",\"sizeref\":13.867527777777777,\"symbol\":\"circle\"},\"mode\":\"markers\",\"name\":\"64\",\"orientation\":\"v\",\"showlegend\":false,\"x\":[0.11319875717163086],\"xaxis\":\"x15\",\"y\":[0.709],\"yaxis\":\"y15\",\"type\":\"scatter\"},{\"hovertemplate\":\"M=64<br>efSearch=4<br>efConstruction=76<br>search_time=%{x}<br>recall@3=%{y}<br>index_size=%{marker.size}<extra></extra>\",\"legendgroup\":\"64\",\"marker\":{\"color\":\"#990099\",\"size\":[3120.19375],\"sizemode\":\"area\",\"sizeref\":13.867527777777777,\"symbol\":\"circle\"},\"mode\":\"markers\",\"name\":\"64\",\"orientation\":\"v\",\"showlegend\":false,\"x\":[0.09943366050720215],\"xaxis\":\"x16\",\"y\":[0.738],\"yaxis\":\"y16\",\"type\":\"scatter\"},{\"hovertemplate\":\"M=64<br>efSearch=16<br>efConstruction=4<br>search_time=%{x}<br>recall@3=%{y}<br>index_size=%{marker.size}<extra></extra>\",\"legendgroup\":\"64\",\"marker\":{\"color\":\"#990099\",\"size\":[3120.19375],\"sizemode\":\"area\",\"sizeref\":13.867527777777777,\"symbol\":\"circle\"},\"mode\":\"markers\",\"name\":\"64\",\"orientation\":\"v\",\"showlegend\":false,\"x\":[0.12626266479492188],\"xaxis\":\"x9\",\"y\":[0.054],\"yaxis\":\"y9\",\"type\":\"scatter\"},{\"hovertemplate\":\"M=64<br>efSearch=16<br>efConstruction=16<br>search_time=%{x}<br>recall@3=%{y}<br>index_size=%{marker.size}<extra></extra>\",\"legendgroup\":\"64\",\"marker\":{\"color\":\"#990099\",\"size\":[3120.19375],\"sizemode\":\"area\",\"sizeref\":13.867527777777777,\"symbol\":\"circle\"},\"mode\":\"markers\",\"name\":\"64\",\"orientation\":\"v\",\"showlegend\":false,\"x\":[0.12110638618469238],\"xaxis\":\"x10\",\"y\":[0.772],\"yaxis\":\"y10\",\"type\":\"scatter\"},{\"hovertemplate\":\"M=64<br>efSearch=16<br>efConstruction=40<br>search_time=%{x}<br>recall@3=%{y}<br>index_size=%{marker.size}<extra></extra>\",\"legendgroup\":\"64\",\"marker\":{\"color\":\"#990099\",\"size\":[3120.19375],\"sizemode\":\"area\",\"sizeref\":13.867527777777777,\"symbol\":\"circle\"},\"mode\":\"markers\",\"name\":\"64\",\"orientation\":\"v\",\"showlegend\":false,\"x\":[0.1775972843170166],\"xaxis\":\"x11\",\"y\":[0.885],\"yaxis\":\"y11\",\"type\":\"scatter\"},{\"hovertemplate\":\"M=64<br>efSearch=16<br>efConstruction=76<br>search_time=%{x}<br>recall@3=%{y}<br>index_size=%{marker.size}<extra></extra>\",\"legendgroup\":\"64\",\"marker\":{\"color\":\"#990099\",\"size\":[3120.19375],\"sizemode\":\"area\",\"sizeref\":13.867527777777777,\"symbol\":\"circle\"},\"mode\":\"markers\",\"name\":\"64\",\"orientation\":\"v\",\"showlegend\":false,\"x\":[0.22647881507873535],\"xaxis\":\"x12\",\"y\":[0.918],\"yaxis\":\"y12\",\"type\":\"scatter\"},{\"hovertemplate\":\"M=64<br>efSearch=40<br>efConstruction=4<br>search_time=%{x}<br>recall@3=%{y}<br>index_size=%{marker.size}<extra></extra>\",\"legendgroup\":\"64\",\"marker\":{\"color\":\"#990099\",\"size\":[3120.19375],\"sizemode\":\"area\",\"sizeref\":13.867527777777777,\"symbol\":\"circle\"},\"mode\":\"markers\",\"name\":\"64\",\"orientation\":\"v\",\"showlegend\":false,\"x\":[0.10410618782043457],\"xaxis\":\"x5\",\"y\":[0.07],\"yaxis\":\"y5\",\"type\":\"scatter\"},{\"hovertemplate\":\"M=64<br>efSearch=40<br>efConstruction=16<br>search_time=%{x}<br>recall@3=%{y}<br>index_size=%{marker.size}<extra></extra>\",\"legendgroup\":\"64\",\"marker\":{\"color\":\"#990099\",\"size\":[3120.19375],\"sizemode\":\"area\",\"sizeref\":13.867527777777777,\"symbol\":\"circle\"},\"mode\":\"markers\",\"name\":\"64\",\"orientation\":\"v\",\"showlegend\":false,\"x\":[0.23667573928833008],\"xaxis\":\"x6\",\"y\":[0.887],\"yaxis\":\"y6\",\"type\":\"scatter\"},{\"hovertemplate\":\"M=64<br>efSearch=40<br>efConstruction=40<br>search_time=%{x}<br>recall@3=%{y}<br>index_size=%{marker.size}<extra></extra>\",\"legendgroup\":\"64\",\"marker\":{\"color\":\"#990099\",\"size\":[3120.19375],\"sizemode\":\"area\",\"sizeref\":13.867527777777777,\"symbol\":\"circle\"},\"mode\":\"markers\",\"name\":\"64\",\"orientation\":\"v\",\"showlegend\":false,\"x\":[0.35950422286987305],\"xaxis\":\"x7\",\"y\":[0.949],\"yaxis\":\"y7\",\"type\":\"scatter\"},{\"hovertemplate\":\"M=64<br>efSearch=40<br>efConstruction=76<br>search_time=%{x}<br>recall@3=%{y}<br>index_size=%{marker.size}<extra></extra>\",\"legendgroup\":\"64\",\"marker\":{\"color\":\"#990099\",\"size\":[3120.19375],\"sizemode\":\"area\",\"sizeref\":13.867527777777777,\"symbol\":\"circle\"},\"mode\":\"markers\",\"name\":\"64\",\"orientation\":\"v\",\"showlegend\":false,\"x\":[0.4291207790374756],\"xaxis\":\"x8\",\"y\":[0.97],\"yaxis\":\"y8\",\"type\":\"scatter\"},{\"hovertemplate\":\"M=64<br>efSearch=76<br>efConstruction=4<br>search_time=%{x}<br>recall@3=%{y}<br>index_size=%{marker.size}<extra></extra>\",\"legendgroup\":\"64\",\"marker\":{\"color\":\"#990099\",\"size\":[3120.19375],\"sizemode\":\"area\",\"sizeref\":13.867527777777777,\"symbol\":\"circle\"},\"mode\":\"markers\",\"name\":\"64\",\"orientation\":\"v\",\"showlegend\":false,\"x\":[0.15374064445495605],\"xaxis\":\"x\",\"y\":[0.086],\"yaxis\":\"y\",\"type\":\"scatter\"},{\"hovertemplate\":\"M=64<br>efSearch=76<br>efConstruction=16<br>search_time=%{x}<br>recall@3=%{y}<br>index_size=%{marker.size}<extra></extra>\",\"legendgroup\":\"64\",\"marker\":{\"color\":\"#990099\",\"size\":[3120.19375],\"sizemode\":\"area\",\"sizeref\":13.867527777777777,\"symbol\":\"circle\"},\"mode\":\"markers\",\"name\":\"64\",\"orientation\":\"v\",\"showlegend\":false,\"x\":[0.3727540969848633],\"xaxis\":\"x2\",\"y\":[0.925],\"yaxis\":\"y2\",\"type\":\"scatter\"},{\"hovertemplate\":\"M=64<br>efSearch=76<br>efConstruction=40<br>search_time=%{x}<br>recall@3=%{y}<br>index_size=%{marker.size}<extra></extra>\",\"legendgroup\":\"64\",\"marker\":{\"color\":\"#990099\",\"size\":[3120.19375],\"sizemode\":\"area\",\"sizeref\":13.867527777777777,\"symbol\":\"circle\"},\"mode\":\"markers\",\"name\":\"64\",\"orientation\":\"v\",\"showlegend\":false,\"x\":[0.5686748027801514],\"xaxis\":\"x3\",\"y\":[0.978],\"yaxis\":\"y3\",\"type\":\"scatter\"},{\"hovertemplate\":\"M=64<br>efSearch=76<br>efConstruction=76<br>search_time=%{x}<br>recall@3=%{y}<br>index_size=%{marker.size}<extra></extra>\",\"legendgroup\":\"64\",\"marker\":{\"color\":\"#990099\",\"size\":[3120.19375],\"sizemode\":\"area\",\"sizeref\":13.867527777777777,\"symbol\":\"circle\"},\"mode\":\"markers\",\"name\":\"64\",\"orientation\":\"v\",\"showlegend\":false,\"x\":[0.728726863861084],\"xaxis\":\"x4\",\"y\":[0.992],\"yaxis\":\"y4\",\"type\":\"scatter\"}],                        {\"template\":{\"data\":{\"barpolar\":[{\"marker\":{\"line\":{\"color\":\"white\",\"width\":0.5},\"pattern\":{\"fillmode\":\"overlay\",\"size\":10,\"solidity\":0.2}},\"type\":\"barpolar\"}],\"bar\":[{\"error_x\":{\"color\":\"rgb(36,36,36)\"},\"error_y\":{\"color\":\"rgb(36,36,36)\"},\"marker\":{\"line\":{\"color\":\"white\",\"width\":0.5},\"pattern\":{\"fillmode\":\"overlay\",\"size\":10,\"solidity\":0.2}},\"type\":\"bar\"}],\"carpet\":[{\"aaxis\":{\"endlinecolor\":\"rgb(36,36,36)\",\"gridcolor\":\"white\",\"linecolor\":\"white\",\"minorgridcolor\":\"white\",\"startlinecolor\":\"rgb(36,36,36)\"},\"baxis\":{\"endlinecolor\":\"rgb(36,36,36)\",\"gridcolor\":\"white\",\"linecolor\":\"white\",\"minorgridcolor\":\"white\",\"startlinecolor\":\"rgb(36,36,36)\"},\"type\":\"carpet\"}],\"choropleth\":[{\"colorbar\":{\"outlinewidth\":1,\"tickcolor\":\"rgb(36,36,36)\",\"ticks\":\"outside\"},\"type\":\"choropleth\"}],\"contourcarpet\":[{\"colorbar\":{\"outlinewidth\":1,\"tickcolor\":\"rgb(36,36,36)\",\"ticks\":\"outside\"},\"type\":\"contourcarpet\"}],\"contour\":[{\"colorbar\":{\"outlinewidth\":1,\"tickcolor\":\"rgb(36,36,36)\",\"ticks\":\"outside\"},\"colorscale\":[[0.0,\"#440154\"],[0.1111111111111111,\"#482878\"],[0.2222222222222222,\"#3e4989\"],[0.3333333333333333,\"#31688e\"],[0.4444444444444444,\"#26828e\"],[0.5555555555555556,\"#1f9e89\"],[0.6666666666666666,\"#35b779\"],[0.7777777777777778,\"#6ece58\"],[0.8888888888888888,\"#b5de2b\"],[1.0,\"#fde725\"]],\"type\":\"contour\"}],\"heatmapgl\":[{\"colorbar\":{\"outlinewidth\":1,\"tickcolor\":\"rgb(36,36,36)\",\"ticks\":\"outside\"},\"colorscale\":[[0.0,\"#440154\"],[0.1111111111111111,\"#482878\"],[0.2222222222222222,\"#3e4989\"],[0.3333333333333333,\"#31688e\"],[0.4444444444444444,\"#26828e\"],[0.5555555555555556,\"#1f9e89\"],[0.6666666666666666,\"#35b779\"],[0.7777777777777778,\"#6ece58\"],[0.8888888888888888,\"#b5de2b\"],[1.0,\"#fde725\"]],\"type\":\"heatmapgl\"}],\"heatmap\":[{\"colorbar\":{\"outlinewidth\":1,\"tickcolor\":\"rgb(36,36,36)\",\"ticks\":\"outside\"},\"colorscale\":[[0.0,\"#440154\"],[0.1111111111111111,\"#482878\"],[0.2222222222222222,\"#3e4989\"],[0.3333333333333333,\"#31688e\"],[0.4444444444444444,\"#26828e\"],[0.5555555555555556,\"#1f9e89\"],[0.6666666666666666,\"#35b779\"],[0.7777777777777778,\"#6ece58\"],[0.8888888888888888,\"#b5de2b\"],[1.0,\"#fde725\"]],\"type\":\"heatmap\"}],\"histogram2dcontour\":[{\"colorbar\":{\"outlinewidth\":1,\"tickcolor\":\"rgb(36,36,36)\",\"ticks\":\"outside\"},\"colorscale\":[[0.0,\"#440154\"],[0.1111111111111111,\"#482878\"],[0.2222222222222222,\"#3e4989\"],[0.3333333333333333,\"#31688e\"],[0.4444444444444444,\"#26828e\"],[0.5555555555555556,\"#1f9e89\"],[0.6666666666666666,\"#35b779\"],[0.7777777777777778,\"#6ece58\"],[0.8888888888888888,\"#b5de2b\"],[1.0,\"#fde725\"]],\"type\":\"histogram2dcontour\"}],\"histogram2d\":[{\"colorbar\":{\"outlinewidth\":1,\"tickcolor\":\"rgb(36,36,36)\",\"ticks\":\"outside\"},\"colorscale\":[[0.0,\"#440154\"],[0.1111111111111111,\"#482878\"],[0.2222222222222222,\"#3e4989\"],[0.3333333333333333,\"#31688e\"],[0.4444444444444444,\"#26828e\"],[0.5555555555555556,\"#1f9e89\"],[0.6666666666666666,\"#35b779\"],[0.7777777777777778,\"#6ece58\"],[0.8888888888888888,\"#b5de2b\"],[1.0,\"#fde725\"]],\"type\":\"histogram2d\"}],\"histogram\":[{\"marker\":{\"line\":{\"color\":\"white\",\"width\":0.6}},\"type\":\"histogram\"}],\"mesh3d\":[{\"colorbar\":{\"outlinewidth\":1,\"tickcolor\":\"rgb(36,36,36)\",\"ticks\":\"outside\"},\"type\":\"mesh3d\"}],\"parcoords\":[{\"line\":{\"colorbar\":{\"outlinewidth\":1,\"tickcolor\":\"rgb(36,36,36)\",\"ticks\":\"outside\"}},\"type\":\"parcoords\"}],\"pie\":[{\"automargin\":true,\"type\":\"pie\"}],\"scatter3d\":[{\"line\":{\"colorbar\":{\"outlinewidth\":1,\"tickcolor\":\"rgb(36,36,36)\",\"ticks\":\"outside\"}},\"marker\":{\"colorbar\":{\"outlinewidth\":1,\"tickcolor\":\"rgb(36,36,36)\",\"ticks\":\"outside\"}},\"type\":\"scatter3d\"}],\"scattercarpet\":[{\"marker\":{\"colorbar\":{\"outlinewidth\":1,\"tickcolor\":\"rgb(36,36,36)\",\"ticks\":\"outside\"}},\"type\":\"scattercarpet\"}],\"scattergeo\":[{\"marker\":{\"colorbar\":{\"outlinewidth\":1,\"tickcolor\":\"rgb(36,36,36)\",\"ticks\":\"outside\"}},\"type\":\"scattergeo\"}],\"scattergl\":[{\"marker\":{\"colorbar\":{\"outlinewidth\":1,\"tickcolor\":\"rgb(36,36,36)\",\"ticks\":\"outside\"}},\"type\":\"scattergl\"}],\"scattermapbox\":[{\"marker\":{\"colorbar\":{\"outlinewidth\":1,\"tickcolor\":\"rgb(36,36,36)\",\"ticks\":\"outside\"}},\"type\":\"scattermapbox\"}],\"scatterpolargl\":[{\"marker\":{\"colorbar\":{\"outlinewidth\":1,\"tickcolor\":\"rgb(36,36,36)\",\"ticks\":\"outside\"}},\"type\":\"scatterpolargl\"}],\"scatterpolar\":[{\"marker\":{\"colorbar\":{\"outlinewidth\":1,\"tickcolor\":\"rgb(36,36,36)\",\"ticks\":\"outside\"}},\"type\":\"scatterpolar\"}],\"scatter\":[{\"fillpattern\":{\"fillmode\":\"overlay\",\"size\":10,\"solidity\":0.2},\"type\":\"scatter\"}],\"scatterternary\":[{\"marker\":{\"colorbar\":{\"outlinewidth\":1,\"tickcolor\":\"rgb(36,36,36)\",\"ticks\":\"outside\"}},\"type\":\"scatterternary\"}],\"surface\":[{\"colorbar\":{\"outlinewidth\":1,\"tickcolor\":\"rgb(36,36,36)\",\"ticks\":\"outside\"},\"colorscale\":[[0.0,\"#440154\"],[0.1111111111111111,\"#482878\"],[0.2222222222222222,\"#3e4989\"],[0.3333333333333333,\"#31688e\"],[0.4444444444444444,\"#26828e\"],[0.5555555555555556,\"#1f9e89\"],[0.6666666666666666,\"#35b779\"],[0.7777777777777778,\"#6ece58\"],[0.8888888888888888,\"#b5de2b\"],[1.0,\"#fde725\"]],\"type\":\"surface\"}],\"table\":[{\"cells\":{\"fill\":{\"color\":\"rgb(237,237,237)\"},\"line\":{\"color\":\"white\"}},\"header\":{\"fill\":{\"color\":\"rgb(217,217,217)\"},\"line\":{\"color\":\"white\"}},\"type\":\"table\"}]},\"layout\":{\"annotationdefaults\":{\"arrowhead\":0,\"arrowwidth\":1},\"autotypenumbers\":\"strict\",\"coloraxis\":{\"colorbar\":{\"outlinewidth\":1,\"tickcolor\":\"rgb(36,36,36)\",\"ticks\":\"outside\"}},\"colorscale\":{\"diverging\":[[0.0,\"rgb(103,0,31)\"],[0.1,\"rgb(178,24,43)\"],[0.2,\"rgb(214,96,77)\"],[0.3,\"rgb(244,165,130)\"],[0.4,\"rgb(253,219,199)\"],[0.5,\"rgb(247,247,247)\"],[0.6,\"rgb(209,229,240)\"],[0.7,\"rgb(146,197,222)\"],[0.8,\"rgb(67,147,195)\"],[0.9,\"rgb(33,102,172)\"],[1.0,\"rgb(5,48,97)\"]],\"sequential\":[[0.0,\"#440154\"],[0.1111111111111111,\"#482878\"],[0.2222222222222222,\"#3e4989\"],[0.3333333333333333,\"#31688e\"],[0.4444444444444444,\"#26828e\"],[0.5555555555555556,\"#1f9e89\"],[0.6666666666666666,\"#35b779\"],[0.7777777777777778,\"#6ece58\"],[0.8888888888888888,\"#b5de2b\"],[1.0,\"#fde725\"]],\"sequentialminus\":[[0.0,\"#440154\"],[0.1111111111111111,\"#482878\"],[0.2222222222222222,\"#3e4989\"],[0.3333333333333333,\"#31688e\"],[0.4444444444444444,\"#26828e\"],[0.5555555555555556,\"#1f9e89\"],[0.6666666666666666,\"#35b779\"],[0.7777777777777778,\"#6ece58\"],[0.8888888888888888,\"#b5de2b\"],[1.0,\"#fde725\"]]},\"colorway\":[\"#1F77B4\",\"#FF7F0E\",\"#2CA02C\",\"#D62728\",\"#9467BD\",\"#8C564B\",\"#E377C2\",\"#7F7F7F\",\"#BCBD22\",\"#17BECF\"],\"font\":{\"color\":\"rgb(36,36,36)\"},\"geo\":{\"bgcolor\":\"white\",\"lakecolor\":\"white\",\"landcolor\":\"white\",\"showlakes\":true,\"showland\":true,\"subunitcolor\":\"white\"},\"hoverlabel\":{\"align\":\"left\"},\"hovermode\":\"closest\",\"mapbox\":{\"style\":\"light\"},\"paper_bgcolor\":\"white\",\"plot_bgcolor\":\"white\",\"polar\":{\"angularaxis\":{\"gridcolor\":\"rgb(232,232,232)\",\"linecolor\":\"rgb(36,36,36)\",\"showgrid\":false,\"showline\":true,\"ticks\":\"outside\"},\"bgcolor\":\"white\",\"radialaxis\":{\"gridcolor\":\"rgb(232,232,232)\",\"linecolor\":\"rgb(36,36,36)\",\"showgrid\":false,\"showline\":true,\"ticks\":\"outside\"}},\"scene\":{\"xaxis\":{\"backgroundcolor\":\"white\",\"gridcolor\":\"rgb(232,232,232)\",\"gridwidth\":2,\"linecolor\":\"rgb(36,36,36)\",\"showbackground\":true,\"showgrid\":false,\"showline\":true,\"ticks\":\"outside\",\"zeroline\":false,\"zerolinecolor\":\"rgb(36,36,36)\"},\"yaxis\":{\"backgroundcolor\":\"white\",\"gridcolor\":\"rgb(232,232,232)\",\"gridwidth\":2,\"linecolor\":\"rgb(36,36,36)\",\"showbackground\":true,\"showgrid\":false,\"showline\":true,\"ticks\":\"outside\",\"zeroline\":false,\"zerolinecolor\":\"rgb(36,36,36)\"},\"zaxis\":{\"backgroundcolor\":\"white\",\"gridcolor\":\"rgb(232,232,232)\",\"gridwidth\":2,\"linecolor\":\"rgb(36,36,36)\",\"showbackground\":true,\"showgrid\":false,\"showline\":true,\"ticks\":\"outside\",\"zeroline\":false,\"zerolinecolor\":\"rgb(36,36,36)\"}},\"shapedefaults\":{\"fillcolor\":\"black\",\"line\":{\"width\":0},\"opacity\":0.3},\"ternary\":{\"aaxis\":{\"gridcolor\":\"rgb(232,232,232)\",\"linecolor\":\"rgb(36,36,36)\",\"showgrid\":false,\"showline\":true,\"ticks\":\"outside\"},\"baxis\":{\"gridcolor\":\"rgb(232,232,232)\",\"linecolor\":\"rgb(36,36,36)\",\"showgrid\":false,\"showline\":true,\"ticks\":\"outside\"},\"bgcolor\":\"white\",\"caxis\":{\"gridcolor\":\"rgb(232,232,232)\",\"linecolor\":\"rgb(36,36,36)\",\"showgrid\":false,\"showline\":true,\"ticks\":\"outside\"}},\"title\":{\"x\":0.05},\"xaxis\":{\"automargin\":true,\"gridcolor\":\"rgb(232,232,232)\",\"linecolor\":\"rgb(36,36,36)\",\"showgrid\":false,\"showline\":true,\"ticks\":\"outside\",\"title\":{\"standoff\":15},\"zeroline\":false,\"zerolinecolor\":\"rgb(36,36,36)\"},\"yaxis\":{\"automargin\":true,\"gridcolor\":\"rgb(232,232,232)\",\"linecolor\":\"rgb(36,36,36)\",\"showgrid\":false,\"showline\":true,\"ticks\":\"outside\",\"title\":{\"standoff\":15},\"zeroline\":false,\"zerolinecolor\":\"rgb(36,36,36)\"}}},\"xaxis\":{\"anchor\":\"y\",\"domain\":[0.0,0.22999999999999998],\"title\":{\"text\":\"\"},\"showgrid\":true,\"gridwidth\":1,\"gridcolor\":\"#F0F0F0\",\"linecolor\":\"darkgrey\",\"ticks\":\"\"},\"yaxis\":{\"anchor\":\"x\",\"domain\":[0.0,0.235],\"title\":{\"text\":\"<B>                             1-recall@3\",\"standoff\":5},\"showgrid\":true,\"gridwidth\":1,\"gridcolor\":\"#F0F0F0\",\"linecolor\":\"darkgrey\",\"ticks\":\"\",\"range\":[0,1.1],\"tick0\":0.2,\"dtick\":0.2},\"xaxis2\":{\"anchor\":\"y2\",\"domain\":[0.24999999999999997,0.48],\"matches\":\"x\",\"title\":{\"text\":\"<B>search time (ms/query)\",\"standoff\":10},\"showgrid\":true,\"gridwidth\":1,\"gridcolor\":\"#F0F0F0\",\"linecolor\":\"darkgrey\",\"ticks\":\"\"},\"yaxis2\":{\"anchor\":\"x2\",\"domain\":[0.0,0.235],\"matches\":\"y\",\"showticklabels\":false,\"showgrid\":true,\"gridwidth\":1,\"gridcolor\":\"#F0F0F0\",\"linecolor\":\"darkgrey\",\"ticks\":\"\",\"range\":[0,1.1],\"tick0\":0.2,\"dtick\":0.2,\"title\":{\"text\":\"\"}},\"xaxis3\":{\"anchor\":\"y3\",\"domain\":[0.49999999999999994,0.73],\"matches\":\"x\",\"title\":{\"text\":\"\"},\"showgrid\":true,\"gridwidth\":1,\"gridcolor\":\"#F0F0F0\",\"linecolor\":\"darkgrey\",\"ticks\":\"\"},\"yaxis3\":{\"anchor\":\"x3\",\"domain\":[0.0,0.235],\"matches\":\"y\",\"showticklabels\":false,\"showgrid\":true,\"gridwidth\":1,\"gridcolor\":\"#F0F0F0\",\"linecolor\":\"darkgrey\",\"ticks\":\"\",\"range\":[0,1.1],\"tick0\":0.2,\"dtick\":0.2,\"title\":{\"text\":\"\"}},\"xaxis4\":{\"anchor\":\"y4\",\"domain\":[0.75,0.98],\"matches\":\"x\",\"title\":{\"text\":\"\"},\"showgrid\":true,\"gridwidth\":1,\"gridcolor\":\"#F0F0F0\",\"linecolor\":\"darkgrey\",\"ticks\":\"\"},\"yaxis4\":{\"anchor\":\"x4\",\"domain\":[0.0,0.235],\"matches\":\"y\",\"showticklabels\":false,\"showgrid\":true,\"gridwidth\":1,\"gridcolor\":\"#F0F0F0\",\"linecolor\":\"darkgrey\",\"ticks\":\"\",\"range\":[0,1.1],\"tick0\":0.2,\"dtick\":0.2,\"title\":{\"text\":\"\"}},\"xaxis5\":{\"anchor\":\"y5\",\"domain\":[0.0,0.22999999999999998],\"matches\":\"x\",\"showticklabels\":false,\"showgrid\":true,\"gridwidth\":1,\"gridcolor\":\"#F0F0F0\",\"linecolor\":\"darkgrey\",\"ticks\":\"\",\"title\":{\"text\":\"\"}},\"yaxis5\":{\"anchor\":\"x5\",\"domain\":[0.255,0.49],\"matches\":\"y\",\"title\":{\"text\":\"\"},\"showgrid\":true,\"gridwidth\":1,\"gridcolor\":\"#F0F0F0\",\"linecolor\":\"darkgrey\",\"ticks\":\"\",\"range\":[0,1.1],\"tick0\":0.2,\"dtick\":0.2},\"xaxis6\":{\"anchor\":\"y6\",\"domain\":[0.24999999999999997,0.48],\"matches\":\"x\",\"showticklabels\":false,\"showgrid\":true,\"gridwidth\":1,\"gridcolor\":\"#F0F0F0\",\"linecolor\":\"darkgrey\",\"ticks\":\"\",\"title\":{\"text\":\"\"}},\"yaxis6\":{\"anchor\":\"x6\",\"domain\":[0.255,0.49],\"matches\":\"y\",\"showticklabels\":false,\"showgrid\":true,\"gridwidth\":1,\"gridcolor\":\"#F0F0F0\",\"linecolor\":\"darkgrey\",\"ticks\":\"\",\"range\":[0,1.1],\"tick0\":0.2,\"dtick\":0.2,\"title\":{\"text\":\"\"}},\"xaxis7\":{\"anchor\":\"y7\",\"domain\":[0.49999999999999994,0.73],\"matches\":\"x\",\"showticklabels\":false,\"showgrid\":true,\"gridwidth\":1,\"gridcolor\":\"#F0F0F0\",\"linecolor\":\"darkgrey\",\"ticks\":\"\",\"title\":{\"text\":\"\"}},\"yaxis7\":{\"anchor\":\"x7\",\"domain\":[0.255,0.49],\"matches\":\"y\",\"showticklabels\":false,\"showgrid\":true,\"gridwidth\":1,\"gridcolor\":\"#F0F0F0\",\"linecolor\":\"darkgrey\",\"ticks\":\"\",\"range\":[0,1.1],\"tick0\":0.2,\"dtick\":0.2,\"title\":{\"text\":\"\"}},\"xaxis8\":{\"anchor\":\"y8\",\"domain\":[0.75,0.98],\"matches\":\"x\",\"showticklabels\":false,\"showgrid\":true,\"gridwidth\":1,\"gridcolor\":\"#F0F0F0\",\"linecolor\":\"darkgrey\",\"ticks\":\"\",\"title\":{\"text\":\"\"}},\"yaxis8\":{\"anchor\":\"x8\",\"domain\":[0.255,0.49],\"matches\":\"y\",\"showticklabels\":false,\"showgrid\":true,\"gridwidth\":1,\"gridcolor\":\"#F0F0F0\",\"linecolor\":\"darkgrey\",\"ticks\":\"\",\"range\":[0,1.1],\"tick0\":0.2,\"dtick\":0.2,\"title\":{\"text\":\"\"}},\"xaxis9\":{\"anchor\":\"y9\",\"domain\":[0.0,0.22999999999999998],\"matches\":\"x\",\"showticklabels\":false,\"showgrid\":true,\"gridwidth\":1,\"gridcolor\":\"#F0F0F0\",\"linecolor\":\"darkgrey\",\"ticks\":\"\",\"title\":{\"text\":\"\"}},\"yaxis9\":{\"anchor\":\"x9\",\"domain\":[0.51,0.745],\"matches\":\"y\",\"title\":{\"text\":\"\"},\"showgrid\":true,\"gridwidth\":1,\"gridcolor\":\"#F0F0F0\",\"linecolor\":\"darkgrey\",\"ticks\":\"\",\"range\":[0,1.1],\"tick0\":0.2,\"dtick\":0.2},\"xaxis10\":{\"anchor\":\"y10\",\"domain\":[0.24999999999999997,0.48],\"matches\":\"x\",\"showticklabels\":false,\"showgrid\":true,\"gridwidth\":1,\"gridcolor\":\"#F0F0F0\",\"linecolor\":\"darkgrey\",\"ticks\":\"\",\"title\":{\"text\":\"\"}},\"yaxis10\":{\"anchor\":\"x10\",\"domain\":[0.51,0.745],\"matches\":\"y\",\"showticklabels\":false,\"showgrid\":true,\"gridwidth\":1,\"gridcolor\":\"#F0F0F0\",\"linecolor\":\"darkgrey\",\"ticks\":\"\",\"range\":[0,1.1],\"tick0\":0.2,\"dtick\":0.2,\"title\":{\"text\":\"\"}},\"xaxis11\":{\"anchor\":\"y11\",\"domain\":[0.49999999999999994,0.73],\"matches\":\"x\",\"showticklabels\":false,\"showgrid\":true,\"gridwidth\":1,\"gridcolor\":\"#F0F0F0\",\"linecolor\":\"darkgrey\",\"ticks\":\"\",\"title\":{\"text\":\"\"}},\"yaxis11\":{\"anchor\":\"x11\",\"domain\":[0.51,0.745],\"matches\":\"y\",\"showticklabels\":false,\"showgrid\":true,\"gridwidth\":1,\"gridcolor\":\"#F0F0F0\",\"linecolor\":\"darkgrey\",\"ticks\":\"\",\"range\":[0,1.1],\"tick0\":0.2,\"dtick\":0.2,\"title\":{\"text\":\"\"}},\"xaxis12\":{\"anchor\":\"y12\",\"domain\":[0.75,0.98],\"matches\":\"x\",\"showticklabels\":false,\"showgrid\":true,\"gridwidth\":1,\"gridcolor\":\"#F0F0F0\",\"linecolor\":\"darkgrey\",\"ticks\":\"\",\"title\":{\"text\":\"\"}},\"yaxis12\":{\"anchor\":\"x12\",\"domain\":[0.51,0.745],\"matches\":\"y\",\"showticklabels\":false,\"showgrid\":true,\"gridwidth\":1,\"gridcolor\":\"#F0F0F0\",\"linecolor\":\"darkgrey\",\"ticks\":\"\",\"range\":[0,1.1],\"tick0\":0.2,\"dtick\":0.2,\"title\":{\"text\":\"\"}},\"xaxis13\":{\"anchor\":\"y13\",\"domain\":[0.0,0.22999999999999998],\"matches\":\"x\",\"showticklabels\":false,\"showgrid\":true,\"gridwidth\":1,\"gridcolor\":\"#F0F0F0\",\"linecolor\":\"darkgrey\",\"ticks\":\"\",\"title\":{\"text\":\"\"}},\"yaxis13\":{\"anchor\":\"x13\",\"domain\":[0.7649999999999999,0.9999999999999999],\"matches\":\"y\",\"title\":{\"text\":\"\"},\"showgrid\":true,\"gridwidth\":1,\"gridcolor\":\"#F0F0F0\",\"linecolor\":\"darkgrey\",\"ticks\":\"\",\"range\":[0,1.1],\"tick0\":0.2,\"dtick\":0.2},\"xaxis14\":{\"anchor\":\"y14\",\"domain\":[0.24999999999999997,0.48],\"matches\":\"x\",\"showticklabels\":false,\"showgrid\":true,\"gridwidth\":1,\"gridcolor\":\"#F0F0F0\",\"linecolor\":\"darkgrey\",\"ticks\":\"\",\"title\":{\"text\":\"\"}},\"yaxis14\":{\"anchor\":\"x14\",\"domain\":[0.7649999999999999,0.9999999999999999],\"matches\":\"y\",\"showticklabels\":false,\"showgrid\":true,\"gridwidth\":1,\"gridcolor\":\"#F0F0F0\",\"linecolor\":\"darkgrey\",\"ticks\":\"\",\"range\":[0,1.1],\"tick0\":0.2,\"dtick\":0.2,\"title\":{\"text\":\"\"}},\"xaxis15\":{\"anchor\":\"y15\",\"domain\":[0.49999999999999994,0.73],\"matches\":\"x\",\"showticklabels\":false,\"showgrid\":true,\"gridwidth\":1,\"gridcolor\":\"#F0F0F0\",\"linecolor\":\"darkgrey\",\"ticks\":\"\",\"title\":{\"text\":\"\"}},\"yaxis15\":{\"anchor\":\"x15\",\"domain\":[0.7649999999999999,0.9999999999999999],\"matches\":\"y\",\"showticklabels\":false,\"showgrid\":true,\"gridwidth\":1,\"gridcolor\":\"#F0F0F0\",\"linecolor\":\"darkgrey\",\"ticks\":\"\",\"range\":[0,1.1],\"tick0\":0.2,\"dtick\":0.2,\"title\":{\"text\":\"\"}},\"xaxis16\":{\"anchor\":\"y16\",\"domain\":[0.75,0.98],\"matches\":\"x\",\"showticklabels\":false,\"showgrid\":true,\"gridwidth\":1,\"gridcolor\":\"#F0F0F0\",\"linecolor\":\"darkgrey\",\"ticks\":\"\",\"title\":{\"text\":\"\"}},\"yaxis16\":{\"anchor\":\"x16\",\"domain\":[0.7649999999999999,0.9999999999999999],\"matches\":\"y\",\"showticklabels\":false,\"showgrid\":true,\"gridwidth\":1,\"gridcolor\":\"#F0F0F0\",\"linecolor\":\"darkgrey\",\"ticks\":\"\",\"range\":[0,1.1],\"tick0\":0.2,\"dtick\":0.2,\"title\":{\"text\":\"\"}},\"annotations\":[{\"font\":{},\"showarrow\":false,\"text\":\"efConstruction=4\",\"x\":0.11499999999999999,\"xanchor\":\"center\",\"xref\":\"paper\",\"y\":0.9999999999999999,\"yanchor\":\"bottom\",\"yref\":\"paper\"},{\"font\":{},\"showarrow\":false,\"text\":\"efConstruction=16\",\"x\":0.365,\"xanchor\":\"center\",\"xref\":\"paper\",\"y\":0.9999999999999999,\"yanchor\":\"bottom\",\"yref\":\"paper\"},{\"font\":{},\"showarrow\":false,\"text\":\"efConstruction=40\",\"x\":0.615,\"xanchor\":\"center\",\"xref\":\"paper\",\"y\":0.9999999999999999,\"yanchor\":\"bottom\",\"yref\":\"paper\"},{\"font\":{},\"showarrow\":false,\"text\":\"efConstruction=76\",\"x\":0.865,\"xanchor\":\"center\",\"xref\":\"paper\",\"y\":0.9999999999999999,\"yanchor\":\"bottom\",\"yref\":\"paper\"},{\"font\":{},\"showarrow\":false,\"text\":\"efSearch=76\",\"textangle\":90,\"x\":0.98,\"xanchor\":\"left\",\"xref\":\"paper\",\"y\":0.1175,\"yanchor\":\"middle\",\"yref\":\"paper\"},{\"font\":{},\"showarrow\":false,\"text\":\"efSearch=40\",\"textangle\":90,\"x\":0.98,\"xanchor\":\"left\",\"xref\":\"paper\",\"y\":0.3725,\"yanchor\":\"middle\",\"yref\":\"paper\"},{\"font\":{},\"showarrow\":false,\"text\":\"efSearch=16\",\"textangle\":90,\"x\":0.98,\"xanchor\":\"left\",\"xref\":\"paper\",\"y\":0.6275,\"yanchor\":\"middle\",\"yref\":\"paper\"},{\"font\":{},\"showarrow\":false,\"text\":\"efSearch=4\",\"textangle\":90,\"x\":0.98,\"xanchor\":\"left\",\"xref\":\"paper\",\"y\":0.8824999999999998,\"yanchor\":\"middle\",\"yref\":\"paper\"}],\"legend\":{\"title\":{\"text\":\"M\"},\"tracegroupgap\":0,\"itemsizing\":\"constant\",\"borderwidth\":1,\"traceorder\":\"reversed\",\"yanchor\":\"top\",\"y\":0.76,\"xanchor\":\"left\",\"x\":1.03},\"margin\":{\"t\":60},\"height\":700,\"width\":700,\"title\":{\"font\":{\"family\":\"Arial\",\"color\":\"RebeccaPurple\"},\"text\":\"<B>Bubble Size corresponds to Index Size (MB)\",\"yanchor\":\"top\",\"y\":0.98,\"xanchor\":\"center\",\"x\":0.5}},                        {\"responsive\": true}                    ).then(function(){\n",
       "                            \n",
       "var gd = document.getElementById('39f33782-e7fc-4b30-983f-7e321561d0de');\n",
       "var x = new MutationObserver(function (mutations, observer) {{\n",
       "        var display = window.getComputedStyle(gd).display;\n",
       "        if (!display || display === 'none') {{\n",
       "            console.log([gd, 'removed!']);\n",
       "            Plotly.purge(gd);\n",
       "            observer.disconnect();\n",
       "        }}\n",
       "}});\n",
       "\n",
       "// Listen for the removal of the full notebook cells\n",
       "var notebookContainer = gd.closest('#notebook-container');\n",
       "if (notebookContainer) {{\n",
       "    x.observe(notebookContainer, {childList: true});\n",
       "}}\n",
       "\n",
       "// Listen for the clearing of the current output cell\n",
       "var outputEl = gd.closest('.output');\n",
       "if (outputEl) {{\n",
       "    x.observe(outputEl, {childList: true});\n",
       "}}\n",
       "\n",
       "                        })                };                });            </script>        </div>"
      ]
     },
     "metadata": {},
     "output_type": "display_data"
    }
   ],
   "source": [
    "fig = px.scatter(dfHNSW, x=\"search_time\", y=\"recall@3\", color=\"M\", height=700, width=700, size=\"index_size\", size_max=15,\n",
    "                 template=\"simple_white\", color_discrete_sequence=colors_custom, #color_discrete_sequence=px.colors.qualitative.D3,  \n",
    "                 facet_row=\"efSearch\", facet_row_spacing=0.02,  \n",
    "                 facet_col=\"efConstruction\", facet_col_spacing=0.02#, title=\"Bubble Size corresponds to Index Size\"    \n",
    "                )\n",
    "fig.update_xaxes(showgrid=True, gridwidth=1, gridcolor='#F0F0F0', linecolor='darkgrey', ticks=\"\")\n",
    "fig.update_yaxes(showgrid=True, gridwidth=1, gridcolor='#F0F0F0', linecolor='darkgrey', ticks=\"\", range=[0, 1.1], tick0=0.2, dtick=0.2)\n",
    "fig.update_xaxes(title_text=\"\")\n",
    "fig.update_yaxes(title_text=\"\")\n",
    "fig.update_xaxes(row=1, col=2, title_standoff=10, title_text=\"<B>search time (ms/query)\")                # title_font_family=\"Arial\"\n",
    "fig.update_yaxes(col=1, row=1, title_standoff=5, title_text=\"<B>                             1-recall@3\")\n",
    "fig.update_layout(legend=dict(borderwidth=1, traceorder=\"reversed\", yanchor=\"top\", y=0.76, xanchor=\"left\", x=1.03, ))\n",
    "fig.update_layout(title=dict(text=\"<B>Bubble Size corresponds to Index Size (MB)\", yanchor=\"top\", y=0.98, xanchor=\"center\", x=0.5, \n",
    "                             font_family=\"Arial\", font_color=\"RebeccaPurple\"))\n",
    "fig.show()\n",
    "fig.write_html(\"Hflat_recall_4x4_indexsize.html\")"
   ]
  },
  {
   "cell_type": "code",
   "execution_count": 51,
   "id": "af34dd26",
   "metadata": {
    "execution": {
     "iopub.execute_input": "2022-08-23T06:58:26.891292Z",
     "iopub.status.busy": "2022-08-23T06:58:26.890903Z",
     "iopub.status.idle": "2022-08-23T06:58:27.483063Z",
     "shell.execute_reply": "2022-08-23T06:58:27.482113Z"
    },
    "papermill": {
     "duration": 1.166508,
     "end_time": "2022-08-23T06:58:27.485220",
     "exception": false,
     "start_time": "2022-08-23T06:58:26.318712",
     "status": "completed"
    },
    "tags": []
   },
   "outputs": [
    {
     "data": {
      "text/html": [
       "<div>                            <div id=\"f009b19d-0e4a-4af5-ab62-5ee787d61b51\" class=\"plotly-graph-div\" style=\"height:700px; width:700px;\"></div>            <script type=\"text/javascript\">                require([\"plotly\"], function(Plotly) {                    window.PLOTLYENV=window.PLOTLYENV || {};                                    if (document.getElementById(\"f009b19d-0e4a-4af5-ab62-5ee787d61b51\")) {                    Plotly.newPlot(                        \"f009b19d-0e4a-4af5-ab62-5ee787d61b51\",                        [{\"hovertemplate\":\"M=4<br>efSearch=4<br>efConstruction=4<br>search_time=%{x}<br>recall@3=%{y}<br>index_time=%{marker.size}<extra></extra>\",\"legendgroup\":\"4\",\"marker\":{\"color\":\"#EECA3B\",\"size\":[47.44571399688721],\"sizemode\":\"area\",\"sizeref\":9.361902989281548,\"symbol\":\"circle\"},\"mode\":\"markers\",\"name\":\"4\",\"orientation\":\"v\",\"showlegend\":true,\"x\":[0.05148124694824219],\"xaxis\":\"x13\",\"y\":[0.02],\"yaxis\":\"y13\",\"type\":\"scatter\"},{\"hovertemplate\":\"M=4<br>efSearch=4<br>efConstruction=16<br>search_time=%{x}<br>recall@3=%{y}<br>index_time=%{marker.size}<extra></extra>\",\"legendgroup\":\"4\",\"marker\":{\"color\":\"#EECA3B\",\"size\":[157.0899703502655],\"sizemode\":\"area\",\"sizeref\":9.361902989281548,\"symbol\":\"circle\"},\"mode\":\"markers\",\"name\":\"4\",\"orientation\":\"v\",\"showlegend\":false,\"x\":[0.04798436164855957],\"xaxis\":\"x14\",\"y\":[0.049],\"yaxis\":\"y14\",\"type\":\"scatter\"},{\"hovertemplate\":\"M=4<br>efSearch=4<br>efConstruction=40<br>search_time=%{x}<br>recall@3=%{y}<br>index_time=%{marker.size}<extra></extra>\",\"legendgroup\":\"4\",\"marker\":{\"color\":\"#EECA3B\",\"size\":[326.1638009548187],\"sizemode\":\"area\",\"sizeref\":9.361902989281548,\"symbol\":\"circle\"},\"mode\":\"markers\",\"name\":\"4\",\"orientation\":\"v\",\"showlegend\":false,\"x\":[0.07315301895141602],\"xaxis\":\"x15\",\"y\":[0.092],\"yaxis\":\"y15\",\"type\":\"scatter\"},{\"hovertemplate\":\"M=4<br>efSearch=4<br>efConstruction=76<br>search_time=%{x}<br>recall@3=%{y}<br>index_time=%{marker.size}<extra></extra>\",\"legendgroup\":\"4\",\"marker\":{\"color\":\"#EECA3B\",\"size\":[523.9186105728149],\"sizemode\":\"area\",\"sizeref\":9.361902989281548,\"symbol\":\"circle\"},\"mode\":\"markers\",\"name\":\"4\",\"orientation\":\"v\",\"showlegend\":false,\"x\":[0.0787818431854248],\"xaxis\":\"x16\",\"y\":[0.096],\"yaxis\":\"y16\",\"type\":\"scatter\"},{\"hovertemplate\":\"M=4<br>efSearch=16<br>efConstruction=4<br>search_time=%{x}<br>recall@3=%{y}<br>index_time=%{marker.size}<extra></extra>\",\"legendgroup\":\"4\",\"marker\":{\"color\":\"#EECA3B\",\"size\":[47.44571399688721],\"sizemode\":\"area\",\"sizeref\":9.361902989281548,\"symbol\":\"circle\"},\"mode\":\"markers\",\"name\":\"4\",\"orientation\":\"v\",\"showlegend\":false,\"x\":[0.08799934387207031],\"xaxis\":\"x9\",\"y\":[0.034],\"yaxis\":\"y9\",\"type\":\"scatter\"},{\"hovertemplate\":\"M=4<br>efSearch=16<br>efConstruction=16<br>search_time=%{x}<br>recall@3=%{y}<br>index_time=%{marker.size}<extra></extra>\",\"legendgroup\":\"4\",\"marker\":{\"color\":\"#EECA3B\",\"size\":[157.0899703502655],\"sizemode\":\"area\",\"sizeref\":9.361902989281548,\"symbol\":\"circle\"},\"mode\":\"markers\",\"name\":\"4\",\"orientation\":\"v\",\"showlegend\":false,\"x\":[0.03941011428833008],\"xaxis\":\"x10\",\"y\":[0.185],\"yaxis\":\"y10\",\"type\":\"scatter\"},{\"hovertemplate\":\"M=4<br>efSearch=16<br>efConstruction=40<br>search_time=%{x}<br>recall@3=%{y}<br>index_time=%{marker.size}<extra></extra>\",\"legendgroup\":\"4\",\"marker\":{\"color\":\"#EECA3B\",\"size\":[326.1638009548187],\"sizemode\":\"area\",\"sizeref\":9.361902989281548,\"symbol\":\"circle\"},\"mode\":\"markers\",\"name\":\"4\",\"orientation\":\"v\",\"showlegend\":false,\"x\":[0.03420615196228027],\"xaxis\":\"x11\",\"y\":[0.311],\"yaxis\":\"y11\",\"type\":\"scatter\"},{\"hovertemplate\":\"M=4<br>efSearch=16<br>efConstruction=76<br>search_time=%{x}<br>recall@3=%{y}<br>index_time=%{marker.size}<extra></extra>\",\"legendgroup\":\"4\",\"marker\":{\"color\":\"#EECA3B\",\"size\":[523.9186105728149],\"sizemode\":\"area\",\"sizeref\":9.361902989281548,\"symbol\":\"circle\"},\"mode\":\"markers\",\"name\":\"4\",\"orientation\":\"v\",\"showlegend\":false,\"x\":[0.03648710250854492],\"xaxis\":\"x12\",\"y\":[0.327],\"yaxis\":\"y12\",\"type\":\"scatter\"},{\"hovertemplate\":\"M=4<br>efSearch=40<br>efConstruction=4<br>search_time=%{x}<br>recall@3=%{y}<br>index_time=%{marker.size}<extra></extra>\",\"legendgroup\":\"4\",\"marker\":{\"color\":\"#EECA3B\",\"size\":[47.44571399688721],\"sizemode\":\"area\",\"sizeref\":9.361902989281548,\"symbol\":\"circle\"},\"mode\":\"markers\",\"name\":\"4\",\"orientation\":\"v\",\"showlegend\":false,\"x\":[0.14001178741455078],\"xaxis\":\"x5\",\"y\":[0.042],\"yaxis\":\"y5\",\"type\":\"scatter\"},{\"hovertemplate\":\"M=4<br>efSearch=40<br>efConstruction=16<br>search_time=%{x}<br>recall@3=%{y}<br>index_time=%{marker.size}<extra></extra>\",\"legendgroup\":\"4\",\"marker\":{\"color\":\"#EECA3B\",\"size\":[157.0899703502655],\"sizemode\":\"area\",\"sizeref\":9.361902989281548,\"symbol\":\"circle\"},\"mode\":\"markers\",\"name\":\"4\",\"orientation\":\"v\",\"showlegend\":false,\"x\":[0.0675649642944336],\"xaxis\":\"x6\",\"y\":[0.342],\"yaxis\":\"y6\",\"type\":\"scatter\"},{\"hovertemplate\":\"M=4<br>efSearch=40<br>efConstruction=40<br>search_time=%{x}<br>recall@3=%{y}<br>index_time=%{marker.size}<extra></extra>\",\"legendgroup\":\"4\",\"marker\":{\"color\":\"#EECA3B\",\"size\":[326.1638009548187],\"sizemode\":\"area\",\"sizeref\":9.361902989281548,\"symbol\":\"circle\"},\"mode\":\"markers\",\"name\":\"4\",\"orientation\":\"v\",\"showlegend\":false,\"x\":[0.07332253456115723],\"xaxis\":\"x7\",\"y\":[0.526],\"yaxis\":\"y7\",\"type\":\"scatter\"},{\"hovertemplate\":\"M=4<br>efSearch=40<br>efConstruction=76<br>search_time=%{x}<br>recall@3=%{y}<br>index_time=%{marker.size}<extra></extra>\",\"legendgroup\":\"4\",\"marker\":{\"color\":\"#EECA3B\",\"size\":[523.9186105728149],\"sizemode\":\"area\",\"sizeref\":9.361902989281548,\"symbol\":\"circle\"},\"mode\":\"markers\",\"name\":\"4\",\"orientation\":\"v\",\"showlegend\":false,\"x\":[0.07552194595336914],\"xaxis\":\"x8\",\"y\":[0.559],\"yaxis\":\"y8\",\"type\":\"scatter\"},{\"hovertemplate\":\"M=4<br>efSearch=76<br>efConstruction=4<br>search_time=%{x}<br>recall@3=%{y}<br>index_time=%{marker.size}<extra></extra>\",\"legendgroup\":\"4\",\"marker\":{\"color\":\"#EECA3B\",\"size\":[47.44571399688721],\"sizemode\":\"area\",\"sizeref\":9.361902989281548,\"symbol\":\"circle\"},\"mode\":\"markers\",\"name\":\"4\",\"orientation\":\"v\",\"showlegend\":false,\"x\":[0.11078906059265137],\"xaxis\":\"x\",\"y\":[0.049],\"yaxis\":\"y\",\"type\":\"scatter\"},{\"hovertemplate\":\"M=4<br>efSearch=76<br>efConstruction=16<br>search_time=%{x}<br>recall@3=%{y}<br>index_time=%{marker.size}<extra></extra>\",\"legendgroup\":\"4\",\"marker\":{\"color\":\"#EECA3B\",\"size\":[157.0899703502655],\"sizemode\":\"area\",\"sizeref\":9.361902989281548,\"symbol\":\"circle\"},\"mode\":\"markers\",\"name\":\"4\",\"orientation\":\"v\",\"showlegend\":false,\"x\":[0.18841075897216797],\"xaxis\":\"x2\",\"y\":[0.431],\"yaxis\":\"y2\",\"type\":\"scatter\"},{\"hovertemplate\":\"M=4<br>efSearch=76<br>efConstruction=40<br>search_time=%{x}<br>recall@3=%{y}<br>index_time=%{marker.size}<extra></extra>\",\"legendgroup\":\"4\",\"marker\":{\"color\":\"#EECA3B\",\"size\":[326.1638009548187],\"sizemode\":\"area\",\"sizeref\":9.361902989281548,\"symbol\":\"circle\"},\"mode\":\"markers\",\"name\":\"4\",\"orientation\":\"v\",\"showlegend\":false,\"x\":[0.12844347953796387],\"xaxis\":\"x3\",\"y\":[0.643],\"yaxis\":\"y3\",\"type\":\"scatter\"},{\"hovertemplate\":\"M=4<br>efSearch=76<br>efConstruction=76<br>search_time=%{x}<br>recall@3=%{y}<br>index_time=%{marker.size}<extra></extra>\",\"legendgroup\":\"4\",\"marker\":{\"color\":\"#EECA3B\",\"size\":[523.9186105728149],\"sizemode\":\"area\",\"sizeref\":9.361902989281548,\"symbol\":\"circle\"},\"mode\":\"markers\",\"name\":\"4\",\"orientation\":\"v\",\"showlegend\":false,\"x\":[0.13284969329833984],\"xaxis\":\"x4\",\"y\":[0.665],\"yaxis\":\"y4\",\"type\":\"scatter\"},{\"hovertemplate\":\"M=16<br>efSearch=4<br>efConstruction=4<br>search_time=%{x}<br>recall@3=%{y}<br>index_time=%{marker.size}<extra></extra>\",\"legendgroup\":\"16\",\"marker\":{\"color\":\"#FF9900\",\"size\":[63.44312024116516],\"sizemode\":\"area\",\"sizeref\":9.361902989281548,\"symbol\":\"circle\"},\"mode\":\"markers\",\"name\":\"16\",\"orientation\":\"v\",\"showlegend\":true,\"x\":[0.03242778778076172],\"xaxis\":\"x13\",\"y\":[0.029],\"yaxis\":\"y13\",\"type\":\"scatter\"},{\"hovertemplate\":\"M=16<br>efSearch=4<br>efConstruction=16<br>search_time=%{x}<br>recall@3=%{y}<br>index_time=%{marker.size}<extra></extra>\",\"legendgroup\":\"16\",\"marker\":{\"color\":\"#FF9900\",\"size\":[287.3562853336334],\"sizemode\":\"area\",\"sizeref\":9.361902989281548,\"symbol\":\"circle\"},\"mode\":\"markers\",\"name\":\"16\",\"orientation\":\"v\",\"showlegend\":false,\"x\":[0.059123992919921875],\"xaxis\":\"x14\",\"y\":[0.33],\"yaxis\":\"y14\",\"type\":\"scatter\"},{\"hovertemplate\":\"M=16<br>efSearch=4<br>efConstruction=40<br>search_time=%{x}<br>recall@3=%{y}<br>index_time=%{marker.size}<extra></extra>\",\"legendgroup\":\"16\",\"marker\":{\"color\":\"#FF9900\",\"size\":[497.4599633216858],\"sizemode\":\"area\",\"sizeref\":9.361902989281548,\"symbol\":\"circle\"},\"mode\":\"markers\",\"name\":\"16\",\"orientation\":\"v\",\"showlegend\":false,\"x\":[0.07875919342041016],\"xaxis\":\"x15\",\"y\":[0.417],\"yaxis\":\"y15\",\"type\":\"scatter\"},{\"hovertemplate\":\"M=16<br>efSearch=4<br>efConstruction=76<br>search_time=%{x}<br>recall@3=%{y}<br>index_time=%{marker.size}<extra></extra>\",\"legendgroup\":\"16\",\"marker\":{\"color\":\"#FF9900\",\"size\":[937.5826642513275],\"sizemode\":\"area\",\"sizeref\":9.361902989281548,\"symbol\":\"circle\"},\"mode\":\"markers\",\"name\":\"16\",\"orientation\":\"v\",\"showlegend\":false,\"x\":[0.050643205642700195],\"xaxis\":\"x16\",\"y\":[0.449],\"yaxis\":\"y16\",\"type\":\"scatter\"},{\"hovertemplate\":\"M=16<br>efSearch=16<br>efConstruction=4<br>search_time=%{x}<br>recall@3=%{y}<br>index_time=%{marker.size}<extra></extra>\",\"legendgroup\":\"16\",\"marker\":{\"color\":\"#FF9900\",\"size\":[63.44312024116516],\"sizemode\":\"area\",\"sizeref\":9.361902989281548,\"symbol\":\"circle\"},\"mode\":\"markers\",\"name\":\"16\",\"orientation\":\"v\",\"showlegend\":false,\"x\":[0.03500080108642578],\"xaxis\":\"x9\",\"y\":[0.042],\"yaxis\":\"y9\",\"type\":\"scatter\"},{\"hovertemplate\":\"M=16<br>efSearch=16<br>efConstruction=16<br>search_time=%{x}<br>recall@3=%{y}<br>index_time=%{marker.size}<extra></extra>\",\"legendgroup\":\"16\",\"marker\":{\"color\":\"#FF9900\",\"size\":[287.3562853336334],\"sizemode\":\"area\",\"sizeref\":9.361902989281548,\"symbol\":\"circle\"},\"mode\":\"markers\",\"name\":\"16\",\"orientation\":\"v\",\"showlegend\":false,\"x\":[0.07422256469726562],\"xaxis\":\"x10\",\"y\":[0.651],\"yaxis\":\"y10\",\"type\":\"scatter\"},{\"hovertemplate\":\"M=16<br>efSearch=16<br>efConstruction=40<br>search_time=%{x}<br>recall@3=%{y}<br>index_time=%{marker.size}<extra></extra>\",\"legendgroup\":\"16\",\"marker\":{\"color\":\"#FF9900\",\"size\":[497.4599633216858],\"sizemode\":\"area\",\"sizeref\":9.361902989281548,\"symbol\":\"circle\"},\"mode\":\"markers\",\"name\":\"16\",\"orientation\":\"v\",\"showlegend\":false,\"x\":[0.14578747749328613],\"xaxis\":\"x11\",\"y\":[0.731],\"yaxis\":\"y11\",\"type\":\"scatter\"},{\"hovertemplate\":\"M=16<br>efSearch=16<br>efConstruction=76<br>search_time=%{x}<br>recall@3=%{y}<br>index_time=%{marker.size}<extra></extra>\",\"legendgroup\":\"16\",\"marker\":{\"color\":\"#FF9900\",\"size\":[937.5826642513275],\"sizemode\":\"area\",\"sizeref\":9.361902989281548,\"symbol\":\"circle\"},\"mode\":\"markers\",\"name\":\"16\",\"orientation\":\"v\",\"showlegend\":false,\"x\":[0.08057737350463867],\"xaxis\":\"x12\",\"y\":[0.788],\"yaxis\":\"y12\",\"type\":\"scatter\"},{\"hovertemplate\":\"M=16<br>efSearch=40<br>efConstruction=4<br>search_time=%{x}<br>recall@3=%{y}<br>index_time=%{marker.size}<extra></extra>\",\"legendgroup\":\"16\",\"marker\":{\"color\":\"#FF9900\",\"size\":[63.44312024116516],\"sizemode\":\"area\",\"sizeref\":9.361902989281548,\"symbol\":\"circle\"},\"mode\":\"markers\",\"name\":\"16\",\"orientation\":\"v\",\"showlegend\":false,\"x\":[0.07417988777160645],\"xaxis\":\"x5\",\"y\":[0.053],\"yaxis\":\"y5\",\"type\":\"scatter\"},{\"hovertemplate\":\"M=16<br>efSearch=40<br>efConstruction=16<br>search_time=%{x}<br>recall@3=%{y}<br>index_time=%{marker.size}<extra></extra>\",\"legendgroup\":\"16\",\"marker\":{\"color\":\"#FF9900\",\"size\":[287.3562853336334],\"sizemode\":\"area\",\"sizeref\":9.361902989281548,\"symbol\":\"circle\"},\"mode\":\"markers\",\"name\":\"16\",\"orientation\":\"v\",\"showlegend\":false,\"x\":[0.15061712265014648],\"xaxis\":\"x6\",\"y\":[0.814],\"yaxis\":\"y6\",\"type\":\"scatter\"},{\"hovertemplate\":\"M=16<br>efSearch=40<br>efConstruction=40<br>search_time=%{x}<br>recall@3=%{y}<br>index_time=%{marker.size}<extra></extra>\",\"legendgroup\":\"16\",\"marker\":{\"color\":\"#FF9900\",\"size\":[497.4599633216858],\"sizemode\":\"area\",\"sizeref\":9.361902989281548,\"symbol\":\"circle\"},\"mode\":\"markers\",\"name\":\"16\",\"orientation\":\"v\",\"showlegend\":false,\"x\":[0.26551079750061035],\"xaxis\":\"x7\",\"y\":[0.851],\"yaxis\":\"y7\",\"type\":\"scatter\"},{\"hovertemplate\":\"M=16<br>efSearch=40<br>efConstruction=76<br>search_time=%{x}<br>recall@3=%{y}<br>index_time=%{marker.size}<extra></extra>\",\"legendgroup\":\"16\",\"marker\":{\"color\":\"#FF9900\",\"size\":[937.5826642513275],\"sizemode\":\"area\",\"sizeref\":9.361902989281548,\"symbol\":\"circle\"},\"mode\":\"markers\",\"name\":\"16\",\"orientation\":\"v\",\"showlegend\":false,\"x\":[0.16374754905700684],\"xaxis\":\"x8\",\"y\":[0.909],\"yaxis\":\"y8\",\"type\":\"scatter\"},{\"hovertemplate\":\"M=16<br>efSearch=76<br>efConstruction=4<br>search_time=%{x}<br>recall@3=%{y}<br>index_time=%{marker.size}<extra></extra>\",\"legendgroup\":\"16\",\"marker\":{\"color\":\"#FF9900\",\"size\":[63.44312024116516],\"sizemode\":\"area\",\"sizeref\":9.361902989281548,\"symbol\":\"circle\"},\"mode\":\"markers\",\"name\":\"16\",\"orientation\":\"v\",\"showlegend\":false,\"x\":[0.1721813678741455],\"xaxis\":\"x\",\"y\":[0.065],\"yaxis\":\"y\",\"type\":\"scatter\"},{\"hovertemplate\":\"M=16<br>efSearch=76<br>efConstruction=16<br>search_time=%{x}<br>recall@3=%{y}<br>index_time=%{marker.size}<extra></extra>\",\"legendgroup\":\"16\",\"marker\":{\"color\":\"#FF9900\",\"size\":[287.3562853336334],\"sizemode\":\"area\",\"sizeref\":9.361902989281548,\"symbol\":\"circle\"},\"mode\":\"markers\",\"name\":\"16\",\"orientation\":\"v\",\"showlegend\":false,\"x\":[0.2765541076660156],\"xaxis\":\"x2\",\"y\":[0.883],\"yaxis\":\"y2\",\"type\":\"scatter\"},{\"hovertemplate\":\"M=16<br>efSearch=76<br>efConstruction=40<br>search_time=%{x}<br>recall@3=%{y}<br>index_time=%{marker.size}<extra></extra>\",\"legendgroup\":\"16\",\"marker\":{\"color\":\"#FF9900\",\"size\":[497.4599633216858],\"sizemode\":\"area\",\"sizeref\":9.361902989281548,\"symbol\":\"circle\"},\"mode\":\"markers\",\"name\":\"16\",\"orientation\":\"v\",\"showlegend\":false,\"x\":[0.329667329788208],\"xaxis\":\"x3\",\"y\":[0.897],\"yaxis\":\"y3\",\"type\":\"scatter\"},{\"hovertemplate\":\"M=16<br>efSearch=76<br>efConstruction=76<br>search_time=%{x}<br>recall@3=%{y}<br>index_time=%{marker.size}<extra></extra>\",\"legendgroup\":\"16\",\"marker\":{\"color\":\"#FF9900\",\"size\":[937.5826642513275],\"sizemode\":\"area\",\"sizeref\":9.361902989281548,\"symbol\":\"circle\"},\"mode\":\"markers\",\"name\":\"16\",\"orientation\":\"v\",\"showlegend\":false,\"x\":[0.3028593063354492],\"xaxis\":\"x4\",\"y\":[0.939],\"yaxis\":\"y4\",\"type\":\"scatter\"},{\"hovertemplate\":\"M=32<br>efSearch=4<br>efConstruction=4<br>search_time=%{x}<br>recall@3=%{y}<br>index_time=%{marker.size}<extra></extra>\",\"legendgroup\":\"32\",\"marker\":{\"color\":\"#DC3912\",\"size\":[67.2278950214386],\"sizemode\":\"area\",\"sizeref\":9.361902989281548,\"symbol\":\"circle\"},\"mode\":\"markers\",\"name\":\"32\",\"orientation\":\"v\",\"showlegend\":true,\"x\":[0.04051804542541504],\"xaxis\":\"x13\",\"y\":[0.045],\"yaxis\":\"y13\",\"type\":\"scatter\"},{\"hovertemplate\":\"M=32<br>efSearch=4<br>efConstruction=16<br>search_time=%{x}<br>recall@3=%{y}<br>index_time=%{marker.size}<extra></extra>\",\"legendgroup\":\"32\",\"marker\":{\"color\":\"#DC3912\",\"size\":[332.8636655807495],\"sizemode\":\"area\",\"sizeref\":9.361902989281548,\"symbol\":\"circle\"},\"mode\":\"markers\",\"name\":\"32\",\"orientation\":\"v\",\"showlegend\":false,\"x\":[0.10623764991760254],\"xaxis\":\"x14\",\"y\":[0.463],\"yaxis\":\"y14\",\"type\":\"scatter\"},{\"hovertemplate\":\"M=32<br>efSearch=4<br>efConstruction=40<br>search_time=%{x}<br>recall@3=%{y}<br>index_time=%{marker.size}<extra></extra>\",\"legendgroup\":\"32\",\"marker\":{\"color\":\"#DC3912\",\"size\":[836.7941265106201],\"sizemode\":\"area\",\"sizeref\":9.361902989281548,\"symbol\":\"circle\"},\"mode\":\"markers\",\"name\":\"32\",\"orientation\":\"v\",\"showlegend\":false,\"x\":[0.10319304466247559],\"xaxis\":\"x15\",\"y\":[0.581],\"yaxis\":\"y15\",\"type\":\"scatter\"},{\"hovertemplate\":\"M=32<br>efSearch=4<br>efConstruction=76<br>search_time=%{x}<br>recall@3=%{y}<br>index_time=%{marker.size}<extra></extra>\",\"legendgroup\":\"32\",\"marker\":{\"color\":\"#DC3912\",\"size\":[1070.0068504810333],\"sizemode\":\"area\",\"sizeref\":9.361902989281548,\"symbol\":\"circle\"},\"mode\":\"markers\",\"name\":\"32\",\"orientation\":\"v\",\"showlegend\":false,\"x\":[0.05893135070800781],\"xaxis\":\"x16\",\"y\":[0.558],\"yaxis\":\"y16\",\"type\":\"scatter\"},{\"hovertemplate\":\"M=32<br>efSearch=16<br>efConstruction=4<br>search_time=%{x}<br>recall@3=%{y}<br>index_time=%{marker.size}<extra></extra>\",\"legendgroup\":\"32\",\"marker\":{\"color\":\"#DC3912\",\"size\":[67.2278950214386],\"sizemode\":\"area\",\"sizeref\":9.361902989281548,\"symbol\":\"circle\"},\"mode\":\"markers\",\"name\":\"32\",\"orientation\":\"v\",\"showlegend\":false,\"x\":[0.07303428649902344],\"xaxis\":\"x9\",\"y\":[0.065],\"yaxis\":\"y9\",\"type\":\"scatter\"},{\"hovertemplate\":\"M=32<br>efSearch=16<br>efConstruction=16<br>search_time=%{x}<br>recall@3=%{y}<br>index_time=%{marker.size}<extra></extra>\",\"legendgroup\":\"32\",\"marker\":{\"color\":\"#DC3912\",\"size\":[332.8636655807495],\"sizemode\":\"area\",\"sizeref\":9.361902989281548,\"symbol\":\"circle\"},\"mode\":\"markers\",\"name\":\"32\",\"orientation\":\"v\",\"showlegend\":false,\"x\":[0.20286774635314941],\"xaxis\":\"x10\",\"y\":[0.75],\"yaxis\":\"y10\",\"type\":\"scatter\"},{\"hovertemplate\":\"M=32<br>efSearch=16<br>efConstruction=40<br>search_time=%{x}<br>recall@3=%{y}<br>index_time=%{marker.size}<extra></extra>\",\"legendgroup\":\"32\",\"marker\":{\"color\":\"#DC3912\",\"size\":[836.7941265106201],\"sizemode\":\"area\",\"sizeref\":9.361902989281548,\"symbol\":\"circle\"},\"mode\":\"markers\",\"name\":\"32\",\"orientation\":\"v\",\"showlegend\":false,\"x\":[0.1366117000579834],\"xaxis\":\"x11\",\"y\":[0.847],\"yaxis\":\"y11\",\"type\":\"scatter\"},{\"hovertemplate\":\"M=32<br>efSearch=16<br>efConstruction=76<br>search_time=%{x}<br>recall@3=%{y}<br>index_time=%{marker.size}<extra></extra>\",\"legendgroup\":\"32\",\"marker\":{\"color\":\"#DC3912\",\"size\":[1070.0068504810333],\"sizemode\":\"area\",\"sizeref\":9.361902989281548,\"symbol\":\"circle\"},\"mode\":\"markers\",\"name\":\"32\",\"orientation\":\"v\",\"showlegend\":false,\"x\":[0.10886073112487793],\"xaxis\":\"x12\",\"y\":[0.849],\"yaxis\":\"y12\",\"type\":\"scatter\"},{\"hovertemplate\":\"M=32<br>efSearch=40<br>efConstruction=4<br>search_time=%{x}<br>recall@3=%{y}<br>index_time=%{marker.size}<extra></extra>\",\"legendgroup\":\"32\",\"marker\":{\"color\":\"#DC3912\",\"size\":[67.2278950214386],\"sizemode\":\"area\",\"sizeref\":9.361902989281548,\"symbol\":\"circle\"},\"mode\":\"markers\",\"name\":\"32\",\"orientation\":\"v\",\"showlegend\":false,\"x\":[0.0829169750213623],\"xaxis\":\"x5\",\"y\":[0.077],\"yaxis\":\"y5\",\"type\":\"scatter\"},{\"hovertemplate\":\"M=32<br>efSearch=40<br>efConstruction=16<br>search_time=%{x}<br>recall@3=%{y}<br>index_time=%{marker.size}<extra></extra>\",\"legendgroup\":\"32\",\"marker\":{\"color\":\"#DC3912\",\"size\":[332.8636655807495],\"sizemode\":\"area\",\"sizeref\":9.361902989281548,\"symbol\":\"circle\"},\"mode\":\"markers\",\"name\":\"32\",\"orientation\":\"v\",\"showlegend\":false,\"x\":[0.32986998558044434],\"xaxis\":\"x6\",\"y\":[0.878],\"yaxis\":\"y6\",\"type\":\"scatter\"},{\"hovertemplate\":\"M=32<br>efSearch=40<br>efConstruction=40<br>search_time=%{x}<br>recall@3=%{y}<br>index_time=%{marker.size}<extra></extra>\",\"legendgroup\":\"32\",\"marker\":{\"color\":\"#DC3912\",\"size\":[836.7941265106201],\"sizemode\":\"area\",\"sizeref\":9.361902989281548,\"symbol\":\"circle\"},\"mode\":\"markers\",\"name\":\"32\",\"orientation\":\"v\",\"showlegend\":false,\"x\":[0.2646486759185791],\"xaxis\":\"x7\",\"y\":[0.93],\"yaxis\":\"y7\",\"type\":\"scatter\"},{\"hovertemplate\":\"M=32<br>efSearch=40<br>efConstruction=76<br>search_time=%{x}<br>recall@3=%{y}<br>index_time=%{marker.size}<extra></extra>\",\"legendgroup\":\"32\",\"marker\":{\"color\":\"#DC3912\",\"size\":[1070.0068504810333],\"sizemode\":\"area\",\"sizeref\":9.361902989281548,\"symbol\":\"circle\"},\"mode\":\"markers\",\"name\":\"32\",\"orientation\":\"v\",\"showlegend\":false,\"x\":[0.2084043025970459],\"xaxis\":\"x8\",\"y\":[0.921],\"yaxis\":\"y8\",\"type\":\"scatter\"},{\"hovertemplate\":\"M=32<br>efSearch=76<br>efConstruction=4<br>search_time=%{x}<br>recall@3=%{y}<br>index_time=%{marker.size}<extra></extra>\",\"legendgroup\":\"32\",\"marker\":{\"color\":\"#DC3912\",\"size\":[67.2278950214386],\"sizemode\":\"area\",\"sizeref\":9.361902989281548,\"symbol\":\"circle\"},\"mode\":\"markers\",\"name\":\"32\",\"orientation\":\"v\",\"showlegend\":false,\"x\":[0.132843017578125],\"xaxis\":\"x\",\"y\":[0.093],\"yaxis\":\"y\",\"type\":\"scatter\"},{\"hovertemplate\":\"M=32<br>efSearch=76<br>efConstruction=16<br>search_time=%{x}<br>recall@3=%{y}<br>index_time=%{marker.size}<extra></extra>\",\"legendgroup\":\"32\",\"marker\":{\"color\":\"#DC3912\",\"size\":[332.8636655807495],\"sizemode\":\"area\",\"sizeref\":9.361902989281548,\"symbol\":\"circle\"},\"mode\":\"markers\",\"name\":\"32\",\"orientation\":\"v\",\"showlegend\":false,\"x\":[0.4486548900604248],\"xaxis\":\"x2\",\"y\":[0.927],\"yaxis\":\"y2\",\"type\":\"scatter\"},{\"hovertemplate\":\"M=32<br>efSearch=76<br>efConstruction=40<br>search_time=%{x}<br>recall@3=%{y}<br>index_time=%{marker.size}<extra></extra>\",\"legendgroup\":\"32\",\"marker\":{\"color\":\"#DC3912\",\"size\":[836.7941265106201],\"sizemode\":\"area\",\"sizeref\":9.361902989281548,\"symbol\":\"circle\"},\"mode\":\"markers\",\"name\":\"32\",\"orientation\":\"v\",\"showlegend\":false,\"x\":[0.4252011775970459],\"xaxis\":\"x3\",\"y\":[0.96],\"yaxis\":\"y3\",\"type\":\"scatter\"},{\"hovertemplate\":\"M=32<br>efSearch=76<br>efConstruction=76<br>search_time=%{x}<br>recall@3=%{y}<br>index_time=%{marker.size}<extra></extra>\",\"legendgroup\":\"32\",\"marker\":{\"color\":\"#DC3912\",\"size\":[1070.0068504810333],\"sizemode\":\"area\",\"sizeref\":9.361902989281548,\"symbol\":\"circle\"},\"mode\":\"markers\",\"name\":\"32\",\"orientation\":\"v\",\"showlegend\":false,\"x\":[0.4670281410217285],\"xaxis\":\"x4\",\"y\":[0.952],\"yaxis\":\"y4\",\"type\":\"scatter\"},{\"hovertemplate\":\"M=64<br>efSearch=4<br>efConstruction=4<br>search_time=%{x}<br>recall@3=%{y}<br>index_time=%{marker.size}<extra></extra>\",\"legendgroup\":\"64\",\"marker\":{\"color\":\"#990099\",\"size\":[76.5102310180664],\"sizemode\":\"area\",\"sizeref\":9.361902989281548,\"symbol\":\"circle\"},\"mode\":\"markers\",\"name\":\"64\",\"orientation\":\"v\",\"showlegend\":true,\"x\":[0.0344233512878418],\"xaxis\":\"x13\",\"y\":[0.04],\"yaxis\":\"y13\",\"type\":\"scatter\"},{\"hovertemplate\":\"M=64<br>efSearch=4<br>efConstruction=16<br>search_time=%{x}<br>recall@3=%{y}<br>index_time=%{marker.size}<extra></extra>\",\"legendgroup\":\"64\",\"marker\":{\"color\":\"#990099\",\"size\":[378.9487624168396],\"sizemode\":\"area\",\"sizeref\":9.361902989281548,\"symbol\":\"circle\"},\"mode\":\"markers\",\"name\":\"64\",\"orientation\":\"v\",\"showlegend\":false,\"x\":[0.10606551170349121],\"xaxis\":\"x14\",\"y\":[0.476],\"yaxis\":\"y14\",\"type\":\"scatter\"},{\"hovertemplate\":\"M=64<br>efSearch=4<br>efConstruction=40<br>search_time=%{x}<br>recall@3=%{y}<br>index_time=%{marker.size}<extra></extra>\",\"legendgroup\":\"64\",\"marker\":{\"color\":\"#990099\",\"size\":[1086.3188750743866],\"sizemode\":\"area\",\"sizeref\":9.361902989281548,\"symbol\":\"circle\"},\"mode\":\"markers\",\"name\":\"64\",\"orientation\":\"v\",\"showlegend\":false,\"x\":[0.11319875717163086],\"xaxis\":\"x15\",\"y\":[0.709],\"yaxis\":\"y15\",\"type\":\"scatter\"},{\"hovertemplate\":\"M=64<br>efSearch=4<br>efConstruction=76<br>search_time=%{x}<br>recall@3=%{y}<br>index_time=%{marker.size}<extra></extra>\",\"legendgroup\":\"64\",\"marker\":{\"color\":\"#990099\",\"size\":[2106.4281725883484],\"sizemode\":\"area\",\"sizeref\":9.361902989281548,\"symbol\":\"circle\"},\"mode\":\"markers\",\"name\":\"64\",\"orientation\":\"v\",\"showlegend\":false,\"x\":[0.09943366050720215],\"xaxis\":\"x16\",\"y\":[0.738],\"yaxis\":\"y16\",\"type\":\"scatter\"},{\"hovertemplate\":\"M=64<br>efSearch=16<br>efConstruction=4<br>search_time=%{x}<br>recall@3=%{y}<br>index_time=%{marker.size}<extra></extra>\",\"legendgroup\":\"64\",\"marker\":{\"color\":\"#990099\",\"size\":[76.5102310180664],\"sizemode\":\"area\",\"sizeref\":9.361902989281548,\"symbol\":\"circle\"},\"mode\":\"markers\",\"name\":\"64\",\"orientation\":\"v\",\"showlegend\":false,\"x\":[0.12626266479492188],\"xaxis\":\"x9\",\"y\":[0.054],\"yaxis\":\"y9\",\"type\":\"scatter\"},{\"hovertemplate\":\"M=64<br>efSearch=16<br>efConstruction=16<br>search_time=%{x}<br>recall@3=%{y}<br>index_time=%{marker.size}<extra></extra>\",\"legendgroup\":\"64\",\"marker\":{\"color\":\"#990099\",\"size\":[378.9487624168396],\"sizemode\":\"area\",\"sizeref\":9.361902989281548,\"symbol\":\"circle\"},\"mode\":\"markers\",\"name\":\"64\",\"orientation\":\"v\",\"showlegend\":false,\"x\":[0.12110638618469238],\"xaxis\":\"x10\",\"y\":[0.772],\"yaxis\":\"y10\",\"type\":\"scatter\"},{\"hovertemplate\":\"M=64<br>efSearch=16<br>efConstruction=40<br>search_time=%{x}<br>recall@3=%{y}<br>index_time=%{marker.size}<extra></extra>\",\"legendgroup\":\"64\",\"marker\":{\"color\":\"#990099\",\"size\":[1086.3188750743866],\"sizemode\":\"area\",\"sizeref\":9.361902989281548,\"symbol\":\"circle\"},\"mode\":\"markers\",\"name\":\"64\",\"orientation\":\"v\",\"showlegend\":false,\"x\":[0.1775972843170166],\"xaxis\":\"x11\",\"y\":[0.885],\"yaxis\":\"y11\",\"type\":\"scatter\"},{\"hovertemplate\":\"M=64<br>efSearch=16<br>efConstruction=76<br>search_time=%{x}<br>recall@3=%{y}<br>index_time=%{marker.size}<extra></extra>\",\"legendgroup\":\"64\",\"marker\":{\"color\":\"#990099\",\"size\":[2106.4281725883484],\"sizemode\":\"area\",\"sizeref\":9.361902989281548,\"symbol\":\"circle\"},\"mode\":\"markers\",\"name\":\"64\",\"orientation\":\"v\",\"showlegend\":false,\"x\":[0.22647881507873535],\"xaxis\":\"x12\",\"y\":[0.918],\"yaxis\":\"y12\",\"type\":\"scatter\"},{\"hovertemplate\":\"M=64<br>efSearch=40<br>efConstruction=4<br>search_time=%{x}<br>recall@3=%{y}<br>index_time=%{marker.size}<extra></extra>\",\"legendgroup\":\"64\",\"marker\":{\"color\":\"#990099\",\"size\":[76.5102310180664],\"sizemode\":\"area\",\"sizeref\":9.361902989281548,\"symbol\":\"circle\"},\"mode\":\"markers\",\"name\":\"64\",\"orientation\":\"v\",\"showlegend\":false,\"x\":[0.10410618782043457],\"xaxis\":\"x5\",\"y\":[0.07],\"yaxis\":\"y5\",\"type\":\"scatter\"},{\"hovertemplate\":\"M=64<br>efSearch=40<br>efConstruction=16<br>search_time=%{x}<br>recall@3=%{y}<br>index_time=%{marker.size}<extra></extra>\",\"legendgroup\":\"64\",\"marker\":{\"color\":\"#990099\",\"size\":[378.9487624168396],\"sizemode\":\"area\",\"sizeref\":9.361902989281548,\"symbol\":\"circle\"},\"mode\":\"markers\",\"name\":\"64\",\"orientation\":\"v\",\"showlegend\":false,\"x\":[0.23667573928833008],\"xaxis\":\"x6\",\"y\":[0.887],\"yaxis\":\"y6\",\"type\":\"scatter\"},{\"hovertemplate\":\"M=64<br>efSearch=40<br>efConstruction=40<br>search_time=%{x}<br>recall@3=%{y}<br>index_time=%{marker.size}<extra></extra>\",\"legendgroup\":\"64\",\"marker\":{\"color\":\"#990099\",\"size\":[1086.3188750743866],\"sizemode\":\"area\",\"sizeref\":9.361902989281548,\"symbol\":\"circle\"},\"mode\":\"markers\",\"name\":\"64\",\"orientation\":\"v\",\"showlegend\":false,\"x\":[0.35950422286987305],\"xaxis\":\"x7\",\"y\":[0.949],\"yaxis\":\"y7\",\"type\":\"scatter\"},{\"hovertemplate\":\"M=64<br>efSearch=40<br>efConstruction=76<br>search_time=%{x}<br>recall@3=%{y}<br>index_time=%{marker.size}<extra></extra>\",\"legendgroup\":\"64\",\"marker\":{\"color\":\"#990099\",\"size\":[2106.4281725883484],\"sizemode\":\"area\",\"sizeref\":9.361902989281548,\"symbol\":\"circle\"},\"mode\":\"markers\",\"name\":\"64\",\"orientation\":\"v\",\"showlegend\":false,\"x\":[0.4291207790374756],\"xaxis\":\"x8\",\"y\":[0.97],\"yaxis\":\"y8\",\"type\":\"scatter\"},{\"hovertemplate\":\"M=64<br>efSearch=76<br>efConstruction=4<br>search_time=%{x}<br>recall@3=%{y}<br>index_time=%{marker.size}<extra></extra>\",\"legendgroup\":\"64\",\"marker\":{\"color\":\"#990099\",\"size\":[76.5102310180664],\"sizemode\":\"area\",\"sizeref\":9.361902989281548,\"symbol\":\"circle\"},\"mode\":\"markers\",\"name\":\"64\",\"orientation\":\"v\",\"showlegend\":false,\"x\":[0.15374064445495605],\"xaxis\":\"x\",\"y\":[0.086],\"yaxis\":\"y\",\"type\":\"scatter\"},{\"hovertemplate\":\"M=64<br>efSearch=76<br>efConstruction=16<br>search_time=%{x}<br>recall@3=%{y}<br>index_time=%{marker.size}<extra></extra>\",\"legendgroup\":\"64\",\"marker\":{\"color\":\"#990099\",\"size\":[378.9487624168396],\"sizemode\":\"area\",\"sizeref\":9.361902989281548,\"symbol\":\"circle\"},\"mode\":\"markers\",\"name\":\"64\",\"orientation\":\"v\",\"showlegend\":false,\"x\":[0.3727540969848633],\"xaxis\":\"x2\",\"y\":[0.925],\"yaxis\":\"y2\",\"type\":\"scatter\"},{\"hovertemplate\":\"M=64<br>efSearch=76<br>efConstruction=40<br>search_time=%{x}<br>recall@3=%{y}<br>index_time=%{marker.size}<extra></extra>\",\"legendgroup\":\"64\",\"marker\":{\"color\":\"#990099\",\"size\":[1086.3188750743866],\"sizemode\":\"area\",\"sizeref\":9.361902989281548,\"symbol\":\"circle\"},\"mode\":\"markers\",\"name\":\"64\",\"orientation\":\"v\",\"showlegend\":false,\"x\":[0.5686748027801514],\"xaxis\":\"x3\",\"y\":[0.978],\"yaxis\":\"y3\",\"type\":\"scatter\"},{\"hovertemplate\":\"M=64<br>efSearch=76<br>efConstruction=76<br>search_time=%{x}<br>recall@3=%{y}<br>index_time=%{marker.size}<extra></extra>\",\"legendgroup\":\"64\",\"marker\":{\"color\":\"#990099\",\"size\":[2106.4281725883484],\"sizemode\":\"area\",\"sizeref\":9.361902989281548,\"symbol\":\"circle\"},\"mode\":\"markers\",\"name\":\"64\",\"orientation\":\"v\",\"showlegend\":false,\"x\":[0.728726863861084],\"xaxis\":\"x4\",\"y\":[0.992],\"yaxis\":\"y4\",\"type\":\"scatter\"}],                        {\"template\":{\"data\":{\"barpolar\":[{\"marker\":{\"line\":{\"color\":\"white\",\"width\":0.5},\"pattern\":{\"fillmode\":\"overlay\",\"size\":10,\"solidity\":0.2}},\"type\":\"barpolar\"}],\"bar\":[{\"error_x\":{\"color\":\"rgb(36,36,36)\"},\"error_y\":{\"color\":\"rgb(36,36,36)\"},\"marker\":{\"line\":{\"color\":\"white\",\"width\":0.5},\"pattern\":{\"fillmode\":\"overlay\",\"size\":10,\"solidity\":0.2}},\"type\":\"bar\"}],\"carpet\":[{\"aaxis\":{\"endlinecolor\":\"rgb(36,36,36)\",\"gridcolor\":\"white\",\"linecolor\":\"white\",\"minorgridcolor\":\"white\",\"startlinecolor\":\"rgb(36,36,36)\"},\"baxis\":{\"endlinecolor\":\"rgb(36,36,36)\",\"gridcolor\":\"white\",\"linecolor\":\"white\",\"minorgridcolor\":\"white\",\"startlinecolor\":\"rgb(36,36,36)\"},\"type\":\"carpet\"}],\"choropleth\":[{\"colorbar\":{\"outlinewidth\":1,\"tickcolor\":\"rgb(36,36,36)\",\"ticks\":\"outside\"},\"type\":\"choropleth\"}],\"contourcarpet\":[{\"colorbar\":{\"outlinewidth\":1,\"tickcolor\":\"rgb(36,36,36)\",\"ticks\":\"outside\"},\"type\":\"contourcarpet\"}],\"contour\":[{\"colorbar\":{\"outlinewidth\":1,\"tickcolor\":\"rgb(36,36,36)\",\"ticks\":\"outside\"},\"colorscale\":[[0.0,\"#440154\"],[0.1111111111111111,\"#482878\"],[0.2222222222222222,\"#3e4989\"],[0.3333333333333333,\"#31688e\"],[0.4444444444444444,\"#26828e\"],[0.5555555555555556,\"#1f9e89\"],[0.6666666666666666,\"#35b779\"],[0.7777777777777778,\"#6ece58\"],[0.8888888888888888,\"#b5de2b\"],[1.0,\"#fde725\"]],\"type\":\"contour\"}],\"heatmapgl\":[{\"colorbar\":{\"outlinewidth\":1,\"tickcolor\":\"rgb(36,36,36)\",\"ticks\":\"outside\"},\"colorscale\":[[0.0,\"#440154\"],[0.1111111111111111,\"#482878\"],[0.2222222222222222,\"#3e4989\"],[0.3333333333333333,\"#31688e\"],[0.4444444444444444,\"#26828e\"],[0.5555555555555556,\"#1f9e89\"],[0.6666666666666666,\"#35b779\"],[0.7777777777777778,\"#6ece58\"],[0.8888888888888888,\"#b5de2b\"],[1.0,\"#fde725\"]],\"type\":\"heatmapgl\"}],\"heatmap\":[{\"colorbar\":{\"outlinewidth\":1,\"tickcolor\":\"rgb(36,36,36)\",\"ticks\":\"outside\"},\"colorscale\":[[0.0,\"#440154\"],[0.1111111111111111,\"#482878\"],[0.2222222222222222,\"#3e4989\"],[0.3333333333333333,\"#31688e\"],[0.4444444444444444,\"#26828e\"],[0.5555555555555556,\"#1f9e89\"],[0.6666666666666666,\"#35b779\"],[0.7777777777777778,\"#6ece58\"],[0.8888888888888888,\"#b5de2b\"],[1.0,\"#fde725\"]],\"type\":\"heatmap\"}],\"histogram2dcontour\":[{\"colorbar\":{\"outlinewidth\":1,\"tickcolor\":\"rgb(36,36,36)\",\"ticks\":\"outside\"},\"colorscale\":[[0.0,\"#440154\"],[0.1111111111111111,\"#482878\"],[0.2222222222222222,\"#3e4989\"],[0.3333333333333333,\"#31688e\"],[0.4444444444444444,\"#26828e\"],[0.5555555555555556,\"#1f9e89\"],[0.6666666666666666,\"#35b779\"],[0.7777777777777778,\"#6ece58\"],[0.8888888888888888,\"#b5de2b\"],[1.0,\"#fde725\"]],\"type\":\"histogram2dcontour\"}],\"histogram2d\":[{\"colorbar\":{\"outlinewidth\":1,\"tickcolor\":\"rgb(36,36,36)\",\"ticks\":\"outside\"},\"colorscale\":[[0.0,\"#440154\"],[0.1111111111111111,\"#482878\"],[0.2222222222222222,\"#3e4989\"],[0.3333333333333333,\"#31688e\"],[0.4444444444444444,\"#26828e\"],[0.5555555555555556,\"#1f9e89\"],[0.6666666666666666,\"#35b779\"],[0.7777777777777778,\"#6ece58\"],[0.8888888888888888,\"#b5de2b\"],[1.0,\"#fde725\"]],\"type\":\"histogram2d\"}],\"histogram\":[{\"marker\":{\"line\":{\"color\":\"white\",\"width\":0.6}},\"type\":\"histogram\"}],\"mesh3d\":[{\"colorbar\":{\"outlinewidth\":1,\"tickcolor\":\"rgb(36,36,36)\",\"ticks\":\"outside\"},\"type\":\"mesh3d\"}],\"parcoords\":[{\"line\":{\"colorbar\":{\"outlinewidth\":1,\"tickcolor\":\"rgb(36,36,36)\",\"ticks\":\"outside\"}},\"type\":\"parcoords\"}],\"pie\":[{\"automargin\":true,\"type\":\"pie\"}],\"scatter3d\":[{\"line\":{\"colorbar\":{\"outlinewidth\":1,\"tickcolor\":\"rgb(36,36,36)\",\"ticks\":\"outside\"}},\"marker\":{\"colorbar\":{\"outlinewidth\":1,\"tickcolor\":\"rgb(36,36,36)\",\"ticks\":\"outside\"}},\"type\":\"scatter3d\"}],\"scattercarpet\":[{\"marker\":{\"colorbar\":{\"outlinewidth\":1,\"tickcolor\":\"rgb(36,36,36)\",\"ticks\":\"outside\"}},\"type\":\"scattercarpet\"}],\"scattergeo\":[{\"marker\":{\"colorbar\":{\"outlinewidth\":1,\"tickcolor\":\"rgb(36,36,36)\",\"ticks\":\"outside\"}},\"type\":\"scattergeo\"}],\"scattergl\":[{\"marker\":{\"colorbar\":{\"outlinewidth\":1,\"tickcolor\":\"rgb(36,36,36)\",\"ticks\":\"outside\"}},\"type\":\"scattergl\"}],\"scattermapbox\":[{\"marker\":{\"colorbar\":{\"outlinewidth\":1,\"tickcolor\":\"rgb(36,36,36)\",\"ticks\":\"outside\"}},\"type\":\"scattermapbox\"}],\"scatterpolargl\":[{\"marker\":{\"colorbar\":{\"outlinewidth\":1,\"tickcolor\":\"rgb(36,36,36)\",\"ticks\":\"outside\"}},\"type\":\"scatterpolargl\"}],\"scatterpolar\":[{\"marker\":{\"colorbar\":{\"outlinewidth\":1,\"tickcolor\":\"rgb(36,36,36)\",\"ticks\":\"outside\"}},\"type\":\"scatterpolar\"}],\"scatter\":[{\"fillpattern\":{\"fillmode\":\"overlay\",\"size\":10,\"solidity\":0.2},\"type\":\"scatter\"}],\"scatterternary\":[{\"marker\":{\"colorbar\":{\"outlinewidth\":1,\"tickcolor\":\"rgb(36,36,36)\",\"ticks\":\"outside\"}},\"type\":\"scatterternary\"}],\"surface\":[{\"colorbar\":{\"outlinewidth\":1,\"tickcolor\":\"rgb(36,36,36)\",\"ticks\":\"outside\"},\"colorscale\":[[0.0,\"#440154\"],[0.1111111111111111,\"#482878\"],[0.2222222222222222,\"#3e4989\"],[0.3333333333333333,\"#31688e\"],[0.4444444444444444,\"#26828e\"],[0.5555555555555556,\"#1f9e89\"],[0.6666666666666666,\"#35b779\"],[0.7777777777777778,\"#6ece58\"],[0.8888888888888888,\"#b5de2b\"],[1.0,\"#fde725\"]],\"type\":\"surface\"}],\"table\":[{\"cells\":{\"fill\":{\"color\":\"rgb(237,237,237)\"},\"line\":{\"color\":\"white\"}},\"header\":{\"fill\":{\"color\":\"rgb(217,217,217)\"},\"line\":{\"color\":\"white\"}},\"type\":\"table\"}]},\"layout\":{\"annotationdefaults\":{\"arrowhead\":0,\"arrowwidth\":1},\"autotypenumbers\":\"strict\",\"coloraxis\":{\"colorbar\":{\"outlinewidth\":1,\"tickcolor\":\"rgb(36,36,36)\",\"ticks\":\"outside\"}},\"colorscale\":{\"diverging\":[[0.0,\"rgb(103,0,31)\"],[0.1,\"rgb(178,24,43)\"],[0.2,\"rgb(214,96,77)\"],[0.3,\"rgb(244,165,130)\"],[0.4,\"rgb(253,219,199)\"],[0.5,\"rgb(247,247,247)\"],[0.6,\"rgb(209,229,240)\"],[0.7,\"rgb(146,197,222)\"],[0.8,\"rgb(67,147,195)\"],[0.9,\"rgb(33,102,172)\"],[1.0,\"rgb(5,48,97)\"]],\"sequential\":[[0.0,\"#440154\"],[0.1111111111111111,\"#482878\"],[0.2222222222222222,\"#3e4989\"],[0.3333333333333333,\"#31688e\"],[0.4444444444444444,\"#26828e\"],[0.5555555555555556,\"#1f9e89\"],[0.6666666666666666,\"#35b779\"],[0.7777777777777778,\"#6ece58\"],[0.8888888888888888,\"#b5de2b\"],[1.0,\"#fde725\"]],\"sequentialminus\":[[0.0,\"#440154\"],[0.1111111111111111,\"#482878\"],[0.2222222222222222,\"#3e4989\"],[0.3333333333333333,\"#31688e\"],[0.4444444444444444,\"#26828e\"],[0.5555555555555556,\"#1f9e89\"],[0.6666666666666666,\"#35b779\"],[0.7777777777777778,\"#6ece58\"],[0.8888888888888888,\"#b5de2b\"],[1.0,\"#fde725\"]]},\"colorway\":[\"#1F77B4\",\"#FF7F0E\",\"#2CA02C\",\"#D62728\",\"#9467BD\",\"#8C564B\",\"#E377C2\",\"#7F7F7F\",\"#BCBD22\",\"#17BECF\"],\"font\":{\"color\":\"rgb(36,36,36)\"},\"geo\":{\"bgcolor\":\"white\",\"lakecolor\":\"white\",\"landcolor\":\"white\",\"showlakes\":true,\"showland\":true,\"subunitcolor\":\"white\"},\"hoverlabel\":{\"align\":\"left\"},\"hovermode\":\"closest\",\"mapbox\":{\"style\":\"light\"},\"paper_bgcolor\":\"white\",\"plot_bgcolor\":\"white\",\"polar\":{\"angularaxis\":{\"gridcolor\":\"rgb(232,232,232)\",\"linecolor\":\"rgb(36,36,36)\",\"showgrid\":false,\"showline\":true,\"ticks\":\"outside\"},\"bgcolor\":\"white\",\"radialaxis\":{\"gridcolor\":\"rgb(232,232,232)\",\"linecolor\":\"rgb(36,36,36)\",\"showgrid\":false,\"showline\":true,\"ticks\":\"outside\"}},\"scene\":{\"xaxis\":{\"backgroundcolor\":\"white\",\"gridcolor\":\"rgb(232,232,232)\",\"gridwidth\":2,\"linecolor\":\"rgb(36,36,36)\",\"showbackground\":true,\"showgrid\":false,\"showline\":true,\"ticks\":\"outside\",\"zeroline\":false,\"zerolinecolor\":\"rgb(36,36,36)\"},\"yaxis\":{\"backgroundcolor\":\"white\",\"gridcolor\":\"rgb(232,232,232)\",\"gridwidth\":2,\"linecolor\":\"rgb(36,36,36)\",\"showbackground\":true,\"showgrid\":false,\"showline\":true,\"ticks\":\"outside\",\"zeroline\":false,\"zerolinecolor\":\"rgb(36,36,36)\"},\"zaxis\":{\"backgroundcolor\":\"white\",\"gridcolor\":\"rgb(232,232,232)\",\"gridwidth\":2,\"linecolor\":\"rgb(36,36,36)\",\"showbackground\":true,\"showgrid\":false,\"showline\":true,\"ticks\":\"outside\",\"zeroline\":false,\"zerolinecolor\":\"rgb(36,36,36)\"}},\"shapedefaults\":{\"fillcolor\":\"black\",\"line\":{\"width\":0},\"opacity\":0.3},\"ternary\":{\"aaxis\":{\"gridcolor\":\"rgb(232,232,232)\",\"linecolor\":\"rgb(36,36,36)\",\"showgrid\":false,\"showline\":true,\"ticks\":\"outside\"},\"baxis\":{\"gridcolor\":\"rgb(232,232,232)\",\"linecolor\":\"rgb(36,36,36)\",\"showgrid\":false,\"showline\":true,\"ticks\":\"outside\"},\"bgcolor\":\"white\",\"caxis\":{\"gridcolor\":\"rgb(232,232,232)\",\"linecolor\":\"rgb(36,36,36)\",\"showgrid\":false,\"showline\":true,\"ticks\":\"outside\"}},\"title\":{\"x\":0.05},\"xaxis\":{\"automargin\":true,\"gridcolor\":\"rgb(232,232,232)\",\"linecolor\":\"rgb(36,36,36)\",\"showgrid\":false,\"showline\":true,\"ticks\":\"outside\",\"title\":{\"standoff\":15},\"zeroline\":false,\"zerolinecolor\":\"rgb(36,36,36)\"},\"yaxis\":{\"automargin\":true,\"gridcolor\":\"rgb(232,232,232)\",\"linecolor\":\"rgb(36,36,36)\",\"showgrid\":false,\"showline\":true,\"ticks\":\"outside\",\"title\":{\"standoff\":15},\"zeroline\":false,\"zerolinecolor\":\"rgb(36,36,36)\"}}},\"xaxis\":{\"anchor\":\"y\",\"domain\":[0.0,0.22999999999999998],\"title\":{\"text\":\"\"},\"showgrid\":true,\"gridwidth\":1,\"gridcolor\":\"#F0F0F0\",\"linecolor\":\"darkgrey\",\"ticks\":\"\"},\"yaxis\":{\"anchor\":\"x\",\"domain\":[0.0,0.235],\"title\":{\"text\":\"<B>                             1-recall@3\",\"standoff\":5},\"showgrid\":true,\"gridwidth\":1,\"gridcolor\":\"#F0F0F0\",\"linecolor\":\"darkgrey\",\"ticks\":\"\",\"range\":[0,1.1],\"tick0\":0.2,\"dtick\":0.2},\"xaxis2\":{\"anchor\":\"y2\",\"domain\":[0.24999999999999997,0.48],\"matches\":\"x\",\"title\":{\"text\":\"<B>search time (ms/query)\",\"standoff\":10},\"showgrid\":true,\"gridwidth\":1,\"gridcolor\":\"#F0F0F0\",\"linecolor\":\"darkgrey\",\"ticks\":\"\"},\"yaxis2\":{\"anchor\":\"x2\",\"domain\":[0.0,0.235],\"matches\":\"y\",\"showticklabels\":false,\"showgrid\":true,\"gridwidth\":1,\"gridcolor\":\"#F0F0F0\",\"linecolor\":\"darkgrey\",\"ticks\":\"\",\"range\":[0,1.1],\"tick0\":0.2,\"dtick\":0.2,\"title\":{\"text\":\"\"}},\"xaxis3\":{\"anchor\":\"y3\",\"domain\":[0.49999999999999994,0.73],\"matches\":\"x\",\"title\":{\"text\":\"\"},\"showgrid\":true,\"gridwidth\":1,\"gridcolor\":\"#F0F0F0\",\"linecolor\":\"darkgrey\",\"ticks\":\"\"},\"yaxis3\":{\"anchor\":\"x3\",\"domain\":[0.0,0.235],\"matches\":\"y\",\"showticklabels\":false,\"showgrid\":true,\"gridwidth\":1,\"gridcolor\":\"#F0F0F0\",\"linecolor\":\"darkgrey\",\"ticks\":\"\",\"range\":[0,1.1],\"tick0\":0.2,\"dtick\":0.2,\"title\":{\"text\":\"\"}},\"xaxis4\":{\"anchor\":\"y4\",\"domain\":[0.75,0.98],\"matches\":\"x\",\"title\":{\"text\":\"\"},\"showgrid\":true,\"gridwidth\":1,\"gridcolor\":\"#F0F0F0\",\"linecolor\":\"darkgrey\",\"ticks\":\"\"},\"yaxis4\":{\"anchor\":\"x4\",\"domain\":[0.0,0.235],\"matches\":\"y\",\"showticklabels\":false,\"showgrid\":true,\"gridwidth\":1,\"gridcolor\":\"#F0F0F0\",\"linecolor\":\"darkgrey\",\"ticks\":\"\",\"range\":[0,1.1],\"tick0\":0.2,\"dtick\":0.2,\"title\":{\"text\":\"\"}},\"xaxis5\":{\"anchor\":\"y5\",\"domain\":[0.0,0.22999999999999998],\"matches\":\"x\",\"showticklabels\":false,\"showgrid\":true,\"gridwidth\":1,\"gridcolor\":\"#F0F0F0\",\"linecolor\":\"darkgrey\",\"ticks\":\"\",\"title\":{\"text\":\"\"}},\"yaxis5\":{\"anchor\":\"x5\",\"domain\":[0.255,0.49],\"matches\":\"y\",\"title\":{\"text\":\"\"},\"showgrid\":true,\"gridwidth\":1,\"gridcolor\":\"#F0F0F0\",\"linecolor\":\"darkgrey\",\"ticks\":\"\",\"range\":[0,1.1],\"tick0\":0.2,\"dtick\":0.2},\"xaxis6\":{\"anchor\":\"y6\",\"domain\":[0.24999999999999997,0.48],\"matches\":\"x\",\"showticklabels\":false,\"showgrid\":true,\"gridwidth\":1,\"gridcolor\":\"#F0F0F0\",\"linecolor\":\"darkgrey\",\"ticks\":\"\",\"title\":{\"text\":\"\"}},\"yaxis6\":{\"anchor\":\"x6\",\"domain\":[0.255,0.49],\"matches\":\"y\",\"showticklabels\":false,\"showgrid\":true,\"gridwidth\":1,\"gridcolor\":\"#F0F0F0\",\"linecolor\":\"darkgrey\",\"ticks\":\"\",\"range\":[0,1.1],\"tick0\":0.2,\"dtick\":0.2,\"title\":{\"text\":\"\"}},\"xaxis7\":{\"anchor\":\"y7\",\"domain\":[0.49999999999999994,0.73],\"matches\":\"x\",\"showticklabels\":false,\"showgrid\":true,\"gridwidth\":1,\"gridcolor\":\"#F0F0F0\",\"linecolor\":\"darkgrey\",\"ticks\":\"\",\"title\":{\"text\":\"\"}},\"yaxis7\":{\"anchor\":\"x7\",\"domain\":[0.255,0.49],\"matches\":\"y\",\"showticklabels\":false,\"showgrid\":true,\"gridwidth\":1,\"gridcolor\":\"#F0F0F0\",\"linecolor\":\"darkgrey\",\"ticks\":\"\",\"range\":[0,1.1],\"tick0\":0.2,\"dtick\":0.2,\"title\":{\"text\":\"\"}},\"xaxis8\":{\"anchor\":\"y8\",\"domain\":[0.75,0.98],\"matches\":\"x\",\"showticklabels\":false,\"showgrid\":true,\"gridwidth\":1,\"gridcolor\":\"#F0F0F0\",\"linecolor\":\"darkgrey\",\"ticks\":\"\",\"title\":{\"text\":\"\"}},\"yaxis8\":{\"anchor\":\"x8\",\"domain\":[0.255,0.49],\"matches\":\"y\",\"showticklabels\":false,\"showgrid\":true,\"gridwidth\":1,\"gridcolor\":\"#F0F0F0\",\"linecolor\":\"darkgrey\",\"ticks\":\"\",\"range\":[0,1.1],\"tick0\":0.2,\"dtick\":0.2,\"title\":{\"text\":\"\"}},\"xaxis9\":{\"anchor\":\"y9\",\"domain\":[0.0,0.22999999999999998],\"matches\":\"x\",\"showticklabels\":false,\"showgrid\":true,\"gridwidth\":1,\"gridcolor\":\"#F0F0F0\",\"linecolor\":\"darkgrey\",\"ticks\":\"\",\"title\":{\"text\":\"\"}},\"yaxis9\":{\"anchor\":\"x9\",\"domain\":[0.51,0.745],\"matches\":\"y\",\"title\":{\"text\":\"\"},\"showgrid\":true,\"gridwidth\":1,\"gridcolor\":\"#F0F0F0\",\"linecolor\":\"darkgrey\",\"ticks\":\"\",\"range\":[0,1.1],\"tick0\":0.2,\"dtick\":0.2},\"xaxis10\":{\"anchor\":\"y10\",\"domain\":[0.24999999999999997,0.48],\"matches\":\"x\",\"showticklabels\":false,\"showgrid\":true,\"gridwidth\":1,\"gridcolor\":\"#F0F0F0\",\"linecolor\":\"darkgrey\",\"ticks\":\"\",\"title\":{\"text\":\"\"}},\"yaxis10\":{\"anchor\":\"x10\",\"domain\":[0.51,0.745],\"matches\":\"y\",\"showticklabels\":false,\"showgrid\":true,\"gridwidth\":1,\"gridcolor\":\"#F0F0F0\",\"linecolor\":\"darkgrey\",\"ticks\":\"\",\"range\":[0,1.1],\"tick0\":0.2,\"dtick\":0.2,\"title\":{\"text\":\"\"}},\"xaxis11\":{\"anchor\":\"y11\",\"domain\":[0.49999999999999994,0.73],\"matches\":\"x\",\"showticklabels\":false,\"showgrid\":true,\"gridwidth\":1,\"gridcolor\":\"#F0F0F0\",\"linecolor\":\"darkgrey\",\"ticks\":\"\",\"title\":{\"text\":\"\"}},\"yaxis11\":{\"anchor\":\"x11\",\"domain\":[0.51,0.745],\"matches\":\"y\",\"showticklabels\":false,\"showgrid\":true,\"gridwidth\":1,\"gridcolor\":\"#F0F0F0\",\"linecolor\":\"darkgrey\",\"ticks\":\"\",\"range\":[0,1.1],\"tick0\":0.2,\"dtick\":0.2,\"title\":{\"text\":\"\"}},\"xaxis12\":{\"anchor\":\"y12\",\"domain\":[0.75,0.98],\"matches\":\"x\",\"showticklabels\":false,\"showgrid\":true,\"gridwidth\":1,\"gridcolor\":\"#F0F0F0\",\"linecolor\":\"darkgrey\",\"ticks\":\"\",\"title\":{\"text\":\"\"}},\"yaxis12\":{\"anchor\":\"x12\",\"domain\":[0.51,0.745],\"matches\":\"y\",\"showticklabels\":false,\"showgrid\":true,\"gridwidth\":1,\"gridcolor\":\"#F0F0F0\",\"linecolor\":\"darkgrey\",\"ticks\":\"\",\"range\":[0,1.1],\"tick0\":0.2,\"dtick\":0.2,\"title\":{\"text\":\"\"}},\"xaxis13\":{\"anchor\":\"y13\",\"domain\":[0.0,0.22999999999999998],\"matches\":\"x\",\"showticklabels\":false,\"showgrid\":true,\"gridwidth\":1,\"gridcolor\":\"#F0F0F0\",\"linecolor\":\"darkgrey\",\"ticks\":\"\",\"title\":{\"text\":\"\"}},\"yaxis13\":{\"anchor\":\"x13\",\"domain\":[0.7649999999999999,0.9999999999999999],\"matches\":\"y\",\"title\":{\"text\":\"\"},\"showgrid\":true,\"gridwidth\":1,\"gridcolor\":\"#F0F0F0\",\"linecolor\":\"darkgrey\",\"ticks\":\"\",\"range\":[0,1.1],\"tick0\":0.2,\"dtick\":0.2},\"xaxis14\":{\"anchor\":\"y14\",\"domain\":[0.24999999999999997,0.48],\"matches\":\"x\",\"showticklabels\":false,\"showgrid\":true,\"gridwidth\":1,\"gridcolor\":\"#F0F0F0\",\"linecolor\":\"darkgrey\",\"ticks\":\"\",\"title\":{\"text\":\"\"}},\"yaxis14\":{\"anchor\":\"x14\",\"domain\":[0.7649999999999999,0.9999999999999999],\"matches\":\"y\",\"showticklabels\":false,\"showgrid\":true,\"gridwidth\":1,\"gridcolor\":\"#F0F0F0\",\"linecolor\":\"darkgrey\",\"ticks\":\"\",\"range\":[0,1.1],\"tick0\":0.2,\"dtick\":0.2,\"title\":{\"text\":\"\"}},\"xaxis15\":{\"anchor\":\"y15\",\"domain\":[0.49999999999999994,0.73],\"matches\":\"x\",\"showticklabels\":false,\"showgrid\":true,\"gridwidth\":1,\"gridcolor\":\"#F0F0F0\",\"linecolor\":\"darkgrey\",\"ticks\":\"\",\"title\":{\"text\":\"\"}},\"yaxis15\":{\"anchor\":\"x15\",\"domain\":[0.7649999999999999,0.9999999999999999],\"matches\":\"y\",\"showticklabels\":false,\"showgrid\":true,\"gridwidth\":1,\"gridcolor\":\"#F0F0F0\",\"linecolor\":\"darkgrey\",\"ticks\":\"\",\"range\":[0,1.1],\"tick0\":0.2,\"dtick\":0.2,\"title\":{\"text\":\"\"}},\"xaxis16\":{\"anchor\":\"y16\",\"domain\":[0.75,0.98],\"matches\":\"x\",\"showticklabels\":false,\"showgrid\":true,\"gridwidth\":1,\"gridcolor\":\"#F0F0F0\",\"linecolor\":\"darkgrey\",\"ticks\":\"\",\"title\":{\"text\":\"\"}},\"yaxis16\":{\"anchor\":\"x16\",\"domain\":[0.7649999999999999,0.9999999999999999],\"matches\":\"y\",\"showticklabels\":false,\"showgrid\":true,\"gridwidth\":1,\"gridcolor\":\"#F0F0F0\",\"linecolor\":\"darkgrey\",\"ticks\":\"\",\"range\":[0,1.1],\"tick0\":0.2,\"dtick\":0.2,\"title\":{\"text\":\"\"}},\"annotations\":[{\"font\":{},\"showarrow\":false,\"text\":\"efConstruction=4\",\"x\":0.11499999999999999,\"xanchor\":\"center\",\"xref\":\"paper\",\"y\":0.9999999999999999,\"yanchor\":\"bottom\",\"yref\":\"paper\"},{\"font\":{},\"showarrow\":false,\"text\":\"efConstruction=16\",\"x\":0.365,\"xanchor\":\"center\",\"xref\":\"paper\",\"y\":0.9999999999999999,\"yanchor\":\"bottom\",\"yref\":\"paper\"},{\"font\":{},\"showarrow\":false,\"text\":\"efConstruction=40\",\"x\":0.615,\"xanchor\":\"center\",\"xref\":\"paper\",\"y\":0.9999999999999999,\"yanchor\":\"bottom\",\"yref\":\"paper\"},{\"font\":{},\"showarrow\":false,\"text\":\"efConstruction=76\",\"x\":0.865,\"xanchor\":\"center\",\"xref\":\"paper\",\"y\":0.9999999999999999,\"yanchor\":\"bottom\",\"yref\":\"paper\"},{\"font\":{},\"showarrow\":false,\"text\":\"efSearch=76\",\"textangle\":90,\"x\":0.98,\"xanchor\":\"left\",\"xref\":\"paper\",\"y\":0.1175,\"yanchor\":\"middle\",\"yref\":\"paper\"},{\"font\":{},\"showarrow\":false,\"text\":\"efSearch=40\",\"textangle\":90,\"x\":0.98,\"xanchor\":\"left\",\"xref\":\"paper\",\"y\":0.3725,\"yanchor\":\"middle\",\"yref\":\"paper\"},{\"font\":{},\"showarrow\":false,\"text\":\"efSearch=16\",\"textangle\":90,\"x\":0.98,\"xanchor\":\"left\",\"xref\":\"paper\",\"y\":0.6275,\"yanchor\":\"middle\",\"yref\":\"paper\"},{\"font\":{},\"showarrow\":false,\"text\":\"efSearch=4\",\"textangle\":90,\"x\":0.98,\"xanchor\":\"left\",\"xref\":\"paper\",\"y\":0.8824999999999998,\"yanchor\":\"middle\",\"yref\":\"paper\"}],\"legend\":{\"title\":{\"text\":\"M\"},\"tracegroupgap\":0,\"itemsizing\":\"constant\",\"borderwidth\":1,\"traceorder\":\"reversed\",\"yanchor\":\"top\",\"y\":0.76,\"xanchor\":\"left\",\"x\":1.03},\"margin\":{\"t\":60},\"height\":700,\"width\":700,\"title\":{\"font\":{\"family\":\"Arial\",\"color\":\"RebeccaPurple\"},\"text\":\"<B>Bubble Size corresponds to Construction Time (s)\",\"yanchor\":\"top\",\"y\":0.98,\"xanchor\":\"center\",\"x\":0.5}},                        {\"responsive\": true}                    ).then(function(){\n",
       "                            \n",
       "var gd = document.getElementById('f009b19d-0e4a-4af5-ab62-5ee787d61b51');\n",
       "var x = new MutationObserver(function (mutations, observer) {{\n",
       "        var display = window.getComputedStyle(gd).display;\n",
       "        if (!display || display === 'none') {{\n",
       "            console.log([gd, 'removed!']);\n",
       "            Plotly.purge(gd);\n",
       "            observer.disconnect();\n",
       "        }}\n",
       "}});\n",
       "\n",
       "// Listen for the removal of the full notebook cells\n",
       "var notebookContainer = gd.closest('#notebook-container');\n",
       "if (notebookContainer) {{\n",
       "    x.observe(notebookContainer, {childList: true});\n",
       "}}\n",
       "\n",
       "// Listen for the clearing of the current output cell\n",
       "var outputEl = gd.closest('.output');\n",
       "if (outputEl) {{\n",
       "    x.observe(outputEl, {childList: true});\n",
       "}}\n",
       "\n",
       "                        })                };                });            </script>        </div>"
      ]
     },
     "metadata": {},
     "output_type": "display_data"
    }
   ],
   "source": [
    "fig = px.scatter(dfHNSW, x=\"search_time\", y=\"recall@3\", color=\"M\", height=700, width=700, size=\"index_time\", size_max=15, \n",
    "                 template=\"simple_white\", color_discrete_sequence=colors_custom, #color_discrete_sequence=px.colors.qualitative.D3,  \n",
    "                 facet_row=\"efSearch\", facet_row_spacing=0.02,  \n",
    "                 facet_col=\"efConstruction\", facet_col_spacing=0.02     \n",
    "                )\n",
    "fig.update_xaxes(showgrid=True, gridwidth=1, gridcolor='#F0F0F0', linecolor='darkgrey', ticks=\"\")\n",
    "fig.update_yaxes(showgrid=True, gridwidth=1, gridcolor='#F0F0F0', linecolor='darkgrey', ticks=\"\", range=[0, 1.1], tick0=0.2, dtick=0.2)\n",
    "fig.update_xaxes(title_text=\"\")\n",
    "fig.update_yaxes(title_text=\"\")\n",
    "fig.update_xaxes(row=1, col=2, title_standoff=10, title_text=\"<B>search time (ms/query)\")                # title_font_family=\"Arial\"\n",
    "fig.update_yaxes(col=1, row=1, title_standoff=5, title_text=\"<B>                             1-recall@3\")\n",
    "fig.update_layout(legend=dict(borderwidth=1, traceorder=\"reversed\", yanchor=\"top\", y=0.76, xanchor=\"left\", x=1.03, ))\n",
    "fig.update_layout(title=dict(text=\"<B>Bubble Size corresponds to Construction Time (s)\", yanchor=\"top\", y=0.98, xanchor=\"center\", x=0.5, \n",
    "                             font_family=\"Arial\", font_color=\"RebeccaPurple\"))\n",
    "fig.show()\n",
    "fig.write_html(\"Hflat_recall_4x4_indextime.html\")"
   ]
  },
  {
   "cell_type": "markdown",
   "id": "9f29fb5b",
   "metadata": {
    "papermill": {
     "duration": 0.554038,
     "end_time": "2022-08-23T06:58:28.656894",
     "exception": false,
     "start_time": "2022-08-23T06:58:28.102856",
     "status": "completed"
    },
    "tags": []
   },
   "source": [
    "# Section 4b: Plots comparing the various HNSW indexes (with/without IVF and/or PQ)"
   ]
  },
  {
   "cell_type": "code",
   "execution_count": 52,
   "id": "9c8c8949",
   "metadata": {
    "_kg_hide-input": true,
    "execution": {
     "iopub.execute_input": "2022-08-23T06:58:29.828193Z",
     "iopub.status.busy": "2022-08-23T06:58:29.827821Z",
     "iopub.status.idle": "2022-08-23T06:58:29.832525Z",
     "shell.execute_reply": "2022-08-23T06:58:29.831547Z"
    },
    "papermill": {
     "duration": 0.624825,
     "end_time": "2022-08-23T06:58:29.835242",
     "exception": false,
     "start_time": "2022-08-23T06:58:29.210417",
     "status": "completed"
    },
    "tags": []
   },
   "outputs": [],
   "source": [
    "# try:\n",
    "#     print(df.head(1))\n",
    "# except NameError:\n",
    "#     df = pd.read_csv(\"../input/dfhnsw/df-25.csv\", delimiter=\"|\")"
   ]
  },
  {
   "cell_type": "code",
   "execution_count": 53,
   "id": "4726cf86",
   "metadata": {
    "execution": {
     "iopub.execute_input": "2022-08-23T06:58:30.948877Z",
     "iopub.status.busy": "2022-08-23T06:58:30.948468Z",
     "iopub.status.idle": "2022-08-23T06:58:30.970681Z",
     "shell.execute_reply": "2022-08-23T06:58:30.969814Z"
    },
    "papermill": {
     "duration": 0.580751,
     "end_time": "2022-08-23T06:58:30.972661",
     "exception": false,
     "start_time": "2022-08-23T06:58:30.391910",
     "status": "completed"
    },
    "tags": []
   },
   "outputs": [
    {
     "data": {
      "text/html": [
       "<div>\n",
       "<style scoped>\n",
       "    .dataframe tbody tr th:only-of-type {\n",
       "        vertical-align: middle;\n",
       "    }\n",
       "\n",
       "    .dataframe tbody tr th {\n",
       "        vertical-align: top;\n",
       "    }\n",
       "\n",
       "    .dataframe thead th {\n",
       "        text-align: right;\n",
       "    }\n",
       "</style>\n",
       "<table border=\"1\" class=\"dataframe\">\n",
       "  <thead>\n",
       "    <tr style=\"text-align: right;\">\n",
       "      <th></th>\n",
       "      <th>index</th>\n",
       "      <th>M</th>\n",
       "      <th>nprobe</th>\n",
       "      <th>nsegment</th>\n",
       "      <th>recall@1</th>\n",
       "      <th>recall@3</th>\n",
       "      <th>recall@5</th>\n",
       "      <th>train_time</th>\n",
       "      <th>index_time</th>\n",
       "      <th>search_time</th>\n",
       "      <th>index_size</th>\n",
       "    </tr>\n",
       "  </thead>\n",
       "  <tbody>\n",
       "    <tr>\n",
       "      <th>0</th>\n",
       "      <td>IVF65536_HNSW32,PQ32</td>\n",
       "      <td>32</td>\n",
       "      <td>1.0</td>\n",
       "      <td>32.0</td>\n",
       "      <td>0.153</td>\n",
       "      <td>0.177</td>\n",
       "      <td>0.179</td>\n",
       "      <td>143.291473</td>\n",
       "      <td>24.345756</td>\n",
       "      <td>0.006559</td>\n",
       "      <td>154.209972</td>\n",
       "    </tr>\n",
       "    <tr>\n",
       "      <th>1</th>\n",
       "      <td>IVF65536_HNSW32,PQ32</td>\n",
       "      <td>32</td>\n",
       "      <td>8.0</td>\n",
       "      <td>32.0</td>\n",
       "      <td>0.349</td>\n",
       "      <td>0.437</td>\n",
       "      <td>0.450</td>\n",
       "      <td>143.291473</td>\n",
       "      <td>24.345756</td>\n",
       "      <td>0.006397</td>\n",
       "      <td>154.209972</td>\n",
       "    </tr>\n",
       "    <tr>\n",
       "      <th>2</th>\n",
       "      <td>IVF65536_HNSW32,PQ32</td>\n",
       "      <td>32</td>\n",
       "      <td>16.0</td>\n",
       "      <td>32.0</td>\n",
       "      <td>0.417</td>\n",
       "      <td>0.536</td>\n",
       "      <td>0.555</td>\n",
       "      <td>143.291473</td>\n",
       "      <td>24.345756</td>\n",
       "      <td>0.008129</td>\n",
       "      <td>154.209972</td>\n",
       "    </tr>\n",
       "    <tr>\n",
       "      <th>3</th>\n",
       "      <td>IVF65536_HNSW32,PQ32</td>\n",
       "      <td>32</td>\n",
       "      <td>64.0</td>\n",
       "      <td>32.0</td>\n",
       "      <td>0.521</td>\n",
       "      <td>0.712</td>\n",
       "      <td>0.746</td>\n",
       "      <td>143.291473</td>\n",
       "      <td>24.345756</td>\n",
       "      <td>0.018361</td>\n",
       "      <td>154.209972</td>\n",
       "    </tr>\n",
       "    <tr>\n",
       "      <th>4</th>\n",
       "      <td>IVF65536_HNSW32,PQ32</td>\n",
       "      <td>32</td>\n",
       "      <td>128.0</td>\n",
       "      <td>32.0</td>\n",
       "      <td>0.547</td>\n",
       "      <td>0.765</td>\n",
       "      <td>0.806</td>\n",
       "      <td>143.291473</td>\n",
       "      <td>24.345756</td>\n",
       "      <td>0.033369</td>\n",
       "      <td>154.209972</td>\n",
       "    </tr>\n",
       "    <tr>\n",
       "      <th>5</th>\n",
       "      <td>IVF65536_HNSW32,PQ32</td>\n",
       "      <td>32</td>\n",
       "      <td>256.0</td>\n",
       "      <td>32.0</td>\n",
       "      <td>0.563</td>\n",
       "      <td>0.804</td>\n",
       "      <td>0.856</td>\n",
       "      <td>143.291473</td>\n",
       "      <td>24.345756</td>\n",
       "      <td>0.078494</td>\n",
       "      <td>154.209972</td>\n",
       "    </tr>\n",
       "    <tr>\n",
       "      <th>6</th>\n",
       "      <td>IVF65536_HNSW32,PQ32</td>\n",
       "      <td>32</td>\n",
       "      <td>512.0</td>\n",
       "      <td>32.0</td>\n",
       "      <td>0.578</td>\n",
       "      <td>0.831</td>\n",
       "      <td>0.891</td>\n",
       "      <td>143.291473</td>\n",
       "      <td>24.345756</td>\n",
       "      <td>0.194042</td>\n",
       "      <td>154.209972</td>\n",
       "    </tr>\n",
       "    <tr>\n",
       "      <th>7</th>\n",
       "      <td>IVF65536_HNSW32,PQ32</td>\n",
       "      <td>32</td>\n",
       "      <td>1024.0</td>\n",
       "      <td>32.0</td>\n",
       "      <td>0.588</td>\n",
       "      <td>0.848</td>\n",
       "      <td>0.913</td>\n",
       "      <td>143.291473</td>\n",
       "      <td>24.345756</td>\n",
       "      <td>0.503714</td>\n",
       "      <td>154.209972</td>\n",
       "    </tr>\n",
       "    <tr>\n",
       "      <th>8</th>\n",
       "      <td>IVF65536_HNSW32,Flat</td>\n",
       "      <td>32</td>\n",
       "      <td>1.0</td>\n",
       "      <td>0.0</td>\n",
       "      <td>0.181</td>\n",
       "      <td>0.181</td>\n",
       "      <td>0.181</td>\n",
       "      <td>85.009737</td>\n",
       "      <td>18.676204</td>\n",
       "      <td>0.009614</td>\n",
       "      <td>1594.078859</td>\n",
       "    </tr>\n",
       "    <tr>\n",
       "      <th>9</th>\n",
       "      <td>IVF65536_HNSW32,Flat</td>\n",
       "      <td>32</td>\n",
       "      <td>8.0</td>\n",
       "      <td>0.0</td>\n",
       "      <td>0.455</td>\n",
       "      <td>0.455</td>\n",
       "      <td>0.455</td>\n",
       "      <td>85.009737</td>\n",
       "      <td>18.676204</td>\n",
       "      <td>0.010901</td>\n",
       "      <td>1594.078859</td>\n",
       "    </tr>\n",
       "    <tr>\n",
       "      <th>10</th>\n",
       "      <td>IVF65536_HNSW32,Flat</td>\n",
       "      <td>32</td>\n",
       "      <td>16.0</td>\n",
       "      <td>0.0</td>\n",
       "      <td>0.564</td>\n",
       "      <td>0.564</td>\n",
       "      <td>0.564</td>\n",
       "      <td>85.009737</td>\n",
       "      <td>18.676204</td>\n",
       "      <td>0.016058</td>\n",
       "      <td>1594.078859</td>\n",
       "    </tr>\n",
       "    <tr>\n",
       "      <th>11</th>\n",
       "      <td>IVF65536_HNSW32,Flat</td>\n",
       "      <td>32</td>\n",
       "      <td>64.0</td>\n",
       "      <td>0.0</td>\n",
       "      <td>0.768</td>\n",
       "      <td>0.768</td>\n",
       "      <td>0.768</td>\n",
       "      <td>85.009737</td>\n",
       "      <td>18.676204</td>\n",
       "      <td>0.035002</td>\n",
       "      <td>1594.078859</td>\n",
       "    </tr>\n",
       "    <tr>\n",
       "      <th>12</th>\n",
       "      <td>IVF65536_HNSW32,Flat</td>\n",
       "      <td>32</td>\n",
       "      <td>128.0</td>\n",
       "      <td>0.0</td>\n",
       "      <td>0.840</td>\n",
       "      <td>0.840</td>\n",
       "      <td>0.840</td>\n",
       "      <td>85.009737</td>\n",
       "      <td>18.676204</td>\n",
       "      <td>0.055478</td>\n",
       "      <td>1594.078859</td>\n",
       "    </tr>\n",
       "    <tr>\n",
       "      <th>13</th>\n",
       "      <td>IVF65536_HNSW32,Flat</td>\n",
       "      <td>32</td>\n",
       "      <td>256.0</td>\n",
       "      <td>0.0</td>\n",
       "      <td>0.904</td>\n",
       "      <td>0.904</td>\n",
       "      <td>0.904</td>\n",
       "      <td>85.009737</td>\n",
       "      <td>18.676204</td>\n",
       "      <td>0.088939</td>\n",
       "      <td>1594.078859</td>\n",
       "    </tr>\n",
       "    <tr>\n",
       "      <th>14</th>\n",
       "      <td>IVF65536_HNSW32,Flat</td>\n",
       "      <td>32</td>\n",
       "      <td>512.0</td>\n",
       "      <td>0.0</td>\n",
       "      <td>0.944</td>\n",
       "      <td>0.944</td>\n",
       "      <td>0.944</td>\n",
       "      <td>85.009737</td>\n",
       "      <td>18.676204</td>\n",
       "      <td>0.145102</td>\n",
       "      <td>1594.078859</td>\n",
       "    </tr>\n",
       "    <tr>\n",
       "      <th>15</th>\n",
       "      <td>IVF65536_HNSW32,Flat</td>\n",
       "      <td>32</td>\n",
       "      <td>1024.0</td>\n",
       "      <td>0.0</td>\n",
       "      <td>0.975</td>\n",
       "      <td>0.975</td>\n",
       "      <td>0.975</td>\n",
       "      <td>85.009737</td>\n",
       "      <td>18.676204</td>\n",
       "      <td>0.241861</td>\n",
       "      <td>1594.078859</td>\n",
       "    </tr>\n",
       "    <tr>\n",
       "      <th>16</th>\n",
       "      <td>HNSW32,Flat</td>\n",
       "      <td>32</td>\n",
       "      <td>0.0</td>\n",
       "      <td>0.0</td>\n",
       "      <td>0.854</td>\n",
       "      <td>0.854</td>\n",
       "      <td>0.854</td>\n",
       "      <td>None</td>\n",
       "      <td>847.505081</td>\n",
       "      <td>0.148547</td>\n",
       "      <td>2352.424546</td>\n",
       "    </tr>\n",
       "    <tr>\n",
       "      <th>17</th>\n",
       "      <td>HNSW32_PQ32</td>\n",
       "      <td>32</td>\n",
       "      <td>0.0</td>\n",
       "      <td>32.0</td>\n",
       "      <td>0.627</td>\n",
       "      <td>0.793</td>\n",
       "      <td>0.813</td>\n",
       "      <td>61.4662</td>\n",
       "      <td>651.526270</td>\n",
       "      <td>0.172360</td>\n",
       "      <td>912.555659</td>\n",
       "    </tr>\n",
       "  </tbody>\n",
       "</table>\n",
       "</div>"
      ],
      "text/plain": [
       "                   index   M  nprobe  nsegment  recall@1  recall@3  recall@5  \\\n",
       "0   IVF65536_HNSW32,PQ32  32     1.0      32.0     0.153     0.177     0.179   \n",
       "1   IVF65536_HNSW32,PQ32  32     8.0      32.0     0.349     0.437     0.450   \n",
       "2   IVF65536_HNSW32,PQ32  32    16.0      32.0     0.417     0.536     0.555   \n",
       "3   IVF65536_HNSW32,PQ32  32    64.0      32.0     0.521     0.712     0.746   \n",
       "4   IVF65536_HNSW32,PQ32  32   128.0      32.0     0.547     0.765     0.806   \n",
       "5   IVF65536_HNSW32,PQ32  32   256.0      32.0     0.563     0.804     0.856   \n",
       "6   IVF65536_HNSW32,PQ32  32   512.0      32.0     0.578     0.831     0.891   \n",
       "7   IVF65536_HNSW32,PQ32  32  1024.0      32.0     0.588     0.848     0.913   \n",
       "8   IVF65536_HNSW32,Flat  32     1.0       0.0     0.181     0.181     0.181   \n",
       "9   IVF65536_HNSW32,Flat  32     8.0       0.0     0.455     0.455     0.455   \n",
       "10  IVF65536_HNSW32,Flat  32    16.0       0.0     0.564     0.564     0.564   \n",
       "11  IVF65536_HNSW32,Flat  32    64.0       0.0     0.768     0.768     0.768   \n",
       "12  IVF65536_HNSW32,Flat  32   128.0       0.0     0.840     0.840     0.840   \n",
       "13  IVF65536_HNSW32,Flat  32   256.0       0.0     0.904     0.904     0.904   \n",
       "14  IVF65536_HNSW32,Flat  32   512.0       0.0     0.944     0.944     0.944   \n",
       "15  IVF65536_HNSW32,Flat  32  1024.0       0.0     0.975     0.975     0.975   \n",
       "16           HNSW32,Flat  32     0.0       0.0     0.854     0.854     0.854   \n",
       "17           HNSW32_PQ32  32     0.0      32.0     0.627     0.793     0.813   \n",
       "\n",
       "    train_time  index_time  search_time   index_size  \n",
       "0   143.291473   24.345756     0.006559   154.209972  \n",
       "1   143.291473   24.345756     0.006397   154.209972  \n",
       "2   143.291473   24.345756     0.008129   154.209972  \n",
       "3   143.291473   24.345756     0.018361   154.209972  \n",
       "4   143.291473   24.345756     0.033369   154.209972  \n",
       "5   143.291473   24.345756     0.078494   154.209972  \n",
       "6   143.291473   24.345756     0.194042   154.209972  \n",
       "7   143.291473   24.345756     0.503714   154.209972  \n",
       "8    85.009737   18.676204     0.009614  1594.078859  \n",
       "9    85.009737   18.676204     0.010901  1594.078859  \n",
       "10   85.009737   18.676204     0.016058  1594.078859  \n",
       "11   85.009737   18.676204     0.035002  1594.078859  \n",
       "12   85.009737   18.676204     0.055478  1594.078859  \n",
       "13   85.009737   18.676204     0.088939  1594.078859  \n",
       "14   85.009737   18.676204     0.145102  1594.078859  \n",
       "15   85.009737   18.676204     0.241861  1594.078859  \n",
       "16        None  847.505081     0.148547  2352.424546  \n",
       "17     61.4662  651.526270     0.172360   912.555659  "
      ]
     },
     "execution_count": 53,
     "metadata": {},
     "output_type": "execute_result"
    }
   ],
   "source": [
    "df"
   ]
  },
  {
   "cell_type": "code",
   "execution_count": 54,
   "id": "7653fd36",
   "metadata": {
    "execution": {
     "iopub.execute_input": "2022-08-23T06:58:32.180637Z",
     "iopub.status.busy": "2022-08-23T06:58:32.180133Z",
     "iopub.status.idle": "2022-08-23T06:58:32.203677Z",
     "shell.execute_reply": "2022-08-23T06:58:32.201772Z"
    },
    "papermill": {
     "duration": 0.612317,
     "end_time": "2022-08-23T06:58:32.206189",
     "exception": false,
     "start_time": "2022-08-23T06:58:31.593872",
     "status": "completed"
    },
    "tags": []
   },
   "outputs": [
    {
     "name": "stdout",
     "output_type": "stream",
     "text": [
      "<class 'pandas.core.frame.DataFrame'>\n",
      "RangeIndex: 18 entries, 0 to 17\n",
      "Data columns (total 11 columns):\n",
      " #   Column       Non-Null Count  Dtype  \n",
      "---  ------       --------------  -----  \n",
      " 0   index        18 non-null     object \n",
      " 1   M            18 non-null     object \n",
      " 2   nprobe       18 non-null     float64\n",
      " 3   nsegment     18 non-null     float64\n",
      " 4   recall@1     18 non-null     float64\n",
      " 5   recall@3     18 non-null     float64\n",
      " 6   recall@5     18 non-null     float64\n",
      " 7   train_time   17 non-null     object \n",
      " 8   index_time   18 non-null     float64\n",
      " 9   search_time  18 non-null     float64\n",
      " 10  index_size   18 non-null     float64\n",
      "dtypes: float64(8), object(3)\n",
      "memory usage: 1.7+ KB\n"
     ]
    }
   ],
   "source": [
    "df.info()"
   ]
  },
  {
   "cell_type": "code",
   "execution_count": 55,
   "id": "9d3038c1",
   "metadata": {
    "execution": {
     "iopub.execute_input": "2022-08-23T06:58:33.591910Z",
     "iopub.status.busy": "2022-08-23T06:58:33.591519Z",
     "iopub.status.idle": "2022-08-23T06:58:33.599063Z",
     "shell.execute_reply": "2022-08-23T06:58:33.598050Z"
    },
    "papermill": {
     "duration": 0.624891,
     "end_time": "2022-08-23T06:58:33.601134",
     "exception": false,
     "start_time": "2022-08-23T06:58:32.976243",
     "status": "completed"
    },
    "tags": []
   },
   "outputs": [],
   "source": [
    "df[\"M\"] = df[\"M\"].fillna(0.0).astype(int)\n",
    "df[\"nprobe\"] = df[\"nprobe\"].fillna(0.0).astype(int)\n",
    "df[\"nsegment\"] = df[\"nsegment\"].fillna(0.0).astype(int)"
   ]
  },
  {
   "cell_type": "code",
   "execution_count": 56,
   "id": "0d00f1b2",
   "metadata": {
    "execution": {
     "iopub.execute_input": "2022-08-23T06:58:34.729335Z",
     "iopub.status.busy": "2022-08-23T06:58:34.728942Z",
     "iopub.status.idle": "2022-08-23T06:58:34.734671Z",
     "shell.execute_reply": "2022-08-23T06:58:34.733772Z"
    },
    "papermill": {
     "duration": 0.565463,
     "end_time": "2022-08-23T06:58:34.736630",
     "exception": false,
     "start_time": "2022-08-23T06:58:34.171167",
     "status": "completed"
    },
    "tags": []
   },
   "outputs": [],
   "source": [
    "colors_gorb = ['#2CA02C', '#FF7F0E', '#D62728', '#1F77B4']   # green, orange, red, blue"
   ]
  },
  {
   "cell_type": "code",
   "execution_count": 57,
   "id": "2c8e5a61",
   "metadata": {
    "execution": {
     "iopub.execute_input": "2022-08-23T06:58:35.917339Z",
     "iopub.status.busy": "2022-08-23T06:58:35.916963Z",
     "iopub.status.idle": "2022-08-23T06:58:36.033890Z",
     "shell.execute_reply": "2022-08-23T06:58:36.032883Z"
    },
    "papermill": {
     "duration": 0.680806,
     "end_time": "2022-08-23T06:58:36.036027",
     "exception": false,
     "start_time": "2022-08-23T06:58:35.355221",
     "status": "completed"
    },
    "tags": []
   },
   "outputs": [
    {
     "data": {
      "text/html": [
       "<div>                            <div id=\"f91d2c2b-e4c9-46e5-8ea7-ad4c46301e7d\" class=\"plotly-graph-div\" style=\"height:350px; width:550px;\"></div>            <script type=\"text/javascript\">                require([\"plotly\"], function(Plotly) {                    window.PLOTLYENV=window.PLOTLYENV || {};                                    if (document.getElementById(\"f91d2c2b-e4c9-46e5-8ea7-ad4c46301e7d\")) {                    Plotly.newPlot(                        \"f91d2c2b-e4c9-46e5-8ea7-ad4c46301e7d\",                        [{\"hovertemplate\":\"index=IVF65536_HNSW32,PQ32<br>nprobe=%{x}<br>search time (ms/query)=%{y}<extra></extra>\",\"legendgroup\":\"IVF65536_HNSW32,PQ32\",\"line\":{\"color\":\"#2CA02C\",\"dash\":\"solid\"},\"marker\":{\"symbol\":\"circle\",\"size\":8,\"color\":\"#2CA02C\"},\"mode\":\"markers+lines\",\"name\":\"IVF65536_HNSW32,PQ32\",\"orientation\":\"v\",\"showlegend\":true,\"x\":[1,8,16,64,128,256,512,1024],\"xaxis\":\"x\",\"y\":[0.006558656692504883,0.006396770477294922,0.008128881454467773,0.018360614776611328,0.03336906433105469,0.07849407196044922,0.19404172897338867,0.5037136077880859],\"yaxis\":\"y\",\"type\":\"scatter\"},{\"hovertemplate\":\"index=IVF65536_HNSW32,Flat<br>nprobe=%{x}<br>search time (ms/query)=%{y}<extra></extra>\",\"legendgroup\":\"IVF65536_HNSW32,Flat\",\"line\":{\"color\":\"#FF7F0E\",\"dash\":\"solid\"},\"marker\":{\"symbol\":\"circle\",\"size\":8,\"color\":\"#FF7F0E\"},\"mode\":\"markers+lines\",\"name\":\"IVF65536_HNSW32,Flat\",\"orientation\":\"v\",\"showlegend\":true,\"x\":[1,8,16,64,128,256,512,1024],\"xaxis\":\"x\",\"y\":[0.009613513946533203,0.010900735855102539,0.016057729721069336,0.03500223159790039,0.05547833442687988,0.08893918991088867,0.14510154724121094,0.24186110496520996],\"yaxis\":\"y\",\"type\":\"scatter\"}],                        {\"template\":{\"data\":{\"barpolar\":[{\"marker\":{\"line\":{\"color\":\"white\",\"width\":0.5},\"pattern\":{\"fillmode\":\"overlay\",\"size\":10,\"solidity\":0.2}},\"type\":\"barpolar\"}],\"bar\":[{\"error_x\":{\"color\":\"rgb(36,36,36)\"},\"error_y\":{\"color\":\"rgb(36,36,36)\"},\"marker\":{\"line\":{\"color\":\"white\",\"width\":0.5},\"pattern\":{\"fillmode\":\"overlay\",\"size\":10,\"solidity\":0.2}},\"type\":\"bar\"}],\"carpet\":[{\"aaxis\":{\"endlinecolor\":\"rgb(36,36,36)\",\"gridcolor\":\"white\",\"linecolor\":\"white\",\"minorgridcolor\":\"white\",\"startlinecolor\":\"rgb(36,36,36)\"},\"baxis\":{\"endlinecolor\":\"rgb(36,36,36)\",\"gridcolor\":\"white\",\"linecolor\":\"white\",\"minorgridcolor\":\"white\",\"startlinecolor\":\"rgb(36,36,36)\"},\"type\":\"carpet\"}],\"choropleth\":[{\"colorbar\":{\"outlinewidth\":1,\"tickcolor\":\"rgb(36,36,36)\",\"ticks\":\"outside\"},\"type\":\"choropleth\"}],\"contourcarpet\":[{\"colorbar\":{\"outlinewidth\":1,\"tickcolor\":\"rgb(36,36,36)\",\"ticks\":\"outside\"},\"type\":\"contourcarpet\"}],\"contour\":[{\"colorbar\":{\"outlinewidth\":1,\"tickcolor\":\"rgb(36,36,36)\",\"ticks\":\"outside\"},\"colorscale\":[[0.0,\"#440154\"],[0.1111111111111111,\"#482878\"],[0.2222222222222222,\"#3e4989\"],[0.3333333333333333,\"#31688e\"],[0.4444444444444444,\"#26828e\"],[0.5555555555555556,\"#1f9e89\"],[0.6666666666666666,\"#35b779\"],[0.7777777777777778,\"#6ece58\"],[0.8888888888888888,\"#b5de2b\"],[1.0,\"#fde725\"]],\"type\":\"contour\"}],\"heatmapgl\":[{\"colorbar\":{\"outlinewidth\":1,\"tickcolor\":\"rgb(36,36,36)\",\"ticks\":\"outside\"},\"colorscale\":[[0.0,\"#440154\"],[0.1111111111111111,\"#482878\"],[0.2222222222222222,\"#3e4989\"],[0.3333333333333333,\"#31688e\"],[0.4444444444444444,\"#26828e\"],[0.5555555555555556,\"#1f9e89\"],[0.6666666666666666,\"#35b779\"],[0.7777777777777778,\"#6ece58\"],[0.8888888888888888,\"#b5de2b\"],[1.0,\"#fde725\"]],\"type\":\"heatmapgl\"}],\"heatmap\":[{\"colorbar\":{\"outlinewidth\":1,\"tickcolor\":\"rgb(36,36,36)\",\"ticks\":\"outside\"},\"colorscale\":[[0.0,\"#440154\"],[0.1111111111111111,\"#482878\"],[0.2222222222222222,\"#3e4989\"],[0.3333333333333333,\"#31688e\"],[0.4444444444444444,\"#26828e\"],[0.5555555555555556,\"#1f9e89\"],[0.6666666666666666,\"#35b779\"],[0.7777777777777778,\"#6ece58\"],[0.8888888888888888,\"#b5de2b\"],[1.0,\"#fde725\"]],\"type\":\"heatmap\"}],\"histogram2dcontour\":[{\"colorbar\":{\"outlinewidth\":1,\"tickcolor\":\"rgb(36,36,36)\",\"ticks\":\"outside\"},\"colorscale\":[[0.0,\"#440154\"],[0.1111111111111111,\"#482878\"],[0.2222222222222222,\"#3e4989\"],[0.3333333333333333,\"#31688e\"],[0.4444444444444444,\"#26828e\"],[0.5555555555555556,\"#1f9e89\"],[0.6666666666666666,\"#35b779\"],[0.7777777777777778,\"#6ece58\"],[0.8888888888888888,\"#b5de2b\"],[1.0,\"#fde725\"]],\"type\":\"histogram2dcontour\"}],\"histogram2d\":[{\"colorbar\":{\"outlinewidth\":1,\"tickcolor\":\"rgb(36,36,36)\",\"ticks\":\"outside\"},\"colorscale\":[[0.0,\"#440154\"],[0.1111111111111111,\"#482878\"],[0.2222222222222222,\"#3e4989\"],[0.3333333333333333,\"#31688e\"],[0.4444444444444444,\"#26828e\"],[0.5555555555555556,\"#1f9e89\"],[0.6666666666666666,\"#35b779\"],[0.7777777777777778,\"#6ece58\"],[0.8888888888888888,\"#b5de2b\"],[1.0,\"#fde725\"]],\"type\":\"histogram2d\"}],\"histogram\":[{\"marker\":{\"line\":{\"color\":\"white\",\"width\":0.6}},\"type\":\"histogram\"}],\"mesh3d\":[{\"colorbar\":{\"outlinewidth\":1,\"tickcolor\":\"rgb(36,36,36)\",\"ticks\":\"outside\"},\"type\":\"mesh3d\"}],\"parcoords\":[{\"line\":{\"colorbar\":{\"outlinewidth\":1,\"tickcolor\":\"rgb(36,36,36)\",\"ticks\":\"outside\"}},\"type\":\"parcoords\"}],\"pie\":[{\"automargin\":true,\"type\":\"pie\"}],\"scatter3d\":[{\"line\":{\"colorbar\":{\"outlinewidth\":1,\"tickcolor\":\"rgb(36,36,36)\",\"ticks\":\"outside\"}},\"marker\":{\"colorbar\":{\"outlinewidth\":1,\"tickcolor\":\"rgb(36,36,36)\",\"ticks\":\"outside\"}},\"type\":\"scatter3d\"}],\"scattercarpet\":[{\"marker\":{\"colorbar\":{\"outlinewidth\":1,\"tickcolor\":\"rgb(36,36,36)\",\"ticks\":\"outside\"}},\"type\":\"scattercarpet\"}],\"scattergeo\":[{\"marker\":{\"colorbar\":{\"outlinewidth\":1,\"tickcolor\":\"rgb(36,36,36)\",\"ticks\":\"outside\"}},\"type\":\"scattergeo\"}],\"scattergl\":[{\"marker\":{\"colorbar\":{\"outlinewidth\":1,\"tickcolor\":\"rgb(36,36,36)\",\"ticks\":\"outside\"}},\"type\":\"scattergl\"}],\"scattermapbox\":[{\"marker\":{\"colorbar\":{\"outlinewidth\":1,\"tickcolor\":\"rgb(36,36,36)\",\"ticks\":\"outside\"}},\"type\":\"scattermapbox\"}],\"scatterpolargl\":[{\"marker\":{\"colorbar\":{\"outlinewidth\":1,\"tickcolor\":\"rgb(36,36,36)\",\"ticks\":\"outside\"}},\"type\":\"scatterpolargl\"}],\"scatterpolar\":[{\"marker\":{\"colorbar\":{\"outlinewidth\":1,\"tickcolor\":\"rgb(36,36,36)\",\"ticks\":\"outside\"}},\"type\":\"scatterpolar\"}],\"scatter\":[{\"fillpattern\":{\"fillmode\":\"overlay\",\"size\":10,\"solidity\":0.2},\"type\":\"scatter\"}],\"scatterternary\":[{\"marker\":{\"colorbar\":{\"outlinewidth\":1,\"tickcolor\":\"rgb(36,36,36)\",\"ticks\":\"outside\"}},\"type\":\"scatterternary\"}],\"surface\":[{\"colorbar\":{\"outlinewidth\":1,\"tickcolor\":\"rgb(36,36,36)\",\"ticks\":\"outside\"},\"colorscale\":[[0.0,\"#440154\"],[0.1111111111111111,\"#482878\"],[0.2222222222222222,\"#3e4989\"],[0.3333333333333333,\"#31688e\"],[0.4444444444444444,\"#26828e\"],[0.5555555555555556,\"#1f9e89\"],[0.6666666666666666,\"#35b779\"],[0.7777777777777778,\"#6ece58\"],[0.8888888888888888,\"#b5de2b\"],[1.0,\"#fde725\"]],\"type\":\"surface\"}],\"table\":[{\"cells\":{\"fill\":{\"color\":\"rgb(237,237,237)\"},\"line\":{\"color\":\"white\"}},\"header\":{\"fill\":{\"color\":\"rgb(217,217,217)\"},\"line\":{\"color\":\"white\"}},\"type\":\"table\"}]},\"layout\":{\"annotationdefaults\":{\"arrowhead\":0,\"arrowwidth\":1},\"autotypenumbers\":\"strict\",\"coloraxis\":{\"colorbar\":{\"outlinewidth\":1,\"tickcolor\":\"rgb(36,36,36)\",\"ticks\":\"outside\"}},\"colorscale\":{\"diverging\":[[0.0,\"rgb(103,0,31)\"],[0.1,\"rgb(178,24,43)\"],[0.2,\"rgb(214,96,77)\"],[0.3,\"rgb(244,165,130)\"],[0.4,\"rgb(253,219,199)\"],[0.5,\"rgb(247,247,247)\"],[0.6,\"rgb(209,229,240)\"],[0.7,\"rgb(146,197,222)\"],[0.8,\"rgb(67,147,195)\"],[0.9,\"rgb(33,102,172)\"],[1.0,\"rgb(5,48,97)\"]],\"sequential\":[[0.0,\"#440154\"],[0.1111111111111111,\"#482878\"],[0.2222222222222222,\"#3e4989\"],[0.3333333333333333,\"#31688e\"],[0.4444444444444444,\"#26828e\"],[0.5555555555555556,\"#1f9e89\"],[0.6666666666666666,\"#35b779\"],[0.7777777777777778,\"#6ece58\"],[0.8888888888888888,\"#b5de2b\"],[1.0,\"#fde725\"]],\"sequentialminus\":[[0.0,\"#440154\"],[0.1111111111111111,\"#482878\"],[0.2222222222222222,\"#3e4989\"],[0.3333333333333333,\"#31688e\"],[0.4444444444444444,\"#26828e\"],[0.5555555555555556,\"#1f9e89\"],[0.6666666666666666,\"#35b779\"],[0.7777777777777778,\"#6ece58\"],[0.8888888888888888,\"#b5de2b\"],[1.0,\"#fde725\"]]},\"colorway\":[\"#1F77B4\",\"#FF7F0E\",\"#2CA02C\",\"#D62728\",\"#9467BD\",\"#8C564B\",\"#E377C2\",\"#7F7F7F\",\"#BCBD22\",\"#17BECF\"],\"font\":{\"color\":\"rgb(36,36,36)\"},\"geo\":{\"bgcolor\":\"white\",\"lakecolor\":\"white\",\"landcolor\":\"white\",\"showlakes\":true,\"showland\":true,\"subunitcolor\":\"white\"},\"hoverlabel\":{\"align\":\"left\"},\"hovermode\":\"closest\",\"mapbox\":{\"style\":\"light\"},\"paper_bgcolor\":\"white\",\"plot_bgcolor\":\"white\",\"polar\":{\"angularaxis\":{\"gridcolor\":\"rgb(232,232,232)\",\"linecolor\":\"rgb(36,36,36)\",\"showgrid\":false,\"showline\":true,\"ticks\":\"outside\"},\"bgcolor\":\"white\",\"radialaxis\":{\"gridcolor\":\"rgb(232,232,232)\",\"linecolor\":\"rgb(36,36,36)\",\"showgrid\":false,\"showline\":true,\"ticks\":\"outside\"}},\"scene\":{\"xaxis\":{\"backgroundcolor\":\"white\",\"gridcolor\":\"rgb(232,232,232)\",\"gridwidth\":2,\"linecolor\":\"rgb(36,36,36)\",\"showbackground\":true,\"showgrid\":false,\"showline\":true,\"ticks\":\"outside\",\"zeroline\":false,\"zerolinecolor\":\"rgb(36,36,36)\"},\"yaxis\":{\"backgroundcolor\":\"white\",\"gridcolor\":\"rgb(232,232,232)\",\"gridwidth\":2,\"linecolor\":\"rgb(36,36,36)\",\"showbackground\":true,\"showgrid\":false,\"showline\":true,\"ticks\":\"outside\",\"zeroline\":false,\"zerolinecolor\":\"rgb(36,36,36)\"},\"zaxis\":{\"backgroundcolor\":\"white\",\"gridcolor\":\"rgb(232,232,232)\",\"gridwidth\":2,\"linecolor\":\"rgb(36,36,36)\",\"showbackground\":true,\"showgrid\":false,\"showline\":true,\"ticks\":\"outside\",\"zeroline\":false,\"zerolinecolor\":\"rgb(36,36,36)\"}},\"shapedefaults\":{\"fillcolor\":\"black\",\"line\":{\"width\":0},\"opacity\":0.3},\"ternary\":{\"aaxis\":{\"gridcolor\":\"rgb(232,232,232)\",\"linecolor\":\"rgb(36,36,36)\",\"showgrid\":false,\"showline\":true,\"ticks\":\"outside\"},\"baxis\":{\"gridcolor\":\"rgb(232,232,232)\",\"linecolor\":\"rgb(36,36,36)\",\"showgrid\":false,\"showline\":true,\"ticks\":\"outside\"},\"bgcolor\":\"white\",\"caxis\":{\"gridcolor\":\"rgb(232,232,232)\",\"linecolor\":\"rgb(36,36,36)\",\"showgrid\":false,\"showline\":true,\"ticks\":\"outside\"}},\"title\":{\"x\":0.05},\"xaxis\":{\"automargin\":true,\"gridcolor\":\"rgb(232,232,232)\",\"linecolor\":\"rgb(36,36,36)\",\"showgrid\":false,\"showline\":true,\"ticks\":\"outside\",\"title\":{\"standoff\":15},\"zeroline\":false,\"zerolinecolor\":\"rgb(36,36,36)\"},\"yaxis\":{\"automargin\":true,\"gridcolor\":\"rgb(232,232,232)\",\"linecolor\":\"rgb(36,36,36)\",\"showgrid\":false,\"showline\":true,\"ticks\":\"outside\",\"title\":{\"standoff\":15},\"zeroline\":false,\"zerolinecolor\":\"rgb(36,36,36)\"}}},\"xaxis\":{\"anchor\":\"y\",\"domain\":[0.0,1.0],\"title\":{\"text\":\"nprobe\"},\"linecolor\":\"darkgrey\"},\"yaxis\":{\"anchor\":\"x\",\"domain\":[0.0,1.0],\"title\":{\"text\":\"search time (ms/query)\"},\"linecolor\":\"darkgrey\"},\"legend\":{\"title\":{\"text\":\"\"},\"tracegroupgap\":0,\"yanchor\":\"top\",\"y\":1,\"xanchor\":\"left\",\"x\":0.3,\"borderwidth\":1},\"margin\":{\"t\":60},\"height\":350,\"width\":550,\"shapes\":[{\"line\":{\"color\":\"#1F77B4\",\"dash\":\"dot\",\"width\":1},\"opacity\":1,\"type\":\"line\",\"x0\":0,\"x1\":1,\"xref\":\"x domain\",\"y0\":0.14854717254638672,\"y1\":0.14854717254638672,\"yref\":\"y\"},{\"line\":{\"color\":\"#D62728\",\"dash\":\"dot\",\"width\":1},\"opacity\":1,\"type\":\"line\",\"x0\":0,\"x1\":1,\"xref\":\"x domain\",\"y0\":0.17235994338989258,\"y1\":0.17235994338989258,\"yref\":\"y\"},{\"line\":{\"color\":\"grey\",\"dash\":\"dot\",\"width\":3},\"type\":\"line\",\"x0\":128,\"x1\":128,\"xref\":\"x\",\"y0\":0,\"y1\":1,\"yref\":\"y domain\"}],\"annotations\":[{\"font\":{\"color\":\"#1F77B4\"},\"showarrow\":false,\"text\":\"<I>HNSW32,Flat</I>\",\"x\":1,\"xanchor\":\"left\",\"xref\":\"x domain\",\"y\":0.14854717254638672,\"yanchor\":\"middle\",\"yref\":\"y\"},{\"font\":{\"color\":\"#D62728\"},\"showarrow\":false,\"text\":\"<I>HNSW32_PQ32</I>\",\"x\":1,\"xanchor\":\"left\",\"xref\":\"x domain\",\"y\":0.17235994338989258,\"yanchor\":\"middle\",\"yref\":\"y\"},{\"font\":{\"color\":\"darkgrey\"},\"showarrow\":false,\"text\":\"nprobe=128\",\"x\":128,\"xanchor\":\"center\",\"xref\":\"x\",\"y\":1,\"yanchor\":\"bottom\",\"yref\":\"y domain\"}]},                        {\"responsive\": true}                    ).then(function(){\n",
       "                            \n",
       "var gd = document.getElementById('f91d2c2b-e4c9-46e5-8ea7-ad4c46301e7d');\n",
       "var x = new MutationObserver(function (mutations, observer) {{\n",
       "        var display = window.getComputedStyle(gd).display;\n",
       "        if (!display || display === 'none') {{\n",
       "            console.log([gd, 'removed!']);\n",
       "            Plotly.purge(gd);\n",
       "            observer.disconnect();\n",
       "        }}\n",
       "}});\n",
       "\n",
       "// Listen for the removal of the full notebook cells\n",
       "var notebookContainer = gd.closest('#notebook-container');\n",
       "if (notebookContainer) {{\n",
       "    x.observe(notebookContainer, {childList: true});\n",
       "}}\n",
       "\n",
       "// Listen for the clearing of the current output cell\n",
       "var outputEl = gd.closest('.output');\n",
       "if (outputEl) {{\n",
       "    x.observe(outputEl, {childList: true});\n",
       "}}\n",
       "\n",
       "                        })                };                });            </script>        </div>"
      ]
     },
     "metadata": {},
     "output_type": "display_data"
    }
   ],
   "source": [
    "fig = px.line(df.query(\"nprobe>0\"), x=\"nprobe\", y=\"search_time\", color=\"index\", markers=True, height=350, width=550,\n",
    "             labels=dict(search_time=\"search time (ms/query)\",), template=\"simple_white\")\n",
    "fig.update_layout(legend_title=\"\", legend=dict(yanchor=\"top\", y=1, xanchor=\"left\", x=0.3, borderwidth=1)) # traceorder=\"reversed\", \n",
    "\n",
    "# Set unique marker style for different lines (https://plotly.com/python/marker-style/)\n",
    "line_styles = [\"solid\", \"solid\"]            # ['solid', 'dot', 'dash', 'longdash', 'dashdot', 'longdashdot']\n",
    "symbols = [\"circle\", \"circle\"]  \n",
    "sizes = [8, 8]\n",
    "\n",
    "for i, fdata in enumerate(fig.data):\n",
    "    fdata.marker.symbol = symbols[i]\n",
    "    fdata.marker.size = sizes[i]\n",
    "    fdata.marker.color = colors_gorb[i]\n",
    "    fdata.line.color = colors_gorb[i]\n",
    "    fdata.line.dash = line_styles[i]    \n",
    "\n",
    "# Getting the search time for HNSW Flat and HNSW PQ to draw the horizontal lines for reference.\n",
    "hnsw_flat = df[df[\"index\"]==\"HNSW32,Flat\"][\"search_time\"].values[0]\n",
    "hnsw_pq = df[df[\"index\"]==\"HNSW32_PQ32\"][\"search_time\"].values[0]\n",
    "\n",
    "diff = abs(hnsw_flat - hnsw_pq)\n",
    "if diff < 0.022:\n",
    "    if hnsw_flat > hnsw_pq:\n",
    "        hnsw_flat_position = \"top right\"\n",
    "        hnsw_pq_position = \"bottom right\"\n",
    "    else:\n",
    "        hnsw_flat_position = \"bottom right\"\n",
    "        hnsw_pq_position = \"top right\"\n",
    "else:\n",
    "    hnsw_flat_position = \"right\"\n",
    "    hnsw_pq_position = \"right\"\n",
    "\n",
    "fig.add_hline(y=hnsw_flat, line_width=1, line_dash=\"dot\", line_color=\"#1F77B4\", opacity=1,\n",
    "              annotation_text=\"<I>HNSW32,Flat</I>\", annotation_position=hnsw_flat_position, annotation_font=dict(color=\"#1F77B4\"))\n",
    "\n",
    "fig.add_hline(y=hnsw_pq, line_width=1, line_dash=\"dot\", line_color=\"#D62728\", opacity=1,\n",
    "              annotation_text=\"<I>HNSW32_PQ32</I>\", annotation_position=hnsw_pq_position, annotation_font=dict(color=\"#D62728\"))\n",
    "\n",
    "fig.add_vline(x=128, line_width=3, line_dash=\"dot\", line_color=\"grey\", \n",
    "              annotation_text=\"nprobe=128\", annotation_position=\"top\", annotation_font=dict(color=\"darkgrey\"))\n",
    "fig.update_xaxes(linecolor='darkgrey')\n",
    "fig.update_yaxes(linecolor='darkgrey')\n",
    "fig.show()\n",
    "fig.write_html(\"nprobe_search.html\")"
   ]
  },
  {
   "cell_type": "code",
   "execution_count": 58,
   "id": "51bf553d",
   "metadata": {
    "execution": {
     "iopub.execute_input": "2022-08-23T06:58:37.175778Z",
     "iopub.status.busy": "2022-08-23T06:58:37.175394Z",
     "iopub.status.idle": "2022-08-23T06:58:37.282294Z",
     "shell.execute_reply": "2022-08-23T06:58:37.281195Z"
    },
    "papermill": {
     "duration": 0.694616,
     "end_time": "2022-08-23T06:58:37.284606",
     "exception": false,
     "start_time": "2022-08-23T06:58:36.589990",
     "status": "completed"
    },
    "tags": []
   },
   "outputs": [
    {
     "data": {
      "text/html": [
       "<div>                            <div id=\"fbbc750e-aadf-4963-8ba5-c2040c218d28\" class=\"plotly-graph-div\" style=\"height:350px; width:550px;\"></div>            <script type=\"text/javascript\">                require([\"plotly\"], function(Plotly) {                    window.PLOTLYENV=window.PLOTLYENV || {};                                    if (document.getElementById(\"fbbc750e-aadf-4963-8ba5-c2040c218d28\")) {                    Plotly.newPlot(                        \"fbbc750e-aadf-4963-8ba5-c2040c218d28\",                        [{\"hovertemplate\":\"index=IVF65536_HNSW32,PQ32<br>nprobe=%{x}<br>recall@3=%{y}<extra></extra>\",\"legendgroup\":\"IVF65536_HNSW32,PQ32\",\"line\":{\"color\":\"#2CA02C\",\"dash\":\"solid\"},\"marker\":{\"symbol\":\"circle\",\"size\":8,\"color\":\"#2CA02C\"},\"mode\":\"markers+lines\",\"name\":\"IVF65536_HNSW32,PQ32\",\"orientation\":\"v\",\"showlegend\":true,\"x\":[1,8,16,64,128,256,512,1024],\"xaxis\":\"x\",\"y\":[0.177,0.437,0.536,0.712,0.765,0.804,0.831,0.848],\"yaxis\":\"y\",\"type\":\"scatter\"},{\"hovertemplate\":\"index=IVF65536_HNSW32,Flat<br>nprobe=%{x}<br>recall@3=%{y}<extra></extra>\",\"legendgroup\":\"IVF65536_HNSW32,Flat\",\"line\":{\"color\":\"#FF7F0E\",\"dash\":\"solid\"},\"marker\":{\"symbol\":\"circle\",\"size\":8,\"color\":\"#FF7F0E\"},\"mode\":\"markers+lines\",\"name\":\"IVF65536_HNSW32,Flat\",\"orientation\":\"v\",\"showlegend\":true,\"x\":[1,8,16,64,128,256,512,1024],\"xaxis\":\"x\",\"y\":[0.181,0.455,0.564,0.768,0.84,0.904,0.944,0.975],\"yaxis\":\"y\",\"type\":\"scatter\"}],                        {\"template\":{\"data\":{\"barpolar\":[{\"marker\":{\"line\":{\"color\":\"white\",\"width\":0.5},\"pattern\":{\"fillmode\":\"overlay\",\"size\":10,\"solidity\":0.2}},\"type\":\"barpolar\"}],\"bar\":[{\"error_x\":{\"color\":\"rgb(36,36,36)\"},\"error_y\":{\"color\":\"rgb(36,36,36)\"},\"marker\":{\"line\":{\"color\":\"white\",\"width\":0.5},\"pattern\":{\"fillmode\":\"overlay\",\"size\":10,\"solidity\":0.2}},\"type\":\"bar\"}],\"carpet\":[{\"aaxis\":{\"endlinecolor\":\"rgb(36,36,36)\",\"gridcolor\":\"white\",\"linecolor\":\"white\",\"minorgridcolor\":\"white\",\"startlinecolor\":\"rgb(36,36,36)\"},\"baxis\":{\"endlinecolor\":\"rgb(36,36,36)\",\"gridcolor\":\"white\",\"linecolor\":\"white\",\"minorgridcolor\":\"white\",\"startlinecolor\":\"rgb(36,36,36)\"},\"type\":\"carpet\"}],\"choropleth\":[{\"colorbar\":{\"outlinewidth\":1,\"tickcolor\":\"rgb(36,36,36)\",\"ticks\":\"outside\"},\"type\":\"choropleth\"}],\"contourcarpet\":[{\"colorbar\":{\"outlinewidth\":1,\"tickcolor\":\"rgb(36,36,36)\",\"ticks\":\"outside\"},\"type\":\"contourcarpet\"}],\"contour\":[{\"colorbar\":{\"outlinewidth\":1,\"tickcolor\":\"rgb(36,36,36)\",\"ticks\":\"outside\"},\"colorscale\":[[0.0,\"#440154\"],[0.1111111111111111,\"#482878\"],[0.2222222222222222,\"#3e4989\"],[0.3333333333333333,\"#31688e\"],[0.4444444444444444,\"#26828e\"],[0.5555555555555556,\"#1f9e89\"],[0.6666666666666666,\"#35b779\"],[0.7777777777777778,\"#6ece58\"],[0.8888888888888888,\"#b5de2b\"],[1.0,\"#fde725\"]],\"type\":\"contour\"}],\"heatmapgl\":[{\"colorbar\":{\"outlinewidth\":1,\"tickcolor\":\"rgb(36,36,36)\",\"ticks\":\"outside\"},\"colorscale\":[[0.0,\"#440154\"],[0.1111111111111111,\"#482878\"],[0.2222222222222222,\"#3e4989\"],[0.3333333333333333,\"#31688e\"],[0.4444444444444444,\"#26828e\"],[0.5555555555555556,\"#1f9e89\"],[0.6666666666666666,\"#35b779\"],[0.7777777777777778,\"#6ece58\"],[0.8888888888888888,\"#b5de2b\"],[1.0,\"#fde725\"]],\"type\":\"heatmapgl\"}],\"heatmap\":[{\"colorbar\":{\"outlinewidth\":1,\"tickcolor\":\"rgb(36,36,36)\",\"ticks\":\"outside\"},\"colorscale\":[[0.0,\"#440154\"],[0.1111111111111111,\"#482878\"],[0.2222222222222222,\"#3e4989\"],[0.3333333333333333,\"#31688e\"],[0.4444444444444444,\"#26828e\"],[0.5555555555555556,\"#1f9e89\"],[0.6666666666666666,\"#35b779\"],[0.7777777777777778,\"#6ece58\"],[0.8888888888888888,\"#b5de2b\"],[1.0,\"#fde725\"]],\"type\":\"heatmap\"}],\"histogram2dcontour\":[{\"colorbar\":{\"outlinewidth\":1,\"tickcolor\":\"rgb(36,36,36)\",\"ticks\":\"outside\"},\"colorscale\":[[0.0,\"#440154\"],[0.1111111111111111,\"#482878\"],[0.2222222222222222,\"#3e4989\"],[0.3333333333333333,\"#31688e\"],[0.4444444444444444,\"#26828e\"],[0.5555555555555556,\"#1f9e89\"],[0.6666666666666666,\"#35b779\"],[0.7777777777777778,\"#6ece58\"],[0.8888888888888888,\"#b5de2b\"],[1.0,\"#fde725\"]],\"type\":\"histogram2dcontour\"}],\"histogram2d\":[{\"colorbar\":{\"outlinewidth\":1,\"tickcolor\":\"rgb(36,36,36)\",\"ticks\":\"outside\"},\"colorscale\":[[0.0,\"#440154\"],[0.1111111111111111,\"#482878\"],[0.2222222222222222,\"#3e4989\"],[0.3333333333333333,\"#31688e\"],[0.4444444444444444,\"#26828e\"],[0.5555555555555556,\"#1f9e89\"],[0.6666666666666666,\"#35b779\"],[0.7777777777777778,\"#6ece58\"],[0.8888888888888888,\"#b5de2b\"],[1.0,\"#fde725\"]],\"type\":\"histogram2d\"}],\"histogram\":[{\"marker\":{\"line\":{\"color\":\"white\",\"width\":0.6}},\"type\":\"histogram\"}],\"mesh3d\":[{\"colorbar\":{\"outlinewidth\":1,\"tickcolor\":\"rgb(36,36,36)\",\"ticks\":\"outside\"},\"type\":\"mesh3d\"}],\"parcoords\":[{\"line\":{\"colorbar\":{\"outlinewidth\":1,\"tickcolor\":\"rgb(36,36,36)\",\"ticks\":\"outside\"}},\"type\":\"parcoords\"}],\"pie\":[{\"automargin\":true,\"type\":\"pie\"}],\"scatter3d\":[{\"line\":{\"colorbar\":{\"outlinewidth\":1,\"tickcolor\":\"rgb(36,36,36)\",\"ticks\":\"outside\"}},\"marker\":{\"colorbar\":{\"outlinewidth\":1,\"tickcolor\":\"rgb(36,36,36)\",\"ticks\":\"outside\"}},\"type\":\"scatter3d\"}],\"scattercarpet\":[{\"marker\":{\"colorbar\":{\"outlinewidth\":1,\"tickcolor\":\"rgb(36,36,36)\",\"ticks\":\"outside\"}},\"type\":\"scattercarpet\"}],\"scattergeo\":[{\"marker\":{\"colorbar\":{\"outlinewidth\":1,\"tickcolor\":\"rgb(36,36,36)\",\"ticks\":\"outside\"}},\"type\":\"scattergeo\"}],\"scattergl\":[{\"marker\":{\"colorbar\":{\"outlinewidth\":1,\"tickcolor\":\"rgb(36,36,36)\",\"ticks\":\"outside\"}},\"type\":\"scattergl\"}],\"scattermapbox\":[{\"marker\":{\"colorbar\":{\"outlinewidth\":1,\"tickcolor\":\"rgb(36,36,36)\",\"ticks\":\"outside\"}},\"type\":\"scattermapbox\"}],\"scatterpolargl\":[{\"marker\":{\"colorbar\":{\"outlinewidth\":1,\"tickcolor\":\"rgb(36,36,36)\",\"ticks\":\"outside\"}},\"type\":\"scatterpolargl\"}],\"scatterpolar\":[{\"marker\":{\"colorbar\":{\"outlinewidth\":1,\"tickcolor\":\"rgb(36,36,36)\",\"ticks\":\"outside\"}},\"type\":\"scatterpolar\"}],\"scatter\":[{\"fillpattern\":{\"fillmode\":\"overlay\",\"size\":10,\"solidity\":0.2},\"type\":\"scatter\"}],\"scatterternary\":[{\"marker\":{\"colorbar\":{\"outlinewidth\":1,\"tickcolor\":\"rgb(36,36,36)\",\"ticks\":\"outside\"}},\"type\":\"scatterternary\"}],\"surface\":[{\"colorbar\":{\"outlinewidth\":1,\"tickcolor\":\"rgb(36,36,36)\",\"ticks\":\"outside\"},\"colorscale\":[[0.0,\"#440154\"],[0.1111111111111111,\"#482878\"],[0.2222222222222222,\"#3e4989\"],[0.3333333333333333,\"#31688e\"],[0.4444444444444444,\"#26828e\"],[0.5555555555555556,\"#1f9e89\"],[0.6666666666666666,\"#35b779\"],[0.7777777777777778,\"#6ece58\"],[0.8888888888888888,\"#b5de2b\"],[1.0,\"#fde725\"]],\"type\":\"surface\"}],\"table\":[{\"cells\":{\"fill\":{\"color\":\"rgb(237,237,237)\"},\"line\":{\"color\":\"white\"}},\"header\":{\"fill\":{\"color\":\"rgb(217,217,217)\"},\"line\":{\"color\":\"white\"}},\"type\":\"table\"}]},\"layout\":{\"annotationdefaults\":{\"arrowhead\":0,\"arrowwidth\":1},\"autotypenumbers\":\"strict\",\"coloraxis\":{\"colorbar\":{\"outlinewidth\":1,\"tickcolor\":\"rgb(36,36,36)\",\"ticks\":\"outside\"}},\"colorscale\":{\"diverging\":[[0.0,\"rgb(103,0,31)\"],[0.1,\"rgb(178,24,43)\"],[0.2,\"rgb(214,96,77)\"],[0.3,\"rgb(244,165,130)\"],[0.4,\"rgb(253,219,199)\"],[0.5,\"rgb(247,247,247)\"],[0.6,\"rgb(209,229,240)\"],[0.7,\"rgb(146,197,222)\"],[0.8,\"rgb(67,147,195)\"],[0.9,\"rgb(33,102,172)\"],[1.0,\"rgb(5,48,97)\"]],\"sequential\":[[0.0,\"#440154\"],[0.1111111111111111,\"#482878\"],[0.2222222222222222,\"#3e4989\"],[0.3333333333333333,\"#31688e\"],[0.4444444444444444,\"#26828e\"],[0.5555555555555556,\"#1f9e89\"],[0.6666666666666666,\"#35b779\"],[0.7777777777777778,\"#6ece58\"],[0.8888888888888888,\"#b5de2b\"],[1.0,\"#fde725\"]],\"sequentialminus\":[[0.0,\"#440154\"],[0.1111111111111111,\"#482878\"],[0.2222222222222222,\"#3e4989\"],[0.3333333333333333,\"#31688e\"],[0.4444444444444444,\"#26828e\"],[0.5555555555555556,\"#1f9e89\"],[0.6666666666666666,\"#35b779\"],[0.7777777777777778,\"#6ece58\"],[0.8888888888888888,\"#b5de2b\"],[1.0,\"#fde725\"]]},\"colorway\":[\"#1F77B4\",\"#FF7F0E\",\"#2CA02C\",\"#D62728\",\"#9467BD\",\"#8C564B\",\"#E377C2\",\"#7F7F7F\",\"#BCBD22\",\"#17BECF\"],\"font\":{\"color\":\"rgb(36,36,36)\"},\"geo\":{\"bgcolor\":\"white\",\"lakecolor\":\"white\",\"landcolor\":\"white\",\"showlakes\":true,\"showland\":true,\"subunitcolor\":\"white\"},\"hoverlabel\":{\"align\":\"left\"},\"hovermode\":\"closest\",\"mapbox\":{\"style\":\"light\"},\"paper_bgcolor\":\"white\",\"plot_bgcolor\":\"white\",\"polar\":{\"angularaxis\":{\"gridcolor\":\"rgb(232,232,232)\",\"linecolor\":\"rgb(36,36,36)\",\"showgrid\":false,\"showline\":true,\"ticks\":\"outside\"},\"bgcolor\":\"white\",\"radialaxis\":{\"gridcolor\":\"rgb(232,232,232)\",\"linecolor\":\"rgb(36,36,36)\",\"showgrid\":false,\"showline\":true,\"ticks\":\"outside\"}},\"scene\":{\"xaxis\":{\"backgroundcolor\":\"white\",\"gridcolor\":\"rgb(232,232,232)\",\"gridwidth\":2,\"linecolor\":\"rgb(36,36,36)\",\"showbackground\":true,\"showgrid\":false,\"showline\":true,\"ticks\":\"outside\",\"zeroline\":false,\"zerolinecolor\":\"rgb(36,36,36)\"},\"yaxis\":{\"backgroundcolor\":\"white\",\"gridcolor\":\"rgb(232,232,232)\",\"gridwidth\":2,\"linecolor\":\"rgb(36,36,36)\",\"showbackground\":true,\"showgrid\":false,\"showline\":true,\"ticks\":\"outside\",\"zeroline\":false,\"zerolinecolor\":\"rgb(36,36,36)\"},\"zaxis\":{\"backgroundcolor\":\"white\",\"gridcolor\":\"rgb(232,232,232)\",\"gridwidth\":2,\"linecolor\":\"rgb(36,36,36)\",\"showbackground\":true,\"showgrid\":false,\"showline\":true,\"ticks\":\"outside\",\"zeroline\":false,\"zerolinecolor\":\"rgb(36,36,36)\"}},\"shapedefaults\":{\"fillcolor\":\"black\",\"line\":{\"width\":0},\"opacity\":0.3},\"ternary\":{\"aaxis\":{\"gridcolor\":\"rgb(232,232,232)\",\"linecolor\":\"rgb(36,36,36)\",\"showgrid\":false,\"showline\":true,\"ticks\":\"outside\"},\"baxis\":{\"gridcolor\":\"rgb(232,232,232)\",\"linecolor\":\"rgb(36,36,36)\",\"showgrid\":false,\"showline\":true,\"ticks\":\"outside\"},\"bgcolor\":\"white\",\"caxis\":{\"gridcolor\":\"rgb(232,232,232)\",\"linecolor\":\"rgb(36,36,36)\",\"showgrid\":false,\"showline\":true,\"ticks\":\"outside\"}},\"title\":{\"x\":0.05},\"xaxis\":{\"automargin\":true,\"gridcolor\":\"rgb(232,232,232)\",\"linecolor\":\"rgb(36,36,36)\",\"showgrid\":false,\"showline\":true,\"ticks\":\"outside\",\"title\":{\"standoff\":15},\"zeroline\":false,\"zerolinecolor\":\"rgb(36,36,36)\"},\"yaxis\":{\"automargin\":true,\"gridcolor\":\"rgb(232,232,232)\",\"linecolor\":\"rgb(36,36,36)\",\"showgrid\":false,\"showline\":true,\"ticks\":\"outside\",\"title\":{\"standoff\":15},\"zeroline\":false,\"zerolinecolor\":\"rgb(36,36,36)\"}}},\"xaxis\":{\"anchor\":\"y\",\"domain\":[0.0,1.0],\"title\":{\"text\":\"nprobe\"},\"linecolor\":\"darkgrey\"},\"yaxis\":{\"anchor\":\"x\",\"domain\":[0.0,1.0],\"title\":{\"text\":\"1-recall@3\"},\"linecolor\":\"darkgrey\"},\"legend\":{\"title\":{\"text\":\"\"},\"tracegroupgap\":0,\"yanchor\":\"bottom\",\"y\":0.1,\"xanchor\":\"right\",\"x\":0.9,\"borderwidth\":1,\"traceorder\":\"reversed\"},\"margin\":{\"t\":60},\"height\":350,\"width\":550,\"shapes\":[{\"line\":{\"color\":\"grey\",\"dash\":\"dot\",\"width\":3},\"type\":\"line\",\"x0\":128,\"x1\":128,\"xref\":\"x\",\"y0\":0,\"y1\":1,\"yref\":\"y domain\"},{\"line\":{\"color\":\"#1F77B4\",\"dash\":\"dot\",\"width\":1},\"opacity\":1,\"type\":\"line\",\"x0\":0,\"x1\":1,\"xref\":\"x domain\",\"y0\":0.854,\"y1\":0.854,\"yref\":\"y\"},{\"line\":{\"color\":\"#D62728\",\"dash\":\"dot\",\"width\":1},\"opacity\":1,\"type\":\"line\",\"x0\":0,\"x1\":1,\"xref\":\"x domain\",\"y0\":0.793,\"y1\":0.793,\"yref\":\"y\"}],\"annotations\":[{\"font\":{\"color\":\"darkgrey\"},\"showarrow\":false,\"text\":\"nprobe=128\",\"x\":128,\"xanchor\":\"center\",\"xref\":\"x\",\"y\":1,\"yanchor\":\"bottom\",\"yref\":\"y domain\"},{\"font\":{\"color\":\"#1F77B4\"},\"showarrow\":false,\"text\":\"<I>HNSW32,Flat</I>\",\"x\":1,\"xanchor\":\"left\",\"xref\":\"x domain\",\"y\":0.854,\"yanchor\":\"middle\",\"yref\":\"y\"},{\"font\":{\"color\":\"#D62728\"},\"showarrow\":false,\"text\":\"<I>HNSW32_PQ32</I>\",\"x\":1,\"xanchor\":\"left\",\"xref\":\"x domain\",\"y\":0.793,\"yanchor\":\"middle\",\"yref\":\"y\"}]},                        {\"responsive\": true}                    ).then(function(){\n",
       "                            \n",
       "var gd = document.getElementById('fbbc750e-aadf-4963-8ba5-c2040c218d28');\n",
       "var x = new MutationObserver(function (mutations, observer) {{\n",
       "        var display = window.getComputedStyle(gd).display;\n",
       "        if (!display || display === 'none') {{\n",
       "            console.log([gd, 'removed!']);\n",
       "            Plotly.purge(gd);\n",
       "            observer.disconnect();\n",
       "        }}\n",
       "}});\n",
       "\n",
       "// Listen for the removal of the full notebook cells\n",
       "var notebookContainer = gd.closest('#notebook-container');\n",
       "if (notebookContainer) {{\n",
       "    x.observe(notebookContainer, {childList: true});\n",
       "}}\n",
       "\n",
       "// Listen for the clearing of the current output cell\n",
       "var outputEl = gd.closest('.output');\n",
       "if (outputEl) {{\n",
       "    x.observe(outputEl, {childList: true});\n",
       "}}\n",
       "\n",
       "                        })                };                });            </script>        </div>"
      ]
     },
     "metadata": {},
     "output_type": "display_data"
    }
   ],
   "source": [
    "fig = px.line(df.query(\"nprobe>0\"), x=\"nprobe\", y=\"recall@3\", color=\"index\", markers=True, height=350, width=550, template=\"simple_white\")\n",
    "fig.update_layout(yaxis_title_text=\"1-recall@3\",\n",
    "                  legend_title=\"\", legend=dict(yanchor=\"bottom\", y=0.1, xanchor=\"right\", x=0.9, borderwidth=1, traceorder=\"reversed\")) # traceorder=\"reversed\", \n",
    "\n",
    "# Set unique marker style for different lines (https://plotly.com/python/marker-style/)\n",
    "line_styles = [\"solid\", \"solid\"]            # ['solid', 'dot', 'dash', 'longdash', 'dashdot', 'longdashdot']\n",
    "symbols = [\"circle\", \"circle\"]  \n",
    "sizes = [8, 8]\n",
    "\n",
    "for i, fdata in enumerate(fig.data):\n",
    "    fdata.marker.symbol = symbols[i]\n",
    "    fdata.marker.size = sizes[i]\n",
    "    fdata.marker.color = colors_gorb[i]\n",
    "    fdata.line.color = colors_gorb[i]\n",
    "    fdata.line.dash = line_styles[i]\n",
    "        \n",
    "fig.add_vline(x=128, line_width=3, line_dash=\"dot\", line_color=\"grey\", \n",
    "              annotation_text=\"nprobe=128\", annotation_position=\"top\", annotation_font=dict(color=\"darkgrey\"))\n",
    "\n",
    "fig.add_hline(y=df[df[\"index\"]==\"HNSW32,Flat\"][\"recall@3\"].values[0], line_width=1, line_dash=\"dot\", line_color=\"#1F77B4\", opacity=1,\n",
    "              annotation_text=\"<I>HNSW32,Flat</I>\", annotation_position=\"right\", annotation_font=dict(color=\"#1F77B4\"))\n",
    "\n",
    "fig.add_hline(y=df[df[\"index\"]==\"HNSW32_PQ32\"][\"recall@3\"].values[0], line_width=1, line_dash=\"dot\", line_color=\"#D62728\", opacity=1,\n",
    "              annotation_text=\"<I>HNSW32_PQ32</I>\", annotation_position=\"right\", annotation_font=dict(color=\"#D62728\"))\n",
    "fig.update_xaxes(linecolor='darkgrey')\n",
    "fig.update_yaxes(linecolor='darkgrey')\n",
    "fig.show()\n",
    "fig.write_html(\"nprobe_recall_3.html\")"
   ]
  },
  {
   "cell_type": "code",
   "execution_count": 59,
   "id": "e6b8217a",
   "metadata": {
    "execution": {
     "iopub.execute_input": "2022-08-23T06:58:38.460676Z",
     "iopub.status.busy": "2022-08-23T06:58:38.459647Z",
     "iopub.status.idle": "2022-08-23T06:58:38.477176Z",
     "shell.execute_reply": "2022-08-23T06:58:38.476149Z"
    },
    "papermill": {
     "duration": 0.577679,
     "end_time": "2022-08-23T06:58:38.479070",
     "exception": false,
     "start_time": "2022-08-23T06:58:37.901391",
     "status": "completed"
    },
    "tags": []
   },
   "outputs": [
    {
     "data": {
      "text/html": [
       "<div>\n",
       "<style scoped>\n",
       "    .dataframe tbody tr th:only-of-type {\n",
       "        vertical-align: middle;\n",
       "    }\n",
       "\n",
       "    .dataframe tbody tr th {\n",
       "        vertical-align: top;\n",
       "    }\n",
       "\n",
       "    .dataframe thead th {\n",
       "        text-align: right;\n",
       "    }\n",
       "</style>\n",
       "<table border=\"1\" class=\"dataframe\">\n",
       "  <thead>\n",
       "    <tr style=\"text-align: right;\">\n",
       "      <th></th>\n",
       "      <th>index</th>\n",
       "      <th>M</th>\n",
       "      <th>nprobe</th>\n",
       "      <th>nsegment</th>\n",
       "      <th>recall@1</th>\n",
       "      <th>recall@3</th>\n",
       "      <th>recall@5</th>\n",
       "      <th>train_time</th>\n",
       "      <th>index_time</th>\n",
       "      <th>search_time</th>\n",
       "      <th>index_size</th>\n",
       "    </tr>\n",
       "  </thead>\n",
       "  <tbody>\n",
       "    <tr>\n",
       "      <th>4</th>\n",
       "      <td>IVF65536_HNSW32,PQ32</td>\n",
       "      <td>32</td>\n",
       "      <td>128</td>\n",
       "      <td>32</td>\n",
       "      <td>0.547</td>\n",
       "      <td>0.765</td>\n",
       "      <td>0.806</td>\n",
       "      <td>143.291473</td>\n",
       "      <td>24.345756</td>\n",
       "      <td>0.033369</td>\n",
       "      <td>154.209972</td>\n",
       "    </tr>\n",
       "    <tr>\n",
       "      <th>12</th>\n",
       "      <td>IVF65536_HNSW32,Flat</td>\n",
       "      <td>32</td>\n",
       "      <td>128</td>\n",
       "      <td>0</td>\n",
       "      <td>0.840</td>\n",
       "      <td>0.840</td>\n",
       "      <td>0.840</td>\n",
       "      <td>85.009737</td>\n",
       "      <td>18.676204</td>\n",
       "      <td>0.055478</td>\n",
       "      <td>1594.078859</td>\n",
       "    </tr>\n",
       "    <tr>\n",
       "      <th>16</th>\n",
       "      <td>HNSW32,Flat</td>\n",
       "      <td>32</td>\n",
       "      <td>0</td>\n",
       "      <td>0</td>\n",
       "      <td>0.854</td>\n",
       "      <td>0.854</td>\n",
       "      <td>0.854</td>\n",
       "      <td>None</td>\n",
       "      <td>847.505081</td>\n",
       "      <td>0.148547</td>\n",
       "      <td>2352.424546</td>\n",
       "    </tr>\n",
       "    <tr>\n",
       "      <th>17</th>\n",
       "      <td>HNSW32_PQ32</td>\n",
       "      <td>32</td>\n",
       "      <td>0</td>\n",
       "      <td>32</td>\n",
       "      <td>0.627</td>\n",
       "      <td>0.793</td>\n",
       "      <td>0.813</td>\n",
       "      <td>61.4662</td>\n",
       "      <td>651.526270</td>\n",
       "      <td>0.172360</td>\n",
       "      <td>912.555659</td>\n",
       "    </tr>\n",
       "  </tbody>\n",
       "</table>\n",
       "</div>"
      ],
      "text/plain": [
       "                   index   M  nprobe  nsegment  recall@1  recall@3  recall@5  \\\n",
       "4   IVF65536_HNSW32,PQ32  32     128        32     0.547     0.765     0.806   \n",
       "12  IVF65536_HNSW32,Flat  32     128         0     0.840     0.840     0.840   \n",
       "16           HNSW32,Flat  32       0         0     0.854     0.854     0.854   \n",
       "17           HNSW32_PQ32  32       0        32     0.627     0.793     0.813   \n",
       "\n",
       "    train_time  index_time  search_time   index_size  \n",
       "4   143.291473   24.345756     0.033369   154.209972  \n",
       "12   85.009737   18.676204     0.055478  1594.078859  \n",
       "16        None  847.505081     0.148547  2352.424546  \n",
       "17     61.4662  651.526270     0.172360   912.555659  "
      ]
     },
     "execution_count": 59,
     "metadata": {},
     "output_type": "execute_result"
    }
   ],
   "source": [
    "df128 = df[(df[\"nprobe\"]==128) | (df[\"index\"]==\"HNSW32,Flat\") | (df[\"index\"]==\"HNSW32_PQ32\")].copy()\n",
    "df128"
   ]
  },
  {
   "cell_type": "code",
   "execution_count": 60,
   "id": "eaa0dfac",
   "metadata": {
    "execution": {
     "iopub.execute_input": "2022-08-23T06:58:39.654042Z",
     "iopub.status.busy": "2022-08-23T06:58:39.652904Z",
     "iopub.status.idle": "2022-08-23T06:58:39.753299Z",
     "shell.execute_reply": "2022-08-23T06:58:39.752364Z"
    },
    "papermill": {
     "duration": 0.720133,
     "end_time": "2022-08-23T06:58:39.755510",
     "exception": false,
     "start_time": "2022-08-23T06:58:39.035377",
     "status": "completed"
    },
    "tags": []
   },
   "outputs": [
    {
     "data": {
      "text/html": [
       "<div>                            <div id=\"ee08f878-5450-4944-95f5-fc9716f5e057\" class=\"plotly-graph-div\" style=\"height:400px; width:900px;\"></div>            <script type=\"text/javascript\">                require([\"plotly\"], function(Plotly) {                    window.PLOTLYENV=window.PLOTLYENV || {};                                    if (document.getElementById(\"ee08f878-5450-4944-95f5-fc9716f5e057\")) {                    Plotly.newPlot(                        \"ee08f878-5450-4944-95f5-fc9716f5e057\",                        [{\"marker\":{\"color\":[\"#2CA02C\",\"#FF7F0E\",\"#D62728\",\"#1F77B4\"]},\"name\":\"search time\",\"x\":[\"IVF65536_HNSW32,PQ32\",\"IVF65536_HNSW32,Flat\",\"HNSW32,Flat\",\"HNSW32_PQ32\"],\"y\":[0.03336906433105469,0.05547833442687988,0.14854717254638672,0.17235994338989258],\"type\":\"bar\",\"xaxis\":\"x\",\"yaxis\":\"y\"},{\"marker\":{\"color\":[\"#2CA02C\",\"#FF7F0E\",\"#D62728\",\"#1F77B4\"]},\"name\":\"recall@1\",\"x\":[\"IVF65536_HNSW32,PQ32\",\"IVF65536_HNSW32,Flat\",\"HNSW32,Flat\",\"HNSW32_PQ32\"],\"y\":[0.547,0.84,0.854,0.627],\"type\":\"bar\",\"xaxis\":\"x2\",\"yaxis\":\"y2\"},{\"marker\":{\"color\":[\"#2CA02C\",\"#FF7F0E\",\"#D62728\",\"#1F77B4\"]},\"name\":\"recall@3\",\"x\":[\"IVF65536_HNSW32,PQ32\",\"IVF65536_HNSW32,Flat\",\"HNSW32,Flat\",\"HNSW32_PQ32\"],\"y\":[0.765,0.84,0.854,0.793],\"type\":\"bar\",\"xaxis\":\"x3\",\"yaxis\":\"y3\"},{\"marker\":{\"color\":[\"#2CA02C\",\"#FF7F0E\",\"#D62728\",\"#1F77B4\"]},\"name\":\"recall@5\",\"x\":[\"IVF65536_HNSW32,PQ32\",\"IVF65536_HNSW32,Flat\",\"HNSW32,Flat\",\"HNSW32_PQ32\"],\"y\":[0.806,0.84,0.854,0.813],\"type\":\"bar\",\"xaxis\":\"x4\",\"yaxis\":\"y4\"}],                        {\"template\":{\"data\":{\"barpolar\":[{\"marker\":{\"line\":{\"color\":\"white\",\"width\":0.5},\"pattern\":{\"fillmode\":\"overlay\",\"size\":10,\"solidity\":0.2}},\"type\":\"barpolar\"}],\"bar\":[{\"error_x\":{\"color\":\"rgb(36,36,36)\"},\"error_y\":{\"color\":\"rgb(36,36,36)\"},\"marker\":{\"line\":{\"color\":\"white\",\"width\":0.5},\"pattern\":{\"fillmode\":\"overlay\",\"size\":10,\"solidity\":0.2}},\"type\":\"bar\"}],\"carpet\":[{\"aaxis\":{\"endlinecolor\":\"rgb(36,36,36)\",\"gridcolor\":\"white\",\"linecolor\":\"white\",\"minorgridcolor\":\"white\",\"startlinecolor\":\"rgb(36,36,36)\"},\"baxis\":{\"endlinecolor\":\"rgb(36,36,36)\",\"gridcolor\":\"white\",\"linecolor\":\"white\",\"minorgridcolor\":\"white\",\"startlinecolor\":\"rgb(36,36,36)\"},\"type\":\"carpet\"}],\"choropleth\":[{\"colorbar\":{\"outlinewidth\":1,\"tickcolor\":\"rgb(36,36,36)\",\"ticks\":\"outside\"},\"type\":\"choropleth\"}],\"contourcarpet\":[{\"colorbar\":{\"outlinewidth\":1,\"tickcolor\":\"rgb(36,36,36)\",\"ticks\":\"outside\"},\"type\":\"contourcarpet\"}],\"contour\":[{\"colorbar\":{\"outlinewidth\":1,\"tickcolor\":\"rgb(36,36,36)\",\"ticks\":\"outside\"},\"colorscale\":[[0.0,\"#440154\"],[0.1111111111111111,\"#482878\"],[0.2222222222222222,\"#3e4989\"],[0.3333333333333333,\"#31688e\"],[0.4444444444444444,\"#26828e\"],[0.5555555555555556,\"#1f9e89\"],[0.6666666666666666,\"#35b779\"],[0.7777777777777778,\"#6ece58\"],[0.8888888888888888,\"#b5de2b\"],[1.0,\"#fde725\"]],\"type\":\"contour\"}],\"heatmapgl\":[{\"colorbar\":{\"outlinewidth\":1,\"tickcolor\":\"rgb(36,36,36)\",\"ticks\":\"outside\"},\"colorscale\":[[0.0,\"#440154\"],[0.1111111111111111,\"#482878\"],[0.2222222222222222,\"#3e4989\"],[0.3333333333333333,\"#31688e\"],[0.4444444444444444,\"#26828e\"],[0.5555555555555556,\"#1f9e89\"],[0.6666666666666666,\"#35b779\"],[0.7777777777777778,\"#6ece58\"],[0.8888888888888888,\"#b5de2b\"],[1.0,\"#fde725\"]],\"type\":\"heatmapgl\"}],\"heatmap\":[{\"colorbar\":{\"outlinewidth\":1,\"tickcolor\":\"rgb(36,36,36)\",\"ticks\":\"outside\"},\"colorscale\":[[0.0,\"#440154\"],[0.1111111111111111,\"#482878\"],[0.2222222222222222,\"#3e4989\"],[0.3333333333333333,\"#31688e\"],[0.4444444444444444,\"#26828e\"],[0.5555555555555556,\"#1f9e89\"],[0.6666666666666666,\"#35b779\"],[0.7777777777777778,\"#6ece58\"],[0.8888888888888888,\"#b5de2b\"],[1.0,\"#fde725\"]],\"type\":\"heatmap\"}],\"histogram2dcontour\":[{\"colorbar\":{\"outlinewidth\":1,\"tickcolor\":\"rgb(36,36,36)\",\"ticks\":\"outside\"},\"colorscale\":[[0.0,\"#440154\"],[0.1111111111111111,\"#482878\"],[0.2222222222222222,\"#3e4989\"],[0.3333333333333333,\"#31688e\"],[0.4444444444444444,\"#26828e\"],[0.5555555555555556,\"#1f9e89\"],[0.6666666666666666,\"#35b779\"],[0.7777777777777778,\"#6ece58\"],[0.8888888888888888,\"#b5de2b\"],[1.0,\"#fde725\"]],\"type\":\"histogram2dcontour\"}],\"histogram2d\":[{\"colorbar\":{\"outlinewidth\":1,\"tickcolor\":\"rgb(36,36,36)\",\"ticks\":\"outside\"},\"colorscale\":[[0.0,\"#440154\"],[0.1111111111111111,\"#482878\"],[0.2222222222222222,\"#3e4989\"],[0.3333333333333333,\"#31688e\"],[0.4444444444444444,\"#26828e\"],[0.5555555555555556,\"#1f9e89\"],[0.6666666666666666,\"#35b779\"],[0.7777777777777778,\"#6ece58\"],[0.8888888888888888,\"#b5de2b\"],[1.0,\"#fde725\"]],\"type\":\"histogram2d\"}],\"histogram\":[{\"marker\":{\"line\":{\"color\":\"white\",\"width\":0.6}},\"type\":\"histogram\"}],\"mesh3d\":[{\"colorbar\":{\"outlinewidth\":1,\"tickcolor\":\"rgb(36,36,36)\",\"ticks\":\"outside\"},\"type\":\"mesh3d\"}],\"parcoords\":[{\"line\":{\"colorbar\":{\"outlinewidth\":1,\"tickcolor\":\"rgb(36,36,36)\",\"ticks\":\"outside\"}},\"type\":\"parcoords\"}],\"pie\":[{\"automargin\":true,\"type\":\"pie\"}],\"scatter3d\":[{\"line\":{\"colorbar\":{\"outlinewidth\":1,\"tickcolor\":\"rgb(36,36,36)\",\"ticks\":\"outside\"}},\"marker\":{\"colorbar\":{\"outlinewidth\":1,\"tickcolor\":\"rgb(36,36,36)\",\"ticks\":\"outside\"}},\"type\":\"scatter3d\"}],\"scattercarpet\":[{\"marker\":{\"colorbar\":{\"outlinewidth\":1,\"tickcolor\":\"rgb(36,36,36)\",\"ticks\":\"outside\"}},\"type\":\"scattercarpet\"}],\"scattergeo\":[{\"marker\":{\"colorbar\":{\"outlinewidth\":1,\"tickcolor\":\"rgb(36,36,36)\",\"ticks\":\"outside\"}},\"type\":\"scattergeo\"}],\"scattergl\":[{\"marker\":{\"colorbar\":{\"outlinewidth\":1,\"tickcolor\":\"rgb(36,36,36)\",\"ticks\":\"outside\"}},\"type\":\"scattergl\"}],\"scattermapbox\":[{\"marker\":{\"colorbar\":{\"outlinewidth\":1,\"tickcolor\":\"rgb(36,36,36)\",\"ticks\":\"outside\"}},\"type\":\"scattermapbox\"}],\"scatterpolargl\":[{\"marker\":{\"colorbar\":{\"outlinewidth\":1,\"tickcolor\":\"rgb(36,36,36)\",\"ticks\":\"outside\"}},\"type\":\"scatterpolargl\"}],\"scatterpolar\":[{\"marker\":{\"colorbar\":{\"outlinewidth\":1,\"tickcolor\":\"rgb(36,36,36)\",\"ticks\":\"outside\"}},\"type\":\"scatterpolar\"}],\"scatter\":[{\"fillpattern\":{\"fillmode\":\"overlay\",\"size\":10,\"solidity\":0.2},\"type\":\"scatter\"}],\"scatterternary\":[{\"marker\":{\"colorbar\":{\"outlinewidth\":1,\"tickcolor\":\"rgb(36,36,36)\",\"ticks\":\"outside\"}},\"type\":\"scatterternary\"}],\"surface\":[{\"colorbar\":{\"outlinewidth\":1,\"tickcolor\":\"rgb(36,36,36)\",\"ticks\":\"outside\"},\"colorscale\":[[0.0,\"#440154\"],[0.1111111111111111,\"#482878\"],[0.2222222222222222,\"#3e4989\"],[0.3333333333333333,\"#31688e\"],[0.4444444444444444,\"#26828e\"],[0.5555555555555556,\"#1f9e89\"],[0.6666666666666666,\"#35b779\"],[0.7777777777777778,\"#6ece58\"],[0.8888888888888888,\"#b5de2b\"],[1.0,\"#fde725\"]],\"type\":\"surface\"}],\"table\":[{\"cells\":{\"fill\":{\"color\":\"rgb(237,237,237)\"},\"line\":{\"color\":\"white\"}},\"header\":{\"fill\":{\"color\":\"rgb(217,217,217)\"},\"line\":{\"color\":\"white\"}},\"type\":\"table\"}]},\"layout\":{\"annotationdefaults\":{\"arrowhead\":0,\"arrowwidth\":1},\"autotypenumbers\":\"strict\",\"coloraxis\":{\"colorbar\":{\"outlinewidth\":1,\"tickcolor\":\"rgb(36,36,36)\",\"ticks\":\"outside\"}},\"colorscale\":{\"diverging\":[[0.0,\"rgb(103,0,31)\"],[0.1,\"rgb(178,24,43)\"],[0.2,\"rgb(214,96,77)\"],[0.3,\"rgb(244,165,130)\"],[0.4,\"rgb(253,219,199)\"],[0.5,\"rgb(247,247,247)\"],[0.6,\"rgb(209,229,240)\"],[0.7,\"rgb(146,197,222)\"],[0.8,\"rgb(67,147,195)\"],[0.9,\"rgb(33,102,172)\"],[1.0,\"rgb(5,48,97)\"]],\"sequential\":[[0.0,\"#440154\"],[0.1111111111111111,\"#482878\"],[0.2222222222222222,\"#3e4989\"],[0.3333333333333333,\"#31688e\"],[0.4444444444444444,\"#26828e\"],[0.5555555555555556,\"#1f9e89\"],[0.6666666666666666,\"#35b779\"],[0.7777777777777778,\"#6ece58\"],[0.8888888888888888,\"#b5de2b\"],[1.0,\"#fde725\"]],\"sequentialminus\":[[0.0,\"#440154\"],[0.1111111111111111,\"#482878\"],[0.2222222222222222,\"#3e4989\"],[0.3333333333333333,\"#31688e\"],[0.4444444444444444,\"#26828e\"],[0.5555555555555556,\"#1f9e89\"],[0.6666666666666666,\"#35b779\"],[0.7777777777777778,\"#6ece58\"],[0.8888888888888888,\"#b5de2b\"],[1.0,\"#fde725\"]]},\"colorway\":[\"#1F77B4\",\"#FF7F0E\",\"#2CA02C\",\"#D62728\",\"#9467BD\",\"#8C564B\",\"#E377C2\",\"#7F7F7F\",\"#BCBD22\",\"#17BECF\"],\"font\":{\"color\":\"rgb(36,36,36)\"},\"geo\":{\"bgcolor\":\"white\",\"lakecolor\":\"white\",\"landcolor\":\"white\",\"showlakes\":true,\"showland\":true,\"subunitcolor\":\"white\"},\"hoverlabel\":{\"align\":\"left\"},\"hovermode\":\"closest\",\"mapbox\":{\"style\":\"light\"},\"paper_bgcolor\":\"white\",\"plot_bgcolor\":\"white\",\"polar\":{\"angularaxis\":{\"gridcolor\":\"rgb(232,232,232)\",\"linecolor\":\"rgb(36,36,36)\",\"showgrid\":false,\"showline\":true,\"ticks\":\"outside\"},\"bgcolor\":\"white\",\"radialaxis\":{\"gridcolor\":\"rgb(232,232,232)\",\"linecolor\":\"rgb(36,36,36)\",\"showgrid\":false,\"showline\":true,\"ticks\":\"outside\"}},\"scene\":{\"xaxis\":{\"backgroundcolor\":\"white\",\"gridcolor\":\"rgb(232,232,232)\",\"gridwidth\":2,\"linecolor\":\"rgb(36,36,36)\",\"showbackground\":true,\"showgrid\":false,\"showline\":true,\"ticks\":\"outside\",\"zeroline\":false,\"zerolinecolor\":\"rgb(36,36,36)\"},\"yaxis\":{\"backgroundcolor\":\"white\",\"gridcolor\":\"rgb(232,232,232)\",\"gridwidth\":2,\"linecolor\":\"rgb(36,36,36)\",\"showbackground\":true,\"showgrid\":false,\"showline\":true,\"ticks\":\"outside\",\"zeroline\":false,\"zerolinecolor\":\"rgb(36,36,36)\"},\"zaxis\":{\"backgroundcolor\":\"white\",\"gridcolor\":\"rgb(232,232,232)\",\"gridwidth\":2,\"linecolor\":\"rgb(36,36,36)\",\"showbackground\":true,\"showgrid\":false,\"showline\":true,\"ticks\":\"outside\",\"zeroline\":false,\"zerolinecolor\":\"rgb(36,36,36)\"}},\"shapedefaults\":{\"fillcolor\":\"black\",\"line\":{\"width\":0},\"opacity\":0.3},\"ternary\":{\"aaxis\":{\"gridcolor\":\"rgb(232,232,232)\",\"linecolor\":\"rgb(36,36,36)\",\"showgrid\":false,\"showline\":true,\"ticks\":\"outside\"},\"baxis\":{\"gridcolor\":\"rgb(232,232,232)\",\"linecolor\":\"rgb(36,36,36)\",\"showgrid\":false,\"showline\":true,\"ticks\":\"outside\"},\"bgcolor\":\"white\",\"caxis\":{\"gridcolor\":\"rgb(232,232,232)\",\"linecolor\":\"rgb(36,36,36)\",\"showgrid\":false,\"showline\":true,\"ticks\":\"outside\"}},\"title\":{\"x\":0.05},\"xaxis\":{\"automargin\":true,\"gridcolor\":\"rgb(232,232,232)\",\"linecolor\":\"rgb(36,36,36)\",\"showgrid\":false,\"showline\":true,\"ticks\":\"outside\",\"title\":{\"standoff\":15},\"zeroline\":false,\"zerolinecolor\":\"rgb(36,36,36)\"},\"yaxis\":{\"automargin\":true,\"gridcolor\":\"rgb(232,232,232)\",\"linecolor\":\"rgb(36,36,36)\",\"showgrid\":false,\"showline\":true,\"ticks\":\"outside\",\"title\":{\"standoff\":15},\"zeroline\":false,\"zerolinecolor\":\"rgb(36,36,36)\"}}},\"xaxis\":{\"anchor\":\"y\",\"domain\":[0.0,0.1375],\"ticks\":\"\",\"tickangle\":30,\"linecolor\":\"darkgrey\"},\"yaxis\":{\"anchor\":\"x\",\"domain\":[0.0,1.0],\"title\":{\"text\":\"search time (ms/query)\"},\"linecolor\":\"darkgrey\"},\"xaxis2\":{\"anchor\":\"y2\",\"domain\":[0.2875,0.425],\"ticks\":\"\",\"tickangle\":30,\"linecolor\":\"darkgrey\"},\"yaxis2\":{\"anchor\":\"x2\",\"domain\":[0.0,1.0],\"title\":{\"text\":\"1-recall@1\"},\"linecolor\":\"darkgrey\"},\"xaxis3\":{\"anchor\":\"y3\",\"domain\":[0.575,0.7124999999999999],\"ticks\":\"\",\"tickangle\":30,\"linecolor\":\"darkgrey\"},\"yaxis3\":{\"anchor\":\"x3\",\"domain\":[0.0,1.0],\"title\":{\"text\":\"1-recall@3\"},\"linecolor\":\"darkgrey\"},\"xaxis4\":{\"anchor\":\"y4\",\"domain\":[0.8625,1.0],\"ticks\":\"\",\"tickangle\":30,\"linecolor\":\"darkgrey\"},\"yaxis4\":{\"anchor\":\"x4\",\"domain\":[0.0,1.0],\"title\":{\"text\":\"1-recall@5\"},\"linecolor\":\"darkgrey\"},\"title\":{\"text\":\"For IVF-based indexes, nprobe=128\"},\"height\":400,\"width\":900,\"showlegend\":false},                        {\"responsive\": true}                    ).then(function(){\n",
       "                            \n",
       "var gd = document.getElementById('ee08f878-5450-4944-95f5-fc9716f5e057');\n",
       "var x = new MutationObserver(function (mutations, observer) {{\n",
       "        var display = window.getComputedStyle(gd).display;\n",
       "        if (!display || display === 'none') {{\n",
       "            console.log([gd, 'removed!']);\n",
       "            Plotly.purge(gd);\n",
       "            observer.disconnect();\n",
       "        }}\n",
       "}});\n",
       "\n",
       "// Listen for the removal of the full notebook cells\n",
       "var notebookContainer = gd.closest('#notebook-container');\n",
       "if (notebookContainer) {{\n",
       "    x.observe(notebookContainer, {childList: true});\n",
       "}}\n",
       "\n",
       "// Listen for the clearing of the current output cell\n",
       "var outputEl = gd.closest('.output');\n",
       "if (outputEl) {{\n",
       "    x.observe(outputEl, {childList: true});\n",
       "}}\n",
       "\n",
       "                        })                };                });            </script>        </div>"
      ]
     },
     "metadata": {},
     "output_type": "display_data"
    }
   ],
   "source": [
    "fig = make_subplots(rows=1, cols=4, horizontal_spacing = 0.15)\n",
    "colors = px.colors.qualitative.D3  \n",
    "\n",
    "fig.add_trace(go.Bar(x=df128.loc[:,'index'], y=df128.loc[:,'search_time'], marker_color=colors_gorb, name=\"search time\"),\n",
    "              row=1, col=1\n",
    "             )              \n",
    "fig.add_trace(go.Bar(x=df128.loc[:,'index'], y=df128.loc[:,'recall@1'], marker_color=colors_gorb, name=\"recall@1\"),\n",
    "              row=1, col=2\n",
    "             )  \n",
    "fig.add_trace(go.Bar(x=df128.loc[:,'index'], y=df128.loc[:,'recall@3'], marker_color=colors_gorb, name=\"recall@3\"),\n",
    "              row=1, col=3\n",
    "             ) \n",
    "fig.add_trace(go.Bar(x=df128.loc[:,'index'], y=df128.loc[:,'recall@5'], marker_color=colors_gorb, name=\"recall@5\"),\n",
    "              row=1, col=4\n",
    "             ) \n",
    "fig.update_yaxes(title_text=\"search time (ms/query)\", row=1, col=1)\n",
    "fig.update_yaxes(title_text=\"1-recall@1\", row=1, col=2)\n",
    "fig.update_yaxes(title_text=\"1-recall@3\", row=1, col=3)\n",
    "fig.update_yaxes(title_text=\"1-recall@5\", row=1, col=4)\n",
    "fig.update_xaxes(ticks=\"\", tickangle=30, linecolor='darkgrey')\n",
    "fig.update_yaxes(linecolor='darkgrey')\n",
    "fig.update_layout(height=400, width=900, template=\"simple_white\", showlegend=False, title_text=\"For IVF-based indexes, nprobe=128\")\n",
    "fig.show()\n",
    "fig.write_html(\"nprobe128_search_recalls.html\")"
   ]
  },
  {
   "cell_type": "code",
   "execution_count": 61,
   "id": "aa5bc506",
   "metadata": {
    "execution": {
     "iopub.execute_input": "2022-08-23T06:58:40.872635Z",
     "iopub.status.busy": "2022-08-23T06:58:40.872247Z",
     "iopub.status.idle": "2022-08-23T06:58:40.959294Z",
     "shell.execute_reply": "2022-08-23T06:58:40.958216Z"
    },
    "papermill": {
     "duration": 0.647775,
     "end_time": "2022-08-23T06:58:40.961462",
     "exception": false,
     "start_time": "2022-08-23T06:58:40.313687",
     "status": "completed"
    },
    "tags": []
   },
   "outputs": [
    {
     "data": {
      "text/html": [
       "<div>                            <div id=\"4db7551b-e15a-4fd2-a71c-d5b538968f9e\" class=\"plotly-graph-div\" style=\"height:400px; width:500px;\"></div>            <script type=\"text/javascript\">                require([\"plotly\"], function(Plotly) {                    window.PLOTLYENV=window.PLOTLYENV || {};                                    if (document.getElementById(\"4db7551b-e15a-4fd2-a71c-d5b538968f9e\")) {                    Plotly.newPlot(                        \"4db7551b-e15a-4fd2-a71c-d5b538968f9e\",                        [{\"marker\":{\"color\":[\"#2CA02C\",\"#FF7F0E\",\"#D62728\",\"#1F77B4\"],\"opacity\":0.8},\"x\":[\"IVF65536_HNSW32,PQ32\",\"IVF65536_HNSW32,Flat\",\"HNSW32,Flat\",\"HNSW32_PQ32\"],\"y\":[0.03336906433105469,0.05547833442687988,0.14854717254638672,0.17235994338989258],\"type\":\"bar\",\"xaxis\":\"x\",\"yaxis\":\"y\"},{\"marker\":{\"color\":[\"#2CA02C\",\"#FF7F0E\",\"#D62728\",\"#1F77B4\"],\"opacity\":0.8},\"x\":[\"IVF65536_HNSW32,PQ32\",\"IVF65536_HNSW32,Flat\",\"HNSW32,Flat\",\"HNSW32_PQ32\"],\"y\":[0.765,0.84,0.854,0.793],\"type\":\"bar\",\"xaxis\":\"x2\",\"yaxis\":\"y2\"}],                        {\"template\":{\"data\":{\"barpolar\":[{\"marker\":{\"line\":{\"color\":\"white\",\"width\":0.5},\"pattern\":{\"fillmode\":\"overlay\",\"size\":10,\"solidity\":0.2}},\"type\":\"barpolar\"}],\"bar\":[{\"error_x\":{\"color\":\"rgb(36,36,36)\"},\"error_y\":{\"color\":\"rgb(36,36,36)\"},\"marker\":{\"line\":{\"color\":\"white\",\"width\":0.5},\"pattern\":{\"fillmode\":\"overlay\",\"size\":10,\"solidity\":0.2}},\"type\":\"bar\"}],\"carpet\":[{\"aaxis\":{\"endlinecolor\":\"rgb(36,36,36)\",\"gridcolor\":\"white\",\"linecolor\":\"white\",\"minorgridcolor\":\"white\",\"startlinecolor\":\"rgb(36,36,36)\"},\"baxis\":{\"endlinecolor\":\"rgb(36,36,36)\",\"gridcolor\":\"white\",\"linecolor\":\"white\",\"minorgridcolor\":\"white\",\"startlinecolor\":\"rgb(36,36,36)\"},\"type\":\"carpet\"}],\"choropleth\":[{\"colorbar\":{\"outlinewidth\":1,\"tickcolor\":\"rgb(36,36,36)\",\"ticks\":\"outside\"},\"type\":\"choropleth\"}],\"contourcarpet\":[{\"colorbar\":{\"outlinewidth\":1,\"tickcolor\":\"rgb(36,36,36)\",\"ticks\":\"outside\"},\"type\":\"contourcarpet\"}],\"contour\":[{\"colorbar\":{\"outlinewidth\":1,\"tickcolor\":\"rgb(36,36,36)\",\"ticks\":\"outside\"},\"colorscale\":[[0.0,\"#440154\"],[0.1111111111111111,\"#482878\"],[0.2222222222222222,\"#3e4989\"],[0.3333333333333333,\"#31688e\"],[0.4444444444444444,\"#26828e\"],[0.5555555555555556,\"#1f9e89\"],[0.6666666666666666,\"#35b779\"],[0.7777777777777778,\"#6ece58\"],[0.8888888888888888,\"#b5de2b\"],[1.0,\"#fde725\"]],\"type\":\"contour\"}],\"heatmapgl\":[{\"colorbar\":{\"outlinewidth\":1,\"tickcolor\":\"rgb(36,36,36)\",\"ticks\":\"outside\"},\"colorscale\":[[0.0,\"#440154\"],[0.1111111111111111,\"#482878\"],[0.2222222222222222,\"#3e4989\"],[0.3333333333333333,\"#31688e\"],[0.4444444444444444,\"#26828e\"],[0.5555555555555556,\"#1f9e89\"],[0.6666666666666666,\"#35b779\"],[0.7777777777777778,\"#6ece58\"],[0.8888888888888888,\"#b5de2b\"],[1.0,\"#fde725\"]],\"type\":\"heatmapgl\"}],\"heatmap\":[{\"colorbar\":{\"outlinewidth\":1,\"tickcolor\":\"rgb(36,36,36)\",\"ticks\":\"outside\"},\"colorscale\":[[0.0,\"#440154\"],[0.1111111111111111,\"#482878\"],[0.2222222222222222,\"#3e4989\"],[0.3333333333333333,\"#31688e\"],[0.4444444444444444,\"#26828e\"],[0.5555555555555556,\"#1f9e89\"],[0.6666666666666666,\"#35b779\"],[0.7777777777777778,\"#6ece58\"],[0.8888888888888888,\"#b5de2b\"],[1.0,\"#fde725\"]],\"type\":\"heatmap\"}],\"histogram2dcontour\":[{\"colorbar\":{\"outlinewidth\":1,\"tickcolor\":\"rgb(36,36,36)\",\"ticks\":\"outside\"},\"colorscale\":[[0.0,\"#440154\"],[0.1111111111111111,\"#482878\"],[0.2222222222222222,\"#3e4989\"],[0.3333333333333333,\"#31688e\"],[0.4444444444444444,\"#26828e\"],[0.5555555555555556,\"#1f9e89\"],[0.6666666666666666,\"#35b779\"],[0.7777777777777778,\"#6ece58\"],[0.8888888888888888,\"#b5de2b\"],[1.0,\"#fde725\"]],\"type\":\"histogram2dcontour\"}],\"histogram2d\":[{\"colorbar\":{\"outlinewidth\":1,\"tickcolor\":\"rgb(36,36,36)\",\"ticks\":\"outside\"},\"colorscale\":[[0.0,\"#440154\"],[0.1111111111111111,\"#482878\"],[0.2222222222222222,\"#3e4989\"],[0.3333333333333333,\"#31688e\"],[0.4444444444444444,\"#26828e\"],[0.5555555555555556,\"#1f9e89\"],[0.6666666666666666,\"#35b779\"],[0.7777777777777778,\"#6ece58\"],[0.8888888888888888,\"#b5de2b\"],[1.0,\"#fde725\"]],\"type\":\"histogram2d\"}],\"histogram\":[{\"marker\":{\"line\":{\"color\":\"white\",\"width\":0.6}},\"type\":\"histogram\"}],\"mesh3d\":[{\"colorbar\":{\"outlinewidth\":1,\"tickcolor\":\"rgb(36,36,36)\",\"ticks\":\"outside\"},\"type\":\"mesh3d\"}],\"parcoords\":[{\"line\":{\"colorbar\":{\"outlinewidth\":1,\"tickcolor\":\"rgb(36,36,36)\",\"ticks\":\"outside\"}},\"type\":\"parcoords\"}],\"pie\":[{\"automargin\":true,\"type\":\"pie\"}],\"scatter3d\":[{\"line\":{\"colorbar\":{\"outlinewidth\":1,\"tickcolor\":\"rgb(36,36,36)\",\"ticks\":\"outside\"}},\"marker\":{\"colorbar\":{\"outlinewidth\":1,\"tickcolor\":\"rgb(36,36,36)\",\"ticks\":\"outside\"}},\"type\":\"scatter3d\"}],\"scattercarpet\":[{\"marker\":{\"colorbar\":{\"outlinewidth\":1,\"tickcolor\":\"rgb(36,36,36)\",\"ticks\":\"outside\"}},\"type\":\"scattercarpet\"}],\"scattergeo\":[{\"marker\":{\"colorbar\":{\"outlinewidth\":1,\"tickcolor\":\"rgb(36,36,36)\",\"ticks\":\"outside\"}},\"type\":\"scattergeo\"}],\"scattergl\":[{\"marker\":{\"colorbar\":{\"outlinewidth\":1,\"tickcolor\":\"rgb(36,36,36)\",\"ticks\":\"outside\"}},\"type\":\"scattergl\"}],\"scattermapbox\":[{\"marker\":{\"colorbar\":{\"outlinewidth\":1,\"tickcolor\":\"rgb(36,36,36)\",\"ticks\":\"outside\"}},\"type\":\"scattermapbox\"}],\"scatterpolargl\":[{\"marker\":{\"colorbar\":{\"outlinewidth\":1,\"tickcolor\":\"rgb(36,36,36)\",\"ticks\":\"outside\"}},\"type\":\"scatterpolargl\"}],\"scatterpolar\":[{\"marker\":{\"colorbar\":{\"outlinewidth\":1,\"tickcolor\":\"rgb(36,36,36)\",\"ticks\":\"outside\"}},\"type\":\"scatterpolar\"}],\"scatter\":[{\"fillpattern\":{\"fillmode\":\"overlay\",\"size\":10,\"solidity\":0.2},\"type\":\"scatter\"}],\"scatterternary\":[{\"marker\":{\"colorbar\":{\"outlinewidth\":1,\"tickcolor\":\"rgb(36,36,36)\",\"ticks\":\"outside\"}},\"type\":\"scatterternary\"}],\"surface\":[{\"colorbar\":{\"outlinewidth\":1,\"tickcolor\":\"rgb(36,36,36)\",\"ticks\":\"outside\"},\"colorscale\":[[0.0,\"#440154\"],[0.1111111111111111,\"#482878\"],[0.2222222222222222,\"#3e4989\"],[0.3333333333333333,\"#31688e\"],[0.4444444444444444,\"#26828e\"],[0.5555555555555556,\"#1f9e89\"],[0.6666666666666666,\"#35b779\"],[0.7777777777777778,\"#6ece58\"],[0.8888888888888888,\"#b5de2b\"],[1.0,\"#fde725\"]],\"type\":\"surface\"}],\"table\":[{\"cells\":{\"fill\":{\"color\":\"rgb(237,237,237)\"},\"line\":{\"color\":\"white\"}},\"header\":{\"fill\":{\"color\":\"rgb(217,217,217)\"},\"line\":{\"color\":\"white\"}},\"type\":\"table\"}]},\"layout\":{\"annotationdefaults\":{\"arrowhead\":0,\"arrowwidth\":1},\"autotypenumbers\":\"strict\",\"coloraxis\":{\"colorbar\":{\"outlinewidth\":1,\"tickcolor\":\"rgb(36,36,36)\",\"ticks\":\"outside\"}},\"colorscale\":{\"diverging\":[[0.0,\"rgb(103,0,31)\"],[0.1,\"rgb(178,24,43)\"],[0.2,\"rgb(214,96,77)\"],[0.3,\"rgb(244,165,130)\"],[0.4,\"rgb(253,219,199)\"],[0.5,\"rgb(247,247,247)\"],[0.6,\"rgb(209,229,240)\"],[0.7,\"rgb(146,197,222)\"],[0.8,\"rgb(67,147,195)\"],[0.9,\"rgb(33,102,172)\"],[1.0,\"rgb(5,48,97)\"]],\"sequential\":[[0.0,\"#440154\"],[0.1111111111111111,\"#482878\"],[0.2222222222222222,\"#3e4989\"],[0.3333333333333333,\"#31688e\"],[0.4444444444444444,\"#26828e\"],[0.5555555555555556,\"#1f9e89\"],[0.6666666666666666,\"#35b779\"],[0.7777777777777778,\"#6ece58\"],[0.8888888888888888,\"#b5de2b\"],[1.0,\"#fde725\"]],\"sequentialminus\":[[0.0,\"#440154\"],[0.1111111111111111,\"#482878\"],[0.2222222222222222,\"#3e4989\"],[0.3333333333333333,\"#31688e\"],[0.4444444444444444,\"#26828e\"],[0.5555555555555556,\"#1f9e89\"],[0.6666666666666666,\"#35b779\"],[0.7777777777777778,\"#6ece58\"],[0.8888888888888888,\"#b5de2b\"],[1.0,\"#fde725\"]]},\"colorway\":[\"#1F77B4\",\"#FF7F0E\",\"#2CA02C\",\"#D62728\",\"#9467BD\",\"#8C564B\",\"#E377C2\",\"#7F7F7F\",\"#BCBD22\",\"#17BECF\"],\"font\":{\"color\":\"rgb(36,36,36)\"},\"geo\":{\"bgcolor\":\"white\",\"lakecolor\":\"white\",\"landcolor\":\"white\",\"showlakes\":true,\"showland\":true,\"subunitcolor\":\"white\"},\"hoverlabel\":{\"align\":\"left\"},\"hovermode\":\"closest\",\"mapbox\":{\"style\":\"light\"},\"paper_bgcolor\":\"white\",\"plot_bgcolor\":\"white\",\"polar\":{\"angularaxis\":{\"gridcolor\":\"rgb(232,232,232)\",\"linecolor\":\"rgb(36,36,36)\",\"showgrid\":false,\"showline\":true,\"ticks\":\"outside\"},\"bgcolor\":\"white\",\"radialaxis\":{\"gridcolor\":\"rgb(232,232,232)\",\"linecolor\":\"rgb(36,36,36)\",\"showgrid\":false,\"showline\":true,\"ticks\":\"outside\"}},\"scene\":{\"xaxis\":{\"backgroundcolor\":\"white\",\"gridcolor\":\"rgb(232,232,232)\",\"gridwidth\":2,\"linecolor\":\"rgb(36,36,36)\",\"showbackground\":true,\"showgrid\":false,\"showline\":true,\"ticks\":\"outside\",\"zeroline\":false,\"zerolinecolor\":\"rgb(36,36,36)\"},\"yaxis\":{\"backgroundcolor\":\"white\",\"gridcolor\":\"rgb(232,232,232)\",\"gridwidth\":2,\"linecolor\":\"rgb(36,36,36)\",\"showbackground\":true,\"showgrid\":false,\"showline\":true,\"ticks\":\"outside\",\"zeroline\":false,\"zerolinecolor\":\"rgb(36,36,36)\"},\"zaxis\":{\"backgroundcolor\":\"white\",\"gridcolor\":\"rgb(232,232,232)\",\"gridwidth\":2,\"linecolor\":\"rgb(36,36,36)\",\"showbackground\":true,\"showgrid\":false,\"showline\":true,\"ticks\":\"outside\",\"zeroline\":false,\"zerolinecolor\":\"rgb(36,36,36)\"}},\"shapedefaults\":{\"fillcolor\":\"black\",\"line\":{\"width\":0},\"opacity\":0.3},\"ternary\":{\"aaxis\":{\"gridcolor\":\"rgb(232,232,232)\",\"linecolor\":\"rgb(36,36,36)\",\"showgrid\":false,\"showline\":true,\"ticks\":\"outside\"},\"baxis\":{\"gridcolor\":\"rgb(232,232,232)\",\"linecolor\":\"rgb(36,36,36)\",\"showgrid\":false,\"showline\":true,\"ticks\":\"outside\"},\"bgcolor\":\"white\",\"caxis\":{\"gridcolor\":\"rgb(232,232,232)\",\"linecolor\":\"rgb(36,36,36)\",\"showgrid\":false,\"showline\":true,\"ticks\":\"outside\"}},\"title\":{\"x\":0.05},\"xaxis\":{\"automargin\":true,\"gridcolor\":\"rgb(232,232,232)\",\"linecolor\":\"rgb(36,36,36)\",\"showgrid\":false,\"showline\":true,\"ticks\":\"outside\",\"title\":{\"standoff\":15},\"zeroline\":false,\"zerolinecolor\":\"rgb(36,36,36)\"},\"yaxis\":{\"automargin\":true,\"gridcolor\":\"rgb(232,232,232)\",\"linecolor\":\"rgb(36,36,36)\",\"showgrid\":false,\"showline\":true,\"ticks\":\"outside\",\"title\":{\"standoff\":15},\"zeroline\":false,\"zerolinecolor\":\"rgb(36,36,36)\"}}},\"xaxis\":{\"anchor\":\"y\",\"domain\":[0.0,0.3],\"ticks\":\"\",\"tickangle\":30,\"linecolor\":\"darkgrey\"},\"yaxis\":{\"anchor\":\"x\",\"domain\":[0.0,1.0],\"title\":{\"text\":\"search time (ms/query)\"},\"linecolor\":\"darkgrey\"},\"xaxis2\":{\"anchor\":\"y2\",\"domain\":[0.7,1.0],\"ticks\":\"\",\"tickangle\":30,\"linecolor\":\"darkgrey\"},\"yaxis2\":{\"anchor\":\"x2\",\"domain\":[0.0,1.0],\"title\":{\"text\":\"1-recall@3\"},\"linecolor\":\"darkgrey\"},\"title\":{\"text\":\"<B><I>( For IVF-based indexes, nprobe=128 )\",\"font\":{\"family\":\"Arial\",\"color\":\"RebeccaPurple\",\"size\":13},\"yanchor\":\"top\",\"y\":0.85,\"xanchor\":\"left\",\"x\":0.1},\"height\":400,\"width\":500,\"showlegend\":false},                        {\"responsive\": true}                    ).then(function(){\n",
       "                            \n",
       "var gd = document.getElementById('4db7551b-e15a-4fd2-a71c-d5b538968f9e');\n",
       "var x = new MutationObserver(function (mutations, observer) {{\n",
       "        var display = window.getComputedStyle(gd).display;\n",
       "        if (!display || display === 'none') {{\n",
       "            console.log([gd, 'removed!']);\n",
       "            Plotly.purge(gd);\n",
       "            observer.disconnect();\n",
       "        }}\n",
       "}});\n",
       "\n",
       "// Listen for the removal of the full notebook cells\n",
       "var notebookContainer = gd.closest('#notebook-container');\n",
       "if (notebookContainer) {{\n",
       "    x.observe(notebookContainer, {childList: true});\n",
       "}}\n",
       "\n",
       "// Listen for the clearing of the current output cell\n",
       "var outputEl = gd.closest('.output');\n",
       "if (outputEl) {{\n",
       "    x.observe(outputEl, {childList: true});\n",
       "}}\n",
       "\n",
       "                        })                };                });            </script>        </div>"
      ]
     },
     "metadata": {},
     "output_type": "display_data"
    }
   ],
   "source": [
    "fig = make_subplots(rows=1, cols=2, horizontal_spacing = 0.4)\n",
    "colors = px.colors.qualitative.D3  \n",
    "\n",
    "fig.add_trace(go.Bar(x=df128.loc[:,'index'], y=df128.loc[:,'search_time'], marker_color=colors_gorb, marker_opacity = 0.8),\n",
    "              row=1, col=1\n",
    "             )              \n",
    "fig.add_trace(go.Bar(x=df128.loc[:,'index'], y=df128.loc[:,'recall@3'], marker_color=colors_gorb, marker_opacity = 0.8),\n",
    "              row=1, col=2\n",
    "             ) \n",
    "fig.update_yaxes(title_text=\"search time (ms/query)\", row=1, col=1)\n",
    "fig.update_yaxes(title_text=\"1-recall@3\", row=1, col=2)\n",
    "fig.update_xaxes(ticks=\"\", tickangle=30, linecolor='darkgrey')\n",
    "fig.update_yaxes(linecolor='darkgrey')\n",
    "\n",
    "fig.update_layout(height=400, width=500, template=\"simple_white\", showlegend=False, title_text=\"\")\n",
    "fig.update_layout(title=dict(text=\"<B><I>( For IVF-based indexes, nprobe=128 )\", yanchor=\"top\", y=0.85, xanchor=\"left\", x=0.1, \n",
    "                             font_family=\"Arial\", font_color=\"RebeccaPurple\", font_size=13))\n",
    "fig.show()\n",
    "fig.write_html(\"nprobe128_search_recall3.html\")"
   ]
  },
  {
   "cell_type": "code",
   "execution_count": 62,
   "id": "b4045f14",
   "metadata": {
    "execution": {
     "iopub.execute_input": "2022-08-23T06:58:42.151904Z",
     "iopub.status.busy": "2022-08-23T06:58:42.151459Z",
     "iopub.status.idle": "2022-08-23T06:58:42.225982Z",
     "shell.execute_reply": "2022-08-23T06:58:42.225054Z"
    },
    "papermill": {
     "duration": 0.645523,
     "end_time": "2022-08-23T06:58:42.228030",
     "exception": false,
     "start_time": "2022-08-23T06:58:41.582507",
     "status": "completed"
    },
    "tags": []
   },
   "outputs": [
    {
     "data": {
      "text/html": [
       "<div>                            <div id=\"a776ceb4-5bae-4242-a565-280b20ad3269\" class=\"plotly-graph-div\" style=\"height:400px; width:700px;\"></div>            <script type=\"text/javascript\">                require([\"plotly\"], function(Plotly) {                    window.PLOTLYENV=window.PLOTLYENV || {};                                    if (document.getElementById(\"a776ceb4-5bae-4242-a565-280b20ad3269\")) {                    Plotly.newPlot(                        \"a776ceb4-5bae-4242-a565-280b20ad3269\",                        [{\"name\":\"search time (ms/query)\",\"x\":[\"IVF65536_HNSW32,PQ32\",\"IVF65536_HNSW32,Flat\",\"HNSW32,Flat\",\"HNSW32_PQ32\"],\"y\":[0.03336906433105469,0.05547833442687988,0.14854717254638672,0.17235994338989258],\"type\":\"scatter\",\"xaxis\":\"x\",\"yaxis\":\"y\",\"marker\":{\"size\":12,\"color\":\"#E15F99\",\"symbol\":\"diamond\"},\"line\":{\"color\":\"#E15F99\"}},{\"name\":\"1-recall@3\",\"x\":[\"IVF65536_HNSW32,PQ32\",\"IVF65536_HNSW32,Flat\",\"HNSW32,Flat\",\"HNSW32_PQ32\"],\"y\":[0.765,0.84,0.854,0.793],\"type\":\"scatter\",\"xaxis\":\"x\",\"yaxis\":\"y2\",\"marker\":{\"size\":12,\"color\":\"#2E91E5\",\"symbol\":\"hexagram\"},\"line\":{\"color\":\"#2E91E5\"}}],                        {\"template\":{\"data\":{\"barpolar\":[{\"marker\":{\"line\":{\"color\":\"white\",\"width\":0.5},\"pattern\":{\"fillmode\":\"overlay\",\"size\":10,\"solidity\":0.2}},\"type\":\"barpolar\"}],\"bar\":[{\"error_x\":{\"color\":\"rgb(36,36,36)\"},\"error_y\":{\"color\":\"rgb(36,36,36)\"},\"marker\":{\"line\":{\"color\":\"white\",\"width\":0.5},\"pattern\":{\"fillmode\":\"overlay\",\"size\":10,\"solidity\":0.2}},\"type\":\"bar\"}],\"carpet\":[{\"aaxis\":{\"endlinecolor\":\"rgb(36,36,36)\",\"gridcolor\":\"white\",\"linecolor\":\"white\",\"minorgridcolor\":\"white\",\"startlinecolor\":\"rgb(36,36,36)\"},\"baxis\":{\"endlinecolor\":\"rgb(36,36,36)\",\"gridcolor\":\"white\",\"linecolor\":\"white\",\"minorgridcolor\":\"white\",\"startlinecolor\":\"rgb(36,36,36)\"},\"type\":\"carpet\"}],\"choropleth\":[{\"colorbar\":{\"outlinewidth\":1,\"tickcolor\":\"rgb(36,36,36)\",\"ticks\":\"outside\"},\"type\":\"choropleth\"}],\"contourcarpet\":[{\"colorbar\":{\"outlinewidth\":1,\"tickcolor\":\"rgb(36,36,36)\",\"ticks\":\"outside\"},\"type\":\"contourcarpet\"}],\"contour\":[{\"colorbar\":{\"outlinewidth\":1,\"tickcolor\":\"rgb(36,36,36)\",\"ticks\":\"outside\"},\"colorscale\":[[0.0,\"#440154\"],[0.1111111111111111,\"#482878\"],[0.2222222222222222,\"#3e4989\"],[0.3333333333333333,\"#31688e\"],[0.4444444444444444,\"#26828e\"],[0.5555555555555556,\"#1f9e89\"],[0.6666666666666666,\"#35b779\"],[0.7777777777777778,\"#6ece58\"],[0.8888888888888888,\"#b5de2b\"],[1.0,\"#fde725\"]],\"type\":\"contour\"}],\"heatmapgl\":[{\"colorbar\":{\"outlinewidth\":1,\"tickcolor\":\"rgb(36,36,36)\",\"ticks\":\"outside\"},\"colorscale\":[[0.0,\"#440154\"],[0.1111111111111111,\"#482878\"],[0.2222222222222222,\"#3e4989\"],[0.3333333333333333,\"#31688e\"],[0.4444444444444444,\"#26828e\"],[0.5555555555555556,\"#1f9e89\"],[0.6666666666666666,\"#35b779\"],[0.7777777777777778,\"#6ece58\"],[0.8888888888888888,\"#b5de2b\"],[1.0,\"#fde725\"]],\"type\":\"heatmapgl\"}],\"heatmap\":[{\"colorbar\":{\"outlinewidth\":1,\"tickcolor\":\"rgb(36,36,36)\",\"ticks\":\"outside\"},\"colorscale\":[[0.0,\"#440154\"],[0.1111111111111111,\"#482878\"],[0.2222222222222222,\"#3e4989\"],[0.3333333333333333,\"#31688e\"],[0.4444444444444444,\"#26828e\"],[0.5555555555555556,\"#1f9e89\"],[0.6666666666666666,\"#35b779\"],[0.7777777777777778,\"#6ece58\"],[0.8888888888888888,\"#b5de2b\"],[1.0,\"#fde725\"]],\"type\":\"heatmap\"}],\"histogram2dcontour\":[{\"colorbar\":{\"outlinewidth\":1,\"tickcolor\":\"rgb(36,36,36)\",\"ticks\":\"outside\"},\"colorscale\":[[0.0,\"#440154\"],[0.1111111111111111,\"#482878\"],[0.2222222222222222,\"#3e4989\"],[0.3333333333333333,\"#31688e\"],[0.4444444444444444,\"#26828e\"],[0.5555555555555556,\"#1f9e89\"],[0.6666666666666666,\"#35b779\"],[0.7777777777777778,\"#6ece58\"],[0.8888888888888888,\"#b5de2b\"],[1.0,\"#fde725\"]],\"type\":\"histogram2dcontour\"}],\"histogram2d\":[{\"colorbar\":{\"outlinewidth\":1,\"tickcolor\":\"rgb(36,36,36)\",\"ticks\":\"outside\"},\"colorscale\":[[0.0,\"#440154\"],[0.1111111111111111,\"#482878\"],[0.2222222222222222,\"#3e4989\"],[0.3333333333333333,\"#31688e\"],[0.4444444444444444,\"#26828e\"],[0.5555555555555556,\"#1f9e89\"],[0.6666666666666666,\"#35b779\"],[0.7777777777777778,\"#6ece58\"],[0.8888888888888888,\"#b5de2b\"],[1.0,\"#fde725\"]],\"type\":\"histogram2d\"}],\"histogram\":[{\"marker\":{\"line\":{\"color\":\"white\",\"width\":0.6}},\"type\":\"histogram\"}],\"mesh3d\":[{\"colorbar\":{\"outlinewidth\":1,\"tickcolor\":\"rgb(36,36,36)\",\"ticks\":\"outside\"},\"type\":\"mesh3d\"}],\"parcoords\":[{\"line\":{\"colorbar\":{\"outlinewidth\":1,\"tickcolor\":\"rgb(36,36,36)\",\"ticks\":\"outside\"}},\"type\":\"parcoords\"}],\"pie\":[{\"automargin\":true,\"type\":\"pie\"}],\"scatter3d\":[{\"line\":{\"colorbar\":{\"outlinewidth\":1,\"tickcolor\":\"rgb(36,36,36)\",\"ticks\":\"outside\"}},\"marker\":{\"colorbar\":{\"outlinewidth\":1,\"tickcolor\":\"rgb(36,36,36)\",\"ticks\":\"outside\"}},\"type\":\"scatter3d\"}],\"scattercarpet\":[{\"marker\":{\"colorbar\":{\"outlinewidth\":1,\"tickcolor\":\"rgb(36,36,36)\",\"ticks\":\"outside\"}},\"type\":\"scattercarpet\"}],\"scattergeo\":[{\"marker\":{\"colorbar\":{\"outlinewidth\":1,\"tickcolor\":\"rgb(36,36,36)\",\"ticks\":\"outside\"}},\"type\":\"scattergeo\"}],\"scattergl\":[{\"marker\":{\"colorbar\":{\"outlinewidth\":1,\"tickcolor\":\"rgb(36,36,36)\",\"ticks\":\"outside\"}},\"type\":\"scattergl\"}],\"scattermapbox\":[{\"marker\":{\"colorbar\":{\"outlinewidth\":1,\"tickcolor\":\"rgb(36,36,36)\",\"ticks\":\"outside\"}},\"type\":\"scattermapbox\"}],\"scatterpolargl\":[{\"marker\":{\"colorbar\":{\"outlinewidth\":1,\"tickcolor\":\"rgb(36,36,36)\",\"ticks\":\"outside\"}},\"type\":\"scatterpolargl\"}],\"scatterpolar\":[{\"marker\":{\"colorbar\":{\"outlinewidth\":1,\"tickcolor\":\"rgb(36,36,36)\",\"ticks\":\"outside\"}},\"type\":\"scatterpolar\"}],\"scatter\":[{\"fillpattern\":{\"fillmode\":\"overlay\",\"size\":10,\"solidity\":0.2},\"type\":\"scatter\"}],\"scatterternary\":[{\"marker\":{\"colorbar\":{\"outlinewidth\":1,\"tickcolor\":\"rgb(36,36,36)\",\"ticks\":\"outside\"}},\"type\":\"scatterternary\"}],\"surface\":[{\"colorbar\":{\"outlinewidth\":1,\"tickcolor\":\"rgb(36,36,36)\",\"ticks\":\"outside\"},\"colorscale\":[[0.0,\"#440154\"],[0.1111111111111111,\"#482878\"],[0.2222222222222222,\"#3e4989\"],[0.3333333333333333,\"#31688e\"],[0.4444444444444444,\"#26828e\"],[0.5555555555555556,\"#1f9e89\"],[0.6666666666666666,\"#35b779\"],[0.7777777777777778,\"#6ece58\"],[0.8888888888888888,\"#b5de2b\"],[1.0,\"#fde725\"]],\"type\":\"surface\"}],\"table\":[{\"cells\":{\"fill\":{\"color\":\"rgb(237,237,237)\"},\"line\":{\"color\":\"white\"}},\"header\":{\"fill\":{\"color\":\"rgb(217,217,217)\"},\"line\":{\"color\":\"white\"}},\"type\":\"table\"}]},\"layout\":{\"annotationdefaults\":{\"arrowhead\":0,\"arrowwidth\":1},\"autotypenumbers\":\"strict\",\"coloraxis\":{\"colorbar\":{\"outlinewidth\":1,\"tickcolor\":\"rgb(36,36,36)\",\"ticks\":\"outside\"}},\"colorscale\":{\"diverging\":[[0.0,\"rgb(103,0,31)\"],[0.1,\"rgb(178,24,43)\"],[0.2,\"rgb(214,96,77)\"],[0.3,\"rgb(244,165,130)\"],[0.4,\"rgb(253,219,199)\"],[0.5,\"rgb(247,247,247)\"],[0.6,\"rgb(209,229,240)\"],[0.7,\"rgb(146,197,222)\"],[0.8,\"rgb(67,147,195)\"],[0.9,\"rgb(33,102,172)\"],[1.0,\"rgb(5,48,97)\"]],\"sequential\":[[0.0,\"#440154\"],[0.1111111111111111,\"#482878\"],[0.2222222222222222,\"#3e4989\"],[0.3333333333333333,\"#31688e\"],[0.4444444444444444,\"#26828e\"],[0.5555555555555556,\"#1f9e89\"],[0.6666666666666666,\"#35b779\"],[0.7777777777777778,\"#6ece58\"],[0.8888888888888888,\"#b5de2b\"],[1.0,\"#fde725\"]],\"sequentialminus\":[[0.0,\"#440154\"],[0.1111111111111111,\"#482878\"],[0.2222222222222222,\"#3e4989\"],[0.3333333333333333,\"#31688e\"],[0.4444444444444444,\"#26828e\"],[0.5555555555555556,\"#1f9e89\"],[0.6666666666666666,\"#35b779\"],[0.7777777777777778,\"#6ece58\"],[0.8888888888888888,\"#b5de2b\"],[1.0,\"#fde725\"]]},\"colorway\":[\"#1F77B4\",\"#FF7F0E\",\"#2CA02C\",\"#D62728\",\"#9467BD\",\"#8C564B\",\"#E377C2\",\"#7F7F7F\",\"#BCBD22\",\"#17BECF\"],\"font\":{\"color\":\"rgb(36,36,36)\"},\"geo\":{\"bgcolor\":\"white\",\"lakecolor\":\"white\",\"landcolor\":\"white\",\"showlakes\":true,\"showland\":true,\"subunitcolor\":\"white\"},\"hoverlabel\":{\"align\":\"left\"},\"hovermode\":\"closest\",\"mapbox\":{\"style\":\"light\"},\"paper_bgcolor\":\"white\",\"plot_bgcolor\":\"white\",\"polar\":{\"angularaxis\":{\"gridcolor\":\"rgb(232,232,232)\",\"linecolor\":\"rgb(36,36,36)\",\"showgrid\":false,\"showline\":true,\"ticks\":\"outside\"},\"bgcolor\":\"white\",\"radialaxis\":{\"gridcolor\":\"rgb(232,232,232)\",\"linecolor\":\"rgb(36,36,36)\",\"showgrid\":false,\"showline\":true,\"ticks\":\"outside\"}},\"scene\":{\"xaxis\":{\"backgroundcolor\":\"white\",\"gridcolor\":\"rgb(232,232,232)\",\"gridwidth\":2,\"linecolor\":\"rgb(36,36,36)\",\"showbackground\":true,\"showgrid\":false,\"showline\":true,\"ticks\":\"outside\",\"zeroline\":false,\"zerolinecolor\":\"rgb(36,36,36)\"},\"yaxis\":{\"backgroundcolor\":\"white\",\"gridcolor\":\"rgb(232,232,232)\",\"gridwidth\":2,\"linecolor\":\"rgb(36,36,36)\",\"showbackground\":true,\"showgrid\":false,\"showline\":true,\"ticks\":\"outside\",\"zeroline\":false,\"zerolinecolor\":\"rgb(36,36,36)\"},\"zaxis\":{\"backgroundcolor\":\"white\",\"gridcolor\":\"rgb(232,232,232)\",\"gridwidth\":2,\"linecolor\":\"rgb(36,36,36)\",\"showbackground\":true,\"showgrid\":false,\"showline\":true,\"ticks\":\"outside\",\"zeroline\":false,\"zerolinecolor\":\"rgb(36,36,36)\"}},\"shapedefaults\":{\"fillcolor\":\"black\",\"line\":{\"width\":0},\"opacity\":0.3},\"ternary\":{\"aaxis\":{\"gridcolor\":\"rgb(232,232,232)\",\"linecolor\":\"rgb(36,36,36)\",\"showgrid\":false,\"showline\":true,\"ticks\":\"outside\"},\"baxis\":{\"gridcolor\":\"rgb(232,232,232)\",\"linecolor\":\"rgb(36,36,36)\",\"showgrid\":false,\"showline\":true,\"ticks\":\"outside\"},\"bgcolor\":\"white\",\"caxis\":{\"gridcolor\":\"rgb(232,232,232)\",\"linecolor\":\"rgb(36,36,36)\",\"showgrid\":false,\"showline\":true,\"ticks\":\"outside\"}},\"title\":{\"x\":0.05},\"xaxis\":{\"automargin\":true,\"gridcolor\":\"rgb(232,232,232)\",\"linecolor\":\"rgb(36,36,36)\",\"showgrid\":false,\"showline\":true,\"ticks\":\"outside\",\"title\":{\"standoff\":15},\"zeroline\":false,\"zerolinecolor\":\"rgb(36,36,36)\"},\"yaxis\":{\"automargin\":true,\"gridcolor\":\"rgb(232,232,232)\",\"linecolor\":\"rgb(36,36,36)\",\"showgrid\":false,\"showline\":true,\"ticks\":\"outside\",\"title\":{\"standoff\":15},\"zeroline\":false,\"zerolinecolor\":\"rgb(36,36,36)\"}}},\"xaxis\":{\"anchor\":\"y\",\"domain\":[0.0,0.94],\"title\":{\"text\":\"\"},\"tickangle\":8,\"linecolor\":\"darkgrey\"},\"yaxis\":{\"anchor\":\"x\",\"domain\":[0.0,1.0],\"title\":{\"text\":\"<b>search time (ms/query)</b>\"},\"range\":[0.0,0.3],\"color\":\"#E15F99\",\"linecolor\":\"darkgrey\"},\"yaxis2\":{\"anchor\":\"x\",\"overlaying\":\"y\",\"side\":\"right\",\"title\":{\"text\":\"<b>1-recall@3</b>\"},\"range\":[0,1],\"color\":\"#2E91E5\",\"linecolor\":\"darkgrey\"},\"title\":{\"text\":\"Search time vs Recall\"},\"legend\":{\"orientation\":\"h\",\"yanchor\":\"bottom\",\"y\":1.0,\"xanchor\":\"right\",\"x\":0.9,\"borderwidth\":1},\"height\":400,\"width\":700},                        {\"responsive\": true}                    ).then(function(){\n",
       "                            \n",
       "var gd = document.getElementById('a776ceb4-5bae-4242-a565-280b20ad3269');\n",
       "var x = new MutationObserver(function (mutations, observer) {{\n",
       "        var display = window.getComputedStyle(gd).display;\n",
       "        if (!display || display === 'none') {{\n",
       "            console.log([gd, 'removed!']);\n",
       "            Plotly.purge(gd);\n",
       "            observer.disconnect();\n",
       "        }}\n",
       "}});\n",
       "\n",
       "// Listen for the removal of the full notebook cells\n",
       "var notebookContainer = gd.closest('#notebook-container');\n",
       "if (notebookContainer) {{\n",
       "    x.observe(notebookContainer, {childList: true});\n",
       "}}\n",
       "\n",
       "// Listen for the clearing of the current output cell\n",
       "var outputEl = gd.closest('.output');\n",
       "if (outputEl) {{\n",
       "    x.observe(outputEl, {childList: true});\n",
       "}}\n",
       "\n",
       "                        })                };                });            </script>        </div>"
      ]
     },
     "metadata": {},
     "output_type": "display_data"
    }
   ],
   "source": [
    "# Create figure with secondary y-axis.\n",
    "fig = make_subplots(specs=[[{\"secondary_y\": True}]])\n",
    "\n",
    "fig.add_trace(go.Scatter(x=df128.loc[:,'index'], y=df128.loc[:,'search_time'], name=\"search time (ms/query)\"),    \n",
    "              secondary_y=False\n",
    "             )\n",
    "fig.add_trace(go.Scatter(x=df128.loc[:,'index'], y=df128.loc[:,\"recall@3\"], name=\"1-recall@3\"),    \n",
    "              secondary_y=True\n",
    "             )\n",
    "fig.update_layout(height=400, width=700, template=\"simple_white\", title_text=\"Search time vs Recall\",                   \n",
    "                  legend=dict(orientation=\"h\", yanchor=\"bottom\", y=1.0, xanchor=\"right\", x=0.9, borderwidth=1)\n",
    "                 )\n",
    "\n",
    "# Set unique marker style for different lines (https://plotly.com/python/marker-style/)\n",
    "colors = ['#E15F99', '#2E91E5']\n",
    "symbols = [\"diamond\", \"hexagram\"]\n",
    "sizes = [12, 12]\n",
    "\n",
    "for i, fdata in enumerate(fig.data):\n",
    "    fdata.marker.size = sizes[i]\n",
    "    fdata.marker.color = colors[i]\n",
    "    fdata.line.color = colors[i]  \n",
    "    fdata.marker.symbol = symbols[i]\n",
    "    \n",
    "fig.update_xaxes(title_text=\"\", tickangle=8, linecolor='darkgrey')\n",
    "fig.update_yaxes(range=[0.00, 0.30], secondary_y=False, title_text=\"<b>search time (ms/query)</b>\", color=\"#E15F99\", linecolor='darkgrey')\n",
    "fig.update_yaxes(range=[0, 1], secondary_y=True, title_text=\"<b>1-recall@3</b>\", color=\"#2E91E5\", linecolor='darkgrey')\n",
    "fig.show()\n",
    "fig.write_html(\"nprobe128_search_recall_dual_y.html\")"
   ]
  },
  {
   "cell_type": "code",
   "execution_count": 63,
   "id": "46dddca1",
   "metadata": {
    "_kg_hide-input": true,
    "_kg_hide-output": true,
    "execution": {
     "iopub.execute_input": "2022-08-23T06:58:43.589987Z",
     "iopub.status.busy": "2022-08-23T06:58:43.589533Z",
     "iopub.status.idle": "2022-08-23T06:58:43.732169Z",
     "shell.execute_reply": "2022-08-23T06:58:43.731138Z"
    },
    "papermill": {
     "duration": 0.951933,
     "end_time": "2022-08-23T06:58:43.734382",
     "exception": false,
     "start_time": "2022-08-23T06:58:42.782449",
     "status": "completed"
    },
    "tags": []
   },
   "outputs": [
    {
     "data": {
      "text/html": [
       "<div>                            <div id=\"14e1ede6-b751-4445-a51c-39092e43782b\" class=\"plotly-graph-div\" style=\"height:400px; width:650px;\"></div>            <script type=\"text/javascript\">                require([\"plotly\"], function(Plotly) {                    window.PLOTLYENV=window.PLOTLYENV || {};                                    if (document.getElementById(\"14e1ede6-b751-4445-a51c-39092e43782b\")) {                    Plotly.newPlot(                        \"14e1ede6-b751-4445-a51c-39092e43782b\",                        [{\"hovertemplate\":\"index=%{text}<br>search_time=%{x}<br>recall@3=%{y}<br>index_size=%{marker.size}<extra></extra>\",\"legendgroup\":\"IVF65536_HNSW32,PQ32\",\"marker\":{\"color\":\"#2CA02C\",\"size\":[154.209972],\"sizemode\":\"area\",\"sizeref\":0.9409698183999999,\"symbol\":\"circle\",\"opacity\":0.8},\"mode\":\"markers+text\",\"name\":\"IVF65536_HNSW32,PQ32\",\"orientation\":\"v\",\"showlegend\":true,\"text\":[\"IVF65536_HNSW32,PQ32\"],\"x\":[0.03336906433105469],\"xaxis\":\"x\",\"y\":[0.765],\"yaxis\":\"y\",\"type\":\"scatter\",\"textposition\":\"bottom right\",\"textfont\":{\"color\":\"#2CA02C\",\"size\":13,\"family\":\"Arial\"},\"texttemplate\":\"%{text}<br>(%{marker.size:,d} MB)\"},{\"hovertemplate\":\"index=%{text}<br>search_time=%{x}<br>recall@3=%{y}<br>index_size=%{marker.size}<extra></extra>\",\"legendgroup\":\"IVF65536_HNSW32,Flat\",\"marker\":{\"color\":\"#FF7F0E\",\"size\":[1594.078859],\"sizemode\":\"area\",\"sizeref\":0.9409698183999999,\"symbol\":\"circle\",\"opacity\":0.8},\"mode\":\"markers+text\",\"name\":\"IVF65536_HNSW32,Flat\",\"orientation\":\"v\",\"showlegend\":true,\"text\":[\"IVF65536_HNSW32,Flat\"],\"x\":[0.05547833442687988],\"xaxis\":\"x\",\"y\":[0.84],\"yaxis\":\"y\",\"type\":\"scatter\",\"textposition\":\"top center\",\"textfont\":{\"color\":\"#FF7F0E\",\"size\":13,\"family\":\"Arial\"},\"texttemplate\":\"%{text}<br>(%{marker.size:,d} MB)\"},{\"hovertemplate\":\"index=%{text}<br>search_time=%{x}<br>recall@3=%{y}<br>index_size=%{marker.size}<extra></extra>\",\"legendgroup\":\"HNSW32,Flat\",\"marker\":{\"color\":\"#D62728\",\"size\":[2352.4245459999997],\"sizemode\":\"area\",\"sizeref\":0.9409698183999999,\"symbol\":\"circle\",\"opacity\":0.8},\"mode\":\"markers+text\",\"name\":\"HNSW32,Flat\",\"orientation\":\"v\",\"showlegend\":true,\"text\":[\"HNSW32,Flat\"],\"x\":[0.14854717254638672],\"xaxis\":\"x\",\"y\":[0.854],\"yaxis\":\"y\",\"type\":\"scatter\",\"textposition\":\"top center\",\"textfont\":{\"color\":\"#D62728\",\"size\":13,\"family\":\"Arial\"},\"texttemplate\":\"%{text}<br>(%{marker.size:,d} MB)\"},{\"hovertemplate\":\"index=%{text}<br>search_time=%{x}<br>recall@3=%{y}<br>index_size=%{marker.size}<extra></extra>\",\"legendgroup\":\"HNSW32_PQ32\",\"marker\":{\"color\":\"#1F77B4\",\"size\":[912.555659],\"sizemode\":\"area\",\"sizeref\":0.9409698183999999,\"symbol\":\"circle\",\"opacity\":0.8},\"mode\":\"markers+text\",\"name\":\"HNSW32_PQ32\",\"orientation\":\"v\",\"showlegend\":true,\"text\":[\"HNSW32_PQ32\"],\"x\":[0.17235994338989258],\"xaxis\":\"x\",\"y\":[0.793],\"yaxis\":\"y\",\"type\":\"scatter\",\"textposition\":\"bottom center\",\"textfont\":{\"color\":\"#1F77B4\",\"size\":13,\"family\":\"Arial\"},\"texttemplate\":\"%{text}<br>(%{marker.size:,d} MB)\"}],                        {\"template\":{\"data\":{\"barpolar\":[{\"marker\":{\"line\":{\"color\":\"white\",\"width\":0.5},\"pattern\":{\"fillmode\":\"overlay\",\"size\":10,\"solidity\":0.2}},\"type\":\"barpolar\"}],\"bar\":[{\"error_x\":{\"color\":\"rgb(36,36,36)\"},\"error_y\":{\"color\":\"rgb(36,36,36)\"},\"marker\":{\"line\":{\"color\":\"white\",\"width\":0.5},\"pattern\":{\"fillmode\":\"overlay\",\"size\":10,\"solidity\":0.2}},\"type\":\"bar\"}],\"carpet\":[{\"aaxis\":{\"endlinecolor\":\"rgb(36,36,36)\",\"gridcolor\":\"white\",\"linecolor\":\"white\",\"minorgridcolor\":\"white\",\"startlinecolor\":\"rgb(36,36,36)\"},\"baxis\":{\"endlinecolor\":\"rgb(36,36,36)\",\"gridcolor\":\"white\",\"linecolor\":\"white\",\"minorgridcolor\":\"white\",\"startlinecolor\":\"rgb(36,36,36)\"},\"type\":\"carpet\"}],\"choropleth\":[{\"colorbar\":{\"outlinewidth\":1,\"tickcolor\":\"rgb(36,36,36)\",\"ticks\":\"outside\"},\"type\":\"choropleth\"}],\"contourcarpet\":[{\"colorbar\":{\"outlinewidth\":1,\"tickcolor\":\"rgb(36,36,36)\",\"ticks\":\"outside\"},\"type\":\"contourcarpet\"}],\"contour\":[{\"colorbar\":{\"outlinewidth\":1,\"tickcolor\":\"rgb(36,36,36)\",\"ticks\":\"outside\"},\"colorscale\":[[0.0,\"#440154\"],[0.1111111111111111,\"#482878\"],[0.2222222222222222,\"#3e4989\"],[0.3333333333333333,\"#31688e\"],[0.4444444444444444,\"#26828e\"],[0.5555555555555556,\"#1f9e89\"],[0.6666666666666666,\"#35b779\"],[0.7777777777777778,\"#6ece58\"],[0.8888888888888888,\"#b5de2b\"],[1.0,\"#fde725\"]],\"type\":\"contour\"}],\"heatmapgl\":[{\"colorbar\":{\"outlinewidth\":1,\"tickcolor\":\"rgb(36,36,36)\",\"ticks\":\"outside\"},\"colorscale\":[[0.0,\"#440154\"],[0.1111111111111111,\"#482878\"],[0.2222222222222222,\"#3e4989\"],[0.3333333333333333,\"#31688e\"],[0.4444444444444444,\"#26828e\"],[0.5555555555555556,\"#1f9e89\"],[0.6666666666666666,\"#35b779\"],[0.7777777777777778,\"#6ece58\"],[0.8888888888888888,\"#b5de2b\"],[1.0,\"#fde725\"]],\"type\":\"heatmapgl\"}],\"heatmap\":[{\"colorbar\":{\"outlinewidth\":1,\"tickcolor\":\"rgb(36,36,36)\",\"ticks\":\"outside\"},\"colorscale\":[[0.0,\"#440154\"],[0.1111111111111111,\"#482878\"],[0.2222222222222222,\"#3e4989\"],[0.3333333333333333,\"#31688e\"],[0.4444444444444444,\"#26828e\"],[0.5555555555555556,\"#1f9e89\"],[0.6666666666666666,\"#35b779\"],[0.7777777777777778,\"#6ece58\"],[0.8888888888888888,\"#b5de2b\"],[1.0,\"#fde725\"]],\"type\":\"heatmap\"}],\"histogram2dcontour\":[{\"colorbar\":{\"outlinewidth\":1,\"tickcolor\":\"rgb(36,36,36)\",\"ticks\":\"outside\"},\"colorscale\":[[0.0,\"#440154\"],[0.1111111111111111,\"#482878\"],[0.2222222222222222,\"#3e4989\"],[0.3333333333333333,\"#31688e\"],[0.4444444444444444,\"#26828e\"],[0.5555555555555556,\"#1f9e89\"],[0.6666666666666666,\"#35b779\"],[0.7777777777777778,\"#6ece58\"],[0.8888888888888888,\"#b5de2b\"],[1.0,\"#fde725\"]],\"type\":\"histogram2dcontour\"}],\"histogram2d\":[{\"colorbar\":{\"outlinewidth\":1,\"tickcolor\":\"rgb(36,36,36)\",\"ticks\":\"outside\"},\"colorscale\":[[0.0,\"#440154\"],[0.1111111111111111,\"#482878\"],[0.2222222222222222,\"#3e4989\"],[0.3333333333333333,\"#31688e\"],[0.4444444444444444,\"#26828e\"],[0.5555555555555556,\"#1f9e89\"],[0.6666666666666666,\"#35b779\"],[0.7777777777777778,\"#6ece58\"],[0.8888888888888888,\"#b5de2b\"],[1.0,\"#fde725\"]],\"type\":\"histogram2d\"}],\"histogram\":[{\"marker\":{\"line\":{\"color\":\"white\",\"width\":0.6}},\"type\":\"histogram\"}],\"mesh3d\":[{\"colorbar\":{\"outlinewidth\":1,\"tickcolor\":\"rgb(36,36,36)\",\"ticks\":\"outside\"},\"type\":\"mesh3d\"}],\"parcoords\":[{\"line\":{\"colorbar\":{\"outlinewidth\":1,\"tickcolor\":\"rgb(36,36,36)\",\"ticks\":\"outside\"}},\"type\":\"parcoords\"}],\"pie\":[{\"automargin\":true,\"type\":\"pie\"}],\"scatter3d\":[{\"line\":{\"colorbar\":{\"outlinewidth\":1,\"tickcolor\":\"rgb(36,36,36)\",\"ticks\":\"outside\"}},\"marker\":{\"colorbar\":{\"outlinewidth\":1,\"tickcolor\":\"rgb(36,36,36)\",\"ticks\":\"outside\"}},\"type\":\"scatter3d\"}],\"scattercarpet\":[{\"marker\":{\"colorbar\":{\"outlinewidth\":1,\"tickcolor\":\"rgb(36,36,36)\",\"ticks\":\"outside\"}},\"type\":\"scattercarpet\"}],\"scattergeo\":[{\"marker\":{\"colorbar\":{\"outlinewidth\":1,\"tickcolor\":\"rgb(36,36,36)\",\"ticks\":\"outside\"}},\"type\":\"scattergeo\"}],\"scattergl\":[{\"marker\":{\"colorbar\":{\"outlinewidth\":1,\"tickcolor\":\"rgb(36,36,36)\",\"ticks\":\"outside\"}},\"type\":\"scattergl\"}],\"scattermapbox\":[{\"marker\":{\"colorbar\":{\"outlinewidth\":1,\"tickcolor\":\"rgb(36,36,36)\",\"ticks\":\"outside\"}},\"type\":\"scattermapbox\"}],\"scatterpolargl\":[{\"marker\":{\"colorbar\":{\"outlinewidth\":1,\"tickcolor\":\"rgb(36,36,36)\",\"ticks\":\"outside\"}},\"type\":\"scatterpolargl\"}],\"scatterpolar\":[{\"marker\":{\"colorbar\":{\"outlinewidth\":1,\"tickcolor\":\"rgb(36,36,36)\",\"ticks\":\"outside\"}},\"type\":\"scatterpolar\"}],\"scatter\":[{\"fillpattern\":{\"fillmode\":\"overlay\",\"size\":10,\"solidity\":0.2},\"type\":\"scatter\"}],\"scatterternary\":[{\"marker\":{\"colorbar\":{\"outlinewidth\":1,\"tickcolor\":\"rgb(36,36,36)\",\"ticks\":\"outside\"}},\"type\":\"scatterternary\"}],\"surface\":[{\"colorbar\":{\"outlinewidth\":1,\"tickcolor\":\"rgb(36,36,36)\",\"ticks\":\"outside\"},\"colorscale\":[[0.0,\"#440154\"],[0.1111111111111111,\"#482878\"],[0.2222222222222222,\"#3e4989\"],[0.3333333333333333,\"#31688e\"],[0.4444444444444444,\"#26828e\"],[0.5555555555555556,\"#1f9e89\"],[0.6666666666666666,\"#35b779\"],[0.7777777777777778,\"#6ece58\"],[0.8888888888888888,\"#b5de2b\"],[1.0,\"#fde725\"]],\"type\":\"surface\"}],\"table\":[{\"cells\":{\"fill\":{\"color\":\"rgb(237,237,237)\"},\"line\":{\"color\":\"white\"}},\"header\":{\"fill\":{\"color\":\"rgb(217,217,217)\"},\"line\":{\"color\":\"white\"}},\"type\":\"table\"}]},\"layout\":{\"annotationdefaults\":{\"arrowhead\":0,\"arrowwidth\":1},\"autotypenumbers\":\"strict\",\"coloraxis\":{\"colorbar\":{\"outlinewidth\":1,\"tickcolor\":\"rgb(36,36,36)\",\"ticks\":\"outside\"}},\"colorscale\":{\"diverging\":[[0.0,\"rgb(103,0,31)\"],[0.1,\"rgb(178,24,43)\"],[0.2,\"rgb(214,96,77)\"],[0.3,\"rgb(244,165,130)\"],[0.4,\"rgb(253,219,199)\"],[0.5,\"rgb(247,247,247)\"],[0.6,\"rgb(209,229,240)\"],[0.7,\"rgb(146,197,222)\"],[0.8,\"rgb(67,147,195)\"],[0.9,\"rgb(33,102,172)\"],[1.0,\"rgb(5,48,97)\"]],\"sequential\":[[0.0,\"#440154\"],[0.1111111111111111,\"#482878\"],[0.2222222222222222,\"#3e4989\"],[0.3333333333333333,\"#31688e\"],[0.4444444444444444,\"#26828e\"],[0.5555555555555556,\"#1f9e89\"],[0.6666666666666666,\"#35b779\"],[0.7777777777777778,\"#6ece58\"],[0.8888888888888888,\"#b5de2b\"],[1.0,\"#fde725\"]],\"sequentialminus\":[[0.0,\"#440154\"],[0.1111111111111111,\"#482878\"],[0.2222222222222222,\"#3e4989\"],[0.3333333333333333,\"#31688e\"],[0.4444444444444444,\"#26828e\"],[0.5555555555555556,\"#1f9e89\"],[0.6666666666666666,\"#35b779\"],[0.7777777777777778,\"#6ece58\"],[0.8888888888888888,\"#b5de2b\"],[1.0,\"#fde725\"]]},\"colorway\":[\"#1F77B4\",\"#FF7F0E\",\"#2CA02C\",\"#D62728\",\"#9467BD\",\"#8C564B\",\"#E377C2\",\"#7F7F7F\",\"#BCBD22\",\"#17BECF\"],\"font\":{\"color\":\"rgb(36,36,36)\"},\"geo\":{\"bgcolor\":\"white\",\"lakecolor\":\"white\",\"landcolor\":\"white\",\"showlakes\":true,\"showland\":true,\"subunitcolor\":\"white\"},\"hoverlabel\":{\"align\":\"left\"},\"hovermode\":\"closest\",\"mapbox\":{\"style\":\"light\"},\"paper_bgcolor\":\"white\",\"plot_bgcolor\":\"white\",\"polar\":{\"angularaxis\":{\"gridcolor\":\"rgb(232,232,232)\",\"linecolor\":\"rgb(36,36,36)\",\"showgrid\":false,\"showline\":true,\"ticks\":\"outside\"},\"bgcolor\":\"white\",\"radialaxis\":{\"gridcolor\":\"rgb(232,232,232)\",\"linecolor\":\"rgb(36,36,36)\",\"showgrid\":false,\"showline\":true,\"ticks\":\"outside\"}},\"scene\":{\"xaxis\":{\"backgroundcolor\":\"white\",\"gridcolor\":\"rgb(232,232,232)\",\"gridwidth\":2,\"linecolor\":\"rgb(36,36,36)\",\"showbackground\":true,\"showgrid\":false,\"showline\":true,\"ticks\":\"outside\",\"zeroline\":false,\"zerolinecolor\":\"rgb(36,36,36)\"},\"yaxis\":{\"backgroundcolor\":\"white\",\"gridcolor\":\"rgb(232,232,232)\",\"gridwidth\":2,\"linecolor\":\"rgb(36,36,36)\",\"showbackground\":true,\"showgrid\":false,\"showline\":true,\"ticks\":\"outside\",\"zeroline\":false,\"zerolinecolor\":\"rgb(36,36,36)\"},\"zaxis\":{\"backgroundcolor\":\"white\",\"gridcolor\":\"rgb(232,232,232)\",\"gridwidth\":2,\"linecolor\":\"rgb(36,36,36)\",\"showbackground\":true,\"showgrid\":false,\"showline\":true,\"ticks\":\"outside\",\"zeroline\":false,\"zerolinecolor\":\"rgb(36,36,36)\"}},\"shapedefaults\":{\"fillcolor\":\"black\",\"line\":{\"width\":0},\"opacity\":0.3},\"ternary\":{\"aaxis\":{\"gridcolor\":\"rgb(232,232,232)\",\"linecolor\":\"rgb(36,36,36)\",\"showgrid\":false,\"showline\":true,\"ticks\":\"outside\"},\"baxis\":{\"gridcolor\":\"rgb(232,232,232)\",\"linecolor\":\"rgb(36,36,36)\",\"showgrid\":false,\"showline\":true,\"ticks\":\"outside\"},\"bgcolor\":\"white\",\"caxis\":{\"gridcolor\":\"rgb(232,232,232)\",\"linecolor\":\"rgb(36,36,36)\",\"showgrid\":false,\"showline\":true,\"ticks\":\"outside\"}},\"title\":{\"x\":0.05},\"xaxis\":{\"automargin\":true,\"gridcolor\":\"rgb(232,232,232)\",\"linecolor\":\"rgb(36,36,36)\",\"showgrid\":false,\"showline\":true,\"ticks\":\"outside\",\"title\":{\"standoff\":15},\"zeroline\":false,\"zerolinecolor\":\"rgb(36,36,36)\"},\"yaxis\":{\"automargin\":true,\"gridcolor\":\"rgb(232,232,232)\",\"linecolor\":\"rgb(36,36,36)\",\"showgrid\":false,\"showline\":true,\"ticks\":\"outside\",\"title\":{\"standoff\":15},\"zeroline\":false,\"zerolinecolor\":\"rgb(36,36,36)\"}}},\"xaxis\":{\"anchor\":\"y\",\"domain\":[0.0,1.0],\"title\":{\"text\":\"search time (ms/query)\"},\"range\":[0,0.29],\"linecolor\":\"darkgrey\"},\"yaxis\":{\"anchor\":\"x\",\"domain\":[0.0,1.0],\"title\":{\"text\":\"1-recall@3\"},\"range\":[0.5,1],\"linecolor\":\"darkgrey\"},\"legend\":{\"title\":{\"text\":\"index\"},\"tracegroupgap\":0,\"itemsizing\":\"constant\"},\"margin\":{\"t\":60},\"height\":400,\"width\":650,\"showlegend\":false,\"title\":{\"font\":{\"family\":\"Arial\",\"color\":\"RebeccaPurple\",\"size\":13},\"text\":\"<B><I>( For IVF-based indexes, nprobe=128 )\",\"yanchor\":\"top\",\"y\":0.3,\"xanchor\":\"left\",\"x\":0.15}},                        {\"responsive\": true}                    ).then(function(){\n",
       "                            \n",
       "var gd = document.getElementById('14e1ede6-b751-4445-a51c-39092e43782b');\n",
       "var x = new MutationObserver(function (mutations, observer) {{\n",
       "        var display = window.getComputedStyle(gd).display;\n",
       "        if (!display || display === 'none') {{\n",
       "            console.log([gd, 'removed!']);\n",
       "            Plotly.purge(gd);\n",
       "            observer.disconnect();\n",
       "        }}\n",
       "}});\n",
       "\n",
       "// Listen for the removal of the full notebook cells\n",
       "var notebookContainer = gd.closest('#notebook-container');\n",
       "if (notebookContainer) {{\n",
       "    x.observe(notebookContainer, {childList: true});\n",
       "}}\n",
       "\n",
       "// Listen for the clearing of the current output cell\n",
       "var outputEl = gd.closest('.output');\n",
       "if (outputEl) {{\n",
       "    x.observe(outputEl, {childList: true});\n",
       "}}\n",
       "\n",
       "                        })                };                });            </script>        </div>"
      ]
     },
     "metadata": {},
     "output_type": "display_data"
    }
   ],
   "source": [
    "fig = px.scatter(df128, x=\"search_time\", y=\"recall@3\", color=\"index\", height=400, width=650,\n",
    "                 template=\"simple_white\", text=\"index\", size=\"index_size\", size_max=50)     \n",
    "\n",
    "positions = [\"bottom right\", \"top center\", \"top center\", \"bottom center\"]\n",
    "\n",
    "for i, fdata in enumerate(fig.data):   \n",
    "    fdata.textposition = positions[i]\n",
    "    fdata.marker.opacity = 0.8\n",
    "    fdata.marker.color = colors_gorb[i]    \n",
    "    fdata.textfont.color = colors_gorb[i]   \n",
    "    fdata.textfont.size = 13    \n",
    "    fdata.textfont.family=\"Arial\"\n",
    "    \n",
    "fig.update_traces(mode='markers+text')#, textposition=\"middle right\") \n",
    "fig.update_traces(texttemplate=\"%{text}<br>(%{marker.size:,d} MB)\")\n",
    "fig.update_layout(xaxis_title_text=\"search time (ms/query)\", yaxis_title_text=\"1-recall@3\", yaxis_range=[0.5, 1], xaxis_range=[0, 0.29], showlegend=False)\n",
    "fig.update_layout(title=dict(text=\"<B><I>( For IVF-based indexes, nprobe=128 )\", yanchor=\"top\", y=0.3, xanchor=\"left\", x=0.15, \n",
    "                             font_family=\"Arial\", font_color=\"RebeccaPurple\", font_size=13))\n",
    "fig.update_xaxes(linecolor='darkgrey')\n",
    "fig.update_yaxes(linecolor='darkgrey')\n",
    "fig.show()\n",
    "fig.write_html(\"nprobe128_search_recall_bubble0.html\")"
   ]
  },
  {
   "cell_type": "code",
   "execution_count": 64,
   "id": "82a59820",
   "metadata": {
    "execution": {
     "iopub.execute_input": "2022-08-23T06:58:44.864619Z",
     "iopub.status.busy": "2022-08-23T06:58:44.863600Z",
     "iopub.status.idle": "2022-08-23T06:58:44.957397Z",
     "shell.execute_reply": "2022-08-23T06:58:44.956468Z"
    },
    "papermill": {
     "duration": 0.652598,
     "end_time": "2022-08-23T06:58:44.959530",
     "exception": false,
     "start_time": "2022-08-23T06:58:44.306932",
     "status": "completed"
    },
    "tags": []
   },
   "outputs": [
    {
     "data": {
      "text/html": [
       "<div>                            <div id=\"32ebe0b7-a72f-4dd9-b681-8cb33a6ef0e1\" class=\"plotly-graph-div\" style=\"height:400px; width:650px;\"></div>            <script type=\"text/javascript\">                require([\"plotly\"], function(Plotly) {                    window.PLOTLYENV=window.PLOTLYENV || {};                                    if (document.getElementById(\"32ebe0b7-a72f-4dd9-b681-8cb33a6ef0e1\")) {                    Plotly.newPlot(                        \"32ebe0b7-a72f-4dd9-b681-8cb33a6ef0e1\",                        [{\"hovertemplate\":\"index=%{text}<br>search_time=%{x}<br>recall@3=%{y}<br>index_size=%{marker.size}<extra></extra>\",\"legendgroup\":\"IVF65536_HNSW32,PQ32\",\"marker\":{\"color\":\"#2CA02C\",\"size\":[154.209972],\"sizemode\":\"area\",\"sizeref\":0.9409698183999999,\"symbol\":\"circle\",\"opacity\":0.8},\"mode\":\"markers+text\",\"name\":\"IVF65536_HNSW32,PQ32\",\"orientation\":\"v\",\"showlegend\":true,\"text\":[\"IVF65536_HNSW32,PQ32\"],\"x\":[0.03336906433105469],\"xaxis\":\"x\",\"y\":[0.765],\"yaxis\":\"y\",\"type\":\"scatter\",\"textposition\":\"bottom right\",\"textfont\":{\"color\":\"#2CA02C\",\"size\":13,\"family\":\"Arial\"},\"texttemplate\":\"%{text}<br>(%{marker.size:,d} MB)\"},{\"hovertemplate\":\"index=%{text}<br>search_time=%{x}<br>recall@3=%{y}<br>index_size=%{marker.size}<extra></extra>\",\"legendgroup\":\"IVF65536_HNSW32,Flat\",\"marker\":{\"color\":\"#FF7F0E\",\"size\":[1594.078859],\"sizemode\":\"area\",\"sizeref\":0.9409698183999999,\"symbol\":\"circle\",\"opacity\":0.8},\"mode\":\"markers+text\",\"name\":\"IVF65536_HNSW32,Flat\",\"orientation\":\"v\",\"showlegend\":true,\"text\":[\"IVF65536_HNSW32,Flat\"],\"x\":[0.05547833442687988],\"xaxis\":\"x\",\"y\":[0.84],\"yaxis\":\"y\",\"type\":\"scatter\",\"textposition\":\"top center\",\"textfont\":{\"color\":\"#FF7F0E\",\"size\":13,\"family\":\"Arial\"},\"texttemplate\":\"%{text}<br>(%{marker.size:,d} MB)\"},{\"hovertemplate\":\"index=%{text}<br>search_time=%{x}<br>recall@3=%{y}<br>index_size=%{marker.size}<extra></extra>\",\"legendgroup\":\"HNSW32,Flat\",\"marker\":{\"color\":\"#D62728\",\"size\":[2352.4245459999997],\"sizemode\":\"area\",\"sizeref\":0.9409698183999999,\"symbol\":\"circle\",\"opacity\":0.8},\"mode\":\"markers+text\",\"name\":\"HNSW32,Flat\",\"orientation\":\"v\",\"showlegend\":true,\"text\":[\"HNSW32,Flat\"],\"x\":[0.14854717254638672],\"xaxis\":\"x\",\"y\":[0.854],\"yaxis\":\"y\",\"type\":\"scatter\",\"textposition\":\"top center\",\"textfont\":{\"color\":\"#D62728\",\"size\":13,\"family\":\"Arial\"},\"texttemplate\":\"%{text}<br>(%{marker.size:,d} MB)\"},{\"hovertemplate\":\"index=%{text}<br>search_time=%{x}<br>recall@3=%{y}<br>index_size=%{marker.size}<extra></extra>\",\"legendgroup\":\"HNSW32_PQ32\",\"marker\":{\"color\":\"#1F77B4\",\"size\":[912.555659],\"sizemode\":\"area\",\"sizeref\":0.9409698183999999,\"symbol\":\"circle\",\"opacity\":0.8},\"mode\":\"markers+text\",\"name\":\"HNSW32_PQ32\",\"orientation\":\"v\",\"showlegend\":true,\"text\":[\"HNSW32_PQ32\"],\"x\":[0.17235994338989258],\"xaxis\":\"x\",\"y\":[0.793],\"yaxis\":\"y\",\"type\":\"scatter\",\"textposition\":\"bottom right\",\"textfont\":{\"color\":\"#1F77B4\",\"size\":13,\"family\":\"Arial\"},\"texttemplate\":\"%{text}<br>(%{marker.size:,d} MB)\"}],                        {\"template\":{\"data\":{\"barpolar\":[{\"marker\":{\"line\":{\"color\":\"white\",\"width\":0.5},\"pattern\":{\"fillmode\":\"overlay\",\"size\":10,\"solidity\":0.2}},\"type\":\"barpolar\"}],\"bar\":[{\"error_x\":{\"color\":\"rgb(36,36,36)\"},\"error_y\":{\"color\":\"rgb(36,36,36)\"},\"marker\":{\"line\":{\"color\":\"white\",\"width\":0.5},\"pattern\":{\"fillmode\":\"overlay\",\"size\":10,\"solidity\":0.2}},\"type\":\"bar\"}],\"carpet\":[{\"aaxis\":{\"endlinecolor\":\"rgb(36,36,36)\",\"gridcolor\":\"white\",\"linecolor\":\"white\",\"minorgridcolor\":\"white\",\"startlinecolor\":\"rgb(36,36,36)\"},\"baxis\":{\"endlinecolor\":\"rgb(36,36,36)\",\"gridcolor\":\"white\",\"linecolor\":\"white\",\"minorgridcolor\":\"white\",\"startlinecolor\":\"rgb(36,36,36)\"},\"type\":\"carpet\"}],\"choropleth\":[{\"colorbar\":{\"outlinewidth\":1,\"tickcolor\":\"rgb(36,36,36)\",\"ticks\":\"outside\"},\"type\":\"choropleth\"}],\"contourcarpet\":[{\"colorbar\":{\"outlinewidth\":1,\"tickcolor\":\"rgb(36,36,36)\",\"ticks\":\"outside\"},\"type\":\"contourcarpet\"}],\"contour\":[{\"colorbar\":{\"outlinewidth\":1,\"tickcolor\":\"rgb(36,36,36)\",\"ticks\":\"outside\"},\"colorscale\":[[0.0,\"#440154\"],[0.1111111111111111,\"#482878\"],[0.2222222222222222,\"#3e4989\"],[0.3333333333333333,\"#31688e\"],[0.4444444444444444,\"#26828e\"],[0.5555555555555556,\"#1f9e89\"],[0.6666666666666666,\"#35b779\"],[0.7777777777777778,\"#6ece58\"],[0.8888888888888888,\"#b5de2b\"],[1.0,\"#fde725\"]],\"type\":\"contour\"}],\"heatmapgl\":[{\"colorbar\":{\"outlinewidth\":1,\"tickcolor\":\"rgb(36,36,36)\",\"ticks\":\"outside\"},\"colorscale\":[[0.0,\"#440154\"],[0.1111111111111111,\"#482878\"],[0.2222222222222222,\"#3e4989\"],[0.3333333333333333,\"#31688e\"],[0.4444444444444444,\"#26828e\"],[0.5555555555555556,\"#1f9e89\"],[0.6666666666666666,\"#35b779\"],[0.7777777777777778,\"#6ece58\"],[0.8888888888888888,\"#b5de2b\"],[1.0,\"#fde725\"]],\"type\":\"heatmapgl\"}],\"heatmap\":[{\"colorbar\":{\"outlinewidth\":1,\"tickcolor\":\"rgb(36,36,36)\",\"ticks\":\"outside\"},\"colorscale\":[[0.0,\"#440154\"],[0.1111111111111111,\"#482878\"],[0.2222222222222222,\"#3e4989\"],[0.3333333333333333,\"#31688e\"],[0.4444444444444444,\"#26828e\"],[0.5555555555555556,\"#1f9e89\"],[0.6666666666666666,\"#35b779\"],[0.7777777777777778,\"#6ece58\"],[0.8888888888888888,\"#b5de2b\"],[1.0,\"#fde725\"]],\"type\":\"heatmap\"}],\"histogram2dcontour\":[{\"colorbar\":{\"outlinewidth\":1,\"tickcolor\":\"rgb(36,36,36)\",\"ticks\":\"outside\"},\"colorscale\":[[0.0,\"#440154\"],[0.1111111111111111,\"#482878\"],[0.2222222222222222,\"#3e4989\"],[0.3333333333333333,\"#31688e\"],[0.4444444444444444,\"#26828e\"],[0.5555555555555556,\"#1f9e89\"],[0.6666666666666666,\"#35b779\"],[0.7777777777777778,\"#6ece58\"],[0.8888888888888888,\"#b5de2b\"],[1.0,\"#fde725\"]],\"type\":\"histogram2dcontour\"}],\"histogram2d\":[{\"colorbar\":{\"outlinewidth\":1,\"tickcolor\":\"rgb(36,36,36)\",\"ticks\":\"outside\"},\"colorscale\":[[0.0,\"#440154\"],[0.1111111111111111,\"#482878\"],[0.2222222222222222,\"#3e4989\"],[0.3333333333333333,\"#31688e\"],[0.4444444444444444,\"#26828e\"],[0.5555555555555556,\"#1f9e89\"],[0.6666666666666666,\"#35b779\"],[0.7777777777777778,\"#6ece58\"],[0.8888888888888888,\"#b5de2b\"],[1.0,\"#fde725\"]],\"type\":\"histogram2d\"}],\"histogram\":[{\"marker\":{\"line\":{\"color\":\"white\",\"width\":0.6}},\"type\":\"histogram\"}],\"mesh3d\":[{\"colorbar\":{\"outlinewidth\":1,\"tickcolor\":\"rgb(36,36,36)\",\"ticks\":\"outside\"},\"type\":\"mesh3d\"}],\"parcoords\":[{\"line\":{\"colorbar\":{\"outlinewidth\":1,\"tickcolor\":\"rgb(36,36,36)\",\"ticks\":\"outside\"}},\"type\":\"parcoords\"}],\"pie\":[{\"automargin\":true,\"type\":\"pie\"}],\"scatter3d\":[{\"line\":{\"colorbar\":{\"outlinewidth\":1,\"tickcolor\":\"rgb(36,36,36)\",\"ticks\":\"outside\"}},\"marker\":{\"colorbar\":{\"outlinewidth\":1,\"tickcolor\":\"rgb(36,36,36)\",\"ticks\":\"outside\"}},\"type\":\"scatter3d\"}],\"scattercarpet\":[{\"marker\":{\"colorbar\":{\"outlinewidth\":1,\"tickcolor\":\"rgb(36,36,36)\",\"ticks\":\"outside\"}},\"type\":\"scattercarpet\"}],\"scattergeo\":[{\"marker\":{\"colorbar\":{\"outlinewidth\":1,\"tickcolor\":\"rgb(36,36,36)\",\"ticks\":\"outside\"}},\"type\":\"scattergeo\"}],\"scattergl\":[{\"marker\":{\"colorbar\":{\"outlinewidth\":1,\"tickcolor\":\"rgb(36,36,36)\",\"ticks\":\"outside\"}},\"type\":\"scattergl\"}],\"scattermapbox\":[{\"marker\":{\"colorbar\":{\"outlinewidth\":1,\"tickcolor\":\"rgb(36,36,36)\",\"ticks\":\"outside\"}},\"type\":\"scattermapbox\"}],\"scatterpolargl\":[{\"marker\":{\"colorbar\":{\"outlinewidth\":1,\"tickcolor\":\"rgb(36,36,36)\",\"ticks\":\"outside\"}},\"type\":\"scatterpolargl\"}],\"scatterpolar\":[{\"marker\":{\"colorbar\":{\"outlinewidth\":1,\"tickcolor\":\"rgb(36,36,36)\",\"ticks\":\"outside\"}},\"type\":\"scatterpolar\"}],\"scatter\":[{\"fillpattern\":{\"fillmode\":\"overlay\",\"size\":10,\"solidity\":0.2},\"type\":\"scatter\"}],\"scatterternary\":[{\"marker\":{\"colorbar\":{\"outlinewidth\":1,\"tickcolor\":\"rgb(36,36,36)\",\"ticks\":\"outside\"}},\"type\":\"scatterternary\"}],\"surface\":[{\"colorbar\":{\"outlinewidth\":1,\"tickcolor\":\"rgb(36,36,36)\",\"ticks\":\"outside\"},\"colorscale\":[[0.0,\"#440154\"],[0.1111111111111111,\"#482878\"],[0.2222222222222222,\"#3e4989\"],[0.3333333333333333,\"#31688e\"],[0.4444444444444444,\"#26828e\"],[0.5555555555555556,\"#1f9e89\"],[0.6666666666666666,\"#35b779\"],[0.7777777777777778,\"#6ece58\"],[0.8888888888888888,\"#b5de2b\"],[1.0,\"#fde725\"]],\"type\":\"surface\"}],\"table\":[{\"cells\":{\"fill\":{\"color\":\"rgb(237,237,237)\"},\"line\":{\"color\":\"white\"}},\"header\":{\"fill\":{\"color\":\"rgb(217,217,217)\"},\"line\":{\"color\":\"white\"}},\"type\":\"table\"}]},\"layout\":{\"annotationdefaults\":{\"arrowhead\":0,\"arrowwidth\":1},\"autotypenumbers\":\"strict\",\"coloraxis\":{\"colorbar\":{\"outlinewidth\":1,\"tickcolor\":\"rgb(36,36,36)\",\"ticks\":\"outside\"}},\"colorscale\":{\"diverging\":[[0.0,\"rgb(103,0,31)\"],[0.1,\"rgb(178,24,43)\"],[0.2,\"rgb(214,96,77)\"],[0.3,\"rgb(244,165,130)\"],[0.4,\"rgb(253,219,199)\"],[0.5,\"rgb(247,247,247)\"],[0.6,\"rgb(209,229,240)\"],[0.7,\"rgb(146,197,222)\"],[0.8,\"rgb(67,147,195)\"],[0.9,\"rgb(33,102,172)\"],[1.0,\"rgb(5,48,97)\"]],\"sequential\":[[0.0,\"#440154\"],[0.1111111111111111,\"#482878\"],[0.2222222222222222,\"#3e4989\"],[0.3333333333333333,\"#31688e\"],[0.4444444444444444,\"#26828e\"],[0.5555555555555556,\"#1f9e89\"],[0.6666666666666666,\"#35b779\"],[0.7777777777777778,\"#6ece58\"],[0.8888888888888888,\"#b5de2b\"],[1.0,\"#fde725\"]],\"sequentialminus\":[[0.0,\"#440154\"],[0.1111111111111111,\"#482878\"],[0.2222222222222222,\"#3e4989\"],[0.3333333333333333,\"#31688e\"],[0.4444444444444444,\"#26828e\"],[0.5555555555555556,\"#1f9e89\"],[0.6666666666666666,\"#35b779\"],[0.7777777777777778,\"#6ece58\"],[0.8888888888888888,\"#b5de2b\"],[1.0,\"#fde725\"]]},\"colorway\":[\"#1F77B4\",\"#FF7F0E\",\"#2CA02C\",\"#D62728\",\"#9467BD\",\"#8C564B\",\"#E377C2\",\"#7F7F7F\",\"#BCBD22\",\"#17BECF\"],\"font\":{\"color\":\"rgb(36,36,36)\"},\"geo\":{\"bgcolor\":\"white\",\"lakecolor\":\"white\",\"landcolor\":\"white\",\"showlakes\":true,\"showland\":true,\"subunitcolor\":\"white\"},\"hoverlabel\":{\"align\":\"left\"},\"hovermode\":\"closest\",\"mapbox\":{\"style\":\"light\"},\"paper_bgcolor\":\"white\",\"plot_bgcolor\":\"white\",\"polar\":{\"angularaxis\":{\"gridcolor\":\"rgb(232,232,232)\",\"linecolor\":\"rgb(36,36,36)\",\"showgrid\":false,\"showline\":true,\"ticks\":\"outside\"},\"bgcolor\":\"white\",\"radialaxis\":{\"gridcolor\":\"rgb(232,232,232)\",\"linecolor\":\"rgb(36,36,36)\",\"showgrid\":false,\"showline\":true,\"ticks\":\"outside\"}},\"scene\":{\"xaxis\":{\"backgroundcolor\":\"white\",\"gridcolor\":\"rgb(232,232,232)\",\"gridwidth\":2,\"linecolor\":\"rgb(36,36,36)\",\"showbackground\":true,\"showgrid\":false,\"showline\":true,\"ticks\":\"outside\",\"zeroline\":false,\"zerolinecolor\":\"rgb(36,36,36)\"},\"yaxis\":{\"backgroundcolor\":\"white\",\"gridcolor\":\"rgb(232,232,232)\",\"gridwidth\":2,\"linecolor\":\"rgb(36,36,36)\",\"showbackground\":true,\"showgrid\":false,\"showline\":true,\"ticks\":\"outside\",\"zeroline\":false,\"zerolinecolor\":\"rgb(36,36,36)\"},\"zaxis\":{\"backgroundcolor\":\"white\",\"gridcolor\":\"rgb(232,232,232)\",\"gridwidth\":2,\"linecolor\":\"rgb(36,36,36)\",\"showbackground\":true,\"showgrid\":false,\"showline\":true,\"ticks\":\"outside\",\"zeroline\":false,\"zerolinecolor\":\"rgb(36,36,36)\"}},\"shapedefaults\":{\"fillcolor\":\"black\",\"line\":{\"width\":0},\"opacity\":0.3},\"ternary\":{\"aaxis\":{\"gridcolor\":\"rgb(232,232,232)\",\"linecolor\":\"rgb(36,36,36)\",\"showgrid\":false,\"showline\":true,\"ticks\":\"outside\"},\"baxis\":{\"gridcolor\":\"rgb(232,232,232)\",\"linecolor\":\"rgb(36,36,36)\",\"showgrid\":false,\"showline\":true,\"ticks\":\"outside\"},\"bgcolor\":\"white\",\"caxis\":{\"gridcolor\":\"rgb(232,232,232)\",\"linecolor\":\"rgb(36,36,36)\",\"showgrid\":false,\"showline\":true,\"ticks\":\"outside\"}},\"title\":{\"x\":0.05},\"xaxis\":{\"automargin\":true,\"gridcolor\":\"rgb(232,232,232)\",\"linecolor\":\"rgb(36,36,36)\",\"showgrid\":false,\"showline\":true,\"ticks\":\"outside\",\"title\":{\"standoff\":15},\"zeroline\":false,\"zerolinecolor\":\"rgb(36,36,36)\"},\"yaxis\":{\"automargin\":true,\"gridcolor\":\"rgb(232,232,232)\",\"linecolor\":\"rgb(36,36,36)\",\"showgrid\":false,\"showline\":true,\"ticks\":\"outside\",\"title\":{\"standoff\":15},\"zeroline\":false,\"zerolinecolor\":\"rgb(36,36,36)\"}}},\"xaxis\":{\"anchor\":\"y\",\"domain\":[0.0,1.0],\"title\":{\"text\":\"search time (ms/query)\"},\"range\":[0,0.29],\"linecolor\":\"darkgrey\"},\"yaxis\":{\"anchor\":\"x\",\"domain\":[0.0,1.0],\"title\":{\"text\":\"1-recall@3\"},\"range\":[0.5,1],\"linecolor\":\"darkgrey\"},\"legend\":{\"title\":{\"text\":\"index\"},\"tracegroupgap\":0,\"itemsizing\":\"constant\"},\"margin\":{\"t\":60},\"height\":400,\"width\":650,\"showlegend\":false,\"title\":{\"font\":{\"family\":\"Arial\",\"color\":\"RebeccaPurple\",\"size\":13},\"text\":\"<B><I>( For IVF-based indexes, nprobe=128 )\",\"yanchor\":\"top\",\"y\":0.3,\"xanchor\":\"left\",\"x\":0.15}},                        {\"responsive\": true}                    ).then(function(){\n",
       "                            \n",
       "var gd = document.getElementById('32ebe0b7-a72f-4dd9-b681-8cb33a6ef0e1');\n",
       "var x = new MutationObserver(function (mutations, observer) {{\n",
       "        var display = window.getComputedStyle(gd).display;\n",
       "        if (!display || display === 'none') {{\n",
       "            console.log([gd, 'removed!']);\n",
       "            Plotly.purge(gd);\n",
       "            observer.disconnect();\n",
       "        }}\n",
       "}});\n",
       "\n",
       "// Listen for the removal of the full notebook cells\n",
       "var notebookContainer = gd.closest('#notebook-container');\n",
       "if (notebookContainer) {{\n",
       "    x.observe(notebookContainer, {childList: true});\n",
       "}}\n",
       "\n",
       "// Listen for the clearing of the current output cell\n",
       "var outputEl = gd.closest('.output');\n",
       "if (outputEl) {{\n",
       "    x.observe(outputEl, {childList: true});\n",
       "}}\n",
       "\n",
       "                        })                };                });            </script>        </div>"
      ]
     },
     "metadata": {},
     "output_type": "display_data"
    }
   ],
   "source": [
    "fig = px.scatter(df128, x=\"search_time\", y=\"recall@3\", color=\"index\", height=400, width=650,\n",
    "                 template=\"simple_white\", text=\"index\", size=\"index_size\", size_max=50)     \n",
    "\n",
    "positions = [\"bottom right\", \"top center\", \"top center\", \"bottom right\"]\n",
    "\n",
    "for i, fdata in enumerate(fig.data):   \n",
    "    fdata.textposition = positions[i]\n",
    "    fdata.marker.opacity = 0.8\n",
    "    fdata.marker.color = colors_gorb[i]    \n",
    "    fdata.textfont.color = colors_gorb[i]   \n",
    "    fdata.textfont.size = 13 \n",
    "    fdata.textfont.family=\"Arial\"\n",
    "    \n",
    "fig.update_traces(mode='markers+text')#, textposition=\"middle right\") \n",
    "fig.update_traces(texttemplate=\"%{text}<br>(%{marker.size:,d} MB)\")\n",
    "fig.update_layout(xaxis_title_text=\"search time (ms/query)\", yaxis_title_text=\"1-recall@3\", yaxis_range=[0.5, 1], xaxis_range=[0, 0.29], showlegend=False)\n",
    "fig.update_layout(title=dict(text=\"<B><I>( For IVF-based indexes, nprobe=128 )\", yanchor=\"top\", y=0.3, xanchor=\"left\", x=0.15, \n",
    "                             font_family=\"Arial\", font_color=\"RebeccaPurple\", font_size=13))\n",
    "fig.update_xaxes(linecolor='darkgrey')\n",
    "fig.update_yaxes(linecolor='darkgrey')\n",
    "fig.show()\n",
    "fig.write_html(\"nprobe128_search_recall_bubble.html\")"
   ]
  },
  {
   "cell_type": "code",
   "execution_count": 65,
   "id": "73f88946",
   "metadata": {
    "execution": {
     "iopub.execute_input": "2022-08-23T06:58:46.189022Z",
     "iopub.status.busy": "2022-08-23T06:58:46.188631Z",
     "iopub.status.idle": "2022-08-23T06:58:46.205584Z",
     "shell.execute_reply": "2022-08-23T06:58:46.204622Z"
    },
    "papermill": {
     "duration": 0.624205,
     "end_time": "2022-08-23T06:58:46.207757",
     "exception": false,
     "start_time": "2022-08-23T06:58:45.583552",
     "status": "completed"
    },
    "tags": []
   },
   "outputs": [
    {
     "data": {
      "text/html": [
       "<div>\n",
       "<style scoped>\n",
       "    .dataframe tbody tr th:only-of-type {\n",
       "        vertical-align: middle;\n",
       "    }\n",
       "\n",
       "    .dataframe tbody tr th {\n",
       "        vertical-align: top;\n",
       "    }\n",
       "\n",
       "    .dataframe thead th {\n",
       "        text-align: right;\n",
       "    }\n",
       "</style>\n",
       "<table border=\"1\" class=\"dataframe\">\n",
       "  <thead>\n",
       "    <tr style=\"text-align: right;\">\n",
       "      <th></th>\n",
       "      <th>index</th>\n",
       "      <th>M</th>\n",
       "      <th>nprobe</th>\n",
       "      <th>nsegment</th>\n",
       "      <th>recall@1</th>\n",
       "      <th>recall@3</th>\n",
       "      <th>recall@5</th>\n",
       "      <th>train_time</th>\n",
       "      <th>index_time</th>\n",
       "      <th>search_time</th>\n",
       "      <th>index_size</th>\n",
       "    </tr>\n",
       "  </thead>\n",
       "  <tbody>\n",
       "    <tr>\n",
       "      <th>5</th>\n",
       "      <td>IVF65536_HNSW32,PQ32</td>\n",
       "      <td>32</td>\n",
       "      <td>256</td>\n",
       "      <td>32</td>\n",
       "      <td>0.563</td>\n",
       "      <td>0.804</td>\n",
       "      <td>0.856</td>\n",
       "      <td>143.291473</td>\n",
       "      <td>24.345756</td>\n",
       "      <td>0.078494</td>\n",
       "      <td>154.209972</td>\n",
       "    </tr>\n",
       "    <tr>\n",
       "      <th>13</th>\n",
       "      <td>IVF65536_HNSW32,Flat</td>\n",
       "      <td>32</td>\n",
       "      <td>256</td>\n",
       "      <td>0</td>\n",
       "      <td>0.904</td>\n",
       "      <td>0.904</td>\n",
       "      <td>0.904</td>\n",
       "      <td>85.009737</td>\n",
       "      <td>18.676204</td>\n",
       "      <td>0.088939</td>\n",
       "      <td>1594.078859</td>\n",
       "    </tr>\n",
       "    <tr>\n",
       "      <th>16</th>\n",
       "      <td>HNSW32,Flat</td>\n",
       "      <td>32</td>\n",
       "      <td>0</td>\n",
       "      <td>0</td>\n",
       "      <td>0.854</td>\n",
       "      <td>0.854</td>\n",
       "      <td>0.854</td>\n",
       "      <td>None</td>\n",
       "      <td>847.505081</td>\n",
       "      <td>0.148547</td>\n",
       "      <td>2352.424546</td>\n",
       "    </tr>\n",
       "    <tr>\n",
       "      <th>17</th>\n",
       "      <td>HNSW32_PQ32</td>\n",
       "      <td>32</td>\n",
       "      <td>0</td>\n",
       "      <td>32</td>\n",
       "      <td>0.627</td>\n",
       "      <td>0.793</td>\n",
       "      <td>0.813</td>\n",
       "      <td>61.4662</td>\n",
       "      <td>651.526270</td>\n",
       "      <td>0.172360</td>\n",
       "      <td>912.555659</td>\n",
       "    </tr>\n",
       "  </tbody>\n",
       "</table>\n",
       "</div>"
      ],
      "text/plain": [
       "                   index   M  nprobe  nsegment  recall@1  recall@3  recall@5  \\\n",
       "5   IVF65536_HNSW32,PQ32  32     256        32     0.563     0.804     0.856   \n",
       "13  IVF65536_HNSW32,Flat  32     256         0     0.904     0.904     0.904   \n",
       "16           HNSW32,Flat  32       0         0     0.854     0.854     0.854   \n",
       "17           HNSW32_PQ32  32       0        32     0.627     0.793     0.813   \n",
       "\n",
       "    train_time  index_time  search_time   index_size  \n",
       "5   143.291473   24.345756     0.078494   154.209972  \n",
       "13   85.009737   18.676204     0.088939  1594.078859  \n",
       "16        None  847.505081     0.148547  2352.424546  \n",
       "17     61.4662  651.526270     0.172360   912.555659  "
      ]
     },
     "execution_count": 65,
     "metadata": {},
     "output_type": "execute_result"
    }
   ],
   "source": [
    "df256 = df[(df[\"nprobe\"]==256) | (df[\"index\"]==\"HNSW32,Flat\") | (df[\"index\"]==\"HNSW32_PQ32\")].copy()\n",
    "df256"
   ]
  },
  {
   "cell_type": "code",
   "execution_count": 66,
   "id": "5d37c63e",
   "metadata": {
    "execution": {
     "iopub.execute_input": "2022-08-23T06:58:47.327674Z",
     "iopub.status.busy": "2022-08-23T06:58:47.327300Z",
     "iopub.status.idle": "2022-08-23T06:58:47.424309Z",
     "shell.execute_reply": "2022-08-23T06:58:47.423372Z"
    },
    "papermill": {
     "duration": 0.659994,
     "end_time": "2022-08-23T06:58:47.426464",
     "exception": false,
     "start_time": "2022-08-23T06:58:46.766470",
     "status": "completed"
    },
    "tags": []
   },
   "outputs": [
    {
     "data": {
      "text/html": [
       "<div>                            <div id=\"19990f69-5f8a-4fd1-9fa1-33d82956164a\" class=\"plotly-graph-div\" style=\"height:400px; width:650px;\"></div>            <script type=\"text/javascript\">                require([\"plotly\"], function(Plotly) {                    window.PLOTLYENV=window.PLOTLYENV || {};                                    if (document.getElementById(\"19990f69-5f8a-4fd1-9fa1-33d82956164a\")) {                    Plotly.newPlot(                        \"19990f69-5f8a-4fd1-9fa1-33d82956164a\",                        [{\"hovertemplate\":\"index=%{text}<br>search_time=%{x}<br>recall@3=%{y}<br>index_size=%{marker.size}<extra></extra>\",\"legendgroup\":\"IVF65536_HNSW32,PQ32\",\"marker\":{\"color\":\"#2CA02C\",\"size\":[154.209972],\"sizemode\":\"area\",\"sizeref\":0.9409698183999999,\"symbol\":\"circle\",\"opacity\":0.8},\"mode\":\"markers+text\",\"name\":\"IVF65536_HNSW32,PQ32\",\"orientation\":\"v\",\"showlegend\":true,\"text\":[\"IVF65536_HNSW32,PQ32\"],\"x\":[0.07849407196044922],\"xaxis\":\"x\",\"y\":[0.804],\"yaxis\":\"y\",\"type\":\"scatter\",\"textposition\":\"bottom center\",\"textfont\":{\"color\":\"#2CA02C\",\"size\":13,\"family\":\"Arial\"},\"texttemplate\":\"%{text}<br>(%{marker.size:,d} MB)\"},{\"hovertemplate\":\"index=%{text}<br>search_time=%{x}<br>recall@3=%{y}<br>index_size=%{marker.size}<extra></extra>\",\"legendgroup\":\"IVF65536_HNSW32,Flat\",\"marker\":{\"color\":\"#FF7F0E\",\"size\":[1594.078859],\"sizemode\":\"area\",\"sizeref\":0.9409698183999999,\"symbol\":\"circle\",\"opacity\":0.8},\"mode\":\"markers+text\",\"name\":\"IVF65536_HNSW32,Flat\",\"orientation\":\"v\",\"showlegend\":true,\"text\":[\"IVF65536_HNSW32,Flat\"],\"x\":[0.08893918991088867],\"xaxis\":\"x\",\"y\":[0.904],\"yaxis\":\"y\",\"type\":\"scatter\",\"textposition\":\"top center\",\"textfont\":{\"color\":\"#FF7F0E\",\"size\":13,\"family\":\"Arial\"},\"texttemplate\":\"%{text}<br>(%{marker.size:,d} MB)\"},{\"hovertemplate\":\"index=%{text}<br>search_time=%{x}<br>recall@3=%{y}<br>index_size=%{marker.size}<extra></extra>\",\"legendgroup\":\"HNSW32,Flat\",\"marker\":{\"color\":\"#D62728\",\"size\":[2352.4245459999997],\"sizemode\":\"area\",\"sizeref\":0.9409698183999999,\"symbol\":\"circle\",\"opacity\":0.8},\"mode\":\"markers+text\",\"name\":\"HNSW32,Flat\",\"orientation\":\"v\",\"showlegend\":true,\"text\":[\"HNSW32,Flat\"],\"x\":[0.14854717254638672],\"xaxis\":\"x\",\"y\":[0.854],\"yaxis\":\"y\",\"type\":\"scatter\",\"textposition\":\"top center\",\"textfont\":{\"color\":\"#D62728\",\"size\":13,\"family\":\"Arial\"},\"texttemplate\":\"%{text}<br>(%{marker.size:,d} MB)\"},{\"hovertemplate\":\"index=%{text}<br>search_time=%{x}<br>recall@3=%{y}<br>index_size=%{marker.size}<extra></extra>\",\"legendgroup\":\"HNSW32_PQ32\",\"marker\":{\"color\":\"#1F77B4\",\"size\":[912.555659],\"sizemode\":\"area\",\"sizeref\":0.9409698183999999,\"symbol\":\"circle\",\"opacity\":0.8},\"mode\":\"markers+text\",\"name\":\"HNSW32_PQ32\",\"orientation\":\"v\",\"showlegend\":true,\"text\":[\"HNSW32_PQ32\"],\"x\":[0.17235994338989258],\"xaxis\":\"x\",\"y\":[0.793],\"yaxis\":\"y\",\"type\":\"scatter\",\"textposition\":\"bottom right\",\"textfont\":{\"color\":\"#1F77B4\",\"size\":13,\"family\":\"Arial\"},\"texttemplate\":\"%{text}<br>(%{marker.size:,d} MB)\"}],                        {\"template\":{\"data\":{\"barpolar\":[{\"marker\":{\"line\":{\"color\":\"white\",\"width\":0.5},\"pattern\":{\"fillmode\":\"overlay\",\"size\":10,\"solidity\":0.2}},\"type\":\"barpolar\"}],\"bar\":[{\"error_x\":{\"color\":\"rgb(36,36,36)\"},\"error_y\":{\"color\":\"rgb(36,36,36)\"},\"marker\":{\"line\":{\"color\":\"white\",\"width\":0.5},\"pattern\":{\"fillmode\":\"overlay\",\"size\":10,\"solidity\":0.2}},\"type\":\"bar\"}],\"carpet\":[{\"aaxis\":{\"endlinecolor\":\"rgb(36,36,36)\",\"gridcolor\":\"white\",\"linecolor\":\"white\",\"minorgridcolor\":\"white\",\"startlinecolor\":\"rgb(36,36,36)\"},\"baxis\":{\"endlinecolor\":\"rgb(36,36,36)\",\"gridcolor\":\"white\",\"linecolor\":\"white\",\"minorgridcolor\":\"white\",\"startlinecolor\":\"rgb(36,36,36)\"},\"type\":\"carpet\"}],\"choropleth\":[{\"colorbar\":{\"outlinewidth\":1,\"tickcolor\":\"rgb(36,36,36)\",\"ticks\":\"outside\"},\"type\":\"choropleth\"}],\"contourcarpet\":[{\"colorbar\":{\"outlinewidth\":1,\"tickcolor\":\"rgb(36,36,36)\",\"ticks\":\"outside\"},\"type\":\"contourcarpet\"}],\"contour\":[{\"colorbar\":{\"outlinewidth\":1,\"tickcolor\":\"rgb(36,36,36)\",\"ticks\":\"outside\"},\"colorscale\":[[0.0,\"#440154\"],[0.1111111111111111,\"#482878\"],[0.2222222222222222,\"#3e4989\"],[0.3333333333333333,\"#31688e\"],[0.4444444444444444,\"#26828e\"],[0.5555555555555556,\"#1f9e89\"],[0.6666666666666666,\"#35b779\"],[0.7777777777777778,\"#6ece58\"],[0.8888888888888888,\"#b5de2b\"],[1.0,\"#fde725\"]],\"type\":\"contour\"}],\"heatmapgl\":[{\"colorbar\":{\"outlinewidth\":1,\"tickcolor\":\"rgb(36,36,36)\",\"ticks\":\"outside\"},\"colorscale\":[[0.0,\"#440154\"],[0.1111111111111111,\"#482878\"],[0.2222222222222222,\"#3e4989\"],[0.3333333333333333,\"#31688e\"],[0.4444444444444444,\"#26828e\"],[0.5555555555555556,\"#1f9e89\"],[0.6666666666666666,\"#35b779\"],[0.7777777777777778,\"#6ece58\"],[0.8888888888888888,\"#b5de2b\"],[1.0,\"#fde725\"]],\"type\":\"heatmapgl\"}],\"heatmap\":[{\"colorbar\":{\"outlinewidth\":1,\"tickcolor\":\"rgb(36,36,36)\",\"ticks\":\"outside\"},\"colorscale\":[[0.0,\"#440154\"],[0.1111111111111111,\"#482878\"],[0.2222222222222222,\"#3e4989\"],[0.3333333333333333,\"#31688e\"],[0.4444444444444444,\"#26828e\"],[0.5555555555555556,\"#1f9e89\"],[0.6666666666666666,\"#35b779\"],[0.7777777777777778,\"#6ece58\"],[0.8888888888888888,\"#b5de2b\"],[1.0,\"#fde725\"]],\"type\":\"heatmap\"}],\"histogram2dcontour\":[{\"colorbar\":{\"outlinewidth\":1,\"tickcolor\":\"rgb(36,36,36)\",\"ticks\":\"outside\"},\"colorscale\":[[0.0,\"#440154\"],[0.1111111111111111,\"#482878\"],[0.2222222222222222,\"#3e4989\"],[0.3333333333333333,\"#31688e\"],[0.4444444444444444,\"#26828e\"],[0.5555555555555556,\"#1f9e89\"],[0.6666666666666666,\"#35b779\"],[0.7777777777777778,\"#6ece58\"],[0.8888888888888888,\"#b5de2b\"],[1.0,\"#fde725\"]],\"type\":\"histogram2dcontour\"}],\"histogram2d\":[{\"colorbar\":{\"outlinewidth\":1,\"tickcolor\":\"rgb(36,36,36)\",\"ticks\":\"outside\"},\"colorscale\":[[0.0,\"#440154\"],[0.1111111111111111,\"#482878\"],[0.2222222222222222,\"#3e4989\"],[0.3333333333333333,\"#31688e\"],[0.4444444444444444,\"#26828e\"],[0.5555555555555556,\"#1f9e89\"],[0.6666666666666666,\"#35b779\"],[0.7777777777777778,\"#6ece58\"],[0.8888888888888888,\"#b5de2b\"],[1.0,\"#fde725\"]],\"type\":\"histogram2d\"}],\"histogram\":[{\"marker\":{\"line\":{\"color\":\"white\",\"width\":0.6}},\"type\":\"histogram\"}],\"mesh3d\":[{\"colorbar\":{\"outlinewidth\":1,\"tickcolor\":\"rgb(36,36,36)\",\"ticks\":\"outside\"},\"type\":\"mesh3d\"}],\"parcoords\":[{\"line\":{\"colorbar\":{\"outlinewidth\":1,\"tickcolor\":\"rgb(36,36,36)\",\"ticks\":\"outside\"}},\"type\":\"parcoords\"}],\"pie\":[{\"automargin\":true,\"type\":\"pie\"}],\"scatter3d\":[{\"line\":{\"colorbar\":{\"outlinewidth\":1,\"tickcolor\":\"rgb(36,36,36)\",\"ticks\":\"outside\"}},\"marker\":{\"colorbar\":{\"outlinewidth\":1,\"tickcolor\":\"rgb(36,36,36)\",\"ticks\":\"outside\"}},\"type\":\"scatter3d\"}],\"scattercarpet\":[{\"marker\":{\"colorbar\":{\"outlinewidth\":1,\"tickcolor\":\"rgb(36,36,36)\",\"ticks\":\"outside\"}},\"type\":\"scattercarpet\"}],\"scattergeo\":[{\"marker\":{\"colorbar\":{\"outlinewidth\":1,\"tickcolor\":\"rgb(36,36,36)\",\"ticks\":\"outside\"}},\"type\":\"scattergeo\"}],\"scattergl\":[{\"marker\":{\"colorbar\":{\"outlinewidth\":1,\"tickcolor\":\"rgb(36,36,36)\",\"ticks\":\"outside\"}},\"type\":\"scattergl\"}],\"scattermapbox\":[{\"marker\":{\"colorbar\":{\"outlinewidth\":1,\"tickcolor\":\"rgb(36,36,36)\",\"ticks\":\"outside\"}},\"type\":\"scattermapbox\"}],\"scatterpolargl\":[{\"marker\":{\"colorbar\":{\"outlinewidth\":1,\"tickcolor\":\"rgb(36,36,36)\",\"ticks\":\"outside\"}},\"type\":\"scatterpolargl\"}],\"scatterpolar\":[{\"marker\":{\"colorbar\":{\"outlinewidth\":1,\"tickcolor\":\"rgb(36,36,36)\",\"ticks\":\"outside\"}},\"type\":\"scatterpolar\"}],\"scatter\":[{\"fillpattern\":{\"fillmode\":\"overlay\",\"size\":10,\"solidity\":0.2},\"type\":\"scatter\"}],\"scatterternary\":[{\"marker\":{\"colorbar\":{\"outlinewidth\":1,\"tickcolor\":\"rgb(36,36,36)\",\"ticks\":\"outside\"}},\"type\":\"scatterternary\"}],\"surface\":[{\"colorbar\":{\"outlinewidth\":1,\"tickcolor\":\"rgb(36,36,36)\",\"ticks\":\"outside\"},\"colorscale\":[[0.0,\"#440154\"],[0.1111111111111111,\"#482878\"],[0.2222222222222222,\"#3e4989\"],[0.3333333333333333,\"#31688e\"],[0.4444444444444444,\"#26828e\"],[0.5555555555555556,\"#1f9e89\"],[0.6666666666666666,\"#35b779\"],[0.7777777777777778,\"#6ece58\"],[0.8888888888888888,\"#b5de2b\"],[1.0,\"#fde725\"]],\"type\":\"surface\"}],\"table\":[{\"cells\":{\"fill\":{\"color\":\"rgb(237,237,237)\"},\"line\":{\"color\":\"white\"}},\"header\":{\"fill\":{\"color\":\"rgb(217,217,217)\"},\"line\":{\"color\":\"white\"}},\"type\":\"table\"}]},\"layout\":{\"annotationdefaults\":{\"arrowhead\":0,\"arrowwidth\":1},\"autotypenumbers\":\"strict\",\"coloraxis\":{\"colorbar\":{\"outlinewidth\":1,\"tickcolor\":\"rgb(36,36,36)\",\"ticks\":\"outside\"}},\"colorscale\":{\"diverging\":[[0.0,\"rgb(103,0,31)\"],[0.1,\"rgb(178,24,43)\"],[0.2,\"rgb(214,96,77)\"],[0.3,\"rgb(244,165,130)\"],[0.4,\"rgb(253,219,199)\"],[0.5,\"rgb(247,247,247)\"],[0.6,\"rgb(209,229,240)\"],[0.7,\"rgb(146,197,222)\"],[0.8,\"rgb(67,147,195)\"],[0.9,\"rgb(33,102,172)\"],[1.0,\"rgb(5,48,97)\"]],\"sequential\":[[0.0,\"#440154\"],[0.1111111111111111,\"#482878\"],[0.2222222222222222,\"#3e4989\"],[0.3333333333333333,\"#31688e\"],[0.4444444444444444,\"#26828e\"],[0.5555555555555556,\"#1f9e89\"],[0.6666666666666666,\"#35b779\"],[0.7777777777777778,\"#6ece58\"],[0.8888888888888888,\"#b5de2b\"],[1.0,\"#fde725\"]],\"sequentialminus\":[[0.0,\"#440154\"],[0.1111111111111111,\"#482878\"],[0.2222222222222222,\"#3e4989\"],[0.3333333333333333,\"#31688e\"],[0.4444444444444444,\"#26828e\"],[0.5555555555555556,\"#1f9e89\"],[0.6666666666666666,\"#35b779\"],[0.7777777777777778,\"#6ece58\"],[0.8888888888888888,\"#b5de2b\"],[1.0,\"#fde725\"]]},\"colorway\":[\"#1F77B4\",\"#FF7F0E\",\"#2CA02C\",\"#D62728\",\"#9467BD\",\"#8C564B\",\"#E377C2\",\"#7F7F7F\",\"#BCBD22\",\"#17BECF\"],\"font\":{\"color\":\"rgb(36,36,36)\"},\"geo\":{\"bgcolor\":\"white\",\"lakecolor\":\"white\",\"landcolor\":\"white\",\"showlakes\":true,\"showland\":true,\"subunitcolor\":\"white\"},\"hoverlabel\":{\"align\":\"left\"},\"hovermode\":\"closest\",\"mapbox\":{\"style\":\"light\"},\"paper_bgcolor\":\"white\",\"plot_bgcolor\":\"white\",\"polar\":{\"angularaxis\":{\"gridcolor\":\"rgb(232,232,232)\",\"linecolor\":\"rgb(36,36,36)\",\"showgrid\":false,\"showline\":true,\"ticks\":\"outside\"},\"bgcolor\":\"white\",\"radialaxis\":{\"gridcolor\":\"rgb(232,232,232)\",\"linecolor\":\"rgb(36,36,36)\",\"showgrid\":false,\"showline\":true,\"ticks\":\"outside\"}},\"scene\":{\"xaxis\":{\"backgroundcolor\":\"white\",\"gridcolor\":\"rgb(232,232,232)\",\"gridwidth\":2,\"linecolor\":\"rgb(36,36,36)\",\"showbackground\":true,\"showgrid\":false,\"showline\":true,\"ticks\":\"outside\",\"zeroline\":false,\"zerolinecolor\":\"rgb(36,36,36)\"},\"yaxis\":{\"backgroundcolor\":\"white\",\"gridcolor\":\"rgb(232,232,232)\",\"gridwidth\":2,\"linecolor\":\"rgb(36,36,36)\",\"showbackground\":true,\"showgrid\":false,\"showline\":true,\"ticks\":\"outside\",\"zeroline\":false,\"zerolinecolor\":\"rgb(36,36,36)\"},\"zaxis\":{\"backgroundcolor\":\"white\",\"gridcolor\":\"rgb(232,232,232)\",\"gridwidth\":2,\"linecolor\":\"rgb(36,36,36)\",\"showbackground\":true,\"showgrid\":false,\"showline\":true,\"ticks\":\"outside\",\"zeroline\":false,\"zerolinecolor\":\"rgb(36,36,36)\"}},\"shapedefaults\":{\"fillcolor\":\"black\",\"line\":{\"width\":0},\"opacity\":0.3},\"ternary\":{\"aaxis\":{\"gridcolor\":\"rgb(232,232,232)\",\"linecolor\":\"rgb(36,36,36)\",\"showgrid\":false,\"showline\":true,\"ticks\":\"outside\"},\"baxis\":{\"gridcolor\":\"rgb(232,232,232)\",\"linecolor\":\"rgb(36,36,36)\",\"showgrid\":false,\"showline\":true,\"ticks\":\"outside\"},\"bgcolor\":\"white\",\"caxis\":{\"gridcolor\":\"rgb(232,232,232)\",\"linecolor\":\"rgb(36,36,36)\",\"showgrid\":false,\"showline\":true,\"ticks\":\"outside\"}},\"title\":{\"x\":0.05},\"xaxis\":{\"automargin\":true,\"gridcolor\":\"rgb(232,232,232)\",\"linecolor\":\"rgb(36,36,36)\",\"showgrid\":false,\"showline\":true,\"ticks\":\"outside\",\"title\":{\"standoff\":15},\"zeroline\":false,\"zerolinecolor\":\"rgb(36,36,36)\"},\"yaxis\":{\"automargin\":true,\"gridcolor\":\"rgb(232,232,232)\",\"linecolor\":\"rgb(36,36,36)\",\"showgrid\":false,\"showline\":true,\"ticks\":\"outside\",\"title\":{\"standoff\":15},\"zeroline\":false,\"zerolinecolor\":\"rgb(36,36,36)\"}}},\"xaxis\":{\"anchor\":\"y\",\"domain\":[0.0,1.0],\"title\":{\"text\":\"search time (ms/query)\"},\"range\":[0,0.29],\"linecolor\":\"darkgrey\"},\"yaxis\":{\"anchor\":\"x\",\"domain\":[0.0,1.0],\"title\":{\"text\":\"1-recall@3\"},\"range\":[0.5,1.06],\"linecolor\":\"darkgrey\"},\"legend\":{\"title\":{\"text\":\"index\"},\"tracegroupgap\":0,\"itemsizing\":\"constant\"},\"margin\":{\"t\":60},\"height\":400,\"width\":650,\"showlegend\":false,\"title\":{\"font\":{\"family\":\"Arial\",\"color\":\"RebeccaPurple\",\"size\":13},\"text\":\"<B><I>( For IVF-based indexes, nprobe=256 )\",\"yanchor\":\"top\",\"y\":0.3,\"xanchor\":\"left\",\"x\":0.15}},                        {\"responsive\": true}                    ).then(function(){\n",
       "                            \n",
       "var gd = document.getElementById('19990f69-5f8a-4fd1-9fa1-33d82956164a');\n",
       "var x = new MutationObserver(function (mutations, observer) {{\n",
       "        var display = window.getComputedStyle(gd).display;\n",
       "        if (!display || display === 'none') {{\n",
       "            console.log([gd, 'removed!']);\n",
       "            Plotly.purge(gd);\n",
       "            observer.disconnect();\n",
       "        }}\n",
       "}});\n",
       "\n",
       "// Listen for the removal of the full notebook cells\n",
       "var notebookContainer = gd.closest('#notebook-container');\n",
       "if (notebookContainer) {{\n",
       "    x.observe(notebookContainer, {childList: true});\n",
       "}}\n",
       "\n",
       "// Listen for the clearing of the current output cell\n",
       "var outputEl = gd.closest('.output');\n",
       "if (outputEl) {{\n",
       "    x.observe(outputEl, {childList: true});\n",
       "}}\n",
       "\n",
       "                        })                };                });            </script>        </div>"
      ]
     },
     "metadata": {},
     "output_type": "display_data"
    }
   ],
   "source": [
    "fig = px.scatter(df256, x=\"search_time\", y=\"recall@3\", color=\"index\", height=400, width=650,\n",
    "                 template=\"simple_white\", text=\"index\", size=\"index_size\", size_max=50)     \n",
    "\n",
    "positions = [\"bottom center\", \"top center\", \"top center\", \"bottom right\"]\n",
    "\n",
    "for i, fdata in enumerate(fig.data):   \n",
    "    fdata.textposition = positions[i]\n",
    "    fdata.marker.opacity = 0.8\n",
    "    fdata.marker.color = colors_gorb[i]    \n",
    "    fdata.textfont.color = colors_gorb[i]   \n",
    "    fdata.textfont.size = 13  \n",
    "    fdata.textfont.family=\"Arial\"\n",
    "    \n",
    "fig.update_traces(mode='markers+text')#, textposition=\"middle right\") \n",
    "fig.update_traces(texttemplate=\"%{text}<br>(%{marker.size:,d} MB)\")\n",
    "fig.update_layout(xaxis_title_text=\"search time (ms/query)\", yaxis_title_text=\"1-recall@3\", yaxis_range=[0.5, 1.06], xaxis_range=[0, 0.29], showlegend=False)\n",
    "fig.update_layout(title=dict(text=\"<B><I>( For IVF-based indexes, nprobe=256 )\", yanchor=\"top\", y=0.3, xanchor=\"left\", x=0.15, \n",
    "                             font_family=\"Arial\", font_color=\"RebeccaPurple\", font_size=13))\n",
    "fig.update_xaxes(linecolor='darkgrey')\n",
    "fig.update_yaxes(linecolor='darkgrey')\n",
    "fig.show()\n",
    "fig.write_html(\"nprobe256_search_recall_bubble.html\")"
   ]
  },
  {
   "cell_type": "code",
   "execution_count": 67,
   "id": "78738f7c",
   "metadata": {
    "execution": {
     "iopub.execute_input": "2022-08-23T06:58:48.605915Z",
     "iopub.status.busy": "2022-08-23T06:58:48.605527Z",
     "iopub.status.idle": "2022-08-23T06:58:48.622637Z",
     "shell.execute_reply": "2022-08-23T06:58:48.621630Z"
    },
    "papermill": {
     "duration": 0.577191,
     "end_time": "2022-08-23T06:58:48.624661",
     "exception": false,
     "start_time": "2022-08-23T06:58:48.047470",
     "status": "completed"
    },
    "tags": []
   },
   "outputs": [
    {
     "data": {
      "text/html": [
       "<div>\n",
       "<style scoped>\n",
       "    .dataframe tbody tr th:only-of-type {\n",
       "        vertical-align: middle;\n",
       "    }\n",
       "\n",
       "    .dataframe tbody tr th {\n",
       "        vertical-align: top;\n",
       "    }\n",
       "\n",
       "    .dataframe thead th {\n",
       "        text-align: right;\n",
       "    }\n",
       "</style>\n",
       "<table border=\"1\" class=\"dataframe\">\n",
       "  <thead>\n",
       "    <tr style=\"text-align: right;\">\n",
       "      <th></th>\n",
       "      <th>index</th>\n",
       "      <th>M</th>\n",
       "      <th>nprobe</th>\n",
       "      <th>nsegment</th>\n",
       "      <th>recall@1</th>\n",
       "      <th>recall@3</th>\n",
       "      <th>recall@5</th>\n",
       "      <th>train_time</th>\n",
       "      <th>index_time</th>\n",
       "      <th>search_time</th>\n",
       "      <th>index_size</th>\n",
       "    </tr>\n",
       "  </thead>\n",
       "  <tbody>\n",
       "    <tr>\n",
       "      <th>6</th>\n",
       "      <td>IVF65536_HNSW32,PQ32</td>\n",
       "      <td>32</td>\n",
       "      <td>512</td>\n",
       "      <td>32</td>\n",
       "      <td>0.578</td>\n",
       "      <td>0.831</td>\n",
       "      <td>0.891</td>\n",
       "      <td>143.291473</td>\n",
       "      <td>24.345756</td>\n",
       "      <td>0.194042</td>\n",
       "      <td>154.209972</td>\n",
       "    </tr>\n",
       "    <tr>\n",
       "      <th>14</th>\n",
       "      <td>IVF65536_HNSW32,Flat</td>\n",
       "      <td>32</td>\n",
       "      <td>512</td>\n",
       "      <td>0</td>\n",
       "      <td>0.944</td>\n",
       "      <td>0.944</td>\n",
       "      <td>0.944</td>\n",
       "      <td>85.009737</td>\n",
       "      <td>18.676204</td>\n",
       "      <td>0.145102</td>\n",
       "      <td>1594.078859</td>\n",
       "    </tr>\n",
       "    <tr>\n",
       "      <th>16</th>\n",
       "      <td>HNSW32,Flat</td>\n",
       "      <td>32</td>\n",
       "      <td>0</td>\n",
       "      <td>0</td>\n",
       "      <td>0.854</td>\n",
       "      <td>0.854</td>\n",
       "      <td>0.854</td>\n",
       "      <td>None</td>\n",
       "      <td>847.505081</td>\n",
       "      <td>0.148547</td>\n",
       "      <td>2352.424546</td>\n",
       "    </tr>\n",
       "    <tr>\n",
       "      <th>17</th>\n",
       "      <td>HNSW32_PQ32</td>\n",
       "      <td>32</td>\n",
       "      <td>0</td>\n",
       "      <td>32</td>\n",
       "      <td>0.627</td>\n",
       "      <td>0.793</td>\n",
       "      <td>0.813</td>\n",
       "      <td>61.4662</td>\n",
       "      <td>651.526270</td>\n",
       "      <td>0.172360</td>\n",
       "      <td>912.555659</td>\n",
       "    </tr>\n",
       "  </tbody>\n",
       "</table>\n",
       "</div>"
      ],
      "text/plain": [
       "                   index   M  nprobe  nsegment  recall@1  recall@3  recall@5  \\\n",
       "6   IVF65536_HNSW32,PQ32  32     512        32     0.578     0.831     0.891   \n",
       "14  IVF65536_HNSW32,Flat  32     512         0     0.944     0.944     0.944   \n",
       "16           HNSW32,Flat  32       0         0     0.854     0.854     0.854   \n",
       "17           HNSW32_PQ32  32       0        32     0.627     0.793     0.813   \n",
       "\n",
       "    train_time  index_time  search_time   index_size  \n",
       "6   143.291473   24.345756     0.194042   154.209972  \n",
       "14   85.009737   18.676204     0.145102  1594.078859  \n",
       "16        None  847.505081     0.148547  2352.424546  \n",
       "17     61.4662  651.526270     0.172360   912.555659  "
      ]
     },
     "execution_count": 67,
     "metadata": {},
     "output_type": "execute_result"
    }
   ],
   "source": [
    "df512 = df[(df[\"nprobe\"]==512) | (df[\"index\"]==\"HNSW32,Flat\") | (df[\"index\"]==\"HNSW32_PQ32\")].copy()\n",
    "df512"
   ]
  },
  {
   "cell_type": "code",
   "execution_count": 68,
   "id": "3c8f6bd8",
   "metadata": {
    "execution": {
     "iopub.execute_input": "2022-08-23T06:58:49.806797Z",
     "iopub.status.busy": "2022-08-23T06:58:49.806410Z",
     "iopub.status.idle": "2022-08-23T06:58:49.827067Z",
     "shell.execute_reply": "2022-08-23T06:58:49.826101Z"
    },
    "papermill": {
     "duration": 0.64714,
     "end_time": "2022-08-23T06:58:49.829157",
     "exception": false,
     "start_time": "2022-08-23T06:58:49.182017",
     "status": "completed"
    },
    "tags": []
   },
   "outputs": [
    {
     "data": {
      "text/html": [
       "<div>\n",
       "<style scoped>\n",
       "    .dataframe tbody tr th:only-of-type {\n",
       "        vertical-align: middle;\n",
       "    }\n",
       "\n",
       "    .dataframe tbody tr th {\n",
       "        vertical-align: top;\n",
       "    }\n",
       "\n",
       "    .dataframe thead th {\n",
       "        text-align: right;\n",
       "    }\n",
       "</style>\n",
       "<table border=\"1\" class=\"dataframe\">\n",
       "  <thead>\n",
       "    <tr style=\"text-align: right;\">\n",
       "      <th></th>\n",
       "      <th>index</th>\n",
       "      <th>M</th>\n",
       "      <th>nprobe</th>\n",
       "      <th>nsegment</th>\n",
       "      <th>recall@1</th>\n",
       "      <th>recall@3</th>\n",
       "      <th>recall@5</th>\n",
       "      <th>train_time</th>\n",
       "      <th>index_time</th>\n",
       "      <th>search_time</th>\n",
       "      <th>index_size</th>\n",
       "    </tr>\n",
       "  </thead>\n",
       "  <tbody>\n",
       "    <tr>\n",
       "      <th>0</th>\n",
       "      <td>IVF65536_HNSW32,PQ32</td>\n",
       "      <td>32</td>\n",
       "      <td>128</td>\n",
       "      <td>32</td>\n",
       "      <td>0.547</td>\n",
       "      <td>0.765</td>\n",
       "      <td>0.806</td>\n",
       "      <td>143.291473</td>\n",
       "      <td>24.345756</td>\n",
       "      <td>0.033369</td>\n",
       "      <td>154.209972</td>\n",
       "    </tr>\n",
       "    <tr>\n",
       "      <th>1</th>\n",
       "      <td>IVF65536_HNSW32,Flat</td>\n",
       "      <td>32</td>\n",
       "      <td>128</td>\n",
       "      <td>0</td>\n",
       "      <td>0.840</td>\n",
       "      <td>0.840</td>\n",
       "      <td>0.840</td>\n",
       "      <td>85.009737</td>\n",
       "      <td>18.676204</td>\n",
       "      <td>0.055478</td>\n",
       "      <td>1594.078859</td>\n",
       "    </tr>\n",
       "    <tr>\n",
       "      <th>2</th>\n",
       "      <td>HNSW32,Flat</td>\n",
       "      <td>32</td>\n",
       "      <td>128</td>\n",
       "      <td>0</td>\n",
       "      <td>0.854</td>\n",
       "      <td>0.854</td>\n",
       "      <td>0.854</td>\n",
       "      <td>None</td>\n",
       "      <td>847.505081</td>\n",
       "      <td>0.148547</td>\n",
       "      <td>2352.424546</td>\n",
       "    </tr>\n",
       "    <tr>\n",
       "      <th>3</th>\n",
       "      <td>HNSW32_PQ32</td>\n",
       "      <td>32</td>\n",
       "      <td>128</td>\n",
       "      <td>32</td>\n",
       "      <td>0.627</td>\n",
       "      <td>0.793</td>\n",
       "      <td>0.813</td>\n",
       "      <td>61.4662</td>\n",
       "      <td>651.526270</td>\n",
       "      <td>0.172360</td>\n",
       "      <td>912.555659</td>\n",
       "    </tr>\n",
       "    <tr>\n",
       "      <th>4</th>\n",
       "      <td>IVF65536_HNSW32,PQ32</td>\n",
       "      <td>32</td>\n",
       "      <td>256</td>\n",
       "      <td>32</td>\n",
       "      <td>0.563</td>\n",
       "      <td>0.804</td>\n",
       "      <td>0.856</td>\n",
       "      <td>143.291473</td>\n",
       "      <td>24.345756</td>\n",
       "      <td>0.078494</td>\n",
       "      <td>154.209972</td>\n",
       "    </tr>\n",
       "    <tr>\n",
       "      <th>5</th>\n",
       "      <td>IVF65536_HNSW32,Flat</td>\n",
       "      <td>32</td>\n",
       "      <td>256</td>\n",
       "      <td>0</td>\n",
       "      <td>0.904</td>\n",
       "      <td>0.904</td>\n",
       "      <td>0.904</td>\n",
       "      <td>85.009737</td>\n",
       "      <td>18.676204</td>\n",
       "      <td>0.088939</td>\n",
       "      <td>1594.078859</td>\n",
       "    </tr>\n",
       "    <tr>\n",
       "      <th>6</th>\n",
       "      <td>HNSW32,Flat</td>\n",
       "      <td>32</td>\n",
       "      <td>256</td>\n",
       "      <td>0</td>\n",
       "      <td>0.854</td>\n",
       "      <td>0.854</td>\n",
       "      <td>0.854</td>\n",
       "      <td>None</td>\n",
       "      <td>847.505081</td>\n",
       "      <td>0.148547</td>\n",
       "      <td>2352.424546</td>\n",
       "    </tr>\n",
       "    <tr>\n",
       "      <th>7</th>\n",
       "      <td>HNSW32_PQ32</td>\n",
       "      <td>32</td>\n",
       "      <td>256</td>\n",
       "      <td>32</td>\n",
       "      <td>0.627</td>\n",
       "      <td>0.793</td>\n",
       "      <td>0.813</td>\n",
       "      <td>61.4662</td>\n",
       "      <td>651.526270</td>\n",
       "      <td>0.172360</td>\n",
       "      <td>912.555659</td>\n",
       "    </tr>\n",
       "    <tr>\n",
       "      <th>8</th>\n",
       "      <td>IVF65536_HNSW32,PQ32</td>\n",
       "      <td>32</td>\n",
       "      <td>512</td>\n",
       "      <td>32</td>\n",
       "      <td>0.578</td>\n",
       "      <td>0.831</td>\n",
       "      <td>0.891</td>\n",
       "      <td>143.291473</td>\n",
       "      <td>24.345756</td>\n",
       "      <td>0.194042</td>\n",
       "      <td>154.209972</td>\n",
       "    </tr>\n",
       "    <tr>\n",
       "      <th>9</th>\n",
       "      <td>IVF65536_HNSW32,Flat</td>\n",
       "      <td>32</td>\n",
       "      <td>512</td>\n",
       "      <td>0</td>\n",
       "      <td>0.944</td>\n",
       "      <td>0.944</td>\n",
       "      <td>0.944</td>\n",
       "      <td>85.009737</td>\n",
       "      <td>18.676204</td>\n",
       "      <td>0.145102</td>\n",
       "      <td>1594.078859</td>\n",
       "    </tr>\n",
       "    <tr>\n",
       "      <th>10</th>\n",
       "      <td>HNSW32,Flat</td>\n",
       "      <td>32</td>\n",
       "      <td>512</td>\n",
       "      <td>0</td>\n",
       "      <td>0.854</td>\n",
       "      <td>0.854</td>\n",
       "      <td>0.854</td>\n",
       "      <td>None</td>\n",
       "      <td>847.505081</td>\n",
       "      <td>0.148547</td>\n",
       "      <td>2352.424546</td>\n",
       "    </tr>\n",
       "    <tr>\n",
       "      <th>11</th>\n",
       "      <td>HNSW32_PQ32</td>\n",
       "      <td>32</td>\n",
       "      <td>512</td>\n",
       "      <td>32</td>\n",
       "      <td>0.627</td>\n",
       "      <td>0.793</td>\n",
       "      <td>0.813</td>\n",
       "      <td>61.4662</td>\n",
       "      <td>651.526270</td>\n",
       "      <td>0.172360</td>\n",
       "      <td>912.555659</td>\n",
       "    </tr>\n",
       "  </tbody>\n",
       "</table>\n",
       "</div>"
      ],
      "text/plain": [
       "                   index   M  nprobe  nsegment  recall@1  recall@3  recall@5  \\\n",
       "0   IVF65536_HNSW32,PQ32  32     128        32     0.547     0.765     0.806   \n",
       "1   IVF65536_HNSW32,Flat  32     128         0     0.840     0.840     0.840   \n",
       "2            HNSW32,Flat  32     128         0     0.854     0.854     0.854   \n",
       "3            HNSW32_PQ32  32     128        32     0.627     0.793     0.813   \n",
       "4   IVF65536_HNSW32,PQ32  32     256        32     0.563     0.804     0.856   \n",
       "5   IVF65536_HNSW32,Flat  32     256         0     0.904     0.904     0.904   \n",
       "6            HNSW32,Flat  32     256         0     0.854     0.854     0.854   \n",
       "7            HNSW32_PQ32  32     256        32     0.627     0.793     0.813   \n",
       "8   IVF65536_HNSW32,PQ32  32     512        32     0.578     0.831     0.891   \n",
       "9   IVF65536_HNSW32,Flat  32     512         0     0.944     0.944     0.944   \n",
       "10           HNSW32,Flat  32     512         0     0.854     0.854     0.854   \n",
       "11           HNSW32_PQ32  32     512        32     0.627     0.793     0.813   \n",
       "\n",
       "    train_time  index_time  search_time   index_size  \n",
       "0   143.291473   24.345756     0.033369   154.209972  \n",
       "1    85.009737   18.676204     0.055478  1594.078859  \n",
       "2         None  847.505081     0.148547  2352.424546  \n",
       "3      61.4662  651.526270     0.172360   912.555659  \n",
       "4   143.291473   24.345756     0.078494   154.209972  \n",
       "5    85.009737   18.676204     0.088939  1594.078859  \n",
       "6         None  847.505081     0.148547  2352.424546  \n",
       "7      61.4662  651.526270     0.172360   912.555659  \n",
       "8   143.291473   24.345756     0.194042   154.209972  \n",
       "9    85.009737   18.676204     0.145102  1594.078859  \n",
       "10        None  847.505081     0.148547  2352.424546  \n",
       "11     61.4662  651.526270     0.172360   912.555659  "
      ]
     },
     "execution_count": 68,
     "metadata": {},
     "output_type": "execute_result"
    }
   ],
   "source": [
    "df128[\"nprobe\"] = 128\n",
    "df256[\"nprobe\"] = 256\n",
    "df512[\"nprobe\"] = 512\n",
    "\n",
    "df3 = pd.concat([df128, df256, df512], ignore_index=True)\n",
    "df3"
   ]
  },
  {
   "cell_type": "code",
   "execution_count": 69,
   "id": "35c4b57a",
   "metadata": {
    "execution": {
     "iopub.execute_input": "2022-08-23T06:58:50.946913Z",
     "iopub.status.busy": "2022-08-23T06:58:50.946534Z",
     "iopub.status.idle": "2022-08-23T06:58:51.104434Z",
     "shell.execute_reply": "2022-08-23T06:58:51.103519Z"
    },
    "papermill": {
     "duration": 0.713866,
     "end_time": "2022-08-23T06:58:51.106591",
     "exception": false,
     "start_time": "2022-08-23T06:58:50.392725",
     "status": "completed"
    },
    "tags": []
   },
   "outputs": [
    {
     "data": {
      "text/html": [
       "<div>                            <div id=\"fb81d20b-5e97-4dab-ad03-073ee246e2b2\" class=\"plotly-graph-div\" style=\"height:380px; width:720px;\"></div>            <script type=\"text/javascript\">                require([\"plotly\"], function(Plotly) {                    window.PLOTLYENV=window.PLOTLYENV || {};                                    if (document.getElementById(\"fb81d20b-5e97-4dab-ad03-073ee246e2b2\")) {                    Plotly.newPlot(                        \"fb81d20b-5e97-4dab-ad03-073ee246e2b2\",                        [{\"hovertemplate\":\"index=IVF65536_HNSW32,PQ32<br>nprobe=128<br>search_time=%{x}<br>recall@3=%{y}<br>index_size=%{marker.size}<extra></extra>\",\"legendgroup\":\"IVF65536_HNSW32,PQ32\",\"marker\":{\"color\":\"#2CA02C\",\"size\":[154.209972],\"sizemode\":\"area\",\"sizeref\":2.6138050511111106,\"symbol\":\"circle\"},\"mode\":\"markers\",\"name\":\"IVF65536_HNSW32,PQ32\",\"orientation\":\"v\",\"showlegend\":true,\"x\":[0.03336906433105469],\"xaxis\":\"x\",\"y\":[0.765],\"yaxis\":\"y\",\"type\":\"scatter\"},{\"hovertemplate\":\"index=IVF65536_HNSW32,PQ32<br>nprobe=256<br>search_time=%{x}<br>recall@3=%{y}<br>index_size=%{marker.size}<extra></extra>\",\"legendgroup\":\"IVF65536_HNSW32,PQ32\",\"marker\":{\"color\":\"#2CA02C\",\"size\":[154.209972],\"sizemode\":\"area\",\"sizeref\":2.6138050511111106,\"symbol\":\"circle\"},\"mode\":\"markers\",\"name\":\"IVF65536_HNSW32,PQ32\",\"orientation\":\"v\",\"showlegend\":false,\"x\":[0.07849407196044922],\"xaxis\":\"x2\",\"y\":[0.804],\"yaxis\":\"y2\",\"type\":\"scatter\"},{\"hovertemplate\":\"index=IVF65536_HNSW32,PQ32<br>nprobe=512<br>search_time=%{x}<br>recall@3=%{y}<br>index_size=%{marker.size}<extra></extra>\",\"legendgroup\":\"IVF65536_HNSW32,PQ32\",\"marker\":{\"color\":\"#2CA02C\",\"size\":[154.209972],\"sizemode\":\"area\",\"sizeref\":2.6138050511111106,\"symbol\":\"circle\"},\"mode\":\"markers\",\"name\":\"IVF65536_HNSW32,PQ32\",\"orientation\":\"v\",\"showlegend\":false,\"x\":[0.19404172897338867],\"xaxis\":\"x3\",\"y\":[0.831],\"yaxis\":\"y3\",\"type\":\"scatter\"},{\"hovertemplate\":\"index=IVF65536_HNSW32,Flat<br>nprobe=128<br>search_time=%{x}<br>recall@3=%{y}<br>index_size=%{marker.size}<extra></extra>\",\"legendgroup\":\"IVF65536_HNSW32,Flat\",\"marker\":{\"color\":\"#FF7F0E\",\"size\":[1594.078859],\"sizemode\":\"area\",\"sizeref\":2.6138050511111106,\"symbol\":\"circle\"},\"mode\":\"markers\",\"name\":\"IVF65536_HNSW32,Flat\",\"orientation\":\"v\",\"showlegend\":true,\"x\":[0.05547833442687988],\"xaxis\":\"x\",\"y\":[0.84],\"yaxis\":\"y\",\"type\":\"scatter\"},{\"hovertemplate\":\"index=IVF65536_HNSW32,Flat<br>nprobe=256<br>search_time=%{x}<br>recall@3=%{y}<br>index_size=%{marker.size}<extra></extra>\",\"legendgroup\":\"IVF65536_HNSW32,Flat\",\"marker\":{\"color\":\"#FF7F0E\",\"size\":[1594.078859],\"sizemode\":\"area\",\"sizeref\":2.6138050511111106,\"symbol\":\"circle\"},\"mode\":\"markers\",\"name\":\"IVF65536_HNSW32,Flat\",\"orientation\":\"v\",\"showlegend\":false,\"x\":[0.08893918991088867],\"xaxis\":\"x2\",\"y\":[0.904],\"yaxis\":\"y2\",\"type\":\"scatter\"},{\"hovertemplate\":\"index=IVF65536_HNSW32,Flat<br>nprobe=512<br>search_time=%{x}<br>recall@3=%{y}<br>index_size=%{marker.size}<extra></extra>\",\"legendgroup\":\"IVF65536_HNSW32,Flat\",\"marker\":{\"color\":\"#FF7F0E\",\"size\":[1594.078859],\"sizemode\":\"area\",\"sizeref\":2.6138050511111106,\"symbol\":\"circle\"},\"mode\":\"markers\",\"name\":\"IVF65536_HNSW32,Flat\",\"orientation\":\"v\",\"showlegend\":false,\"x\":[0.14510154724121094],\"xaxis\":\"x3\",\"y\":[0.944],\"yaxis\":\"y3\",\"type\":\"scatter\"},{\"hovertemplate\":\"index=HNSW32,Flat<br>nprobe=128<br>search_time=%{x}<br>recall@3=%{y}<br>index_size=%{marker.size}<extra></extra>\",\"legendgroup\":\"HNSW32,Flat\",\"marker\":{\"color\":\"#D62728\",\"size\":[2352.4245459999997],\"sizemode\":\"area\",\"sizeref\":2.6138050511111106,\"symbol\":\"circle\"},\"mode\":\"markers\",\"name\":\"HNSW32,Flat\",\"orientation\":\"v\",\"showlegend\":true,\"x\":[0.14854717254638672],\"xaxis\":\"x\",\"y\":[0.854],\"yaxis\":\"y\",\"type\":\"scatter\"},{\"hovertemplate\":\"index=HNSW32,Flat<br>nprobe=256<br>search_time=%{x}<br>recall@3=%{y}<br>index_size=%{marker.size}<extra></extra>\",\"legendgroup\":\"HNSW32,Flat\",\"marker\":{\"color\":\"#D62728\",\"size\":[2352.4245459999997],\"sizemode\":\"area\",\"sizeref\":2.6138050511111106,\"symbol\":\"circle\"},\"mode\":\"markers\",\"name\":\"HNSW32,Flat\",\"orientation\":\"v\",\"showlegend\":false,\"x\":[0.14854717254638672],\"xaxis\":\"x2\",\"y\":[0.854],\"yaxis\":\"y2\",\"type\":\"scatter\"},{\"hovertemplate\":\"index=HNSW32,Flat<br>nprobe=512<br>search_time=%{x}<br>recall@3=%{y}<br>index_size=%{marker.size}<extra></extra>\",\"legendgroup\":\"HNSW32,Flat\",\"marker\":{\"color\":\"#D62728\",\"size\":[2352.4245459999997],\"sizemode\":\"area\",\"sizeref\":2.6138050511111106,\"symbol\":\"circle\"},\"mode\":\"markers\",\"name\":\"HNSW32,Flat\",\"orientation\":\"v\",\"showlegend\":false,\"x\":[0.14854717254638672],\"xaxis\":\"x3\",\"y\":[0.854],\"yaxis\":\"y3\",\"type\":\"scatter\"},{\"hovertemplate\":\"index=HNSW32_PQ32<br>nprobe=128<br>search_time=%{x}<br>recall@3=%{y}<br>index_size=%{marker.size}<extra></extra>\",\"legendgroup\":\"HNSW32_PQ32\",\"marker\":{\"color\":\"#1F77B4\",\"size\":[912.555659],\"sizemode\":\"area\",\"sizeref\":2.6138050511111106,\"symbol\":\"circle\"},\"mode\":\"markers\",\"name\":\"HNSW32_PQ32\",\"orientation\":\"v\",\"showlegend\":true,\"x\":[0.17235994338989258],\"xaxis\":\"x\",\"y\":[0.793],\"yaxis\":\"y\",\"type\":\"scatter\"},{\"hovertemplate\":\"index=HNSW32_PQ32<br>nprobe=256<br>search_time=%{x}<br>recall@3=%{y}<br>index_size=%{marker.size}<extra></extra>\",\"legendgroup\":\"HNSW32_PQ32\",\"marker\":{\"color\":\"#1F77B4\",\"size\":[912.555659],\"sizemode\":\"area\",\"sizeref\":2.6138050511111106,\"symbol\":\"circle\"},\"mode\":\"markers\",\"name\":\"HNSW32_PQ32\",\"orientation\":\"v\",\"showlegend\":false,\"x\":[0.17235994338989258],\"xaxis\":\"x2\",\"y\":[0.793],\"yaxis\":\"y2\",\"type\":\"scatter\"},{\"hovertemplate\":\"index=HNSW32_PQ32<br>nprobe=512<br>search_time=%{x}<br>recall@3=%{y}<br>index_size=%{marker.size}<extra></extra>\",\"legendgroup\":\"HNSW32_PQ32\",\"marker\":{\"color\":\"#1F77B4\",\"size\":[912.555659],\"sizemode\":\"area\",\"sizeref\":2.6138050511111106,\"symbol\":\"circle\"},\"mode\":\"markers\",\"name\":\"HNSW32_PQ32\",\"orientation\":\"v\",\"showlegend\":false,\"x\":[0.17235994338989258],\"xaxis\":\"x3\",\"y\":[0.793],\"yaxis\":\"y3\",\"type\":\"scatter\"}],                        {\"template\":{\"data\":{\"barpolar\":[{\"marker\":{\"line\":{\"color\":\"white\",\"width\":0.5},\"pattern\":{\"fillmode\":\"overlay\",\"size\":10,\"solidity\":0.2}},\"type\":\"barpolar\"}],\"bar\":[{\"error_x\":{\"color\":\"rgb(36,36,36)\"},\"error_y\":{\"color\":\"rgb(36,36,36)\"},\"marker\":{\"line\":{\"color\":\"white\",\"width\":0.5},\"pattern\":{\"fillmode\":\"overlay\",\"size\":10,\"solidity\":0.2}},\"type\":\"bar\"}],\"carpet\":[{\"aaxis\":{\"endlinecolor\":\"rgb(36,36,36)\",\"gridcolor\":\"white\",\"linecolor\":\"white\",\"minorgridcolor\":\"white\",\"startlinecolor\":\"rgb(36,36,36)\"},\"baxis\":{\"endlinecolor\":\"rgb(36,36,36)\",\"gridcolor\":\"white\",\"linecolor\":\"white\",\"minorgridcolor\":\"white\",\"startlinecolor\":\"rgb(36,36,36)\"},\"type\":\"carpet\"}],\"choropleth\":[{\"colorbar\":{\"outlinewidth\":1,\"tickcolor\":\"rgb(36,36,36)\",\"ticks\":\"outside\"},\"type\":\"choropleth\"}],\"contourcarpet\":[{\"colorbar\":{\"outlinewidth\":1,\"tickcolor\":\"rgb(36,36,36)\",\"ticks\":\"outside\"},\"type\":\"contourcarpet\"}],\"contour\":[{\"colorbar\":{\"outlinewidth\":1,\"tickcolor\":\"rgb(36,36,36)\",\"ticks\":\"outside\"},\"colorscale\":[[0.0,\"#440154\"],[0.1111111111111111,\"#482878\"],[0.2222222222222222,\"#3e4989\"],[0.3333333333333333,\"#31688e\"],[0.4444444444444444,\"#26828e\"],[0.5555555555555556,\"#1f9e89\"],[0.6666666666666666,\"#35b779\"],[0.7777777777777778,\"#6ece58\"],[0.8888888888888888,\"#b5de2b\"],[1.0,\"#fde725\"]],\"type\":\"contour\"}],\"heatmapgl\":[{\"colorbar\":{\"outlinewidth\":1,\"tickcolor\":\"rgb(36,36,36)\",\"ticks\":\"outside\"},\"colorscale\":[[0.0,\"#440154\"],[0.1111111111111111,\"#482878\"],[0.2222222222222222,\"#3e4989\"],[0.3333333333333333,\"#31688e\"],[0.4444444444444444,\"#26828e\"],[0.5555555555555556,\"#1f9e89\"],[0.6666666666666666,\"#35b779\"],[0.7777777777777778,\"#6ece58\"],[0.8888888888888888,\"#b5de2b\"],[1.0,\"#fde725\"]],\"type\":\"heatmapgl\"}],\"heatmap\":[{\"colorbar\":{\"outlinewidth\":1,\"tickcolor\":\"rgb(36,36,36)\",\"ticks\":\"outside\"},\"colorscale\":[[0.0,\"#440154\"],[0.1111111111111111,\"#482878\"],[0.2222222222222222,\"#3e4989\"],[0.3333333333333333,\"#31688e\"],[0.4444444444444444,\"#26828e\"],[0.5555555555555556,\"#1f9e89\"],[0.6666666666666666,\"#35b779\"],[0.7777777777777778,\"#6ece58\"],[0.8888888888888888,\"#b5de2b\"],[1.0,\"#fde725\"]],\"type\":\"heatmap\"}],\"histogram2dcontour\":[{\"colorbar\":{\"outlinewidth\":1,\"tickcolor\":\"rgb(36,36,36)\",\"ticks\":\"outside\"},\"colorscale\":[[0.0,\"#440154\"],[0.1111111111111111,\"#482878\"],[0.2222222222222222,\"#3e4989\"],[0.3333333333333333,\"#31688e\"],[0.4444444444444444,\"#26828e\"],[0.5555555555555556,\"#1f9e89\"],[0.6666666666666666,\"#35b779\"],[0.7777777777777778,\"#6ece58\"],[0.8888888888888888,\"#b5de2b\"],[1.0,\"#fde725\"]],\"type\":\"histogram2dcontour\"}],\"histogram2d\":[{\"colorbar\":{\"outlinewidth\":1,\"tickcolor\":\"rgb(36,36,36)\",\"ticks\":\"outside\"},\"colorscale\":[[0.0,\"#440154\"],[0.1111111111111111,\"#482878\"],[0.2222222222222222,\"#3e4989\"],[0.3333333333333333,\"#31688e\"],[0.4444444444444444,\"#26828e\"],[0.5555555555555556,\"#1f9e89\"],[0.6666666666666666,\"#35b779\"],[0.7777777777777778,\"#6ece58\"],[0.8888888888888888,\"#b5de2b\"],[1.0,\"#fde725\"]],\"type\":\"histogram2d\"}],\"histogram\":[{\"marker\":{\"line\":{\"color\":\"white\",\"width\":0.6}},\"type\":\"histogram\"}],\"mesh3d\":[{\"colorbar\":{\"outlinewidth\":1,\"tickcolor\":\"rgb(36,36,36)\",\"ticks\":\"outside\"},\"type\":\"mesh3d\"}],\"parcoords\":[{\"line\":{\"colorbar\":{\"outlinewidth\":1,\"tickcolor\":\"rgb(36,36,36)\",\"ticks\":\"outside\"}},\"type\":\"parcoords\"}],\"pie\":[{\"automargin\":true,\"type\":\"pie\"}],\"scatter3d\":[{\"line\":{\"colorbar\":{\"outlinewidth\":1,\"tickcolor\":\"rgb(36,36,36)\",\"ticks\":\"outside\"}},\"marker\":{\"colorbar\":{\"outlinewidth\":1,\"tickcolor\":\"rgb(36,36,36)\",\"ticks\":\"outside\"}},\"type\":\"scatter3d\"}],\"scattercarpet\":[{\"marker\":{\"colorbar\":{\"outlinewidth\":1,\"tickcolor\":\"rgb(36,36,36)\",\"ticks\":\"outside\"}},\"type\":\"scattercarpet\"}],\"scattergeo\":[{\"marker\":{\"colorbar\":{\"outlinewidth\":1,\"tickcolor\":\"rgb(36,36,36)\",\"ticks\":\"outside\"}},\"type\":\"scattergeo\"}],\"scattergl\":[{\"marker\":{\"colorbar\":{\"outlinewidth\":1,\"tickcolor\":\"rgb(36,36,36)\",\"ticks\":\"outside\"}},\"type\":\"scattergl\"}],\"scattermapbox\":[{\"marker\":{\"colorbar\":{\"outlinewidth\":1,\"tickcolor\":\"rgb(36,36,36)\",\"ticks\":\"outside\"}},\"type\":\"scattermapbox\"}],\"scatterpolargl\":[{\"marker\":{\"colorbar\":{\"outlinewidth\":1,\"tickcolor\":\"rgb(36,36,36)\",\"ticks\":\"outside\"}},\"type\":\"scatterpolargl\"}],\"scatterpolar\":[{\"marker\":{\"colorbar\":{\"outlinewidth\":1,\"tickcolor\":\"rgb(36,36,36)\",\"ticks\":\"outside\"}},\"type\":\"scatterpolar\"}],\"scatter\":[{\"fillpattern\":{\"fillmode\":\"overlay\",\"size\":10,\"solidity\":0.2},\"type\":\"scatter\"}],\"scatterternary\":[{\"marker\":{\"colorbar\":{\"outlinewidth\":1,\"tickcolor\":\"rgb(36,36,36)\",\"ticks\":\"outside\"}},\"type\":\"scatterternary\"}],\"surface\":[{\"colorbar\":{\"outlinewidth\":1,\"tickcolor\":\"rgb(36,36,36)\",\"ticks\":\"outside\"},\"colorscale\":[[0.0,\"#440154\"],[0.1111111111111111,\"#482878\"],[0.2222222222222222,\"#3e4989\"],[0.3333333333333333,\"#31688e\"],[0.4444444444444444,\"#26828e\"],[0.5555555555555556,\"#1f9e89\"],[0.6666666666666666,\"#35b779\"],[0.7777777777777778,\"#6ece58\"],[0.8888888888888888,\"#b5de2b\"],[1.0,\"#fde725\"]],\"type\":\"surface\"}],\"table\":[{\"cells\":{\"fill\":{\"color\":\"rgb(237,237,237)\"},\"line\":{\"color\":\"white\"}},\"header\":{\"fill\":{\"color\":\"rgb(217,217,217)\"},\"line\":{\"color\":\"white\"}},\"type\":\"table\"}]},\"layout\":{\"annotationdefaults\":{\"arrowhead\":0,\"arrowwidth\":1},\"autotypenumbers\":\"strict\",\"coloraxis\":{\"colorbar\":{\"outlinewidth\":1,\"tickcolor\":\"rgb(36,36,36)\",\"ticks\":\"outside\"}},\"colorscale\":{\"diverging\":[[0.0,\"rgb(103,0,31)\"],[0.1,\"rgb(178,24,43)\"],[0.2,\"rgb(214,96,77)\"],[0.3,\"rgb(244,165,130)\"],[0.4,\"rgb(253,219,199)\"],[0.5,\"rgb(247,247,247)\"],[0.6,\"rgb(209,229,240)\"],[0.7,\"rgb(146,197,222)\"],[0.8,\"rgb(67,147,195)\"],[0.9,\"rgb(33,102,172)\"],[1.0,\"rgb(5,48,97)\"]],\"sequential\":[[0.0,\"#440154\"],[0.1111111111111111,\"#482878\"],[0.2222222222222222,\"#3e4989\"],[0.3333333333333333,\"#31688e\"],[0.4444444444444444,\"#26828e\"],[0.5555555555555556,\"#1f9e89\"],[0.6666666666666666,\"#35b779\"],[0.7777777777777778,\"#6ece58\"],[0.8888888888888888,\"#b5de2b\"],[1.0,\"#fde725\"]],\"sequentialminus\":[[0.0,\"#440154\"],[0.1111111111111111,\"#482878\"],[0.2222222222222222,\"#3e4989\"],[0.3333333333333333,\"#31688e\"],[0.4444444444444444,\"#26828e\"],[0.5555555555555556,\"#1f9e89\"],[0.6666666666666666,\"#35b779\"],[0.7777777777777778,\"#6ece58\"],[0.8888888888888888,\"#b5de2b\"],[1.0,\"#fde725\"]]},\"colorway\":[\"#1F77B4\",\"#FF7F0E\",\"#2CA02C\",\"#D62728\",\"#9467BD\",\"#8C564B\",\"#E377C2\",\"#7F7F7F\",\"#BCBD22\",\"#17BECF\"],\"font\":{\"color\":\"rgb(36,36,36)\"},\"geo\":{\"bgcolor\":\"white\",\"lakecolor\":\"white\",\"landcolor\":\"white\",\"showlakes\":true,\"showland\":true,\"subunitcolor\":\"white\"},\"hoverlabel\":{\"align\":\"left\"},\"hovermode\":\"closest\",\"mapbox\":{\"style\":\"light\"},\"paper_bgcolor\":\"white\",\"plot_bgcolor\":\"white\",\"polar\":{\"angularaxis\":{\"gridcolor\":\"rgb(232,232,232)\",\"linecolor\":\"rgb(36,36,36)\",\"showgrid\":false,\"showline\":true,\"ticks\":\"outside\"},\"bgcolor\":\"white\",\"radialaxis\":{\"gridcolor\":\"rgb(232,232,232)\",\"linecolor\":\"rgb(36,36,36)\",\"showgrid\":false,\"showline\":true,\"ticks\":\"outside\"}},\"scene\":{\"xaxis\":{\"backgroundcolor\":\"white\",\"gridcolor\":\"rgb(232,232,232)\",\"gridwidth\":2,\"linecolor\":\"rgb(36,36,36)\",\"showbackground\":true,\"showgrid\":false,\"showline\":true,\"ticks\":\"outside\",\"zeroline\":false,\"zerolinecolor\":\"rgb(36,36,36)\"},\"yaxis\":{\"backgroundcolor\":\"white\",\"gridcolor\":\"rgb(232,232,232)\",\"gridwidth\":2,\"linecolor\":\"rgb(36,36,36)\",\"showbackground\":true,\"showgrid\":false,\"showline\":true,\"ticks\":\"outside\",\"zeroline\":false,\"zerolinecolor\":\"rgb(36,36,36)\"},\"zaxis\":{\"backgroundcolor\":\"white\",\"gridcolor\":\"rgb(232,232,232)\",\"gridwidth\":2,\"linecolor\":\"rgb(36,36,36)\",\"showbackground\":true,\"showgrid\":false,\"showline\":true,\"ticks\":\"outside\",\"zeroline\":false,\"zerolinecolor\":\"rgb(36,36,36)\"}},\"shapedefaults\":{\"fillcolor\":\"black\",\"line\":{\"width\":0},\"opacity\":0.3},\"ternary\":{\"aaxis\":{\"gridcolor\":\"rgb(232,232,232)\",\"linecolor\":\"rgb(36,36,36)\",\"showgrid\":false,\"showline\":true,\"ticks\":\"outside\"},\"baxis\":{\"gridcolor\":\"rgb(232,232,232)\",\"linecolor\":\"rgb(36,36,36)\",\"showgrid\":false,\"showline\":true,\"ticks\":\"outside\"},\"bgcolor\":\"white\",\"caxis\":{\"gridcolor\":\"rgb(232,232,232)\",\"linecolor\":\"rgb(36,36,36)\",\"showgrid\":false,\"showline\":true,\"ticks\":\"outside\"}},\"title\":{\"x\":0.05},\"xaxis\":{\"automargin\":true,\"gridcolor\":\"rgb(232,232,232)\",\"linecolor\":\"rgb(36,36,36)\",\"showgrid\":false,\"showline\":true,\"ticks\":\"outside\",\"title\":{\"standoff\":15},\"zeroline\":false,\"zerolinecolor\":\"rgb(36,36,36)\"},\"yaxis\":{\"automargin\":true,\"gridcolor\":\"rgb(232,232,232)\",\"linecolor\":\"rgb(36,36,36)\",\"showgrid\":false,\"showline\":true,\"ticks\":\"outside\",\"title\":{\"standoff\":15},\"zeroline\":false,\"zerolinecolor\":\"rgb(36,36,36)\"}}},\"xaxis\":{\"anchor\":\"y\",\"domain\":[0.0,0.3133333333333333],\"title\":{\"text\":\"\"},\"showgrid\":true,\"gridwidth\":1,\"gridcolor\":\"#F0F0F0\",\"linecolor\":\"darkgrey\",\"ticks\":\"\",\"range\":[0,0.29]},\"yaxis\":{\"anchor\":\"x\",\"domain\":[0.0,1.0],\"title\":{\"text\":\"<B>1-recall@3\",\"standoff\":5},\"showgrid\":true,\"gridwidth\":1,\"gridcolor\":\"#F0F0F0\",\"linecolor\":\"darkgrey\",\"ticks\":\"\",\"range\":[0.5,1]},\"xaxis2\":{\"anchor\":\"y2\",\"domain\":[0.34333333333333327,0.6566666666666665],\"matches\":\"x\",\"title\":{\"text\":\"<B>search time (ms/query)\",\"standoff\":10},\"showgrid\":true,\"gridwidth\":1,\"gridcolor\":\"#F0F0F0\",\"linecolor\":\"darkgrey\",\"ticks\":\"\",\"range\":[0,0.29]},\"yaxis2\":{\"anchor\":\"x2\",\"domain\":[0.0,1.0],\"matches\":\"y\",\"showticklabels\":false,\"showgrid\":true,\"gridwidth\":1,\"gridcolor\":\"#F0F0F0\",\"linecolor\":\"darkgrey\",\"ticks\":\"\",\"range\":[0.5,1]},\"xaxis3\":{\"anchor\":\"y3\",\"domain\":[0.6866666666666665,0.9999999999999998],\"matches\":\"x\",\"title\":{\"text\":\"\"},\"showgrid\":true,\"gridwidth\":1,\"gridcolor\":\"#F0F0F0\",\"linecolor\":\"darkgrey\",\"ticks\":\"\",\"range\":[0,0.29]},\"yaxis3\":{\"anchor\":\"x3\",\"domain\":[0.0,1.0],\"matches\":\"y\",\"showticklabels\":false,\"showgrid\":true,\"gridwidth\":1,\"gridcolor\":\"#F0F0F0\",\"linecolor\":\"darkgrey\",\"ticks\":\"\",\"range\":[0.5,1]},\"annotations\":[{\"font\":{},\"showarrow\":false,\"text\":\"nprobe=128\",\"x\":0.15666666666666665,\"xanchor\":\"center\",\"xref\":\"paper\",\"y\":1.0,\"yanchor\":\"bottom\",\"yref\":\"paper\"},{\"font\":{},\"showarrow\":false,\"text\":\"nprobe=256\",\"x\":0.4999999999999999,\"xanchor\":\"center\",\"xref\":\"paper\",\"y\":1.0,\"yanchor\":\"bottom\",\"yref\":\"paper\"},{\"font\":{},\"showarrow\":false,\"text\":\"nprobe=512\",\"x\":0.8433333333333332,\"xanchor\":\"center\",\"xref\":\"paper\",\"y\":1.0,\"yanchor\":\"bottom\",\"yref\":\"paper\"}],\"legend\":{\"title\":{\"text\":\"\"},\"tracegroupgap\":0,\"itemsizing\":\"constant\",\"borderwidth\":1,\"yanchor\":\"top\",\"y\":0.39,\"xanchor\":\"left\",\"x\":0.7},\"margin\":{\"t\":60},\"height\":380,\"width\":720,\"title\":{\"font\":{\"family\":\"Arial\",\"color\":\"RebeccaPurple\"},\"text\":\"<B>Bubble Size corresponds to Index Size (MB)\",\"yanchor\":\"top\",\"y\":0.98,\"xanchor\":\"center\",\"x\":0.5}},                        {\"responsive\": true}                    ).then(function(){\n",
       "                            \n",
       "var gd = document.getElementById('fb81d20b-5e97-4dab-ad03-073ee246e2b2');\n",
       "var x = new MutationObserver(function (mutations, observer) {{\n",
       "        var display = window.getComputedStyle(gd).display;\n",
       "        if (!display || display === 'none') {{\n",
       "            console.log([gd, 'removed!']);\n",
       "            Plotly.purge(gd);\n",
       "            observer.disconnect();\n",
       "        }}\n",
       "}});\n",
       "\n",
       "// Listen for the removal of the full notebook cells\n",
       "var notebookContainer = gd.closest('#notebook-container');\n",
       "if (notebookContainer) {{\n",
       "    x.observe(notebookContainer, {childList: true});\n",
       "}}\n",
       "\n",
       "// Listen for the clearing of the current output cell\n",
       "var outputEl = gd.closest('.output');\n",
       "if (outputEl) {{\n",
       "    x.observe(outputEl, {childList: true});\n",
       "}}\n",
       "\n",
       "                        })                };                });            </script>        </div>"
      ]
     },
     "metadata": {},
     "output_type": "display_data"
    }
   ],
   "source": [
    "fig = px.scatter(df3, x=\"search_time\", y=\"recall@3\", color=\"index\", height=380, width=720, size=\"index_size\", size_max=30, \n",
    "                 template=\"simple_white\", color_discrete_sequence=colors_gorb, #color_discrete_sequence=px.colors.qualitative.D3,  \n",
    "                 facet_col=\"nprobe\", facet_col_spacing=0.03     \n",
    "                )\n",
    "fig.update_xaxes(showgrid=True, gridwidth=1, gridcolor='#F0F0F0', linecolor='darkgrey', ticks=\"\", range=[0, 0.29])\n",
    "fig.update_yaxes(showgrid=True, gridwidth=1, gridcolor='#F0F0F0', linecolor='darkgrey', ticks=\"\", range=[0.5, 1])\n",
    "fig.update_xaxes(title_text=\"\")\n",
    "fig.update_xaxes(row=1, col=2, title_standoff=10, title_text=\"<B>search time (ms/query)\")             # title_font_family=\"Arial\"\n",
    "fig.update_yaxes(col=1, row=1, title_standoff=5, title_text=\"<B>1-recall@3\")\n",
    "fig.update_layout(legend=dict(borderwidth=1, yanchor=\"top\", y=0.39, xanchor=\"left\", x=0.7, title=\"\")) # traceorder=\"reversed\", \n",
    "fig.update_layout(title=dict(text=\"<B>Bubble Size corresponds to Index Size (MB)\", yanchor=\"top\", y=0.98, xanchor=\"center\", x=0.5, \n",
    "                             font_family=\"Arial\", font_color=\"RebeccaPurple\"))\n",
    "fig.show()\n",
    "fig.write_html(\"nprobe_x3_indexsize.html\")"
   ]
  },
  {
   "cell_type": "code",
   "execution_count": 70,
   "id": "0e3a6978",
   "metadata": {
    "execution": {
     "iopub.execute_input": "2022-08-23T06:58:52.320404Z",
     "iopub.status.busy": "2022-08-23T06:58:52.320020Z",
     "iopub.status.idle": "2022-08-23T06:58:52.412499Z",
     "shell.execute_reply": "2022-08-23T06:58:52.411606Z"
    },
    "papermill": {
     "duration": 0.732632,
     "end_time": "2022-08-23T06:58:52.414531",
     "exception": false,
     "start_time": "2022-08-23T06:58:51.681899",
     "status": "completed"
    },
    "tags": []
   },
   "outputs": [
    {
     "data": {
      "text/html": [
       "<div>                            <div id=\"1370a94c-02e5-4dea-b9a9-1b614e6b76a5\" class=\"plotly-graph-div\" style=\"height:350px; width:450px;\"></div>            <script type=\"text/javascript\">                require([\"plotly\"], function(Plotly) {                    window.PLOTLYENV=window.PLOTLYENV || {};                                    if (document.getElementById(\"1370a94c-02e5-4dea-b9a9-1b614e6b76a5\")) {                    Plotly.newPlot(                        \"1370a94c-02e5-4dea-b9a9-1b614e6b76a5\",                        [{\"alignmentgroup\":\"True\",\"hovertemplate\":\"index=%{x}<br>index_size=%{y}<extra></extra>\",\"legendgroup\":\"IVF65536_HNSW32,PQ32\",\"marker\":{\"color\":\"#2CA02C\",\"pattern\":{\"shape\":\"\"},\"opacity\":0.8},\"name\":\"IVF65536_HNSW32,PQ32\",\"offsetgroup\":\"IVF65536_HNSW32,PQ32\",\"orientation\":\"v\",\"showlegend\":true,\"textposition\":\"outside\",\"x\":[\"IVF65536_HNSW32,PQ32\"],\"xaxis\":\"x\",\"y\":[154.209972],\"yaxis\":\"y\",\"type\":\"bar\",\"textfont\":{\"color\":\"blue\",\"size\":12},\"texttemplate\":\"%{value:,d} MB\"},{\"alignmentgroup\":\"True\",\"hovertemplate\":\"index=%{x}<br>index_size=%{y}<extra></extra>\",\"legendgroup\":\"IVF65536_HNSW32,Flat\",\"marker\":{\"color\":\"#FF7F0E\",\"pattern\":{\"shape\":\"\"},\"opacity\":0.8},\"name\":\"IVF65536_HNSW32,Flat\",\"offsetgroup\":\"IVF65536_HNSW32,Flat\",\"orientation\":\"v\",\"showlegend\":true,\"textposition\":\"outside\",\"x\":[\"IVF65536_HNSW32,Flat\"],\"xaxis\":\"x\",\"y\":[1594.078859],\"yaxis\":\"y\",\"type\":\"bar\",\"textfont\":{\"color\":\"blue\",\"size\":12},\"texttemplate\":\"%{value:,d} MB\"},{\"alignmentgroup\":\"True\",\"hovertemplate\":\"index=%{x}<br>index_size=%{y}<extra></extra>\",\"legendgroup\":\"HNSW32,Flat\",\"marker\":{\"color\":\"#D62728\",\"pattern\":{\"shape\":\"\"},\"opacity\":0.8},\"name\":\"HNSW32,Flat\",\"offsetgroup\":\"HNSW32,Flat\",\"orientation\":\"v\",\"showlegend\":true,\"textposition\":\"outside\",\"x\":[\"HNSW32,Flat\"],\"xaxis\":\"x\",\"y\":[2352.4245459999997],\"yaxis\":\"y\",\"type\":\"bar\",\"textfont\":{\"color\":\"blue\",\"size\":12},\"texttemplate\":\"%{value:,d} MB\"},{\"alignmentgroup\":\"True\",\"hovertemplate\":\"index=%{x}<br>index_size=%{y}<extra></extra>\",\"legendgroup\":\"HNSW32_PQ32\",\"marker\":{\"color\":\"#1F77B4\",\"pattern\":{\"shape\":\"\"},\"opacity\":0.8},\"name\":\"HNSW32_PQ32\",\"offsetgroup\":\"HNSW32_PQ32\",\"orientation\":\"v\",\"showlegend\":true,\"textposition\":\"outside\",\"x\":[\"HNSW32_PQ32\"],\"xaxis\":\"x\",\"y\":[912.555659],\"yaxis\":\"y\",\"type\":\"bar\",\"textfont\":{\"color\":\"blue\",\"size\":12},\"texttemplate\":\"%{value:,d} MB\"}],                        {\"template\":{\"data\":{\"barpolar\":[{\"marker\":{\"line\":{\"color\":\"white\",\"width\":0.5},\"pattern\":{\"fillmode\":\"overlay\",\"size\":10,\"solidity\":0.2}},\"type\":\"barpolar\"}],\"bar\":[{\"error_x\":{\"color\":\"rgb(36,36,36)\"},\"error_y\":{\"color\":\"rgb(36,36,36)\"},\"marker\":{\"line\":{\"color\":\"white\",\"width\":0.5},\"pattern\":{\"fillmode\":\"overlay\",\"size\":10,\"solidity\":0.2}},\"type\":\"bar\"}],\"carpet\":[{\"aaxis\":{\"endlinecolor\":\"rgb(36,36,36)\",\"gridcolor\":\"white\",\"linecolor\":\"white\",\"minorgridcolor\":\"white\",\"startlinecolor\":\"rgb(36,36,36)\"},\"baxis\":{\"endlinecolor\":\"rgb(36,36,36)\",\"gridcolor\":\"white\",\"linecolor\":\"white\",\"minorgridcolor\":\"white\",\"startlinecolor\":\"rgb(36,36,36)\"},\"type\":\"carpet\"}],\"choropleth\":[{\"colorbar\":{\"outlinewidth\":1,\"tickcolor\":\"rgb(36,36,36)\",\"ticks\":\"outside\"},\"type\":\"choropleth\"}],\"contourcarpet\":[{\"colorbar\":{\"outlinewidth\":1,\"tickcolor\":\"rgb(36,36,36)\",\"ticks\":\"outside\"},\"type\":\"contourcarpet\"}],\"contour\":[{\"colorbar\":{\"outlinewidth\":1,\"tickcolor\":\"rgb(36,36,36)\",\"ticks\":\"outside\"},\"colorscale\":[[0.0,\"#440154\"],[0.1111111111111111,\"#482878\"],[0.2222222222222222,\"#3e4989\"],[0.3333333333333333,\"#31688e\"],[0.4444444444444444,\"#26828e\"],[0.5555555555555556,\"#1f9e89\"],[0.6666666666666666,\"#35b779\"],[0.7777777777777778,\"#6ece58\"],[0.8888888888888888,\"#b5de2b\"],[1.0,\"#fde725\"]],\"type\":\"contour\"}],\"heatmapgl\":[{\"colorbar\":{\"outlinewidth\":1,\"tickcolor\":\"rgb(36,36,36)\",\"ticks\":\"outside\"},\"colorscale\":[[0.0,\"#440154\"],[0.1111111111111111,\"#482878\"],[0.2222222222222222,\"#3e4989\"],[0.3333333333333333,\"#31688e\"],[0.4444444444444444,\"#26828e\"],[0.5555555555555556,\"#1f9e89\"],[0.6666666666666666,\"#35b779\"],[0.7777777777777778,\"#6ece58\"],[0.8888888888888888,\"#b5de2b\"],[1.0,\"#fde725\"]],\"type\":\"heatmapgl\"}],\"heatmap\":[{\"colorbar\":{\"outlinewidth\":1,\"tickcolor\":\"rgb(36,36,36)\",\"ticks\":\"outside\"},\"colorscale\":[[0.0,\"#440154\"],[0.1111111111111111,\"#482878\"],[0.2222222222222222,\"#3e4989\"],[0.3333333333333333,\"#31688e\"],[0.4444444444444444,\"#26828e\"],[0.5555555555555556,\"#1f9e89\"],[0.6666666666666666,\"#35b779\"],[0.7777777777777778,\"#6ece58\"],[0.8888888888888888,\"#b5de2b\"],[1.0,\"#fde725\"]],\"type\":\"heatmap\"}],\"histogram2dcontour\":[{\"colorbar\":{\"outlinewidth\":1,\"tickcolor\":\"rgb(36,36,36)\",\"ticks\":\"outside\"},\"colorscale\":[[0.0,\"#440154\"],[0.1111111111111111,\"#482878\"],[0.2222222222222222,\"#3e4989\"],[0.3333333333333333,\"#31688e\"],[0.4444444444444444,\"#26828e\"],[0.5555555555555556,\"#1f9e89\"],[0.6666666666666666,\"#35b779\"],[0.7777777777777778,\"#6ece58\"],[0.8888888888888888,\"#b5de2b\"],[1.0,\"#fde725\"]],\"type\":\"histogram2dcontour\"}],\"histogram2d\":[{\"colorbar\":{\"outlinewidth\":1,\"tickcolor\":\"rgb(36,36,36)\",\"ticks\":\"outside\"},\"colorscale\":[[0.0,\"#440154\"],[0.1111111111111111,\"#482878\"],[0.2222222222222222,\"#3e4989\"],[0.3333333333333333,\"#31688e\"],[0.4444444444444444,\"#26828e\"],[0.5555555555555556,\"#1f9e89\"],[0.6666666666666666,\"#35b779\"],[0.7777777777777778,\"#6ece58\"],[0.8888888888888888,\"#b5de2b\"],[1.0,\"#fde725\"]],\"type\":\"histogram2d\"}],\"histogram\":[{\"marker\":{\"line\":{\"color\":\"white\",\"width\":0.6}},\"type\":\"histogram\"}],\"mesh3d\":[{\"colorbar\":{\"outlinewidth\":1,\"tickcolor\":\"rgb(36,36,36)\",\"ticks\":\"outside\"},\"type\":\"mesh3d\"}],\"parcoords\":[{\"line\":{\"colorbar\":{\"outlinewidth\":1,\"tickcolor\":\"rgb(36,36,36)\",\"ticks\":\"outside\"}},\"type\":\"parcoords\"}],\"pie\":[{\"automargin\":true,\"type\":\"pie\"}],\"scatter3d\":[{\"line\":{\"colorbar\":{\"outlinewidth\":1,\"tickcolor\":\"rgb(36,36,36)\",\"ticks\":\"outside\"}},\"marker\":{\"colorbar\":{\"outlinewidth\":1,\"tickcolor\":\"rgb(36,36,36)\",\"ticks\":\"outside\"}},\"type\":\"scatter3d\"}],\"scattercarpet\":[{\"marker\":{\"colorbar\":{\"outlinewidth\":1,\"tickcolor\":\"rgb(36,36,36)\",\"ticks\":\"outside\"}},\"type\":\"scattercarpet\"}],\"scattergeo\":[{\"marker\":{\"colorbar\":{\"outlinewidth\":1,\"tickcolor\":\"rgb(36,36,36)\",\"ticks\":\"outside\"}},\"type\":\"scattergeo\"}],\"scattergl\":[{\"marker\":{\"colorbar\":{\"outlinewidth\":1,\"tickcolor\":\"rgb(36,36,36)\",\"ticks\":\"outside\"}},\"type\":\"scattergl\"}],\"scattermapbox\":[{\"marker\":{\"colorbar\":{\"outlinewidth\":1,\"tickcolor\":\"rgb(36,36,36)\",\"ticks\":\"outside\"}},\"type\":\"scattermapbox\"}],\"scatterpolargl\":[{\"marker\":{\"colorbar\":{\"outlinewidth\":1,\"tickcolor\":\"rgb(36,36,36)\",\"ticks\":\"outside\"}},\"type\":\"scatterpolargl\"}],\"scatterpolar\":[{\"marker\":{\"colorbar\":{\"outlinewidth\":1,\"tickcolor\":\"rgb(36,36,36)\",\"ticks\":\"outside\"}},\"type\":\"scatterpolar\"}],\"scatter\":[{\"fillpattern\":{\"fillmode\":\"overlay\",\"size\":10,\"solidity\":0.2},\"type\":\"scatter\"}],\"scatterternary\":[{\"marker\":{\"colorbar\":{\"outlinewidth\":1,\"tickcolor\":\"rgb(36,36,36)\",\"ticks\":\"outside\"}},\"type\":\"scatterternary\"}],\"surface\":[{\"colorbar\":{\"outlinewidth\":1,\"tickcolor\":\"rgb(36,36,36)\",\"ticks\":\"outside\"},\"colorscale\":[[0.0,\"#440154\"],[0.1111111111111111,\"#482878\"],[0.2222222222222222,\"#3e4989\"],[0.3333333333333333,\"#31688e\"],[0.4444444444444444,\"#26828e\"],[0.5555555555555556,\"#1f9e89\"],[0.6666666666666666,\"#35b779\"],[0.7777777777777778,\"#6ece58\"],[0.8888888888888888,\"#b5de2b\"],[1.0,\"#fde725\"]],\"type\":\"surface\"}],\"table\":[{\"cells\":{\"fill\":{\"color\":\"rgb(237,237,237)\"},\"line\":{\"color\":\"white\"}},\"header\":{\"fill\":{\"color\":\"rgb(217,217,217)\"},\"line\":{\"color\":\"white\"}},\"type\":\"table\"}]},\"layout\":{\"annotationdefaults\":{\"arrowhead\":0,\"arrowwidth\":1},\"autotypenumbers\":\"strict\",\"coloraxis\":{\"colorbar\":{\"outlinewidth\":1,\"tickcolor\":\"rgb(36,36,36)\",\"ticks\":\"outside\"}},\"colorscale\":{\"diverging\":[[0.0,\"rgb(103,0,31)\"],[0.1,\"rgb(178,24,43)\"],[0.2,\"rgb(214,96,77)\"],[0.3,\"rgb(244,165,130)\"],[0.4,\"rgb(253,219,199)\"],[0.5,\"rgb(247,247,247)\"],[0.6,\"rgb(209,229,240)\"],[0.7,\"rgb(146,197,222)\"],[0.8,\"rgb(67,147,195)\"],[0.9,\"rgb(33,102,172)\"],[1.0,\"rgb(5,48,97)\"]],\"sequential\":[[0.0,\"#440154\"],[0.1111111111111111,\"#482878\"],[0.2222222222222222,\"#3e4989\"],[0.3333333333333333,\"#31688e\"],[0.4444444444444444,\"#26828e\"],[0.5555555555555556,\"#1f9e89\"],[0.6666666666666666,\"#35b779\"],[0.7777777777777778,\"#6ece58\"],[0.8888888888888888,\"#b5de2b\"],[1.0,\"#fde725\"]],\"sequentialminus\":[[0.0,\"#440154\"],[0.1111111111111111,\"#482878\"],[0.2222222222222222,\"#3e4989\"],[0.3333333333333333,\"#31688e\"],[0.4444444444444444,\"#26828e\"],[0.5555555555555556,\"#1f9e89\"],[0.6666666666666666,\"#35b779\"],[0.7777777777777778,\"#6ece58\"],[0.8888888888888888,\"#b5de2b\"],[1.0,\"#fde725\"]]},\"colorway\":[\"#1F77B4\",\"#FF7F0E\",\"#2CA02C\",\"#D62728\",\"#9467BD\",\"#8C564B\",\"#E377C2\",\"#7F7F7F\",\"#BCBD22\",\"#17BECF\"],\"font\":{\"color\":\"rgb(36,36,36)\"},\"geo\":{\"bgcolor\":\"white\",\"lakecolor\":\"white\",\"landcolor\":\"white\",\"showlakes\":true,\"showland\":true,\"subunitcolor\":\"white\"},\"hoverlabel\":{\"align\":\"left\"},\"hovermode\":\"closest\",\"mapbox\":{\"style\":\"light\"},\"paper_bgcolor\":\"white\",\"plot_bgcolor\":\"white\",\"polar\":{\"angularaxis\":{\"gridcolor\":\"rgb(232,232,232)\",\"linecolor\":\"rgb(36,36,36)\",\"showgrid\":false,\"showline\":true,\"ticks\":\"outside\"},\"bgcolor\":\"white\",\"radialaxis\":{\"gridcolor\":\"rgb(232,232,232)\",\"linecolor\":\"rgb(36,36,36)\",\"showgrid\":false,\"showline\":true,\"ticks\":\"outside\"}},\"scene\":{\"xaxis\":{\"backgroundcolor\":\"white\",\"gridcolor\":\"rgb(232,232,232)\",\"gridwidth\":2,\"linecolor\":\"rgb(36,36,36)\",\"showbackground\":true,\"showgrid\":false,\"showline\":true,\"ticks\":\"outside\",\"zeroline\":false,\"zerolinecolor\":\"rgb(36,36,36)\"},\"yaxis\":{\"backgroundcolor\":\"white\",\"gridcolor\":\"rgb(232,232,232)\",\"gridwidth\":2,\"linecolor\":\"rgb(36,36,36)\",\"showbackground\":true,\"showgrid\":false,\"showline\":true,\"ticks\":\"outside\",\"zeroline\":false,\"zerolinecolor\":\"rgb(36,36,36)\"},\"zaxis\":{\"backgroundcolor\":\"white\",\"gridcolor\":\"rgb(232,232,232)\",\"gridwidth\":2,\"linecolor\":\"rgb(36,36,36)\",\"showbackground\":true,\"showgrid\":false,\"showline\":true,\"ticks\":\"outside\",\"zeroline\":false,\"zerolinecolor\":\"rgb(36,36,36)\"}},\"shapedefaults\":{\"fillcolor\":\"black\",\"line\":{\"width\":0},\"opacity\":0.3},\"ternary\":{\"aaxis\":{\"gridcolor\":\"rgb(232,232,232)\",\"linecolor\":\"rgb(36,36,36)\",\"showgrid\":false,\"showline\":true,\"ticks\":\"outside\"},\"baxis\":{\"gridcolor\":\"rgb(232,232,232)\",\"linecolor\":\"rgb(36,36,36)\",\"showgrid\":false,\"showline\":true,\"ticks\":\"outside\"},\"bgcolor\":\"white\",\"caxis\":{\"gridcolor\":\"rgb(232,232,232)\",\"linecolor\":\"rgb(36,36,36)\",\"showgrid\":false,\"showline\":true,\"ticks\":\"outside\"}},\"title\":{\"x\":0.05},\"xaxis\":{\"automargin\":true,\"gridcolor\":\"rgb(232,232,232)\",\"linecolor\":\"rgb(36,36,36)\",\"showgrid\":false,\"showline\":true,\"ticks\":\"outside\",\"title\":{\"standoff\":15},\"zeroline\":false,\"zerolinecolor\":\"rgb(36,36,36)\"},\"yaxis\":{\"automargin\":true,\"gridcolor\":\"rgb(232,232,232)\",\"linecolor\":\"rgb(36,36,36)\",\"showgrid\":false,\"showline\":true,\"ticks\":\"outside\",\"title\":{\"standoff\":15},\"zeroline\":false,\"zerolinecolor\":\"rgb(36,36,36)\"}}},\"xaxis\":{\"anchor\":\"y\",\"domain\":[0.0,1.0],\"title\":{\"text\":\"\"},\"categoryorder\":\"array\",\"categoryarray\":[\"IVF65536_HNSW32,PQ32\",\"IVF65536_HNSW32,Flat\",\"HNSW32,Flat\",\"HNSW32_PQ32\"],\"ticks\":\"\",\"tickangle\":15,\"linecolor\":\"darkgrey\"},\"yaxis\":{\"anchor\":\"x\",\"domain\":[0.0,1.0],\"title\":{\"text\":\"\"},\"range\":[0,2600],\"ticks\":\"\",\"showticklabels\":false,\"showline\":false},\"legend\":{\"title\":{\"text\":\"index\"},\"tracegroupgap\":0},\"margin\":{\"t\":60},\"barmode\":\"relative\",\"height\":350,\"width\":450,\"showlegend\":false},                        {\"responsive\": true}                    ).then(function(){\n",
       "                            \n",
       "var gd = document.getElementById('1370a94c-02e5-4dea-b9a9-1b614e6b76a5');\n",
       "var x = new MutationObserver(function (mutations, observer) {{\n",
       "        var display = window.getComputedStyle(gd).display;\n",
       "        if (!display || display === 'none') {{\n",
       "            console.log([gd, 'removed!']);\n",
       "            Plotly.purge(gd);\n",
       "            observer.disconnect();\n",
       "        }}\n",
       "}});\n",
       "\n",
       "// Listen for the removal of the full notebook cells\n",
       "var notebookContainer = gd.closest('#notebook-container');\n",
       "if (notebookContainer) {{\n",
       "    x.observe(notebookContainer, {childList: true});\n",
       "}}\n",
       "\n",
       "// Listen for the clearing of the current output cell\n",
       "var outputEl = gd.closest('.output');\n",
       "if (outputEl) {{\n",
       "    x.observe(outputEl, {childList: true});\n",
       "}}\n",
       "\n",
       "                        })                };                });            </script>        </div>"
      ]
     },
     "metadata": {},
     "output_type": "display_data"
    }
   ],
   "source": [
    "fig = px.bar(df128, x=\"index\", y=\"index_size\", color=\"index\", height=350, width=450, #text_auto=',d',\n",
    "             template=\"simple_white\", \n",
    "#             color_discrete_sequence=px.colors.qualitative.Set1,  # To override the colors from template\n",
    "            )\n",
    "for i, fdata in enumerate(fig.data):    \n",
    "    fdata.marker.color = colors_gorb[i]   \n",
    "    fdata.marker.opacity = 0.8\n",
    "\n",
    "fig.update_traces(textfont_size=12, textposition=\"outside\", textfont_color=\"blue\", texttemplate=\"%{value:,d} MB\"  )\n",
    "fig.update_layout(xaxis_title_text=\"\", yaxis_title_text=\"\", yaxis_range=[0, 2600], showlegend=False) # yaxis_title_text=\"index size (MB)\", \n",
    "fig.update_xaxes(ticks=\"\", tickangle=15, linecolor='darkgrey',)\n",
    "fig.update_yaxes(ticks=\"\", showticklabels=False, showline=False)\n",
    "fig.show()\n",
    "fig.write_html(\"nprobe128_index_memory.html\")"
   ]
  }
 ],
 "metadata": {
  "kernelspec": {
   "display_name": "Python 3",
   "language": "python",
   "name": "python3"
  },
  "language_info": {
   "codemirror_mode": {
    "name": "ipython",
    "version": 3
   },
   "file_extension": ".py",
   "mimetype": "text/x-python",
   "name": "python",
   "nbconvert_exporter": "python",
   "pygments_lexer": "ipython3",
   "version": "3.7.12"
  },
  "papermill": {
   "default_parameters": {},
   "duration": 13079.746746,
   "end_time": "2022-08-23T06:58:55.211704",
   "environment_variables": {},
   "exception": null,
   "input_path": "__notebook__.ipynb",
   "output_path": "__notebook__.ipynb",
   "parameters": {},
   "start_time": "2022-08-23T03:20:55.464958",
   "version": "2.3.4"
  }
 },
 "nbformat": 4,
 "nbformat_minor": 5
}
